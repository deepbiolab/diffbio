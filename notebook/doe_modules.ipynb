{
 "cells": [
  {
   "cell_type": "code",
   "execution_count": 2,
   "metadata": {},
   "outputs": [],
   "source": [
    "import scipy\n",
    "import numpy as np\n",
    "import pandas as pd\n",
    "from pyDOE2 import ff2n, fullfact, ccdesign\n",
    "import definitive_screening_design as dsd\n",
    "\n",
    "import plotly.graph_objects as go\n",
    "import plotly.io as pio\n",
    "import plotly.express as px\n",
    "\n",
    "pio.templates.default = \"plotly_white\"\n",
    "pcolors = px.colors.qualitative.T10\n",
    "pcolors25 = px.colors.qualitative.Alphabet"
   ]
  },
  {
   "cell_type": "markdown",
   "metadata": {},
   "source": [
    "# DOE Introduction\n",
    "<details>\n",
    "<summary>\n",
    "<font size=\"3\" color=\"black\">\n",
    "<b>DOE Methods ⏏︎Click to open</b>\n",
    "</font>\n",
    "</summary>\n",
    "\n",
    "- 相关的函数\n",
    "1. **`fullfact`（全因素实验设计）：**\n",
    "   - `fullfact` 函数来源于 `pyDOE2` 库，用于生成全因素（或全阵列）实验设计。在全因素实验设计中，每个因素（即变量）的每个水平都与其他因素的每个水平组合一次。这种设计方法能够评估所有可能的条件组合，从而帮助研究者完全理解不同因素之间的交互作用如何影响结果。\n",
    "   - 适用场景：当你需要详尽无遗地研究多个因素对一个或多个响应变量的影响时，全因素实验设计非常有用。\n",
    "\n",
    "2. **`ff2n`（2的n次方设计）：**\n",
    "   - `ff2n` 函数也属于 `pyDOE2` 库，用于生成一个 2 的 n 次方设计。这种设计只考虑两个水平（通常是高和低）的每个因素，是一种分辨率较高的实验设计方法，用于快速评估主要效应，而不考虑交互作用。\n",
    "   - 适用场景：在初步探索阶段，当需要快速检查哪些因素对结果有显著影响时，使用 2^n 设计可以节省时间和资源。\n",
    "\n",
    "3. **`ccdesign`（中心复合设计）：**\n",
    "   - `ccdesign` 函数用于创建中心复合设计（CCD），这是响应面方法（RSM）的一种形式，常用于建立一个因变量与一个或多个自变量之间的近似二次关系模型。中心复合设计包括立方点、星点（在每个轴上的高低水平外延）和中心点，这有助于评估曲线效应（非线性关系）。\n",
    "   - 适用场景：当需要优化一个过程并且已知响应与因素之间的关系可能是非线性的，使用CCD可以更好地拟合和优化这种曲线关系。\n",
    "\n",
    "4. **`definitive_screening_design`（DSD）：**\n",
    "   - `definitive_screening_design` 或 `dsd` 是一种较新的实验设计方法，用于在单次实验中同时评估因素的主效应和二次交互作用。它需要的实验数量比全因素设计少，但提供的信息量多于传统的筛选设计。\n",
    "   - 适用场景：当实验资源有限但需要评估多个因素及其交互作用时，DSD 提供了一种高效的解决方案。\n",
    "\n",
    "\n",
    "- 下面五种实验设计方法都是用来高效地探索多个因素对结果的影响。下面，我将逐一介绍这些方法，并通过简单的数据示例来说明它们各自的特点和应用。\n",
    "\n",
    "1. 拉丁超立方抽样 (Latin-Hypercube Sampling, LHS)\n",
    "\n",
    "   拉丁超立方抽样是一种统计方法，用于生成近似随机的样本点。它确保每个参数的整个范围都被均匀探索。\n",
    "\n",
    "   **示例**：\n",
    "   假设我们有两个参数：温度（20°C 到 80°C）和时间（1小时到 5小时）。在拉丁超立方抽样中，这个范围会被等分，如果我们选择5个样本点，每个参数被分为5个区间，每个区间内随机选择一个值，但保证每个区间只被选择一次。\n",
    "\n",
    "   | 样本编号 | 温度 (°C) | 时间 (小时) |\n",
    "   |----------|-----------|------------|\n",
    "   | 1        | 22        | 2.4        |\n",
    "   | 2        | 56        | 4.1        |\n",
    "   | 3        | 74        | 3.3        |\n",
    "   | 4        | 39        | 1.2        |\n",
    "   | 5        | 63        | 4.9        |\n",
    "\n",
    "2. 2级全因子设计 (2-level Full-Factorial)\n",
    "\n",
    "   这种设计考虑了所有可能的因素组合，每个因素有两个水平（通常是高和低）。\n",
    "\n",
    "   **示例**：\n",
    "   假设有两个因素：A（高和低）和 B（高和低）。\n",
    "\n",
    "   | 样本编号 | 因素 A | 因素 B |\n",
    "   |----------|--------|--------|\n",
    "   | 1        | 低     | 低      |\n",
    "   | 2        | 低     | 高      |\n",
    "   | 3        | 高     | 低      |\n",
    "   | 4        | 高     | 高      |\n",
    "\n",
    "3. 3级全因子设计 (3-level Full-Factorial)\n",
    "\n",
    "   这种设计每个因素有三个水平，通常是低、中、高，可以更细致地探索因素的影响。\n",
    "\n",
    "   **示例**：\n",
    "   同样假设有两个因素：A（低、中、高）和 B（低、中、高）。\n",
    "\n",
    "   | 样本编号 | 因素 A | 因素 B |\n",
    "   |----------|--------|--------|\n",
    "   | 1        | 低     | 低     |\n",
    "   | 2        | 低     | 中     |\n",
    "   | 3        | 低     | 高     |\n",
    "   | ...      | ...    | ...    |\n",
    "   | 9        | 高     | 高     |\n",
    "\n",
    "4. 中心复合设计 (Central Composite Design, CCD)\n",
    "\n",
    "   CCD用于响应面方法，包括因子的两个水平、中心点和星形点，非常适合建模曲线关系。\n",
    "\n",
    "   **示例**：\n",
    "   因素 A 和 B，每个因素有低、中、高水平，以及星点。\n",
    "\n",
    "   | 样本编号 | 因素 A | 因素 B |\n",
    "   |----------|--------|--------|\n",
    "   | 1        | 低     | 低     |\n",
    "   | 2        | 高     | 高     |\n",
    "   | 3        | 中     | 中     |  (中心点)\n",
    "   | 4        | 最低   | 中     |  (星点)\n",
    "   | 5        | 最高   | 中     |  (星点)\n",
    "\n",
    "5. 确定性筛选设计 (Definitive Screening Design, DSD)\n",
    "\n",
    "   DSD 是一种能同时评估因素主效应和交互效应的设计，用更少的实验次数比全因子设计更高效。\n",
    "\n",
    "   **示例**：\n",
    "   假设有三个因素：A、B 和 C，每个因素有三个水平。\n",
    "\n",
    "   | 样本编号 | 因素 A | 因素 B | 因素 C |\n",
    "   |----------|--------|--------|--------|\n",
    "   | 1        | 低     |中     | 高     |\n",
    "   | 2        | 中     | 高     | 低     |\n",
    "   | 3        | 高     | 低     | 中     |\n",
    "   | ...      | ...    | ...    | ...    |\n",
    "\n",
    "以上是每种实验设计方法的简化示例，它们在实际应用中可以根据需要进行调整和扩展，以适应不同的研究和分析需求。\n",
    "总的来说，这些实验设计方法在科学研究和工程应用中非常重要，尤其是在需要精确控制和优化多个变量时。使用这些方法可以帮助研究人员系统地探索、分析和优化过程，以便做出基于数据的决策。\n",
    "\n",
    "</details>"
   ]
  },
  {
   "cell_type": "code",
   "execution_count": 3,
   "metadata": {},
   "outputs": [],
   "source": [
    "def generate_doe(\n",
    "    feed_start,\n",
    "    feed_end,\n",
    "    feed_rate,\n",
    "    glc_0,\n",
    "    vcd_0,\n",
    "    num_runs,\n",
    "    doe_design=\"Latin-Hypercube Sampling\",\n",
    "    filename=None,\n",
    "    num_center_points=1,\n",
    "    seed=123,\n",
    "):\n",
    "    var_lims = {\n",
    "        \"feed_start\": feed_start,\n",
    "        \"feed_end\": feed_end,\n",
    "        \"feed_rate\": feed_rate,\n",
    "        \"glc_0\": glc_0,\n",
    "        \"vcd_0\": vcd_0,\n",
    "    }\n",
    "\n",
    "    rng = np.random.default_rng(seed)\n",
    "    num_vars = len(var_lims)\n",
    "    num_center_points = 1\n",
    "    if type(num_runs) is tuple:\n",
    "        num_runs = num_runs[0]\n",
    "    num_samples = num_runs - num_center_points\n",
    "    # determine which vars are part of DOE\n",
    "    doe_var = [1 if type(v) is tuple and v[0] < v[1] else 0 for v in var_lims.values()]\n",
    "    doe_var_idx = np.cumsum(doe_var) - 1\n",
    "\n",
    "    if doe_design == \"Latin-Hypercube Sampling\":\n",
    "        # sample points in the latin hypercube\n",
    "        lhsampler = scipy.stats.qmc.LatinHypercube(\n",
    "            d=sum(doe_var), scramble=True, seed=rng\n",
    "        )\n",
    "        doe_plan = lhsampler.random(n=num_samples)\n",
    "    if doe_design == \"2-level Full-Factorial\":\n",
    "        # 返回的设计矩阵原本包含-1和1，表示低高两个水平\n",
    "        doe_plan = (ff2n(sum(doe_var)) + 1) / 2  # 将原始的 -1 和 1 转换为 0 和 1\n",
    "    if doe_design == \"3-level Full-Factorial\":\n",
    "        # 0, 1, 2, 表示低中高三个水平\n",
    "        doe_plan = (\n",
    "            fullfact([3] * sum(doe_var)) / 2\n",
    "        )  # 除以2是为了将范围从原始的 {0, 1, 2} 调整到 {0, 0.5, 1}\n",
    "    if doe_design == \"Central-Composite\":\n",
    "        doe_plan = (\n",
    "            ccdesign(sum(doe_var), center=(0, 1), face=\"cci\") + 1\n",
    "        ) / 2  # 将原始的 -1 和 1 转换为 0 和 1\n",
    "    if doe_design == \"Definitive-Screening\":\n",
    "        doe_plan = (\n",
    "            dsd.generate(n_num=sum(doe_var), verbose=False).values + 1\n",
    "        ) / 2  # 将原始的 -1 和 1 转换为 0 和 1\n",
    "    if num_runs < len(doe_plan):\n",
    "        print(\n",
    "            f\"\\n The selected design requires {len(doe_plan)} runs, while only {num_runs} runs were selected!\"\n",
    "        )\n",
    "        print(\" Only a subset of created runs will be used!\\n\")\n",
    "        subset_idx = np.sort(\n",
    "            np.random.choice(range(len(doe_plan)), size=num_runs, replace=False)\n",
    "        )\n",
    "        doe_plan = doe_plan[subset_idx, :]\n",
    "\n",
    "    # fill remaining unscaled vars\n",
    "    doe_unscaled = np.ones([len(doe_plan) + 1, num_vars]) * 0.5\n",
    "    for i in range(num_vars):\n",
    "        if doe_var[i] == 1:\n",
    "            doe_unscaled[num_center_points:, i] = doe_plan[:, doe_var_idx[i]]\n",
    "\n",
    "    # scale all vars according to var_lims\n",
    "    doe_scaled = doe_unscaled\n",
    "    for i, k in enumerate(var_lims.keys()):\n",
    "        if doe_var[i] == 1:\n",
    "            doe_scaled[:, i] = (\n",
    "                doe_unscaled[:, i] * (var_lims[k][1] - var_lims[k][0]) + var_lims[k][0]\n",
    "            )\n",
    "        else:\n",
    "            doe_scaled[:, i] = var_lims[k][0]\n",
    "\n",
    "    doe_names = [\"feed_start\", \"feed_end\", \"feed_rate\", \"glc_0\", \"vcd_0\"]\n",
    "    doe_df = pd.DataFrame(doe_scaled, columns=doe_names)\n",
    "    doe_df.to_csv(filename, index=False)\n",
    "\n",
    "    return doe_scaled"
   ]
  },
  {
   "cell_type": "code",
   "execution_count": 4,
   "metadata": {},
   "outputs": [],
   "source": [
    "def plot_doe(\n",
    "    doe_scaled,\n",
    "    feed_start=(1., 4.),\n",
    "    feed_end=(8., 12.),\n",
    "    feed_rate=(5., 20.),\n",
    "    glc_0=(10., 80.0),\n",
    "    vcd_0=(0.1, 1.0),\n",
    "    doe_design=\"Latin-Hypercube Sampling\",\n",
    "):\n",
    "    fig = go.Figure(\n",
    "        data=go.Parcoords(\n",
    "            line_color=\"blue\",\n",
    "            dimensions=list(\n",
    "                [\n",
    "                    dict(\n",
    "                        label=\"feed_start\",\n",
    "                        values=doe_scaled[:, 0].round(),\n",
    "                        range=list(feed_start),\n",
    "                    ),\n",
    "                    dict(\n",
    "                        label=\"feed_end\",\n",
    "                        values=doe_scaled[:, 1].round(),\n",
    "                        range=list(feed_end),\n",
    "                    ),\n",
    "                    dict(\n",
    "                        label=\"feed_rate\",\n",
    "                        values=doe_scaled[:, 2],\n",
    "                        range=list(feed_rate),\n",
    "                    ),\n",
    "                    dict(label=\"glc_0\", values=doe_scaled[:, 3], range=list(glc_0)),\n",
    "                    dict(label=\"vcd_0\", values=doe_scaled[:, 4], range=list(vcd_0)),\n",
    "                ]\n",
    "            ),\n",
    "        )\n",
    "    )\n",
    "    fig.update_layout(\n",
    "        showlegend=False,\n",
    "        title_text=f\"Generated design of experiments using {doe_design} with {len(doe_scaled)} runs\",\n",
    "        # width=1600,\n",
    "    )\n",
    "\n",
    "    fig.show();"
   ]
  },
  {
   "cell_type": "markdown",
   "metadata": {},
   "source": [
    "# Setting\n",
    "For each of the manipulated variables defined in the section above, the use can define the limits of the exploration space (first value: lower limit; second value: upper limit).\n",
    "\n",
    "- 用户可以为每个操作变量定义探索空间的限制（最小值和最大值）。这些变量包括：\n",
    "  - `feed_start`：喂料开始时间。\n",
    "  - `feed_end`：喂料结束时间。\n",
    "  - `feed_rate`：喂料速率。\n",
    "  - `glc_0`：初始葡萄糖浓度。\n",
    "  - `vcd_0`：初始可行细胞密度。\n",
    "\n",
    "- 指定DOE_DESIGN方法, 选项如下， 默认是\"Latin-Hypercube Sampling\"：\n",
    "  - \"Latin-Hypercube Sampling\",\n",
    "  - \"2-level Full-Factorial\",\n",
    "  - \"3-level Full-Factorial\",\n",
    "  - \"Central-Composite\",\n",
    "  - \"Definitive-Screening\",\n",
    "\n",
    "- 指定要生成的数据数量：NUM_RUNS"
   ]
  },
  {
   "cell_type": "code",
   "execution_count": 5,
   "metadata": {},
   "outputs": [],
   "source": [
    "FEED_START = (1., 4.)\n",
    "FEED_END = (8., 12.)\n",
    "GLC_FEED_RATE = (5., 20.)\n",
    "GLC_0 = (10., 80.0)\n",
    "VCD_0 = (0.1, 1.0)\n",
    "\n",
    "NUM_RUNS = 50\n",
    "DOE_DESIGN = \"Latin-Hypercube Sampling\"\n",
    "\n",
    "FILENAME = 'dataset/datahow_concise/owu_doe.csv'"
   ]
  },
  {
   "cell_type": "markdown",
   "metadata": {},
   "source": [
    "# DOE Data Generation"
   ]
  },
  {
   "cell_type": "code",
   "execution_count": 6,
   "metadata": {},
   "outputs": [
    {
     "data": {
      "text/plain": [
       "array([[ 2.5       , 10.        , 12.5       , 45.        ,  0.55      ],\n",
       "       [ 1.61734219, 11.92563374, 17.89492066, 65.27240227,  0.92736346],\n",
       "       [ 1.29540237,  8.81660178,  9.05549996, 18.35659831,  0.99295902],\n",
       "       [ 3.65841035,  9.61832993,  5.84203168, 60.10300546,  0.58764499],\n",
       "       [ 2.09711237,  8.49559394, 18.77104452, 14.64990119,  0.56821711]])"
      ]
     },
     "execution_count": 6,
     "metadata": {},
     "output_type": "execute_result"
    }
   ],
   "source": [
    "doe_scaled = generate_doe(\n",
    "    feed_start=FEED_START,\n",
    "    feed_end=FEED_END,\n",
    "    feed_rate=GLC_FEED_RATE,\n",
    "    glc_0=GLC_0,\n",
    "    vcd_0=VCD_0,\n",
    "    num_runs=NUM_RUNS,\n",
    "    doe_design=DOE_DESIGN,\n",
    "\tfilename=FILENAME,\n",
    "\tseed=42\n",
    ")\n",
    "doe_scaled[:5]"
   ]
  },
  {
   "cell_type": "markdown",
   "metadata": {},
   "source": [
    "# Visualization for DOE\n",
    "\n",
    "使用拉丁超立方抽样（LHD）来均匀地映射变量的五维空间。这是一种常用于工程和科学研究中的实验设计方法，特别适合于需要在多个维度上探索变量的情况。这里的详细解释如下：\n",
    "\n",
    "- `plot_doe`函数负责根据输入的参数生成实验设计，并使用`go.Parcoords`（平行坐标图）来可视化设计。平行坐标图是一种非常有用的多维数据可视化工具，能够展示每个实验运行中各变量的值。\n",
    "- 平行坐标图解释\n",
    "\t- 图中的每根线代表一个实验运行的配置。\n",
    "\t- 线通过的位置表示该运行中各变量的值。\n",
    "\t- 用户可以通过滑块调整变量的范围，这影响到显示的实验配置。"
   ]
  },
  {
   "cell_type": "code",
   "execution_count": 7,
   "metadata": {},
   "outputs": [
    {
     "data": {
      "application/vnd.plotly.v1+json": {
       "config": {
        "plotlyServerURL": "https://plot.ly"
       },
       "data": [
        {
         "dimensions": [
          {
           "label": "feed_start",
           "range": [
            1,
            4
           ],
           "values": [
            2,
            2,
            1,
            4,
            2,
            4,
            4,
            4,
            4,
            4,
            2,
            3,
            3,
            4,
            3,
            2,
            3,
            1,
            1,
            2,
            2,
            3,
            2,
            1,
            2,
            3,
            3,
            2,
            2,
            3,
            1,
            2,
            3,
            3,
            3,
            1,
            3,
            2,
            2,
            3,
            2,
            3,
            2,
            3,
            1,
            1,
            3,
            2,
            2,
            4
           ]
          },
          {
           "label": "feed_end",
           "range": [
            8,
            12
           ],
           "values": [
            10,
            12,
            9,
            10,
            8,
            9,
            8,
            9,
            9,
            12,
            10,
            11,
            10,
            11,
            10,
            10,
            10,
            11,
            10,
            9,
            12,
            8,
            9,
            11,
            11,
            10,
            11,
            12,
            8,
            9,
            12,
            11,
            8,
            9,
            8,
            10,
            11,
            12,
            10,
            10,
            11,
            10,
            9,
            11,
            10,
            11,
            8,
            9,
            9,
            11
           ]
          },
          {
           "label": "feed_rate",
           "range": [
            5,
            20
           ],
           "values": [
            12.5,
            17.89492066185413,
            9.055499955707301,
            5.842031682027242,
            18.7710445194608,
            16.384724836968218,
            7.584091245433221,
            11.711427179681014,
            10.84879580925163,
            14.605830768066376,
            16.00900423870438,
            14.383386230873809,
            17.65749951615139,
            6.332993972645165,
            12.935192531287534,
            12.640939226806148,
            11.193353011385085,
            5.081582480750392,
            11.902930219370838,
            9.873990341290984,
            16.67564277402093,
            7.991502108236871,
            10.532391816776638,
            8.777951669639519,
            10.071941798218209,
            10.292253514874144,
            19.80533360427018,
            7.263042098906735,
            15.325774029579764,
            16.08766575698771,
            5.9728229109321225,
            12.085269669859128,
            6.598437162525163,
            17.43393734631782,
            17.243156490135462,
            19.651047734519906,
            8.138354737803475,
            13.716314773422866,
            5.425613188477281,
            9.547282944925298,
            8.603344758320238,
            19.20113172102065,
            7.123606322333486,
            13.014778159646886,
            18.93791192003981,
            15.542064457057153,
            14.996362958142877,
            13.367659345998709,
            14.006338549874433,
            18.200377112553184
           ]
          },
          {
           "label": "glc_0",
           "range": [
            10,
            80
           ],
           "values": [
            45,
            65.2724022719798,
            18.356598308035608,
            60.103005462880546,
            14.649901190991809,
            48.78380434554122,
            31.822796635556728,
            79.1250822538086,
            39.02685876980707,
            69.80594780921153,
            29.888684588747942,
            65.77673371135046,
            41.596300537058276,
            45.130478399507474,
            58.512070871753934,
            71.27775590417578,
            13.371541529784729,
            67.76861079877806,
            26.41449669458115,
            54.722129478293425,
            36.543267809578126,
            11.670621258110511,
            20.027236058443442,
            53.48802716649868,
            62.209522472356504,
            30.11787399040817,
            24.543675420552045,
            32.89350333905581,
            50.07866326350619,
            10.561248542726688,
            63.58321328609153,
            43.115551176375156,
            15.751280802950356,
            77.95389709951237,
            52.2825525716649,
            72.31159271391286,
            58.85892975071806,
            19.41908886916349,
            37.7597054628811,
            46.219595066921514,
            34.61777721938382,
            22.28430379586301,
            28.007074886905134,
            75.39569377122545,
            56.01537416403818,
            40.074449913851424,
            47.52093547713691,
            24.054917471244227,
            73.89832749716368,
            76.92163080355526
           ]
          },
          {
           "label": "vcd_0",
           "range": [
            0.1,
            1
           ],
           "values": [
            0.55,
            0.9273634598576322,
            0.9929590236053089,
            0.587644990927133,
            0.5682171109955864,
            0.6130098786449354,
            0.746964967374141,
            0.5084398951965245,
            0.9070951872908128,
            0.7662124262006886,
            0.14576464671964706,
            0.6717230695804736,
            0.6198573233825484,
            0.16044531710667315,
            0.9770715928862497,
            0.8234808543186755,
            0.2684790525973356,
            0.9596819214793102,
            0.28986737695520404,
            0.6441741458431285,
            0.8116704089442072,
            0.6905502247975707,
            0.452597261313731,
            0.35401668507272066,
            0.5457464284371644,
            0.11953100721182418,
            0.5289815270401609,
            0.17765815243576716,
            0.41836371458183774,
            0.7143193307388469,
            0.4691585924829904,
            0.43708930200312146,
            0.8453098817942449,
            0.9220834431504461,
            0.5028299715393841,
            0.3821845315621736,
            0.7317307922737741,
            0.4080706744061696,
            0.8860688947599283,
            0.3730730966736099,
            0.6685859233195245,
            0.20576571281000994,
            0.11006046335628386,
            0.33356700102321557,
            0.24165702540840728,
            0.3063872813278278,
            0.8603317821272927,
            0.24965409390803894,
            0.21288043903386678,
            0.7799016229305283
           ]
          }
         ],
         "line": {
          "color": "blue"
         },
         "type": "parcoords"
        }
       ],
       "layout": {
        "showlegend": false,
        "template": {
         "data": {
          "bar": [
           {
            "error_x": {
             "color": "#2a3f5f"
            },
            "error_y": {
             "color": "#2a3f5f"
            },
            "marker": {
             "line": {
              "color": "white",
              "width": 0.5
             },
             "pattern": {
              "fillmode": "overlay",
              "size": 10,
              "solidity": 0.2
             }
            },
            "type": "bar"
           }
          ],
          "barpolar": [
           {
            "marker": {
             "line": {
              "color": "white",
              "width": 0.5
             },
             "pattern": {
              "fillmode": "overlay",
              "size": 10,
              "solidity": 0.2
             }
            },
            "type": "barpolar"
           }
          ],
          "carpet": [
           {
            "aaxis": {
             "endlinecolor": "#2a3f5f",
             "gridcolor": "#C8D4E3",
             "linecolor": "#C8D4E3",
             "minorgridcolor": "#C8D4E3",
             "startlinecolor": "#2a3f5f"
            },
            "baxis": {
             "endlinecolor": "#2a3f5f",
             "gridcolor": "#C8D4E3",
             "linecolor": "#C8D4E3",
             "minorgridcolor": "#C8D4E3",
             "startlinecolor": "#2a3f5f"
            },
            "type": "carpet"
           }
          ],
          "choropleth": [
           {
            "colorbar": {
             "outlinewidth": 0,
             "ticks": ""
            },
            "type": "choropleth"
           }
          ],
          "contour": [
           {
            "colorbar": {
             "outlinewidth": 0,
             "ticks": ""
            },
            "colorscale": [
             [
              0,
              "#0d0887"
             ],
             [
              0.1111111111111111,
              "#46039f"
             ],
             [
              0.2222222222222222,
              "#7201a8"
             ],
             [
              0.3333333333333333,
              "#9c179e"
             ],
             [
              0.4444444444444444,
              "#bd3786"
             ],
             [
              0.5555555555555556,
              "#d8576b"
             ],
             [
              0.6666666666666666,
              "#ed7953"
             ],
             [
              0.7777777777777778,
              "#fb9f3a"
             ],
             [
              0.8888888888888888,
              "#fdca26"
             ],
             [
              1,
              "#f0f921"
             ]
            ],
            "type": "contour"
           }
          ],
          "contourcarpet": [
           {
            "colorbar": {
             "outlinewidth": 0,
             "ticks": ""
            },
            "type": "contourcarpet"
           }
          ],
          "heatmap": [
           {
            "colorbar": {
             "outlinewidth": 0,
             "ticks": ""
            },
            "colorscale": [
             [
              0,
              "#0d0887"
             ],
             [
              0.1111111111111111,
              "#46039f"
             ],
             [
              0.2222222222222222,
              "#7201a8"
             ],
             [
              0.3333333333333333,
              "#9c179e"
             ],
             [
              0.4444444444444444,
              "#bd3786"
             ],
             [
              0.5555555555555556,
              "#d8576b"
             ],
             [
              0.6666666666666666,
              "#ed7953"
             ],
             [
              0.7777777777777778,
              "#fb9f3a"
             ],
             [
              0.8888888888888888,
              "#fdca26"
             ],
             [
              1,
              "#f0f921"
             ]
            ],
            "type": "heatmap"
           }
          ],
          "heatmapgl": [
           {
            "colorbar": {
             "outlinewidth": 0,
             "ticks": ""
            },
            "colorscale": [
             [
              0,
              "#0d0887"
             ],
             [
              0.1111111111111111,
              "#46039f"
             ],
             [
              0.2222222222222222,
              "#7201a8"
             ],
             [
              0.3333333333333333,
              "#9c179e"
             ],
             [
              0.4444444444444444,
              "#bd3786"
             ],
             [
              0.5555555555555556,
              "#d8576b"
             ],
             [
              0.6666666666666666,
              "#ed7953"
             ],
             [
              0.7777777777777778,
              "#fb9f3a"
             ],
             [
              0.8888888888888888,
              "#fdca26"
             ],
             [
              1,
              "#f0f921"
             ]
            ],
            "type": "heatmapgl"
           }
          ],
          "histogram": [
           {
            "marker": {
             "pattern": {
              "fillmode": "overlay",
              "size": 10,
              "solidity": 0.2
             }
            },
            "type": "histogram"
           }
          ],
          "histogram2d": [
           {
            "colorbar": {
             "outlinewidth": 0,
             "ticks": ""
            },
            "colorscale": [
             [
              0,
              "#0d0887"
             ],
             [
              0.1111111111111111,
              "#46039f"
             ],
             [
              0.2222222222222222,
              "#7201a8"
             ],
             [
              0.3333333333333333,
              "#9c179e"
             ],
             [
              0.4444444444444444,
              "#bd3786"
             ],
             [
              0.5555555555555556,
              "#d8576b"
             ],
             [
              0.6666666666666666,
              "#ed7953"
             ],
             [
              0.7777777777777778,
              "#fb9f3a"
             ],
             [
              0.8888888888888888,
              "#fdca26"
             ],
             [
              1,
              "#f0f921"
             ]
            ],
            "type": "histogram2d"
           }
          ],
          "histogram2dcontour": [
           {
            "colorbar": {
             "outlinewidth": 0,
             "ticks": ""
            },
            "colorscale": [
             [
              0,
              "#0d0887"
             ],
             [
              0.1111111111111111,
              "#46039f"
             ],
             [
              0.2222222222222222,
              "#7201a8"
             ],
             [
              0.3333333333333333,
              "#9c179e"
             ],
             [
              0.4444444444444444,
              "#bd3786"
             ],
             [
              0.5555555555555556,
              "#d8576b"
             ],
             [
              0.6666666666666666,
              "#ed7953"
             ],
             [
              0.7777777777777778,
              "#fb9f3a"
             ],
             [
              0.8888888888888888,
              "#fdca26"
             ],
             [
              1,
              "#f0f921"
             ]
            ],
            "type": "histogram2dcontour"
           }
          ],
          "mesh3d": [
           {
            "colorbar": {
             "outlinewidth": 0,
             "ticks": ""
            },
            "type": "mesh3d"
           }
          ],
          "parcoords": [
           {
            "line": {
             "colorbar": {
              "outlinewidth": 0,
              "ticks": ""
             }
            },
            "type": "parcoords"
           }
          ],
          "pie": [
           {
            "automargin": true,
            "type": "pie"
           }
          ],
          "scatter": [
           {
            "fillpattern": {
             "fillmode": "overlay",
             "size": 10,
             "solidity": 0.2
            },
            "type": "scatter"
           }
          ],
          "scatter3d": [
           {
            "line": {
             "colorbar": {
              "outlinewidth": 0,
              "ticks": ""
             }
            },
            "marker": {
             "colorbar": {
              "outlinewidth": 0,
              "ticks": ""
             }
            },
            "type": "scatter3d"
           }
          ],
          "scattercarpet": [
           {
            "marker": {
             "colorbar": {
              "outlinewidth": 0,
              "ticks": ""
             }
            },
            "type": "scattercarpet"
           }
          ],
          "scattergeo": [
           {
            "marker": {
             "colorbar": {
              "outlinewidth": 0,
              "ticks": ""
             }
            },
            "type": "scattergeo"
           }
          ],
          "scattergl": [
           {
            "marker": {
             "colorbar": {
              "outlinewidth": 0,
              "ticks": ""
             }
            },
            "type": "scattergl"
           }
          ],
          "scattermapbox": [
           {
            "marker": {
             "colorbar": {
              "outlinewidth": 0,
              "ticks": ""
             }
            },
            "type": "scattermapbox"
           }
          ],
          "scatterpolar": [
           {
            "marker": {
             "colorbar": {
              "outlinewidth": 0,
              "ticks": ""
             }
            },
            "type": "scatterpolar"
           }
          ],
          "scatterpolargl": [
           {
            "marker": {
             "colorbar": {
              "outlinewidth": 0,
              "ticks": ""
             }
            },
            "type": "scatterpolargl"
           }
          ],
          "scatterternary": [
           {
            "marker": {
             "colorbar": {
              "outlinewidth": 0,
              "ticks": ""
             }
            },
            "type": "scatterternary"
           }
          ],
          "surface": [
           {
            "colorbar": {
             "outlinewidth": 0,
             "ticks": ""
            },
            "colorscale": [
             [
              0,
              "#0d0887"
             ],
             [
              0.1111111111111111,
              "#46039f"
             ],
             [
              0.2222222222222222,
              "#7201a8"
             ],
             [
              0.3333333333333333,
              "#9c179e"
             ],
             [
              0.4444444444444444,
              "#bd3786"
             ],
             [
              0.5555555555555556,
              "#d8576b"
             ],
             [
              0.6666666666666666,
              "#ed7953"
             ],
             [
              0.7777777777777778,
              "#fb9f3a"
             ],
             [
              0.8888888888888888,
              "#fdca26"
             ],
             [
              1,
              "#f0f921"
             ]
            ],
            "type": "surface"
           }
          ],
          "table": [
           {
            "cells": {
             "fill": {
              "color": "#EBF0F8"
             },
             "line": {
              "color": "white"
             }
            },
            "header": {
             "fill": {
              "color": "#C8D4E3"
             },
             "line": {
              "color": "white"
             }
            },
            "type": "table"
           }
          ]
         },
         "layout": {
          "annotationdefaults": {
           "arrowcolor": "#2a3f5f",
           "arrowhead": 0,
           "arrowwidth": 1
          },
          "autotypenumbers": "strict",
          "coloraxis": {
           "colorbar": {
            "outlinewidth": 0,
            "ticks": ""
           }
          },
          "colorscale": {
           "diverging": [
            [
             0,
             "#8e0152"
            ],
            [
             0.1,
             "#c51b7d"
            ],
            [
             0.2,
             "#de77ae"
            ],
            [
             0.3,
             "#f1b6da"
            ],
            [
             0.4,
             "#fde0ef"
            ],
            [
             0.5,
             "#f7f7f7"
            ],
            [
             0.6,
             "#e6f5d0"
            ],
            [
             0.7,
             "#b8e186"
            ],
            [
             0.8,
             "#7fbc41"
            ],
            [
             0.9,
             "#4d9221"
            ],
            [
             1,
             "#276419"
            ]
           ],
           "sequential": [
            [
             0,
             "#0d0887"
            ],
            [
             0.1111111111111111,
             "#46039f"
            ],
            [
             0.2222222222222222,
             "#7201a8"
            ],
            [
             0.3333333333333333,
             "#9c179e"
            ],
            [
             0.4444444444444444,
             "#bd3786"
            ],
            [
             0.5555555555555556,
             "#d8576b"
            ],
            [
             0.6666666666666666,
             "#ed7953"
            ],
            [
             0.7777777777777778,
             "#fb9f3a"
            ],
            [
             0.8888888888888888,
             "#fdca26"
            ],
            [
             1,
             "#f0f921"
            ]
           ],
           "sequentialminus": [
            [
             0,
             "#0d0887"
            ],
            [
             0.1111111111111111,
             "#46039f"
            ],
            [
             0.2222222222222222,
             "#7201a8"
            ],
            [
             0.3333333333333333,
             "#9c179e"
            ],
            [
             0.4444444444444444,
             "#bd3786"
            ],
            [
             0.5555555555555556,
             "#d8576b"
            ],
            [
             0.6666666666666666,
             "#ed7953"
            ],
            [
             0.7777777777777778,
             "#fb9f3a"
            ],
            [
             0.8888888888888888,
             "#fdca26"
            ],
            [
             1,
             "#f0f921"
            ]
           ]
          },
          "colorway": [
           "#636efa",
           "#EF553B",
           "#00cc96",
           "#ab63fa",
           "#FFA15A",
           "#19d3f3",
           "#FF6692",
           "#B6E880",
           "#FF97FF",
           "#FECB52"
          ],
          "font": {
           "color": "#2a3f5f"
          },
          "geo": {
           "bgcolor": "white",
           "lakecolor": "white",
           "landcolor": "white",
           "showlakes": true,
           "showland": true,
           "subunitcolor": "#C8D4E3"
          },
          "hoverlabel": {
           "align": "left"
          },
          "hovermode": "closest",
          "mapbox": {
           "style": "light"
          },
          "paper_bgcolor": "white",
          "plot_bgcolor": "white",
          "polar": {
           "angularaxis": {
            "gridcolor": "#EBF0F8",
            "linecolor": "#EBF0F8",
            "ticks": ""
           },
           "bgcolor": "white",
           "radialaxis": {
            "gridcolor": "#EBF0F8",
            "linecolor": "#EBF0F8",
            "ticks": ""
           }
          },
          "scene": {
           "xaxis": {
            "backgroundcolor": "white",
            "gridcolor": "#DFE8F3",
            "gridwidth": 2,
            "linecolor": "#EBF0F8",
            "showbackground": true,
            "ticks": "",
            "zerolinecolor": "#EBF0F8"
           },
           "yaxis": {
            "backgroundcolor": "white",
            "gridcolor": "#DFE8F3",
            "gridwidth": 2,
            "linecolor": "#EBF0F8",
            "showbackground": true,
            "ticks": "",
            "zerolinecolor": "#EBF0F8"
           },
           "zaxis": {
            "backgroundcolor": "white",
            "gridcolor": "#DFE8F3",
            "gridwidth": 2,
            "linecolor": "#EBF0F8",
            "showbackground": true,
            "ticks": "",
            "zerolinecolor": "#EBF0F8"
           }
          },
          "shapedefaults": {
           "line": {
            "color": "#2a3f5f"
           }
          },
          "ternary": {
           "aaxis": {
            "gridcolor": "#DFE8F3",
            "linecolor": "#A2B1C6",
            "ticks": ""
           },
           "baxis": {
            "gridcolor": "#DFE8F3",
            "linecolor": "#A2B1C6",
            "ticks": ""
           },
           "bgcolor": "white",
           "caxis": {
            "gridcolor": "#DFE8F3",
            "linecolor": "#A2B1C6",
            "ticks": ""
           }
          },
          "title": {
           "x": 0.05
          },
          "xaxis": {
           "automargin": true,
           "gridcolor": "#EBF0F8",
           "linecolor": "#EBF0F8",
           "ticks": "",
           "title": {
            "standoff": 15
           },
           "zerolinecolor": "#EBF0F8",
           "zerolinewidth": 2
          },
          "yaxis": {
           "automargin": true,
           "gridcolor": "#EBF0F8",
           "linecolor": "#EBF0F8",
           "ticks": "",
           "title": {
            "standoff": 15
           },
           "zerolinecolor": "#EBF0F8",
           "zerolinewidth": 2
          }
         }
        },
        "title": {
         "text": "Generated design of experiments using Latin-Hypercube Sampling with 50 runs"
        }
       }
      }
     },
     "metadata": {},
     "output_type": "display_data"
    }
   ],
   "source": [
    "plot_doe(\n",
    "\tdoe_scaled,\n",
    "    feed_start=FEED_START,\n",
    "    feed_end=FEED_END,\n",
    "    feed_rate=GLC_FEED_RATE,\n",
    "    glc_0=GLC_0,\n",
    "    vcd_0=VCD_0,\n",
    "    doe_design=DOE_DESIGN,\n",
    ")"
   ]
  },
  {
   "cell_type": "code",
   "execution_count": null,
   "metadata": {},
   "outputs": [],
   "source": []
  }
 ],
 "metadata": {
  "kernelspec": {
   "display_name": "aima",
   "language": "python",
   "name": "python3"
  },
  "language_info": {
   "codemirror_mode": {
    "name": "ipython",
    "version": 3
   },
   "file_extension": ".py",
   "mimetype": "text/x-python",
   "name": "python",
   "nbconvert_exporter": "python",
   "pygments_lexer": "ipython3",
   "version": "3.11.8"
  },
  "orig_nbformat": 4
 },
 "nbformat": 4,
 "nbformat_minor": 2
}
