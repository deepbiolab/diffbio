{
 "cells": [
  {
   "cell_type": "code",
   "execution_count": 1,
   "metadata": {},
   "outputs": [],
   "source": [
    "import pandas as pd\n",
    "import numpy as np\n",
    "from sklearn.metrics import root_mean_squared_error, r2_score\n",
    "import plotly.io as pio\n",
    "import plotly.express as px\n",
    "import plotly.graph_objects as go\n",
    "from plotly.subplots import make_subplots\n",
    "from sklearn.model_selection import KFold\n",
    "from sklearn.neural_network import MLPRegressor\n",
    "from tqdm import tqdm\n",
    "import warnings\n",
    "warnings.filterwarnings('ignore')\n",
    "\n",
    "pio.templates.default = \"plotly_white\"\n",
    "pcolors = px.colors.qualitative.T10\n",
    "pcolors25 = px.colors.qualitative.Alphabet\n"
   ]
  },
  {
   "cell_type": "code",
   "execution_count": 2,
   "metadata": {},
   "outputs": [],
   "source": [
    "def r2(y, y_pred):\n",
    "    return round(r2_score(y, y_pred), 3)\n",
    "\n",
    "\n",
    "def absolute_rmse(y, y_pred):\n",
    "    return round(root_mean_squared_error(y, y_pred), 3)\n",
    "\n",
    "\n",
    "def relative_rmse(y, y_pred):\n",
    "    return round(root_mean_squared_error(y, y_pred) / np.std(np.array(y)), 3)\n",
    "\n",
    "\n",
    "def transform_owu(owu, t_steps=15, batch_first=False):\n",
    "    X_columns = [col for col in owu.columns if \"X:\" in col]\n",
    "    X_owu = owu[X_columns].copy()\n",
    "    X_owu = X_owu.sort_index(level=[\"run\", \"time\"])\n",
    "\n",
    "    C = len(X_columns)\n",
    "    B = X_owu.index.get_level_values(\"run\").nunique()\n",
    "    T = t_steps\n",
    "\n",
    "    if batch_first:\n",
    "        X = np.zeros((B, T, C))\n",
    "    else:\n",
    "        X = np.zeros((T, C, B))\n",
    "\n",
    "    for i, (run, group) in enumerate(X_owu.groupby(level=\"run\")):\n",
    "        if len(group) != T:\n",
    "            raise ValueError(f\"Run {run} does not have {T} time steps.\")\n",
    "\n",
    "        if batch_first:\n",
    "            X[i, :, :] = group.values\n",
    "        else:\n",
    "            X[:, :, i] = group.values\n",
    "\n",
    "    return X, X_columns\n",
    "\n",
    "\n",
    "\n",
    "def plot_rmse_by_hidden_dims(all_train_eval, all_valid_eval, hidden_dims_options):\n",
    "    train_rmse = []\n",
    "    valid_rmse = []\n",
    "    hidden_dims_str = [str(hidden_dims) for hidden_dims in hidden_dims_options]\n",
    "\n",
    "    for t in all_train_eval.keys():\n",
    "        train_rmse.append(\n",
    "            [all_train_eval[t][tuple(dims)] for dims in hidden_dims_options]\n",
    "        )\n",
    "        valid_rmse.append(\n",
    "            [all_valid_eval[t][tuple(dims)] for dims in hidden_dims_options]\n",
    "        )\n",
    "\n",
    "    train_rmse = np.array(train_rmse).T\n",
    "    valid_rmse = np.array(valid_rmse).T\n",
    "\n",
    "    fig = go.Figure()\n",
    "\n",
    "    for i, hidden_dims in enumerate(hidden_dims_options):\n",
    "        fig.add_trace(\n",
    "            go.Scatter(\n",
    "                x=list(all_train_eval.keys()),\n",
    "                y=train_rmse[i],\n",
    "                mode=\"lines+markers\",\n",
    "                name=f\"Train - {hidden_dims}\",\n",
    "                line=dict(dash=\"solid\"),\n",
    "            )\n",
    "        )\n",
    "        fig.add_trace(\n",
    "            go.Scatter(\n",
    "                x=list(all_train_eval.keys()),\n",
    "                y=valid_rmse[i],\n",
    "                mode=\"lines+markers\",\n",
    "                name=f\"Validation - {hidden_dims}\",\n",
    "                line=dict(dash=\"dash\"),\n",
    "            )\n",
    "        )\n",
    "\n",
    "    fig.update_layout(\n",
    "        title=\"RMSE by Hidden Dimensions Over Time\",\n",
    "        xaxis_title=\"Time Steps\",\n",
    "        yaxis_title=\"RMSE\",\n",
    "        legend_title=\"Evaluation Type\",\n",
    "        width=1000,\n",
    "        height=600,\n",
    "    )\n",
    "\n",
    "    fig.show()\n",
    "\n",
    "\n",
    "def plot_multi_step_ann_model_eval(\n",
    "    X,\n",
    "    X_pred,\n",
    "    X_test,\n",
    "    X_test_pred,\n",
    "    X_columns=None,\n",
    "):\n",
    "    for i, col in enumerate(X_columns):\n",
    "        y = X[:, i, :].copy()\n",
    "        y_pred = X_pred[:, i, :].copy()\n",
    "        y_test = X_test[:, i, :].copy()\n",
    "        y_test_pred = X_test_pred[:, i, :].copy()\n",
    "\n",
    "        # Metrics for training set\n",
    "        train_r2 = r2(y, y_pred)\n",
    "        train_abs_rmse = absolute_rmse(y, y_pred)\n",
    "        train_rel_rmse = relative_rmse(y, y_pred)\n",
    "\n",
    "        # Metrics for testing set\n",
    "        test_r2 = r2(y_test, y_test_pred)\n",
    "        test_abs_rmse = absolute_rmse(y_test, y_test_pred)\n",
    "        test_rel_rmse = relative_rmse(y_test, y_test_pred)\n",
    "\n",
    "        # Plot observed vs predicted\n",
    "        fig = make_subplots(\n",
    "            rows=1,\n",
    "            cols=2,\n",
    "            subplot_titles=(\n",
    "                f\"Train Set - {col} <br> R^2 = {train_r2} <br> Abs RMSE = {train_abs_rmse} <br> Rel RMSE = {train_rel_rmse}\",\n",
    "                f\"Test Set - {col} <br> R^2 = {test_r2} <br> Abs RMSE = {test_abs_rmse} <br> Rel RMSE = {test_rel_rmse}\",\n",
    "            ),\n",
    "        )\n",
    "\n",
    "        # Train set plot\n",
    "        _, _, NUM_TRAIN = X.shape\n",
    "        for i in range(NUM_TRAIN):\n",
    "            fig.add_trace(\n",
    "                go.Scatter(\n",
    "                    x=y[:, i].reshape(-1),\n",
    "                    y=y_pred[:, i].reshape(-1),\n",
    "                    mode=\"markers\",\n",
    "                    name=f\"Run id in Train {i}\",\n",
    "                    legendgroup=f\"train_{i}\",\n",
    "                ),\n",
    "                row=1,\n",
    "                col=1,\n",
    "            )\n",
    "        fig.add_shape(\n",
    "            type=\"line\",\n",
    "            x0=y_pred.min(),\n",
    "            y0=y_pred.min(),\n",
    "            x1=y_pred.max(),\n",
    "            y1=y_pred.max(),\n",
    "            layer=\"above\",\n",
    "            line=dict(dash=\"dash\"),\n",
    "        )\n",
    "\n",
    "        # Test set plot\n",
    "        _, _, NUM_TEST = X_test.shape\n",
    "        for j in range(NUM_TEST):\n",
    "            fig.add_trace(\n",
    "                go.Scatter(\n",
    "                    x=y_test[:, j].reshape(-1),\n",
    "                    y=y_test_pred[:, j].reshape(-1),\n",
    "                    mode=\"markers\",\n",
    "                    name=f\"Run id in Test {j}\",\n",
    "                    legendgroup=f\"test_{j}\",\n",
    "                ),\n",
    "                row=1,\n",
    "                col=2,\n",
    "            )\n",
    "        fig.add_shape(\n",
    "            type=\"line\",\n",
    "            x0=y_test_pred.min(),\n",
    "            y0=y_test_pred.min(),\n",
    "            x1=y_test_pred.max(),\n",
    "            y1=y_test_pred.max(),\n",
    "            layer=\"above\",\n",
    "            line=dict(dash=\"dash\"),\n",
    "            row=1,\n",
    "            col=2,\n",
    "        )\n",
    "\n",
    "        fig.update_layout(width=1600)\n",
    "        fig.update_xaxes(title=\"Observed values\", row=1, col=1)\n",
    "        fig.update_xaxes(title=\"Observed values\", row=1, col=2)\n",
    "        fig.update_yaxes(title=\"Predicted values\", row=1, col=1)\n",
    "        fig.update_yaxes(title=\"Predicted values\", row=1, col=2)\n",
    "        fig.show()\n",
    "\n",
    "\n",
    "def plot_relative_rmse_by_variables(\n",
    "    X,\n",
    "    X_pred,\n",
    "    X_test,\n",
    "    X_test_pred,\n",
    "    X_columns=None,\n",
    "):\n",
    "    relative_rmse_train = []\n",
    "    relative_rmse_test = []\n",
    "    for i, col in enumerate(X_columns):\n",
    "        y = X[:, i, :].copy()\n",
    "        y_pred = X_pred[:, i, :].copy()\n",
    "        y_test = X_test[:, i, :].copy()\n",
    "        y_test_pred = X_test_pred[:, i, :].copy()\n",
    "\n",
    "        # Metrics for training set\n",
    "        train_rel_rmse = relative_rmse(y, y_pred)\n",
    "        relative_rmse_train.append(train_rel_rmse)\n",
    "\n",
    "        # Metrics for testing set\n",
    "        test_rel_rmse = relative_rmse(y_test, y_test_pred)\n",
    "        relative_rmse_test.append(test_rel_rmse)\n",
    "\n",
    "    fig_rmse = go.Figure()\n",
    "    fig_rmse.add_trace(\n",
    "        go.Bar(\n",
    "            x=X_columns,\n",
    "            y=relative_rmse_train,\n",
    "            name=\"Train Set\",\n",
    "            marker_color=pcolors[0],\n",
    "            text=[f\"{v:.2f}\" for v in relative_rmse_train],\n",
    "            textposition=\"outside\",\n",
    "        )\n",
    "    )\n",
    "\n",
    "    fig_rmse.add_trace(\n",
    "        go.Bar(\n",
    "            x=X_columns,\n",
    "            y=relative_rmse_test,\n",
    "            name=\"Test Set\",\n",
    "            marker_color=pcolors[1],\n",
    "            text=[f\"{v:.2f}\" for v in relative_rmse_test],\n",
    "            textposition=\"outside\",\n",
    "        )\n",
    "    )\n",
    "\n",
    "    fig_rmse.update_layout(\n",
    "        barmode=\"group\",\n",
    "        title=\"Relative RMSE for Each Variables\",\n",
    "        xaxis_title=\"Feature\",\n",
    "        yaxis_title=\"Relative RMSE\",\n",
    "        legend=dict(orientation=\"h\", yanchor=\"bottom\", y=1.02, xanchor=\"center\", x=0.5),\n",
    "    )\n",
    "\n",
    "    fig_rmse.show()\n",
    "\n",
    "\n",
    "def plot_predicted_profile(X, X_pred, X_columns, select_runs=[0], height=1000):\n",
    "    max_cols_per_row = 5\n",
    "    num_columns = len(X_columns)\n",
    "    num_rows = (num_columns + max_cols_per_row) // max_cols_per_row\n",
    "\n",
    "    fig = make_subplots(\n",
    "        rows=num_rows, cols=min(num_columns, max_cols_per_row), subplot_titles=X_columns\n",
    "    )\n",
    "\n",
    "    color_palette = px.colors.qualitative.Plotly\n",
    "\n",
    "    for idx, j in enumerate(select_runs):\n",
    "        color = color_palette[idx % len(color_palette)]\n",
    "        for i, c in enumerate(X_columns):\n",
    "            row = i // max_cols_per_row + 1\n",
    "            col = i % max_cols_per_row + 1\n",
    "            show_legend = i == 0\n",
    "            fig.add_trace(\n",
    "                go.Scatter(\n",
    "                    x=list(range(15)),\n",
    "                    y=X[:, i, j],\n",
    "                    name=f\"Run {j} Observed\",\n",
    "                    marker=dict(color=color),\n",
    "                    showlegend=show_legend,\n",
    "                    legendgroup=f\"group_{j}\",\n",
    "                ),\n",
    "                row=row,\n",
    "                col=col,\n",
    "            )\n",
    "            fig.add_trace(\n",
    "                go.Scatter(\n",
    "                    x=list(range(15)),\n",
    "                    y=X_pred[:, i, j],\n",
    "                    name=f\"Run {j} Predicted\",\n",
    "                    line=dict(dash=\"dash\"),\n",
    "                    marker=dict(color=color),\n",
    "                    showlegend=show_legend,\n",
    "                    legendgroup=f\"group_{j}\",\n",
    "                ),\n",
    "                row=row,\n",
    "                col=col,\n",
    "            )\n",
    "\n",
    "    fig.update_layout(\n",
    "        showlegend=True,\n",
    "        title_text=\"Process variable evolution for selected runs\",\n",
    "        height=height,\n",
    "    )\n",
    "    fig.show()"
   ]
  },
  {
   "cell_type": "markdown",
   "metadata": {},
   "source": [
    "# Dataset"
   ]
  },
  {
   "cell_type": "code",
   "execution_count": 3,
   "metadata": {},
   "outputs": [],
   "source": [
    "# data_type = 'interpolation'\n",
    "data_type = 'extrapolation'\n",
    "root_path = f'dataset/datahow_2022/{data_type}/'\n",
    "\n",
    "def read_owu_v4(file, root_path = 'dataset/datahow_2022/interpolation/'):\n",
    "    data = pd.read_csv(f'{root_path}/{file}.csv')\n",
    "    owu_df = data.copy()\n",
    "    num_runs = len(pd.read_csv(f'{root_path}/{file}_doe.csv'))\n",
    "    if 'run' not in owu_df.columns:\n",
    "        owu_df.index = pd.MultiIndex.from_product(\n",
    "            [list(range(num_runs)), list(range(15))], names=[\"run\", \"time\"]\n",
    "        )\n",
    "    else:\n",
    "        owu_df.set_index(['run', 'time'], inplace=True)\n",
    "    owu_df = owu_df.loc[owu_df.index.get_level_values('run') < 10, :]\n",
    "    return owu_df\n",
    "\n",
    "def read_doe(file, root_path= 'dataset/datahow_2022/interpolation/'):\n",
    "    data = pd.read_csv(f'{root_path}/{file}.csv', usecols=[\"feed_start\", \"feed_end\", \"Glc_feed_rate\", \"Glc_0\", \"VCD_0\"])\n",
    "    doe_df = data.copy()\n",
    "    doe_df = doe_df.loc[doe_df.index < 10, :]\n",
    "    return doe_df"
   ]
  },
  {
   "cell_type": "code",
   "execution_count": 4,
   "metadata": {},
   "outputs": [],
   "source": [
    "owu = read_owu_v4('owu', root_path=root_path)\n",
    "doe = read_doe('owu_doe', root_path=root_path)\n",
    "\n",
    "owu_test = read_owu_v4('owu_test', root_path=root_path)\n",
    "doe_test = read_doe('owu_test_doe', root_path=root_path)"
   ]
  },
  {
   "cell_type": "markdown",
   "metadata": {},
   "source": [
    "# Data-Driven Models for Simulation"
   ]
  },
  {
   "cell_type": "markdown",
   "metadata": {},
   "source": [
    "## Instant-ANN\n",
    "- ANN models per variable per time point\n",
    "- Training: $[Z, X(t = t_{model} - 1)] \\rightarrow ANN_{i, t} \\rightarrow X_i(t = t_{model})$\n",
    "- Testing: $[Z, \\hat{X}(t = t_{model} - 1)] \\rightarrow ANN_{i, t} \\rightarrow X_i(t = t_{model})$"
   ]
  },
  {
   "cell_type": "code",
   "execution_count": 5,
   "metadata": {},
   "outputs": [],
   "source": [
    "def fit_ann_model(X, y, hidden_dims):\n",
    "    model = MLPRegressor(hidden_layer_sizes=hidden_dims, max_iter=1000, random_state=42)\n",
    "    model.fit(X, y)\n",
    "    return model\n",
    "\n",
    "\n",
    "def fit_multi_step_ann_model(\n",
    "    doe,\n",
    "    owu,\n",
    "    t_steps,\n",
    "    hidden_dims,\n",
    "    X_columns=None,\n",
    "    W_columns=None,\n",
    "    best_hidden_dims=None,\n",
    "):\n",
    "    models = {}\n",
    "\n",
    "    for t in range(1, t_steps):\n",
    "        for i, col in enumerate(X_columns):\n",
    "            X_hist = owu.loc[owu.index.get_level_values(\"time\") == (t - 1), X_columns]\n",
    "            W_hist = owu.loc[owu.index.get_level_values(\"time\") == (t - 1), W_columns]\n",
    "\n",
    "            y_hist = owu.loc[owu.index.get_level_values(\"time\") == t, X_columns]\n",
    "\n",
    "            if not X_hist.empty and not y_hist.empty:\n",
    "                Z = doe.values\n",
    "                X_preproc = np.hstack([Z, X_hist.values, W_hist.values])\n",
    "                y = y_hist.loc[:, col].values\n",
    "\n",
    "                if best_hidden_dims:\n",
    "                    hidden_dims = best_hidden_dims.get(t)\n",
    "                model = fit_ann_model(X_preproc, y, hidden_dims)\n",
    "                models[(i, t)] = model\n",
    "\n",
    "    return models\n",
    "\n",
    "\n",
    "def predict_multi_step_ann_model(\n",
    "    doe, X0, W, multi_step_models, t_steps, X_columns=None\n",
    "):\n",
    "    X_hist = X0.copy()\n",
    "\n",
    "    for t in range(1, t_steps):\n",
    "        predictions = {col: [] for col in X_columns}\n",
    "\n",
    "        for i, col in enumerate(X_columns):\n",
    "            model = multi_step_models.get((i, t))\n",
    "\n",
    "            Z = doe.values\n",
    "            X_t_minus_1 = X_hist.loc[\n",
    "                X_hist.index.get_level_values(\"time\") == (t - 1), X_columns\n",
    "            ]\n",
    "            W_t_minus_1 = W.loc[W.index.get_level_values(\"time\") == (t - 1)]\n",
    "\n",
    "            X_preproc = np.hstack([Z, X_t_minus_1.values, W_t_minus_1.values])\n",
    "\n",
    "            prediction = model.predict(X_preproc)\n",
    "            predictions[col].extend(prediction)\n",
    "\n",
    "        next_pred = pd.DataFrame(predictions)\n",
    "        next_pred.index = pd.MultiIndex.from_product(\n",
    "            [list(X0.index.get_level_values(\"run\").unique()), [t]],\n",
    "            names=[\"run\", \"time\"],\n",
    "        )\n",
    "        X_hist = pd.concat([X_hist, next_pred])\n",
    "\n",
    "    X_pred, _ = transform_owu(X_hist)\n",
    "    return X_pred\n",
    "\n",
    "\n",
    "def cross_val_predict_ann(X, y, hidden_dims, cv_folds):\n",
    "    kf = KFold(n_splits=cv_folds, shuffle=True, random_state=42)\n",
    "    rmse_train, rmse_valid = [], []\n",
    "\n",
    "    for train_index, valid_index in kf.split(X):\n",
    "        X_train, X_valid = X[train_index], X[valid_index]\n",
    "        y_train, y_valid = y[train_index], y[valid_index]\n",
    "\n",
    "        model = fit_ann_model(X_train, y_train, hidden_dims)\n",
    "\n",
    "        y_train_pred = model.predict(X_train)\n",
    "        y_valid_pred = model.predict(X_valid)\n",
    "\n",
    "        rmse_train.append(absolute_rmse(y_train, y_train_pred))\n",
    "        rmse_valid.append(absolute_rmse(y_valid, y_valid_pred))\n",
    "\n",
    "    return np.mean(rmse_train), np.mean(rmse_valid)\n",
    "\n",
    "\n",
    "def multi_step_ann_cross_validation_for_each_day(\n",
    "    doe, owu, X_columns, W_columns, hidden_dims_options, cv_folds=5\n",
    "):\n",
    "    all_train_eval = {}\n",
    "    all_valid_eval = {}\n",
    "\n",
    "    t_steps = 15  # Assuming t_steps is 15\n",
    "    X, _ = transform_owu(owu, t_steps=t_steps, batch_first=False)\n",
    "    B = doe.shape[0]\n",
    "\n",
    "    for t in range(1, t_steps):\n",
    "        all_train_eval[t] = {}\n",
    "        all_valid_eval[t] = {}\n",
    "\n",
    "        for hidden_dims in tqdm(hidden_dims_options):\n",
    "            train_eval, valid_eval = [], []\n",
    "\n",
    "            for i, col in enumerate(X_columns):\n",
    "                X_hist = owu.loc[\n",
    "                    owu.index.get_level_values(\"time\") == (t - 1), X_columns\n",
    "                ]\n",
    "                W_hist = owu.loc[\n",
    "                    owu.index.get_level_values(\"time\") == (t - 1), W_columns\n",
    "                ]\n",
    "\n",
    "                y_hist = owu.loc[owu.index.get_level_values(\"time\") == t, X_columns]\n",
    "\n",
    "                if not X_hist.empty and not y_hist.empty:\n",
    "                    Z = doe.values\n",
    "                    X_preproc = np.hstack([Z, X_hist.values, W_hist.values])\n",
    "                    y = y_hist.loc[:, col].values\n",
    "\n",
    "                    rmse_train, rmse_valid = cross_val_predict_ann(\n",
    "                        X_preproc, y, hidden_dims, cv_folds\n",
    "                    )\n",
    "                    train_eval.append(rmse_train)\n",
    "                    valid_eval.append(rmse_valid)\n",
    "\n",
    "            all_train_eval[t][tuple(hidden_dims)] = np.mean(train_eval)\n",
    "            all_valid_eval[t][tuple(hidden_dims)] = np.mean(valid_eval)\n",
    "\n",
    "    return all_train_eval, all_valid_eval, hidden_dims_options\n",
    "\n"
   ]
  },
  {
   "cell_type": "markdown",
   "metadata": {},
   "source": [
    "### Setting"
   ]
  },
  {
   "cell_type": "code",
   "execution_count": 6,
   "metadata": {},
   "outputs": [],
   "source": [
    "HIDDEN_DIMS = [64, 64]\n",
    "X_columns = ['X:VCD', 'X:Glc', 'X:Lac', 'X:Titer']  # Specific columns to consider\n",
    "W_columns = ['W:Feed']"
   ]
  },
  {
   "cell_type": "markdown",
   "metadata": {},
   "source": [
    "### Data"
   ]
  },
  {
   "cell_type": "code",
   "execution_count": 7,
   "metadata": {},
   "outputs": [],
   "source": [
    "X, X_columns = transform_owu(owu, t_steps=15, batch_first=False)\n",
    "X_test, X_columns = transform_owu(owu_test, t_steps=15, batch_first=False)\n"
   ]
  },
  {
   "cell_type": "markdown",
   "metadata": {},
   "source": [
    "### Train"
   ]
  },
  {
   "cell_type": "code",
   "execution_count": 8,
   "metadata": {},
   "outputs": [],
   "source": [
    "models = fit_multi_step_ann_model(\n",
    "    doe,\n",
    "    owu,\n",
    "    t_steps=15,\n",
    "    hidden_dims=HIDDEN_DIMS,\n",
    "    X_columns=X_columns,\n",
    "    W_columns=W_columns\n",
    ")"
   ]
  },
  {
   "cell_type": "markdown",
   "metadata": {},
   "source": [
    "### Test"
   ]
  },
  {
   "cell_type": "code",
   "execution_count": 9,
   "metadata": {},
   "outputs": [],
   "source": [
    "X0 = owu.loc[owu.index.get_level_values('time') < 1, X_columns]\n",
    "W = owu[['W:Feed']]\n",
    "\n",
    "X_pred = predict_multi_step_ann_model(\n",
    "    doe,\n",
    "    X0,\n",
    "    W,\n",
    "    X_columns=X_columns,\n",
    "    multi_step_models=models,\n",
    "    t_steps=15,\n",
    ")\n",
    "\n",
    "X0_test = owu_test.loc[owu_test.index.get_level_values('time') < 1, X_columns]\n",
    "W_test = owu_test[['W:Feed']]\n",
    "\n",
    "X_test_pred = predict_multi_step_ann_model(\n",
    "    doe_test,\n",
    "    X0_test,\n",
    "    W_test,\n",
    "    X_columns=X_columns,\n",
    "    multi_step_models=models,\n",
    "    t_steps=15,\n",
    ")\n"
   ]
  },
  {
   "cell_type": "code",
   "execution_count": 10,
   "metadata": {},
   "outputs": [
    {
     "data": {
      "application/vnd.plotly.v1+json": {
       "config": {
        "plotlyServerURL": "https://plot.ly"
       },
       "data": [
        {
         "legendgroup": "train_0",
         "mode": "markers",
         "name": "Run id in Train 0",
         "type": "scatter",
         "x": [
          0.6785714285714286,
          1.7882418695451865,
          4.197866164841867,
          8.024606484655857,
          11.644249637655555,
          12.989020406401975,
          11.780327631246772,
          9.032982556876329,
          5.956851986938314,
          3.496495271581572,
          1.9290844755904624,
          1.0384515260949645,
          0.5546547313461386,
          0.2952719021768026,
          0.1569168141294896
         ],
         "xaxis": "x",
         "y": [
          0.6785714285714286,
          2.1833107891209647,
          4.135527250100643,
          8.621113497079364,
          12.982331040659181,
          16.538906315434286,
          16.238819798158012,
          9.584705052957233,
          5.635447818610966,
          2.242051384682821,
          -2.51099780108563,
          2.998743709639561,
          2.2431385441254497,
          3.64557241969651,
          0.4320412562267324
         ],
         "yaxis": "y"
        },
        {
         "legendgroup": "train_1",
         "mode": "markers",
         "name": "Run id in Train 1",
         "type": "scatter",
         "x": [
          0.5153061224489796,
          1.3283920087753476,
          3.138891683299708,
          6.312312369758947,
          10.046362313224048,
          12.46619056309494,
          12.598864431782903,
          10.871896873825465,
          8.153434943282626,
          5.329460673311844,
          3.14372471445888,
          1.7669202575842775,
          0.9787333701850192,
          0.5395471576727975,
          0.2966820616676253
         ],
         "xaxis": "x",
         "y": [
          0.5153061224489796,
          2.487041386149595,
          4.531142372885296,
          8.160449394806617,
          12.504176234120768,
          16.303364255533562,
          15.706476181832743,
          9.1344722100581,
          5.155806772881166,
          1.3639005918619458,
          -2.9823277762314935,
          2.2034045700390323,
          1.6084591535342045,
          2.9736139116046765,
          -0.17332321512868257
         ],
         "yaxis": "y"
        },
        {
         "legendgroup": "train_2",
         "mode": "markers",
         "name": "Run id in Train 2",
         "type": "scatter",
         "x": [
          0.6173469387755102,
          1.8393336824263824,
          4.76347819968831,
          9.519503140279811,
          13.897096050739306,
          15.469914296467806,
          14.064178274367205,
          10.784332549589733,
          7.024161263041686,
          4.060211714152641,
          2.225243161400361,
          1.198139824795706,
          0.6414845918398311,
          0.3424920004434781,
          0.1825893379791691
         ],
         "xaxis": "x",
         "y": [
          0.6173469387755102,
          3.2989532899886904,
          5.821706789383962,
          10.617371289472409,
          15.83913121460436,
          19.86772830625171,
          19.6999497952653,
          11.725658768826655,
          6.981205876173209,
          3.045756995172202,
          -2.623304952812227,
          3.8753360134936146,
          2.936558593161485,
          4.593569339421752,
          0.8034494789011364
         ],
         "yaxis": "y"
        },
        {
         "legendgroup": "train_3",
         "mode": "markers",
         "name": "Run id in Train 3",
         "type": "scatter",
         "x": [
          0.7908163265306123,
          2.2233342240594665,
          5.189819500047023,
          8.648482942575908,
          9.89213218339913,
          8.48011217599898,
          6.030387208242467,
          3.83431965046864,
          2.2927149728665563,
          1.3293309225353016,
          0.7591389409901108,
          0.4298972793384327,
          0.2423196690989927,
          0.1362354666329924,
          0.0764834617843639
         ],
         "xaxis": "x",
         "y": [
          0.7908163265306123,
          5.034154480080678,
          9.068395529250918,
          17.091199950371912,
          24.98965710499356,
          29.485728737998524,
          32.49013585541288,
          20.293119853804985,
          13.34961340089784,
          7.791486213070929,
          -1.4570323198686241,
          10.593064182590757,
          8.30898465723367,
          10.819260613124587,
          5.01067034408171
         ],
         "yaxis": "y"
        },
        {
         "legendgroup": "train_4",
         "mode": "markers",
         "name": "Run id in Train 4",
         "type": "scatter",
         "x": [
          0.8724489795918368,
          2.327450417335682,
          5.302229080189516,
          9.382915401755742,
          12.45876223358994,
          13.000921335581488,
          11.354064624495637,
          8.53677594789,
          5.544672913732412,
          3.240925051389084,
          1.866988108037708,
          1.0767488544223136,
          0.6221397684347698,
          0.359995999048859,
          0.2085132104697249
         ],
         "xaxis": "x",
         "y": [
          0.8724489795918368,
          4.726749135413305,
          7.872736598765548,
          14.661808206242263,
          21.512133608493844,
          25.844896070820617,
          27.064023817452977,
          16.5487693991557,
          10.47100231797172,
          4.8731390981219285,
          -3.0292367737516135,
          7.237840229739339,
          5.5727839243547725,
          7.773184565766488,
          2.804076861891893
         ],
         "yaxis": "y"
        },
        {
         "legendgroup": "train_5",
         "mode": "markers",
         "name": "Run id in Train 5",
         "type": "scatter",
         "x": [
          0.9744897959183674,
          2.406921302247812,
          5.196041068887806,
          9.018136271163266,
          11.975281156400662,
          12.472876584537527,
          10.74865387739688,
          7.898282124391004,
          5.015423771955666,
          2.8668906881316008,
          1.5952036675723131,
          0.883499604044254,
          0.4883827704146793,
          0.2697342502902922,
          0.1489124435385337
         ],
         "xaxis": "x",
         "y": [
          0.9744897959183674,
          4.491050246382283,
          7.799470812204892,
          15.030545059560382,
          21.779559974013004,
          26.001127806492132,
          27.702414037582493,
          17.036171607579814,
          10.959592817284804,
          5.627867988645267,
          -2.412841306002598,
          8.0437127074427,
          6.223189606145374,
          8.445995567763564,
          3.3928386868348284
         ],
         "yaxis": "y"
        },
        {
         "legendgroup": "train_6",
         "mode": "markers",
         "name": "Run id in Train 6",
         "type": "scatter",
         "x": [
          0.7806122448979591,
          1.975598501172804,
          4.447145355804954,
          8.222007631588548,
          11.810855568464037,
          13.202788595684126,
          12.11249067562794,
          9.4917369807142,
          6.47725387266102,
          3.982074568663462,
          2.317558052215487,
          1.3188287116986093,
          0.7439866778063171,
          0.4179559136359603,
          0.2342622485018471
         ],
         "xaxis": "x",
         "y": [
          0.7806122448979591,
          5.209695374811507,
          9.156112041652417,
          18.073773691196756,
          25.888778885071133,
          30.79208274093068,
          33.17376316901155,
          20.43458122478391,
          13.208746510554153,
          8.486616746750816,
          -1.2589932573973714,
          9.963480449191286,
          7.748482882648168,
          10.382939766280945,
          4.353534185767721
         ],
         "yaxis": "y"
        },
        {
         "legendgroup": "train_7",
         "mode": "markers",
         "name": "Run id in Train 7",
         "type": "scatter",
         "x": [
          0.7295918367346939,
          2.2505276992118386,
          5.756846967199105,
          10.651374604582667,
          13.779990523471408,
          13.661272552598792,
          11.410021845873027,
          8.391262132032626,
          5.433289941751308,
          3.062335558796292,
          1.5495839975266816,
          0.7674467069216043,
          0.3797836815105751,
          0.1878918071388641,
          0.09294639830802
         ],
         "xaxis": "x",
         "y": [
          0.7295918367346939,
          4.02165646478977,
          7.524346196110001,
          14.991394370803835,
          21.484412498124822,
          25.56961790398835,
          27.73850422180705,
          17.20908575848812,
          11.15770495360707,
          7.290570723042055,
          -1.8280648449354475,
          8.701764747538538,
          6.7400316608743,
          8.942017656066984,
          3.89452025615676
         ],
         "yaxis": "y"
        },
        {
         "legendgroup": "train_8",
         "mode": "markers",
         "name": "Run id in Train 8",
         "type": "scatter",
         "x": [
          0.6989795918367347,
          1.848104962271837,
          4.275239539329713,
          7.758151399559654,
          10.377011125677477,
          10.64641962815131,
          9.028929257551075,
          6.646146575884176,
          4.340519317462716,
          2.593373670872533,
          1.5281691419509686,
          0.8995307180450183,
          0.5295521527654201,
          0.311842208648604,
          0.1836859247616231
         ],
         "xaxis": "x",
         "y": [
          0.6989795918367347,
          3.852843465601766,
          7.646939752451472,
          14.527465429696745,
          21.22249715708281,
          25.125122765871755,
          27.846510397835917,
          17.500392470086222,
          11.499409165892299,
          6.965998551415698,
          -1.021290807498126,
          9.384636220038606,
          7.347881619549404,
          9.506706161731874,
          4.499721205464617
         ],
         "yaxis": "y"
        },
        {
         "legendgroup": "train_9",
         "mode": "markers",
         "name": "Run id in Train 9",
         "type": "scatter",
         "x": [
          0.8418367346938775,
          2.2789376634822687,
          5.398066543095938,
          10.156482702407544,
          14.449290906131306,
          15.978352785495437,
          14.576748915106055,
          11.378259295196262,
          7.682741940655455,
          4.608446080818723,
          2.647979593740628,
          1.514662535836207,
          0.8649572065986112,
          0.4936224262432949,
          0.2816301431882249
         ],
         "xaxis": "x",
         "y": [
          0.8418367346938775,
          4.506491670062,
          7.742131122940571,
          14.948308305844174,
          21.555197933786754,
          25.698099197422405,
          27.364494870133647,
          16.8150423297455,
          10.791283546829579,
          5.557090724061414,
          -2.4038960774305242,
          7.9442520936226,
          6.134501487168726,
          8.334524582640118,
          3.338854452172562
         ],
         "yaxis": "y"
        },
        {
         "legendgroup": "test_0",
         "mode": "markers",
         "name": "Run id in Test 0",
         "type": "scatter",
         "x": [
          0.9846938775510204,
          2.9249576819091097,
          7.444332832191713,
          14.420480064339324,
          20.57081333243489,
          23.12755137436929,
          22.33065010823708,
          19.648806069957416,
          16.31282380897557,
          13.028843938823911,
          10.102605608179564,
          7.629152917195547,
          5.731307831914585,
          4.294304959498489,
          3.2079190607230106
         ],
         "xaxis": "x2",
         "y": [
          0.9846938775510204,
          2.9528947724309735,
          5.916753451189717,
          11.698097846311057,
          16.995098042561338,
          20.61241871780853,
          21.342982987350126,
          12.96556606018266,
          8.116349675996407,
          4.749574746880075,
          -1.7013978595578367,
          5.60463111847479,
          4.279960677626682,
          6.0564604488867,
          2.0307134181138267
         ],
         "yaxis": "y2"
        },
        {
         "legendgroup": "test_1",
         "mode": "markers",
         "name": "Run id in Test 1",
         "type": "scatter",
         "x": [
          0.7602040816326531,
          1.9141143764556665,
          4.408003876496271,
          8.6231479106663,
          13.457148205276154,
          16.834281247208605,
          17.857446383705128,
          16.99522186258524,
          15.068785638787078,
          12.793489696074769,
          10.597325015932462,
          8.59544420181317,
          6.853541356095238,
          5.38786140727645,
          4.18265740274008
         ],
         "xaxis": "x2",
         "y": [
          0.7602040816326531,
          3.140208884258321,
          6.249617870578617,
          12.031323845619903,
          17.38897853294226,
          20.67864389606188,
          22.389135551332227,
          13.92533749279833,
          9.029624834174445,
          5.095234412601219,
          -1.4308246617137217,
          7.060211018162425,
          5.4842007585046195,
          7.2698777316713326,
          3.1779817400728447
         ],
         "yaxis": "y2"
        },
        {
         "legendgroup": "test_2",
         "mode": "markers",
         "name": "Run id in Test 2",
         "type": "scatter",
         "x": [
          0.6377551020408163,
          1.7596767331437484,
          4.320048035023024,
          8.600099814712605,
          13.129010583057209,
          15.86887489530228,
          16.314060822920034,
          15.128350980501,
          13.118424032866182,
          10.845032804189962,
          8.611928610057822,
          6.721336704242177,
          5.249987862906268,
          4.091917406485745,
          3.180171977396879
         ],
         "xaxis": "x2",
         "y": [
          0.6377551020408163,
          2.275760937939786,
          5.076872351331512,
          10.275070605956374,
          14.911485159624574,
          18.114061754141577,
          18.899379661123856,
          11.545375207887933,
          7.26977381799411,
          4.396747475381108,
          -2.1886714619628482,
          5.280287089700414,
          4.008930267187856,
          5.595752973256825,
          2.013606043298374
         ],
         "yaxis": "y2"
        },
        {
         "legendgroup": "test_3",
         "mode": "markers",
         "name": "Run id in Test 3",
         "type": "scatter",
         "x": [
          0.6683673469387755,
          1.8479761959252932,
          4.5642475791718695,
          9.101866917551046,
          13.763741305573545,
          16.39181066854337,
          16.588673250600085,
          15.121065257143862,
          12.880994022025028,
          10.494696740233676,
          8.276399606720522,
          6.112053610273055,
          3.960093130262047,
          2.557747831948446,
          1.6487988889593452
         ],
         "xaxis": "x2",
         "y": [
          0.6683673469387755,
          2.9565666912683537,
          6.392267607665893,
          12.28234808141613,
          17.86731324471346,
          21.315969874983647,
          23.301982499571256,
          14.578039227958918,
          9.47193759975158,
          6.2986908502232986,
          -1.275921300252712,
          7.613861858079977,
          5.91314753914937,
          7.762535872030501,
          3.502461574949386
         ],
         "yaxis": "y2"
        },
        {
         "legendgroup": "test_4",
         "mode": "markers",
         "name": "Run id in Test 4",
         "type": "scatter",
         "x": [
          0.8214285714285714,
          2.462338134351961,
          6.204794037706704,
          11.455830213030046,
          15.029129484664557,
          15.46330643203451,
          13.775109141164494,
          11.194697479273378,
          8.439502937137675,
          5.831525356659873,
          3.89278824381229,
          2.6769952754832365,
          1.8716034350620616,
          1.320869574866547,
          0.9373903299802034
         ],
         "xaxis": "x2",
         "y": [
          0.8214285714285714,
          3.295642445034261,
          6.270582869230642,
          12.151592493580328,
          17.944161365863096,
          21.72653605509709,
          22.682097414218756,
          13.83428642020387,
          8.771538575598552,
          5.2104176026437905,
          -2.6585256019828667,
          6.13189090356021,
          4.700966686728967,
          6.573764154538257,
          2.345679903058304
         ],
         "yaxis": "y2"
        },
        {
         "legendgroup": "test_5",
         "mode": "markers",
         "name": "Run id in Test 5",
         "type": "scatter",
         "x": [
          0.5357142857142857,
          1.68535612201013,
          4.750910857750842,
          10.527563515639322,
          16.384892612448336,
          18.71899028723027,
          17.642047191967187,
          14.84113370432232,
          11.547197993927814,
          8.368835642374764,
          5.550515941164199,
          3.400201224606473,
          2.123828050301551,
          1.3483571723438612,
          0.864549860389209
         ],
         "xaxis": "x2",
         "y": [
          0.5357142857142857,
          4.251522493185321,
          8.060662184440147,
          15.989610695251653,
          23.03204726385307,
          27.38080936057894,
          29.9750145461139,
          18.67075993675711,
          12.147209752914566,
          8.05833228632061,
          -0.7130607263301061,
          9.628257832774727,
          7.51446577587486,
          9.868382321334654,
          4.434962385828378
         ],
         "yaxis": "y2"
        },
        {
         "legendgroup": "test_6",
         "mode": "markers",
         "name": "Run id in Test 6",
         "type": "scatter",
         "x": [
          0.9642857142857144,
          2.7309189004610017,
          6.496967810835099,
          11.712526422702096,
          15.86566984919472,
          17.518274325752582,
          17.049508108239532,
          15.339560792436927,
          13.11520485201357,
          10.836341627146137,
          8.748004765272608,
          6.940423704135373,
          5.421358011949733,
          4.157669835361252,
          3.027012159344149
         ],
         "xaxis": "x2",
         "y": [
          0.9642857142857144,
          3.849400072746414,
          8.07441519917399,
          15.080728938543121,
          22.121879345876632,
          26.239415555575984,
          29.374298288559526,
          18.592921937282508,
          12.263624415725108,
          8.499465346517983,
          -0.6990471001334344,
          10.295770364472338,
          8.055731587045178,
          10.319203771910257,
          5.054304738237839
         ],
         "yaxis": "y2"
        },
        {
         "legendgroup": "test_7",
         "mode": "markers",
         "name": "Run id in Test 7",
         "type": "scatter",
         "x": [
          0.8622448979591837,
          2.331143803305513,
          5.496622671227072,
          10.20537730486747,
          14.299665039067758,
          15.96548171229209,
          15.372177818756573,
          13.498156448189532,
          11.164486041753278,
          8.850690795800881,
          6.801418450313421,
          5.185592772160354,
          3.932335026469168,
          2.9668846208042594,
          2.2290717204845274
         ],
         "xaxis": "x2",
         "y": [
          0.8622448979591837,
          2.3671827944747834,
          5.7662690285331575,
          11.186985991849435,
          16.24666885549493,
          19.60475106446991,
          21.154396309472833,
          13.190988548129173,
          8.498257170669849,
          5.52262719734826,
          -1.4936592567139189,
          6.686562260746802,
          5.1614236457190605,
          6.874239080274425,
          2.949075478317603
         ],
         "yaxis": "y2"
        },
        {
         "legendgroup": "test_8",
         "mode": "markers",
         "name": "Run id in Test 8",
         "type": "scatter",
         "x": [
          0.6275510204081632,
          1.966509895702454,
          5.4703296564633614,
          11.75929246310936,
          17.798476959757984,
          20.25767094292334,
          19.398185047268417,
          16.755642131725846,
          13.55094811108645,
          10.481962644716347,
          7.857313430365911,
          5.811171729991748,
          4.2584707583927095,
          3.0973636223609207,
          2.240048684169528
         ],
         "xaxis": "x2",
         "y": [
          0.6275510204081632,
          3.870375084417595,
          8.20430103147679,
          15.394173494025505,
          22.644889085392563,
          26.83575940674629,
          30.020026539063313,
          18.970567052528875,
          12.488683935707744,
          8.62511766010866,
          -0.7954619487390817,
          10.469526963287711,
          8.189221075323948,
          10.506853740255966,
          5.112845696418894
         ],
         "yaxis": "y2"
        },
        {
         "legendgroup": "test_9",
         "mode": "markers",
         "name": "Run id in Test 9",
         "type": "scatter",
         "x": [
          0.8010204081632653,
          2.339410182422604,
          6.0419955584897975,
          12.429172992150209,
          19.0638331981036,
          22.700661141137463,
          22.85778892850325,
          20.76765902113485,
          17.695686246636583,
          14.451046918863232,
          11.429553184034148,
          8.81126297917751,
          6.767892149629804,
          5.174965627060598,
          3.937534851903999
         ],
         "xaxis": "x2",
         "y": [
          0.8010204081632653,
          2.313753643088986,
          3.4382320652561327,
          7.765236912674139,
          11.595172876182005,
          15.317214057493072,
          14.690478307710617,
          8.548572885755927,
          4.80160148613638,
          1.1609254617661446,
          -2.8694206426580355,
          1.9703909573725071,
          1.4388571024075023,
          2.7230801740989286,
          -0.23966166843084816
         ],
         "yaxis": "y2"
        }
       ],
       "layout": {
        "annotations": [
         {
          "font": {
           "size": 16
          },
          "showarrow": false,
          "text": "Train Set - X:VCD <br> R^2 = -2.393 <br> Abs RMSE = 6.716 <br> Rel RMSE = 1.452",
          "x": 0.225,
          "xanchor": "center",
          "xref": "paper",
          "y": 1,
          "yanchor": "bottom",
          "yref": "paper"
         },
         {
          "font": {
           "size": 16
          },
          "showarrow": false,
          "text": "Test Set - X:VCD <br> R^2 = 0.295 <br> Abs RMSE = 4.943 <br> Rel RMSE = 0.801",
          "x": 0.775,
          "xanchor": "center",
          "xref": "paper",
          "y": 1,
          "yanchor": "bottom",
          "yref": "paper"
         }
        ],
        "shapes": [
         {
          "layer": "above",
          "line": {
           "dash": "dash"
          },
          "type": "line",
          "x0": -3.0292367737516135,
          "x1": 33.17376316901155,
          "y0": -3.0292367737516135,
          "y1": 33.17376316901155
         },
         {
          "layer": "above",
          "line": {
           "dash": "dash"
          },
          "type": "line",
          "x0": -2.8694206426580355,
          "x1": 30.020026539063313,
          "xref": "x2",
          "y0": -2.8694206426580355,
          "y1": 30.020026539063313,
          "yref": "y2"
         }
        ],
        "template": {
         "data": {
          "bar": [
           {
            "error_x": {
             "color": "#2a3f5f"
            },
            "error_y": {
             "color": "#2a3f5f"
            },
            "marker": {
             "line": {
              "color": "white",
              "width": 0.5
             },
             "pattern": {
              "fillmode": "overlay",
              "size": 10,
              "solidity": 0.2
             }
            },
            "type": "bar"
           }
          ],
          "barpolar": [
           {
            "marker": {
             "line": {
              "color": "white",
              "width": 0.5
             },
             "pattern": {
              "fillmode": "overlay",
              "size": 10,
              "solidity": 0.2
             }
            },
            "type": "barpolar"
           }
          ],
          "carpet": [
           {
            "aaxis": {
             "endlinecolor": "#2a3f5f",
             "gridcolor": "#C8D4E3",
             "linecolor": "#C8D4E3",
             "minorgridcolor": "#C8D4E3",
             "startlinecolor": "#2a3f5f"
            },
            "baxis": {
             "endlinecolor": "#2a3f5f",
             "gridcolor": "#C8D4E3",
             "linecolor": "#C8D4E3",
             "minorgridcolor": "#C8D4E3",
             "startlinecolor": "#2a3f5f"
            },
            "type": "carpet"
           }
          ],
          "choropleth": [
           {
            "colorbar": {
             "outlinewidth": 0,
             "ticks": ""
            },
            "type": "choropleth"
           }
          ],
          "contour": [
           {
            "colorbar": {
             "outlinewidth": 0,
             "ticks": ""
            },
            "colorscale": [
             [
              0,
              "#0d0887"
             ],
             [
              0.1111111111111111,
              "#46039f"
             ],
             [
              0.2222222222222222,
              "#7201a8"
             ],
             [
              0.3333333333333333,
              "#9c179e"
             ],
             [
              0.4444444444444444,
              "#bd3786"
             ],
             [
              0.5555555555555556,
              "#d8576b"
             ],
             [
              0.6666666666666666,
              "#ed7953"
             ],
             [
              0.7777777777777778,
              "#fb9f3a"
             ],
             [
              0.8888888888888888,
              "#fdca26"
             ],
             [
              1,
              "#f0f921"
             ]
            ],
            "type": "contour"
           }
          ],
          "contourcarpet": [
           {
            "colorbar": {
             "outlinewidth": 0,
             "ticks": ""
            },
            "type": "contourcarpet"
           }
          ],
          "heatmap": [
           {
            "colorbar": {
             "outlinewidth": 0,
             "ticks": ""
            },
            "colorscale": [
             [
              0,
              "#0d0887"
             ],
             [
              0.1111111111111111,
              "#46039f"
             ],
             [
              0.2222222222222222,
              "#7201a8"
             ],
             [
              0.3333333333333333,
              "#9c179e"
             ],
             [
              0.4444444444444444,
              "#bd3786"
             ],
             [
              0.5555555555555556,
              "#d8576b"
             ],
             [
              0.6666666666666666,
              "#ed7953"
             ],
             [
              0.7777777777777778,
              "#fb9f3a"
             ],
             [
              0.8888888888888888,
              "#fdca26"
             ],
             [
              1,
              "#f0f921"
             ]
            ],
            "type": "heatmap"
           }
          ],
          "heatmapgl": [
           {
            "colorbar": {
             "outlinewidth": 0,
             "ticks": ""
            },
            "colorscale": [
             [
              0,
              "#0d0887"
             ],
             [
              0.1111111111111111,
              "#46039f"
             ],
             [
              0.2222222222222222,
              "#7201a8"
             ],
             [
              0.3333333333333333,
              "#9c179e"
             ],
             [
              0.4444444444444444,
              "#bd3786"
             ],
             [
              0.5555555555555556,
              "#d8576b"
             ],
             [
              0.6666666666666666,
              "#ed7953"
             ],
             [
              0.7777777777777778,
              "#fb9f3a"
             ],
             [
              0.8888888888888888,
              "#fdca26"
             ],
             [
              1,
              "#f0f921"
             ]
            ],
            "type": "heatmapgl"
           }
          ],
          "histogram": [
           {
            "marker": {
             "pattern": {
              "fillmode": "overlay",
              "size": 10,
              "solidity": 0.2
             }
            },
            "type": "histogram"
           }
          ],
          "histogram2d": [
           {
            "colorbar": {
             "outlinewidth": 0,
             "ticks": ""
            },
            "colorscale": [
             [
              0,
              "#0d0887"
             ],
             [
              0.1111111111111111,
              "#46039f"
             ],
             [
              0.2222222222222222,
              "#7201a8"
             ],
             [
              0.3333333333333333,
              "#9c179e"
             ],
             [
              0.4444444444444444,
              "#bd3786"
             ],
             [
              0.5555555555555556,
              "#d8576b"
             ],
             [
              0.6666666666666666,
              "#ed7953"
             ],
             [
              0.7777777777777778,
              "#fb9f3a"
             ],
             [
              0.8888888888888888,
              "#fdca26"
             ],
             [
              1,
              "#f0f921"
             ]
            ],
            "type": "histogram2d"
           }
          ],
          "histogram2dcontour": [
           {
            "colorbar": {
             "outlinewidth": 0,
             "ticks": ""
            },
            "colorscale": [
             [
              0,
              "#0d0887"
             ],
             [
              0.1111111111111111,
              "#46039f"
             ],
             [
              0.2222222222222222,
              "#7201a8"
             ],
             [
              0.3333333333333333,
              "#9c179e"
             ],
             [
              0.4444444444444444,
              "#bd3786"
             ],
             [
              0.5555555555555556,
              "#d8576b"
             ],
             [
              0.6666666666666666,
              "#ed7953"
             ],
             [
              0.7777777777777778,
              "#fb9f3a"
             ],
             [
              0.8888888888888888,
              "#fdca26"
             ],
             [
              1,
              "#f0f921"
             ]
            ],
            "type": "histogram2dcontour"
           }
          ],
          "mesh3d": [
           {
            "colorbar": {
             "outlinewidth": 0,
             "ticks": ""
            },
            "type": "mesh3d"
           }
          ],
          "parcoords": [
           {
            "line": {
             "colorbar": {
              "outlinewidth": 0,
              "ticks": ""
             }
            },
            "type": "parcoords"
           }
          ],
          "pie": [
           {
            "automargin": true,
            "type": "pie"
           }
          ],
          "scatter": [
           {
            "fillpattern": {
             "fillmode": "overlay",
             "size": 10,
             "solidity": 0.2
            },
            "type": "scatter"
           }
          ],
          "scatter3d": [
           {
            "line": {
             "colorbar": {
              "outlinewidth": 0,
              "ticks": ""
             }
            },
            "marker": {
             "colorbar": {
              "outlinewidth": 0,
              "ticks": ""
             }
            },
            "type": "scatter3d"
           }
          ],
          "scattercarpet": [
           {
            "marker": {
             "colorbar": {
              "outlinewidth": 0,
              "ticks": ""
             }
            },
            "type": "scattercarpet"
           }
          ],
          "scattergeo": [
           {
            "marker": {
             "colorbar": {
              "outlinewidth": 0,
              "ticks": ""
             }
            },
            "type": "scattergeo"
           }
          ],
          "scattergl": [
           {
            "marker": {
             "colorbar": {
              "outlinewidth": 0,
              "ticks": ""
             }
            },
            "type": "scattergl"
           }
          ],
          "scattermapbox": [
           {
            "marker": {
             "colorbar": {
              "outlinewidth": 0,
              "ticks": ""
             }
            },
            "type": "scattermapbox"
           }
          ],
          "scatterpolar": [
           {
            "marker": {
             "colorbar": {
              "outlinewidth": 0,
              "ticks": ""
             }
            },
            "type": "scatterpolar"
           }
          ],
          "scatterpolargl": [
           {
            "marker": {
             "colorbar": {
              "outlinewidth": 0,
              "ticks": ""
             }
            },
            "type": "scatterpolargl"
           }
          ],
          "scatterternary": [
           {
            "marker": {
             "colorbar": {
              "outlinewidth": 0,
              "ticks": ""
             }
            },
            "type": "scatterternary"
           }
          ],
          "surface": [
           {
            "colorbar": {
             "outlinewidth": 0,
             "ticks": ""
            },
            "colorscale": [
             [
              0,
              "#0d0887"
             ],
             [
              0.1111111111111111,
              "#46039f"
             ],
             [
              0.2222222222222222,
              "#7201a8"
             ],
             [
              0.3333333333333333,
              "#9c179e"
             ],
             [
              0.4444444444444444,
              "#bd3786"
             ],
             [
              0.5555555555555556,
              "#d8576b"
             ],
             [
              0.6666666666666666,
              "#ed7953"
             ],
             [
              0.7777777777777778,
              "#fb9f3a"
             ],
             [
              0.8888888888888888,
              "#fdca26"
             ],
             [
              1,
              "#f0f921"
             ]
            ],
            "type": "surface"
           }
          ],
          "table": [
           {
            "cells": {
             "fill": {
              "color": "#EBF0F8"
             },
             "line": {
              "color": "white"
             }
            },
            "header": {
             "fill": {
              "color": "#C8D4E3"
             },
             "line": {
              "color": "white"
             }
            },
            "type": "table"
           }
          ]
         },
         "layout": {
          "annotationdefaults": {
           "arrowcolor": "#2a3f5f",
           "arrowhead": 0,
           "arrowwidth": 1
          },
          "autotypenumbers": "strict",
          "coloraxis": {
           "colorbar": {
            "outlinewidth": 0,
            "ticks": ""
           }
          },
          "colorscale": {
           "diverging": [
            [
             0,
             "#8e0152"
            ],
            [
             0.1,
             "#c51b7d"
            ],
            [
             0.2,
             "#de77ae"
            ],
            [
             0.3,
             "#f1b6da"
            ],
            [
             0.4,
             "#fde0ef"
            ],
            [
             0.5,
             "#f7f7f7"
            ],
            [
             0.6,
             "#e6f5d0"
            ],
            [
             0.7,
             "#b8e186"
            ],
            [
             0.8,
             "#7fbc41"
            ],
            [
             0.9,
             "#4d9221"
            ],
            [
             1,
             "#276419"
            ]
           ],
           "sequential": [
            [
             0,
             "#0d0887"
            ],
            [
             0.1111111111111111,
             "#46039f"
            ],
            [
             0.2222222222222222,
             "#7201a8"
            ],
            [
             0.3333333333333333,
             "#9c179e"
            ],
            [
             0.4444444444444444,
             "#bd3786"
            ],
            [
             0.5555555555555556,
             "#d8576b"
            ],
            [
             0.6666666666666666,
             "#ed7953"
            ],
            [
             0.7777777777777778,
             "#fb9f3a"
            ],
            [
             0.8888888888888888,
             "#fdca26"
            ],
            [
             1,
             "#f0f921"
            ]
           ],
           "sequentialminus": [
            [
             0,
             "#0d0887"
            ],
            [
             0.1111111111111111,
             "#46039f"
            ],
            [
             0.2222222222222222,
             "#7201a8"
            ],
            [
             0.3333333333333333,
             "#9c179e"
            ],
            [
             0.4444444444444444,
             "#bd3786"
            ],
            [
             0.5555555555555556,
             "#d8576b"
            ],
            [
             0.6666666666666666,
             "#ed7953"
            ],
            [
             0.7777777777777778,
             "#fb9f3a"
            ],
            [
             0.8888888888888888,
             "#fdca26"
            ],
            [
             1,
             "#f0f921"
            ]
           ]
          },
          "colorway": [
           "#636efa",
           "#EF553B",
           "#00cc96",
           "#ab63fa",
           "#FFA15A",
           "#19d3f3",
           "#FF6692",
           "#B6E880",
           "#FF97FF",
           "#FECB52"
          ],
          "font": {
           "color": "#2a3f5f"
          },
          "geo": {
           "bgcolor": "white",
           "lakecolor": "white",
           "landcolor": "white",
           "showlakes": true,
           "showland": true,
           "subunitcolor": "#C8D4E3"
          },
          "hoverlabel": {
           "align": "left"
          },
          "hovermode": "closest",
          "mapbox": {
           "style": "light"
          },
          "paper_bgcolor": "white",
          "plot_bgcolor": "white",
          "polar": {
           "angularaxis": {
            "gridcolor": "#EBF0F8",
            "linecolor": "#EBF0F8",
            "ticks": ""
           },
           "bgcolor": "white",
           "radialaxis": {
            "gridcolor": "#EBF0F8",
            "linecolor": "#EBF0F8",
            "ticks": ""
           }
          },
          "scene": {
           "xaxis": {
            "backgroundcolor": "white",
            "gridcolor": "#DFE8F3",
            "gridwidth": 2,
            "linecolor": "#EBF0F8",
            "showbackground": true,
            "ticks": "",
            "zerolinecolor": "#EBF0F8"
           },
           "yaxis": {
            "backgroundcolor": "white",
            "gridcolor": "#DFE8F3",
            "gridwidth": 2,
            "linecolor": "#EBF0F8",
            "showbackground": true,
            "ticks": "",
            "zerolinecolor": "#EBF0F8"
           },
           "zaxis": {
            "backgroundcolor": "white",
            "gridcolor": "#DFE8F3",
            "gridwidth": 2,
            "linecolor": "#EBF0F8",
            "showbackground": true,
            "ticks": "",
            "zerolinecolor": "#EBF0F8"
           }
          },
          "shapedefaults": {
           "line": {
            "color": "#2a3f5f"
           }
          },
          "ternary": {
           "aaxis": {
            "gridcolor": "#DFE8F3",
            "linecolor": "#A2B1C6",
            "ticks": ""
           },
           "baxis": {
            "gridcolor": "#DFE8F3",
            "linecolor": "#A2B1C6",
            "ticks": ""
           },
           "bgcolor": "white",
           "caxis": {
            "gridcolor": "#DFE8F3",
            "linecolor": "#A2B1C6",
            "ticks": ""
           }
          },
          "title": {
           "x": 0.05
          },
          "xaxis": {
           "automargin": true,
           "gridcolor": "#EBF0F8",
           "linecolor": "#EBF0F8",
           "ticks": "",
           "title": {
            "standoff": 15
           },
           "zerolinecolor": "#EBF0F8",
           "zerolinewidth": 2
          },
          "yaxis": {
           "automargin": true,
           "gridcolor": "#EBF0F8",
           "linecolor": "#EBF0F8",
           "ticks": "",
           "title": {
            "standoff": 15
           },
           "zerolinecolor": "#EBF0F8",
           "zerolinewidth": 2
          }
         }
        },
        "width": 1600,
        "xaxis": {
         "anchor": "y",
         "domain": [
          0,
          0.45
         ],
         "title": {
          "text": "Observed values"
         }
        },
        "xaxis2": {
         "anchor": "y2",
         "domain": [
          0.55,
          1
         ],
         "title": {
          "text": "Observed values"
         }
        },
        "yaxis": {
         "anchor": "x",
         "domain": [
          0,
          1
         ],
         "title": {
          "text": "Predicted values"
         }
        },
        "yaxis2": {
         "anchor": "x2",
         "domain": [
          0,
          1
         ],
         "title": {
          "text": "Predicted values"
         }
        }
       }
      }
     },
     "metadata": {},
     "output_type": "display_data"
    },
    {
     "data": {
      "application/vnd.plotly.v1+json": {
       "config": {
        "plotlyServerURL": "https://plot.ly"
       },
       "data": [
        {
         "legendgroup": "train_0",
         "mode": "markers",
         "name": "Run id in Train 0",
         "type": "scatter",
         "x": [
          34.48979591836735,
          33.497759773117764,
          39.18158379968747,
          50.62009499710431,
          58.67865561216076,
          64.50229474124312,
          70.31266186967268,
          77.9143661034886,
          88.10689900312666,
          100.73117479331908,
          115.08564001033828,
          125.8969576070251,
          125.23197031699696,
          124.87737539599864,
          124.68877246718952
         ],
         "xaxis": "x",
         "y": [
          34.48979591836735,
          38.47810025045638,
          39.2624371971948,
          43.77562487113122,
          52.87832979306815,
          62.88467938991084,
          76.39571759024241,
          101.18799038746201,
          125.72221625285717,
          155.6844896076,
          181.54620403221108,
          201.85552984968447,
          218.97944481450108,
          239.05289883251845,
          261.01244532790525
         ],
         "yaxis": "y"
        },
        {
         "legendgroup": "train_1",
         "mode": "markers",
         "name": "Run id in Train 1",
         "type": "scatter",
         "x": [
          32.857142857142854,
          31.895276825078454,
          29.523755023926796,
          43.45365774211284,
          53.37801483606592,
          59.70360012988135,
          64.5923317260211,
          70.44512271860509,
          78.85933822620683,
          90.44847284105865,
          104.8797826290292,
          119.53418654560204,
          118.04401028491286,
          117.22054934864067,
          116.76720197022738
         ],
         "xaxis": "x",
         "y": [
          32.857142857142854,
          37.540195479598054,
          40.231411648338764,
          43.78982568796542,
          52.26927247200868,
          62.07674076012579,
          75.2723625120499,
          99.23942539087908,
          123.05129493339217,
          152.29527168109965,
          177.5167063345856,
          196.8657473957883,
          213.39775416389264,
          232.82817026918408,
          254.0825221347292
         ],
         "yaxis": "y"
        },
        {
         "legendgroup": "train_2",
         "mode": "markers",
         "name": "Run id in Train 2",
         "type": "scatter",
         "x": [
          40.20408163265306,
          39.3106253406875,
          36.83461707271391,
          41.29851545118337,
          51.58422234292109,
          59.42037843500661,
          67.24029203773658,
          77.00259730155591,
          89.6529978703625,
          105.02858325349617,
          122.29644922822447,
          128.01353314088,
          127.30657682739415,
          126.92861071812789,
          126.72696474831358
         ],
         "xaxis": "x",
         "y": [
          40.20408163265306,
          45.34358536014767,
          48.33148190665405,
          52.996746420829695,
          63.3778396399201,
          74.94226967313111,
          90.67318797115794,
          120.05171689288389,
          148.9080361711748,
          184.1899611179061,
          214.62864809477034,
          238.55622066629363,
          258.65869971952463,
          282.2612845561299,
          308.0771873898498
         ],
         "yaxis": "y"
        },
        {
         "legendgroup": "train_3",
         "mode": "markers",
         "name": "Run id in Train 3",
         "type": "scatter",
         "x": [
          66.3265306122449,
          64.9018084421659,
          74.46646692324572,
          82.75195820225221,
          88.4608121252639,
          94.35032349278424,
          102.35264420922908,
          112.78820578337243,
          125.13254274305396,
          124.74568445028515,
          123.70828935213474,
          123.11833121458756,
          122.78502933027806,
          122.59740576605402,
          122.49199994699929
         ],
         "xaxis": "x",
         "y": [
          66.3265306122449,
          71.13432783705217,
          72.69005669779023,
          81.82150608475158,
          96.55365395174407,
          113.18078336158655,
          138.07028071586842,
          184.62849667604283,
          229.67787209454426,
          283.5895410112731,
          331.3114926468371,
          370.4749855100192,
          402.8843281102733,
          440.002686884506,
          480.71657222055416
         ],
         "yaxis": "y"
        },
        {
         "legendgroup": "train_4",
         "mode": "markers",
         "name": "Run id in Train 4",
         "type": "scatter",
         "x": [
          54.08163265306122,
          52.32453548724165,
          48.00670790060231,
          52.80978895442207,
          59.67166365361268,
          64.36116287789906,
          69.78971877901188,
          77.9393717582966,
          89.59672510578096,
          94.88781273549858,
          91.9609809279264,
          90.2743358499412,
          89.30079949433396,
          88.73790326458321,
          88.41203209326693
         ],
         "xaxis": "x",
         "y": [
          54.08163265306122,
          59.77656529042896,
          63.12561532298413,
          69.80676330977283,
          83.07807051031766,
          97.81565262567615,
          118.35974415898596,
          157.48010884631714,
          195.5061240280278,
          241.39183917712023,
          281.7637857881145,
          314.58185228619266,
          341.17353114969484,
          372.439155367449,
          406.6132917878794
         ],
         "yaxis": "y"
        },
        {
         "legendgroup": "train_5",
         "mode": "markers",
         "name": "Run id in Train 5",
         "type": "scatter",
         "x": [
          55.71428571428572,
          54.04229265312258,
          50.19044815252949,
          56.66345377265392,
          62.94630603076002,
          67.36240093890267,
          72.50080654941964,
          80.1355041391731,
          90.8600281640686,
          99.09780809177174,
          96.82391152015649,
          95.56174721339072,
          94.86342162097333,
          94.47756919225226,
          94.2645083447324
         ],
         "xaxis": "x",
         "y": [
          55.71428571428572,
          60.863467804473096,
          63.96981207647825,
          71.04711816887215,
          84.09527314082526,
          98.92904434105517,
          120.0809445237001,
          160.21532149559556,
          199.05249383501223,
          245.80902102325402,
          287.0216937671298,
          320.66358251552043,
          348.10157539484766,
          380.09382174277346,
          415.08636679944084
         ],
         "yaxis": "y"
        },
        {
         "legendgroup": "train_6",
         "mode": "markers",
         "name": "Run id in Train 6",
         "type": "scatter",
         "x": [
          67.14285714285714,
          65.72262111008826,
          62.33899756102318,
          55.86087499300016,
          63.63048603140288,
          68.5499478631087,
          73.3580779196577,
          80.30501123095608,
          90.44056467752864,
          103.65677129603148,
          119.15240642675616,
          133.19526386484125,
          132.09349753140145,
          131.47324993444937,
          131.12522304466037
         ],
         "xaxis": "x",
         "y": [
          67.14285714285714,
          72.98749413959497,
          76.44039361814669,
          85.10854278340781,
          100.40906639280753,
          117.88708840136172,
          143.38186046988565,
          191.57789584217255,
          238.08930878070638,
          294.15238560755273,
          343.1840267537809,
          383.15004585680185,
          416.2034311597174,
          454.49215585806803,
          496.4026833946833
         ],
         "yaxis": "y"
        },
        {
         "legendgroup": "train_7",
         "mode": "markers",
         "name": "Run id in Train 7",
         "type": "scatter",
         "x": [
          56.53061224489796,
          55.32956552576817,
          51.96887747098334,
          55.45175427907439,
          58.64166030227109,
          60.52459420873051,
          63.5659352103408,
          69.0079158344245,
          77.12764839367868,
          87.62684618186968,
          95.35728979796336,
          94.37636391008608,
          93.89075940271,
          93.6504884837088,
          93.53162545237578
         ],
         "xaxis": "x",
         "y": [
          56.53061224489796,
          60.9473712879671,
          63.64871222368494,
          71.04438804084718,
          83.70463601871246,
          98.23421317359268,
          119.70277157121949,
          160.20078726848203,
          199.22468285096005,
          246.2009688566448,
          287.1802198665763,
          321.15048011017836,
          349.01668572901644,
          381.19117699473355,
          416.42840222325896
         ],
         "yaxis": "y"
        },
        {
         "legendgroup": "train_8",
         "mode": "markers",
         "name": "Run id in Train 8",
         "type": "scatter",
         "x": [
          57.3469387755102,
          56.26328141499867,
          61.11818356473742,
          67.19682852618769,
          70.32245701569198,
          72.10170042398552,
          74.576588215411,
          78.95127698119116,
          85.50870626123897,
          87.70211038857562,
          85.86798924811929,
          84.78793917261947,
          84.1521917968171,
          83.77787674575289,
          83.55742278372415
         ],
         "xaxis": "x",
         "y": [
          57.3469387755102,
          61.05287833685869,
          62.39187363039852,
          70.37241489123667,
          82.85356954190642,
          97.09831723107092,
          118.61997991495492,
          158.99840295912702,
          197.911123507148,
          244.50223112401747,
          285.729860640404,
          319.64293954752,
          347.7817316410052,
          379.8977728051418,
          415.1384053687451
         ],
         "yaxis": "y"
        },
        {
         "legendgroup": "train_9",
         "mode": "markers",
         "name": "Run id in Train 9",
         "type": "scatter",
         "x": [
          54.89795918367347,
          53.83097725200842,
          51.135170054284416,
          48.65346404036791,
          56.75047501717443,
          62.62869783627702,
          68.50787888685004,
          76.15521464524201,
          86.41064303572327,
          98.32486114462506,
          95.72525521914292,
          94.23513508473134,
          93.3835594751364,
          92.89742769084626,
          92.62003538179069
         ],
         "xaxis": "x",
         "y": [
          54.89795918367347,
          60.14879794207823,
          63.249460261042444,
          70.29880105041326,
          83.19410363070132,
          97.8251128508079,
          118.73023193702423,
          158.46971245788976,
          196.82625626646853,
          243.08824015777816,
          283.81439708294414,
          317.0552994230458,
          344.1418540695586,
          375.7526710743905,
          410.3278776457374
         ],
         "yaxis": "y"
        },
        {
         "legendgroup": "test_0",
         "mode": "markers",
         "name": "Run id in Test 0",
         "type": "scatter",
         "x": [
          43.46938775510204,
          42.11575103737883,
          38.40470745766825,
          34.28104672448483,
          36.13270037292429,
          34.63344313923112,
          32.55252740419164,
          31.875483763746413,
          33.52447895437812,
          37.694658596943526,
          44.21209863405196,
          45.78852821788307,
          40.788789446857486,
          37.03759971276014,
          34.231330813861874
         ],
         "xaxis": "x2",
         "y": [
          43.46938775510204,
          47.731069447460584,
          50.340741543712156,
          55.88051080780304,
          66.55269950794255,
          78.68350746624786,
          95.38642061466363,
          127.30880331344557,
          158.20436239298584,
          195.66861164593817,
          228.23865714984024,
          254.56131885891403,
          276.24300102871047,
          301.64460870570815,
          329.4195411695309
         ],
         "yaxis": "y2"
        },
        {
         "legendgroup": "test_1",
         "mode": "markers",
         "name": "Run id in Test 1",
         "type": "scatter",
         "x": [
          45.91836734693878,
          44.93535705335225,
          45.34454371167346,
          51.66956589718001,
          54.3222189193982,
          53.64426667599316,
          51.24210526598327,
          48.83005687873178,
          47.56068327676123,
          39.08302910973476,
          29.94038322346193,
          22.44987114558976,
          16.430036262308974,
          11.668327985152208,
          7.95349374597405
         ],
         "xaxis": "x2",
         "y": [
          45.91836734693878,
          49.40613823246585,
          50.54379143680599,
          56.98108887725624,
          67.49240708555294,
          79.3756223669105,
          96.7852813479856,
          129.6109299495893,
          161.24334142518754,
          199.27060658123682,
          232.82317966638612,
          260.34246749400313,
          282.970413679314,
          309.0926204024553,
          337.6992317686901
         ],
         "yaxis": "y2"
        },
        {
         "legendgroup": "test_2",
         "mode": "markers",
         "name": "Run id in Test 2",
         "type": "scatter",
         "x": [
          39.38775510204081,
          38.5280407408776,
          38.7311595156132,
          45.76285698062254,
          49.24196581704296,
          49.81892064072007,
          49.184687689797485,
          48.89258013831316,
          49.88107629463944,
          52.55198518790212,
          56.8557322124684,
          50.96007068131026,
          46.35555553595123,
          42.76260751556799,
          39.96626373139646
         ],
         "xaxis": "x2",
         "y": [
          39.38775510204081,
          42.698820674122814,
          43.606948624352185,
          49.071788726504344,
          58.63404469721843,
          69.45412777989404,
          84.43957649347426,
          112.93132079389576,
          140.52022371577397,
          173.8713966173545,
          202.79988884224474,
          226.78255017178466,
          246.194568097695,
          268.93076001922213,
          293.7935445583802
         ],
         "yaxis": "y2"
        },
        {
         "legendgroup": "test_3",
         "mode": "markers",
         "name": "Run id in Test 3",
         "type": "scatter",
         "x": [
          48.36734693877551,
          47.04285822396751,
          49.47633429246047,
          52.15436152007848,
          49.36912447968168,
          42.317330231004384,
          33.707503700984184,
          25.915780610616988,
          20.30896088097011,
          17.375999828551723,
          7.512392125109961,
          0.000005549966366497421,
          -1.1635971826234836e-8,
          -7.551679343443506e-10,
          5.42590117253555e-10
         ],
         "xaxis": "x2",
         "y": [
          48.36734693877551,
          51.53653405367935,
          52.63810983937864,
          59.40879101483248,
          70.13012302102096,
          82.3689060113535,
          100.6433540644902,
          134.96674230655648,
          168.04388526653506,
          207.77396172541015,
          242.53107957149186,
          271.3876463662889,
          295.17581043442533,
          322.4789770673632,
          352.40648917711917
         ],
         "yaxis": "y2"
        },
        {
         "legendgroup": "test_4",
         "mode": "markers",
         "name": "Run id in Test 4",
         "type": "scatter",
         "x": [
          46.734693877551024,
          44.99290263409152,
          55.71392075823843,
          61.33985969413218,
          61.56527277561326,
          59.50002768365175,
          58.29518530186981,
          59.65002766372735,
          64.13123970145408,
          71.72899291203933,
          66.36797709905878,
          62.62435211663696,
          60.027913453442245,
          58.20387118444934,
          56.91292005668433
         ],
         "xaxis": "x2",
         "y": [
          46.734693877551024,
          50.95704804522181,
          51.929185847166664,
          58.222396735439915,
          69.81121168476673,
          82.58290205135722,
          100.21338633506406,
          133.5469281782498,
          166.08024517407637,
          205.2905458594233,
          239.3300743737862,
          267.51862024512724,
          290.30217787890587,
          317.0438209754922,
          346.2743239651402
         ],
         "yaxis": "y2"
        },
        {
         "legendgroup": "test_5",
         "mode": "markers",
         "name": "Run id in Test 5",
         "type": "scatter",
         "x": [
          61.42857142857143,
          60.50079410755882,
          57.7416721465118,
          63.15057974853251,
          64.57604262224581,
          62.09198760634006,
          59.14814915273872,
          58.11012565652759,
          59.9433480996893,
          64.7820145618766,
          72.39096715444906,
          72.48911688464071,
          69.99775447415446,
          68.42884724712913,
          67.42783305213658
         ],
         "xaxis": "x2",
         "y": [
          61.42857142857143,
          65.8723753737594,
          68.5864827550748,
          76.6695608504163,
          90.16547722302134,
          105.63051260563012,
          128.88482357937437,
          172.6033543385373,
          214.72598644285256,
          265.3561443222745,
          309.7775081147881,
          346.1497471852041,
          376.40255344113734,
          411.1199778339966,
          449.1774394905485
         ],
         "yaxis": "y2"
        },
        {
         "legendgroup": "test_6",
         "mode": "markers",
         "name": "Run id in Test 6",
         "type": "scatter",
         "x": [
          60.61224489795919,
          58.91820688373571,
          54.967944586112615,
          56.504120407833305,
          53.20133675298614,
          47.006106393559286,
          40.2969979363268,
          34.73770111132932,
          31.173384146301327,
          29.862540320253835,
          21.60893411956609,
          13.894199054079715,
          7.830610064693132,
          3.1559468428018,
          0.0010337156919927
         ],
         "xaxis": "x2",
         "y": [
          60.61224489795919,
          64.17102562607883,
          65.64963013924454,
          74.1117604076079,
          87.00773114963714,
          101.87725172300779,
          124.58707451750325,
          167.34294997649778,
          208.35047430173123,
          257.50596532736836,
          300.6542739856218,
          336.48708875455515,
          366.26695712482405,
          400.1519947416126,
          437.3329295821539
         ],
         "yaxis": "y2"
        },
        {
         "legendgroup": "test_7",
         "mode": "markers",
         "name": "Run id in Test 7",
         "type": "scatter",
         "x": [
          44.285714285714285,
          43.091730416232096,
          49.56742116592375,
          53.41855175443676,
          53.56105683162421,
          51.3427427140427,
          48.75151084812984,
          47.21647080029135,
          47.41291358220813,
          49.4956375243666,
          48.292322180351455,
          43.51040815227347,
          39.87424357386649,
          37.12396685800291,
          35.05341744703701
         ],
         "xaxis": "x2",
         "y": [
          44.285714285714285,
          47.13879655166434,
          48.11874726446641,
          54.26215754337246,
          64.22252983677448,
          75.7488121552192,
          92.43920672028167,
          123.96345085737032,
          154.4161219158096,
          190.9949331705907,
          222.9695912460469,
          249.52011609288397,
          271.3207248520071,
          296.4586053923959,
          323.98638650411635
         ],
         "yaxis": "y2"
        },
        {
         "legendgroup": "test_8",
         "mode": "markers",
         "name": "Run id in Test 8",
         "type": "scatter",
         "x": [
          62.24489795918368,
          61.21776604301599,
          61.68839208761704,
          65.04382305329295,
          62.69758511158651,
          56.54852620466132,
          49.80711194765001,
          44.700101045224585,
          42.2095427249079,
          42.48465618101904,
          41.20803831131787,
          35.297389599090664,
          30.946368717426356,
          27.770291957174603,
          25.467113925770228
         ],
         "xaxis": "x2",
         "y": [
          62.24489795918368,
          65.85509730697851,
          67.28019060223583,
          75.91299502463075,
          89.12685226540555,
          104.36718966262944,
          127.62118396587725,
          171.3520345867545,
          213.37323519240758,
          263.7184303468202,
          307.9194693998376,
          344.64205007816116,
          375.1529712040854,
          409.8651103165059,
          447.9542810836314
         ],
         "yaxis": "y2"
        },
        {
         "legendgroup": "test_9",
         "mode": "markers",
         "name": "Run id in Test 9",
         "type": "scatter",
         "x": [
          31.22448979591837,
          29.86833180785049,
          27.658387185172973,
          37.619533430058816,
          41.16323693589936,
          39.72372431065216,
          36.56691320199399,
          34.4317618023923,
          34.8034920745417,
          38.185121525710215,
          44.52533300483191,
          42.78968564912638,
          35.513688469230864,
          29.937750335245543,
          25.685477735236184
         ],
         "xaxis": "x2",
         "y": [
          31.22448979591837,
          35.68876185238702,
          36.33529197865836,
          40.4495696607981,
          48.887124266789826,
          58.272040865334176,
          70.77213215315447,
          93.30084237727996,
          115.72451170860121,
          143.2660450294133,
          167.05006237628564,
          185.2133674805616,
          200.7959736364072,
          219.10280307772507,
          239.12879366177756
         ],
         "yaxis": "y2"
        }
       ],
       "layout": {
        "annotations": [
         {
          "font": {
           "size": 16
          },
          "showarrow": false,
          "text": "Train Set - X:Glc <br> R^2 = -68.234 <br> Abs RMSE = 136.969 <br> Rel RMSE = 5.172",
          "x": 0.225,
          "xanchor": "center",
          "xref": "paper",
          "y": 1,
          "yanchor": "bottom",
          "yref": "paper"
         },
         {
          "font": {
           "size": 16
          },
          "showarrow": false,
          "text": "Test Set - X:Glc <br> R^2 = -559.673 <br> Abs RMSE = 166.559 <br> Rel RMSE = 10.265",
          "x": 0.775,
          "xanchor": "center",
          "xref": "paper",
          "y": 1,
          "yanchor": "bottom",
          "yref": "paper"
         }
        ],
        "shapes": [
         {
          "layer": "above",
          "line": {
           "dash": "dash"
          },
          "type": "line",
          "x0": 32.857142857142854,
          "x1": 496.4026833946833,
          "y0": 32.857142857142854,
          "y1": 496.4026833946833
         },
         {
          "layer": "above",
          "line": {
           "dash": "dash"
          },
          "type": "line",
          "x0": 31.22448979591837,
          "x1": 449.1774394905485,
          "xref": "x2",
          "y0": 31.22448979591837,
          "y1": 449.1774394905485,
          "yref": "y2"
         }
        ],
        "template": {
         "data": {
          "bar": [
           {
            "error_x": {
             "color": "#2a3f5f"
            },
            "error_y": {
             "color": "#2a3f5f"
            },
            "marker": {
             "line": {
              "color": "white",
              "width": 0.5
             },
             "pattern": {
              "fillmode": "overlay",
              "size": 10,
              "solidity": 0.2
             }
            },
            "type": "bar"
           }
          ],
          "barpolar": [
           {
            "marker": {
             "line": {
              "color": "white",
              "width": 0.5
             },
             "pattern": {
              "fillmode": "overlay",
              "size": 10,
              "solidity": 0.2
             }
            },
            "type": "barpolar"
           }
          ],
          "carpet": [
           {
            "aaxis": {
             "endlinecolor": "#2a3f5f",
             "gridcolor": "#C8D4E3",
             "linecolor": "#C8D4E3",
             "minorgridcolor": "#C8D4E3",
             "startlinecolor": "#2a3f5f"
            },
            "baxis": {
             "endlinecolor": "#2a3f5f",
             "gridcolor": "#C8D4E3",
             "linecolor": "#C8D4E3",
             "minorgridcolor": "#C8D4E3",
             "startlinecolor": "#2a3f5f"
            },
            "type": "carpet"
           }
          ],
          "choropleth": [
           {
            "colorbar": {
             "outlinewidth": 0,
             "ticks": ""
            },
            "type": "choropleth"
           }
          ],
          "contour": [
           {
            "colorbar": {
             "outlinewidth": 0,
             "ticks": ""
            },
            "colorscale": [
             [
              0,
              "#0d0887"
             ],
             [
              0.1111111111111111,
              "#46039f"
             ],
             [
              0.2222222222222222,
              "#7201a8"
             ],
             [
              0.3333333333333333,
              "#9c179e"
             ],
             [
              0.4444444444444444,
              "#bd3786"
             ],
             [
              0.5555555555555556,
              "#d8576b"
             ],
             [
              0.6666666666666666,
              "#ed7953"
             ],
             [
              0.7777777777777778,
              "#fb9f3a"
             ],
             [
              0.8888888888888888,
              "#fdca26"
             ],
             [
              1,
              "#f0f921"
             ]
            ],
            "type": "contour"
           }
          ],
          "contourcarpet": [
           {
            "colorbar": {
             "outlinewidth": 0,
             "ticks": ""
            },
            "type": "contourcarpet"
           }
          ],
          "heatmap": [
           {
            "colorbar": {
             "outlinewidth": 0,
             "ticks": ""
            },
            "colorscale": [
             [
              0,
              "#0d0887"
             ],
             [
              0.1111111111111111,
              "#46039f"
             ],
             [
              0.2222222222222222,
              "#7201a8"
             ],
             [
              0.3333333333333333,
              "#9c179e"
             ],
             [
              0.4444444444444444,
              "#bd3786"
             ],
             [
              0.5555555555555556,
              "#d8576b"
             ],
             [
              0.6666666666666666,
              "#ed7953"
             ],
             [
              0.7777777777777778,
              "#fb9f3a"
             ],
             [
              0.8888888888888888,
              "#fdca26"
             ],
             [
              1,
              "#f0f921"
             ]
            ],
            "type": "heatmap"
           }
          ],
          "heatmapgl": [
           {
            "colorbar": {
             "outlinewidth": 0,
             "ticks": ""
            },
            "colorscale": [
             [
              0,
              "#0d0887"
             ],
             [
              0.1111111111111111,
              "#46039f"
             ],
             [
              0.2222222222222222,
              "#7201a8"
             ],
             [
              0.3333333333333333,
              "#9c179e"
             ],
             [
              0.4444444444444444,
              "#bd3786"
             ],
             [
              0.5555555555555556,
              "#d8576b"
             ],
             [
              0.6666666666666666,
              "#ed7953"
             ],
             [
              0.7777777777777778,
              "#fb9f3a"
             ],
             [
              0.8888888888888888,
              "#fdca26"
             ],
             [
              1,
              "#f0f921"
             ]
            ],
            "type": "heatmapgl"
           }
          ],
          "histogram": [
           {
            "marker": {
             "pattern": {
              "fillmode": "overlay",
              "size": 10,
              "solidity": 0.2
             }
            },
            "type": "histogram"
           }
          ],
          "histogram2d": [
           {
            "colorbar": {
             "outlinewidth": 0,
             "ticks": ""
            },
            "colorscale": [
             [
              0,
              "#0d0887"
             ],
             [
              0.1111111111111111,
              "#46039f"
             ],
             [
              0.2222222222222222,
              "#7201a8"
             ],
             [
              0.3333333333333333,
              "#9c179e"
             ],
             [
              0.4444444444444444,
              "#bd3786"
             ],
             [
              0.5555555555555556,
              "#d8576b"
             ],
             [
              0.6666666666666666,
              "#ed7953"
             ],
             [
              0.7777777777777778,
              "#fb9f3a"
             ],
             [
              0.8888888888888888,
              "#fdca26"
             ],
             [
              1,
              "#f0f921"
             ]
            ],
            "type": "histogram2d"
           }
          ],
          "histogram2dcontour": [
           {
            "colorbar": {
             "outlinewidth": 0,
             "ticks": ""
            },
            "colorscale": [
             [
              0,
              "#0d0887"
             ],
             [
              0.1111111111111111,
              "#46039f"
             ],
             [
              0.2222222222222222,
              "#7201a8"
             ],
             [
              0.3333333333333333,
              "#9c179e"
             ],
             [
              0.4444444444444444,
              "#bd3786"
             ],
             [
              0.5555555555555556,
              "#d8576b"
             ],
             [
              0.6666666666666666,
              "#ed7953"
             ],
             [
              0.7777777777777778,
              "#fb9f3a"
             ],
             [
              0.8888888888888888,
              "#fdca26"
             ],
             [
              1,
              "#f0f921"
             ]
            ],
            "type": "histogram2dcontour"
           }
          ],
          "mesh3d": [
           {
            "colorbar": {
             "outlinewidth": 0,
             "ticks": ""
            },
            "type": "mesh3d"
           }
          ],
          "parcoords": [
           {
            "line": {
             "colorbar": {
              "outlinewidth": 0,
              "ticks": ""
             }
            },
            "type": "parcoords"
           }
          ],
          "pie": [
           {
            "automargin": true,
            "type": "pie"
           }
          ],
          "scatter": [
           {
            "fillpattern": {
             "fillmode": "overlay",
             "size": 10,
             "solidity": 0.2
            },
            "type": "scatter"
           }
          ],
          "scatter3d": [
           {
            "line": {
             "colorbar": {
              "outlinewidth": 0,
              "ticks": ""
             }
            },
            "marker": {
             "colorbar": {
              "outlinewidth": 0,
              "ticks": ""
             }
            },
            "type": "scatter3d"
           }
          ],
          "scattercarpet": [
           {
            "marker": {
             "colorbar": {
              "outlinewidth": 0,
              "ticks": ""
             }
            },
            "type": "scattercarpet"
           }
          ],
          "scattergeo": [
           {
            "marker": {
             "colorbar": {
              "outlinewidth": 0,
              "ticks": ""
             }
            },
            "type": "scattergeo"
           }
          ],
          "scattergl": [
           {
            "marker": {
             "colorbar": {
              "outlinewidth": 0,
              "ticks": ""
             }
            },
            "type": "scattergl"
           }
          ],
          "scattermapbox": [
           {
            "marker": {
             "colorbar": {
              "outlinewidth": 0,
              "ticks": ""
             }
            },
            "type": "scattermapbox"
           }
          ],
          "scatterpolar": [
           {
            "marker": {
             "colorbar": {
              "outlinewidth": 0,
              "ticks": ""
             }
            },
            "type": "scatterpolar"
           }
          ],
          "scatterpolargl": [
           {
            "marker": {
             "colorbar": {
              "outlinewidth": 0,
              "ticks": ""
             }
            },
            "type": "scatterpolargl"
           }
          ],
          "scatterternary": [
           {
            "marker": {
             "colorbar": {
              "outlinewidth": 0,
              "ticks": ""
             }
            },
            "type": "scatterternary"
           }
          ],
          "surface": [
           {
            "colorbar": {
             "outlinewidth": 0,
             "ticks": ""
            },
            "colorscale": [
             [
              0,
              "#0d0887"
             ],
             [
              0.1111111111111111,
              "#46039f"
             ],
             [
              0.2222222222222222,
              "#7201a8"
             ],
             [
              0.3333333333333333,
              "#9c179e"
             ],
             [
              0.4444444444444444,
              "#bd3786"
             ],
             [
              0.5555555555555556,
              "#d8576b"
             ],
             [
              0.6666666666666666,
              "#ed7953"
             ],
             [
              0.7777777777777778,
              "#fb9f3a"
             ],
             [
              0.8888888888888888,
              "#fdca26"
             ],
             [
              1,
              "#f0f921"
             ]
            ],
            "type": "surface"
           }
          ],
          "table": [
           {
            "cells": {
             "fill": {
              "color": "#EBF0F8"
             },
             "line": {
              "color": "white"
             }
            },
            "header": {
             "fill": {
              "color": "#C8D4E3"
             },
             "line": {
              "color": "white"
             }
            },
            "type": "table"
           }
          ]
         },
         "layout": {
          "annotationdefaults": {
           "arrowcolor": "#2a3f5f",
           "arrowhead": 0,
           "arrowwidth": 1
          },
          "autotypenumbers": "strict",
          "coloraxis": {
           "colorbar": {
            "outlinewidth": 0,
            "ticks": ""
           }
          },
          "colorscale": {
           "diverging": [
            [
             0,
             "#8e0152"
            ],
            [
             0.1,
             "#c51b7d"
            ],
            [
             0.2,
             "#de77ae"
            ],
            [
             0.3,
             "#f1b6da"
            ],
            [
             0.4,
             "#fde0ef"
            ],
            [
             0.5,
             "#f7f7f7"
            ],
            [
             0.6,
             "#e6f5d0"
            ],
            [
             0.7,
             "#b8e186"
            ],
            [
             0.8,
             "#7fbc41"
            ],
            [
             0.9,
             "#4d9221"
            ],
            [
             1,
             "#276419"
            ]
           ],
           "sequential": [
            [
             0,
             "#0d0887"
            ],
            [
             0.1111111111111111,
             "#46039f"
            ],
            [
             0.2222222222222222,
             "#7201a8"
            ],
            [
             0.3333333333333333,
             "#9c179e"
            ],
            [
             0.4444444444444444,
             "#bd3786"
            ],
            [
             0.5555555555555556,
             "#d8576b"
            ],
            [
             0.6666666666666666,
             "#ed7953"
            ],
            [
             0.7777777777777778,
             "#fb9f3a"
            ],
            [
             0.8888888888888888,
             "#fdca26"
            ],
            [
             1,
             "#f0f921"
            ]
           ],
           "sequentialminus": [
            [
             0,
             "#0d0887"
            ],
            [
             0.1111111111111111,
             "#46039f"
            ],
            [
             0.2222222222222222,
             "#7201a8"
            ],
            [
             0.3333333333333333,
             "#9c179e"
            ],
            [
             0.4444444444444444,
             "#bd3786"
            ],
            [
             0.5555555555555556,
             "#d8576b"
            ],
            [
             0.6666666666666666,
             "#ed7953"
            ],
            [
             0.7777777777777778,
             "#fb9f3a"
            ],
            [
             0.8888888888888888,
             "#fdca26"
            ],
            [
             1,
             "#f0f921"
            ]
           ]
          },
          "colorway": [
           "#636efa",
           "#EF553B",
           "#00cc96",
           "#ab63fa",
           "#FFA15A",
           "#19d3f3",
           "#FF6692",
           "#B6E880",
           "#FF97FF",
           "#FECB52"
          ],
          "font": {
           "color": "#2a3f5f"
          },
          "geo": {
           "bgcolor": "white",
           "lakecolor": "white",
           "landcolor": "white",
           "showlakes": true,
           "showland": true,
           "subunitcolor": "#C8D4E3"
          },
          "hoverlabel": {
           "align": "left"
          },
          "hovermode": "closest",
          "mapbox": {
           "style": "light"
          },
          "paper_bgcolor": "white",
          "plot_bgcolor": "white",
          "polar": {
           "angularaxis": {
            "gridcolor": "#EBF0F8",
            "linecolor": "#EBF0F8",
            "ticks": ""
           },
           "bgcolor": "white",
           "radialaxis": {
            "gridcolor": "#EBF0F8",
            "linecolor": "#EBF0F8",
            "ticks": ""
           }
          },
          "scene": {
           "xaxis": {
            "backgroundcolor": "white",
            "gridcolor": "#DFE8F3",
            "gridwidth": 2,
            "linecolor": "#EBF0F8",
            "showbackground": true,
            "ticks": "",
            "zerolinecolor": "#EBF0F8"
           },
           "yaxis": {
            "backgroundcolor": "white",
            "gridcolor": "#DFE8F3",
            "gridwidth": 2,
            "linecolor": "#EBF0F8",
            "showbackground": true,
            "ticks": "",
            "zerolinecolor": "#EBF0F8"
           },
           "zaxis": {
            "backgroundcolor": "white",
            "gridcolor": "#DFE8F3",
            "gridwidth": 2,
            "linecolor": "#EBF0F8",
            "showbackground": true,
            "ticks": "",
            "zerolinecolor": "#EBF0F8"
           }
          },
          "shapedefaults": {
           "line": {
            "color": "#2a3f5f"
           }
          },
          "ternary": {
           "aaxis": {
            "gridcolor": "#DFE8F3",
            "linecolor": "#A2B1C6",
            "ticks": ""
           },
           "baxis": {
            "gridcolor": "#DFE8F3",
            "linecolor": "#A2B1C6",
            "ticks": ""
           },
           "bgcolor": "white",
           "caxis": {
            "gridcolor": "#DFE8F3",
            "linecolor": "#A2B1C6",
            "ticks": ""
           }
          },
          "title": {
           "x": 0.05
          },
          "xaxis": {
           "automargin": true,
           "gridcolor": "#EBF0F8",
           "linecolor": "#EBF0F8",
           "ticks": "",
           "title": {
            "standoff": 15
           },
           "zerolinecolor": "#EBF0F8",
           "zerolinewidth": 2
          },
          "yaxis": {
           "automargin": true,
           "gridcolor": "#EBF0F8",
           "linecolor": "#EBF0F8",
           "ticks": "",
           "title": {
            "standoff": 15
           },
           "zerolinecolor": "#EBF0F8",
           "zerolinewidth": 2
          }
         }
        },
        "width": 1600,
        "xaxis": {
         "anchor": "y",
         "domain": [
          0,
          0.45
         ],
         "title": {
          "text": "Observed values"
         }
        },
        "xaxis2": {
         "anchor": "y2",
         "domain": [
          0.55,
          1
         ],
         "title": {
          "text": "Observed values"
         }
        },
        "yaxis": {
         "anchor": "x",
         "domain": [
          0,
          1
         ],
         "title": {
          "text": "Predicted values"
         }
        },
        "yaxis2": {
         "anchor": "x2",
         "domain": [
          0,
          1
         ],
         "title": {
          "text": "Predicted values"
         }
        }
       }
      }
     },
     "metadata": {},
     "output_type": "display_data"
    },
    {
     "data": {
      "application/vnd.plotly.v1+json": {
       "config": {
        "plotlyServerURL": "https://plot.ly"
       },
       "data": [
        {
         "legendgroup": "train_0",
         "mode": "markers",
         "name": "Run id in Train 0",
         "type": "scatter",
         "x": [
          0,
          1.69345805704731,
          5.897022174496003,
          14.760391525541584,
          29.38859302970828,
          47.82798059583144,
          66.28877804594478,
          81.69288657721607,
          92.67703047605649,
          99.51314361635391,
          103.3982341018014,
          105.5137608534153,
          106.64771326447794,
          107.25237808915796,
          107.57398917080884
         ],
         "xaxis": "x",
         "y": [
          0,
          2.045190771275896,
          5.972002676916858,
          15.193646682314728,
          29.783732030114614,
          51.02355951795935,
          76.99766855079571,
          107.64007578761156,
          134.1791246452797,
          159.68942987039657,
          187.37702551990895,
          207.16884986786195,
          230.0639627165229,
          254.27128265734618,
          279.606180477528
         ],
         "yaxis": "y"
        },
        {
         "legendgroup": "train_1",
         "mode": "markers",
         "name": "Run id in Train 1",
         "type": "scatter",
         "x": [
          0,
          1.2591174351446812,
          4.363787969322462,
          11.105807850200534,
          23.08674531626167,
          39.77379364032567,
          58.33909249352142,
          75.64227711825473,
          89.5941838255521,
          99.3928495418756,
          105.4740473218795,
          108.9699250499719,
          110.918427122675,
          111.99516193361828,
          112.58794736476844
         ],
         "xaxis": "x",
         "y": [
          0,
          2.359548951336409,
          6.419406592556261,
          14.78502163491454,
          29.601047904592036,
          50.3340753944049,
          75.5528980315881,
          105.58524551735825,
          131.34601314079677,
          156.25617691742957,
          183.16339497196114,
          202.07842439905696,
          224.30880401350282,
          247.76938139338571,
          272.35698479330637
         ],
         "yaxis": "y"
        },
        {
         "legendgroup": "train_2",
         "mode": "markers",
         "name": "Run id in Train 2",
         "type": "scatter",
         "x": [
          0,
          1.866469333291912,
          7.039248680252867,
          18.704626424131312,
          38.35496070782931,
          63.1173995632141,
          87.91110486552529,
          108.64700768237822,
          123.35156668084312,
          132.36601726278963,
          137.42994602457176,
          140.17843995403726,
          141.65402443925203,
          142.44293058550818,
          142.86381460240204
         ],
         "xaxis": "x",
         "y": [
          0,
          3.1379053339624794,
          8.090994359571136,
          18.32716073439079,
          35.73015777745324,
          60.84635218732381,
          91.3406095252413,
          127.68933822522312,
          158.9033855622262,
          188.89906156297224,
          221.49669330601122,
          244.8271570677819,
          271.7492245253387,
          300.22384407637145,
          329.93509596437485
         ],
         "yaxis": "y"
        },
        {
         "legendgroup": "train_3",
         "mode": "markers",
         "name": "Run id in Train 3",
         "type": "scatter",
         "x": [
          0,
          2.1935506074183557,
          7.801298168106945,
          18.766174317262404,
          33.69689018464,
          48.34900066558672,
          59.74842585087358,
          67.40216019026191,
          72.1177330616482,
          74.89252493334618,
          76.48915967702284,
          77.39715527981402,
          77.91013594557718,
          78.1989052220856,
          78.36113418904017
         ],
         "xaxis": "x",
         "y": [
          0,
          4.808171027311759,
          12.495719120430516,
          28.411399799514164,
          54.4088837494789,
          91.69387351128557,
          140.6849335588003,
          196.28817455047007,
          244.96516611503637,
          290.6178600604674,
          341.9064297001412,
          379.7438557907744,
          421.7285522001866,
          466.11889050759737,
          512.6990280928505
         ],
         "yaxis": "y"
        },
        {
         "legendgroup": "train_4",
         "mode": "markers",
         "name": "Run id in Train 4",
         "type": "scatter",
         "x": [
          0,
          2.271716977830502,
          7.854473161355809,
          18.971708052051884,
          35.82484903801885,
          55.484937664768005,
          74.18856957963564,
          89.37381330601042,
          100.02434710219111,
          106.56762036581328,
          110.35013494198267,
          112.52991365924176,
          113.78809838136668,
          114.51558106094842,
          114.936735596877
         ],
         "xaxis": "x",
         "y": [
          0,
          4.513872087000747,
          10.951153942536605,
          24.417403168915,
          46.71478330696078,
          79.3708336216652,
          119.94368637480812,
          167.42028613870974,
          208.5633469521662,
          247.15104790787973,
          290.5256272771279,
          322.5380388501817,
          357.987988403422,
          395.395944737802,
          434.5309935501377
         ],
         "yaxis": "y"
        },
        {
         "legendgroup": "train_5",
         "mode": "markers",
         "name": "Run id in Train 5",
         "type": "scatter",
         "x": [
          0,
          2.1740074735550605,
          7.182608258476706,
          16.82510229378721,
          31.34268820461444,
          48.28624408120008,
          64.28995969884735,
          77.04776277507078,
          85.78842522037073,
          91.04929514777176,
          94.00474366506025,
          95.64522970427242,
          96.55287676695592,
          97.054389027165,
          97.331315646952
         ],
         "xaxis": "x",
         "y": [
          0,
          4.27436680908081,
          10.937729269557687,
          24.80672933253177,
          47.34511153038682,
          80.27955601737293,
          122.00965331754962,
          170.29690496675028,
          212.32933535722387,
          251.745996467199,
          296.0297279429532,
          328.72159685150154,
          364.94672925742196,
          403.212466605167,
          443.2697122253772
         ],
         "yaxis": "y"
        },
        {
         "legendgroup": "train_6",
         "mode": "markers",
         "name": "Run id in Train 6",
         "type": "scatter",
         "x": [
          0,
          1.916223707605735,
          6.481636373842608,
          15.742076047399967,
          30.7303924619266,
          49.56309399414012,
          68.54508580701972,
          84.64064208273174,
          96.4336875563552,
          104.07036255435077,
          108.63197524096528,
          111.25534115276618,
          112.74131598613712,
          113.577859978804,
          114.04725326605498
         ],
         "xaxis": "x",
         "y": [
          0,
          4.949179240462333,
          12.821745422110457,
          29.73831669177113,
          56.558109104777685,
          95.65782939565993,
          145.9028892711193,
          203.62294248242236,
          253.96047057620277,
          301.73615025463005,
          354.36428188863476,
          392.75360083799757,
          436.14583689899337,
          481.93779100731257,
          529.9053148810418
         ],
         "yaxis": "y"
        },
        {
         "legendgroup": "train_7",
         "mode": "markers",
         "name": "Run id in Train 7",
         "type": "scatter",
         "x": [
          0,
          2.243958200027949,
          8.523091057701478,
          22.02505899374238,
          42.56465569657718,
          65.54531000542516,
          86.36115270011925,
          102.69136210007946,
          114.01852655478228,
          120.90042892063524,
          124.57629681718988,
          126.40832354825189,
          127.3152667728905,
          127.7640116394374,
          127.98600783384062
         ],
         "xaxis": "x",
         "y": [
          0,
          3.803181736608095,
          10.522856938411765,
          24.67515158211881,
          47.0385686912251,
          79.67419391977485,
          121.9865160528934,
          170.2720974119567,
          212.50023181498952,
          252.54989163985934,
          296.3109503959274,
          329.1899709159931,
          365.59081186309965,
          404.06310533273694,
          444.38327651058216
         ],
         "yaxis": "y"
        },
        {
         "legendgroup": "train_8",
         "mode": "markers",
         "name": "Run id in Train 8",
         "type": "scatter",
         "x": [
          0,
          1.6793980299494815,
          5.825279816564676,
          14.27356176357438,
          27.297157467115877,
          42.40664958688576,
          56.43799757399171,
          67.52538375231104,
          75.23050405709591,
          80.0340985431344,
          82.87566487240495,
          84.54898020684811,
          85.5339459906819,
          86.11387571389295,
          86.4554277707369
         ],
         "xaxis": "x",
         "y": [
          0,
          3.640523830369988,
          10.584501979713757,
          24.255252067036253,
          46.52908368641862,
          78.57055969458102,
          121.09116084188362,
          169.01617595319527,
          211.0797480085819,
          250.5823090800818,
          294.89331021283334,
          327.6221042205972,
          363.9403188234918,
          402.33601461383535,
          442.6448586927959
         ],
         "yaxis": "y"
        },
        {
         "legendgroup": "train_9",
         "mode": "markers",
         "name": "Run id in Train 9",
         "type": "scatter",
         "x": [
          0,
          1.936573425915886,
          6.829628620347621,
          17.08542047827603,
          33.68920844131243,
          54.31801760252742,
          74.94360934324902,
          92.35928951478154,
          105.04138844957716,
          113.1173391723332,
          117.83371942641146,
          120.5372260817002,
          122.08223916974812,
          122.96423137950454,
          123.46750725239096
         ],
         "xaxis": "x",
         "y": [
          0,
          4.291587272535203,
          10.842873879011165,
          24.58984205871335,
          46.881074021524455,
          79.38824732809206,
          120.65069115255208,
          168.4111703749649,
          209.95069831525905,
          248.93398177421398,
          292.6966414242769,
          325.01753978129614,
          360.8241783098825,
          398.63476975725956,
          438.2155427593568
         ],
         "yaxis": "y"
        },
        {
         "legendgroup": "test_0",
         "mode": "markers",
         "name": "Run id in Test 0",
         "type": "scatter",
         "x": [
          0,
          2.1824297539180297,
          8.166083041116508,
          21.321369967573112,
          42.85414584728475,
          69.79089068242651,
          97.66797157992208,
          123.28266885228646,
          145.1452661433552,
          162.939326203935,
          176.9454542072082,
          187.66054365335236,
          195.7213811855037,
          201.77002614645343,
          206.29555670809924
         ],
         "xaxis": "x2",
         "y": [
          0,
          2.780365785144726,
          8.420891573774323,
          19.52372182801246,
          37.31357167307619,
          63.82503257170631,
          96.83419026644283,
          135.30214033231144,
          168.78320929540152,
          200.6647051483242,
          235.59973343574663,
          261.07768224353435,
          289.9488905133738,
          320.3294943415592,
          352.12967485126273
         ],
         "yaxis": "y2"
        },
        {
         "legendgroup": "test_1",
         "mode": "markers",
         "name": "Run id in Test 1",
         "type": "scatter",
         "x": [
          0,
          1.5991499982104411,
          5.445699389353575,
          13.581432771597257,
          27.689681352073706,
          47.21496460203044,
          69.54534066005401,
          91.89286610534306,
          112.38249670914288,
          130.1236250206878,
          145.0020761195221,
          157.1975521219229,
          167.00514815735104,
          174.77073081852015,
          180.83847709015123
         ],
         "xaxis": "x2",
         "y": [
          0,
          2.962738675307982,
          8.711203454737698,
          19.812565357595783,
          37.929165228162326,
          64.37045216901069,
          98.6560071634864,
          137.7535978883666,
          171.98607804620227,
          204.14348885163238,
          240.1996514423011,
          266.85679073758763,
          296.41018171855285,
          327.63980633782836,
          360.37003107603726
         ],
         "yaxis": "y2"
        },
        {
         "legendgroup": "test_2",
         "mode": "markers",
         "name": "Run id in Test 2",
         "type": "scatter",
         "x": [
          0,
          1.5581891741849512,
          5.606126893705409,
          14.498929324203344,
          29.82798216505632,
          50.41499972160747,
          73.19671246341571,
          95.3587673773708,
          115.20028515974414,
          131.99273880744107,
          145.60559285891645,
          156.2873977451865,
          164.63072407738295,
          171.14171656847114,
          176.2095735657846
         ],
         "xaxis": "x2",
         "y": [
          0,
          2.1202171723020498,
          7.334135571731632,
          17.163616853357517,
          32.8316764982422,
          56.361604791001376,
          85.9266047782357,
          120.04421939396583,
          149.91659154593154,
          178.33706408811443,
          209.1793731811613,
          232.48670343047704,
          258.25273463037735,
          285.431575979845,
          313.88711182295066
         ],
         "yaxis": "y2"
        },
        {
         "legendgroup": "test_3",
         "mode": "markers",
         "name": "Run id in Test 3",
         "type": "scatter",
         "x": [
          0,
          1.7487860554820465,
          6.311671256918155,
          16.382654836909964,
          33.66660265814613,
          56.58603621625323,
          81.56847238120447,
          105.47928252536023,
          126.51381224589684,
          144.02257896315942,
          158.0615217586803,
          168.90191538273123,
          176.33605979156945,
          181.14518553707703,
          184.24826675684804
         ],
         "xaxis": "x2",
         "y": [
          0,
          2.770027916485497,
          8.98298965252425,
          20.457330942185006,
          39.2699129492545,
          66.73397853847064,
          102.7535680736756,
          143.46744311413005,
          179.24003778294616,
          213.14668640175984,
          250.29677731882845,
          278.1682861167402,
          309.0435081816842,
          341.67960691805604,
          375.9125069358065
         ],
         "yaxis": "y2"
        },
        {
         "legendgroup": "test_4",
         "mode": "markers",
         "name": "Run id in Test 4",
         "type": "scatter",
         "x": [
          0,
          2.40865700404835,
          9.007605339128604,
          23.0960309095346,
          44.650055160271,
          69.37126336604697,
          92.90356906065072,
          112.89704265210062,
          128.56760159133748,
          139.92880141496798,
          147.5636069024654,
          152.73889571644432,
          156.32842633487192,
          158.8502092384601,
          160.63502139951692
         ],
         "xaxis": "x2",
         "y": [
          0,
          3.1115791350697752,
          8.71927945297679,
          20.401286936024658,
          39.1333418508732,
          67.04798807784759,
          101.71919207239027,
          142.01082348494884,
          177.18632388330124,
          210.61296107677572,
          246.86717530145958,
          274.2607472094332,
          304.5490243639954,
          336.52679386308876,
          369.9892972856402
         ],
         "yaxis": "y2"
        },
        {
         "legendgroup": "test_5",
         "mode": "markers",
         "name": "Run id in Test 5",
         "type": "scatter",
         "x": [
          0,
          1.2545144440534064,
          4.985417532879248,
          14.260275885034812,
          31.234881024706453,
          53.49583974096605,
          76.37935894351298,
          96.68647952280352,
          113.11097089305292,
          125.47091067391106,
          134.08437572025375,
          139.54476133203477,
          142.9131133751618,
          145.0343385158262,
          146.38776809777494
         ],
         "xaxis": "x2",
         "y": [
          0,
          4.014700175492859,
          11.226688738021048,
          26.5195521129045,
          50.595686124555606,
          85.61043126562416,
          131.464534945451,
          183.468259402508,
          229.0298776263862,
          272.2191441774503,
          319.9136692001576,
          354.8010765722491,
          394.1180487578476,
          435.6291494041753,
          479.16988167564136
         ],
         "yaxis": "y2"
        },
        {
         "legendgroup": "test_6",
         "mode": "markers",
         "name": "Run id in Test 6",
         "type": "scatter",
         "x": [
          0,
          2.4676429401569653,
          8.847402570973394,
          21.92022427914256,
          42.04251997927221,
          66.3806237114453,
          91.4711752566404,
          114.89076395797905,
          135.40670329147326,
          152.63994276475762,
          166.70916056328812,
          177.96967910428168,
          186.83664250707432,
          193.7065213911428,
          198.882259098652
         ],
         "xaxis": "x2",
         "y": [
          0,
          3.6256052544649036,
          11.039438293490598,
          25.424825061278042,
          48.806806997482845,
          82.31516751687701,
          127.36835480447523,
          177.85184435715055,
          222.1981836027776,
          264.1664572276483,
          310.34040024445665,
          344.86770669521843,
          383.1490014536093,
          423.6257337712033,
          466.14646313218134
         ],
         "yaxis": "y2"
        },
        {
         "legendgroup": "test_7",
         "mode": "markers",
         "name": "Run id in Test 7",
         "type": "scatter",
         "x": [
          0,
          2.3615459556658216,
          8.310160827313466,
          20.67139833266929,
          40.36585105311375,
          64.7292302489265,
          89.83125897208262,
          112.84560274344835,
          132.43594927073886,
          148.2954069606308,
          160.66288615971445,
          170.12038236611113,
          177.31264510895502,
          182.75317820372044,
          186.84944474519827
         ],
         "xaxis": "x2",
         "y": [
          0,
          2.195646854686628,
          8.205412262224153,
          18.65605538089307,
          35.873452972389494,
          61.35451498027742,
          94.35367278395852,
          131.7932646195821,
          164.719767784206,
          195.94063454158436,
          230.09949072770743,
          255.76529360673402,
          284.1874525150822,
          314.22969525947866,
          345.71883733689543
         ],
         "yaxis": "y2"
        },
        {
         "legendgroup": "test_8",
         "mode": "markers",
         "name": "Run id in Test 8",
         "type": "scatter",
         "x": [
          0,
          1.4553196405346558,
          5.745846264970134,
          16.172136437495485,
          34.67671064022556,
          58.57066013499378,
          83.3065087273045,
          105.72898824643453,
          124.44509749634368,
          139.24169506314482,
          150.50390826076975,
          158.88275265089592,
          165.05193713369445,
          169.55607062164327,
          172.82287801702037
         ],
         "xaxis": "x2",
         "y": [
          0,
          3.640307893105257,
          11.253882008566235,
          26.022238450019454,
          49.96142567685556,
          84.30473207981488,
          130.4698027080749,
          182.1376242566819,
          227.56257479587993,
          270.5589566099793,
          317.8599355286636,
          353.22789335697826,
          392.4444606668142,
          433.908384579721,
          477.46792084114907
         ],
         "yaxis": "y2"
        },
        {
         "legendgroup": "test_9",
         "mode": "markers",
         "name": "Run id in Test 9",
         "type": "scatter",
         "x": [
          0,
          1.8253206890696088,
          6.829555224571791,
          18.279574448197184,
          38.361024117816335,
          65.14647238107932,
          94.2447821690744,
          121.97130459806723,
          146.32540899281685,
          166.62762006243048,
          182.94611833504848,
          195.67525930047435,
          205.46490282737048,
          212.9690451781578,
          218.69332923153357
         ],
         "xaxis": "x2",
         "y": [
          0,
          2.192491053420668,
          5.104644336438713,
          13.824571737028467,
          27.67610491325329,
          47.23196511260702,
          70.97611641165663,
          99.26249699012155,
          123.52380197756283,
          146.99050524564012,
          172.35644460848584,
          190.1207737671902,
          211.07205013159395,
          233.17392575821057,
          256.33935558440766
         ],
         "yaxis": "y2"
        }
       ],
       "layout": {
        "annotations": [
         {
          "font": {
           "size": 16
          },
          "showarrow": false,
          "text": "Train Set - X:Lac <br> R^2 = -15.551 <br> Abs RMSE = 146.016 <br> Rel RMSE = 3.266",
          "x": 0.225,
          "xanchor": "center",
          "xref": "paper",
          "y": 1,
          "yanchor": "bottom",
          "yref": "paper"
         },
         {
          "font": {
           "size": 16
          },
          "showarrow": false,
          "text": "Test Set - X:Lac <br> R^2 = -1.402 <br> Abs RMSE = 90.1 <br> Rel RMSE = 1.301",
          "x": 0.775,
          "xanchor": "center",
          "xref": "paper",
          "y": 1,
          "yanchor": "bottom",
          "yref": "paper"
         }
        ],
        "shapes": [
         {
          "layer": "above",
          "line": {
           "dash": "dash"
          },
          "type": "line",
          "x0": 0,
          "x1": 529.9053148810418,
          "y0": 0,
          "y1": 529.9053148810418
         },
         {
          "layer": "above",
          "line": {
           "dash": "dash"
          },
          "type": "line",
          "x0": 0,
          "x1": 479.16988167564136,
          "xref": "x2",
          "y0": 0,
          "y1": 479.16988167564136,
          "yref": "y2"
         }
        ],
        "template": {
         "data": {
          "bar": [
           {
            "error_x": {
             "color": "#2a3f5f"
            },
            "error_y": {
             "color": "#2a3f5f"
            },
            "marker": {
             "line": {
              "color": "white",
              "width": 0.5
             },
             "pattern": {
              "fillmode": "overlay",
              "size": 10,
              "solidity": 0.2
             }
            },
            "type": "bar"
           }
          ],
          "barpolar": [
           {
            "marker": {
             "line": {
              "color": "white",
              "width": 0.5
             },
             "pattern": {
              "fillmode": "overlay",
              "size": 10,
              "solidity": 0.2
             }
            },
            "type": "barpolar"
           }
          ],
          "carpet": [
           {
            "aaxis": {
             "endlinecolor": "#2a3f5f",
             "gridcolor": "#C8D4E3",
             "linecolor": "#C8D4E3",
             "minorgridcolor": "#C8D4E3",
             "startlinecolor": "#2a3f5f"
            },
            "baxis": {
             "endlinecolor": "#2a3f5f",
             "gridcolor": "#C8D4E3",
             "linecolor": "#C8D4E3",
             "minorgridcolor": "#C8D4E3",
             "startlinecolor": "#2a3f5f"
            },
            "type": "carpet"
           }
          ],
          "choropleth": [
           {
            "colorbar": {
             "outlinewidth": 0,
             "ticks": ""
            },
            "type": "choropleth"
           }
          ],
          "contour": [
           {
            "colorbar": {
             "outlinewidth": 0,
             "ticks": ""
            },
            "colorscale": [
             [
              0,
              "#0d0887"
             ],
             [
              0.1111111111111111,
              "#46039f"
             ],
             [
              0.2222222222222222,
              "#7201a8"
             ],
             [
              0.3333333333333333,
              "#9c179e"
             ],
             [
              0.4444444444444444,
              "#bd3786"
             ],
             [
              0.5555555555555556,
              "#d8576b"
             ],
             [
              0.6666666666666666,
              "#ed7953"
             ],
             [
              0.7777777777777778,
              "#fb9f3a"
             ],
             [
              0.8888888888888888,
              "#fdca26"
             ],
             [
              1,
              "#f0f921"
             ]
            ],
            "type": "contour"
           }
          ],
          "contourcarpet": [
           {
            "colorbar": {
             "outlinewidth": 0,
             "ticks": ""
            },
            "type": "contourcarpet"
           }
          ],
          "heatmap": [
           {
            "colorbar": {
             "outlinewidth": 0,
             "ticks": ""
            },
            "colorscale": [
             [
              0,
              "#0d0887"
             ],
             [
              0.1111111111111111,
              "#46039f"
             ],
             [
              0.2222222222222222,
              "#7201a8"
             ],
             [
              0.3333333333333333,
              "#9c179e"
             ],
             [
              0.4444444444444444,
              "#bd3786"
             ],
             [
              0.5555555555555556,
              "#d8576b"
             ],
             [
              0.6666666666666666,
              "#ed7953"
             ],
             [
              0.7777777777777778,
              "#fb9f3a"
             ],
             [
              0.8888888888888888,
              "#fdca26"
             ],
             [
              1,
              "#f0f921"
             ]
            ],
            "type": "heatmap"
           }
          ],
          "heatmapgl": [
           {
            "colorbar": {
             "outlinewidth": 0,
             "ticks": ""
            },
            "colorscale": [
             [
              0,
              "#0d0887"
             ],
             [
              0.1111111111111111,
              "#46039f"
             ],
             [
              0.2222222222222222,
              "#7201a8"
             ],
             [
              0.3333333333333333,
              "#9c179e"
             ],
             [
              0.4444444444444444,
              "#bd3786"
             ],
             [
              0.5555555555555556,
              "#d8576b"
             ],
             [
              0.6666666666666666,
              "#ed7953"
             ],
             [
              0.7777777777777778,
              "#fb9f3a"
             ],
             [
              0.8888888888888888,
              "#fdca26"
             ],
             [
              1,
              "#f0f921"
             ]
            ],
            "type": "heatmapgl"
           }
          ],
          "histogram": [
           {
            "marker": {
             "pattern": {
              "fillmode": "overlay",
              "size": 10,
              "solidity": 0.2
             }
            },
            "type": "histogram"
           }
          ],
          "histogram2d": [
           {
            "colorbar": {
             "outlinewidth": 0,
             "ticks": ""
            },
            "colorscale": [
             [
              0,
              "#0d0887"
             ],
             [
              0.1111111111111111,
              "#46039f"
             ],
             [
              0.2222222222222222,
              "#7201a8"
             ],
             [
              0.3333333333333333,
              "#9c179e"
             ],
             [
              0.4444444444444444,
              "#bd3786"
             ],
             [
              0.5555555555555556,
              "#d8576b"
             ],
             [
              0.6666666666666666,
              "#ed7953"
             ],
             [
              0.7777777777777778,
              "#fb9f3a"
             ],
             [
              0.8888888888888888,
              "#fdca26"
             ],
             [
              1,
              "#f0f921"
             ]
            ],
            "type": "histogram2d"
           }
          ],
          "histogram2dcontour": [
           {
            "colorbar": {
             "outlinewidth": 0,
             "ticks": ""
            },
            "colorscale": [
             [
              0,
              "#0d0887"
             ],
             [
              0.1111111111111111,
              "#46039f"
             ],
             [
              0.2222222222222222,
              "#7201a8"
             ],
             [
              0.3333333333333333,
              "#9c179e"
             ],
             [
              0.4444444444444444,
              "#bd3786"
             ],
             [
              0.5555555555555556,
              "#d8576b"
             ],
             [
              0.6666666666666666,
              "#ed7953"
             ],
             [
              0.7777777777777778,
              "#fb9f3a"
             ],
             [
              0.8888888888888888,
              "#fdca26"
             ],
             [
              1,
              "#f0f921"
             ]
            ],
            "type": "histogram2dcontour"
           }
          ],
          "mesh3d": [
           {
            "colorbar": {
             "outlinewidth": 0,
             "ticks": ""
            },
            "type": "mesh3d"
           }
          ],
          "parcoords": [
           {
            "line": {
             "colorbar": {
              "outlinewidth": 0,
              "ticks": ""
             }
            },
            "type": "parcoords"
           }
          ],
          "pie": [
           {
            "automargin": true,
            "type": "pie"
           }
          ],
          "scatter": [
           {
            "fillpattern": {
             "fillmode": "overlay",
             "size": 10,
             "solidity": 0.2
            },
            "type": "scatter"
           }
          ],
          "scatter3d": [
           {
            "line": {
             "colorbar": {
              "outlinewidth": 0,
              "ticks": ""
             }
            },
            "marker": {
             "colorbar": {
              "outlinewidth": 0,
              "ticks": ""
             }
            },
            "type": "scatter3d"
           }
          ],
          "scattercarpet": [
           {
            "marker": {
             "colorbar": {
              "outlinewidth": 0,
              "ticks": ""
             }
            },
            "type": "scattercarpet"
           }
          ],
          "scattergeo": [
           {
            "marker": {
             "colorbar": {
              "outlinewidth": 0,
              "ticks": ""
             }
            },
            "type": "scattergeo"
           }
          ],
          "scattergl": [
           {
            "marker": {
             "colorbar": {
              "outlinewidth": 0,
              "ticks": ""
             }
            },
            "type": "scattergl"
           }
          ],
          "scattermapbox": [
           {
            "marker": {
             "colorbar": {
              "outlinewidth": 0,
              "ticks": ""
             }
            },
            "type": "scattermapbox"
           }
          ],
          "scatterpolar": [
           {
            "marker": {
             "colorbar": {
              "outlinewidth": 0,
              "ticks": ""
             }
            },
            "type": "scatterpolar"
           }
          ],
          "scatterpolargl": [
           {
            "marker": {
             "colorbar": {
              "outlinewidth": 0,
              "ticks": ""
             }
            },
            "type": "scatterpolargl"
           }
          ],
          "scatterternary": [
           {
            "marker": {
             "colorbar": {
              "outlinewidth": 0,
              "ticks": ""
             }
            },
            "type": "scatterternary"
           }
          ],
          "surface": [
           {
            "colorbar": {
             "outlinewidth": 0,
             "ticks": ""
            },
            "colorscale": [
             [
              0,
              "#0d0887"
             ],
             [
              0.1111111111111111,
              "#46039f"
             ],
             [
              0.2222222222222222,
              "#7201a8"
             ],
             [
              0.3333333333333333,
              "#9c179e"
             ],
             [
              0.4444444444444444,
              "#bd3786"
             ],
             [
              0.5555555555555556,
              "#d8576b"
             ],
             [
              0.6666666666666666,
              "#ed7953"
             ],
             [
              0.7777777777777778,
              "#fb9f3a"
             ],
             [
              0.8888888888888888,
              "#fdca26"
             ],
             [
              1,
              "#f0f921"
             ]
            ],
            "type": "surface"
           }
          ],
          "table": [
           {
            "cells": {
             "fill": {
              "color": "#EBF0F8"
             },
             "line": {
              "color": "white"
             }
            },
            "header": {
             "fill": {
              "color": "#C8D4E3"
             },
             "line": {
              "color": "white"
             }
            },
            "type": "table"
           }
          ]
         },
         "layout": {
          "annotationdefaults": {
           "arrowcolor": "#2a3f5f",
           "arrowhead": 0,
           "arrowwidth": 1
          },
          "autotypenumbers": "strict",
          "coloraxis": {
           "colorbar": {
            "outlinewidth": 0,
            "ticks": ""
           }
          },
          "colorscale": {
           "diverging": [
            [
             0,
             "#8e0152"
            ],
            [
             0.1,
             "#c51b7d"
            ],
            [
             0.2,
             "#de77ae"
            ],
            [
             0.3,
             "#f1b6da"
            ],
            [
             0.4,
             "#fde0ef"
            ],
            [
             0.5,
             "#f7f7f7"
            ],
            [
             0.6,
             "#e6f5d0"
            ],
            [
             0.7,
             "#b8e186"
            ],
            [
             0.8,
             "#7fbc41"
            ],
            [
             0.9,
             "#4d9221"
            ],
            [
             1,
             "#276419"
            ]
           ],
           "sequential": [
            [
             0,
             "#0d0887"
            ],
            [
             0.1111111111111111,
             "#46039f"
            ],
            [
             0.2222222222222222,
             "#7201a8"
            ],
            [
             0.3333333333333333,
             "#9c179e"
            ],
            [
             0.4444444444444444,
             "#bd3786"
            ],
            [
             0.5555555555555556,
             "#d8576b"
            ],
            [
             0.6666666666666666,
             "#ed7953"
            ],
            [
             0.7777777777777778,
             "#fb9f3a"
            ],
            [
             0.8888888888888888,
             "#fdca26"
            ],
            [
             1,
             "#f0f921"
            ]
           ],
           "sequentialminus": [
            [
             0,
             "#0d0887"
            ],
            [
             0.1111111111111111,
             "#46039f"
            ],
            [
             0.2222222222222222,
             "#7201a8"
            ],
            [
             0.3333333333333333,
             "#9c179e"
            ],
            [
             0.4444444444444444,
             "#bd3786"
            ],
            [
             0.5555555555555556,
             "#d8576b"
            ],
            [
             0.6666666666666666,
             "#ed7953"
            ],
            [
             0.7777777777777778,
             "#fb9f3a"
            ],
            [
             0.8888888888888888,
             "#fdca26"
            ],
            [
             1,
             "#f0f921"
            ]
           ]
          },
          "colorway": [
           "#636efa",
           "#EF553B",
           "#00cc96",
           "#ab63fa",
           "#FFA15A",
           "#19d3f3",
           "#FF6692",
           "#B6E880",
           "#FF97FF",
           "#FECB52"
          ],
          "font": {
           "color": "#2a3f5f"
          },
          "geo": {
           "bgcolor": "white",
           "lakecolor": "white",
           "landcolor": "white",
           "showlakes": true,
           "showland": true,
           "subunitcolor": "#C8D4E3"
          },
          "hoverlabel": {
           "align": "left"
          },
          "hovermode": "closest",
          "mapbox": {
           "style": "light"
          },
          "paper_bgcolor": "white",
          "plot_bgcolor": "white",
          "polar": {
           "angularaxis": {
            "gridcolor": "#EBF0F8",
            "linecolor": "#EBF0F8",
            "ticks": ""
           },
           "bgcolor": "white",
           "radialaxis": {
            "gridcolor": "#EBF0F8",
            "linecolor": "#EBF0F8",
            "ticks": ""
           }
          },
          "scene": {
           "xaxis": {
            "backgroundcolor": "white",
            "gridcolor": "#DFE8F3",
            "gridwidth": 2,
            "linecolor": "#EBF0F8",
            "showbackground": true,
            "ticks": "",
            "zerolinecolor": "#EBF0F8"
           },
           "yaxis": {
            "backgroundcolor": "white",
            "gridcolor": "#DFE8F3",
            "gridwidth": 2,
            "linecolor": "#EBF0F8",
            "showbackground": true,
            "ticks": "",
            "zerolinecolor": "#EBF0F8"
           },
           "zaxis": {
            "backgroundcolor": "white",
            "gridcolor": "#DFE8F3",
            "gridwidth": 2,
            "linecolor": "#EBF0F8",
            "showbackground": true,
            "ticks": "",
            "zerolinecolor": "#EBF0F8"
           }
          },
          "shapedefaults": {
           "line": {
            "color": "#2a3f5f"
           }
          },
          "ternary": {
           "aaxis": {
            "gridcolor": "#DFE8F3",
            "linecolor": "#A2B1C6",
            "ticks": ""
           },
           "baxis": {
            "gridcolor": "#DFE8F3",
            "linecolor": "#A2B1C6",
            "ticks": ""
           },
           "bgcolor": "white",
           "caxis": {
            "gridcolor": "#DFE8F3",
            "linecolor": "#A2B1C6",
            "ticks": ""
           }
          },
          "title": {
           "x": 0.05
          },
          "xaxis": {
           "automargin": true,
           "gridcolor": "#EBF0F8",
           "linecolor": "#EBF0F8",
           "ticks": "",
           "title": {
            "standoff": 15
           },
           "zerolinecolor": "#EBF0F8",
           "zerolinewidth": 2
          },
          "yaxis": {
           "automargin": true,
           "gridcolor": "#EBF0F8",
           "linecolor": "#EBF0F8",
           "ticks": "",
           "title": {
            "standoff": 15
           },
           "zerolinecolor": "#EBF0F8",
           "zerolinewidth": 2
          }
         }
        },
        "width": 1600,
        "xaxis": {
         "anchor": "y",
         "domain": [
          0,
          0.45
         ],
         "title": {
          "text": "Observed values"
         }
        },
        "xaxis2": {
         "anchor": "y2",
         "domain": [
          0.55,
          1
         ],
         "title": {
          "text": "Observed values"
         }
        },
        "yaxis": {
         "anchor": "x",
         "domain": [
          0,
          1
         ],
         "title": {
          "text": "Predicted values"
         }
        },
        "yaxis2": {
         "anchor": "x2",
         "domain": [
          0,
          1
         ],
         "title": {
          "text": "Predicted values"
         }
        }
       }
      }
     },
     "metadata": {},
     "output_type": "display_data"
    },
    {
     "data": {
      "application/vnd.plotly.v1+json": {
       "config": {
        "plotlyServerURL": "https://plot.ly"
       },
       "data": [
        {
         "legendgroup": "train_0",
         "mode": "markers",
         "name": "Run id in Train 0",
         "type": "scatter",
         "x": [
          0,
          0.092797611632703,
          1.3613322223015707,
          11.344886505251033,
          52.28927236583092,
          140.5961579864852,
          259.3251210897019,
          375.5879131278478,
          466.0614611226992,
          525.1008308953583,
          559.5121702665116,
          578.501989557713,
          588.7503117163226,
          594.2341048016712,
          597.15618596249
         ],
         "xaxis": "x",
         "y": [
          0,
          0.31224805832895614,
          1.276751524711097,
          15.66888429501089,
          61.46576925071151,
          159.11497869927578,
          297.4211914602506,
          449.41332570020757,
          598.8756894693187,
          735.6797142959648,
          857.1679509355598,
          980.045045898508,
          1097.0955168751057,
          1214.999162802794,
          1337.7004228973
         ],
         "yaxis": "y"
        },
        {
         "legendgroup": "train_1",
         "mode": "markers",
         "name": "Run id in Train 1",
         "type": "scatter",
         "x": [
          0,
          0.0438814612801809,
          0.6754926172763417,
          6.144508366864772,
          32.89209616429462,
          103.50902716060114,
          216.84466709892055,
          346.44671755061927,
          463.7142285131992,
          551.6325993334557,
          608.2207631731609,
          641.4045985098942,
          660.0958645554078,
          670.481486260618,
          676.2162592557202
         ],
         "xaxis": "x",
         "y": [
          0,
          0.7060567165221494,
          1.5609640427857805,
          15.182425540388863,
          60.803628278988946,
          157.24699448957466,
          293.37690759034103,
          442.185692979673,
          588.1145794928775,
          721.2605316884793,
          839.5973154438453,
          959.1835403463385,
          1072.7149282622893,
          1186.9850313640293,
          1305.8908348256211
         ],
         "yaxis": "y"
        },
        {
         "legendgroup": "train_2",
         "mode": "markers",
         "name": "Run id in Train 2",
         "type": "scatter",
         "x": [
          0,
          0.0805992014021038,
          1.8724719368459048,
          19.41861755313492,
          91.75328005105564,
          241.06314503965848,
          434.5519776483289,
          619.9756875720175,
          761.4441456682614,
          851.6236464360761,
          903.333097571553,
          931.7008737773178,
          947.0117744048353,
          955.2202498945722,
          959.6058930504475
         ],
         "xaxis": "x",
         "y": [
          0,
          1.1243619448582387,
          2.1970284439452588,
          18.91960311855635,
          73.53694221516712,
          189.18174449610137,
          352.44710622141554,
          531.6895636796062,
          707.8805775087928,
          869.0571681541464,
          1011.9715261249577,
          1156.5766222720015,
          1294.3105443134475,
          1432.980600558136,
          1577.2764886881198
         ],
         "yaxis": "y"
        },
        {
         "legendgroup": "train_3",
         "mode": "markers",
         "name": "Run id in Train 3",
         "type": "scatter",
         "x": [
          0,
          0.100395228326079,
          2.471584704867094,
          20.810314349562,
          75.25006587798005,
          155.21180957123823,
          231.3966660922219,
          288.1189053801796,
          325.0105400678119,
          347.3566646464407,
          360.4174988213081,
          367.9092782306117,
          372.1621491359598,
          374.5625824428543,
          375.9131407266119
         ],
         "xaxis": "x",
         "y": [
          0,
          1.701950143901863,
          3.822133710486189,
          29.466072192143283,
          111.89373043073027,
          285.5605405673305,
          531.425944517077,
          806.4452725475328,
          1078.5581965677532,
          1331.1088858644464,
          1553.1122632744714,
          1777.2570975167089,
          1993.0410245700361,
          2211.145581332308,
          2438.184458929237
         ],
         "yaxis": "y"
        },
        {
         "legendgroup": "train_4",
         "mode": "markers",
         "name": "Run id in Train 4",
         "type": "scatter",
         "x": [
          0,
          0.1292531886788032,
          2.811811054279715,
          23.20550382163473,
          91.22866564904736,
          213.66138340861409,
          360.48179504747,
          495.63502362499145,
          597.2236779261053,
          662.0367074378605,
          700.2481804040611,
          722.5010954289212,
          735.4205903119163,
          742.9151800957571,
          747.2620778238343
         ],
         "xaxis": "x",
         "y": [
          0,
          1.8738728702510263,
          3.2929766160544247,
          25.248173912565203,
          96.52209969661212,
          246.23462234226957,
          457.8518126043148,
          692.0083159908439,
          922.8632510731002,
          1136.902580797116,
          1325.18475317002,
          1514.8774429424104,
          1696.9872347427215,
          1880.375255448472,
          2071.244707181932
         ],
         "yaxis": "y"
        },
        {
         "legendgroup": "train_5",
         "mode": "markers",
         "name": "Run id in Train 5",
         "type": "scatter",
         "x": [
          0,
          0.1191344970680277,
          2.2379543730029474,
          17.6686268146821,
          70.79210067044147,
          170.7629621239597,
          293.6414359032689,
          406.8318234868232,
          490.7890370390738,
          543.5352893767821,
          573.8362605087634,
          590.8523186228688,
          600.3258243064748,
          605.5779966984201,
          608.4835154549434
         ],
         "xaxis": "x",
         "y": [
          0,
          1.5870450009015173,
          3.1716055594776265,
          25.668680882672025,
          97.777325541032,
          249.36648773270946,
          463.9801861230009,
          702.3969135016208,
          937.8368339193745,
          1156.16626311161,
          1348.2254952412773,
          1541.8778198666137,
          1728.052125417442,
          1915.7009032191315,
          2111.033111402834
         ],
         "yaxis": "y"
        },
        {
         "legendgroup": "train_6",
         "mode": "markers",
         "name": "Run id in Train 6",
         "type": "scatter",
         "x": [
          0,
          0.0684760856557625,
          1.419909024026719,
          12.974359746806352,
          60.01220329000836,
          161.81840299179677,
          300.87029124327046,
          440.31555861369503,
          552.4775099714313,
          628.9702012520282,
          675.981959241405,
          703.4448217414291,
          719.1329460060222,
          728.0050414796943,
          732.9958800156783
         ],
         "xaxis": "x",
         "y": [
          0,
          1.721301709521275,
          3.636412345415584,
          30.781389874593714,
          116.68785176345907,
          297.6483688613813,
          553.8437451548356,
          839.0620001064138,
          1120.9331332785928,
          1380.3556978663853,
          1609.3561846197867,
          1841.2896856806117,
          2064.016645955345,
          2288.6890519012095,
          2522.565865923163
         ],
         "yaxis": "y"
        },
        {
         "legendgroup": "train_7",
         "mode": "markers",
         "name": "Run id in Train 7",
         "type": "scatter",
         "x": [
          0,
          0.1012025981276605,
          2.7202639401550184,
          25.946291951340097,
          104.55968898992953,
          237.42432217784472,
          385.7596767399676,
          515.6947127178214,
          611.4373805988364,
          671.5705931211872,
          704.2589949515327,
          720.6883271094672,
          728.8537430043472,
          732.9016580530529,
          734.9060666799251
         ],
         "xaxis": "x",
         "y": [
          0,
          1.0945265720273767,
          2.863926511885622,
          25.57146419369505,
          97.1180909191557,
          248.11290972138926,
          462.16211225240903,
          700.9832834177301,
          937.2478051523527,
          1154.8851596108827,
          1347.8376559266544,
          1542.1800321826531,
          1729.245189781993,
          1918.0598161682972,
          2114.6256155800866
         ],
         "yaxis": "y"
        },
        {
         "legendgroup": "train_8",
         "mode": "markers",
         "name": "Run id in Train 8",
         "type": "scatter",
         "x": [
          0,
          0.0851032436703326,
          1.6658115757244931,
          14.546461217109194,
          61.856051928684174,
          151.27308669024367,
          259.1592993253078,
          357.334846431788,
          431.0590970254083,
          479.022153470829,
          508.0532921590253,
          525.365934354859,
          535.6297084406955,
          541.6976620375669,
          545.27993727455
         ],
         "xaxis": "x",
         "y": [
          0,
          1.0084701702166559,
          3.1030540651549057,
          25.17050380866735,
          95.79241003352863,
          245.0946206523825,
          456.7957869423685,
          694.0119448498949,
          929.0118889760977,
          1147.0568141999522,
          1338.8789569471637,
          1532.6193814813907,
          1719.2021492856613,
          1907.9047985105906,
          2104.3550800856615
         ],
         "yaxis": "y"
        },
        {
         "legendgroup": "train_9",
         "mode": "markers",
         "name": "Run id in Train 9",
         "type": "scatter",
         "x": [
          0,
          0.1028398753471017,
          2.103522354496929,
          19.1988180976768,
          85.1350472831614,
          219.1183953406561,
          393.9596615083559,
          564.5612087274179,
          699.1155234613333,
          788.6518291426167,
          842.1815810738857,
          873.2435171883614,
          891.1142870152056,
          901.354027797561,
          907.2091784828596
         ],
         "xaxis": "x",
         "y": [
          0,
          1.6371861998041912,
          3.1637464562476922,
          25.440341755523576,
          96.74342438364513,
          246.72738657597665,
          458.97413662061405,
          694.6788937612578,
          927.4453461292387,
          1143.2144256833342,
          1333.076847589283,
          1524.4931733959245,
          1708.4700505937924,
          1893.8939426900097,
          2086.905693098134
         ],
         "yaxis": "y"
        },
        {
         "legendgroup": "test_0",
         "mode": "markers",
         "name": "Run id in Test 0",
         "type": "scatter",
         "x": [
          0,
          0.164105508211151,
          3.6737447861367754,
          35.32186247671071,
          154.34678831320295,
          387.7950784521392,
          693.7864209487878,
          1013.615495248714,
          1308.0461540356737,
          1559.5112502067666,
          1764.0166792193825,
          1924.0159855683603,
          2045.8920299168967,
          2138.039188646103,
          2207.3227092050597
         ],
         "xaxis": "x2",
         "y": [
          0,
          0.6369877338433516,
          2.148532408237845,
          20.18063583542208,
          77.35448911491488,
          198.4064878912402,
          370.20186977154526,
          560.3060938679474,
          747.9660669484073,
          920.2846734401895,
          1072.7990598008032,
          1227.2225777199287,
          1375.075207902799,
          1524.0661615390216,
          1679.146159390264
         ],
         "yaxis": "y2"
        },
        {
         "legendgroup": "test_1",
         "mode": "markers",
         "name": "Run id in Test 1",
         "type": "scatter",
         "x": [
          0,
          0.0763700634007142,
          1.2004047047372728,
          10.769047562231066,
          55.331509943793534,
          169.67881535568202,
          356.9149807868821,
          587.3658271878509,
          826.3777227138344,
          1049.7114958711982,
          1245.9405162620585,
          1411.3748743127069,
          1546.3862233793775,
          1653.611268198273,
          1736.5908399465277
         ],
         "xaxis": "x2",
         "y": [
          0,
          0.7624841536025806,
          2.409886172822609,
          20.532894483631463,
          78.2898665892955,
          200.4308996644794,
          373.730407940923,
          567.1447693178175,
          758.5650060288974,
          936.0912376247653,
          1092.3985707597885,
          1250.1433795048636,
          1401.9685225318385,
          1555.2268539268077,
          1714.7864033416606
         ],
         "yaxis": "y2"
        },
        {
         "legendgroup": "test_2",
         "mode": "markers",
         "name": "Run id in Test 2",
         "type": "scatter",
         "x": [
          0,
          0.0854355568288807,
          1.6092625643264258,
          15.15306007085573,
          73.21962446854067,
          204.75841445857023,
          398.2225074477981,
          618.5671629053375,
          834.8994407537554,
          1028.7815128523432,
          1191.952374312491,
          1323.1237497744814,
          1427.1505262970163,
          1509.177096006116,
          1573.4842264771685
         ],
         "xaxis": "x2",
         "y": [
          0,
          0.1875840928262153,
          1.6856754767543947,
          17.74599619611565,
          68.21600263488946,
          175.30248882857512,
          327.663957540403,
          496.7839251872456,
          663.945965059647,
          817.6693539505462,
          954.4392711851377,
          1092.0118162164447,
          1224.220855379052,
          1357.49632959448,
          1496.248576657728
         ],
         "yaxis": "y2"
        },
        {
         "legendgroup": "test_3",
         "mode": "markers",
         "name": "Run id in Test 3",
         "type": "scatter",
         "x": [
          0,
          0.0532844883797582,
          1.1745834254072027,
          12.400110906230712,
          64.33322629187558,
          186.9762484824127,
          370.7059655837582,
          580.4291461413053,
          784.4388717931332,
          964.694945425899,
          1113.2574886158343,
          1206.3258825585165,
          1206.325890023906,
          1206.3258900094436,
          1206.3258900076912
         ],
         "xaxis": "x2",
         "y": [
          0,
          0.45848537527118566,
          2.3546529869878965,
          21.219672545776582,
          81.17327075455046,
          208.1349633468272,
          388.46197613829725,
          590.220767794356,
          790.0869508993634,
          974.423467726684,
          1137.7853347768594,
          1302.461090479433,
          1461.0662858813027,
          1621.3272725488366,
          1788.1848730658378
         ],
         "yaxis": "y2"
        },
        {
         "legendgroup": "test_4",
         "mode": "markers",
         "name": "Run id in Test 4",
         "type": "scatter",
         "x": [
          0,
          0.1271028978965827,
          3.043268173982997,
          28.535584577172003,
          116.56093471808562,
          271.0820879759505,
          454.3992159877672,
          629.9846449120229,
          777.5049250060061,
          889.0424907203862,
          965.8903434918803,
          1018.7426183492312,
          1055.7385430042384,
          1081.8878031673305,
          1100.471520461802
         ],
         "xaxis": "x2",
         "y": [
          0,
          0.8293734569101905,
          2.303649153525074,
          21.091795539850622,
          81.2153850552822,
          208.05072183060966,
          388.0253710648602,
          587.5462203163959,
          784.4559777158971,
          965.5597963105995,
          1126.5692045723808,
          1288.450660718706,
          1444.0437901096404,
          1600.7996864794347,
          1763.9835571944745
         ],
         "yaxis": "y2"
        },
        {
         "legendgroup": "test_5",
         "mode": "markers",
         "name": "Run id in Test 5",
         "type": "scatter",
         "x": [
          0,
          0.030935924736293,
          0.804162343449244,
          10.870548517297646,
          65.22768655509961,
          195.8585375096484,
          380.0010361514075,
          573.2161531583585,
          744.9282135378564,
          881.5839367271855,
          980.1323846987966,
          1043.8984122969127,
          1083.679069018441,
          1108.8968951501029,
          1125.052087317103
         ],
         "xaxis": "x2",
         "y": [
          0,
          1.0800775287810245,
          3.0365822479873414,
          27.49949478371582,
          104.43546912295433,
          266.916632040689,
          497.2306790713483,
          754.6684487910098,
          1009.4800027211627,
          1244.351086414959,
          1451.6046244812085,
          1661.5184234991555,
          1863.3094474273769,
          2067.1823319950263,
          2279.42033932919
         ],
         "yaxis": "y2"
        },
        {
         "legendgroup": "test_6",
         "mode": "markers",
         "name": "Run id in Test 6",
         "type": "scatter",
         "x": [
          0,
          0.1544111652934467,
          3.7599944327811374,
          32.09025603312709,
          125.87188314534892,
          296.2627151898705,
          514.158742340626,
          743.343236146268,
          958.7202578978104,
          1147.7971737836272,
          1306.3166571781155,
          1434.1989079569498,
          1533.80175002571,
          1606.8302417039786,
          1642.45281821088
         ],
         "xaxis": "x2",
         "y": [
          0,
          0.895638803053799,
          3.328088221059087,
          26.40135752979337,
          100.41565321918387,
          257.2037054814069,
          479.6290468200827,
          729.3176252762202,
          976.9508382207193,
          1205.6037377952289,
          1407.8659192439127,
          1611.9566624007814,
          1808.60166925744,
          2007.6240303676716,
          2214.8378006830844
         ],
         "yaxis": "y2"
        },
        {
         "legendgroup": "test_7",
         "mode": "markers",
         "name": "Run id in Test 7",
         "type": "scatter",
         "x": [
          0,
          0.1286279523117829,
          2.342442711201244,
          20.45181017599882,
          88.7824526964827,
          226.36982620800097,
          411.3388964710858,
          608.2362445845563,
          791.3387220952158,
          948.0160994755988,
          1074.6884871389736,
          1173.7661017215894,
          1250.2321253331695,
          1308.6545890123389,
          1352.9446842650268
         ],
         "xaxis": "x2",
         "y": [
          0,
          0.06835102765252138,
          1.993677295297036,
          19.345538227463493,
          74.43151154341996,
          191.18863513358616,
          357.4161807918018,
          543.0990083142007,
          727.0207260717978,
          896.6092568460828,
          1047.0387209146159,
          1198.6289220479823,
          1344.6318111956368,
          1492.0485572600358,
          1645.547257072252
         ],
         "yaxis": "y2"
        },
        {
         "legendgroup": "test_8",
         "mode": "markers",
         "name": "Run id in Test 8",
         "type": "scatter",
         "x": [
          0,
          0.0394649376441817,
          1.139667969188726,
          15.14525494943351,
          86.48169581613604,
          251.5004556721223,
          483.3663578645889,
          731.0518874452288,
          958.0819454950264,
          1148.0484050576056,
          1297.9680603092725,
          1411.989486887015,
          1497.089986665622,
          1559.7604330226195,
          1605.464984209573
         ],
         "xaxis": "x2",
         "y": [
          0,
          0.8332826302773162,
          3.3001551378742398,
          27.022439958813262,
          102.85649378493723,
          263.47653650983773,
          491.3685033601008,
          747.1914121649337,
          1000.8617983021102,
          1235.0970493380494,
          1442.2961956339843,
          1651.3656329977964,
          1852.8089183574496,
          2056.6944160495004,
          2268.9707429986615
         ],
         "yaxis": "y2"
        },
        {
         "legendgroup": "test_9",
         "mode": "markers",
         "name": "Run id in Test 9",
         "type": "scatter",
         "x": [
          0,
          0.1036825935213099,
          1.8759111567395288,
          18.21704051387724,
          91.8183531595854,
          260.8827697220299,
          506.8788143193637,
          781.838227586801,
          1046.7682798947126,
          1280.778709654132,
          1476.298589359522,
          1632.8559662496232,
          1755.007587791339,
          1849.4347546111003,
          1921.8083818131652
         ],
         "xaxis": "x2",
         "y": [
          0,
          0.6441175961010761,
          0.7839377865732362,
          14.173205627243831,
          56.91082209765,
          147.70624744306792,
          275.92106287575314,
          416.018893341996,
          553.4202180872776,
          678.7800854569495,
          790.2623467474273,
          902.952504401508,
          1009.8949314961017,
          1117.5498933855515,
          1229.5772519015384
         ],
         "yaxis": "y2"
        }
       ],
       "layout": {
        "annotations": [
         {
          "font": {
           "size": 16
          },
          "showarrow": false,
          "text": "Train Set - X:Titer <br> R^2 = -7.341 <br> Abs RMSE = 585.666 <br> Rel RMSE = 1.927",
          "x": 0.225,
          "xanchor": "center",
          "xref": "paper",
          "y": 1,
          "yanchor": "bottom",
          "yref": "paper"
         },
         {
          "font": {
           "size": 16
          },
          "showarrow": false,
          "text": "Test Set - X:Titer <br> R^2 = 0.724 <br> Abs RMSE = 264.602 <br> Rel RMSE = 0.421",
          "x": 0.775,
          "xanchor": "center",
          "xref": "paper",
          "y": 1,
          "yanchor": "bottom",
          "yref": "paper"
         }
        ],
        "shapes": [
         {
          "layer": "above",
          "line": {
           "dash": "dash"
          },
          "type": "line",
          "x0": 0,
          "x1": 2522.565865923163,
          "y0": 0,
          "y1": 2522.565865923163
         },
         {
          "layer": "above",
          "line": {
           "dash": "dash"
          },
          "type": "line",
          "x0": 0,
          "x1": 2279.42033932919,
          "xref": "x2",
          "y0": 0,
          "y1": 2279.42033932919,
          "yref": "y2"
         }
        ],
        "template": {
         "data": {
          "bar": [
           {
            "error_x": {
             "color": "#2a3f5f"
            },
            "error_y": {
             "color": "#2a3f5f"
            },
            "marker": {
             "line": {
              "color": "white",
              "width": 0.5
             },
             "pattern": {
              "fillmode": "overlay",
              "size": 10,
              "solidity": 0.2
             }
            },
            "type": "bar"
           }
          ],
          "barpolar": [
           {
            "marker": {
             "line": {
              "color": "white",
              "width": 0.5
             },
             "pattern": {
              "fillmode": "overlay",
              "size": 10,
              "solidity": 0.2
             }
            },
            "type": "barpolar"
           }
          ],
          "carpet": [
           {
            "aaxis": {
             "endlinecolor": "#2a3f5f",
             "gridcolor": "#C8D4E3",
             "linecolor": "#C8D4E3",
             "minorgridcolor": "#C8D4E3",
             "startlinecolor": "#2a3f5f"
            },
            "baxis": {
             "endlinecolor": "#2a3f5f",
             "gridcolor": "#C8D4E3",
             "linecolor": "#C8D4E3",
             "minorgridcolor": "#C8D4E3",
             "startlinecolor": "#2a3f5f"
            },
            "type": "carpet"
           }
          ],
          "choropleth": [
           {
            "colorbar": {
             "outlinewidth": 0,
             "ticks": ""
            },
            "type": "choropleth"
           }
          ],
          "contour": [
           {
            "colorbar": {
             "outlinewidth": 0,
             "ticks": ""
            },
            "colorscale": [
             [
              0,
              "#0d0887"
             ],
             [
              0.1111111111111111,
              "#46039f"
             ],
             [
              0.2222222222222222,
              "#7201a8"
             ],
             [
              0.3333333333333333,
              "#9c179e"
             ],
             [
              0.4444444444444444,
              "#bd3786"
             ],
             [
              0.5555555555555556,
              "#d8576b"
             ],
             [
              0.6666666666666666,
              "#ed7953"
             ],
             [
              0.7777777777777778,
              "#fb9f3a"
             ],
             [
              0.8888888888888888,
              "#fdca26"
             ],
             [
              1,
              "#f0f921"
             ]
            ],
            "type": "contour"
           }
          ],
          "contourcarpet": [
           {
            "colorbar": {
             "outlinewidth": 0,
             "ticks": ""
            },
            "type": "contourcarpet"
           }
          ],
          "heatmap": [
           {
            "colorbar": {
             "outlinewidth": 0,
             "ticks": ""
            },
            "colorscale": [
             [
              0,
              "#0d0887"
             ],
             [
              0.1111111111111111,
              "#46039f"
             ],
             [
              0.2222222222222222,
              "#7201a8"
             ],
             [
              0.3333333333333333,
              "#9c179e"
             ],
             [
              0.4444444444444444,
              "#bd3786"
             ],
             [
              0.5555555555555556,
              "#d8576b"
             ],
             [
              0.6666666666666666,
              "#ed7953"
             ],
             [
              0.7777777777777778,
              "#fb9f3a"
             ],
             [
              0.8888888888888888,
              "#fdca26"
             ],
             [
              1,
              "#f0f921"
             ]
            ],
            "type": "heatmap"
           }
          ],
          "heatmapgl": [
           {
            "colorbar": {
             "outlinewidth": 0,
             "ticks": ""
            },
            "colorscale": [
             [
              0,
              "#0d0887"
             ],
             [
              0.1111111111111111,
              "#46039f"
             ],
             [
              0.2222222222222222,
              "#7201a8"
             ],
             [
              0.3333333333333333,
              "#9c179e"
             ],
             [
              0.4444444444444444,
              "#bd3786"
             ],
             [
              0.5555555555555556,
              "#d8576b"
             ],
             [
              0.6666666666666666,
              "#ed7953"
             ],
             [
              0.7777777777777778,
              "#fb9f3a"
             ],
             [
              0.8888888888888888,
              "#fdca26"
             ],
             [
              1,
              "#f0f921"
             ]
            ],
            "type": "heatmapgl"
           }
          ],
          "histogram": [
           {
            "marker": {
             "pattern": {
              "fillmode": "overlay",
              "size": 10,
              "solidity": 0.2
             }
            },
            "type": "histogram"
           }
          ],
          "histogram2d": [
           {
            "colorbar": {
             "outlinewidth": 0,
             "ticks": ""
            },
            "colorscale": [
             [
              0,
              "#0d0887"
             ],
             [
              0.1111111111111111,
              "#46039f"
             ],
             [
              0.2222222222222222,
              "#7201a8"
             ],
             [
              0.3333333333333333,
              "#9c179e"
             ],
             [
              0.4444444444444444,
              "#bd3786"
             ],
             [
              0.5555555555555556,
              "#d8576b"
             ],
             [
              0.6666666666666666,
              "#ed7953"
             ],
             [
              0.7777777777777778,
              "#fb9f3a"
             ],
             [
              0.8888888888888888,
              "#fdca26"
             ],
             [
              1,
              "#f0f921"
             ]
            ],
            "type": "histogram2d"
           }
          ],
          "histogram2dcontour": [
           {
            "colorbar": {
             "outlinewidth": 0,
             "ticks": ""
            },
            "colorscale": [
             [
              0,
              "#0d0887"
             ],
             [
              0.1111111111111111,
              "#46039f"
             ],
             [
              0.2222222222222222,
              "#7201a8"
             ],
             [
              0.3333333333333333,
              "#9c179e"
             ],
             [
              0.4444444444444444,
              "#bd3786"
             ],
             [
              0.5555555555555556,
              "#d8576b"
             ],
             [
              0.6666666666666666,
              "#ed7953"
             ],
             [
              0.7777777777777778,
              "#fb9f3a"
             ],
             [
              0.8888888888888888,
              "#fdca26"
             ],
             [
              1,
              "#f0f921"
             ]
            ],
            "type": "histogram2dcontour"
           }
          ],
          "mesh3d": [
           {
            "colorbar": {
             "outlinewidth": 0,
             "ticks": ""
            },
            "type": "mesh3d"
           }
          ],
          "parcoords": [
           {
            "line": {
             "colorbar": {
              "outlinewidth": 0,
              "ticks": ""
             }
            },
            "type": "parcoords"
           }
          ],
          "pie": [
           {
            "automargin": true,
            "type": "pie"
           }
          ],
          "scatter": [
           {
            "fillpattern": {
             "fillmode": "overlay",
             "size": 10,
             "solidity": 0.2
            },
            "type": "scatter"
           }
          ],
          "scatter3d": [
           {
            "line": {
             "colorbar": {
              "outlinewidth": 0,
              "ticks": ""
             }
            },
            "marker": {
             "colorbar": {
              "outlinewidth": 0,
              "ticks": ""
             }
            },
            "type": "scatter3d"
           }
          ],
          "scattercarpet": [
           {
            "marker": {
             "colorbar": {
              "outlinewidth": 0,
              "ticks": ""
             }
            },
            "type": "scattercarpet"
           }
          ],
          "scattergeo": [
           {
            "marker": {
             "colorbar": {
              "outlinewidth": 0,
              "ticks": ""
             }
            },
            "type": "scattergeo"
           }
          ],
          "scattergl": [
           {
            "marker": {
             "colorbar": {
              "outlinewidth": 0,
              "ticks": ""
             }
            },
            "type": "scattergl"
           }
          ],
          "scattermapbox": [
           {
            "marker": {
             "colorbar": {
              "outlinewidth": 0,
              "ticks": ""
             }
            },
            "type": "scattermapbox"
           }
          ],
          "scatterpolar": [
           {
            "marker": {
             "colorbar": {
              "outlinewidth": 0,
              "ticks": ""
             }
            },
            "type": "scatterpolar"
           }
          ],
          "scatterpolargl": [
           {
            "marker": {
             "colorbar": {
              "outlinewidth": 0,
              "ticks": ""
             }
            },
            "type": "scatterpolargl"
           }
          ],
          "scatterternary": [
           {
            "marker": {
             "colorbar": {
              "outlinewidth": 0,
              "ticks": ""
             }
            },
            "type": "scatterternary"
           }
          ],
          "surface": [
           {
            "colorbar": {
             "outlinewidth": 0,
             "ticks": ""
            },
            "colorscale": [
             [
              0,
              "#0d0887"
             ],
             [
              0.1111111111111111,
              "#46039f"
             ],
             [
              0.2222222222222222,
              "#7201a8"
             ],
             [
              0.3333333333333333,
              "#9c179e"
             ],
             [
              0.4444444444444444,
              "#bd3786"
             ],
             [
              0.5555555555555556,
              "#d8576b"
             ],
             [
              0.6666666666666666,
              "#ed7953"
             ],
             [
              0.7777777777777778,
              "#fb9f3a"
             ],
             [
              0.8888888888888888,
              "#fdca26"
             ],
             [
              1,
              "#f0f921"
             ]
            ],
            "type": "surface"
           }
          ],
          "table": [
           {
            "cells": {
             "fill": {
              "color": "#EBF0F8"
             },
             "line": {
              "color": "white"
             }
            },
            "header": {
             "fill": {
              "color": "#C8D4E3"
             },
             "line": {
              "color": "white"
             }
            },
            "type": "table"
           }
          ]
         },
         "layout": {
          "annotationdefaults": {
           "arrowcolor": "#2a3f5f",
           "arrowhead": 0,
           "arrowwidth": 1
          },
          "autotypenumbers": "strict",
          "coloraxis": {
           "colorbar": {
            "outlinewidth": 0,
            "ticks": ""
           }
          },
          "colorscale": {
           "diverging": [
            [
             0,
             "#8e0152"
            ],
            [
             0.1,
             "#c51b7d"
            ],
            [
             0.2,
             "#de77ae"
            ],
            [
             0.3,
             "#f1b6da"
            ],
            [
             0.4,
             "#fde0ef"
            ],
            [
             0.5,
             "#f7f7f7"
            ],
            [
             0.6,
             "#e6f5d0"
            ],
            [
             0.7,
             "#b8e186"
            ],
            [
             0.8,
             "#7fbc41"
            ],
            [
             0.9,
             "#4d9221"
            ],
            [
             1,
             "#276419"
            ]
           ],
           "sequential": [
            [
             0,
             "#0d0887"
            ],
            [
             0.1111111111111111,
             "#46039f"
            ],
            [
             0.2222222222222222,
             "#7201a8"
            ],
            [
             0.3333333333333333,
             "#9c179e"
            ],
            [
             0.4444444444444444,
             "#bd3786"
            ],
            [
             0.5555555555555556,
             "#d8576b"
            ],
            [
             0.6666666666666666,
             "#ed7953"
            ],
            [
             0.7777777777777778,
             "#fb9f3a"
            ],
            [
             0.8888888888888888,
             "#fdca26"
            ],
            [
             1,
             "#f0f921"
            ]
           ],
           "sequentialminus": [
            [
             0,
             "#0d0887"
            ],
            [
             0.1111111111111111,
             "#46039f"
            ],
            [
             0.2222222222222222,
             "#7201a8"
            ],
            [
             0.3333333333333333,
             "#9c179e"
            ],
            [
             0.4444444444444444,
             "#bd3786"
            ],
            [
             0.5555555555555556,
             "#d8576b"
            ],
            [
             0.6666666666666666,
             "#ed7953"
            ],
            [
             0.7777777777777778,
             "#fb9f3a"
            ],
            [
             0.8888888888888888,
             "#fdca26"
            ],
            [
             1,
             "#f0f921"
            ]
           ]
          },
          "colorway": [
           "#636efa",
           "#EF553B",
           "#00cc96",
           "#ab63fa",
           "#FFA15A",
           "#19d3f3",
           "#FF6692",
           "#B6E880",
           "#FF97FF",
           "#FECB52"
          ],
          "font": {
           "color": "#2a3f5f"
          },
          "geo": {
           "bgcolor": "white",
           "lakecolor": "white",
           "landcolor": "white",
           "showlakes": true,
           "showland": true,
           "subunitcolor": "#C8D4E3"
          },
          "hoverlabel": {
           "align": "left"
          },
          "hovermode": "closest",
          "mapbox": {
           "style": "light"
          },
          "paper_bgcolor": "white",
          "plot_bgcolor": "white",
          "polar": {
           "angularaxis": {
            "gridcolor": "#EBF0F8",
            "linecolor": "#EBF0F8",
            "ticks": ""
           },
           "bgcolor": "white",
           "radialaxis": {
            "gridcolor": "#EBF0F8",
            "linecolor": "#EBF0F8",
            "ticks": ""
           }
          },
          "scene": {
           "xaxis": {
            "backgroundcolor": "white",
            "gridcolor": "#DFE8F3",
            "gridwidth": 2,
            "linecolor": "#EBF0F8",
            "showbackground": true,
            "ticks": "",
            "zerolinecolor": "#EBF0F8"
           },
           "yaxis": {
            "backgroundcolor": "white",
            "gridcolor": "#DFE8F3",
            "gridwidth": 2,
            "linecolor": "#EBF0F8",
            "showbackground": true,
            "ticks": "",
            "zerolinecolor": "#EBF0F8"
           },
           "zaxis": {
            "backgroundcolor": "white",
            "gridcolor": "#DFE8F3",
            "gridwidth": 2,
            "linecolor": "#EBF0F8",
            "showbackground": true,
            "ticks": "",
            "zerolinecolor": "#EBF0F8"
           }
          },
          "shapedefaults": {
           "line": {
            "color": "#2a3f5f"
           }
          },
          "ternary": {
           "aaxis": {
            "gridcolor": "#DFE8F3",
            "linecolor": "#A2B1C6",
            "ticks": ""
           },
           "baxis": {
            "gridcolor": "#DFE8F3",
            "linecolor": "#A2B1C6",
            "ticks": ""
           },
           "bgcolor": "white",
           "caxis": {
            "gridcolor": "#DFE8F3",
            "linecolor": "#A2B1C6",
            "ticks": ""
           }
          },
          "title": {
           "x": 0.05
          },
          "xaxis": {
           "automargin": true,
           "gridcolor": "#EBF0F8",
           "linecolor": "#EBF0F8",
           "ticks": "",
           "title": {
            "standoff": 15
           },
           "zerolinecolor": "#EBF0F8",
           "zerolinewidth": 2
          },
          "yaxis": {
           "automargin": true,
           "gridcolor": "#EBF0F8",
           "linecolor": "#EBF0F8",
           "ticks": "",
           "title": {
            "standoff": 15
           },
           "zerolinecolor": "#EBF0F8",
           "zerolinewidth": 2
          }
         }
        },
        "width": 1600,
        "xaxis": {
         "anchor": "y",
         "domain": [
          0,
          0.45
         ],
         "title": {
          "text": "Observed values"
         }
        },
        "xaxis2": {
         "anchor": "y2",
         "domain": [
          0.55,
          1
         ],
         "title": {
          "text": "Observed values"
         }
        },
        "yaxis": {
         "anchor": "x",
         "domain": [
          0,
          1
         ],
         "title": {
          "text": "Predicted values"
         }
        },
        "yaxis2": {
         "anchor": "x2",
         "domain": [
          0,
          1
         ],
         "title": {
          "text": "Predicted values"
         }
        }
       }
      }
     },
     "metadata": {},
     "output_type": "display_data"
    }
   ],
   "source": [
    "plot_multi_step_ann_model_eval(\n",
    "    X,\n",
    "    X_pred,\n",
    "    X_test,\n",
    "    X_test_pred,\n",
    "    X_columns=X_columns,\n",
    ")\n"
   ]
  },
  {
   "cell_type": "code",
   "execution_count": 11,
   "metadata": {},
   "outputs": [
    {
     "data": {
      "application/vnd.plotly.v1+json": {
       "config": {
        "plotlyServerURL": "https://plot.ly"
       },
       "data": [
        {
         "marker": {
          "color": "#4C78A8"
         },
         "name": "Train Set",
         "text": [
          "1.45",
          "5.17",
          "3.27",
          "1.93"
         ],
         "textposition": "outside",
         "type": "bar",
         "x": [
          "X:VCD",
          "X:Glc",
          "X:Lac",
          "X:Titer"
         ],
         "y": [
          1.452,
          5.172,
          3.266,
          1.927
         ]
        },
        {
         "marker": {
          "color": "#F58518"
         },
         "name": "Test Set",
         "text": [
          "0.80",
          "10.27",
          "1.30",
          "0.42"
         ],
         "textposition": "outside",
         "type": "bar",
         "x": [
          "X:VCD",
          "X:Glc",
          "X:Lac",
          "X:Titer"
         ],
         "y": [
          0.801,
          10.265,
          1.301,
          0.421
         ]
        }
       ],
       "layout": {
        "barmode": "group",
        "legend": {
         "orientation": "h",
         "x": 0.5,
         "xanchor": "center",
         "y": 1.02,
         "yanchor": "bottom"
        },
        "template": {
         "data": {
          "bar": [
           {
            "error_x": {
             "color": "#2a3f5f"
            },
            "error_y": {
             "color": "#2a3f5f"
            },
            "marker": {
             "line": {
              "color": "white",
              "width": 0.5
             },
             "pattern": {
              "fillmode": "overlay",
              "size": 10,
              "solidity": 0.2
             }
            },
            "type": "bar"
           }
          ],
          "barpolar": [
           {
            "marker": {
             "line": {
              "color": "white",
              "width": 0.5
             },
             "pattern": {
              "fillmode": "overlay",
              "size": 10,
              "solidity": 0.2
             }
            },
            "type": "barpolar"
           }
          ],
          "carpet": [
           {
            "aaxis": {
             "endlinecolor": "#2a3f5f",
             "gridcolor": "#C8D4E3",
             "linecolor": "#C8D4E3",
             "minorgridcolor": "#C8D4E3",
             "startlinecolor": "#2a3f5f"
            },
            "baxis": {
             "endlinecolor": "#2a3f5f",
             "gridcolor": "#C8D4E3",
             "linecolor": "#C8D4E3",
             "minorgridcolor": "#C8D4E3",
             "startlinecolor": "#2a3f5f"
            },
            "type": "carpet"
           }
          ],
          "choropleth": [
           {
            "colorbar": {
             "outlinewidth": 0,
             "ticks": ""
            },
            "type": "choropleth"
           }
          ],
          "contour": [
           {
            "colorbar": {
             "outlinewidth": 0,
             "ticks": ""
            },
            "colorscale": [
             [
              0,
              "#0d0887"
             ],
             [
              0.1111111111111111,
              "#46039f"
             ],
             [
              0.2222222222222222,
              "#7201a8"
             ],
             [
              0.3333333333333333,
              "#9c179e"
             ],
             [
              0.4444444444444444,
              "#bd3786"
             ],
             [
              0.5555555555555556,
              "#d8576b"
             ],
             [
              0.6666666666666666,
              "#ed7953"
             ],
             [
              0.7777777777777778,
              "#fb9f3a"
             ],
             [
              0.8888888888888888,
              "#fdca26"
             ],
             [
              1,
              "#f0f921"
             ]
            ],
            "type": "contour"
           }
          ],
          "contourcarpet": [
           {
            "colorbar": {
             "outlinewidth": 0,
             "ticks": ""
            },
            "type": "contourcarpet"
           }
          ],
          "heatmap": [
           {
            "colorbar": {
             "outlinewidth": 0,
             "ticks": ""
            },
            "colorscale": [
             [
              0,
              "#0d0887"
             ],
             [
              0.1111111111111111,
              "#46039f"
             ],
             [
              0.2222222222222222,
              "#7201a8"
             ],
             [
              0.3333333333333333,
              "#9c179e"
             ],
             [
              0.4444444444444444,
              "#bd3786"
             ],
             [
              0.5555555555555556,
              "#d8576b"
             ],
             [
              0.6666666666666666,
              "#ed7953"
             ],
             [
              0.7777777777777778,
              "#fb9f3a"
             ],
             [
              0.8888888888888888,
              "#fdca26"
             ],
             [
              1,
              "#f0f921"
             ]
            ],
            "type": "heatmap"
           }
          ],
          "heatmapgl": [
           {
            "colorbar": {
             "outlinewidth": 0,
             "ticks": ""
            },
            "colorscale": [
             [
              0,
              "#0d0887"
             ],
             [
              0.1111111111111111,
              "#46039f"
             ],
             [
              0.2222222222222222,
              "#7201a8"
             ],
             [
              0.3333333333333333,
              "#9c179e"
             ],
             [
              0.4444444444444444,
              "#bd3786"
             ],
             [
              0.5555555555555556,
              "#d8576b"
             ],
             [
              0.6666666666666666,
              "#ed7953"
             ],
             [
              0.7777777777777778,
              "#fb9f3a"
             ],
             [
              0.8888888888888888,
              "#fdca26"
             ],
             [
              1,
              "#f0f921"
             ]
            ],
            "type": "heatmapgl"
           }
          ],
          "histogram": [
           {
            "marker": {
             "pattern": {
              "fillmode": "overlay",
              "size": 10,
              "solidity": 0.2
             }
            },
            "type": "histogram"
           }
          ],
          "histogram2d": [
           {
            "colorbar": {
             "outlinewidth": 0,
             "ticks": ""
            },
            "colorscale": [
             [
              0,
              "#0d0887"
             ],
             [
              0.1111111111111111,
              "#46039f"
             ],
             [
              0.2222222222222222,
              "#7201a8"
             ],
             [
              0.3333333333333333,
              "#9c179e"
             ],
             [
              0.4444444444444444,
              "#bd3786"
             ],
             [
              0.5555555555555556,
              "#d8576b"
             ],
             [
              0.6666666666666666,
              "#ed7953"
             ],
             [
              0.7777777777777778,
              "#fb9f3a"
             ],
             [
              0.8888888888888888,
              "#fdca26"
             ],
             [
              1,
              "#f0f921"
             ]
            ],
            "type": "histogram2d"
           }
          ],
          "histogram2dcontour": [
           {
            "colorbar": {
             "outlinewidth": 0,
             "ticks": ""
            },
            "colorscale": [
             [
              0,
              "#0d0887"
             ],
             [
              0.1111111111111111,
              "#46039f"
             ],
             [
              0.2222222222222222,
              "#7201a8"
             ],
             [
              0.3333333333333333,
              "#9c179e"
             ],
             [
              0.4444444444444444,
              "#bd3786"
             ],
             [
              0.5555555555555556,
              "#d8576b"
             ],
             [
              0.6666666666666666,
              "#ed7953"
             ],
             [
              0.7777777777777778,
              "#fb9f3a"
             ],
             [
              0.8888888888888888,
              "#fdca26"
             ],
             [
              1,
              "#f0f921"
             ]
            ],
            "type": "histogram2dcontour"
           }
          ],
          "mesh3d": [
           {
            "colorbar": {
             "outlinewidth": 0,
             "ticks": ""
            },
            "type": "mesh3d"
           }
          ],
          "parcoords": [
           {
            "line": {
             "colorbar": {
              "outlinewidth": 0,
              "ticks": ""
             }
            },
            "type": "parcoords"
           }
          ],
          "pie": [
           {
            "automargin": true,
            "type": "pie"
           }
          ],
          "scatter": [
           {
            "fillpattern": {
             "fillmode": "overlay",
             "size": 10,
             "solidity": 0.2
            },
            "type": "scatter"
           }
          ],
          "scatter3d": [
           {
            "line": {
             "colorbar": {
              "outlinewidth": 0,
              "ticks": ""
             }
            },
            "marker": {
             "colorbar": {
              "outlinewidth": 0,
              "ticks": ""
             }
            },
            "type": "scatter3d"
           }
          ],
          "scattercarpet": [
           {
            "marker": {
             "colorbar": {
              "outlinewidth": 0,
              "ticks": ""
             }
            },
            "type": "scattercarpet"
           }
          ],
          "scattergeo": [
           {
            "marker": {
             "colorbar": {
              "outlinewidth": 0,
              "ticks": ""
             }
            },
            "type": "scattergeo"
           }
          ],
          "scattergl": [
           {
            "marker": {
             "colorbar": {
              "outlinewidth": 0,
              "ticks": ""
             }
            },
            "type": "scattergl"
           }
          ],
          "scattermapbox": [
           {
            "marker": {
             "colorbar": {
              "outlinewidth": 0,
              "ticks": ""
             }
            },
            "type": "scattermapbox"
           }
          ],
          "scatterpolar": [
           {
            "marker": {
             "colorbar": {
              "outlinewidth": 0,
              "ticks": ""
             }
            },
            "type": "scatterpolar"
           }
          ],
          "scatterpolargl": [
           {
            "marker": {
             "colorbar": {
              "outlinewidth": 0,
              "ticks": ""
             }
            },
            "type": "scatterpolargl"
           }
          ],
          "scatterternary": [
           {
            "marker": {
             "colorbar": {
              "outlinewidth": 0,
              "ticks": ""
             }
            },
            "type": "scatterternary"
           }
          ],
          "surface": [
           {
            "colorbar": {
             "outlinewidth": 0,
             "ticks": ""
            },
            "colorscale": [
             [
              0,
              "#0d0887"
             ],
             [
              0.1111111111111111,
              "#46039f"
             ],
             [
              0.2222222222222222,
              "#7201a8"
             ],
             [
              0.3333333333333333,
              "#9c179e"
             ],
             [
              0.4444444444444444,
              "#bd3786"
             ],
             [
              0.5555555555555556,
              "#d8576b"
             ],
             [
              0.6666666666666666,
              "#ed7953"
             ],
             [
              0.7777777777777778,
              "#fb9f3a"
             ],
             [
              0.8888888888888888,
              "#fdca26"
             ],
             [
              1,
              "#f0f921"
             ]
            ],
            "type": "surface"
           }
          ],
          "table": [
           {
            "cells": {
             "fill": {
              "color": "#EBF0F8"
             },
             "line": {
              "color": "white"
             }
            },
            "header": {
             "fill": {
              "color": "#C8D4E3"
             },
             "line": {
              "color": "white"
             }
            },
            "type": "table"
           }
          ]
         },
         "layout": {
          "annotationdefaults": {
           "arrowcolor": "#2a3f5f",
           "arrowhead": 0,
           "arrowwidth": 1
          },
          "autotypenumbers": "strict",
          "coloraxis": {
           "colorbar": {
            "outlinewidth": 0,
            "ticks": ""
           }
          },
          "colorscale": {
           "diverging": [
            [
             0,
             "#8e0152"
            ],
            [
             0.1,
             "#c51b7d"
            ],
            [
             0.2,
             "#de77ae"
            ],
            [
             0.3,
             "#f1b6da"
            ],
            [
             0.4,
             "#fde0ef"
            ],
            [
             0.5,
             "#f7f7f7"
            ],
            [
             0.6,
             "#e6f5d0"
            ],
            [
             0.7,
             "#b8e186"
            ],
            [
             0.8,
             "#7fbc41"
            ],
            [
             0.9,
             "#4d9221"
            ],
            [
             1,
             "#276419"
            ]
           ],
           "sequential": [
            [
             0,
             "#0d0887"
            ],
            [
             0.1111111111111111,
             "#46039f"
            ],
            [
             0.2222222222222222,
             "#7201a8"
            ],
            [
             0.3333333333333333,
             "#9c179e"
            ],
            [
             0.4444444444444444,
             "#bd3786"
            ],
            [
             0.5555555555555556,
             "#d8576b"
            ],
            [
             0.6666666666666666,
             "#ed7953"
            ],
            [
             0.7777777777777778,
             "#fb9f3a"
            ],
            [
             0.8888888888888888,
             "#fdca26"
            ],
            [
             1,
             "#f0f921"
            ]
           ],
           "sequentialminus": [
            [
             0,
             "#0d0887"
            ],
            [
             0.1111111111111111,
             "#46039f"
            ],
            [
             0.2222222222222222,
             "#7201a8"
            ],
            [
             0.3333333333333333,
             "#9c179e"
            ],
            [
             0.4444444444444444,
             "#bd3786"
            ],
            [
             0.5555555555555556,
             "#d8576b"
            ],
            [
             0.6666666666666666,
             "#ed7953"
            ],
            [
             0.7777777777777778,
             "#fb9f3a"
            ],
            [
             0.8888888888888888,
             "#fdca26"
            ],
            [
             1,
             "#f0f921"
            ]
           ]
          },
          "colorway": [
           "#636efa",
           "#EF553B",
           "#00cc96",
           "#ab63fa",
           "#FFA15A",
           "#19d3f3",
           "#FF6692",
           "#B6E880",
           "#FF97FF",
           "#FECB52"
          ],
          "font": {
           "color": "#2a3f5f"
          },
          "geo": {
           "bgcolor": "white",
           "lakecolor": "white",
           "landcolor": "white",
           "showlakes": true,
           "showland": true,
           "subunitcolor": "#C8D4E3"
          },
          "hoverlabel": {
           "align": "left"
          },
          "hovermode": "closest",
          "mapbox": {
           "style": "light"
          },
          "paper_bgcolor": "white",
          "plot_bgcolor": "white",
          "polar": {
           "angularaxis": {
            "gridcolor": "#EBF0F8",
            "linecolor": "#EBF0F8",
            "ticks": ""
           },
           "bgcolor": "white",
           "radialaxis": {
            "gridcolor": "#EBF0F8",
            "linecolor": "#EBF0F8",
            "ticks": ""
           }
          },
          "scene": {
           "xaxis": {
            "backgroundcolor": "white",
            "gridcolor": "#DFE8F3",
            "gridwidth": 2,
            "linecolor": "#EBF0F8",
            "showbackground": true,
            "ticks": "",
            "zerolinecolor": "#EBF0F8"
           },
           "yaxis": {
            "backgroundcolor": "white",
            "gridcolor": "#DFE8F3",
            "gridwidth": 2,
            "linecolor": "#EBF0F8",
            "showbackground": true,
            "ticks": "",
            "zerolinecolor": "#EBF0F8"
           },
           "zaxis": {
            "backgroundcolor": "white",
            "gridcolor": "#DFE8F3",
            "gridwidth": 2,
            "linecolor": "#EBF0F8",
            "showbackground": true,
            "ticks": "",
            "zerolinecolor": "#EBF0F8"
           }
          },
          "shapedefaults": {
           "line": {
            "color": "#2a3f5f"
           }
          },
          "ternary": {
           "aaxis": {
            "gridcolor": "#DFE8F3",
            "linecolor": "#A2B1C6",
            "ticks": ""
           },
           "baxis": {
            "gridcolor": "#DFE8F3",
            "linecolor": "#A2B1C6",
            "ticks": ""
           },
           "bgcolor": "white",
           "caxis": {
            "gridcolor": "#DFE8F3",
            "linecolor": "#A2B1C6",
            "ticks": ""
           }
          },
          "title": {
           "x": 0.05
          },
          "xaxis": {
           "automargin": true,
           "gridcolor": "#EBF0F8",
           "linecolor": "#EBF0F8",
           "ticks": "",
           "title": {
            "standoff": 15
           },
           "zerolinecolor": "#EBF0F8",
           "zerolinewidth": 2
          },
          "yaxis": {
           "automargin": true,
           "gridcolor": "#EBF0F8",
           "linecolor": "#EBF0F8",
           "ticks": "",
           "title": {
            "standoff": 15
           },
           "zerolinecolor": "#EBF0F8",
           "zerolinewidth": 2
          }
         }
        },
        "title": {
         "text": "Relative RMSE for Each Variables"
        },
        "xaxis": {
         "title": {
          "text": "Feature"
         }
        },
        "yaxis": {
         "title": {
          "text": "Relative RMSE"
         }
        }
       }
      }
     },
     "metadata": {},
     "output_type": "display_data"
    }
   ],
   "source": [
    "plot_relative_rmse_by_variables(\n",
    "    X,\n",
    "    X_pred,\n",
    "    X_test,\n",
    "    X_test_pred,\n",
    "    X_columns=X_columns,\n",
    ")"
   ]
  },
  {
   "cell_type": "markdown",
   "metadata": {},
   "source": [
    "### K-Fold"
   ]
  },
  {
   "cell_type": "code",
   "execution_count": 12,
   "metadata": {},
   "outputs": [
    {
     "name": "stderr",
     "output_type": "stream",
     "text": [
      "  0%|          | 0/23 [00:00<?, ?it/s]"
     ]
    },
    {
     "name": "stderr",
     "output_type": "stream",
     "text": [
      "100%|██████████| 23/23 [00:10<00:00,  2.09it/s]\n",
      "100%|██████████| 23/23 [00:18<00:00,  1.27it/s]\n",
      "100%|██████████| 23/23 [00:20<00:00,  1.11it/s]\n",
      "100%|██████████| 23/23 [00:22<00:00,  1.01it/s]\n",
      "100%|██████████| 23/23 [00:21<00:00,  1.06it/s]\n",
      "100%|██████████| 23/23 [00:19<00:00,  1.17it/s]\n",
      "100%|██████████| 23/23 [00:19<00:00,  1.20it/s]\n",
      "100%|██████████| 23/23 [00:18<00:00,  1.25it/s]\n",
      "100%|██████████| 23/23 [00:17<00:00,  1.31it/s]\n",
      "100%|██████████| 23/23 [00:16<00:00,  1.40it/s]\n",
      "100%|██████████| 23/23 [00:16<00:00,  1.42it/s]\n",
      "100%|██████████| 23/23 [00:16<00:00,  1.42it/s]\n",
      "100%|██████████| 23/23 [00:15<00:00,  1.48it/s]\n",
      "100%|██████████| 23/23 [00:15<00:00,  1.47it/s]\n"
     ]
    }
   ],
   "source": [
    "hidden_dims_options = [\n",
    "    [4],\n",
    "    [5],\n",
    "    [6],\n",
    "    [7],\n",
    "\t[8],\n",
    "    [8, 4],\n",
    "    [8, 8],\n",
    "\t[9],\n",
    "\t[10],\n",
    "    [16],\n",
    "    [16, 4],\n",
    "    [16, 8],\n",
    "    [16, 16],\n",
    "    [32],\n",
    "    [32, 4],\n",
    "    [32, 8],\n",
    "    [32, 16],\n",
    "    [32, 32],\n",
    "    [64],\n",
    "    [64, 4],\n",
    "    [64, 8],\n",
    "    [64, 16],\n",
    "    [64, 32], \n",
    "]\n",
    "\n",
    "all_train_eval, all_valid_eval, hidden_dims_options = multi_step_ann_cross_validation_for_each_day(\n",
    "    doe,\n",
    "    owu,\n",
    "    X_columns=X_columns,\n",
    "    W_columns=W_columns,\n",
    "    hidden_dims_options=hidden_dims_options,\n",
    "    cv_folds=5\n",
    ")\n"
   ]
  },
  {
   "cell_type": "code",
   "execution_count": 13,
   "metadata": {},
   "outputs": [
    {
     "data": {
      "application/vnd.plotly.v1+json": {
       "config": {
        "plotlyServerURL": "https://plot.ly"
       },
       "data": [
        {
         "line": {
          "dash": "solid"
         },
         "mode": "lines+markers",
         "name": "Train - [4]",
         "type": "scatter",
         "x": [
          1,
          2,
          3,
          4,
          5,
          6,
          7,
          8,
          9,
          10,
          11,
          12,
          13,
          14
         ],
         "y": [
          1.44535,
          2.4274,
          8.4639,
          6.856999999999999,
          9.800250000000002,
          10.388000000000002,
          13.094,
          13.939449999999999,
          13.661200000000001,
          13.3224,
          12.23985,
          11.698050000000002,
          12.101650000000001,
          12.12895
         ]
        },
        {
         "line": {
          "dash": "dash"
         },
         "mode": "lines+markers",
         "name": "Validation - [4]",
         "type": "scatter",
         "x": [
          1,
          2,
          3,
          4,
          5,
          6,
          7,
          8,
          9,
          10,
          11,
          12,
          13,
          14
         ],
         "y": [
          1.55155,
          2.8031999999999995,
          7.708549999999999,
          8.0124,
          12.357299999999999,
          12.18055,
          14.2649,
          15.26345,
          15.771249999999998,
          15.332199999999998,
          14.304649999999999,
          13.60055,
          14.012599999999999,
          14.07725
         ]
        },
        {
         "line": {
          "dash": "solid"
         },
         "mode": "lines+markers",
         "name": "Train - [5]",
         "type": "scatter",
         "x": [
          1,
          2,
          3,
          4,
          5,
          6,
          7,
          8,
          9,
          10,
          11,
          12,
          13,
          14
         ],
         "y": [
          13.7822,
          16.0226,
          24.5446,
          45.2916,
          78.8083,
          118.6703,
          156.5816,
          187.35265,
          208.60574999999997,
          221.615,
          229.39835,
          232.8726,
          234.77065,
          235.8255
         ]
        },
        {
         "line": {
          "dash": "dash"
         },
         "mode": "lines+markers",
         "name": "Validation - [5]",
         "type": "scatter",
         "x": [
          1,
          2,
          3,
          4,
          5,
          6,
          7,
          8,
          9,
          10,
          11,
          12,
          13,
          14
         ],
         "y": [
          13.750149999999998,
          15.854849999999999,
          24.245199999999997,
          44.68885,
          77.56360000000001,
          117.368,
          154.62495,
          184.93255,
          205.64855,
          218.55790000000002,
          226.82580000000002,
          230.34,
          232.22834999999998,
          233.27734999999998
         ]
        },
        {
         "line": {
          "dash": "solid"
         },
         "mode": "lines+markers",
         "name": "Train - [6]",
         "type": "scatter",
         "x": [
          1,
          2,
          3,
          4,
          5,
          6,
          7,
          8,
          9,
          10,
          11,
          12,
          13,
          14
         ],
         "y": [
          14.2866,
          16.497199999999996,
          25.066399999999998,
          45.83365,
          7.012599999999999,
          10.050600000000001,
          11.81255,
          14.131049999999998,
          14.568299999999997,
          14.6623,
          15.2759,
          15.101399999999998,
          15.02675,
          14.981850000000001
         ]
        },
        {
         "line": {
          "dash": "dash"
         },
         "mode": "lines+markers",
         "name": "Validation - [6]",
         "type": "scatter",
         "x": [
          1,
          2,
          3,
          4,
          5,
          6,
          7,
          8,
          9,
          10,
          11,
          12,
          13,
          14
         ],
         "y": [
          14.2263,
          16.29245,
          24.847949999999997,
          45.297799999999995,
          8.8545,
          11.7647,
          14.2991,
          16.4099,
          17.51645,
          17.423,
          18.12455,
          17.91825,
          17.8644,
          17.8275
         ]
        },
        {
         "line": {
          "dash": "solid"
         },
         "mode": "lines+markers",
         "name": "Train - [7]",
         "type": "scatter",
         "x": [
          1,
          2,
          3,
          4,
          5,
          6,
          7,
          8,
          9,
          10,
          11,
          12,
          13,
          14
         ],
         "y": [
          0.3879,
          0.7304499999999999,
          3.4853,
          6.2090499999999995,
          11.542850000000001,
          15.302800000000001,
          15.405099999999997,
          17.644399999999997,
          13.0652,
          12.8342,
          13.2388,
          12.870199999999999,
          12.7527,
          14.048199999999998
         ]
        },
        {
         "line": {
          "dash": "dash"
         },
         "mode": "lines+markers",
         "name": "Validation - [7]",
         "type": "scatter",
         "x": [
          1,
          2,
          3,
          4,
          5,
          6,
          7,
          8,
          9,
          10,
          11,
          12,
          13,
          14
         ],
         "y": [
          0.41095,
          1.2558,
          4.03235,
          7.869250000000001,
          13.998449999999998,
          17.96905,
          18.4675,
          20.7716,
          16.7417,
          16.98375,
          16.429850000000002,
          16.7418,
          16.6516,
          17.8866
         ]
        },
        {
         "line": {
          "dash": "solid"
         },
         "mode": "lines+markers",
         "name": "Train - [8]",
         "type": "scatter",
         "x": [
          1,
          2,
          3,
          4,
          5,
          6,
          7,
          8,
          9,
          10,
          11,
          12,
          13,
          14
         ],
         "y": [
          0.7463,
          1.0677999999999999,
          3.3121,
          1.2192,
          2.4728000000000003,
          3.19245,
          6.04465,
          4.1734,
          3.41265,
          2.9667499999999998,
          4.04075,
          2.9439,
          2.8441,
          2.8023499999999997
         ]
        },
        {
         "line": {
          "dash": "dash"
         },
         "mode": "lines+markers",
         "name": "Validation - [8]",
         "type": "scatter",
         "x": [
          1,
          2,
          3,
          4,
          5,
          6,
          7,
          8,
          9,
          10,
          11,
          12,
          13,
          14
         ],
         "y": [
          0.9118499999999999,
          1.3593000000000002,
          3.8873499999999996,
          3.05125,
          5.49095,
          6.2844,
          9.9868,
          7.6966,
          7.1522,
          6.47315,
          7.447349999999999,
          6.2439,
          6.060799999999999,
          5.9765500000000005
         ]
        },
        {
         "line": {
          "dash": "solid"
         },
         "mode": "lines+markers",
         "name": "Train - [8, 4]",
         "type": "scatter",
         "x": [
          1,
          2,
          3,
          4,
          5,
          6,
          7,
          8,
          9,
          10,
          11,
          12,
          13,
          14
         ],
         "y": [
          0.3591,
          0.9373500000000001,
          2.0761499999999997,
          3.1979,
          1.94005,
          5.0859000000000005,
          37.007149999999996,
          186.8113,
          206.90380000000002,
          219.02004999999997,
          226.12130000000002,
          229.283,
          231.04604999999998,
          232.02755000000002
         ]
        },
        {
         "line": {
          "dash": "dash"
         },
         "mode": "lines+markers",
         "name": "Validation - [8, 4]",
         "type": "scatter",
         "x": [
          1,
          2,
          3,
          4,
          5,
          6,
          7,
          8,
          9,
          10,
          11,
          12,
          13,
          14
         ],
         "y": [
          0.4706,
          1.27305,
          3.4592,
          5.06875,
          5.16555,
          7.71965,
          33.7653,
          184.14630000000002,
          204.19039999999998,
          216.27124999999995,
          223.34730000000002,
          226.51770000000002,
          228.28730000000002,
          229.27315
         ]
        },
        {
         "line": {
          "dash": "solid"
         },
         "mode": "lines+markers",
         "name": "Train - [8, 8]",
         "type": "scatter",
         "x": [
          1,
          2,
          3,
          4,
          5,
          6,
          7,
          8,
          9,
          10,
          11,
          12,
          13,
          14
         ],
         "y": [
          0.5499499999999999,
          0.8676499999999999,
          3.32215,
          5.19245,
          2.5494499999999998,
          5.834250000000001,
          7.90655,
          5.9807500000000005,
          4.735849999999999,
          5.2026,
          7.0811,
          9.918050000000001,
          9.866699999999998,
          9.936150000000001
         ]
        },
        {
         "line": {
          "dash": "dash"
         },
         "mode": "lines+markers",
         "name": "Validation - [8, 8]",
         "type": "scatter",
         "x": [
          1,
          2,
          3,
          4,
          5,
          6,
          7,
          8,
          9,
          10,
          11,
          12,
          13,
          14
         ],
         "y": [
          0.58625,
          1.4203,
          4.140499999999999,
          7.13525,
          5.3138,
          9.069400000000002,
          12.5307,
          9.773950000000001,
          11.05685,
          10.3566,
          12.804000000000002,
          13.71245,
          14.1221,
          14.10915
         ]
        },
        {
         "line": {
          "dash": "solid"
         },
         "mode": "lines+markers",
         "name": "Train - [9]",
         "type": "scatter",
         "x": [
          1,
          2,
          3,
          4,
          5,
          6,
          7,
          8,
          9,
          10,
          11,
          12,
          13,
          14
         ],
         "y": [
          0.5799000000000001,
          1.4040499999999998,
          3.6205999999999996,
          6.31015,
          10.45735,
          9.55275,
          8.084299999999999,
          11.174199999999999,
          10.76175,
          10.681199999999999,
          11.53865,
          11.07795,
          11.03435,
          11.01385
         ]
        },
        {
         "line": {
          "dash": "dash"
         },
         "mode": "lines+markers",
         "name": "Validation - [9]",
         "type": "scatter",
         "x": [
          1,
          2,
          3,
          4,
          5,
          6,
          7,
          8,
          9,
          10,
          11,
          12,
          13,
          14
         ],
         "y": [
          0.7301500000000001,
          1.8756000000000002,
          4.109999999999999,
          7.6488499999999995,
          12.981000000000002,
          11.46655,
          10.866299999999999,
          12.9636,
          13.1577,
          13.124799999999999,
          14.4531,
          13.820249999999998,
          13.79705,
          13.798850000000002
         ]
        },
        {
         "line": {
          "dash": "solid"
         },
         "mode": "lines+markers",
         "name": "Train - [10]",
         "type": "scatter",
         "x": [
          1,
          2,
          3,
          4,
          5,
          6,
          7,
          8,
          9,
          10,
          11,
          12,
          13,
          14
         ],
         "y": [
          0.43254999999999993,
          0.8437,
          2.82685,
          2.9658999999999995,
          7.812200000000001,
          10.4812,
          10.758500000000002,
          10.00065,
          12.1341,
          13.3125,
          11.244900000000001,
          9.97775,
          10.7529,
          10.68095
         ]
        },
        {
         "line": {
          "dash": "dash"
         },
         "mode": "lines+markers",
         "name": "Validation - [10]",
         "type": "scatter",
         "x": [
          1,
          2,
          3,
          4,
          5,
          6,
          7,
          8,
          9,
          10,
          11,
          12,
          13,
          14
         ],
         "y": [
          0.51685,
          1.29145,
          3.9493,
          5.346550000000001,
          10.3233,
          12.607299999999999,
          13.6253,
          13.614799999999999,
          14.805100000000001,
          16.894199999999998,
          14.3113,
          13.6874,
          13.7065,
          13.6824
         ]
        },
        {
         "line": {
          "dash": "solid"
         },
         "mode": "lines+markers",
         "name": "Train - [16]",
         "type": "scatter",
         "x": [
          1,
          2,
          3,
          4,
          5,
          6,
          7,
          8,
          9,
          10,
          11,
          12,
          13,
          14
         ],
         "y": [
          0.9564999999999999,
          0.45594999999999997,
          1.3982,
          1.6718,
          6.066350000000001,
          5.6533999999999995,
          4.0803,
          7.748,
          9.0674,
          13.597099999999998,
          14.951099999999999,
          11.465549999999999,
          13.5015,
          11.7554
         ]
        },
        {
         "line": {
          "dash": "dash"
         },
         "mode": "lines+markers",
         "name": "Validation - [16]",
         "type": "scatter",
         "x": [
          1,
          2,
          3,
          4,
          5,
          6,
          7,
          8,
          9,
          10,
          11,
          12,
          13,
          14
         ],
         "y": [
          1.0134500000000002,
          1.53895,
          3.3782000000000005,
          3.8249000000000004,
          7.293200000000001,
          8.344149999999999,
          8.56055,
          13.3503,
          15.9235,
          17.22335,
          18.394099999999998,
          16.315749999999998,
          17.1375,
          15.522100000000002
         ]
        },
        {
         "line": {
          "dash": "solid"
         },
         "mode": "lines+markers",
         "name": "Train - [16, 4]",
         "type": "scatter",
         "x": [
          1,
          2,
          3,
          4,
          5,
          6,
          7,
          8,
          9,
          10,
          11,
          12,
          13,
          14
         ],
         "y": [
          0.5218499999999999,
          0.63365,
          2.1361499999999998,
          1.7031500000000002,
          3.5648999999999997,
          6.925000000000001,
          11.22285,
          12.561599999999999,
          13.219550000000002,
          13.925049999999999,
          14.916500000000001,
          14.9438,
          15.456399999999999,
          15.410599999999999
         ]
        },
        {
         "line": {
          "dash": "dash"
         },
         "mode": "lines+markers",
         "name": "Validation - [16, 4]",
         "type": "scatter",
         "x": [
          1,
          2,
          3,
          4,
          5,
          6,
          7,
          8,
          9,
          10,
          11,
          12,
          13,
          14
         ],
         "y": [
          0.58015,
          1.4593999999999998,
          4.02855,
          3.62025,
          6.00095,
          8.841099999999999,
          13.09345,
          14.474450000000001,
          15.032900000000001,
          15.52785,
          16.75165,
          16.82675,
          17.4041,
          17.3751
         ]
        },
        {
         "line": {
          "dash": "solid"
         },
         "mode": "lines+markers",
         "name": "Train - [16, 8]",
         "type": "scatter",
         "x": [
          1,
          2,
          3,
          4,
          5,
          6,
          7,
          8,
          9,
          10,
          11,
          12,
          13,
          14
         ],
         "y": [
          0.6368999999999999,
          0.4775,
          1.6050500000000003,
          0.7781500000000001,
          3.55825,
          7.470650000000001,
          9.257,
          11.5735,
          13.338799999999999,
          12.634849999999998,
          14.28495,
          13.929099999999998,
          13.945050000000002,
          13.972050000000001
         ]
        },
        {
         "line": {
          "dash": "dash"
         },
         "mode": "lines+markers",
         "name": "Validation - [16, 8]",
         "type": "scatter",
         "x": [
          1,
          2,
          3,
          4,
          5,
          6,
          7,
          8,
          9,
          10,
          11,
          12,
          13,
          14
         ],
         "y": [
          0.8365499999999999,
          1.4069999999999998,
          3.4120000000000004,
          2.5667,
          6.37085,
          9.374849999999999,
          11.823450000000001,
          11.27105,
          14.330450000000003,
          15.65435,
          16.541900000000002,
          15.802299999999999,
          15.560649999999999,
          15.435749999999999
         ]
        },
        {
         "line": {
          "dash": "solid"
         },
         "mode": "lines+markers",
         "name": "Train - [16, 16]",
         "type": "scatter",
         "x": [
          1,
          2,
          3,
          4,
          5,
          6,
          7,
          8,
          9,
          10,
          11,
          12,
          13,
          14
         ],
         "y": [
          0.4863,
          0.9322999999999999,
          2.2297,
          1.39445,
          3.5879999999999996,
          6.249599999999999,
          9.155850000000001,
          9.98365,
          9.745999999999999,
          9.01995,
          13.14175,
          10.549700000000001,
          12.37835,
          11.771649999999998
         ]
        },
        {
         "line": {
          "dash": "dash"
         },
         "mode": "lines+markers",
         "name": "Validation - [16, 16]",
         "type": "scatter",
         "x": [
          1,
          2,
          3,
          4,
          5,
          6,
          7,
          8,
          9,
          10,
          11,
          12,
          13,
          14
         ],
         "y": [
          0.53455,
          1.6413,
          4.11625,
          3.73755,
          5.55975,
          8.716,
          11.919799999999999,
          13.2736,
          11.833499999999999,
          12.6652,
          13.54505,
          12.497699999999998,
          14.548600000000002,
          13.8947
         ]
        },
        {
         "line": {
          "dash": "solid"
         },
         "mode": "lines+markers",
         "name": "Train - [32]",
         "type": "scatter",
         "x": [
          1,
          2,
          3,
          4,
          5,
          6,
          7,
          8,
          9,
          10,
          11,
          12,
          13,
          14
         ],
         "y": [
          1.52525,
          0.50105,
          1.3512499999999998,
          1.03535,
          3.8370499999999996,
          9.7451,
          11.4862,
          18.32825,
          19.592599999999997,
          20.52015,
          20.947,
          21.089299999999998,
          21.19475,
          20.7557
         ]
        },
        {
         "line": {
          "dash": "dash"
         },
         "mode": "lines+markers",
         "name": "Validation - [32]",
         "type": "scatter",
         "x": [
          1,
          2,
          3,
          4,
          5,
          6,
          7,
          8,
          9,
          10,
          11,
          12,
          13,
          14
         ],
         "y": [
          1.5104,
          1.1673499999999999,
          3.5078,
          2.98165,
          5.84345,
          11.19135,
          14.0323,
          19.97615,
          20.8516,
          21.6687,
          21.6946,
          21.61735,
          21.6903,
          21.49775
         ]
        },
        {
         "line": {
          "dash": "solid"
         },
         "mode": "lines+markers",
         "name": "Train - [32, 4]",
         "type": "scatter",
         "x": [
          1,
          2,
          3,
          4,
          5,
          6,
          7,
          8,
          9,
          10,
          11,
          12,
          13,
          14
         ],
         "y": [
          0.38794999999999996,
          0.639,
          2.4835000000000003,
          1.67115,
          6.0009,
          9.22675,
          13.0659,
          15.259250000000002,
          16.041050000000002,
          20.81725,
          21.79015,
          22.1477,
          22.2352,
          22.055949999999996
         ]
        },
        {
         "line": {
          "dash": "dash"
         },
         "mode": "lines+markers",
         "name": "Validation - [32, 4]",
         "type": "scatter",
         "x": [
          1,
          2,
          3,
          4,
          5,
          6,
          7,
          8,
          9,
          10,
          11,
          12,
          13,
          14
         ],
         "y": [
          0.57985,
          1.3741,
          4.0495,
          3.0724,
          7.9826,
          11.07855,
          16.18855,
          18.7306,
          19.4065,
          20.846249999999998,
          21.924,
          22.397350000000003,
          22.4764,
          22.34485
         ]
        },
        {
         "line": {
          "dash": "solid"
         },
         "mode": "lines+markers",
         "name": "Train - [32, 8]",
         "type": "scatter",
         "x": [
          1,
          2,
          3,
          4,
          5,
          6,
          7,
          8,
          9,
          10,
          11,
          12,
          13,
          14
         ],
         "y": [
          2.49525,
          2.6915,
          3.65415,
          2.6576,
          4.5207,
          8.1085,
          9.09585,
          10.228100000000001,
          11.692400000000001,
          12.35835,
          13.58155,
          13.09935,
          13.06535,
          14.746350000000001
         ]
        },
        {
         "line": {
          "dash": "dash"
         },
         "mode": "lines+markers",
         "name": "Validation - [32, 8]",
         "type": "scatter",
         "x": [
          1,
          2,
          3,
          4,
          5,
          6,
          7,
          8,
          9,
          10,
          11,
          12,
          13,
          14
         ],
         "y": [
          2.4607,
          2.96825,
          4.8637500000000005,
          3.7243,
          7.1157,
          10.822,
          12.272549999999999,
          14.7662,
          15.552850000000001,
          15.222100000000001,
          15.93295,
          15.06715,
          15.0272,
          16.12695
         ]
        },
        {
         "line": {
          "dash": "solid"
         },
         "mode": "lines+markers",
         "name": "Train - [32, 16]",
         "type": "scatter",
         "x": [
          1,
          2,
          3,
          4,
          5,
          6,
          7,
          8,
          9,
          10,
          11,
          12,
          13,
          14
         ],
         "y": [
          1.8187000000000002,
          3.21915,
          4.90345,
          4.3959,
          5.7805,
          14.16395,
          22.69995,
          26.38935,
          28.8273,
          30.2239,
          31.5213,
          32.31375,
          32.65965,
          32.8246
         ]
        },
        {
         "line": {
          "dash": "dash"
         },
         "mode": "lines+markers",
         "name": "Validation - [32, 16]",
         "type": "scatter",
         "x": [
          1,
          2,
          3,
          4,
          5,
          6,
          7,
          8,
          9,
          10,
          11,
          12,
          13,
          14
         ],
         "y": [
          1.8408000000000002,
          3.2868500000000003,
          5.115,
          6.3485499999999995,
          8.32555,
          15.639949999999999,
          22.41305,
          25.47015,
          27.90175,
          29.498549999999998,
          31.111500000000003,
          31.79735,
          32.13425000000001,
          32.296800000000005
         ]
        },
        {
         "line": {
          "dash": "solid"
         },
         "mode": "lines+markers",
         "name": "Train - [32, 32]",
         "type": "scatter",
         "x": [
          1,
          2,
          3,
          4,
          5,
          6,
          7,
          8,
          9,
          10,
          11,
          12,
          13,
          14
         ],
         "y": [
          3.4421000000000004,
          3.0431,
          2.217150000000001,
          6.46185,
          12.837600000000002,
          14.509149999999998,
          12.911900000000001,
          14.229299999999999,
          16.63995,
          17.082250000000002,
          17.7101,
          17.67845,
          17.747149999999998,
          17.8047
         ]
        },
        {
         "line": {
          "dash": "dash"
         },
         "mode": "lines+markers",
         "name": "Validation - [32, 32]",
         "type": "scatter",
         "x": [
          1,
          2,
          3,
          4,
          5,
          6,
          7,
          8,
          9,
          10,
          11,
          12,
          13,
          14
         ],
         "y": [
          3.3773999999999997,
          3.41845,
          3.3693,
          8.105599999999999,
          14.905,
          15.742349999999998,
          14.04,
          14.36235,
          16.762449999999998,
          17.5389,
          17.663400000000003,
          16.77845,
          16.90965,
          16.85165
         ]
        },
        {
         "line": {
          "dash": "solid"
         },
         "mode": "lines+markers",
         "name": "Train - [64]",
         "type": "scatter",
         "x": [
          1,
          2,
          3,
          4,
          5,
          6,
          7,
          8,
          9,
          10,
          11,
          12,
          13,
          14
         ],
         "y": [
          3.298,
          3.8984,
          3.7095000000000002,
          6.1442499999999995,
          6.37675,
          3.5119499999999997,
          6.4979499999999994,
          7.205849999999998,
          7.833900000000001,
          15.345300000000002,
          15.5299,
          17.3027,
          15.728700000000002,
          15.80895
         ]
        },
        {
         "line": {
          "dash": "dash"
         },
         "mode": "lines+markers",
         "name": "Validation - [64]",
         "type": "scatter",
         "x": [
          1,
          2,
          3,
          4,
          5,
          6,
          7,
          8,
          9,
          10,
          11,
          12,
          13,
          14
         ],
         "y": [
          3.2425999999999995,
          3.9909,
          4.4511,
          7.8666,
          8.739450000000001,
          6.9572,
          11.4038,
          12.96315,
          14.3331,
          17.2421,
          17.4555,
          19.785850000000003,
          16.551050000000004,
          16.643500000000003
         ]
        },
        {
         "line": {
          "dash": "solid"
         },
         "mode": "lines+markers",
         "name": "Train - [64, 4]",
         "type": "scatter",
         "x": [
          1,
          2,
          3,
          4,
          5,
          6,
          7,
          8,
          9,
          10,
          11,
          12,
          13,
          14
         ],
         "y": [
          13.377550000000001,
          15.498000000000001,
          24.054850000000002,
          44.792649999999995,
          78.24665,
          118.0762,
          155.7625,
          185.7524,
          205.8904,
          218.06050000000002,
          225.15715,
          228.31185,
          230.06895,
          231.05115
         ]
        },
        {
         "line": {
          "dash": "dash"
         },
         "mode": "lines+markers",
         "name": "Validation - [64, 4]",
         "type": "scatter",
         "x": [
          1,
          2,
          3,
          4,
          5,
          6,
          7,
          8,
          9,
          10,
          11,
          12,
          13,
          14
         ],
         "y": [
          13.2392,
          15.2994,
          23.73975,
          44.09795,
          76.89995,
          116.11200000000001,
          153.33909999999997,
          183.07754999999997,
          203.16805,
          215.30345,
          222.37455,
          225.53755,
          227.30085000000003,
          228.28865000000002
         ]
        },
        {
         "line": {
          "dash": "solid"
         },
         "mode": "lines+markers",
         "name": "Train - [64, 8]",
         "type": "scatter",
         "x": [
          1,
          2,
          3,
          4,
          5,
          6,
          7,
          8,
          9,
          10,
          11,
          12,
          13,
          14
         ],
         "y": [
          1.2550500000000002,
          1.55645,
          2.9443999999999995,
          8.59015,
          13.5938,
          15.964400000000001,
          12.464949999999998,
          11.3807,
          11.417649999999998,
          12.322650000000001,
          12.977350000000001,
          13.0075,
          13.18665,
          12.844199999999999
         ]
        },
        {
         "line": {
          "dash": "dash"
         },
         "mode": "lines+markers",
         "name": "Validation - [64, 8]",
         "type": "scatter",
         "x": [
          1,
          2,
          3,
          4,
          5,
          6,
          7,
          8,
          9,
          10,
          11,
          12,
          13,
          14
         ],
         "y": [
          1.28605,
          2.2039,
          4.18765,
          10.048750000000002,
          15.01685,
          17.84665,
          13.72115,
          11.9011,
          12.75065,
          12.455900000000002,
          13.893,
          12.570199999999998,
          13.11835,
          12.885900000000001
         ]
        },
        {
         "line": {
          "dash": "solid"
         },
         "mode": "lines+markers",
         "name": "Train - [64, 16]",
         "type": "scatter",
         "x": [
          1,
          2,
          3,
          4,
          5,
          6,
          7,
          8,
          9,
          10,
          11,
          12,
          13,
          14
         ],
         "y": [
          2.8907499999999997,
          4.0728,
          6.566699999999999,
          9.8843,
          15.024149999999999,
          20.157100000000003,
          23.10335,
          24.491349999999997,
          25.9008,
          26.29625,
          28.019199999999998,
          28.342550000000003,
          28.559549999999994,
          27.6037
         ]
        },
        {
         "line": {
          "dash": "dash"
         },
         "mode": "lines+markers",
         "name": "Validation - [64, 16]",
         "type": "scatter",
         "x": [
          1,
          2,
          3,
          4,
          5,
          6,
          7,
          8,
          9,
          10,
          11,
          12,
          13,
          14
         ],
         "y": [
          2.8725,
          4.116,
          6.4878,
          10.8382,
          15.95745,
          19.8341,
          22.38935,
          23.368850000000002,
          25.09415,
          25.733600000000003,
          27.044700000000002,
          27.5699,
          27.8489,
          26.66275
         ]
        },
        {
         "line": {
          "dash": "solid"
         },
         "mode": "lines+markers",
         "name": "Train - [64, 32]",
         "type": "scatter",
         "x": [
          1,
          2,
          3,
          4,
          5,
          6,
          7,
          8,
          9,
          10,
          11,
          12,
          13,
          14
         ],
         "y": [
          1.80055,
          2.0449499999999996,
          3.63915,
          8.9616,
          13.60605,
          17.5588,
          12.5653,
          11.97315,
          12.5775,
          13.2916,
          13.949700000000004,
          14.06715,
          15.39855,
          14.319600000000001
         ]
        },
        {
         "line": {
          "dash": "dash"
         },
         "mode": "lines+markers",
         "name": "Validation - [64, 32]",
         "type": "scatter",
         "x": [
          1,
          2,
          3,
          4,
          5,
          6,
          7,
          8,
          9,
          10,
          11,
          12,
          13,
          14
         ],
         "y": [
          1.8693499999999998,
          2.8563,
          4.779400000000001,
          10.10065,
          14.7425,
          18.8006,
          14.0374,
          13.4284,
          15.47775,
          15.93335,
          15.89725,
          15.786250000000003,
          16.73335,
          16.0085
         ]
        }
       ],
       "layout": {
        "height": 600,
        "legend": {
         "title": {
          "text": "Evaluation Type"
         }
        },
        "template": {
         "data": {
          "bar": [
           {
            "error_x": {
             "color": "#2a3f5f"
            },
            "error_y": {
             "color": "#2a3f5f"
            },
            "marker": {
             "line": {
              "color": "white",
              "width": 0.5
             },
             "pattern": {
              "fillmode": "overlay",
              "size": 10,
              "solidity": 0.2
             }
            },
            "type": "bar"
           }
          ],
          "barpolar": [
           {
            "marker": {
             "line": {
              "color": "white",
              "width": 0.5
             },
             "pattern": {
              "fillmode": "overlay",
              "size": 10,
              "solidity": 0.2
             }
            },
            "type": "barpolar"
           }
          ],
          "carpet": [
           {
            "aaxis": {
             "endlinecolor": "#2a3f5f",
             "gridcolor": "#C8D4E3",
             "linecolor": "#C8D4E3",
             "minorgridcolor": "#C8D4E3",
             "startlinecolor": "#2a3f5f"
            },
            "baxis": {
             "endlinecolor": "#2a3f5f",
             "gridcolor": "#C8D4E3",
             "linecolor": "#C8D4E3",
             "minorgridcolor": "#C8D4E3",
             "startlinecolor": "#2a3f5f"
            },
            "type": "carpet"
           }
          ],
          "choropleth": [
           {
            "colorbar": {
             "outlinewidth": 0,
             "ticks": ""
            },
            "type": "choropleth"
           }
          ],
          "contour": [
           {
            "colorbar": {
             "outlinewidth": 0,
             "ticks": ""
            },
            "colorscale": [
             [
              0,
              "#0d0887"
             ],
             [
              0.1111111111111111,
              "#46039f"
             ],
             [
              0.2222222222222222,
              "#7201a8"
             ],
             [
              0.3333333333333333,
              "#9c179e"
             ],
             [
              0.4444444444444444,
              "#bd3786"
             ],
             [
              0.5555555555555556,
              "#d8576b"
             ],
             [
              0.6666666666666666,
              "#ed7953"
             ],
             [
              0.7777777777777778,
              "#fb9f3a"
             ],
             [
              0.8888888888888888,
              "#fdca26"
             ],
             [
              1,
              "#f0f921"
             ]
            ],
            "type": "contour"
           }
          ],
          "contourcarpet": [
           {
            "colorbar": {
             "outlinewidth": 0,
             "ticks": ""
            },
            "type": "contourcarpet"
           }
          ],
          "heatmap": [
           {
            "colorbar": {
             "outlinewidth": 0,
             "ticks": ""
            },
            "colorscale": [
             [
              0,
              "#0d0887"
             ],
             [
              0.1111111111111111,
              "#46039f"
             ],
             [
              0.2222222222222222,
              "#7201a8"
             ],
             [
              0.3333333333333333,
              "#9c179e"
             ],
             [
              0.4444444444444444,
              "#bd3786"
             ],
             [
              0.5555555555555556,
              "#d8576b"
             ],
             [
              0.6666666666666666,
              "#ed7953"
             ],
             [
              0.7777777777777778,
              "#fb9f3a"
             ],
             [
              0.8888888888888888,
              "#fdca26"
             ],
             [
              1,
              "#f0f921"
             ]
            ],
            "type": "heatmap"
           }
          ],
          "heatmapgl": [
           {
            "colorbar": {
             "outlinewidth": 0,
             "ticks": ""
            },
            "colorscale": [
             [
              0,
              "#0d0887"
             ],
             [
              0.1111111111111111,
              "#46039f"
             ],
             [
              0.2222222222222222,
              "#7201a8"
             ],
             [
              0.3333333333333333,
              "#9c179e"
             ],
             [
              0.4444444444444444,
              "#bd3786"
             ],
             [
              0.5555555555555556,
              "#d8576b"
             ],
             [
              0.6666666666666666,
              "#ed7953"
             ],
             [
              0.7777777777777778,
              "#fb9f3a"
             ],
             [
              0.8888888888888888,
              "#fdca26"
             ],
             [
              1,
              "#f0f921"
             ]
            ],
            "type": "heatmapgl"
           }
          ],
          "histogram": [
           {
            "marker": {
             "pattern": {
              "fillmode": "overlay",
              "size": 10,
              "solidity": 0.2
             }
            },
            "type": "histogram"
           }
          ],
          "histogram2d": [
           {
            "colorbar": {
             "outlinewidth": 0,
             "ticks": ""
            },
            "colorscale": [
             [
              0,
              "#0d0887"
             ],
             [
              0.1111111111111111,
              "#46039f"
             ],
             [
              0.2222222222222222,
              "#7201a8"
             ],
             [
              0.3333333333333333,
              "#9c179e"
             ],
             [
              0.4444444444444444,
              "#bd3786"
             ],
             [
              0.5555555555555556,
              "#d8576b"
             ],
             [
              0.6666666666666666,
              "#ed7953"
             ],
             [
              0.7777777777777778,
              "#fb9f3a"
             ],
             [
              0.8888888888888888,
              "#fdca26"
             ],
             [
              1,
              "#f0f921"
             ]
            ],
            "type": "histogram2d"
           }
          ],
          "histogram2dcontour": [
           {
            "colorbar": {
             "outlinewidth": 0,
             "ticks": ""
            },
            "colorscale": [
             [
              0,
              "#0d0887"
             ],
             [
              0.1111111111111111,
              "#46039f"
             ],
             [
              0.2222222222222222,
              "#7201a8"
             ],
             [
              0.3333333333333333,
              "#9c179e"
             ],
             [
              0.4444444444444444,
              "#bd3786"
             ],
             [
              0.5555555555555556,
              "#d8576b"
             ],
             [
              0.6666666666666666,
              "#ed7953"
             ],
             [
              0.7777777777777778,
              "#fb9f3a"
             ],
             [
              0.8888888888888888,
              "#fdca26"
             ],
             [
              1,
              "#f0f921"
             ]
            ],
            "type": "histogram2dcontour"
           }
          ],
          "mesh3d": [
           {
            "colorbar": {
             "outlinewidth": 0,
             "ticks": ""
            },
            "type": "mesh3d"
           }
          ],
          "parcoords": [
           {
            "line": {
             "colorbar": {
              "outlinewidth": 0,
              "ticks": ""
             }
            },
            "type": "parcoords"
           }
          ],
          "pie": [
           {
            "automargin": true,
            "type": "pie"
           }
          ],
          "scatter": [
           {
            "fillpattern": {
             "fillmode": "overlay",
             "size": 10,
             "solidity": 0.2
            },
            "type": "scatter"
           }
          ],
          "scatter3d": [
           {
            "line": {
             "colorbar": {
              "outlinewidth": 0,
              "ticks": ""
             }
            },
            "marker": {
             "colorbar": {
              "outlinewidth": 0,
              "ticks": ""
             }
            },
            "type": "scatter3d"
           }
          ],
          "scattercarpet": [
           {
            "marker": {
             "colorbar": {
              "outlinewidth": 0,
              "ticks": ""
             }
            },
            "type": "scattercarpet"
           }
          ],
          "scattergeo": [
           {
            "marker": {
             "colorbar": {
              "outlinewidth": 0,
              "ticks": ""
             }
            },
            "type": "scattergeo"
           }
          ],
          "scattergl": [
           {
            "marker": {
             "colorbar": {
              "outlinewidth": 0,
              "ticks": ""
             }
            },
            "type": "scattergl"
           }
          ],
          "scattermapbox": [
           {
            "marker": {
             "colorbar": {
              "outlinewidth": 0,
              "ticks": ""
             }
            },
            "type": "scattermapbox"
           }
          ],
          "scatterpolar": [
           {
            "marker": {
             "colorbar": {
              "outlinewidth": 0,
              "ticks": ""
             }
            },
            "type": "scatterpolar"
           }
          ],
          "scatterpolargl": [
           {
            "marker": {
             "colorbar": {
              "outlinewidth": 0,
              "ticks": ""
             }
            },
            "type": "scatterpolargl"
           }
          ],
          "scatterternary": [
           {
            "marker": {
             "colorbar": {
              "outlinewidth": 0,
              "ticks": ""
             }
            },
            "type": "scatterternary"
           }
          ],
          "surface": [
           {
            "colorbar": {
             "outlinewidth": 0,
             "ticks": ""
            },
            "colorscale": [
             [
              0,
              "#0d0887"
             ],
             [
              0.1111111111111111,
              "#46039f"
             ],
             [
              0.2222222222222222,
              "#7201a8"
             ],
             [
              0.3333333333333333,
              "#9c179e"
             ],
             [
              0.4444444444444444,
              "#bd3786"
             ],
             [
              0.5555555555555556,
              "#d8576b"
             ],
             [
              0.6666666666666666,
              "#ed7953"
             ],
             [
              0.7777777777777778,
              "#fb9f3a"
             ],
             [
              0.8888888888888888,
              "#fdca26"
             ],
             [
              1,
              "#f0f921"
             ]
            ],
            "type": "surface"
           }
          ],
          "table": [
           {
            "cells": {
             "fill": {
              "color": "#EBF0F8"
             },
             "line": {
              "color": "white"
             }
            },
            "header": {
             "fill": {
              "color": "#C8D4E3"
             },
             "line": {
              "color": "white"
             }
            },
            "type": "table"
           }
          ]
         },
         "layout": {
          "annotationdefaults": {
           "arrowcolor": "#2a3f5f",
           "arrowhead": 0,
           "arrowwidth": 1
          },
          "autotypenumbers": "strict",
          "coloraxis": {
           "colorbar": {
            "outlinewidth": 0,
            "ticks": ""
           }
          },
          "colorscale": {
           "diverging": [
            [
             0,
             "#8e0152"
            ],
            [
             0.1,
             "#c51b7d"
            ],
            [
             0.2,
             "#de77ae"
            ],
            [
             0.3,
             "#f1b6da"
            ],
            [
             0.4,
             "#fde0ef"
            ],
            [
             0.5,
             "#f7f7f7"
            ],
            [
             0.6,
             "#e6f5d0"
            ],
            [
             0.7,
             "#b8e186"
            ],
            [
             0.8,
             "#7fbc41"
            ],
            [
             0.9,
             "#4d9221"
            ],
            [
             1,
             "#276419"
            ]
           ],
           "sequential": [
            [
             0,
             "#0d0887"
            ],
            [
             0.1111111111111111,
             "#46039f"
            ],
            [
             0.2222222222222222,
             "#7201a8"
            ],
            [
             0.3333333333333333,
             "#9c179e"
            ],
            [
             0.4444444444444444,
             "#bd3786"
            ],
            [
             0.5555555555555556,
             "#d8576b"
            ],
            [
             0.6666666666666666,
             "#ed7953"
            ],
            [
             0.7777777777777778,
             "#fb9f3a"
            ],
            [
             0.8888888888888888,
             "#fdca26"
            ],
            [
             1,
             "#f0f921"
            ]
           ],
           "sequentialminus": [
            [
             0,
             "#0d0887"
            ],
            [
             0.1111111111111111,
             "#46039f"
            ],
            [
             0.2222222222222222,
             "#7201a8"
            ],
            [
             0.3333333333333333,
             "#9c179e"
            ],
            [
             0.4444444444444444,
             "#bd3786"
            ],
            [
             0.5555555555555556,
             "#d8576b"
            ],
            [
             0.6666666666666666,
             "#ed7953"
            ],
            [
             0.7777777777777778,
             "#fb9f3a"
            ],
            [
             0.8888888888888888,
             "#fdca26"
            ],
            [
             1,
             "#f0f921"
            ]
           ]
          },
          "colorway": [
           "#636efa",
           "#EF553B",
           "#00cc96",
           "#ab63fa",
           "#FFA15A",
           "#19d3f3",
           "#FF6692",
           "#B6E880",
           "#FF97FF",
           "#FECB52"
          ],
          "font": {
           "color": "#2a3f5f"
          },
          "geo": {
           "bgcolor": "white",
           "lakecolor": "white",
           "landcolor": "white",
           "showlakes": true,
           "showland": true,
           "subunitcolor": "#C8D4E3"
          },
          "hoverlabel": {
           "align": "left"
          },
          "hovermode": "closest",
          "mapbox": {
           "style": "light"
          },
          "paper_bgcolor": "white",
          "plot_bgcolor": "white",
          "polar": {
           "angularaxis": {
            "gridcolor": "#EBF0F8",
            "linecolor": "#EBF0F8",
            "ticks": ""
           },
           "bgcolor": "white",
           "radialaxis": {
            "gridcolor": "#EBF0F8",
            "linecolor": "#EBF0F8",
            "ticks": ""
           }
          },
          "scene": {
           "xaxis": {
            "backgroundcolor": "white",
            "gridcolor": "#DFE8F3",
            "gridwidth": 2,
            "linecolor": "#EBF0F8",
            "showbackground": true,
            "ticks": "",
            "zerolinecolor": "#EBF0F8"
           },
           "yaxis": {
            "backgroundcolor": "white",
            "gridcolor": "#DFE8F3",
            "gridwidth": 2,
            "linecolor": "#EBF0F8",
            "showbackground": true,
            "ticks": "",
            "zerolinecolor": "#EBF0F8"
           },
           "zaxis": {
            "backgroundcolor": "white",
            "gridcolor": "#DFE8F3",
            "gridwidth": 2,
            "linecolor": "#EBF0F8",
            "showbackground": true,
            "ticks": "",
            "zerolinecolor": "#EBF0F8"
           }
          },
          "shapedefaults": {
           "line": {
            "color": "#2a3f5f"
           }
          },
          "ternary": {
           "aaxis": {
            "gridcolor": "#DFE8F3",
            "linecolor": "#A2B1C6",
            "ticks": ""
           },
           "baxis": {
            "gridcolor": "#DFE8F3",
            "linecolor": "#A2B1C6",
            "ticks": ""
           },
           "bgcolor": "white",
           "caxis": {
            "gridcolor": "#DFE8F3",
            "linecolor": "#A2B1C6",
            "ticks": ""
           }
          },
          "title": {
           "x": 0.05
          },
          "xaxis": {
           "automargin": true,
           "gridcolor": "#EBF0F8",
           "linecolor": "#EBF0F8",
           "ticks": "",
           "title": {
            "standoff": 15
           },
           "zerolinecolor": "#EBF0F8",
           "zerolinewidth": 2
          },
          "yaxis": {
           "automargin": true,
           "gridcolor": "#EBF0F8",
           "linecolor": "#EBF0F8",
           "ticks": "",
           "title": {
            "standoff": 15
           },
           "zerolinecolor": "#EBF0F8",
           "zerolinewidth": 2
          }
         }
        },
        "title": {
         "text": "RMSE by Hidden Dimensions Over Time"
        },
        "width": 1000,
        "xaxis": {
         "title": {
          "text": "Time Steps"
         }
        },
        "yaxis": {
         "title": {
          "text": "RMSE"
         }
        }
       }
      }
     },
     "metadata": {},
     "output_type": "display_data"
    },
    {
     "name": "stdout",
     "output_type": "stream",
     "text": [
      "Best hidden dimensions for each time step: {1: (7,), 2: (32,), 3: (32, 32), 4: (16, 8), 5: (8, 4), 6: (8,), 7: (16,), 8: (8,), 9: (8,), 10: (8,), 11: (8,), 12: (8,), 13: (8,), 14: (8,)}\n"
     ]
    }
   ],
   "source": [
    "plot_rmse_by_hidden_dims(all_train_eval, all_valid_eval, hidden_dims_options)\n",
    "\n",
    "best_hidden_dims = {}\n",
    "for t, evals in all_valid_eval.items():\n",
    "    best_hidden_dims[t] = min(evals, key=evals.get)\n",
    "\n",
    "print(\"Best hidden dimensions for each time step:\", best_hidden_dims)"
   ]
  },
  {
   "cell_type": "markdown",
   "metadata": {},
   "source": [
    "### Retrain"
   ]
  },
  {
   "cell_type": "code",
   "execution_count": 14,
   "metadata": {},
   "outputs": [],
   "source": [
    "models = fit_multi_step_ann_model(\n",
    "    doe,\n",
    "    owu,\n",
    "    t_steps=15,\n",
    "    hidden_dims=HIDDEN_DIMS,\n",
    "    X_columns=X_columns,\n",
    "    W_columns=W_columns,\n",
    "\tbest_hidden_dims=best_hidden_dims,\n",
    ")"
   ]
  },
  {
   "cell_type": "code",
   "execution_count": 15,
   "metadata": {},
   "outputs": [],
   "source": [
    "X0 = owu.loc[owu.index.get_level_values('time') < 1, X_columns]\n",
    "W = owu[['W:Feed']]\n",
    "\n",
    "X_pred = predict_multi_step_ann_model(\n",
    "    doe,\n",
    "    X0,\n",
    "    W,\n",
    "    X_columns=X_columns,\n",
    "    multi_step_models=models,\n",
    "    t_steps=15,\n",
    ")\n",
    "\n",
    "X0_test = owu_test.loc[owu_test.index.get_level_values('time') < 1, X_columns]\n",
    "W_test = owu_test[['W:Feed']]\n",
    "\n",
    "X_test_pred = predict_multi_step_ann_model(\n",
    "    doe_test,\n",
    "    X0_test,\n",
    "    W_test,\n",
    "    X_columns=X_columns,\n",
    "    multi_step_models=models,\n",
    "    t_steps=15,\n",
    ")\n"
   ]
  },
  {
   "cell_type": "code",
   "execution_count": 16,
   "metadata": {},
   "outputs": [
    {
     "data": {
      "application/vnd.plotly.v1+json": {
       "config": {
        "plotlyServerURL": "https://plot.ly"
       },
       "data": [
        {
         "legendgroup": "train_0",
         "mode": "markers",
         "name": "Run id in Train 0",
         "type": "scatter",
         "x": [
          0.6785714285714286,
          1.7882418695451865,
          4.197866164841867,
          8.024606484655857,
          11.644249637655555,
          12.989020406401975,
          11.780327631246772,
          9.032982556876329,
          5.956851986938314,
          3.496495271581572,
          1.9290844755904624,
          1.0384515260949645,
          0.5546547313461386,
          0.2952719021768026,
          0.1569168141294896
         ],
         "xaxis": "x",
         "y": [
          0.6785714285714286,
          1.5733473581516084,
          3.6717827527823603,
          7.299896095332034,
          10.944057936052252,
          12.499617067046152,
          12.016499356877802,
          9.369904042420197,
          6.657816011513059,
          4.136030211243377,
          2.1805535521112316,
          1.1586091627589614,
          0.5351995992489107,
          0.22794349350640966,
          0.010894325068069949
         ],
         "yaxis": "y"
        },
        {
         "legendgroup": "train_1",
         "mode": "markers",
         "name": "Run id in Train 1",
         "type": "scatter",
         "x": [
          0.5153061224489796,
          1.3283920087753476,
          3.138891683299708,
          6.312312369758947,
          10.046362313224048,
          12.46619056309494,
          12.598864431782903,
          10.871896873825465,
          8.153434943282626,
          5.329460673311844,
          3.14372471445888,
          1.7669202575842775,
          0.9787333701850192,
          0.5395471576727975,
          0.2966820616676253
         ],
         "xaxis": "x",
         "y": [
          0.5153061224489796,
          1.5817639327343982,
          3.833800897319222,
          7.007603281272752,
          11.417342828161232,
          13.964430486241582,
          12.079524000713805,
          10.788957980190762,
          7.605155931105931,
          4.567936547056962,
          2.3888859487971197,
          1.2251983973388125,
          0.5583363014872609,
          0.19781498107275378,
          -0.05810521879183986
         ],
         "yaxis": "y"
        },
        {
         "legendgroup": "train_2",
         "mode": "markers",
         "name": "Run id in Train 2",
         "type": "scatter",
         "x": [
          0.6173469387755102,
          1.8393336824263824,
          4.76347819968831,
          9.519503140279811,
          13.897096050739306,
          15.469914296467806,
          14.064178274367205,
          10.784332549589733,
          7.024161263041686,
          4.060211714152641,
          2.225243161400361,
          1.198139824795706,
          0.6414845918398311,
          0.3424920004434781,
          0.1825893379791691
         ],
         "xaxis": "x",
         "y": [
          0.6173469387755102,
          2.1850240884171246,
          4.962866070008265,
          9.549305753567689,
          13.914390069308531,
          15.75532824000009,
          13.246871450092048,
          10.37349829993296,
          7.4513184138950965,
          4.660544847659909,
          2.741840173192037,
          1.5235414352420247,
          0.8902514188197748,
          0.5081590833144823,
          0.21536252425416544
         ],
         "yaxis": "y"
        },
        {
         "legendgroup": "train_3",
         "mode": "markers",
         "name": "Run id in Train 3",
         "type": "scatter",
         "x": [
          0.7908163265306123,
          2.2233342240594665,
          5.189819500047023,
          8.648482942575908,
          9.89213218339913,
          8.48011217599898,
          6.030387208242467,
          3.83431965046864,
          2.2927149728665563,
          1.3293309225353016,
          0.7591389409901108,
          0.4298972793384327,
          0.2423196690989927,
          0.1362354666329924,
          0.0764834617843639
         ],
         "xaxis": "x",
         "y": [
          0.7908163265306123,
          2.7947949934614673,
          5.762774451033132,
          9.585193559749529,
          10.664072537537525,
          11.311701909133667,
          8.56872657667386,
          6.061145110303754,
          3.556918176484098,
          2.115661317263269,
          1.3996263667061126,
          0.9518614194008859,
          0.6478482913384751,
          0.4921851814429318,
          0.35031850342294146
         ],
         "yaxis": "y"
        },
        {
         "legendgroup": "train_4",
         "mode": "markers",
         "name": "Run id in Train 4",
         "type": "scatter",
         "x": [
          0.8724489795918368,
          2.327450417335682,
          5.302229080189516,
          9.382915401755742,
          12.45876223358994,
          13.000921335581488,
          11.354064624495637,
          8.53677594789,
          5.544672913732412,
          3.240925051389084,
          1.866988108037708,
          1.0767488544223136,
          0.6221397684347698,
          0.359995999048859,
          0.2085132104697249
         ],
         "xaxis": "x",
         "y": [
          0.8724489795918368,
          2.605307363896271,
          5.805308966060702,
          10.18725446053404,
          13.276167520419499,
          14.896737803327174,
          14.100487088197662,
          9.838622635762714,
          6.191217118375164,
          3.5975901223762636,
          1.5838558980310418,
          0.9829206778693351,
          0.5708137630488344,
          0.30252845584241406,
          0.0905859116045715
         ],
         "yaxis": "y"
        },
        {
         "legendgroup": "train_5",
         "mode": "markers",
         "name": "Run id in Train 5",
         "type": "scatter",
         "x": [
          0.9744897959183674,
          2.406921302247812,
          5.196041068887806,
          9.018136271163266,
          11.975281156400662,
          12.472876584537527,
          10.74865387739688,
          7.898282124391004,
          5.015423771955666,
          2.8668906881316008,
          1.5952036675723131,
          0.883499604044254,
          0.4883827704146793,
          0.2697342502902922,
          0.1489124435385337
         ],
         "xaxis": "x",
         "y": [
          0.9744897959183674,
          2.57590755777224,
          5.832676933528027,
          10.31465876952253,
          13.235760809748434,
          14.749017562118548,
          13.406982280755425,
          9.423706076498583,
          5.716773803981344,
          3.820887567850995,
          1.7234395259088147,
          1.2102406314992902,
          0.7025717213772522,
          0.4584068261716475,
          0.2613137087948598
         ],
         "yaxis": "y"
        },
        {
         "legendgroup": "train_6",
         "mode": "markers",
         "name": "Run id in Train 6",
         "type": "scatter",
         "x": [
          0.7806122448979591,
          1.975598501172804,
          4.447145355804954,
          8.222007631588548,
          11.810855568464037,
          13.202788595684126,
          12.11249067562794,
          9.4917369807142,
          6.47725387266102,
          3.982074568663462,
          2.317558052215487,
          1.3188287116986093,
          0.7439866778063171,
          0.4179559136359603,
          0.2342622485018471
         ],
         "xaxis": "x",
         "y": [
          0.7806122448979591,
          3.3749780790393107,
          7.611189284029561,
          13.64711867086646,
          17.409293955122493,
          19.53664622516044,
          16.61996650970066,
          11.958102439096036,
          10.191611808005327,
          6.269279922883309,
          3.6240327077517827,
          2.7074837747495026,
          1.6540138306300547,
          1.2616989012883844,
          0.9342265749041918
         ],
         "yaxis": "y"
        },
        {
         "legendgroup": "train_7",
         "mode": "markers",
         "name": "Run id in Train 7",
         "type": "scatter",
         "x": [
          0.7295918367346939,
          2.2505276992118386,
          5.756846967199105,
          10.651374604582667,
          13.779990523471408,
          13.661272552598792,
          11.410021845873027,
          8.391262132032626,
          5.433289941751308,
          3.062335558796292,
          1.5495839975266816,
          0.7674467069216043,
          0.3797836815105751,
          0.1878918071388641,
          0.09294639830802
         ],
         "xaxis": "x",
         "y": [
          0.7295918367346939,
          2.7025678125967696,
          6.237342584589147,
          11.35080571869391,
          14.625321508235283,
          15.475868432806717,
          13.69793554550493,
          9.688701952324147,
          8.2257967253357,
          5.079163931776139,
          3.1536139652450985,
          2.594120427917617,
          1.2831748918117667,
          0.9696497156690079,
          0.730218543834295
         ],
         "yaxis": "y"
        },
        {
         "legendgroup": "train_8",
         "mode": "markers",
         "name": "Run id in Train 8",
         "type": "scatter",
         "x": [
          0.6989795918367347,
          1.848104962271837,
          4.275239539329713,
          7.758151399559654,
          10.377011125677477,
          10.64641962815131,
          9.028929257551075,
          6.646146575884176,
          4.340519317462716,
          2.593373670872533,
          1.5281691419509686,
          0.8995307180450183,
          0.5295521527654201,
          0.311842208648604,
          0.1836859247616231
         ],
         "xaxis": "x",
         "y": [
          0.6989795918367347,
          2.4772771868883,
          5.553756661906195,
          9.846893441516162,
          11.740819642209972,
          12.17332965124313,
          10.067666143087983,
          7.043488387230471,
          5.096347011344152,
          3.1301934841161976,
          1.7361697756669003,
          1.1026105980242324,
          0.8618498871360123,
          0.7145591637069594,
          0.5635088438343605
         ],
         "yaxis": "y"
        },
        {
         "legendgroup": "train_9",
         "mode": "markers",
         "name": "Run id in Train 9",
         "type": "scatter",
         "x": [
          0.8418367346938775,
          2.2789376634822687,
          5.398066543095938,
          10.156482702407544,
          14.449290906131306,
          15.978352785495437,
          14.576748915106055,
          11.378259295196262,
          7.682741940655455,
          4.608446080818723,
          2.647979593740628,
          1.514662535836207,
          0.8649572065986112,
          0.4936224262432949,
          0.2816301431882249
         ],
         "xaxis": "x",
         "y": [
          0.8418367346938775,
          2.7618191823190346,
          6.491962689865025,
          11.993630125016354,
          15.567206389726346,
          17.389902095110635,
          14.141049652901597,
          10.33223560276938,
          8.65007401717391,
          5.8357397162753335,
          3.0059247238190374,
          2.650914249199322,
          1.2003517622381124,
          0.8311215855428181,
          0.5637593211245193
         ],
         "yaxis": "y"
        },
        {
         "legendgroup": "test_0",
         "mode": "markers",
         "name": "Run id in Test 0",
         "type": "scatter",
         "x": [
          0.9846938775510204,
          2.9249576819091097,
          7.444332832191713,
          14.420480064339324,
          20.57081333243489,
          23.12755137436929,
          22.33065010823708,
          19.648806069957416,
          16.31282380897557,
          13.028843938823911,
          10.102605608179564,
          7.629152917195547,
          5.731307831914585,
          4.294304959498489,
          3.2079190607230106
         ],
         "xaxis": "x2",
         "y": [
          0.9846938775510204,
          2.031936859002757,
          5.116294808406326,
          10.214993463565799,
          14.789668029760612,
          16.11788755520125,
          12.76286588829346,
          9.279970666696483,
          6.629918607633169,
          4.161849964610954,
          2.6215054758834264,
          1.508953649843961,
          0.9968538035603649,
          0.6848227991241495,
          0.43052410726407087
         ],
         "yaxis": "y2"
        },
        {
         "legendgroup": "test_1",
         "mode": "markers",
         "name": "Run id in Test 1",
         "type": "scatter",
         "x": [
          0.7602040816326531,
          1.9141143764556665,
          4.408003876496271,
          8.6231479106663,
          13.457148205276154,
          16.834281247208605,
          17.857446383705128,
          16.99522186258524,
          15.068785638787078,
          12.793489696074769,
          10.597325015932462,
          8.59544420181317,
          6.853541356095238,
          5.38786140727645,
          4.18265740274008
         ],
         "xaxis": "x2",
         "y": [
          0.7602040816326531,
          2.075535918518867,
          4.981774210850879,
          9.383825783188337,
          11.961734301663972,
          12.36937353743768,
          10.66556513438221,
          7.340494696379655,
          4.973957095261712,
          3.336537502476824,
          1.6453055930358986,
          1.2178411317211844,
          0.7134230094533527,
          0.5269904064635441,
          0.3704462245346545
         ],
         "yaxis": "y2"
        },
        {
         "legendgroup": "test_2",
         "mode": "markers",
         "name": "Run id in Test 2",
         "type": "scatter",
         "x": [
          0.6377551020408163,
          1.7596767331437484,
          4.320048035023024,
          8.600099814712605,
          13.129010583057209,
          15.86887489530228,
          16.314060822920034,
          15.128350980501,
          13.118424032866182,
          10.845032804189962,
          8.611928610057822,
          6.721336704242177,
          5.249987862906268,
          4.091917406485745,
          3.180171977396879
         ],
         "xaxis": "x2",
         "y": [
          0.6377551020408163,
          1.6503858139362337,
          4.072788323189991,
          8.035603343815279,
          11.418786641134133,
          11.950094263295366,
          10.527626858912948,
          7.179536211693603,
          5.147418685205135,
          3.3486976937507413,
          1.5039998097435956,
          0.9175084784352994,
          0.5110225470211829,
          0.30259446841623905,
          0.14097847071665834
         ],
         "yaxis": "y2"
        },
        {
         "legendgroup": "test_3",
         "mode": "markers",
         "name": "Run id in Test 3",
         "type": "scatter",
         "x": [
          0.6683673469387755,
          1.8479761959252932,
          4.5642475791718695,
          9.101866917551046,
          13.763741305573545,
          16.39181066854337,
          16.588673250600085,
          15.121065257143862,
          12.880994022025028,
          10.494696740233676,
          8.276399606720522,
          6.112053610273055,
          3.960093130262047,
          2.557747831948446,
          1.6487988889593452
         ],
         "xaxis": "x2",
         "y": [
          0.6683673469387755,
          2.127103180463956,
          4.9428574574049176,
          9.110422353424811,
          11.673345328006604,
          11.750000883882244,
          10.171779046192066,
          7.128225249420045,
          4.900848502800381,
          3.12816876271623,
          1.7480262235900548,
          1.1188712116698494,
          0.832805620961212,
          0.6674851163073797,
          0.5102031322255993
         ],
         "yaxis": "y2"
        },
        {
         "legendgroup": "test_4",
         "mode": "markers",
         "name": "Run id in Test 4",
         "type": "scatter",
         "x": [
          0.8214285714285714,
          2.462338134351961,
          6.204794037706704,
          11.455830213030046,
          15.029129484664557,
          15.46330643203451,
          13.775109141164494,
          11.194697479273378,
          8.439502937137675,
          5.831525356659873,
          3.89278824381229,
          2.6769952754832365,
          1.8716034350620616,
          1.320869574866547,
          0.9373903299802034
         ],
         "xaxis": "x2",
         "y": [
          0.8214285714285714,
          1.934517883811673,
          4.048562679908468,
          7.170076130834058,
          9.432251962869916,
          9.855839758471163,
          8.913527954443474,
          6.698459424186317,
          4.7131136640110185,
          3.411523977282299,
          1.3620599850009758,
          0.8740565450055577,
          0.4142238974150507,
          0.1996999498184903,
          0.043814345069717237
         ],
         "yaxis": "y2"
        },
        {
         "legendgroup": "test_5",
         "mode": "markers",
         "name": "Run id in Test 5",
         "type": "scatter",
         "x": [
          0.5357142857142857,
          1.68535612201013,
          4.750910857750842,
          10.527563515639322,
          16.384892612448336,
          18.71899028723027,
          17.642047191967187,
          14.84113370432232,
          11.547197993927814,
          8.368835642374764,
          5.550515941164199,
          3.400201224606473,
          2.123828050301551,
          1.3483571723438612,
          0.864549860389209
         ],
         "xaxis": "x2",
         "y": [
          0.5357142857142857,
          2.9614787908525857,
          6.664073387006687,
          11.878907554668503,
          15.010957466212249,
          15.790935043551652,
          14.426779744563866,
          10.219800889361322,
          9.020327055148426,
          5.604270120217243,
          3.204052249801942,
          2.600067399222209,
          1.550778750226682,
          1.2371405337916395,
          0.9697410175502814
         ],
         "yaxis": "y2"
        },
        {
         "legendgroup": "test_6",
         "mode": "markers",
         "name": "Run id in Test 6",
         "type": "scatter",
         "x": [
          0.9642857142857144,
          2.7309189004610017,
          6.496967810835099,
          11.712526422702096,
          15.86566984919472,
          17.518274325752582,
          17.049508108239532,
          15.339560792436927,
          13.11520485201357,
          10.836341627146137,
          8.748004765272608,
          6.940423704135373,
          5.421358011949733,
          4.157669835361252,
          3.027012159344149
         ],
         "xaxis": "x2",
         "y": [
          0.9642857142857144,
          2.6592753312360733,
          6.2060347379119545,
          11.45407846882499,
          14.70010566706068,
          14.300666420276295,
          11.759308339321777,
          8.15583687665713,
          6.9293453332976505,
          4.261988297894987,
          2.6411278369093147,
          2.061040846662931,
          1.1978234206899663,
          0.995764423846265,
          0.8178160137036923
         ],
         "yaxis": "y2"
        },
        {
         "legendgroup": "test_7",
         "mode": "markers",
         "name": "Run id in Test 7",
         "type": "scatter",
         "x": [
          0.8622448979591837,
          2.331143803305513,
          5.496622671227072,
          10.20537730486747,
          14.299665039067758,
          15.96548171229209,
          15.372177818756573,
          13.498156448189532,
          11.164486041753278,
          8.850690795800881,
          6.801418450313421,
          5.185592772160354,
          3.932335026469168,
          2.9668846208042594,
          2.2290717204845274
         ],
         "xaxis": "x2",
         "y": [
          0.8622448979591837,
          1.7749381870524255,
          4.072764235471216,
          7.513377267762088,
          10.183852631981802,
          10.385795890038022,
          8.646006956982212,
          6.010895944963818,
          4.098655177899217,
          2.9145530106297364,
          1.517580000476212,
          0.9768858778852281,
          0.6392829442751184,
          0.4838083073577487,
          0.3509875250427055
         ],
         "yaxis": "y2"
        },
        {
         "legendgroup": "test_8",
         "mode": "markers",
         "name": "Run id in Test 8",
         "type": "scatter",
         "x": [
          0.6275510204081632,
          1.966509895702454,
          5.4703296564633614,
          11.75929246310936,
          17.798476959757984,
          20.25767094292334,
          19.398185047268417,
          16.755642131725846,
          13.55094811108645,
          10.481962644716347,
          7.857313430365911,
          5.811171729991748,
          4.2584707583927095,
          3.0973636223609207,
          2.240048684169528
         ],
         "xaxis": "x2",
         "y": [
          0.6275510204081632,
          2.8015203322155107,
          6.241654448027294,
          11.203658050013898,
          14.394639091261949,
          14.554759203871512,
          12.134869396754528,
          8.396194159696597,
          7.255429316835549,
          4.472067340953756,
          2.7840949212752606,
          2.1834240625119365,
          1.2557547550610286,
          1.0453225221907703,
          0.8595315378724007
         ],
         "yaxis": "y2"
        },
        {
         "legendgroup": "test_9",
         "mode": "markers",
         "name": "Run id in Test 9",
         "type": "scatter",
         "x": [
          0.8010204081632653,
          2.339410182422604,
          6.0419955584897975,
          12.429172992150209,
          19.0638331981036,
          22.700661141137463,
          22.85778892850325,
          20.76765902113485,
          17.695686246636583,
          14.451046918863232,
          11.429553184034148,
          8.81126297917751,
          6.767892149629804,
          5.174965627060598,
          3.937534851903999
         ],
         "xaxis": "x2",
         "y": [
          0.8010204081632653,
          1.5132344872325474,
          3.278921167780138,
          7.758781586854337,
          11.229403048595454,
          13.557039553953178,
          12.218063187414822,
          10.490379731504094,
          7.293528022610939,
          4.405675266368637,
          2.2145394085009618,
          1.1332806369993744,
          0.4628541998661382,
          0.11880305044544395,
          -0.11719614476384768
         ],
         "yaxis": "y2"
        }
       ],
       "layout": {
        "annotations": [
         {
          "font": {
           "size": 16
          },
          "showarrow": false,
          "text": "Train Set - X:VCD <br> R^2 = 0.898 <br> Abs RMSE = 1.16 <br> Rel RMSE = 0.251",
          "x": 0.225,
          "xanchor": "center",
          "xref": "paper",
          "y": 1,
          "yanchor": "bottom",
          "yref": "paper"
         },
         {
          "font": {
           "size": 16
          },
          "showarrow": false,
          "text": "Test Set - X:VCD <br> R^2 = 0.287 <br> Abs RMSE = 4.831 <br> Rel RMSE = 0.783",
          "x": 0.775,
          "xanchor": "center",
          "xref": "paper",
          "y": 1,
          "yanchor": "bottom",
          "yref": "paper"
         }
        ],
        "shapes": [
         {
          "layer": "above",
          "line": {
           "dash": "dash"
          },
          "type": "line",
          "x0": -0.05810521879183986,
          "x1": 19.53664622516044,
          "y0": -0.05810521879183986,
          "y1": 19.53664622516044
         },
         {
          "layer": "above",
          "line": {
           "dash": "dash"
          },
          "type": "line",
          "x0": -0.11719614476384768,
          "x1": 16.11788755520125,
          "xref": "x2",
          "y0": -0.11719614476384768,
          "y1": 16.11788755520125,
          "yref": "y2"
         }
        ],
        "template": {
         "data": {
          "bar": [
           {
            "error_x": {
             "color": "#2a3f5f"
            },
            "error_y": {
             "color": "#2a3f5f"
            },
            "marker": {
             "line": {
              "color": "white",
              "width": 0.5
             },
             "pattern": {
              "fillmode": "overlay",
              "size": 10,
              "solidity": 0.2
             }
            },
            "type": "bar"
           }
          ],
          "barpolar": [
           {
            "marker": {
             "line": {
              "color": "white",
              "width": 0.5
             },
             "pattern": {
              "fillmode": "overlay",
              "size": 10,
              "solidity": 0.2
             }
            },
            "type": "barpolar"
           }
          ],
          "carpet": [
           {
            "aaxis": {
             "endlinecolor": "#2a3f5f",
             "gridcolor": "#C8D4E3",
             "linecolor": "#C8D4E3",
             "minorgridcolor": "#C8D4E3",
             "startlinecolor": "#2a3f5f"
            },
            "baxis": {
             "endlinecolor": "#2a3f5f",
             "gridcolor": "#C8D4E3",
             "linecolor": "#C8D4E3",
             "minorgridcolor": "#C8D4E3",
             "startlinecolor": "#2a3f5f"
            },
            "type": "carpet"
           }
          ],
          "choropleth": [
           {
            "colorbar": {
             "outlinewidth": 0,
             "ticks": ""
            },
            "type": "choropleth"
           }
          ],
          "contour": [
           {
            "colorbar": {
             "outlinewidth": 0,
             "ticks": ""
            },
            "colorscale": [
             [
              0,
              "#0d0887"
             ],
             [
              0.1111111111111111,
              "#46039f"
             ],
             [
              0.2222222222222222,
              "#7201a8"
             ],
             [
              0.3333333333333333,
              "#9c179e"
             ],
             [
              0.4444444444444444,
              "#bd3786"
             ],
             [
              0.5555555555555556,
              "#d8576b"
             ],
             [
              0.6666666666666666,
              "#ed7953"
             ],
             [
              0.7777777777777778,
              "#fb9f3a"
             ],
             [
              0.8888888888888888,
              "#fdca26"
             ],
             [
              1,
              "#f0f921"
             ]
            ],
            "type": "contour"
           }
          ],
          "contourcarpet": [
           {
            "colorbar": {
             "outlinewidth": 0,
             "ticks": ""
            },
            "type": "contourcarpet"
           }
          ],
          "heatmap": [
           {
            "colorbar": {
             "outlinewidth": 0,
             "ticks": ""
            },
            "colorscale": [
             [
              0,
              "#0d0887"
             ],
             [
              0.1111111111111111,
              "#46039f"
             ],
             [
              0.2222222222222222,
              "#7201a8"
             ],
             [
              0.3333333333333333,
              "#9c179e"
             ],
             [
              0.4444444444444444,
              "#bd3786"
             ],
             [
              0.5555555555555556,
              "#d8576b"
             ],
             [
              0.6666666666666666,
              "#ed7953"
             ],
             [
              0.7777777777777778,
              "#fb9f3a"
             ],
             [
              0.8888888888888888,
              "#fdca26"
             ],
             [
              1,
              "#f0f921"
             ]
            ],
            "type": "heatmap"
           }
          ],
          "heatmapgl": [
           {
            "colorbar": {
             "outlinewidth": 0,
             "ticks": ""
            },
            "colorscale": [
             [
              0,
              "#0d0887"
             ],
             [
              0.1111111111111111,
              "#46039f"
             ],
             [
              0.2222222222222222,
              "#7201a8"
             ],
             [
              0.3333333333333333,
              "#9c179e"
             ],
             [
              0.4444444444444444,
              "#bd3786"
             ],
             [
              0.5555555555555556,
              "#d8576b"
             ],
             [
              0.6666666666666666,
              "#ed7953"
             ],
             [
              0.7777777777777778,
              "#fb9f3a"
             ],
             [
              0.8888888888888888,
              "#fdca26"
             ],
             [
              1,
              "#f0f921"
             ]
            ],
            "type": "heatmapgl"
           }
          ],
          "histogram": [
           {
            "marker": {
             "pattern": {
              "fillmode": "overlay",
              "size": 10,
              "solidity": 0.2
             }
            },
            "type": "histogram"
           }
          ],
          "histogram2d": [
           {
            "colorbar": {
             "outlinewidth": 0,
             "ticks": ""
            },
            "colorscale": [
             [
              0,
              "#0d0887"
             ],
             [
              0.1111111111111111,
              "#46039f"
             ],
             [
              0.2222222222222222,
              "#7201a8"
             ],
             [
              0.3333333333333333,
              "#9c179e"
             ],
             [
              0.4444444444444444,
              "#bd3786"
             ],
             [
              0.5555555555555556,
              "#d8576b"
             ],
             [
              0.6666666666666666,
              "#ed7953"
             ],
             [
              0.7777777777777778,
              "#fb9f3a"
             ],
             [
              0.8888888888888888,
              "#fdca26"
             ],
             [
              1,
              "#f0f921"
             ]
            ],
            "type": "histogram2d"
           }
          ],
          "histogram2dcontour": [
           {
            "colorbar": {
             "outlinewidth": 0,
             "ticks": ""
            },
            "colorscale": [
             [
              0,
              "#0d0887"
             ],
             [
              0.1111111111111111,
              "#46039f"
             ],
             [
              0.2222222222222222,
              "#7201a8"
             ],
             [
              0.3333333333333333,
              "#9c179e"
             ],
             [
              0.4444444444444444,
              "#bd3786"
             ],
             [
              0.5555555555555556,
              "#d8576b"
             ],
             [
              0.6666666666666666,
              "#ed7953"
             ],
             [
              0.7777777777777778,
              "#fb9f3a"
             ],
             [
              0.8888888888888888,
              "#fdca26"
             ],
             [
              1,
              "#f0f921"
             ]
            ],
            "type": "histogram2dcontour"
           }
          ],
          "mesh3d": [
           {
            "colorbar": {
             "outlinewidth": 0,
             "ticks": ""
            },
            "type": "mesh3d"
           }
          ],
          "parcoords": [
           {
            "line": {
             "colorbar": {
              "outlinewidth": 0,
              "ticks": ""
             }
            },
            "type": "parcoords"
           }
          ],
          "pie": [
           {
            "automargin": true,
            "type": "pie"
           }
          ],
          "scatter": [
           {
            "fillpattern": {
             "fillmode": "overlay",
             "size": 10,
             "solidity": 0.2
            },
            "type": "scatter"
           }
          ],
          "scatter3d": [
           {
            "line": {
             "colorbar": {
              "outlinewidth": 0,
              "ticks": ""
             }
            },
            "marker": {
             "colorbar": {
              "outlinewidth": 0,
              "ticks": ""
             }
            },
            "type": "scatter3d"
           }
          ],
          "scattercarpet": [
           {
            "marker": {
             "colorbar": {
              "outlinewidth": 0,
              "ticks": ""
             }
            },
            "type": "scattercarpet"
           }
          ],
          "scattergeo": [
           {
            "marker": {
             "colorbar": {
              "outlinewidth": 0,
              "ticks": ""
             }
            },
            "type": "scattergeo"
           }
          ],
          "scattergl": [
           {
            "marker": {
             "colorbar": {
              "outlinewidth": 0,
              "ticks": ""
             }
            },
            "type": "scattergl"
           }
          ],
          "scattermapbox": [
           {
            "marker": {
             "colorbar": {
              "outlinewidth": 0,
              "ticks": ""
             }
            },
            "type": "scattermapbox"
           }
          ],
          "scatterpolar": [
           {
            "marker": {
             "colorbar": {
              "outlinewidth": 0,
              "ticks": ""
             }
            },
            "type": "scatterpolar"
           }
          ],
          "scatterpolargl": [
           {
            "marker": {
             "colorbar": {
              "outlinewidth": 0,
              "ticks": ""
             }
            },
            "type": "scatterpolargl"
           }
          ],
          "scatterternary": [
           {
            "marker": {
             "colorbar": {
              "outlinewidth": 0,
              "ticks": ""
             }
            },
            "type": "scatterternary"
           }
          ],
          "surface": [
           {
            "colorbar": {
             "outlinewidth": 0,
             "ticks": ""
            },
            "colorscale": [
             [
              0,
              "#0d0887"
             ],
             [
              0.1111111111111111,
              "#46039f"
             ],
             [
              0.2222222222222222,
              "#7201a8"
             ],
             [
              0.3333333333333333,
              "#9c179e"
             ],
             [
              0.4444444444444444,
              "#bd3786"
             ],
             [
              0.5555555555555556,
              "#d8576b"
             ],
             [
              0.6666666666666666,
              "#ed7953"
             ],
             [
              0.7777777777777778,
              "#fb9f3a"
             ],
             [
              0.8888888888888888,
              "#fdca26"
             ],
             [
              1,
              "#f0f921"
             ]
            ],
            "type": "surface"
           }
          ],
          "table": [
           {
            "cells": {
             "fill": {
              "color": "#EBF0F8"
             },
             "line": {
              "color": "white"
             }
            },
            "header": {
             "fill": {
              "color": "#C8D4E3"
             },
             "line": {
              "color": "white"
             }
            },
            "type": "table"
           }
          ]
         },
         "layout": {
          "annotationdefaults": {
           "arrowcolor": "#2a3f5f",
           "arrowhead": 0,
           "arrowwidth": 1
          },
          "autotypenumbers": "strict",
          "coloraxis": {
           "colorbar": {
            "outlinewidth": 0,
            "ticks": ""
           }
          },
          "colorscale": {
           "diverging": [
            [
             0,
             "#8e0152"
            ],
            [
             0.1,
             "#c51b7d"
            ],
            [
             0.2,
             "#de77ae"
            ],
            [
             0.3,
             "#f1b6da"
            ],
            [
             0.4,
             "#fde0ef"
            ],
            [
             0.5,
             "#f7f7f7"
            ],
            [
             0.6,
             "#e6f5d0"
            ],
            [
             0.7,
             "#b8e186"
            ],
            [
             0.8,
             "#7fbc41"
            ],
            [
             0.9,
             "#4d9221"
            ],
            [
             1,
             "#276419"
            ]
           ],
           "sequential": [
            [
             0,
             "#0d0887"
            ],
            [
             0.1111111111111111,
             "#46039f"
            ],
            [
             0.2222222222222222,
             "#7201a8"
            ],
            [
             0.3333333333333333,
             "#9c179e"
            ],
            [
             0.4444444444444444,
             "#bd3786"
            ],
            [
             0.5555555555555556,
             "#d8576b"
            ],
            [
             0.6666666666666666,
             "#ed7953"
            ],
            [
             0.7777777777777778,
             "#fb9f3a"
            ],
            [
             0.8888888888888888,
             "#fdca26"
            ],
            [
             1,
             "#f0f921"
            ]
           ],
           "sequentialminus": [
            [
             0,
             "#0d0887"
            ],
            [
             0.1111111111111111,
             "#46039f"
            ],
            [
             0.2222222222222222,
             "#7201a8"
            ],
            [
             0.3333333333333333,
             "#9c179e"
            ],
            [
             0.4444444444444444,
             "#bd3786"
            ],
            [
             0.5555555555555556,
             "#d8576b"
            ],
            [
             0.6666666666666666,
             "#ed7953"
            ],
            [
             0.7777777777777778,
             "#fb9f3a"
            ],
            [
             0.8888888888888888,
             "#fdca26"
            ],
            [
             1,
             "#f0f921"
            ]
           ]
          },
          "colorway": [
           "#636efa",
           "#EF553B",
           "#00cc96",
           "#ab63fa",
           "#FFA15A",
           "#19d3f3",
           "#FF6692",
           "#B6E880",
           "#FF97FF",
           "#FECB52"
          ],
          "font": {
           "color": "#2a3f5f"
          },
          "geo": {
           "bgcolor": "white",
           "lakecolor": "white",
           "landcolor": "white",
           "showlakes": true,
           "showland": true,
           "subunitcolor": "#C8D4E3"
          },
          "hoverlabel": {
           "align": "left"
          },
          "hovermode": "closest",
          "mapbox": {
           "style": "light"
          },
          "paper_bgcolor": "white",
          "plot_bgcolor": "white",
          "polar": {
           "angularaxis": {
            "gridcolor": "#EBF0F8",
            "linecolor": "#EBF0F8",
            "ticks": ""
           },
           "bgcolor": "white",
           "radialaxis": {
            "gridcolor": "#EBF0F8",
            "linecolor": "#EBF0F8",
            "ticks": ""
           }
          },
          "scene": {
           "xaxis": {
            "backgroundcolor": "white",
            "gridcolor": "#DFE8F3",
            "gridwidth": 2,
            "linecolor": "#EBF0F8",
            "showbackground": true,
            "ticks": "",
            "zerolinecolor": "#EBF0F8"
           },
           "yaxis": {
            "backgroundcolor": "white",
            "gridcolor": "#DFE8F3",
            "gridwidth": 2,
            "linecolor": "#EBF0F8",
            "showbackground": true,
            "ticks": "",
            "zerolinecolor": "#EBF0F8"
           },
           "zaxis": {
            "backgroundcolor": "white",
            "gridcolor": "#DFE8F3",
            "gridwidth": 2,
            "linecolor": "#EBF0F8",
            "showbackground": true,
            "ticks": "",
            "zerolinecolor": "#EBF0F8"
           }
          },
          "shapedefaults": {
           "line": {
            "color": "#2a3f5f"
           }
          },
          "ternary": {
           "aaxis": {
            "gridcolor": "#DFE8F3",
            "linecolor": "#A2B1C6",
            "ticks": ""
           },
           "baxis": {
            "gridcolor": "#DFE8F3",
            "linecolor": "#A2B1C6",
            "ticks": ""
           },
           "bgcolor": "white",
           "caxis": {
            "gridcolor": "#DFE8F3",
            "linecolor": "#A2B1C6",
            "ticks": ""
           }
          },
          "title": {
           "x": 0.05
          },
          "xaxis": {
           "automargin": true,
           "gridcolor": "#EBF0F8",
           "linecolor": "#EBF0F8",
           "ticks": "",
           "title": {
            "standoff": 15
           },
           "zerolinecolor": "#EBF0F8",
           "zerolinewidth": 2
          },
          "yaxis": {
           "automargin": true,
           "gridcolor": "#EBF0F8",
           "linecolor": "#EBF0F8",
           "ticks": "",
           "title": {
            "standoff": 15
           },
           "zerolinecolor": "#EBF0F8",
           "zerolinewidth": 2
          }
         }
        },
        "width": 1600,
        "xaxis": {
         "anchor": "y",
         "domain": [
          0,
          0.45
         ],
         "title": {
          "text": "Observed values"
         }
        },
        "xaxis2": {
         "anchor": "y2",
         "domain": [
          0.55,
          1
         ],
         "title": {
          "text": "Observed values"
         }
        },
        "yaxis": {
         "anchor": "x",
         "domain": [
          0,
          1
         ],
         "title": {
          "text": "Predicted values"
         }
        },
        "yaxis2": {
         "anchor": "x2",
         "domain": [
          0,
          1
         ],
         "title": {
          "text": "Predicted values"
         }
        }
       }
      }
     },
     "metadata": {},
     "output_type": "display_data"
    },
    {
     "data": {
      "application/vnd.plotly.v1+json": {
       "config": {
        "plotlyServerURL": "https://plot.ly"
       },
       "data": [
        {
         "legendgroup": "train_0",
         "mode": "markers",
         "name": "Run id in Train 0",
         "type": "scatter",
         "x": [
          34.48979591836735,
          33.497759773117764,
          39.18158379968747,
          50.62009499710431,
          58.67865561216076,
          64.50229474124312,
          70.31266186967268,
          77.9143661034886,
          88.10689900312666,
          100.73117479331908,
          115.08564001033828,
          125.8969576070251,
          125.23197031699696,
          124.87737539599864,
          124.68877246718952
         ],
         "xaxis": "x",
         "y": [
          34.48979591836735,
          33.311281798205556,
          38.97783449356713,
          43.877756745895795,
          51.93823557168205,
          57.69640026082458,
          62.8889825944012,
          69.41591318529657,
          78.39750278016444,
          88.87669744759758,
          103.03457770526693,
          106.65913474853957,
          104.63245540082222,
          102.6938103260501,
          101.12565530516792
         ],
         "yaxis": "y"
        },
        {
         "legendgroup": "train_1",
         "mode": "markers",
         "name": "Run id in Train 1",
         "type": "scatter",
         "x": [
          32.857142857142854,
          31.895276825078454,
          29.523755023926796,
          43.45365774211284,
          53.37801483606592,
          59.70360012988135,
          64.5923317260211,
          70.44512271860509,
          78.85933822620683,
          90.44847284105865,
          104.8797826290292,
          119.53418654560204,
          118.04401028491286,
          117.22054934864067,
          116.76720197022738
         ],
         "xaxis": "x",
         "y": [
          32.857142857142854,
          31.87618439119335,
          29.832262973182058,
          39.00856292809364,
          48.16281782917104,
          54.22688753222534,
          60.45899877100482,
          68.94746981498075,
          75.42686240416523,
          86.66454116612978,
          103.36931034428459,
          107.01304206892038,
          104.55214185363313,
          102.41258551136289,
          100.71680097497867
         ],
         "yaxis": "y"
        },
        {
         "legendgroup": "train_2",
         "mode": "markers",
         "name": "Run id in Train 2",
         "type": "scatter",
         "x": [
          40.20408163265306,
          39.3106253406875,
          36.83461707271391,
          41.29851545118337,
          51.58422234292109,
          59.42037843500661,
          67.24029203773658,
          77.00259730155591,
          89.6529978703625,
          105.02858325349617,
          122.29644922822447,
          128.01353314088,
          127.30657682739415,
          126.92861071812789,
          126.72696474831358
         ],
         "xaxis": "x",
         "y": [
          40.20408163265306,
          39.19672571256001,
          36.42740032576376,
          46.87658725758815,
          56.131898937336196,
          59.77090877278104,
          66.00629377232633,
          74.59118181521718,
          85.03635152957054,
          97.93909486092814,
          113.19247953845742,
          115.7562446412336,
          112.31217847022425,
          109.581052896621,
          107.4262484729509
         ],
         "yaxis": "y"
        },
        {
         "legendgroup": "train_3",
         "mode": "markers",
         "name": "Run id in Train 3",
         "type": "scatter",
         "x": [
          66.3265306122449,
          64.9018084421659,
          74.46646692324572,
          82.75195820225221,
          88.4608121252639,
          94.35032349278424,
          102.35264420922908,
          112.78820578337243,
          125.13254274305396,
          124.74568445028515,
          123.70828935213474,
          123.11833121458756,
          122.78502933027806,
          122.59740576605402,
          122.49199994699929
         ],
         "xaxis": "x",
         "y": [
          66.3265306122449,
          64.81447171456355,
          73.79405797556032,
          77.92142032170118,
          82.05826875942417,
          86.4821465578062,
          92.91130844237355,
          100.91679313032142,
          110.29907571650406,
          112.8417113430937,
          111.54050171352733,
          115.39275865956874,
          115.90446810887713,
          116.57728026310458,
          117.2655064291364
         ],
         "yaxis": "y"
        },
        {
         "legendgroup": "train_4",
         "mode": "markers",
         "name": "Run id in Train 4",
         "type": "scatter",
         "x": [
          54.08163265306122,
          52.32453548724165,
          48.00670790060231,
          52.80978895442207,
          59.67166365361268,
          64.36116287789906,
          69.78971877901188,
          77.9393717582966,
          89.59672510578096,
          94.88781273549858,
          91.9609809279264,
          90.2743358499412,
          89.30079949433396,
          88.73790326458321,
          88.41203209326693
         ],
         "xaxis": "x",
         "y": [
          54.08163265306122,
          52.9918700367544,
          49.60860437094337,
          61.03782180340437,
          69.37207019758002,
          72.8505041493447,
          79.88568084663041,
          87.66702865084227,
          93.04747703599833,
          97.34331474571988,
          97.57128902023233,
          102.25335371823954,
          102.53216925617744,
          103.30698149278709,
          104.160625988331
         ],
         "yaxis": "y"
        },
        {
         "legendgroup": "train_5",
         "mode": "markers",
         "name": "Run id in Train 5",
         "type": "scatter",
         "x": [
          55.71428571428572,
          54.04229265312258,
          50.19044815252949,
          56.66345377265392,
          62.94630603076002,
          67.36240093890267,
          72.50080654941964,
          80.1355041391731,
          90.8600281640686,
          99.09780809177174,
          96.82391152015649,
          95.56174721339072,
          94.86342162097333,
          94.47756919225226,
          94.2645083447324
         ],
         "xaxis": "x",
         "y": [
          55.71428571428572,
          54.42295836317738,
          51.10122482412156,
          62.25246030641766,
          68.81792755857413,
          71.0256223024027,
          76.7334817775918,
          83.492455916653,
          88.64730347986642,
          93.25336334437098,
          94.3222784202874,
          99.00358752330064,
          99.73836121110811,
          100.86718226549831,
          102.03348387757813
         ],
         "yaxis": "y"
        },
        {
         "legendgroup": "train_6",
         "mode": "markers",
         "name": "Run id in Train 6",
         "type": "scatter",
         "x": [
          67.14285714285714,
          65.72262111008826,
          62.33899756102318,
          55.86087499300016,
          63.63048603140288,
          68.5499478631087,
          73.3580779196577,
          80.30501123095608,
          90.44056467752864,
          103.65677129603148,
          119.15240642675616,
          133.19526386484125,
          132.09349753140145,
          131.47324993444937,
          131.12522304466037
         ],
         "xaxis": "x",
         "y": [
          67.14285714285714,
          65.52478304560252,
          61.026923244332934,
          74.74546930257912,
          81.08019955718721,
          80.59449944576279,
          85.70159043119354,
          92.69657454171697,
          108.92452268368561,
          125.2224254962238,
          138.62496602790608,
          139.96535877638127,
          136.53937609448155,
          134.08306209784553,
          132.30268883130432
         ],
         "yaxis": "y"
        },
        {
         "legendgroup": "train_7",
         "mode": "markers",
         "name": "Run id in Train 7",
         "type": "scatter",
         "x": [
          56.53061224489796,
          55.32956552576817,
          51.96887747098334,
          55.45175427907439,
          58.64166030227109,
          60.52459420873051,
          63.5659352103408,
          69.0079158344245,
          77.12764839367868,
          87.62684618186968,
          95.35728979796336,
          94.37636391008608,
          93.89075940271,
          93.6504884837088,
          93.53162545237578
         ],
         "xaxis": "x",
         "y": [
          56.53061224489796,
          55.027526500756686,
          51.13677917477084,
          62.53728362722822,
          66.52512802865597,
          66.49997627379462,
          69.90746757905646,
          75.16710363665517,
          87.44216156273313,
          100.09881671425343,
          100.47147881716832,
          104.46460212329166,
          104.20888659304912,
          104.01547770007485,
          104.12010682214216
         ],
         "yaxis": "y"
        },
        {
         "legendgroup": "train_8",
         "mode": "markers",
         "name": "Run id in Train 8",
         "type": "scatter",
         "x": [
          57.3469387755102,
          56.26328141499867,
          61.11818356473742,
          67.19682852618769,
          70.32245701569198,
          72.10170042398552,
          74.576588215411,
          78.95127698119116,
          85.50870626123897,
          87.70211038857562,
          85.86798924811929,
          84.78793917261947,
          84.1521917968171,
          83.77787674575289,
          83.55742278372415
         ],
         "xaxis": "x",
         "y": [
          57.3469387755102,
          55.81606271100876,
          61.44628771276243,
          66.5326064246173,
          68.83072175200954,
          69.36164883969892,
          72.84329714367794,
          77.88357684742854,
          83.39165056979178,
          87.73788900572028,
          89.19637618332347,
          93.1837595284873,
          94.15466684937927,
          95.50607978454401,
          96.81449034800869
         ],
         "yaxis": "y"
        },
        {
         "legendgroup": "train_9",
         "mode": "markers",
         "name": "Run id in Train 9",
         "type": "scatter",
         "x": [
          54.89795918367347,
          53.83097725200842,
          51.135170054284416,
          48.65346404036791,
          56.75047501717443,
          62.62869783627702,
          68.50787888685004,
          76.15521464524201,
          86.41064303572327,
          98.32486114462506,
          95.72525521914292,
          94.23513508473134,
          93.3835594751364,
          92.89742769084626,
          92.62003538179069
         ],
         "xaxis": "x",
         "y": [
          54.89795918367347,
          53.666753297002025,
          49.795939260629474,
          61.6397448819943,
          68.38784496947699,
          67.51853394902332,
          72.35751260872276,
          78.89207800863458,
          93.96627015747467,
          109.64477328703735,
          105.39481761601638,
          108.30378149599811,
          107.30839148440317,
          106.3502990200202,
          105.80374875918295
         ],
         "yaxis": "y"
        },
        {
         "legendgroup": "test_0",
         "mode": "markers",
         "name": "Run id in Test 0",
         "type": "scatter",
         "x": [
          43.46938775510204,
          42.11575103737883,
          38.40470745766825,
          34.28104672448483,
          36.13270037292429,
          34.63344313923112,
          32.55252740419164,
          31.875483763746413,
          33.52447895437812,
          37.694658596943526,
          44.21209863405196,
          45.78852821788307,
          40.788789446857486,
          37.03759971276014,
          34.231330813861874
         ],
         "xaxis": "x2",
         "y": [
          43.46938775510204,
          42.08840980518154,
          37.396944700614924,
          48.45638680395304,
          55.03488343236186,
          57.31816813914202,
          60.52981702797292,
          65.98721001305367,
          77.83200611829929,
          90.29054460470114,
          102.71987413151166,
          105.4836099610923,
          103.23821548812121,
          101.67195361130152,
          100.50905165210696
         ],
         "yaxis": "y2"
        },
        {
         "legendgroup": "test_1",
         "mode": "markers",
         "name": "Run id in Test 1",
         "type": "scatter",
         "x": [
          45.91836734693878,
          44.93535705335225,
          45.34454371167346,
          51.66956589718001,
          54.3222189193982,
          53.64426667599316,
          51.24210526598327,
          48.83005687873178,
          47.56068327676123,
          39.08302910973476,
          29.94038322346193,
          22.44987114558976,
          16.430036262308974,
          11.668327985152208,
          7.95349374597405
         ],
         "xaxis": "x2",
         "y": [
          45.91836734693878,
          44.64480227657736,
          49.660362946204046,
          54.30217293787504,
          58.14525895921921,
          58.63555310294587,
          61.44109708329594,
          65.25095568084171,
          69.22698122451185,
          73.75158515790861,
          75.5213018582508,
          79.61194521130939,
          80.49916067796599,
          81.5911562818919,
          82.69057248178662
         ],
         "yaxis": "y2"
        },
        {
         "legendgroup": "test_2",
         "mode": "markers",
         "name": "Run id in Test 2",
         "type": "scatter",
         "x": [
          39.38775510204081,
          38.5280407408776,
          38.7311595156132,
          45.76285698062254,
          49.24196581704296,
          49.81892064072007,
          49.184687689797485,
          48.89258013831316,
          49.88107629463944,
          52.55198518790212,
          56.8557322124684,
          50.96007068131026,
          46.35555553595123,
          42.76260751556799,
          39.96626373139646
         ],
         "xaxis": "x2",
         "y": [
          39.38775510204081,
          38.054718116828596,
          42.20813257738833,
          46.89441921126574,
          52.00576584958109,
          55.31341884880328,
          57.84764411944674,
          61.75152642031821,
          68.83935117494178,
          77.59529358408014,
          79.68952443666883,
          84.77823216803502,
          85.2407868095021,
          85.67338765892072,
          86.12690791893748
         ],
         "yaxis": "y2"
        },
        {
         "legendgroup": "test_3",
         "mode": "markers",
         "name": "Run id in Test 3",
         "type": "scatter",
         "x": [
          48.36734693877551,
          47.04285822396751,
          49.47633429246047,
          52.15436152007848,
          49.36912447968168,
          42.317330231004384,
          33.707503700984184,
          25.915780610616988,
          20.30896088097011,
          17.375999828551723,
          7.512392125109961,
          0.000005549966366497421,
          -1.1635971826234836e-8,
          -7.551679343443506e-10,
          5.42590117253555e-10
         ],
         "xaxis": "x2",
         "y": [
          48.36734693877551,
          46.889712072602876,
          51.00037516649682,
          56.16541430130865,
          58.58038991937271,
          59.874356861432624,
          62.47172013806199,
          66.35173767570893,
          71.59835644047729,
          79.19557471470746,
          81.58587719048246,
          85.86348398261454,
          86.56108814652917,
          87.51979201575392,
          88.46722376078229
         ],
         "yaxis": "y2"
        },
        {
         "legendgroup": "test_4",
         "mode": "markers",
         "name": "Run id in Test 4",
         "type": "scatter",
         "x": [
          46.734693877551024,
          44.99290263409152,
          55.71392075823843,
          61.33985969413218,
          61.56527277561326,
          59.50002768365175,
          58.29518530186981,
          59.65002766372735,
          64.13123970145408,
          71.72899291203933,
          66.36797709905878,
          62.62435211663696,
          60.027913453442245,
          58.20387118444934,
          56.91292005668433
         ],
         "xaxis": "x2",
         "y": [
          46.734693877551024,
          45.453024701379356,
          53.00688225460301,
          56.917862883712765,
          63.07806609610201,
          68.47459821006886,
          74.46696614325884,
          82.39306289310451,
          93.16970422476152,
          101.37999123876493,
          101.09394843357195,
          105.84253256358558,
          105.64752497999969,
          105.25367612911757,
          104.96598824335089
         ],
         "yaxis": "y2"
        },
        {
         "legendgroup": "test_5",
         "mode": "markers",
         "name": "Run id in Test 5",
         "type": "scatter",
         "x": [
          61.42857142857143,
          60.50079410755882,
          57.7416721465118,
          63.15057974853251,
          64.57604262224581,
          62.09198760634006,
          59.14814915273872,
          58.11012565652759,
          59.9433480996893,
          64.7820145618766,
          72.39096715444906,
          72.48911688464071,
          69.99775447415446,
          68.42884724712913,
          67.42783305213658
         ],
         "xaxis": "x2",
         "y": [
          61.42857142857143,
          59.792838379984886,
          55.72110013153808,
          67.6931649210373,
          71.58263020068729,
          71.09338307887519,
          74.59144672764847,
          79.70396190221207,
          92.91892341693342,
          106.34260003935819,
          117.60198607023452,
          119.4504174812363,
          117.5203342036745,
          116.21140764168203,
          115.38146884261812
         ],
         "yaxis": "y2"
        },
        {
         "legendgroup": "test_6",
         "mode": "markers",
         "name": "Run id in Test 6",
         "type": "scatter",
         "x": [
          60.61224489795919,
          58.91820688373571,
          54.967944586112615,
          56.504120407833305,
          53.20133675298614,
          47.006106393559286,
          40.2969979363268,
          34.73770111132932,
          31.173384146301327,
          29.862540320253835,
          21.60893411956609,
          13.894199054079715,
          7.830610064693132,
          3.1559468428018,
          0.0010337156919927
         ],
         "xaxis": "x2",
         "y": [
          60.61224489795919,
          58.50286986283934,
          62.90109798922558,
          69.14902206425594,
          70.91224429144087,
          68.77257394739806,
          70.47144760389716,
          73.97429840921276,
          79.32004278333704,
          87.90857949791625,
          90.98294533583534,
          95.26053821450031,
          96.2392358970273,
          97.40858518856463,
          98.64608649882942
         ],
         "yaxis": "y2"
        },
        {
         "legendgroup": "test_7",
         "mode": "markers",
         "name": "Run id in Test 7",
         "type": "scatter",
         "x": [
          44.285714285714285,
          43.091730416232096,
          49.56742116592375,
          53.41855175443676,
          53.56105683162421,
          51.3427427140427,
          48.75151084812984,
          47.21647080029135,
          47.41291358220813,
          49.4956375243666,
          48.292322180351455,
          43.51040815227347,
          39.87424357386649,
          37.12396685800291,
          35.05341744703701
         ],
         "xaxis": "x2",
         "y": [
          44.285714285714285,
          42.7263041993701,
          46.61832135914591,
          51.329183149468996,
          53.84055604012773,
          56.951967526405966,
          59.555919889358115,
          64.09521500540721,
          72.21679999836776,
          80.07753572880964,
          82.10512764796744,
          86.91595010981312,
          87.79890507702352,
          88.5877980109038,
          89.33258003304717
         ],
         "yaxis": "y2"
        },
        {
         "legendgroup": "test_8",
         "mode": "markers",
         "name": "Run id in Test 8",
         "type": "scatter",
         "x": [
          62.24489795918368,
          61.21776604301599,
          61.68839208761704,
          65.04382305329295,
          62.69758511158651,
          56.54852620466132,
          49.80711194765001,
          44.700101045224585,
          42.2095427249079,
          42.48465618101904,
          41.20803831131787,
          35.297389599090664,
          30.946368717426356,
          27.770291957174603,
          25.467113925770228
         ],
         "xaxis": "x2",
         "y": [
          62.24489795918368,
          59.856543223293656,
          64.39120680805631,
          70.89716472822238,
          72.53470741137147,
          70.73408800536704,
          72.7042140460911,
          76.61349371156416,
          82.26484963360843,
          91.11778007689915,
          94.35219602409836,
          98.81901149512966,
          99.81083708192561,
          100.95971018177536,
          102.18832905713526
         ],
         "yaxis": "y2"
        },
        {
         "legendgroup": "test_9",
         "mode": "markers",
         "name": "Run id in Test 9",
         "type": "scatter",
         "x": [
          31.22448979591837,
          29.86833180785049,
          27.658387185172973,
          37.619533430058816,
          41.16323693589936,
          39.72372431065216,
          36.56691320199399,
          34.4317618023923,
          34.8034920745417,
          38.185121525710215,
          44.52533300483191,
          42.78968564912638,
          35.513688469230864,
          29.937750335245543,
          25.685477735236184
         ],
         "xaxis": "x2",
         "y": [
          31.22448979591837,
          30.22013280924171,
          36.00003975294756,
          41.00381075223199,
          51.073112597035966,
          57.15579210012417,
          62.84145541831331,
          70.04502595914946,
          78.01026853779868,
          88.8445562004041,
          104.04692009177178,
          107.38237843444062,
          104.727444925267,
          102.24676992178243,
          100.22466341081153
         ],
         "yaxis": "y2"
        }
       ],
       "layout": {
        "annotations": [
         {
          "font": {
           "size": 16
          },
          "showarrow": false,
          "text": "Train Set - X:Glc <br> R^2 = 0.825 <br> Abs RMSE = 8.781 <br> Rel RMSE = 0.332",
          "x": 0.225,
          "xanchor": "center",
          "xref": "paper",
          "y": 1,
          "yanchor": "bottom",
          "yref": "paper"
         },
         {
          "font": {
           "size": 16
          },
          "showarrow": false,
          "text": "Test Set - X:Glc <br> R^2 = -29.731 <br> Abs RMSE = 39.34 <br> Rel RMSE = 2.425",
          "x": 0.775,
          "xanchor": "center",
          "xref": "paper",
          "y": 1,
          "yanchor": "bottom",
          "yref": "paper"
         }
        ],
        "shapes": [
         {
          "layer": "above",
          "line": {
           "dash": "dash"
          },
          "type": "line",
          "x0": 29.832262973182058,
          "x1": 139.96535877638127,
          "y0": 29.832262973182058,
          "y1": 139.96535877638127
         },
         {
          "layer": "above",
          "line": {
           "dash": "dash"
          },
          "type": "line",
          "x0": 30.22013280924171,
          "x1": 119.4504174812363,
          "xref": "x2",
          "y0": 30.22013280924171,
          "y1": 119.4504174812363,
          "yref": "y2"
         }
        ],
        "template": {
         "data": {
          "bar": [
           {
            "error_x": {
             "color": "#2a3f5f"
            },
            "error_y": {
             "color": "#2a3f5f"
            },
            "marker": {
             "line": {
              "color": "white",
              "width": 0.5
             },
             "pattern": {
              "fillmode": "overlay",
              "size": 10,
              "solidity": 0.2
             }
            },
            "type": "bar"
           }
          ],
          "barpolar": [
           {
            "marker": {
             "line": {
              "color": "white",
              "width": 0.5
             },
             "pattern": {
              "fillmode": "overlay",
              "size": 10,
              "solidity": 0.2
             }
            },
            "type": "barpolar"
           }
          ],
          "carpet": [
           {
            "aaxis": {
             "endlinecolor": "#2a3f5f",
             "gridcolor": "#C8D4E3",
             "linecolor": "#C8D4E3",
             "minorgridcolor": "#C8D4E3",
             "startlinecolor": "#2a3f5f"
            },
            "baxis": {
             "endlinecolor": "#2a3f5f",
             "gridcolor": "#C8D4E3",
             "linecolor": "#C8D4E3",
             "minorgridcolor": "#C8D4E3",
             "startlinecolor": "#2a3f5f"
            },
            "type": "carpet"
           }
          ],
          "choropleth": [
           {
            "colorbar": {
             "outlinewidth": 0,
             "ticks": ""
            },
            "type": "choropleth"
           }
          ],
          "contour": [
           {
            "colorbar": {
             "outlinewidth": 0,
             "ticks": ""
            },
            "colorscale": [
             [
              0,
              "#0d0887"
             ],
             [
              0.1111111111111111,
              "#46039f"
             ],
             [
              0.2222222222222222,
              "#7201a8"
             ],
             [
              0.3333333333333333,
              "#9c179e"
             ],
             [
              0.4444444444444444,
              "#bd3786"
             ],
             [
              0.5555555555555556,
              "#d8576b"
             ],
             [
              0.6666666666666666,
              "#ed7953"
             ],
             [
              0.7777777777777778,
              "#fb9f3a"
             ],
             [
              0.8888888888888888,
              "#fdca26"
             ],
             [
              1,
              "#f0f921"
             ]
            ],
            "type": "contour"
           }
          ],
          "contourcarpet": [
           {
            "colorbar": {
             "outlinewidth": 0,
             "ticks": ""
            },
            "type": "contourcarpet"
           }
          ],
          "heatmap": [
           {
            "colorbar": {
             "outlinewidth": 0,
             "ticks": ""
            },
            "colorscale": [
             [
              0,
              "#0d0887"
             ],
             [
              0.1111111111111111,
              "#46039f"
             ],
             [
              0.2222222222222222,
              "#7201a8"
             ],
             [
              0.3333333333333333,
              "#9c179e"
             ],
             [
              0.4444444444444444,
              "#bd3786"
             ],
             [
              0.5555555555555556,
              "#d8576b"
             ],
             [
              0.6666666666666666,
              "#ed7953"
             ],
             [
              0.7777777777777778,
              "#fb9f3a"
             ],
             [
              0.8888888888888888,
              "#fdca26"
             ],
             [
              1,
              "#f0f921"
             ]
            ],
            "type": "heatmap"
           }
          ],
          "heatmapgl": [
           {
            "colorbar": {
             "outlinewidth": 0,
             "ticks": ""
            },
            "colorscale": [
             [
              0,
              "#0d0887"
             ],
             [
              0.1111111111111111,
              "#46039f"
             ],
             [
              0.2222222222222222,
              "#7201a8"
             ],
             [
              0.3333333333333333,
              "#9c179e"
             ],
             [
              0.4444444444444444,
              "#bd3786"
             ],
             [
              0.5555555555555556,
              "#d8576b"
             ],
             [
              0.6666666666666666,
              "#ed7953"
             ],
             [
              0.7777777777777778,
              "#fb9f3a"
             ],
             [
              0.8888888888888888,
              "#fdca26"
             ],
             [
              1,
              "#f0f921"
             ]
            ],
            "type": "heatmapgl"
           }
          ],
          "histogram": [
           {
            "marker": {
             "pattern": {
              "fillmode": "overlay",
              "size": 10,
              "solidity": 0.2
             }
            },
            "type": "histogram"
           }
          ],
          "histogram2d": [
           {
            "colorbar": {
             "outlinewidth": 0,
             "ticks": ""
            },
            "colorscale": [
             [
              0,
              "#0d0887"
             ],
             [
              0.1111111111111111,
              "#46039f"
             ],
             [
              0.2222222222222222,
              "#7201a8"
             ],
             [
              0.3333333333333333,
              "#9c179e"
             ],
             [
              0.4444444444444444,
              "#bd3786"
             ],
             [
              0.5555555555555556,
              "#d8576b"
             ],
             [
              0.6666666666666666,
              "#ed7953"
             ],
             [
              0.7777777777777778,
              "#fb9f3a"
             ],
             [
              0.8888888888888888,
              "#fdca26"
             ],
             [
              1,
              "#f0f921"
             ]
            ],
            "type": "histogram2d"
           }
          ],
          "histogram2dcontour": [
           {
            "colorbar": {
             "outlinewidth": 0,
             "ticks": ""
            },
            "colorscale": [
             [
              0,
              "#0d0887"
             ],
             [
              0.1111111111111111,
              "#46039f"
             ],
             [
              0.2222222222222222,
              "#7201a8"
             ],
             [
              0.3333333333333333,
              "#9c179e"
             ],
             [
              0.4444444444444444,
              "#bd3786"
             ],
             [
              0.5555555555555556,
              "#d8576b"
             ],
             [
              0.6666666666666666,
              "#ed7953"
             ],
             [
              0.7777777777777778,
              "#fb9f3a"
             ],
             [
              0.8888888888888888,
              "#fdca26"
             ],
             [
              1,
              "#f0f921"
             ]
            ],
            "type": "histogram2dcontour"
           }
          ],
          "mesh3d": [
           {
            "colorbar": {
             "outlinewidth": 0,
             "ticks": ""
            },
            "type": "mesh3d"
           }
          ],
          "parcoords": [
           {
            "line": {
             "colorbar": {
              "outlinewidth": 0,
              "ticks": ""
             }
            },
            "type": "parcoords"
           }
          ],
          "pie": [
           {
            "automargin": true,
            "type": "pie"
           }
          ],
          "scatter": [
           {
            "fillpattern": {
             "fillmode": "overlay",
             "size": 10,
             "solidity": 0.2
            },
            "type": "scatter"
           }
          ],
          "scatter3d": [
           {
            "line": {
             "colorbar": {
              "outlinewidth": 0,
              "ticks": ""
             }
            },
            "marker": {
             "colorbar": {
              "outlinewidth": 0,
              "ticks": ""
             }
            },
            "type": "scatter3d"
           }
          ],
          "scattercarpet": [
           {
            "marker": {
             "colorbar": {
              "outlinewidth": 0,
              "ticks": ""
             }
            },
            "type": "scattercarpet"
           }
          ],
          "scattergeo": [
           {
            "marker": {
             "colorbar": {
              "outlinewidth": 0,
              "ticks": ""
             }
            },
            "type": "scattergeo"
           }
          ],
          "scattergl": [
           {
            "marker": {
             "colorbar": {
              "outlinewidth": 0,
              "ticks": ""
             }
            },
            "type": "scattergl"
           }
          ],
          "scattermapbox": [
           {
            "marker": {
             "colorbar": {
              "outlinewidth": 0,
              "ticks": ""
             }
            },
            "type": "scattermapbox"
           }
          ],
          "scatterpolar": [
           {
            "marker": {
             "colorbar": {
              "outlinewidth": 0,
              "ticks": ""
             }
            },
            "type": "scatterpolar"
           }
          ],
          "scatterpolargl": [
           {
            "marker": {
             "colorbar": {
              "outlinewidth": 0,
              "ticks": ""
             }
            },
            "type": "scatterpolargl"
           }
          ],
          "scatterternary": [
           {
            "marker": {
             "colorbar": {
              "outlinewidth": 0,
              "ticks": ""
             }
            },
            "type": "scatterternary"
           }
          ],
          "surface": [
           {
            "colorbar": {
             "outlinewidth": 0,
             "ticks": ""
            },
            "colorscale": [
             [
              0,
              "#0d0887"
             ],
             [
              0.1111111111111111,
              "#46039f"
             ],
             [
              0.2222222222222222,
              "#7201a8"
             ],
             [
              0.3333333333333333,
              "#9c179e"
             ],
             [
              0.4444444444444444,
              "#bd3786"
             ],
             [
              0.5555555555555556,
              "#d8576b"
             ],
             [
              0.6666666666666666,
              "#ed7953"
             ],
             [
              0.7777777777777778,
              "#fb9f3a"
             ],
             [
              0.8888888888888888,
              "#fdca26"
             ],
             [
              1,
              "#f0f921"
             ]
            ],
            "type": "surface"
           }
          ],
          "table": [
           {
            "cells": {
             "fill": {
              "color": "#EBF0F8"
             },
             "line": {
              "color": "white"
             }
            },
            "header": {
             "fill": {
              "color": "#C8D4E3"
             },
             "line": {
              "color": "white"
             }
            },
            "type": "table"
           }
          ]
         },
         "layout": {
          "annotationdefaults": {
           "arrowcolor": "#2a3f5f",
           "arrowhead": 0,
           "arrowwidth": 1
          },
          "autotypenumbers": "strict",
          "coloraxis": {
           "colorbar": {
            "outlinewidth": 0,
            "ticks": ""
           }
          },
          "colorscale": {
           "diverging": [
            [
             0,
             "#8e0152"
            ],
            [
             0.1,
             "#c51b7d"
            ],
            [
             0.2,
             "#de77ae"
            ],
            [
             0.3,
             "#f1b6da"
            ],
            [
             0.4,
             "#fde0ef"
            ],
            [
             0.5,
             "#f7f7f7"
            ],
            [
             0.6,
             "#e6f5d0"
            ],
            [
             0.7,
             "#b8e186"
            ],
            [
             0.8,
             "#7fbc41"
            ],
            [
             0.9,
             "#4d9221"
            ],
            [
             1,
             "#276419"
            ]
           ],
           "sequential": [
            [
             0,
             "#0d0887"
            ],
            [
             0.1111111111111111,
             "#46039f"
            ],
            [
             0.2222222222222222,
             "#7201a8"
            ],
            [
             0.3333333333333333,
             "#9c179e"
            ],
            [
             0.4444444444444444,
             "#bd3786"
            ],
            [
             0.5555555555555556,
             "#d8576b"
            ],
            [
             0.6666666666666666,
             "#ed7953"
            ],
            [
             0.7777777777777778,
             "#fb9f3a"
            ],
            [
             0.8888888888888888,
             "#fdca26"
            ],
            [
             1,
             "#f0f921"
            ]
           ],
           "sequentialminus": [
            [
             0,
             "#0d0887"
            ],
            [
             0.1111111111111111,
             "#46039f"
            ],
            [
             0.2222222222222222,
             "#7201a8"
            ],
            [
             0.3333333333333333,
             "#9c179e"
            ],
            [
             0.4444444444444444,
             "#bd3786"
            ],
            [
             0.5555555555555556,
             "#d8576b"
            ],
            [
             0.6666666666666666,
             "#ed7953"
            ],
            [
             0.7777777777777778,
             "#fb9f3a"
            ],
            [
             0.8888888888888888,
             "#fdca26"
            ],
            [
             1,
             "#f0f921"
            ]
           ]
          },
          "colorway": [
           "#636efa",
           "#EF553B",
           "#00cc96",
           "#ab63fa",
           "#FFA15A",
           "#19d3f3",
           "#FF6692",
           "#B6E880",
           "#FF97FF",
           "#FECB52"
          ],
          "font": {
           "color": "#2a3f5f"
          },
          "geo": {
           "bgcolor": "white",
           "lakecolor": "white",
           "landcolor": "white",
           "showlakes": true,
           "showland": true,
           "subunitcolor": "#C8D4E3"
          },
          "hoverlabel": {
           "align": "left"
          },
          "hovermode": "closest",
          "mapbox": {
           "style": "light"
          },
          "paper_bgcolor": "white",
          "plot_bgcolor": "white",
          "polar": {
           "angularaxis": {
            "gridcolor": "#EBF0F8",
            "linecolor": "#EBF0F8",
            "ticks": ""
           },
           "bgcolor": "white",
           "radialaxis": {
            "gridcolor": "#EBF0F8",
            "linecolor": "#EBF0F8",
            "ticks": ""
           }
          },
          "scene": {
           "xaxis": {
            "backgroundcolor": "white",
            "gridcolor": "#DFE8F3",
            "gridwidth": 2,
            "linecolor": "#EBF0F8",
            "showbackground": true,
            "ticks": "",
            "zerolinecolor": "#EBF0F8"
           },
           "yaxis": {
            "backgroundcolor": "white",
            "gridcolor": "#DFE8F3",
            "gridwidth": 2,
            "linecolor": "#EBF0F8",
            "showbackground": true,
            "ticks": "",
            "zerolinecolor": "#EBF0F8"
           },
           "zaxis": {
            "backgroundcolor": "white",
            "gridcolor": "#DFE8F3",
            "gridwidth": 2,
            "linecolor": "#EBF0F8",
            "showbackground": true,
            "ticks": "",
            "zerolinecolor": "#EBF0F8"
           }
          },
          "shapedefaults": {
           "line": {
            "color": "#2a3f5f"
           }
          },
          "ternary": {
           "aaxis": {
            "gridcolor": "#DFE8F3",
            "linecolor": "#A2B1C6",
            "ticks": ""
           },
           "baxis": {
            "gridcolor": "#DFE8F3",
            "linecolor": "#A2B1C6",
            "ticks": ""
           },
           "bgcolor": "white",
           "caxis": {
            "gridcolor": "#DFE8F3",
            "linecolor": "#A2B1C6",
            "ticks": ""
           }
          },
          "title": {
           "x": 0.05
          },
          "xaxis": {
           "automargin": true,
           "gridcolor": "#EBF0F8",
           "linecolor": "#EBF0F8",
           "ticks": "",
           "title": {
            "standoff": 15
           },
           "zerolinecolor": "#EBF0F8",
           "zerolinewidth": 2
          },
          "yaxis": {
           "automargin": true,
           "gridcolor": "#EBF0F8",
           "linecolor": "#EBF0F8",
           "ticks": "",
           "title": {
            "standoff": 15
           },
           "zerolinecolor": "#EBF0F8",
           "zerolinewidth": 2
          }
         }
        },
        "width": 1600,
        "xaxis": {
         "anchor": "y",
         "domain": [
          0,
          0.45
         ],
         "title": {
          "text": "Observed values"
         }
        },
        "xaxis2": {
         "anchor": "y2",
         "domain": [
          0.55,
          1
         ],
         "title": {
          "text": "Observed values"
         }
        },
        "yaxis": {
         "anchor": "x",
         "domain": [
          0,
          1
         ],
         "title": {
          "text": "Predicted values"
         }
        },
        "yaxis2": {
         "anchor": "x2",
         "domain": [
          0,
          1
         ],
         "title": {
          "text": "Predicted values"
         }
        }
       }
      }
     },
     "metadata": {},
     "output_type": "display_data"
    },
    {
     "data": {
      "application/vnd.plotly.v1+json": {
       "config": {
        "plotlyServerURL": "https://plot.ly"
       },
       "data": [
        {
         "legendgroup": "train_0",
         "mode": "markers",
         "name": "Run id in Train 0",
         "type": "scatter",
         "x": [
          0,
          1.69345805704731,
          5.897022174496003,
          14.760391525541584,
          29.38859302970828,
          47.82798059583144,
          66.28877804594478,
          81.69288657721607,
          92.67703047605649,
          99.51314361635391,
          103.3982341018014,
          105.5137608534153,
          106.64771326447794,
          107.25237808915796,
          107.57398917080884
         ],
         "xaxis": "x",
         "y": [
          0,
          1.4901933043095088,
          5.056349945080321,
          12.591743618955173,
          26.06108562360729,
          42.90826631920363,
          61.60683529537193,
          76.85691847249801,
          87.60015552421216,
          94.51251193432753,
          97.33849588535601,
          99.9578280401519,
          100.05414883052617,
          100.30282501400669,
          100.25837966546601
         ],
         "yaxis": "y"
        },
        {
         "legendgroup": "train_1",
         "mode": "markers",
         "name": "Run id in Train 1",
         "type": "scatter",
         "x": [
          0,
          1.2591174351446812,
          4.363787969322462,
          11.105807850200534,
          23.08674531626167,
          39.77379364032567,
          58.33909249352142,
          75.64227711825473,
          89.5941838255521,
          99.3928495418756,
          105.4740473218795,
          108.9699250499719,
          110.918427122675,
          111.99516193361828,
          112.58794736476844
         ],
         "xaxis": "x",
         "y": [
          0,
          1.4999867245621668,
          5.630429790038533,
          14.514504516801688,
          29.8550906477319,
          47.95371250329772,
          69.64800064769273,
          87.6618657593388,
          102.04062408390543,
          110.03062514431369,
          113.24979757413271,
          116.16015613970784,
          116.55702276256486,
          116.80113769089807,
          116.50560264524566
         ],
         "yaxis": "y"
        },
        {
         "legendgroup": "train_2",
         "mode": "markers",
         "name": "Run id in Train 2",
         "type": "scatter",
         "x": [
          0,
          1.866469333291912,
          7.039248680252867,
          18.704626424131312,
          38.35496070782931,
          63.1173995632141,
          87.91110486552529,
          108.64700768237822,
          123.35156668084312,
          132.36601726278963,
          137.42994602457176,
          140.17843995403726,
          141.65402443925203,
          142.44293058550818,
          142.86381460240204
         ],
         "xaxis": "x",
         "y": [
          0,
          2.0386549672774232,
          6.998468827472135,
          18.601402805068265,
          37.43897374476281,
          62.21928806748914,
          85.63002188219481,
          103.6962696724489,
          119.08148367789369,
          129.37185409718995,
          134.0847175952409,
          136.94592696007035,
          137.6886851812668,
          137.91505798302887,
          137.46204025738257
         ],
         "yaxis": "y"
        },
        {
         "legendgroup": "train_3",
         "mode": "markers",
         "name": "Run id in Train 3",
         "type": "scatter",
         "x": [
          0,
          2.1935506074183557,
          7.801298168106945,
          18.766174317262404,
          33.69689018464,
          48.34900066558672,
          59.74842585087358,
          67.40216019026191,
          72.1177330616482,
          74.89252493334618,
          76.48915967702284,
          77.39715527981402,
          77.91013594557718,
          78.1989052220856,
          78.36113418904017
         ],
         "xaxis": "x",
         "y": [
          0,
          2.5831178639929955,
          8.513632080422232,
          21.03375366845053,
          35.6493815273628,
          51.47375882988649,
          65.31157216026769,
          77.55713572569599,
          85.47627008578642,
          89.84807454718128,
          93.25745699301056,
          94.9631127545278,
          96.4012871852762,
          97.31110959025777,
          98.27951421600278
         ],
         "yaxis": "y"
        },
        {
         "legendgroup": "train_4",
         "mode": "markers",
         "name": "Run id in Train 4",
         "type": "scatter",
         "x": [
          0,
          2.271716977830502,
          7.854473161355809,
          18.971708052051884,
          35.82484903801885,
          55.484937664768005,
          74.18856957963564,
          89.37381330601042,
          100.02434710219111,
          106.56762036581328,
          110.35013494198267,
          112.52991365924176,
          113.78809838136668,
          114.51558106094842,
          114.936735596877
         ],
         "xaxis": "x",
         "y": [
          0,
          2.4215973874323695,
          8.226699933219914,
          20.244767007426386,
          37.7478888464451,
          60.041920551196114,
          79.32311760152976,
          97.36776513488182,
          111.27436288462106,
          114.68929504742391,
          118.87543692376425,
          120.77103237517073,
          122.85521462364531,
          123.84099295589985,
          124.26662269105566
         ],
         "yaxis": "y"
        },
        {
         "legendgroup": "train_5",
         "mode": "markers",
         "name": "Run id in Train 5",
         "type": "scatter",
         "x": [
          0,
          2.1740074735550605,
          7.182608258476706,
          16.82510229378721,
          31.34268820461444,
          48.28624408120008,
          64.28995969884735,
          77.04776277507078,
          85.78842522037073,
          91.04929514777176,
          94.00474366506025,
          95.64522970427242,
          96.55287676695592,
          97.054389027165,
          97.331315646952
         ],
         "xaxis": "x",
         "y": [
          0,
          2.389689004418873,
          8.228392520817227,
          20.36295154318614,
          37.69396144813534,
          59.702802322829086,
          78.75452918136327,
          93.9623829004493,
          106.42587559569175,
          110.48786770526948,
          114.73455822156505,
          116.74520808843945,
          119.07743000884722,
          120.29092034402844,
          120.89802918192413
         ],
         "yaxis": "y"
        },
        {
         "legendgroup": "train_6",
         "mode": "markers",
         "name": "Run id in Train 6",
         "type": "scatter",
         "x": [
          0,
          1.916223707605735,
          6.481636373842608,
          15.742076047399967,
          30.7303924619266,
          49.56309399414012,
          68.54508580701972,
          84.64064208273174,
          96.4336875563552,
          104.07036255435077,
          108.63197524096528,
          111.25534115276618,
          112.74131598613712,
          113.577859978804,
          114.04725326605498
         ],
         "xaxis": "x",
         "y": [
          0,
          3.152965920257856,
          10.74132501478344,
          28.01445709952356,
          53.171413080004776,
          85.31086166914517,
          111.689294796546,
          131.3960371171976,
          144.60328609314536,
          159.00832465270378,
          166.53267206424238,
          170.79792330606253,
          172.97896876828207,
          173.93143330821894,
          173.89499981981132
         ],
         "yaxis": "y"
        },
        {
         "legendgroup": "train_7",
         "mode": "markers",
         "name": "Run id in Train 7",
         "type": "scatter",
         "x": [
          0,
          2.243958200027949,
          8.523091057701478,
          22.02505899374238,
          42.56465569657718,
          65.54531000542516,
          86.36115270011925,
          102.69136210007946,
          114.01852655478228,
          120.90042892063524,
          124.57629681718988,
          126.40832354825189,
          127.3152667728905,
          127.7640116394374,
          127.98600783384062
         ],
         "xaxis": "x",
         "y": [
          0,
          2.516532911693359,
          8.821182905541825,
          23.075660659001986,
          44.20729588897253,
          70.69911942516643,
          92.47311945254245,
          108.33974029265521,
          117.0806324896238,
          127.94379269917853,
          131.79599115754786,
          133.5805475862148,
          135.5221489475299,
          136.88940554842205,
          137.3106746044663
         ],
         "yaxis": "y"
        },
        {
         "legendgroup": "train_8",
         "mode": "markers",
         "name": "Run id in Train 8",
         "type": "scatter",
         "x": [
          0,
          1.6793980299494815,
          5.825279816564676,
          14.27356176357438,
          27.297157467115877,
          42.40664958688576,
          56.43799757399171,
          67.52538375231104,
          75.23050405709591,
          80.0340985431344,
          82.87566487240495,
          84.54898020684811,
          85.5339459906819,
          86.11387571389295,
          86.4554277707369
         ],
         "xaxis": "x",
         "y": [
          0,
          2.2937366688810417,
          7.858919848920492,
          20.387354693351607,
          37.14319703551836,
          55.933178666817994,
          72.26409961497508,
          81.54365965067157,
          88.66449485087314,
          93.42975407572632,
          97.05153288994237,
          98.93477211818384,
          101.23686198355067,
          102.49344971697002,
          103.35936147274796
         ],
         "yaxis": "y"
        },
        {
         "legendgroup": "train_9",
         "mode": "markers",
         "name": "Run id in Train 9",
         "type": "scatter",
         "x": [
          0,
          1.936573425915886,
          6.829628620347621,
          17.08542047827603,
          33.68920844131243,
          54.31801760252742,
          74.94360934324902,
          92.35928951478154,
          105.04138844957716,
          113.1173391723332,
          117.83371942641146,
          120.5372260817002,
          122.08223916974812,
          122.96423137950454,
          123.46750725239096
         ],
         "xaxis": "x",
         "y": [
          0,
          2.577318158113821,
          8.875856718953683,
          23.02973282693443,
          44.253491815103274,
          71.33782234339897,
          94.18430084629094,
          111.40097455256243,
          124.67685096490074,
          131.33746645794756,
          139.82815594150125,
          142.51931909491393,
          143.87762690508282,
          144.940948392174,
          145.0615525142166
         ],
         "yaxis": "y"
        },
        {
         "legendgroup": "test_0",
         "mode": "markers",
         "name": "Run id in Test 0",
         "type": "scatter",
         "x": [
          0,
          2.1824297539180297,
          8.166083041116508,
          21.321369967573112,
          42.85414584728475,
          69.79089068242651,
          97.66797157992208,
          123.28266885228646,
          145.1452661433552,
          162.939326203935,
          176.9454542072082,
          187.66054365335236,
          195.7213811855037,
          201.77002614645343,
          206.29555670809924
         ],
         "xaxis": "x2",
         "y": [
          0,
          1.9314929264196803,
          6.814925825055865,
          17.29410279805085,
          36.21307253505038,
          59.41039358885168,
          82.03126161771118,
          96.64902255250742,
          108.10325466834783,
          117.77391506877936,
          122.64000461368389,
          125.6370060939478,
          127.05869812157967,
          127.69893213681614,
          127.6453388255516
         ],
         "yaxis": "y2"
        },
        {
         "legendgroup": "test_1",
         "mode": "markers",
         "name": "Run id in Test 1",
         "type": "scatter",
         "x": [
          0,
          1.5991499982104411,
          5.445699389353575,
          13.581432771597257,
          27.689681352073706,
          47.21496460203044,
          69.54534066005401,
          91.89286610534306,
          112.38249670914288,
          130.1236250206878,
          145.0020761195221,
          157.1975521219229,
          167.00514815735104,
          174.77073081852015,
          180.83847709015123
         ],
         "xaxis": "x2",
         "y": [
          0,
          1.9236352798552272,
          6.6441320637988825,
          17.047091454688587,
          32.73361528186275,
          51.091795305692315,
          67.71968104611948,
          77.18021131085636,
          85.26770035940213,
          88.84949539132587,
          92.21483626635981,
          93.8440599449577,
          95.88244892161627,
          97.08136662337859,
          97.71365188425526
         ],
         "yaxis": "y2"
        },
        {
         "legendgroup": "test_2",
         "mode": "markers",
         "name": "Run id in Test 2",
         "type": "scatter",
         "x": [
          0,
          1.5581891741849512,
          5.606126893705409,
          14.498929324203344,
          29.82798216505632,
          50.41499972160747,
          73.19671246341571,
          95.3587673773708,
          115.20028515974414,
          131.99273880744107,
          145.60559285891645,
          156.2873977451865,
          164.63072407738295,
          171.14171656847114,
          176.2095735657846
         ],
         "xaxis": "x2",
         "y": [
          0,
          1.5605820500900038,
          5.440165995832095,
          13.04764091802441,
          27.412860050922916,
          43.473029893294886,
          61.01624479635249,
          70.81986847959284,
          78.4195610156582,
          85.03341553732199,
          86.27928565856729,
          86.91053832868798,
          87.92840291070087,
          88.75401368244843,
          89.23948095365483
         ],
         "yaxis": "y2"
        },
        {
         "legendgroup": "test_3",
         "mode": "markers",
         "name": "Run id in Test 3",
         "type": "scatter",
         "x": [
          0,
          1.7487860554820465,
          6.311671256918155,
          16.382654836909964,
          33.66660265814613,
          56.58603621625323,
          81.56847238120447,
          105.47928252536023,
          126.51381224589684,
          144.02257896315942,
          158.0615217586803,
          168.90191538273123,
          176.33605979156945,
          181.14518553707703,
          184.24826675684804
         ],
         "xaxis": "x2",
         "y": [
          0,
          1.9690652355350415,
          6.88080754066549,
          17.631250143982168,
          33.93636300420415,
          51.13291320735462,
          68.18939082313403,
          77.75247140067785,
          84.33825785965378,
          91.83328646164082,
          93.79055703011642,
          95.00769237671093,
          96.87339474498873,
          97.99288168842455,
          98.66760710521133
         ],
         "yaxis": "y2"
        },
        {
         "legendgroup": "test_4",
         "mode": "markers",
         "name": "Run id in Test 4",
         "type": "scatter",
         "x": [
          0,
          2.40865700404835,
          9.007605339128604,
          23.0960309095346,
          44.650055160271,
          69.37126336604697,
          92.90356906065072,
          112.89704265210062,
          128.56760159133748,
          139.92880141496798,
          147.5636069024654,
          152.73889571644432,
          156.32842633487192,
          158.8502092384601,
          160.63502139951692
         ],
         "xaxis": "x2",
         "y": [
          0,
          1.7762439715353426,
          5.825938720871189,
          14.051304215285478,
          25.593298643595638,
          41.190144306451344,
          55.20578693949479,
          67.84070019988671,
          76.24013647791774,
          84.2109678509448,
          84.99110214987948,
          85.33054912127155,
          85.47941173651861,
          85.92857843412291,
          86.43897775544059
         ],
         "yaxis": "y2"
        },
        {
         "legendgroup": "test_5",
         "mode": "markers",
         "name": "Run id in Test 5",
         "type": "scatter",
         "x": [
          0,
          1.2545144440534064,
          4.985417532879248,
          14.260275885034812,
          31.234881024706453,
          53.49583974096605,
          76.37935894351298,
          96.68647952280352,
          113.11097089305292,
          125.47091067391106,
          134.08437572025375,
          139.54476133203477,
          142.9131133751618,
          145.0343385158262,
          146.38776809777494
         ],
         "xaxis": "x2",
         "y": [
          0,
          2.7619064353628238,
          9.660496854899941,
          25.682886416340295,
          48.74802528347592,
          76.05929965281162,
          99.07392049905586,
          115.99588239790361,
          124.13847516794569,
          135.4815018405471,
          141.68946158693655,
          145.4283420451711,
          147.69191160888516,
          148.89968933617084,
          149.1713374127349
         ],
         "yaxis": "y2"
        },
        {
         "legendgroup": "test_6",
         "mode": "markers",
         "name": "Run id in Test 6",
         "type": "scatter",
         "x": [
          0,
          2.4676429401569653,
          8.847402570973394,
          21.92022427914256,
          42.04251997927221,
          66.3806237114453,
          91.4711752566404,
          114.89076395797905,
          135.40670329147326,
          152.63994276475762,
          166.70916056328812,
          177.96967910428168,
          186.83664250707432,
          193.7065213911428,
          198.882259098652
         ],
         "xaxis": "x2",
         "y": [
          0,
          2.4656993360847705,
          8.450374547525803,
          21.97458263394276,
          41.25336187286151,
          64.22577045275219,
          82.83011910447578,
          94.9591333840218,
          99.80822039624702,
          108.73076276101914,
          111.18678053840082,
          112.86512404529155,
          115.54034639383715,
          117.1848589272263,
          118.08201901766824
         ],
         "yaxis": "y2"
        },
        {
         "legendgroup": "test_7",
         "mode": "markers",
         "name": "Run id in Test 7",
         "type": "scatter",
         "x": [
          0,
          2.3615459556658216,
          8.310160827313466,
          20.67139833266929,
          40.36585105311375,
          64.7292302489265,
          89.83125897208262,
          112.84560274344835,
          132.43594927073886,
          148.2954069606308,
          160.66288615971445,
          170.12038236611113,
          177.31264510895502,
          182.75317820372044,
          186.84944474519827
         ],
         "xaxis": "x2",
         "y": [
          0,
          1.6281416070227188,
          5.755876819046951,
          13.776159659478346,
          26.986526923201108,
          41.11486645035865,
          56.454495314228446,
          64.12864899201051,
          70.04625525777188,
          76.97508416527356,
          78.47280397783676,
          79.33634225853899,
          80.48178163782248,
          81.43533527141285,
          82.1863406843047
         ],
         "yaxis": "y2"
        },
        {
         "legendgroup": "test_8",
         "mode": "markers",
         "name": "Run id in Test 8",
         "type": "scatter",
         "x": [
          0,
          1.4553196405346558,
          5.745846264970134,
          16.172136437495485,
          34.67671064022556,
          58.57066013499378,
          83.3065087273045,
          105.72898824643453,
          124.44509749634368,
          139.24169506314482,
          150.50390826076975,
          158.88275265089592,
          165.05193713369445,
          169.55607062164327,
          172.82287801702037
         ],
         "xaxis": "x2",
         "y": [
          0,
          2.603703495529416,
          8.867320966305243,
          23.252742072963212,
          43.52965936376877,
          67.17743840076713,
          86.81956423204855,
          99.6538073584133,
          104.14721453284521,
          113.02826576505805,
          115.55254947742063,
          117.23312481870812,
          119.91831482798177,
          121.6048330296671,
          122.50889931189565
         ],
         "yaxis": "y2"
        },
        {
         "legendgroup": "test_9",
         "mode": "markers",
         "name": "Run id in Test 9",
         "type": "scatter",
         "x": [
          0,
          1.8253206890696088,
          6.829555224571791,
          18.279574448197184,
          38.361024117816335,
          65.14647238107932,
          94.2447821690744,
          121.97130459806723,
          146.32540899281685,
          166.62762006243048,
          182.94611833504848,
          195.67525930047435,
          205.46490282737048,
          212.9690451781578,
          218.69332923153357
         ],
         "xaxis": "x2",
         "y": [
          0,
          1.4350381537590002,
          4.293603730058976,
          12.301347159822184,
          25.64535231085524,
          43.19567942468614,
          62.34995688139289,
          79.5238604064776,
          92.0931925957293,
          99.02739233521321,
          101.82125844548727,
          104.54012502589507,
          104.45030446719821,
          104.52134222848858,
          104.25318090711309
         ],
         "yaxis": "y2"
        }
       ],
       "layout": {
        "annotations": [
         {
          "font": {
           "size": 16
          },
          "showarrow": false,
          "text": "Train Set - X:Lac <br> R^2 = 0.83 <br> Abs RMSE = 13.001 <br> Rel RMSE = 0.291",
          "x": 0.225,
          "xanchor": "center",
          "xref": "paper",
          "y": 1,
          "yanchor": "bottom",
          "yref": "paper"
         },
         {
          "font": {
           "size": 16
          },
          "showarrow": false,
          "text": "Test Set - X:Lac <br> R^2 = 0.561 <br> Abs RMSE = 43.902 <br> Rel RMSE = 0.634",
          "x": 0.775,
          "xanchor": "center",
          "xref": "paper",
          "y": 1,
          "yanchor": "bottom",
          "yref": "paper"
         }
        ],
        "shapes": [
         {
          "layer": "above",
          "line": {
           "dash": "dash"
          },
          "type": "line",
          "x0": 0,
          "x1": 173.93143330821894,
          "y0": 0,
          "y1": 173.93143330821894
         },
         {
          "layer": "above",
          "line": {
           "dash": "dash"
          },
          "type": "line",
          "x0": 0,
          "x1": 149.1713374127349,
          "xref": "x2",
          "y0": 0,
          "y1": 149.1713374127349,
          "yref": "y2"
         }
        ],
        "template": {
         "data": {
          "bar": [
           {
            "error_x": {
             "color": "#2a3f5f"
            },
            "error_y": {
             "color": "#2a3f5f"
            },
            "marker": {
             "line": {
              "color": "white",
              "width": 0.5
             },
             "pattern": {
              "fillmode": "overlay",
              "size": 10,
              "solidity": 0.2
             }
            },
            "type": "bar"
           }
          ],
          "barpolar": [
           {
            "marker": {
             "line": {
              "color": "white",
              "width": 0.5
             },
             "pattern": {
              "fillmode": "overlay",
              "size": 10,
              "solidity": 0.2
             }
            },
            "type": "barpolar"
           }
          ],
          "carpet": [
           {
            "aaxis": {
             "endlinecolor": "#2a3f5f",
             "gridcolor": "#C8D4E3",
             "linecolor": "#C8D4E3",
             "minorgridcolor": "#C8D4E3",
             "startlinecolor": "#2a3f5f"
            },
            "baxis": {
             "endlinecolor": "#2a3f5f",
             "gridcolor": "#C8D4E3",
             "linecolor": "#C8D4E3",
             "minorgridcolor": "#C8D4E3",
             "startlinecolor": "#2a3f5f"
            },
            "type": "carpet"
           }
          ],
          "choropleth": [
           {
            "colorbar": {
             "outlinewidth": 0,
             "ticks": ""
            },
            "type": "choropleth"
           }
          ],
          "contour": [
           {
            "colorbar": {
             "outlinewidth": 0,
             "ticks": ""
            },
            "colorscale": [
             [
              0,
              "#0d0887"
             ],
             [
              0.1111111111111111,
              "#46039f"
             ],
             [
              0.2222222222222222,
              "#7201a8"
             ],
             [
              0.3333333333333333,
              "#9c179e"
             ],
             [
              0.4444444444444444,
              "#bd3786"
             ],
             [
              0.5555555555555556,
              "#d8576b"
             ],
             [
              0.6666666666666666,
              "#ed7953"
             ],
             [
              0.7777777777777778,
              "#fb9f3a"
             ],
             [
              0.8888888888888888,
              "#fdca26"
             ],
             [
              1,
              "#f0f921"
             ]
            ],
            "type": "contour"
           }
          ],
          "contourcarpet": [
           {
            "colorbar": {
             "outlinewidth": 0,
             "ticks": ""
            },
            "type": "contourcarpet"
           }
          ],
          "heatmap": [
           {
            "colorbar": {
             "outlinewidth": 0,
             "ticks": ""
            },
            "colorscale": [
             [
              0,
              "#0d0887"
             ],
             [
              0.1111111111111111,
              "#46039f"
             ],
             [
              0.2222222222222222,
              "#7201a8"
             ],
             [
              0.3333333333333333,
              "#9c179e"
             ],
             [
              0.4444444444444444,
              "#bd3786"
             ],
             [
              0.5555555555555556,
              "#d8576b"
             ],
             [
              0.6666666666666666,
              "#ed7953"
             ],
             [
              0.7777777777777778,
              "#fb9f3a"
             ],
             [
              0.8888888888888888,
              "#fdca26"
             ],
             [
              1,
              "#f0f921"
             ]
            ],
            "type": "heatmap"
           }
          ],
          "heatmapgl": [
           {
            "colorbar": {
             "outlinewidth": 0,
             "ticks": ""
            },
            "colorscale": [
             [
              0,
              "#0d0887"
             ],
             [
              0.1111111111111111,
              "#46039f"
             ],
             [
              0.2222222222222222,
              "#7201a8"
             ],
             [
              0.3333333333333333,
              "#9c179e"
             ],
             [
              0.4444444444444444,
              "#bd3786"
             ],
             [
              0.5555555555555556,
              "#d8576b"
             ],
             [
              0.6666666666666666,
              "#ed7953"
             ],
             [
              0.7777777777777778,
              "#fb9f3a"
             ],
             [
              0.8888888888888888,
              "#fdca26"
             ],
             [
              1,
              "#f0f921"
             ]
            ],
            "type": "heatmapgl"
           }
          ],
          "histogram": [
           {
            "marker": {
             "pattern": {
              "fillmode": "overlay",
              "size": 10,
              "solidity": 0.2
             }
            },
            "type": "histogram"
           }
          ],
          "histogram2d": [
           {
            "colorbar": {
             "outlinewidth": 0,
             "ticks": ""
            },
            "colorscale": [
             [
              0,
              "#0d0887"
             ],
             [
              0.1111111111111111,
              "#46039f"
             ],
             [
              0.2222222222222222,
              "#7201a8"
             ],
             [
              0.3333333333333333,
              "#9c179e"
             ],
             [
              0.4444444444444444,
              "#bd3786"
             ],
             [
              0.5555555555555556,
              "#d8576b"
             ],
             [
              0.6666666666666666,
              "#ed7953"
             ],
             [
              0.7777777777777778,
              "#fb9f3a"
             ],
             [
              0.8888888888888888,
              "#fdca26"
             ],
             [
              1,
              "#f0f921"
             ]
            ],
            "type": "histogram2d"
           }
          ],
          "histogram2dcontour": [
           {
            "colorbar": {
             "outlinewidth": 0,
             "ticks": ""
            },
            "colorscale": [
             [
              0,
              "#0d0887"
             ],
             [
              0.1111111111111111,
              "#46039f"
             ],
             [
              0.2222222222222222,
              "#7201a8"
             ],
             [
              0.3333333333333333,
              "#9c179e"
             ],
             [
              0.4444444444444444,
              "#bd3786"
             ],
             [
              0.5555555555555556,
              "#d8576b"
             ],
             [
              0.6666666666666666,
              "#ed7953"
             ],
             [
              0.7777777777777778,
              "#fb9f3a"
             ],
             [
              0.8888888888888888,
              "#fdca26"
             ],
             [
              1,
              "#f0f921"
             ]
            ],
            "type": "histogram2dcontour"
           }
          ],
          "mesh3d": [
           {
            "colorbar": {
             "outlinewidth": 0,
             "ticks": ""
            },
            "type": "mesh3d"
           }
          ],
          "parcoords": [
           {
            "line": {
             "colorbar": {
              "outlinewidth": 0,
              "ticks": ""
             }
            },
            "type": "parcoords"
           }
          ],
          "pie": [
           {
            "automargin": true,
            "type": "pie"
           }
          ],
          "scatter": [
           {
            "fillpattern": {
             "fillmode": "overlay",
             "size": 10,
             "solidity": 0.2
            },
            "type": "scatter"
           }
          ],
          "scatter3d": [
           {
            "line": {
             "colorbar": {
              "outlinewidth": 0,
              "ticks": ""
             }
            },
            "marker": {
             "colorbar": {
              "outlinewidth": 0,
              "ticks": ""
             }
            },
            "type": "scatter3d"
           }
          ],
          "scattercarpet": [
           {
            "marker": {
             "colorbar": {
              "outlinewidth": 0,
              "ticks": ""
             }
            },
            "type": "scattercarpet"
           }
          ],
          "scattergeo": [
           {
            "marker": {
             "colorbar": {
              "outlinewidth": 0,
              "ticks": ""
             }
            },
            "type": "scattergeo"
           }
          ],
          "scattergl": [
           {
            "marker": {
             "colorbar": {
              "outlinewidth": 0,
              "ticks": ""
             }
            },
            "type": "scattergl"
           }
          ],
          "scattermapbox": [
           {
            "marker": {
             "colorbar": {
              "outlinewidth": 0,
              "ticks": ""
             }
            },
            "type": "scattermapbox"
           }
          ],
          "scatterpolar": [
           {
            "marker": {
             "colorbar": {
              "outlinewidth": 0,
              "ticks": ""
             }
            },
            "type": "scatterpolar"
           }
          ],
          "scatterpolargl": [
           {
            "marker": {
             "colorbar": {
              "outlinewidth": 0,
              "ticks": ""
             }
            },
            "type": "scatterpolargl"
           }
          ],
          "scatterternary": [
           {
            "marker": {
             "colorbar": {
              "outlinewidth": 0,
              "ticks": ""
             }
            },
            "type": "scatterternary"
           }
          ],
          "surface": [
           {
            "colorbar": {
             "outlinewidth": 0,
             "ticks": ""
            },
            "colorscale": [
             [
              0,
              "#0d0887"
             ],
             [
              0.1111111111111111,
              "#46039f"
             ],
             [
              0.2222222222222222,
              "#7201a8"
             ],
             [
              0.3333333333333333,
              "#9c179e"
             ],
             [
              0.4444444444444444,
              "#bd3786"
             ],
             [
              0.5555555555555556,
              "#d8576b"
             ],
             [
              0.6666666666666666,
              "#ed7953"
             ],
             [
              0.7777777777777778,
              "#fb9f3a"
             ],
             [
              0.8888888888888888,
              "#fdca26"
             ],
             [
              1,
              "#f0f921"
             ]
            ],
            "type": "surface"
           }
          ],
          "table": [
           {
            "cells": {
             "fill": {
              "color": "#EBF0F8"
             },
             "line": {
              "color": "white"
             }
            },
            "header": {
             "fill": {
              "color": "#C8D4E3"
             },
             "line": {
              "color": "white"
             }
            },
            "type": "table"
           }
          ]
         },
         "layout": {
          "annotationdefaults": {
           "arrowcolor": "#2a3f5f",
           "arrowhead": 0,
           "arrowwidth": 1
          },
          "autotypenumbers": "strict",
          "coloraxis": {
           "colorbar": {
            "outlinewidth": 0,
            "ticks": ""
           }
          },
          "colorscale": {
           "diverging": [
            [
             0,
             "#8e0152"
            ],
            [
             0.1,
             "#c51b7d"
            ],
            [
             0.2,
             "#de77ae"
            ],
            [
             0.3,
             "#f1b6da"
            ],
            [
             0.4,
             "#fde0ef"
            ],
            [
             0.5,
             "#f7f7f7"
            ],
            [
             0.6,
             "#e6f5d0"
            ],
            [
             0.7,
             "#b8e186"
            ],
            [
             0.8,
             "#7fbc41"
            ],
            [
             0.9,
             "#4d9221"
            ],
            [
             1,
             "#276419"
            ]
           ],
           "sequential": [
            [
             0,
             "#0d0887"
            ],
            [
             0.1111111111111111,
             "#46039f"
            ],
            [
             0.2222222222222222,
             "#7201a8"
            ],
            [
             0.3333333333333333,
             "#9c179e"
            ],
            [
             0.4444444444444444,
             "#bd3786"
            ],
            [
             0.5555555555555556,
             "#d8576b"
            ],
            [
             0.6666666666666666,
             "#ed7953"
            ],
            [
             0.7777777777777778,
             "#fb9f3a"
            ],
            [
             0.8888888888888888,
             "#fdca26"
            ],
            [
             1,
             "#f0f921"
            ]
           ],
           "sequentialminus": [
            [
             0,
             "#0d0887"
            ],
            [
             0.1111111111111111,
             "#46039f"
            ],
            [
             0.2222222222222222,
             "#7201a8"
            ],
            [
             0.3333333333333333,
             "#9c179e"
            ],
            [
             0.4444444444444444,
             "#bd3786"
            ],
            [
             0.5555555555555556,
             "#d8576b"
            ],
            [
             0.6666666666666666,
             "#ed7953"
            ],
            [
             0.7777777777777778,
             "#fb9f3a"
            ],
            [
             0.8888888888888888,
             "#fdca26"
            ],
            [
             1,
             "#f0f921"
            ]
           ]
          },
          "colorway": [
           "#636efa",
           "#EF553B",
           "#00cc96",
           "#ab63fa",
           "#FFA15A",
           "#19d3f3",
           "#FF6692",
           "#B6E880",
           "#FF97FF",
           "#FECB52"
          ],
          "font": {
           "color": "#2a3f5f"
          },
          "geo": {
           "bgcolor": "white",
           "lakecolor": "white",
           "landcolor": "white",
           "showlakes": true,
           "showland": true,
           "subunitcolor": "#C8D4E3"
          },
          "hoverlabel": {
           "align": "left"
          },
          "hovermode": "closest",
          "mapbox": {
           "style": "light"
          },
          "paper_bgcolor": "white",
          "plot_bgcolor": "white",
          "polar": {
           "angularaxis": {
            "gridcolor": "#EBF0F8",
            "linecolor": "#EBF0F8",
            "ticks": ""
           },
           "bgcolor": "white",
           "radialaxis": {
            "gridcolor": "#EBF0F8",
            "linecolor": "#EBF0F8",
            "ticks": ""
           }
          },
          "scene": {
           "xaxis": {
            "backgroundcolor": "white",
            "gridcolor": "#DFE8F3",
            "gridwidth": 2,
            "linecolor": "#EBF0F8",
            "showbackground": true,
            "ticks": "",
            "zerolinecolor": "#EBF0F8"
           },
           "yaxis": {
            "backgroundcolor": "white",
            "gridcolor": "#DFE8F3",
            "gridwidth": 2,
            "linecolor": "#EBF0F8",
            "showbackground": true,
            "ticks": "",
            "zerolinecolor": "#EBF0F8"
           },
           "zaxis": {
            "backgroundcolor": "white",
            "gridcolor": "#DFE8F3",
            "gridwidth": 2,
            "linecolor": "#EBF0F8",
            "showbackground": true,
            "ticks": "",
            "zerolinecolor": "#EBF0F8"
           }
          },
          "shapedefaults": {
           "line": {
            "color": "#2a3f5f"
           }
          },
          "ternary": {
           "aaxis": {
            "gridcolor": "#DFE8F3",
            "linecolor": "#A2B1C6",
            "ticks": ""
           },
           "baxis": {
            "gridcolor": "#DFE8F3",
            "linecolor": "#A2B1C6",
            "ticks": ""
           },
           "bgcolor": "white",
           "caxis": {
            "gridcolor": "#DFE8F3",
            "linecolor": "#A2B1C6",
            "ticks": ""
           }
          },
          "title": {
           "x": 0.05
          },
          "xaxis": {
           "automargin": true,
           "gridcolor": "#EBF0F8",
           "linecolor": "#EBF0F8",
           "ticks": "",
           "title": {
            "standoff": 15
           },
           "zerolinecolor": "#EBF0F8",
           "zerolinewidth": 2
          },
          "yaxis": {
           "automargin": true,
           "gridcolor": "#EBF0F8",
           "linecolor": "#EBF0F8",
           "ticks": "",
           "title": {
            "standoff": 15
           },
           "zerolinecolor": "#EBF0F8",
           "zerolinewidth": 2
          }
         }
        },
        "width": 1600,
        "xaxis": {
         "anchor": "y",
         "domain": [
          0,
          0.45
         ],
         "title": {
          "text": "Observed values"
         }
        },
        "xaxis2": {
         "anchor": "y2",
         "domain": [
          0.55,
          1
         ],
         "title": {
          "text": "Observed values"
         }
        },
        "yaxis": {
         "anchor": "x",
         "domain": [
          0,
          1
         ],
         "title": {
          "text": "Predicted values"
         }
        },
        "yaxis2": {
         "anchor": "x2",
         "domain": [
          0,
          1
         ],
         "title": {
          "text": "Predicted values"
         }
        }
       }
      }
     },
     "metadata": {},
     "output_type": "display_data"
    },
    {
     "data": {
      "application/vnd.plotly.v1+json": {
       "config": {
        "plotlyServerURL": "https://plot.ly"
       },
       "data": [
        {
         "legendgroup": "train_0",
         "mode": "markers",
         "name": "Run id in Train 0",
         "type": "scatter",
         "x": [
          0,
          0.092797611632703,
          1.3613322223015707,
          11.344886505251033,
          52.28927236583092,
          140.5961579864852,
          259.3251210897019,
          375.5879131278478,
          466.0614611226992,
          525.1008308953583,
          559.5121702665116,
          578.501989557713,
          588.7503117163226,
          594.2341048016712,
          597.15618596249
         ],
         "xaxis": "x",
         "y": [
          0,
          -0.07194806319784836,
          1.275269346172281,
          8.284985317218759,
          43.854451161740414,
          126.61691476982344,
          242.392936311717,
          360.27792326935867,
          452.844520715472,
          519.5694758355223,
          563.044913821173,
          585.9807487564838,
          598.7722481433838,
          606.0446347450478,
          610.2182729906707
         ],
         "yaxis": "y"
        },
        {
         "legendgroup": "train_1",
         "mode": "markers",
         "name": "Run id in Train 1",
         "type": "scatter",
         "x": [
          0,
          0.0438814612801809,
          0.6754926172763417,
          6.144508366864772,
          32.89209616429462,
          103.50902716060114,
          216.84466709892055,
          346.44671755061927,
          463.7142285131992,
          551.6325993334557,
          608.2207631731609,
          641.4045985098942,
          660.0958645554078,
          670.481486260618,
          676.2162592557202
         ],
         "xaxis": "x",
         "y": [
          0,
          0.1887622199017297,
          1.3168183846721004,
          11.604881405259125,
          58.16090306800092,
          160.54387075042484,
          305.073989005102,
          449.7285292661015,
          567.0227344303315,
          648.2665717421069,
          700.6709551467391,
          729.2802158643951,
          744.2336043926756,
          752.473781734998,
          756.9374534347698
         ],
         "yaxis": "y"
        },
        {
         "legendgroup": "train_2",
         "mode": "markers",
         "name": "Run id in Train 2",
         "type": "scatter",
         "x": [
          0,
          0.0805992014021038,
          1.8724719368459048,
          19.41861755313492,
          91.75328005105564,
          241.06314503965848,
          434.5519776483289,
          619.9756875720175,
          761.4441456682614,
          851.6236464360761,
          903.333097571553,
          931.7008737773178,
          947.0117744048353,
          955.2202498945722,
          959.6058930504475
         ],
         "xaxis": "x",
         "y": [
          0,
          0.029980983361658442,
          1.9953588882592657,
          20.021828165148953,
          88.41686604818413,
          221.76576599724902,
          400.34285242086844,
          572.8221142739144,
          711.5910559985265,
          800.1357976124777,
          854.7152960118522,
          889.8180999351385,
          908.3095711790427,
          918.9238005657581,
          925.0817399059677
         ],
         "yaxis": "y"
        },
        {
         "legendgroup": "train_3",
         "mode": "markers",
         "name": "Run id in Train 3",
         "type": "scatter",
         "x": [
          0,
          0.100395228326079,
          2.471584704867094,
          20.810314349562,
          75.25006587798005,
          155.21180957123823,
          231.3966660922219,
          288.1189053801796,
          325.0105400678119,
          347.3566646464407,
          360.4174988213081,
          367.9092782306117,
          372.1621491359598,
          374.5625824428543,
          375.9131407266119
         ],
         "xaxis": "x",
         "y": [
          0,
          -0.024065307100398947,
          2.9678741710138414,
          24.783654921282615,
          83.32815387773843,
          180.70307815148882,
          293.15089510784156,
          385.3132134127982,
          457.3351128489112,
          500.1268323286071,
          524.9104473226868,
          540.2931491072052,
          549.5880942369887,
          554.899639299123,
          558.0477280987072
         ],
         "yaxis": "y"
        },
        {
         "legendgroup": "train_4",
         "mode": "markers",
         "name": "Run id in Train 4",
         "type": "scatter",
         "x": [
          0,
          0.1292531886788032,
          2.811811054279715,
          23.20550382163473,
          91.22866564904736,
          213.66138340861409,
          360.48179504747,
          495.63502362499145,
          597.2236779261053,
          662.0367074378605,
          700.2481804040611,
          722.5010954289212,
          735.4205903119163,
          742.9151800957571,
          747.2620778238343
         ],
         "xaxis": "x",
         "y": [
          0,
          0.043648305789857345,
          2.9534245782032826,
          25.082569442487795,
          94.7684900534524,
          221.00922796922336,
          384.16520577130467,
          537.5481665126736,
          659.8805003173674,
          734.7044019342311,
          777.7668470306586,
          803.7809695322368,
          816.5524766094921,
          823.1148365395717,
          826.2703089938301
         ],
         "yaxis": "y"
        },
        {
         "legendgroup": "train_5",
         "mode": "markers",
         "name": "Run id in Train 5",
         "type": "scatter",
         "x": [
          0,
          0.1191344970680277,
          2.2379543730029474,
          17.6686268146821,
          70.79210067044147,
          170.7629621239597,
          293.6414359032689,
          406.8318234868232,
          490.7890370390738,
          543.5352893767821,
          573.8362605087634,
          590.8523186228688,
          600.3258243064748,
          605.5779966984201,
          608.4835154549434
         ],
         "xaxis": "x",
         "y": [
          0,
          0.005495941962598727,
          2.861093528410507,
          24.300087677183647,
          94.06664799586476,
          219.33165001113832,
          376.1416397176659,
          521.8593387607107,
          637.686521496843,
          708.802035277845,
          750.6079105488187,
          775.8181952796663,
          788.6346007583767,
          795.5248871108041,
          799.2379362717259
         ],
         "yaxis": "y"
        },
        {
         "legendgroup": "train_6",
         "mode": "markers",
         "name": "Run id in Train 6",
         "type": "scatter",
         "x": [
          0,
          0.0684760856557625,
          1.419909024026719,
          12.974359746806352,
          60.01220329000836,
          161.81840299179677,
          300.87029124327046,
          440.31555861369503,
          552.4775099714313,
          628.9702012520282,
          675.981959241405,
          703.4448217414291,
          719.1329460060222,
          728.0050414796943,
          732.9958800156783
         ],
         "xaxis": "x",
         "y": [
          0,
          0.2992195152744862,
          3.6959740123624814,
          35.710145679687955,
          137.39289553924147,
          316.72320026857915,
          536.9898928411802,
          740.5857760936495,
          905.3137107534443,
          1017.3387819081172,
          1087.7649170718182,
          1131.3730350641638,
          1155.516358647125,
          1170.0967329084651,
          1179.4952120086639
         ],
         "yaxis": "y"
        },
        {
         "legendgroup": "train_7",
         "mode": "markers",
         "name": "Run id in Train 7",
         "type": "scatter",
         "x": [
          0,
          0.1012025981276605,
          2.7202639401550184,
          25.946291951340097,
          104.55968898992953,
          237.42432217784472,
          385.7596767399676,
          515.6947127178214,
          611.4373805988364,
          671.5705931211872,
          704.2589949515327,
          720.6883271094672,
          728.8537430043472,
          732.9016580530529,
          734.9060666799251
         ],
         "xaxis": "x",
         "y": [
          0,
          0.13697558480156807,
          2.94544943762802,
          28.182640442989616,
          109.12508172383541,
          253.92573057481573,
          428.23514443192005,
          590.779122730553,
          720.9472590823191,
          812.2179293099899,
          864.6271055761965,
          894.4285175804632,
          912.7170937616589,
          923.4812236033268,
          930.4183233240528
         ],
         "yaxis": "y"
        },
        {
         "legendgroup": "train_8",
         "mode": "markers",
         "name": "Run id in Train 8",
         "type": "scatter",
         "x": [
          0,
          0.0851032436703326,
          1.6658115757244931,
          14.546461217109194,
          61.856051928684174,
          151.27308669024367,
          259.1592993253078,
          357.334846431788,
          431.0590970254083,
          479.022153470829,
          508.0532921590253,
          525.365934354859,
          535.6297084406955,
          541.6976620375669,
          545.27993727455
         ],
         "xaxis": "x",
         "y": [
          0,
          0.01132858574181611,
          2.55436611059093,
          23.998645695653796,
          86.19396271106443,
          196.38890353701106,
          321.9808183205779,
          432.5553893236892,
          519.7929399519243,
          575.1541844987298,
          608.2425478193302,
          628.5740096241834,
          639.9204073960818,
          646.8256189376335,
          651.3389224716734
         ],
         "yaxis": "y"
        },
        {
         "legendgroup": "train_9",
         "mode": "markers",
         "name": "Run id in Train 9",
         "type": "scatter",
         "x": [
          0,
          0.1028398753471017,
          2.103522354496929,
          19.1988180976768,
          85.1350472831614,
          219.1183953406561,
          393.9596615083559,
          564.5612087274179,
          699.1155234613333,
          788.6518291426167,
          842.1815810738857,
          873.2435171883614,
          891.1142870152056,
          901.354027797561,
          907.2091784828596
         ],
         "xaxis": "x",
         "y": [
          0,
          0.18818238205881554,
          3.030114767631429,
          29.58899010056449,
          116.75215059902774,
          271.2044961748763,
          464.4550733972294,
          642.518489121375,
          787.4281728226173,
          879.8968440975893,
          935.5238071966747,
          962.4843985070938,
          981.7487634976758,
          992.6780844878023,
          999.3180520248229
         ],
         "yaxis": "y"
        },
        {
         "legendgroup": "test_0",
         "mode": "markers",
         "name": "Run id in Test 0",
         "type": "scatter",
         "x": [
          0,
          0.164105508211151,
          3.6737447861367754,
          35.32186247671071,
          154.34678831320295,
          387.7950784521392,
          693.7864209487878,
          1013.615495248714,
          1308.0461540356737,
          1559.5112502067666,
          1764.0166792193825,
          1924.0159855683603,
          2045.8920299168967,
          2138.039188646103,
          2207.3227092050597
         ],
         "xaxis": "x2",
         "y": [
          0,
          -0.008430030753673545,
          1.609357446140543,
          18.181099793753962,
          82.1721849377651,
          210.05487943010965,
          373.3859595791638,
          529.5156665530109,
          654.0886684462363,
          735.8588253283492,
          787.3302844320032,
          819.3829813323396,
          836.7251768763255,
          847.1571710539791,
          853.7246274671458
         ],
         "yaxis": "y2"
        },
        {
         "legendgroup": "test_1",
         "mode": "markers",
         "name": "Run id in Test 1",
         "type": "scatter",
         "x": [
          0,
          0.0763700634007142,
          1.2004047047372728,
          10.769047562231066,
          55.331509943793534,
          169.67881535568202,
          356.9149807868821,
          587.3658271878509,
          826.3777227138344,
          1049.7114958711982,
          1245.9405162620585,
          1411.3748743127069,
          1546.3862233793775,
          1653.611268198273,
          1736.5908399465277
         ],
         "xaxis": "x2",
         "y": [
          0,
          -0.0169863729179916,
          1.6775137990569964,
          18.76362436901635,
          74.00433351481844,
          177.71738460428654,
          301.5712284654107,
          415.6312635972626,
          506.04312412472643,
          562.8197429219005,
          596.839539562356,
          617.7008135876307,
          628.9350733027808,
          635.4624686717517,
          639.523812635204
         ],
         "yaxis": "y2"
        },
        {
         "legendgroup": "test_2",
         "mode": "markers",
         "name": "Run id in Test 2",
         "type": "scatter",
         "x": [
          0,
          0.0854355568288807,
          1.6092625643264258,
          15.15306007085573,
          73.21962446854067,
          204.75841445857023,
          398.2225074477981,
          618.5671629053375,
          834.8994407537554,
          1028.7815128523432,
          1191.952374312491,
          1323.1237497744814,
          1427.1505262970163,
          1509.177096006116,
          1573.4842264771685
         ],
         "xaxis": "x2",
         "y": [
          0,
          -0.057769272908006764,
          0.548512174556134,
          10.337612054099708,
          48.76290150893825,
          134.8858705741569,
          242.1766916194568,
          347.24471854685123,
          427.7239730018692,
          485.1835195051065,
          514.6527005977049,
          533.1776137029041,
          543.4663928231485,
          549.4418849148384,
          553.0700976997063
         ],
         "yaxis": "y2"
        },
        {
         "legendgroup": "test_3",
         "mode": "markers",
         "name": "Run id in Test 3",
         "type": "scatter",
         "x": [
          0,
          0.0532844883797582,
          1.1745834254072027,
          12.400110906230712,
          64.33322629187558,
          186.9762484824127,
          370.7059655837582,
          580.4291461413053,
          784.4388717931332,
          964.694945425899,
          1113.2574886158343,
          1206.3258825585165,
          1206.325890023906,
          1206.3258900094436,
          1206.3258900076912
         ],
         "xaxis": "x2",
         "y": [
          0,
          -0.03783513301775665,
          1.705988819824508,
          18.85714037364781,
          72.7778543990268,
          176.2000900367777,
          295.10729705964985,
          404.0185754378012,
          489.9624773225428,
          551.3279023690668,
          584.4124854158722,
          605.20614831359,
          616.8744855387491,
          624.0783474065751,
          628.8638628105592
         ],
         "yaxis": "y2"
        },
        {
         "legendgroup": "test_4",
         "mode": "markers",
         "name": "Run id in Test 4",
         "type": "scatter",
         "x": [
          0,
          0.1271028978965827,
          3.043268173982997,
          28.535584577172003,
          116.56093471808562,
          271.0820879759505,
          454.3992159877672,
          629.9846449120229,
          777.5049250060061,
          889.0424907203862,
          965.8903434918803,
          1018.7426183492312,
          1055.7385430042384,
          1081.8878031673305,
          1100.471520461802
         ],
         "xaxis": "x2",
         "y": [
          0,
          -0.26013885262676695,
          1.9922252617744522,
          12.60447516067747,
          50.6466552536375,
          124.22586724481761,
          219.5355041807664,
          308.8231284830536,
          376.9015075726709,
          427.66202003136607,
          451.46314317589423,
          466.29665643048986,
          475.18319301395854,
          480.0511000621932,
          482.69570631729715
         ],
         "yaxis": "y2"
        },
        {
         "legendgroup": "test_5",
         "mode": "markers",
         "name": "Run id in Test 5",
         "type": "scatter",
         "x": [
          0,
          0.030935924736293,
          0.804162343449244,
          10.870548517297646,
          65.22768655509961,
          195.8585375096484,
          380.0010361514075,
          573.2161531583585,
          744.9282135378564,
          881.5839367271855,
          980.1323846987966,
          1043.8984122969127,
          1083.679069018441,
          1108.8968951501029,
          1125.052087317103
         ],
         "xaxis": "x2",
         "y": [
          0,
          0.22489780195188525,
          3.340391981712664,
          31.751539700789678,
          120.0018161467733,
          274.6258550574429,
          457.8301680954974,
          627.74802322811,
          764.4370255523264,
          861.4557313872783,
          922.8410764087279,
          959.5787407895835,
          980.4328957380213,
          993.2886033467206,
          1001.9173691401234
         ],
         "yaxis": "y2"
        },
        {
         "legendgroup": "test_6",
         "mode": "markers",
         "name": "Run id in Test 6",
         "type": "scatter",
         "x": [
          0,
          0.1544111652934467,
          3.7599944327811374,
          32.09025603312709,
          125.87188314534892,
          296.2627151898705,
          514.158742340626,
          743.343236146268,
          958.7202578978104,
          1147.7971737836272,
          1306.3166571781155,
          1434.1989079569498,
          1533.80175002571,
          1606.8302417039786,
          1642.45281821088
         ],
         "xaxis": "x2",
         "y": [
          0,
          0.054623908500885554,
          2.457157766228466,
          26.305552161072725,
          96.83739273406015,
          224.87744841417617,
          369.4648610168583,
          499.27041861709284,
          601.8189935019731,
          676.7352431104066,
          718.2678487437423,
          744.2770241906533,
          759.03921921529,
          768.0954349120391,
          774.2846330901253
         ],
         "yaxis": "y2"
        },
        {
         "legendgroup": "test_7",
         "mode": "markers",
         "name": "Run id in Test 7",
         "type": "scatter",
         "x": [
          0,
          0.1286279523117829,
          2.342442711201244,
          20.45181017599882,
          88.7824526964827,
          226.36982620800097,
          411.3388964710858,
          608.2362445845563,
          791.3387220952158,
          948.0160994755988,
          1074.6884871389736,
          1173.7661017215894,
          1250.2321253331695,
          1308.6545890123389,
          1352.9446842650268
         ],
         "xaxis": "x2",
         "y": [
          0,
          -0.2469669857526089,
          1.1227446303912503,
          11.745346578282874,
          49.893442385705946,
          130.00583620370213,
          222.9001333708591,
          309.3532375978279,
          374.7694720296346,
          421.4298278874834,
          445.6698659299011,
          461.08196488327775,
          470.3839955050828,
          476.13520745254357,
          479.9767587259928
         ],
         "yaxis": "y2"
        },
        {
         "legendgroup": "test_8",
         "mode": "markers",
         "name": "Run id in Test 8",
         "type": "scatter",
         "x": [
          0,
          0.0394649376441817,
          1.139667969188726,
          15.14525494943351,
          86.48169581613604,
          251.5004556721223,
          483.3663578645889,
          731.0518874452288,
          958.0819454950264,
          1148.0484050576056,
          1297.9680603092725,
          1411.989486887015,
          1497.089986665622,
          1559.7604330226195,
          1605.464984209573
         ],
         "xaxis": "x2",
         "y": [
          0,
          0.13887615099087214,
          2.5992368599313966,
          28.0711407407353,
          101.3794705693666,
          233.23725462479214,
          382.60634296104945,
          517.1147813059921,
          623.4193191260881,
          701.0039292237825,
          744.1698545271361,
          771.2596291449976,
          786.6630447722821,
          796.1144310495384,
          802.5794755162491
         ],
         "yaxis": "y2"
        },
        {
         "legendgroup": "test_9",
         "mode": "markers",
         "name": "Run id in Test 9",
         "type": "scatter",
         "x": [
          0,
          0.1036825935213099,
          1.8759111567395288,
          18.21704051387724,
          91.8183531595854,
          260.8827697220299,
          506.8788143193637,
          781.838227586801,
          1046.7682798947126,
          1280.778709654132,
          1476.298589359522,
          1632.8559662496232,
          1755.007587791339,
          1849.4347546111003,
          1921.8083818131652
         ],
         "xaxis": "x2",
         "y": [
          0,
          0.06673456829824709,
          1.4560933197676973,
          7.627725323731176,
          43.87484617568662,
          128.16183395667605,
          252.48761959941888,
          378.80404114713116,
          480.2011912312423,
          553.4176366597858,
          600.8928284924086,
          625.708734328187,
          639.1167364644505,
          646.5035826158038,
          650.4892751496598
         ],
         "yaxis": "y2"
        }
       ],
       "layout": {
        "annotations": [
         {
          "font": {
           "size": 16
          },
          "showarrow": false,
          "text": "Train Set - X:Titer <br> R^2 = 0.774 <br> Abs RMSE = 98.095 <br> Rel RMSE = 0.323",
          "x": 0.225,
          "xanchor": "center",
          "xref": "paper",
          "y": 1,
          "yanchor": "bottom",
          "yref": "paper"
         },
         {
          "font": {
           "size": 16
          },
          "showarrow": false,
          "text": "Test Set - X:Titer <br> R^2 = 0.358 <br> Abs RMSE = 474.204 <br> Rel RMSE = 0.755",
          "x": 0.775,
          "xanchor": "center",
          "xref": "paper",
          "y": 1,
          "yanchor": "bottom",
          "yref": "paper"
         }
        ],
        "shapes": [
         {
          "layer": "above",
          "line": {
           "dash": "dash"
          },
          "type": "line",
          "x0": -0.07194806319784836,
          "x1": 1179.4952120086639,
          "y0": -0.07194806319784836,
          "y1": 1179.4952120086639
         },
         {
          "layer": "above",
          "line": {
           "dash": "dash"
          },
          "type": "line",
          "x0": -0.26013885262676695,
          "x1": 1001.9173691401234,
          "xref": "x2",
          "y0": -0.26013885262676695,
          "y1": 1001.9173691401234,
          "yref": "y2"
         }
        ],
        "template": {
         "data": {
          "bar": [
           {
            "error_x": {
             "color": "#2a3f5f"
            },
            "error_y": {
             "color": "#2a3f5f"
            },
            "marker": {
             "line": {
              "color": "white",
              "width": 0.5
             },
             "pattern": {
              "fillmode": "overlay",
              "size": 10,
              "solidity": 0.2
             }
            },
            "type": "bar"
           }
          ],
          "barpolar": [
           {
            "marker": {
             "line": {
              "color": "white",
              "width": 0.5
             },
             "pattern": {
              "fillmode": "overlay",
              "size": 10,
              "solidity": 0.2
             }
            },
            "type": "barpolar"
           }
          ],
          "carpet": [
           {
            "aaxis": {
             "endlinecolor": "#2a3f5f",
             "gridcolor": "#C8D4E3",
             "linecolor": "#C8D4E3",
             "minorgridcolor": "#C8D4E3",
             "startlinecolor": "#2a3f5f"
            },
            "baxis": {
             "endlinecolor": "#2a3f5f",
             "gridcolor": "#C8D4E3",
             "linecolor": "#C8D4E3",
             "minorgridcolor": "#C8D4E3",
             "startlinecolor": "#2a3f5f"
            },
            "type": "carpet"
           }
          ],
          "choropleth": [
           {
            "colorbar": {
             "outlinewidth": 0,
             "ticks": ""
            },
            "type": "choropleth"
           }
          ],
          "contour": [
           {
            "colorbar": {
             "outlinewidth": 0,
             "ticks": ""
            },
            "colorscale": [
             [
              0,
              "#0d0887"
             ],
             [
              0.1111111111111111,
              "#46039f"
             ],
             [
              0.2222222222222222,
              "#7201a8"
             ],
             [
              0.3333333333333333,
              "#9c179e"
             ],
             [
              0.4444444444444444,
              "#bd3786"
             ],
             [
              0.5555555555555556,
              "#d8576b"
             ],
             [
              0.6666666666666666,
              "#ed7953"
             ],
             [
              0.7777777777777778,
              "#fb9f3a"
             ],
             [
              0.8888888888888888,
              "#fdca26"
             ],
             [
              1,
              "#f0f921"
             ]
            ],
            "type": "contour"
           }
          ],
          "contourcarpet": [
           {
            "colorbar": {
             "outlinewidth": 0,
             "ticks": ""
            },
            "type": "contourcarpet"
           }
          ],
          "heatmap": [
           {
            "colorbar": {
             "outlinewidth": 0,
             "ticks": ""
            },
            "colorscale": [
             [
              0,
              "#0d0887"
             ],
             [
              0.1111111111111111,
              "#46039f"
             ],
             [
              0.2222222222222222,
              "#7201a8"
             ],
             [
              0.3333333333333333,
              "#9c179e"
             ],
             [
              0.4444444444444444,
              "#bd3786"
             ],
             [
              0.5555555555555556,
              "#d8576b"
             ],
             [
              0.6666666666666666,
              "#ed7953"
             ],
             [
              0.7777777777777778,
              "#fb9f3a"
             ],
             [
              0.8888888888888888,
              "#fdca26"
             ],
             [
              1,
              "#f0f921"
             ]
            ],
            "type": "heatmap"
           }
          ],
          "heatmapgl": [
           {
            "colorbar": {
             "outlinewidth": 0,
             "ticks": ""
            },
            "colorscale": [
             [
              0,
              "#0d0887"
             ],
             [
              0.1111111111111111,
              "#46039f"
             ],
             [
              0.2222222222222222,
              "#7201a8"
             ],
             [
              0.3333333333333333,
              "#9c179e"
             ],
             [
              0.4444444444444444,
              "#bd3786"
             ],
             [
              0.5555555555555556,
              "#d8576b"
             ],
             [
              0.6666666666666666,
              "#ed7953"
             ],
             [
              0.7777777777777778,
              "#fb9f3a"
             ],
             [
              0.8888888888888888,
              "#fdca26"
             ],
             [
              1,
              "#f0f921"
             ]
            ],
            "type": "heatmapgl"
           }
          ],
          "histogram": [
           {
            "marker": {
             "pattern": {
              "fillmode": "overlay",
              "size": 10,
              "solidity": 0.2
             }
            },
            "type": "histogram"
           }
          ],
          "histogram2d": [
           {
            "colorbar": {
             "outlinewidth": 0,
             "ticks": ""
            },
            "colorscale": [
             [
              0,
              "#0d0887"
             ],
             [
              0.1111111111111111,
              "#46039f"
             ],
             [
              0.2222222222222222,
              "#7201a8"
             ],
             [
              0.3333333333333333,
              "#9c179e"
             ],
             [
              0.4444444444444444,
              "#bd3786"
             ],
             [
              0.5555555555555556,
              "#d8576b"
             ],
             [
              0.6666666666666666,
              "#ed7953"
             ],
             [
              0.7777777777777778,
              "#fb9f3a"
             ],
             [
              0.8888888888888888,
              "#fdca26"
             ],
             [
              1,
              "#f0f921"
             ]
            ],
            "type": "histogram2d"
           }
          ],
          "histogram2dcontour": [
           {
            "colorbar": {
             "outlinewidth": 0,
             "ticks": ""
            },
            "colorscale": [
             [
              0,
              "#0d0887"
             ],
             [
              0.1111111111111111,
              "#46039f"
             ],
             [
              0.2222222222222222,
              "#7201a8"
             ],
             [
              0.3333333333333333,
              "#9c179e"
             ],
             [
              0.4444444444444444,
              "#bd3786"
             ],
             [
              0.5555555555555556,
              "#d8576b"
             ],
             [
              0.6666666666666666,
              "#ed7953"
             ],
             [
              0.7777777777777778,
              "#fb9f3a"
             ],
             [
              0.8888888888888888,
              "#fdca26"
             ],
             [
              1,
              "#f0f921"
             ]
            ],
            "type": "histogram2dcontour"
           }
          ],
          "mesh3d": [
           {
            "colorbar": {
             "outlinewidth": 0,
             "ticks": ""
            },
            "type": "mesh3d"
           }
          ],
          "parcoords": [
           {
            "line": {
             "colorbar": {
              "outlinewidth": 0,
              "ticks": ""
             }
            },
            "type": "parcoords"
           }
          ],
          "pie": [
           {
            "automargin": true,
            "type": "pie"
           }
          ],
          "scatter": [
           {
            "fillpattern": {
             "fillmode": "overlay",
             "size": 10,
             "solidity": 0.2
            },
            "type": "scatter"
           }
          ],
          "scatter3d": [
           {
            "line": {
             "colorbar": {
              "outlinewidth": 0,
              "ticks": ""
             }
            },
            "marker": {
             "colorbar": {
              "outlinewidth": 0,
              "ticks": ""
             }
            },
            "type": "scatter3d"
           }
          ],
          "scattercarpet": [
           {
            "marker": {
             "colorbar": {
              "outlinewidth": 0,
              "ticks": ""
             }
            },
            "type": "scattercarpet"
           }
          ],
          "scattergeo": [
           {
            "marker": {
             "colorbar": {
              "outlinewidth": 0,
              "ticks": ""
             }
            },
            "type": "scattergeo"
           }
          ],
          "scattergl": [
           {
            "marker": {
             "colorbar": {
              "outlinewidth": 0,
              "ticks": ""
             }
            },
            "type": "scattergl"
           }
          ],
          "scattermapbox": [
           {
            "marker": {
             "colorbar": {
              "outlinewidth": 0,
              "ticks": ""
             }
            },
            "type": "scattermapbox"
           }
          ],
          "scatterpolar": [
           {
            "marker": {
             "colorbar": {
              "outlinewidth": 0,
              "ticks": ""
             }
            },
            "type": "scatterpolar"
           }
          ],
          "scatterpolargl": [
           {
            "marker": {
             "colorbar": {
              "outlinewidth": 0,
              "ticks": ""
             }
            },
            "type": "scatterpolargl"
           }
          ],
          "scatterternary": [
           {
            "marker": {
             "colorbar": {
              "outlinewidth": 0,
              "ticks": ""
             }
            },
            "type": "scatterternary"
           }
          ],
          "surface": [
           {
            "colorbar": {
             "outlinewidth": 0,
             "ticks": ""
            },
            "colorscale": [
             [
              0,
              "#0d0887"
             ],
             [
              0.1111111111111111,
              "#46039f"
             ],
             [
              0.2222222222222222,
              "#7201a8"
             ],
             [
              0.3333333333333333,
              "#9c179e"
             ],
             [
              0.4444444444444444,
              "#bd3786"
             ],
             [
              0.5555555555555556,
              "#d8576b"
             ],
             [
              0.6666666666666666,
              "#ed7953"
             ],
             [
              0.7777777777777778,
              "#fb9f3a"
             ],
             [
              0.8888888888888888,
              "#fdca26"
             ],
             [
              1,
              "#f0f921"
             ]
            ],
            "type": "surface"
           }
          ],
          "table": [
           {
            "cells": {
             "fill": {
              "color": "#EBF0F8"
             },
             "line": {
              "color": "white"
             }
            },
            "header": {
             "fill": {
              "color": "#C8D4E3"
             },
             "line": {
              "color": "white"
             }
            },
            "type": "table"
           }
          ]
         },
         "layout": {
          "annotationdefaults": {
           "arrowcolor": "#2a3f5f",
           "arrowhead": 0,
           "arrowwidth": 1
          },
          "autotypenumbers": "strict",
          "coloraxis": {
           "colorbar": {
            "outlinewidth": 0,
            "ticks": ""
           }
          },
          "colorscale": {
           "diverging": [
            [
             0,
             "#8e0152"
            ],
            [
             0.1,
             "#c51b7d"
            ],
            [
             0.2,
             "#de77ae"
            ],
            [
             0.3,
             "#f1b6da"
            ],
            [
             0.4,
             "#fde0ef"
            ],
            [
             0.5,
             "#f7f7f7"
            ],
            [
             0.6,
             "#e6f5d0"
            ],
            [
             0.7,
             "#b8e186"
            ],
            [
             0.8,
             "#7fbc41"
            ],
            [
             0.9,
             "#4d9221"
            ],
            [
             1,
             "#276419"
            ]
           ],
           "sequential": [
            [
             0,
             "#0d0887"
            ],
            [
             0.1111111111111111,
             "#46039f"
            ],
            [
             0.2222222222222222,
             "#7201a8"
            ],
            [
             0.3333333333333333,
             "#9c179e"
            ],
            [
             0.4444444444444444,
             "#bd3786"
            ],
            [
             0.5555555555555556,
             "#d8576b"
            ],
            [
             0.6666666666666666,
             "#ed7953"
            ],
            [
             0.7777777777777778,
             "#fb9f3a"
            ],
            [
             0.8888888888888888,
             "#fdca26"
            ],
            [
             1,
             "#f0f921"
            ]
           ],
           "sequentialminus": [
            [
             0,
             "#0d0887"
            ],
            [
             0.1111111111111111,
             "#46039f"
            ],
            [
             0.2222222222222222,
             "#7201a8"
            ],
            [
             0.3333333333333333,
             "#9c179e"
            ],
            [
             0.4444444444444444,
             "#bd3786"
            ],
            [
             0.5555555555555556,
             "#d8576b"
            ],
            [
             0.6666666666666666,
             "#ed7953"
            ],
            [
             0.7777777777777778,
             "#fb9f3a"
            ],
            [
             0.8888888888888888,
             "#fdca26"
            ],
            [
             1,
             "#f0f921"
            ]
           ]
          },
          "colorway": [
           "#636efa",
           "#EF553B",
           "#00cc96",
           "#ab63fa",
           "#FFA15A",
           "#19d3f3",
           "#FF6692",
           "#B6E880",
           "#FF97FF",
           "#FECB52"
          ],
          "font": {
           "color": "#2a3f5f"
          },
          "geo": {
           "bgcolor": "white",
           "lakecolor": "white",
           "landcolor": "white",
           "showlakes": true,
           "showland": true,
           "subunitcolor": "#C8D4E3"
          },
          "hoverlabel": {
           "align": "left"
          },
          "hovermode": "closest",
          "mapbox": {
           "style": "light"
          },
          "paper_bgcolor": "white",
          "plot_bgcolor": "white",
          "polar": {
           "angularaxis": {
            "gridcolor": "#EBF0F8",
            "linecolor": "#EBF0F8",
            "ticks": ""
           },
           "bgcolor": "white",
           "radialaxis": {
            "gridcolor": "#EBF0F8",
            "linecolor": "#EBF0F8",
            "ticks": ""
           }
          },
          "scene": {
           "xaxis": {
            "backgroundcolor": "white",
            "gridcolor": "#DFE8F3",
            "gridwidth": 2,
            "linecolor": "#EBF0F8",
            "showbackground": true,
            "ticks": "",
            "zerolinecolor": "#EBF0F8"
           },
           "yaxis": {
            "backgroundcolor": "white",
            "gridcolor": "#DFE8F3",
            "gridwidth": 2,
            "linecolor": "#EBF0F8",
            "showbackground": true,
            "ticks": "",
            "zerolinecolor": "#EBF0F8"
           },
           "zaxis": {
            "backgroundcolor": "white",
            "gridcolor": "#DFE8F3",
            "gridwidth": 2,
            "linecolor": "#EBF0F8",
            "showbackground": true,
            "ticks": "",
            "zerolinecolor": "#EBF0F8"
           }
          },
          "shapedefaults": {
           "line": {
            "color": "#2a3f5f"
           }
          },
          "ternary": {
           "aaxis": {
            "gridcolor": "#DFE8F3",
            "linecolor": "#A2B1C6",
            "ticks": ""
           },
           "baxis": {
            "gridcolor": "#DFE8F3",
            "linecolor": "#A2B1C6",
            "ticks": ""
           },
           "bgcolor": "white",
           "caxis": {
            "gridcolor": "#DFE8F3",
            "linecolor": "#A2B1C6",
            "ticks": ""
           }
          },
          "title": {
           "x": 0.05
          },
          "xaxis": {
           "automargin": true,
           "gridcolor": "#EBF0F8",
           "linecolor": "#EBF0F8",
           "ticks": "",
           "title": {
            "standoff": 15
           },
           "zerolinecolor": "#EBF0F8",
           "zerolinewidth": 2
          },
          "yaxis": {
           "automargin": true,
           "gridcolor": "#EBF0F8",
           "linecolor": "#EBF0F8",
           "ticks": "",
           "title": {
            "standoff": 15
           },
           "zerolinecolor": "#EBF0F8",
           "zerolinewidth": 2
          }
         }
        },
        "width": 1600,
        "xaxis": {
         "anchor": "y",
         "domain": [
          0,
          0.45
         ],
         "title": {
          "text": "Observed values"
         }
        },
        "xaxis2": {
         "anchor": "y2",
         "domain": [
          0.55,
          1
         ],
         "title": {
          "text": "Observed values"
         }
        },
        "yaxis": {
         "anchor": "x",
         "domain": [
          0,
          1
         ],
         "title": {
          "text": "Predicted values"
         }
        },
        "yaxis2": {
         "anchor": "x2",
         "domain": [
          0,
          1
         ],
         "title": {
          "text": "Predicted values"
         }
        }
       }
      }
     },
     "metadata": {},
     "output_type": "display_data"
    }
   ],
   "source": [
    "plot_multi_step_ann_model_eval(\n",
    "    X,\n",
    "    X_pred,\n",
    "    X_test,\n",
    "    X_test_pred,\n",
    "    X_columns=X_columns,\n",
    ")\n"
   ]
  },
  {
   "cell_type": "code",
   "execution_count": 17,
   "metadata": {},
   "outputs": [
    {
     "data": {
      "application/vnd.plotly.v1+json": {
       "config": {
        "plotlyServerURL": "https://plot.ly"
       },
       "data": [
        {
         "marker": {
          "color": "#4C78A8"
         },
         "name": "Train Set",
         "text": [
          "0.25",
          "0.33",
          "0.29",
          "0.32"
         ],
         "textposition": "outside",
         "type": "bar",
         "x": [
          "X:VCD",
          "X:Glc",
          "X:Lac",
          "X:Titer"
         ],
         "y": [
          0.251,
          0.332,
          0.291,
          0.323
         ]
        },
        {
         "marker": {
          "color": "#F58518"
         },
         "name": "Test Set",
         "text": [
          "0.78",
          "2.42",
          "0.63",
          "0.76"
         ],
         "textposition": "outside",
         "type": "bar",
         "x": [
          "X:VCD",
          "X:Glc",
          "X:Lac",
          "X:Titer"
         ],
         "y": [
          0.783,
          2.425,
          0.634,
          0.755
         ]
        }
       ],
       "layout": {
        "barmode": "group",
        "legend": {
         "orientation": "h",
         "x": 0.5,
         "xanchor": "center",
         "y": 1.02,
         "yanchor": "bottom"
        },
        "template": {
         "data": {
          "bar": [
           {
            "error_x": {
             "color": "#2a3f5f"
            },
            "error_y": {
             "color": "#2a3f5f"
            },
            "marker": {
             "line": {
              "color": "white",
              "width": 0.5
             },
             "pattern": {
              "fillmode": "overlay",
              "size": 10,
              "solidity": 0.2
             }
            },
            "type": "bar"
           }
          ],
          "barpolar": [
           {
            "marker": {
             "line": {
              "color": "white",
              "width": 0.5
             },
             "pattern": {
              "fillmode": "overlay",
              "size": 10,
              "solidity": 0.2
             }
            },
            "type": "barpolar"
           }
          ],
          "carpet": [
           {
            "aaxis": {
             "endlinecolor": "#2a3f5f",
             "gridcolor": "#C8D4E3",
             "linecolor": "#C8D4E3",
             "minorgridcolor": "#C8D4E3",
             "startlinecolor": "#2a3f5f"
            },
            "baxis": {
             "endlinecolor": "#2a3f5f",
             "gridcolor": "#C8D4E3",
             "linecolor": "#C8D4E3",
             "minorgridcolor": "#C8D4E3",
             "startlinecolor": "#2a3f5f"
            },
            "type": "carpet"
           }
          ],
          "choropleth": [
           {
            "colorbar": {
             "outlinewidth": 0,
             "ticks": ""
            },
            "type": "choropleth"
           }
          ],
          "contour": [
           {
            "colorbar": {
             "outlinewidth": 0,
             "ticks": ""
            },
            "colorscale": [
             [
              0,
              "#0d0887"
             ],
             [
              0.1111111111111111,
              "#46039f"
             ],
             [
              0.2222222222222222,
              "#7201a8"
             ],
             [
              0.3333333333333333,
              "#9c179e"
             ],
             [
              0.4444444444444444,
              "#bd3786"
             ],
             [
              0.5555555555555556,
              "#d8576b"
             ],
             [
              0.6666666666666666,
              "#ed7953"
             ],
             [
              0.7777777777777778,
              "#fb9f3a"
             ],
             [
              0.8888888888888888,
              "#fdca26"
             ],
             [
              1,
              "#f0f921"
             ]
            ],
            "type": "contour"
           }
          ],
          "contourcarpet": [
           {
            "colorbar": {
             "outlinewidth": 0,
             "ticks": ""
            },
            "type": "contourcarpet"
           }
          ],
          "heatmap": [
           {
            "colorbar": {
             "outlinewidth": 0,
             "ticks": ""
            },
            "colorscale": [
             [
              0,
              "#0d0887"
             ],
             [
              0.1111111111111111,
              "#46039f"
             ],
             [
              0.2222222222222222,
              "#7201a8"
             ],
             [
              0.3333333333333333,
              "#9c179e"
             ],
             [
              0.4444444444444444,
              "#bd3786"
             ],
             [
              0.5555555555555556,
              "#d8576b"
             ],
             [
              0.6666666666666666,
              "#ed7953"
             ],
             [
              0.7777777777777778,
              "#fb9f3a"
             ],
             [
              0.8888888888888888,
              "#fdca26"
             ],
             [
              1,
              "#f0f921"
             ]
            ],
            "type": "heatmap"
           }
          ],
          "heatmapgl": [
           {
            "colorbar": {
             "outlinewidth": 0,
             "ticks": ""
            },
            "colorscale": [
             [
              0,
              "#0d0887"
             ],
             [
              0.1111111111111111,
              "#46039f"
             ],
             [
              0.2222222222222222,
              "#7201a8"
             ],
             [
              0.3333333333333333,
              "#9c179e"
             ],
             [
              0.4444444444444444,
              "#bd3786"
             ],
             [
              0.5555555555555556,
              "#d8576b"
             ],
             [
              0.6666666666666666,
              "#ed7953"
             ],
             [
              0.7777777777777778,
              "#fb9f3a"
             ],
             [
              0.8888888888888888,
              "#fdca26"
             ],
             [
              1,
              "#f0f921"
             ]
            ],
            "type": "heatmapgl"
           }
          ],
          "histogram": [
           {
            "marker": {
             "pattern": {
              "fillmode": "overlay",
              "size": 10,
              "solidity": 0.2
             }
            },
            "type": "histogram"
           }
          ],
          "histogram2d": [
           {
            "colorbar": {
             "outlinewidth": 0,
             "ticks": ""
            },
            "colorscale": [
             [
              0,
              "#0d0887"
             ],
             [
              0.1111111111111111,
              "#46039f"
             ],
             [
              0.2222222222222222,
              "#7201a8"
             ],
             [
              0.3333333333333333,
              "#9c179e"
             ],
             [
              0.4444444444444444,
              "#bd3786"
             ],
             [
              0.5555555555555556,
              "#d8576b"
             ],
             [
              0.6666666666666666,
              "#ed7953"
             ],
             [
              0.7777777777777778,
              "#fb9f3a"
             ],
             [
              0.8888888888888888,
              "#fdca26"
             ],
             [
              1,
              "#f0f921"
             ]
            ],
            "type": "histogram2d"
           }
          ],
          "histogram2dcontour": [
           {
            "colorbar": {
             "outlinewidth": 0,
             "ticks": ""
            },
            "colorscale": [
             [
              0,
              "#0d0887"
             ],
             [
              0.1111111111111111,
              "#46039f"
             ],
             [
              0.2222222222222222,
              "#7201a8"
             ],
             [
              0.3333333333333333,
              "#9c179e"
             ],
             [
              0.4444444444444444,
              "#bd3786"
             ],
             [
              0.5555555555555556,
              "#d8576b"
             ],
             [
              0.6666666666666666,
              "#ed7953"
             ],
             [
              0.7777777777777778,
              "#fb9f3a"
             ],
             [
              0.8888888888888888,
              "#fdca26"
             ],
             [
              1,
              "#f0f921"
             ]
            ],
            "type": "histogram2dcontour"
           }
          ],
          "mesh3d": [
           {
            "colorbar": {
             "outlinewidth": 0,
             "ticks": ""
            },
            "type": "mesh3d"
           }
          ],
          "parcoords": [
           {
            "line": {
             "colorbar": {
              "outlinewidth": 0,
              "ticks": ""
             }
            },
            "type": "parcoords"
           }
          ],
          "pie": [
           {
            "automargin": true,
            "type": "pie"
           }
          ],
          "scatter": [
           {
            "fillpattern": {
             "fillmode": "overlay",
             "size": 10,
             "solidity": 0.2
            },
            "type": "scatter"
           }
          ],
          "scatter3d": [
           {
            "line": {
             "colorbar": {
              "outlinewidth": 0,
              "ticks": ""
             }
            },
            "marker": {
             "colorbar": {
              "outlinewidth": 0,
              "ticks": ""
             }
            },
            "type": "scatter3d"
           }
          ],
          "scattercarpet": [
           {
            "marker": {
             "colorbar": {
              "outlinewidth": 0,
              "ticks": ""
             }
            },
            "type": "scattercarpet"
           }
          ],
          "scattergeo": [
           {
            "marker": {
             "colorbar": {
              "outlinewidth": 0,
              "ticks": ""
             }
            },
            "type": "scattergeo"
           }
          ],
          "scattergl": [
           {
            "marker": {
             "colorbar": {
              "outlinewidth": 0,
              "ticks": ""
             }
            },
            "type": "scattergl"
           }
          ],
          "scattermapbox": [
           {
            "marker": {
             "colorbar": {
              "outlinewidth": 0,
              "ticks": ""
             }
            },
            "type": "scattermapbox"
           }
          ],
          "scatterpolar": [
           {
            "marker": {
             "colorbar": {
              "outlinewidth": 0,
              "ticks": ""
             }
            },
            "type": "scatterpolar"
           }
          ],
          "scatterpolargl": [
           {
            "marker": {
             "colorbar": {
              "outlinewidth": 0,
              "ticks": ""
             }
            },
            "type": "scatterpolargl"
           }
          ],
          "scatterternary": [
           {
            "marker": {
             "colorbar": {
              "outlinewidth": 0,
              "ticks": ""
             }
            },
            "type": "scatterternary"
           }
          ],
          "surface": [
           {
            "colorbar": {
             "outlinewidth": 0,
             "ticks": ""
            },
            "colorscale": [
             [
              0,
              "#0d0887"
             ],
             [
              0.1111111111111111,
              "#46039f"
             ],
             [
              0.2222222222222222,
              "#7201a8"
             ],
             [
              0.3333333333333333,
              "#9c179e"
             ],
             [
              0.4444444444444444,
              "#bd3786"
             ],
             [
              0.5555555555555556,
              "#d8576b"
             ],
             [
              0.6666666666666666,
              "#ed7953"
             ],
             [
              0.7777777777777778,
              "#fb9f3a"
             ],
             [
              0.8888888888888888,
              "#fdca26"
             ],
             [
              1,
              "#f0f921"
             ]
            ],
            "type": "surface"
           }
          ],
          "table": [
           {
            "cells": {
             "fill": {
              "color": "#EBF0F8"
             },
             "line": {
              "color": "white"
             }
            },
            "header": {
             "fill": {
              "color": "#C8D4E3"
             },
             "line": {
              "color": "white"
             }
            },
            "type": "table"
           }
          ]
         },
         "layout": {
          "annotationdefaults": {
           "arrowcolor": "#2a3f5f",
           "arrowhead": 0,
           "arrowwidth": 1
          },
          "autotypenumbers": "strict",
          "coloraxis": {
           "colorbar": {
            "outlinewidth": 0,
            "ticks": ""
           }
          },
          "colorscale": {
           "diverging": [
            [
             0,
             "#8e0152"
            ],
            [
             0.1,
             "#c51b7d"
            ],
            [
             0.2,
             "#de77ae"
            ],
            [
             0.3,
             "#f1b6da"
            ],
            [
             0.4,
             "#fde0ef"
            ],
            [
             0.5,
             "#f7f7f7"
            ],
            [
             0.6,
             "#e6f5d0"
            ],
            [
             0.7,
             "#b8e186"
            ],
            [
             0.8,
             "#7fbc41"
            ],
            [
             0.9,
             "#4d9221"
            ],
            [
             1,
             "#276419"
            ]
           ],
           "sequential": [
            [
             0,
             "#0d0887"
            ],
            [
             0.1111111111111111,
             "#46039f"
            ],
            [
             0.2222222222222222,
             "#7201a8"
            ],
            [
             0.3333333333333333,
             "#9c179e"
            ],
            [
             0.4444444444444444,
             "#bd3786"
            ],
            [
             0.5555555555555556,
             "#d8576b"
            ],
            [
             0.6666666666666666,
             "#ed7953"
            ],
            [
             0.7777777777777778,
             "#fb9f3a"
            ],
            [
             0.8888888888888888,
             "#fdca26"
            ],
            [
             1,
             "#f0f921"
            ]
           ],
           "sequentialminus": [
            [
             0,
             "#0d0887"
            ],
            [
             0.1111111111111111,
             "#46039f"
            ],
            [
             0.2222222222222222,
             "#7201a8"
            ],
            [
             0.3333333333333333,
             "#9c179e"
            ],
            [
             0.4444444444444444,
             "#bd3786"
            ],
            [
             0.5555555555555556,
             "#d8576b"
            ],
            [
             0.6666666666666666,
             "#ed7953"
            ],
            [
             0.7777777777777778,
             "#fb9f3a"
            ],
            [
             0.8888888888888888,
             "#fdca26"
            ],
            [
             1,
             "#f0f921"
            ]
           ]
          },
          "colorway": [
           "#636efa",
           "#EF553B",
           "#00cc96",
           "#ab63fa",
           "#FFA15A",
           "#19d3f3",
           "#FF6692",
           "#B6E880",
           "#FF97FF",
           "#FECB52"
          ],
          "font": {
           "color": "#2a3f5f"
          },
          "geo": {
           "bgcolor": "white",
           "lakecolor": "white",
           "landcolor": "white",
           "showlakes": true,
           "showland": true,
           "subunitcolor": "#C8D4E3"
          },
          "hoverlabel": {
           "align": "left"
          },
          "hovermode": "closest",
          "mapbox": {
           "style": "light"
          },
          "paper_bgcolor": "white",
          "plot_bgcolor": "white",
          "polar": {
           "angularaxis": {
            "gridcolor": "#EBF0F8",
            "linecolor": "#EBF0F8",
            "ticks": ""
           },
           "bgcolor": "white",
           "radialaxis": {
            "gridcolor": "#EBF0F8",
            "linecolor": "#EBF0F8",
            "ticks": ""
           }
          },
          "scene": {
           "xaxis": {
            "backgroundcolor": "white",
            "gridcolor": "#DFE8F3",
            "gridwidth": 2,
            "linecolor": "#EBF0F8",
            "showbackground": true,
            "ticks": "",
            "zerolinecolor": "#EBF0F8"
           },
           "yaxis": {
            "backgroundcolor": "white",
            "gridcolor": "#DFE8F3",
            "gridwidth": 2,
            "linecolor": "#EBF0F8",
            "showbackground": true,
            "ticks": "",
            "zerolinecolor": "#EBF0F8"
           },
           "zaxis": {
            "backgroundcolor": "white",
            "gridcolor": "#DFE8F3",
            "gridwidth": 2,
            "linecolor": "#EBF0F8",
            "showbackground": true,
            "ticks": "",
            "zerolinecolor": "#EBF0F8"
           }
          },
          "shapedefaults": {
           "line": {
            "color": "#2a3f5f"
           }
          },
          "ternary": {
           "aaxis": {
            "gridcolor": "#DFE8F3",
            "linecolor": "#A2B1C6",
            "ticks": ""
           },
           "baxis": {
            "gridcolor": "#DFE8F3",
            "linecolor": "#A2B1C6",
            "ticks": ""
           },
           "bgcolor": "white",
           "caxis": {
            "gridcolor": "#DFE8F3",
            "linecolor": "#A2B1C6",
            "ticks": ""
           }
          },
          "title": {
           "x": 0.05
          },
          "xaxis": {
           "automargin": true,
           "gridcolor": "#EBF0F8",
           "linecolor": "#EBF0F8",
           "ticks": "",
           "title": {
            "standoff": 15
           },
           "zerolinecolor": "#EBF0F8",
           "zerolinewidth": 2
          },
          "yaxis": {
           "automargin": true,
           "gridcolor": "#EBF0F8",
           "linecolor": "#EBF0F8",
           "ticks": "",
           "title": {
            "standoff": 15
           },
           "zerolinecolor": "#EBF0F8",
           "zerolinewidth": 2
          }
         }
        },
        "title": {
         "text": "Relative RMSE for Each Variables"
        },
        "xaxis": {
         "title": {
          "text": "Feature"
         }
        },
        "yaxis": {
         "title": {
          "text": "Relative RMSE"
         }
        }
       }
      }
     },
     "metadata": {},
     "output_type": "display_data"
    }
   ],
   "source": [
    "plot_relative_rmse_by_variables(\n",
    "    X,\n",
    "    X_pred,\n",
    "    X_test,\n",
    "    X_test_pred,\n",
    "    X_columns=X_columns,\n",
    ")"
   ]
  },
  {
   "cell_type": "code",
   "execution_count": 18,
   "metadata": {},
   "outputs": [
    {
     "data": {
      "application/vnd.plotly.v1+json": {
       "config": {
        "plotlyServerURL": "https://plot.ly"
       },
       "data": [
        {
         "legendgroup": "group_0",
         "marker": {
          "color": "#636EFA"
         },
         "name": "Run 0 Observed",
         "showlegend": true,
         "type": "scatter",
         "x": [
          0,
          1,
          2,
          3,
          4,
          5,
          6,
          7,
          8,
          9,
          10,
          11,
          12,
          13,
          14
         ],
         "xaxis": "x",
         "y": [
          0.9846938775510204,
          2.9249576819091097,
          7.444332832191713,
          14.420480064339324,
          20.57081333243489,
          23.12755137436929,
          22.33065010823708,
          19.648806069957416,
          16.31282380897557,
          13.028843938823911,
          10.102605608179564,
          7.629152917195547,
          5.731307831914585,
          4.294304959498489,
          3.2079190607230106
         ],
         "yaxis": "y"
        },
        {
         "legendgroup": "group_0",
         "line": {
          "dash": "dash"
         },
         "marker": {
          "color": "#636EFA"
         },
         "name": "Run 0 Predicted",
         "showlegend": true,
         "type": "scatter",
         "x": [
          0,
          1,
          2,
          3,
          4,
          5,
          6,
          7,
          8,
          9,
          10,
          11,
          12,
          13,
          14
         ],
         "xaxis": "x",
         "y": [
          0.9846938775510204,
          2.031936859002757,
          5.116294808406326,
          10.214993463565799,
          14.789668029760612,
          16.11788755520125,
          12.76286588829346,
          9.279970666696483,
          6.629918607633169,
          4.161849964610954,
          2.6215054758834264,
          1.508953649843961,
          0.9968538035603649,
          0.6848227991241495,
          0.43052410726407087
         ],
         "yaxis": "y"
        },
        {
         "legendgroup": "group_0",
         "marker": {
          "color": "#636EFA"
         },
         "name": "Run 0 Observed",
         "showlegend": false,
         "type": "scatter",
         "x": [
          0,
          1,
          2,
          3,
          4,
          5,
          6,
          7,
          8,
          9,
          10,
          11,
          12,
          13,
          14
         ],
         "xaxis": "x2",
         "y": [
          43.46938775510204,
          42.11575103737883,
          38.40470745766825,
          34.28104672448483,
          36.13270037292429,
          34.63344313923112,
          32.55252740419164,
          31.875483763746413,
          33.52447895437812,
          37.694658596943526,
          44.21209863405196,
          45.78852821788307,
          40.788789446857486,
          37.03759971276014,
          34.231330813861874
         ],
         "yaxis": "y2"
        },
        {
         "legendgroup": "group_0",
         "line": {
          "dash": "dash"
         },
         "marker": {
          "color": "#636EFA"
         },
         "name": "Run 0 Predicted",
         "showlegend": false,
         "type": "scatter",
         "x": [
          0,
          1,
          2,
          3,
          4,
          5,
          6,
          7,
          8,
          9,
          10,
          11,
          12,
          13,
          14
         ],
         "xaxis": "x2",
         "y": [
          43.46938775510204,
          42.08840980518154,
          37.396944700614924,
          48.45638680395304,
          55.03488343236186,
          57.31816813914202,
          60.52981702797292,
          65.98721001305367,
          77.83200611829929,
          90.29054460470114,
          102.71987413151166,
          105.4836099610923,
          103.23821548812121,
          101.67195361130152,
          100.50905165210696
         ],
         "yaxis": "y2"
        },
        {
         "legendgroup": "group_0",
         "marker": {
          "color": "#636EFA"
         },
         "name": "Run 0 Observed",
         "showlegend": false,
         "type": "scatter",
         "x": [
          0,
          1,
          2,
          3,
          4,
          5,
          6,
          7,
          8,
          9,
          10,
          11,
          12,
          13,
          14
         ],
         "xaxis": "x3",
         "y": [
          0,
          2.1824297539180297,
          8.166083041116508,
          21.321369967573112,
          42.85414584728475,
          69.79089068242651,
          97.66797157992208,
          123.28266885228646,
          145.1452661433552,
          162.939326203935,
          176.9454542072082,
          187.66054365335236,
          195.7213811855037,
          201.77002614645343,
          206.29555670809924
         ],
         "yaxis": "y3"
        },
        {
         "legendgroup": "group_0",
         "line": {
          "dash": "dash"
         },
         "marker": {
          "color": "#636EFA"
         },
         "name": "Run 0 Predicted",
         "showlegend": false,
         "type": "scatter",
         "x": [
          0,
          1,
          2,
          3,
          4,
          5,
          6,
          7,
          8,
          9,
          10,
          11,
          12,
          13,
          14
         ],
         "xaxis": "x3",
         "y": [
          0,
          1.9314929264196803,
          6.814925825055865,
          17.29410279805085,
          36.21307253505038,
          59.41039358885168,
          82.03126161771118,
          96.64902255250742,
          108.10325466834783,
          117.77391506877936,
          122.64000461368389,
          125.6370060939478,
          127.05869812157967,
          127.69893213681614,
          127.6453388255516
         ],
         "yaxis": "y3"
        },
        {
         "legendgroup": "group_0",
         "marker": {
          "color": "#636EFA"
         },
         "name": "Run 0 Observed",
         "showlegend": false,
         "type": "scatter",
         "x": [
          0,
          1,
          2,
          3,
          4,
          5,
          6,
          7,
          8,
          9,
          10,
          11,
          12,
          13,
          14
         ],
         "xaxis": "x4",
         "y": [
          0,
          0.164105508211151,
          3.6737447861367754,
          35.32186247671071,
          154.34678831320295,
          387.7950784521392,
          693.7864209487878,
          1013.615495248714,
          1308.0461540356737,
          1559.5112502067666,
          1764.0166792193825,
          1924.0159855683603,
          2045.8920299168967,
          2138.039188646103,
          2207.3227092050597
         ],
         "yaxis": "y4"
        },
        {
         "legendgroup": "group_0",
         "line": {
          "dash": "dash"
         },
         "marker": {
          "color": "#636EFA"
         },
         "name": "Run 0 Predicted",
         "showlegend": false,
         "type": "scatter",
         "x": [
          0,
          1,
          2,
          3,
          4,
          5,
          6,
          7,
          8,
          9,
          10,
          11,
          12,
          13,
          14
         ],
         "xaxis": "x4",
         "y": [
          0,
          -0.008430030753673545,
          1.609357446140543,
          18.181099793753962,
          82.1721849377651,
          210.05487943010965,
          373.3859595791638,
          529.5156665530109,
          654.0886684462363,
          735.8588253283492,
          787.3302844320032,
          819.3829813323396,
          836.7251768763255,
          847.1571710539791,
          853.7246274671458
         ],
         "yaxis": "y4"
        },
        {
         "legendgroup": "group_1",
         "marker": {
          "color": "#EF553B"
         },
         "name": "Run 1 Observed",
         "showlegend": true,
         "type": "scatter",
         "x": [
          0,
          1,
          2,
          3,
          4,
          5,
          6,
          7,
          8,
          9,
          10,
          11,
          12,
          13,
          14
         ],
         "xaxis": "x",
         "y": [
          0.7602040816326531,
          1.9141143764556665,
          4.408003876496271,
          8.6231479106663,
          13.457148205276154,
          16.834281247208605,
          17.857446383705128,
          16.99522186258524,
          15.068785638787078,
          12.793489696074769,
          10.597325015932462,
          8.59544420181317,
          6.853541356095238,
          5.38786140727645,
          4.18265740274008
         ],
         "yaxis": "y"
        },
        {
         "legendgroup": "group_1",
         "line": {
          "dash": "dash"
         },
         "marker": {
          "color": "#EF553B"
         },
         "name": "Run 1 Predicted",
         "showlegend": true,
         "type": "scatter",
         "x": [
          0,
          1,
          2,
          3,
          4,
          5,
          6,
          7,
          8,
          9,
          10,
          11,
          12,
          13,
          14
         ],
         "xaxis": "x",
         "y": [
          0.7602040816326531,
          2.075535918518867,
          4.981774210850879,
          9.383825783188337,
          11.961734301663972,
          12.36937353743768,
          10.66556513438221,
          7.340494696379655,
          4.973957095261712,
          3.336537502476824,
          1.6453055930358986,
          1.2178411317211844,
          0.7134230094533527,
          0.5269904064635441,
          0.3704462245346545
         ],
         "yaxis": "y"
        },
        {
         "legendgroup": "group_1",
         "marker": {
          "color": "#EF553B"
         },
         "name": "Run 1 Observed",
         "showlegend": false,
         "type": "scatter",
         "x": [
          0,
          1,
          2,
          3,
          4,
          5,
          6,
          7,
          8,
          9,
          10,
          11,
          12,
          13,
          14
         ],
         "xaxis": "x2",
         "y": [
          45.91836734693878,
          44.93535705335225,
          45.34454371167346,
          51.66956589718001,
          54.3222189193982,
          53.64426667599316,
          51.24210526598327,
          48.83005687873178,
          47.56068327676123,
          39.08302910973476,
          29.94038322346193,
          22.44987114558976,
          16.430036262308974,
          11.668327985152208,
          7.95349374597405
         ],
         "yaxis": "y2"
        },
        {
         "legendgroup": "group_1",
         "line": {
          "dash": "dash"
         },
         "marker": {
          "color": "#EF553B"
         },
         "name": "Run 1 Predicted",
         "showlegend": false,
         "type": "scatter",
         "x": [
          0,
          1,
          2,
          3,
          4,
          5,
          6,
          7,
          8,
          9,
          10,
          11,
          12,
          13,
          14
         ],
         "xaxis": "x2",
         "y": [
          45.91836734693878,
          44.64480227657736,
          49.660362946204046,
          54.30217293787504,
          58.14525895921921,
          58.63555310294587,
          61.44109708329594,
          65.25095568084171,
          69.22698122451185,
          73.75158515790861,
          75.5213018582508,
          79.61194521130939,
          80.49916067796599,
          81.5911562818919,
          82.69057248178662
         ],
         "yaxis": "y2"
        },
        {
         "legendgroup": "group_1",
         "marker": {
          "color": "#EF553B"
         },
         "name": "Run 1 Observed",
         "showlegend": false,
         "type": "scatter",
         "x": [
          0,
          1,
          2,
          3,
          4,
          5,
          6,
          7,
          8,
          9,
          10,
          11,
          12,
          13,
          14
         ],
         "xaxis": "x3",
         "y": [
          0,
          1.5991499982104411,
          5.445699389353575,
          13.581432771597257,
          27.689681352073706,
          47.21496460203044,
          69.54534066005401,
          91.89286610534306,
          112.38249670914288,
          130.1236250206878,
          145.0020761195221,
          157.1975521219229,
          167.00514815735104,
          174.77073081852015,
          180.83847709015123
         ],
         "yaxis": "y3"
        },
        {
         "legendgroup": "group_1",
         "line": {
          "dash": "dash"
         },
         "marker": {
          "color": "#EF553B"
         },
         "name": "Run 1 Predicted",
         "showlegend": false,
         "type": "scatter",
         "x": [
          0,
          1,
          2,
          3,
          4,
          5,
          6,
          7,
          8,
          9,
          10,
          11,
          12,
          13,
          14
         ],
         "xaxis": "x3",
         "y": [
          0,
          1.9236352798552272,
          6.6441320637988825,
          17.047091454688587,
          32.73361528186275,
          51.091795305692315,
          67.71968104611948,
          77.18021131085636,
          85.26770035940213,
          88.84949539132587,
          92.21483626635981,
          93.8440599449577,
          95.88244892161627,
          97.08136662337859,
          97.71365188425526
         ],
         "yaxis": "y3"
        },
        {
         "legendgroup": "group_1",
         "marker": {
          "color": "#EF553B"
         },
         "name": "Run 1 Observed",
         "showlegend": false,
         "type": "scatter",
         "x": [
          0,
          1,
          2,
          3,
          4,
          5,
          6,
          7,
          8,
          9,
          10,
          11,
          12,
          13,
          14
         ],
         "xaxis": "x4",
         "y": [
          0,
          0.0763700634007142,
          1.2004047047372728,
          10.769047562231066,
          55.331509943793534,
          169.67881535568202,
          356.9149807868821,
          587.3658271878509,
          826.3777227138344,
          1049.7114958711982,
          1245.9405162620585,
          1411.3748743127069,
          1546.3862233793775,
          1653.611268198273,
          1736.5908399465277
         ],
         "yaxis": "y4"
        },
        {
         "legendgroup": "group_1",
         "line": {
          "dash": "dash"
         },
         "marker": {
          "color": "#EF553B"
         },
         "name": "Run 1 Predicted",
         "showlegend": false,
         "type": "scatter",
         "x": [
          0,
          1,
          2,
          3,
          4,
          5,
          6,
          7,
          8,
          9,
          10,
          11,
          12,
          13,
          14
         ],
         "xaxis": "x4",
         "y": [
          0,
          -0.0169863729179916,
          1.6775137990569964,
          18.76362436901635,
          74.00433351481844,
          177.71738460428654,
          301.5712284654107,
          415.6312635972626,
          506.04312412472643,
          562.8197429219005,
          596.839539562356,
          617.7008135876307,
          628.9350733027808,
          635.4624686717517,
          639.523812635204
         ],
         "yaxis": "y4"
        },
        {
         "legendgroup": "group_2",
         "marker": {
          "color": "#00CC96"
         },
         "name": "Run 2 Observed",
         "showlegend": true,
         "type": "scatter",
         "x": [
          0,
          1,
          2,
          3,
          4,
          5,
          6,
          7,
          8,
          9,
          10,
          11,
          12,
          13,
          14
         ],
         "xaxis": "x",
         "y": [
          0.6377551020408163,
          1.7596767331437484,
          4.320048035023024,
          8.600099814712605,
          13.129010583057209,
          15.86887489530228,
          16.314060822920034,
          15.128350980501,
          13.118424032866182,
          10.845032804189962,
          8.611928610057822,
          6.721336704242177,
          5.249987862906268,
          4.091917406485745,
          3.180171977396879
         ],
         "yaxis": "y"
        },
        {
         "legendgroup": "group_2",
         "line": {
          "dash": "dash"
         },
         "marker": {
          "color": "#00CC96"
         },
         "name": "Run 2 Predicted",
         "showlegend": true,
         "type": "scatter",
         "x": [
          0,
          1,
          2,
          3,
          4,
          5,
          6,
          7,
          8,
          9,
          10,
          11,
          12,
          13,
          14
         ],
         "xaxis": "x",
         "y": [
          0.6377551020408163,
          1.6503858139362337,
          4.072788323189991,
          8.035603343815279,
          11.418786641134133,
          11.950094263295366,
          10.527626858912948,
          7.179536211693603,
          5.147418685205135,
          3.3486976937507413,
          1.5039998097435956,
          0.9175084784352994,
          0.5110225470211829,
          0.30259446841623905,
          0.14097847071665834
         ],
         "yaxis": "y"
        },
        {
         "legendgroup": "group_2",
         "marker": {
          "color": "#00CC96"
         },
         "name": "Run 2 Observed",
         "showlegend": false,
         "type": "scatter",
         "x": [
          0,
          1,
          2,
          3,
          4,
          5,
          6,
          7,
          8,
          9,
          10,
          11,
          12,
          13,
          14
         ],
         "xaxis": "x2",
         "y": [
          39.38775510204081,
          38.5280407408776,
          38.7311595156132,
          45.76285698062254,
          49.24196581704296,
          49.81892064072007,
          49.184687689797485,
          48.89258013831316,
          49.88107629463944,
          52.55198518790212,
          56.8557322124684,
          50.96007068131026,
          46.35555553595123,
          42.76260751556799,
          39.96626373139646
         ],
         "yaxis": "y2"
        },
        {
         "legendgroup": "group_2",
         "line": {
          "dash": "dash"
         },
         "marker": {
          "color": "#00CC96"
         },
         "name": "Run 2 Predicted",
         "showlegend": false,
         "type": "scatter",
         "x": [
          0,
          1,
          2,
          3,
          4,
          5,
          6,
          7,
          8,
          9,
          10,
          11,
          12,
          13,
          14
         ],
         "xaxis": "x2",
         "y": [
          39.38775510204081,
          38.054718116828596,
          42.20813257738833,
          46.89441921126574,
          52.00576584958109,
          55.31341884880328,
          57.84764411944674,
          61.75152642031821,
          68.83935117494178,
          77.59529358408014,
          79.68952443666883,
          84.77823216803502,
          85.2407868095021,
          85.67338765892072,
          86.12690791893748
         ],
         "yaxis": "y2"
        },
        {
         "legendgroup": "group_2",
         "marker": {
          "color": "#00CC96"
         },
         "name": "Run 2 Observed",
         "showlegend": false,
         "type": "scatter",
         "x": [
          0,
          1,
          2,
          3,
          4,
          5,
          6,
          7,
          8,
          9,
          10,
          11,
          12,
          13,
          14
         ],
         "xaxis": "x3",
         "y": [
          0,
          1.5581891741849512,
          5.606126893705409,
          14.498929324203344,
          29.82798216505632,
          50.41499972160747,
          73.19671246341571,
          95.3587673773708,
          115.20028515974414,
          131.99273880744107,
          145.60559285891645,
          156.2873977451865,
          164.63072407738295,
          171.14171656847114,
          176.2095735657846
         ],
         "yaxis": "y3"
        },
        {
         "legendgroup": "group_2",
         "line": {
          "dash": "dash"
         },
         "marker": {
          "color": "#00CC96"
         },
         "name": "Run 2 Predicted",
         "showlegend": false,
         "type": "scatter",
         "x": [
          0,
          1,
          2,
          3,
          4,
          5,
          6,
          7,
          8,
          9,
          10,
          11,
          12,
          13,
          14
         ],
         "xaxis": "x3",
         "y": [
          0,
          1.5605820500900038,
          5.440165995832095,
          13.04764091802441,
          27.412860050922916,
          43.473029893294886,
          61.01624479635249,
          70.81986847959284,
          78.4195610156582,
          85.03341553732199,
          86.27928565856729,
          86.91053832868798,
          87.92840291070087,
          88.75401368244843,
          89.23948095365483
         ],
         "yaxis": "y3"
        },
        {
         "legendgroup": "group_2",
         "marker": {
          "color": "#00CC96"
         },
         "name": "Run 2 Observed",
         "showlegend": false,
         "type": "scatter",
         "x": [
          0,
          1,
          2,
          3,
          4,
          5,
          6,
          7,
          8,
          9,
          10,
          11,
          12,
          13,
          14
         ],
         "xaxis": "x4",
         "y": [
          0,
          0.0854355568288807,
          1.6092625643264258,
          15.15306007085573,
          73.21962446854067,
          204.75841445857023,
          398.2225074477981,
          618.5671629053375,
          834.8994407537554,
          1028.7815128523432,
          1191.952374312491,
          1323.1237497744814,
          1427.1505262970163,
          1509.177096006116,
          1573.4842264771685
         ],
         "yaxis": "y4"
        },
        {
         "legendgroup": "group_2",
         "line": {
          "dash": "dash"
         },
         "marker": {
          "color": "#00CC96"
         },
         "name": "Run 2 Predicted",
         "showlegend": false,
         "type": "scatter",
         "x": [
          0,
          1,
          2,
          3,
          4,
          5,
          6,
          7,
          8,
          9,
          10,
          11,
          12,
          13,
          14
         ],
         "xaxis": "x4",
         "y": [
          0,
          -0.057769272908006764,
          0.548512174556134,
          10.337612054099708,
          48.76290150893825,
          134.8858705741569,
          242.1766916194568,
          347.24471854685123,
          427.7239730018692,
          485.1835195051065,
          514.6527005977049,
          533.1776137029041,
          543.4663928231485,
          549.4418849148384,
          553.0700976997063
         ],
         "yaxis": "y4"
        },
        {
         "legendgroup": "group_3",
         "marker": {
          "color": "#AB63FA"
         },
         "name": "Run 3 Observed",
         "showlegend": true,
         "type": "scatter",
         "x": [
          0,
          1,
          2,
          3,
          4,
          5,
          6,
          7,
          8,
          9,
          10,
          11,
          12,
          13,
          14
         ],
         "xaxis": "x",
         "y": [
          0.6683673469387755,
          1.8479761959252932,
          4.5642475791718695,
          9.101866917551046,
          13.763741305573545,
          16.39181066854337,
          16.588673250600085,
          15.121065257143862,
          12.880994022025028,
          10.494696740233676,
          8.276399606720522,
          6.112053610273055,
          3.960093130262047,
          2.557747831948446,
          1.6487988889593452
         ],
         "yaxis": "y"
        },
        {
         "legendgroup": "group_3",
         "line": {
          "dash": "dash"
         },
         "marker": {
          "color": "#AB63FA"
         },
         "name": "Run 3 Predicted",
         "showlegend": true,
         "type": "scatter",
         "x": [
          0,
          1,
          2,
          3,
          4,
          5,
          6,
          7,
          8,
          9,
          10,
          11,
          12,
          13,
          14
         ],
         "xaxis": "x",
         "y": [
          0.6683673469387755,
          2.127103180463956,
          4.9428574574049176,
          9.110422353424811,
          11.673345328006604,
          11.750000883882244,
          10.171779046192066,
          7.128225249420045,
          4.900848502800381,
          3.12816876271623,
          1.7480262235900548,
          1.1188712116698494,
          0.832805620961212,
          0.6674851163073797,
          0.5102031322255993
         ],
         "yaxis": "y"
        },
        {
         "legendgroup": "group_3",
         "marker": {
          "color": "#AB63FA"
         },
         "name": "Run 3 Observed",
         "showlegend": false,
         "type": "scatter",
         "x": [
          0,
          1,
          2,
          3,
          4,
          5,
          6,
          7,
          8,
          9,
          10,
          11,
          12,
          13,
          14
         ],
         "xaxis": "x2",
         "y": [
          48.36734693877551,
          47.04285822396751,
          49.47633429246047,
          52.15436152007848,
          49.36912447968168,
          42.317330231004384,
          33.707503700984184,
          25.915780610616988,
          20.30896088097011,
          17.375999828551723,
          7.512392125109961,
          0.000005549966366497421,
          -1.1635971826234836e-8,
          -7.551679343443506e-10,
          5.42590117253555e-10
         ],
         "yaxis": "y2"
        },
        {
         "legendgroup": "group_3",
         "line": {
          "dash": "dash"
         },
         "marker": {
          "color": "#AB63FA"
         },
         "name": "Run 3 Predicted",
         "showlegend": false,
         "type": "scatter",
         "x": [
          0,
          1,
          2,
          3,
          4,
          5,
          6,
          7,
          8,
          9,
          10,
          11,
          12,
          13,
          14
         ],
         "xaxis": "x2",
         "y": [
          48.36734693877551,
          46.889712072602876,
          51.00037516649682,
          56.16541430130865,
          58.58038991937271,
          59.874356861432624,
          62.47172013806199,
          66.35173767570893,
          71.59835644047729,
          79.19557471470746,
          81.58587719048246,
          85.86348398261454,
          86.56108814652917,
          87.51979201575392,
          88.46722376078229
         ],
         "yaxis": "y2"
        },
        {
         "legendgroup": "group_3",
         "marker": {
          "color": "#AB63FA"
         },
         "name": "Run 3 Observed",
         "showlegend": false,
         "type": "scatter",
         "x": [
          0,
          1,
          2,
          3,
          4,
          5,
          6,
          7,
          8,
          9,
          10,
          11,
          12,
          13,
          14
         ],
         "xaxis": "x3",
         "y": [
          0,
          1.7487860554820465,
          6.311671256918155,
          16.382654836909964,
          33.66660265814613,
          56.58603621625323,
          81.56847238120447,
          105.47928252536023,
          126.51381224589684,
          144.02257896315942,
          158.0615217586803,
          168.90191538273123,
          176.33605979156945,
          181.14518553707703,
          184.24826675684804
         ],
         "yaxis": "y3"
        },
        {
         "legendgroup": "group_3",
         "line": {
          "dash": "dash"
         },
         "marker": {
          "color": "#AB63FA"
         },
         "name": "Run 3 Predicted",
         "showlegend": false,
         "type": "scatter",
         "x": [
          0,
          1,
          2,
          3,
          4,
          5,
          6,
          7,
          8,
          9,
          10,
          11,
          12,
          13,
          14
         ],
         "xaxis": "x3",
         "y": [
          0,
          1.9690652355350415,
          6.88080754066549,
          17.631250143982168,
          33.93636300420415,
          51.13291320735462,
          68.18939082313403,
          77.75247140067785,
          84.33825785965378,
          91.83328646164082,
          93.79055703011642,
          95.00769237671093,
          96.87339474498873,
          97.99288168842455,
          98.66760710521133
         ],
         "yaxis": "y3"
        },
        {
         "legendgroup": "group_3",
         "marker": {
          "color": "#AB63FA"
         },
         "name": "Run 3 Observed",
         "showlegend": false,
         "type": "scatter",
         "x": [
          0,
          1,
          2,
          3,
          4,
          5,
          6,
          7,
          8,
          9,
          10,
          11,
          12,
          13,
          14
         ],
         "xaxis": "x4",
         "y": [
          0,
          0.0532844883797582,
          1.1745834254072027,
          12.400110906230712,
          64.33322629187558,
          186.9762484824127,
          370.7059655837582,
          580.4291461413053,
          784.4388717931332,
          964.694945425899,
          1113.2574886158343,
          1206.3258825585165,
          1206.325890023906,
          1206.3258900094436,
          1206.3258900076912
         ],
         "yaxis": "y4"
        },
        {
         "legendgroup": "group_3",
         "line": {
          "dash": "dash"
         },
         "marker": {
          "color": "#AB63FA"
         },
         "name": "Run 3 Predicted",
         "showlegend": false,
         "type": "scatter",
         "x": [
          0,
          1,
          2,
          3,
          4,
          5,
          6,
          7,
          8,
          9,
          10,
          11,
          12,
          13,
          14
         ],
         "xaxis": "x4",
         "y": [
          0,
          -0.03783513301775665,
          1.705988819824508,
          18.85714037364781,
          72.7778543990268,
          176.2000900367777,
          295.10729705964985,
          404.0185754378012,
          489.9624773225428,
          551.3279023690668,
          584.4124854158722,
          605.20614831359,
          616.8744855387491,
          624.0783474065751,
          628.8638628105592
         ],
         "yaxis": "y4"
        },
        {
         "legendgroup": "group_4",
         "marker": {
          "color": "#FFA15A"
         },
         "name": "Run 4 Observed",
         "showlegend": true,
         "type": "scatter",
         "x": [
          0,
          1,
          2,
          3,
          4,
          5,
          6,
          7,
          8,
          9,
          10,
          11,
          12,
          13,
          14
         ],
         "xaxis": "x",
         "y": [
          0.8214285714285714,
          2.462338134351961,
          6.204794037706704,
          11.455830213030046,
          15.029129484664557,
          15.46330643203451,
          13.775109141164494,
          11.194697479273378,
          8.439502937137675,
          5.831525356659873,
          3.89278824381229,
          2.6769952754832365,
          1.8716034350620616,
          1.320869574866547,
          0.9373903299802034
         ],
         "yaxis": "y"
        },
        {
         "legendgroup": "group_4",
         "line": {
          "dash": "dash"
         },
         "marker": {
          "color": "#FFA15A"
         },
         "name": "Run 4 Predicted",
         "showlegend": true,
         "type": "scatter",
         "x": [
          0,
          1,
          2,
          3,
          4,
          5,
          6,
          7,
          8,
          9,
          10,
          11,
          12,
          13,
          14
         ],
         "xaxis": "x",
         "y": [
          0.8214285714285714,
          1.934517883811673,
          4.048562679908468,
          7.170076130834058,
          9.432251962869916,
          9.855839758471163,
          8.913527954443474,
          6.698459424186317,
          4.7131136640110185,
          3.411523977282299,
          1.3620599850009758,
          0.8740565450055577,
          0.4142238974150507,
          0.1996999498184903,
          0.043814345069717237
         ],
         "yaxis": "y"
        },
        {
         "legendgroup": "group_4",
         "marker": {
          "color": "#FFA15A"
         },
         "name": "Run 4 Observed",
         "showlegend": false,
         "type": "scatter",
         "x": [
          0,
          1,
          2,
          3,
          4,
          5,
          6,
          7,
          8,
          9,
          10,
          11,
          12,
          13,
          14
         ],
         "xaxis": "x2",
         "y": [
          46.734693877551024,
          44.99290263409152,
          55.71392075823843,
          61.33985969413218,
          61.56527277561326,
          59.50002768365175,
          58.29518530186981,
          59.65002766372735,
          64.13123970145408,
          71.72899291203933,
          66.36797709905878,
          62.62435211663696,
          60.027913453442245,
          58.20387118444934,
          56.91292005668433
         ],
         "yaxis": "y2"
        },
        {
         "legendgroup": "group_4",
         "line": {
          "dash": "dash"
         },
         "marker": {
          "color": "#FFA15A"
         },
         "name": "Run 4 Predicted",
         "showlegend": false,
         "type": "scatter",
         "x": [
          0,
          1,
          2,
          3,
          4,
          5,
          6,
          7,
          8,
          9,
          10,
          11,
          12,
          13,
          14
         ],
         "xaxis": "x2",
         "y": [
          46.734693877551024,
          45.453024701379356,
          53.00688225460301,
          56.917862883712765,
          63.07806609610201,
          68.47459821006886,
          74.46696614325884,
          82.39306289310451,
          93.16970422476152,
          101.37999123876493,
          101.09394843357195,
          105.84253256358558,
          105.64752497999969,
          105.25367612911757,
          104.96598824335089
         ],
         "yaxis": "y2"
        },
        {
         "legendgroup": "group_4",
         "marker": {
          "color": "#FFA15A"
         },
         "name": "Run 4 Observed",
         "showlegend": false,
         "type": "scatter",
         "x": [
          0,
          1,
          2,
          3,
          4,
          5,
          6,
          7,
          8,
          9,
          10,
          11,
          12,
          13,
          14
         ],
         "xaxis": "x3",
         "y": [
          0,
          2.40865700404835,
          9.007605339128604,
          23.0960309095346,
          44.650055160271,
          69.37126336604697,
          92.90356906065072,
          112.89704265210062,
          128.56760159133748,
          139.92880141496798,
          147.5636069024654,
          152.73889571644432,
          156.32842633487192,
          158.8502092384601,
          160.63502139951692
         ],
         "yaxis": "y3"
        },
        {
         "legendgroup": "group_4",
         "line": {
          "dash": "dash"
         },
         "marker": {
          "color": "#FFA15A"
         },
         "name": "Run 4 Predicted",
         "showlegend": false,
         "type": "scatter",
         "x": [
          0,
          1,
          2,
          3,
          4,
          5,
          6,
          7,
          8,
          9,
          10,
          11,
          12,
          13,
          14
         ],
         "xaxis": "x3",
         "y": [
          0,
          1.7762439715353426,
          5.825938720871189,
          14.051304215285478,
          25.593298643595638,
          41.190144306451344,
          55.20578693949479,
          67.84070019988671,
          76.24013647791774,
          84.2109678509448,
          84.99110214987948,
          85.33054912127155,
          85.47941173651861,
          85.92857843412291,
          86.43897775544059
         ],
         "yaxis": "y3"
        },
        {
         "legendgroup": "group_4",
         "marker": {
          "color": "#FFA15A"
         },
         "name": "Run 4 Observed",
         "showlegend": false,
         "type": "scatter",
         "x": [
          0,
          1,
          2,
          3,
          4,
          5,
          6,
          7,
          8,
          9,
          10,
          11,
          12,
          13,
          14
         ],
         "xaxis": "x4",
         "y": [
          0,
          0.1271028978965827,
          3.043268173982997,
          28.535584577172003,
          116.56093471808562,
          271.0820879759505,
          454.3992159877672,
          629.9846449120229,
          777.5049250060061,
          889.0424907203862,
          965.8903434918803,
          1018.7426183492312,
          1055.7385430042384,
          1081.8878031673305,
          1100.471520461802
         ],
         "yaxis": "y4"
        },
        {
         "legendgroup": "group_4",
         "line": {
          "dash": "dash"
         },
         "marker": {
          "color": "#FFA15A"
         },
         "name": "Run 4 Predicted",
         "showlegend": false,
         "type": "scatter",
         "x": [
          0,
          1,
          2,
          3,
          4,
          5,
          6,
          7,
          8,
          9,
          10,
          11,
          12,
          13,
          14
         ],
         "xaxis": "x4",
         "y": [
          0,
          -0.26013885262676695,
          1.9922252617744522,
          12.60447516067747,
          50.6466552536375,
          124.22586724481761,
          219.5355041807664,
          308.8231284830536,
          376.9015075726709,
          427.66202003136607,
          451.46314317589423,
          466.29665643048986,
          475.18319301395854,
          480.0511000621932,
          482.69570631729715
         ],
         "yaxis": "y4"
        }
       ],
       "layout": {
        "annotations": [
         {
          "font": {
           "size": 16
          },
          "showarrow": false,
          "text": "X:VCD",
          "x": 0.10625,
          "xanchor": "center",
          "xref": "paper",
          "y": 1,
          "yanchor": "bottom",
          "yref": "paper"
         },
         {
          "font": {
           "size": 16
          },
          "showarrow": false,
          "text": "X:Glc",
          "x": 0.36875,
          "xanchor": "center",
          "xref": "paper",
          "y": 1,
          "yanchor": "bottom",
          "yref": "paper"
         },
         {
          "font": {
           "size": 16
          },
          "showarrow": false,
          "text": "X:Lac",
          "x": 0.6312500000000001,
          "xanchor": "center",
          "xref": "paper",
          "y": 1,
          "yanchor": "bottom",
          "yref": "paper"
         },
         {
          "font": {
           "size": 16
          },
          "showarrow": false,
          "text": "X:Titer",
          "x": 0.89375,
          "xanchor": "center",
          "xref": "paper",
          "y": 1,
          "yanchor": "bottom",
          "yref": "paper"
         }
        ],
        "height": 500,
        "showlegend": true,
        "template": {
         "data": {
          "bar": [
           {
            "error_x": {
             "color": "#2a3f5f"
            },
            "error_y": {
             "color": "#2a3f5f"
            },
            "marker": {
             "line": {
              "color": "white",
              "width": 0.5
             },
             "pattern": {
              "fillmode": "overlay",
              "size": 10,
              "solidity": 0.2
             }
            },
            "type": "bar"
           }
          ],
          "barpolar": [
           {
            "marker": {
             "line": {
              "color": "white",
              "width": 0.5
             },
             "pattern": {
              "fillmode": "overlay",
              "size": 10,
              "solidity": 0.2
             }
            },
            "type": "barpolar"
           }
          ],
          "carpet": [
           {
            "aaxis": {
             "endlinecolor": "#2a3f5f",
             "gridcolor": "#C8D4E3",
             "linecolor": "#C8D4E3",
             "minorgridcolor": "#C8D4E3",
             "startlinecolor": "#2a3f5f"
            },
            "baxis": {
             "endlinecolor": "#2a3f5f",
             "gridcolor": "#C8D4E3",
             "linecolor": "#C8D4E3",
             "minorgridcolor": "#C8D4E3",
             "startlinecolor": "#2a3f5f"
            },
            "type": "carpet"
           }
          ],
          "choropleth": [
           {
            "colorbar": {
             "outlinewidth": 0,
             "ticks": ""
            },
            "type": "choropleth"
           }
          ],
          "contour": [
           {
            "colorbar": {
             "outlinewidth": 0,
             "ticks": ""
            },
            "colorscale": [
             [
              0,
              "#0d0887"
             ],
             [
              0.1111111111111111,
              "#46039f"
             ],
             [
              0.2222222222222222,
              "#7201a8"
             ],
             [
              0.3333333333333333,
              "#9c179e"
             ],
             [
              0.4444444444444444,
              "#bd3786"
             ],
             [
              0.5555555555555556,
              "#d8576b"
             ],
             [
              0.6666666666666666,
              "#ed7953"
             ],
             [
              0.7777777777777778,
              "#fb9f3a"
             ],
             [
              0.8888888888888888,
              "#fdca26"
             ],
             [
              1,
              "#f0f921"
             ]
            ],
            "type": "contour"
           }
          ],
          "contourcarpet": [
           {
            "colorbar": {
             "outlinewidth": 0,
             "ticks": ""
            },
            "type": "contourcarpet"
           }
          ],
          "heatmap": [
           {
            "colorbar": {
             "outlinewidth": 0,
             "ticks": ""
            },
            "colorscale": [
             [
              0,
              "#0d0887"
             ],
             [
              0.1111111111111111,
              "#46039f"
             ],
             [
              0.2222222222222222,
              "#7201a8"
             ],
             [
              0.3333333333333333,
              "#9c179e"
             ],
             [
              0.4444444444444444,
              "#bd3786"
             ],
             [
              0.5555555555555556,
              "#d8576b"
             ],
             [
              0.6666666666666666,
              "#ed7953"
             ],
             [
              0.7777777777777778,
              "#fb9f3a"
             ],
             [
              0.8888888888888888,
              "#fdca26"
             ],
             [
              1,
              "#f0f921"
             ]
            ],
            "type": "heatmap"
           }
          ],
          "heatmapgl": [
           {
            "colorbar": {
             "outlinewidth": 0,
             "ticks": ""
            },
            "colorscale": [
             [
              0,
              "#0d0887"
             ],
             [
              0.1111111111111111,
              "#46039f"
             ],
             [
              0.2222222222222222,
              "#7201a8"
             ],
             [
              0.3333333333333333,
              "#9c179e"
             ],
             [
              0.4444444444444444,
              "#bd3786"
             ],
             [
              0.5555555555555556,
              "#d8576b"
             ],
             [
              0.6666666666666666,
              "#ed7953"
             ],
             [
              0.7777777777777778,
              "#fb9f3a"
             ],
             [
              0.8888888888888888,
              "#fdca26"
             ],
             [
              1,
              "#f0f921"
             ]
            ],
            "type": "heatmapgl"
           }
          ],
          "histogram": [
           {
            "marker": {
             "pattern": {
              "fillmode": "overlay",
              "size": 10,
              "solidity": 0.2
             }
            },
            "type": "histogram"
           }
          ],
          "histogram2d": [
           {
            "colorbar": {
             "outlinewidth": 0,
             "ticks": ""
            },
            "colorscale": [
             [
              0,
              "#0d0887"
             ],
             [
              0.1111111111111111,
              "#46039f"
             ],
             [
              0.2222222222222222,
              "#7201a8"
             ],
             [
              0.3333333333333333,
              "#9c179e"
             ],
             [
              0.4444444444444444,
              "#bd3786"
             ],
             [
              0.5555555555555556,
              "#d8576b"
             ],
             [
              0.6666666666666666,
              "#ed7953"
             ],
             [
              0.7777777777777778,
              "#fb9f3a"
             ],
             [
              0.8888888888888888,
              "#fdca26"
             ],
             [
              1,
              "#f0f921"
             ]
            ],
            "type": "histogram2d"
           }
          ],
          "histogram2dcontour": [
           {
            "colorbar": {
             "outlinewidth": 0,
             "ticks": ""
            },
            "colorscale": [
             [
              0,
              "#0d0887"
             ],
             [
              0.1111111111111111,
              "#46039f"
             ],
             [
              0.2222222222222222,
              "#7201a8"
             ],
             [
              0.3333333333333333,
              "#9c179e"
             ],
             [
              0.4444444444444444,
              "#bd3786"
             ],
             [
              0.5555555555555556,
              "#d8576b"
             ],
             [
              0.6666666666666666,
              "#ed7953"
             ],
             [
              0.7777777777777778,
              "#fb9f3a"
             ],
             [
              0.8888888888888888,
              "#fdca26"
             ],
             [
              1,
              "#f0f921"
             ]
            ],
            "type": "histogram2dcontour"
           }
          ],
          "mesh3d": [
           {
            "colorbar": {
             "outlinewidth": 0,
             "ticks": ""
            },
            "type": "mesh3d"
           }
          ],
          "parcoords": [
           {
            "line": {
             "colorbar": {
              "outlinewidth": 0,
              "ticks": ""
             }
            },
            "type": "parcoords"
           }
          ],
          "pie": [
           {
            "automargin": true,
            "type": "pie"
           }
          ],
          "scatter": [
           {
            "fillpattern": {
             "fillmode": "overlay",
             "size": 10,
             "solidity": 0.2
            },
            "type": "scatter"
           }
          ],
          "scatter3d": [
           {
            "line": {
             "colorbar": {
              "outlinewidth": 0,
              "ticks": ""
             }
            },
            "marker": {
             "colorbar": {
              "outlinewidth": 0,
              "ticks": ""
             }
            },
            "type": "scatter3d"
           }
          ],
          "scattercarpet": [
           {
            "marker": {
             "colorbar": {
              "outlinewidth": 0,
              "ticks": ""
             }
            },
            "type": "scattercarpet"
           }
          ],
          "scattergeo": [
           {
            "marker": {
             "colorbar": {
              "outlinewidth": 0,
              "ticks": ""
             }
            },
            "type": "scattergeo"
           }
          ],
          "scattergl": [
           {
            "marker": {
             "colorbar": {
              "outlinewidth": 0,
              "ticks": ""
             }
            },
            "type": "scattergl"
           }
          ],
          "scattermapbox": [
           {
            "marker": {
             "colorbar": {
              "outlinewidth": 0,
              "ticks": ""
             }
            },
            "type": "scattermapbox"
           }
          ],
          "scatterpolar": [
           {
            "marker": {
             "colorbar": {
              "outlinewidth": 0,
              "ticks": ""
             }
            },
            "type": "scatterpolar"
           }
          ],
          "scatterpolargl": [
           {
            "marker": {
             "colorbar": {
              "outlinewidth": 0,
              "ticks": ""
             }
            },
            "type": "scatterpolargl"
           }
          ],
          "scatterternary": [
           {
            "marker": {
             "colorbar": {
              "outlinewidth": 0,
              "ticks": ""
             }
            },
            "type": "scatterternary"
           }
          ],
          "surface": [
           {
            "colorbar": {
             "outlinewidth": 0,
             "ticks": ""
            },
            "colorscale": [
             [
              0,
              "#0d0887"
             ],
             [
              0.1111111111111111,
              "#46039f"
             ],
             [
              0.2222222222222222,
              "#7201a8"
             ],
             [
              0.3333333333333333,
              "#9c179e"
             ],
             [
              0.4444444444444444,
              "#bd3786"
             ],
             [
              0.5555555555555556,
              "#d8576b"
             ],
             [
              0.6666666666666666,
              "#ed7953"
             ],
             [
              0.7777777777777778,
              "#fb9f3a"
             ],
             [
              0.8888888888888888,
              "#fdca26"
             ],
             [
              1,
              "#f0f921"
             ]
            ],
            "type": "surface"
           }
          ],
          "table": [
           {
            "cells": {
             "fill": {
              "color": "#EBF0F8"
             },
             "line": {
              "color": "white"
             }
            },
            "header": {
             "fill": {
              "color": "#C8D4E3"
             },
             "line": {
              "color": "white"
             }
            },
            "type": "table"
           }
          ]
         },
         "layout": {
          "annotationdefaults": {
           "arrowcolor": "#2a3f5f",
           "arrowhead": 0,
           "arrowwidth": 1
          },
          "autotypenumbers": "strict",
          "coloraxis": {
           "colorbar": {
            "outlinewidth": 0,
            "ticks": ""
           }
          },
          "colorscale": {
           "diverging": [
            [
             0,
             "#8e0152"
            ],
            [
             0.1,
             "#c51b7d"
            ],
            [
             0.2,
             "#de77ae"
            ],
            [
             0.3,
             "#f1b6da"
            ],
            [
             0.4,
             "#fde0ef"
            ],
            [
             0.5,
             "#f7f7f7"
            ],
            [
             0.6,
             "#e6f5d0"
            ],
            [
             0.7,
             "#b8e186"
            ],
            [
             0.8,
             "#7fbc41"
            ],
            [
             0.9,
             "#4d9221"
            ],
            [
             1,
             "#276419"
            ]
           ],
           "sequential": [
            [
             0,
             "#0d0887"
            ],
            [
             0.1111111111111111,
             "#46039f"
            ],
            [
             0.2222222222222222,
             "#7201a8"
            ],
            [
             0.3333333333333333,
             "#9c179e"
            ],
            [
             0.4444444444444444,
             "#bd3786"
            ],
            [
             0.5555555555555556,
             "#d8576b"
            ],
            [
             0.6666666666666666,
             "#ed7953"
            ],
            [
             0.7777777777777778,
             "#fb9f3a"
            ],
            [
             0.8888888888888888,
             "#fdca26"
            ],
            [
             1,
             "#f0f921"
            ]
           ],
           "sequentialminus": [
            [
             0,
             "#0d0887"
            ],
            [
             0.1111111111111111,
             "#46039f"
            ],
            [
             0.2222222222222222,
             "#7201a8"
            ],
            [
             0.3333333333333333,
             "#9c179e"
            ],
            [
             0.4444444444444444,
             "#bd3786"
            ],
            [
             0.5555555555555556,
             "#d8576b"
            ],
            [
             0.6666666666666666,
             "#ed7953"
            ],
            [
             0.7777777777777778,
             "#fb9f3a"
            ],
            [
             0.8888888888888888,
             "#fdca26"
            ],
            [
             1,
             "#f0f921"
            ]
           ]
          },
          "colorway": [
           "#636efa",
           "#EF553B",
           "#00cc96",
           "#ab63fa",
           "#FFA15A",
           "#19d3f3",
           "#FF6692",
           "#B6E880",
           "#FF97FF",
           "#FECB52"
          ],
          "font": {
           "color": "#2a3f5f"
          },
          "geo": {
           "bgcolor": "white",
           "lakecolor": "white",
           "landcolor": "white",
           "showlakes": true,
           "showland": true,
           "subunitcolor": "#C8D4E3"
          },
          "hoverlabel": {
           "align": "left"
          },
          "hovermode": "closest",
          "mapbox": {
           "style": "light"
          },
          "paper_bgcolor": "white",
          "plot_bgcolor": "white",
          "polar": {
           "angularaxis": {
            "gridcolor": "#EBF0F8",
            "linecolor": "#EBF0F8",
            "ticks": ""
           },
           "bgcolor": "white",
           "radialaxis": {
            "gridcolor": "#EBF0F8",
            "linecolor": "#EBF0F8",
            "ticks": ""
           }
          },
          "scene": {
           "xaxis": {
            "backgroundcolor": "white",
            "gridcolor": "#DFE8F3",
            "gridwidth": 2,
            "linecolor": "#EBF0F8",
            "showbackground": true,
            "ticks": "",
            "zerolinecolor": "#EBF0F8"
           },
           "yaxis": {
            "backgroundcolor": "white",
            "gridcolor": "#DFE8F3",
            "gridwidth": 2,
            "linecolor": "#EBF0F8",
            "showbackground": true,
            "ticks": "",
            "zerolinecolor": "#EBF0F8"
           },
           "zaxis": {
            "backgroundcolor": "white",
            "gridcolor": "#DFE8F3",
            "gridwidth": 2,
            "linecolor": "#EBF0F8",
            "showbackground": true,
            "ticks": "",
            "zerolinecolor": "#EBF0F8"
           }
          },
          "shapedefaults": {
           "line": {
            "color": "#2a3f5f"
           }
          },
          "ternary": {
           "aaxis": {
            "gridcolor": "#DFE8F3",
            "linecolor": "#A2B1C6",
            "ticks": ""
           },
           "baxis": {
            "gridcolor": "#DFE8F3",
            "linecolor": "#A2B1C6",
            "ticks": ""
           },
           "bgcolor": "white",
           "caxis": {
            "gridcolor": "#DFE8F3",
            "linecolor": "#A2B1C6",
            "ticks": ""
           }
          },
          "title": {
           "x": 0.05
          },
          "xaxis": {
           "automargin": true,
           "gridcolor": "#EBF0F8",
           "linecolor": "#EBF0F8",
           "ticks": "",
           "title": {
            "standoff": 15
           },
           "zerolinecolor": "#EBF0F8",
           "zerolinewidth": 2
          },
          "yaxis": {
           "automargin": true,
           "gridcolor": "#EBF0F8",
           "linecolor": "#EBF0F8",
           "ticks": "",
           "title": {
            "standoff": 15
           },
           "zerolinecolor": "#EBF0F8",
           "zerolinewidth": 2
          }
         }
        },
        "title": {
         "text": "Process variable evolution for selected runs"
        },
        "xaxis": {
         "anchor": "y",
         "domain": [
          0,
          0.2125
         ]
        },
        "xaxis2": {
         "anchor": "y2",
         "domain": [
          0.2625,
          0.475
         ]
        },
        "xaxis3": {
         "anchor": "y3",
         "domain": [
          0.525,
          0.7375
         ]
        },
        "xaxis4": {
         "anchor": "y4",
         "domain": [
          0.7875,
          1
         ]
        },
        "yaxis": {
         "anchor": "x",
         "domain": [
          0,
          1
         ]
        },
        "yaxis2": {
         "anchor": "x2",
         "domain": [
          0,
          1
         ]
        },
        "yaxis3": {
         "anchor": "x3",
         "domain": [
          0,
          1
         ]
        },
        "yaxis4": {
         "anchor": "x4",
         "domain": [
          0,
          1
         ]
        }
       }
      }
     },
     "metadata": {},
     "output_type": "display_data"
    }
   ],
   "source": [
    "plot_predicted_profile(X_test, X_test_pred, X_columns, select_runs=[0, 1, 2, 3, 4], height=500)"
   ]
  },
  {
   "cell_type": "markdown",
   "metadata": {},
   "source": [
    "## OWU-ANN\n",
    "- a single model is used for all time points\n",
    "- Training: $[Z, X(t = t_{model} - 1)] \\rightarrow ANN_i \\rightarrow X_i(t = t_{model})$​\n",
    "- Testing: $[Z, \\hat{X}(t = t_{model} - 1)] \\rightarrow ANN_i \\rightarrow X_i(t = t_{model})$"
   ]
  },
  {
   "cell_type": "code",
   "execution_count": 19,
   "metadata": {},
   "outputs": [],
   "source": [
    "def fit_owu_ann_model(doe, owu, hidden_dims, t_steps=15, X_columns=None, W_columns=None, best_hidden_dims=None):\n",
    "    models = {}\n",
    "    Z = doe.values\n",
    "    \n",
    "    for i, col in enumerate(X_columns):\n",
    "        X_hist_all = []\n",
    "        y_hist_all = []\n",
    "        \n",
    "        for t in range(1, t_steps):\n",
    "            X_t_minus_1 = owu.loc[owu.index.get_level_values('time') == (t - 1), X_columns]\n",
    "            W_t_minus_1 = owu.loc[owu.index.get_level_values('time') == (t - 1), W_columns]\n",
    "            y_t = owu.loc[owu.index.get_level_values('time') == t, col]\n",
    "            \n",
    "            if not X_t_minus_1.empty and not y_t.empty:\n",
    "                X_preproc = np.hstack([Z, X_t_minus_1.values, W_t_minus_1.values])\n",
    "                X_hist_all.append(X_preproc)\n",
    "                y_hist_all.append(y_t.values)\n",
    "        \n",
    "        X_hist_all = np.vstack(X_hist_all)\n",
    "        y_hist_all = np.concatenate(y_hist_all)\n",
    "        \n",
    "        if best_hidden_dims:\n",
    "            hidden_dims = best_hidden_dims.get(i)\n",
    "        \n",
    "        model = fit_ann_model(X_hist_all, y_hist_all, hidden_dims)\n",
    "        models[i] = model\n",
    "    \n",
    "    return models\n",
    "\n",
    "\n",
    "def predict_owu_ann_model(doe, X0, W, models, t_steps, X_columns=None):\n",
    "    X_hist = X0.copy()\n",
    "    Z = doe.values\n",
    "    \n",
    "    for t in range(1, t_steps):\n",
    "        predictions = {col: [] for col in X_columns}\n",
    "        \n",
    "        for i, col in enumerate(X_columns):\n",
    "            model = models.get(i)\n",
    "            \n",
    "            X_t_minus_1 = X_hist.loc[X_hist.index.get_level_values('time') == (t - 1), X_columns]\n",
    "            W_t_minus_1 = W.loc[W.index.get_level_values('time') == (t - 1)]\n",
    "\n",
    "            X_preproc = np.hstack([Z, X_t_minus_1.values, W_t_minus_1.values])\n",
    "            prediction = model.predict(X_preproc)\n",
    "            predictions[col].extend(prediction)\n",
    "        \n",
    "        next_pred = pd.DataFrame(predictions)\n",
    "        next_pred.index = pd.MultiIndex.from_product(\n",
    "            [list(X0.index.get_level_values('run').unique()), [t]], names=[\"run\", \"time\"]\n",
    "        )\n",
    "        X_hist = pd.concat([X_hist, next_pred])\n",
    "\n",
    "    X_pred, _ = transform_owu(X_hist)\n",
    "    return X_pred\n",
    "\n",
    "\n",
    "def cross_val_predict_ann(X, y, hidden_dims, cv_folds):\n",
    "    kf = KFold(n_splits=cv_folds, shuffle=True, random_state=42)\n",
    "    rmse_train, rmse_valid = [], []\n",
    "\n",
    "    for train_index, valid_index in kf.split(X):\n",
    "        X_train, X_valid = X[train_index], X[valid_index]\n",
    "        y_train, y_valid = y[train_index], y[valid_index]\n",
    "        \n",
    "        model = fit_ann_model(X_train, y_train, hidden_dims)\n",
    "        \n",
    "        y_train_pred = model.predict(X_train)\n",
    "        y_valid_pred = model.predict(X_valid)\n",
    "        \n",
    "        rmse_train.append(absolute_rmse(y_train, y_train_pred))\n",
    "        rmse_valid.append(absolute_rmse(y_valid, y_valid_pred))\n",
    "\n",
    "    return np.mean(rmse_train), np.mean(rmse_valid)\n",
    "\n",
    "def owu_ann_cross_validation(doe, owu, X_columns, W_columns, hidden_dims_options, cv_folds=5):\n",
    "    all_train_eval = {}\n",
    "    all_valid_eval = {}\n",
    "    \n",
    "    Z = doe.values\n",
    "\n",
    "    for i, col in enumerate(X_columns):\n",
    "        X_hist_all = []\n",
    "        y_hist_all = []\n",
    "        \n",
    "        for t in range(1, 15):\n",
    "            X_t_minus_1 = owu.loc[owu.index.get_level_values('time') == (t - 1), X_columns]\n",
    "            W_t_minus_1 = owu.loc[owu.index.get_level_values('time') == (t - 1), W_columns]\n",
    "            y_t = owu.loc[owu.index.get_level_values('time') == t, col]\n",
    "            \n",
    "            if not X_t_minus_1.empty and not y_t.empty:\n",
    "                X_preproc = np.hstack([Z, X_t_minus_1.values, W_t_minus_1.values])\n",
    "                X_hist_all.append(X_preproc)\n",
    "                y_hist_all.append(y_t.values)\n",
    "        \n",
    "        X_hist_all = np.vstack(X_hist_all)\n",
    "        y_hist_all = np.concatenate(y_hist_all)\n",
    "        \n",
    "        all_train_eval[i] = {}\n",
    "        all_valid_eval[i] = {}\n",
    "        \n",
    "        for hidden_dims in tqdm(hidden_dims_options):\n",
    "            rmse_train, rmse_valid = cross_val_predict_ann(X_hist_all, y_hist_all, hidden_dims, cv_folds)\n",
    "            all_train_eval[i][tuple(hidden_dims)] = rmse_train\n",
    "            all_valid_eval[i][tuple(hidden_dims)] = rmse_valid\n",
    "    \n",
    "    return all_train_eval, all_valid_eval, hidden_dims_options\n"
   ]
  },
  {
   "cell_type": "markdown",
   "metadata": {},
   "source": [
    "### Setting"
   ]
  },
  {
   "cell_type": "code",
   "execution_count": 20,
   "metadata": {},
   "outputs": [],
   "source": [
    "HIDDEN_DIMS = [64, 64]\n",
    "X_columns = ['X:VCD', 'X:Glc', 'X:Lac', 'X:Titer']  # Specific columns to consider\n",
    "W_columns = ['W:Feed']"
   ]
  },
  {
   "cell_type": "markdown",
   "metadata": {},
   "source": [
    "### Data"
   ]
  },
  {
   "cell_type": "code",
   "execution_count": 21,
   "metadata": {},
   "outputs": [],
   "source": [
    "X, X_columns = transform_owu(owu, t_steps=15, batch_first=False)\n",
    "X_test, X_columns = transform_owu(owu_test, t_steps=15, batch_first=False)"
   ]
  },
  {
   "cell_type": "markdown",
   "metadata": {},
   "source": [
    "### Train"
   ]
  },
  {
   "cell_type": "code",
   "execution_count": 22,
   "metadata": {},
   "outputs": [],
   "source": [
    "models = fit_owu_ann_model(\n",
    "    doe,\n",
    "    owu,\n",
    "    t_steps=15,\n",
    "    hidden_dims=HIDDEN_DIMS,  # 初始值\n",
    "    X_columns=X_columns,\n",
    "    W_columns=W_columns,\n",
    ")\n"
   ]
  },
  {
   "cell_type": "markdown",
   "metadata": {},
   "source": [
    "### Test"
   ]
  },
  {
   "cell_type": "code",
   "execution_count": 23,
   "metadata": {},
   "outputs": [],
   "source": [
    "X0 = owu.loc[owu.index.get_level_values('time') < 1, X_columns]\n",
    "W = owu[['W:Feed']]\n",
    "\n",
    "X_pred = predict_owu_ann_model(\n",
    "    doe,\n",
    "    X0,\n",
    "    W,\n",
    "    X_columns=X_columns,\n",
    "    models=models,\n",
    "    t_steps=15,\n",
    ")\n",
    "\n",
    "X0_test = owu_test.loc[owu_test.index.get_level_values('time') < 1, X_columns]\n",
    "W_test = owu_test[['W:Feed']]\n",
    "\n",
    "X_test_pred = predict_owu_ann_model(\n",
    "    doe_test,\n",
    "    X0_test,\n",
    "    W_test,\n",
    "    X_columns=X_columns,\n",
    "    models=models,\n",
    "    t_steps=15,\n",
    ")"
   ]
  },
  {
   "cell_type": "code",
   "execution_count": 24,
   "metadata": {},
   "outputs": [
    {
     "data": {
      "application/vnd.plotly.v1+json": {
       "config": {
        "plotlyServerURL": "https://plot.ly"
       },
       "data": [
        {
         "legendgroup": "train_0",
         "mode": "markers",
         "name": "Run id in Train 0",
         "type": "scatter",
         "x": [
          0.6785714285714286,
          1.7882418695451865,
          4.197866164841867,
          8.024606484655857,
          11.644249637655555,
          12.989020406401975,
          11.780327631246772,
          9.032982556876329,
          5.956851986938314,
          3.496495271581572,
          1.9290844755904624,
          1.0384515260949645,
          0.5546547313461386,
          0.2952719021768026,
          0.1569168141294896
         ],
         "xaxis": "x",
         "y": [
          0.6785714285714286,
          1.9040325806759928,
          4.2810022691949525,
          5.5032695971324825,
          6.242820846252168,
          6.9973180074852825,
          7.129743335315681,
          6.635747036808394,
          5.8487884366020255,
          4.554701750609252,
          3.283873133580656,
          2.688263537400204,
          2.1644822725426,
          1.6756324834410001,
          1.18675885814502
         ],
         "yaxis": "y"
        },
        {
         "legendgroup": "train_1",
         "mode": "markers",
         "name": "Run id in Train 1",
         "type": "scatter",
         "x": [
          0.5153061224489796,
          1.3283920087753476,
          3.138891683299708,
          6.312312369758947,
          10.046362313224048,
          12.46619056309494,
          12.598864431782903,
          10.871896873825465,
          8.153434943282626,
          5.329460673311844,
          3.14372471445888,
          1.7669202575842775,
          0.9787333701850192,
          0.5395471576727975,
          0.2966820616676253
         ],
         "xaxis": "x",
         "y": [
          0.5153061224489796,
          1.5569015852444557,
          4.367051044632962,
          5.515972976890212,
          6.234390653967812,
          7.092199453193852,
          7.64580001024265,
          7.390803685409629,
          6.780342132796329,
          5.727381007913672,
          4.174835127025788,
          3.4554146997801003,
          2.851692400291754,
          2.3143969031891847,
          1.800137857367553
         ],
         "yaxis": "y"
        },
        {
         "legendgroup": "train_2",
         "mode": "markers",
         "name": "Run id in Train 2",
         "type": "scatter",
         "x": [
          0.6173469387755102,
          1.8393336824263824,
          4.76347819968831,
          9.519503140279811,
          13.897096050739306,
          15.469914296467806,
          14.064178274367205,
          10.784332549589733,
          7.024161263041686,
          4.060211714152641,
          2.225243161400361,
          1.198139824795706,
          0.6414845918398311,
          0.3424920004434781,
          0.1825893379791691
         ],
         "xaxis": "x",
         "y": [
          0.6173469387755102,
          1.8090446398755666,
          5.081266710028381,
          6.540432822882752,
          7.307594310481297,
          8.17196951676797,
          8.28792211101361,
          7.676335240659037,
          6.726805784459153,
          5.272080515009258,
          3.825355627401493,
          3.1668644297890087,
          2.5798215826441298,
          2.0249226567038154,
          1.4630182876448081
         ],
         "yaxis": "y"
        },
        {
         "legendgroup": "train_3",
         "mode": "markers",
         "name": "Run id in Train 3",
         "type": "scatter",
         "x": [
          0.7908163265306123,
          2.2233342240594665,
          5.189819500047023,
          8.648482942575908,
          9.89213218339913,
          8.48011217599898,
          6.030387208242467,
          3.83431965046864,
          2.2927149728665563,
          1.3293309225353016,
          0.7591389409901108,
          0.4298972793384327,
          0.2423196690989927,
          0.1362354666329924,
          0.0764834617843639
         ],
         "xaxis": "x",
         "y": [
          0.7908163265306123,
          2.1292387048057564,
          6.622968449099328,
          10.134145363822112,
          11.312117321509717,
          10.311927519228036,
          7.776123211958471,
          5.202838333317936,
          2.723221754853953,
          1.4623708772620112,
          0.5780492012673412,
          -0.2117740864730487,
          -0.9699429018406741,
          -1.7424753203790069,
          -1.7607960183958575
         ],
         "yaxis": "y"
        },
        {
         "legendgroup": "train_4",
         "mode": "markers",
         "name": "Run id in Train 4",
         "type": "scatter",
         "x": [
          0.8724489795918368,
          2.327450417335682,
          5.302229080189516,
          9.382915401755742,
          12.45876223358994,
          13.000921335581488,
          11.354064624495637,
          8.53677594789,
          5.544672913732412,
          3.240925051389084,
          1.866988108037708,
          1.0767488544223136,
          0.6221397684347698,
          0.359995999048859,
          0.2085132104697249
         ],
         "xaxis": "x",
         "y": [
          0.8724489795918368,
          2.2573599392629764,
          5.770417574542573,
          8.359928772421963,
          9.67727510871775,
          9.459225351168616,
          8.361698081151225,
          6.865366655615802,
          5.086330644484918,
          3.8537739614689888,
          2.8675635256681606,
          2.041344378285111,
          1.2993646778593095,
          0.5799819075111904,
          -0.15968013285716806
         ],
         "yaxis": "y"
        },
        {
         "legendgroup": "train_5",
         "mode": "markers",
         "name": "Run id in Train 5",
         "type": "scatter",
         "x": [
          0.9744897959183674,
          2.406921302247812,
          5.196041068887806,
          9.018136271163266,
          11.975281156400662,
          12.472876584537527,
          10.74865387739688,
          7.898282124391004,
          5.015423771955666,
          2.8668906881316008,
          1.5952036675723131,
          0.883499604044254,
          0.4883827704146793,
          0.2697342502902922,
          0.1489124435385337
         ],
         "xaxis": "x",
         "y": [
          0.9744897959183674,
          2.4686482664485756,
          6.1258351371315145,
          8.839608092628302,
          9.921842487635718,
          9.418150199219314,
          8.064169563051525,
          6.474675573114092,
          4.612758628336835,
          3.505746286156367,
          2.600162851691494,
          1.8268612289732509,
          1.1129091293080016,
          0.40698078209701605,
          -0.09599149908499469
         ],
         "yaxis": "y"
        },
        {
         "legendgroup": "train_6",
         "mode": "markers",
         "name": "Run id in Train 6",
         "type": "scatter",
         "x": [
          0.7806122448979591,
          1.975598501172804,
          4.447145355804954,
          8.222007631588548,
          11.810855568464037,
          13.202788595684126,
          12.11249067562794,
          9.4917369807142,
          6.47725387266102,
          3.982074568663462,
          2.317558052215487,
          1.3188287116986093,
          0.7439866778063171,
          0.4179559136359603,
          0.2342622485018471
         ],
         "xaxis": "x",
         "y": [
          0.7806122448979591,
          2.268142205727895,
          6.949010989194165,
          10.427506217747357,
          11.657079564833499,
          10.97161308585229,
          9.363029399446603,
          7.467955975305046,
          5.2468765233058585,
          3.542682555643268,
          2.252106287952025,
          1.5816784499315382,
          0.9045543185321568,
          0.18019370923996605,
          -0.08968601563548559
         ],
         "yaxis": "y"
        },
        {
         "legendgroup": "train_7",
         "mode": "markers",
         "name": "Run id in Train 7",
         "type": "scatter",
         "x": [
          0.7295918367346939,
          2.2505276992118386,
          5.756846967199105,
          10.651374604582667,
          13.779990523471408,
          13.661272552598792,
          11.410021845873027,
          8.391262132032626,
          5.433289941751308,
          3.062335558796292,
          1.5495839975266816,
          0.7674467069216043,
          0.3797836815105751,
          0.1878918071388641,
          0.09294639830802
         ],
         "xaxis": "x",
         "y": [
          0.7295918367346939,
          2.2455257886213187,
          6.114699332687713,
          8.967612942857993,
          9.798129336331556,
          9.160245552358052,
          7.825692360950826,
          6.24574292904454,
          4.419530858832851,
          3.1021730761000232,
          2.363134134427391,
          1.6962459243681927,
          1.0531857566391174,
          0.39390410638412077,
          0.3240610184719591
         ],
         "yaxis": "y"
        },
        {
         "legendgroup": "train_8",
         "mode": "markers",
         "name": "Run id in Train 8",
         "type": "scatter",
         "x": [
          0.6989795918367347,
          1.848104962271837,
          4.275239539329713,
          7.758151399559654,
          10.377011125677477,
          10.64641962815131,
          9.028929257551075,
          6.646146575884176,
          4.340519317462716,
          2.593373670872533,
          1.5281691419509686,
          0.8995307180450183,
          0.5295521527654201,
          0.311842208648604,
          0.1836859247616231
         ],
         "xaxis": "x",
         "y": [
          0.6989795918367347,
          2.1553000827519635,
          5.997970479559048,
          9.014841759406146,
          9.665889360965206,
          8.72361538193229,
          6.903689986332346,
          4.95529289663039,
          3.1006697015590707,
          2.1665822097805933,
          1.382347909106081,
          0.686306538062461,
          0.02212258903575362,
          -0.4403931100168913,
          -0.33519078593911134
         ],
         "yaxis": "y"
        },
        {
         "legendgroup": "train_9",
         "mode": "markers",
         "name": "Run id in Train 9",
         "type": "scatter",
         "x": [
          0.8418367346938775,
          2.2789376634822687,
          5.398066543095938,
          10.156482702407544,
          14.449290906131306,
          15.978352785495437,
          14.576748915106055,
          11.378259295196262,
          7.682741940655455,
          4.608446080818723,
          2.647979593740628,
          1.514662535836207,
          0.8649572065986112,
          0.4936224262432949,
          0.2816301431882249
         ],
         "xaxis": "x",
         "y": [
          0.8418367346938775,
          2.3292021794753883,
          6.132368229266089,
          8.869153612183421,
          9.912912699213834,
          9.682350955546031,
          8.559039070216187,
          7.134149151086008,
          5.404061860121318,
          4.255548803262749,
          3.323590501492696,
          2.534658636669811,
          1.8131260257763493,
          1.1051781806179342,
          0.5783275613682767
         ],
         "yaxis": "y"
        },
        {
         "legendgroup": "test_0",
         "mode": "markers",
         "name": "Run id in Test 0",
         "type": "scatter",
         "x": [
          0.9846938775510204,
          2.9249576819091097,
          7.444332832191713,
          14.420480064339324,
          20.57081333243489,
          23.12755137436929,
          22.33065010823708,
          19.648806069957416,
          16.31282380897557,
          13.028843938823911,
          10.102605608179564,
          7.629152917195547,
          5.731307831914585,
          4.294304959498489,
          3.2079190607230106
         ],
         "xaxis": "x2",
         "y": [
          0.9846938775510204,
          2.634901852103333,
          5.826859694692465,
          7.4699955733326915,
          8.413214393248738,
          8.893891660100273,
          8.562710771198129,
          7.754634778875922,
          6.56607771815876,
          5.0401782505393,
          3.8967856159870924,
          3.3175791761487763,
          2.778059948438831,
          2.239485280235592,
          1.7625826223681507
         ],
         "yaxis": "y2"
        },
        {
         "legendgroup": "test_1",
         "mode": "markers",
         "name": "Run id in Test 1",
         "type": "scatter",
         "x": [
          0.7602040816326531,
          1.9141143764556665,
          4.408003876496271,
          8.6231479106663,
          13.457148205276154,
          16.834281247208605,
          17.857446383705128,
          16.99522186258524,
          15.068785638787078,
          12.793489696074769,
          10.597325015932462,
          8.59544420181317,
          6.853541356095238,
          5.38786140727645,
          4.18265740274008
         ],
         "xaxis": "x2",
         "y": [
          0.7602040816326531,
          2.268356024107376,
          5.180504628454001,
          7.517639723146281,
          8.129590053445837,
          7.719667297745652,
          6.714743971138035,
          5.491144746390003,
          4.0405241271579735,
          3.192760677401339,
          2.4924764283983696,
          1.8856383648841308,
          1.3191665988519723,
          0.7538488745596018,
          0.6788510058442588
         ],
         "yaxis": "y2"
        },
        {
         "legendgroup": "test_2",
         "mode": "markers",
         "name": "Run id in Test 2",
         "type": "scatter",
         "x": [
          0.6377551020408163,
          1.7596767331437484,
          4.320048035023024,
          8.600099814712605,
          13.129010583057209,
          15.86887489530228,
          16.314060822920034,
          15.128350980501,
          13.118424032866182,
          10.845032804189962,
          8.611928610057822,
          6.721336704242177,
          5.249987862906268,
          4.091917406485745,
          3.180171977396879
         ],
         "xaxis": "x2",
         "y": [
          0.6377551020408163,
          2.024253527966257,
          4.539676380295365,
          6.375599569857594,
          7.016330969859161,
          7.272230557422465,
          6.826230101449796,
          6.075389129520034,
          4.953812955748423,
          3.759328765298147,
          3.1020742773018175,
          2.5373814514095803,
          2.0235991444128563,
          1.5195136805697238,
          1.2999287656690732
         ],
         "yaxis": "y2"
        },
        {
         "legendgroup": "test_3",
         "mode": "markers",
         "name": "Run id in Test 3",
         "type": "scatter",
         "x": [
          0.6683673469387755,
          1.8479761959252932,
          4.5642475791718695,
          9.101866917551046,
          13.763741305573545,
          16.39181066854337,
          16.588673250600085,
          15.121065257143862,
          12.880994022025028,
          10.494696740233676,
          8.276399606720522,
          6.112053610273055,
          3.960093130262047,
          2.557747831948446,
          1.6487988889593452
         ],
         "xaxis": "x2",
         "y": [
          0.6683673469387755,
          2.1801265860237478,
          5.191229566592078,
          7.690860377056992,
          8.060059732596361,
          7.453110264333321,
          6.333363066302057,
          4.9990453384670355,
          3.573980204619787,
          2.523681783404776,
          1.904283462443609,
          1.3446230396094954,
          0.8027657580285071,
          0.416410275355212,
          0.5077730530470964
         ],
         "yaxis": "y2"
        },
        {
         "legendgroup": "test_4",
         "mode": "markers",
         "name": "Run id in Test 4",
         "type": "scatter",
         "x": [
          0.8214285714285714,
          2.462338134351961,
          6.204794037706704,
          11.455830213030046,
          15.029129484664557,
          15.46330643203451,
          13.775109141164494,
          11.194697479273378,
          8.439502937137675,
          5.831525356659873,
          3.89278824381229,
          2.6769952754832365,
          1.8716034350620616,
          1.320869574866547,
          0.9373903299802034
         ],
         "xaxis": "x2",
         "y": [
          0.8214285714285714,
          2.0785845494483164,
          4.7950327259361485,
          7.055476589224004,
          8.01432302903019,
          7.668224663759772,
          6.633327470192229,
          5.321400911867731,
          3.7787887988264868,
          2.393787210735589,
          1.6906481360543928,
          1.071568807603932,
          0.49635861044055984,
          -0.0784471676482846,
          -0.5364307437156762
         ],
         "yaxis": "y2"
        },
        {
         "legendgroup": "test_5",
         "mode": "markers",
         "name": "Run id in Test 5",
         "type": "scatter",
         "x": [
          0.5357142857142857,
          1.68535612201013,
          4.750910857750842,
          10.527563515639322,
          16.384892612448336,
          18.71899028723027,
          17.642047191967187,
          14.84113370432232,
          11.547197993927814,
          8.368835642374764,
          5.550515941164199,
          3.400201224606473,
          2.123828050301551,
          1.3483571723438612,
          0.864549860389209
         ],
         "xaxis": "x2",
         "y": [
          0.5357142857142857,
          1.970191626633231,
          6.300149341903843,
          9.504495386014902,
          10.390573747420959,
          9.416904940886308,
          7.819088431839888,
          5.994651584968232,
          4.041393627541418,
          2.64041919484194,
          1.5868376371100374,
          0.9927477776005352,
          0.3866506776569102,
          -0.1499231701375757,
          -0.06068461541209244
         ],
         "yaxis": "y2"
        },
        {
         "legendgroup": "test_6",
         "mode": "markers",
         "name": "Run id in Test 6",
         "type": "scatter",
         "x": [
          0.9642857142857144,
          2.7309189004610017,
          6.496967810835099,
          11.712526422702096,
          15.86566984919472,
          17.518274325752582,
          17.049508108239532,
          15.339560792436927,
          13.11520485201357,
          10.836341627146137,
          8.748004765272608,
          6.940423704135373,
          5.421358011949733,
          4.157669835361252,
          3.027012159344149
         ],
         "xaxis": "x2",
         "y": [
          0.9642857142857144,
          2.7594122347721695,
          6.783016691363241,
          9.668409105081054,
          9.91920003848836,
          9.008205189466974,
          7.322284258391346,
          5.427712152417933,
          3.7046835059391516,
          2.477022831504535,
          1.7964341749146306,
          1.1626229914685602,
          0.5301712637303316,
          0.2489732484816122,
          0.48181078351076023
         ],
         "yaxis": "y2"
        },
        {
         "legendgroup": "test_7",
         "mode": "markers",
         "name": "Run id in Test 7",
         "type": "scatter",
         "x": [
          0.8622448979591837,
          2.331143803305513,
          5.496622671227072,
          10.20537730486747,
          14.299665039067758,
          15.96548171229209,
          15.372177818756573,
          13.498156448189532,
          11.164486041753278,
          8.850690795800881,
          6.801418450313421,
          5.185592772160354,
          3.932335026469168,
          2.9668846208042594,
          2.2290717204845274
         ],
         "xaxis": "x2",
         "y": [
          0.8622448979591837,
          2.456907220922771,
          5.019505370734987,
          7.097635501495039,
          7.344702013133882,
          6.947873611079143,
          6.013249444864081,
          4.859866560135825,
          3.519535201275844,
          2.5074246352500897,
          1.9200931593724782,
          1.393248724801787,
          0.8871087689223961,
          0.5049949979054068,
          0.5724424372115996
         ],
         "yaxis": "y2"
        },
        {
         "legendgroup": "test_8",
         "mode": "markers",
         "name": "Run id in Test 8",
         "type": "scatter",
         "x": [
          0.6275510204081632,
          1.966509895702454,
          5.4703296564633614,
          11.75929246310936,
          17.798476959757984,
          20.25767094292334,
          19.398185047268417,
          16.755642131725846,
          13.55094811108645,
          10.481962644716347,
          7.857313430365911,
          5.811171729991748,
          4.2584707583927095,
          3.0973636223609207,
          2.240048684169528
         ],
         "xaxis": "x2",
         "y": [
          0.6275510204081632,
          2.0821179993043057,
          6.371002191136143,
          9.599407641193217,
          9.994634698086315,
          9.058580481679925,
          7.1915956260836085,
          5.145953098127841,
          3.305630266667841,
          1.9927530361432637,
          1.3000157429568595,
          0.6536781720691144,
          0.007758405234959881,
          -0.23252222910371442,
          0.03424399325354757
         ],
         "yaxis": "y2"
        },
        {
         "legendgroup": "test_9",
         "mode": "markers",
         "name": "Run id in Test 9",
         "type": "scatter",
         "x": [
          0.8010204081632653,
          2.339410182422604,
          6.0419955584897975,
          12.429172992150209,
          19.0638331981036,
          22.700661141137463,
          22.85778892850325,
          20.76765902113485,
          17.695686246636583,
          14.451046918863232,
          11.429553184034148,
          8.81126297917751,
          6.767892149629804,
          5.174965627060598,
          3.937534851903999
         ],
         "xaxis": "x2",
         "y": [
          0.8010204081632653,
          2.0030780736783167,
          3.9559711819778394,
          5.237131789213213,
          6.036490505484956,
          6.896731221672025,
          7.509230005760355,
          7.326154997687232,
          6.768254145354981,
          5.770697016592405,
          4.261229964568348,
          3.562113376898552,
          2.977702743024786,
          2.4597139047676824,
          1.9658172326138803
         ],
         "yaxis": "y2"
        }
       ],
       "layout": {
        "annotations": [
         {
          "font": {
           "size": 16
          },
          "showarrow": false,
          "text": "Train Set - X:VCD <br> R^2 = 0.795 <br> Abs RMSE = 2.013 <br> Rel RMSE = 0.435",
          "x": 0.225,
          "xanchor": "center",
          "xref": "paper",
          "y": 1,
          "yanchor": "bottom",
          "yref": "paper"
         },
         {
          "font": {
           "size": 16
          },
          "showarrow": false,
          "text": "Test Set - X:VCD <br> R^2 = -0.186 <br> Abs RMSE = 6.409 <br> Rel RMSE = 1.039",
          "x": 0.775,
          "xanchor": "center",
          "xref": "paper",
          "y": 1,
          "yanchor": "bottom",
          "yref": "paper"
         }
        ],
        "shapes": [
         {
          "layer": "above",
          "line": {
           "dash": "dash"
          },
          "type": "line",
          "x0": -1.7607960183958575,
          "x1": 11.657079564833499,
          "y0": -1.7607960183958575,
          "y1": 11.657079564833499
         },
         {
          "layer": "above",
          "line": {
           "dash": "dash"
          },
          "type": "line",
          "x0": -0.5364307437156762,
          "x1": 10.390573747420959,
          "xref": "x2",
          "y0": -0.5364307437156762,
          "y1": 10.390573747420959,
          "yref": "y2"
         }
        ],
        "template": {
         "data": {
          "bar": [
           {
            "error_x": {
             "color": "#2a3f5f"
            },
            "error_y": {
             "color": "#2a3f5f"
            },
            "marker": {
             "line": {
              "color": "white",
              "width": 0.5
             },
             "pattern": {
              "fillmode": "overlay",
              "size": 10,
              "solidity": 0.2
             }
            },
            "type": "bar"
           }
          ],
          "barpolar": [
           {
            "marker": {
             "line": {
              "color": "white",
              "width": 0.5
             },
             "pattern": {
              "fillmode": "overlay",
              "size": 10,
              "solidity": 0.2
             }
            },
            "type": "barpolar"
           }
          ],
          "carpet": [
           {
            "aaxis": {
             "endlinecolor": "#2a3f5f",
             "gridcolor": "#C8D4E3",
             "linecolor": "#C8D4E3",
             "minorgridcolor": "#C8D4E3",
             "startlinecolor": "#2a3f5f"
            },
            "baxis": {
             "endlinecolor": "#2a3f5f",
             "gridcolor": "#C8D4E3",
             "linecolor": "#C8D4E3",
             "minorgridcolor": "#C8D4E3",
             "startlinecolor": "#2a3f5f"
            },
            "type": "carpet"
           }
          ],
          "choropleth": [
           {
            "colorbar": {
             "outlinewidth": 0,
             "ticks": ""
            },
            "type": "choropleth"
           }
          ],
          "contour": [
           {
            "colorbar": {
             "outlinewidth": 0,
             "ticks": ""
            },
            "colorscale": [
             [
              0,
              "#0d0887"
             ],
             [
              0.1111111111111111,
              "#46039f"
             ],
             [
              0.2222222222222222,
              "#7201a8"
             ],
             [
              0.3333333333333333,
              "#9c179e"
             ],
             [
              0.4444444444444444,
              "#bd3786"
             ],
             [
              0.5555555555555556,
              "#d8576b"
             ],
             [
              0.6666666666666666,
              "#ed7953"
             ],
             [
              0.7777777777777778,
              "#fb9f3a"
             ],
             [
              0.8888888888888888,
              "#fdca26"
             ],
             [
              1,
              "#f0f921"
             ]
            ],
            "type": "contour"
           }
          ],
          "contourcarpet": [
           {
            "colorbar": {
             "outlinewidth": 0,
             "ticks": ""
            },
            "type": "contourcarpet"
           }
          ],
          "heatmap": [
           {
            "colorbar": {
             "outlinewidth": 0,
             "ticks": ""
            },
            "colorscale": [
             [
              0,
              "#0d0887"
             ],
             [
              0.1111111111111111,
              "#46039f"
             ],
             [
              0.2222222222222222,
              "#7201a8"
             ],
             [
              0.3333333333333333,
              "#9c179e"
             ],
             [
              0.4444444444444444,
              "#bd3786"
             ],
             [
              0.5555555555555556,
              "#d8576b"
             ],
             [
              0.6666666666666666,
              "#ed7953"
             ],
             [
              0.7777777777777778,
              "#fb9f3a"
             ],
             [
              0.8888888888888888,
              "#fdca26"
             ],
             [
              1,
              "#f0f921"
             ]
            ],
            "type": "heatmap"
           }
          ],
          "heatmapgl": [
           {
            "colorbar": {
             "outlinewidth": 0,
             "ticks": ""
            },
            "colorscale": [
             [
              0,
              "#0d0887"
             ],
             [
              0.1111111111111111,
              "#46039f"
             ],
             [
              0.2222222222222222,
              "#7201a8"
             ],
             [
              0.3333333333333333,
              "#9c179e"
             ],
             [
              0.4444444444444444,
              "#bd3786"
             ],
             [
              0.5555555555555556,
              "#d8576b"
             ],
             [
              0.6666666666666666,
              "#ed7953"
             ],
             [
              0.7777777777777778,
              "#fb9f3a"
             ],
             [
              0.8888888888888888,
              "#fdca26"
             ],
             [
              1,
              "#f0f921"
             ]
            ],
            "type": "heatmapgl"
           }
          ],
          "histogram": [
           {
            "marker": {
             "pattern": {
              "fillmode": "overlay",
              "size": 10,
              "solidity": 0.2
             }
            },
            "type": "histogram"
           }
          ],
          "histogram2d": [
           {
            "colorbar": {
             "outlinewidth": 0,
             "ticks": ""
            },
            "colorscale": [
             [
              0,
              "#0d0887"
             ],
             [
              0.1111111111111111,
              "#46039f"
             ],
             [
              0.2222222222222222,
              "#7201a8"
             ],
             [
              0.3333333333333333,
              "#9c179e"
             ],
             [
              0.4444444444444444,
              "#bd3786"
             ],
             [
              0.5555555555555556,
              "#d8576b"
             ],
             [
              0.6666666666666666,
              "#ed7953"
             ],
             [
              0.7777777777777778,
              "#fb9f3a"
             ],
             [
              0.8888888888888888,
              "#fdca26"
             ],
             [
              1,
              "#f0f921"
             ]
            ],
            "type": "histogram2d"
           }
          ],
          "histogram2dcontour": [
           {
            "colorbar": {
             "outlinewidth": 0,
             "ticks": ""
            },
            "colorscale": [
             [
              0,
              "#0d0887"
             ],
             [
              0.1111111111111111,
              "#46039f"
             ],
             [
              0.2222222222222222,
              "#7201a8"
             ],
             [
              0.3333333333333333,
              "#9c179e"
             ],
             [
              0.4444444444444444,
              "#bd3786"
             ],
             [
              0.5555555555555556,
              "#d8576b"
             ],
             [
              0.6666666666666666,
              "#ed7953"
             ],
             [
              0.7777777777777778,
              "#fb9f3a"
             ],
             [
              0.8888888888888888,
              "#fdca26"
             ],
             [
              1,
              "#f0f921"
             ]
            ],
            "type": "histogram2dcontour"
           }
          ],
          "mesh3d": [
           {
            "colorbar": {
             "outlinewidth": 0,
             "ticks": ""
            },
            "type": "mesh3d"
           }
          ],
          "parcoords": [
           {
            "line": {
             "colorbar": {
              "outlinewidth": 0,
              "ticks": ""
             }
            },
            "type": "parcoords"
           }
          ],
          "pie": [
           {
            "automargin": true,
            "type": "pie"
           }
          ],
          "scatter": [
           {
            "fillpattern": {
             "fillmode": "overlay",
             "size": 10,
             "solidity": 0.2
            },
            "type": "scatter"
           }
          ],
          "scatter3d": [
           {
            "line": {
             "colorbar": {
              "outlinewidth": 0,
              "ticks": ""
             }
            },
            "marker": {
             "colorbar": {
              "outlinewidth": 0,
              "ticks": ""
             }
            },
            "type": "scatter3d"
           }
          ],
          "scattercarpet": [
           {
            "marker": {
             "colorbar": {
              "outlinewidth": 0,
              "ticks": ""
             }
            },
            "type": "scattercarpet"
           }
          ],
          "scattergeo": [
           {
            "marker": {
             "colorbar": {
              "outlinewidth": 0,
              "ticks": ""
             }
            },
            "type": "scattergeo"
           }
          ],
          "scattergl": [
           {
            "marker": {
             "colorbar": {
              "outlinewidth": 0,
              "ticks": ""
             }
            },
            "type": "scattergl"
           }
          ],
          "scattermapbox": [
           {
            "marker": {
             "colorbar": {
              "outlinewidth": 0,
              "ticks": ""
             }
            },
            "type": "scattermapbox"
           }
          ],
          "scatterpolar": [
           {
            "marker": {
             "colorbar": {
              "outlinewidth": 0,
              "ticks": ""
             }
            },
            "type": "scatterpolar"
           }
          ],
          "scatterpolargl": [
           {
            "marker": {
             "colorbar": {
              "outlinewidth": 0,
              "ticks": ""
             }
            },
            "type": "scatterpolargl"
           }
          ],
          "scatterternary": [
           {
            "marker": {
             "colorbar": {
              "outlinewidth": 0,
              "ticks": ""
             }
            },
            "type": "scatterternary"
           }
          ],
          "surface": [
           {
            "colorbar": {
             "outlinewidth": 0,
             "ticks": ""
            },
            "colorscale": [
             [
              0,
              "#0d0887"
             ],
             [
              0.1111111111111111,
              "#46039f"
             ],
             [
              0.2222222222222222,
              "#7201a8"
             ],
             [
              0.3333333333333333,
              "#9c179e"
             ],
             [
              0.4444444444444444,
              "#bd3786"
             ],
             [
              0.5555555555555556,
              "#d8576b"
             ],
             [
              0.6666666666666666,
              "#ed7953"
             ],
             [
              0.7777777777777778,
              "#fb9f3a"
             ],
             [
              0.8888888888888888,
              "#fdca26"
             ],
             [
              1,
              "#f0f921"
             ]
            ],
            "type": "surface"
           }
          ],
          "table": [
           {
            "cells": {
             "fill": {
              "color": "#EBF0F8"
             },
             "line": {
              "color": "white"
             }
            },
            "header": {
             "fill": {
              "color": "#C8D4E3"
             },
             "line": {
              "color": "white"
             }
            },
            "type": "table"
           }
          ]
         },
         "layout": {
          "annotationdefaults": {
           "arrowcolor": "#2a3f5f",
           "arrowhead": 0,
           "arrowwidth": 1
          },
          "autotypenumbers": "strict",
          "coloraxis": {
           "colorbar": {
            "outlinewidth": 0,
            "ticks": ""
           }
          },
          "colorscale": {
           "diverging": [
            [
             0,
             "#8e0152"
            ],
            [
             0.1,
             "#c51b7d"
            ],
            [
             0.2,
             "#de77ae"
            ],
            [
             0.3,
             "#f1b6da"
            ],
            [
             0.4,
             "#fde0ef"
            ],
            [
             0.5,
             "#f7f7f7"
            ],
            [
             0.6,
             "#e6f5d0"
            ],
            [
             0.7,
             "#b8e186"
            ],
            [
             0.8,
             "#7fbc41"
            ],
            [
             0.9,
             "#4d9221"
            ],
            [
             1,
             "#276419"
            ]
           ],
           "sequential": [
            [
             0,
             "#0d0887"
            ],
            [
             0.1111111111111111,
             "#46039f"
            ],
            [
             0.2222222222222222,
             "#7201a8"
            ],
            [
             0.3333333333333333,
             "#9c179e"
            ],
            [
             0.4444444444444444,
             "#bd3786"
            ],
            [
             0.5555555555555556,
             "#d8576b"
            ],
            [
             0.6666666666666666,
             "#ed7953"
            ],
            [
             0.7777777777777778,
             "#fb9f3a"
            ],
            [
             0.8888888888888888,
             "#fdca26"
            ],
            [
             1,
             "#f0f921"
            ]
           ],
           "sequentialminus": [
            [
             0,
             "#0d0887"
            ],
            [
             0.1111111111111111,
             "#46039f"
            ],
            [
             0.2222222222222222,
             "#7201a8"
            ],
            [
             0.3333333333333333,
             "#9c179e"
            ],
            [
             0.4444444444444444,
             "#bd3786"
            ],
            [
             0.5555555555555556,
             "#d8576b"
            ],
            [
             0.6666666666666666,
             "#ed7953"
            ],
            [
             0.7777777777777778,
             "#fb9f3a"
            ],
            [
             0.8888888888888888,
             "#fdca26"
            ],
            [
             1,
             "#f0f921"
            ]
           ]
          },
          "colorway": [
           "#636efa",
           "#EF553B",
           "#00cc96",
           "#ab63fa",
           "#FFA15A",
           "#19d3f3",
           "#FF6692",
           "#B6E880",
           "#FF97FF",
           "#FECB52"
          ],
          "font": {
           "color": "#2a3f5f"
          },
          "geo": {
           "bgcolor": "white",
           "lakecolor": "white",
           "landcolor": "white",
           "showlakes": true,
           "showland": true,
           "subunitcolor": "#C8D4E3"
          },
          "hoverlabel": {
           "align": "left"
          },
          "hovermode": "closest",
          "mapbox": {
           "style": "light"
          },
          "paper_bgcolor": "white",
          "plot_bgcolor": "white",
          "polar": {
           "angularaxis": {
            "gridcolor": "#EBF0F8",
            "linecolor": "#EBF0F8",
            "ticks": ""
           },
           "bgcolor": "white",
           "radialaxis": {
            "gridcolor": "#EBF0F8",
            "linecolor": "#EBF0F8",
            "ticks": ""
           }
          },
          "scene": {
           "xaxis": {
            "backgroundcolor": "white",
            "gridcolor": "#DFE8F3",
            "gridwidth": 2,
            "linecolor": "#EBF0F8",
            "showbackground": true,
            "ticks": "",
            "zerolinecolor": "#EBF0F8"
           },
           "yaxis": {
            "backgroundcolor": "white",
            "gridcolor": "#DFE8F3",
            "gridwidth": 2,
            "linecolor": "#EBF0F8",
            "showbackground": true,
            "ticks": "",
            "zerolinecolor": "#EBF0F8"
           },
           "zaxis": {
            "backgroundcolor": "white",
            "gridcolor": "#DFE8F3",
            "gridwidth": 2,
            "linecolor": "#EBF0F8",
            "showbackground": true,
            "ticks": "",
            "zerolinecolor": "#EBF0F8"
           }
          },
          "shapedefaults": {
           "line": {
            "color": "#2a3f5f"
           }
          },
          "ternary": {
           "aaxis": {
            "gridcolor": "#DFE8F3",
            "linecolor": "#A2B1C6",
            "ticks": ""
           },
           "baxis": {
            "gridcolor": "#DFE8F3",
            "linecolor": "#A2B1C6",
            "ticks": ""
           },
           "bgcolor": "white",
           "caxis": {
            "gridcolor": "#DFE8F3",
            "linecolor": "#A2B1C6",
            "ticks": ""
           }
          },
          "title": {
           "x": 0.05
          },
          "xaxis": {
           "automargin": true,
           "gridcolor": "#EBF0F8",
           "linecolor": "#EBF0F8",
           "ticks": "",
           "title": {
            "standoff": 15
           },
           "zerolinecolor": "#EBF0F8",
           "zerolinewidth": 2
          },
          "yaxis": {
           "automargin": true,
           "gridcolor": "#EBF0F8",
           "linecolor": "#EBF0F8",
           "ticks": "",
           "title": {
            "standoff": 15
           },
           "zerolinecolor": "#EBF0F8",
           "zerolinewidth": 2
          }
         }
        },
        "width": 1600,
        "xaxis": {
         "anchor": "y",
         "domain": [
          0,
          0.45
         ],
         "title": {
          "text": "Observed values"
         }
        },
        "xaxis2": {
         "anchor": "y2",
         "domain": [
          0.55,
          1
         ],
         "title": {
          "text": "Observed values"
         }
        },
        "yaxis": {
         "anchor": "x",
         "domain": [
          0,
          1
         ],
         "title": {
          "text": "Predicted values"
         }
        },
        "yaxis2": {
         "anchor": "x2",
         "domain": [
          0,
          1
         ],
         "title": {
          "text": "Predicted values"
         }
        }
       }
      }
     },
     "metadata": {},
     "output_type": "display_data"
    },
    {
     "data": {
      "application/vnd.plotly.v1+json": {
       "config": {
        "plotlyServerURL": "https://plot.ly"
       },
       "data": [
        {
         "legendgroup": "train_0",
         "mode": "markers",
         "name": "Run id in Train 0",
         "type": "scatter",
         "x": [
          34.48979591836735,
          33.497759773117764,
          39.18158379968747,
          50.62009499710431,
          58.67865561216076,
          64.50229474124312,
          70.31266186967268,
          77.9143661034886,
          88.10689900312666,
          100.73117479331908,
          115.08564001033828,
          125.8969576070251,
          125.23197031699696,
          124.87737539599864,
          124.68877246718952
         ],
         "xaxis": "x",
         "y": [
          34.48979591836735,
          17.1885668537242,
          14.560813628450491,
          18.083830155075745,
          23.549214351487997,
          30.76812691202074,
          38.99903565844784,
          48.62931726450309,
          59.84570010105922,
          73.15800049254615,
          89.15994060406514,
          107.79008544024394,
          130.13103323323938,
          156.44606093769843,
          187.23559801715226
         ],
         "yaxis": "y"
        },
        {
         "legendgroup": "train_1",
         "mode": "markers",
         "name": "Run id in Train 1",
         "type": "scatter",
         "x": [
          32.857142857142854,
          31.895276825078454,
          29.523755023926796,
          43.45365774211284,
          53.37801483606592,
          59.70360012988135,
          64.5923317260211,
          70.44512271860509,
          78.85933822620683,
          90.44847284105865,
          104.8797826290292,
          119.53418654560204,
          118.04401028491286,
          117.22054934864067,
          116.76720197022738
         ],
         "xaxis": "x",
         "y": [
          32.857142857142854,
          16.66111926963511,
          14.091111189871807,
          17.46898241161706,
          22.181373065636485,
          29.18170003752448,
          37.17419171515733,
          46.41433773500862,
          57.177954215810104,
          69.73399799014885,
          84.87276281444524,
          102.61800016629785,
          123.98470574273348,
          149.13988143069574,
          178.6309010693273
         ],
         "yaxis": "y"
        },
        {
         "legendgroup": "train_2",
         "mode": "markers",
         "name": "Run id in Train 2",
         "type": "scatter",
         "x": [
          40.20408163265306,
          39.3106253406875,
          36.83461707271391,
          41.29851545118337,
          51.58422234292109,
          59.42037843500661,
          67.24029203773658,
          77.00259730155591,
          89.6529978703625,
          105.02858325349617,
          122.29644922822447,
          128.01353314088,
          127.30657682739415,
          126.92861071812789,
          126.72696474831358
         ],
         "xaxis": "x",
         "y": [
          40.20408163265306,
          20.553315277355264,
          18.180978029381752,
          21.576623583832188,
          28.17514730918926,
          36.67913109061172,
          46.319124995212455,
          57.74787581857229,
          70.85169562656756,
          86.45147605967047,
          105.20543870041197,
          127.0677952791773,
          153.30048662104994,
          184.17540061283083,
          220.18714346760646
         ],
         "yaxis": "y"
        },
        {
         "legendgroup": "train_3",
         "mode": "markers",
         "name": "Run id in Train 3",
         "type": "scatter",
         "x": [
          66.3265306122449,
          64.9018084421659,
          74.46646692324572,
          82.75195820225221,
          88.4608121252639,
          94.35032349278424,
          102.35264420922908,
          112.78820578337243,
          125.13254274305396,
          124.74568445028515,
          123.70828935213474,
          123.11833121458756,
          122.78502933027806,
          122.59740576605402,
          122.49199994699929
         ],
         "xaxis": "x",
         "y": [
          66.3265306122449,
          30.81512429582808,
          28.987967083573828,
          35.85830012372093,
          47.417977886090114,
          61.04765116947943,
          76.94814701921331,
          95.35836501997338,
          116.93565676800529,
          142.42340190458256,
          173.27656462573387,
          209.26833072328517,
          251.58287914798095,
          301.06491516209917,
          358.1324936324997
         ],
         "yaxis": "y"
        },
        {
         "legendgroup": "train_4",
         "mode": "markers",
         "name": "Run id in Train 4",
         "type": "scatter",
         "x": [
          54.08163265306122,
          52.32453548724165,
          48.00670790060231,
          52.80978895442207,
          59.67166365361268,
          64.36116287789906,
          69.78971877901188,
          77.9393717582966,
          89.59672510578096,
          94.88781273549858,
          91.9609809279264,
          90.2743358499412,
          89.30079949433396,
          88.73790326458321,
          88.41203209326693
         ],
         "xaxis": "x",
         "y": [
          54.08163265306122,
          26.743578571194643,
          25.25464030476784,
          29.708175796265884,
          39.12978711217559,
          50.28573360714808,
          63.275680098251236,
          78.808333703528,
          96.33198763250813,
          117.41375987564446,
          142.68531505414515,
          172.7765830446436,
          208.1118598117163,
          249.2611308614556,
          296.9186064988209
         ],
         "yaxis": "y"
        },
        {
         "legendgroup": "train_5",
         "mode": "markers",
         "name": "Run id in Train 5",
         "type": "scatter",
         "x": [
          55.71428571428572,
          54.04229265312258,
          50.19044815252949,
          56.66345377265392,
          62.94630603076002,
          67.36240093890267,
          72.50080654941964,
          80.1355041391731,
          90.8600281640686,
          99.09780809177174,
          96.82391152015649,
          95.56174721339072,
          94.86342162097333,
          94.47756919225226,
          94.2645083447324
         ],
         "xaxis": "x",
         "y": [
          55.71428571428572,
          26.84786877320236,
          25.665316063361452,
          30.553796810062984,
          40.2151016013119,
          51.6567496820865,
          65.09422282622015,
          80.9361909117381,
          99.02225200532108,
          120.67642000949816,
          146.8312072122916,
          177.70766239853316,
          213.78590443758353,
          255.97747895930928,
          304.8057884525919
         ],
         "yaxis": "y"
        },
        {
         "legendgroup": "train_6",
         "mode": "markers",
         "name": "Run id in Train 6",
         "type": "scatter",
         "x": [
          67.14285714285714,
          65.72262111008826,
          62.33899756102318,
          55.86087499300016,
          63.63048603140288,
          68.5499478631087,
          73.3580779196577,
          80.30501123095608,
          90.44056467752864,
          103.65677129603148,
          119.15240642675616,
          133.19526386484125,
          132.09349753140145,
          131.47324993444937,
          131.12522304466037
         ],
         "xaxis": "x",
         "y": [
          67.14285714285714,
          31.99854861571213,
          30.87788404671144,
          36.66109902587479,
          48.229623207845556,
          61.946852767014924,
          78.09845050794743,
          97.00869310424842,
          118.83524092838238,
          145.3474511493358,
          175.9991163796956,
          212.72198441952685,
          255.8228282361276,
          306.25459103505915,
          364.6538545766358
         ],
         "yaxis": "y"
        },
        {
         "legendgroup": "train_7",
         "mode": "markers",
         "name": "Run id in Train 7",
         "type": "scatter",
         "x": [
          56.53061224489796,
          55.32956552576817,
          51.96887747098334,
          55.45175427907439,
          58.64166030227109,
          60.52459420873051,
          63.5659352103408,
          69.0079158344245,
          77.12764839367868,
          87.62684618186968,
          95.35728979796336,
          94.37636391008608,
          93.89075940271,
          93.6504884837088,
          93.53162545237578
         ],
         "xaxis": "x",
         "y": [
          56.53061224489796,
          26.53835485688554,
          25.599343666586932,
          30.71167674793372,
          40.446897375671334,
          52.06096239437052,
          65.64527177034482,
          81.46834823768951,
          99.99423262207148,
          122.26540059269193,
          148.21980493969693,
          179.15469011888013,
          215.44810540014558,
          257.90844799321934,
          307.07479366727523
         ],
         "yaxis": "y"
        },
        {
         "legendgroup": "train_8",
         "mode": "markers",
         "name": "Run id in Train 8",
         "type": "scatter",
         "x": [
          57.3469387755102,
          56.26328141499867,
          61.11818356473742,
          67.19682852618769,
          70.32245701569198,
          72.10170042398552,
          74.576588215411,
          78.95127698119116,
          85.50870626123897,
          87.70211038857562,
          85.86798924811929,
          84.78793917261947,
          84.1521917968171,
          83.77787674575289,
          83.55742278372415
         ],
         "xaxis": "x",
         "y": [
          57.3469387755102,
          26.29348232056205,
          24.616694055343714,
          30.86455369071178,
          40.83842736305873,
          52.612199187794616,
          66.27536034695059,
          82.08357494683113,
          100.91712679761817,
          123.00024044024646,
          149.5784993691403,
          180.66163766873115,
          217.19133037676752,
          259.9213531014352,
          309.2698661330173
         ],
         "yaxis": "y"
        },
        {
         "legendgroup": "train_9",
         "mode": "markers",
         "name": "Run id in Train 9",
         "type": "scatter",
         "x": [
          54.89795918367347,
          53.83097725200842,
          51.135170054284416,
          48.65346404036791,
          56.75047501717443,
          62.62869783627702,
          68.50787888685004,
          76.15521464524201,
          86.41064303572327,
          98.32486114462506,
          95.72525521914292,
          94.23513508473134,
          93.3835594751364,
          92.89742769084626,
          92.62003538179069
         ],
         "xaxis": "x",
         "y": [
          54.89795918367347,
          26.6226688911972,
          25.47804569334205,
          30.221719266293817,
          39.68204128596389,
          50.97192870140818,
          64.21783028611054,
          79.83505806109571,
          97.66290680412902,
          118.98362066258048,
          144.77033559913394,
          175.21216869870526,
          210.80891508040742,
          252.40959854565017,
          300.6335795448525
         ],
         "yaxis": "y"
        },
        {
         "legendgroup": "test_0",
         "mode": "markers",
         "name": "Run id in Test 0",
         "type": "scatter",
         "x": [
          43.46938775510204,
          42.11575103737883,
          38.40470745766825,
          34.28104672448483,
          36.13270037292429,
          34.63344313923112,
          32.55252740419164,
          31.875483763746413,
          33.52447895437812,
          37.694658596943526,
          44.21209863405196,
          45.78852821788307,
          40.788789446857486,
          37.03759971276014,
          34.231330813861874
         ],
         "xaxis": "x2",
         "y": [
          43.46938775510204,
          21.145057921322266,
          19.453942062621323,
          23.31592799437137,
          30.84439979281658,
          39.77857227709288,
          50.1553056070351,
          62.52625646052205,
          76.73629458100994,
          93.92331804785285,
          114.12439144919837,
          137.86565597424544,
          166.21472424012708,
          199.24710132946566,
          237.66886323095179
         ],
         "yaxis": "y2"
        },
        {
         "legendgroup": "test_1",
         "mode": "markers",
         "name": "Run id in Test 1",
         "type": "scatter",
         "x": [
          45.91836734693878,
          44.93535705335225,
          45.34454371167346,
          51.66956589718001,
          54.3222189193982,
          53.64426667599316,
          51.24210526598327,
          48.83005687873178,
          47.56068327676123,
          39.08302910973476,
          29.94038322346193,
          22.44987114558976,
          16.430036262308974,
          11.668327985152208,
          7.95349374597405
         ],
         "xaxis": "x2",
         "y": [
          45.91836734693878,
          21.495444019086644,
          19.644343726467287,
          24.723256369164595,
          32.63099251201429,
          42.06617936276055,
          53.0715597481337,
          65.9057699618905,
          80.93500010272159,
          98.58446065328356,
          120.13673449837113,
          145.24489338004173,
          174.7077648926501,
          209.1747832708735,
          249.1131533550777
         ],
         "yaxis": "y2"
        },
        {
         "legendgroup": "test_2",
         "mode": "markers",
         "name": "Run id in Test 2",
         "type": "scatter",
         "x": [
          39.38775510204081,
          38.5280407408776,
          38.7311595156132,
          45.76285698062254,
          49.24196581704296,
          49.81892064072007,
          49.184687689797485,
          48.89258013831316,
          49.88107629463944,
          52.55198518790212,
          56.8557322124684,
          50.96007068131026,
          46.35555553595123,
          42.76260751556799,
          39.96626373139646
         ],
         "xaxis": "x2",
         "y": [
          39.38775510204081,
          18.653617041011948,
          16.381699659749387,
          20.816139125689674,
          27.51767478262061,
          35.52132593335385,
          44.8485045902533,
          55.94471066361221,
          68.7978286068328,
          84.30001823258901,
          102.24933968822104,
          123.90275322638931,
          149.33873503510236,
          178.96402744902483,
          213.4524348331191
         ],
         "yaxis": "y2"
        },
        {
         "legendgroup": "test_3",
         "mode": "markers",
         "name": "Run id in Test 3",
         "type": "scatter",
         "x": [
          48.36734693877551,
          47.04285822396751,
          49.47633429246047,
          52.15436152007848,
          49.36912447968168,
          42.317330231004384,
          33.707503700984184,
          25.915780610616988,
          20.30896088097011,
          17.375999828551723,
          7.512392125109961,
          0.000005549966366497421,
          -1.1635971826234836e-8,
          -7.551679343443506e-10,
          5.42590117253555e-10
         ],
         "xaxis": "x2",
         "y": [
          48.36734693877551,
          22.22135928001682,
          20.357495550808423,
          25.827285756255765,
          34.13279643538589,
          44.09613235367799,
          55.58464767174243,
          68.99025537343134,
          84.87992592506045,
          103.75043818413346,
          125.97931809775311,
          152.20861214527355,
          183.06162129850978,
          219.1586277891769,
          260.9519264398335
         ],
         "yaxis": "y2"
        },
        {
         "legendgroup": "test_4",
         "mode": "markers",
         "name": "Run id in Test 4",
         "type": "scatter",
         "x": [
          46.734693877551024,
          44.99290263409152,
          55.71392075823843,
          61.33985969413218,
          61.56527277561326,
          59.50002768365175,
          58.29518530186981,
          59.65002766372735,
          64.13123970145408,
          71.72899291203933,
          66.36797709905878,
          62.62435211663696,
          60.027913453442245,
          58.20387118444934,
          56.91292005668433
         ],
         "xaxis": "x2",
         "y": [
          46.734693877551024,
          22.38054651340601,
          19.797872354956862,
          24.88697698877458,
          32.94878463962507,
          42.456027212028516,
          53.494244431082585,
          66.75159537324716,
          81.78902130785015,
          100.22815850754957,
          121.47478178245863,
          147.1692408131239,
          177.3267966388786,
          212.47916127268007,
          253.18544474382367
         ],
         "yaxis": "y2"
        },
        {
         "legendgroup": "test_5",
         "mode": "markers",
         "name": "Run id in Test 5",
         "type": "scatter",
         "x": [
          61.42857142857143,
          60.50079410755882,
          57.7416721465118,
          63.15057974853251,
          64.57604262224581,
          62.09198760634006,
          59.14814915273872,
          58.11012565652759,
          59.9433480996893,
          64.7820145618766,
          72.39096715444906,
          72.48911688464071,
          69.99775447415446,
          68.42884724712913,
          67.42783305213658
         ],
         "xaxis": "x2",
         "y": [
          61.42857142857143,
          28.539048318679754,
          27.660390826868138,
          33.2585564046309,
          43.798216571961184,
          56.43767257404214,
          71.14114446797417,
          88.20652515838144,
          108.34613205953286,
          132.3589106829246,
          160.3806054317759,
          193.8048462246103,
          233.0216375520665,
          278.90837054752757,
          331.99931784669366
         ],
         "yaxis": "y2"
        },
        {
         "legendgroup": "test_6",
         "mode": "markers",
         "name": "Run id in Test 6",
         "type": "scatter",
         "x": [
          60.61224489795919,
          58.91820688373571,
          54.967944586112615,
          56.504120407833305,
          53.20133675298614,
          47.006106393559286,
          40.2969979363268,
          34.73770111132932,
          31.173384146301327,
          29.862540320253835,
          21.60893411956609,
          13.894199054079715,
          7.830610064693132,
          3.1559468428018,
          0.0010337156919927
         ],
         "xaxis": "x2",
         "y": [
          60.61224489795919,
          27.57001250140726,
          25.889443149975193,
          32.64571333458135,
          43.26484503681425,
          55.629378640452224,
          70.05285770797072,
          86.699810755339,
          106.63739049926889,
          130.06748791480518,
          157.93356350120033,
          190.72337532762947,
          229.23412401958385,
          274.28720883211673,
          326.35437424382263
         ],
         "yaxis": "y2"
        },
        {
         "legendgroup": "test_7",
         "mode": "markers",
         "name": "Run id in Test 7",
         "type": "scatter",
         "x": [
          44.285714285714285,
          43.091730416232096,
          49.56742116592375,
          53.41855175443676,
          53.56105683162421,
          51.3427427140427,
          48.75151084812984,
          47.21647080029135,
          47.41291358220813,
          49.4956375243666,
          48.292322180351455,
          43.51040815227347,
          39.87424357386649,
          37.12396685800291,
          35.05341744703701
         ],
         "xaxis": "x2",
         "y": [
          44.285714285714285,
          20.28862724402797,
          18.229941650601024,
          23.394640762748548,
          31.018246629197264,
          40.1234115039463,
          50.627071402014565,
          62.95621385711276,
          77.5014070511278,
          94.85696146938191,
          115.16817198742206,
          139.2922049625105,
          167.59846548661548,
          200.714288619404,
          239.0786018229617
         ],
         "yaxis": "y2"
        },
        {
         "legendgroup": "test_8",
         "mode": "markers",
         "name": "Run id in Test 8",
         "type": "scatter",
         "x": [
          62.24489795918368,
          61.21776604301599,
          61.68839208761704,
          65.04382305329295,
          62.69758511158651,
          56.54852620466132,
          49.80711194765001,
          44.700101045224585,
          42.2095427249079,
          42.48465618101904,
          41.20803831131787,
          35.297389599090664,
          30.946368717426356,
          27.770291957174603,
          25.467113925770228
         ],
         "xaxis": "x2",
         "y": [
          62.24489795918368,
          28.246111458705876,
          26.58089598754088,
          33.3965610446544,
          44.252391905569596,
          56.918690753448146,
          71.6878554871202,
          88.751987267018,
          109.18412980390205,
          133.19418158970737,
          161.73770963507116,
          195.32408567719978,
          234.7767995388575,
          280.9307065009932,
          334.25622771625984
         ],
         "yaxis": "y2"
        },
        {
         "legendgroup": "test_9",
         "mode": "markers",
         "name": "Run id in Test 9",
         "type": "scatter",
         "x": [
          31.22448979591837,
          29.86833180785049,
          27.658387185172973,
          37.619533430058816,
          41.16323693589936,
          39.72372431065216,
          36.56691320199399,
          34.4317618023923,
          34.8034920745417,
          38.185121525710215,
          44.52533300483191,
          42.78968564912638,
          35.513688469230864,
          29.937750335245543,
          25.685477735236184
         ],
         "xaxis": "x2",
         "y": [
          31.22448979591837,
          15.776924312572797,
          13.381594642092775,
          16.691328925107264,
          21.03077058321321,
          27.665681727400518,
          35.29011066363383,
          44.069043820253995,
          54.31644559989641,
          66.24364810425067,
          80.63605404292525,
          97.51721776529943,
          117.84651497298034,
          141.7741556257583,
          169.83258882406315
         ],
         "yaxis": "y2"
        }
       ],
       "layout": {
        "annotations": [
         {
          "font": {
           "size": 16
          },
          "showarrow": false,
          "text": "Train Set - X:Glc <br> R^2 = -17.467 <br> Abs RMSE = 67.996 <br> Rel RMSE = 2.568",
          "x": 0.225,
          "xanchor": "center",
          "xref": "paper",
          "y": 1,
          "yanchor": "bottom",
          "yref": "paper"
         },
         {
          "font": {
           "size": 16
          },
          "showarrow": false,
          "text": "Test Set - X:Glc <br> R^2 = -173.355 <br> Abs RMSE = 96.789 <br> Rel RMSE = 5.965",
          "x": 0.775,
          "xanchor": "center",
          "xref": "paper",
          "y": 1,
          "yanchor": "bottom",
          "yref": "paper"
         }
        ],
        "shapes": [
         {
          "layer": "above",
          "line": {
           "dash": "dash"
          },
          "type": "line",
          "x0": 14.091111189871807,
          "x1": 364.6538545766358,
          "y0": 14.091111189871807,
          "y1": 364.6538545766358
         },
         {
          "layer": "above",
          "line": {
           "dash": "dash"
          },
          "type": "line",
          "x0": 13.381594642092775,
          "x1": 334.25622771625984,
          "xref": "x2",
          "y0": 13.381594642092775,
          "y1": 334.25622771625984,
          "yref": "y2"
         }
        ],
        "template": {
         "data": {
          "bar": [
           {
            "error_x": {
             "color": "#2a3f5f"
            },
            "error_y": {
             "color": "#2a3f5f"
            },
            "marker": {
             "line": {
              "color": "white",
              "width": 0.5
             },
             "pattern": {
              "fillmode": "overlay",
              "size": 10,
              "solidity": 0.2
             }
            },
            "type": "bar"
           }
          ],
          "barpolar": [
           {
            "marker": {
             "line": {
              "color": "white",
              "width": 0.5
             },
             "pattern": {
              "fillmode": "overlay",
              "size": 10,
              "solidity": 0.2
             }
            },
            "type": "barpolar"
           }
          ],
          "carpet": [
           {
            "aaxis": {
             "endlinecolor": "#2a3f5f",
             "gridcolor": "#C8D4E3",
             "linecolor": "#C8D4E3",
             "minorgridcolor": "#C8D4E3",
             "startlinecolor": "#2a3f5f"
            },
            "baxis": {
             "endlinecolor": "#2a3f5f",
             "gridcolor": "#C8D4E3",
             "linecolor": "#C8D4E3",
             "minorgridcolor": "#C8D4E3",
             "startlinecolor": "#2a3f5f"
            },
            "type": "carpet"
           }
          ],
          "choropleth": [
           {
            "colorbar": {
             "outlinewidth": 0,
             "ticks": ""
            },
            "type": "choropleth"
           }
          ],
          "contour": [
           {
            "colorbar": {
             "outlinewidth": 0,
             "ticks": ""
            },
            "colorscale": [
             [
              0,
              "#0d0887"
             ],
             [
              0.1111111111111111,
              "#46039f"
             ],
             [
              0.2222222222222222,
              "#7201a8"
             ],
             [
              0.3333333333333333,
              "#9c179e"
             ],
             [
              0.4444444444444444,
              "#bd3786"
             ],
             [
              0.5555555555555556,
              "#d8576b"
             ],
             [
              0.6666666666666666,
              "#ed7953"
             ],
             [
              0.7777777777777778,
              "#fb9f3a"
             ],
             [
              0.8888888888888888,
              "#fdca26"
             ],
             [
              1,
              "#f0f921"
             ]
            ],
            "type": "contour"
           }
          ],
          "contourcarpet": [
           {
            "colorbar": {
             "outlinewidth": 0,
             "ticks": ""
            },
            "type": "contourcarpet"
           }
          ],
          "heatmap": [
           {
            "colorbar": {
             "outlinewidth": 0,
             "ticks": ""
            },
            "colorscale": [
             [
              0,
              "#0d0887"
             ],
             [
              0.1111111111111111,
              "#46039f"
             ],
             [
              0.2222222222222222,
              "#7201a8"
             ],
             [
              0.3333333333333333,
              "#9c179e"
             ],
             [
              0.4444444444444444,
              "#bd3786"
             ],
             [
              0.5555555555555556,
              "#d8576b"
             ],
             [
              0.6666666666666666,
              "#ed7953"
             ],
             [
              0.7777777777777778,
              "#fb9f3a"
             ],
             [
              0.8888888888888888,
              "#fdca26"
             ],
             [
              1,
              "#f0f921"
             ]
            ],
            "type": "heatmap"
           }
          ],
          "heatmapgl": [
           {
            "colorbar": {
             "outlinewidth": 0,
             "ticks": ""
            },
            "colorscale": [
             [
              0,
              "#0d0887"
             ],
             [
              0.1111111111111111,
              "#46039f"
             ],
             [
              0.2222222222222222,
              "#7201a8"
             ],
             [
              0.3333333333333333,
              "#9c179e"
             ],
             [
              0.4444444444444444,
              "#bd3786"
             ],
             [
              0.5555555555555556,
              "#d8576b"
             ],
             [
              0.6666666666666666,
              "#ed7953"
             ],
             [
              0.7777777777777778,
              "#fb9f3a"
             ],
             [
              0.8888888888888888,
              "#fdca26"
             ],
             [
              1,
              "#f0f921"
             ]
            ],
            "type": "heatmapgl"
           }
          ],
          "histogram": [
           {
            "marker": {
             "pattern": {
              "fillmode": "overlay",
              "size": 10,
              "solidity": 0.2
             }
            },
            "type": "histogram"
           }
          ],
          "histogram2d": [
           {
            "colorbar": {
             "outlinewidth": 0,
             "ticks": ""
            },
            "colorscale": [
             [
              0,
              "#0d0887"
             ],
             [
              0.1111111111111111,
              "#46039f"
             ],
             [
              0.2222222222222222,
              "#7201a8"
             ],
             [
              0.3333333333333333,
              "#9c179e"
             ],
             [
              0.4444444444444444,
              "#bd3786"
             ],
             [
              0.5555555555555556,
              "#d8576b"
             ],
             [
              0.6666666666666666,
              "#ed7953"
             ],
             [
              0.7777777777777778,
              "#fb9f3a"
             ],
             [
              0.8888888888888888,
              "#fdca26"
             ],
             [
              1,
              "#f0f921"
             ]
            ],
            "type": "histogram2d"
           }
          ],
          "histogram2dcontour": [
           {
            "colorbar": {
             "outlinewidth": 0,
             "ticks": ""
            },
            "colorscale": [
             [
              0,
              "#0d0887"
             ],
             [
              0.1111111111111111,
              "#46039f"
             ],
             [
              0.2222222222222222,
              "#7201a8"
             ],
             [
              0.3333333333333333,
              "#9c179e"
             ],
             [
              0.4444444444444444,
              "#bd3786"
             ],
             [
              0.5555555555555556,
              "#d8576b"
             ],
             [
              0.6666666666666666,
              "#ed7953"
             ],
             [
              0.7777777777777778,
              "#fb9f3a"
             ],
             [
              0.8888888888888888,
              "#fdca26"
             ],
             [
              1,
              "#f0f921"
             ]
            ],
            "type": "histogram2dcontour"
           }
          ],
          "mesh3d": [
           {
            "colorbar": {
             "outlinewidth": 0,
             "ticks": ""
            },
            "type": "mesh3d"
           }
          ],
          "parcoords": [
           {
            "line": {
             "colorbar": {
              "outlinewidth": 0,
              "ticks": ""
             }
            },
            "type": "parcoords"
           }
          ],
          "pie": [
           {
            "automargin": true,
            "type": "pie"
           }
          ],
          "scatter": [
           {
            "fillpattern": {
             "fillmode": "overlay",
             "size": 10,
             "solidity": 0.2
            },
            "type": "scatter"
           }
          ],
          "scatter3d": [
           {
            "line": {
             "colorbar": {
              "outlinewidth": 0,
              "ticks": ""
             }
            },
            "marker": {
             "colorbar": {
              "outlinewidth": 0,
              "ticks": ""
             }
            },
            "type": "scatter3d"
           }
          ],
          "scattercarpet": [
           {
            "marker": {
             "colorbar": {
              "outlinewidth": 0,
              "ticks": ""
             }
            },
            "type": "scattercarpet"
           }
          ],
          "scattergeo": [
           {
            "marker": {
             "colorbar": {
              "outlinewidth": 0,
              "ticks": ""
             }
            },
            "type": "scattergeo"
           }
          ],
          "scattergl": [
           {
            "marker": {
             "colorbar": {
              "outlinewidth": 0,
              "ticks": ""
             }
            },
            "type": "scattergl"
           }
          ],
          "scattermapbox": [
           {
            "marker": {
             "colorbar": {
              "outlinewidth": 0,
              "ticks": ""
             }
            },
            "type": "scattermapbox"
           }
          ],
          "scatterpolar": [
           {
            "marker": {
             "colorbar": {
              "outlinewidth": 0,
              "ticks": ""
             }
            },
            "type": "scatterpolar"
           }
          ],
          "scatterpolargl": [
           {
            "marker": {
             "colorbar": {
              "outlinewidth": 0,
              "ticks": ""
             }
            },
            "type": "scatterpolargl"
           }
          ],
          "scatterternary": [
           {
            "marker": {
             "colorbar": {
              "outlinewidth": 0,
              "ticks": ""
             }
            },
            "type": "scatterternary"
           }
          ],
          "surface": [
           {
            "colorbar": {
             "outlinewidth": 0,
             "ticks": ""
            },
            "colorscale": [
             [
              0,
              "#0d0887"
             ],
             [
              0.1111111111111111,
              "#46039f"
             ],
             [
              0.2222222222222222,
              "#7201a8"
             ],
             [
              0.3333333333333333,
              "#9c179e"
             ],
             [
              0.4444444444444444,
              "#bd3786"
             ],
             [
              0.5555555555555556,
              "#d8576b"
             ],
             [
              0.6666666666666666,
              "#ed7953"
             ],
             [
              0.7777777777777778,
              "#fb9f3a"
             ],
             [
              0.8888888888888888,
              "#fdca26"
             ],
             [
              1,
              "#f0f921"
             ]
            ],
            "type": "surface"
           }
          ],
          "table": [
           {
            "cells": {
             "fill": {
              "color": "#EBF0F8"
             },
             "line": {
              "color": "white"
             }
            },
            "header": {
             "fill": {
              "color": "#C8D4E3"
             },
             "line": {
              "color": "white"
             }
            },
            "type": "table"
           }
          ]
         },
         "layout": {
          "annotationdefaults": {
           "arrowcolor": "#2a3f5f",
           "arrowhead": 0,
           "arrowwidth": 1
          },
          "autotypenumbers": "strict",
          "coloraxis": {
           "colorbar": {
            "outlinewidth": 0,
            "ticks": ""
           }
          },
          "colorscale": {
           "diverging": [
            [
             0,
             "#8e0152"
            ],
            [
             0.1,
             "#c51b7d"
            ],
            [
             0.2,
             "#de77ae"
            ],
            [
             0.3,
             "#f1b6da"
            ],
            [
             0.4,
             "#fde0ef"
            ],
            [
             0.5,
             "#f7f7f7"
            ],
            [
             0.6,
             "#e6f5d0"
            ],
            [
             0.7,
             "#b8e186"
            ],
            [
             0.8,
             "#7fbc41"
            ],
            [
             0.9,
             "#4d9221"
            ],
            [
             1,
             "#276419"
            ]
           ],
           "sequential": [
            [
             0,
             "#0d0887"
            ],
            [
             0.1111111111111111,
             "#46039f"
            ],
            [
             0.2222222222222222,
             "#7201a8"
            ],
            [
             0.3333333333333333,
             "#9c179e"
            ],
            [
             0.4444444444444444,
             "#bd3786"
            ],
            [
             0.5555555555555556,
             "#d8576b"
            ],
            [
             0.6666666666666666,
             "#ed7953"
            ],
            [
             0.7777777777777778,
             "#fb9f3a"
            ],
            [
             0.8888888888888888,
             "#fdca26"
            ],
            [
             1,
             "#f0f921"
            ]
           ],
           "sequentialminus": [
            [
             0,
             "#0d0887"
            ],
            [
             0.1111111111111111,
             "#46039f"
            ],
            [
             0.2222222222222222,
             "#7201a8"
            ],
            [
             0.3333333333333333,
             "#9c179e"
            ],
            [
             0.4444444444444444,
             "#bd3786"
            ],
            [
             0.5555555555555556,
             "#d8576b"
            ],
            [
             0.6666666666666666,
             "#ed7953"
            ],
            [
             0.7777777777777778,
             "#fb9f3a"
            ],
            [
             0.8888888888888888,
             "#fdca26"
            ],
            [
             1,
             "#f0f921"
            ]
           ]
          },
          "colorway": [
           "#636efa",
           "#EF553B",
           "#00cc96",
           "#ab63fa",
           "#FFA15A",
           "#19d3f3",
           "#FF6692",
           "#B6E880",
           "#FF97FF",
           "#FECB52"
          ],
          "font": {
           "color": "#2a3f5f"
          },
          "geo": {
           "bgcolor": "white",
           "lakecolor": "white",
           "landcolor": "white",
           "showlakes": true,
           "showland": true,
           "subunitcolor": "#C8D4E3"
          },
          "hoverlabel": {
           "align": "left"
          },
          "hovermode": "closest",
          "mapbox": {
           "style": "light"
          },
          "paper_bgcolor": "white",
          "plot_bgcolor": "white",
          "polar": {
           "angularaxis": {
            "gridcolor": "#EBF0F8",
            "linecolor": "#EBF0F8",
            "ticks": ""
           },
           "bgcolor": "white",
           "radialaxis": {
            "gridcolor": "#EBF0F8",
            "linecolor": "#EBF0F8",
            "ticks": ""
           }
          },
          "scene": {
           "xaxis": {
            "backgroundcolor": "white",
            "gridcolor": "#DFE8F3",
            "gridwidth": 2,
            "linecolor": "#EBF0F8",
            "showbackground": true,
            "ticks": "",
            "zerolinecolor": "#EBF0F8"
           },
           "yaxis": {
            "backgroundcolor": "white",
            "gridcolor": "#DFE8F3",
            "gridwidth": 2,
            "linecolor": "#EBF0F8",
            "showbackground": true,
            "ticks": "",
            "zerolinecolor": "#EBF0F8"
           },
           "zaxis": {
            "backgroundcolor": "white",
            "gridcolor": "#DFE8F3",
            "gridwidth": 2,
            "linecolor": "#EBF0F8",
            "showbackground": true,
            "ticks": "",
            "zerolinecolor": "#EBF0F8"
           }
          },
          "shapedefaults": {
           "line": {
            "color": "#2a3f5f"
           }
          },
          "ternary": {
           "aaxis": {
            "gridcolor": "#DFE8F3",
            "linecolor": "#A2B1C6",
            "ticks": ""
           },
           "baxis": {
            "gridcolor": "#DFE8F3",
            "linecolor": "#A2B1C6",
            "ticks": ""
           },
           "bgcolor": "white",
           "caxis": {
            "gridcolor": "#DFE8F3",
            "linecolor": "#A2B1C6",
            "ticks": ""
           }
          },
          "title": {
           "x": 0.05
          },
          "xaxis": {
           "automargin": true,
           "gridcolor": "#EBF0F8",
           "linecolor": "#EBF0F8",
           "ticks": "",
           "title": {
            "standoff": 15
           },
           "zerolinecolor": "#EBF0F8",
           "zerolinewidth": 2
          },
          "yaxis": {
           "automargin": true,
           "gridcolor": "#EBF0F8",
           "linecolor": "#EBF0F8",
           "ticks": "",
           "title": {
            "standoff": 15
           },
           "zerolinecolor": "#EBF0F8",
           "zerolinewidth": 2
          }
         }
        },
        "width": 1600,
        "xaxis": {
         "anchor": "y",
         "domain": [
          0,
          0.45
         ],
         "title": {
          "text": "Observed values"
         }
        },
        "xaxis2": {
         "anchor": "y2",
         "domain": [
          0.55,
          1
         ],
         "title": {
          "text": "Observed values"
         }
        },
        "yaxis": {
         "anchor": "x",
         "domain": [
          0,
          1
         ],
         "title": {
          "text": "Predicted values"
         }
        },
        "yaxis2": {
         "anchor": "x2",
         "domain": [
          0,
          1
         ],
         "title": {
          "text": "Predicted values"
         }
        }
       }
      }
     },
     "metadata": {},
     "output_type": "display_data"
    },
    {
     "data": {
      "application/vnd.plotly.v1+json": {
       "config": {
        "plotlyServerURL": "https://plot.ly"
       },
       "data": [
        {
         "legendgroup": "train_0",
         "mode": "markers",
         "name": "Run id in Train 0",
         "type": "scatter",
         "x": [
          0,
          1.69345805704731,
          5.897022174496003,
          14.760391525541584,
          29.38859302970828,
          47.82798059583144,
          66.28877804594478,
          81.69288657721607,
          92.67703047605649,
          99.51314361635391,
          103.3982341018014,
          105.5137608534153,
          106.64771326447794,
          107.25237808915796,
          107.57398917080884
         ],
         "xaxis": "x",
         "y": [
          0,
          11.89191134348785,
          12.366052306064917,
          16.612390911153806,
          22.643041103089857,
          30.275735525197092,
          39.16822038162639,
          49.44639990025515,
          61.56995552807074,
          75.60500036304295,
          92.32544675157088,
          112.07928565919092,
          135.54549540700947,
          162.93138165221032,
          194.74294587589588
         ],
         "yaxis": "y"
        },
        {
         "legendgroup": "train_1",
         "mode": "markers",
         "name": "Run id in Train 1",
         "type": "scatter",
         "x": [
          0,
          1.2591174351446812,
          4.363787969322462,
          11.105807850200534,
          23.08674531626167,
          39.77379364032567,
          58.33909249352142,
          75.64227711825473,
          89.5941838255521,
          99.3928495418756,
          105.4740473218795,
          108.9699250499719,
          110.918427122675,
          111.99516193361828,
          112.58794736476844
         ],
         "xaxis": "x",
         "y": [
          0,
          11.732815334293589,
          11.280805816040948,
          15.930615706189743,
          21.195920158906688,
          28.594033857219568,
          37.134323967099775,
          47.04483346229804,
          58.6157994746574,
          71.90356659397916,
          87.82906645223561,
          106.68662357515389,
          129.151552957012,
          155.42458283930173,
          186.077873826767
         ],
         "yaxis": "y"
        },
        {
         "legendgroup": "train_2",
         "mode": "markers",
         "name": "Run id in Train 2",
         "type": "scatter",
         "x": [
          0,
          1.866469333291912,
          7.039248680252867,
          18.704626424131312,
          38.35496070782931,
          63.1173995632141,
          87.91110486552529,
          108.64700768237822,
          123.35156668084312,
          132.36601726278963,
          137.42994602457176,
          140.17843995403726,
          141.65402443925203,
          142.44293058550818,
          142.86381460240204
         ],
         "xaxis": "x",
         "y": [
          0,
          14.36248044521363,
          14.874017181779708,
          19.853823853272786,
          27.12972185361105,
          36.101059750363554,
          46.599221346026496,
          58.67031838597555,
          72.78965855011033,
          89.28174630156809,
          108.95400136337778,
          132.13428789948875,
          159.66356926960597,
          191.72185876682198,
          229.0052784868534
         ],
         "yaxis": "y"
        },
        {
         "legendgroup": "train_3",
         "mode": "markers",
         "name": "Run id in Train 3",
         "type": "scatter",
         "x": [
          0,
          2.1935506074183557,
          7.801298168106945,
          18.766174317262404,
          33.69689018464,
          48.34900066558672,
          59.74842585087358,
          67.40216019026191,
          72.1177330616482,
          74.89252493334618,
          76.48915967702284,
          77.39715527981402,
          77.91013594557718,
          78.1989052220856,
          78.36113418904017
         ],
         "xaxis": "x",
         "y": [
          0,
          21.931295596069972,
          25.005304115599955,
          33.909384085489094,
          46.67267524312497,
          61.14410372661807,
          78.01361902962351,
          97.68623721875936,
          120.44698551782331,
          147.28506197884357,
          179.55360385356644,
          217.2617948730031,
          261.3456003731096,
          312.8932545644745,
          372.3736395649081
         ],
         "yaxis": "y"
        },
        {
         "legendgroup": "train_4",
         "mode": "markers",
         "name": "Run id in Train 4",
         "type": "scatter",
         "x": [
          0,
          2.271716977830502,
          7.854473161355809,
          18.971708052051884,
          35.82484903801885,
          55.484937664768005,
          74.18856957963564,
          89.37381330601042,
          100.02434710219111,
          106.56762036581328,
          110.35013494198267,
          112.52991365924176,
          113.78809838136668,
          114.51558106094842,
          114.936735596877
         ],
         "xaxis": "x",
         "y": [
          0,
          18.96012351944614,
          21.301853464011444,
          27.70155069869602,
          38.06072518357524,
          50.00142085857317,
          64.02026470963767,
          80.21535685161672,
          99.1023084020825,
          121.22637979444951,
          148.1045911080217,
          179.62016858764684,
          216.2412231367078,
          259.1037520995044,
          308.7668015795009
         ],
         "yaxis": "y"
        },
        {
         "legendgroup": "train_5",
         "mode": "markers",
         "name": "Run id in Train 5",
         "type": "scatter",
         "x": [
          0,
          2.1740074735550605,
          7.182608258476706,
          16.82510229378721,
          31.34268820461444,
          48.28624408120008,
          64.28995969884735,
          77.04776277507078,
          85.78842522037073,
          91.04929514777176,
          94.00474366506025,
          95.64522970427242,
          96.55287676695592,
          97.054389027165,
          97.331315646952
         ],
         "xaxis": "x",
         "y": [
          0,
          19.060888729691907,
          21.81370193568173,
          28.654515205386133,
          39.30581579469258,
          51.57044255580442,
          65.93005281800339,
          82.65917685066906,
          102.13478207788395,
          124.73097034780342,
          152.4241529590365,
          184.5421250406162,
          222.112712051001,
          266.0647545003754,
          316.9497319946704
         ],
         "yaxis": "y"
        },
        {
         "legendgroup": "train_6",
         "mode": "markers",
         "name": "Run id in Train 6",
         "type": "scatter",
         "x": [
          0,
          1.916223707605735,
          6.481636373842608,
          15.742076047399967,
          30.7303924619266,
          49.56309399414012,
          68.54508580701972,
          84.64064208273174,
          96.4336875563552,
          104.07036255435077,
          108.63197524096528,
          111.25534115276618,
          112.74131598613712,
          113.577859978804,
          114.04725326605498
         ],
         "xaxis": "x",
         "y": [
          0,
          22.804397775508235,
          26.325396091956485,
          34.47899787799581,
          47.241839652407556,
          61.9643349104265,
          79.15046922997638,
          99.27124685909432,
          122.61240622771828,
          149.94929561797574,
          182.18840894145194,
          220.86303406265088,
          265.76456507950576,
          318.30271734531664,
          379.1618926267976
         ],
         "yaxis": "y"
        },
        {
         "legendgroup": "train_7",
         "mode": "markers",
         "name": "Run id in Train 7",
         "type": "scatter",
         "x": [
          0,
          2.243958200027949,
          8.523091057701478,
          22.02505899374238,
          42.56465569657718,
          65.54531000542516,
          86.36115270011925,
          102.69136210007946,
          114.01852655478228,
          120.90042892063524,
          124.57629681718988,
          126.40832354825189,
          127.3152667728905,
          127.7640116394374,
          127.98600783384062
         ],
         "xaxis": "x",
         "y": [
          0,
          18.81686597393108,
          21.866023125174326,
          28.964106060178405,
          39.71877240058815,
          52.11533610442306,
          66.57783033439486,
          83.59055420008976,
          103.19358088333415,
          126.10152388201129,
          153.67019478302393,
          186.00527603799102,
          223.81482799950888,
          268.04784320572,
          319.2847148311389
         ],
         "yaxis": "y"
        },
        {
         "legendgroup": "train_8",
         "mode": "markers",
         "name": "Run id in Train 8",
         "type": "scatter",
         "x": [
          0,
          1.6793980299494815,
          5.825279816564676,
          14.27356176357438,
          27.297157467115877,
          42.40664958688576,
          56.43799757399171,
          67.52538375231104,
          75.23050405709591,
          80.0340985431344,
          82.87566487240495,
          84.54898020684811,
          85.5339459906819,
          86.11387571389295,
          86.4554277707369
         ],
         "xaxis": "x",
         "y": [
          0,
          18.53799261148868,
          21.25725060627904,
          29.275631763796667,
          40.24126196740045,
          52.74286128022793,
          67.27560121819508,
          84.3372899111769,
          103.98520574321404,
          127.14699113666032,
          155.00237164041806,
          187.55107012902,
          225.6077672657763,
          270.1214107863801,
          321.55395435415943
         ],
         "yaxis": "y"
        },
        {
         "legendgroup": "train_9",
         "mode": "markers",
         "name": "Run id in Train 9",
         "type": "scatter",
         "x": [
          0,
          1.936573425915886,
          6.829628620347621,
          17.08542047827603,
          33.68920844131243,
          54.31801760252742,
          74.94360934324902,
          92.35928951478154,
          105.04138844957716,
          113.1173391723332,
          117.83371942641146,
          120.5372260817002,
          122.08223916974812,
          122.96423137950454,
          123.46750725239096
         ],
         "xaxis": "x",
         "y": [
          0,
          18.945396575207546,
          21.646229271162756,
          28.3034995050342,
          38.77168756986186,
          50.881193288308836,
          65.04584055034769,
          81.53073113523922,
          100.7195830445132,
          122.9786191191338,
          150.28452804299562,
          181.97465769358593,
          219.01615559302257,
          262.35196466813437,
          312.6041465738822
         ],
         "yaxis": "y"
        },
        {
         "legendgroup": "test_0",
         "mode": "markers",
         "name": "Run id in Test 0",
         "type": "scatter",
         "x": [
          0,
          2.1824297539180297,
          8.166083041116508,
          21.321369967573112,
          42.85414584728475,
          69.79089068242651,
          97.66797157992208,
          123.28266885228646,
          145.1452661433552,
          162.939326203935,
          176.9454542072082,
          187.66054365335236,
          195.7213811855037,
          201.77002614645343,
          206.29555670809924
         ],
         "xaxis": "x2",
         "y": [
          0,
          14.87990333173054,
          16.2759445188682,
          21.67605126677128,
          30.030473567748345,
          39.53938317825405,
          50.79070927297193,
          63.93932858781101,
          79.14754840011682,
          97.07451181524239,
          118.18066437477972,
          143.39993919605092,
          172.7690593003188,
          207.1113443766771,
          247.14097480364495
         ],
         "yaxis": "y2"
        },
        {
         "legendgroup": "test_1",
         "mode": "markers",
         "name": "Run id in Test 1",
         "type": "scatter",
         "x": [
          0,
          1.5991499982104411,
          5.445699389353575,
          13.581432771597257,
          27.689681352073706,
          47.21496460203044,
          69.54534066005401,
          91.89286610534306,
          112.38249670914288,
          130.1236250206878,
          145.0020761195221,
          157.1975521219229,
          167.00514815735104,
          174.77073081852015,
          180.83847709015123
         ],
         "xaxis": "x2",
         "y": [
          0,
          15.21028631557189,
          16.914068195773492,
          23.30892670306193,
          32.043710311191845,
          42.091217816020645,
          53.82488993021474,
          67.6461794511131,
          83.5402586695749,
          102.06692044618316,
          124.5480625495294,
          150.79714774426614,
          181.49035884295512,
          217.3959050837155,
          259.0148566765706
         ],
         "yaxis": "y2"
        },
        {
         "legendgroup": "test_2",
         "mode": "markers",
         "name": "Run id in Test 2",
         "type": "scatter",
         "x": [
          0,
          1.5581891741849512,
          5.606126893705409,
          14.498929324203344,
          29.82798216505632,
          50.41499972160747,
          73.19671246341571,
          95.3587673773708,
          115.20028515974414,
          131.99273880744107,
          145.60559285891645,
          156.2873977451865,
          164.63072407738295,
          171.14171656847114,
          176.2095735657846
         ],
         "xaxis": "x2",
         "y": [
          0,
          13.0211467055185,
          14.059250947416702,
          19.426485781462993,
          26.8603293809871,
          35.34721021750116,
          45.46292324722986,
          57.37759363127894,
          71.0237716763834,
          87.09507297496523,
          106.10888315281419,
          128.79622131063897,
          155.1612287777556,
          186.02023462676559,
          221.95380417262757
         ],
         "yaxis": "y2"
        },
        {
         "legendgroup": "test_3",
         "mode": "markers",
         "name": "Run id in Test 3",
         "type": "scatter",
         "x": [
          0,
          1.7487860554820465,
          6.311671256918155,
          16.382654836909964,
          33.66660265814613,
          56.58603621625323,
          81.56847238120447,
          105.47928252536023,
          126.51381224589684,
          144.02257896315942,
          158.0615217586803,
          168.90191538273123,
          176.33605979156945,
          181.14518553707703,
          184.24826675684804
         ],
         "xaxis": "x2",
         "y": [
          0,
          15.585171181549681,
          17.59651006842064,
          24.403997148153714,
          33.60760946391514,
          44.15787612859985,
          56.46305244776132,
          70.94711351029822,
          87.5890056757872,
          107.02484507301529,
          130.52519160815646,
          158.0179933898674,
          190.16148870997824,
          227.765575426137,
          271.3198146369294
         ],
         "yaxis": "y2"
        },
        {
         "legendgroup": "test_4",
         "mode": "markers",
         "name": "Run id in Test 4",
         "type": "scatter",
         "x": [
          0,
          2.40865700404835,
          9.007605339128604,
          23.0960309095346,
          44.650055160271,
          69.37126336604697,
          92.90356906065072,
          112.89704265210062,
          128.56760159133748,
          139.92880141496798,
          147.5636069024654,
          152.73889571644432,
          156.32842633487192,
          158.8502092384601,
          160.63502139951692
         ],
         "xaxis": "x2",
         "y": [
          0,
          15.72733740054534,
          16.960504230244425,
          23.188060972966095,
          32.09124263865262,
          42.19002238031776,
          54.1638384467021,
          68.12236528791883,
          84.34796445125248,
          103.55521684381596,
          126.05448916973558,
          152.96599637334833,
          184.2519118618365,
          220.86899804336645,
          263.2890057456203
         ],
         "yaxis": "y2"
        },
        {
         "legendgroup": "test_5",
         "mode": "markers",
         "name": "Run id in Test 5",
         "type": "scatter",
         "x": [
          0,
          1.2545144440534064,
          4.985417532879248,
          14.260275885034812,
          31.234881024706453,
          53.49583974096605,
          76.37935894351298,
          96.68647952280352,
          113.11097089305292,
          125.47091067391106,
          134.08437572025375,
          139.54476133203477,
          142.9131133751618,
          145.0343385158262,
          146.38776809777494
         ],
         "xaxis": "x2",
         "y": [
          0,
          20.15408656668977,
          23.677059770288633,
          31.427123893804026,
          43.08955692064459,
          56.54148365673995,
          72.17456297158115,
          90.57199542533131,
          111.74523558556417,
          136.54186755251598,
          166.07033729383392,
          201.20469705808662,
          242.06003903668457,
          289.8634061813413,
          345.19285463557355
         ],
         "yaxis": "y2"
        },
        {
         "legendgroup": "test_6",
         "mode": "markers",
         "name": "Run id in Test 6",
         "type": "scatter",
         "x": [
          0,
          2.4676429401569653,
          8.847402570973394,
          21.92022427914256,
          42.04251997927221,
          66.3806237114453,
          91.4711752566404,
          114.89076395797905,
          135.40670329147326,
          152.63994276475762,
          166.70916056328812,
          177.96967910428168,
          186.83664250707432,
          193.7065213911428,
          198.882259098652
         ],
         "xaxis": "x2",
         "y": [
          0,
          19.338228233389724,
          22.434455208615596,
          31.082367541606686,
          42.682878200028995,
          55.82443802229517,
          71.23115317936615,
          89.17102076880015,
          109.90860361712897,
          134.24520648642968,
          163.6736297102439,
          197.97771834345048,
          238.0987044505809,
          285.0330977407577,
          339.29883160406416
         ],
         "yaxis": "y2"
        },
        {
         "legendgroup": "test_7",
         "mode": "markers",
         "name": "Run id in Test 7",
         "type": "scatter",
         "x": [
          0,
          2.3615459556658216,
          8.310160827313466,
          20.67139833266929,
          40.36585105311375,
          64.7292302489265,
          89.83125897208262,
          112.84560274344835,
          132.43594927073886,
          148.2954069606308,
          160.66288615971445,
          170.12038236611113,
          177.31264510895502,
          182.75317820372044,
          186.84944474519827
         ],
         "xaxis": "x2",
         "y": [
          0,
          14.121681564166336,
          15.792028678681781,
          22.080337882036517,
          30.507278061035905,
          40.11555567380533,
          51.4556382331599,
          64.77088770410963,
          80.04793418996613,
          97.8688796700646,
          119.4040355424785,
          144.62098504313622,
          174.1097428580926,
          208.60807072216957,
          248.58786792020317
         ],
         "yaxis": "y2"
        },
        {
         "legendgroup": "test_8",
         "mode": "markers",
         "name": "Run id in Test 8",
         "type": "scatter",
         "x": [
          0,
          1.4553196405346558,
          5.745846264970134,
          16.172136437495485,
          34.67671064022556,
          58.57066013499378,
          83.3065087273045,
          105.72898824643453,
          124.44509749634368,
          139.24169506314482,
          150.50390826076975,
          158.88275265089592,
          165.05193713369445,
          169.55607062164327,
          172.82287801702037
         ],
         "xaxis": "x2",
         "y": [
          0,
          19.78548295304404,
          22.977728223554703,
          31.768647954048937,
          43.65700531987718,
          57.112051183905926,
          72.89852052739332,
          91.2884796582649,
          112.53823029043825,
          137.47046652165344,
          167.61395494937474,
          202.75692261651614,
          243.85941255761222,
          291.94058457211094,
          347.51858789342305
         ],
         "yaxis": "y2"
        },
        {
         "legendgroup": "test_9",
         "mode": "markers",
         "name": "Run id in Test 9",
         "type": "scatter",
         "x": [
          0,
          1.8253206890696088,
          6.829555224571791,
          18.279574448197184,
          38.361024117816335,
          65.14647238107932,
          94.2447821690744,
          121.97130459806723,
          146.32540899281685,
          166.62762006243048,
          182.94611833504848,
          195.67525930047435,
          205.46490282737048,
          212.9690451781578,
          218.69332923153357
         ],
         "xaxis": "x2",
         "y": [
          0,
          11.10585367982107,
          11.25427555442039,
          15.194011802958027,
          20.07206589214896,
          27.08399940342396,
          35.22350146260567,
          44.65911852494158,
          55.677288256553126,
          68.31502605043931,
          83.44215095780382,
          101.3799223413431,
          122.75421489871489,
          147.75124186892907,
          176.94211829934497
         ],
         "yaxis": "y2"
        }
       ],
       "layout": {
        "annotations": [
         {
          "font": {
           "size": 16
          },
          "showarrow": false,
          "text": "Train Set - X:Lac <br> R^2 = -3.262 <br> Abs RMSE = 70.465 <br> Rel RMSE = 1.576",
          "x": 0.225,
          "xanchor": "center",
          "xref": "paper",
          "y": 1,
          "yanchor": "bottom",
          "yref": "paper"
         },
         {
          "font": {
           "size": 16
          },
          "showarrow": false,
          "text": "Test Set - X:Lac <br> R^2 = 0.499 <br> Abs RMSE = 44.385 <br> Rel RMSE = 0.641",
          "x": 0.775,
          "xanchor": "center",
          "xref": "paper",
          "y": 1,
          "yanchor": "bottom",
          "yref": "paper"
         }
        ],
        "shapes": [
         {
          "layer": "above",
          "line": {
           "dash": "dash"
          },
          "type": "line",
          "x0": 0,
          "x1": 379.1618926267976,
          "y0": 0,
          "y1": 379.1618926267976
         },
         {
          "layer": "above",
          "line": {
           "dash": "dash"
          },
          "type": "line",
          "x0": 0,
          "x1": 347.51858789342305,
          "xref": "x2",
          "y0": 0,
          "y1": 347.51858789342305,
          "yref": "y2"
         }
        ],
        "template": {
         "data": {
          "bar": [
           {
            "error_x": {
             "color": "#2a3f5f"
            },
            "error_y": {
             "color": "#2a3f5f"
            },
            "marker": {
             "line": {
              "color": "white",
              "width": 0.5
             },
             "pattern": {
              "fillmode": "overlay",
              "size": 10,
              "solidity": 0.2
             }
            },
            "type": "bar"
           }
          ],
          "barpolar": [
           {
            "marker": {
             "line": {
              "color": "white",
              "width": 0.5
             },
             "pattern": {
              "fillmode": "overlay",
              "size": 10,
              "solidity": 0.2
             }
            },
            "type": "barpolar"
           }
          ],
          "carpet": [
           {
            "aaxis": {
             "endlinecolor": "#2a3f5f",
             "gridcolor": "#C8D4E3",
             "linecolor": "#C8D4E3",
             "minorgridcolor": "#C8D4E3",
             "startlinecolor": "#2a3f5f"
            },
            "baxis": {
             "endlinecolor": "#2a3f5f",
             "gridcolor": "#C8D4E3",
             "linecolor": "#C8D4E3",
             "minorgridcolor": "#C8D4E3",
             "startlinecolor": "#2a3f5f"
            },
            "type": "carpet"
           }
          ],
          "choropleth": [
           {
            "colorbar": {
             "outlinewidth": 0,
             "ticks": ""
            },
            "type": "choropleth"
           }
          ],
          "contour": [
           {
            "colorbar": {
             "outlinewidth": 0,
             "ticks": ""
            },
            "colorscale": [
             [
              0,
              "#0d0887"
             ],
             [
              0.1111111111111111,
              "#46039f"
             ],
             [
              0.2222222222222222,
              "#7201a8"
             ],
             [
              0.3333333333333333,
              "#9c179e"
             ],
             [
              0.4444444444444444,
              "#bd3786"
             ],
             [
              0.5555555555555556,
              "#d8576b"
             ],
             [
              0.6666666666666666,
              "#ed7953"
             ],
             [
              0.7777777777777778,
              "#fb9f3a"
             ],
             [
              0.8888888888888888,
              "#fdca26"
             ],
             [
              1,
              "#f0f921"
             ]
            ],
            "type": "contour"
           }
          ],
          "contourcarpet": [
           {
            "colorbar": {
             "outlinewidth": 0,
             "ticks": ""
            },
            "type": "contourcarpet"
           }
          ],
          "heatmap": [
           {
            "colorbar": {
             "outlinewidth": 0,
             "ticks": ""
            },
            "colorscale": [
             [
              0,
              "#0d0887"
             ],
             [
              0.1111111111111111,
              "#46039f"
             ],
             [
              0.2222222222222222,
              "#7201a8"
             ],
             [
              0.3333333333333333,
              "#9c179e"
             ],
             [
              0.4444444444444444,
              "#bd3786"
             ],
             [
              0.5555555555555556,
              "#d8576b"
             ],
             [
              0.6666666666666666,
              "#ed7953"
             ],
             [
              0.7777777777777778,
              "#fb9f3a"
             ],
             [
              0.8888888888888888,
              "#fdca26"
             ],
             [
              1,
              "#f0f921"
             ]
            ],
            "type": "heatmap"
           }
          ],
          "heatmapgl": [
           {
            "colorbar": {
             "outlinewidth": 0,
             "ticks": ""
            },
            "colorscale": [
             [
              0,
              "#0d0887"
             ],
             [
              0.1111111111111111,
              "#46039f"
             ],
             [
              0.2222222222222222,
              "#7201a8"
             ],
             [
              0.3333333333333333,
              "#9c179e"
             ],
             [
              0.4444444444444444,
              "#bd3786"
             ],
             [
              0.5555555555555556,
              "#d8576b"
             ],
             [
              0.6666666666666666,
              "#ed7953"
             ],
             [
              0.7777777777777778,
              "#fb9f3a"
             ],
             [
              0.8888888888888888,
              "#fdca26"
             ],
             [
              1,
              "#f0f921"
             ]
            ],
            "type": "heatmapgl"
           }
          ],
          "histogram": [
           {
            "marker": {
             "pattern": {
              "fillmode": "overlay",
              "size": 10,
              "solidity": 0.2
             }
            },
            "type": "histogram"
           }
          ],
          "histogram2d": [
           {
            "colorbar": {
             "outlinewidth": 0,
             "ticks": ""
            },
            "colorscale": [
             [
              0,
              "#0d0887"
             ],
             [
              0.1111111111111111,
              "#46039f"
             ],
             [
              0.2222222222222222,
              "#7201a8"
             ],
             [
              0.3333333333333333,
              "#9c179e"
             ],
             [
              0.4444444444444444,
              "#bd3786"
             ],
             [
              0.5555555555555556,
              "#d8576b"
             ],
             [
              0.6666666666666666,
              "#ed7953"
             ],
             [
              0.7777777777777778,
              "#fb9f3a"
             ],
             [
              0.8888888888888888,
              "#fdca26"
             ],
             [
              1,
              "#f0f921"
             ]
            ],
            "type": "histogram2d"
           }
          ],
          "histogram2dcontour": [
           {
            "colorbar": {
             "outlinewidth": 0,
             "ticks": ""
            },
            "colorscale": [
             [
              0,
              "#0d0887"
             ],
             [
              0.1111111111111111,
              "#46039f"
             ],
             [
              0.2222222222222222,
              "#7201a8"
             ],
             [
              0.3333333333333333,
              "#9c179e"
             ],
             [
              0.4444444444444444,
              "#bd3786"
             ],
             [
              0.5555555555555556,
              "#d8576b"
             ],
             [
              0.6666666666666666,
              "#ed7953"
             ],
             [
              0.7777777777777778,
              "#fb9f3a"
             ],
             [
              0.8888888888888888,
              "#fdca26"
             ],
             [
              1,
              "#f0f921"
             ]
            ],
            "type": "histogram2dcontour"
           }
          ],
          "mesh3d": [
           {
            "colorbar": {
             "outlinewidth": 0,
             "ticks": ""
            },
            "type": "mesh3d"
           }
          ],
          "parcoords": [
           {
            "line": {
             "colorbar": {
              "outlinewidth": 0,
              "ticks": ""
             }
            },
            "type": "parcoords"
           }
          ],
          "pie": [
           {
            "automargin": true,
            "type": "pie"
           }
          ],
          "scatter": [
           {
            "fillpattern": {
             "fillmode": "overlay",
             "size": 10,
             "solidity": 0.2
            },
            "type": "scatter"
           }
          ],
          "scatter3d": [
           {
            "line": {
             "colorbar": {
              "outlinewidth": 0,
              "ticks": ""
             }
            },
            "marker": {
             "colorbar": {
              "outlinewidth": 0,
              "ticks": ""
             }
            },
            "type": "scatter3d"
           }
          ],
          "scattercarpet": [
           {
            "marker": {
             "colorbar": {
              "outlinewidth": 0,
              "ticks": ""
             }
            },
            "type": "scattercarpet"
           }
          ],
          "scattergeo": [
           {
            "marker": {
             "colorbar": {
              "outlinewidth": 0,
              "ticks": ""
             }
            },
            "type": "scattergeo"
           }
          ],
          "scattergl": [
           {
            "marker": {
             "colorbar": {
              "outlinewidth": 0,
              "ticks": ""
             }
            },
            "type": "scattergl"
           }
          ],
          "scattermapbox": [
           {
            "marker": {
             "colorbar": {
              "outlinewidth": 0,
              "ticks": ""
             }
            },
            "type": "scattermapbox"
           }
          ],
          "scatterpolar": [
           {
            "marker": {
             "colorbar": {
              "outlinewidth": 0,
              "ticks": ""
             }
            },
            "type": "scatterpolar"
           }
          ],
          "scatterpolargl": [
           {
            "marker": {
             "colorbar": {
              "outlinewidth": 0,
              "ticks": ""
             }
            },
            "type": "scatterpolargl"
           }
          ],
          "scatterternary": [
           {
            "marker": {
             "colorbar": {
              "outlinewidth": 0,
              "ticks": ""
             }
            },
            "type": "scatterternary"
           }
          ],
          "surface": [
           {
            "colorbar": {
             "outlinewidth": 0,
             "ticks": ""
            },
            "colorscale": [
             [
              0,
              "#0d0887"
             ],
             [
              0.1111111111111111,
              "#46039f"
             ],
             [
              0.2222222222222222,
              "#7201a8"
             ],
             [
              0.3333333333333333,
              "#9c179e"
             ],
             [
              0.4444444444444444,
              "#bd3786"
             ],
             [
              0.5555555555555556,
              "#d8576b"
             ],
             [
              0.6666666666666666,
              "#ed7953"
             ],
             [
              0.7777777777777778,
              "#fb9f3a"
             ],
             [
              0.8888888888888888,
              "#fdca26"
             ],
             [
              1,
              "#f0f921"
             ]
            ],
            "type": "surface"
           }
          ],
          "table": [
           {
            "cells": {
             "fill": {
              "color": "#EBF0F8"
             },
             "line": {
              "color": "white"
             }
            },
            "header": {
             "fill": {
              "color": "#C8D4E3"
             },
             "line": {
              "color": "white"
             }
            },
            "type": "table"
           }
          ]
         },
         "layout": {
          "annotationdefaults": {
           "arrowcolor": "#2a3f5f",
           "arrowhead": 0,
           "arrowwidth": 1
          },
          "autotypenumbers": "strict",
          "coloraxis": {
           "colorbar": {
            "outlinewidth": 0,
            "ticks": ""
           }
          },
          "colorscale": {
           "diverging": [
            [
             0,
             "#8e0152"
            ],
            [
             0.1,
             "#c51b7d"
            ],
            [
             0.2,
             "#de77ae"
            ],
            [
             0.3,
             "#f1b6da"
            ],
            [
             0.4,
             "#fde0ef"
            ],
            [
             0.5,
             "#f7f7f7"
            ],
            [
             0.6,
             "#e6f5d0"
            ],
            [
             0.7,
             "#b8e186"
            ],
            [
             0.8,
             "#7fbc41"
            ],
            [
             0.9,
             "#4d9221"
            ],
            [
             1,
             "#276419"
            ]
           ],
           "sequential": [
            [
             0,
             "#0d0887"
            ],
            [
             0.1111111111111111,
             "#46039f"
            ],
            [
             0.2222222222222222,
             "#7201a8"
            ],
            [
             0.3333333333333333,
             "#9c179e"
            ],
            [
             0.4444444444444444,
             "#bd3786"
            ],
            [
             0.5555555555555556,
             "#d8576b"
            ],
            [
             0.6666666666666666,
             "#ed7953"
            ],
            [
             0.7777777777777778,
             "#fb9f3a"
            ],
            [
             0.8888888888888888,
             "#fdca26"
            ],
            [
             1,
             "#f0f921"
            ]
           ],
           "sequentialminus": [
            [
             0,
             "#0d0887"
            ],
            [
             0.1111111111111111,
             "#46039f"
            ],
            [
             0.2222222222222222,
             "#7201a8"
            ],
            [
             0.3333333333333333,
             "#9c179e"
            ],
            [
             0.4444444444444444,
             "#bd3786"
            ],
            [
             0.5555555555555556,
             "#d8576b"
            ],
            [
             0.6666666666666666,
             "#ed7953"
            ],
            [
             0.7777777777777778,
             "#fb9f3a"
            ],
            [
             0.8888888888888888,
             "#fdca26"
            ],
            [
             1,
             "#f0f921"
            ]
           ]
          },
          "colorway": [
           "#636efa",
           "#EF553B",
           "#00cc96",
           "#ab63fa",
           "#FFA15A",
           "#19d3f3",
           "#FF6692",
           "#B6E880",
           "#FF97FF",
           "#FECB52"
          ],
          "font": {
           "color": "#2a3f5f"
          },
          "geo": {
           "bgcolor": "white",
           "lakecolor": "white",
           "landcolor": "white",
           "showlakes": true,
           "showland": true,
           "subunitcolor": "#C8D4E3"
          },
          "hoverlabel": {
           "align": "left"
          },
          "hovermode": "closest",
          "mapbox": {
           "style": "light"
          },
          "paper_bgcolor": "white",
          "plot_bgcolor": "white",
          "polar": {
           "angularaxis": {
            "gridcolor": "#EBF0F8",
            "linecolor": "#EBF0F8",
            "ticks": ""
           },
           "bgcolor": "white",
           "radialaxis": {
            "gridcolor": "#EBF0F8",
            "linecolor": "#EBF0F8",
            "ticks": ""
           }
          },
          "scene": {
           "xaxis": {
            "backgroundcolor": "white",
            "gridcolor": "#DFE8F3",
            "gridwidth": 2,
            "linecolor": "#EBF0F8",
            "showbackground": true,
            "ticks": "",
            "zerolinecolor": "#EBF0F8"
           },
           "yaxis": {
            "backgroundcolor": "white",
            "gridcolor": "#DFE8F3",
            "gridwidth": 2,
            "linecolor": "#EBF0F8",
            "showbackground": true,
            "ticks": "",
            "zerolinecolor": "#EBF0F8"
           },
           "zaxis": {
            "backgroundcolor": "white",
            "gridcolor": "#DFE8F3",
            "gridwidth": 2,
            "linecolor": "#EBF0F8",
            "showbackground": true,
            "ticks": "",
            "zerolinecolor": "#EBF0F8"
           }
          },
          "shapedefaults": {
           "line": {
            "color": "#2a3f5f"
           }
          },
          "ternary": {
           "aaxis": {
            "gridcolor": "#DFE8F3",
            "linecolor": "#A2B1C6",
            "ticks": ""
           },
           "baxis": {
            "gridcolor": "#DFE8F3",
            "linecolor": "#A2B1C6",
            "ticks": ""
           },
           "bgcolor": "white",
           "caxis": {
            "gridcolor": "#DFE8F3",
            "linecolor": "#A2B1C6",
            "ticks": ""
           }
          },
          "title": {
           "x": 0.05
          },
          "xaxis": {
           "automargin": true,
           "gridcolor": "#EBF0F8",
           "linecolor": "#EBF0F8",
           "ticks": "",
           "title": {
            "standoff": 15
           },
           "zerolinecolor": "#EBF0F8",
           "zerolinewidth": 2
          },
          "yaxis": {
           "automargin": true,
           "gridcolor": "#EBF0F8",
           "linecolor": "#EBF0F8",
           "ticks": "",
           "title": {
            "standoff": 15
           },
           "zerolinecolor": "#EBF0F8",
           "zerolinewidth": 2
          }
         }
        },
        "width": 1600,
        "xaxis": {
         "anchor": "y",
         "domain": [
          0,
          0.45
         ],
         "title": {
          "text": "Observed values"
         }
        },
        "xaxis2": {
         "anchor": "y2",
         "domain": [
          0.55,
          1
         ],
         "title": {
          "text": "Observed values"
         }
        },
        "yaxis": {
         "anchor": "x",
         "domain": [
          0,
          1
         ],
         "title": {
          "text": "Predicted values"
         }
        },
        "yaxis2": {
         "anchor": "x2",
         "domain": [
          0,
          1
         ],
         "title": {
          "text": "Predicted values"
         }
        }
       }
      }
     },
     "metadata": {},
     "output_type": "display_data"
    },
    {
     "data": {
      "application/vnd.plotly.v1+json": {
       "config": {
        "plotlyServerURL": "https://plot.ly"
       },
       "data": [
        {
         "legendgroup": "train_0",
         "mode": "markers",
         "name": "Run id in Train 0",
         "type": "scatter",
         "x": [
          0,
          0.092797611632703,
          1.3613322223015707,
          11.344886505251033,
          52.28927236583092,
          140.5961579864852,
          259.3251210897019,
          375.5879131278478,
          466.0614611226992,
          525.1008308953583,
          559.5121702665116,
          578.501989557713,
          588.7503117163226,
          594.2341048016712,
          597.15618596249
         ],
         "xaxis": "x",
         "y": [
          0,
          38.85992941461312,
          65.77698228783468,
          92.44580662147193,
          123.13796133181121,
          158.94716780921993,
          200.79405449791946,
          249.33752852857904,
          305.6421011301423,
          371.03034070397854,
          447.0370889839616,
          536.6313495174076,
          641.163272083247,
          763.5193438634038,
          906.651964511626
         ],
         "yaxis": "y"
        },
        {
         "legendgroup": "train_1",
         "mode": "markers",
         "name": "Run id in Train 1",
         "type": "scatter",
         "x": [
          0,
          0.0438814612801809,
          0.6754926172763417,
          6.144508366864772,
          32.89209616429462,
          103.50902716060114,
          216.84466709892055,
          346.44671755061927,
          463.7142285131992,
          551.6325993334557,
          608.2207631731609,
          641.4045985098942,
          660.0958645554078,
          670.481486260618,
          676.2162592557202
         ],
         "xaxis": "x",
         "y": [
          0,
          37.675578401525286,
          64.0938747967138,
          89.42604034734927,
          118.88013585055995,
          152.95567861060434,
          193.18133030283352,
          239.7588815427463,
          293.78897186467344,
          356.5186792227531,
          429.2829947816481,
          515.0682548565263,
          615.0819703772366,
          732.1951307467258,
          869.1863184436102
         ],
         "yaxis": "y"
        },
        {
         "legendgroup": "train_2",
         "mode": "markers",
         "name": "Run id in Train 2",
         "type": "scatter",
         "x": [
          0,
          0.0805992014021038,
          1.8724719368459048,
          19.41861755313492,
          91.75328005105564,
          241.06314503965848,
          434.5519776483289,
          619.9756875720175,
          761.4441456682614,
          851.6236464360761,
          903.333097571553,
          931.7008737773178,
          947.0117744048353,
          955.2202498945722,
          959.6058930504475
         ],
         "xaxis": "x",
         "y": [
          0,
          45.42714582539265,
          77.70639231813425,
          109.47286396146738,
          145.50431763876875,
          187.6620519512883,
          236.84196273908898,
          293.8008154871663,
          359.9370539621581,
          436.647791855886,
          525.8114340606126,
          630.9245267157997,
          753.5689531457673,
          897.1217661743866,
          1065.0350072216745
         ],
         "yaxis": "y"
        },
        {
         "legendgroup": "train_3",
         "mode": "markers",
         "name": "Run id in Train 3",
         "type": "scatter",
         "x": [
          0,
          0.100395228326079,
          2.471584704867094,
          20.810314349562,
          75.25006587798005,
          155.21180957123823,
          231.3966660922219,
          288.1189053801796,
          325.0105400678119,
          347.3566646464407,
          360.4174988213081,
          367.9092782306117,
          372.1621491359598,
          374.5625824428543,
          375.9131407266119
         ],
         "xaxis": "x",
         "y": [
          0,
          71.66446687723565,
          121.1713448616672,
          171.95083849899208,
          230.16693000215596,
          298.46256422556723,
          377.7045349247987,
          469.6273794952318,
          576.2940394721917,
          700.9968105553114,
          846.1003930163351,
          1015.8554283279262,
          1214.3081046358268,
          1446.1803821209262,
          1717.1414309107895
         ],
         "yaxis": "y"
        },
        {
         "legendgroup": "train_4",
         "mode": "markers",
         "name": "Run id in Train 4",
         "type": "scatter",
         "x": [
          0,
          0.1292531886788032,
          2.811811054279715,
          23.20550382163473,
          91.22866564904736,
          213.66138340861409,
          360.48179504747,
          495.63502362499145,
          597.2236779261053,
          662.0367074378605,
          700.2481804040611,
          722.5010954289212,
          735.4205903119163,
          742.9151800957571,
          747.2620778238343
         ],
         "xaxis": "x",
         "y": [
          0,
          59.79633593524518,
          102.12901086061659,
          145.28661493924517,
          193.7963097616894,
          250.53215774383173,
          316.2739622116146,
          392.49783329385735,
          481.1000612533787,
          584.8380077365482,
          705.3875689849523,
          846.2168888737272,
          1011.1017022340242,
          1203.8728678379662,
          1429.1432803974735
         ],
         "yaxis": "y"
        },
        {
         "legendgroup": "train_5",
         "mode": "markers",
         "name": "Run id in Train 5",
         "type": "scatter",
         "x": [
          0,
          0.1191344970680277,
          2.2379543730029474,
          17.6686268146821,
          70.79210067044147,
          170.7629621239597,
          293.6414359032689,
          406.8318234868232,
          490.7890370390738,
          543.5352893767821,
          573.8362605087634,
          590.8523186228688,
          600.3258243064748,
          605.5779966984201,
          608.4835154549434
         ],
         "xaxis": "x",
         "y": [
          0,
          61.11662412594307,
          104.12076679894405,
          148.34400758742711,
          198.04974315258156,
          256.1927767358811,
          323.5743712434656,
          401.7492881361263,
          492.6006392023255,
          598.9102632383238,
          722.480280767263,
          867.0195373255984,
          1036.1894704102212,
          1233.8577150932401,
          1464.8517698008736
         ],
         "yaxis": "y"
        },
        {
         "legendgroup": "train_6",
         "mode": "markers",
         "name": "Run id in Train 6",
         "type": "scatter",
         "x": [
          0,
          0.0684760856557625,
          1.419909024026719,
          12.974359746806352,
          60.01220329000836,
          161.81840299179677,
          300.87029124327046,
          440.31555861369503,
          552.4775099714313,
          628.9702012520282,
          675.981959241405,
          703.4448217414291,
          719.1329460060222,
          728.0050414796943,
          732.9958800156783
         ],
         "xaxis": "x",
         "y": [
          0,
          73.2809522175556,
          124.60534500278557,
          177.62731064592876,
          237.12276397374117,
          306.7178567041411,
          387.3892866658248,
          481.0166527082609,
          589.8156279598537,
          716.1198660514164,
          863.4895396648282,
          1036.3510162149164,
          1238.6363966275462,
          1474.9883066356997,
          1751.1843503050545
         ],
         "yaxis": "y"
        },
        {
         "legendgroup": "train_7",
         "mode": "markers",
         "name": "Run id in Train 7",
         "type": "scatter",
         "x": [
          0,
          0.1012025981276605,
          2.7202639401550184,
          25.946291951340097,
          104.55968898992953,
          237.42432217784472,
          385.7596767399676,
          515.6947127178214,
          611.4373805988364,
          671.5705931211872,
          704.2589949515327,
          720.6883271094672,
          728.8537430043472,
          732.9016580530529,
          734.9060666799251
         ],
         "xaxis": "x",
         "y": [
          0,
          61.458989937930625,
          104.46687688834395,
          148.74878895375608,
          198.79192052772834,
          257.2651421375886,
          325.0961381004017,
          403.8271903245449,
          495.29976069579027,
          601.5884902316407,
          726.3099346506148,
          871.8735081132733,
          1042.155950018451,
          1241.1225724024102,
          1473.6314443799874
         ],
         "yaxis": "y"
        },
        {
         "legendgroup": "train_8",
         "mode": "markers",
         "name": "Run id in Train 8",
         "type": "scatter",
         "x": [
          0,
          0.0851032436703326,
          1.6658115757244931,
          14.546461217109194,
          61.856051928684174,
          151.27308669024367,
          259.1592993253078,
          357.334846431788,
          431.0590970254083,
          479.022153470829,
          508.0532921590253,
          525.365934354859,
          535.6297084406955,
          541.6976620375669,
          545.27993727455
         ],
         "xaxis": "x",
         "y": [
          0,
          61.783498548564154,
          104.50647239362758,
          148.12304233191102,
          198.46831224711727,
          257.3676083000721,
          325.7183394909617,
          404.997498320067,
          497.0003542335118,
          604.6084253146865,
          729.8799775577047,
          876.4161926886949,
          1047.7693222947546,
          1247.9723409436951,
          1481.946216680628
         ],
         "yaxis": "y"
        },
        {
         "legendgroup": "train_9",
         "mode": "markers",
         "name": "Run id in Train 9",
         "type": "scatter",
         "x": [
          0,
          0.1028398753471017,
          2.103522354496929,
          19.1988180976768,
          85.1350472831614,
          219.1183953406561,
          393.9596615083559,
          564.5612087274179,
          699.1155234613333,
          788.6518291426167,
          842.1815810738857,
          873.2435171883614,
          891.1142870152056,
          901.354027797561,
          907.2091784828596
         ],
         "xaxis": "x",
         "y": [
          0,
          60.32818269150142,
          102.84368465725662,
          146.6059038575993,
          195.68957919202592,
          252.98404118949145,
          319.4140021972989,
          396.49956241183463,
          486.0888489478436,
          590.9099524720882,
          712.728498249439,
          855.2198207206359,
          1021.9999926763716,
          1216.9243469408223,
          1444.7066541601625
         ],
         "yaxis": "y"
        },
        {
         "legendgroup": "test_0",
         "mode": "markers",
         "name": "Run id in Test 0",
         "type": "scatter",
         "x": [
          0,
          0.164105508211151,
          3.6737447861367754,
          35.32186247671071,
          154.34678831320295,
          387.7950784521392,
          693.7864209487878,
          1013.615495248714,
          1308.0461540356737,
          1559.5112502067666,
          1764.0166792193825,
          1924.0159855683603,
          2045.8920299168967,
          2138.039188646103,
          2207.3227092050597
         ],
         "xaxis": "x2",
         "y": [
          0,
          48.12869731743118,
          82.12303239576525,
          116.53106951305118,
          155.31283227057267,
          200.7310023972167,
          253.4032364097138,
          314.4974116430904,
          385.54122770882356,
          468.00350648451007,
          564.1478790064749,
          677.1847534766757,
          809.2847849601211,
          963.8511208682195,
          1144.4934833475554
         ],
         "yaxis": "y2"
        },
        {
         "legendgroup": "test_1",
         "mode": "markers",
         "name": "Run id in Test 1",
         "type": "scatter",
         "x": [
          0,
          0.0763700634007142,
          1.2004047047372728,
          10.769047562231066,
          55.331509943793534,
          169.67881535568202,
          356.9149807868821,
          587.3658271878509,
          826.3777227138344,
          1049.7114958711982,
          1245.9405162620585,
          1411.3748743127069,
          1546.3862233793775,
          1653.611268198273,
          1736.5908399465277
         ],
         "xaxis": "x2",
         "y": [
          0,
          49.958306217480896,
          84.78621652626988,
          119.92423331418176,
          160.48725072533708,
          207.9113645217454,
          262.9386003603269,
          326.8056883542475,
          401.0172190646532,
          487.84611975765057,
          588.7853529984344,
          706.934383775208,
          845.1440456606463,
          1006.6502976307896,
          1195.3819016416005
         ],
         "yaxis": "y2"
        },
        {
         "legendgroup": "test_2",
         "mode": "markers",
         "name": "Run id in Test 2",
         "type": "scatter",
         "x": [
          0,
          0.0854355568288807,
          1.6092625643264258,
          15.15306007085573,
          73.21962446854067,
          204.75841445857023,
          398.2225074477981,
          618.5671629053375,
          834.8994407537554,
          1028.7815128523432,
          1191.952374312491,
          1323.1237497744814,
          1427.1505262970163,
          1509.177096006116,
          1573.4842264771685
         ],
         "xaxis": "x2",
         "y": [
          0,
          43.25353717709457,
          73.44516576831997,
          103.57351909131357,
          138.3392058101809,
          179.0865689623494,
          226.31572721536003,
          281.1066767609124,
          344.85333598665045,
          418.9122873596264,
          505.9268233691891,
          607.3306785547006,
          726.0481814845166,
          864.9129711659717,
          1027.176503028026
         ],
         "yaxis": "y2"
        },
        {
         "legendgroup": "test_3",
         "mode": "markers",
         "name": "Run id in Test 3",
         "type": "scatter",
         "x": [
          0,
          0.0532844883797582,
          1.1745834254072027,
          12.400110906230712,
          64.33322629187558,
          186.9762484824127,
          370.7059655837582,
          580.4291461413053,
          784.4388717931332,
          964.694945425899,
          1113.2574886158343,
          1206.3258825585165,
          1206.325890023906,
          1206.3258900094436,
          1206.3258900076912
         ],
         "xaxis": "x2",
         "y": [
          0,
          52.27183653811048,
          88.58410694746915,
          125.2809365670858,
          167.78420942361373,
          217.45497154620375,
          275.12892460437297,
          342.04057261668055,
          419.76560747882587,
          510.1782090821601,
          616.1274510672374,
          739.9161992998995,
          884.6815835599606,
          1053.8313702322853,
          1251.5101165217764
         ],
         "yaxis": "y2"
        },
        {
         "legendgroup": "test_4",
         "mode": "markers",
         "name": "Run id in Test 4",
         "type": "scatter",
         "x": [
          0,
          0.1271028978965827,
          3.043268173982997,
          28.535584577172003,
          116.56093471808562,
          271.0820879759505,
          454.3992159877672,
          629.9846449120229,
          777.5049250060061,
          889.0424907203862,
          965.8903434918803,
          1018.7426183492312,
          1055.7385430042384,
          1081.8878031673305,
          1100.471520461802
         ],
         "xaxis": "x2",
         "y": [
          0,
          51.357691404316384,
          87.01898184333534,
          122.78434710056929,
          164.03918338331908,
          212.46053160609256,
          268.6371120010123,
          333.7295490972608,
          409.42170176400003,
          497.23835731428363,
          600.5654388871222,
          720.9132107927352,
          861.8058365921862,
          1026.5038331852033,
          1218.968115871728
         ],
         "yaxis": "y2"
        },
        {
         "legendgroup": "test_5",
         "mode": "markers",
         "name": "Run id in Test 5",
         "type": "scatter",
         "x": [
          0,
          0.030935924736293,
          0.804162343449244,
          10.870548517297646,
          65.22768655509961,
          195.8585375096484,
          380.0010361514075,
          573.2161531583585,
          744.9282135378564,
          881.5839367271855,
          980.1323846987966,
          1043.8984122969127,
          1083.679069018441,
          1108.8968951501029,
          1125.052087317103
         ],
         "xaxis": "x2",
         "y": [
          0,
          66.4807923974411,
          112.80255400625866,
          160.60393858079786,
          214.76214179743667,
          278.02099236542705,
          351.4369827585394,
          436.6355418341407,
          535.5803048301111,
          650.6037082017182,
          784.7209281154634,
          942.014507498416,
          1126.0725425305416,
          1341.1105959003003,
          1592.411486081602
         ],
         "yaxis": "y2"
        },
        {
         "legendgroup": "test_6",
         "mode": "markers",
         "name": "Run id in Test 6",
         "type": "scatter",
         "x": [
          0,
          0.1544111652934467,
          3.7599944327811374,
          32.09025603312709,
          125.87188314534892,
          296.2627151898705,
          514.158742340626,
          743.343236146268,
          958.7202578978104,
          1147.7971737836272,
          1306.3166571781155,
          1434.1989079569498,
          1533.80175002571,
          1606.8302417039786,
          1642.45281821088
         ],
         "xaxis": "x2",
         "y": [
          0,
          65.07700626599025,
          110.0836975960114,
          156.09418293854858,
          209.31889165757505,
          271.4557073268596,
          343.52538231443276,
          427.1648589450676,
          524.2096401622989,
          637.1212978683326,
          769.2578127367784,
          923.763120156243,
          1104.4589917633994,
          1315.5746037144309,
          1562.3132181767392
         ],
         "yaxis": "y2"
        },
        {
         "legendgroup": "test_7",
         "mode": "markers",
         "name": "Run id in Test 7",
         "type": "scatter",
         "x": [
          0,
          0.1286279523117829,
          2.342442711201244,
          20.45181017599882,
          88.7824526964827,
          226.36982620800097,
          411.3388964710858,
          608.2362445845563,
          791.3387220952158,
          948.0160994755988,
          1074.6884871389736,
          1173.7661017215894,
          1250.2321253331695,
          1308.6545890123389,
          1352.9446842650268
         ],
         "xaxis": "x2",
         "y": [
          0,
          47.9501758718242,
          81.29709413397467,
          114.7784228943769,
          153.67572110802203,
          199.21237368296613,
          252.0632626943084,
          313.38955083476503,
          384.6650508437286,
          467.57681180481205,
          564.79508008598,
          678.3242733703911,
          811.1298693556934,
          966.3152463212635,
          1147.671247321634
         ],
         "yaxis": "y2"
        },
        {
         "legendgroup": "test_8",
         "mode": "markers",
         "name": "Run id in Test 8",
         "type": "scatter",
         "x": [
          0,
          0.0394649376441817,
          1.139667969188726,
          15.14525494943351,
          86.48169581613604,
          251.5004556721223,
          483.3663578645889,
          731.0518874452288,
          958.0819454950264,
          1148.0484050576056,
          1297.9680603092725,
          1411.989486887015,
          1497.089986665622,
          1559.7604330226195,
          1605.464984209573
         ],
         "xaxis": "x2",
         "y": [
          0,
          66.73949335164708,
          112.78157233358881,
          159.94849865752042,
          214.44188418402763,
          278.1115036136108,
          351.95417171948645,
          437.6375770914395,
          537.0555779900076,
          652.7347450955064,
          788.1068670551259,
          946.3958812395512,
          1131.5066478593171,
          1347.7814159019254,
          1600.5533010240003
         ],
         "yaxis": "y2"
        },
        {
         "legendgroup": "test_9",
         "mode": "markers",
         "name": "Run id in Test 9",
         "type": "scatter",
         "x": [
          0,
          0.1036825935213099,
          1.8759111567395288,
          18.21704051387724,
          91.8183531595854,
          260.8827697220299,
          506.8788143193637,
          781.838227586801,
          1046.7682798947126,
          1280.778709654132,
          1476.298589359522,
          1632.8559662496232,
          1755.007587791339,
          1849.4347546111003,
          1921.8083818131652
         ],
         "xaxis": "x2",
         "y": [
          0,
          35.85327392771402,
          60.402200417041456,
          84.65539745385199,
          112.77227411629491,
          145.18954714187484,
          183.45503184900966,
          227.7913374861732,
          279.20201167739253,
          338.8952366048039,
          408.1282878987253,
          489.7473685465988,
          584.9008437083022,
          696.3256375742735,
          826.6601832195759
         ],
         "yaxis": "y2"
        }
       ],
       "layout": {
        "annotations": [
         {
          "font": {
           "size": 16
          },
          "showarrow": false,
          "text": "Train Set - X:Titer <br> R^2 = -1.109 <br> Abs RMSE = 275.993 <br> Rel RMSE = 0.908",
          "x": 0.225,
          "xanchor": "center",
          "xref": "paper",
          "y": 1,
          "yanchor": "bottom",
          "yref": "paper"
         },
         {
          "font": {
           "size": 16
          },
          "showarrow": false,
          "text": "Test Set - X:Titer <br> R^2 = 0.561 <br> Abs RMSE = 398.805 <br> Rel RMSE = 0.635",
          "x": 0.775,
          "xanchor": "center",
          "xref": "paper",
          "y": 1,
          "yanchor": "bottom",
          "yref": "paper"
         }
        ],
        "shapes": [
         {
          "layer": "above",
          "line": {
           "dash": "dash"
          },
          "type": "line",
          "x0": 0,
          "x1": 1751.1843503050545,
          "y0": 0,
          "y1": 1751.1843503050545
         },
         {
          "layer": "above",
          "line": {
           "dash": "dash"
          },
          "type": "line",
          "x0": 0,
          "x1": 1600.5533010240003,
          "xref": "x2",
          "y0": 0,
          "y1": 1600.5533010240003,
          "yref": "y2"
         }
        ],
        "template": {
         "data": {
          "bar": [
           {
            "error_x": {
             "color": "#2a3f5f"
            },
            "error_y": {
             "color": "#2a3f5f"
            },
            "marker": {
             "line": {
              "color": "white",
              "width": 0.5
             },
             "pattern": {
              "fillmode": "overlay",
              "size": 10,
              "solidity": 0.2
             }
            },
            "type": "bar"
           }
          ],
          "barpolar": [
           {
            "marker": {
             "line": {
              "color": "white",
              "width": 0.5
             },
             "pattern": {
              "fillmode": "overlay",
              "size": 10,
              "solidity": 0.2
             }
            },
            "type": "barpolar"
           }
          ],
          "carpet": [
           {
            "aaxis": {
             "endlinecolor": "#2a3f5f",
             "gridcolor": "#C8D4E3",
             "linecolor": "#C8D4E3",
             "minorgridcolor": "#C8D4E3",
             "startlinecolor": "#2a3f5f"
            },
            "baxis": {
             "endlinecolor": "#2a3f5f",
             "gridcolor": "#C8D4E3",
             "linecolor": "#C8D4E3",
             "minorgridcolor": "#C8D4E3",
             "startlinecolor": "#2a3f5f"
            },
            "type": "carpet"
           }
          ],
          "choropleth": [
           {
            "colorbar": {
             "outlinewidth": 0,
             "ticks": ""
            },
            "type": "choropleth"
           }
          ],
          "contour": [
           {
            "colorbar": {
             "outlinewidth": 0,
             "ticks": ""
            },
            "colorscale": [
             [
              0,
              "#0d0887"
             ],
             [
              0.1111111111111111,
              "#46039f"
             ],
             [
              0.2222222222222222,
              "#7201a8"
             ],
             [
              0.3333333333333333,
              "#9c179e"
             ],
             [
              0.4444444444444444,
              "#bd3786"
             ],
             [
              0.5555555555555556,
              "#d8576b"
             ],
             [
              0.6666666666666666,
              "#ed7953"
             ],
             [
              0.7777777777777778,
              "#fb9f3a"
             ],
             [
              0.8888888888888888,
              "#fdca26"
             ],
             [
              1,
              "#f0f921"
             ]
            ],
            "type": "contour"
           }
          ],
          "contourcarpet": [
           {
            "colorbar": {
             "outlinewidth": 0,
             "ticks": ""
            },
            "type": "contourcarpet"
           }
          ],
          "heatmap": [
           {
            "colorbar": {
             "outlinewidth": 0,
             "ticks": ""
            },
            "colorscale": [
             [
              0,
              "#0d0887"
             ],
             [
              0.1111111111111111,
              "#46039f"
             ],
             [
              0.2222222222222222,
              "#7201a8"
             ],
             [
              0.3333333333333333,
              "#9c179e"
             ],
             [
              0.4444444444444444,
              "#bd3786"
             ],
             [
              0.5555555555555556,
              "#d8576b"
             ],
             [
              0.6666666666666666,
              "#ed7953"
             ],
             [
              0.7777777777777778,
              "#fb9f3a"
             ],
             [
              0.8888888888888888,
              "#fdca26"
             ],
             [
              1,
              "#f0f921"
             ]
            ],
            "type": "heatmap"
           }
          ],
          "heatmapgl": [
           {
            "colorbar": {
             "outlinewidth": 0,
             "ticks": ""
            },
            "colorscale": [
             [
              0,
              "#0d0887"
             ],
             [
              0.1111111111111111,
              "#46039f"
             ],
             [
              0.2222222222222222,
              "#7201a8"
             ],
             [
              0.3333333333333333,
              "#9c179e"
             ],
             [
              0.4444444444444444,
              "#bd3786"
             ],
             [
              0.5555555555555556,
              "#d8576b"
             ],
             [
              0.6666666666666666,
              "#ed7953"
             ],
             [
              0.7777777777777778,
              "#fb9f3a"
             ],
             [
              0.8888888888888888,
              "#fdca26"
             ],
             [
              1,
              "#f0f921"
             ]
            ],
            "type": "heatmapgl"
           }
          ],
          "histogram": [
           {
            "marker": {
             "pattern": {
              "fillmode": "overlay",
              "size": 10,
              "solidity": 0.2
             }
            },
            "type": "histogram"
           }
          ],
          "histogram2d": [
           {
            "colorbar": {
             "outlinewidth": 0,
             "ticks": ""
            },
            "colorscale": [
             [
              0,
              "#0d0887"
             ],
             [
              0.1111111111111111,
              "#46039f"
             ],
             [
              0.2222222222222222,
              "#7201a8"
             ],
             [
              0.3333333333333333,
              "#9c179e"
             ],
             [
              0.4444444444444444,
              "#bd3786"
             ],
             [
              0.5555555555555556,
              "#d8576b"
             ],
             [
              0.6666666666666666,
              "#ed7953"
             ],
             [
              0.7777777777777778,
              "#fb9f3a"
             ],
             [
              0.8888888888888888,
              "#fdca26"
             ],
             [
              1,
              "#f0f921"
             ]
            ],
            "type": "histogram2d"
           }
          ],
          "histogram2dcontour": [
           {
            "colorbar": {
             "outlinewidth": 0,
             "ticks": ""
            },
            "colorscale": [
             [
              0,
              "#0d0887"
             ],
             [
              0.1111111111111111,
              "#46039f"
             ],
             [
              0.2222222222222222,
              "#7201a8"
             ],
             [
              0.3333333333333333,
              "#9c179e"
             ],
             [
              0.4444444444444444,
              "#bd3786"
             ],
             [
              0.5555555555555556,
              "#d8576b"
             ],
             [
              0.6666666666666666,
              "#ed7953"
             ],
             [
              0.7777777777777778,
              "#fb9f3a"
             ],
             [
              0.8888888888888888,
              "#fdca26"
             ],
             [
              1,
              "#f0f921"
             ]
            ],
            "type": "histogram2dcontour"
           }
          ],
          "mesh3d": [
           {
            "colorbar": {
             "outlinewidth": 0,
             "ticks": ""
            },
            "type": "mesh3d"
           }
          ],
          "parcoords": [
           {
            "line": {
             "colorbar": {
              "outlinewidth": 0,
              "ticks": ""
             }
            },
            "type": "parcoords"
           }
          ],
          "pie": [
           {
            "automargin": true,
            "type": "pie"
           }
          ],
          "scatter": [
           {
            "fillpattern": {
             "fillmode": "overlay",
             "size": 10,
             "solidity": 0.2
            },
            "type": "scatter"
           }
          ],
          "scatter3d": [
           {
            "line": {
             "colorbar": {
              "outlinewidth": 0,
              "ticks": ""
             }
            },
            "marker": {
             "colorbar": {
              "outlinewidth": 0,
              "ticks": ""
             }
            },
            "type": "scatter3d"
           }
          ],
          "scattercarpet": [
           {
            "marker": {
             "colorbar": {
              "outlinewidth": 0,
              "ticks": ""
             }
            },
            "type": "scattercarpet"
           }
          ],
          "scattergeo": [
           {
            "marker": {
             "colorbar": {
              "outlinewidth": 0,
              "ticks": ""
             }
            },
            "type": "scattergeo"
           }
          ],
          "scattergl": [
           {
            "marker": {
             "colorbar": {
              "outlinewidth": 0,
              "ticks": ""
             }
            },
            "type": "scattergl"
           }
          ],
          "scattermapbox": [
           {
            "marker": {
             "colorbar": {
              "outlinewidth": 0,
              "ticks": ""
             }
            },
            "type": "scattermapbox"
           }
          ],
          "scatterpolar": [
           {
            "marker": {
             "colorbar": {
              "outlinewidth": 0,
              "ticks": ""
             }
            },
            "type": "scatterpolar"
           }
          ],
          "scatterpolargl": [
           {
            "marker": {
             "colorbar": {
              "outlinewidth": 0,
              "ticks": ""
             }
            },
            "type": "scatterpolargl"
           }
          ],
          "scatterternary": [
           {
            "marker": {
             "colorbar": {
              "outlinewidth": 0,
              "ticks": ""
             }
            },
            "type": "scatterternary"
           }
          ],
          "surface": [
           {
            "colorbar": {
             "outlinewidth": 0,
             "ticks": ""
            },
            "colorscale": [
             [
              0,
              "#0d0887"
             ],
             [
              0.1111111111111111,
              "#46039f"
             ],
             [
              0.2222222222222222,
              "#7201a8"
             ],
             [
              0.3333333333333333,
              "#9c179e"
             ],
             [
              0.4444444444444444,
              "#bd3786"
             ],
             [
              0.5555555555555556,
              "#d8576b"
             ],
             [
              0.6666666666666666,
              "#ed7953"
             ],
             [
              0.7777777777777778,
              "#fb9f3a"
             ],
             [
              0.8888888888888888,
              "#fdca26"
             ],
             [
              1,
              "#f0f921"
             ]
            ],
            "type": "surface"
           }
          ],
          "table": [
           {
            "cells": {
             "fill": {
              "color": "#EBF0F8"
             },
             "line": {
              "color": "white"
             }
            },
            "header": {
             "fill": {
              "color": "#C8D4E3"
             },
             "line": {
              "color": "white"
             }
            },
            "type": "table"
           }
          ]
         },
         "layout": {
          "annotationdefaults": {
           "arrowcolor": "#2a3f5f",
           "arrowhead": 0,
           "arrowwidth": 1
          },
          "autotypenumbers": "strict",
          "coloraxis": {
           "colorbar": {
            "outlinewidth": 0,
            "ticks": ""
           }
          },
          "colorscale": {
           "diverging": [
            [
             0,
             "#8e0152"
            ],
            [
             0.1,
             "#c51b7d"
            ],
            [
             0.2,
             "#de77ae"
            ],
            [
             0.3,
             "#f1b6da"
            ],
            [
             0.4,
             "#fde0ef"
            ],
            [
             0.5,
             "#f7f7f7"
            ],
            [
             0.6,
             "#e6f5d0"
            ],
            [
             0.7,
             "#b8e186"
            ],
            [
             0.8,
             "#7fbc41"
            ],
            [
             0.9,
             "#4d9221"
            ],
            [
             1,
             "#276419"
            ]
           ],
           "sequential": [
            [
             0,
             "#0d0887"
            ],
            [
             0.1111111111111111,
             "#46039f"
            ],
            [
             0.2222222222222222,
             "#7201a8"
            ],
            [
             0.3333333333333333,
             "#9c179e"
            ],
            [
             0.4444444444444444,
             "#bd3786"
            ],
            [
             0.5555555555555556,
             "#d8576b"
            ],
            [
             0.6666666666666666,
             "#ed7953"
            ],
            [
             0.7777777777777778,
             "#fb9f3a"
            ],
            [
             0.8888888888888888,
             "#fdca26"
            ],
            [
             1,
             "#f0f921"
            ]
           ],
           "sequentialminus": [
            [
             0,
             "#0d0887"
            ],
            [
             0.1111111111111111,
             "#46039f"
            ],
            [
             0.2222222222222222,
             "#7201a8"
            ],
            [
             0.3333333333333333,
             "#9c179e"
            ],
            [
             0.4444444444444444,
             "#bd3786"
            ],
            [
             0.5555555555555556,
             "#d8576b"
            ],
            [
             0.6666666666666666,
             "#ed7953"
            ],
            [
             0.7777777777777778,
             "#fb9f3a"
            ],
            [
             0.8888888888888888,
             "#fdca26"
            ],
            [
             1,
             "#f0f921"
            ]
           ]
          },
          "colorway": [
           "#636efa",
           "#EF553B",
           "#00cc96",
           "#ab63fa",
           "#FFA15A",
           "#19d3f3",
           "#FF6692",
           "#B6E880",
           "#FF97FF",
           "#FECB52"
          ],
          "font": {
           "color": "#2a3f5f"
          },
          "geo": {
           "bgcolor": "white",
           "lakecolor": "white",
           "landcolor": "white",
           "showlakes": true,
           "showland": true,
           "subunitcolor": "#C8D4E3"
          },
          "hoverlabel": {
           "align": "left"
          },
          "hovermode": "closest",
          "mapbox": {
           "style": "light"
          },
          "paper_bgcolor": "white",
          "plot_bgcolor": "white",
          "polar": {
           "angularaxis": {
            "gridcolor": "#EBF0F8",
            "linecolor": "#EBF0F8",
            "ticks": ""
           },
           "bgcolor": "white",
           "radialaxis": {
            "gridcolor": "#EBF0F8",
            "linecolor": "#EBF0F8",
            "ticks": ""
           }
          },
          "scene": {
           "xaxis": {
            "backgroundcolor": "white",
            "gridcolor": "#DFE8F3",
            "gridwidth": 2,
            "linecolor": "#EBF0F8",
            "showbackground": true,
            "ticks": "",
            "zerolinecolor": "#EBF0F8"
           },
           "yaxis": {
            "backgroundcolor": "white",
            "gridcolor": "#DFE8F3",
            "gridwidth": 2,
            "linecolor": "#EBF0F8",
            "showbackground": true,
            "ticks": "",
            "zerolinecolor": "#EBF0F8"
           },
           "zaxis": {
            "backgroundcolor": "white",
            "gridcolor": "#DFE8F3",
            "gridwidth": 2,
            "linecolor": "#EBF0F8",
            "showbackground": true,
            "ticks": "",
            "zerolinecolor": "#EBF0F8"
           }
          },
          "shapedefaults": {
           "line": {
            "color": "#2a3f5f"
           }
          },
          "ternary": {
           "aaxis": {
            "gridcolor": "#DFE8F3",
            "linecolor": "#A2B1C6",
            "ticks": ""
           },
           "baxis": {
            "gridcolor": "#DFE8F3",
            "linecolor": "#A2B1C6",
            "ticks": ""
           },
           "bgcolor": "white",
           "caxis": {
            "gridcolor": "#DFE8F3",
            "linecolor": "#A2B1C6",
            "ticks": ""
           }
          },
          "title": {
           "x": 0.05
          },
          "xaxis": {
           "automargin": true,
           "gridcolor": "#EBF0F8",
           "linecolor": "#EBF0F8",
           "ticks": "",
           "title": {
            "standoff": 15
           },
           "zerolinecolor": "#EBF0F8",
           "zerolinewidth": 2
          },
          "yaxis": {
           "automargin": true,
           "gridcolor": "#EBF0F8",
           "linecolor": "#EBF0F8",
           "ticks": "",
           "title": {
            "standoff": 15
           },
           "zerolinecolor": "#EBF0F8",
           "zerolinewidth": 2
          }
         }
        },
        "width": 1600,
        "xaxis": {
         "anchor": "y",
         "domain": [
          0,
          0.45
         ],
         "title": {
          "text": "Observed values"
         }
        },
        "xaxis2": {
         "anchor": "y2",
         "domain": [
          0.55,
          1
         ],
         "title": {
          "text": "Observed values"
         }
        },
        "yaxis": {
         "anchor": "x",
         "domain": [
          0,
          1
         ],
         "title": {
          "text": "Predicted values"
         }
        },
        "yaxis2": {
         "anchor": "x2",
         "domain": [
          0,
          1
         ],
         "title": {
          "text": "Predicted values"
         }
        }
       }
      }
     },
     "metadata": {},
     "output_type": "display_data"
    }
   ],
   "source": [
    "plot_multi_step_ann_model_eval(\n",
    "    X,\n",
    "    X_pred,\n",
    "    X_test,\n",
    "    X_test_pred,\n",
    "    X_columns=X_columns,\n",
    ")\n"
   ]
  },
  {
   "cell_type": "code",
   "execution_count": 25,
   "metadata": {},
   "outputs": [
    {
     "data": {
      "application/vnd.plotly.v1+json": {
       "config": {
        "plotlyServerURL": "https://plot.ly"
       },
       "data": [
        {
         "marker": {
          "color": "#4C78A8"
         },
         "name": "Train Set",
         "text": [
          "0.43",
          "2.57",
          "1.58",
          "0.91"
         ],
         "textposition": "outside",
         "type": "bar",
         "x": [
          "X:VCD",
          "X:Glc",
          "X:Lac",
          "X:Titer"
         ],
         "y": [
          0.435,
          2.568,
          1.576,
          0.908
         ]
        },
        {
         "marker": {
          "color": "#F58518"
         },
         "name": "Test Set",
         "text": [
          "1.04",
          "5.96",
          "0.64",
          "0.64"
         ],
         "textposition": "outside",
         "type": "bar",
         "x": [
          "X:VCD",
          "X:Glc",
          "X:Lac",
          "X:Titer"
         ],
         "y": [
          1.039,
          5.965,
          0.641,
          0.635
         ]
        }
       ],
       "layout": {
        "barmode": "group",
        "legend": {
         "orientation": "h",
         "x": 0.5,
         "xanchor": "center",
         "y": 1.02,
         "yanchor": "bottom"
        },
        "template": {
         "data": {
          "bar": [
           {
            "error_x": {
             "color": "#2a3f5f"
            },
            "error_y": {
             "color": "#2a3f5f"
            },
            "marker": {
             "line": {
              "color": "white",
              "width": 0.5
             },
             "pattern": {
              "fillmode": "overlay",
              "size": 10,
              "solidity": 0.2
             }
            },
            "type": "bar"
           }
          ],
          "barpolar": [
           {
            "marker": {
             "line": {
              "color": "white",
              "width": 0.5
             },
             "pattern": {
              "fillmode": "overlay",
              "size": 10,
              "solidity": 0.2
             }
            },
            "type": "barpolar"
           }
          ],
          "carpet": [
           {
            "aaxis": {
             "endlinecolor": "#2a3f5f",
             "gridcolor": "#C8D4E3",
             "linecolor": "#C8D4E3",
             "minorgridcolor": "#C8D4E3",
             "startlinecolor": "#2a3f5f"
            },
            "baxis": {
             "endlinecolor": "#2a3f5f",
             "gridcolor": "#C8D4E3",
             "linecolor": "#C8D4E3",
             "minorgridcolor": "#C8D4E3",
             "startlinecolor": "#2a3f5f"
            },
            "type": "carpet"
           }
          ],
          "choropleth": [
           {
            "colorbar": {
             "outlinewidth": 0,
             "ticks": ""
            },
            "type": "choropleth"
           }
          ],
          "contour": [
           {
            "colorbar": {
             "outlinewidth": 0,
             "ticks": ""
            },
            "colorscale": [
             [
              0,
              "#0d0887"
             ],
             [
              0.1111111111111111,
              "#46039f"
             ],
             [
              0.2222222222222222,
              "#7201a8"
             ],
             [
              0.3333333333333333,
              "#9c179e"
             ],
             [
              0.4444444444444444,
              "#bd3786"
             ],
             [
              0.5555555555555556,
              "#d8576b"
             ],
             [
              0.6666666666666666,
              "#ed7953"
             ],
             [
              0.7777777777777778,
              "#fb9f3a"
             ],
             [
              0.8888888888888888,
              "#fdca26"
             ],
             [
              1,
              "#f0f921"
             ]
            ],
            "type": "contour"
           }
          ],
          "contourcarpet": [
           {
            "colorbar": {
             "outlinewidth": 0,
             "ticks": ""
            },
            "type": "contourcarpet"
           }
          ],
          "heatmap": [
           {
            "colorbar": {
             "outlinewidth": 0,
             "ticks": ""
            },
            "colorscale": [
             [
              0,
              "#0d0887"
             ],
             [
              0.1111111111111111,
              "#46039f"
             ],
             [
              0.2222222222222222,
              "#7201a8"
             ],
             [
              0.3333333333333333,
              "#9c179e"
             ],
             [
              0.4444444444444444,
              "#bd3786"
             ],
             [
              0.5555555555555556,
              "#d8576b"
             ],
             [
              0.6666666666666666,
              "#ed7953"
             ],
             [
              0.7777777777777778,
              "#fb9f3a"
             ],
             [
              0.8888888888888888,
              "#fdca26"
             ],
             [
              1,
              "#f0f921"
             ]
            ],
            "type": "heatmap"
           }
          ],
          "heatmapgl": [
           {
            "colorbar": {
             "outlinewidth": 0,
             "ticks": ""
            },
            "colorscale": [
             [
              0,
              "#0d0887"
             ],
             [
              0.1111111111111111,
              "#46039f"
             ],
             [
              0.2222222222222222,
              "#7201a8"
             ],
             [
              0.3333333333333333,
              "#9c179e"
             ],
             [
              0.4444444444444444,
              "#bd3786"
             ],
             [
              0.5555555555555556,
              "#d8576b"
             ],
             [
              0.6666666666666666,
              "#ed7953"
             ],
             [
              0.7777777777777778,
              "#fb9f3a"
             ],
             [
              0.8888888888888888,
              "#fdca26"
             ],
             [
              1,
              "#f0f921"
             ]
            ],
            "type": "heatmapgl"
           }
          ],
          "histogram": [
           {
            "marker": {
             "pattern": {
              "fillmode": "overlay",
              "size": 10,
              "solidity": 0.2
             }
            },
            "type": "histogram"
           }
          ],
          "histogram2d": [
           {
            "colorbar": {
             "outlinewidth": 0,
             "ticks": ""
            },
            "colorscale": [
             [
              0,
              "#0d0887"
             ],
             [
              0.1111111111111111,
              "#46039f"
             ],
             [
              0.2222222222222222,
              "#7201a8"
             ],
             [
              0.3333333333333333,
              "#9c179e"
             ],
             [
              0.4444444444444444,
              "#bd3786"
             ],
             [
              0.5555555555555556,
              "#d8576b"
             ],
             [
              0.6666666666666666,
              "#ed7953"
             ],
             [
              0.7777777777777778,
              "#fb9f3a"
             ],
             [
              0.8888888888888888,
              "#fdca26"
             ],
             [
              1,
              "#f0f921"
             ]
            ],
            "type": "histogram2d"
           }
          ],
          "histogram2dcontour": [
           {
            "colorbar": {
             "outlinewidth": 0,
             "ticks": ""
            },
            "colorscale": [
             [
              0,
              "#0d0887"
             ],
             [
              0.1111111111111111,
              "#46039f"
             ],
             [
              0.2222222222222222,
              "#7201a8"
             ],
             [
              0.3333333333333333,
              "#9c179e"
             ],
             [
              0.4444444444444444,
              "#bd3786"
             ],
             [
              0.5555555555555556,
              "#d8576b"
             ],
             [
              0.6666666666666666,
              "#ed7953"
             ],
             [
              0.7777777777777778,
              "#fb9f3a"
             ],
             [
              0.8888888888888888,
              "#fdca26"
             ],
             [
              1,
              "#f0f921"
             ]
            ],
            "type": "histogram2dcontour"
           }
          ],
          "mesh3d": [
           {
            "colorbar": {
             "outlinewidth": 0,
             "ticks": ""
            },
            "type": "mesh3d"
           }
          ],
          "parcoords": [
           {
            "line": {
             "colorbar": {
              "outlinewidth": 0,
              "ticks": ""
             }
            },
            "type": "parcoords"
           }
          ],
          "pie": [
           {
            "automargin": true,
            "type": "pie"
           }
          ],
          "scatter": [
           {
            "fillpattern": {
             "fillmode": "overlay",
             "size": 10,
             "solidity": 0.2
            },
            "type": "scatter"
           }
          ],
          "scatter3d": [
           {
            "line": {
             "colorbar": {
              "outlinewidth": 0,
              "ticks": ""
             }
            },
            "marker": {
             "colorbar": {
              "outlinewidth": 0,
              "ticks": ""
             }
            },
            "type": "scatter3d"
           }
          ],
          "scattercarpet": [
           {
            "marker": {
             "colorbar": {
              "outlinewidth": 0,
              "ticks": ""
             }
            },
            "type": "scattercarpet"
           }
          ],
          "scattergeo": [
           {
            "marker": {
             "colorbar": {
              "outlinewidth": 0,
              "ticks": ""
             }
            },
            "type": "scattergeo"
           }
          ],
          "scattergl": [
           {
            "marker": {
             "colorbar": {
              "outlinewidth": 0,
              "ticks": ""
             }
            },
            "type": "scattergl"
           }
          ],
          "scattermapbox": [
           {
            "marker": {
             "colorbar": {
              "outlinewidth": 0,
              "ticks": ""
             }
            },
            "type": "scattermapbox"
           }
          ],
          "scatterpolar": [
           {
            "marker": {
             "colorbar": {
              "outlinewidth": 0,
              "ticks": ""
             }
            },
            "type": "scatterpolar"
           }
          ],
          "scatterpolargl": [
           {
            "marker": {
             "colorbar": {
              "outlinewidth": 0,
              "ticks": ""
             }
            },
            "type": "scatterpolargl"
           }
          ],
          "scatterternary": [
           {
            "marker": {
             "colorbar": {
              "outlinewidth": 0,
              "ticks": ""
             }
            },
            "type": "scatterternary"
           }
          ],
          "surface": [
           {
            "colorbar": {
             "outlinewidth": 0,
             "ticks": ""
            },
            "colorscale": [
             [
              0,
              "#0d0887"
             ],
             [
              0.1111111111111111,
              "#46039f"
             ],
             [
              0.2222222222222222,
              "#7201a8"
             ],
             [
              0.3333333333333333,
              "#9c179e"
             ],
             [
              0.4444444444444444,
              "#bd3786"
             ],
             [
              0.5555555555555556,
              "#d8576b"
             ],
             [
              0.6666666666666666,
              "#ed7953"
             ],
             [
              0.7777777777777778,
              "#fb9f3a"
             ],
             [
              0.8888888888888888,
              "#fdca26"
             ],
             [
              1,
              "#f0f921"
             ]
            ],
            "type": "surface"
           }
          ],
          "table": [
           {
            "cells": {
             "fill": {
              "color": "#EBF0F8"
             },
             "line": {
              "color": "white"
             }
            },
            "header": {
             "fill": {
              "color": "#C8D4E3"
             },
             "line": {
              "color": "white"
             }
            },
            "type": "table"
           }
          ]
         },
         "layout": {
          "annotationdefaults": {
           "arrowcolor": "#2a3f5f",
           "arrowhead": 0,
           "arrowwidth": 1
          },
          "autotypenumbers": "strict",
          "coloraxis": {
           "colorbar": {
            "outlinewidth": 0,
            "ticks": ""
           }
          },
          "colorscale": {
           "diverging": [
            [
             0,
             "#8e0152"
            ],
            [
             0.1,
             "#c51b7d"
            ],
            [
             0.2,
             "#de77ae"
            ],
            [
             0.3,
             "#f1b6da"
            ],
            [
             0.4,
             "#fde0ef"
            ],
            [
             0.5,
             "#f7f7f7"
            ],
            [
             0.6,
             "#e6f5d0"
            ],
            [
             0.7,
             "#b8e186"
            ],
            [
             0.8,
             "#7fbc41"
            ],
            [
             0.9,
             "#4d9221"
            ],
            [
             1,
             "#276419"
            ]
           ],
           "sequential": [
            [
             0,
             "#0d0887"
            ],
            [
             0.1111111111111111,
             "#46039f"
            ],
            [
             0.2222222222222222,
             "#7201a8"
            ],
            [
             0.3333333333333333,
             "#9c179e"
            ],
            [
             0.4444444444444444,
             "#bd3786"
            ],
            [
             0.5555555555555556,
             "#d8576b"
            ],
            [
             0.6666666666666666,
             "#ed7953"
            ],
            [
             0.7777777777777778,
             "#fb9f3a"
            ],
            [
             0.8888888888888888,
             "#fdca26"
            ],
            [
             1,
             "#f0f921"
            ]
           ],
           "sequentialminus": [
            [
             0,
             "#0d0887"
            ],
            [
             0.1111111111111111,
             "#46039f"
            ],
            [
             0.2222222222222222,
             "#7201a8"
            ],
            [
             0.3333333333333333,
             "#9c179e"
            ],
            [
             0.4444444444444444,
             "#bd3786"
            ],
            [
             0.5555555555555556,
             "#d8576b"
            ],
            [
             0.6666666666666666,
             "#ed7953"
            ],
            [
             0.7777777777777778,
             "#fb9f3a"
            ],
            [
             0.8888888888888888,
             "#fdca26"
            ],
            [
             1,
             "#f0f921"
            ]
           ]
          },
          "colorway": [
           "#636efa",
           "#EF553B",
           "#00cc96",
           "#ab63fa",
           "#FFA15A",
           "#19d3f3",
           "#FF6692",
           "#B6E880",
           "#FF97FF",
           "#FECB52"
          ],
          "font": {
           "color": "#2a3f5f"
          },
          "geo": {
           "bgcolor": "white",
           "lakecolor": "white",
           "landcolor": "white",
           "showlakes": true,
           "showland": true,
           "subunitcolor": "#C8D4E3"
          },
          "hoverlabel": {
           "align": "left"
          },
          "hovermode": "closest",
          "mapbox": {
           "style": "light"
          },
          "paper_bgcolor": "white",
          "plot_bgcolor": "white",
          "polar": {
           "angularaxis": {
            "gridcolor": "#EBF0F8",
            "linecolor": "#EBF0F8",
            "ticks": ""
           },
           "bgcolor": "white",
           "radialaxis": {
            "gridcolor": "#EBF0F8",
            "linecolor": "#EBF0F8",
            "ticks": ""
           }
          },
          "scene": {
           "xaxis": {
            "backgroundcolor": "white",
            "gridcolor": "#DFE8F3",
            "gridwidth": 2,
            "linecolor": "#EBF0F8",
            "showbackground": true,
            "ticks": "",
            "zerolinecolor": "#EBF0F8"
           },
           "yaxis": {
            "backgroundcolor": "white",
            "gridcolor": "#DFE8F3",
            "gridwidth": 2,
            "linecolor": "#EBF0F8",
            "showbackground": true,
            "ticks": "",
            "zerolinecolor": "#EBF0F8"
           },
           "zaxis": {
            "backgroundcolor": "white",
            "gridcolor": "#DFE8F3",
            "gridwidth": 2,
            "linecolor": "#EBF0F8",
            "showbackground": true,
            "ticks": "",
            "zerolinecolor": "#EBF0F8"
           }
          },
          "shapedefaults": {
           "line": {
            "color": "#2a3f5f"
           }
          },
          "ternary": {
           "aaxis": {
            "gridcolor": "#DFE8F3",
            "linecolor": "#A2B1C6",
            "ticks": ""
           },
           "baxis": {
            "gridcolor": "#DFE8F3",
            "linecolor": "#A2B1C6",
            "ticks": ""
           },
           "bgcolor": "white",
           "caxis": {
            "gridcolor": "#DFE8F3",
            "linecolor": "#A2B1C6",
            "ticks": ""
           }
          },
          "title": {
           "x": 0.05
          },
          "xaxis": {
           "automargin": true,
           "gridcolor": "#EBF0F8",
           "linecolor": "#EBF0F8",
           "ticks": "",
           "title": {
            "standoff": 15
           },
           "zerolinecolor": "#EBF0F8",
           "zerolinewidth": 2
          },
          "yaxis": {
           "automargin": true,
           "gridcolor": "#EBF0F8",
           "linecolor": "#EBF0F8",
           "ticks": "",
           "title": {
            "standoff": 15
           },
           "zerolinecolor": "#EBF0F8",
           "zerolinewidth": 2
          }
         }
        },
        "title": {
         "text": "Relative RMSE for Each Variables"
        },
        "xaxis": {
         "title": {
          "text": "Feature"
         }
        },
        "yaxis": {
         "title": {
          "text": "Relative RMSE"
         }
        }
       }
      }
     },
     "metadata": {},
     "output_type": "display_data"
    }
   ],
   "source": [
    "plot_relative_rmse_by_variables(\n",
    "    X,\n",
    "    X_pred,\n",
    "    X_test,\n",
    "    X_test_pred,\n",
    "    X_columns=X_columns,\n",
    ")\n"
   ]
  },
  {
   "cell_type": "markdown",
   "metadata": {},
   "source": [
    "### K-Fold"
   ]
  },
  {
   "cell_type": "code",
   "execution_count": 26,
   "metadata": {},
   "outputs": [
    {
     "name": "stderr",
     "output_type": "stream",
     "text": [
      "100%|██████████| 23/23 [00:05<00:00,  4.18it/s]\n",
      "100%|██████████| 23/23 [00:08<00:00,  2.79it/s]\n",
      "100%|██████████| 23/23 [00:07<00:00,  2.97it/s]\n",
      "100%|██████████| 23/23 [00:07<00:00,  3.01it/s]\n"
     ]
    }
   ],
   "source": [
    "hidden_dims_options = [\n",
    "    [4],\n",
    "    [5],\n",
    "    [6],\n",
    "    [7],\n",
    "\t[8],\n",
    "    [8, 4],\n",
    "    [8, 8],\n",
    "\t[9],\n",
    "\t[10],\n",
    "    [16],\n",
    "    [16, 4],\n",
    "    [16, 8],\n",
    "    [16, 16],\n",
    "    [32],\n",
    "    [32, 4],\n",
    "    [32, 8],\n",
    "    [32, 16],\n",
    "    [32, 32],\n",
    "    [64],\n",
    "    [64, 4],\n",
    "    [64, 8],\n",
    "    [64, 16],\n",
    "    [64, 32], \n",
    "]\n",
    "\n",
    "all_train_eval, all_valid_eval, hidden_dims_options = owu_ann_cross_validation(\n",
    "    doe,\n",
    "    owu,\n",
    "    X_columns=X_columns,\n",
    "    W_columns=W_columns,\n",
    "    hidden_dims_options=hidden_dims_options,\n",
    "    cv_folds=5\n",
    ")"
   ]
  },
  {
   "cell_type": "code",
   "execution_count": 27,
   "metadata": {},
   "outputs": [
    {
     "data": {
      "application/vnd.plotly.v1+json": {
       "config": {
        "plotlyServerURL": "https://plot.ly"
       },
       "data": [
        {
         "line": {
          "dash": "solid"
         },
         "mode": "lines+markers",
         "name": "Train - [4]",
         "type": "scatter",
         "x": [
          0,
          1,
          2,
          3
         ],
         "y": [
          1.8694,
          9.7342,
          9.9724,
          43.36280000000001
         ]
        },
        {
         "line": {
          "dash": "dash"
         },
         "mode": "lines+markers",
         "name": "Validation - [4]",
         "type": "scatter",
         "x": [
          0,
          1,
          2,
          3
         ],
         "y": [
          1.9094000000000002,
          10.059000000000001,
          10.0668,
          43.4346
         ]
        },
        {
         "line": {
          "dash": "solid"
         },
         "mode": "lines+markers",
         "name": "Train - [5]",
         "type": "scatter",
         "x": [
          0,
          1,
          2,
          3
         ],
         "y": [
          13.597,
          86.811,
          83.071,
          493.8942
         ]
        },
        {
         "line": {
          "dash": "dash"
         },
         "mode": "lines+markers",
         "name": "Validation - [5]",
         "type": "scatter",
         "x": [
          0,
          1,
          2,
          3
         ],
         "y": [
          13.4452,
          86.80160000000001,
          82.8976,
          491.1642
         ]
        },
        {
         "line": {
          "dash": "solid"
         },
         "mode": "lines+markers",
         "name": "Train - [6]",
         "type": "scatter",
         "x": [
          0,
          1,
          2,
          3
         ],
         "y": [
          5.731599999999999,
          22.843600000000002,
          8.796199999999999,
          32.041399999999996
         ]
        },
        {
         "line": {
          "dash": "dash"
         },
         "mode": "lines+markers",
         "name": "Validation - [6]",
         "type": "scatter",
         "x": [
          0,
          1,
          2,
          3
         ],
         "y": [
          5.7978,
          23.188200000000002,
          8.889,
          32.1094
         ]
        },
        {
         "line": {
          "dash": "solid"
         },
         "mode": "lines+markers",
         "name": "Train - [7]",
         "type": "scatter",
         "x": [
          0,
          1,
          2,
          3
         ],
         "y": [
          2.4562,
          9.524,
          1.9751999999999998,
          23.267599999999998
         ]
        },
        {
         "line": {
          "dash": "dash"
         },
         "mode": "lines+markers",
         "name": "Validation - [7]",
         "type": "scatter",
         "x": [
          0,
          1,
          2,
          3
         ],
         "y": [
          2.5966,
          9.8326,
          2.1006,
          23.1752
         ]
        },
        {
         "line": {
          "dash": "solid"
         },
         "mode": "lines+markers",
         "name": "Train - [8]",
         "type": "scatter",
         "x": [
          0,
          1,
          2,
          3
         ],
         "y": [
          1.4849999999999999,
          3.5772000000000004,
          3.1812000000000005,
          32.373000000000005
         ]
        },
        {
         "line": {
          "dash": "dash"
         },
         "mode": "lines+markers",
         "name": "Validation - [8]",
         "type": "scatter",
         "x": [
          0,
          1,
          2,
          3
         ],
         "y": [
          1.6448,
          3.7808,
          3.6195999999999997,
          32.925399999999996
         ]
        },
        {
         "line": {
          "dash": "solid"
         },
         "mode": "lines+markers",
         "name": "Train - [8, 4]",
         "type": "scatter",
         "x": [
          0,
          1,
          2,
          3
         ],
         "y": [
          1.0102,
          4.526000000000001,
          5.148,
          14.9358
         ]
        },
        {
         "line": {
          "dash": "dash"
         },
         "mode": "lines+markers",
         "name": "Validation - [8, 4]",
         "type": "scatter",
         "x": [
          0,
          1,
          2,
          3
         ],
         "y": [
          1.3687999999999998,
          5.0542,
          5.4872,
          16.1358
         ]
        },
        {
         "line": {
          "dash": "solid"
         },
         "mode": "lines+markers",
         "name": "Train - [8, 8]",
         "type": "scatter",
         "x": [
          0,
          1,
          2,
          3
         ],
         "y": [
          1.1148,
          3.7095999999999996,
          2.5423999999999998,
          17.8738
         ]
        },
        {
         "line": {
          "dash": "dash"
         },
         "mode": "lines+markers",
         "name": "Validation - [8, 8]",
         "type": "scatter",
         "x": [
          0,
          1,
          2,
          3
         ],
         "y": [
          1.3152000000000001,
          3.8751999999999995,
          2.7778,
          18.7578
         ]
        },
        {
         "line": {
          "dash": "solid"
         },
         "mode": "lines+markers",
         "name": "Train - [9]",
         "type": "scatter",
         "x": [
          0,
          1,
          2,
          3
         ],
         "y": [
          3.4790000000000005,
          12.1948,
          4.629600000000001,
          32.0576
         ]
        },
        {
         "line": {
          "dash": "dash"
         },
         "mode": "lines+markers",
         "name": "Validation - [9]",
         "type": "scatter",
         "x": [
          0,
          1,
          2,
          3
         ],
         "y": [
          3.7161999999999997,
          12.6668,
          4.7212000000000005,
          32.0642
         ]
        },
        {
         "line": {
          "dash": "solid"
         },
         "mode": "lines+markers",
         "name": "Train - [10]",
         "type": "scatter",
         "x": [
          0,
          1,
          2,
          3
         ],
         "y": [
          6.1524,
          3.2638000000000007,
          1.7746000000000002,
          34.933800000000005
         ]
        },
        {
         "line": {
          "dash": "dash"
         },
         "mode": "lines+markers",
         "name": "Validation - [10]",
         "type": "scatter",
         "x": [
          0,
          1,
          2,
          3
         ],
         "y": [
          6.593199999999999,
          3.6228000000000002,
          1.9536000000000002,
          35.625600000000006
         ]
        },
        {
         "line": {
          "dash": "solid"
         },
         "mode": "lines+markers",
         "name": "Train - [16]",
         "type": "scatter",
         "x": [
          0,
          1,
          2,
          3
         ],
         "y": [
          0.8959999999999999,
          5.2984,
          1.3952,
          18.827
         ]
        },
        {
         "line": {
          "dash": "dash"
         },
         "mode": "lines+markers",
         "name": "Validation - [16]",
         "type": "scatter",
         "x": [
          0,
          1,
          2,
          3
         ],
         "y": [
          1.0378,
          5.7222,
          1.8242,
          20.0526
         ]
        },
        {
         "line": {
          "dash": "solid"
         },
         "mode": "lines+markers",
         "name": "Train - [16, 4]",
         "type": "scatter",
         "x": [
          0,
          1,
          2,
          3
         ],
         "y": [
          4.8486,
          3.4436,
          12.3024,
          19.654600000000002
         ]
        },
        {
         "line": {
          "dash": "dash"
         },
         "mode": "lines+markers",
         "name": "Validation - [16, 4]",
         "type": "scatter",
         "x": [
          0,
          1,
          2,
          3
         ],
         "y": [
          4.8132,
          3.9522,
          12.380199999999999,
          20.1232
         ]
        },
        {
         "line": {
          "dash": "solid"
         },
         "mode": "lines+markers",
         "name": "Train - [16, 8]",
         "type": "scatter",
         "x": [
          0,
          1,
          2,
          3
         ],
         "y": [
          11.535599999999999,
          3.3352000000000004,
          2.5271999999999997,
          24.409399999999998
         ]
        },
        {
         "line": {
          "dash": "dash"
         },
         "mode": "lines+markers",
         "name": "Validation - [16, 8]",
         "type": "scatter",
         "x": [
          0,
          1,
          2,
          3
         ],
         "y": [
          11.530600000000002,
          3.6724000000000006,
          2.7714,
          24.5998
         ]
        },
        {
         "line": {
          "dash": "solid"
         },
         "mode": "lines+markers",
         "name": "Train - [16, 16]",
         "type": "scatter",
         "x": [
          0,
          1,
          2,
          3
         ],
         "y": [
          10.6612,
          4.4148000000000005,
          1.266,
          19.0538
         ]
        },
        {
         "line": {
          "dash": "dash"
         },
         "mode": "lines+markers",
         "name": "Validation - [16, 16]",
         "type": "scatter",
         "x": [
          0,
          1,
          2,
          3
         ],
         "y": [
          10.742799999999999,
          4.831999999999999,
          1.6789999999999998,
          20.750800000000005
         ]
        },
        {
         "line": {
          "dash": "solid"
         },
         "mode": "lines+markers",
         "name": "Train - [32]",
         "type": "scatter",
         "x": [
          0,
          1,
          2,
          3
         ],
         "y": [
          24.072,
          5.2298,
          2.9848,
          20.5982
         ]
        },
        {
         "line": {
          "dash": "dash"
         },
         "mode": "lines+markers",
         "name": "Validation - [32]",
         "type": "scatter",
         "x": [
          0,
          1,
          2,
          3
         ],
         "y": [
          24.1886,
          5.614199999999999,
          3.3816,
          21.2218
         ]
        },
        {
         "line": {
          "dash": "solid"
         },
         "mode": "lines+markers",
         "name": "Train - [32, 4]",
         "type": "scatter",
         "x": [
          0,
          1,
          2,
          3
         ],
         "y": [
          0.7008,
          33.4082,
          21.0514,
          20.782
         ]
        },
        {
         "line": {
          "dash": "dash"
         },
         "mode": "lines+markers",
         "name": "Validation - [32, 4]",
         "type": "scatter",
         "x": [
          0,
          1,
          2,
          3
         ],
         "y": [
          0.9204000000000001,
          33.6948,
          20.7888,
          21.134
         ]
        },
        {
         "line": {
          "dash": "solid"
         },
         "mode": "lines+markers",
         "name": "Train - [32, 8]",
         "type": "scatter",
         "x": [
          0,
          1,
          2,
          3
         ],
         "y": [
          21.555799999999998,
          3.2349999999999994,
          1.2027999999999999,
          47.7438
         ]
        },
        {
         "line": {
          "dash": "dash"
         },
         "mode": "lines+markers",
         "name": "Validation - [32, 8]",
         "type": "scatter",
         "x": [
          0,
          1,
          2,
          3
         ],
         "y": [
          21.371000000000002,
          3.6245999999999996,
          1.516,
          47.767399999999995
         ]
        },
        {
         "line": {
          "dash": "solid"
         },
         "mode": "lines+markers",
         "name": "Train - [32, 16]",
         "type": "scatter",
         "x": [
          0,
          1,
          2,
          3
         ],
         "y": [
          25.1788,
          48.0328,
          30.851799999999997,
          47.962599999999995
         ]
        },
        {
         "line": {
          "dash": "dash"
         },
         "mode": "lines+markers",
         "name": "Validation - [32, 16]",
         "type": "scatter",
         "x": [
          0,
          1,
          2,
          3
         ],
         "y": [
          25.1096,
          48.3658,
          30.856,
          47.98459999999999
         ]
        },
        {
         "line": {
          "dash": "solid"
         },
         "mode": "lines+markers",
         "name": "Train - [32, 32]",
         "type": "scatter",
         "x": [
          0,
          1,
          2,
          3
         ],
         "y": [
          12.834399999999999,
          5.937200000000001,
          1.4728,
          6.242800000000001
         ]
        },
        {
         "line": {
          "dash": "dash"
         },
         "mode": "lines+markers",
         "name": "Validation - [32, 32]",
         "type": "scatter",
         "x": [
          0,
          1,
          2,
          3
         ],
         "y": [
          12.798200000000001,
          6.3158,
          1.7254,
          8.287600000000001
         ]
        },
        {
         "line": {
          "dash": "solid"
         },
         "mode": "lines+markers",
         "name": "Train - [64]",
         "type": "scatter",
         "x": [
          0,
          1,
          2,
          3
         ],
         "y": [
          19.2086,
          2.8826,
          0.858,
          11.3392
         ]
        },
        {
         "line": {
          "dash": "dash"
         },
         "mode": "lines+markers",
         "name": "Validation - [64]",
         "type": "scatter",
         "x": [
          0,
          1,
          2,
          3
         ],
         "y": [
          19.132399999999997,
          3.436,
          1.1044,
          12.302000000000001
         ]
        },
        {
         "line": {
          "dash": "solid"
         },
         "mode": "lines+markers",
         "name": "Train - [64, 4]",
         "type": "scatter",
         "x": [
          0,
          1,
          2,
          3
         ],
         "y": [
          6.5712,
          86.1746,
          82.487,
          493.52379999999994
         ]
        },
        {
         "line": {
          "dash": "dash"
         },
         "mode": "lines+markers",
         "name": "Validation - [64, 4]",
         "type": "scatter",
         "x": [
          0,
          1,
          2,
          3
         ],
         "y": [
          6.5676000000000005,
          86.1318,
          82.2966,
          490.7924
         ]
        },
        {
         "line": {
          "dash": "solid"
         },
         "mode": "lines+markers",
         "name": "Train - [64, 8]",
         "type": "scatter",
         "x": [
          0,
          1,
          2,
          3
         ],
         "y": [
          7.246799999999999,
          2.4784,
          0.8192,
          49.7244
         ]
        },
        {
         "line": {
          "dash": "dash"
         },
         "mode": "lines+markers",
         "name": "Validation - [64, 8]",
         "type": "scatter",
         "x": [
          0,
          1,
          2,
          3
         ],
         "y": [
          7.243,
          2.9663999999999997,
          1.2071999999999998,
          49.755399999999995
         ]
        },
        {
         "line": {
          "dash": "solid"
         },
         "mode": "lines+markers",
         "name": "Train - [64, 16]",
         "type": "scatter",
         "x": [
          0,
          1,
          2,
          3
         ],
         "y": [
          0.8518000000000001,
          36.062,
          26.314000000000004,
          49.50699999999999
         ]
        },
        {
         "line": {
          "dash": "dash"
         },
         "mode": "lines+markers",
         "name": "Validation - [64, 16]",
         "type": "scatter",
         "x": [
          0,
          1,
          2,
          3
         ],
         "y": [
          1.0122000000000002,
          36.46,
          26.1428,
          49.5918
         ]
        },
        {
         "line": {
          "dash": "solid"
         },
         "mode": "lines+markers",
         "name": "Train - [64, 32]",
         "type": "scatter",
         "x": [
          0,
          1,
          2,
          3
         ],
         "y": [
          0.6307999999999999,
          2.7354,
          0.9597999999999999,
          66.0986
         ]
        },
        {
         "line": {
          "dash": "dash"
         },
         "mode": "lines+markers",
         "name": "Validation - [64, 32]",
         "type": "scatter",
         "x": [
          0,
          1,
          2,
          3
         ],
         "y": [
          0.977,
          3.2787999999999995,
          1.3532,
          65.9538
         ]
        }
       ],
       "layout": {
        "height": 600,
        "legend": {
         "title": {
          "text": "Evaluation Type"
         }
        },
        "template": {
         "data": {
          "bar": [
           {
            "error_x": {
             "color": "#2a3f5f"
            },
            "error_y": {
             "color": "#2a3f5f"
            },
            "marker": {
             "line": {
              "color": "white",
              "width": 0.5
             },
             "pattern": {
              "fillmode": "overlay",
              "size": 10,
              "solidity": 0.2
             }
            },
            "type": "bar"
           }
          ],
          "barpolar": [
           {
            "marker": {
             "line": {
              "color": "white",
              "width": 0.5
             },
             "pattern": {
              "fillmode": "overlay",
              "size": 10,
              "solidity": 0.2
             }
            },
            "type": "barpolar"
           }
          ],
          "carpet": [
           {
            "aaxis": {
             "endlinecolor": "#2a3f5f",
             "gridcolor": "#C8D4E3",
             "linecolor": "#C8D4E3",
             "minorgridcolor": "#C8D4E3",
             "startlinecolor": "#2a3f5f"
            },
            "baxis": {
             "endlinecolor": "#2a3f5f",
             "gridcolor": "#C8D4E3",
             "linecolor": "#C8D4E3",
             "minorgridcolor": "#C8D4E3",
             "startlinecolor": "#2a3f5f"
            },
            "type": "carpet"
           }
          ],
          "choropleth": [
           {
            "colorbar": {
             "outlinewidth": 0,
             "ticks": ""
            },
            "type": "choropleth"
           }
          ],
          "contour": [
           {
            "colorbar": {
             "outlinewidth": 0,
             "ticks": ""
            },
            "colorscale": [
             [
              0,
              "#0d0887"
             ],
             [
              0.1111111111111111,
              "#46039f"
             ],
             [
              0.2222222222222222,
              "#7201a8"
             ],
             [
              0.3333333333333333,
              "#9c179e"
             ],
             [
              0.4444444444444444,
              "#bd3786"
             ],
             [
              0.5555555555555556,
              "#d8576b"
             ],
             [
              0.6666666666666666,
              "#ed7953"
             ],
             [
              0.7777777777777778,
              "#fb9f3a"
             ],
             [
              0.8888888888888888,
              "#fdca26"
             ],
             [
              1,
              "#f0f921"
             ]
            ],
            "type": "contour"
           }
          ],
          "contourcarpet": [
           {
            "colorbar": {
             "outlinewidth": 0,
             "ticks": ""
            },
            "type": "contourcarpet"
           }
          ],
          "heatmap": [
           {
            "colorbar": {
             "outlinewidth": 0,
             "ticks": ""
            },
            "colorscale": [
             [
              0,
              "#0d0887"
             ],
             [
              0.1111111111111111,
              "#46039f"
             ],
             [
              0.2222222222222222,
              "#7201a8"
             ],
             [
              0.3333333333333333,
              "#9c179e"
             ],
             [
              0.4444444444444444,
              "#bd3786"
             ],
             [
              0.5555555555555556,
              "#d8576b"
             ],
             [
              0.6666666666666666,
              "#ed7953"
             ],
             [
              0.7777777777777778,
              "#fb9f3a"
             ],
             [
              0.8888888888888888,
              "#fdca26"
             ],
             [
              1,
              "#f0f921"
             ]
            ],
            "type": "heatmap"
           }
          ],
          "heatmapgl": [
           {
            "colorbar": {
             "outlinewidth": 0,
             "ticks": ""
            },
            "colorscale": [
             [
              0,
              "#0d0887"
             ],
             [
              0.1111111111111111,
              "#46039f"
             ],
             [
              0.2222222222222222,
              "#7201a8"
             ],
             [
              0.3333333333333333,
              "#9c179e"
             ],
             [
              0.4444444444444444,
              "#bd3786"
             ],
             [
              0.5555555555555556,
              "#d8576b"
             ],
             [
              0.6666666666666666,
              "#ed7953"
             ],
             [
              0.7777777777777778,
              "#fb9f3a"
             ],
             [
              0.8888888888888888,
              "#fdca26"
             ],
             [
              1,
              "#f0f921"
             ]
            ],
            "type": "heatmapgl"
           }
          ],
          "histogram": [
           {
            "marker": {
             "pattern": {
              "fillmode": "overlay",
              "size": 10,
              "solidity": 0.2
             }
            },
            "type": "histogram"
           }
          ],
          "histogram2d": [
           {
            "colorbar": {
             "outlinewidth": 0,
             "ticks": ""
            },
            "colorscale": [
             [
              0,
              "#0d0887"
             ],
             [
              0.1111111111111111,
              "#46039f"
             ],
             [
              0.2222222222222222,
              "#7201a8"
             ],
             [
              0.3333333333333333,
              "#9c179e"
             ],
             [
              0.4444444444444444,
              "#bd3786"
             ],
             [
              0.5555555555555556,
              "#d8576b"
             ],
             [
              0.6666666666666666,
              "#ed7953"
             ],
             [
              0.7777777777777778,
              "#fb9f3a"
             ],
             [
              0.8888888888888888,
              "#fdca26"
             ],
             [
              1,
              "#f0f921"
             ]
            ],
            "type": "histogram2d"
           }
          ],
          "histogram2dcontour": [
           {
            "colorbar": {
             "outlinewidth": 0,
             "ticks": ""
            },
            "colorscale": [
             [
              0,
              "#0d0887"
             ],
             [
              0.1111111111111111,
              "#46039f"
             ],
             [
              0.2222222222222222,
              "#7201a8"
             ],
             [
              0.3333333333333333,
              "#9c179e"
             ],
             [
              0.4444444444444444,
              "#bd3786"
             ],
             [
              0.5555555555555556,
              "#d8576b"
             ],
             [
              0.6666666666666666,
              "#ed7953"
             ],
             [
              0.7777777777777778,
              "#fb9f3a"
             ],
             [
              0.8888888888888888,
              "#fdca26"
             ],
             [
              1,
              "#f0f921"
             ]
            ],
            "type": "histogram2dcontour"
           }
          ],
          "mesh3d": [
           {
            "colorbar": {
             "outlinewidth": 0,
             "ticks": ""
            },
            "type": "mesh3d"
           }
          ],
          "parcoords": [
           {
            "line": {
             "colorbar": {
              "outlinewidth": 0,
              "ticks": ""
             }
            },
            "type": "parcoords"
           }
          ],
          "pie": [
           {
            "automargin": true,
            "type": "pie"
           }
          ],
          "scatter": [
           {
            "fillpattern": {
             "fillmode": "overlay",
             "size": 10,
             "solidity": 0.2
            },
            "type": "scatter"
           }
          ],
          "scatter3d": [
           {
            "line": {
             "colorbar": {
              "outlinewidth": 0,
              "ticks": ""
             }
            },
            "marker": {
             "colorbar": {
              "outlinewidth": 0,
              "ticks": ""
             }
            },
            "type": "scatter3d"
           }
          ],
          "scattercarpet": [
           {
            "marker": {
             "colorbar": {
              "outlinewidth": 0,
              "ticks": ""
             }
            },
            "type": "scattercarpet"
           }
          ],
          "scattergeo": [
           {
            "marker": {
             "colorbar": {
              "outlinewidth": 0,
              "ticks": ""
             }
            },
            "type": "scattergeo"
           }
          ],
          "scattergl": [
           {
            "marker": {
             "colorbar": {
              "outlinewidth": 0,
              "ticks": ""
             }
            },
            "type": "scattergl"
           }
          ],
          "scattermapbox": [
           {
            "marker": {
             "colorbar": {
              "outlinewidth": 0,
              "ticks": ""
             }
            },
            "type": "scattermapbox"
           }
          ],
          "scatterpolar": [
           {
            "marker": {
             "colorbar": {
              "outlinewidth": 0,
              "ticks": ""
             }
            },
            "type": "scatterpolar"
           }
          ],
          "scatterpolargl": [
           {
            "marker": {
             "colorbar": {
              "outlinewidth": 0,
              "ticks": ""
             }
            },
            "type": "scatterpolargl"
           }
          ],
          "scatterternary": [
           {
            "marker": {
             "colorbar": {
              "outlinewidth": 0,
              "ticks": ""
             }
            },
            "type": "scatterternary"
           }
          ],
          "surface": [
           {
            "colorbar": {
             "outlinewidth": 0,
             "ticks": ""
            },
            "colorscale": [
             [
              0,
              "#0d0887"
             ],
             [
              0.1111111111111111,
              "#46039f"
             ],
             [
              0.2222222222222222,
              "#7201a8"
             ],
             [
              0.3333333333333333,
              "#9c179e"
             ],
             [
              0.4444444444444444,
              "#bd3786"
             ],
             [
              0.5555555555555556,
              "#d8576b"
             ],
             [
              0.6666666666666666,
              "#ed7953"
             ],
             [
              0.7777777777777778,
              "#fb9f3a"
             ],
             [
              0.8888888888888888,
              "#fdca26"
             ],
             [
              1,
              "#f0f921"
             ]
            ],
            "type": "surface"
           }
          ],
          "table": [
           {
            "cells": {
             "fill": {
              "color": "#EBF0F8"
             },
             "line": {
              "color": "white"
             }
            },
            "header": {
             "fill": {
              "color": "#C8D4E3"
             },
             "line": {
              "color": "white"
             }
            },
            "type": "table"
           }
          ]
         },
         "layout": {
          "annotationdefaults": {
           "arrowcolor": "#2a3f5f",
           "arrowhead": 0,
           "arrowwidth": 1
          },
          "autotypenumbers": "strict",
          "coloraxis": {
           "colorbar": {
            "outlinewidth": 0,
            "ticks": ""
           }
          },
          "colorscale": {
           "diverging": [
            [
             0,
             "#8e0152"
            ],
            [
             0.1,
             "#c51b7d"
            ],
            [
             0.2,
             "#de77ae"
            ],
            [
             0.3,
             "#f1b6da"
            ],
            [
             0.4,
             "#fde0ef"
            ],
            [
             0.5,
             "#f7f7f7"
            ],
            [
             0.6,
             "#e6f5d0"
            ],
            [
             0.7,
             "#b8e186"
            ],
            [
             0.8,
             "#7fbc41"
            ],
            [
             0.9,
             "#4d9221"
            ],
            [
             1,
             "#276419"
            ]
           ],
           "sequential": [
            [
             0,
             "#0d0887"
            ],
            [
             0.1111111111111111,
             "#46039f"
            ],
            [
             0.2222222222222222,
             "#7201a8"
            ],
            [
             0.3333333333333333,
             "#9c179e"
            ],
            [
             0.4444444444444444,
             "#bd3786"
            ],
            [
             0.5555555555555556,
             "#d8576b"
            ],
            [
             0.6666666666666666,
             "#ed7953"
            ],
            [
             0.7777777777777778,
             "#fb9f3a"
            ],
            [
             0.8888888888888888,
             "#fdca26"
            ],
            [
             1,
             "#f0f921"
            ]
           ],
           "sequentialminus": [
            [
             0,
             "#0d0887"
            ],
            [
             0.1111111111111111,
             "#46039f"
            ],
            [
             0.2222222222222222,
             "#7201a8"
            ],
            [
             0.3333333333333333,
             "#9c179e"
            ],
            [
             0.4444444444444444,
             "#bd3786"
            ],
            [
             0.5555555555555556,
             "#d8576b"
            ],
            [
             0.6666666666666666,
             "#ed7953"
            ],
            [
             0.7777777777777778,
             "#fb9f3a"
            ],
            [
             0.8888888888888888,
             "#fdca26"
            ],
            [
             1,
             "#f0f921"
            ]
           ]
          },
          "colorway": [
           "#636efa",
           "#EF553B",
           "#00cc96",
           "#ab63fa",
           "#FFA15A",
           "#19d3f3",
           "#FF6692",
           "#B6E880",
           "#FF97FF",
           "#FECB52"
          ],
          "font": {
           "color": "#2a3f5f"
          },
          "geo": {
           "bgcolor": "white",
           "lakecolor": "white",
           "landcolor": "white",
           "showlakes": true,
           "showland": true,
           "subunitcolor": "#C8D4E3"
          },
          "hoverlabel": {
           "align": "left"
          },
          "hovermode": "closest",
          "mapbox": {
           "style": "light"
          },
          "paper_bgcolor": "white",
          "plot_bgcolor": "white",
          "polar": {
           "angularaxis": {
            "gridcolor": "#EBF0F8",
            "linecolor": "#EBF0F8",
            "ticks": ""
           },
           "bgcolor": "white",
           "radialaxis": {
            "gridcolor": "#EBF0F8",
            "linecolor": "#EBF0F8",
            "ticks": ""
           }
          },
          "scene": {
           "xaxis": {
            "backgroundcolor": "white",
            "gridcolor": "#DFE8F3",
            "gridwidth": 2,
            "linecolor": "#EBF0F8",
            "showbackground": true,
            "ticks": "",
            "zerolinecolor": "#EBF0F8"
           },
           "yaxis": {
            "backgroundcolor": "white",
            "gridcolor": "#DFE8F3",
            "gridwidth": 2,
            "linecolor": "#EBF0F8",
            "showbackground": true,
            "ticks": "",
            "zerolinecolor": "#EBF0F8"
           },
           "zaxis": {
            "backgroundcolor": "white",
            "gridcolor": "#DFE8F3",
            "gridwidth": 2,
            "linecolor": "#EBF0F8",
            "showbackground": true,
            "ticks": "",
            "zerolinecolor": "#EBF0F8"
           }
          },
          "shapedefaults": {
           "line": {
            "color": "#2a3f5f"
           }
          },
          "ternary": {
           "aaxis": {
            "gridcolor": "#DFE8F3",
            "linecolor": "#A2B1C6",
            "ticks": ""
           },
           "baxis": {
            "gridcolor": "#DFE8F3",
            "linecolor": "#A2B1C6",
            "ticks": ""
           },
           "bgcolor": "white",
           "caxis": {
            "gridcolor": "#DFE8F3",
            "linecolor": "#A2B1C6",
            "ticks": ""
           }
          },
          "title": {
           "x": 0.05
          },
          "xaxis": {
           "automargin": true,
           "gridcolor": "#EBF0F8",
           "linecolor": "#EBF0F8",
           "ticks": "",
           "title": {
            "standoff": 15
           },
           "zerolinecolor": "#EBF0F8",
           "zerolinewidth": 2
          },
          "yaxis": {
           "automargin": true,
           "gridcolor": "#EBF0F8",
           "linecolor": "#EBF0F8",
           "ticks": "",
           "title": {
            "standoff": 15
           },
           "zerolinecolor": "#EBF0F8",
           "zerolinewidth": 2
          }
         }
        },
        "title": {
         "text": "RMSE by Hidden Dimensions Over Time"
        },
        "width": 1000,
        "xaxis": {
         "title": {
          "text": "Time Steps"
         }
        },
        "yaxis": {
         "title": {
          "text": "RMSE"
         }
        }
       }
      }
     },
     "metadata": {},
     "output_type": "display_data"
    },
    {
     "name": "stdout",
     "output_type": "stream",
     "text": [
      "Best hidden dimensions for each variable: {0: (32, 4), 1: (64, 8), 2: (64,), 3: (32, 32)}\n"
     ]
    }
   ],
   "source": [
    "plot_rmse_by_hidden_dims(all_train_eval, all_valid_eval, hidden_dims_options)\n",
    "\n",
    "best_hidden_dims = {}\n",
    "for i, evals in all_valid_eval.items():\n",
    "    best_hidden_dims[i] = min(evals, key=evals.get)\n",
    "\n",
    "print(\"Best hidden dimensions for each variable:\", best_hidden_dims)"
   ]
  },
  {
   "cell_type": "markdown",
   "metadata": {},
   "source": [
    "### Retrain"
   ]
  },
  {
   "cell_type": "code",
   "execution_count": 28,
   "metadata": {},
   "outputs": [],
   "source": [
    "models = fit_owu_ann_model(\n",
    "    doe,\n",
    "    owu,\n",
    "    t_steps=15,\n",
    "    hidden_dims=HIDDEN_DIMS,  # 初始值\n",
    "    X_columns=X_columns,\n",
    "    W_columns=W_columns,\n",
    "    best_hidden_dims=best_hidden_dims\n",
    ")"
   ]
  },
  {
   "cell_type": "code",
   "execution_count": 29,
   "metadata": {},
   "outputs": [],
   "source": [
    "\n",
    "X0 = owu.loc[owu.index.get_level_values('time') < 1, X_columns]\n",
    "W = owu[['W:Feed']]\n",
    "\n",
    "X_pred = predict_owu_ann_model(\n",
    "    doe,\n",
    "    X0,\n",
    "    W,\n",
    "    X_columns=X_columns,\n",
    "    models=models,\n",
    "    t_steps=15,\n",
    ")\n",
    "\n",
    "X0_test = owu_test.loc[owu_test.index.get_level_values('time') < 1, X_columns]\n",
    "W_test = owu_test[['W:Feed']]\n",
    "\n",
    "X_test_pred = predict_owu_ann_model(\n",
    "    doe_test,\n",
    "    X0_test,\n",
    "    W_test,\n",
    "    X_columns=X_columns,\n",
    "    models=models,\n",
    "    t_steps=15,\n",
    ")"
   ]
  },
  {
   "cell_type": "code",
   "execution_count": 30,
   "metadata": {},
   "outputs": [
    {
     "data": {
      "application/vnd.plotly.v1+json": {
       "config": {
        "plotlyServerURL": "https://plot.ly"
       },
       "data": [
        {
         "legendgroup": "train_0",
         "mode": "markers",
         "name": "Run id in Train 0",
         "type": "scatter",
         "x": [
          0.6785714285714286,
          1.7882418695451865,
          4.197866164841867,
          8.024606484655857,
          11.644249637655555,
          12.989020406401975,
          11.780327631246772,
          9.032982556876329,
          5.956851986938314,
          3.496495271581572,
          1.9290844755904624,
          1.0384515260949645,
          0.5546547313461386,
          0.2952719021768026,
          0.1569168141294896
         ],
         "xaxis": "x",
         "y": [
          0.6785714285714286,
          2.084644487908683,
          4.370035518795706,
          8.89445946579747,
          14.439589614880743,
          16.746768072396343,
          15.87947145083069,
          11.029180399709096,
          7.050040353470943,
          3.806610032915973,
          1.2112496511933621,
          0.15781890309402447,
          -0.6198232623580073,
          -1.2866051744836715,
          -1.8049662610641464
         ],
         "yaxis": "y"
        },
        {
         "legendgroup": "train_1",
         "mode": "markers",
         "name": "Run id in Train 1",
         "type": "scatter",
         "x": [
          0.5153061224489796,
          1.3283920087753476,
          3.138891683299708,
          6.312312369758947,
          10.046362313224048,
          12.46619056309494,
          12.598864431782903,
          10.871896873825465,
          8.153434943282626,
          5.329460673311844,
          3.14372471445888,
          1.7669202575842775,
          0.9787333701850192,
          0.5395471576727975,
          0.2966820616676253
         ],
         "xaxis": "x",
         "y": [
          0.5153061224489796,
          1.8836691080467602,
          4.638371165361929,
          7.934212983629464,
          9.944743581900044,
          10.12204747980922,
          8.955646056125453,
          6.91382690970332,
          4.964572437458042,
          3.148918847582851,
          1.5346011141376368,
          0.8288147389085989,
          0.3282086532263675,
          -0.03162585316137867,
          -0.29384095847268177
         ],
         "yaxis": "y"
        },
        {
         "legendgroup": "train_2",
         "mode": "markers",
         "name": "Run id in Train 2",
         "type": "scatter",
         "x": [
          0.6173469387755102,
          1.8393336824263824,
          4.76347819968831,
          9.519503140279811,
          13.897096050739306,
          15.469914296467806,
          14.064178274367205,
          10.784332549589733,
          7.024161263041686,
          4.060211714152641,
          2.225243161400361,
          1.198139824795706,
          0.6414845918398311,
          0.3424920004434781,
          0.1825893379791691
         ],
         "xaxis": "x",
         "y": [
          0.6173469387755102,
          2.1803590251446856,
          5.133500311486258,
          9.540423132096764,
          12.362602919896394,
          13.099476967570068,
          11.027198584391648,
          8.142716441911475,
          5.508964139395161,
          3.1532147553629963,
          1.1122998832770261,
          0.12555347751039148,
          -0.5328862329165858,
          -0.9689394930272852,
          -1.2536069113007373
         ],
         "yaxis": "y"
        },
        {
         "legendgroup": "train_3",
         "mode": "markers",
         "name": "Run id in Train 3",
         "type": "scatter",
         "x": [
          0.7908163265306123,
          2.2233342240594665,
          5.189819500047023,
          8.648482942575908,
          9.89213218339913,
          8.48011217599898,
          6.030387208242467,
          3.83431965046864,
          2.2927149728665563,
          1.3293309225353016,
          0.7591389409901108,
          0.4298972793384327,
          0.2423196690989927,
          0.1362354666329924,
          0.0764834617843639
         ],
         "xaxis": "x",
         "y": [
          0.7908163265306123,
          2.1841025685850974,
          5.0850559157824105,
          9.527032004178993,
          13.642913341188883,
          13.946505906956435,
          11.33473027918554,
          9.022805061011418,
          5.83379827713337,
          3.8969147080555455,
          2.4793079134620783,
          1.4222438681364664,
          0.6201948191982709,
          0.0017537189977974155,
          -0.4816924713102819
         ],
         "yaxis": "y"
        },
        {
         "legendgroup": "train_4",
         "mode": "markers",
         "name": "Run id in Train 4",
         "type": "scatter",
         "x": [
          0.8724489795918368,
          2.327450417335682,
          5.302229080189516,
          9.382915401755742,
          12.45876223358994,
          13.000921335581488,
          11.354064624495637,
          8.53677594789,
          5.544672913732412,
          3.240925051389084,
          1.866988108037708,
          1.0767488544223136,
          0.6221397684347698,
          0.359995999048859,
          0.2085132104697249
         ],
         "xaxis": "x",
         "y": [
          0.8724489795918368,
          2.2994809800715714,
          5.063866098618016,
          9.092685757253797,
          11.612456512857438,
          12.32170472454957,
          11.031495612093142,
          8.329152984317279,
          5.9345238124508155,
          4.524495189852386,
          3.3994420951187587,
          2.4824299576029523,
          1.7210904437654426,
          1.0803533844395725,
          0.5372017316765094
         ],
         "yaxis": "y"
        },
        {
         "legendgroup": "train_5",
         "mode": "markers",
         "name": "Run id in Train 5",
         "type": "scatter",
         "x": [
          0.9744897959183674,
          2.406921302247812,
          5.196041068887806,
          9.018136271163266,
          11.975281156400662,
          12.472876584537527,
          10.74865387739688,
          7.898282124391004,
          5.015423771955666,
          2.8668906881316008,
          1.5952036675723131,
          0.883499604044254,
          0.4883827704146793,
          0.2697342502902922,
          0.1489124435385337
         ],
         "xaxis": "x",
         "y": [
          0.9744897959183674,
          2.5346602555707136,
          5.272695524648804,
          9.073129388691514,
          11.66611864986891,
          11.853259958998906,
          10.853575675992678,
          8.058647210910127,
          5.663685472407885,
          4.248089353196451,
          3.150736543137027,
          2.2805241627068797,
          1.5758951416118843,
          0.9950072735836175,
          0.5091774047738309
         ],
         "yaxis": "y"
        },
        {
         "legendgroup": "train_6",
         "mode": "markers",
         "name": "Run id in Train 6",
         "type": "scatter",
         "x": [
          0.7806122448979591,
          1.975598501172804,
          4.447145355804954,
          8.222007631588548,
          11.810855568464037,
          13.202788595684126,
          12.11249067562794,
          9.4917369807142,
          6.47725387266102,
          3.982074568663462,
          2.317558052215487,
          1.3188287116986093,
          0.7439866778063171,
          0.4179559136359603,
          0.2342622485018471
         ],
         "xaxis": "x",
         "y": [
          0.7806122448979591,
          2.2047608118028488,
          4.857530458542114,
          9.174245082635402,
          12.842630574174125,
          13.90142780912879,
          12.035475836017312,
          9.895849263394345,
          7.111338543901948,
          4.764340709559454,
          2.7635367927873817,
          1.7213743349377284,
          0.9306614065759826,
          0.3194832420061726,
          -0.16091260640486982
         ],
         "yaxis": "y"
        },
        {
         "legendgroup": "train_7",
         "mode": "markers",
         "name": "Run id in Train 7",
         "type": "scatter",
         "x": [
          0.7295918367346939,
          2.2505276992118386,
          5.756846967199105,
          10.651374604582667,
          13.779990523471408,
          13.661272552598792,
          11.410021845873027,
          8.391262132032626,
          5.433289941751308,
          3.062335558796292,
          1.5495839975266816,
          0.7674467069216043,
          0.3797836815105751,
          0.1878918071388641,
          0.09294639830802
         ],
         "xaxis": "x",
         "y": [
          0.7295918367346939,
          2.206304857593439,
          4.57150635459564,
          7.681802539013009,
          9.869877414828478,
          9.111493234778159,
          8.542369947643994,
          6.963397487925995,
          5.037727458880596,
          3.403361876899159,
          2.509070388232236,
          1.8169808042095401,
          1.2688602316018278,
          0.8254118864850073,
          0.4599709974930104
         ],
         "yaxis": "y"
        },
        {
         "legendgroup": "train_8",
         "mode": "markers",
         "name": "Run id in Train 8",
         "type": "scatter",
         "x": [
          0.6989795918367347,
          1.848104962271837,
          4.275239539329713,
          7.758151399559654,
          10.377011125677477,
          10.64641962815131,
          9.028929257551075,
          6.646146575884176,
          4.340519317462716,
          2.593373670872533,
          1.5281691419509686,
          0.8995307180450183,
          0.5295521527654201,
          0.311842208648604,
          0.1836859247616231
         ],
         "xaxis": "x",
         "y": [
          0.6989795918367347,
          1.9309688701892367,
          4.116678483467,
          7.998194758102134,
          10.673357497928253,
          10.371320957962528,
          8.430290544593719,
          7.1047829086087555,
          4.832893459987456,
          3.4526666658257747,
          2.428982693720388,
          1.652310702139338,
          1.0505549558351552,
          0.5750331329438951,
          0.19269132649556453
         ],
         "yaxis": "y"
        },
        {
         "legendgroup": "train_9",
         "mode": "markers",
         "name": "Run id in Train 9",
         "type": "scatter",
         "x": [
          0.8418367346938775,
          2.2789376634822687,
          5.398066543095938,
          10.156482702407544,
          14.449290906131306,
          15.978352785495437,
          14.576748915106055,
          11.378259295196262,
          7.682741940655455,
          4.608446080818723,
          2.647979593740628,
          1.514662535836207,
          0.8649572065986112,
          0.4936224262432949,
          0.2816301431882249
         ],
         "xaxis": "x",
         "y": [
          0.8418367346938775,
          2.6625538311032373,
          5.715730460388542,
          9.516858680121244,
          12.354966837245394,
          12.392965958104872,
          11.034216771120033,
          8.13655644008334,
          5.615867015089206,
          4.06860375639594,
          2.858130704105606,
          1.8960080477742862,
          1.1211033624278086,
          0.49150176535389645,
          0.14057942420124925
         ],
         "yaxis": "y"
        },
        {
         "legendgroup": "test_0",
         "mode": "markers",
         "name": "Run id in Test 0",
         "type": "scatter",
         "x": [
          0.9846938775510204,
          2.9249576819091097,
          7.444332832191713,
          14.420480064339324,
          20.57081333243489,
          23.12755137436929,
          22.33065010823708,
          19.648806069957416,
          16.31282380897557,
          13.028843938823911,
          10.102605608179564,
          7.629152917195547,
          5.731307831914585,
          4.294304959498489,
          3.2079190607230106
         ],
         "xaxis": "x2",
         "y": [
          0.9846938775510204,
          3.358618939841616,
          6.84599768862163,
          10.206760404820589,
          12.403758958045461,
          11.874073647869178,
          8.961551524701417,
          6.387140699189065,
          4.1189208246866995,
          2.154661145278703,
          0.5002703122079739,
          -0.17778944405866937,
          -0.6452739319623528,
          -1.0210770499276742,
          -1.2533244272014537
         ],
         "yaxis": "y2"
        },
        {
         "legendgroup": "test_1",
         "mode": "markers",
         "name": "Run id in Test 1",
         "type": "scatter",
         "x": [
          0.7602040816326531,
          1.9141143764556665,
          4.408003876496271,
          8.6231479106663,
          13.457148205276154,
          16.834281247208605,
          17.857446383705128,
          16.99522186258524,
          15.068785638787078,
          12.793489696074769,
          10.597325015932462,
          8.59544420181317,
          6.853541356095238,
          5.38786140727645,
          4.18265740274008
         ],
         "xaxis": "x2",
         "y": [
          0.7602040816326531,
          2.4447498433825174,
          4.87067102730969,
          8.629069754705855,
          10.951392864518398,
          10.394521463365868,
          9.12855141800734,
          6.574464960085847,
          4.519823093389831,
          3.2847471269299113,
          2.3656852310347514,
          1.6666455261756552,
          1.1231306604234972,
          0.6916552612546838,
          0.34275384622995664
         ],
         "yaxis": "y2"
        },
        {
         "legendgroup": "test_2",
         "mode": "markers",
         "name": "Run id in Test 2",
         "type": "scatter",
         "x": [
          0.6377551020408163,
          1.7596767331437484,
          4.320048035023024,
          8.600099814712605,
          13.129010583057209,
          15.86887489530228,
          16.314060822920034,
          15.128350980501,
          13.118424032866182,
          10.845032804189962,
          8.611928610057822,
          6.721336704242177,
          5.249987862906268,
          4.091917406485745,
          3.180171977396879
         ],
         "xaxis": "x2",
         "y": [
          0.6377551020408163,
          2.3881796113751674,
          4.851796989217747,
          9.271682719293766,
          12.539497983896352,
          12.841505273768952,
          10.702029813347508,
          7.52753342500032,
          4.956114336496066,
          2.8912030281601213,
          1.696346392739436,
          0.8624404866410489,
          0.27435563198641355,
          -0.1450031514585708,
          -0.4473501963220803
         ],
         "yaxis": "y2"
        },
        {
         "legendgroup": "test_3",
         "mode": "markers",
         "name": "Run id in Test 3",
         "type": "scatter",
         "x": [
          0.6683673469387755,
          1.8479761959252932,
          4.5642475791718695,
          9.101866917551046,
          13.763741305573545,
          16.39181066854337,
          16.588673250600085,
          15.121065257143862,
          12.880994022025028,
          10.494696740233676,
          8.276399606720522,
          6.112053610273055,
          3.960093130262047,
          2.557747831948446,
          1.6487988889593452
         ],
         "xaxis": "x2",
         "y": [
          0.6683673469387755,
          2.0042949019542298,
          3.9061887215572835,
          7.195079212132711,
          9.046638566959576,
          8.101151697647795,
          7.106503296978151,
          5.995419299093389,
          4.280336619384897,
          2.886137656771395,
          2.1000881244829364,
          1.506716507632144,
          1.0484384688207589,
          0.6865392875395162,
          0.39488975616872124
         ],
         "yaxis": "y2"
        },
        {
         "legendgroup": "test_4",
         "mode": "markers",
         "name": "Run id in Test 4",
         "type": "scatter",
         "x": [
          0.8214285714285714,
          2.462338134351961,
          6.204794037706704,
          11.455830213030046,
          15.029129484664557,
          15.46330643203451,
          13.775109141164494,
          11.194697479273378,
          8.439502937137675,
          5.831525356659873,
          3.89278824381229,
          2.6769952754832365,
          1.8716034350620616,
          1.320869574866547,
          0.9373903299802034
         ],
         "xaxis": "x2",
         "y": [
          0.8214285714285714,
          1.795252238567533,
          3.9740005090271264,
          8.629832704585755,
          15.418890272843187,
          19.24492703473472,
          18.32302986354462,
          12.824174758865254,
          8.004129687757729,
          4.220866291427888,
          1.8695855673963095,
          0.25357062174330314,
          -0.8356161815297243,
          -1.5651977851052086,
          -2.047565948049309
         ],
         "yaxis": "y2"
        },
        {
         "legendgroup": "test_5",
         "mode": "markers",
         "name": "Run id in Test 5",
         "type": "scatter",
         "x": [
          0.5357142857142857,
          1.68535612201013,
          4.750910857750842,
          10.527563515639322,
          16.384892612448336,
          18.71899028723027,
          17.642047191967187,
          14.84113370432232,
          11.547197993927814,
          8.368835642374764,
          5.550515941164199,
          3.400201224606473,
          2.123828050301551,
          1.3483571723438612,
          0.864549860389209
         ],
         "xaxis": "x2",
         "y": [
          0.5357142857142857,
          1.6734963090835815,
          3.545566031709587,
          6.720278720841775,
          9.122748420294197,
          9.173219112758435,
          8.540325051874444,
          8.129825049991199,
          6.158888385292372,
          4.197632664210418,
          2.570950172424645,
          1.7031667061096074,
          1.0522399067635597,
          0.5526013065406705,
          0.16163442295421881
         ],
         "yaxis": "y2"
        },
        {
         "legendgroup": "test_6",
         "mode": "markers",
         "name": "Run id in Test 6",
         "type": "scatter",
         "x": [
          0.9642857142857144,
          2.7309189004610017,
          6.496967810835099,
          11.712526422702096,
          15.86566984919472,
          17.518274325752582,
          17.049508108239532,
          15.339560792436927,
          13.11520485201357,
          10.836341627146137,
          8.748004765272608,
          6.940423704135373,
          5.421358011949733,
          4.157669835361252,
          3.027012159344149
         ],
         "xaxis": "x2",
         "y": [
          0.9642857142857144,
          2.4147649494316257,
          4.642771695147606,
          7.876247807866648,
          9.663058111817973,
          8.235761881898247,
          7.601006237954047,
          6.416619530490931,
          4.44155678835928,
          2.8724082052512765,
          1.9769396990387276,
          1.3135007489330122,
          0.8120524476182871,
          0.4254378114086108,
          0.1217738721899646
         ],
         "yaxis": "y2"
        },
        {
         "legendgroup": "test_7",
         "mode": "markers",
         "name": "Run id in Test 7",
         "type": "scatter",
         "x": [
          0.8622448979591837,
          2.331143803305513,
          5.496622671227072,
          10.20537730486747,
          14.299665039067758,
          15.96548171229209,
          15.372177818756573,
          13.498156448189532,
          11.164486041753278,
          8.850690795800881,
          6.801418450313421,
          5.185592772160354,
          3.932335026469168,
          2.9668846208042594,
          2.2290717204845274
         ],
         "xaxis": "x2",
         "y": [
          0.8622448979591837,
          2.4032317213467786,
          4.437729149004567,
          7.689081113846151,
          9.35958897087412,
          8.163069071993073,
          7.258393935626119,
          5.736376683652518,
          4.040176710435871,
          2.6667209053218572,
          1.8956697289913766,
          1.318649072339982,
          0.8773464664946575,
          0.5325706288043455,
          0.2578840196732093
         ],
         "yaxis": "y2"
        },
        {
         "legendgroup": "test_8",
         "mode": "markers",
         "name": "Run id in Test 8",
         "type": "scatter",
         "x": [
          0.6275510204081632,
          1.966509895702454,
          5.4703296564633614,
          11.75929246310936,
          17.798476959757984,
          20.25767094292334,
          19.398185047268417,
          16.755642131725846,
          13.55094811108645,
          10.481962644716347,
          7.857313430365911,
          5.811171729991748,
          4.2584707583927095,
          3.0973636223609207,
          2.240048684169528
         ],
         "xaxis": "x2",
         "y": [
          0.6275510204081632,
          1.7475530123676264,
          3.7688457242173588,
          7.448925616969861,
          9.953793275036668,
          9.60478547694265,
          8.391587858007247,
          7.638418667936313,
          5.500387672624468,
          3.519768411158595,
          2.3493288759487556,
          1.49737393272707,
          0.8639776099504874,
          0.3840978232440151,
          0.013866575583605156
         ],
         "yaxis": "y2"
        },
        {
         "legendgroup": "test_9",
         "mode": "markers",
         "name": "Run id in Test 9",
         "type": "scatter",
         "x": [
          0.8010204081632653,
          2.339410182422604,
          6.0419955584897975,
          12.429172992150209,
          19.0638331981036,
          22.700661141137463,
          22.85778892850325,
          20.76765902113485,
          17.695686246636583,
          14.451046918863232,
          11.429553184034148,
          8.81126297917751,
          6.767892149629804,
          5.174965627060598,
          3.937534851903999
         ],
         "xaxis": "x2",
         "y": [
          0.8010204081632653,
          2.531185595219649,
          4.852022845379563,
          8.286835520473852,
          10.662908337579832,
          11.377385433009705,
          9.89422078781999,
          7.586168056984751,
          5.463653109117253,
          3.540281284305273,
          1.864172533932692,
          1.0893017414959127,
          0.5299529719054121,
          0.12031434594764989,
          -0.18386946258012826
         ],
         "yaxis": "y2"
        }
       ],
       "layout": {
        "annotations": [
         {
          "font": {
           "size": 16
          },
          "showarrow": false,
          "text": "Train Set - X:VCD <br> R^2 = 0.844 <br> Abs RMSE = 1.463 <br> Rel RMSE = 0.316",
          "x": 0.225,
          "xanchor": "center",
          "xref": "paper",
          "y": 1,
          "yanchor": "bottom",
          "yref": "paper"
         },
         {
          "font": {
           "size": 16
          },
          "showarrow": false,
          "text": "Test Set - X:VCD <br> R^2 = 0.001 <br> Abs RMSE = 5.849 <br> Rel RMSE = 0.948",
          "x": 0.775,
          "xanchor": "center",
          "xref": "paper",
          "y": 1,
          "yanchor": "bottom",
          "yref": "paper"
         }
        ],
        "shapes": [
         {
          "layer": "above",
          "line": {
           "dash": "dash"
          },
          "type": "line",
          "x0": -1.8049662610641464,
          "x1": 16.746768072396343,
          "y0": -1.8049662610641464,
          "y1": 16.746768072396343
         },
         {
          "layer": "above",
          "line": {
           "dash": "dash"
          },
          "type": "line",
          "x0": -2.047565948049309,
          "x1": 19.24492703473472,
          "xref": "x2",
          "y0": -2.047565948049309,
          "y1": 19.24492703473472,
          "yref": "y2"
         }
        ],
        "template": {
         "data": {
          "bar": [
           {
            "error_x": {
             "color": "#2a3f5f"
            },
            "error_y": {
             "color": "#2a3f5f"
            },
            "marker": {
             "line": {
              "color": "white",
              "width": 0.5
             },
             "pattern": {
              "fillmode": "overlay",
              "size": 10,
              "solidity": 0.2
             }
            },
            "type": "bar"
           }
          ],
          "barpolar": [
           {
            "marker": {
             "line": {
              "color": "white",
              "width": 0.5
             },
             "pattern": {
              "fillmode": "overlay",
              "size": 10,
              "solidity": 0.2
             }
            },
            "type": "barpolar"
           }
          ],
          "carpet": [
           {
            "aaxis": {
             "endlinecolor": "#2a3f5f",
             "gridcolor": "#C8D4E3",
             "linecolor": "#C8D4E3",
             "minorgridcolor": "#C8D4E3",
             "startlinecolor": "#2a3f5f"
            },
            "baxis": {
             "endlinecolor": "#2a3f5f",
             "gridcolor": "#C8D4E3",
             "linecolor": "#C8D4E3",
             "minorgridcolor": "#C8D4E3",
             "startlinecolor": "#2a3f5f"
            },
            "type": "carpet"
           }
          ],
          "choropleth": [
           {
            "colorbar": {
             "outlinewidth": 0,
             "ticks": ""
            },
            "type": "choropleth"
           }
          ],
          "contour": [
           {
            "colorbar": {
             "outlinewidth": 0,
             "ticks": ""
            },
            "colorscale": [
             [
              0,
              "#0d0887"
             ],
             [
              0.1111111111111111,
              "#46039f"
             ],
             [
              0.2222222222222222,
              "#7201a8"
             ],
             [
              0.3333333333333333,
              "#9c179e"
             ],
             [
              0.4444444444444444,
              "#bd3786"
             ],
             [
              0.5555555555555556,
              "#d8576b"
             ],
             [
              0.6666666666666666,
              "#ed7953"
             ],
             [
              0.7777777777777778,
              "#fb9f3a"
             ],
             [
              0.8888888888888888,
              "#fdca26"
             ],
             [
              1,
              "#f0f921"
             ]
            ],
            "type": "contour"
           }
          ],
          "contourcarpet": [
           {
            "colorbar": {
             "outlinewidth": 0,
             "ticks": ""
            },
            "type": "contourcarpet"
           }
          ],
          "heatmap": [
           {
            "colorbar": {
             "outlinewidth": 0,
             "ticks": ""
            },
            "colorscale": [
             [
              0,
              "#0d0887"
             ],
             [
              0.1111111111111111,
              "#46039f"
             ],
             [
              0.2222222222222222,
              "#7201a8"
             ],
             [
              0.3333333333333333,
              "#9c179e"
             ],
             [
              0.4444444444444444,
              "#bd3786"
             ],
             [
              0.5555555555555556,
              "#d8576b"
             ],
             [
              0.6666666666666666,
              "#ed7953"
             ],
             [
              0.7777777777777778,
              "#fb9f3a"
             ],
             [
              0.8888888888888888,
              "#fdca26"
             ],
             [
              1,
              "#f0f921"
             ]
            ],
            "type": "heatmap"
           }
          ],
          "heatmapgl": [
           {
            "colorbar": {
             "outlinewidth": 0,
             "ticks": ""
            },
            "colorscale": [
             [
              0,
              "#0d0887"
             ],
             [
              0.1111111111111111,
              "#46039f"
             ],
             [
              0.2222222222222222,
              "#7201a8"
             ],
             [
              0.3333333333333333,
              "#9c179e"
             ],
             [
              0.4444444444444444,
              "#bd3786"
             ],
             [
              0.5555555555555556,
              "#d8576b"
             ],
             [
              0.6666666666666666,
              "#ed7953"
             ],
             [
              0.7777777777777778,
              "#fb9f3a"
             ],
             [
              0.8888888888888888,
              "#fdca26"
             ],
             [
              1,
              "#f0f921"
             ]
            ],
            "type": "heatmapgl"
           }
          ],
          "histogram": [
           {
            "marker": {
             "pattern": {
              "fillmode": "overlay",
              "size": 10,
              "solidity": 0.2
             }
            },
            "type": "histogram"
           }
          ],
          "histogram2d": [
           {
            "colorbar": {
             "outlinewidth": 0,
             "ticks": ""
            },
            "colorscale": [
             [
              0,
              "#0d0887"
             ],
             [
              0.1111111111111111,
              "#46039f"
             ],
             [
              0.2222222222222222,
              "#7201a8"
             ],
             [
              0.3333333333333333,
              "#9c179e"
             ],
             [
              0.4444444444444444,
              "#bd3786"
             ],
             [
              0.5555555555555556,
              "#d8576b"
             ],
             [
              0.6666666666666666,
              "#ed7953"
             ],
             [
              0.7777777777777778,
              "#fb9f3a"
             ],
             [
              0.8888888888888888,
              "#fdca26"
             ],
             [
              1,
              "#f0f921"
             ]
            ],
            "type": "histogram2d"
           }
          ],
          "histogram2dcontour": [
           {
            "colorbar": {
             "outlinewidth": 0,
             "ticks": ""
            },
            "colorscale": [
             [
              0,
              "#0d0887"
             ],
             [
              0.1111111111111111,
              "#46039f"
             ],
             [
              0.2222222222222222,
              "#7201a8"
             ],
             [
              0.3333333333333333,
              "#9c179e"
             ],
             [
              0.4444444444444444,
              "#bd3786"
             ],
             [
              0.5555555555555556,
              "#d8576b"
             ],
             [
              0.6666666666666666,
              "#ed7953"
             ],
             [
              0.7777777777777778,
              "#fb9f3a"
             ],
             [
              0.8888888888888888,
              "#fdca26"
             ],
             [
              1,
              "#f0f921"
             ]
            ],
            "type": "histogram2dcontour"
           }
          ],
          "mesh3d": [
           {
            "colorbar": {
             "outlinewidth": 0,
             "ticks": ""
            },
            "type": "mesh3d"
           }
          ],
          "parcoords": [
           {
            "line": {
             "colorbar": {
              "outlinewidth": 0,
              "ticks": ""
             }
            },
            "type": "parcoords"
           }
          ],
          "pie": [
           {
            "automargin": true,
            "type": "pie"
           }
          ],
          "scatter": [
           {
            "fillpattern": {
             "fillmode": "overlay",
             "size": 10,
             "solidity": 0.2
            },
            "type": "scatter"
           }
          ],
          "scatter3d": [
           {
            "line": {
             "colorbar": {
              "outlinewidth": 0,
              "ticks": ""
             }
            },
            "marker": {
             "colorbar": {
              "outlinewidth": 0,
              "ticks": ""
             }
            },
            "type": "scatter3d"
           }
          ],
          "scattercarpet": [
           {
            "marker": {
             "colorbar": {
              "outlinewidth": 0,
              "ticks": ""
             }
            },
            "type": "scattercarpet"
           }
          ],
          "scattergeo": [
           {
            "marker": {
             "colorbar": {
              "outlinewidth": 0,
              "ticks": ""
             }
            },
            "type": "scattergeo"
           }
          ],
          "scattergl": [
           {
            "marker": {
             "colorbar": {
              "outlinewidth": 0,
              "ticks": ""
             }
            },
            "type": "scattergl"
           }
          ],
          "scattermapbox": [
           {
            "marker": {
             "colorbar": {
              "outlinewidth": 0,
              "ticks": ""
             }
            },
            "type": "scattermapbox"
           }
          ],
          "scatterpolar": [
           {
            "marker": {
             "colorbar": {
              "outlinewidth": 0,
              "ticks": ""
             }
            },
            "type": "scatterpolar"
           }
          ],
          "scatterpolargl": [
           {
            "marker": {
             "colorbar": {
              "outlinewidth": 0,
              "ticks": ""
             }
            },
            "type": "scatterpolargl"
           }
          ],
          "scatterternary": [
           {
            "marker": {
             "colorbar": {
              "outlinewidth": 0,
              "ticks": ""
             }
            },
            "type": "scatterternary"
           }
          ],
          "surface": [
           {
            "colorbar": {
             "outlinewidth": 0,
             "ticks": ""
            },
            "colorscale": [
             [
              0,
              "#0d0887"
             ],
             [
              0.1111111111111111,
              "#46039f"
             ],
             [
              0.2222222222222222,
              "#7201a8"
             ],
             [
              0.3333333333333333,
              "#9c179e"
             ],
             [
              0.4444444444444444,
              "#bd3786"
             ],
             [
              0.5555555555555556,
              "#d8576b"
             ],
             [
              0.6666666666666666,
              "#ed7953"
             ],
             [
              0.7777777777777778,
              "#fb9f3a"
             ],
             [
              0.8888888888888888,
              "#fdca26"
             ],
             [
              1,
              "#f0f921"
             ]
            ],
            "type": "surface"
           }
          ],
          "table": [
           {
            "cells": {
             "fill": {
              "color": "#EBF0F8"
             },
             "line": {
              "color": "white"
             }
            },
            "header": {
             "fill": {
              "color": "#C8D4E3"
             },
             "line": {
              "color": "white"
             }
            },
            "type": "table"
           }
          ]
         },
         "layout": {
          "annotationdefaults": {
           "arrowcolor": "#2a3f5f",
           "arrowhead": 0,
           "arrowwidth": 1
          },
          "autotypenumbers": "strict",
          "coloraxis": {
           "colorbar": {
            "outlinewidth": 0,
            "ticks": ""
           }
          },
          "colorscale": {
           "diverging": [
            [
             0,
             "#8e0152"
            ],
            [
             0.1,
             "#c51b7d"
            ],
            [
             0.2,
             "#de77ae"
            ],
            [
             0.3,
             "#f1b6da"
            ],
            [
             0.4,
             "#fde0ef"
            ],
            [
             0.5,
             "#f7f7f7"
            ],
            [
             0.6,
             "#e6f5d0"
            ],
            [
             0.7,
             "#b8e186"
            ],
            [
             0.8,
             "#7fbc41"
            ],
            [
             0.9,
             "#4d9221"
            ],
            [
             1,
             "#276419"
            ]
           ],
           "sequential": [
            [
             0,
             "#0d0887"
            ],
            [
             0.1111111111111111,
             "#46039f"
            ],
            [
             0.2222222222222222,
             "#7201a8"
            ],
            [
             0.3333333333333333,
             "#9c179e"
            ],
            [
             0.4444444444444444,
             "#bd3786"
            ],
            [
             0.5555555555555556,
             "#d8576b"
            ],
            [
             0.6666666666666666,
             "#ed7953"
            ],
            [
             0.7777777777777778,
             "#fb9f3a"
            ],
            [
             0.8888888888888888,
             "#fdca26"
            ],
            [
             1,
             "#f0f921"
            ]
           ],
           "sequentialminus": [
            [
             0,
             "#0d0887"
            ],
            [
             0.1111111111111111,
             "#46039f"
            ],
            [
             0.2222222222222222,
             "#7201a8"
            ],
            [
             0.3333333333333333,
             "#9c179e"
            ],
            [
             0.4444444444444444,
             "#bd3786"
            ],
            [
             0.5555555555555556,
             "#d8576b"
            ],
            [
             0.6666666666666666,
             "#ed7953"
            ],
            [
             0.7777777777777778,
             "#fb9f3a"
            ],
            [
             0.8888888888888888,
             "#fdca26"
            ],
            [
             1,
             "#f0f921"
            ]
           ]
          },
          "colorway": [
           "#636efa",
           "#EF553B",
           "#00cc96",
           "#ab63fa",
           "#FFA15A",
           "#19d3f3",
           "#FF6692",
           "#B6E880",
           "#FF97FF",
           "#FECB52"
          ],
          "font": {
           "color": "#2a3f5f"
          },
          "geo": {
           "bgcolor": "white",
           "lakecolor": "white",
           "landcolor": "white",
           "showlakes": true,
           "showland": true,
           "subunitcolor": "#C8D4E3"
          },
          "hoverlabel": {
           "align": "left"
          },
          "hovermode": "closest",
          "mapbox": {
           "style": "light"
          },
          "paper_bgcolor": "white",
          "plot_bgcolor": "white",
          "polar": {
           "angularaxis": {
            "gridcolor": "#EBF0F8",
            "linecolor": "#EBF0F8",
            "ticks": ""
           },
           "bgcolor": "white",
           "radialaxis": {
            "gridcolor": "#EBF0F8",
            "linecolor": "#EBF0F8",
            "ticks": ""
           }
          },
          "scene": {
           "xaxis": {
            "backgroundcolor": "white",
            "gridcolor": "#DFE8F3",
            "gridwidth": 2,
            "linecolor": "#EBF0F8",
            "showbackground": true,
            "ticks": "",
            "zerolinecolor": "#EBF0F8"
           },
           "yaxis": {
            "backgroundcolor": "white",
            "gridcolor": "#DFE8F3",
            "gridwidth": 2,
            "linecolor": "#EBF0F8",
            "showbackground": true,
            "ticks": "",
            "zerolinecolor": "#EBF0F8"
           },
           "zaxis": {
            "backgroundcolor": "white",
            "gridcolor": "#DFE8F3",
            "gridwidth": 2,
            "linecolor": "#EBF0F8",
            "showbackground": true,
            "ticks": "",
            "zerolinecolor": "#EBF0F8"
           }
          },
          "shapedefaults": {
           "line": {
            "color": "#2a3f5f"
           }
          },
          "ternary": {
           "aaxis": {
            "gridcolor": "#DFE8F3",
            "linecolor": "#A2B1C6",
            "ticks": ""
           },
           "baxis": {
            "gridcolor": "#DFE8F3",
            "linecolor": "#A2B1C6",
            "ticks": ""
           },
           "bgcolor": "white",
           "caxis": {
            "gridcolor": "#DFE8F3",
            "linecolor": "#A2B1C6",
            "ticks": ""
           }
          },
          "title": {
           "x": 0.05
          },
          "xaxis": {
           "automargin": true,
           "gridcolor": "#EBF0F8",
           "linecolor": "#EBF0F8",
           "ticks": "",
           "title": {
            "standoff": 15
           },
           "zerolinecolor": "#EBF0F8",
           "zerolinewidth": 2
          },
          "yaxis": {
           "automargin": true,
           "gridcolor": "#EBF0F8",
           "linecolor": "#EBF0F8",
           "ticks": "",
           "title": {
            "standoff": 15
           },
           "zerolinecolor": "#EBF0F8",
           "zerolinewidth": 2
          }
         }
        },
        "width": 1600,
        "xaxis": {
         "anchor": "y",
         "domain": [
          0,
          0.45
         ],
         "title": {
          "text": "Observed values"
         }
        },
        "xaxis2": {
         "anchor": "y2",
         "domain": [
          0.55,
          1
         ],
         "title": {
          "text": "Observed values"
         }
        },
        "yaxis": {
         "anchor": "x",
         "domain": [
          0,
          1
         ],
         "title": {
          "text": "Predicted values"
         }
        },
        "yaxis2": {
         "anchor": "x2",
         "domain": [
          0,
          1
         ],
         "title": {
          "text": "Predicted values"
         }
        }
       }
      }
     },
     "metadata": {},
     "output_type": "display_data"
    },
    {
     "data": {
      "application/vnd.plotly.v1+json": {
       "config": {
        "plotlyServerURL": "https://plot.ly"
       },
       "data": [
        {
         "legendgroup": "train_0",
         "mode": "markers",
         "name": "Run id in Train 0",
         "type": "scatter",
         "x": [
          34.48979591836735,
          33.497759773117764,
          39.18158379968747,
          50.62009499710431,
          58.67865561216076,
          64.50229474124312,
          70.31266186967268,
          77.9143661034886,
          88.10689900312666,
          100.73117479331908,
          115.08564001033828,
          125.8969576070251,
          125.23197031699696,
          124.87737539599864,
          124.68877246718952
         ],
         "xaxis": "x",
         "y": [
          34.48979591836735,
          34.01336553302683,
          41.07074928275776,
          47.87645767183121,
          55.10661284646496,
          59.753425865827886,
          66.06034007994991,
          76.25453056798067,
          87.62014755159211,
          99.87482179963867,
          112.76781550848243,
          116.10919406912464,
          119.53346067557366,
          122.99128032724217,
          126.44689867515591
         ],
         "yaxis": "y"
        },
        {
         "legendgroup": "train_1",
         "mode": "markers",
         "name": "Run id in Train 1",
         "type": "scatter",
         "x": [
          32.857142857142854,
          31.895276825078454,
          29.523755023926796,
          43.45365774211284,
          53.37801483606592,
          59.70360012988135,
          64.5923317260211,
          70.44512271860509,
          78.85933822620683,
          90.44847284105865,
          104.8797826290292,
          119.53418654560204,
          118.04401028491286,
          117.22054934864067,
          116.76720197022738
         ],
         "xaxis": "x",
         "y": [
          32.857142857142854,
          31.96790238877661,
          30.859323056515414,
          38.58926125126734,
          47.26345123278653,
          54.69182922443282,
          63.1493308730096,
          74.4043227268582,
          86.45030162960333,
          99.15389729245881,
          112.37610469061426,
          114.55914590710147,
          116.86012261178124,
          119.24508058778027,
          121.68909795450291
         ],
         "yaxis": "y"
        },
        {
         "legendgroup": "train_2",
         "mode": "markers",
         "name": "Run id in Train 2",
         "type": "scatter",
         "x": [
          40.20408163265306,
          39.3106253406875,
          36.83461707271391,
          41.29851545118337,
          51.58422234292109,
          59.42037843500661,
          67.24029203773658,
          77.00259730155591,
          89.6529978703625,
          105.02858325349617,
          122.29644922822447,
          128.01353314088,
          127.30657682739415,
          126.92861071812789,
          126.72696474831358
         ],
         "xaxis": "x",
         "y": [
          40.20408163265306,
          38.407740464829004,
          36.26556605910988,
          43.107182944566624,
          50.672517826979835,
          56.4670686096896,
          64.74032874054674,
          75.8550923167053,
          87.90429138343546,
          100.71217977862395,
          114.10312015407315,
          116.10430768378308,
          118.19319148120952,
          120.32299285137992,
          122.46154347936444
         ],
         "yaxis": "y"
        },
        {
         "legendgroup": "train_3",
         "mode": "markers",
         "name": "Run id in Train 3",
         "type": "scatter",
         "x": [
          66.3265306122449,
          64.9018084421659,
          74.46646692324572,
          82.75195820225221,
          88.4608121252639,
          94.35032349278424,
          102.35264420922908,
          112.78820578337243,
          125.13254274305396,
          124.74568445028515,
          123.70828935213474,
          123.11833121458756,
          122.78502933027806,
          122.59740576605402,
          122.49199994699929
         ],
         "xaxis": "x",
         "y": [
          66.3265306122449,
          64.54743224401538,
          69.88310835821721,
          74.76437272136626,
          80.3813494219298,
          84.2767510949004,
          88.86072270995997,
          96.58252976236696,
          105.42290797854145,
          105.65164592018758,
          106.19525715152467,
          106.96440929651177,
          107.89199484442403,
          108.92688204601008,
          110.02927826512496
         ],
         "yaxis": "y"
        },
        {
         "legendgroup": "train_4",
         "mode": "markers",
         "name": "Run id in Train 4",
         "type": "scatter",
         "x": [
          54.08163265306122,
          52.32453548724165,
          48.00670790060231,
          52.80978895442207,
          59.67166365361268,
          64.36116287789906,
          69.78971877901188,
          77.9393717582966,
          89.59672510578096,
          94.88781273549858,
          91.9609809279264,
          90.2743358499412,
          89.30079949433396,
          88.73790326458321,
          88.41203209326693
         ],
         "xaxis": "x",
         "y": [
          54.08163265306122,
          51.46636832200128,
          48.545321529843626,
          54.48933743490696,
          61.357775310826085,
          67.42926375201056,
          73.11171489225322,
          82.71181508231572,
          93.64116989259063,
          93.33375758632958,
          93.37540808575278,
          93.70015210883413,
          94.2544945827557,
          94.99355412417262,
          95.87847526416547
         ],
         "yaxis": "y"
        },
        {
         "legendgroup": "train_5",
         "mode": "markers",
         "name": "Run id in Train 5",
         "type": "scatter",
         "x": [
          55.71428571428572,
          54.04229265312258,
          50.19044815252949,
          56.66345377265392,
          62.94630603076002,
          67.36240093890267,
          72.50080654941964,
          80.1355041391731,
          90.8600281640686,
          99.09780809177174,
          96.82391152015649,
          95.56174721339072,
          94.86342162097333,
          94.47756919225226,
          94.2645083447324
         ],
         "xaxis": "x",
         "y": [
          55.71428571428572,
          53.20609637647608,
          50.57786053202514,
          55.97437711929428,
          62.445472380120485,
          67.18453329090003,
          72.20850770331512,
          81.03641784289096,
          90.65842673152768,
          90.45129841118916,
          90.56619373933978,
          90.93744581967574,
          91.51330704882784,
          92.251959575905,
          93.11882894867117
         ],
         "yaxis": "y"
        },
        {
         "legendgroup": "train_6",
         "mode": "markers",
         "name": "Run id in Train 6",
         "type": "scatter",
         "x": [
          67.14285714285714,
          65.72262111008826,
          62.33899756102318,
          55.86087499300016,
          63.63048603140288,
          68.5499478631087,
          73.3580779196577,
          80.30501123095608,
          90.44056467752864,
          103.65677129603148,
          119.15240642675616,
          133.19526386484125,
          132.09349753140145,
          131.47324993444937,
          131.12522304466037
         ],
         "xaxis": "x",
         "y": [
          67.14285714285714,
          64.12209165146778,
          61.1958088172374,
          67.16957543839797,
          73.94764033856141,
          79.18970611879062,
          84.58547916049721,
          93.87083112128383,
          103.9923369648909,
          114.85475274874408,
          126.31488743712298,
          126.93818906875296,
          127.74368640052023,
          128.68171015850706,
          129.71370800145777
         ],
         "yaxis": "y"
        },
        {
         "legendgroup": "train_7",
         "mode": "markers",
         "name": "Run id in Train 7",
         "type": "scatter",
         "x": [
          56.53061224489796,
          55.32956552576817,
          51.96887747098334,
          55.45175427907439,
          58.64166030227109,
          60.52459420873051,
          63.5659352103408,
          69.0079158344245,
          77.12764839367868,
          87.62684618186968,
          95.35728979796336,
          94.37636391008608,
          93.89075940271,
          93.6504884837088,
          93.53162545237578
         ],
         "xaxis": "x",
         "y": [
          56.53061224489796,
          54.34992449602148,
          52.285367439842254,
          57.35050172814286,
          63.42570730279047,
          67.25103891473725,
          72.20549310161272,
          79.36871626535904,
          87.13514414802046,
          95.43286031243903,
          95.66463197905611,
          96.1045355639326,
          96.71092544766945,
          97.45098503822189,
          98.2981767068091
         ],
         "yaxis": "y"
        },
        {
         "legendgroup": "train_8",
         "mode": "markers",
         "name": "Run id in Train 8",
         "type": "scatter",
         "x": [
          57.3469387755102,
          56.26328141499867,
          61.11818356473742,
          67.19682852618769,
          70.32245701569198,
          72.10170042398552,
          74.576588215411,
          78.95127698119116,
          85.50870626123897,
          87.70211038857562,
          85.86798924811929,
          84.78793917261947,
          84.1521917968171,
          83.77787674575289,
          83.55742278372415
         ],
         "xaxis": "x",
         "y": [
          57.3469387755102,
          55.80081704517341,
          59.95260373623225,
          64.17487551698994,
          68.71058650510342,
          71.39999324650148,
          75.47770838580948,
          81.53528178722237,
          88.13092583852963,
          88.30700120814244,
          88.7497389587666,
          89.39623911169146,
          90.19845602555243,
          91.1192043776284,
          92.12899606856071
         ],
         "yaxis": "y"
        },
        {
         "legendgroup": "train_9",
         "mode": "markers",
         "name": "Run id in Train 9",
         "type": "scatter",
         "x": [
          54.89795918367347,
          53.83097725200842,
          51.135170054284416,
          48.65346404036791,
          56.75047501717443,
          62.62869783627702,
          68.50787888685004,
          76.15521464524201,
          86.41064303572327,
          98.32486114462506,
          95.72525521914292,
          94.23513508473134,
          93.3835594751364,
          92.89742769084626,
          92.62003538179069
         ],
         "xaxis": "x",
         "y": [
          54.89795918367347,
          51.88971620350275,
          48.712666669948156,
          53.54585530960392,
          59.85421067300831,
          63.51159577195706,
          69.81076019426112,
          78.44543629141133,
          87.91287690696181,
          87.70932044624887,
          87.85170332744651,
          88.26455515361862,
          88.88757428605138,
          89.67124853105788,
          90.57387948865428
         ],
         "yaxis": "y"
        },
        {
         "legendgroup": "test_0",
         "mode": "markers",
         "name": "Run id in Test 0",
         "type": "scatter",
         "x": [
          43.46938775510204,
          42.11575103737883,
          38.40470745766825,
          34.28104672448483,
          36.13270037292429,
          34.63344313923112,
          32.55252740419164,
          31.875483763746413,
          33.52447895437812,
          37.694658596943526,
          44.21209863405196,
          45.78852821788307,
          40.788789446857486,
          37.03759971276014,
          34.231330813861874
         ],
         "xaxis": "x2",
         "y": [
          43.46938775510204,
          41.26321088022298,
          38.87892428357846,
          44.116963299183794,
          47.93451825172966,
          52.69891259378492,
          60.39365667217939,
          69.00308550131123,
          78.36411035093306,
          88.32069301060959,
          98.72238608170906,
          100.31578168260944,
          101.95764391303484,
          103.61640631790011,
          105.27073521741345
         ],
         "yaxis": "y2"
        },
        {
         "legendgroup": "test_1",
         "mode": "markers",
         "name": "Run id in Test 1",
         "type": "scatter",
         "x": [
          45.91836734693878,
          44.93535705335225,
          45.34454371167346,
          51.66956589718001,
          54.3222189193982,
          53.64426667599316,
          51.24210526598327,
          48.83005687873178,
          47.56068327676123,
          39.08302910973476,
          29.94038322346193,
          22.44987114558976,
          16.430036262308974,
          11.668327985152208,
          7.95349374597405
         ],
         "xaxis": "x2",
         "y": [
          45.91836734693878,
          44.18606384667108,
          47.79004560581796,
          51.680562492682995,
          55.202577774555664,
          57.409380203278225,
          62.813975437819465,
          68.91652138648126,
          75.63428230603624,
          76.03089395581827,
          76.67990161319103,
          77.52431733094174,
          78.52101526989715,
          79.63651226382638,
          80.8441390508405
         ],
         "yaxis": "y2"
        },
        {
         "legendgroup": "test_2",
         "mode": "markers",
         "name": "Run id in Test 2",
         "type": "scatter",
         "x": [
          39.38775510204081,
          38.5280407408776,
          38.7311595156132,
          45.76285698062254,
          49.24196581704296,
          49.81892064072007,
          49.184687689797485,
          48.89258013831316,
          49.88107629463944,
          52.55198518790212,
          56.8557322124684,
          50.96007068131026,
          46.35555553595123,
          42.76260751556799,
          39.96626373139646
         ],
         "xaxis": "x2",
         "y": [
          39.38775510204081,
          38.32570233679036,
          42.93381357284951,
          47.800988022637675,
          52.04813559992661,
          54.690077750660116,
          61.066014108646165,
          68.30011856045255,
          76.30308004378966,
          84.8869318035247,
          86.73325519541429,
          88.75982906928824,
          90.91086052088475,
          93.14649330971443,
          95.43772986669033
         ],
         "yaxis": "y2"
        },
        {
         "legendgroup": "test_3",
         "mode": "markers",
         "name": "Run id in Test 3",
         "type": "scatter",
         "x": [
          48.36734693877551,
          47.04285822396751,
          49.47633429246047,
          52.15436152007848,
          49.36912447968168,
          42.317330231004384,
          33.707503700984184,
          25.915780610616988,
          20.30896088097011,
          17.375999828551723,
          7.512392125109961,
          0.000005549966366497421,
          -1.1635971826234836e-8,
          -7.551679343443506e-10,
          5.42590117253555e-10
         ],
         "xaxis": "x2",
         "y": [
          48.36734693877551,
          47.186034312198025,
          51.2059522052016,
          55.64900873814381,
          59.665781582405465,
          62.427342716263375,
          66.87840235911415,
          72.53843570377364,
          78.67339995466605,
          85.23853260097246,
          85.97374609583551,
          86.88217784212713,
          87.92710637075757,
          89.08023466207018,
          90.31916286849443
         ],
         "yaxis": "y2"
        },
        {
         "legendgroup": "test_4",
         "mode": "markers",
         "name": "Run id in Test 4",
         "type": "scatter",
         "x": [
          46.734693877551024,
          44.99290263409152,
          55.71392075823843,
          61.33985969413218,
          61.56527277561326,
          59.50002768365175,
          58.29518530186981,
          59.65002766372735,
          64.13123970145408,
          71.72899291203933,
          66.36797709905878,
          62.62435211663696,
          60.027913453442245,
          58.20387118444934,
          56.91292005668433
         ],
         "xaxis": "x2",
         "y": [
          46.734693877551024,
          45.90502445426448,
          52.31372393233003,
          58.29960307821607,
          64.17579245057966,
          68.0606263383429,
          72.02918126552319,
          81.19526140481723,
          91.60581485034055,
          102.95337931833585,
          105.46461128177957,
          108.2210615932327,
          111.09858755556024,
          114.02007389964211,
          116.93192562149757
         ],
         "yaxis": "y2"
        },
        {
         "legendgroup": "test_5",
         "mode": "markers",
         "name": "Run id in Test 5",
         "type": "scatter",
         "x": [
          61.42857142857143,
          60.50079410755882,
          57.7416721465118,
          63.15057974853251,
          64.57604262224581,
          62.09198760634006,
          59.14814915273872,
          58.11012565652759,
          59.9433480996893,
          64.7820145618766,
          72.39096715444906,
          72.48911688464071,
          69.99775447415446,
          68.42884724712913,
          67.42783305213658
         ],
         "xaxis": "x2",
         "y": [
          61.42857142857143,
          59.482856787096964,
          57.802815614461686,
          63.2672146701702,
          69.55570421704385,
          74.47954391167741,
          80.42774745122182,
          86.94024976791403,
          94.55597867057452,
          102.75257485996313,
          111.43608217085024,
          112.13024104743559,
          112.98949870604194,
          113.97376036910286,
          115.05163363098876
         ],
         "yaxis": "y2"
        },
        {
         "legendgroup": "test_6",
         "mode": "markers",
         "name": "Run id in Test 6",
         "type": "scatter",
         "x": [
          60.61224489795919,
          58.91820688373571,
          54.967944586112615,
          56.504120407833305,
          53.20133675298614,
          47.006106393559286,
          40.2969979363268,
          34.73770111132932,
          31.173384146301327,
          29.862540320253835,
          21.60893411956609,
          13.894199054079715,
          7.830610064693132,
          3.1559468428018,
          0.0010337156919927
         ],
         "xaxis": "x2",
         "y": [
          60.61224489795919,
          58.33554234639535,
          61.556337559706975,
          65.29117787425557,
          68.52241719735943,
          70.32209309449948,
          74.42137840782145,
          79.46362124346646,
          84.9921577949877,
          90.96256745783296,
          90.98117893401138,
          91.164026780024,
          91.46969376482699,
          91.86698666966682,
          92.33185632584173
         ],
         "yaxis": "y2"
        },
        {
         "legendgroup": "test_7",
         "mode": "markers",
         "name": "Run id in Test 7",
         "type": "scatter",
         "x": [
          44.285714285714285,
          43.091730416232096,
          49.56742116592375,
          53.41855175443676,
          53.56105683162421,
          51.3427427140427,
          48.75151084812984,
          47.21647080029135,
          47.41291358220813,
          49.4956375243666,
          48.292322180351455,
          43.51040815227347,
          39.87424357386649,
          37.12396685800291,
          35.05341744703701
         ],
         "xaxis": "x2",
         "y": [
          44.285714285714285,
          43.64541982405786,
          48.07551664981501,
          53.01405814366705,
          56.944823710458216,
          60.458302800733506,
          65.59026774588244,
          71.61139120773484,
          78.11851492126799,
          85.04316351218036,
          86.2476606675643,
          87.61497193542206,
          89.10867831424429,
          90.70085537294204,
          92.36951297842438
         ],
         "yaxis": "y2"
        },
        {
         "legendgroup": "test_8",
         "mode": "markers",
         "name": "Run id in Test 8",
         "type": "scatter",
         "x": [
          62.24489795918368,
          61.21776604301599,
          61.68839208761704,
          65.04382305329295,
          62.69758511158651,
          56.54852620466132,
          49.80711194765001,
          44.700101045224585,
          42.2095427249079,
          42.48465618101904,
          41.20803831131787,
          35.297389599090664,
          30.946368717426356,
          27.770291957174603,
          25.467113925770228
         ],
         "xaxis": "x2",
         "y": [
          62.24489795918368,
          60.52084062783749,
          64.47868578999207,
          68.54738753766705,
          72.93610351592818,
          75.60200608986128,
          79.70961613560154,
          85.17521202567414,
          91.16257319134132,
          97.65426095362352,
          98.13204657093142,
          98.81385000049613,
          99.64653367782434,
          100.5898955638903,
          101.61337523642263
         ],
         "yaxis": "y2"
        },
        {
         "legendgroup": "test_9",
         "mode": "markers",
         "name": "Run id in Test 9",
         "type": "scatter",
         "x": [
          31.22448979591837,
          29.86833180785049,
          27.658387185172973,
          37.619533430058816,
          41.16323693589936,
          39.72372431065216,
          36.56691320199399,
          34.4317618023923,
          34.8034920745417,
          38.185121525710215,
          44.52533300483191,
          42.78968564912638,
          35.513688469230864,
          29.937750335245543,
          25.685477735236184
         ],
         "xaxis": "x2",
         "y": [
          31.22448979591837,
          30.21812486257113,
          37.553399888217434,
          44.95768659520091,
          52.98711698913397,
          59.69760863980179,
          67.55024875087958,
          78.41594731793191,
          90.09391331062807,
          102.4368674013577,
          115.29689277676349,
          117.48717213520719,
          119.80108965312918,
          122.20102930821248,
          124.65888808271816
         ],
         "yaxis": "y2"
        }
       ],
       "layout": {
        "annotations": [
         {
          "font": {
           "size": 16
          },
          "showarrow": false,
          "text": "Train Set - X:Glc <br> R^2 = 0.913 <br> Abs RMSE = 5.61 <br> Rel RMSE = 0.212",
          "x": 0.225,
          "xanchor": "center",
          "xref": "paper",
          "y": 1,
          "yanchor": "bottom",
          "yref": "paper"
         },
         {
          "font": {
           "size": 16
          },
          "showarrow": false,
          "text": "Test Set - X:Glc <br> R^2 = -34.879 <br> Abs RMSE = 41.608 <br> Rel RMSE = 2.564",
          "x": 0.775,
          "xanchor": "center",
          "xref": "paper",
          "y": 1,
          "yanchor": "bottom",
          "yref": "paper"
         }
        ],
        "shapes": [
         {
          "layer": "above",
          "line": {
           "dash": "dash"
          },
          "type": "line",
          "x0": 30.859323056515414,
          "x1": 129.71370800145777,
          "y0": 30.859323056515414,
          "y1": 129.71370800145777
         },
         {
          "layer": "above",
          "line": {
           "dash": "dash"
          },
          "type": "line",
          "x0": 30.21812486257113,
          "x1": 124.65888808271816,
          "xref": "x2",
          "y0": 30.21812486257113,
          "y1": 124.65888808271816,
          "yref": "y2"
         }
        ],
        "template": {
         "data": {
          "bar": [
           {
            "error_x": {
             "color": "#2a3f5f"
            },
            "error_y": {
             "color": "#2a3f5f"
            },
            "marker": {
             "line": {
              "color": "white",
              "width": 0.5
             },
             "pattern": {
              "fillmode": "overlay",
              "size": 10,
              "solidity": 0.2
             }
            },
            "type": "bar"
           }
          ],
          "barpolar": [
           {
            "marker": {
             "line": {
              "color": "white",
              "width": 0.5
             },
             "pattern": {
              "fillmode": "overlay",
              "size": 10,
              "solidity": 0.2
             }
            },
            "type": "barpolar"
           }
          ],
          "carpet": [
           {
            "aaxis": {
             "endlinecolor": "#2a3f5f",
             "gridcolor": "#C8D4E3",
             "linecolor": "#C8D4E3",
             "minorgridcolor": "#C8D4E3",
             "startlinecolor": "#2a3f5f"
            },
            "baxis": {
             "endlinecolor": "#2a3f5f",
             "gridcolor": "#C8D4E3",
             "linecolor": "#C8D4E3",
             "minorgridcolor": "#C8D4E3",
             "startlinecolor": "#2a3f5f"
            },
            "type": "carpet"
           }
          ],
          "choropleth": [
           {
            "colorbar": {
             "outlinewidth": 0,
             "ticks": ""
            },
            "type": "choropleth"
           }
          ],
          "contour": [
           {
            "colorbar": {
             "outlinewidth": 0,
             "ticks": ""
            },
            "colorscale": [
             [
              0,
              "#0d0887"
             ],
             [
              0.1111111111111111,
              "#46039f"
             ],
             [
              0.2222222222222222,
              "#7201a8"
             ],
             [
              0.3333333333333333,
              "#9c179e"
             ],
             [
              0.4444444444444444,
              "#bd3786"
             ],
             [
              0.5555555555555556,
              "#d8576b"
             ],
             [
              0.6666666666666666,
              "#ed7953"
             ],
             [
              0.7777777777777778,
              "#fb9f3a"
             ],
             [
              0.8888888888888888,
              "#fdca26"
             ],
             [
              1,
              "#f0f921"
             ]
            ],
            "type": "contour"
           }
          ],
          "contourcarpet": [
           {
            "colorbar": {
             "outlinewidth": 0,
             "ticks": ""
            },
            "type": "contourcarpet"
           }
          ],
          "heatmap": [
           {
            "colorbar": {
             "outlinewidth": 0,
             "ticks": ""
            },
            "colorscale": [
             [
              0,
              "#0d0887"
             ],
             [
              0.1111111111111111,
              "#46039f"
             ],
             [
              0.2222222222222222,
              "#7201a8"
             ],
             [
              0.3333333333333333,
              "#9c179e"
             ],
             [
              0.4444444444444444,
              "#bd3786"
             ],
             [
              0.5555555555555556,
              "#d8576b"
             ],
             [
              0.6666666666666666,
              "#ed7953"
             ],
             [
              0.7777777777777778,
              "#fb9f3a"
             ],
             [
              0.8888888888888888,
              "#fdca26"
             ],
             [
              1,
              "#f0f921"
             ]
            ],
            "type": "heatmap"
           }
          ],
          "heatmapgl": [
           {
            "colorbar": {
             "outlinewidth": 0,
             "ticks": ""
            },
            "colorscale": [
             [
              0,
              "#0d0887"
             ],
             [
              0.1111111111111111,
              "#46039f"
             ],
             [
              0.2222222222222222,
              "#7201a8"
             ],
             [
              0.3333333333333333,
              "#9c179e"
             ],
             [
              0.4444444444444444,
              "#bd3786"
             ],
             [
              0.5555555555555556,
              "#d8576b"
             ],
             [
              0.6666666666666666,
              "#ed7953"
             ],
             [
              0.7777777777777778,
              "#fb9f3a"
             ],
             [
              0.8888888888888888,
              "#fdca26"
             ],
             [
              1,
              "#f0f921"
             ]
            ],
            "type": "heatmapgl"
           }
          ],
          "histogram": [
           {
            "marker": {
             "pattern": {
              "fillmode": "overlay",
              "size": 10,
              "solidity": 0.2
             }
            },
            "type": "histogram"
           }
          ],
          "histogram2d": [
           {
            "colorbar": {
             "outlinewidth": 0,
             "ticks": ""
            },
            "colorscale": [
             [
              0,
              "#0d0887"
             ],
             [
              0.1111111111111111,
              "#46039f"
             ],
             [
              0.2222222222222222,
              "#7201a8"
             ],
             [
              0.3333333333333333,
              "#9c179e"
             ],
             [
              0.4444444444444444,
              "#bd3786"
             ],
             [
              0.5555555555555556,
              "#d8576b"
             ],
             [
              0.6666666666666666,
              "#ed7953"
             ],
             [
              0.7777777777777778,
              "#fb9f3a"
             ],
             [
              0.8888888888888888,
              "#fdca26"
             ],
             [
              1,
              "#f0f921"
             ]
            ],
            "type": "histogram2d"
           }
          ],
          "histogram2dcontour": [
           {
            "colorbar": {
             "outlinewidth": 0,
             "ticks": ""
            },
            "colorscale": [
             [
              0,
              "#0d0887"
             ],
             [
              0.1111111111111111,
              "#46039f"
             ],
             [
              0.2222222222222222,
              "#7201a8"
             ],
             [
              0.3333333333333333,
              "#9c179e"
             ],
             [
              0.4444444444444444,
              "#bd3786"
             ],
             [
              0.5555555555555556,
              "#d8576b"
             ],
             [
              0.6666666666666666,
              "#ed7953"
             ],
             [
              0.7777777777777778,
              "#fb9f3a"
             ],
             [
              0.8888888888888888,
              "#fdca26"
             ],
             [
              1,
              "#f0f921"
             ]
            ],
            "type": "histogram2dcontour"
           }
          ],
          "mesh3d": [
           {
            "colorbar": {
             "outlinewidth": 0,
             "ticks": ""
            },
            "type": "mesh3d"
           }
          ],
          "parcoords": [
           {
            "line": {
             "colorbar": {
              "outlinewidth": 0,
              "ticks": ""
             }
            },
            "type": "parcoords"
           }
          ],
          "pie": [
           {
            "automargin": true,
            "type": "pie"
           }
          ],
          "scatter": [
           {
            "fillpattern": {
             "fillmode": "overlay",
             "size": 10,
             "solidity": 0.2
            },
            "type": "scatter"
           }
          ],
          "scatter3d": [
           {
            "line": {
             "colorbar": {
              "outlinewidth": 0,
              "ticks": ""
             }
            },
            "marker": {
             "colorbar": {
              "outlinewidth": 0,
              "ticks": ""
             }
            },
            "type": "scatter3d"
           }
          ],
          "scattercarpet": [
           {
            "marker": {
             "colorbar": {
              "outlinewidth": 0,
              "ticks": ""
             }
            },
            "type": "scattercarpet"
           }
          ],
          "scattergeo": [
           {
            "marker": {
             "colorbar": {
              "outlinewidth": 0,
              "ticks": ""
             }
            },
            "type": "scattergeo"
           }
          ],
          "scattergl": [
           {
            "marker": {
             "colorbar": {
              "outlinewidth": 0,
              "ticks": ""
             }
            },
            "type": "scattergl"
           }
          ],
          "scattermapbox": [
           {
            "marker": {
             "colorbar": {
              "outlinewidth": 0,
              "ticks": ""
             }
            },
            "type": "scattermapbox"
           }
          ],
          "scatterpolar": [
           {
            "marker": {
             "colorbar": {
              "outlinewidth": 0,
              "ticks": ""
             }
            },
            "type": "scatterpolar"
           }
          ],
          "scatterpolargl": [
           {
            "marker": {
             "colorbar": {
              "outlinewidth": 0,
              "ticks": ""
             }
            },
            "type": "scatterpolargl"
           }
          ],
          "scatterternary": [
           {
            "marker": {
             "colorbar": {
              "outlinewidth": 0,
              "ticks": ""
             }
            },
            "type": "scatterternary"
           }
          ],
          "surface": [
           {
            "colorbar": {
             "outlinewidth": 0,
             "ticks": ""
            },
            "colorscale": [
             [
              0,
              "#0d0887"
             ],
             [
              0.1111111111111111,
              "#46039f"
             ],
             [
              0.2222222222222222,
              "#7201a8"
             ],
             [
              0.3333333333333333,
              "#9c179e"
             ],
             [
              0.4444444444444444,
              "#bd3786"
             ],
             [
              0.5555555555555556,
              "#d8576b"
             ],
             [
              0.6666666666666666,
              "#ed7953"
             ],
             [
              0.7777777777777778,
              "#fb9f3a"
             ],
             [
              0.8888888888888888,
              "#fdca26"
             ],
             [
              1,
              "#f0f921"
             ]
            ],
            "type": "surface"
           }
          ],
          "table": [
           {
            "cells": {
             "fill": {
              "color": "#EBF0F8"
             },
             "line": {
              "color": "white"
             }
            },
            "header": {
             "fill": {
              "color": "#C8D4E3"
             },
             "line": {
              "color": "white"
             }
            },
            "type": "table"
           }
          ]
         },
         "layout": {
          "annotationdefaults": {
           "arrowcolor": "#2a3f5f",
           "arrowhead": 0,
           "arrowwidth": 1
          },
          "autotypenumbers": "strict",
          "coloraxis": {
           "colorbar": {
            "outlinewidth": 0,
            "ticks": ""
           }
          },
          "colorscale": {
           "diverging": [
            [
             0,
             "#8e0152"
            ],
            [
             0.1,
             "#c51b7d"
            ],
            [
             0.2,
             "#de77ae"
            ],
            [
             0.3,
             "#f1b6da"
            ],
            [
             0.4,
             "#fde0ef"
            ],
            [
             0.5,
             "#f7f7f7"
            ],
            [
             0.6,
             "#e6f5d0"
            ],
            [
             0.7,
             "#b8e186"
            ],
            [
             0.8,
             "#7fbc41"
            ],
            [
             0.9,
             "#4d9221"
            ],
            [
             1,
             "#276419"
            ]
           ],
           "sequential": [
            [
             0,
             "#0d0887"
            ],
            [
             0.1111111111111111,
             "#46039f"
            ],
            [
             0.2222222222222222,
             "#7201a8"
            ],
            [
             0.3333333333333333,
             "#9c179e"
            ],
            [
             0.4444444444444444,
             "#bd3786"
            ],
            [
             0.5555555555555556,
             "#d8576b"
            ],
            [
             0.6666666666666666,
             "#ed7953"
            ],
            [
             0.7777777777777778,
             "#fb9f3a"
            ],
            [
             0.8888888888888888,
             "#fdca26"
            ],
            [
             1,
             "#f0f921"
            ]
           ],
           "sequentialminus": [
            [
             0,
             "#0d0887"
            ],
            [
             0.1111111111111111,
             "#46039f"
            ],
            [
             0.2222222222222222,
             "#7201a8"
            ],
            [
             0.3333333333333333,
             "#9c179e"
            ],
            [
             0.4444444444444444,
             "#bd3786"
            ],
            [
             0.5555555555555556,
             "#d8576b"
            ],
            [
             0.6666666666666666,
             "#ed7953"
            ],
            [
             0.7777777777777778,
             "#fb9f3a"
            ],
            [
             0.8888888888888888,
             "#fdca26"
            ],
            [
             1,
             "#f0f921"
            ]
           ]
          },
          "colorway": [
           "#636efa",
           "#EF553B",
           "#00cc96",
           "#ab63fa",
           "#FFA15A",
           "#19d3f3",
           "#FF6692",
           "#B6E880",
           "#FF97FF",
           "#FECB52"
          ],
          "font": {
           "color": "#2a3f5f"
          },
          "geo": {
           "bgcolor": "white",
           "lakecolor": "white",
           "landcolor": "white",
           "showlakes": true,
           "showland": true,
           "subunitcolor": "#C8D4E3"
          },
          "hoverlabel": {
           "align": "left"
          },
          "hovermode": "closest",
          "mapbox": {
           "style": "light"
          },
          "paper_bgcolor": "white",
          "plot_bgcolor": "white",
          "polar": {
           "angularaxis": {
            "gridcolor": "#EBF0F8",
            "linecolor": "#EBF0F8",
            "ticks": ""
           },
           "bgcolor": "white",
           "radialaxis": {
            "gridcolor": "#EBF0F8",
            "linecolor": "#EBF0F8",
            "ticks": ""
           }
          },
          "scene": {
           "xaxis": {
            "backgroundcolor": "white",
            "gridcolor": "#DFE8F3",
            "gridwidth": 2,
            "linecolor": "#EBF0F8",
            "showbackground": true,
            "ticks": "",
            "zerolinecolor": "#EBF0F8"
           },
           "yaxis": {
            "backgroundcolor": "white",
            "gridcolor": "#DFE8F3",
            "gridwidth": 2,
            "linecolor": "#EBF0F8",
            "showbackground": true,
            "ticks": "",
            "zerolinecolor": "#EBF0F8"
           },
           "zaxis": {
            "backgroundcolor": "white",
            "gridcolor": "#DFE8F3",
            "gridwidth": 2,
            "linecolor": "#EBF0F8",
            "showbackground": true,
            "ticks": "",
            "zerolinecolor": "#EBF0F8"
           }
          },
          "shapedefaults": {
           "line": {
            "color": "#2a3f5f"
           }
          },
          "ternary": {
           "aaxis": {
            "gridcolor": "#DFE8F3",
            "linecolor": "#A2B1C6",
            "ticks": ""
           },
           "baxis": {
            "gridcolor": "#DFE8F3",
            "linecolor": "#A2B1C6",
            "ticks": ""
           },
           "bgcolor": "white",
           "caxis": {
            "gridcolor": "#DFE8F3",
            "linecolor": "#A2B1C6",
            "ticks": ""
           }
          },
          "title": {
           "x": 0.05
          },
          "xaxis": {
           "automargin": true,
           "gridcolor": "#EBF0F8",
           "linecolor": "#EBF0F8",
           "ticks": "",
           "title": {
            "standoff": 15
           },
           "zerolinecolor": "#EBF0F8",
           "zerolinewidth": 2
          },
          "yaxis": {
           "automargin": true,
           "gridcolor": "#EBF0F8",
           "linecolor": "#EBF0F8",
           "ticks": "",
           "title": {
            "standoff": 15
           },
           "zerolinecolor": "#EBF0F8",
           "zerolinewidth": 2
          }
         }
        },
        "width": 1600,
        "xaxis": {
         "anchor": "y",
         "domain": [
          0,
          0.45
         ],
         "title": {
          "text": "Observed values"
         }
        },
        "xaxis2": {
         "anchor": "y2",
         "domain": [
          0.55,
          1
         ],
         "title": {
          "text": "Observed values"
         }
        },
        "yaxis": {
         "anchor": "x",
         "domain": [
          0,
          1
         ],
         "title": {
          "text": "Predicted values"
         }
        },
        "yaxis2": {
         "anchor": "x2",
         "domain": [
          0,
          1
         ],
         "title": {
          "text": "Predicted values"
         }
        }
       }
      }
     },
     "metadata": {},
     "output_type": "display_data"
    },
    {
     "data": {
      "application/vnd.plotly.v1+json": {
       "config": {
        "plotlyServerURL": "https://plot.ly"
       },
       "data": [
        {
         "legendgroup": "train_0",
         "mode": "markers",
         "name": "Run id in Train 0",
         "type": "scatter",
         "x": [
          0,
          1.69345805704731,
          5.897022174496003,
          14.760391525541584,
          29.38859302970828,
          47.82798059583144,
          66.28877804594478,
          81.69288657721607,
          92.67703047605649,
          99.51314361635391,
          103.3982341018014,
          105.5137608534153,
          106.64771326447794,
          107.25237808915796,
          107.57398917080884
         ],
         "xaxis": "x",
         "y": [
          0,
          2.2237979719520027,
          7.363441113114183,
          16.27962567671877,
          31.70871090970468,
          52.848709672177364,
          74.89609691752675,
          95.46723782369205,
          109.41384264279039,
          117.89512101334277,
          121.88397301215916,
          123.10538849961127,
          122.96114515927458,
          121.79606234365603,
          119.75700165625277
         ],
         "yaxis": "y"
        },
        {
         "legendgroup": "train_1",
         "mode": "markers",
         "name": "Run id in Train 1",
         "type": "scatter",
         "x": [
          0,
          1.2591174351446812,
          4.363787969322462,
          11.105807850200534,
          23.08674531626167,
          39.77379364032567,
          58.33909249352142,
          75.64227711825473,
          89.5941838255521,
          99.3928495418756,
          105.4740473218795,
          108.9699250499719,
          110.918427122675,
          111.99516193361828,
          112.58794736476844
         ],
         "xaxis": "x",
         "y": [
          0,
          1.959983398379217,
          6.1326824164061495,
          15.885481912540719,
          31.65669349486752,
          48.91320972541629,
          65.27013506244941,
          78.85261687439869,
          88.64590713503871,
          95.45246216962241,
          99.4882664447258,
          102.03003793243805,
          103.62528524310706,
          104.52753782522186,
          104.91152479164516
         ],
         "yaxis": "y"
        },
        {
         "legendgroup": "train_2",
         "mode": "markers",
         "name": "Run id in Train 2",
         "type": "scatter",
         "x": [
          0,
          1.866469333291912,
          7.039248680252867,
          18.704626424131312,
          38.35496070782931,
          63.1173995632141,
          87.91110486552529,
          108.64700768237822,
          123.35156668084312,
          132.36601726278963,
          137.42994602457176,
          140.17843995403726,
          141.65402443925203,
          142.44293058550818,
          142.86381460240204
         ],
         "xaxis": "x",
         "y": [
          0,
          1.900225182228601,
          6.232852988264682,
          16.528514951496753,
          34.02045408766756,
          54.04992378816245,
          73.49599819971036,
          88.60629364004097,
          99.35460002390914,
          106.25603837505571,
          109.71213512306308,
          111.1906895224897,
          111.41544113827145,
          110.79106601206585,
          109.59250756814068
         ],
         "yaxis": "y"
        },
        {
         "legendgroup": "train_3",
         "mode": "markers",
         "name": "Run id in Train 3",
         "type": "scatter",
         "x": [
          0,
          2.1935506074183557,
          7.801298168106945,
          18.766174317262404,
          33.69689018464,
          48.34900066558672,
          59.74842585087358,
          67.40216019026191,
          72.1177330616482,
          74.89252493334618,
          76.48915967702284,
          77.39715527981402,
          77.91013594557718,
          78.1989052220856,
          78.36113418904017
         ],
         "xaxis": "x",
         "y": [
          0,
          2.0069775761990236,
          6.391445470655892,
          15.98349648166938,
          31.784569408868034,
          51.37121810397635,
          69.65032067112064,
          83.0851763264788,
          93.04494618252455,
          99.48458410307194,
          103.48506921457663,
          105.6896726991918,
          106.5477400608104,
          106.3792035123029,
          105.41630672662774
         ],
         "yaxis": "y"
        },
        {
         "legendgroup": "train_4",
         "mode": "markers",
         "name": "Run id in Train 4",
         "type": "scatter",
         "x": [
          0,
          2.271716977830502,
          7.854473161355809,
          18.971708052051884,
          35.82484903801885,
          55.484937664768005,
          74.18856957963564,
          89.37381330601042,
          100.02434710219111,
          106.56762036581328,
          110.35013494198267,
          112.52991365924176,
          113.78809838136668,
          114.51558106094842,
          114.936735596877
         ],
         "xaxis": "x",
         "y": [
          0,
          1.6047248732800412,
          5.2647954584510614,
          14.605890911334964,
          30.711134499596138,
          48.630145590942504,
          65.36859939062043,
          79.94999323230974,
          89.96486749926054,
          97.51604399776325,
          103.23843371225139,
          107.48916157456806,
          110.53106192054683,
          112.56304196252997,
          113.74139128855855
         ],
         "yaxis": "y"
        },
        {
         "legendgroup": "train_5",
         "mode": "markers",
         "name": "Run id in Train 5",
         "type": "scatter",
         "x": [
          0,
          2.1740074735550605,
          7.182608258476706,
          16.82510229378721,
          31.34268820461444,
          48.28624408120008,
          64.28995969884735,
          77.04776277507078,
          85.78842522037073,
          91.04929514777176,
          94.00474366506025,
          95.64522970427242,
          96.55287676695592,
          97.054389027165,
          97.331315646952
         ],
         "xaxis": "x",
         "y": [
          0,
          2.034617984541004,
          6.728228295119699,
          17.527602431200492,
          33.59942256304483,
          50.9926846975236,
          66.97291198103251,
          80.94625819395692,
          90.60121673627235,
          97.73930779670253,
          103.05555789371776,
          106.94636762435765,
          109.69658204590509,
          111.51560414642657,
          112.56148581553168
         ],
         "yaxis": "y"
        },
        {
         "legendgroup": "train_6",
         "mode": "markers",
         "name": "Run id in Train 6",
         "type": "scatter",
         "x": [
          0,
          1.916223707605735,
          6.481636373842608,
          15.742076047399967,
          30.7303924619266,
          49.56309399414012,
          68.54508580701972,
          84.64064208273174,
          96.4336875563552,
          104.07036255435077,
          108.63197524096528,
          111.25534115276618,
          112.74131598613712,
          113.577859978804,
          114.04725326605498
         ],
         "xaxis": "x",
         "y": [
          0,
          2.654559800421488,
          7.893589779692022,
          18.83964525788084,
          36.56119738138655,
          57.531838549672806,
          77.7510926068715,
          94.10178586671205,
          106.65813287429116,
          115.26600605445022,
          120.49044747306382,
          123.76010197022254,
          125.69412310996775,
          126.60671903100045,
          126.72389896767505
         ],
         "yaxis": "y"
        },
        {
         "legendgroup": "train_7",
         "mode": "markers",
         "name": "Run id in Train 7",
         "type": "scatter",
         "x": [
          0,
          2.243958200027949,
          8.523091057701478,
          22.02505899374238,
          42.56465569657718,
          65.54531000542516,
          86.36115270011925,
          102.69136210007946,
          114.01852655478228,
          120.90042892063524,
          124.57629681718988,
          126.40832354825189,
          127.3152667728905,
          127.7640116394374,
          127.98600783384062
         ],
         "xaxis": "x",
         "y": [
          0,
          2.6508126426506458,
          8.323063174552427,
          19.24414391823173,
          33.92646670903001,
          49.78954995695526,
          62.89058963760413,
          74.60498136546038,
          83.6958709732446,
          90.02483437369044,
          94.70216238206108,
          98.21650184125494,
          100.81953638983714,
          102.69167171172735,
          103.96517990845604
         ],
         "yaxis": "y"
        },
        {
         "legendgroup": "train_8",
         "mode": "markers",
         "name": "Run id in Train 8",
         "type": "scatter",
         "x": [
          0,
          1.6793980299494815,
          5.825279816564676,
          14.27356176357438,
          27.297157467115877,
          42.40664958688576,
          56.43799757399171,
          67.52538375231104,
          75.23050405709591,
          80.0340985431344,
          82.87566487240495,
          84.54898020684811,
          85.5339459906819,
          86.11387571389295,
          86.4554277707369
         ],
         "xaxis": "x",
         "y": [
          0,
          2.402723210574198,
          7.636029957718925,
          17.151085599254404,
          30.97036376623708,
          47.015069602693735,
          61.423177291799,
          71.99840677310895,
          80.53238917019176,
          86.55492517831138,
          90.81801054219568,
          93.76256690670627,
          95.69604679166945,
          96.83758714942783,
          97.34663342314029
         ],
         "yaxis": "y"
        },
        {
         "legendgroup": "train_9",
         "mode": "markers",
         "name": "Run id in Train 9",
         "type": "scatter",
         "x": [
          0,
          1.936573425915886,
          6.829628620347621,
          17.08542047827603,
          33.68920844131243,
          54.31801760252742,
          74.94360934324902,
          92.35928951478154,
          105.04138844957716,
          113.1173391723332,
          117.83371942641146,
          120.5372260817002,
          122.08223916974812,
          122.96423137950454,
          123.46750725239096
         ],
         "xaxis": "x",
         "y": [
          0,
          2.1486721657704386,
          7.43907399843361,
          19.30057057710083,
          36.4047820413293,
          55.29764085555764,
          72.41641617805624,
          86.49451053095977,
          96.47838843125808,
          103.77012350143349,
          109.07128482932818,
          112.80495662188142,
          115.28532676842097,
          116.75144087742008,
          117.39088945453265
         ],
         "yaxis": "y"
        },
        {
         "legendgroup": "test_0",
         "mode": "markers",
         "name": "Run id in Test 0",
         "type": "scatter",
         "x": [
          0,
          2.1824297539180297,
          8.166083041116508,
          21.321369967573112,
          42.85414584728475,
          69.79089068242651,
          97.66797157992208,
          123.28266885228646,
          145.1452661433552,
          162.939326203935,
          176.9454542072082,
          187.66054365335236,
          195.7213811855037,
          201.77002614645343,
          206.29555670809924
         ],
         "xaxis": "x2",
         "y": [
          0,
          2.8052080053360484,
          10.202117766986555,
          24.208213910596694,
          41.65694493401606,
          60.1038038343116,
          76.66243475305642,
          88.84929292997654,
          97.36367561449673,
          102.62773581917386,
          105.06372638998089,
          105.88868866841342,
          105.85317256117013,
          105.21770272019343,
          104.09975582652139
         ],
         "yaxis": "y2"
        },
        {
         "legendgroup": "test_1",
         "mode": "markers",
         "name": "Run id in Test 1",
         "type": "scatter",
         "x": [
          0,
          1.5991499982104411,
          5.445699389353575,
          13.581432771597257,
          27.689681352073706,
          47.21496460203044,
          69.54534066005401,
          91.89286610534306,
          112.38249670914288,
          130.1236250206878,
          145.0020761195221,
          157.1975521219229,
          167.00514815735104,
          174.77073081852015,
          180.83847709015123
         ],
         "xaxis": "x2",
         "y": [
          0,
          2.3913857146904114,
          8.34452895427549,
          18.938187328352893,
          33.26072700244422,
          49.57371293981563,
          63.53020092182133,
          75.13406759058952,
          83.24616437741442,
          89.09970709077912,
          93.36554472728771,
          96.43473394920846,
          98.58086236484952,
          99.99855542924374,
          100.82916230241393
         ],
         "yaxis": "y2"
        },
        {
         "legendgroup": "test_2",
         "mode": "markers",
         "name": "Run id in Test 2",
         "type": "scatter",
         "x": [
          0,
          1.5581891741849512,
          5.606126893705409,
          14.498929324203344,
          29.82798216505632,
          50.41499972160747,
          73.19671246341571,
          95.3587673773708,
          115.20028515974414,
          131.99273880744107,
          145.60559285891645,
          156.2873977451865,
          164.63072407738295,
          171.14171656847114,
          176.2095735657846
         ],
         "xaxis": "x2",
         "y": [
          0,
          2.7040704675186777,
          9.14067625673097,
          20.063289983926268,
          35.90819229490563,
          55.25134410464052,
          72.49624683742219,
          86.73264851823632,
          96.6346932925866,
          102.98766427627181,
          107.07560726669793,
          109.62300922564869,
          111.07460930979639,
          111.73425598443748,
          111.81142523746826
         ],
         "yaxis": "y2"
        },
        {
         "legendgroup": "test_3",
         "mode": "markers",
         "name": "Run id in Test 3",
         "type": "scatter",
         "x": [
          0,
          1.7487860554820465,
          6.311671256918155,
          16.382654836909964,
          33.66660265814613,
          56.58603621625323,
          81.56847238120447,
          105.47928252536023,
          126.51381224589684,
          144.02257896315942,
          158.0615217586803,
          168.90191538273123,
          176.33605979156945,
          181.14518553707703,
          184.24826675684804
         ],
         "xaxis": "x2",
         "y": [
          0,
          2.6591279193121125,
          8.464075157107027,
          18.243005993933572,
          31.07679983086077,
          45.486506443864926,
          57.236862609698385,
          66.89764588539391,
          74.75862228722745,
          80.20873807466157,
          84.18742173076102,
          87.1354395281944,
          89.29170514492868,
          90.82468192992992,
          91.8554498086124
         ],
         "yaxis": "y2"
        },
        {
         "legendgroup": "test_4",
         "mode": "markers",
         "name": "Run id in Test 4",
         "type": "scatter",
         "x": [
          0,
          2.40865700404835,
          9.007605339128604,
          23.0960309095346,
          44.650055160271,
          69.37126336604697,
          92.90356906065072,
          112.89704265210062,
          128.56760159133748,
          139.92880141496798,
          147.5636069024654,
          152.73889571644432,
          156.32842633487192,
          158.8502092384601,
          160.63502139951692
         ],
         "xaxis": "x2",
         "y": [
          0,
          1.973570243844918,
          5.954989893249337,
          13.429505823686963,
          27.66738826012895,
          49.32176393294867,
          74.03897653329754,
          96.39402153192297,
          111.37864223378664,
          119.91815073033241,
          124.17830931941721,
          125.49104778210373,
          124.77375773681685,
          122.67764031231481,
          119.64892593684279
         ],
         "yaxis": "y2"
        },
        {
         "legendgroup": "test_5",
         "mode": "markers",
         "name": "Run id in Test 5",
         "type": "scatter",
         "x": [
          0,
          1.2545144440534064,
          4.985417532879248,
          14.260275885034812,
          31.234881024706453,
          53.49583974096605,
          76.37935894351298,
          96.68647952280352,
          113.11097089305292,
          125.47091067391106,
          134.08437572025375,
          139.54476133203477,
          142.9131133751618,
          145.0343385158262,
          146.38776809777494
         ],
         "xaxis": "x2",
         "y": [
          0,
          2.801355664862541,
          8.097081330255197,
          17.67555555240965,
          32.020823520650104,
          48.03172388667415,
          63.06372240464967,
          75.23861689229028,
          85.9667148290206,
          93.82252758835229,
          98.88685792609976,
          102.31171959111603,
          104.61442087165032,
          106.0640273355549,
          106.84992839949004
         ],
         "yaxis": "y2"
        },
        {
         "legendgroup": "test_6",
         "mode": "markers",
         "name": "Run id in Test 6",
         "type": "scatter",
         "x": [
          0,
          2.4676429401569653,
          8.847402570973394,
          21.92022427914256,
          42.04251997927221,
          66.3806237114453,
          91.4711752566404,
          114.89076395797905,
          135.40670329147326,
          152.63994276475762,
          166.70916056328812,
          177.96967910428168,
          186.83664250707432,
          193.7065213911428,
          198.882259098652
         ],
         "xaxis": "x2",
         "y": [
          0,
          2.884785609991244,
          9.30128025476466,
          20.179657789252172,
          33.65475560505306,
          48.22127798199186,
          59.56488923028473,
          69.1067586007634,
          77.01790978307105,
          82.24287528626267,
          85.81790855974626,
          88.25817333341601,
          89.85124545269026,
          90.79892461946032,
          91.24521438540765
         ],
         "yaxis": "y2"
        },
        {
         "legendgroup": "test_7",
         "mode": "markers",
         "name": "Run id in Test 7",
         "type": "scatter",
         "x": [
          0,
          2.3615459556658216,
          8.310160827313466,
          20.67139833266929,
          40.36585105311375,
          64.7292302489265,
          89.83125897208262,
          112.84560274344835,
          132.43594927073886,
          148.2954069606308,
          160.66288615971445,
          170.12038236611113,
          177.31264510895502,
          182.75317820372044,
          186.84944474519827
         ],
         "xaxis": "x2",
         "y": [
          0,
          2.8260390055086244,
          9.145075878053676,
          19.431565948255187,
          32.679635462113445,
          47.40448174642842,
          59.08349747430416,
          68.82710344921428,
          76.33524249097051,
          81.45113957047066,
          85.10618701050008,
          87.74068593917995,
          89.59525391585281,
          90.83916427465343,
          91.59372146603879
         ],
         "yaxis": "y2"
        },
        {
         "legendgroup": "test_8",
         "mode": "markers",
         "name": "Run id in Test 8",
         "type": "scatter",
         "x": [
          0,
          1.4553196405346558,
          5.745846264970134,
          16.172136437495485,
          34.67671064022556,
          58.57066013499378,
          83.3065087273045,
          105.72898824643453,
          124.44509749634368,
          139.24169506314482,
          150.50390826076975,
          158.88275265089592,
          165.05193713369445,
          169.55607062164327,
          172.82287801702037
         ],
         "xaxis": "x2",
         "y": [
          0,
          2.824442296955045,
          8.585576915556235,
          18.583268052828497,
          32.48043469356448,
          48.23630720223569,
          62.78549110151943,
          73.74677467043152,
          83.37120844847834,
          90.05574747546075,
          94.57505104097696,
          97.60531235665707,
          99.53968637892258,
          100.64981775850552,
          101.12766645008554
         ],
         "yaxis": "y2"
        },
        {
         "legendgroup": "test_9",
         "mode": "markers",
         "name": "Run id in Test 9",
         "type": "scatter",
         "x": [
          0,
          1.8253206890696088,
          6.829555224571791,
          18.279574448197184,
          38.361024117816335,
          65.14647238107932,
          94.2447821690744,
          121.97130459806723,
          146.32540899281685,
          166.62762006243048,
          182.94611833504848,
          195.67525930047435,
          205.46490282737048,
          212.9690451781578,
          218.69332923153357
         ],
         "xaxis": "x2",
         "y": [
          0,
          1.994068020030415,
          7.307621908840199,
          17.256208669834596,
          32.48105716281918,
          50.17634266712889,
          67.38968001509454,
          81.51127057453131,
          91.52141380046612,
          98.34928245064587,
          102.29192931643786,
          104.64448017504373,
          105.9650178308586,
          106.52097703857584,
          106.49920686842789
         ],
         "yaxis": "y2"
        }
       ],
       "layout": {
        "annotations": [
         {
          "font": {
           "size": 16
          },
          "showarrow": false,
          "text": "Train Set - X:Lac <br> R^2 = 0.9 <br> Abs RMSE = 11.489 <br> Rel RMSE = 0.257",
          "x": 0.225,
          "xanchor": "center",
          "xref": "paper",
          "y": 1,
          "yanchor": "bottom",
          "yref": "paper"
         },
         {
          "font": {
           "size": 16
          },
          "showarrow": false,
          "text": "Test Set - X:Lac <br> R^2 = 0.543 <br> Abs RMSE = 45.651 <br> Rel RMSE = 0.659",
          "x": 0.775,
          "xanchor": "center",
          "xref": "paper",
          "y": 1,
          "yanchor": "bottom",
          "yref": "paper"
         }
        ],
        "shapes": [
         {
          "layer": "above",
          "line": {
           "dash": "dash"
          },
          "type": "line",
          "x0": 0,
          "x1": 126.72389896767505,
          "y0": 0,
          "y1": 126.72389896767505
         },
         {
          "layer": "above",
          "line": {
           "dash": "dash"
          },
          "type": "line",
          "x0": 0,
          "x1": 125.49104778210373,
          "xref": "x2",
          "y0": 0,
          "y1": 125.49104778210373,
          "yref": "y2"
         }
        ],
        "template": {
         "data": {
          "bar": [
           {
            "error_x": {
             "color": "#2a3f5f"
            },
            "error_y": {
             "color": "#2a3f5f"
            },
            "marker": {
             "line": {
              "color": "white",
              "width": 0.5
             },
             "pattern": {
              "fillmode": "overlay",
              "size": 10,
              "solidity": 0.2
             }
            },
            "type": "bar"
           }
          ],
          "barpolar": [
           {
            "marker": {
             "line": {
              "color": "white",
              "width": 0.5
             },
             "pattern": {
              "fillmode": "overlay",
              "size": 10,
              "solidity": 0.2
             }
            },
            "type": "barpolar"
           }
          ],
          "carpet": [
           {
            "aaxis": {
             "endlinecolor": "#2a3f5f",
             "gridcolor": "#C8D4E3",
             "linecolor": "#C8D4E3",
             "minorgridcolor": "#C8D4E3",
             "startlinecolor": "#2a3f5f"
            },
            "baxis": {
             "endlinecolor": "#2a3f5f",
             "gridcolor": "#C8D4E3",
             "linecolor": "#C8D4E3",
             "minorgridcolor": "#C8D4E3",
             "startlinecolor": "#2a3f5f"
            },
            "type": "carpet"
           }
          ],
          "choropleth": [
           {
            "colorbar": {
             "outlinewidth": 0,
             "ticks": ""
            },
            "type": "choropleth"
           }
          ],
          "contour": [
           {
            "colorbar": {
             "outlinewidth": 0,
             "ticks": ""
            },
            "colorscale": [
             [
              0,
              "#0d0887"
             ],
             [
              0.1111111111111111,
              "#46039f"
             ],
             [
              0.2222222222222222,
              "#7201a8"
             ],
             [
              0.3333333333333333,
              "#9c179e"
             ],
             [
              0.4444444444444444,
              "#bd3786"
             ],
             [
              0.5555555555555556,
              "#d8576b"
             ],
             [
              0.6666666666666666,
              "#ed7953"
             ],
             [
              0.7777777777777778,
              "#fb9f3a"
             ],
             [
              0.8888888888888888,
              "#fdca26"
             ],
             [
              1,
              "#f0f921"
             ]
            ],
            "type": "contour"
           }
          ],
          "contourcarpet": [
           {
            "colorbar": {
             "outlinewidth": 0,
             "ticks": ""
            },
            "type": "contourcarpet"
           }
          ],
          "heatmap": [
           {
            "colorbar": {
             "outlinewidth": 0,
             "ticks": ""
            },
            "colorscale": [
             [
              0,
              "#0d0887"
             ],
             [
              0.1111111111111111,
              "#46039f"
             ],
             [
              0.2222222222222222,
              "#7201a8"
             ],
             [
              0.3333333333333333,
              "#9c179e"
             ],
             [
              0.4444444444444444,
              "#bd3786"
             ],
             [
              0.5555555555555556,
              "#d8576b"
             ],
             [
              0.6666666666666666,
              "#ed7953"
             ],
             [
              0.7777777777777778,
              "#fb9f3a"
             ],
             [
              0.8888888888888888,
              "#fdca26"
             ],
             [
              1,
              "#f0f921"
             ]
            ],
            "type": "heatmap"
           }
          ],
          "heatmapgl": [
           {
            "colorbar": {
             "outlinewidth": 0,
             "ticks": ""
            },
            "colorscale": [
             [
              0,
              "#0d0887"
             ],
             [
              0.1111111111111111,
              "#46039f"
             ],
             [
              0.2222222222222222,
              "#7201a8"
             ],
             [
              0.3333333333333333,
              "#9c179e"
             ],
             [
              0.4444444444444444,
              "#bd3786"
             ],
             [
              0.5555555555555556,
              "#d8576b"
             ],
             [
              0.6666666666666666,
              "#ed7953"
             ],
             [
              0.7777777777777778,
              "#fb9f3a"
             ],
             [
              0.8888888888888888,
              "#fdca26"
             ],
             [
              1,
              "#f0f921"
             ]
            ],
            "type": "heatmapgl"
           }
          ],
          "histogram": [
           {
            "marker": {
             "pattern": {
              "fillmode": "overlay",
              "size": 10,
              "solidity": 0.2
             }
            },
            "type": "histogram"
           }
          ],
          "histogram2d": [
           {
            "colorbar": {
             "outlinewidth": 0,
             "ticks": ""
            },
            "colorscale": [
             [
              0,
              "#0d0887"
             ],
             [
              0.1111111111111111,
              "#46039f"
             ],
             [
              0.2222222222222222,
              "#7201a8"
             ],
             [
              0.3333333333333333,
              "#9c179e"
             ],
             [
              0.4444444444444444,
              "#bd3786"
             ],
             [
              0.5555555555555556,
              "#d8576b"
             ],
             [
              0.6666666666666666,
              "#ed7953"
             ],
             [
              0.7777777777777778,
              "#fb9f3a"
             ],
             [
              0.8888888888888888,
              "#fdca26"
             ],
             [
              1,
              "#f0f921"
             ]
            ],
            "type": "histogram2d"
           }
          ],
          "histogram2dcontour": [
           {
            "colorbar": {
             "outlinewidth": 0,
             "ticks": ""
            },
            "colorscale": [
             [
              0,
              "#0d0887"
             ],
             [
              0.1111111111111111,
              "#46039f"
             ],
             [
              0.2222222222222222,
              "#7201a8"
             ],
             [
              0.3333333333333333,
              "#9c179e"
             ],
             [
              0.4444444444444444,
              "#bd3786"
             ],
             [
              0.5555555555555556,
              "#d8576b"
             ],
             [
              0.6666666666666666,
              "#ed7953"
             ],
             [
              0.7777777777777778,
              "#fb9f3a"
             ],
             [
              0.8888888888888888,
              "#fdca26"
             ],
             [
              1,
              "#f0f921"
             ]
            ],
            "type": "histogram2dcontour"
           }
          ],
          "mesh3d": [
           {
            "colorbar": {
             "outlinewidth": 0,
             "ticks": ""
            },
            "type": "mesh3d"
           }
          ],
          "parcoords": [
           {
            "line": {
             "colorbar": {
              "outlinewidth": 0,
              "ticks": ""
             }
            },
            "type": "parcoords"
           }
          ],
          "pie": [
           {
            "automargin": true,
            "type": "pie"
           }
          ],
          "scatter": [
           {
            "fillpattern": {
             "fillmode": "overlay",
             "size": 10,
             "solidity": 0.2
            },
            "type": "scatter"
           }
          ],
          "scatter3d": [
           {
            "line": {
             "colorbar": {
              "outlinewidth": 0,
              "ticks": ""
             }
            },
            "marker": {
             "colorbar": {
              "outlinewidth": 0,
              "ticks": ""
             }
            },
            "type": "scatter3d"
           }
          ],
          "scattercarpet": [
           {
            "marker": {
             "colorbar": {
              "outlinewidth": 0,
              "ticks": ""
             }
            },
            "type": "scattercarpet"
           }
          ],
          "scattergeo": [
           {
            "marker": {
             "colorbar": {
              "outlinewidth": 0,
              "ticks": ""
             }
            },
            "type": "scattergeo"
           }
          ],
          "scattergl": [
           {
            "marker": {
             "colorbar": {
              "outlinewidth": 0,
              "ticks": ""
             }
            },
            "type": "scattergl"
           }
          ],
          "scattermapbox": [
           {
            "marker": {
             "colorbar": {
              "outlinewidth": 0,
              "ticks": ""
             }
            },
            "type": "scattermapbox"
           }
          ],
          "scatterpolar": [
           {
            "marker": {
             "colorbar": {
              "outlinewidth": 0,
              "ticks": ""
             }
            },
            "type": "scatterpolar"
           }
          ],
          "scatterpolargl": [
           {
            "marker": {
             "colorbar": {
              "outlinewidth": 0,
              "ticks": ""
             }
            },
            "type": "scatterpolargl"
           }
          ],
          "scatterternary": [
           {
            "marker": {
             "colorbar": {
              "outlinewidth": 0,
              "ticks": ""
             }
            },
            "type": "scatterternary"
           }
          ],
          "surface": [
           {
            "colorbar": {
             "outlinewidth": 0,
             "ticks": ""
            },
            "colorscale": [
             [
              0,
              "#0d0887"
             ],
             [
              0.1111111111111111,
              "#46039f"
             ],
             [
              0.2222222222222222,
              "#7201a8"
             ],
             [
              0.3333333333333333,
              "#9c179e"
             ],
             [
              0.4444444444444444,
              "#bd3786"
             ],
             [
              0.5555555555555556,
              "#d8576b"
             ],
             [
              0.6666666666666666,
              "#ed7953"
             ],
             [
              0.7777777777777778,
              "#fb9f3a"
             ],
             [
              0.8888888888888888,
              "#fdca26"
             ],
             [
              1,
              "#f0f921"
             ]
            ],
            "type": "surface"
           }
          ],
          "table": [
           {
            "cells": {
             "fill": {
              "color": "#EBF0F8"
             },
             "line": {
              "color": "white"
             }
            },
            "header": {
             "fill": {
              "color": "#C8D4E3"
             },
             "line": {
              "color": "white"
             }
            },
            "type": "table"
           }
          ]
         },
         "layout": {
          "annotationdefaults": {
           "arrowcolor": "#2a3f5f",
           "arrowhead": 0,
           "arrowwidth": 1
          },
          "autotypenumbers": "strict",
          "coloraxis": {
           "colorbar": {
            "outlinewidth": 0,
            "ticks": ""
           }
          },
          "colorscale": {
           "diverging": [
            [
             0,
             "#8e0152"
            ],
            [
             0.1,
             "#c51b7d"
            ],
            [
             0.2,
             "#de77ae"
            ],
            [
             0.3,
             "#f1b6da"
            ],
            [
             0.4,
             "#fde0ef"
            ],
            [
             0.5,
             "#f7f7f7"
            ],
            [
             0.6,
             "#e6f5d0"
            ],
            [
             0.7,
             "#b8e186"
            ],
            [
             0.8,
             "#7fbc41"
            ],
            [
             0.9,
             "#4d9221"
            ],
            [
             1,
             "#276419"
            ]
           ],
           "sequential": [
            [
             0,
             "#0d0887"
            ],
            [
             0.1111111111111111,
             "#46039f"
            ],
            [
             0.2222222222222222,
             "#7201a8"
            ],
            [
             0.3333333333333333,
             "#9c179e"
            ],
            [
             0.4444444444444444,
             "#bd3786"
            ],
            [
             0.5555555555555556,
             "#d8576b"
            ],
            [
             0.6666666666666666,
             "#ed7953"
            ],
            [
             0.7777777777777778,
             "#fb9f3a"
            ],
            [
             0.8888888888888888,
             "#fdca26"
            ],
            [
             1,
             "#f0f921"
            ]
           ],
           "sequentialminus": [
            [
             0,
             "#0d0887"
            ],
            [
             0.1111111111111111,
             "#46039f"
            ],
            [
             0.2222222222222222,
             "#7201a8"
            ],
            [
             0.3333333333333333,
             "#9c179e"
            ],
            [
             0.4444444444444444,
             "#bd3786"
            ],
            [
             0.5555555555555556,
             "#d8576b"
            ],
            [
             0.6666666666666666,
             "#ed7953"
            ],
            [
             0.7777777777777778,
             "#fb9f3a"
            ],
            [
             0.8888888888888888,
             "#fdca26"
            ],
            [
             1,
             "#f0f921"
            ]
           ]
          },
          "colorway": [
           "#636efa",
           "#EF553B",
           "#00cc96",
           "#ab63fa",
           "#FFA15A",
           "#19d3f3",
           "#FF6692",
           "#B6E880",
           "#FF97FF",
           "#FECB52"
          ],
          "font": {
           "color": "#2a3f5f"
          },
          "geo": {
           "bgcolor": "white",
           "lakecolor": "white",
           "landcolor": "white",
           "showlakes": true,
           "showland": true,
           "subunitcolor": "#C8D4E3"
          },
          "hoverlabel": {
           "align": "left"
          },
          "hovermode": "closest",
          "mapbox": {
           "style": "light"
          },
          "paper_bgcolor": "white",
          "plot_bgcolor": "white",
          "polar": {
           "angularaxis": {
            "gridcolor": "#EBF0F8",
            "linecolor": "#EBF0F8",
            "ticks": ""
           },
           "bgcolor": "white",
           "radialaxis": {
            "gridcolor": "#EBF0F8",
            "linecolor": "#EBF0F8",
            "ticks": ""
           }
          },
          "scene": {
           "xaxis": {
            "backgroundcolor": "white",
            "gridcolor": "#DFE8F3",
            "gridwidth": 2,
            "linecolor": "#EBF0F8",
            "showbackground": true,
            "ticks": "",
            "zerolinecolor": "#EBF0F8"
           },
           "yaxis": {
            "backgroundcolor": "white",
            "gridcolor": "#DFE8F3",
            "gridwidth": 2,
            "linecolor": "#EBF0F8",
            "showbackground": true,
            "ticks": "",
            "zerolinecolor": "#EBF0F8"
           },
           "zaxis": {
            "backgroundcolor": "white",
            "gridcolor": "#DFE8F3",
            "gridwidth": 2,
            "linecolor": "#EBF0F8",
            "showbackground": true,
            "ticks": "",
            "zerolinecolor": "#EBF0F8"
           }
          },
          "shapedefaults": {
           "line": {
            "color": "#2a3f5f"
           }
          },
          "ternary": {
           "aaxis": {
            "gridcolor": "#DFE8F3",
            "linecolor": "#A2B1C6",
            "ticks": ""
           },
           "baxis": {
            "gridcolor": "#DFE8F3",
            "linecolor": "#A2B1C6",
            "ticks": ""
           },
           "bgcolor": "white",
           "caxis": {
            "gridcolor": "#DFE8F3",
            "linecolor": "#A2B1C6",
            "ticks": ""
           }
          },
          "title": {
           "x": 0.05
          },
          "xaxis": {
           "automargin": true,
           "gridcolor": "#EBF0F8",
           "linecolor": "#EBF0F8",
           "ticks": "",
           "title": {
            "standoff": 15
           },
           "zerolinecolor": "#EBF0F8",
           "zerolinewidth": 2
          },
          "yaxis": {
           "automargin": true,
           "gridcolor": "#EBF0F8",
           "linecolor": "#EBF0F8",
           "ticks": "",
           "title": {
            "standoff": 15
           },
           "zerolinecolor": "#EBF0F8",
           "zerolinewidth": 2
          }
         }
        },
        "width": 1600,
        "xaxis": {
         "anchor": "y",
         "domain": [
          0,
          0.45
         ],
         "title": {
          "text": "Observed values"
         }
        },
        "xaxis2": {
         "anchor": "y2",
         "domain": [
          0.55,
          1
         ],
         "title": {
          "text": "Observed values"
         }
        },
        "yaxis": {
         "anchor": "x",
         "domain": [
          0,
          1
         ],
         "title": {
          "text": "Predicted values"
         }
        },
        "yaxis2": {
         "anchor": "x2",
         "domain": [
          0,
          1
         ],
         "title": {
          "text": "Predicted values"
         }
        }
       }
      }
     },
     "metadata": {},
     "output_type": "display_data"
    },
    {
     "data": {
      "application/vnd.plotly.v1+json": {
       "config": {
        "plotlyServerURL": "https://plot.ly"
       },
       "data": [
        {
         "legendgroup": "train_0",
         "mode": "markers",
         "name": "Run id in Train 0",
         "type": "scatter",
         "x": [
          0,
          0.092797611632703,
          1.3613322223015707,
          11.344886505251033,
          52.28927236583092,
          140.5961579864852,
          259.3251210897019,
          375.5879131278478,
          466.0614611226992,
          525.1008308953583,
          559.5121702665116,
          578.501989557713,
          588.7503117163226,
          594.2341048016712,
          597.15618596249
         ],
         "xaxis": "x",
         "y": [
          0,
          -0.08207844947505849,
          -0.7452760197299634,
          8.154142093789758,
          52.797142856411114,
          166.12113491071344,
          343.0357751440892,
          519.4176494662963,
          643.75891894434,
          722.0344208198823,
          759.2901554632886,
          763.0348835131266,
          758.4438513727628,
          747.5947076537528,
          731.373236556624
         ],
         "yaxis": "y"
        },
        {
         "legendgroup": "train_1",
         "mode": "markers",
         "name": "Run id in Train 1",
         "type": "scatter",
         "x": [
          0,
          0.0438814612801809,
          0.6754926172763417,
          6.144508366864772,
          32.89209616429462,
          103.50902716060114,
          216.84466709892055,
          346.44671755061927,
          463.7142285131992,
          551.6325993334557,
          608.2207631731609,
          641.4045985098942,
          660.0958645554078,
          670.481486260618,
          676.2162592557202
         ],
         "xaxis": "x",
         "y": [
          0,
          -0.6465622764460631,
          3.467688369747251,
          24.571764079246456,
          85.9978795349532,
          195.8997009037597,
          321.8105935888005,
          434.2021319026857,
          520.5518224189971,
          580.0505295111446,
          615.8292281627809,
          629.8989501835657,
          638.1329600768543,
          642.0575309739255,
          642.7268108663917
         ],
         "yaxis": "y"
        },
        {
         "legendgroup": "train_2",
         "mode": "markers",
         "name": "Run id in Train 2",
         "type": "scatter",
         "x": [
          0,
          0.0805992014021038,
          1.8724719368459048,
          19.41861755313492,
          91.75328005105564,
          241.06314503965848,
          434.5519776483289,
          619.9756875720175,
          761.4441456682614,
          851.6236464360761,
          903.333097571553,
          931.7008737773178,
          947.0117744048353,
          955.2202498945722,
          959.6058930504475
         ],
         "xaxis": "x",
         "y": [
          0,
          -0.8186285901649549,
          2.2334033551631305,
          23.593498642905132,
          90.45812172894571,
          220.93104611909274,
          379.56183336601987,
          516.4237710823501,
          619.4973544423057,
          689.1970318590651,
          726.3975250141054,
          734.5221501991426,
          734.9280197563843,
          730.0595474221027,
          721.5823643028232
         ],
         "yaxis": "y"
        },
        {
         "legendgroup": "train_3",
         "mode": "markers",
         "name": "Run id in Train 3",
         "type": "scatter",
         "x": [
          0,
          0.100395228326079,
          2.471584704867094,
          20.810314349562,
          75.25006587798005,
          155.21180957123823,
          231.3966660922219,
          288.1189053801796,
          325.0105400678119,
          347.3566646464407,
          360.4174988213081,
          367.9092782306117,
          372.1621491359598,
          374.5625824428543,
          375.9131407266119
         ],
         "xaxis": "x",
         "y": [
          0,
          -0.558451984386742,
          -1.1800247158339725,
          12.339434722075843,
          65.01866474171767,
          171.95469413131616,
          294.22591802167295,
          398.7961414208473,
          481.83800993863645,
          533.1630735643959,
          569.0433383690258,
          593.2429249966729,
          608.5059829143414,
          616.8000260998965,
          619.565986789756
         ],
         "yaxis": "y"
        },
        {
         "legendgroup": "train_4",
         "mode": "markers",
         "name": "Run id in Train 4",
         "type": "scatter",
         "x": [
          0,
          0.1292531886788032,
          2.811811054279715,
          23.20550382163473,
          91.22866564904736,
          213.66138340861409,
          360.48179504747,
          495.63502362499145,
          597.2236779261053,
          662.0367074378605,
          700.2481804040611,
          722.5010954289212,
          735.4205903119163,
          742.9151800957571,
          747.2620778238343
         ],
         "xaxis": "x",
         "y": [
          0,
          -1.098009775299054,
          1.639668562943101,
          17.99855952547299,
          71.04014217462924,
          173.93544292825842,
          309.0125966514307,
          432.75955894602373,
          525.5439382042892,
          586.1298821917213,
          634.7078067315084,
          673.4701979529309,
          703.949027240359,
          727.2357808479825,
          744.1375781409611
         ],
         "yaxis": "y"
        },
        {
         "legendgroup": "train_5",
         "mode": "markers",
         "name": "Run id in Train 5",
         "type": "scatter",
         "x": [
          0,
          0.1191344970680277,
          2.2379543730029474,
          17.6686268146821,
          70.79210067044147,
          170.7629621239597,
          293.6414359032689,
          406.8318234868232,
          490.7890370390738,
          543.5352893767821,
          573.8362605087634,
          590.8523186228688,
          600.3258243064748,
          605.5779966984201,
          608.4835154549434
         ],
         "xaxis": "x",
         "y": [
          0,
          -0.09909591622623937,
          3.814882302766343,
          21.69593946566006,
          81.38005595701833,
          187.15878714129758,
          311.8177817815512,
          428.246099521325,
          513.0176927870791,
          568.3037125226447,
          611.8127978977225,
          645.9551654359025,
          672.4730198577137,
          692.6568787109879,
          707.489805172115
         ],
         "yaxis": "y"
        },
        {
         "legendgroup": "train_6",
         "mode": "markers",
         "name": "Run id in Train 6",
         "type": "scatter",
         "x": [
          0,
          0.0684760856557625,
          1.419909024026719,
          12.974359746806352,
          60.01220329000836,
          161.81840299179677,
          300.87029124327046,
          440.31555861369503,
          552.4775099714313,
          628.9702012520282,
          675.981959241405,
          703.4448217414291,
          719.1329460060222,
          728.0050414796943,
          732.9958800156783
         ],
         "xaxis": "x",
         "y": [
          0,
          -0.17528445685332572,
          1.941435500201877,
          17.25374032214103,
          73.57449754162224,
          184.77570298995275,
          324.4839525742545,
          449.31146133954803,
          552.8256389984908,
          629.7210781967377,
          683.5087475173294,
          712.3645455836472,
          732.4885805587402,
          745.8023181469829,
          753.6981377140027
         ],
         "yaxis": "y"
        },
        {
         "legendgroup": "train_7",
         "mode": "markers",
         "name": "Run id in Train 7",
         "type": "scatter",
         "x": [
          0,
          0.1012025981276605,
          2.7202639401550184,
          25.946291951340097,
          104.55968898992953,
          237.42432217784472,
          385.7596767399676,
          515.6947127178214,
          611.4373805988364,
          671.5705931211872,
          704.2589949515327,
          720.6883271094672,
          728.8537430043472,
          732.9016580530529,
          734.9060666799251
         ],
         "xaxis": "x",
         "y": [
          0,
          1.030164781608669,
          5.899893218896573,
          25.337539298454043,
          87.87583525373003,
          180.26227202918588,
          276.64116515349815,
          365.4480298119844,
          438.62798259128056,
          493.2850030213435,
          528.1649989876059,
          555.5695931203968,
          577.026054335633,
          593.6349938837136,
          606.2090030505653
         ],
         "yaxis": "y"
        },
        {
         "legendgroup": "train_8",
         "mode": "markers",
         "name": "Run id in Train 8",
         "type": "scatter",
         "x": [
          0,
          0.0851032436703326,
          1.6658115757244931,
          14.546461217109194,
          61.856051928684174,
          151.27308669024367,
          259.1592993253078,
          357.334846431788,
          431.0590970254083,
          479.022153470829,
          508.0532921590253,
          525.365934354859,
          535.6297084406955,
          541.6976620375669,
          545.27993727455
         ],
         "xaxis": "x",
         "y": [
          0,
          1.1556185426951981,
          1.2478881690814991,
          16.78962255902896,
          71.75251017344638,
          158.9510686103673,
          254.24671996037316,
          334.5244435165793,
          401.55159588531177,
          445.76701332525636,
          478.9773552970406,
          503.6923439422764,
          521.7817810177465,
          534.5861993787552,
          543.0883701902719
         ],
         "yaxis": "y"
        },
        {
         "legendgroup": "train_9",
         "mode": "markers",
         "name": "Run id in Train 9",
         "type": "scatter",
         "x": [
          0,
          0.1028398753471017,
          2.103522354496929,
          19.1988180976768,
          85.1350472831614,
          219.1183953406561,
          393.9596615083559,
          564.5612087274179,
          699.1155234613333,
          788.6518291426167,
          842.1815810738857,
          873.2435171883614,
          891.1142870152056,
          901.354027797561,
          907.2091784828596
         ],
         "xaxis": "x",
         "y": [
          0,
          0.21194809001661652,
          5.999514842400019,
          28.93233515036126,
          100.13010471715597,
          220.61445140035391,
          357.520002012794,
          481.4116315344434,
          572.8876131869664,
          632.2409277324859,
          677.9983603324075,
          712.8337506954217,
          738.667803284809,
          756.9107412735098,
          768.6337991766308
         ],
         "yaxis": "y"
        },
        {
         "legendgroup": "test_0",
         "mode": "markers",
         "name": "Run id in Test 0",
         "type": "scatter",
         "x": [
          0,
          0.164105508211151,
          3.6737447861367754,
          35.32186247671071,
          154.34678831320295,
          387.7950784521392,
          693.7864209487878,
          1013.615495248714,
          1308.0461540356737,
          1559.5112502067666,
          1764.0166792193825,
          1924.0159855683603,
          2045.8920299168967,
          2138.039188646103,
          2207.3227092050597
         ],
         "xaxis": "x2",
         "y": [
          0,
          1.764320511896042,
          13.236471226019868,
          52.543692150586985,
          144.17123657269906,
          287.3647638756406,
          428.4732295686848,
          538.5347871796944,
          619.0121420670165,
          671.239840777182,
          696.7207110052244,
          699.5709133631141,
          697.2068002414126,
          691.197341361781,
          682.2499989783221
         ],
         "yaxis": "y2"
        },
        {
         "legendgroup": "test_1",
         "mode": "markers",
         "name": "Run id in Test 1",
         "type": "scatter",
         "x": [
          0,
          0.0763700634007142,
          1.2004047047372728,
          10.769047562231066,
          55.331509943793534,
          169.67881535568202,
          356.9149807868821,
          587.3658271878509,
          826.3777227138344,
          1049.7114958711982,
          1245.9405162620585,
          1411.3748743127069,
          1546.3862233793775,
          1653.611268198273,
          1736.5908399465277
         ],
         "xaxis": "x2",
         "y": [
          0,
          1.7230326468263333,
          5.202645741837359,
          27.566143107492707,
          95.9190022189081,
          193.66481290063905,
          296.88400832458876,
          387.4422576331639,
          450.449806007526,
          491.9252093711613,
          523.3787244472941,
          547.1736409373065,
          564.9695408507545,
          577.9530856724424,
          586.9919116377644
         ],
         "yaxis": "y2"
        },
        {
         "legendgroup": "test_2",
         "mode": "markers",
         "name": "Run id in Test 2",
         "type": "scatter",
         "x": [
          0,
          0.0854355568288807,
          1.6092625643264258,
          15.15306007085573,
          73.21962446854067,
          204.75841445857023,
          398.2225074477981,
          618.5671629053375,
          834.8994407537554,
          1028.7815128523432,
          1191.952374312491,
          1323.1237497744814,
          1427.1505262970163,
          1509.177096006116,
          1573.4842264771685
         ],
         "xaxis": "x2",
         "y": [
          0,
          1.928233454017573,
          3.5263327662436663,
          22.773231196883074,
          91.46384711573185,
          207.51518233884858,
          343.49425799822086,
          457.7623390014756,
          537.4718049252033,
          586.8581951179477,
          611.6164201898564,
          626.8929193211276,
          635.3662755504489,
          638.8703293906971,
          638.6731150441959
         ],
         "yaxis": "y2"
        },
        {
         "legendgroup": "test_3",
         "mode": "markers",
         "name": "Run id in Test 3",
         "type": "scatter",
         "x": [
          0,
          0.0532844883797582,
          1.1745834254072027,
          12.400110906230712,
          64.33322629187558,
          186.9762484824127,
          370.7059655837582,
          580.4291461413053,
          784.4388717931332,
          964.694945425899,
          1113.2574886158343,
          1206.3258825585165,
          1206.325890023906,
          1206.3258900094436,
          1206.3258900076912
         ],
         "xaxis": "x2",
         "y": [
          0,
          1.9574435103825754,
          4.29137266508257,
          22.587421103091778,
          80.92484177912574,
          159.10744865324403,
          239.05455764003466,
          309.24742272195317,
          368.24339548248133,
          411.6252765069019,
          439.15548150224004,
          460.1678775928977,
          476.1060147455925,
          487.9916900436563,
          496.5631657660365
         ],
         "yaxis": "y2"
        },
        {
         "legendgroup": "test_4",
         "mode": "markers",
         "name": "Run id in Test 4",
         "type": "scatter",
         "x": [
          0,
          0.1271028978965827,
          3.043268173982997,
          28.535584577172003,
          116.56093471808562,
          271.0820879759505,
          454.3992159877672,
          629.9846449120229,
          777.5049250060061,
          889.0424907203862,
          965.8903434918803,
          1018.7426183492312,
          1055.7385430042384,
          1081.8878031673305,
          1100.471520461802
         ],
         "xaxis": "x2",
         "y": [
          0,
          -0.09479256833025163,
          -2.847886044882333,
          1.4675520510269568,
          33.42208845547335,
          140.16355877313822,
          320.17907124921913,
          510.41788818942666,
          643.2278216730368,
          722.262679929842,
          753.906032446796,
          764.4949028518045,
          762.3611623809053,
          751.4551822018566,
          734.4961583794773
         ],
         "yaxis": "y2"
        },
        {
         "legendgroup": "test_5",
         "mode": "markers",
         "name": "Run id in Test 5",
         "type": "scatter",
         "x": [
          0,
          0.030935924736293,
          0.804162343449244,
          10.870548517297646,
          65.22768655509961,
          195.8585375096484,
          380.0010361514075,
          573.2161531583585,
          744.9282135378564,
          881.5839367271855,
          980.1323846987966,
          1043.8984122969127,
          1083.679069018441,
          1108.8968951501029,
          1125.052087317103
         ],
         "xaxis": "x2",
         "y": [
          0,
          0.819216922741323,
          2.8326873215110386,
          16.142822144464446,
          64.50886151380718,
          148.23027058746635,
          239.42426443442372,
          328.71203952842444,
          411.1253946457417,
          475.0044017859584,
          520.3717294770943,
          546.3334450202095,
          565.2583617746377,
          578.6175412552781,
          587.5682378811935
         ],
         "yaxis": "y2"
        },
        {
         "legendgroup": "test_6",
         "mode": "markers",
         "name": "Run id in Test 6",
         "type": "scatter",
         "x": [
          0,
          0.1544111652934467,
          3.7599944327811374,
          32.09025603312709,
          125.87188314534892,
          296.2627151898705,
          514.158742340626,
          743.343236146268,
          958.7202578978104,
          1147.7971737836272,
          1306.3166571781155,
          1434.1989079569498,
          1533.80175002571,
          1606.8302417039786,
          1642.45281821088
         ],
         "xaxis": "x2",
         "y": [
          0,
          2.3442311756032415,
          6.707037599212552,
          30.549625854842976,
          95.99312431392056,
          179.70724985896322,
          260.6879185854989,
          334.3581232107962,
          396.21675984811804,
          440.6299489398434,
          467.9698844464336,
          488.0765389863592,
          502.694133478711,
          513.0526163942766,
          520.035368751357
         ],
         "yaxis": "y2"
        },
        {
         "legendgroup": "test_7",
         "mode": "markers",
         "name": "Run id in Test 7",
         "type": "scatter",
         "x": [
          0,
          0.1286279523117829,
          2.342442711201244,
          20.45181017599882,
          88.7824526964827,
          226.36982620800097,
          411.3388964710858,
          608.2362445845563,
          791.3387220952158,
          948.0160994755988,
          1074.6884871389736,
          1173.7661017215894,
          1250.2321253331695,
          1308.6545890123389,
          1352.9446842650268
         ],
         "xaxis": "x2",
         "y": [
          0,
          2.2910624500825425,
          5.722714904930393,
          27.35736342459372,
          89.79623542467124,
          170.29983507814677,
          249.69352431087466,
          319.73558497087953,
          375.559423872204,
          415.8279975818469,
          440.3514302014771,
          458.4421151335877,
          471.5533742155949,
          480.71137923316115,
          486.65522567892106
         ],
         "yaxis": "y2"
        },
        {
         "legendgroup": "test_8",
         "mode": "markers",
         "name": "Run id in Test 8",
         "type": "scatter",
         "x": [
          0,
          0.0394649376441817,
          1.139667969188726,
          15.14525494943351,
          86.48169581613604,
          251.5004556721223,
          483.3663578645889,
          731.0518874452288,
          958.0819454950264,
          1148.0484050576056,
          1297.9680603092725,
          1411.989486887015,
          1497.089986665622,
          1559.7604330226195,
          1605.464984209573
         ],
         "xaxis": "x2",
         "y": [
          0,
          1.730224287351437,
          2.029080240393203,
          17.8285138205367,
          72.96083505828378,
          157.47837042580835,
          245.70750988552618,
          326.1204236244399,
          397.7487041892009,
          450.59636017045403,
          483.22532382156334,
          506.6668538589528,
          523.0852939752141,
          534.1315089494561,
          540.9785792789579
         ],
         "yaxis": "y2"
        },
        {
         "legendgroup": "test_9",
         "mode": "markers",
         "name": "Run id in Test 9",
         "type": "scatter",
         "x": [
          0,
          0.1036825935213099,
          1.8759111567395288,
          18.21704051387724,
          91.8183531595854,
          260.8827697220299,
          506.8788143193637,
          781.838227586801,
          1046.7682798947126,
          1280.778709654132,
          1476.298589359522,
          1632.8559662496232,
          1755.007587791339,
          1849.4347546111003,
          1921.8083818131652
         ],
         "xaxis": "x2",
         "y": [
          0,
          0.4259083125484958,
          4.990163511710613,
          23.39430890293204,
          77.81553893959017,
          181.16245872555598,
          313.2188531912634,
          429.6122140526278,
          517.6526308037572,
          577.3935156600077,
          614.3835737105125,
          629.341273974617,
          637.8086289634482,
          641.4042204804957,
          641.2635734662609
         ],
         "yaxis": "y2"
        }
       ],
       "layout": {
        "annotations": [
         {
          "font": {
           "size": 16
          },
          "showarrow": false,
          "text": "Train Set - X:Titer <br> R^2 = 0.832 <br> Abs RMSE = 80.756 <br> Rel RMSE = 0.266",
          "x": 0.225,
          "xanchor": "center",
          "xref": "paper",
          "y": 1,
          "yanchor": "bottom",
          "yref": "paper"
         },
         {
          "font": {
           "size": 16
          },
          "showarrow": false,
          "text": "Test Set - X:Titer <br> R^2 = 0.231 <br> Abs RMSE = 530.426 <br> Rel RMSE = 0.845",
          "x": 0.775,
          "xanchor": "center",
          "xref": "paper",
          "y": 1,
          "yanchor": "bottom",
          "yref": "paper"
         }
        ],
        "shapes": [
         {
          "layer": "above",
          "line": {
           "dash": "dash"
          },
          "type": "line",
          "x0": -1.1800247158339725,
          "x1": 768.6337991766308,
          "y0": -1.1800247158339725,
          "y1": 768.6337991766308
         },
         {
          "layer": "above",
          "line": {
           "dash": "dash"
          },
          "type": "line",
          "x0": -2.847886044882333,
          "x1": 764.4949028518045,
          "xref": "x2",
          "y0": -2.847886044882333,
          "y1": 764.4949028518045,
          "yref": "y2"
         }
        ],
        "template": {
         "data": {
          "bar": [
           {
            "error_x": {
             "color": "#2a3f5f"
            },
            "error_y": {
             "color": "#2a3f5f"
            },
            "marker": {
             "line": {
              "color": "white",
              "width": 0.5
             },
             "pattern": {
              "fillmode": "overlay",
              "size": 10,
              "solidity": 0.2
             }
            },
            "type": "bar"
           }
          ],
          "barpolar": [
           {
            "marker": {
             "line": {
              "color": "white",
              "width": 0.5
             },
             "pattern": {
              "fillmode": "overlay",
              "size": 10,
              "solidity": 0.2
             }
            },
            "type": "barpolar"
           }
          ],
          "carpet": [
           {
            "aaxis": {
             "endlinecolor": "#2a3f5f",
             "gridcolor": "#C8D4E3",
             "linecolor": "#C8D4E3",
             "minorgridcolor": "#C8D4E3",
             "startlinecolor": "#2a3f5f"
            },
            "baxis": {
             "endlinecolor": "#2a3f5f",
             "gridcolor": "#C8D4E3",
             "linecolor": "#C8D4E3",
             "minorgridcolor": "#C8D4E3",
             "startlinecolor": "#2a3f5f"
            },
            "type": "carpet"
           }
          ],
          "choropleth": [
           {
            "colorbar": {
             "outlinewidth": 0,
             "ticks": ""
            },
            "type": "choropleth"
           }
          ],
          "contour": [
           {
            "colorbar": {
             "outlinewidth": 0,
             "ticks": ""
            },
            "colorscale": [
             [
              0,
              "#0d0887"
             ],
             [
              0.1111111111111111,
              "#46039f"
             ],
             [
              0.2222222222222222,
              "#7201a8"
             ],
             [
              0.3333333333333333,
              "#9c179e"
             ],
             [
              0.4444444444444444,
              "#bd3786"
             ],
             [
              0.5555555555555556,
              "#d8576b"
             ],
             [
              0.6666666666666666,
              "#ed7953"
             ],
             [
              0.7777777777777778,
              "#fb9f3a"
             ],
             [
              0.8888888888888888,
              "#fdca26"
             ],
             [
              1,
              "#f0f921"
             ]
            ],
            "type": "contour"
           }
          ],
          "contourcarpet": [
           {
            "colorbar": {
             "outlinewidth": 0,
             "ticks": ""
            },
            "type": "contourcarpet"
           }
          ],
          "heatmap": [
           {
            "colorbar": {
             "outlinewidth": 0,
             "ticks": ""
            },
            "colorscale": [
             [
              0,
              "#0d0887"
             ],
             [
              0.1111111111111111,
              "#46039f"
             ],
             [
              0.2222222222222222,
              "#7201a8"
             ],
             [
              0.3333333333333333,
              "#9c179e"
             ],
             [
              0.4444444444444444,
              "#bd3786"
             ],
             [
              0.5555555555555556,
              "#d8576b"
             ],
             [
              0.6666666666666666,
              "#ed7953"
             ],
             [
              0.7777777777777778,
              "#fb9f3a"
             ],
             [
              0.8888888888888888,
              "#fdca26"
             ],
             [
              1,
              "#f0f921"
             ]
            ],
            "type": "heatmap"
           }
          ],
          "heatmapgl": [
           {
            "colorbar": {
             "outlinewidth": 0,
             "ticks": ""
            },
            "colorscale": [
             [
              0,
              "#0d0887"
             ],
             [
              0.1111111111111111,
              "#46039f"
             ],
             [
              0.2222222222222222,
              "#7201a8"
             ],
             [
              0.3333333333333333,
              "#9c179e"
             ],
             [
              0.4444444444444444,
              "#bd3786"
             ],
             [
              0.5555555555555556,
              "#d8576b"
             ],
             [
              0.6666666666666666,
              "#ed7953"
             ],
             [
              0.7777777777777778,
              "#fb9f3a"
             ],
             [
              0.8888888888888888,
              "#fdca26"
             ],
             [
              1,
              "#f0f921"
             ]
            ],
            "type": "heatmapgl"
           }
          ],
          "histogram": [
           {
            "marker": {
             "pattern": {
              "fillmode": "overlay",
              "size": 10,
              "solidity": 0.2
             }
            },
            "type": "histogram"
           }
          ],
          "histogram2d": [
           {
            "colorbar": {
             "outlinewidth": 0,
             "ticks": ""
            },
            "colorscale": [
             [
              0,
              "#0d0887"
             ],
             [
              0.1111111111111111,
              "#46039f"
             ],
             [
              0.2222222222222222,
              "#7201a8"
             ],
             [
              0.3333333333333333,
              "#9c179e"
             ],
             [
              0.4444444444444444,
              "#bd3786"
             ],
             [
              0.5555555555555556,
              "#d8576b"
             ],
             [
              0.6666666666666666,
              "#ed7953"
             ],
             [
              0.7777777777777778,
              "#fb9f3a"
             ],
             [
              0.8888888888888888,
              "#fdca26"
             ],
             [
              1,
              "#f0f921"
             ]
            ],
            "type": "histogram2d"
           }
          ],
          "histogram2dcontour": [
           {
            "colorbar": {
             "outlinewidth": 0,
             "ticks": ""
            },
            "colorscale": [
             [
              0,
              "#0d0887"
             ],
             [
              0.1111111111111111,
              "#46039f"
             ],
             [
              0.2222222222222222,
              "#7201a8"
             ],
             [
              0.3333333333333333,
              "#9c179e"
             ],
             [
              0.4444444444444444,
              "#bd3786"
             ],
             [
              0.5555555555555556,
              "#d8576b"
             ],
             [
              0.6666666666666666,
              "#ed7953"
             ],
             [
              0.7777777777777778,
              "#fb9f3a"
             ],
             [
              0.8888888888888888,
              "#fdca26"
             ],
             [
              1,
              "#f0f921"
             ]
            ],
            "type": "histogram2dcontour"
           }
          ],
          "mesh3d": [
           {
            "colorbar": {
             "outlinewidth": 0,
             "ticks": ""
            },
            "type": "mesh3d"
           }
          ],
          "parcoords": [
           {
            "line": {
             "colorbar": {
              "outlinewidth": 0,
              "ticks": ""
             }
            },
            "type": "parcoords"
           }
          ],
          "pie": [
           {
            "automargin": true,
            "type": "pie"
           }
          ],
          "scatter": [
           {
            "fillpattern": {
             "fillmode": "overlay",
             "size": 10,
             "solidity": 0.2
            },
            "type": "scatter"
           }
          ],
          "scatter3d": [
           {
            "line": {
             "colorbar": {
              "outlinewidth": 0,
              "ticks": ""
             }
            },
            "marker": {
             "colorbar": {
              "outlinewidth": 0,
              "ticks": ""
             }
            },
            "type": "scatter3d"
           }
          ],
          "scattercarpet": [
           {
            "marker": {
             "colorbar": {
              "outlinewidth": 0,
              "ticks": ""
             }
            },
            "type": "scattercarpet"
           }
          ],
          "scattergeo": [
           {
            "marker": {
             "colorbar": {
              "outlinewidth": 0,
              "ticks": ""
             }
            },
            "type": "scattergeo"
           }
          ],
          "scattergl": [
           {
            "marker": {
             "colorbar": {
              "outlinewidth": 0,
              "ticks": ""
             }
            },
            "type": "scattergl"
           }
          ],
          "scattermapbox": [
           {
            "marker": {
             "colorbar": {
              "outlinewidth": 0,
              "ticks": ""
             }
            },
            "type": "scattermapbox"
           }
          ],
          "scatterpolar": [
           {
            "marker": {
             "colorbar": {
              "outlinewidth": 0,
              "ticks": ""
             }
            },
            "type": "scatterpolar"
           }
          ],
          "scatterpolargl": [
           {
            "marker": {
             "colorbar": {
              "outlinewidth": 0,
              "ticks": ""
             }
            },
            "type": "scatterpolargl"
           }
          ],
          "scatterternary": [
           {
            "marker": {
             "colorbar": {
              "outlinewidth": 0,
              "ticks": ""
             }
            },
            "type": "scatterternary"
           }
          ],
          "surface": [
           {
            "colorbar": {
             "outlinewidth": 0,
             "ticks": ""
            },
            "colorscale": [
             [
              0,
              "#0d0887"
             ],
             [
              0.1111111111111111,
              "#46039f"
             ],
             [
              0.2222222222222222,
              "#7201a8"
             ],
             [
              0.3333333333333333,
              "#9c179e"
             ],
             [
              0.4444444444444444,
              "#bd3786"
             ],
             [
              0.5555555555555556,
              "#d8576b"
             ],
             [
              0.6666666666666666,
              "#ed7953"
             ],
             [
              0.7777777777777778,
              "#fb9f3a"
             ],
             [
              0.8888888888888888,
              "#fdca26"
             ],
             [
              1,
              "#f0f921"
             ]
            ],
            "type": "surface"
           }
          ],
          "table": [
           {
            "cells": {
             "fill": {
              "color": "#EBF0F8"
             },
             "line": {
              "color": "white"
             }
            },
            "header": {
             "fill": {
              "color": "#C8D4E3"
             },
             "line": {
              "color": "white"
             }
            },
            "type": "table"
           }
          ]
         },
         "layout": {
          "annotationdefaults": {
           "arrowcolor": "#2a3f5f",
           "arrowhead": 0,
           "arrowwidth": 1
          },
          "autotypenumbers": "strict",
          "coloraxis": {
           "colorbar": {
            "outlinewidth": 0,
            "ticks": ""
           }
          },
          "colorscale": {
           "diverging": [
            [
             0,
             "#8e0152"
            ],
            [
             0.1,
             "#c51b7d"
            ],
            [
             0.2,
             "#de77ae"
            ],
            [
             0.3,
             "#f1b6da"
            ],
            [
             0.4,
             "#fde0ef"
            ],
            [
             0.5,
             "#f7f7f7"
            ],
            [
             0.6,
             "#e6f5d0"
            ],
            [
             0.7,
             "#b8e186"
            ],
            [
             0.8,
             "#7fbc41"
            ],
            [
             0.9,
             "#4d9221"
            ],
            [
             1,
             "#276419"
            ]
           ],
           "sequential": [
            [
             0,
             "#0d0887"
            ],
            [
             0.1111111111111111,
             "#46039f"
            ],
            [
             0.2222222222222222,
             "#7201a8"
            ],
            [
             0.3333333333333333,
             "#9c179e"
            ],
            [
             0.4444444444444444,
             "#bd3786"
            ],
            [
             0.5555555555555556,
             "#d8576b"
            ],
            [
             0.6666666666666666,
             "#ed7953"
            ],
            [
             0.7777777777777778,
             "#fb9f3a"
            ],
            [
             0.8888888888888888,
             "#fdca26"
            ],
            [
             1,
             "#f0f921"
            ]
           ],
           "sequentialminus": [
            [
             0,
             "#0d0887"
            ],
            [
             0.1111111111111111,
             "#46039f"
            ],
            [
             0.2222222222222222,
             "#7201a8"
            ],
            [
             0.3333333333333333,
             "#9c179e"
            ],
            [
             0.4444444444444444,
             "#bd3786"
            ],
            [
             0.5555555555555556,
             "#d8576b"
            ],
            [
             0.6666666666666666,
             "#ed7953"
            ],
            [
             0.7777777777777778,
             "#fb9f3a"
            ],
            [
             0.8888888888888888,
             "#fdca26"
            ],
            [
             1,
             "#f0f921"
            ]
           ]
          },
          "colorway": [
           "#636efa",
           "#EF553B",
           "#00cc96",
           "#ab63fa",
           "#FFA15A",
           "#19d3f3",
           "#FF6692",
           "#B6E880",
           "#FF97FF",
           "#FECB52"
          ],
          "font": {
           "color": "#2a3f5f"
          },
          "geo": {
           "bgcolor": "white",
           "lakecolor": "white",
           "landcolor": "white",
           "showlakes": true,
           "showland": true,
           "subunitcolor": "#C8D4E3"
          },
          "hoverlabel": {
           "align": "left"
          },
          "hovermode": "closest",
          "mapbox": {
           "style": "light"
          },
          "paper_bgcolor": "white",
          "plot_bgcolor": "white",
          "polar": {
           "angularaxis": {
            "gridcolor": "#EBF0F8",
            "linecolor": "#EBF0F8",
            "ticks": ""
           },
           "bgcolor": "white",
           "radialaxis": {
            "gridcolor": "#EBF0F8",
            "linecolor": "#EBF0F8",
            "ticks": ""
           }
          },
          "scene": {
           "xaxis": {
            "backgroundcolor": "white",
            "gridcolor": "#DFE8F3",
            "gridwidth": 2,
            "linecolor": "#EBF0F8",
            "showbackground": true,
            "ticks": "",
            "zerolinecolor": "#EBF0F8"
           },
           "yaxis": {
            "backgroundcolor": "white",
            "gridcolor": "#DFE8F3",
            "gridwidth": 2,
            "linecolor": "#EBF0F8",
            "showbackground": true,
            "ticks": "",
            "zerolinecolor": "#EBF0F8"
           },
           "zaxis": {
            "backgroundcolor": "white",
            "gridcolor": "#DFE8F3",
            "gridwidth": 2,
            "linecolor": "#EBF0F8",
            "showbackground": true,
            "ticks": "",
            "zerolinecolor": "#EBF0F8"
           }
          },
          "shapedefaults": {
           "line": {
            "color": "#2a3f5f"
           }
          },
          "ternary": {
           "aaxis": {
            "gridcolor": "#DFE8F3",
            "linecolor": "#A2B1C6",
            "ticks": ""
           },
           "baxis": {
            "gridcolor": "#DFE8F3",
            "linecolor": "#A2B1C6",
            "ticks": ""
           },
           "bgcolor": "white",
           "caxis": {
            "gridcolor": "#DFE8F3",
            "linecolor": "#A2B1C6",
            "ticks": ""
           }
          },
          "title": {
           "x": 0.05
          },
          "xaxis": {
           "automargin": true,
           "gridcolor": "#EBF0F8",
           "linecolor": "#EBF0F8",
           "ticks": "",
           "title": {
            "standoff": 15
           },
           "zerolinecolor": "#EBF0F8",
           "zerolinewidth": 2
          },
          "yaxis": {
           "automargin": true,
           "gridcolor": "#EBF0F8",
           "linecolor": "#EBF0F8",
           "ticks": "",
           "title": {
            "standoff": 15
           },
           "zerolinecolor": "#EBF0F8",
           "zerolinewidth": 2
          }
         }
        },
        "width": 1600,
        "xaxis": {
         "anchor": "y",
         "domain": [
          0,
          0.45
         ],
         "title": {
          "text": "Observed values"
         }
        },
        "xaxis2": {
         "anchor": "y2",
         "domain": [
          0.55,
          1
         ],
         "title": {
          "text": "Observed values"
         }
        },
        "yaxis": {
         "anchor": "x",
         "domain": [
          0,
          1
         ],
         "title": {
          "text": "Predicted values"
         }
        },
        "yaxis2": {
         "anchor": "x2",
         "domain": [
          0,
          1
         ],
         "title": {
          "text": "Predicted values"
         }
        }
       }
      }
     },
     "metadata": {},
     "output_type": "display_data"
    }
   ],
   "source": [
    "plot_multi_step_ann_model_eval(\n",
    "    X,\n",
    "    X_pred,\n",
    "    X_test,\n",
    "    X_test_pred,\n",
    "    X_columns=X_columns,\n",
    ")\n"
   ]
  },
  {
   "cell_type": "code",
   "execution_count": 31,
   "metadata": {},
   "outputs": [
    {
     "data": {
      "application/vnd.plotly.v1+json": {
       "config": {
        "plotlyServerURL": "https://plot.ly"
       },
       "data": [
        {
         "marker": {
          "color": "#4C78A8"
         },
         "name": "Train Set",
         "text": [
          "0.32",
          "0.21",
          "0.26",
          "0.27"
         ],
         "textposition": "outside",
         "type": "bar",
         "x": [
          "X:VCD",
          "X:Glc",
          "X:Lac",
          "X:Titer"
         ],
         "y": [
          0.316,
          0.212,
          0.257,
          0.266
         ]
        },
        {
         "marker": {
          "color": "#F58518"
         },
         "name": "Test Set",
         "text": [
          "0.95",
          "2.56",
          "0.66",
          "0.84"
         ],
         "textposition": "outside",
         "type": "bar",
         "x": [
          "X:VCD",
          "X:Glc",
          "X:Lac",
          "X:Titer"
         ],
         "y": [
          0.948,
          2.564,
          0.659,
          0.845
         ]
        }
       ],
       "layout": {
        "barmode": "group",
        "legend": {
         "orientation": "h",
         "x": 0.5,
         "xanchor": "center",
         "y": 1.02,
         "yanchor": "bottom"
        },
        "template": {
         "data": {
          "bar": [
           {
            "error_x": {
             "color": "#2a3f5f"
            },
            "error_y": {
             "color": "#2a3f5f"
            },
            "marker": {
             "line": {
              "color": "white",
              "width": 0.5
             },
             "pattern": {
              "fillmode": "overlay",
              "size": 10,
              "solidity": 0.2
             }
            },
            "type": "bar"
           }
          ],
          "barpolar": [
           {
            "marker": {
             "line": {
              "color": "white",
              "width": 0.5
             },
             "pattern": {
              "fillmode": "overlay",
              "size": 10,
              "solidity": 0.2
             }
            },
            "type": "barpolar"
           }
          ],
          "carpet": [
           {
            "aaxis": {
             "endlinecolor": "#2a3f5f",
             "gridcolor": "#C8D4E3",
             "linecolor": "#C8D4E3",
             "minorgridcolor": "#C8D4E3",
             "startlinecolor": "#2a3f5f"
            },
            "baxis": {
             "endlinecolor": "#2a3f5f",
             "gridcolor": "#C8D4E3",
             "linecolor": "#C8D4E3",
             "minorgridcolor": "#C8D4E3",
             "startlinecolor": "#2a3f5f"
            },
            "type": "carpet"
           }
          ],
          "choropleth": [
           {
            "colorbar": {
             "outlinewidth": 0,
             "ticks": ""
            },
            "type": "choropleth"
           }
          ],
          "contour": [
           {
            "colorbar": {
             "outlinewidth": 0,
             "ticks": ""
            },
            "colorscale": [
             [
              0,
              "#0d0887"
             ],
             [
              0.1111111111111111,
              "#46039f"
             ],
             [
              0.2222222222222222,
              "#7201a8"
             ],
             [
              0.3333333333333333,
              "#9c179e"
             ],
             [
              0.4444444444444444,
              "#bd3786"
             ],
             [
              0.5555555555555556,
              "#d8576b"
             ],
             [
              0.6666666666666666,
              "#ed7953"
             ],
             [
              0.7777777777777778,
              "#fb9f3a"
             ],
             [
              0.8888888888888888,
              "#fdca26"
             ],
             [
              1,
              "#f0f921"
             ]
            ],
            "type": "contour"
           }
          ],
          "contourcarpet": [
           {
            "colorbar": {
             "outlinewidth": 0,
             "ticks": ""
            },
            "type": "contourcarpet"
           }
          ],
          "heatmap": [
           {
            "colorbar": {
             "outlinewidth": 0,
             "ticks": ""
            },
            "colorscale": [
             [
              0,
              "#0d0887"
             ],
             [
              0.1111111111111111,
              "#46039f"
             ],
             [
              0.2222222222222222,
              "#7201a8"
             ],
             [
              0.3333333333333333,
              "#9c179e"
             ],
             [
              0.4444444444444444,
              "#bd3786"
             ],
             [
              0.5555555555555556,
              "#d8576b"
             ],
             [
              0.6666666666666666,
              "#ed7953"
             ],
             [
              0.7777777777777778,
              "#fb9f3a"
             ],
             [
              0.8888888888888888,
              "#fdca26"
             ],
             [
              1,
              "#f0f921"
             ]
            ],
            "type": "heatmap"
           }
          ],
          "heatmapgl": [
           {
            "colorbar": {
             "outlinewidth": 0,
             "ticks": ""
            },
            "colorscale": [
             [
              0,
              "#0d0887"
             ],
             [
              0.1111111111111111,
              "#46039f"
             ],
             [
              0.2222222222222222,
              "#7201a8"
             ],
             [
              0.3333333333333333,
              "#9c179e"
             ],
             [
              0.4444444444444444,
              "#bd3786"
             ],
             [
              0.5555555555555556,
              "#d8576b"
             ],
             [
              0.6666666666666666,
              "#ed7953"
             ],
             [
              0.7777777777777778,
              "#fb9f3a"
             ],
             [
              0.8888888888888888,
              "#fdca26"
             ],
             [
              1,
              "#f0f921"
             ]
            ],
            "type": "heatmapgl"
           }
          ],
          "histogram": [
           {
            "marker": {
             "pattern": {
              "fillmode": "overlay",
              "size": 10,
              "solidity": 0.2
             }
            },
            "type": "histogram"
           }
          ],
          "histogram2d": [
           {
            "colorbar": {
             "outlinewidth": 0,
             "ticks": ""
            },
            "colorscale": [
             [
              0,
              "#0d0887"
             ],
             [
              0.1111111111111111,
              "#46039f"
             ],
             [
              0.2222222222222222,
              "#7201a8"
             ],
             [
              0.3333333333333333,
              "#9c179e"
             ],
             [
              0.4444444444444444,
              "#bd3786"
             ],
             [
              0.5555555555555556,
              "#d8576b"
             ],
             [
              0.6666666666666666,
              "#ed7953"
             ],
             [
              0.7777777777777778,
              "#fb9f3a"
             ],
             [
              0.8888888888888888,
              "#fdca26"
             ],
             [
              1,
              "#f0f921"
             ]
            ],
            "type": "histogram2d"
           }
          ],
          "histogram2dcontour": [
           {
            "colorbar": {
             "outlinewidth": 0,
             "ticks": ""
            },
            "colorscale": [
             [
              0,
              "#0d0887"
             ],
             [
              0.1111111111111111,
              "#46039f"
             ],
             [
              0.2222222222222222,
              "#7201a8"
             ],
             [
              0.3333333333333333,
              "#9c179e"
             ],
             [
              0.4444444444444444,
              "#bd3786"
             ],
             [
              0.5555555555555556,
              "#d8576b"
             ],
             [
              0.6666666666666666,
              "#ed7953"
             ],
             [
              0.7777777777777778,
              "#fb9f3a"
             ],
             [
              0.8888888888888888,
              "#fdca26"
             ],
             [
              1,
              "#f0f921"
             ]
            ],
            "type": "histogram2dcontour"
           }
          ],
          "mesh3d": [
           {
            "colorbar": {
             "outlinewidth": 0,
             "ticks": ""
            },
            "type": "mesh3d"
           }
          ],
          "parcoords": [
           {
            "line": {
             "colorbar": {
              "outlinewidth": 0,
              "ticks": ""
             }
            },
            "type": "parcoords"
           }
          ],
          "pie": [
           {
            "automargin": true,
            "type": "pie"
           }
          ],
          "scatter": [
           {
            "fillpattern": {
             "fillmode": "overlay",
             "size": 10,
             "solidity": 0.2
            },
            "type": "scatter"
           }
          ],
          "scatter3d": [
           {
            "line": {
             "colorbar": {
              "outlinewidth": 0,
              "ticks": ""
             }
            },
            "marker": {
             "colorbar": {
              "outlinewidth": 0,
              "ticks": ""
             }
            },
            "type": "scatter3d"
           }
          ],
          "scattercarpet": [
           {
            "marker": {
             "colorbar": {
              "outlinewidth": 0,
              "ticks": ""
             }
            },
            "type": "scattercarpet"
           }
          ],
          "scattergeo": [
           {
            "marker": {
             "colorbar": {
              "outlinewidth": 0,
              "ticks": ""
             }
            },
            "type": "scattergeo"
           }
          ],
          "scattergl": [
           {
            "marker": {
             "colorbar": {
              "outlinewidth": 0,
              "ticks": ""
             }
            },
            "type": "scattergl"
           }
          ],
          "scattermapbox": [
           {
            "marker": {
             "colorbar": {
              "outlinewidth": 0,
              "ticks": ""
             }
            },
            "type": "scattermapbox"
           }
          ],
          "scatterpolar": [
           {
            "marker": {
             "colorbar": {
              "outlinewidth": 0,
              "ticks": ""
             }
            },
            "type": "scatterpolar"
           }
          ],
          "scatterpolargl": [
           {
            "marker": {
             "colorbar": {
              "outlinewidth": 0,
              "ticks": ""
             }
            },
            "type": "scatterpolargl"
           }
          ],
          "scatterternary": [
           {
            "marker": {
             "colorbar": {
              "outlinewidth": 0,
              "ticks": ""
             }
            },
            "type": "scatterternary"
           }
          ],
          "surface": [
           {
            "colorbar": {
             "outlinewidth": 0,
             "ticks": ""
            },
            "colorscale": [
             [
              0,
              "#0d0887"
             ],
             [
              0.1111111111111111,
              "#46039f"
             ],
             [
              0.2222222222222222,
              "#7201a8"
             ],
             [
              0.3333333333333333,
              "#9c179e"
             ],
             [
              0.4444444444444444,
              "#bd3786"
             ],
             [
              0.5555555555555556,
              "#d8576b"
             ],
             [
              0.6666666666666666,
              "#ed7953"
             ],
             [
              0.7777777777777778,
              "#fb9f3a"
             ],
             [
              0.8888888888888888,
              "#fdca26"
             ],
             [
              1,
              "#f0f921"
             ]
            ],
            "type": "surface"
           }
          ],
          "table": [
           {
            "cells": {
             "fill": {
              "color": "#EBF0F8"
             },
             "line": {
              "color": "white"
             }
            },
            "header": {
             "fill": {
              "color": "#C8D4E3"
             },
             "line": {
              "color": "white"
             }
            },
            "type": "table"
           }
          ]
         },
         "layout": {
          "annotationdefaults": {
           "arrowcolor": "#2a3f5f",
           "arrowhead": 0,
           "arrowwidth": 1
          },
          "autotypenumbers": "strict",
          "coloraxis": {
           "colorbar": {
            "outlinewidth": 0,
            "ticks": ""
           }
          },
          "colorscale": {
           "diverging": [
            [
             0,
             "#8e0152"
            ],
            [
             0.1,
             "#c51b7d"
            ],
            [
             0.2,
             "#de77ae"
            ],
            [
             0.3,
             "#f1b6da"
            ],
            [
             0.4,
             "#fde0ef"
            ],
            [
             0.5,
             "#f7f7f7"
            ],
            [
             0.6,
             "#e6f5d0"
            ],
            [
             0.7,
             "#b8e186"
            ],
            [
             0.8,
             "#7fbc41"
            ],
            [
             0.9,
             "#4d9221"
            ],
            [
             1,
             "#276419"
            ]
           ],
           "sequential": [
            [
             0,
             "#0d0887"
            ],
            [
             0.1111111111111111,
             "#46039f"
            ],
            [
             0.2222222222222222,
             "#7201a8"
            ],
            [
             0.3333333333333333,
             "#9c179e"
            ],
            [
             0.4444444444444444,
             "#bd3786"
            ],
            [
             0.5555555555555556,
             "#d8576b"
            ],
            [
             0.6666666666666666,
             "#ed7953"
            ],
            [
             0.7777777777777778,
             "#fb9f3a"
            ],
            [
             0.8888888888888888,
             "#fdca26"
            ],
            [
             1,
             "#f0f921"
            ]
           ],
           "sequentialminus": [
            [
             0,
             "#0d0887"
            ],
            [
             0.1111111111111111,
             "#46039f"
            ],
            [
             0.2222222222222222,
             "#7201a8"
            ],
            [
             0.3333333333333333,
             "#9c179e"
            ],
            [
             0.4444444444444444,
             "#bd3786"
            ],
            [
             0.5555555555555556,
             "#d8576b"
            ],
            [
             0.6666666666666666,
             "#ed7953"
            ],
            [
             0.7777777777777778,
             "#fb9f3a"
            ],
            [
             0.8888888888888888,
             "#fdca26"
            ],
            [
             1,
             "#f0f921"
            ]
           ]
          },
          "colorway": [
           "#636efa",
           "#EF553B",
           "#00cc96",
           "#ab63fa",
           "#FFA15A",
           "#19d3f3",
           "#FF6692",
           "#B6E880",
           "#FF97FF",
           "#FECB52"
          ],
          "font": {
           "color": "#2a3f5f"
          },
          "geo": {
           "bgcolor": "white",
           "lakecolor": "white",
           "landcolor": "white",
           "showlakes": true,
           "showland": true,
           "subunitcolor": "#C8D4E3"
          },
          "hoverlabel": {
           "align": "left"
          },
          "hovermode": "closest",
          "mapbox": {
           "style": "light"
          },
          "paper_bgcolor": "white",
          "plot_bgcolor": "white",
          "polar": {
           "angularaxis": {
            "gridcolor": "#EBF0F8",
            "linecolor": "#EBF0F8",
            "ticks": ""
           },
           "bgcolor": "white",
           "radialaxis": {
            "gridcolor": "#EBF0F8",
            "linecolor": "#EBF0F8",
            "ticks": ""
           }
          },
          "scene": {
           "xaxis": {
            "backgroundcolor": "white",
            "gridcolor": "#DFE8F3",
            "gridwidth": 2,
            "linecolor": "#EBF0F8",
            "showbackground": true,
            "ticks": "",
            "zerolinecolor": "#EBF0F8"
           },
           "yaxis": {
            "backgroundcolor": "white",
            "gridcolor": "#DFE8F3",
            "gridwidth": 2,
            "linecolor": "#EBF0F8",
            "showbackground": true,
            "ticks": "",
            "zerolinecolor": "#EBF0F8"
           },
           "zaxis": {
            "backgroundcolor": "white",
            "gridcolor": "#DFE8F3",
            "gridwidth": 2,
            "linecolor": "#EBF0F8",
            "showbackground": true,
            "ticks": "",
            "zerolinecolor": "#EBF0F8"
           }
          },
          "shapedefaults": {
           "line": {
            "color": "#2a3f5f"
           }
          },
          "ternary": {
           "aaxis": {
            "gridcolor": "#DFE8F3",
            "linecolor": "#A2B1C6",
            "ticks": ""
           },
           "baxis": {
            "gridcolor": "#DFE8F3",
            "linecolor": "#A2B1C6",
            "ticks": ""
           },
           "bgcolor": "white",
           "caxis": {
            "gridcolor": "#DFE8F3",
            "linecolor": "#A2B1C6",
            "ticks": ""
           }
          },
          "title": {
           "x": 0.05
          },
          "xaxis": {
           "automargin": true,
           "gridcolor": "#EBF0F8",
           "linecolor": "#EBF0F8",
           "ticks": "",
           "title": {
            "standoff": 15
           },
           "zerolinecolor": "#EBF0F8",
           "zerolinewidth": 2
          },
          "yaxis": {
           "automargin": true,
           "gridcolor": "#EBF0F8",
           "linecolor": "#EBF0F8",
           "ticks": "",
           "title": {
            "standoff": 15
           },
           "zerolinecolor": "#EBF0F8",
           "zerolinewidth": 2
          }
         }
        },
        "title": {
         "text": "Relative RMSE for Each Variables"
        },
        "xaxis": {
         "title": {
          "text": "Feature"
         }
        },
        "yaxis": {
         "title": {
          "text": "Relative RMSE"
         }
        }
       }
      }
     },
     "metadata": {},
     "output_type": "display_data"
    }
   ],
   "source": [
    "plot_relative_rmse_by_variables(\n",
    "    X,\n",
    "    X_pred,\n",
    "    X_test,\n",
    "    X_test_pred,\n",
    "    X_columns=X_columns,\n",
    ")\n"
   ]
  },
  {
   "cell_type": "code",
   "execution_count": null,
   "metadata": {},
   "outputs": [],
   "source": []
  }
 ],
 "metadata": {
  "kernelspec": {
   "display_name": "dl",
   "language": "python",
   "name": "python3"
  },
  "language_info": {
   "codemirror_mode": {
    "name": "ipython",
    "version": 3
   },
   "file_extension": ".py",
   "mimetype": "text/x-python",
   "name": "python",
   "nbconvert_exporter": "python",
   "pygments_lexer": "ipython3",
   "version": "3.11.8"
  }
 },
 "nbformat": 4,
 "nbformat_minor": 2
}
