{
 "cells": [
  {
   "cell_type": "code",
   "execution_count": 1,
   "metadata": {},
   "outputs": [],
   "source": [
    "import pandas as pd"
   ]
  },
  {
   "cell_type": "code",
   "execution_count": 2,
   "metadata": {},
   "outputs": [],
   "source": [
    "# data_type = 'interpolation'\n",
    "data_type = 'extrapolation'\n",
    "root_path = f'dataset/datahow_2022/{data_type}/'\n",
    "\n",
    "def read_owu_v4(file, root_path = 'dataset/datahow_2022/interpolation/'):\n",
    "    data = pd.read_csv(f'{root_path}/{file}.csv')\n",
    "    owu_df = data.copy()\n",
    "    num_runs = len(pd.read_csv(f'{root_path}/{file}_doe.csv'))\n",
    "    if 'run' not in owu_df.columns:\n",
    "        owu_df.index = pd.MultiIndex.from_product(\n",
    "            [list(range(num_runs)), list(range(15))], names=[\"run\", \"time\"]\n",
    "        )\n",
    "    else:\n",
    "        owu_df.set_index(['run', 'time'], inplace=True)\n",
    "    return owu_df\n",
    "\n",
    "def read_doe(file, root_path= 'dataset/datahow_2022/interpolation/'):\n",
    "    data = pd.read_csv(f'{root_path}/{file}.csv', usecols=[\"feed_start\", \"feed_end\", \"Glc_feed_rate\", \"Glc_0\", \"VCD_0\"])\n",
    "    doe_df = data.copy()\n",
    "    return doe_df"
   ]
  },
  {
   "cell_type": "code",
   "execution_count": 3,
   "metadata": {},
   "outputs": [],
   "source": [
    "owu = read_owu_v4('owu', root_path=root_path)\n",
    "doe = read_doe('owu_doe', root_path=root_path)\n",
    "\n",
    "owu_test = read_owu_v4('owu_test', root_path=root_path)\n",
    "doe_test = read_doe('owu_test_doe', root_path=root_path)\n"
   ]
  },
  {
   "cell_type": "code",
   "execution_count": null,
   "metadata": {},
   "outputs": [],
   "source": []
  }
 ],
 "metadata": {
  "kernelspec": {
   "display_name": "aima",
   "language": "python",
   "name": "python3"
  },
  "language_info": {
   "codemirror_mode": {
    "name": "ipython",
    "version": 3
   },
   "file_extension": ".py",
   "mimetype": "text/x-python",
   "name": "python",
   "nbconvert_exporter": "python",
   "pygments_lexer": "ipython3",
   "version": "3.11.8"
  },
  "orig_nbformat": 4
 },
 "nbformat": 4,
 "nbformat_minor": 2
}
