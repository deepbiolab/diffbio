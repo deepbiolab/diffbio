{
 "cells": [
  {
   "cell_type": "code",
   "execution_count": 15,
   "metadata": {},
   "outputs": [],
   "source": [
    "import pandas as pd\n",
    "import numpy as np\n",
    "\n",
    "import plotly.express as px\n",
    "from sklearn.cluster import KMeans\n",
    "from sklearn.decomposition import PCA\n",
    "from sklearn.preprocessing import StandardScaler\n",
    "from sklearn.model_selection import train_test_split\n",
    "from sklearn.metrics import pairwise_distances"
   ]
  },
  {
   "cell_type": "markdown",
   "metadata": {},
   "source": [
    "# Data Structure"
   ]
  },
  {
   "cell_type": "markdown",
   "metadata": {},
   "source": [
    "### Variable Type\n",
    "<img src=\"assets/variables_type.png\" alt=\"Variables Type\" width=\"1000\">"
   ]
  },
  {
   "cell_type": "markdown",
   "metadata": {},
   "source": [
    "### Unfolding type\n",
    "<img src=\"assets/unfolding_type.png\" alt=\"Unfolding Type\" width=\"1000\">"
   ]
  },
  {
   "cell_type": "markdown",
   "metadata": {},
   "source": [
    "# OWU Dataset\n",
    "- Observation-wise unfolding"
   ]
  },
  {
   "cell_type": "code",
   "execution_count": 16,
   "metadata": {},
   "outputs": [],
   "source": [
    "def read_owu_v1(file):\n",
    "\troot_path = 'dataset/datahow_2020/insilico_data'\n",
    "\tdata = pd.read_excel(f'{root_path}/{file}.xlsx')\n",
    "\tcol_names = [\"run\", \"timesteps\", \"X:VCD\", \"X:Glc\", \"X:Gln\", \"X:NH4\", \"X:Lac\", \"X:Titer\", \"W:pH\", \"W:Temp\", \"F:Feed_Glc\", \"F:Feed_Gln\",]\n",
    "\towu_df = data.copy()\n",
    "\towu_df.columns = col_names\n",
    "\towu_df['time'] = (owu_df.timesteps / 24).astype(int)\n",
    "\towu_df.set_index(['run', 'time'], inplace=True)\n",
    "\treturn owu_df\n",
    "\n",
    "\n",
    "def read_owu_v2(file):\n",
    "\troot_path = 'dataset/datahow_concise'\n",
    "\tdata = pd.read_csv(f'{root_path}/{file}.csv')\n",
    "\towu_df = data.copy()\n",
    "\towu_df.set_index(['run', 'time'], inplace=True)\n",
    "\treturn owu_df\n",
    "\n",
    "\n",
    "def read_owu_v3(file):\n",
    "\troot_path = 'dataset/datahow_2022'\n",
    "\tdata = pd.read_csv(f'{root_path}/{file}.csv')\n",
    "\towu_df = data.copy()\n",
    "\towu_df.set_index(['run', 'time'], inplace=True)\n",
    "\treturn owu_df"
   ]
  },
  {
   "cell_type": "code",
   "execution_count": 17,
   "metadata": {},
   "outputs": [],
   "source": [
    "owu_ood = read_owu_v3('owu_ood')\n",
    "owu_ood_titer = read_owu_v3('owu_ood_titer')\n",
    "owu_ood_high_titer = read_owu_v3('owu_ood_high_titer')\n",
    "owu_ood_low_titer = read_owu_v3('owu_ood_low_titer')"
   ]
  },
  {
   "cell_type": "markdown",
   "metadata": {},
   "source": [
    "# BWU Dataset\n",
    "- Batch-wise unfolding"
   ]
  },
  {
   "cell_type": "code",
   "execution_count": 18,
   "metadata": {},
   "outputs": [],
   "source": [
    "def generate_bwu(owu):\n",
    "    owu = owu.drop([\"timesteps\"],axis=1)\n",
    "    # Input: multiindex OWU\n",
    "    # Output: singleindex BWU\n",
    "    for run_ix, run in owu.groupby(\"run\"):\n",
    "        if run_ix == owu.index.get_level_values('run')[0]:\n",
    "            bwuindex = run.unstack(level=1)\n",
    "        else:\n",
    "            bwuindex = pd.concat([bwuindex, run.unstack(level=1)])\n",
    "    bwu_columns = [str(bwuindex.columns.get_level_values(0)[i])+str(\":\")+str(bwuindex.columns.get_level_values(1)[i]) \n",
    "                   for i in range(len(bwuindex.columns.get_level_values(0)))]\n",
    "    bwu = pd.DataFrame(bwuindex.to_numpy(), columns=bwu_columns)\n",
    "    \n",
    "    return bwu"
   ]
  },
  {
   "cell_type": "code",
   "execution_count": 19,
   "metadata": {},
   "outputs": [
    {
     "data": {
      "text/html": [
       "<div>\n",
       "<style scoped>\n",
       "    .dataframe tbody tr th:only-of-type {\n",
       "        vertical-align: middle;\n",
       "    }\n",
       "\n",
       "    .dataframe tbody tr th {\n",
       "        vertical-align: top;\n",
       "    }\n",
       "\n",
       "    .dataframe thead th {\n",
       "        text-align: right;\n",
       "    }\n",
       "</style>\n",
       "<table border=\"1\" class=\"dataframe\">\n",
       "  <thead>\n",
       "    <tr style=\"text-align: right;\">\n",
       "      <th></th>\n",
       "      <th>X:VCD:0</th>\n",
       "      <th>X:VCD:1</th>\n",
       "      <th>X:VCD:2</th>\n",
       "      <th>X:VCD:3</th>\n",
       "      <th>X:VCD:4</th>\n",
       "      <th>X:VCD:5</th>\n",
       "      <th>X:VCD:6</th>\n",
       "      <th>X:VCD:7</th>\n",
       "      <th>X:VCD:8</th>\n",
       "      <th>X:VCD:9</th>\n",
       "      <th>...</th>\n",
       "      <th>W:Feed:5</th>\n",
       "      <th>W:Feed:6</th>\n",
       "      <th>W:Feed:7</th>\n",
       "      <th>W:Feed:8</th>\n",
       "      <th>W:Feed:9</th>\n",
       "      <th>W:Feed:10</th>\n",
       "      <th>W:Feed:11</th>\n",
       "      <th>W:Feed:12</th>\n",
       "      <th>W:Feed:13</th>\n",
       "      <th>W:Feed:14</th>\n",
       "    </tr>\n",
       "  </thead>\n",
       "  <tbody>\n",
       "    <tr>\n",
       "      <th>0</th>\n",
       "      <td>0.750000</td>\n",
       "      <td>2.083893</td>\n",
       "      <td>5.067346</td>\n",
       "      <td>9.700998</td>\n",
       "      <td>13.808836</td>\n",
       "      <td>15.305127</td>\n",
       "      <td>14.346967</td>\n",
       "      <td>12.044545</td>\n",
       "      <td>9.268963</td>\n",
       "      <td>6.497916</td>\n",
       "      <td>...</td>\n",
       "      <td>15.000000</td>\n",
       "      <td>15.000000</td>\n",
       "      <td>15.000000</td>\n",
       "      <td>15.000000</td>\n",
       "      <td>0.000000</td>\n",
       "      <td>0.0</td>\n",
       "      <td>0.0</td>\n",
       "      <td>0.0</td>\n",
       "      <td>0.0</td>\n",
       "      <td>0.0</td>\n",
       "    </tr>\n",
       "    <tr>\n",
       "      <th>1</th>\n",
       "      <td>0.678571</td>\n",
       "      <td>1.788242</td>\n",
       "      <td>4.197866</td>\n",
       "      <td>8.024606</td>\n",
       "      <td>11.644250</td>\n",
       "      <td>12.989020</td>\n",
       "      <td>11.780328</td>\n",
       "      <td>9.032983</td>\n",
       "      <td>5.956852</td>\n",
       "      <td>3.496495</td>\n",
       "      <td>...</td>\n",
       "      <td>16.632653</td>\n",
       "      <td>16.632653</td>\n",
       "      <td>16.632653</td>\n",
       "      <td>16.632653</td>\n",
       "      <td>16.632653</td>\n",
       "      <td>0.0</td>\n",
       "      <td>0.0</td>\n",
       "      <td>0.0</td>\n",
       "      <td>0.0</td>\n",
       "      <td>0.0</td>\n",
       "    </tr>\n",
       "    <tr>\n",
       "      <th>2</th>\n",
       "      <td>0.576531</td>\n",
       "      <td>1.696046</td>\n",
       "      <td>4.475798</td>\n",
       "      <td>9.544466</td>\n",
       "      <td>15.165314</td>\n",
       "      <td>18.470742</td>\n",
       "      <td>18.751854</td>\n",
       "      <td>16.999519</td>\n",
       "      <td>14.363996</td>\n",
       "      <td>11.604577</td>\n",
       "      <td>...</td>\n",
       "      <td>12.142857</td>\n",
       "      <td>12.142857</td>\n",
       "      <td>12.142857</td>\n",
       "      <td>12.142857</td>\n",
       "      <td>12.142857</td>\n",
       "      <td>0.0</td>\n",
       "      <td>0.0</td>\n",
       "      <td>0.0</td>\n",
       "      <td>0.0</td>\n",
       "      <td>0.0</td>\n",
       "    </tr>\n",
       "    <tr>\n",
       "      <th>3</th>\n",
       "      <td>0.984694</td>\n",
       "      <td>2.924958</td>\n",
       "      <td>7.444333</td>\n",
       "      <td>14.420480</td>\n",
       "      <td>20.570813</td>\n",
       "      <td>23.127551</td>\n",
       "      <td>22.330650</td>\n",
       "      <td>19.648806</td>\n",
       "      <td>16.312824</td>\n",
       "      <td>13.028844</td>\n",
       "      <td>...</td>\n",
       "      <td>15.204082</td>\n",
       "      <td>15.204082</td>\n",
       "      <td>15.204082</td>\n",
       "      <td>15.204082</td>\n",
       "      <td>15.204082</td>\n",
       "      <td>0.0</td>\n",
       "      <td>0.0</td>\n",
       "      <td>0.0</td>\n",
       "      <td>0.0</td>\n",
       "      <td>0.0</td>\n",
       "    </tr>\n",
       "    <tr>\n",
       "      <th>4</th>\n",
       "      <td>0.515306</td>\n",
       "      <td>1.328392</td>\n",
       "      <td>3.138892</td>\n",
       "      <td>6.312312</td>\n",
       "      <td>10.046362</td>\n",
       "      <td>12.466191</td>\n",
       "      <td>12.598864</td>\n",
       "      <td>10.871897</td>\n",
       "      <td>8.153435</td>\n",
       "      <td>5.329461</td>\n",
       "      <td>...</td>\n",
       "      <td>19.081633</td>\n",
       "      <td>19.081633</td>\n",
       "      <td>19.081633</td>\n",
       "      <td>19.081633</td>\n",
       "      <td>19.081633</td>\n",
       "      <td>0.0</td>\n",
       "      <td>0.0</td>\n",
       "      <td>0.0</td>\n",
       "      <td>0.0</td>\n",
       "      <td>0.0</td>\n",
       "    </tr>\n",
       "  </tbody>\n",
       "</table>\n",
       "<p>5 rows × 75 columns</p>\n",
       "</div>"
      ],
      "text/plain": [
       "    X:VCD:0   X:VCD:1   X:VCD:2    X:VCD:3    X:VCD:4    X:VCD:5    X:VCD:6  \\\n",
       "0  0.750000  2.083893  5.067346   9.700998  13.808836  15.305127  14.346967   \n",
       "1  0.678571  1.788242  4.197866   8.024606  11.644250  12.989020  11.780328   \n",
       "2  0.576531  1.696046  4.475798   9.544466  15.165314  18.470742  18.751854   \n",
       "3  0.984694  2.924958  7.444333  14.420480  20.570813  23.127551  22.330650   \n",
       "4  0.515306  1.328392  3.138892   6.312312  10.046362  12.466191  12.598864   \n",
       "\n",
       "     X:VCD:7    X:VCD:8    X:VCD:9  ...   W:Feed:5   W:Feed:6   W:Feed:7  \\\n",
       "0  12.044545   9.268963   6.497916  ...  15.000000  15.000000  15.000000   \n",
       "1   9.032983   5.956852   3.496495  ...  16.632653  16.632653  16.632653   \n",
       "2  16.999519  14.363996  11.604577  ...  12.142857  12.142857  12.142857   \n",
       "3  19.648806  16.312824  13.028844  ...  15.204082  15.204082  15.204082   \n",
       "4  10.871897   8.153435   5.329461  ...  19.081633  19.081633  19.081633   \n",
       "\n",
       "    W:Feed:8   W:Feed:9  W:Feed:10  W:Feed:11  W:Feed:12  W:Feed:13  W:Feed:14  \n",
       "0  15.000000   0.000000        0.0        0.0        0.0        0.0        0.0  \n",
       "1  16.632653  16.632653        0.0        0.0        0.0        0.0        0.0  \n",
       "2  12.142857  12.142857        0.0        0.0        0.0        0.0        0.0  \n",
       "3  15.204082  15.204082        0.0        0.0        0.0        0.0        0.0  \n",
       "4  19.081633  19.081633        0.0        0.0        0.0        0.0        0.0  \n",
       "\n",
       "[5 rows x 75 columns]"
      ]
     },
     "execution_count": 19,
     "metadata": {},
     "output_type": "execute_result"
    }
   ],
   "source": [
    "bwu = generate_bwu(owu_ood)\n",
    "bwu.head()"
   ]
  },
  {
   "cell_type": "code",
   "execution_count": 20,
   "metadata": {},
   "outputs": [],
   "source": [
    "def generate_y(bwu, return_aggr=False):\n",
    "    # Input: singleindex BWU\n",
    "    # Output: singleindex BWU having only target\n",
    "    titer_column = [c for c in bwu.columns if c.startswith(\"X:Titer\")]\n",
    "    targets = pd.DataFrame(columns=[\"Y:Titer\", \"Y:Aggr\"], index=bwu.index)\n",
    "\n",
    "    # iterate through experiments\n",
    "    for j in list(bwu.index):\n",
    "        x_titer = bwu.loc[j, titer_column]\n",
    "        x_prod = [0]\n",
    "        x_aggr = [0]\n",
    "        k_aggr = 10**-7\n",
    "        for i in range(len(x_titer)):\n",
    "            if i == 0:\n",
    "                continue\n",
    "            xt_titer = x_titer.iloc[i]\n",
    "            dt_titer = x_titer.iloc[i] - x_titer.iloc[i - 1]\n",
    "            x_prod.append(xt_titer)\n",
    "            x_aggr.append(k_aggr * (xt_titer**2))\n",
    "\n",
    "            dt_aggr = x_aggr[i] - x_aggr[i - 1]\n",
    "            dt_prod = dt_titer - 2 * dt_aggr\n",
    "            dt_aggr = k_aggr * (x_prod[i - 1] + dt_prod) ** 2\n",
    "\n",
    "            x_aggr[i] = x_aggr[i - 1] + dt_aggr\n",
    "            x_prod[i] = x_prod[i - 1] + dt_prod\n",
    "        y_prod = x_prod[-1]\n",
    "        y_aggr = x_aggr[-1]\n",
    "\n",
    "        targets.loc[j, \"Y:Titer\"] = y_prod\n",
    "        targets.loc[j, \"Y:Aggr\"] = y_aggr\n",
    "    if return_aggr:\n",
    "        target = targets[\"Y:Aggr\"]\n",
    "    else:\n",
    "        target = targets[\"Y:Titer\"]\n",
    "\n",
    "    return pd.DataFrame(target)"
   ]
  },
  {
   "cell_type": "markdown",
   "metadata": {},
   "source": [
    "# Target Dataset"
   ]
  },
  {
   "cell_type": "code",
   "execution_count": 21,
   "metadata": {},
   "outputs": [],
   "source": [
    "tar = generate_y(bwu, return_aggr=False)"
   ]
  },
  {
   "cell_type": "code",
   "execution_count": 22,
   "metadata": {},
   "outputs": [
    {
     "data": {
      "text/html": [
       "<div>\n",
       "<style scoped>\n",
       "    .dataframe tbody tr th:only-of-type {\n",
       "        vertical-align: middle;\n",
       "    }\n",
       "\n",
       "    .dataframe tbody tr th {\n",
       "        vertical-align: top;\n",
       "    }\n",
       "\n",
       "    .dataframe thead th {\n",
       "        text-align: right;\n",
       "    }\n",
       "</style>\n",
       "<table border=\"1\" class=\"dataframe\">\n",
       "  <thead>\n",
       "    <tr style=\"text-align: right;\">\n",
       "      <th></th>\n",
       "      <th>Y:Titer</th>\n",
       "    </tr>\n",
       "  </thead>\n",
       "  <tbody>\n",
       "    <tr>\n",
       "      <th>0</th>\n",
       "      <td>1034.889209</td>\n",
       "    </tr>\n",
       "    <tr>\n",
       "      <th>1</th>\n",
       "      <td>598.214512</td>\n",
       "    </tr>\n",
       "    <tr>\n",
       "      <th>2</th>\n",
       "      <td>1616.008651</td>\n",
       "    </tr>\n",
       "    <tr>\n",
       "      <th>3</th>\n",
       "      <td>2216.397102</td>\n",
       "    </tr>\n",
       "    <tr>\n",
       "      <th>4</th>\n",
       "      <td>677.286486</td>\n",
       "    </tr>\n",
       "  </tbody>\n",
       "</table>\n",
       "</div>"
      ],
      "text/plain": [
       "       Y:Titer\n",
       "0  1034.889209\n",
       "1   598.214512\n",
       "2  1616.008651\n",
       "3  2216.397102\n",
       "4   677.286486"
      ]
     },
     "execution_count": 22,
     "metadata": {},
     "output_type": "execute_result"
    }
   ],
   "source": [
    "tar.head()"
   ]
  },
  {
   "cell_type": "markdown",
   "metadata": {},
   "source": [
    "# Stratified Sampling for Intrepolation"
   ]
  },
  {
   "cell_type": "code",
   "execution_count": 23,
   "metadata": {},
   "outputs": [],
   "source": [
    "def stratified_sampling_for_interpolation(\n",
    "    data, data_type=\"bwu\", n_clusters=5, test_size=0.2, random_state=42,\n",
    "    verbose=False,\n",
    "):\n",
    "    \"\"\"Split dataset based on clustering for interpolation purpose\"\"\"\n",
    "    if data_type == \"owu\":\n",
    "        bwu = generate_bwu(data)\n",
    "    elif data_type in [\"bwu\", \"doe\"]:\n",
    "        bwu = data\n",
    "\n",
    "    # Normalize\n",
    "    scaler = StandardScaler()\n",
    "    bwu_normalized = scaler.fit_transform(bwu)\n",
    "\n",
    "    # Run PCA\n",
    "    pca = PCA()\n",
    "    bwu_pca = pca.fit_transform(bwu_normalized)\n",
    "\n",
    "    # Clustering\n",
    "    kmeans = KMeans(n_clusters=n_clusters, random_state=random_state, n_init='auto')\n",
    "    clusters = kmeans.fit_predict(bwu_pca)\n",
    "\n",
    "    bwu[\"cluster\"] = clusters\n",
    "\n",
    "    if verbose:\n",
    "        fig = px.scatter(\n",
    "            x=bwu_pca[:, 0], \n",
    "            y=bwu_pca[:, 1], \n",
    "            color=bwu['cluster'].astype(str),\n",
    "            title=\"Cluster Visualization in PCA Space\",\n",
    "            labels={\"x\": \"Principal Component 1\", \"y\": \"Principal Component 2\", \"color\": \"Cluster\"}\n",
    "        )\n",
    "        fig.update_layout(width=800, height=600)\n",
    "        fig.show();\n",
    "\n",
    "    # Stratify sampling\n",
    "    train_idx = []\n",
    "    test_idx = []\n",
    "    for cluster in np.unique(clusters):\n",
    "        cluster_data = bwu[bwu[\"cluster\"] == cluster]\n",
    "        train, test = train_test_split(\n",
    "            cluster_data,\n",
    "            test_size=test_size,\n",
    "            random_state=random_state,\n",
    "            stratify=cluster_data[[\"cluster\"]],\n",
    "        )\n",
    "        train_idx.extend(train.index)\n",
    "        test_idx.extend(test.index)\n",
    "\n",
    "    if data_type in [\"doe\", \"bwu\"]:\n",
    "        train_set = bwu.loc[train_idx].drop(columns=[\"cluster\"])\n",
    "        test_set = bwu.loc[test_idx].drop(columns=[\"cluster\"])\n",
    "    else:\n",
    "        # for owu, two index, first is run, second is time\n",
    "        train_run_idx = data.index.get_level_values(\"run\").isin(train_idx)\n",
    "        test_run_idx = data.index.get_level_values(\"run\").isin(test_idx)\n",
    "\n",
    "        train_set = data[train_run_idx]\n",
    "        test_set = data[test_run_idx]\n",
    "\n",
    "    return train_set, test_set"
   ]
  },
  {
   "cell_type": "code",
   "execution_count": 24,
   "metadata": {},
   "outputs": [
    {
     "data": {
      "application/vnd.plotly.v1+json": {
       "config": {
        "plotlyServerURL": "https://plot.ly"
       },
       "data": [
        {
         "hovertemplate": "Cluster=1<br>Principal Component 1=%{x}<br>Principal Component 2=%{y}<extra></extra>",
         "legendgroup": "1",
         "marker": {
          "color": "#636efa",
          "symbol": "circle"
         },
         "mode": "markers",
         "name": "1",
         "orientation": "v",
         "showlegend": true,
         "type": "scatter",
         "x": [
          -0.02242899619757706,
          -1.8745116557677084,
          3.2759700702294166,
          2.702569482221062,
          -1.632521932836671,
          0.6304484279139221,
          -2.14453776438676,
          -3.0224009335606445,
          -1.870658527446303,
          0.3864353433715494,
          -4.5634683449873,
          -1.6204325052991015,
          -1.5593956566587759,
          2.6662247512841883,
          2.407335149137313,
          -4.20134191452849,
          1.3633923613165737,
          -0.9237096654911419,
          -2.1046094384962473
         ],
         "xaxis": "x",
         "y": [
          0.2051152514752432,
          2.71738545551707,
          1.5028069127278776,
          5.252881923000674,
          4.148146011297055,
          -3.297349356157385,
          2.084297898595252,
          3.7737412736185,
          2.045922161201374,
          1.8740869390181538,
          -0.2543265130410862,
          -5.063186913303495,
          -3.3104932366324133,
          -1.555376475579558,
          -3.2642018408145845,
          2.6144538751783726,
          -4.51604877935537,
          0.7661824977655786,
          0.9001623185571672
         ],
         "yaxis": "y"
        },
        {
         "hovertemplate": "Cluster=2<br>Principal Component 1=%{x}<br>Principal Component 2=%{y}<extra></extra>",
         "legendgroup": "2",
         "marker": {
          "color": "#EF553B",
          "symbol": "circle"
         },
         "mode": "markers",
         "name": "2",
         "orientation": "v",
         "showlegend": true,
         "type": "scatter",
         "x": [
          -6.451225060405309,
          -7.106563120834368,
          -10.209022739793795,
          -4.015546075626888,
          -5.986875764691112,
          -6.170569499302058,
          -6.9940092171787285,
          -6.254224628413292,
          -8.53822443228148,
          -6.081174403124905,
          -5.8375020631566965,
          -4.542937418283118,
          -9.312728942443723,
          -4.2578124916789895,
          -13.017368863043865
         ],
         "xaxis": "x",
         "y": [
          -0.9486317472211042,
          -4.571739307961779,
          2.506573850118833,
          4.076096177685673,
          2.091775718751005,
          0.23509288352895405,
          -2.1496362013683403,
          -3.8967107003573744,
          0.7646105188642458,
          5.077394910473222,
          1.4178035148661585,
          6.735399394155071,
          -1.215007575742894,
          -1.5438193559392925,
          -3.7052571542378976
         ],
         "yaxis": "y"
        },
        {
         "hovertemplate": "Cluster=0<br>Principal Component 1=%{x}<br>Principal Component 2=%{y}<extra></extra>",
         "legendgroup": "0",
         "marker": {
          "color": "#00cc96",
          "symbol": "circle"
         },
         "mode": "markers",
         "name": "0",
         "orientation": "v",
         "showlegend": true,
         "type": "scatter",
         "x": [
          5.879789183248767,
          13.470136770725764,
          5.650969083060684,
          4.37627036643447,
          5.789490501887766,
          9.732419909442099,
          5.789101485849525,
          7.322805203554394,
          6.404630671521443,
          10.598120713586054,
          5.301747265198733,
          7.501589654797114,
          4.032075034103138,
          9.487987728625715,
          8.30126446431018,
          7.245028434095199
         ],
         "xaxis": "x",
         "y": [
          -5.4315059504804095,
          4.793950639830831,
          -5.6810947247343,
          -4.0357933457547315,
          -3.9156186709507463,
          2.9008496382042863,
          0.889134496046953,
          -3.1885743519898413,
          -2.7891710715652063,
          0.2440284433477529,
          -6.696798795714605,
          -0.5052425788927807,
          0.32908799989142556,
          6.53663429355942,
          3.3084394720181165,
          1.7435301785009307
         ],
         "yaxis": "y"
        }
       ],
       "layout": {
        "height": 600,
        "legend": {
         "title": {
          "text": "Cluster"
         },
         "tracegroupgap": 0
        },
        "template": {
         "data": {
          "bar": [
           {
            "error_x": {
             "color": "#2a3f5f"
            },
            "error_y": {
             "color": "#2a3f5f"
            },
            "marker": {
             "line": {
              "color": "#E5ECF6",
              "width": 0.5
             },
             "pattern": {
              "fillmode": "overlay",
              "size": 10,
              "solidity": 0.2
             }
            },
            "type": "bar"
           }
          ],
          "barpolar": [
           {
            "marker": {
             "line": {
              "color": "#E5ECF6",
              "width": 0.5
             },
             "pattern": {
              "fillmode": "overlay",
              "size": 10,
              "solidity": 0.2
             }
            },
            "type": "barpolar"
           }
          ],
          "carpet": [
           {
            "aaxis": {
             "endlinecolor": "#2a3f5f",
             "gridcolor": "white",
             "linecolor": "white",
             "minorgridcolor": "white",
             "startlinecolor": "#2a3f5f"
            },
            "baxis": {
             "endlinecolor": "#2a3f5f",
             "gridcolor": "white",
             "linecolor": "white",
             "minorgridcolor": "white",
             "startlinecolor": "#2a3f5f"
            },
            "type": "carpet"
           }
          ],
          "choropleth": [
           {
            "colorbar": {
             "outlinewidth": 0,
             "ticks": ""
            },
            "type": "choropleth"
           }
          ],
          "contour": [
           {
            "colorbar": {
             "outlinewidth": 0,
             "ticks": ""
            },
            "colorscale": [
             [
              0,
              "#0d0887"
             ],
             [
              0.1111111111111111,
              "#46039f"
             ],
             [
              0.2222222222222222,
              "#7201a8"
             ],
             [
              0.3333333333333333,
              "#9c179e"
             ],
             [
              0.4444444444444444,
              "#bd3786"
             ],
             [
              0.5555555555555556,
              "#d8576b"
             ],
             [
              0.6666666666666666,
              "#ed7953"
             ],
             [
              0.7777777777777778,
              "#fb9f3a"
             ],
             [
              0.8888888888888888,
              "#fdca26"
             ],
             [
              1,
              "#f0f921"
             ]
            ],
            "type": "contour"
           }
          ],
          "contourcarpet": [
           {
            "colorbar": {
             "outlinewidth": 0,
             "ticks": ""
            },
            "type": "contourcarpet"
           }
          ],
          "heatmap": [
           {
            "colorbar": {
             "outlinewidth": 0,
             "ticks": ""
            },
            "colorscale": [
             [
              0,
              "#0d0887"
             ],
             [
              0.1111111111111111,
              "#46039f"
             ],
             [
              0.2222222222222222,
              "#7201a8"
             ],
             [
              0.3333333333333333,
              "#9c179e"
             ],
             [
              0.4444444444444444,
              "#bd3786"
             ],
             [
              0.5555555555555556,
              "#d8576b"
             ],
             [
              0.6666666666666666,
              "#ed7953"
             ],
             [
              0.7777777777777778,
              "#fb9f3a"
             ],
             [
              0.8888888888888888,
              "#fdca26"
             ],
             [
              1,
              "#f0f921"
             ]
            ],
            "type": "heatmap"
           }
          ],
          "heatmapgl": [
           {
            "colorbar": {
             "outlinewidth": 0,
             "ticks": ""
            },
            "colorscale": [
             [
              0,
              "#0d0887"
             ],
             [
              0.1111111111111111,
              "#46039f"
             ],
             [
              0.2222222222222222,
              "#7201a8"
             ],
             [
              0.3333333333333333,
              "#9c179e"
             ],
             [
              0.4444444444444444,
              "#bd3786"
             ],
             [
              0.5555555555555556,
              "#d8576b"
             ],
             [
              0.6666666666666666,
              "#ed7953"
             ],
             [
              0.7777777777777778,
              "#fb9f3a"
             ],
             [
              0.8888888888888888,
              "#fdca26"
             ],
             [
              1,
              "#f0f921"
             ]
            ],
            "type": "heatmapgl"
           }
          ],
          "histogram": [
           {
            "marker": {
             "pattern": {
              "fillmode": "overlay",
              "size": 10,
              "solidity": 0.2
             }
            },
            "type": "histogram"
           }
          ],
          "histogram2d": [
           {
            "colorbar": {
             "outlinewidth": 0,
             "ticks": ""
            },
            "colorscale": [
             [
              0,
              "#0d0887"
             ],
             [
              0.1111111111111111,
              "#46039f"
             ],
             [
              0.2222222222222222,
              "#7201a8"
             ],
             [
              0.3333333333333333,
              "#9c179e"
             ],
             [
              0.4444444444444444,
              "#bd3786"
             ],
             [
              0.5555555555555556,
              "#d8576b"
             ],
             [
              0.6666666666666666,
              "#ed7953"
             ],
             [
              0.7777777777777778,
              "#fb9f3a"
             ],
             [
              0.8888888888888888,
              "#fdca26"
             ],
             [
              1,
              "#f0f921"
             ]
            ],
            "type": "histogram2d"
           }
          ],
          "histogram2dcontour": [
           {
            "colorbar": {
             "outlinewidth": 0,
             "ticks": ""
            },
            "colorscale": [
             [
              0,
              "#0d0887"
             ],
             [
              0.1111111111111111,
              "#46039f"
             ],
             [
              0.2222222222222222,
              "#7201a8"
             ],
             [
              0.3333333333333333,
              "#9c179e"
             ],
             [
              0.4444444444444444,
              "#bd3786"
             ],
             [
              0.5555555555555556,
              "#d8576b"
             ],
             [
              0.6666666666666666,
              "#ed7953"
             ],
             [
              0.7777777777777778,
              "#fb9f3a"
             ],
             [
              0.8888888888888888,
              "#fdca26"
             ],
             [
              1,
              "#f0f921"
             ]
            ],
            "type": "histogram2dcontour"
           }
          ],
          "mesh3d": [
           {
            "colorbar": {
             "outlinewidth": 0,
             "ticks": ""
            },
            "type": "mesh3d"
           }
          ],
          "parcoords": [
           {
            "line": {
             "colorbar": {
              "outlinewidth": 0,
              "ticks": ""
             }
            },
            "type": "parcoords"
           }
          ],
          "pie": [
           {
            "automargin": true,
            "type": "pie"
           }
          ],
          "scatter": [
           {
            "fillpattern": {
             "fillmode": "overlay",
             "size": 10,
             "solidity": 0.2
            },
            "type": "scatter"
           }
          ],
          "scatter3d": [
           {
            "line": {
             "colorbar": {
              "outlinewidth": 0,
              "ticks": ""
             }
            },
            "marker": {
             "colorbar": {
              "outlinewidth": 0,
              "ticks": ""
             }
            },
            "type": "scatter3d"
           }
          ],
          "scattercarpet": [
           {
            "marker": {
             "colorbar": {
              "outlinewidth": 0,
              "ticks": ""
             }
            },
            "type": "scattercarpet"
           }
          ],
          "scattergeo": [
           {
            "marker": {
             "colorbar": {
              "outlinewidth": 0,
              "ticks": ""
             }
            },
            "type": "scattergeo"
           }
          ],
          "scattergl": [
           {
            "marker": {
             "colorbar": {
              "outlinewidth": 0,
              "ticks": ""
             }
            },
            "type": "scattergl"
           }
          ],
          "scattermapbox": [
           {
            "marker": {
             "colorbar": {
              "outlinewidth": 0,
              "ticks": ""
             }
            },
            "type": "scattermapbox"
           }
          ],
          "scatterpolar": [
           {
            "marker": {
             "colorbar": {
              "outlinewidth": 0,
              "ticks": ""
             }
            },
            "type": "scatterpolar"
           }
          ],
          "scatterpolargl": [
           {
            "marker": {
             "colorbar": {
              "outlinewidth": 0,
              "ticks": ""
             }
            },
            "type": "scatterpolargl"
           }
          ],
          "scatterternary": [
           {
            "marker": {
             "colorbar": {
              "outlinewidth": 0,
              "ticks": ""
             }
            },
            "type": "scatterternary"
           }
          ],
          "surface": [
           {
            "colorbar": {
             "outlinewidth": 0,
             "ticks": ""
            },
            "colorscale": [
             [
              0,
              "#0d0887"
             ],
             [
              0.1111111111111111,
              "#46039f"
             ],
             [
              0.2222222222222222,
              "#7201a8"
             ],
             [
              0.3333333333333333,
              "#9c179e"
             ],
             [
              0.4444444444444444,
              "#bd3786"
             ],
             [
              0.5555555555555556,
              "#d8576b"
             ],
             [
              0.6666666666666666,
              "#ed7953"
             ],
             [
              0.7777777777777778,
              "#fb9f3a"
             ],
             [
              0.8888888888888888,
              "#fdca26"
             ],
             [
              1,
              "#f0f921"
             ]
            ],
            "type": "surface"
           }
          ],
          "table": [
           {
            "cells": {
             "fill": {
              "color": "#EBF0F8"
             },
             "line": {
              "color": "white"
             }
            },
            "header": {
             "fill": {
              "color": "#C8D4E3"
             },
             "line": {
              "color": "white"
             }
            },
            "type": "table"
           }
          ]
         },
         "layout": {
          "annotationdefaults": {
           "arrowcolor": "#2a3f5f",
           "arrowhead": 0,
           "arrowwidth": 1
          },
          "autotypenumbers": "strict",
          "coloraxis": {
           "colorbar": {
            "outlinewidth": 0,
            "ticks": ""
           }
          },
          "colorscale": {
           "diverging": [
            [
             0,
             "#8e0152"
            ],
            [
             0.1,
             "#c51b7d"
            ],
            [
             0.2,
             "#de77ae"
            ],
            [
             0.3,
             "#f1b6da"
            ],
            [
             0.4,
             "#fde0ef"
            ],
            [
             0.5,
             "#f7f7f7"
            ],
            [
             0.6,
             "#e6f5d0"
            ],
            [
             0.7,
             "#b8e186"
            ],
            [
             0.8,
             "#7fbc41"
            ],
            [
             0.9,
             "#4d9221"
            ],
            [
             1,
             "#276419"
            ]
           ],
           "sequential": [
            [
             0,
             "#0d0887"
            ],
            [
             0.1111111111111111,
             "#46039f"
            ],
            [
             0.2222222222222222,
             "#7201a8"
            ],
            [
             0.3333333333333333,
             "#9c179e"
            ],
            [
             0.4444444444444444,
             "#bd3786"
            ],
            [
             0.5555555555555556,
             "#d8576b"
            ],
            [
             0.6666666666666666,
             "#ed7953"
            ],
            [
             0.7777777777777778,
             "#fb9f3a"
            ],
            [
             0.8888888888888888,
             "#fdca26"
            ],
            [
             1,
             "#f0f921"
            ]
           ],
           "sequentialminus": [
            [
             0,
             "#0d0887"
            ],
            [
             0.1111111111111111,
             "#46039f"
            ],
            [
             0.2222222222222222,
             "#7201a8"
            ],
            [
             0.3333333333333333,
             "#9c179e"
            ],
            [
             0.4444444444444444,
             "#bd3786"
            ],
            [
             0.5555555555555556,
             "#d8576b"
            ],
            [
             0.6666666666666666,
             "#ed7953"
            ],
            [
             0.7777777777777778,
             "#fb9f3a"
            ],
            [
             0.8888888888888888,
             "#fdca26"
            ],
            [
             1,
             "#f0f921"
            ]
           ]
          },
          "colorway": [
           "#636efa",
           "#EF553B",
           "#00cc96",
           "#ab63fa",
           "#FFA15A",
           "#19d3f3",
           "#FF6692",
           "#B6E880",
           "#FF97FF",
           "#FECB52"
          ],
          "font": {
           "color": "#2a3f5f"
          },
          "geo": {
           "bgcolor": "white",
           "lakecolor": "white",
           "landcolor": "#E5ECF6",
           "showlakes": true,
           "showland": true,
           "subunitcolor": "white"
          },
          "hoverlabel": {
           "align": "left"
          },
          "hovermode": "closest",
          "mapbox": {
           "style": "light"
          },
          "paper_bgcolor": "white",
          "plot_bgcolor": "#E5ECF6",
          "polar": {
           "angularaxis": {
            "gridcolor": "white",
            "linecolor": "white",
            "ticks": ""
           },
           "bgcolor": "#E5ECF6",
           "radialaxis": {
            "gridcolor": "white",
            "linecolor": "white",
            "ticks": ""
           }
          },
          "scene": {
           "xaxis": {
            "backgroundcolor": "#E5ECF6",
            "gridcolor": "white",
            "gridwidth": 2,
            "linecolor": "white",
            "showbackground": true,
            "ticks": "",
            "zerolinecolor": "white"
           },
           "yaxis": {
            "backgroundcolor": "#E5ECF6",
            "gridcolor": "white",
            "gridwidth": 2,
            "linecolor": "white",
            "showbackground": true,
            "ticks": "",
            "zerolinecolor": "white"
           },
           "zaxis": {
            "backgroundcolor": "#E5ECF6",
            "gridcolor": "white",
            "gridwidth": 2,
            "linecolor": "white",
            "showbackground": true,
            "ticks": "",
            "zerolinecolor": "white"
           }
          },
          "shapedefaults": {
           "line": {
            "color": "#2a3f5f"
           }
          },
          "ternary": {
           "aaxis": {
            "gridcolor": "white",
            "linecolor": "white",
            "ticks": ""
           },
           "baxis": {
            "gridcolor": "white",
            "linecolor": "white",
            "ticks": ""
           },
           "bgcolor": "#E5ECF6",
           "caxis": {
            "gridcolor": "white",
            "linecolor": "white",
            "ticks": ""
           }
          },
          "title": {
           "x": 0.05
          },
          "xaxis": {
           "automargin": true,
           "gridcolor": "white",
           "linecolor": "white",
           "ticks": "",
           "title": {
            "standoff": 15
           },
           "zerolinecolor": "white",
           "zerolinewidth": 2
          },
          "yaxis": {
           "automargin": true,
           "gridcolor": "white",
           "linecolor": "white",
           "ticks": "",
           "title": {
            "standoff": 15
           },
           "zerolinecolor": "white",
           "zerolinewidth": 2
          }
         }
        },
        "title": {
         "text": "Cluster Visualization in PCA Space"
        },
        "width": 800,
        "xaxis": {
         "anchor": "y",
         "domain": [
          0,
          1
         ],
         "title": {
          "text": "Principal Component 1"
         }
        },
        "yaxis": {
         "anchor": "x",
         "domain": [
          0,
          1
         ],
         "title": {
          "text": "Principal Component 2"
         }
        }
       }
      }
     },
     "metadata": {},
     "output_type": "display_data"
    }
   ],
   "source": [
    "train_set, test_set = stratified_sampling_for_interpolation(\n",
    "    owu_ood, data_type=\"owu\", n_clusters=3, test_size=0.2, random_state=42,\n",
    "\tverbose=True\n",
    ")\n",
    "# train_set.to_csv('dataset/datahow_2020/insilico_data/interpolation/owu.csv')\n",
    "# test_set.to_csv('dataset/datahow_2020/insilico_data/interpolation/owu_test.csv')"
   ]
  },
  {
   "cell_type": "markdown",
   "metadata": {},
   "source": [
    "# Greedy Maximized Pairwise distance for Extrapolation"
   ]
  },
  {
   "cell_type": "code",
   "execution_count": 25,
   "metadata": {},
   "outputs": [],
   "source": [
    "def select_max_distance_experiments(bwu, num_experiments=5):\n",
    "    # Standardize the data\n",
    "    scaler = StandardScaler()\n",
    "    bwu_normalized = scaler.fit_transform(bwu)\n",
    "    \n",
    "    # Calculate pairwise distance matrix\n",
    "    distance_matrix = pairwise_distances(bwu_normalized, metric='l2')\n",
    "    \n",
    "    # Initialize the selected experiments list\n",
    "    selected_experiments = [bwu.index[0]]  # Start with the first experiment\n",
    "    \n",
    "    for _ in range(1, num_experiments):\n",
    "        max_dist = 0\n",
    "        next_exp = None\n",
    "        \n",
    "        for i in range(bwu.shape[0]):\n",
    "            if i in selected_experiments:\n",
    "                continue\n",
    "            # Calculate the minimum distance from this experiment to the selected experiments\n",
    "            min_dist_to_selected = min(distance_matrix[i, j] for j in selected_experiments)\n",
    "            \n",
    "            if min_dist_to_selected > max_dist:\n",
    "                max_dist = min_dist_to_selected\n",
    "                next_exp = i\n",
    "                \n",
    "        selected_experiments.append(next_exp)\n",
    "    \n",
    "    return bwu.iloc[selected_experiments]"
   ]
  },
  {
   "cell_type": "code",
   "execution_count": 31,
   "metadata": {},
   "outputs": [],
   "source": [
    "# get titer groups\n",
    "time_14_df = owu_ood.xs(14, level='time')\n",
    "high_titer_index = time_14_df[time_14_df['X:Titer'] > 1000].index.tolist()\n",
    "low_titer_index = time_14_df[time_14_df['X:Titer'] < 1000].index.tolist()\n",
    "\n",
    "# split owu by titer groups\n",
    "owu_ood_high_titer = owu_ood[owu_ood.index.get_level_values('run').isin(high_titer_index)]\n",
    "owu_ood_low_titer = owu_ood[owu_ood.index.get_level_values('run').isin(low_titer_index)]\n",
    "owu_ood_high_titer.to_csv('dataset/datahow_2022/owu_ood_high_titer.csv')\n",
    "owu_ood_low_titer.to_csv('dataset/datahow_2022/owu_ood_low_titer.csv')\n",
    "\n",
    "# split doe by titer groups\n",
    "owu_ood_doe = pd.read_csv('dataset/datahow_2022/owu_ood_doe.csv', usecols=[\"feed_start\", \"feed_end\", \"Glc_feed_rate\", \"Glc_0\", \"VCD_0\"])\n",
    "owu_ood_doe_high_titer = owu_ood_doe[owu_ood_doe.index.isin(high_titer_index)]\n",
    "owu_ood_doe_low_titer = owu_ood_doe[owu_ood_doe.index.isin(low_titer_index)]\n",
    "owu_ood_doe_high_titer.to_csv('dataset/datahow_2022/owu_ood_doe_high_titer.csv')\n",
    "owu_ood_doe_low_titer.to_csv('dataset/datahow_2022/owu_ood_doe_low_titer.csv')\n",
    "\n",
    "# read owu groups\n",
    "owu_ood_high_titer = pd.read_csv('dataset/datahow_2022/owu_ood_high_titer.csv')\n",
    "owu_ood_low_titer = pd.read_csv('dataset/datahow_2022/owu_ood_low_titer.csv')\n",
    "owu_ood_high_titer.set_index(['run', 'time'], inplace=True)\n",
    "owu_ood_low_titer.set_index(['run', 'time'], inplace=True)\n",
    "\n",
    "# read doe groups\n",
    "owu_ood_doe_high_titer = pd.read_csv('dataset/datahow_2022/owu_ood_doe_high_titer.csv', index_col=0)\n",
    "owu_ood_doe_low_titer = pd.read_csv('dataset/datahow_2022/owu_ood_doe_low_titer.csv', index_col=0)"
   ]
  },
  {
   "cell_type": "code",
   "execution_count": 33,
   "metadata": {},
   "outputs": [
    {
     "name": "stdout",
     "output_type": "stream",
     "text": [
      "Index([0, 2, 11, 20, 22], dtype='int64')\n"
     ]
    }
   ],
   "source": [
    "bwu_ood_high_titer = generate_bwu(owu_ood_high_titer)\n",
    "selected_index = select_max_distance_experiments(bwu_ood_high_titer, num_experiments=5).index\n",
    "print(selected_index)\n",
    "\n",
    "owu_ood_high_titer_selected = owu_ood_high_titer[owu_ood_high_titer.index.get_level_values('run').isin(selected_index)]\n",
    "owu_ood_high_titer_remains = owu_ood_high_titer[~owu_ood_high_titer.index.get_level_values('run').isin(selected_index)]\n",
    "\n",
    "owu_ood_doe_high_titer_selected = owu_ood_doe_high_titer[owu_ood_doe_high_titer.index.isin(selected_index)]\n",
    "owu_ood_doe_high_titer_remains = owu_ood_doe_high_titer[~owu_ood_doe_high_titer.index.isin(selected_index)]\n",
    "\n",
    "owu = pd.concat([owu_ood_low_titer, owu_ood_high_titer_selected])\n",
    "owu_doe = pd.concat([owu_ood_doe_low_titer, owu_ood_doe_high_titer_selected])\n",
    "\n",
    "owu_test = owu_ood_high_titer_remains.copy()\n",
    "owu_test_doe = owu_ood_doe_high_titer_remains.copy()\n"
   ]
  },
  {
   "cell_type": "code",
   "execution_count": 35,
   "metadata": {},
   "outputs": [],
   "source": [
    "owu.to_csv('dataset/datahow_2022/extrapolation/owu.csv', index=False)\n",
    "owu_test.to_csv('dataset/datahow_2022/extrapolation/owu_test.csv', index=False)\n",
    "\n",
    "owu_doe.to_csv('dataset/datahow_2022/extrapolation/owu_doe.csv', index=False)\n",
    "owu_test_doe.to_csv('dataset/datahow_2022/extrapolation/owu_test_doe.csv', index=False)"
   ]
  },
  {
   "cell_type": "code",
   "execution_count": null,
   "metadata": {},
   "outputs": [],
   "source": []
  }
 ],
 "metadata": {
  "kernelspec": {
   "display_name": "aima",
   "language": "python",
   "name": "python3"
  },
  "language_info": {
   "codemirror_mode": {
    "name": "ipython",
    "version": 3
   },
   "file_extension": ".py",
   "mimetype": "text/x-python",
   "name": "python",
   "nbconvert_exporter": "python",
   "pygments_lexer": "ipython3",
   "version": "3.11.8"
  },
  "orig_nbformat": 4
 },
 "nbformat": 4,
 "nbformat_minor": 2
}
