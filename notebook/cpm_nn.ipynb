{
 "cells": [
  {
   "cell_type": "code",
   "execution_count": 1,
   "metadata": {},
   "outputs": [
    {
     "name": "stderr",
     "output_type": "stream",
     "text": [
      "/home/tim/anaconda3/envs/aima/lib/python3.10/site-packages/sklearn/cluster/_kmeans.py:1412: FutureWarning: The default value of `n_init` will change from 10 to 'auto' in 1.4. Set the value of `n_init` explicitly to suppress the warning\n",
      "  super()._check_params_vs_input(X, default_n_init=10)\n"
     ]
    }
   ],
   "source": [
    "import pandas as pd\n",
    "from sklearn.decomposition import PCA\n",
    "from sklearn.cluster import KMeans\n",
    "from sklearn.model_selection import train_test_split\n",
    "\n",
    "root_path = 'dataset/datahow_2020/insilico_data'\n",
    "\n",
    "# 假设数据存储在名为data.xlsx的Excel文件中，读取数据\n",
    "data = pd.read_excel(f'{root_path}/rawdata.xlsx')\n",
    "\n",
    "# 选择用于PCA分析的特征列（去除非数值列）\n",
    "features = data.drop(columns=['Experiment No.', 'Time [h]'])\n",
    "\n",
    "# 执行PCA降维\n",
    "pca = PCA(n_components=2)\n",
    "pca_result = pca.fit_transform(features)\n",
    "\n",
    "# 将PCA结果添加到DataFrame中\n",
    "data['PCA1'] = pca_result[:, 0]\n",
    "data['PCA2'] = pca_result[:, 1]\n",
    "\n",
    "# 使用KMeans聚类算法进行聚类\n",
    "kmeans = KMeans(n_clusters=5, random_state=42)  # 假设分为5个簇\n",
    "data['Cluster'] = kmeans.fit_predict(pca_result)\n",
    "\n",
    "# 创建插值数据集，按照每个簇的20%进行分层采样\n",
    "interpolation_data = data.groupby('Cluster').apply(lambda x: x.sample(frac=0.2, random_state=42)).reset_index(drop=True)\n",
    "\n",
    "# 获取非插值数据集，即训练数据集\n",
    "train_data = data[~data.index.isin(interpolation_data.index)]\n",
    "\n",
    "# 删除训练数据和插值数据中的PCA和Cluster列\n",
    "interpolation_data = interpolation_data.drop(columns=['PCA1', 'PCA2', 'Cluster'])\n",
    "train_data = train_data.drop(columns=['PCA1', 'PCA2', 'Cluster'])\n",
    "\n",
    "# 保存插值数据集到Excel文件\n",
    "interpolation_data.to_excel(f'{root_path}/interpolation_data.xlsx', index=False)\n",
    "\n",
    "# 保存训练数据集到Excel文件\n",
    "train_data.to_excel(f'{root_path}/train_data.xlsx', index=False)\n"
   ]
  },
  {
   "cell_type": "code",
   "execution_count": 3,
   "metadata": {},
   "outputs": [
    {
     "name": "stderr",
     "output_type": "stream",
     "text": [
      "/home/tim/anaconda3/envs/aima/lib/python3.10/site-packages/sklearn/cluster/_kmeans.py:1412: FutureWarning: The default value of `n_init` will change from 10 to 'auto' in 1.4. Set the value of `n_init` explicitly to suppress the warning\n",
      "  super()._check_params_vs_input(X, default_n_init=10)\n"
     ]
    }
   ],
   "source": [
    "import pandas as pd\n",
    "from sklearn.decomposition import PCA\n",
    "from sklearn.cluster import KMeans\n",
    "from sklearn.model_selection import train_test_split\n",
    "\n",
    "# 假设数据存储在名为data.xlsx的Excel文件中，读取数据\n",
    "data = pd.read_excel(f'{root_path}/rawdata.xlsx')\n",
    "\n",
    "# 提取所有实验的编号\n",
    "experiments = data['Experiment No.'].unique()\n",
    "\n",
    "# 选择用于PCA分析的特征列（去除非数值列和实验编号）\n",
    "features = data.drop(columns=['Experiment No.', 'Time [h]'])\n",
    "\n",
    "# 对每个实验进行聚合，计算每个实验的均值，以便进行PCA降维\n",
    "experiment_means = data.groupby('Experiment No.').mean().drop(columns=['Time [h]'])\n",
    "\n",
    "# 执行PCA降维\n",
    "pca = PCA(n_components=2)\n",
    "pca_result = pca.fit_transform(experiment_means)\n",
    "\n",
    "# 将PCA结果添加到experiment_means DataFrame中\n",
    "experiment_means['PCA1'] = pca_result[:, 0]\n",
    "experiment_means['PCA2'] = pca_result[:, 1]\n",
    "\n",
    "# 使用KMeans聚类算法进行聚类\n",
    "kmeans = KMeans(n_clusters=5, random_state=42)  # 假设分为5个簇\n",
    "experiment_means['Cluster'] = kmeans.fit_predict(pca_result)\n",
    "\n",
    "# 创建插值数据集，按照每个簇的20%进行分层采样\n",
    "interpolation_experiments = experiment_means.groupby('Cluster').apply(lambda x: x.sample(frac=0.2, random_state=42)).reset_index(drop=True)\n",
    "interpolation_experiment_ids = interpolation_experiments.index\n",
    "\n",
    "# 获取插值数据集，即所有来自插值实验的数据\n",
    "interpolation_data = data[data['Experiment No.'].isin(interpolation_experiment_ids)]\n",
    "\n",
    "# 获取非插值数据集，即训练数据集\n",
    "train_data = data[~data['Experiment No.'].isin(interpolation_experiment_ids)]\n",
    "\n",
    "# 保存插值数据集到Excel文件\n",
    "interpolation_data.to_excel(f'{root_path}/interpolation_data.xlsx', index=False)\n",
    "\n",
    "# 保存训练数据集到Excel文件\n",
    "train_data.to_excel(f'{root_path}/train_data.xlsx', index=False)\n",
    "\n"
   ]
  },
  {
   "cell_type": "code",
   "execution_count": null,
   "metadata": {},
   "outputs": [],
   "source": []
  }
 ],
 "metadata": {
  "kernelspec": {
   "display_name": "aima",
   "language": "python",
   "name": "python3"
  },
  "language_info": {
   "codemirror_mode": {
    "name": "ipython",
    "version": 3
   },
   "file_extension": ".py",
   "mimetype": "text/x-python",
   "name": "python",
   "nbconvert_exporter": "python",
   "pygments_lexer": "ipython3",
   "version": "3.10.12"
  },
  "orig_nbformat": 4
 },
 "nbformat": 4,
 "nbformat_minor": 2
}
