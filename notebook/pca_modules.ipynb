{
 "cells": [
  {
   "cell_type": "markdown",
   "metadata": {},
   "source": [
    "### Import Library"
   ]
  },
  {
   "cell_type": "code",
   "execution_count": 2,
   "metadata": {},
   "outputs": [],
   "source": [
    "import pandas as pd\n",
    "import numpy as np\n",
    "import pandas as pd\n",
    "import plotly.express as px\n",
    "import plotly.io as pio\n",
    "import plotly.graph_objects as go\n",
    "from plotly.subplots import make_subplots\n",
    "\n",
    "from sklearn.decomposition import PCA\n",
    "from sklearn.preprocessing import StandardScaler\n",
    "from sklearn.covariance import EmpiricalCovariance\n",
    "from scipy.stats import chi2\n",
    "\n",
    "pio.templates.default = \"plotly_white\"\n",
    "pcolors = px.colors.qualitative.T10\n",
    "pcolors25 = px.colors.qualitative.Alphabet"
   ]
  },
  {
   "cell_type": "markdown",
   "metadata": {},
   "source": [
    "### PCA Introduction\n",
    "* abnormalities in runs/variables\n",
    "* interpretation scores/loadings\n",
    "* differences between OWU/BWU\n",
    "\n",
    "<img src=\"assets/pca_explain.png\" alt=\"PCA Explain\" width=\"1000\">"
   ]
  },
  {
   "cell_type": "markdown",
   "metadata": {},
   "source": [
    "# PCA of OWU matrix"
   ]
  },
  {
   "cell_type": "code",
   "execution_count": 3,
   "metadata": {},
   "outputs": [],
   "source": [
    "def read_owu_v1(file):\n",
    "\troot_path = 'dataset/datahow_2020/insilico_data'\n",
    "\tdata = pd.read_excel(f'{root_path}/{file}.xlsx')\n",
    "\tcol_names = [\"run\", \"timesteps\", \"X:VCD\", \"X:Glc\", \"X:Gln\", \"X:NH4\", \"X:Lac\", \"X:Titer\", \"W:pH\", \"W:Temp\", \"F:Feed_Glc\", \"F:Feed_Gln\",]\n",
    "\towu_df = data.copy()\n",
    "\towu_df.columns = col_names\n",
    "\towu_df['time'] = (owu_df.timesteps / 24).astype(int)\n",
    "\towu_df.set_index(['run', 'time'], inplace=True)\n",
    "\treturn owu_df\n",
    "\n",
    "\n",
    "def read_owu_v2(file):\n",
    "\troot_path = 'dataset/datahow_concise'\n",
    "\tdata = pd.read_csv(f'{root_path}/{file}.csv')\n",
    "\towu_df = data.copy()\n",
    "\towu_df.set_index(['run', 'time'], inplace=True)\n",
    "\treturn owu_df\n",
    "\n",
    "\n",
    "def read_owu_v3(file, root_path = 'dataset/datahow_2022'):\n",
    "\tdata = pd.read_csv(f'{root_path}/{file}.csv')\n",
    "\towu_df = data.copy()\n",
    "\towu_df.set_index(['run', 'time'], inplace=True)\n",
    "\treturn owu_df"
   ]
  },
  {
   "cell_type": "code",
   "execution_count": 4,
   "metadata": {},
   "outputs": [],
   "source": [
    "owu = read_owu_v3('owu', root_path='dataset/datahow_2022/interpolation/')\n",
    "owu_test = read_owu_v3('owu_test', root_path='dataset/datahow_2022/interpolation/')"
   ]
  },
  {
   "cell_type": "markdown",
   "metadata": {},
   "source": [
    "### Visualize the OWU matrix"
   ]
  },
  {
   "cell_type": "code",
   "execution_count": 5,
   "metadata": {},
   "outputs": [
    {
     "data": {
      "text/html": [
       "<div>\n",
       "<style scoped>\n",
       "    .dataframe tbody tr th:only-of-type {\n",
       "        vertical-align: middle;\n",
       "    }\n",
       "\n",
       "    .dataframe tbody tr th {\n",
       "        vertical-align: top;\n",
       "    }\n",
       "\n",
       "    .dataframe thead th {\n",
       "        text-align: right;\n",
       "    }\n",
       "</style>\n",
       "<table border=\"1\" class=\"dataframe\">\n",
       "  <thead>\n",
       "    <tr style=\"text-align: right;\">\n",
       "      <th></th>\n",
       "      <th></th>\n",
       "      <th>timesteps</th>\n",
       "      <th>X:VCD</th>\n",
       "      <th>X:Glc</th>\n",
       "      <th>X:Lac</th>\n",
       "      <th>X:Titer</th>\n",
       "      <th>W:Feed</th>\n",
       "    </tr>\n",
       "    <tr>\n",
       "      <th>run</th>\n",
       "      <th>time</th>\n",
       "      <th></th>\n",
       "      <th></th>\n",
       "      <th></th>\n",
       "      <th></th>\n",
       "      <th></th>\n",
       "      <th></th>\n",
       "    </tr>\n",
       "  </thead>\n",
       "  <tbody>\n",
       "    <tr>\n",
       "      <th rowspan=\"10\" valign=\"top\">0</th>\n",
       "      <th>0</th>\n",
       "      <td>0.0</td>\n",
       "      <td>0.550000</td>\n",
       "      <td>45.000000</td>\n",
       "      <td>0.000000</td>\n",
       "      <td>0.000000</td>\n",
       "      <td>0.0</td>\n",
       "    </tr>\n",
       "    <tr>\n",
       "      <th>1</th>\n",
       "      <td>1.0</td>\n",
       "      <td>1.725244</td>\n",
       "      <td>44.008188</td>\n",
       "      <td>1.489389</td>\n",
       "      <td>0.054632</td>\n",
       "      <td>0.0</td>\n",
       "    </tr>\n",
       "    <tr>\n",
       "      <th>2</th>\n",
       "      <td>2.0</td>\n",
       "      <td>4.779558</td>\n",
       "      <td>41.089619</td>\n",
       "      <td>5.872389</td>\n",
       "      <td>1.311539</td>\n",
       "      <td>12.5</td>\n",
       "    </tr>\n",
       "    <tr>\n",
       "      <th>3</th>\n",
       "      <td>3.0</td>\n",
       "      <td>10.278397</td>\n",
       "      <td>40.271478</td>\n",
       "      <td>16.487303</td>\n",
       "      <td>15.870869</td>\n",
       "      <td>12.5</td>\n",
       "    </tr>\n",
       "    <tr>\n",
       "      <th>4</th>\n",
       "      <td>4.0</td>\n",
       "      <td>15.886799</td>\n",
       "      <td>40.083603</td>\n",
       "      <td>35.542541</td>\n",
       "      <td>85.824621</td>\n",
       "      <td>12.5</td>\n",
       "    </tr>\n",
       "    <tr>\n",
       "      <th>5</th>\n",
       "      <td>5.0</td>\n",
       "      <td>18.568089</td>\n",
       "      <td>35.783073</td>\n",
       "      <td>60.776450</td>\n",
       "      <td>245.221131</td>\n",
       "      <td>12.5</td>\n",
       "    </tr>\n",
       "    <tr>\n",
       "      <th>6</th>\n",
       "      <td>6.0</td>\n",
       "      <td>18.099141</td>\n",
       "      <td>30.505201</td>\n",
       "      <td>87.483607</td>\n",
       "      <td>468.616199</td>\n",
       "      <td>12.5</td>\n",
       "    </tr>\n",
       "    <tr>\n",
       "      <th>7</th>\n",
       "      <td>7.0</td>\n",
       "      <td>15.811653</td>\n",
       "      <td>26.667240</td>\n",
       "      <td>112.033694</td>\n",
       "      <td>706.666289</td>\n",
       "      <td>12.5</td>\n",
       "    </tr>\n",
       "    <tr>\n",
       "      <th>8</th>\n",
       "      <td>8.0</td>\n",
       "      <td>12.920362</td>\n",
       "      <td>25.389475</td>\n",
       "      <td>132.740373</td>\n",
       "      <td>924.761704</td>\n",
       "      <td>12.5</td>\n",
       "    </tr>\n",
       "    <tr>\n",
       "      <th>9</th>\n",
       "      <td>9.0</td>\n",
       "      <td>10.123559</td>\n",
       "      <td>26.873536</td>\n",
       "      <td>149.296217</td>\n",
       "      <td>1108.215155</td>\n",
       "      <td>12.5</td>\n",
       "    </tr>\n",
       "  </tbody>\n",
       "</table>\n",
       "</div>"
      ],
      "text/plain": [
       "          timesteps      X:VCD      X:Glc       X:Lac      X:Titer  W:Feed\n",
       "run time                                                                  \n",
       "0   0           0.0   0.550000  45.000000    0.000000     0.000000     0.0\n",
       "    1           1.0   1.725244  44.008188    1.489389     0.054632     0.0\n",
       "    2           2.0   4.779558  41.089619    5.872389     1.311539    12.5\n",
       "    3           3.0  10.278397  40.271478   16.487303    15.870869    12.5\n",
       "    4           4.0  15.886799  40.083603   35.542541    85.824621    12.5\n",
       "    5           5.0  18.568089  35.783073   60.776450   245.221131    12.5\n",
       "    6           6.0  18.099141  30.505201   87.483607   468.616199    12.5\n",
       "    7           7.0  15.811653  26.667240  112.033694   706.666289    12.5\n",
       "    8           8.0  12.920362  25.389475  132.740373   924.761704    12.5\n",
       "    9           9.0  10.123559  26.873536  149.296217  1108.215155    12.5"
      ]
     },
     "execution_count": 5,
     "metadata": {},
     "output_type": "execute_result"
    }
   ],
   "source": [
    "owu.head(10)"
   ]
  },
  {
   "cell_type": "markdown",
   "metadata": {},
   "source": [
    "### Plot correlation matrix"
   ]
  },
  {
   "cell_type": "code",
   "execution_count": 6,
   "metadata": {},
   "outputs": [],
   "source": [
    "def plot_owu_correlation(owu):\n",
    "    owu = owu.drop([\"timesteps\"],axis=1)\n",
    "    fig = px.imshow(owu.corr().round(3), text_auto=True)\n",
    "    fig.update_layout(title=\"OWU Correlation Matrix among X variables\", width=1000)\n",
    "    fig.show();"
   ]
  },
  {
   "cell_type": "code",
   "execution_count": 7,
   "metadata": {},
   "outputs": [
    {
     "data": {
      "application/vnd.plotly.v1+json": {
       "config": {
        "plotlyServerURL": "https://plot.ly"
       },
       "data": [
        {
         "coloraxis": "coloraxis",
         "hovertemplate": "x: %{x}<br>y: %{y}<br>color: %{z}<extra></extra>",
         "name": "0",
         "texttemplate": "%{z}",
         "type": "heatmap",
         "x": [
          "X:VCD",
          "X:Glc",
          "X:Lac",
          "X:Titer",
          "W:Feed"
         ],
         "xaxis": "x",
         "y": [
          "X:VCD",
          "X:Glc",
          "X:Lac",
          "X:Titer",
          "W:Feed"
         ],
         "yaxis": "y",
         "z": [
          [
           1,
           -0.137,
           -0.087,
           -0.175,
           0.653
          ],
          [
           -0.137,
           1,
           -0.176,
           -0.115,
           0.082
          ],
          [
           -0.087,
           -0.176,
           1,
           0.965,
           -0.32
          ],
          [
           -0.175,
           -0.115,
           0.965,
           1,
           -0.362
          ],
          [
           0.653,
           0.082,
           -0.32,
           -0.362,
           1
          ]
         ]
        }
       ],
       "layout": {
        "coloraxis": {
         "colorscale": [
          [
           0,
           "#0d0887"
          ],
          [
           0.1111111111111111,
           "#46039f"
          ],
          [
           0.2222222222222222,
           "#7201a8"
          ],
          [
           0.3333333333333333,
           "#9c179e"
          ],
          [
           0.4444444444444444,
           "#bd3786"
          ],
          [
           0.5555555555555556,
           "#d8576b"
          ],
          [
           0.6666666666666666,
           "#ed7953"
          ],
          [
           0.7777777777777778,
           "#fb9f3a"
          ],
          [
           0.8888888888888888,
           "#fdca26"
          ],
          [
           1,
           "#f0f921"
          ]
         ]
        },
        "margin": {
         "t": 60
        },
        "template": {
         "data": {
          "bar": [
           {
            "error_x": {
             "color": "#2a3f5f"
            },
            "error_y": {
             "color": "#2a3f5f"
            },
            "marker": {
             "line": {
              "color": "white",
              "width": 0.5
             },
             "pattern": {
              "fillmode": "overlay",
              "size": 10,
              "solidity": 0.2
             }
            },
            "type": "bar"
           }
          ],
          "barpolar": [
           {
            "marker": {
             "line": {
              "color": "white",
              "width": 0.5
             },
             "pattern": {
              "fillmode": "overlay",
              "size": 10,
              "solidity": 0.2
             }
            },
            "type": "barpolar"
           }
          ],
          "carpet": [
           {
            "aaxis": {
             "endlinecolor": "#2a3f5f",
             "gridcolor": "#C8D4E3",
             "linecolor": "#C8D4E3",
             "minorgridcolor": "#C8D4E3",
             "startlinecolor": "#2a3f5f"
            },
            "baxis": {
             "endlinecolor": "#2a3f5f",
             "gridcolor": "#C8D4E3",
             "linecolor": "#C8D4E3",
             "minorgridcolor": "#C8D4E3",
             "startlinecolor": "#2a3f5f"
            },
            "type": "carpet"
           }
          ],
          "choropleth": [
           {
            "colorbar": {
             "outlinewidth": 0,
             "ticks": ""
            },
            "type": "choropleth"
           }
          ],
          "contour": [
           {
            "colorbar": {
             "outlinewidth": 0,
             "ticks": ""
            },
            "colorscale": [
             [
              0,
              "#0d0887"
             ],
             [
              0.1111111111111111,
              "#46039f"
             ],
             [
              0.2222222222222222,
              "#7201a8"
             ],
             [
              0.3333333333333333,
              "#9c179e"
             ],
             [
              0.4444444444444444,
              "#bd3786"
             ],
             [
              0.5555555555555556,
              "#d8576b"
             ],
             [
              0.6666666666666666,
              "#ed7953"
             ],
             [
              0.7777777777777778,
              "#fb9f3a"
             ],
             [
              0.8888888888888888,
              "#fdca26"
             ],
             [
              1,
              "#f0f921"
             ]
            ],
            "type": "contour"
           }
          ],
          "contourcarpet": [
           {
            "colorbar": {
             "outlinewidth": 0,
             "ticks": ""
            },
            "type": "contourcarpet"
           }
          ],
          "heatmap": [
           {
            "colorbar": {
             "outlinewidth": 0,
             "ticks": ""
            },
            "colorscale": [
             [
              0,
              "#0d0887"
             ],
             [
              0.1111111111111111,
              "#46039f"
             ],
             [
              0.2222222222222222,
              "#7201a8"
             ],
             [
              0.3333333333333333,
              "#9c179e"
             ],
             [
              0.4444444444444444,
              "#bd3786"
             ],
             [
              0.5555555555555556,
              "#d8576b"
             ],
             [
              0.6666666666666666,
              "#ed7953"
             ],
             [
              0.7777777777777778,
              "#fb9f3a"
             ],
             [
              0.8888888888888888,
              "#fdca26"
             ],
             [
              1,
              "#f0f921"
             ]
            ],
            "type": "heatmap"
           }
          ],
          "heatmapgl": [
           {
            "colorbar": {
             "outlinewidth": 0,
             "ticks": ""
            },
            "colorscale": [
             [
              0,
              "#0d0887"
             ],
             [
              0.1111111111111111,
              "#46039f"
             ],
             [
              0.2222222222222222,
              "#7201a8"
             ],
             [
              0.3333333333333333,
              "#9c179e"
             ],
             [
              0.4444444444444444,
              "#bd3786"
             ],
             [
              0.5555555555555556,
              "#d8576b"
             ],
             [
              0.6666666666666666,
              "#ed7953"
             ],
             [
              0.7777777777777778,
              "#fb9f3a"
             ],
             [
              0.8888888888888888,
              "#fdca26"
             ],
             [
              1,
              "#f0f921"
             ]
            ],
            "type": "heatmapgl"
           }
          ],
          "histogram": [
           {
            "marker": {
             "pattern": {
              "fillmode": "overlay",
              "size": 10,
              "solidity": 0.2
             }
            },
            "type": "histogram"
           }
          ],
          "histogram2d": [
           {
            "colorbar": {
             "outlinewidth": 0,
             "ticks": ""
            },
            "colorscale": [
             [
              0,
              "#0d0887"
             ],
             [
              0.1111111111111111,
              "#46039f"
             ],
             [
              0.2222222222222222,
              "#7201a8"
             ],
             [
              0.3333333333333333,
              "#9c179e"
             ],
             [
              0.4444444444444444,
              "#bd3786"
             ],
             [
              0.5555555555555556,
              "#d8576b"
             ],
             [
              0.6666666666666666,
              "#ed7953"
             ],
             [
              0.7777777777777778,
              "#fb9f3a"
             ],
             [
              0.8888888888888888,
              "#fdca26"
             ],
             [
              1,
              "#f0f921"
             ]
            ],
            "type": "histogram2d"
           }
          ],
          "histogram2dcontour": [
           {
            "colorbar": {
             "outlinewidth": 0,
             "ticks": ""
            },
            "colorscale": [
             [
              0,
              "#0d0887"
             ],
             [
              0.1111111111111111,
              "#46039f"
             ],
             [
              0.2222222222222222,
              "#7201a8"
             ],
             [
              0.3333333333333333,
              "#9c179e"
             ],
             [
              0.4444444444444444,
              "#bd3786"
             ],
             [
              0.5555555555555556,
              "#d8576b"
             ],
             [
              0.6666666666666666,
              "#ed7953"
             ],
             [
              0.7777777777777778,
              "#fb9f3a"
             ],
             [
              0.8888888888888888,
              "#fdca26"
             ],
             [
              1,
              "#f0f921"
             ]
            ],
            "type": "histogram2dcontour"
           }
          ],
          "mesh3d": [
           {
            "colorbar": {
             "outlinewidth": 0,
             "ticks": ""
            },
            "type": "mesh3d"
           }
          ],
          "parcoords": [
           {
            "line": {
             "colorbar": {
              "outlinewidth": 0,
              "ticks": ""
             }
            },
            "type": "parcoords"
           }
          ],
          "pie": [
           {
            "automargin": true,
            "type": "pie"
           }
          ],
          "scatter": [
           {
            "fillpattern": {
             "fillmode": "overlay",
             "size": 10,
             "solidity": 0.2
            },
            "type": "scatter"
           }
          ],
          "scatter3d": [
           {
            "line": {
             "colorbar": {
              "outlinewidth": 0,
              "ticks": ""
             }
            },
            "marker": {
             "colorbar": {
              "outlinewidth": 0,
              "ticks": ""
             }
            },
            "type": "scatter3d"
           }
          ],
          "scattercarpet": [
           {
            "marker": {
             "colorbar": {
              "outlinewidth": 0,
              "ticks": ""
             }
            },
            "type": "scattercarpet"
           }
          ],
          "scattergeo": [
           {
            "marker": {
             "colorbar": {
              "outlinewidth": 0,
              "ticks": ""
             }
            },
            "type": "scattergeo"
           }
          ],
          "scattergl": [
           {
            "marker": {
             "colorbar": {
              "outlinewidth": 0,
              "ticks": ""
             }
            },
            "type": "scattergl"
           }
          ],
          "scattermapbox": [
           {
            "marker": {
             "colorbar": {
              "outlinewidth": 0,
              "ticks": ""
             }
            },
            "type": "scattermapbox"
           }
          ],
          "scatterpolar": [
           {
            "marker": {
             "colorbar": {
              "outlinewidth": 0,
              "ticks": ""
             }
            },
            "type": "scatterpolar"
           }
          ],
          "scatterpolargl": [
           {
            "marker": {
             "colorbar": {
              "outlinewidth": 0,
              "ticks": ""
             }
            },
            "type": "scatterpolargl"
           }
          ],
          "scatterternary": [
           {
            "marker": {
             "colorbar": {
              "outlinewidth": 0,
              "ticks": ""
             }
            },
            "type": "scatterternary"
           }
          ],
          "surface": [
           {
            "colorbar": {
             "outlinewidth": 0,
             "ticks": ""
            },
            "colorscale": [
             [
              0,
              "#0d0887"
             ],
             [
              0.1111111111111111,
              "#46039f"
             ],
             [
              0.2222222222222222,
              "#7201a8"
             ],
             [
              0.3333333333333333,
              "#9c179e"
             ],
             [
              0.4444444444444444,
              "#bd3786"
             ],
             [
              0.5555555555555556,
              "#d8576b"
             ],
             [
              0.6666666666666666,
              "#ed7953"
             ],
             [
              0.7777777777777778,
              "#fb9f3a"
             ],
             [
              0.8888888888888888,
              "#fdca26"
             ],
             [
              1,
              "#f0f921"
             ]
            ],
            "type": "surface"
           }
          ],
          "table": [
           {
            "cells": {
             "fill": {
              "color": "#EBF0F8"
             },
             "line": {
              "color": "white"
             }
            },
            "header": {
             "fill": {
              "color": "#C8D4E3"
             },
             "line": {
              "color": "white"
             }
            },
            "type": "table"
           }
          ]
         },
         "layout": {
          "annotationdefaults": {
           "arrowcolor": "#2a3f5f",
           "arrowhead": 0,
           "arrowwidth": 1
          },
          "autotypenumbers": "strict",
          "coloraxis": {
           "colorbar": {
            "outlinewidth": 0,
            "ticks": ""
           }
          },
          "colorscale": {
           "diverging": [
            [
             0,
             "#8e0152"
            ],
            [
             0.1,
             "#c51b7d"
            ],
            [
             0.2,
             "#de77ae"
            ],
            [
             0.3,
             "#f1b6da"
            ],
            [
             0.4,
             "#fde0ef"
            ],
            [
             0.5,
             "#f7f7f7"
            ],
            [
             0.6,
             "#e6f5d0"
            ],
            [
             0.7,
             "#b8e186"
            ],
            [
             0.8,
             "#7fbc41"
            ],
            [
             0.9,
             "#4d9221"
            ],
            [
             1,
             "#276419"
            ]
           ],
           "sequential": [
            [
             0,
             "#0d0887"
            ],
            [
             0.1111111111111111,
             "#46039f"
            ],
            [
             0.2222222222222222,
             "#7201a8"
            ],
            [
             0.3333333333333333,
             "#9c179e"
            ],
            [
             0.4444444444444444,
             "#bd3786"
            ],
            [
             0.5555555555555556,
             "#d8576b"
            ],
            [
             0.6666666666666666,
             "#ed7953"
            ],
            [
             0.7777777777777778,
             "#fb9f3a"
            ],
            [
             0.8888888888888888,
             "#fdca26"
            ],
            [
             1,
             "#f0f921"
            ]
           ],
           "sequentialminus": [
            [
             0,
             "#0d0887"
            ],
            [
             0.1111111111111111,
             "#46039f"
            ],
            [
             0.2222222222222222,
             "#7201a8"
            ],
            [
             0.3333333333333333,
             "#9c179e"
            ],
            [
             0.4444444444444444,
             "#bd3786"
            ],
            [
             0.5555555555555556,
             "#d8576b"
            ],
            [
             0.6666666666666666,
             "#ed7953"
            ],
            [
             0.7777777777777778,
             "#fb9f3a"
            ],
            [
             0.8888888888888888,
             "#fdca26"
            ],
            [
             1,
             "#f0f921"
            ]
           ]
          },
          "colorway": [
           "#636efa",
           "#EF553B",
           "#00cc96",
           "#ab63fa",
           "#FFA15A",
           "#19d3f3",
           "#FF6692",
           "#B6E880",
           "#FF97FF",
           "#FECB52"
          ],
          "font": {
           "color": "#2a3f5f"
          },
          "geo": {
           "bgcolor": "white",
           "lakecolor": "white",
           "landcolor": "white",
           "showlakes": true,
           "showland": true,
           "subunitcolor": "#C8D4E3"
          },
          "hoverlabel": {
           "align": "left"
          },
          "hovermode": "closest",
          "mapbox": {
           "style": "light"
          },
          "paper_bgcolor": "white",
          "plot_bgcolor": "white",
          "polar": {
           "angularaxis": {
            "gridcolor": "#EBF0F8",
            "linecolor": "#EBF0F8",
            "ticks": ""
           },
           "bgcolor": "white",
           "radialaxis": {
            "gridcolor": "#EBF0F8",
            "linecolor": "#EBF0F8",
            "ticks": ""
           }
          },
          "scene": {
           "xaxis": {
            "backgroundcolor": "white",
            "gridcolor": "#DFE8F3",
            "gridwidth": 2,
            "linecolor": "#EBF0F8",
            "showbackground": true,
            "ticks": "",
            "zerolinecolor": "#EBF0F8"
           },
           "yaxis": {
            "backgroundcolor": "white",
            "gridcolor": "#DFE8F3",
            "gridwidth": 2,
            "linecolor": "#EBF0F8",
            "showbackground": true,
            "ticks": "",
            "zerolinecolor": "#EBF0F8"
           },
           "zaxis": {
            "backgroundcolor": "white",
            "gridcolor": "#DFE8F3",
            "gridwidth": 2,
            "linecolor": "#EBF0F8",
            "showbackground": true,
            "ticks": "",
            "zerolinecolor": "#EBF0F8"
           }
          },
          "shapedefaults": {
           "line": {
            "color": "#2a3f5f"
           }
          },
          "ternary": {
           "aaxis": {
            "gridcolor": "#DFE8F3",
            "linecolor": "#A2B1C6",
            "ticks": ""
           },
           "baxis": {
            "gridcolor": "#DFE8F3",
            "linecolor": "#A2B1C6",
            "ticks": ""
           },
           "bgcolor": "white",
           "caxis": {
            "gridcolor": "#DFE8F3",
            "linecolor": "#A2B1C6",
            "ticks": ""
           }
          },
          "title": {
           "x": 0.05
          },
          "xaxis": {
           "automargin": true,
           "gridcolor": "#EBF0F8",
           "linecolor": "#EBF0F8",
           "ticks": "",
           "title": {
            "standoff": 15
           },
           "zerolinecolor": "#EBF0F8",
           "zerolinewidth": 2
          },
          "yaxis": {
           "automargin": true,
           "gridcolor": "#EBF0F8",
           "linecolor": "#EBF0F8",
           "ticks": "",
           "title": {
            "standoff": 15
           },
           "zerolinecolor": "#EBF0F8",
           "zerolinewidth": 2
          }
         }
        },
        "title": {
         "text": "OWU Correlation Matrix among X variables"
        },
        "width": 1000,
        "xaxis": {
         "anchor": "y",
         "constrain": "domain",
         "domain": [
          0,
          1
         ],
         "scaleanchor": "y"
        },
        "yaxis": {
         "anchor": "x",
         "autorange": "reversed",
         "constrain": "domain",
         "domain": [
          0,
          1
         ]
        }
       }
      }
     },
     "metadata": {},
     "output_type": "display_data"
    }
   ],
   "source": [
    "plot_owu_correlation(owu)"
   ]
  },
  {
   "cell_type": "markdown",
   "metadata": {},
   "source": [
    "### Unnormalized PCA\n",
    "\n",
    "PCA is run on the OWU matrix, but without any variable normalization."
   ]
  },
  {
   "cell_type": "code",
   "execution_count": 8,
   "metadata": {},
   "outputs": [],
   "source": [
    "def plot_explained_variance_owu_raw(owu):\n",
    "    owu = owu.drop([\"timesteps\"], axis=1)\n",
    "    owupca = PCA()\n",
    "    owupca.fit(owu)\n",
    "    owupca_x = list(range(1, owupca.n_components_ + 1))\n",
    "\n",
    "    fig = px.line(\n",
    "        x=owupca_x,\n",
    "        y=np.cumsum(owupca.explained_variance_ratio_),\n",
    "        color=px.Constant(\"Cumulative explained variance\"),\n",
    "        labels=dict(\n",
    "            x=\"Principal component index\", y=\"Explained Variance Ratio\", color=\"Legend\"\n",
    "        ),\n",
    "    )\n",
    "    fig.add_bar(\n",
    "        x=owupca_x,\n",
    "        y=owupca.explained_variance_ratio_,\n",
    "        name=\"Individual explained variance\",\n",
    "    )\n",
    "    fig.update_layout(width=1000)\n",
    "    fig.show();"
   ]
  },
  {
   "cell_type": "code",
   "execution_count": 9,
   "metadata": {},
   "outputs": [
    {
     "data": {
      "application/vnd.plotly.v1+json": {
       "config": {
        "plotlyServerURL": "https://plot.ly"
       },
       "data": [
        {
         "hovertemplate": "Legend=Cumulative explained variance<br>Principal component index=%{x}<br>Explained Variance Ratio=%{y}<extra></extra>",
         "legendgroup": "Cumulative explained variance",
         "line": {
          "color": "#636efa",
          "dash": "solid"
         },
         "marker": {
          "symbol": "circle"
         },
         "mode": "lines",
         "name": "Cumulative explained variance",
         "orientation": "v",
         "showlegend": true,
         "type": "scatter",
         "x": [
          1,
          2,
          3,
          4,
          5
         ],
         "xaxis": "x",
         "y": [
          0.9947370178172907,
          0.9987418092943934,
          0.9997285039116104,
          0.9999539122842439,
          1.0000000000000002
         ],
         "yaxis": "y"
        },
        {
         "name": "Individual explained variance",
         "type": "bar",
         "x": [
          1,
          2,
          3,
          4,
          5
         ],
         "y": [
          0.9947370178172907,
          0.004004791477102659,
          0.0009866946172169561,
          0.00022540837263356256,
          0.000046087715756212953
         ]
        }
       ],
       "layout": {
        "legend": {
         "title": {
          "text": "Legend"
         },
         "tracegroupgap": 0
        },
        "margin": {
         "t": 60
        },
        "template": {
         "data": {
          "bar": [
           {
            "error_x": {
             "color": "#2a3f5f"
            },
            "error_y": {
             "color": "#2a3f5f"
            },
            "marker": {
             "line": {
              "color": "white",
              "width": 0.5
             },
             "pattern": {
              "fillmode": "overlay",
              "size": 10,
              "solidity": 0.2
             }
            },
            "type": "bar"
           }
          ],
          "barpolar": [
           {
            "marker": {
             "line": {
              "color": "white",
              "width": 0.5
             },
             "pattern": {
              "fillmode": "overlay",
              "size": 10,
              "solidity": 0.2
             }
            },
            "type": "barpolar"
           }
          ],
          "carpet": [
           {
            "aaxis": {
             "endlinecolor": "#2a3f5f",
             "gridcolor": "#C8D4E3",
             "linecolor": "#C8D4E3",
             "minorgridcolor": "#C8D4E3",
             "startlinecolor": "#2a3f5f"
            },
            "baxis": {
             "endlinecolor": "#2a3f5f",
             "gridcolor": "#C8D4E3",
             "linecolor": "#C8D4E3",
             "minorgridcolor": "#C8D4E3",
             "startlinecolor": "#2a3f5f"
            },
            "type": "carpet"
           }
          ],
          "choropleth": [
           {
            "colorbar": {
             "outlinewidth": 0,
             "ticks": ""
            },
            "type": "choropleth"
           }
          ],
          "contour": [
           {
            "colorbar": {
             "outlinewidth": 0,
             "ticks": ""
            },
            "colorscale": [
             [
              0,
              "#0d0887"
             ],
             [
              0.1111111111111111,
              "#46039f"
             ],
             [
              0.2222222222222222,
              "#7201a8"
             ],
             [
              0.3333333333333333,
              "#9c179e"
             ],
             [
              0.4444444444444444,
              "#bd3786"
             ],
             [
              0.5555555555555556,
              "#d8576b"
             ],
             [
              0.6666666666666666,
              "#ed7953"
             ],
             [
              0.7777777777777778,
              "#fb9f3a"
             ],
             [
              0.8888888888888888,
              "#fdca26"
             ],
             [
              1,
              "#f0f921"
             ]
            ],
            "type": "contour"
           }
          ],
          "contourcarpet": [
           {
            "colorbar": {
             "outlinewidth": 0,
             "ticks": ""
            },
            "type": "contourcarpet"
           }
          ],
          "heatmap": [
           {
            "colorbar": {
             "outlinewidth": 0,
             "ticks": ""
            },
            "colorscale": [
             [
              0,
              "#0d0887"
             ],
             [
              0.1111111111111111,
              "#46039f"
             ],
             [
              0.2222222222222222,
              "#7201a8"
             ],
             [
              0.3333333333333333,
              "#9c179e"
             ],
             [
              0.4444444444444444,
              "#bd3786"
             ],
             [
              0.5555555555555556,
              "#d8576b"
             ],
             [
              0.6666666666666666,
              "#ed7953"
             ],
             [
              0.7777777777777778,
              "#fb9f3a"
             ],
             [
              0.8888888888888888,
              "#fdca26"
             ],
             [
              1,
              "#f0f921"
             ]
            ],
            "type": "heatmap"
           }
          ],
          "heatmapgl": [
           {
            "colorbar": {
             "outlinewidth": 0,
             "ticks": ""
            },
            "colorscale": [
             [
              0,
              "#0d0887"
             ],
             [
              0.1111111111111111,
              "#46039f"
             ],
             [
              0.2222222222222222,
              "#7201a8"
             ],
             [
              0.3333333333333333,
              "#9c179e"
             ],
             [
              0.4444444444444444,
              "#bd3786"
             ],
             [
              0.5555555555555556,
              "#d8576b"
             ],
             [
              0.6666666666666666,
              "#ed7953"
             ],
             [
              0.7777777777777778,
              "#fb9f3a"
             ],
             [
              0.8888888888888888,
              "#fdca26"
             ],
             [
              1,
              "#f0f921"
             ]
            ],
            "type": "heatmapgl"
           }
          ],
          "histogram": [
           {
            "marker": {
             "pattern": {
              "fillmode": "overlay",
              "size": 10,
              "solidity": 0.2
             }
            },
            "type": "histogram"
           }
          ],
          "histogram2d": [
           {
            "colorbar": {
             "outlinewidth": 0,
             "ticks": ""
            },
            "colorscale": [
             [
              0,
              "#0d0887"
             ],
             [
              0.1111111111111111,
              "#46039f"
             ],
             [
              0.2222222222222222,
              "#7201a8"
             ],
             [
              0.3333333333333333,
              "#9c179e"
             ],
             [
              0.4444444444444444,
              "#bd3786"
             ],
             [
              0.5555555555555556,
              "#d8576b"
             ],
             [
              0.6666666666666666,
              "#ed7953"
             ],
             [
              0.7777777777777778,
              "#fb9f3a"
             ],
             [
              0.8888888888888888,
              "#fdca26"
             ],
             [
              1,
              "#f0f921"
             ]
            ],
            "type": "histogram2d"
           }
          ],
          "histogram2dcontour": [
           {
            "colorbar": {
             "outlinewidth": 0,
             "ticks": ""
            },
            "colorscale": [
             [
              0,
              "#0d0887"
             ],
             [
              0.1111111111111111,
              "#46039f"
             ],
             [
              0.2222222222222222,
              "#7201a8"
             ],
             [
              0.3333333333333333,
              "#9c179e"
             ],
             [
              0.4444444444444444,
              "#bd3786"
             ],
             [
              0.5555555555555556,
              "#d8576b"
             ],
             [
              0.6666666666666666,
              "#ed7953"
             ],
             [
              0.7777777777777778,
              "#fb9f3a"
             ],
             [
              0.8888888888888888,
              "#fdca26"
             ],
             [
              1,
              "#f0f921"
             ]
            ],
            "type": "histogram2dcontour"
           }
          ],
          "mesh3d": [
           {
            "colorbar": {
             "outlinewidth": 0,
             "ticks": ""
            },
            "type": "mesh3d"
           }
          ],
          "parcoords": [
           {
            "line": {
             "colorbar": {
              "outlinewidth": 0,
              "ticks": ""
             }
            },
            "type": "parcoords"
           }
          ],
          "pie": [
           {
            "automargin": true,
            "type": "pie"
           }
          ],
          "scatter": [
           {
            "fillpattern": {
             "fillmode": "overlay",
             "size": 10,
             "solidity": 0.2
            },
            "type": "scatter"
           }
          ],
          "scatter3d": [
           {
            "line": {
             "colorbar": {
              "outlinewidth": 0,
              "ticks": ""
             }
            },
            "marker": {
             "colorbar": {
              "outlinewidth": 0,
              "ticks": ""
             }
            },
            "type": "scatter3d"
           }
          ],
          "scattercarpet": [
           {
            "marker": {
             "colorbar": {
              "outlinewidth": 0,
              "ticks": ""
             }
            },
            "type": "scattercarpet"
           }
          ],
          "scattergeo": [
           {
            "marker": {
             "colorbar": {
              "outlinewidth": 0,
              "ticks": ""
             }
            },
            "type": "scattergeo"
           }
          ],
          "scattergl": [
           {
            "marker": {
             "colorbar": {
              "outlinewidth": 0,
              "ticks": ""
             }
            },
            "type": "scattergl"
           }
          ],
          "scattermapbox": [
           {
            "marker": {
             "colorbar": {
              "outlinewidth": 0,
              "ticks": ""
             }
            },
            "type": "scattermapbox"
           }
          ],
          "scatterpolar": [
           {
            "marker": {
             "colorbar": {
              "outlinewidth": 0,
              "ticks": ""
             }
            },
            "type": "scatterpolar"
           }
          ],
          "scatterpolargl": [
           {
            "marker": {
             "colorbar": {
              "outlinewidth": 0,
              "ticks": ""
             }
            },
            "type": "scatterpolargl"
           }
          ],
          "scatterternary": [
           {
            "marker": {
             "colorbar": {
              "outlinewidth": 0,
              "ticks": ""
             }
            },
            "type": "scatterternary"
           }
          ],
          "surface": [
           {
            "colorbar": {
             "outlinewidth": 0,
             "ticks": ""
            },
            "colorscale": [
             [
              0,
              "#0d0887"
             ],
             [
              0.1111111111111111,
              "#46039f"
             ],
             [
              0.2222222222222222,
              "#7201a8"
             ],
             [
              0.3333333333333333,
              "#9c179e"
             ],
             [
              0.4444444444444444,
              "#bd3786"
             ],
             [
              0.5555555555555556,
              "#d8576b"
             ],
             [
              0.6666666666666666,
              "#ed7953"
             ],
             [
              0.7777777777777778,
              "#fb9f3a"
             ],
             [
              0.8888888888888888,
              "#fdca26"
             ],
             [
              1,
              "#f0f921"
             ]
            ],
            "type": "surface"
           }
          ],
          "table": [
           {
            "cells": {
             "fill": {
              "color": "#EBF0F8"
             },
             "line": {
              "color": "white"
             }
            },
            "header": {
             "fill": {
              "color": "#C8D4E3"
             },
             "line": {
              "color": "white"
             }
            },
            "type": "table"
           }
          ]
         },
         "layout": {
          "annotationdefaults": {
           "arrowcolor": "#2a3f5f",
           "arrowhead": 0,
           "arrowwidth": 1
          },
          "autotypenumbers": "strict",
          "coloraxis": {
           "colorbar": {
            "outlinewidth": 0,
            "ticks": ""
           }
          },
          "colorscale": {
           "diverging": [
            [
             0,
             "#8e0152"
            ],
            [
             0.1,
             "#c51b7d"
            ],
            [
             0.2,
             "#de77ae"
            ],
            [
             0.3,
             "#f1b6da"
            ],
            [
             0.4,
             "#fde0ef"
            ],
            [
             0.5,
             "#f7f7f7"
            ],
            [
             0.6,
             "#e6f5d0"
            ],
            [
             0.7,
             "#b8e186"
            ],
            [
             0.8,
             "#7fbc41"
            ],
            [
             0.9,
             "#4d9221"
            ],
            [
             1,
             "#276419"
            ]
           ],
           "sequential": [
            [
             0,
             "#0d0887"
            ],
            [
             0.1111111111111111,
             "#46039f"
            ],
            [
             0.2222222222222222,
             "#7201a8"
            ],
            [
             0.3333333333333333,
             "#9c179e"
            ],
            [
             0.4444444444444444,
             "#bd3786"
            ],
            [
             0.5555555555555556,
             "#d8576b"
            ],
            [
             0.6666666666666666,
             "#ed7953"
            ],
            [
             0.7777777777777778,
             "#fb9f3a"
            ],
            [
             0.8888888888888888,
             "#fdca26"
            ],
            [
             1,
             "#f0f921"
            ]
           ],
           "sequentialminus": [
            [
             0,
             "#0d0887"
            ],
            [
             0.1111111111111111,
             "#46039f"
            ],
            [
             0.2222222222222222,
             "#7201a8"
            ],
            [
             0.3333333333333333,
             "#9c179e"
            ],
            [
             0.4444444444444444,
             "#bd3786"
            ],
            [
             0.5555555555555556,
             "#d8576b"
            ],
            [
             0.6666666666666666,
             "#ed7953"
            ],
            [
             0.7777777777777778,
             "#fb9f3a"
            ],
            [
             0.8888888888888888,
             "#fdca26"
            ],
            [
             1,
             "#f0f921"
            ]
           ]
          },
          "colorway": [
           "#636efa",
           "#EF553B",
           "#00cc96",
           "#ab63fa",
           "#FFA15A",
           "#19d3f3",
           "#FF6692",
           "#B6E880",
           "#FF97FF",
           "#FECB52"
          ],
          "font": {
           "color": "#2a3f5f"
          },
          "geo": {
           "bgcolor": "white",
           "lakecolor": "white",
           "landcolor": "white",
           "showlakes": true,
           "showland": true,
           "subunitcolor": "#C8D4E3"
          },
          "hoverlabel": {
           "align": "left"
          },
          "hovermode": "closest",
          "mapbox": {
           "style": "light"
          },
          "paper_bgcolor": "white",
          "plot_bgcolor": "white",
          "polar": {
           "angularaxis": {
            "gridcolor": "#EBF0F8",
            "linecolor": "#EBF0F8",
            "ticks": ""
           },
           "bgcolor": "white",
           "radialaxis": {
            "gridcolor": "#EBF0F8",
            "linecolor": "#EBF0F8",
            "ticks": ""
           }
          },
          "scene": {
           "xaxis": {
            "backgroundcolor": "white",
            "gridcolor": "#DFE8F3",
            "gridwidth": 2,
            "linecolor": "#EBF0F8",
            "showbackground": true,
            "ticks": "",
            "zerolinecolor": "#EBF0F8"
           },
           "yaxis": {
            "backgroundcolor": "white",
            "gridcolor": "#DFE8F3",
            "gridwidth": 2,
            "linecolor": "#EBF0F8",
            "showbackground": true,
            "ticks": "",
            "zerolinecolor": "#EBF0F8"
           },
           "zaxis": {
            "backgroundcolor": "white",
            "gridcolor": "#DFE8F3",
            "gridwidth": 2,
            "linecolor": "#EBF0F8",
            "showbackground": true,
            "ticks": "",
            "zerolinecolor": "#EBF0F8"
           }
          },
          "shapedefaults": {
           "line": {
            "color": "#2a3f5f"
           }
          },
          "ternary": {
           "aaxis": {
            "gridcolor": "#DFE8F3",
            "linecolor": "#A2B1C6",
            "ticks": ""
           },
           "baxis": {
            "gridcolor": "#DFE8F3",
            "linecolor": "#A2B1C6",
            "ticks": ""
           },
           "bgcolor": "white",
           "caxis": {
            "gridcolor": "#DFE8F3",
            "linecolor": "#A2B1C6",
            "ticks": ""
           }
          },
          "title": {
           "x": 0.05
          },
          "xaxis": {
           "automargin": true,
           "gridcolor": "#EBF0F8",
           "linecolor": "#EBF0F8",
           "ticks": "",
           "title": {
            "standoff": 15
           },
           "zerolinecolor": "#EBF0F8",
           "zerolinewidth": 2
          },
          "yaxis": {
           "automargin": true,
           "gridcolor": "#EBF0F8",
           "linecolor": "#EBF0F8",
           "ticks": "",
           "title": {
            "standoff": 15
           },
           "zerolinecolor": "#EBF0F8",
           "zerolinewidth": 2
          }
         }
        },
        "width": 1000,
        "xaxis": {
         "anchor": "y",
         "domain": [
          0,
          1
         ],
         "title": {
          "text": "Principal component index"
         }
        },
        "yaxis": {
         "anchor": "x",
         "domain": [
          0,
          1
         ],
         "title": {
          "text": "Explained Variance Ratio"
         }
        }
       }
      }
     },
     "metadata": {},
     "output_type": "display_data"
    }
   ],
   "source": [
    "plot_explained_variance_owu_raw(owu)"
   ]
  },
  {
   "cell_type": "markdown",
   "metadata": {},
   "source": [
    "### Normalized PCA\n",
    "\n",
    "- PCA is run on the OWU matrix, but this time the variables are first normalized with respect to their mean and standard deviation. \n",
    "- This ensures that each variable has equal contribution to the variance explained by the principal components\n"
   ]
  },
  {
   "cell_type": "code",
   "execution_count": 10,
   "metadata": {},
   "outputs": [],
   "source": [
    "def plot_explained_variance_owu(owu):\n",
    "    owu = owu.drop([\"timesteps\"], axis=1)\n",
    "    scaler = StandardScaler()\n",
    "    owu_normalized = scaler.fit_transform(owu)\n",
    "    # Run PCA on scaled data\n",
    "    owupca = PCA()\n",
    "    owupca.fit(owu_normalized)\n",
    "    owupca_x = list(range(1, owupca.n_components_ + 1))\n",
    "\n",
    "    fig = px.line(\n",
    "        x=owupca_x,\n",
    "        y=np.cumsum(owupca.explained_variance_ratio_),\n",
    "        color=px.Constant(\"Cumulative explained variance\"),\n",
    "        labels=dict(\n",
    "            x=\"Principal component index\", y=\"Explained Variance Ratio\", color=\"Legend\"\n",
    "        ),\n",
    "    )\n",
    "    fig.add_bar(\n",
    "        x=owupca_x,\n",
    "        y=owupca.explained_variance_ratio_,\n",
    "        name=\"Individual explained variance\",\n",
    "    )\n",
    "    fig.update_layout(width=1000,\n",
    "                      title='OWU PCA Explained Variance')\n",
    "    fig.show()"
   ]
  },
  {
   "cell_type": "code",
   "execution_count": 11,
   "metadata": {},
   "outputs": [
    {
     "data": {
      "application/vnd.plotly.v1+json": {
       "config": {
        "plotlyServerURL": "https://plot.ly"
       },
       "data": [
        {
         "hovertemplate": "Legend=Cumulative explained variance<br>Principal component index=%{x}<br>Explained Variance Ratio=%{y}<extra></extra>",
         "legendgroup": "Cumulative explained variance",
         "line": {
          "color": "#636efa",
          "dash": "solid"
         },
         "marker": {
          "symbol": "circle"
         },
         "mode": "lines",
         "name": "Cumulative explained variance",
         "orientation": "v",
         "showlegend": true,
         "type": "scatter",
         "x": [
          1,
          2,
          3,
          4,
          5
         ],
         "xaxis": "x",
         "y": [
          0.4679919903083731,
          0.7476516393397596,
          0.9349418561329164,
          0.9940654447200676,
          0.9999999999999999
         ],
         "yaxis": "y"
        },
        {
         "name": "Individual explained variance",
         "type": "bar",
         "x": [
          1,
          2,
          3,
          4,
          5
         ],
         "y": [
          0.4679919903083731,
          0.27965964903138657,
          0.1872902167931567,
          0.05912358858715127,
          0.005934555279932235
         ]
        }
       ],
       "layout": {
        "legend": {
         "title": {
          "text": "Legend"
         },
         "tracegroupgap": 0
        },
        "margin": {
         "t": 60
        },
        "template": {
         "data": {
          "bar": [
           {
            "error_x": {
             "color": "#2a3f5f"
            },
            "error_y": {
             "color": "#2a3f5f"
            },
            "marker": {
             "line": {
              "color": "white",
              "width": 0.5
             },
             "pattern": {
              "fillmode": "overlay",
              "size": 10,
              "solidity": 0.2
             }
            },
            "type": "bar"
           }
          ],
          "barpolar": [
           {
            "marker": {
             "line": {
              "color": "white",
              "width": 0.5
             },
             "pattern": {
              "fillmode": "overlay",
              "size": 10,
              "solidity": 0.2
             }
            },
            "type": "barpolar"
           }
          ],
          "carpet": [
           {
            "aaxis": {
             "endlinecolor": "#2a3f5f",
             "gridcolor": "#C8D4E3",
             "linecolor": "#C8D4E3",
             "minorgridcolor": "#C8D4E3",
             "startlinecolor": "#2a3f5f"
            },
            "baxis": {
             "endlinecolor": "#2a3f5f",
             "gridcolor": "#C8D4E3",
             "linecolor": "#C8D4E3",
             "minorgridcolor": "#C8D4E3",
             "startlinecolor": "#2a3f5f"
            },
            "type": "carpet"
           }
          ],
          "choropleth": [
           {
            "colorbar": {
             "outlinewidth": 0,
             "ticks": ""
            },
            "type": "choropleth"
           }
          ],
          "contour": [
           {
            "colorbar": {
             "outlinewidth": 0,
             "ticks": ""
            },
            "colorscale": [
             [
              0,
              "#0d0887"
             ],
             [
              0.1111111111111111,
              "#46039f"
             ],
             [
              0.2222222222222222,
              "#7201a8"
             ],
             [
              0.3333333333333333,
              "#9c179e"
             ],
             [
              0.4444444444444444,
              "#bd3786"
             ],
             [
              0.5555555555555556,
              "#d8576b"
             ],
             [
              0.6666666666666666,
              "#ed7953"
             ],
             [
              0.7777777777777778,
              "#fb9f3a"
             ],
             [
              0.8888888888888888,
              "#fdca26"
             ],
             [
              1,
              "#f0f921"
             ]
            ],
            "type": "contour"
           }
          ],
          "contourcarpet": [
           {
            "colorbar": {
             "outlinewidth": 0,
             "ticks": ""
            },
            "type": "contourcarpet"
           }
          ],
          "heatmap": [
           {
            "colorbar": {
             "outlinewidth": 0,
             "ticks": ""
            },
            "colorscale": [
             [
              0,
              "#0d0887"
             ],
             [
              0.1111111111111111,
              "#46039f"
             ],
             [
              0.2222222222222222,
              "#7201a8"
             ],
             [
              0.3333333333333333,
              "#9c179e"
             ],
             [
              0.4444444444444444,
              "#bd3786"
             ],
             [
              0.5555555555555556,
              "#d8576b"
             ],
             [
              0.6666666666666666,
              "#ed7953"
             ],
             [
              0.7777777777777778,
              "#fb9f3a"
             ],
             [
              0.8888888888888888,
              "#fdca26"
             ],
             [
              1,
              "#f0f921"
             ]
            ],
            "type": "heatmap"
           }
          ],
          "heatmapgl": [
           {
            "colorbar": {
             "outlinewidth": 0,
             "ticks": ""
            },
            "colorscale": [
             [
              0,
              "#0d0887"
             ],
             [
              0.1111111111111111,
              "#46039f"
             ],
             [
              0.2222222222222222,
              "#7201a8"
             ],
             [
              0.3333333333333333,
              "#9c179e"
             ],
             [
              0.4444444444444444,
              "#bd3786"
             ],
             [
              0.5555555555555556,
              "#d8576b"
             ],
             [
              0.6666666666666666,
              "#ed7953"
             ],
             [
              0.7777777777777778,
              "#fb9f3a"
             ],
             [
              0.8888888888888888,
              "#fdca26"
             ],
             [
              1,
              "#f0f921"
             ]
            ],
            "type": "heatmapgl"
           }
          ],
          "histogram": [
           {
            "marker": {
             "pattern": {
              "fillmode": "overlay",
              "size": 10,
              "solidity": 0.2
             }
            },
            "type": "histogram"
           }
          ],
          "histogram2d": [
           {
            "colorbar": {
             "outlinewidth": 0,
             "ticks": ""
            },
            "colorscale": [
             [
              0,
              "#0d0887"
             ],
             [
              0.1111111111111111,
              "#46039f"
             ],
             [
              0.2222222222222222,
              "#7201a8"
             ],
             [
              0.3333333333333333,
              "#9c179e"
             ],
             [
              0.4444444444444444,
              "#bd3786"
             ],
             [
              0.5555555555555556,
              "#d8576b"
             ],
             [
              0.6666666666666666,
              "#ed7953"
             ],
             [
              0.7777777777777778,
              "#fb9f3a"
             ],
             [
              0.8888888888888888,
              "#fdca26"
             ],
             [
              1,
              "#f0f921"
             ]
            ],
            "type": "histogram2d"
           }
          ],
          "histogram2dcontour": [
           {
            "colorbar": {
             "outlinewidth": 0,
             "ticks": ""
            },
            "colorscale": [
             [
              0,
              "#0d0887"
             ],
             [
              0.1111111111111111,
              "#46039f"
             ],
             [
              0.2222222222222222,
              "#7201a8"
             ],
             [
              0.3333333333333333,
              "#9c179e"
             ],
             [
              0.4444444444444444,
              "#bd3786"
             ],
             [
              0.5555555555555556,
              "#d8576b"
             ],
             [
              0.6666666666666666,
              "#ed7953"
             ],
             [
              0.7777777777777778,
              "#fb9f3a"
             ],
             [
              0.8888888888888888,
              "#fdca26"
             ],
             [
              1,
              "#f0f921"
             ]
            ],
            "type": "histogram2dcontour"
           }
          ],
          "mesh3d": [
           {
            "colorbar": {
             "outlinewidth": 0,
             "ticks": ""
            },
            "type": "mesh3d"
           }
          ],
          "parcoords": [
           {
            "line": {
             "colorbar": {
              "outlinewidth": 0,
              "ticks": ""
             }
            },
            "type": "parcoords"
           }
          ],
          "pie": [
           {
            "automargin": true,
            "type": "pie"
           }
          ],
          "scatter": [
           {
            "fillpattern": {
             "fillmode": "overlay",
             "size": 10,
             "solidity": 0.2
            },
            "type": "scatter"
           }
          ],
          "scatter3d": [
           {
            "line": {
             "colorbar": {
              "outlinewidth": 0,
              "ticks": ""
             }
            },
            "marker": {
             "colorbar": {
              "outlinewidth": 0,
              "ticks": ""
             }
            },
            "type": "scatter3d"
           }
          ],
          "scattercarpet": [
           {
            "marker": {
             "colorbar": {
              "outlinewidth": 0,
              "ticks": ""
             }
            },
            "type": "scattercarpet"
           }
          ],
          "scattergeo": [
           {
            "marker": {
             "colorbar": {
              "outlinewidth": 0,
              "ticks": ""
             }
            },
            "type": "scattergeo"
           }
          ],
          "scattergl": [
           {
            "marker": {
             "colorbar": {
              "outlinewidth": 0,
              "ticks": ""
             }
            },
            "type": "scattergl"
           }
          ],
          "scattermapbox": [
           {
            "marker": {
             "colorbar": {
              "outlinewidth": 0,
              "ticks": ""
             }
            },
            "type": "scattermapbox"
           }
          ],
          "scatterpolar": [
           {
            "marker": {
             "colorbar": {
              "outlinewidth": 0,
              "ticks": ""
             }
            },
            "type": "scatterpolar"
           }
          ],
          "scatterpolargl": [
           {
            "marker": {
             "colorbar": {
              "outlinewidth": 0,
              "ticks": ""
             }
            },
            "type": "scatterpolargl"
           }
          ],
          "scatterternary": [
           {
            "marker": {
             "colorbar": {
              "outlinewidth": 0,
              "ticks": ""
             }
            },
            "type": "scatterternary"
           }
          ],
          "surface": [
           {
            "colorbar": {
             "outlinewidth": 0,
             "ticks": ""
            },
            "colorscale": [
             [
              0,
              "#0d0887"
             ],
             [
              0.1111111111111111,
              "#46039f"
             ],
             [
              0.2222222222222222,
              "#7201a8"
             ],
             [
              0.3333333333333333,
              "#9c179e"
             ],
             [
              0.4444444444444444,
              "#bd3786"
             ],
             [
              0.5555555555555556,
              "#d8576b"
             ],
             [
              0.6666666666666666,
              "#ed7953"
             ],
             [
              0.7777777777777778,
              "#fb9f3a"
             ],
             [
              0.8888888888888888,
              "#fdca26"
             ],
             [
              1,
              "#f0f921"
             ]
            ],
            "type": "surface"
           }
          ],
          "table": [
           {
            "cells": {
             "fill": {
              "color": "#EBF0F8"
             },
             "line": {
              "color": "white"
             }
            },
            "header": {
             "fill": {
              "color": "#C8D4E3"
             },
             "line": {
              "color": "white"
             }
            },
            "type": "table"
           }
          ]
         },
         "layout": {
          "annotationdefaults": {
           "arrowcolor": "#2a3f5f",
           "arrowhead": 0,
           "arrowwidth": 1
          },
          "autotypenumbers": "strict",
          "coloraxis": {
           "colorbar": {
            "outlinewidth": 0,
            "ticks": ""
           }
          },
          "colorscale": {
           "diverging": [
            [
             0,
             "#8e0152"
            ],
            [
             0.1,
             "#c51b7d"
            ],
            [
             0.2,
             "#de77ae"
            ],
            [
             0.3,
             "#f1b6da"
            ],
            [
             0.4,
             "#fde0ef"
            ],
            [
             0.5,
             "#f7f7f7"
            ],
            [
             0.6,
             "#e6f5d0"
            ],
            [
             0.7,
             "#b8e186"
            ],
            [
             0.8,
             "#7fbc41"
            ],
            [
             0.9,
             "#4d9221"
            ],
            [
             1,
             "#276419"
            ]
           ],
           "sequential": [
            [
             0,
             "#0d0887"
            ],
            [
             0.1111111111111111,
             "#46039f"
            ],
            [
             0.2222222222222222,
             "#7201a8"
            ],
            [
             0.3333333333333333,
             "#9c179e"
            ],
            [
             0.4444444444444444,
             "#bd3786"
            ],
            [
             0.5555555555555556,
             "#d8576b"
            ],
            [
             0.6666666666666666,
             "#ed7953"
            ],
            [
             0.7777777777777778,
             "#fb9f3a"
            ],
            [
             0.8888888888888888,
             "#fdca26"
            ],
            [
             1,
             "#f0f921"
            ]
           ],
           "sequentialminus": [
            [
             0,
             "#0d0887"
            ],
            [
             0.1111111111111111,
             "#46039f"
            ],
            [
             0.2222222222222222,
             "#7201a8"
            ],
            [
             0.3333333333333333,
             "#9c179e"
            ],
            [
             0.4444444444444444,
             "#bd3786"
            ],
            [
             0.5555555555555556,
             "#d8576b"
            ],
            [
             0.6666666666666666,
             "#ed7953"
            ],
            [
             0.7777777777777778,
             "#fb9f3a"
            ],
            [
             0.8888888888888888,
             "#fdca26"
            ],
            [
             1,
             "#f0f921"
            ]
           ]
          },
          "colorway": [
           "#636efa",
           "#EF553B",
           "#00cc96",
           "#ab63fa",
           "#FFA15A",
           "#19d3f3",
           "#FF6692",
           "#B6E880",
           "#FF97FF",
           "#FECB52"
          ],
          "font": {
           "color": "#2a3f5f"
          },
          "geo": {
           "bgcolor": "white",
           "lakecolor": "white",
           "landcolor": "white",
           "showlakes": true,
           "showland": true,
           "subunitcolor": "#C8D4E3"
          },
          "hoverlabel": {
           "align": "left"
          },
          "hovermode": "closest",
          "mapbox": {
           "style": "light"
          },
          "paper_bgcolor": "white",
          "plot_bgcolor": "white",
          "polar": {
           "angularaxis": {
            "gridcolor": "#EBF0F8",
            "linecolor": "#EBF0F8",
            "ticks": ""
           },
           "bgcolor": "white",
           "radialaxis": {
            "gridcolor": "#EBF0F8",
            "linecolor": "#EBF0F8",
            "ticks": ""
           }
          },
          "scene": {
           "xaxis": {
            "backgroundcolor": "white",
            "gridcolor": "#DFE8F3",
            "gridwidth": 2,
            "linecolor": "#EBF0F8",
            "showbackground": true,
            "ticks": "",
            "zerolinecolor": "#EBF0F8"
           },
           "yaxis": {
            "backgroundcolor": "white",
            "gridcolor": "#DFE8F3",
            "gridwidth": 2,
            "linecolor": "#EBF0F8",
            "showbackground": true,
            "ticks": "",
            "zerolinecolor": "#EBF0F8"
           },
           "zaxis": {
            "backgroundcolor": "white",
            "gridcolor": "#DFE8F3",
            "gridwidth": 2,
            "linecolor": "#EBF0F8",
            "showbackground": true,
            "ticks": "",
            "zerolinecolor": "#EBF0F8"
           }
          },
          "shapedefaults": {
           "line": {
            "color": "#2a3f5f"
           }
          },
          "ternary": {
           "aaxis": {
            "gridcolor": "#DFE8F3",
            "linecolor": "#A2B1C6",
            "ticks": ""
           },
           "baxis": {
            "gridcolor": "#DFE8F3",
            "linecolor": "#A2B1C6",
            "ticks": ""
           },
           "bgcolor": "white",
           "caxis": {
            "gridcolor": "#DFE8F3",
            "linecolor": "#A2B1C6",
            "ticks": ""
           }
          },
          "title": {
           "x": 0.05
          },
          "xaxis": {
           "automargin": true,
           "gridcolor": "#EBF0F8",
           "linecolor": "#EBF0F8",
           "ticks": "",
           "title": {
            "standoff": 15
           },
           "zerolinecolor": "#EBF0F8",
           "zerolinewidth": 2
          },
          "yaxis": {
           "automargin": true,
           "gridcolor": "#EBF0F8",
           "linecolor": "#EBF0F8",
           "ticks": "",
           "title": {
            "standoff": 15
           },
           "zerolinecolor": "#EBF0F8",
           "zerolinewidth": 2
          }
         }
        },
        "title": {
         "text": "OWU PCA Explained Variance"
        },
        "width": 1000,
        "xaxis": {
         "anchor": "y",
         "domain": [
          0,
          1
         ],
         "title": {
          "text": "Principal component index"
         }
        },
        "yaxis": {
         "anchor": "x",
         "domain": [
          0,
          1
         ],
         "title": {
          "text": "Explained Variance Ratio"
         }
        }
       }
      }
     },
     "metadata": {},
     "output_type": "display_data"
    }
   ],
   "source": [
    "plot_explained_variance_owu(owu)"
   ]
  },
  {
   "cell_type": "markdown",
   "metadata": {},
   "source": [
    "### Plot scores and loadings"
   ]
  },
  {
   "cell_type": "code",
   "execution_count": 12,
   "metadata": {},
   "outputs": [],
   "source": [
    "def plot_scores_loadings_owu(\n",
    "    owu,\n",
    "    pc_x_axis=1,\n",
    "    pc_y_axis=2,\n",
    "    highlight_run=0,\n",
    "    highlight_type=\"Run_id\",\n",
    "    width=1200,\n",
    "    height=900,\n",
    "):\n",
    "    owu = owu.drop([\"timesteps\"], axis=1)\n",
    "    scaler = StandardScaler()\n",
    "    owu_normalized = scaler.fit_transform(owu)\n",
    "    # Run PCA on scaled data\n",
    "    owupca = PCA()\n",
    "    owupca.fit(owu_normalized)\n",
    "    owupca_x = list(range(1, owupca.n_components_ + 1))\n",
    "\n",
    "    # Run PCA analysis\n",
    "    owu_components = owupca.fit_transform(owu_normalized)\n",
    "    owu_loadings = owupca.components_.T * np.sqrt(owupca.explained_variance_)\n",
    "    owu_features = list(owu.columns)\n",
    "    owu_explained = owupca.explained_variance_ratio_\n",
    "\n",
    "    # Create 2 rows and 1 cols subplots\n",
    "    fig = make_subplots(\n",
    "        rows=2,\n",
    "        cols=1,\n",
    "        subplot_titles=[\"OWU PCA scores plot\", \"OWU PCA loadings plot\"],\n",
    "        vertical_spacing=0.08,\n",
    "    )\n",
    "\n",
    "    # Score plots\n",
    "    fig.add_trace(\n",
    "        go.Scatter(\n",
    "            x=[0, 0], y=[0, 0], mode=\"markers\", marker_color=\"black\", name=\"origin\"\n",
    "        ),\n",
    "        row=1,\n",
    "        col=1,\n",
    "    )\n",
    "    text_data = [\n",
    "        f\"Run {owu.index.get_level_values(0)[i]}, Time {owu.index.get_level_values(1)[i]}\"\n",
    "        for i in range(len(owu))\n",
    "    ]\n",
    "\n",
    "    # Score plots for highlight type\n",
    "    if highlight_type == \"Run_id\":\n",
    "        color_idx = owu.index.get_level_values(\"run\")\n",
    "    elif highlight_type == \"Time_id\":\n",
    "        color_idx = owu.index.get_level_values(\"time\")\n",
    "    elif highlight_type == \"Titer_14\":\n",
    "        color_idx = np.repeat(np.array(owu[\"X:Titer\"][:, 14]), 15)\n",
    "    # elif highlight_type in doe.columns:\n",
    "    #     color_idx = np.repeat(np.array(doe[highlight_type]), 15)\n",
    "    else:\n",
    "        color_idx = None\n",
    "    fig.add_trace(\n",
    "        go.Scatter(\n",
    "            x=owu_components[:, pc_x_axis - 1],\n",
    "            y=owu_components[:, pc_y_axis - 1],\n",
    "            mode=\"markers\",\n",
    "            marker=dict(size=10, color=color_idx, showscale=True),\n",
    "            marker_size=10,\n",
    "            text=text_data,\n",
    "            textposition=\"top center\",\n",
    "        ),\n",
    "        row=1,\n",
    "        col=1,\n",
    "    )\n",
    "\n",
    "    # Score plots for highlight run\n",
    "    highlight_run_ix = owu.index.get_level_values(\"run\") == highlight_run\n",
    "    fig.add_trace(\n",
    "        go.Scatter(\n",
    "            x=owu_components[highlight_run_ix, pc_x_axis - 1],\n",
    "            y=owu_components[highlight_run_ix, pc_y_axis - 1],\n",
    "            mode=\"lines+markers\",\n",
    "            marker_size=10,\n",
    "            marker_color=\"black\",\n",
    "            line_color=\"black\",\n",
    "            text=[\n",
    "                f\"Run {highlight_run}, Time {owu.index.get_level_values(1)[i]}\"\n",
    "                for i in range(len(owu))\n",
    "            ],\n",
    "            textposition=\"top center\",\n",
    "        ),\n",
    "        row=1,\n",
    "        col=1,\n",
    "    )\n",
    "\n",
    "    # Loading plots\n",
    "    fig.add_trace(\n",
    "        go.Scatter(\n",
    "            x=[0, 0], y=[0, 0], mode=\"markers\", marker_color=\"black\", name=\"origin\"\n",
    "        ),\n",
    "        row=2,\n",
    "        col=1,\n",
    "    )\n",
    "    for i, feature in enumerate(owu_features):\n",
    "        fig.add_shape(\n",
    "            type=\"line\",\n",
    "            x0=0,\n",
    "            y0=0,\n",
    "            x1=owu_loadings[i, pc_x_axis - 1],\n",
    "            y1=owu_loadings[i, pc_y_axis - 1],\n",
    "            row=2,\n",
    "            col=1,\n",
    "        )\n",
    "        fig.add_annotation(\n",
    "            x=owu_loadings[i, pc_x_axis - 1],\n",
    "            y=owu_loadings[i, pc_y_axis - 1],\n",
    "            ax=0,\n",
    "            ay=0,\n",
    "            xanchor=\"center\",\n",
    "            yanchor=\"bottom\",\n",
    "            text=feature,\n",
    "            row=2,\n",
    "            col=1,\n",
    "        )\n",
    "\n",
    "    fig.update_layout(width=width, height=height, showlegend=False)\n",
    "    fig.update_xaxes(\n",
    "        title=f\"Principal Component - {pc_x_axis} ({owu_explained[pc_x_axis-1].round(2)}%)\",\n",
    "        row=2,\n",
    "        col=1,\n",
    "    )\n",
    "    fig.update_yaxes(\n",
    "        title=f\"Principal Component - {pc_y_axis} ({owu_explained[pc_y_axis-1].round(2)}%)\",\n",
    "        row=1,\n",
    "        col=1,\n",
    "    )\n",
    "    fig.update_yaxes(\n",
    "        title=f\"Principal Component - {pc_y_axis} ({owu_explained[pc_y_axis-1].round(2)}%)\",\n",
    "        row=2,\n",
    "        col=1,\n",
    "    )\n",
    "    fig.show()\n",
    "\n",
    "    fig = make_subplots(\n",
    "        rows=1,\n",
    "        cols=2,\n",
    "        subplot_titles=(\n",
    "            \"OWU Loadings of Principal Component - \" + str(pc_x_axis),\n",
    "            \"OWU Loadings of Principal Component - \" + str(pc_y_axis),\n",
    "        ),\n",
    "    )\n",
    "    fig.add_bar(x=owu_features, y=owu_loadings[:, pc_x_axis - 1], row=1, col=1)\n",
    "    fig.add_bar(x=owu_features, y=owu_loadings[:, pc_y_axis - 1], row=1, col=2)\n",
    "    fig.update_layout(width=width, height=height / 2, showlegend=False)\n",
    "    fig.show()"
   ]
  },
  {
   "cell_type": "code",
   "execution_count": 13,
   "metadata": {},
   "outputs": [
    {
     "data": {
      "application/vnd.plotly.v1+json": {
       "config": {
        "plotlyServerURL": "https://plot.ly"
       },
       "data": [
        {
         "marker": {
          "color": "black"
         },
         "mode": "markers",
         "name": "origin",
         "type": "scatter",
         "x": [
          0,
          0
         ],
         "xaxis": "x",
         "y": [
          0,
          0
         ],
         "yaxis": "y"
        },
        {
         "marker": {
          "color": [
           0,
           1,
           2,
           3,
           4,
           5,
           6,
           7,
           8,
           9,
           10,
           11,
           12,
           13,
           14,
           0,
           1,
           2,
           3,
           4,
           5,
           6,
           7,
           8,
           9,
           10,
           11,
           12,
           13,
           14,
           0,
           1,
           2,
           3,
           4,
           5,
           6,
           7,
           8,
           9,
           10,
           11,
           12,
           13,
           14,
           0,
           1,
           2,
           3,
           4,
           5,
           6,
           7,
           8,
           9,
           10,
           11,
           12,
           13,
           14,
           0,
           1,
           2,
           3,
           4,
           5,
           6,
           7,
           8,
           9,
           10,
           11,
           12,
           13,
           14,
           0,
           1,
           2,
           3,
           4,
           5,
           6,
           7,
           8,
           9,
           10,
           11,
           12,
           13,
           14,
           0,
           1,
           2,
           3,
           4,
           5,
           6,
           7,
           8,
           9,
           10,
           11,
           12,
           13,
           14,
           0,
           1,
           2,
           3,
           4,
           5,
           6,
           7,
           8,
           9,
           10,
           11,
           12,
           13,
           14,
           0,
           1,
           2,
           3,
           4,
           5,
           6,
           7,
           8,
           9,
           10,
           11,
           12,
           13,
           14,
           0,
           1,
           2,
           3,
           4,
           5,
           6,
           7,
           8,
           9,
           10,
           11,
           12,
           13,
           14,
           0,
           1,
           2,
           3,
           4,
           5,
           6,
           7,
           8,
           9,
           10,
           11,
           12,
           13,
           14,
           0,
           1,
           2,
           3,
           4,
           5,
           6,
           7,
           8,
           9,
           10,
           11,
           12,
           13,
           14,
           0,
           1,
           2,
           3,
           4,
           5,
           6,
           7,
           8,
           9,
           10,
           11,
           12,
           13,
           14,
           0,
           1,
           2,
           3,
           4,
           5,
           6,
           7,
           8,
           9,
           10,
           11,
           12,
           13,
           14,
           0,
           1,
           2,
           3,
           4,
           5,
           6,
           7,
           8,
           9,
           10,
           11,
           12,
           13,
           14,
           0,
           1,
           2,
           3,
           4,
           5,
           6,
           7,
           8,
           9,
           10,
           11,
           12,
           13,
           14,
           0,
           1,
           2,
           3,
           4,
           5,
           6,
           7,
           8,
           9,
           10,
           11,
           12,
           13,
           14,
           0,
           1,
           2,
           3,
           4,
           5,
           6,
           7,
           8,
           9,
           10,
           11,
           12,
           13,
           14,
           0,
           1,
           2,
           3,
           4,
           5,
           6,
           7,
           8,
           9,
           10,
           11,
           12,
           13,
           14,
           0,
           1,
           2,
           3,
           4,
           5,
           6,
           7,
           8,
           9,
           10,
           11,
           12,
           13,
           14,
           0,
           1,
           2,
           3,
           4,
           5,
           6,
           7,
           8,
           9,
           10,
           11,
           12,
           13,
           14,
           0,
           1,
           2,
           3,
           4,
           5,
           6,
           7,
           8,
           9,
           10,
           11,
           12,
           13,
           14,
           0,
           1,
           2,
           3,
           4,
           5,
           6,
           7,
           8,
           9,
           10,
           11,
           12,
           13,
           14,
           0,
           1,
           2,
           3,
           4,
           5,
           6,
           7,
           8,
           9,
           10,
           11,
           12,
           13,
           14,
           0,
           1,
           2,
           3,
           4,
           5,
           6,
           7,
           8,
           9,
           10,
           11,
           12,
           13,
           14,
           0,
           1,
           2,
           3,
           4,
           5,
           6,
           7,
           8,
           9,
           10,
           11,
           12,
           13,
           14,
           0,
           1,
           2,
           3,
           4,
           5,
           6,
           7,
           8,
           9,
           10,
           11,
           12,
           13,
           14,
           0,
           1,
           2,
           3,
           4,
           5,
           6,
           7,
           8,
           9,
           10,
           11,
           12,
           13,
           14,
           0,
           1,
           2,
           3,
           4,
           5,
           6,
           7,
           8,
           9,
           10,
           11,
           12,
           13,
           14,
           0,
           1,
           2,
           3,
           4,
           5,
           6,
           7,
           8,
           9,
           10,
           11,
           12,
           13,
           14,
           0,
           1,
           2,
           3,
           4,
           5,
           6,
           7,
           8,
           9,
           10,
           11,
           12,
           13,
           14,
           0,
           1,
           2,
           3,
           4,
           5,
           6,
           7,
           8,
           9,
           10,
           11,
           12,
           13,
           14,
           0,
           1,
           2,
           3,
           4,
           5,
           6,
           7,
           8,
           9,
           10,
           11,
           12,
           13,
           14,
           0,
           1,
           2,
           3,
           4,
           5,
           6,
           7,
           8,
           9,
           10,
           11,
           12,
           13,
           14,
           0,
           1,
           2,
           3,
           4,
           5,
           6,
           7,
           8,
           9,
           10,
           11,
           12,
           13,
           14,
           0,
           1,
           2,
           3,
           4,
           5,
           6,
           7,
           8,
           9,
           10,
           11,
           12,
           13,
           14,
           0,
           1,
           2,
           3,
           4,
           5,
           6,
           7,
           8,
           9,
           10,
           11,
           12,
           13,
           14,
           0,
           1,
           2,
           3,
           4,
           5,
           6,
           7,
           8,
           9,
           10,
           11,
           12,
           13,
           14,
           0,
           1,
           2,
           3,
           4,
           5,
           6,
           7,
           8,
           9,
           10,
           11,
           12,
           13,
           14,
           0,
           1,
           2,
           3,
           4,
           5,
           6,
           7,
           8,
           9,
           10,
           11,
           12,
           13,
           14,
           0,
           1,
           2,
           3,
           4,
           5,
           6,
           7,
           8,
           9,
           10,
           11,
           12,
           13,
           14,
           0,
           1,
           2,
           3,
           4,
           5,
           6,
           7,
           8,
           9,
           10,
           11,
           12,
           13,
           14,
           0,
           1,
           2,
           3,
           4,
           5,
           6,
           7,
           8,
           9,
           10,
           11,
           12,
           13,
           14,
           0,
           1,
           2,
           3,
           4,
           5,
           6,
           7,
           8,
           9,
           10,
           11,
           12,
           13,
           14,
           0,
           1,
           2,
           3,
           4,
           5,
           6,
           7,
           8,
           9,
           10,
           11,
           12,
           13,
           14,
           0,
           1,
           2,
           3,
           4,
           5,
           6,
           7,
           8,
           9,
           10,
           11,
           12,
           13,
           14,
           0,
           1,
           2,
           3,
           4,
           5,
           6,
           7,
           8,
           9,
           10,
           11,
           12,
           13,
           14,
           0,
           1,
           2,
           3,
           4,
           5,
           6,
           7,
           8,
           9,
           10,
           11,
           12,
           13,
           14,
           0,
           1,
           2,
           3,
           4,
           5,
           6,
           7,
           8,
           9,
           10,
           11,
           12,
           13,
           14,
           0,
           1,
           2,
           3,
           4,
           5,
           6,
           7,
           8,
           9,
           10,
           11,
           12,
           13,
           14
          ],
          "showscale": true,
          "size": 10
         },
         "mode": "markers",
         "text": [
          "Run 0, Time 0",
          "Run 0, Time 1",
          "Run 0, Time 2",
          "Run 0, Time 3",
          "Run 0, Time 4",
          "Run 0, Time 5",
          "Run 0, Time 6",
          "Run 0, Time 7",
          "Run 0, Time 8",
          "Run 0, Time 9",
          "Run 0, Time 10",
          "Run 0, Time 11",
          "Run 0, Time 12",
          "Run 0, Time 13",
          "Run 0, Time 14",
          "Run 1, Time 0",
          "Run 1, Time 1",
          "Run 1, Time 2",
          "Run 1, Time 3",
          "Run 1, Time 4",
          "Run 1, Time 5",
          "Run 1, Time 6",
          "Run 1, Time 7",
          "Run 1, Time 8",
          "Run 1, Time 9",
          "Run 1, Time 10",
          "Run 1, Time 11",
          "Run 1, Time 12",
          "Run 1, Time 13",
          "Run 1, Time 14",
          "Run 2, Time 0",
          "Run 2, Time 1",
          "Run 2, Time 2",
          "Run 2, Time 3",
          "Run 2, Time 4",
          "Run 2, Time 5",
          "Run 2, Time 6",
          "Run 2, Time 7",
          "Run 2, Time 8",
          "Run 2, Time 9",
          "Run 2, Time 10",
          "Run 2, Time 11",
          "Run 2, Time 12",
          "Run 2, Time 13",
          "Run 2, Time 14",
          "Run 3, Time 0",
          "Run 3, Time 1",
          "Run 3, Time 2",
          "Run 3, Time 3",
          "Run 3, Time 4",
          "Run 3, Time 5",
          "Run 3, Time 6",
          "Run 3, Time 7",
          "Run 3, Time 8",
          "Run 3, Time 9",
          "Run 3, Time 10",
          "Run 3, Time 11",
          "Run 3, Time 12",
          "Run 3, Time 13",
          "Run 3, Time 14",
          "Run 4, Time 0",
          "Run 4, Time 1",
          "Run 4, Time 2",
          "Run 4, Time 3",
          "Run 4, Time 4",
          "Run 4, Time 5",
          "Run 4, Time 6",
          "Run 4, Time 7",
          "Run 4, Time 8",
          "Run 4, Time 9",
          "Run 4, Time 10",
          "Run 4, Time 11",
          "Run 4, Time 12",
          "Run 4, Time 13",
          "Run 4, Time 14",
          "Run 5, Time 0",
          "Run 5, Time 1",
          "Run 5, Time 2",
          "Run 5, Time 3",
          "Run 5, Time 4",
          "Run 5, Time 5",
          "Run 5, Time 6",
          "Run 5, Time 7",
          "Run 5, Time 8",
          "Run 5, Time 9",
          "Run 5, Time 10",
          "Run 5, Time 11",
          "Run 5, Time 12",
          "Run 5, Time 13",
          "Run 5, Time 14",
          "Run 6, Time 0",
          "Run 6, Time 1",
          "Run 6, Time 2",
          "Run 6, Time 3",
          "Run 6, Time 4",
          "Run 6, Time 5",
          "Run 6, Time 6",
          "Run 6, Time 7",
          "Run 6, Time 8",
          "Run 6, Time 9",
          "Run 6, Time 10",
          "Run 6, Time 11",
          "Run 6, Time 12",
          "Run 6, Time 13",
          "Run 6, Time 14",
          "Run 7, Time 0",
          "Run 7, Time 1",
          "Run 7, Time 2",
          "Run 7, Time 3",
          "Run 7, Time 4",
          "Run 7, Time 5",
          "Run 7, Time 6",
          "Run 7, Time 7",
          "Run 7, Time 8",
          "Run 7, Time 9",
          "Run 7, Time 10",
          "Run 7, Time 11",
          "Run 7, Time 12",
          "Run 7, Time 13",
          "Run 7, Time 14",
          "Run 8, Time 0",
          "Run 8, Time 1",
          "Run 8, Time 2",
          "Run 8, Time 3",
          "Run 8, Time 4",
          "Run 8, Time 5",
          "Run 8, Time 6",
          "Run 8, Time 7",
          "Run 8, Time 8",
          "Run 8, Time 9",
          "Run 8, Time 10",
          "Run 8, Time 11",
          "Run 8, Time 12",
          "Run 8, Time 13",
          "Run 8, Time 14",
          "Run 9, Time 0",
          "Run 9, Time 1",
          "Run 9, Time 2",
          "Run 9, Time 3",
          "Run 9, Time 4",
          "Run 9, Time 5",
          "Run 9, Time 6",
          "Run 9, Time 7",
          "Run 9, Time 8",
          "Run 9, Time 9",
          "Run 9, Time 10",
          "Run 9, Time 11",
          "Run 9, Time 12",
          "Run 9, Time 13",
          "Run 9, Time 14",
          "Run 10, Time 0",
          "Run 10, Time 1",
          "Run 10, Time 2",
          "Run 10, Time 3",
          "Run 10, Time 4",
          "Run 10, Time 5",
          "Run 10, Time 6",
          "Run 10, Time 7",
          "Run 10, Time 8",
          "Run 10, Time 9",
          "Run 10, Time 10",
          "Run 10, Time 11",
          "Run 10, Time 12",
          "Run 10, Time 13",
          "Run 10, Time 14",
          "Run 11, Time 0",
          "Run 11, Time 1",
          "Run 11, Time 2",
          "Run 11, Time 3",
          "Run 11, Time 4",
          "Run 11, Time 5",
          "Run 11, Time 6",
          "Run 11, Time 7",
          "Run 11, Time 8",
          "Run 11, Time 9",
          "Run 11, Time 10",
          "Run 11, Time 11",
          "Run 11, Time 12",
          "Run 11, Time 13",
          "Run 11, Time 14",
          "Run 12, Time 0",
          "Run 12, Time 1",
          "Run 12, Time 2",
          "Run 12, Time 3",
          "Run 12, Time 4",
          "Run 12, Time 5",
          "Run 12, Time 6",
          "Run 12, Time 7",
          "Run 12, Time 8",
          "Run 12, Time 9",
          "Run 12, Time 10",
          "Run 12, Time 11",
          "Run 12, Time 12",
          "Run 12, Time 13",
          "Run 12, Time 14",
          "Run 13, Time 0",
          "Run 13, Time 1",
          "Run 13, Time 2",
          "Run 13, Time 3",
          "Run 13, Time 4",
          "Run 13, Time 5",
          "Run 13, Time 6",
          "Run 13, Time 7",
          "Run 13, Time 8",
          "Run 13, Time 9",
          "Run 13, Time 10",
          "Run 13, Time 11",
          "Run 13, Time 12",
          "Run 13, Time 13",
          "Run 13, Time 14",
          "Run 14, Time 0",
          "Run 14, Time 1",
          "Run 14, Time 2",
          "Run 14, Time 3",
          "Run 14, Time 4",
          "Run 14, Time 5",
          "Run 14, Time 6",
          "Run 14, Time 7",
          "Run 14, Time 8",
          "Run 14, Time 9",
          "Run 14, Time 10",
          "Run 14, Time 11",
          "Run 14, Time 12",
          "Run 14, Time 13",
          "Run 14, Time 14",
          "Run 15, Time 0",
          "Run 15, Time 1",
          "Run 15, Time 2",
          "Run 15, Time 3",
          "Run 15, Time 4",
          "Run 15, Time 5",
          "Run 15, Time 6",
          "Run 15, Time 7",
          "Run 15, Time 8",
          "Run 15, Time 9",
          "Run 15, Time 10",
          "Run 15, Time 11",
          "Run 15, Time 12",
          "Run 15, Time 13",
          "Run 15, Time 14",
          "Run 16, Time 0",
          "Run 16, Time 1",
          "Run 16, Time 2",
          "Run 16, Time 3",
          "Run 16, Time 4",
          "Run 16, Time 5",
          "Run 16, Time 6",
          "Run 16, Time 7",
          "Run 16, Time 8",
          "Run 16, Time 9",
          "Run 16, Time 10",
          "Run 16, Time 11",
          "Run 16, Time 12",
          "Run 16, Time 13",
          "Run 16, Time 14",
          "Run 17, Time 0",
          "Run 17, Time 1",
          "Run 17, Time 2",
          "Run 17, Time 3",
          "Run 17, Time 4",
          "Run 17, Time 5",
          "Run 17, Time 6",
          "Run 17, Time 7",
          "Run 17, Time 8",
          "Run 17, Time 9",
          "Run 17, Time 10",
          "Run 17, Time 11",
          "Run 17, Time 12",
          "Run 17, Time 13",
          "Run 17, Time 14",
          "Run 18, Time 0",
          "Run 18, Time 1",
          "Run 18, Time 2",
          "Run 18, Time 3",
          "Run 18, Time 4",
          "Run 18, Time 5",
          "Run 18, Time 6",
          "Run 18, Time 7",
          "Run 18, Time 8",
          "Run 18, Time 9",
          "Run 18, Time 10",
          "Run 18, Time 11",
          "Run 18, Time 12",
          "Run 18, Time 13",
          "Run 18, Time 14",
          "Run 19, Time 0",
          "Run 19, Time 1",
          "Run 19, Time 2",
          "Run 19, Time 3",
          "Run 19, Time 4",
          "Run 19, Time 5",
          "Run 19, Time 6",
          "Run 19, Time 7",
          "Run 19, Time 8",
          "Run 19, Time 9",
          "Run 19, Time 10",
          "Run 19, Time 11",
          "Run 19, Time 12",
          "Run 19, Time 13",
          "Run 19, Time 14",
          "Run 20, Time 0",
          "Run 20, Time 1",
          "Run 20, Time 2",
          "Run 20, Time 3",
          "Run 20, Time 4",
          "Run 20, Time 5",
          "Run 20, Time 6",
          "Run 20, Time 7",
          "Run 20, Time 8",
          "Run 20, Time 9",
          "Run 20, Time 10",
          "Run 20, Time 11",
          "Run 20, Time 12",
          "Run 20, Time 13",
          "Run 20, Time 14",
          "Run 21, Time 0",
          "Run 21, Time 1",
          "Run 21, Time 2",
          "Run 21, Time 3",
          "Run 21, Time 4",
          "Run 21, Time 5",
          "Run 21, Time 6",
          "Run 21, Time 7",
          "Run 21, Time 8",
          "Run 21, Time 9",
          "Run 21, Time 10",
          "Run 21, Time 11",
          "Run 21, Time 12",
          "Run 21, Time 13",
          "Run 21, Time 14",
          "Run 22, Time 0",
          "Run 22, Time 1",
          "Run 22, Time 2",
          "Run 22, Time 3",
          "Run 22, Time 4",
          "Run 22, Time 5",
          "Run 22, Time 6",
          "Run 22, Time 7",
          "Run 22, Time 8",
          "Run 22, Time 9",
          "Run 22, Time 10",
          "Run 22, Time 11",
          "Run 22, Time 12",
          "Run 22, Time 13",
          "Run 22, Time 14",
          "Run 23, Time 0",
          "Run 23, Time 1",
          "Run 23, Time 2",
          "Run 23, Time 3",
          "Run 23, Time 4",
          "Run 23, Time 5",
          "Run 23, Time 6",
          "Run 23, Time 7",
          "Run 23, Time 8",
          "Run 23, Time 9",
          "Run 23, Time 10",
          "Run 23, Time 11",
          "Run 23, Time 12",
          "Run 23, Time 13",
          "Run 23, Time 14",
          "Run 24, Time 0",
          "Run 24, Time 1",
          "Run 24, Time 2",
          "Run 24, Time 3",
          "Run 24, Time 4",
          "Run 24, Time 5",
          "Run 24, Time 6",
          "Run 24, Time 7",
          "Run 24, Time 8",
          "Run 24, Time 9",
          "Run 24, Time 10",
          "Run 24, Time 11",
          "Run 24, Time 12",
          "Run 24, Time 13",
          "Run 24, Time 14",
          "Run 25, Time 0",
          "Run 25, Time 1",
          "Run 25, Time 2",
          "Run 25, Time 3",
          "Run 25, Time 4",
          "Run 25, Time 5",
          "Run 25, Time 6",
          "Run 25, Time 7",
          "Run 25, Time 8",
          "Run 25, Time 9",
          "Run 25, Time 10",
          "Run 25, Time 11",
          "Run 25, Time 12",
          "Run 25, Time 13",
          "Run 25, Time 14",
          "Run 26, Time 0",
          "Run 26, Time 1",
          "Run 26, Time 2",
          "Run 26, Time 3",
          "Run 26, Time 4",
          "Run 26, Time 5",
          "Run 26, Time 6",
          "Run 26, Time 7",
          "Run 26, Time 8",
          "Run 26, Time 9",
          "Run 26, Time 10",
          "Run 26, Time 11",
          "Run 26, Time 12",
          "Run 26, Time 13",
          "Run 26, Time 14",
          "Run 27, Time 0",
          "Run 27, Time 1",
          "Run 27, Time 2",
          "Run 27, Time 3",
          "Run 27, Time 4",
          "Run 27, Time 5",
          "Run 27, Time 6",
          "Run 27, Time 7",
          "Run 27, Time 8",
          "Run 27, Time 9",
          "Run 27, Time 10",
          "Run 27, Time 11",
          "Run 27, Time 12",
          "Run 27, Time 13",
          "Run 27, Time 14",
          "Run 28, Time 0",
          "Run 28, Time 1",
          "Run 28, Time 2",
          "Run 28, Time 3",
          "Run 28, Time 4",
          "Run 28, Time 5",
          "Run 28, Time 6",
          "Run 28, Time 7",
          "Run 28, Time 8",
          "Run 28, Time 9",
          "Run 28, Time 10",
          "Run 28, Time 11",
          "Run 28, Time 12",
          "Run 28, Time 13",
          "Run 28, Time 14",
          "Run 29, Time 0",
          "Run 29, Time 1",
          "Run 29, Time 2",
          "Run 29, Time 3",
          "Run 29, Time 4",
          "Run 29, Time 5",
          "Run 29, Time 6",
          "Run 29, Time 7",
          "Run 29, Time 8",
          "Run 29, Time 9",
          "Run 29, Time 10",
          "Run 29, Time 11",
          "Run 29, Time 12",
          "Run 29, Time 13",
          "Run 29, Time 14",
          "Run 30, Time 0",
          "Run 30, Time 1",
          "Run 30, Time 2",
          "Run 30, Time 3",
          "Run 30, Time 4",
          "Run 30, Time 5",
          "Run 30, Time 6",
          "Run 30, Time 7",
          "Run 30, Time 8",
          "Run 30, Time 9",
          "Run 30, Time 10",
          "Run 30, Time 11",
          "Run 30, Time 12",
          "Run 30, Time 13",
          "Run 30, Time 14",
          "Run 31, Time 0",
          "Run 31, Time 1",
          "Run 31, Time 2",
          "Run 31, Time 3",
          "Run 31, Time 4",
          "Run 31, Time 5",
          "Run 31, Time 6",
          "Run 31, Time 7",
          "Run 31, Time 8",
          "Run 31, Time 9",
          "Run 31, Time 10",
          "Run 31, Time 11",
          "Run 31, Time 12",
          "Run 31, Time 13",
          "Run 31, Time 14",
          "Run 32, Time 0",
          "Run 32, Time 1",
          "Run 32, Time 2",
          "Run 32, Time 3",
          "Run 32, Time 4",
          "Run 32, Time 5",
          "Run 32, Time 6",
          "Run 32, Time 7",
          "Run 32, Time 8",
          "Run 32, Time 9",
          "Run 32, Time 10",
          "Run 32, Time 11",
          "Run 32, Time 12",
          "Run 32, Time 13",
          "Run 32, Time 14",
          "Run 33, Time 0",
          "Run 33, Time 1",
          "Run 33, Time 2",
          "Run 33, Time 3",
          "Run 33, Time 4",
          "Run 33, Time 5",
          "Run 33, Time 6",
          "Run 33, Time 7",
          "Run 33, Time 8",
          "Run 33, Time 9",
          "Run 33, Time 10",
          "Run 33, Time 11",
          "Run 33, Time 12",
          "Run 33, Time 13",
          "Run 33, Time 14",
          "Run 34, Time 0",
          "Run 34, Time 1",
          "Run 34, Time 2",
          "Run 34, Time 3",
          "Run 34, Time 4",
          "Run 34, Time 5",
          "Run 34, Time 6",
          "Run 34, Time 7",
          "Run 34, Time 8",
          "Run 34, Time 9",
          "Run 34, Time 10",
          "Run 34, Time 11",
          "Run 34, Time 12",
          "Run 34, Time 13",
          "Run 34, Time 14",
          "Run 35, Time 0",
          "Run 35, Time 1",
          "Run 35, Time 2",
          "Run 35, Time 3",
          "Run 35, Time 4",
          "Run 35, Time 5",
          "Run 35, Time 6",
          "Run 35, Time 7",
          "Run 35, Time 8",
          "Run 35, Time 9",
          "Run 35, Time 10",
          "Run 35, Time 11",
          "Run 35, Time 12",
          "Run 35, Time 13",
          "Run 35, Time 14",
          "Run 36, Time 0",
          "Run 36, Time 1",
          "Run 36, Time 2",
          "Run 36, Time 3",
          "Run 36, Time 4",
          "Run 36, Time 5",
          "Run 36, Time 6",
          "Run 36, Time 7",
          "Run 36, Time 8",
          "Run 36, Time 9",
          "Run 36, Time 10",
          "Run 36, Time 11",
          "Run 36, Time 12",
          "Run 36, Time 13",
          "Run 36, Time 14",
          "Run 37, Time 0",
          "Run 37, Time 1",
          "Run 37, Time 2",
          "Run 37, Time 3",
          "Run 37, Time 4",
          "Run 37, Time 5",
          "Run 37, Time 6",
          "Run 37, Time 7",
          "Run 37, Time 8",
          "Run 37, Time 9",
          "Run 37, Time 10",
          "Run 37, Time 11",
          "Run 37, Time 12",
          "Run 37, Time 13",
          "Run 37, Time 14",
          "Run 38, Time 0",
          "Run 38, Time 1",
          "Run 38, Time 2",
          "Run 38, Time 3",
          "Run 38, Time 4",
          "Run 38, Time 5",
          "Run 38, Time 6",
          "Run 38, Time 7",
          "Run 38, Time 8",
          "Run 38, Time 9",
          "Run 38, Time 10",
          "Run 38, Time 11",
          "Run 38, Time 12",
          "Run 38, Time 13",
          "Run 38, Time 14",
          "Run 39, Time 0",
          "Run 39, Time 1",
          "Run 39, Time 2",
          "Run 39, Time 3",
          "Run 39, Time 4",
          "Run 39, Time 5",
          "Run 39, Time 6",
          "Run 39, Time 7",
          "Run 39, Time 8",
          "Run 39, Time 9",
          "Run 39, Time 10",
          "Run 39, Time 11",
          "Run 39, Time 12",
          "Run 39, Time 13",
          "Run 39, Time 14",
          "Run 40, Time 0",
          "Run 40, Time 1",
          "Run 40, Time 2",
          "Run 40, Time 3",
          "Run 40, Time 4",
          "Run 40, Time 5",
          "Run 40, Time 6",
          "Run 40, Time 7",
          "Run 40, Time 8",
          "Run 40, Time 9",
          "Run 40, Time 10",
          "Run 40, Time 11",
          "Run 40, Time 12",
          "Run 40, Time 13",
          "Run 40, Time 14",
          "Run 41, Time 0",
          "Run 41, Time 1",
          "Run 41, Time 2",
          "Run 41, Time 3",
          "Run 41, Time 4",
          "Run 41, Time 5",
          "Run 41, Time 6",
          "Run 41, Time 7",
          "Run 41, Time 8",
          "Run 41, Time 9",
          "Run 41, Time 10",
          "Run 41, Time 11",
          "Run 41, Time 12",
          "Run 41, Time 13",
          "Run 41, Time 14",
          "Run 42, Time 0",
          "Run 42, Time 1",
          "Run 42, Time 2",
          "Run 42, Time 3",
          "Run 42, Time 4",
          "Run 42, Time 5",
          "Run 42, Time 6",
          "Run 42, Time 7",
          "Run 42, Time 8",
          "Run 42, Time 9",
          "Run 42, Time 10",
          "Run 42, Time 11",
          "Run 42, Time 12",
          "Run 42, Time 13",
          "Run 42, Time 14",
          "Run 43, Time 0",
          "Run 43, Time 1",
          "Run 43, Time 2",
          "Run 43, Time 3",
          "Run 43, Time 4",
          "Run 43, Time 5",
          "Run 43, Time 6",
          "Run 43, Time 7",
          "Run 43, Time 8",
          "Run 43, Time 9",
          "Run 43, Time 10",
          "Run 43, Time 11",
          "Run 43, Time 12",
          "Run 43, Time 13",
          "Run 43, Time 14",
          "Run 44, Time 0",
          "Run 44, Time 1",
          "Run 44, Time 2",
          "Run 44, Time 3",
          "Run 44, Time 4",
          "Run 44, Time 5",
          "Run 44, Time 6",
          "Run 44, Time 7",
          "Run 44, Time 8",
          "Run 44, Time 9",
          "Run 44, Time 10",
          "Run 44, Time 11",
          "Run 44, Time 12",
          "Run 44, Time 13",
          "Run 44, Time 14",
          "Run 45, Time 0",
          "Run 45, Time 1",
          "Run 45, Time 2",
          "Run 45, Time 3",
          "Run 45, Time 4",
          "Run 45, Time 5",
          "Run 45, Time 6",
          "Run 45, Time 7",
          "Run 45, Time 8",
          "Run 45, Time 9",
          "Run 45, Time 10",
          "Run 45, Time 11",
          "Run 45, Time 12",
          "Run 45, Time 13",
          "Run 45, Time 14",
          "Run 46, Time 0",
          "Run 46, Time 1",
          "Run 46, Time 2",
          "Run 46, Time 3",
          "Run 46, Time 4",
          "Run 46, Time 5",
          "Run 46, Time 6",
          "Run 46, Time 7",
          "Run 46, Time 8",
          "Run 46, Time 9",
          "Run 46, Time 10",
          "Run 46, Time 11",
          "Run 46, Time 12",
          "Run 46, Time 13",
          "Run 46, Time 14",
          "Run 47, Time 0",
          "Run 47, Time 1",
          "Run 47, Time 2",
          "Run 47, Time 3",
          "Run 47, Time 4",
          "Run 47, Time 5",
          "Run 47, Time 6",
          "Run 47, Time 7",
          "Run 47, Time 8",
          "Run 47, Time 9",
          "Run 47, Time 10",
          "Run 47, Time 11",
          "Run 47, Time 12",
          "Run 47, Time 13",
          "Run 47, Time 14",
          "Run 48, Time 0",
          "Run 48, Time 1",
          "Run 48, Time 2",
          "Run 48, Time 3",
          "Run 48, Time 4",
          "Run 48, Time 5",
          "Run 48, Time 6",
          "Run 48, Time 7",
          "Run 48, Time 8",
          "Run 48, Time 9",
          "Run 48, Time 10",
          "Run 48, Time 11",
          "Run 48, Time 12",
          "Run 48, Time 13",
          "Run 48, Time 14",
          "Run 49, Time 0",
          "Run 49, Time 1",
          "Run 49, Time 2",
          "Run 49, Time 3",
          "Run 49, Time 4",
          "Run 49, Time 5",
          "Run 49, Time 6",
          "Run 49, Time 7",
          "Run 49, Time 8",
          "Run 49, Time 9",
          "Run 49, Time 10",
          "Run 49, Time 11",
          "Run 49, Time 12",
          "Run 49, Time 13",
          "Run 49, Time 14"
         ],
         "textposition": "top center",
         "type": "scatter",
         "x": [
          -0.6487955767400817,
          -0.6967210328115215,
          -1.6393124098346263,
          -1.828606245651543,
          -1.8864338831330405,
          -1.6077011799298948,
          -1.0634337242420586,
          -0.4261800029041536,
          0.17734191425522342,
          0.6879165315466456,
          1.916349954097234,
          2.2654573324112457,
          2.5293671410234126,
          2.725725327331337,
          2.8700920760246604,
          -0.6175470788439369,
          -1.8714009841510575,
          -1.9434488805922907,
          -2.1552281120042465,
          -2.349863066855078,
          -2.2783611673553037,
          -1.8856252490406287,
          -1.3523804299671691,
          -0.8565099416138232,
          -0.4973345857857791,
          0.935971474551258,
          1.0756612108917565,
          1.161751446601828,
          1.2085522139570188,
          1.2338678053744232,
          -0.5240308849727875,
          -0.5348822081068012,
          -0.5664641952064479,
          -1.6121755704935938,
          -1.7881971767431917,
          -1.9349353046770392,
          -1.8280023882168766,
          -1.4231483436947654,
          -0.853058624596649,
          0.7045593176563543,
          1.2668429582113314,
          1.7476316851987848,
          2.0819860635235625,
          2.263466715250811,
          2.378197003002844,
          -0.6757231138020867,
          -0.7472673018734974,
          -0.9002772656680911,
          -2.0718085112536118,
          -1.9849364517155725,
          -1.5825227518322922,
          -0.981101762001444,
          -0.3487690691665075,
          0.21576729016196505,
          1.7029351110925626,
          2.1112422309681467,
          2.4242038257444256,
          2.658385294416731,
          2.8307801324452195,
          2.956043667609427,
          -0.5989898772388824,
          -1.117279649442215,
          -1.2270260527092667,
          -1.4154732274315374,
          -1.5159487518788615,
          -1.3099483041220004,
          -0.8036764277114608,
          -0.1635667047413239,
          0.3986121333273348,
          1.253479999660443,
          1.5245924355133738,
          1.6862727134700892,
          1.7895644106614657,
          1.855226913586816,
          1.8968430600560588,
          -0.6406686365650855,
          -0.676325048506966,
          -0.770082480659642,
          -1.4737501481467927,
          -1.5694901071334073,
          -1.37441941564307,
          -0.876777985032532,
          -0.2421631713341816,
          0.3481678051105012,
          1.2880724623905588,
          1.5606647191594094,
          1.7267971310917487,
          1.8328480933436457,
          1.9002069342826513,
          1.9428610735858232,
          -0.7514545783080973,
          -1.953298103137689,
          -2.158425181693333,
          -2.322044682344493,
          -2.18428369806255,
          -1.7804430795181743,
          -1.3302160539572254,
          -0.9762502343748806,
          0.37694862611117486,
          0.5309563875641556,
          0.6414519434029297,
          0.7069076175765682,
          0.7452432932560218,
          0.7675519032926891,
          0.7804866916335125,
          -0.5400131791114572,
          -0.6049711623422006,
          -1.669106185424852,
          -1.7608524705676958,
          -1.7390698327129843,
          -1.4714020361515276,
          -1.0194074575451588,
          -0.5092091897475456,
          0.9166248197125523,
          1.3712476548107566,
          1.6676108128750653,
          1.8448188973730348,
          1.9582533120377925,
          2.0304618683159665,
          2.0762741728001006,
          -0.5705314911617234,
          -0.5960237158607617,
          -1.2686807874643686,
          -1.4163499839841853,
          -1.5742645437017864,
          -1.495728847591017,
          -1.097445564463625,
          -0.5081088439925225,
          0.06105806887877261,
          0.4654781793462337,
          0.7750983625692486,
          1.6122733746216327,
          1.8018874764867365,
          1.9608779340163782,
          2.0790519916118955,
          -0.7446150918662959,
          -0.7679765998058771,
          -1.194230196697997,
          -1.343051788099251,
          -1.479931284880739,
          -1.3931281254073584,
          -1.0336021146433985,
          -0.5059661532761452,
          0.07068849036817797,
          0.9727174197307946,
          1.4532332114821878,
          1.8468719890838332,
          2.152634396783979,
          2.3726773119878306,
          2.487513797989562,
          -0.5740799797559437,
          -0.6203037421725535,
          -1.3948352665879022,
          -1.5874313674147758,
          -1.6429552613050562,
          -1.375453842110654,
          -0.8420003667092195,
          -0.21920484494772804,
          0.31915099237457134,
          1.3778938008170685,
          1.681065386427324,
          1.92934318391578,
          2.0604553662675373,
          2.143524410129301,
          2.196003306486654,
          -0.7156417242958603,
          -0.743794874802598,
          -0.8212233950657081,
          -1.3510502836932525,
          -1.4819089762457558,
          -1.3553545690110946,
          -0.9222119370686789,
          -0.3139398674602358,
          0.32148939634737617,
          0.890866070147715,
          1.7344499548301675,
          2.087256503834818,
          2.3189765410684275,
          2.448119590556199,
          2.529325684673668,
          -0.685895884485509,
          -0.7416629875569867,
          -0.8725886125149088,
          -1.7394556907761696,
          -1.7232623088910055,
          -1.385738290261974,
          -0.8046520133557123,
          -0.15625018633078658,
          0.4392739491498672,
          0.9312098988324353,
          2.0174180524555076,
          2.3354032835582417,
          2.5769367418877787,
          2.749120629344094,
          2.8513998648926964,
          -0.6576808936903091,
          -1.5714939376642256,
          -1.7670672821952402,
          -1.9613852332135813,
          -1.9006164156848424,
          -1.502441680577926,
          -0.9119086398520129,
          -0.28985620615184365,
          0.269025755105876,
          0.7274755947735534,
          1.0814537927617305,
          2.1872856477590994,
          2.4020257053831355,
          2.558357847712266,
          2.667791319414413,
          -0.7311231324059329,
          -1.5705873352083606,
          -1.760111985255291,
          -1.9254760164487148,
          -1.8097818574682387,
          -1.3943234603562542,
          -0.8406019027882647,
          -0.2839043028491926,
          0.20517559092021043,
          1.3654992988243793,
          1.6762315977157118,
          1.9239571537302702,
          2.101071112255353,
          2.2291818586980847,
          2.322319255592713,
          -0.6116952689946505,
          -0.651577938125855,
          -0.7531784135823039,
          -1.780552218342924,
          -1.830614659054861,
          -1.613479839347931,
          -1.120553570953227,
          -0.5199164797770892,
          0.04980458017369318,
          0.5281363776663985,
          0.9061526766857946,
          2.0584443144484346,
          2.2976606061881295,
          2.492383548960022,
          2.6373172331691914,
          -0.685137507710273,
          -0.7318964528980538,
          -0.847559205102,
          -1.940494569377073,
          -1.9631950579813495,
          -1.6988456619264491,
          -1.1644598202214618,
          -0.5328369305993175,
          0.06706867677694896,
          0.5747805377912998,
          1.9015545641432499,
          2.2032851997933363,
          2.469822839380981,
          2.667065000451953,
          2.8119828733058596,
          -0.5334170879516139,
          -1.8287881678709605,
          -1.9397603830047854,
          -2.1611004559591507,
          -2.2585095162406668,
          -2.0428420439294537,
          -1.5550476971682234,
          -0.9575498838832869,
          -0.38030206914204523,
          0.11202538031119609,
          0.5008691202345102,
          2.0370000311877883,
          2.229139454338708,
          2.367579077467331,
          2.4407058185839436,
          -0.5748383565311792,
          -0.6294198456172735,
          -1.5583834870055342,
          -1.7097212276618188,
          -1.717426528126069,
          -1.4084382120344392,
          -0.8735957063701094,
          -0.29455434952232845,
          1.004353423870267,
          1.3615750339718762,
          1.5777029120110118,
          1.7168711706820368,
          1.8058324170310156,
          1.8624543728205132,
          1.898398399556623,
          -0.7867806417564168,
          -0.857395427365378,
          -2.1734128606589933,
          -2.34196065487831,
          -2.2352289658253053,
          -1.829442638757862,
          -1.3414570021435546,
          -0.9386910762414269,
          -0.6768275372974146,
          0.6309824291971275,
          0.7240593747864073,
          0.7940788185604908,
          0.8339928470714877,
          0.8566035666140505,
          0.8693687868245823,
          -0.6292225076131508,
          -0.6870957800123018,
          -2.0292222383763083,
          -2.243807309803238,
          -2.268277289525155,
          -1.944453899704624,
          -1.3848611840658624,
          -0.7658075575100645,
          -0.201006490787993,
          1.4708759843942143,
          1.8383311108147067,
          2.1130283279144644,
          2.293912363904851,
          2.4161634395628306,
          2.4999750077883807,
          -0.5087787766799943,
          -0.5277374143008898,
          -0.9183808255078586,
          -1.041630196914248,
          -1.1857397874042588,
          -1.1567027355987187,
          -0.8005309339890975,
          -0.4697933530744184,
          0.12500203440100788,
          0.31383108507971624,
          0.4424338218189696,
          0.5302578183102212,
          0.5896865866281165,
          0.6296690813739486,
          0.6564687213818123,
          -0.687155147289342,
          -0.7672335098596724,
          -2.2201745648349616,
          -2.378296198919062,
          -2.292300421448401,
          -1.8623934390641133,
          -1.2542561179998393,
          -0.634866383530313,
          1.1947221056204664,
          1.6590253345465351,
          2.005553199444582,
          2.2577909161595966,
          2.4426608225416895,
          2.578166252399434,
          2.67730787939861,
          -0.5478967240044924,
          -1.2497228336491484,
          -1.386259819067953,
          -1.5617493707737775,
          -1.5437466869798326,
          -1.201599951748512,
          -0.6463996691568954,
          -0.18575209411885132,
          0.17301437437212902,
          0.45476535826959563,
          0.6749597694933046,
          1.4873288404589353,
          1.6240756334200697,
          1.7513756841704924,
          1.8498222604376997,
          -0.5839952596927273,
          -0.621832679034501,
          -0.7183519544249771,
          -2.1445769810845787,
          -2.2493775052836,
          -2.087557263432136,
          -1.6379020456860938,
          -1.0532293390419911,
          -0.4711501642223684,
          0.034572757431031685,
          0.43954833501134094,
          2.0159246025725337,
          2.279872598255679,
          2.4594613603859115,
          2.5798968663034008,
          -0.5557802688975273,
          -0.6051179487712826,
          -1.5438384100449345,
          -1.6866150664546298,
          -1.7156289246428744,
          -1.4502144793271496,
          -0.9553447217992649,
          -0.40719184863466873,
          0.06715809515494772,
          0.4515897542486872,
          0.7552503416414577,
          1.8129206762850523,
          2.0169985928660124,
          2.1846957117078984,
          2.3118130393481264,
          -0.6531306330388948,
          -1.087482574998852,
          -1.149204388863794,
          -1.2735921403645818,
          -1.4521327140692581,
          -1.5165634415078328,
          -1.2869119140287917,
          -0.7949935741991749,
          -0.1839864087084534,
          0.42115860056724574,
          1.3717148924900977,
          1.8075115115068563,
          2.1602603478557363,
          2.4003654283874414,
          2.526780043063972,
          -0.7517120690547355,
          -0.8180571261170355,
          -0.9627001976722797,
          -1.6104914614153374,
          -1.5292859102140874,
          -1.1363039745211692,
          -0.5289779316357038,
          0.12567685407850687,
          0.7189692202603521,
          1.2045786089452735,
          1.5776827491032248,
          2.3560094615312313,
          2.581260816206495,
          2.7443493420398912,
          2.851328372029447,
          -0.7433417335977832,
          -0.7731471418394206,
          -0.8539534680326891,
          -1.7877858036686312,
          -1.915133160747468,
          -1.775297363177636,
          -1.3582006868251928,
          -0.8170652492849745,
          0.5065571310983799,
          0.99537568542154,
          1.4078666775222266,
          1.734908598077539,
          1.9905599586823124,
          2.1875677538498874,
          2.3376159805223815,
          -0.6086335709643478,
          -0.6743233987062525,
          -1.8642205887699923,
          -2.0071771128408153,
          -1.9758736625160847,
          -1.6151728961183844,
          -1.0469120884126957,
          -0.43502337791799967,
          1.1665664629567474,
          1.6408713474413794,
          2.0512607968181755,
          2.3653936502923907,
          2.5966221597791996,
          2.7460610850878027,
          2.8239968375634374,
          -0.5390255025189421,
          -1.8587311943510108,
          -1.9412130842276636,
          -2.0936587451437707,
          -2.3132413378105823,
          -2.459870349319604,
          -2.3046885096642074,
          -1.9014509168243918,
          -0.1594593126967632,
          0.22207538659868123,
          0.4901268896075124,
          0.662579831900827,
          0.7713669175354472,
          0.8394693354987703,
          0.8819807070402539,
          -0.5590853622097888,
          -0.6059533863674579,
          -1.1575200394456537,
          -1.3077231504787385,
          -1.3220849560333543,
          -0.9839671198185158,
          -0.5826765571889072,
          -0.27118825859177503,
          -0.02918204465502346,
          0.1624613527059803,
          0.7585575689981857,
          0.8951449945982562,
          1.020554700753633,
          1.120870503566341,
          1.1927150003822713,
          -0.7278180390936714,
          -0.8055245453586151,
          -0.9654906611623866,
          -2.2884213675973357,
          -2.1675066233814344,
          -1.7491356418359703,
          -1.1432662113119665,
          -0.5159763346323258,
          0.03831529594232048,
          0.4854837102780272,
          0.8246217736768688,
          2.2532433417342475,
          2.4156272713233755,
          2.526856410521029,
          2.5855971774848094,
          -0.5237733942261484,
          -0.5420737507529477,
          -0.5925562387672297,
          -1.324288415683589,
          -1.4483851025574046,
          -1.4392035564021441,
          -1.1378545871402077,
          -0.7197830431078067,
          -0.3782533392654514,
          -0.0970418792746057,
          0.762270583523438,
          0.9722170332514849,
          1.1682170450056533,
          1.3224442937954293,
          1.4116648502484999,
          -0.7542587855917611,
          -1.916926754200774,
          -2.062455799390103,
          -2.262960580064719,
          -2.228356103497038,
          -1.8895787318156345,
          -1.4387521455280663,
          -1.049964264471952,
          0.3220504471725419,
          0.4750511892829964,
          0.604791874848354,
          0.6820944056782993,
          0.7275236286054132,
          0.7540156181164244,
          0.7693967810791726,
          -0.7692393076732363,
          -1.5969171481270585,
          -1.784209788144589,
          -1.9218750028254414,
          -1.7576587810291457,
          -1.3223152019632687,
          -0.7867375299254228,
          -0.2711865900552523,
          0.16833621034355153,
          1.2584063462173123,
          1.517267123807707,
          1.7168670393187748,
          1.8490698646239596,
          1.9384274010402165,
          1.9995871684345576,
          -0.6073743081605146,
          -1.5547053980266872,
          -1.6837706554247511,
          -1.900272350446976,
          -1.9977641049135988,
          -1.7714803264880272,
          -1.2647618245895365,
          -0.6464073131258151,
          -0.04857924887215644,
          0.46325345596559914,
          1.7760181644493653,
          2.110802144830722,
          2.3752060651910663,
          2.5705196994864075,
          2.714125099708763,
          -0.7667207820655704,
          -0.7997369251811599,
          -0.8870431022958372,
          -2.12451017850719,
          -2.2405917875936,
          -2.0513217553029834,
          -1.620740759317227,
          -1.150050606816038,
          -0.7727750822509467,
          -0.5298168669503175,
          -0.40176979419866793,
          0.7361984163369969,
          0.7713582757949512,
          0.8076826969549756,
          0.8281616256020903,
          -0.5702740004150852,
          -0.6033108105066284,
          -1.2115619650359368,
          -1.3773272126451204,
          -1.4933788178878522,
          -1.3265566719589637,
          -0.8537679338260529,
          -0.295804003871954,
          0.6327751219033055,
          0.9425503385577019,
          1.1394868423246802,
          1.2667679004325265,
          1.3491326261627372,
          1.402179514261495,
          1.4362454065284782,
          -0.6498255397266337,
          -0.6664395574094634,
          -0.7153366758088389,
          -1.9797379952833287,
          -2.1665870315055384,
          -2.228821075568269,
          -1.9610729958939603,
          -1.4457678238985454,
          -0.8551638102707019,
          -0.3082681724502912,
          0.14015098518616645,
          1.6169137010611339,
          1.8162062861283388,
          1.9611024120067997,
          2.0365363111733528,
          -0.5794309035766331,
          -0.5940655907959446,
          -1.644110998008221,
          -1.8060156555407314,
          -2.020825325798507,
          -2.103621089977692,
          -1.8677676260152958,
          -1.3752356198869742,
          -0.7932127959025405,
          -0.24285287990923832,
          0.2186466188987684,
          1.5810605278179641,
          1.834551600511991,
          2.0239466315298524,
          2.1360629444477977,
          -0.6884426010225344,
          -1.3148536369399082,
          -1.4386970497468479,
          -1.6356493312048694,
          -1.6934203906560308,
          -1.4328494231268576,
          -0.9140881959213313,
          -0.29385373245163626,
          0.3062695032684676,
          0.8240665525058305,
          1.8233471028357777,
          2.1650870804674924,
          2.433834976876416,
          2.6350065377265155,
          2.783542347321322,
          -0.6774973580991969,
          -1.8264732604346878,
          -2.0047109136100247,
          -2.192386327275944,
          -2.082713903300724,
          -1.6367726814374046,
          -1.0255822118697842,
          -0.4095586287073036,
          0.12604485625836254,
          1.6199787610649201,
          1.9604225505360289,
          2.2131506790351625,
          2.3868747388133116,
          2.5082925442996586,
          2.5938586027609376,
          -0.7875390185316528,
          -0.8666247289470649,
          -1.0234285698301784,
          -1.8653482057706237,
          -1.7308135393702255,
          -1.308018168612131,
          -0.7074027872692,
          -0.08198430705620463,
          0.4781438853215352,
          0.9380486252529522,
          2.0190615315012823,
          2.305044136444004,
          2.534313738519374,
          2.7041710546722872,
          2.829075561106641,
          -0.7336698489429584,
          -1.6828886313489684,
          -1.8567925270160612,
          -2.040890661451605,
          -1.9691474020243347,
          -1.5941918149268512,
          -1.0888062653628163,
          -0.6028063191237323,
          -0.20961431716972254,
          0.9508347542868959,
          1.1530647555516393,
          1.2757597619196042,
          1.3486932079861307,
          1.3922667465268759,
          1.4183961171357762,
          -0.7001321252564284,
          -0.7454559415634197,
          -1.3198596426292581,
          -1.5017991958098214,
          -1.5504838085064523,
          -1.2729914421635562,
          -0.7274204248027496,
          -0.07917426031719174,
          1.0027644738468349,
          1.5391077346671438,
          1.916942979269655,
          2.1280311548260777,
          2.2618125733424836,
          2.3461195905803427,
          2.3990718655670555,
          -0.6775255490285564,
          -0.6958593336105945,
          -1.433094018575126,
          -1.5682372912943492,
          -1.7566525977480392,
          -1.7596308207915863,
          -1.4482670626029506,
          -0.9188058438487922,
          0.3621072879126681,
          0.9322402796659511,
          1.4460483350842694,
          1.8627518757888872,
          2.188167989453485,
          2.4346235634942306,
          2.6155432793704634,
          -0.7263012855431998,
          -0.7867499921311067,
          -0.9242669279002236,
          -1.6433141164606326,
          -1.6126070796199974,
          -1.2456290979266322,
          -0.6503979220456103,
          0.003659185830790393,
          0.6037381137912361,
          1.1012826970568521,
          2.051651505565968,
          2.372684236469994,
          2.6082670514419197,
          2.755835557913279,
          2.834143634362745,
          -0.6365910710129087,
          -0.6974877664913901,
          -1.2359857968780195,
          -1.4012351146251214,
          -1.361209515135772,
          -0.9734310513275679,
          -0.3658883154083365,
          0.10768045619519825,
          0.4430139276398257,
          0.6880583998307762,
          1.2724939027277786,
          1.4255065001766876,
          1.5131923288401186,
          1.5672286812185356,
          1.6017495690176973,
          -0.6269473772874433,
          -1.6446691830100781,
          -1.7376590717734166,
          -1.949109486932835,
          -2.103296524128833,
          -1.967068880077776,
          -1.5300000390255002,
          -0.9553142335076834,
          -0.38506838208201993,
          0.10678875662340422,
          1.4813154898082361,
          1.7705029130160919,
          1.9879608765326182,
          2.1245481642170545,
          2.212429436961325
         ],
         "xaxis": "x",
         "y": [
          2.08175689267875,
          1.9293476787292547,
          0.7173554881388702,
          0.02030924054101281,
          -0.7616557492141284,
          -1.3496477521349326,
          -1.6400977240025163,
          -1.7051575068398197,
          -1.638694383620512,
          -1.50666024239392,
          -0.5378573608283214,
          -0.5155758594678145,
          -0.4925274433918429,
          -0.47176531214258954,
          -0.4543897235216621,
          2.062185908051758,
          0.780642307629989,
          0.5674627163711068,
          0.2570827840134555,
          -0.3550435449162756,
          -0.8856862940879745,
          -1.0493042799432608,
          -0.885977537536993,
          -0.5314721055250102,
          -0.12243651817783592,
          1.4509644207641705,
          1.596268021001533,
          1.6471672045262709,
          1.6749971870666207,
          1.690095526192588,
          1.8090696116344882,
          1.7744127282872284,
          1.6717140415698533,
          0.45192328964543904,
          -0.0010188954767173866,
          -0.6726417034935886,
          -1.3095801365603716,
          -1.6929131602874472,
          -1.824619959117706,
          -0.8430400991872012,
          -0.8288209538897122,
          -0.8173850896931086,
          -0.6741251859886577,
          -0.46754255970106257,
          -0.33643286897565267,
          2.082409406451753,
          1.8529199313662128,
          1.2962114892444085,
          -0.6098747925116287,
          -1.414353851011168,
          -1.850627859892769,
          -1.9995947458791354,
          -1.960660262440358,
          -1.8220710486889746,
          -0.6308113975711378,
          -0.6072792711065664,
          -0.5823562278622094,
          -0.5578108258887055,
          -0.5360163872941559,
          -0.5176939446455001,
          1.96139614912595,
          1.3730668078606865,
          1.0994197898352467,
          0.5141176866919194,
          -0.3139190453725569,
          -1.02797211679431,
          -1.4419035857055758,
          -1.5731358639058735,
          -1.3073564194171636,
          -0.4959236238507718,
          -0.2971984097221996,
          -0.11532717276042831,
          0.0013595069231751463,
          0.07572772043519879,
          0.1229356990455586,
          2.098283305094305,
          1.9854073000261838,
          1.671617788980812,
          0.47627224414463126,
          -0.37978142471176135,
          -1.0878373993364312,
          -1.496594007706623,
          -1.6255185402975254,
          -1.4522397349747989,
          -0.5765905053709574,
          -0.3361709825572818,
          -0.1491118687016223,
          -0.029186435067498403,
          0.047182144910389356,
          0.09561823920718195,
          2.316280975128527,
          0.9755054745991442,
          0.5893505480807488,
          0.001861091759345192,
          -0.3591994819666656,
          -0.3186779264562919,
          -0.03587951483065028,
          0.31502742557532987,
          1.7516310154197026,
          1.9319632912488613,
          1.9883161369731723,
          2.0223333258467493,
          2.0424638706785596,
          2.054246594867389,
          2.061100871103699,
          1.6380425999425852,
          1.4194738973980903,
          0.0166916320593674,
          -0.5386082537761654,
          -1.1034521524480019,
          -1.5107355333635872,
          -1.6875882849682495,
          -1.6916930861073445,
          -0.6738754083425607,
          -0.6647125998072337,
          -0.43736292257485265,
          -0.23839718583006916,
          -0.11042238449814841,
          -0.028723170398174545,
          0.02320160015420496,
          1.908446082781352,
          1.8274555097946639,
          1.0060672073879033,
          0.5026776763016569,
          -0.23012976265380533,
          -0.9738695491351966,
          -1.4562193433527144,
          -1.6294070547204758,
          -1.4002244553740473,
          -1.0848268432453985,
          -0.9149932988289422,
          -0.19780989584429737,
          -0.12786805127323017,
          -0.11445836323069856,
          -0.0981782852798867,
          2.468715772852935,
          2.3953624298335168,
          1.827749270620839,
          1.3692371311073206,
          0.6569566923434181,
          -0.034331847660536076,
          -0.5201679243779264,
          -0.7990187747646443,
          -0.9197888914282663,
          -0.585732816387986,
          -0.599721996330776,
          -0.5938911872676806,
          -0.5686666486321095,
          -0.5127516388578064,
          -0.38637290928324347,
          1.8458195224500342,
          1.6974091118531527,
          0.6609325607990487,
          0.03328508759844733,
          -0.7556726294186127,
          -1.3668095944945409,
          -1.668539639992668,
          -1.6932368699128644,
          -1.4584777312956598,
          -0.5723522289845614,
          -0.4265731677891617,
          -0.3652848906891271,
          -0.21705201524502019,
          -0.12259603678423038,
          -0.06281282864647011,
          2.361402352384795,
          2.27280524629161,
          2.0182642736466394,
          1.0707530964608,
          0.2702699123242705,
          -0.4875117981440878,
          -0.9942298637480099,
          -1.2459704095465052,
          -1.3191354736987206,
          -1.286129251611284,
          -0.8217521282164331,
          -0.7112120184269543,
          -0.5612515498667745,
          -0.41353255089508045,
          -0.32040702518286335,
          2.1725439007313416,
          1.994983398191219,
          1.5375554767613138,
          0.024613659677555775,
          -0.8526418888919258,
          -1.4229500322016613,
          -1.691619343492056,
          -1.7408898613637198,
          -1.6658105697144427,
          -1.5349025515936165,
          -0.697084027824268,
          -0.6492167330484788,
          -0.6171025565644652,
          -0.5788221938350601,
          -0.5109051165609685,
          2.035983001649486,
          0.9884445638333388,
          0.5964035006122294,
          -0.13313722726495786,
          -0.8579848179592187,
          -1.303545288916416,
          -1.476067140792339,
          -1.469722464001902,
          -1.3639884715352646,
          -1.2080550200591778,
          -1.0273318281582515,
          -0.0038510988446149165,
          0.07589254538032651,
          0.10503650274980583,
          0.12422720256055994,
          2.246804496368378,
          1.2577660520060951,
          0.7933381469024888,
          0.06789830761199865,
          -0.560646874858032,
          -0.8963313446087976,
          -1.0001585316713992,
          -0.9625343218046323,
          -0.8444830283221033,
          0.06771219397312649,
          0.22309262154551035,
          0.2620592370300108,
          0.28595838369122967,
          0.30185924529793184,
          0.3129210997847639,
          1.990969884626165,
          1.8641611874588544,
          1.5196355927727792,
          -0.026949768915934896,
          -0.9265193794527808,
          -1.5228658597711255,
          -1.8202714976977878,
          -1.8674620076199588,
          -1.7715342873138442,
          -1.6218119701709943,
          -1.456514441082075,
          -0.4382859952469906,
          -0.36135270290059684,
          -0.3447895886820867,
          -0.3301974703183541,
          2.2017913793450568,
          2.0534562235138627,
          1.6577385957296686,
          -0.012221097434693148,
          -0.9275167287493027,
          -1.5066835019271623,
          -1.7865041314302796,
          -1.8370669752887179,
          -1.7541284033055748,
          -1.6048253225330276,
          -0.5190138669369804,
          -0.3320214236014156,
          -0.30664260966492485,
          -0.2860105744470447,
          -0.2696918272230583,
          1.7068665649297357,
          0.3326375056100768,
          -0.01463944728979279,
          -0.5046479264291784,
          -1.182488563213593,
          -1.7068487449697503,
          -1.9434501504281587,
          -1.9476816991060948,
          -1.8084077811089758,
          -1.5859343975978382,
          -1.3053025458149798,
          0.25361782410323475,
          0.5631945932883867,
          0.6444490496963793,
          0.6865617782318173,
          1.8165720438363189,
          1.6404435105560387,
          0.40974232686535716,
          -0.3469094075752197,
          -1.0695220446565183,
          -1.5735331323373125,
          -1.763416463597094,
          -1.6892972443662644,
          -0.7219805253578817,
          -0.4608297714139693,
          -0.21954065150790114,
          -0.06318337420885019,
          0.03714272133086245,
          0.1011439623777781,
          0.14182950249860204,
          2.4383812633467747,
          2.2123795026815203,
          0.5286307723803052,
          -0.13269113050591633,
          -0.5693675475617089,
          -0.5944823085515126,
          -0.3307954273963086,
          0.03963857864598858,
          0.40045181409275254,
          1.8600669494696551,
          2.0149537171924754,
          2.053322958550224,
          2.0753949392024755,
          2.0879611358195964,
          2.0950751404172787,
          1.9830329353048886,
          1.7978385876833756,
          0.1435658940919962,
          -0.5140292901986792,
          -1.2177821677788419,
          -1.6717020286623763,
          -1.820897356044741,
          -1.7556291935471906,
          -1.5617409958259327,
          -0.1007741582619882,
          0.1621879392704292,
          0.24155452206360428,
          0.28633351330523776,
          0.31370304023619194,
          0.3312964774384425,
          1.729264125114619,
          1.6675791080308862,
          1.1638515203323418,
          0.8147888629300903,
          0.17606379909638856,
          -0.5235390831000839,
          -0.4891739725397655,
          -0.21176030212159863,
          0.3282296264020264,
          0.48903669403307687,
          0.6218470002789895,
          0.7134617337559072,
          0.7758470135519038,
          0.8179874283435876,
          0.8463069080024594,
          2.08686726644214,
          1.8291698461346515,
          -0.04070067061912723,
          -0.8839211905128216,
          -1.5346403311131145,
          -1.8740626408772452,
          -1.922355840272447,
          -1.7811610972931224,
          -0.2588823768576584,
          -0.11446508327434574,
          -0.0704644404874558,
          -0.04225645234906278,
          -0.02212336404897561,
          -0.0072247230078997145,
          0.0038800862897055183,
          1.7051270202642905,
          0.8827255998574024,
          0.46539149064994334,
          -0.20675609037902362,
          -0.9545339195111149,
          -1.453233721060203,
          -1.4575948590845886,
          -1.0831444658075988,
          -0.8817938858140877,
          -0.7571552406660143,
          -0.6450864037164519,
          0.09758425603893067,
          0.17925270181672842,
          0.1809574384443461,
          0.18375189487382862,
          1.9087723396678518,
          1.7881087860673763,
          1.4604599483899885,
          -0.4536390511041038,
          -1.1962579683781749,
          -1.752693383628555,
          -2.0315596297951997,
          -2.068342081328829,
          -1.9524237689123594,
          -1.751423813633088,
          -1.4999176212696002,
          0.03984434139670668,
          0.1529527165226712,
          0.19922441606968788,
          0.22750164211062524,
          1.7722114405859972,
          1.6124257560403055,
          0.40037804797907,
          -0.31144301148117337,
          -0.9969526217630078,
          -1.4980135905388046,
          -1.6898450579366309,
          -1.61480208368128,
          -1.454221249596202,
          -1.3064077512454477,
          -1.1591505733229772,
          -0.1995770986154254,
          -0.1474627508442412,
          -0.13863850773866138,
          -0.12983223848538267,
          2.2114678733317774,
          1.7572299975988603,
          1.6974511621631818,
          1.4291835219187192,
          0.8232825084367421,
          0.03501013573644891,
          -0.6203972694913443,
          -1.0207604830360557,
          -1.2012515888691773,
          -1.23745789817601,
          -0.780814439040406,
          -0.7178126234897321,
          -0.6865517516763181,
          -0.5902898093491163,
          -0.4455839450741068,
          2.343462652190299,
          2.131578189498549,
          1.611499473825808,
          0.26362201069318997,
          -0.6159929592459197,
          -1.1713247401243,
          -1.4417527506881649,
          -1.5104289177091463,
          -1.4618436912904766,
          -1.3552229728118563,
          -1.2301782422737606,
          -0.6161864641440874,
          -0.5811260050825083,
          -0.5486269214317392,
          -0.5048350295776839,
          2.443599897343108,
          2.349783419066467,
          2.082955948496615,
          0.7281211793470365,
          0.00011528636367693552,
          -0.5828804514041396,
          -0.8880649156173643,
          -0.9731299801137197,
          -0.15366990949013726,
          -0.09674106850471925,
          -0.10288806771980427,
          -0.10139428603072481,
          -0.09481915567426707,
          -0.08625512613167917,
          -0.0776465988293139,
          1.886374779482968,
          1.6747008602538,
          0.1317324439030901,
          -0.719522383878826,
          -1.4151127769917489,
          -1.8598261006159338,
          -2.0215335375569428,
          -1.9916155016350015,
          -0.832834118845811,
          -0.7089057427972837,
          -0.6911702813324146,
          -0.6618145528895991,
          -0.6240289901712154,
          -0.5542229714887111,
          -0.464444728428542,
          1.8616934210925862,
          0.5481056628123198,
          0.6255740163968514,
          0.5990377403559431,
          0.25887467559764604,
          -0.27751126398139,
          -0.5688926526322506,
          -0.46283044266079615,
          1.1557690851234848,
          1.349270394734838,
          1.4594465450424075,
          1.5326734157857935,
          1.5792048359467667,
          1.6083184751798503,
          1.6264491539459716,
          1.793195712991936,
          1.641914336768315,
          0.821488143933587,
          0.12058961822079664,
          -0.6316164928819475,
          -0.8899478881167959,
          -0.5550390766616443,
          -0.3095429627312916,
          -0.17094779346691516,
          -0.09578623629728271,
          0.39593105019094726,
          0.4225392564886908,
          0.4150700401208825,
          0.42071863308501023,
          0.44819306666780057,
          2.225820223962439,
          1.9764058160683833,
          1.3855317374863692,
          -0.6961164251512446,
          -1.5143445223139766,
          -1.8996487675969898,
          -2.0006793165139856,
          -1.9183287421401929,
          -1.7349009057865634,
          -1.4953702978968937,
          -1.2140170192333717,
          0.2720015451289933,
          0.5198595076837335,
          0.5848133074690207,
          0.6185444885992977,
          1.781887934572717,
          1.7231024738994791,
          1.5556435395937753,
          0.5429116754084681,
          -0.11304380351598503,
          -0.7480202058517311,
          -1.0880563184792542,
          -0.8275160716687636,
          -0.6537672290103484,
          -0.5665308613876772,
          0.11589113902357066,
          0.1567502169885711,
          0.1456500139735652,
          0.16874779669621406,
          0.2585232145011746,
          2.393694403209953,
          1.1348423831540737,
          0.7493631131566375,
          0.2013364275082952,
          -0.26313357619497024,
          -0.3414085737860281,
          -0.12151325106406452,
          0.21374968856556217,
          1.6356886484621254,
          1.9233112998043485,
          1.98882564405839,
          2.028773037807307,
          2.0525478818941916,
          2.066510123139192,
          2.074648936510234,
          2.335525702869023,
          1.338305552992343,
          0.8057737914367166,
          0.08677613514635547,
          -0.4657472852266616,
          -0.716813749995626,
          -0.757898851510716,
          -0.6779318885727245,
          -0.5289635882366494,
          0.38971383264153553,
          0.5799545426718794,
          0.6380813566474529,
          0.6721392353576724,
          0.6932549861939197,
          0.7068716368651892,
          1.9720514137721694,
          0.953058638971829,
          0.6753912462940946,
          0.12005635820828069,
          -0.637634062625098,
          -1.2338704014550321,
          -1.535262523369709,
          -1.6046754998027577,
          -1.534577295617202,
          -1.3910182860224036,
          -0.3236828179575447,
          -0.22492188556687318,
          -0.19892822567098833,
          -0.17874212490342917,
          -0.16308791595916772,
          2.5068789714474256,
          2.4028469745609673,
          2.112147100542527,
          0.43564779865114756,
          -0.16831532357481474,
          -0.5141302234333696,
          -0.48897178436925604,
          -0.2266966739011251,
          0.1213155455421996,
          0.4578013854821182,
          0.7509035898602787,
          2.071613014662306,
          2.1983041174856672,
          2.218564455782367,
          2.230038043503463,
          1.881264405719581,
          1.775887141699616,
          0.9741522577302119,
          0.4017721792842548,
          -0.38310844998819066,
          -1.085792977751997,
          -1.4693494164609202,
          -1.2098829352396319,
          -0.3394369634328747,
          -0.14570990731728767,
          0.06338216820814772,
          0.20433623494680336,
          0.29594149569190425,
          0.3550953764838228,
          0.39314530416460197,
          2.1904836009258375,
          2.138304892345819,
          1.9809889790826902,
          0.45029849326760374,
          -0.21228759086028787,
          -0.8980737794506969,
          -1.367642337770629,
          -1.5326128710357292,
          -1.472700658505699,
          -1.2717221276213113,
          -0.9777342063864698,
          0.49958321379397236,
          0.8413841974166402,
          0.9302804333198692,
          0.9761648593129223,
          1.9734647015511138,
          1.927269883163517,
          0.802129059860728,
          0.6151693606234131,
          0.08100131205561364,
          -0.6202034759929018,
          -1.1328784864352373,
          -1.351020759651595,
          -1.3488400934837892,
          -1.212531429964217,
          -0.9958169672986962,
          0.26097503440098857,
          0.5391252635862149,
          0.6247407715371848,
          0.6723637696848267,
          2.222775651750996,
          1.5134729947245793,
          1.183091942056819,
          0.5553309534813868,
          -0.23397575244525365,
          -0.8482599722191824,
          -1.1903563573944422,
          -1.3177448790741983,
          -1.311884444875839,
          -1.235065685097206,
          -0.5547732512731056,
          -0.5030287520960955,
          -0.48215024436833515,
          -0.46216345783875623,
          -0.44474606843128434,
          2.0510961262860934,
          0.7433439367408967,
          0.17516567053479568,
          -0.5645525190835964,
          -1.233426074702085,
          -1.5887181234137318,
          -1.6681302235271196,
          -1.5755694518008183,
          -1.3863670342902246,
          -0.09310455020180666,
          0.09260261433430667,
          0.1480452576044513,
          0.18120840983076977,
          0.2025603994262006,
          0.2168960477294955,
          2.4091337847330596,
          2.15507797277906,
          1.5679278375077337,
          -0.015861976102316398,
          -0.8219666437574951,
          -1.2699824262269457,
          -1.4566802630931406,
          -1.4707935807144545,
          -1.3895176787386354,
          -1.2620714111998383,
          -0.4058219292151136,
          -0.31882218363056813,
          -0.29771146532427445,
          -0.2802977045977908,
          -0.266468338405857,
          2.2970362473880326,
          1.2270711698955172,
          0.8298762298982322,
          0.18368967168771785,
          -0.37841389891372496,
          -0.6054354158002179,
          -0.5644087329893476,
          -0.36981392463737894,
          -0.09795125494604952,
          1.0616224513361476,
          1.1784764570425295,
          1.2367484012487724,
          1.27072933688224,
          1.2907621834451162,
          1.3026712537582004,
          2.2544151888031543,
          2.110788325526022,
          1.2735946664850932,
          0.5765850099502289,
          -0.2567436391813096,
          -0.9153813953192426,
          -1.2865549605068114,
          -1.4271581741667185,
          -0.9724413603155344,
          -0.9218762871012869,
          -0.7243316957871093,
          -0.4845619634324314,
          -0.3318892219307055,
          -0.23540942256801337,
          -0.17471031453874533,
          2.2726811458841505,
          2.2151328344665675,
          1.3728514681853339,
          0.9757475978539542,
          0.324636349099182,
          -0.4067361788688187,
          -0.9231954115123983,
          -1.1812597300918706,
          -0.5819435793584495,
          -0.5673584063526675,
          -0.5912318278284286,
          -0.5862492190112001,
          -0.567386239227366,
          -0.5423757656179502,
          -0.5135988328144597,
          2.2843151811898688,
          2.091699616176699,
          1.605604355845415,
          0.21376184475936788,
          -0.6143606755094553,
          -1.1831792485125407,
          -1.463146710435344,
          -1.536337141694392,
          -1.4907776721412167,
          -1.3879802738755223,
          -0.7134595412897992,
          -0.682511438827649,
          -0.642284762123504,
          -0.5619445690877124,
          -0.47167814824827975,
          1.995754001503052,
          1.80075713980604,
          0.9184488131669395,
          0.10370425430879714,
          -0.7359370761837908,
          -1.3097915427195728,
          -1.3780071677131194,
          -0.9108260151227429,
          -0.596896989071716,
          -0.4154336251757077,
          0.08282136701501218,
          0.1184998365837988,
          0.2031526101633275,
          0.2637825289033224,
          0.3025743927640646,
          2.0707753711460337,
          1.0064823656730304,
          0.7608115827043855,
          0.32499137998473354,
          -0.37891091116963055,
          -0.9806350833586143,
          -1.283861837501948,
          -1.3375930186323062,
          -1.2355377385052662,
          -1.042028113797781,
          0.17619716891084264,
          0.43125877586072003,
          0.5109631748432266,
          0.5561254824156523,
          0.5832036289283256
         ],
         "yaxis": "y"
        },
        {
         "line": {
          "color": "black"
         },
         "marker": {
          "color": "black",
          "size": 10
         },
         "mode": "lines+markers",
         "text": [
          "Run 0, Time 0",
          "Run 0, Time 1",
          "Run 0, Time 2",
          "Run 0, Time 3",
          "Run 0, Time 4",
          "Run 0, Time 5",
          "Run 0, Time 6",
          "Run 0, Time 7",
          "Run 0, Time 8",
          "Run 0, Time 9",
          "Run 0, Time 10",
          "Run 0, Time 11",
          "Run 0, Time 12",
          "Run 0, Time 13",
          "Run 0, Time 14",
          "Run 0, Time 0",
          "Run 0, Time 1",
          "Run 0, Time 2",
          "Run 0, Time 3",
          "Run 0, Time 4",
          "Run 0, Time 5",
          "Run 0, Time 6",
          "Run 0, Time 7",
          "Run 0, Time 8",
          "Run 0, Time 9",
          "Run 0, Time 10",
          "Run 0, Time 11",
          "Run 0, Time 12",
          "Run 0, Time 13",
          "Run 0, Time 14",
          "Run 0, Time 0",
          "Run 0, Time 1",
          "Run 0, Time 2",
          "Run 0, Time 3",
          "Run 0, Time 4",
          "Run 0, Time 5",
          "Run 0, Time 6",
          "Run 0, Time 7",
          "Run 0, Time 8",
          "Run 0, Time 9",
          "Run 0, Time 10",
          "Run 0, Time 11",
          "Run 0, Time 12",
          "Run 0, Time 13",
          "Run 0, Time 14",
          "Run 0, Time 0",
          "Run 0, Time 1",
          "Run 0, Time 2",
          "Run 0, Time 3",
          "Run 0, Time 4",
          "Run 0, Time 5",
          "Run 0, Time 6",
          "Run 0, Time 7",
          "Run 0, Time 8",
          "Run 0, Time 9",
          "Run 0, Time 10",
          "Run 0, Time 11",
          "Run 0, Time 12",
          "Run 0, Time 13",
          "Run 0, Time 14",
          "Run 0, Time 0",
          "Run 0, Time 1",
          "Run 0, Time 2",
          "Run 0, Time 3",
          "Run 0, Time 4",
          "Run 0, Time 5",
          "Run 0, Time 6",
          "Run 0, Time 7",
          "Run 0, Time 8",
          "Run 0, Time 9",
          "Run 0, Time 10",
          "Run 0, Time 11",
          "Run 0, Time 12",
          "Run 0, Time 13",
          "Run 0, Time 14",
          "Run 0, Time 0",
          "Run 0, Time 1",
          "Run 0, Time 2",
          "Run 0, Time 3",
          "Run 0, Time 4",
          "Run 0, Time 5",
          "Run 0, Time 6",
          "Run 0, Time 7",
          "Run 0, Time 8",
          "Run 0, Time 9",
          "Run 0, Time 10",
          "Run 0, Time 11",
          "Run 0, Time 12",
          "Run 0, Time 13",
          "Run 0, Time 14",
          "Run 0, Time 0",
          "Run 0, Time 1",
          "Run 0, Time 2",
          "Run 0, Time 3",
          "Run 0, Time 4",
          "Run 0, Time 5",
          "Run 0, Time 6",
          "Run 0, Time 7",
          "Run 0, Time 8",
          "Run 0, Time 9",
          "Run 0, Time 10",
          "Run 0, Time 11",
          "Run 0, Time 12",
          "Run 0, Time 13",
          "Run 0, Time 14",
          "Run 0, Time 0",
          "Run 0, Time 1",
          "Run 0, Time 2",
          "Run 0, Time 3",
          "Run 0, Time 4",
          "Run 0, Time 5",
          "Run 0, Time 6",
          "Run 0, Time 7",
          "Run 0, Time 8",
          "Run 0, Time 9",
          "Run 0, Time 10",
          "Run 0, Time 11",
          "Run 0, Time 12",
          "Run 0, Time 13",
          "Run 0, Time 14",
          "Run 0, Time 0",
          "Run 0, Time 1",
          "Run 0, Time 2",
          "Run 0, Time 3",
          "Run 0, Time 4",
          "Run 0, Time 5",
          "Run 0, Time 6",
          "Run 0, Time 7",
          "Run 0, Time 8",
          "Run 0, Time 9",
          "Run 0, Time 10",
          "Run 0, Time 11",
          "Run 0, Time 12",
          "Run 0, Time 13",
          "Run 0, Time 14",
          "Run 0, Time 0",
          "Run 0, Time 1",
          "Run 0, Time 2",
          "Run 0, Time 3",
          "Run 0, Time 4",
          "Run 0, Time 5",
          "Run 0, Time 6",
          "Run 0, Time 7",
          "Run 0, Time 8",
          "Run 0, Time 9",
          "Run 0, Time 10",
          "Run 0, Time 11",
          "Run 0, Time 12",
          "Run 0, Time 13",
          "Run 0, Time 14",
          "Run 0, Time 0",
          "Run 0, Time 1",
          "Run 0, Time 2",
          "Run 0, Time 3",
          "Run 0, Time 4",
          "Run 0, Time 5",
          "Run 0, Time 6",
          "Run 0, Time 7",
          "Run 0, Time 8",
          "Run 0, Time 9",
          "Run 0, Time 10",
          "Run 0, Time 11",
          "Run 0, Time 12",
          "Run 0, Time 13",
          "Run 0, Time 14",
          "Run 0, Time 0",
          "Run 0, Time 1",
          "Run 0, Time 2",
          "Run 0, Time 3",
          "Run 0, Time 4",
          "Run 0, Time 5",
          "Run 0, Time 6",
          "Run 0, Time 7",
          "Run 0, Time 8",
          "Run 0, Time 9",
          "Run 0, Time 10",
          "Run 0, Time 11",
          "Run 0, Time 12",
          "Run 0, Time 13",
          "Run 0, Time 14",
          "Run 0, Time 0",
          "Run 0, Time 1",
          "Run 0, Time 2",
          "Run 0, Time 3",
          "Run 0, Time 4",
          "Run 0, Time 5",
          "Run 0, Time 6",
          "Run 0, Time 7",
          "Run 0, Time 8",
          "Run 0, Time 9",
          "Run 0, Time 10",
          "Run 0, Time 11",
          "Run 0, Time 12",
          "Run 0, Time 13",
          "Run 0, Time 14",
          "Run 0, Time 0",
          "Run 0, Time 1",
          "Run 0, Time 2",
          "Run 0, Time 3",
          "Run 0, Time 4",
          "Run 0, Time 5",
          "Run 0, Time 6",
          "Run 0, Time 7",
          "Run 0, Time 8",
          "Run 0, Time 9",
          "Run 0, Time 10",
          "Run 0, Time 11",
          "Run 0, Time 12",
          "Run 0, Time 13",
          "Run 0, Time 14",
          "Run 0, Time 0",
          "Run 0, Time 1",
          "Run 0, Time 2",
          "Run 0, Time 3",
          "Run 0, Time 4",
          "Run 0, Time 5",
          "Run 0, Time 6",
          "Run 0, Time 7",
          "Run 0, Time 8",
          "Run 0, Time 9",
          "Run 0, Time 10",
          "Run 0, Time 11",
          "Run 0, Time 12",
          "Run 0, Time 13",
          "Run 0, Time 14",
          "Run 0, Time 0",
          "Run 0, Time 1",
          "Run 0, Time 2",
          "Run 0, Time 3",
          "Run 0, Time 4",
          "Run 0, Time 5",
          "Run 0, Time 6",
          "Run 0, Time 7",
          "Run 0, Time 8",
          "Run 0, Time 9",
          "Run 0, Time 10",
          "Run 0, Time 11",
          "Run 0, Time 12",
          "Run 0, Time 13",
          "Run 0, Time 14",
          "Run 0, Time 0",
          "Run 0, Time 1",
          "Run 0, Time 2",
          "Run 0, Time 3",
          "Run 0, Time 4",
          "Run 0, Time 5",
          "Run 0, Time 6",
          "Run 0, Time 7",
          "Run 0, Time 8",
          "Run 0, Time 9",
          "Run 0, Time 10",
          "Run 0, Time 11",
          "Run 0, Time 12",
          "Run 0, Time 13",
          "Run 0, Time 14",
          "Run 0, Time 0",
          "Run 0, Time 1",
          "Run 0, Time 2",
          "Run 0, Time 3",
          "Run 0, Time 4",
          "Run 0, Time 5",
          "Run 0, Time 6",
          "Run 0, Time 7",
          "Run 0, Time 8",
          "Run 0, Time 9",
          "Run 0, Time 10",
          "Run 0, Time 11",
          "Run 0, Time 12",
          "Run 0, Time 13",
          "Run 0, Time 14",
          "Run 0, Time 0",
          "Run 0, Time 1",
          "Run 0, Time 2",
          "Run 0, Time 3",
          "Run 0, Time 4",
          "Run 0, Time 5",
          "Run 0, Time 6",
          "Run 0, Time 7",
          "Run 0, Time 8",
          "Run 0, Time 9",
          "Run 0, Time 10",
          "Run 0, Time 11",
          "Run 0, Time 12",
          "Run 0, Time 13",
          "Run 0, Time 14",
          "Run 0, Time 0",
          "Run 0, Time 1",
          "Run 0, Time 2",
          "Run 0, Time 3",
          "Run 0, Time 4",
          "Run 0, Time 5",
          "Run 0, Time 6",
          "Run 0, Time 7",
          "Run 0, Time 8",
          "Run 0, Time 9",
          "Run 0, Time 10",
          "Run 0, Time 11",
          "Run 0, Time 12",
          "Run 0, Time 13",
          "Run 0, Time 14",
          "Run 0, Time 0",
          "Run 0, Time 1",
          "Run 0, Time 2",
          "Run 0, Time 3",
          "Run 0, Time 4",
          "Run 0, Time 5",
          "Run 0, Time 6",
          "Run 0, Time 7",
          "Run 0, Time 8",
          "Run 0, Time 9",
          "Run 0, Time 10",
          "Run 0, Time 11",
          "Run 0, Time 12",
          "Run 0, Time 13",
          "Run 0, Time 14",
          "Run 0, Time 0",
          "Run 0, Time 1",
          "Run 0, Time 2",
          "Run 0, Time 3",
          "Run 0, Time 4",
          "Run 0, Time 5",
          "Run 0, Time 6",
          "Run 0, Time 7",
          "Run 0, Time 8",
          "Run 0, Time 9",
          "Run 0, Time 10",
          "Run 0, Time 11",
          "Run 0, Time 12",
          "Run 0, Time 13",
          "Run 0, Time 14",
          "Run 0, Time 0",
          "Run 0, Time 1",
          "Run 0, Time 2",
          "Run 0, Time 3",
          "Run 0, Time 4",
          "Run 0, Time 5",
          "Run 0, Time 6",
          "Run 0, Time 7",
          "Run 0, Time 8",
          "Run 0, Time 9",
          "Run 0, Time 10",
          "Run 0, Time 11",
          "Run 0, Time 12",
          "Run 0, Time 13",
          "Run 0, Time 14",
          "Run 0, Time 0",
          "Run 0, Time 1",
          "Run 0, Time 2",
          "Run 0, Time 3",
          "Run 0, Time 4",
          "Run 0, Time 5",
          "Run 0, Time 6",
          "Run 0, Time 7",
          "Run 0, Time 8",
          "Run 0, Time 9",
          "Run 0, Time 10",
          "Run 0, Time 11",
          "Run 0, Time 12",
          "Run 0, Time 13",
          "Run 0, Time 14",
          "Run 0, Time 0",
          "Run 0, Time 1",
          "Run 0, Time 2",
          "Run 0, Time 3",
          "Run 0, Time 4",
          "Run 0, Time 5",
          "Run 0, Time 6",
          "Run 0, Time 7",
          "Run 0, Time 8",
          "Run 0, Time 9",
          "Run 0, Time 10",
          "Run 0, Time 11",
          "Run 0, Time 12",
          "Run 0, Time 13",
          "Run 0, Time 14",
          "Run 0, Time 0",
          "Run 0, Time 1",
          "Run 0, Time 2",
          "Run 0, Time 3",
          "Run 0, Time 4",
          "Run 0, Time 5",
          "Run 0, Time 6",
          "Run 0, Time 7",
          "Run 0, Time 8",
          "Run 0, Time 9",
          "Run 0, Time 10",
          "Run 0, Time 11",
          "Run 0, Time 12",
          "Run 0, Time 13",
          "Run 0, Time 14",
          "Run 0, Time 0",
          "Run 0, Time 1",
          "Run 0, Time 2",
          "Run 0, Time 3",
          "Run 0, Time 4",
          "Run 0, Time 5",
          "Run 0, Time 6",
          "Run 0, Time 7",
          "Run 0, Time 8",
          "Run 0, Time 9",
          "Run 0, Time 10",
          "Run 0, Time 11",
          "Run 0, Time 12",
          "Run 0, Time 13",
          "Run 0, Time 14",
          "Run 0, Time 0",
          "Run 0, Time 1",
          "Run 0, Time 2",
          "Run 0, Time 3",
          "Run 0, Time 4",
          "Run 0, Time 5",
          "Run 0, Time 6",
          "Run 0, Time 7",
          "Run 0, Time 8",
          "Run 0, Time 9",
          "Run 0, Time 10",
          "Run 0, Time 11",
          "Run 0, Time 12",
          "Run 0, Time 13",
          "Run 0, Time 14",
          "Run 0, Time 0",
          "Run 0, Time 1",
          "Run 0, Time 2",
          "Run 0, Time 3",
          "Run 0, Time 4",
          "Run 0, Time 5",
          "Run 0, Time 6",
          "Run 0, Time 7",
          "Run 0, Time 8",
          "Run 0, Time 9",
          "Run 0, Time 10",
          "Run 0, Time 11",
          "Run 0, Time 12",
          "Run 0, Time 13",
          "Run 0, Time 14",
          "Run 0, Time 0",
          "Run 0, Time 1",
          "Run 0, Time 2",
          "Run 0, Time 3",
          "Run 0, Time 4",
          "Run 0, Time 5",
          "Run 0, Time 6",
          "Run 0, Time 7",
          "Run 0, Time 8",
          "Run 0, Time 9",
          "Run 0, Time 10",
          "Run 0, Time 11",
          "Run 0, Time 12",
          "Run 0, Time 13",
          "Run 0, Time 14",
          "Run 0, Time 0",
          "Run 0, Time 1",
          "Run 0, Time 2",
          "Run 0, Time 3",
          "Run 0, Time 4",
          "Run 0, Time 5",
          "Run 0, Time 6",
          "Run 0, Time 7",
          "Run 0, Time 8",
          "Run 0, Time 9",
          "Run 0, Time 10",
          "Run 0, Time 11",
          "Run 0, Time 12",
          "Run 0, Time 13",
          "Run 0, Time 14",
          "Run 0, Time 0",
          "Run 0, Time 1",
          "Run 0, Time 2",
          "Run 0, Time 3",
          "Run 0, Time 4",
          "Run 0, Time 5",
          "Run 0, Time 6",
          "Run 0, Time 7",
          "Run 0, Time 8",
          "Run 0, Time 9",
          "Run 0, Time 10",
          "Run 0, Time 11",
          "Run 0, Time 12",
          "Run 0, Time 13",
          "Run 0, Time 14",
          "Run 0, Time 0",
          "Run 0, Time 1",
          "Run 0, Time 2",
          "Run 0, Time 3",
          "Run 0, Time 4",
          "Run 0, Time 5",
          "Run 0, Time 6",
          "Run 0, Time 7",
          "Run 0, Time 8",
          "Run 0, Time 9",
          "Run 0, Time 10",
          "Run 0, Time 11",
          "Run 0, Time 12",
          "Run 0, Time 13",
          "Run 0, Time 14",
          "Run 0, Time 0",
          "Run 0, Time 1",
          "Run 0, Time 2",
          "Run 0, Time 3",
          "Run 0, Time 4",
          "Run 0, Time 5",
          "Run 0, Time 6",
          "Run 0, Time 7",
          "Run 0, Time 8",
          "Run 0, Time 9",
          "Run 0, Time 10",
          "Run 0, Time 11",
          "Run 0, Time 12",
          "Run 0, Time 13",
          "Run 0, Time 14",
          "Run 0, Time 0",
          "Run 0, Time 1",
          "Run 0, Time 2",
          "Run 0, Time 3",
          "Run 0, Time 4",
          "Run 0, Time 5",
          "Run 0, Time 6",
          "Run 0, Time 7",
          "Run 0, Time 8",
          "Run 0, Time 9",
          "Run 0, Time 10",
          "Run 0, Time 11",
          "Run 0, Time 12",
          "Run 0, Time 13",
          "Run 0, Time 14",
          "Run 0, Time 0",
          "Run 0, Time 1",
          "Run 0, Time 2",
          "Run 0, Time 3",
          "Run 0, Time 4",
          "Run 0, Time 5",
          "Run 0, Time 6",
          "Run 0, Time 7",
          "Run 0, Time 8",
          "Run 0, Time 9",
          "Run 0, Time 10",
          "Run 0, Time 11",
          "Run 0, Time 12",
          "Run 0, Time 13",
          "Run 0, Time 14",
          "Run 0, Time 0",
          "Run 0, Time 1",
          "Run 0, Time 2",
          "Run 0, Time 3",
          "Run 0, Time 4",
          "Run 0, Time 5",
          "Run 0, Time 6",
          "Run 0, Time 7",
          "Run 0, Time 8",
          "Run 0, Time 9",
          "Run 0, Time 10",
          "Run 0, Time 11",
          "Run 0, Time 12",
          "Run 0, Time 13",
          "Run 0, Time 14",
          "Run 0, Time 0",
          "Run 0, Time 1",
          "Run 0, Time 2",
          "Run 0, Time 3",
          "Run 0, Time 4",
          "Run 0, Time 5",
          "Run 0, Time 6",
          "Run 0, Time 7",
          "Run 0, Time 8",
          "Run 0, Time 9",
          "Run 0, Time 10",
          "Run 0, Time 11",
          "Run 0, Time 12",
          "Run 0, Time 13",
          "Run 0, Time 14",
          "Run 0, Time 0",
          "Run 0, Time 1",
          "Run 0, Time 2",
          "Run 0, Time 3",
          "Run 0, Time 4",
          "Run 0, Time 5",
          "Run 0, Time 6",
          "Run 0, Time 7",
          "Run 0, Time 8",
          "Run 0, Time 9",
          "Run 0, Time 10",
          "Run 0, Time 11",
          "Run 0, Time 12",
          "Run 0, Time 13",
          "Run 0, Time 14",
          "Run 0, Time 0",
          "Run 0, Time 1",
          "Run 0, Time 2",
          "Run 0, Time 3",
          "Run 0, Time 4",
          "Run 0, Time 5",
          "Run 0, Time 6",
          "Run 0, Time 7",
          "Run 0, Time 8",
          "Run 0, Time 9",
          "Run 0, Time 10",
          "Run 0, Time 11",
          "Run 0, Time 12",
          "Run 0, Time 13",
          "Run 0, Time 14",
          "Run 0, Time 0",
          "Run 0, Time 1",
          "Run 0, Time 2",
          "Run 0, Time 3",
          "Run 0, Time 4",
          "Run 0, Time 5",
          "Run 0, Time 6",
          "Run 0, Time 7",
          "Run 0, Time 8",
          "Run 0, Time 9",
          "Run 0, Time 10",
          "Run 0, Time 11",
          "Run 0, Time 12",
          "Run 0, Time 13",
          "Run 0, Time 14",
          "Run 0, Time 0",
          "Run 0, Time 1",
          "Run 0, Time 2",
          "Run 0, Time 3",
          "Run 0, Time 4",
          "Run 0, Time 5",
          "Run 0, Time 6",
          "Run 0, Time 7",
          "Run 0, Time 8",
          "Run 0, Time 9",
          "Run 0, Time 10",
          "Run 0, Time 11",
          "Run 0, Time 12",
          "Run 0, Time 13",
          "Run 0, Time 14",
          "Run 0, Time 0",
          "Run 0, Time 1",
          "Run 0, Time 2",
          "Run 0, Time 3",
          "Run 0, Time 4",
          "Run 0, Time 5",
          "Run 0, Time 6",
          "Run 0, Time 7",
          "Run 0, Time 8",
          "Run 0, Time 9",
          "Run 0, Time 10",
          "Run 0, Time 11",
          "Run 0, Time 12",
          "Run 0, Time 13",
          "Run 0, Time 14",
          "Run 0, Time 0",
          "Run 0, Time 1",
          "Run 0, Time 2",
          "Run 0, Time 3",
          "Run 0, Time 4",
          "Run 0, Time 5",
          "Run 0, Time 6",
          "Run 0, Time 7",
          "Run 0, Time 8",
          "Run 0, Time 9",
          "Run 0, Time 10",
          "Run 0, Time 11",
          "Run 0, Time 12",
          "Run 0, Time 13",
          "Run 0, Time 14",
          "Run 0, Time 0",
          "Run 0, Time 1",
          "Run 0, Time 2",
          "Run 0, Time 3",
          "Run 0, Time 4",
          "Run 0, Time 5",
          "Run 0, Time 6",
          "Run 0, Time 7",
          "Run 0, Time 8",
          "Run 0, Time 9",
          "Run 0, Time 10",
          "Run 0, Time 11",
          "Run 0, Time 12",
          "Run 0, Time 13",
          "Run 0, Time 14",
          "Run 0, Time 0",
          "Run 0, Time 1",
          "Run 0, Time 2",
          "Run 0, Time 3",
          "Run 0, Time 4",
          "Run 0, Time 5",
          "Run 0, Time 6",
          "Run 0, Time 7",
          "Run 0, Time 8",
          "Run 0, Time 9",
          "Run 0, Time 10",
          "Run 0, Time 11",
          "Run 0, Time 12",
          "Run 0, Time 13",
          "Run 0, Time 14",
          "Run 0, Time 0",
          "Run 0, Time 1",
          "Run 0, Time 2",
          "Run 0, Time 3",
          "Run 0, Time 4",
          "Run 0, Time 5",
          "Run 0, Time 6",
          "Run 0, Time 7",
          "Run 0, Time 8",
          "Run 0, Time 9",
          "Run 0, Time 10",
          "Run 0, Time 11",
          "Run 0, Time 12",
          "Run 0, Time 13",
          "Run 0, Time 14",
          "Run 0, Time 0",
          "Run 0, Time 1",
          "Run 0, Time 2",
          "Run 0, Time 3",
          "Run 0, Time 4",
          "Run 0, Time 5",
          "Run 0, Time 6",
          "Run 0, Time 7",
          "Run 0, Time 8",
          "Run 0, Time 9",
          "Run 0, Time 10",
          "Run 0, Time 11",
          "Run 0, Time 12",
          "Run 0, Time 13",
          "Run 0, Time 14",
          "Run 0, Time 0",
          "Run 0, Time 1",
          "Run 0, Time 2",
          "Run 0, Time 3",
          "Run 0, Time 4",
          "Run 0, Time 5",
          "Run 0, Time 6",
          "Run 0, Time 7",
          "Run 0, Time 8",
          "Run 0, Time 9",
          "Run 0, Time 10",
          "Run 0, Time 11",
          "Run 0, Time 12",
          "Run 0, Time 13",
          "Run 0, Time 14",
          "Run 0, Time 0",
          "Run 0, Time 1",
          "Run 0, Time 2",
          "Run 0, Time 3",
          "Run 0, Time 4",
          "Run 0, Time 5",
          "Run 0, Time 6",
          "Run 0, Time 7",
          "Run 0, Time 8",
          "Run 0, Time 9",
          "Run 0, Time 10",
          "Run 0, Time 11",
          "Run 0, Time 12",
          "Run 0, Time 13",
          "Run 0, Time 14"
         ],
         "textposition": "top center",
         "type": "scatter",
         "x": [
          -0.6487955767400817,
          -0.6967210328115215,
          -1.6393124098346263,
          -1.828606245651543,
          -1.8864338831330405,
          -1.6077011799298948,
          -1.0634337242420586,
          -0.4261800029041536,
          0.17734191425522342,
          0.6879165315466456,
          1.916349954097234,
          2.2654573324112457,
          2.5293671410234126,
          2.725725327331337,
          2.8700920760246604
         ],
         "xaxis": "x",
         "y": [
          2.08175689267875,
          1.9293476787292547,
          0.7173554881388702,
          0.02030924054101281,
          -0.7616557492141284,
          -1.3496477521349326,
          -1.6400977240025163,
          -1.7051575068398197,
          -1.638694383620512,
          -1.50666024239392,
          -0.5378573608283214,
          -0.5155758594678145,
          -0.4925274433918429,
          -0.47176531214258954,
          -0.4543897235216621
         ],
         "yaxis": "y"
        },
        {
         "marker": {
          "color": "black"
         },
         "mode": "markers",
         "name": "origin",
         "type": "scatter",
         "x": [
          0,
          0
         ],
         "xaxis": "x2",
         "y": [
          0,
          0
         ],
         "yaxis": "y2"
        }
       ],
       "layout": {
        "annotations": [
         {
          "font": {
           "size": 16
          },
          "showarrow": false,
          "text": "OWU PCA scores plot",
          "x": 0.5,
          "xanchor": "center",
          "xref": "paper",
          "y": 1,
          "yanchor": "bottom",
          "yref": "paper"
         },
         {
          "font": {
           "size": 16
          },
          "showarrow": false,
          "text": "OWU PCA loadings plot",
          "x": 0.5,
          "xanchor": "center",
          "xref": "paper",
          "y": 0.46,
          "yanchor": "bottom",
          "yref": "paper"
         },
         {
          "ax": 0,
          "ay": 0,
          "text": "X:VCD",
          "x": -0.4979611382091038,
          "xanchor": "center",
          "xref": "x2",
          "y": -0.7827853129091422,
          "yanchor": "bottom",
          "yref": "y2"
         },
         {
          "ax": 0,
          "ay": 0,
          "text": "X:Glc",
          "x": -0.1833687632145602,
          "xanchor": "center",
          "xref": "x2",
          "y": 0.4476169394047829,
          "yanchor": "bottom",
          "yref": "y2"
         },
         {
          "ax": 0,
          "ay": 0,
          "text": "X:Lac",
          "x": 0.8712921466385751,
          "xanchor": "center",
          "xref": "x2",
          "y": -0.4300491978510343,
          "yanchor": "bottom",
          "yref": "y2"
         },
         {
          "ax": 0,
          "ay": 0,
          "text": "X:Titer",
          "x": 0.8981367073211199,
          "xanchor": "center",
          "xref": "x2",
          "y": -0.34334431620151745,
          "yanchor": "bottom",
          "yref": "y2"
         },
         {
          "ax": 0,
          "ay": 0,
          "text": "W:Feed",
          "x": -0.7040561876055617,
          "xanchor": "center",
          "xref": "x2",
          "y": -0.5331263728338946,
          "yanchor": "bottom",
          "yref": "y2"
         }
        ],
        "height": 900,
        "shapes": [
         {
          "type": "line",
          "x0": 0,
          "x1": -0.4979611382091038,
          "xref": "x2",
          "y0": 0,
          "y1": -0.7827853129091422,
          "yref": "y2"
         },
         {
          "type": "line",
          "x0": 0,
          "x1": -0.1833687632145602,
          "xref": "x2",
          "y0": 0,
          "y1": 0.4476169394047829,
          "yref": "y2"
         },
         {
          "type": "line",
          "x0": 0,
          "x1": 0.8712921466385751,
          "xref": "x2",
          "y0": 0,
          "y1": -0.4300491978510343,
          "yref": "y2"
         },
         {
          "type": "line",
          "x0": 0,
          "x1": 0.8981367073211199,
          "xref": "x2",
          "y0": 0,
          "y1": -0.34334431620151745,
          "yref": "y2"
         },
         {
          "type": "line",
          "x0": 0,
          "x1": -0.7040561876055617,
          "xref": "x2",
          "y0": 0,
          "y1": -0.5331263728338946,
          "yref": "y2"
         }
        ],
        "showlegend": false,
        "template": {
         "data": {
          "bar": [
           {
            "error_x": {
             "color": "#2a3f5f"
            },
            "error_y": {
             "color": "#2a3f5f"
            },
            "marker": {
             "line": {
              "color": "white",
              "width": 0.5
             },
             "pattern": {
              "fillmode": "overlay",
              "size": 10,
              "solidity": 0.2
             }
            },
            "type": "bar"
           }
          ],
          "barpolar": [
           {
            "marker": {
             "line": {
              "color": "white",
              "width": 0.5
             },
             "pattern": {
              "fillmode": "overlay",
              "size": 10,
              "solidity": 0.2
             }
            },
            "type": "barpolar"
           }
          ],
          "carpet": [
           {
            "aaxis": {
             "endlinecolor": "#2a3f5f",
             "gridcolor": "#C8D4E3",
             "linecolor": "#C8D4E3",
             "minorgridcolor": "#C8D4E3",
             "startlinecolor": "#2a3f5f"
            },
            "baxis": {
             "endlinecolor": "#2a3f5f",
             "gridcolor": "#C8D4E3",
             "linecolor": "#C8D4E3",
             "minorgridcolor": "#C8D4E3",
             "startlinecolor": "#2a3f5f"
            },
            "type": "carpet"
           }
          ],
          "choropleth": [
           {
            "colorbar": {
             "outlinewidth": 0,
             "ticks": ""
            },
            "type": "choropleth"
           }
          ],
          "contour": [
           {
            "colorbar": {
             "outlinewidth": 0,
             "ticks": ""
            },
            "colorscale": [
             [
              0,
              "#0d0887"
             ],
             [
              0.1111111111111111,
              "#46039f"
             ],
             [
              0.2222222222222222,
              "#7201a8"
             ],
             [
              0.3333333333333333,
              "#9c179e"
             ],
             [
              0.4444444444444444,
              "#bd3786"
             ],
             [
              0.5555555555555556,
              "#d8576b"
             ],
             [
              0.6666666666666666,
              "#ed7953"
             ],
             [
              0.7777777777777778,
              "#fb9f3a"
             ],
             [
              0.8888888888888888,
              "#fdca26"
             ],
             [
              1,
              "#f0f921"
             ]
            ],
            "type": "contour"
           }
          ],
          "contourcarpet": [
           {
            "colorbar": {
             "outlinewidth": 0,
             "ticks": ""
            },
            "type": "contourcarpet"
           }
          ],
          "heatmap": [
           {
            "colorbar": {
             "outlinewidth": 0,
             "ticks": ""
            },
            "colorscale": [
             [
              0,
              "#0d0887"
             ],
             [
              0.1111111111111111,
              "#46039f"
             ],
             [
              0.2222222222222222,
              "#7201a8"
             ],
             [
              0.3333333333333333,
              "#9c179e"
             ],
             [
              0.4444444444444444,
              "#bd3786"
             ],
             [
              0.5555555555555556,
              "#d8576b"
             ],
             [
              0.6666666666666666,
              "#ed7953"
             ],
             [
              0.7777777777777778,
              "#fb9f3a"
             ],
             [
              0.8888888888888888,
              "#fdca26"
             ],
             [
              1,
              "#f0f921"
             ]
            ],
            "type": "heatmap"
           }
          ],
          "heatmapgl": [
           {
            "colorbar": {
             "outlinewidth": 0,
             "ticks": ""
            },
            "colorscale": [
             [
              0,
              "#0d0887"
             ],
             [
              0.1111111111111111,
              "#46039f"
             ],
             [
              0.2222222222222222,
              "#7201a8"
             ],
             [
              0.3333333333333333,
              "#9c179e"
             ],
             [
              0.4444444444444444,
              "#bd3786"
             ],
             [
              0.5555555555555556,
              "#d8576b"
             ],
             [
              0.6666666666666666,
              "#ed7953"
             ],
             [
              0.7777777777777778,
              "#fb9f3a"
             ],
             [
              0.8888888888888888,
              "#fdca26"
             ],
             [
              1,
              "#f0f921"
             ]
            ],
            "type": "heatmapgl"
           }
          ],
          "histogram": [
           {
            "marker": {
             "pattern": {
              "fillmode": "overlay",
              "size": 10,
              "solidity": 0.2
             }
            },
            "type": "histogram"
           }
          ],
          "histogram2d": [
           {
            "colorbar": {
             "outlinewidth": 0,
             "ticks": ""
            },
            "colorscale": [
             [
              0,
              "#0d0887"
             ],
             [
              0.1111111111111111,
              "#46039f"
             ],
             [
              0.2222222222222222,
              "#7201a8"
             ],
             [
              0.3333333333333333,
              "#9c179e"
             ],
             [
              0.4444444444444444,
              "#bd3786"
             ],
             [
              0.5555555555555556,
              "#d8576b"
             ],
             [
              0.6666666666666666,
              "#ed7953"
             ],
             [
              0.7777777777777778,
              "#fb9f3a"
             ],
             [
              0.8888888888888888,
              "#fdca26"
             ],
             [
              1,
              "#f0f921"
             ]
            ],
            "type": "histogram2d"
           }
          ],
          "histogram2dcontour": [
           {
            "colorbar": {
             "outlinewidth": 0,
             "ticks": ""
            },
            "colorscale": [
             [
              0,
              "#0d0887"
             ],
             [
              0.1111111111111111,
              "#46039f"
             ],
             [
              0.2222222222222222,
              "#7201a8"
             ],
             [
              0.3333333333333333,
              "#9c179e"
             ],
             [
              0.4444444444444444,
              "#bd3786"
             ],
             [
              0.5555555555555556,
              "#d8576b"
             ],
             [
              0.6666666666666666,
              "#ed7953"
             ],
             [
              0.7777777777777778,
              "#fb9f3a"
             ],
             [
              0.8888888888888888,
              "#fdca26"
             ],
             [
              1,
              "#f0f921"
             ]
            ],
            "type": "histogram2dcontour"
           }
          ],
          "mesh3d": [
           {
            "colorbar": {
             "outlinewidth": 0,
             "ticks": ""
            },
            "type": "mesh3d"
           }
          ],
          "parcoords": [
           {
            "line": {
             "colorbar": {
              "outlinewidth": 0,
              "ticks": ""
             }
            },
            "type": "parcoords"
           }
          ],
          "pie": [
           {
            "automargin": true,
            "type": "pie"
           }
          ],
          "scatter": [
           {
            "fillpattern": {
             "fillmode": "overlay",
             "size": 10,
             "solidity": 0.2
            },
            "type": "scatter"
           }
          ],
          "scatter3d": [
           {
            "line": {
             "colorbar": {
              "outlinewidth": 0,
              "ticks": ""
             }
            },
            "marker": {
             "colorbar": {
              "outlinewidth": 0,
              "ticks": ""
             }
            },
            "type": "scatter3d"
           }
          ],
          "scattercarpet": [
           {
            "marker": {
             "colorbar": {
              "outlinewidth": 0,
              "ticks": ""
             }
            },
            "type": "scattercarpet"
           }
          ],
          "scattergeo": [
           {
            "marker": {
             "colorbar": {
              "outlinewidth": 0,
              "ticks": ""
             }
            },
            "type": "scattergeo"
           }
          ],
          "scattergl": [
           {
            "marker": {
             "colorbar": {
              "outlinewidth": 0,
              "ticks": ""
             }
            },
            "type": "scattergl"
           }
          ],
          "scattermapbox": [
           {
            "marker": {
             "colorbar": {
              "outlinewidth": 0,
              "ticks": ""
             }
            },
            "type": "scattermapbox"
           }
          ],
          "scatterpolar": [
           {
            "marker": {
             "colorbar": {
              "outlinewidth": 0,
              "ticks": ""
             }
            },
            "type": "scatterpolar"
           }
          ],
          "scatterpolargl": [
           {
            "marker": {
             "colorbar": {
              "outlinewidth": 0,
              "ticks": ""
             }
            },
            "type": "scatterpolargl"
           }
          ],
          "scatterternary": [
           {
            "marker": {
             "colorbar": {
              "outlinewidth": 0,
              "ticks": ""
             }
            },
            "type": "scatterternary"
           }
          ],
          "surface": [
           {
            "colorbar": {
             "outlinewidth": 0,
             "ticks": ""
            },
            "colorscale": [
             [
              0,
              "#0d0887"
             ],
             [
              0.1111111111111111,
              "#46039f"
             ],
             [
              0.2222222222222222,
              "#7201a8"
             ],
             [
              0.3333333333333333,
              "#9c179e"
             ],
             [
              0.4444444444444444,
              "#bd3786"
             ],
             [
              0.5555555555555556,
              "#d8576b"
             ],
             [
              0.6666666666666666,
              "#ed7953"
             ],
             [
              0.7777777777777778,
              "#fb9f3a"
             ],
             [
              0.8888888888888888,
              "#fdca26"
             ],
             [
              1,
              "#f0f921"
             ]
            ],
            "type": "surface"
           }
          ],
          "table": [
           {
            "cells": {
             "fill": {
              "color": "#EBF0F8"
             },
             "line": {
              "color": "white"
             }
            },
            "header": {
             "fill": {
              "color": "#C8D4E3"
             },
             "line": {
              "color": "white"
             }
            },
            "type": "table"
           }
          ]
         },
         "layout": {
          "annotationdefaults": {
           "arrowcolor": "#2a3f5f",
           "arrowhead": 0,
           "arrowwidth": 1
          },
          "autotypenumbers": "strict",
          "coloraxis": {
           "colorbar": {
            "outlinewidth": 0,
            "ticks": ""
           }
          },
          "colorscale": {
           "diverging": [
            [
             0,
             "#8e0152"
            ],
            [
             0.1,
             "#c51b7d"
            ],
            [
             0.2,
             "#de77ae"
            ],
            [
             0.3,
             "#f1b6da"
            ],
            [
             0.4,
             "#fde0ef"
            ],
            [
             0.5,
             "#f7f7f7"
            ],
            [
             0.6,
             "#e6f5d0"
            ],
            [
             0.7,
             "#b8e186"
            ],
            [
             0.8,
             "#7fbc41"
            ],
            [
             0.9,
             "#4d9221"
            ],
            [
             1,
             "#276419"
            ]
           ],
           "sequential": [
            [
             0,
             "#0d0887"
            ],
            [
             0.1111111111111111,
             "#46039f"
            ],
            [
             0.2222222222222222,
             "#7201a8"
            ],
            [
             0.3333333333333333,
             "#9c179e"
            ],
            [
             0.4444444444444444,
             "#bd3786"
            ],
            [
             0.5555555555555556,
             "#d8576b"
            ],
            [
             0.6666666666666666,
             "#ed7953"
            ],
            [
             0.7777777777777778,
             "#fb9f3a"
            ],
            [
             0.8888888888888888,
             "#fdca26"
            ],
            [
             1,
             "#f0f921"
            ]
           ],
           "sequentialminus": [
            [
             0,
             "#0d0887"
            ],
            [
             0.1111111111111111,
             "#46039f"
            ],
            [
             0.2222222222222222,
             "#7201a8"
            ],
            [
             0.3333333333333333,
             "#9c179e"
            ],
            [
             0.4444444444444444,
             "#bd3786"
            ],
            [
             0.5555555555555556,
             "#d8576b"
            ],
            [
             0.6666666666666666,
             "#ed7953"
            ],
            [
             0.7777777777777778,
             "#fb9f3a"
            ],
            [
             0.8888888888888888,
             "#fdca26"
            ],
            [
             1,
             "#f0f921"
            ]
           ]
          },
          "colorway": [
           "#636efa",
           "#EF553B",
           "#00cc96",
           "#ab63fa",
           "#FFA15A",
           "#19d3f3",
           "#FF6692",
           "#B6E880",
           "#FF97FF",
           "#FECB52"
          ],
          "font": {
           "color": "#2a3f5f"
          },
          "geo": {
           "bgcolor": "white",
           "lakecolor": "white",
           "landcolor": "white",
           "showlakes": true,
           "showland": true,
           "subunitcolor": "#C8D4E3"
          },
          "hoverlabel": {
           "align": "left"
          },
          "hovermode": "closest",
          "mapbox": {
           "style": "light"
          },
          "paper_bgcolor": "white",
          "plot_bgcolor": "white",
          "polar": {
           "angularaxis": {
            "gridcolor": "#EBF0F8",
            "linecolor": "#EBF0F8",
            "ticks": ""
           },
           "bgcolor": "white",
           "radialaxis": {
            "gridcolor": "#EBF0F8",
            "linecolor": "#EBF0F8",
            "ticks": ""
           }
          },
          "scene": {
           "xaxis": {
            "backgroundcolor": "white",
            "gridcolor": "#DFE8F3",
            "gridwidth": 2,
            "linecolor": "#EBF0F8",
            "showbackground": true,
            "ticks": "",
            "zerolinecolor": "#EBF0F8"
           },
           "yaxis": {
            "backgroundcolor": "white",
            "gridcolor": "#DFE8F3",
            "gridwidth": 2,
            "linecolor": "#EBF0F8",
            "showbackground": true,
            "ticks": "",
            "zerolinecolor": "#EBF0F8"
           },
           "zaxis": {
            "backgroundcolor": "white",
            "gridcolor": "#DFE8F3",
            "gridwidth": 2,
            "linecolor": "#EBF0F8",
            "showbackground": true,
            "ticks": "",
            "zerolinecolor": "#EBF0F8"
           }
          },
          "shapedefaults": {
           "line": {
            "color": "#2a3f5f"
           }
          },
          "ternary": {
           "aaxis": {
            "gridcolor": "#DFE8F3",
            "linecolor": "#A2B1C6",
            "ticks": ""
           },
           "baxis": {
            "gridcolor": "#DFE8F3",
            "linecolor": "#A2B1C6",
            "ticks": ""
           },
           "bgcolor": "white",
           "caxis": {
            "gridcolor": "#DFE8F3",
            "linecolor": "#A2B1C6",
            "ticks": ""
           }
          },
          "title": {
           "x": 0.05
          },
          "xaxis": {
           "automargin": true,
           "gridcolor": "#EBF0F8",
           "linecolor": "#EBF0F8",
           "ticks": "",
           "title": {
            "standoff": 15
           },
           "zerolinecolor": "#EBF0F8",
           "zerolinewidth": 2
          },
          "yaxis": {
           "automargin": true,
           "gridcolor": "#EBF0F8",
           "linecolor": "#EBF0F8",
           "ticks": "",
           "title": {
            "standoff": 15
           },
           "zerolinecolor": "#EBF0F8",
           "zerolinewidth": 2
          }
         }
        },
        "width": 1200,
        "xaxis": {
         "anchor": "y",
         "domain": [
          0,
          1
         ]
        },
        "xaxis2": {
         "anchor": "y2",
         "domain": [
          0,
          1
         ],
         "title": {
          "text": "Principal Component - 1 (0.47%)"
         }
        },
        "yaxis": {
         "anchor": "x",
         "domain": [
          0.54,
          1
         ],
         "title": {
          "text": "Principal Component - 2 (0.28%)"
         }
        },
        "yaxis2": {
         "anchor": "x2",
         "domain": [
          0,
          0.46
         ],
         "title": {
          "text": "Principal Component - 2 (0.28%)"
         }
        }
       }
      }
     },
     "metadata": {},
     "output_type": "display_data"
    },
    {
     "data": {
      "application/vnd.plotly.v1+json": {
       "config": {
        "plotlyServerURL": "https://plot.ly"
       },
       "data": [
        {
         "type": "bar",
         "x": [
          "X:VCD",
          "X:Glc",
          "X:Lac",
          "X:Titer",
          "W:Feed"
         ],
         "xaxis": "x",
         "y": [
          -0.4979611382091038,
          -0.1833687632145602,
          0.8712921466385751,
          0.8981367073211199,
          -0.7040561876055617
         ],
         "yaxis": "y"
        },
        {
         "type": "bar",
         "x": [
          "X:VCD",
          "X:Glc",
          "X:Lac",
          "X:Titer",
          "W:Feed"
         ],
         "xaxis": "x2",
         "y": [
          -0.7827853129091422,
          0.4476169394047829,
          -0.4300491978510343,
          -0.34334431620151745,
          -0.5331263728338946
         ],
         "yaxis": "y2"
        }
       ],
       "layout": {
        "annotations": [
         {
          "font": {
           "size": 16
          },
          "showarrow": false,
          "text": "OWU Loadings of Principal Component - 1",
          "x": 0.225,
          "xanchor": "center",
          "xref": "paper",
          "y": 1,
          "yanchor": "bottom",
          "yref": "paper"
         },
         {
          "font": {
           "size": 16
          },
          "showarrow": false,
          "text": "OWU Loadings of Principal Component - 2",
          "x": 0.775,
          "xanchor": "center",
          "xref": "paper",
          "y": 1,
          "yanchor": "bottom",
          "yref": "paper"
         }
        ],
        "height": 450,
        "showlegend": false,
        "template": {
         "data": {
          "bar": [
           {
            "error_x": {
             "color": "#2a3f5f"
            },
            "error_y": {
             "color": "#2a3f5f"
            },
            "marker": {
             "line": {
              "color": "white",
              "width": 0.5
             },
             "pattern": {
              "fillmode": "overlay",
              "size": 10,
              "solidity": 0.2
             }
            },
            "type": "bar"
           }
          ],
          "barpolar": [
           {
            "marker": {
             "line": {
              "color": "white",
              "width": 0.5
             },
             "pattern": {
              "fillmode": "overlay",
              "size": 10,
              "solidity": 0.2
             }
            },
            "type": "barpolar"
           }
          ],
          "carpet": [
           {
            "aaxis": {
             "endlinecolor": "#2a3f5f",
             "gridcolor": "#C8D4E3",
             "linecolor": "#C8D4E3",
             "minorgridcolor": "#C8D4E3",
             "startlinecolor": "#2a3f5f"
            },
            "baxis": {
             "endlinecolor": "#2a3f5f",
             "gridcolor": "#C8D4E3",
             "linecolor": "#C8D4E3",
             "minorgridcolor": "#C8D4E3",
             "startlinecolor": "#2a3f5f"
            },
            "type": "carpet"
           }
          ],
          "choropleth": [
           {
            "colorbar": {
             "outlinewidth": 0,
             "ticks": ""
            },
            "type": "choropleth"
           }
          ],
          "contour": [
           {
            "colorbar": {
             "outlinewidth": 0,
             "ticks": ""
            },
            "colorscale": [
             [
              0,
              "#0d0887"
             ],
             [
              0.1111111111111111,
              "#46039f"
             ],
             [
              0.2222222222222222,
              "#7201a8"
             ],
             [
              0.3333333333333333,
              "#9c179e"
             ],
             [
              0.4444444444444444,
              "#bd3786"
             ],
             [
              0.5555555555555556,
              "#d8576b"
             ],
             [
              0.6666666666666666,
              "#ed7953"
             ],
             [
              0.7777777777777778,
              "#fb9f3a"
             ],
             [
              0.8888888888888888,
              "#fdca26"
             ],
             [
              1,
              "#f0f921"
             ]
            ],
            "type": "contour"
           }
          ],
          "contourcarpet": [
           {
            "colorbar": {
             "outlinewidth": 0,
             "ticks": ""
            },
            "type": "contourcarpet"
           }
          ],
          "heatmap": [
           {
            "colorbar": {
             "outlinewidth": 0,
             "ticks": ""
            },
            "colorscale": [
             [
              0,
              "#0d0887"
             ],
             [
              0.1111111111111111,
              "#46039f"
             ],
             [
              0.2222222222222222,
              "#7201a8"
             ],
             [
              0.3333333333333333,
              "#9c179e"
             ],
             [
              0.4444444444444444,
              "#bd3786"
             ],
             [
              0.5555555555555556,
              "#d8576b"
             ],
             [
              0.6666666666666666,
              "#ed7953"
             ],
             [
              0.7777777777777778,
              "#fb9f3a"
             ],
             [
              0.8888888888888888,
              "#fdca26"
             ],
             [
              1,
              "#f0f921"
             ]
            ],
            "type": "heatmap"
           }
          ],
          "heatmapgl": [
           {
            "colorbar": {
             "outlinewidth": 0,
             "ticks": ""
            },
            "colorscale": [
             [
              0,
              "#0d0887"
             ],
             [
              0.1111111111111111,
              "#46039f"
             ],
             [
              0.2222222222222222,
              "#7201a8"
             ],
             [
              0.3333333333333333,
              "#9c179e"
             ],
             [
              0.4444444444444444,
              "#bd3786"
             ],
             [
              0.5555555555555556,
              "#d8576b"
             ],
             [
              0.6666666666666666,
              "#ed7953"
             ],
             [
              0.7777777777777778,
              "#fb9f3a"
             ],
             [
              0.8888888888888888,
              "#fdca26"
             ],
             [
              1,
              "#f0f921"
             ]
            ],
            "type": "heatmapgl"
           }
          ],
          "histogram": [
           {
            "marker": {
             "pattern": {
              "fillmode": "overlay",
              "size": 10,
              "solidity": 0.2
             }
            },
            "type": "histogram"
           }
          ],
          "histogram2d": [
           {
            "colorbar": {
             "outlinewidth": 0,
             "ticks": ""
            },
            "colorscale": [
             [
              0,
              "#0d0887"
             ],
             [
              0.1111111111111111,
              "#46039f"
             ],
             [
              0.2222222222222222,
              "#7201a8"
             ],
             [
              0.3333333333333333,
              "#9c179e"
             ],
             [
              0.4444444444444444,
              "#bd3786"
             ],
             [
              0.5555555555555556,
              "#d8576b"
             ],
             [
              0.6666666666666666,
              "#ed7953"
             ],
             [
              0.7777777777777778,
              "#fb9f3a"
             ],
             [
              0.8888888888888888,
              "#fdca26"
             ],
             [
              1,
              "#f0f921"
             ]
            ],
            "type": "histogram2d"
           }
          ],
          "histogram2dcontour": [
           {
            "colorbar": {
             "outlinewidth": 0,
             "ticks": ""
            },
            "colorscale": [
             [
              0,
              "#0d0887"
             ],
             [
              0.1111111111111111,
              "#46039f"
             ],
             [
              0.2222222222222222,
              "#7201a8"
             ],
             [
              0.3333333333333333,
              "#9c179e"
             ],
             [
              0.4444444444444444,
              "#bd3786"
             ],
             [
              0.5555555555555556,
              "#d8576b"
             ],
             [
              0.6666666666666666,
              "#ed7953"
             ],
             [
              0.7777777777777778,
              "#fb9f3a"
             ],
             [
              0.8888888888888888,
              "#fdca26"
             ],
             [
              1,
              "#f0f921"
             ]
            ],
            "type": "histogram2dcontour"
           }
          ],
          "mesh3d": [
           {
            "colorbar": {
             "outlinewidth": 0,
             "ticks": ""
            },
            "type": "mesh3d"
           }
          ],
          "parcoords": [
           {
            "line": {
             "colorbar": {
              "outlinewidth": 0,
              "ticks": ""
             }
            },
            "type": "parcoords"
           }
          ],
          "pie": [
           {
            "automargin": true,
            "type": "pie"
           }
          ],
          "scatter": [
           {
            "fillpattern": {
             "fillmode": "overlay",
             "size": 10,
             "solidity": 0.2
            },
            "type": "scatter"
           }
          ],
          "scatter3d": [
           {
            "line": {
             "colorbar": {
              "outlinewidth": 0,
              "ticks": ""
             }
            },
            "marker": {
             "colorbar": {
              "outlinewidth": 0,
              "ticks": ""
             }
            },
            "type": "scatter3d"
           }
          ],
          "scattercarpet": [
           {
            "marker": {
             "colorbar": {
              "outlinewidth": 0,
              "ticks": ""
             }
            },
            "type": "scattercarpet"
           }
          ],
          "scattergeo": [
           {
            "marker": {
             "colorbar": {
              "outlinewidth": 0,
              "ticks": ""
             }
            },
            "type": "scattergeo"
           }
          ],
          "scattergl": [
           {
            "marker": {
             "colorbar": {
              "outlinewidth": 0,
              "ticks": ""
             }
            },
            "type": "scattergl"
           }
          ],
          "scattermapbox": [
           {
            "marker": {
             "colorbar": {
              "outlinewidth": 0,
              "ticks": ""
             }
            },
            "type": "scattermapbox"
           }
          ],
          "scatterpolar": [
           {
            "marker": {
             "colorbar": {
              "outlinewidth": 0,
              "ticks": ""
             }
            },
            "type": "scatterpolar"
           }
          ],
          "scatterpolargl": [
           {
            "marker": {
             "colorbar": {
              "outlinewidth": 0,
              "ticks": ""
             }
            },
            "type": "scatterpolargl"
           }
          ],
          "scatterternary": [
           {
            "marker": {
             "colorbar": {
              "outlinewidth": 0,
              "ticks": ""
             }
            },
            "type": "scatterternary"
           }
          ],
          "surface": [
           {
            "colorbar": {
             "outlinewidth": 0,
             "ticks": ""
            },
            "colorscale": [
             [
              0,
              "#0d0887"
             ],
             [
              0.1111111111111111,
              "#46039f"
             ],
             [
              0.2222222222222222,
              "#7201a8"
             ],
             [
              0.3333333333333333,
              "#9c179e"
             ],
             [
              0.4444444444444444,
              "#bd3786"
             ],
             [
              0.5555555555555556,
              "#d8576b"
             ],
             [
              0.6666666666666666,
              "#ed7953"
             ],
             [
              0.7777777777777778,
              "#fb9f3a"
             ],
             [
              0.8888888888888888,
              "#fdca26"
             ],
             [
              1,
              "#f0f921"
             ]
            ],
            "type": "surface"
           }
          ],
          "table": [
           {
            "cells": {
             "fill": {
              "color": "#EBF0F8"
             },
             "line": {
              "color": "white"
             }
            },
            "header": {
             "fill": {
              "color": "#C8D4E3"
             },
             "line": {
              "color": "white"
             }
            },
            "type": "table"
           }
          ]
         },
         "layout": {
          "annotationdefaults": {
           "arrowcolor": "#2a3f5f",
           "arrowhead": 0,
           "arrowwidth": 1
          },
          "autotypenumbers": "strict",
          "coloraxis": {
           "colorbar": {
            "outlinewidth": 0,
            "ticks": ""
           }
          },
          "colorscale": {
           "diverging": [
            [
             0,
             "#8e0152"
            ],
            [
             0.1,
             "#c51b7d"
            ],
            [
             0.2,
             "#de77ae"
            ],
            [
             0.3,
             "#f1b6da"
            ],
            [
             0.4,
             "#fde0ef"
            ],
            [
             0.5,
             "#f7f7f7"
            ],
            [
             0.6,
             "#e6f5d0"
            ],
            [
             0.7,
             "#b8e186"
            ],
            [
             0.8,
             "#7fbc41"
            ],
            [
             0.9,
             "#4d9221"
            ],
            [
             1,
             "#276419"
            ]
           ],
           "sequential": [
            [
             0,
             "#0d0887"
            ],
            [
             0.1111111111111111,
             "#46039f"
            ],
            [
             0.2222222222222222,
             "#7201a8"
            ],
            [
             0.3333333333333333,
             "#9c179e"
            ],
            [
             0.4444444444444444,
             "#bd3786"
            ],
            [
             0.5555555555555556,
             "#d8576b"
            ],
            [
             0.6666666666666666,
             "#ed7953"
            ],
            [
             0.7777777777777778,
             "#fb9f3a"
            ],
            [
             0.8888888888888888,
             "#fdca26"
            ],
            [
             1,
             "#f0f921"
            ]
           ],
           "sequentialminus": [
            [
             0,
             "#0d0887"
            ],
            [
             0.1111111111111111,
             "#46039f"
            ],
            [
             0.2222222222222222,
             "#7201a8"
            ],
            [
             0.3333333333333333,
             "#9c179e"
            ],
            [
             0.4444444444444444,
             "#bd3786"
            ],
            [
             0.5555555555555556,
             "#d8576b"
            ],
            [
             0.6666666666666666,
             "#ed7953"
            ],
            [
             0.7777777777777778,
             "#fb9f3a"
            ],
            [
             0.8888888888888888,
             "#fdca26"
            ],
            [
             1,
             "#f0f921"
            ]
           ]
          },
          "colorway": [
           "#636efa",
           "#EF553B",
           "#00cc96",
           "#ab63fa",
           "#FFA15A",
           "#19d3f3",
           "#FF6692",
           "#B6E880",
           "#FF97FF",
           "#FECB52"
          ],
          "font": {
           "color": "#2a3f5f"
          },
          "geo": {
           "bgcolor": "white",
           "lakecolor": "white",
           "landcolor": "white",
           "showlakes": true,
           "showland": true,
           "subunitcolor": "#C8D4E3"
          },
          "hoverlabel": {
           "align": "left"
          },
          "hovermode": "closest",
          "mapbox": {
           "style": "light"
          },
          "paper_bgcolor": "white",
          "plot_bgcolor": "white",
          "polar": {
           "angularaxis": {
            "gridcolor": "#EBF0F8",
            "linecolor": "#EBF0F8",
            "ticks": ""
           },
           "bgcolor": "white",
           "radialaxis": {
            "gridcolor": "#EBF0F8",
            "linecolor": "#EBF0F8",
            "ticks": ""
           }
          },
          "scene": {
           "xaxis": {
            "backgroundcolor": "white",
            "gridcolor": "#DFE8F3",
            "gridwidth": 2,
            "linecolor": "#EBF0F8",
            "showbackground": true,
            "ticks": "",
            "zerolinecolor": "#EBF0F8"
           },
           "yaxis": {
            "backgroundcolor": "white",
            "gridcolor": "#DFE8F3",
            "gridwidth": 2,
            "linecolor": "#EBF0F8",
            "showbackground": true,
            "ticks": "",
            "zerolinecolor": "#EBF0F8"
           },
           "zaxis": {
            "backgroundcolor": "white",
            "gridcolor": "#DFE8F3",
            "gridwidth": 2,
            "linecolor": "#EBF0F8",
            "showbackground": true,
            "ticks": "",
            "zerolinecolor": "#EBF0F8"
           }
          },
          "shapedefaults": {
           "line": {
            "color": "#2a3f5f"
           }
          },
          "ternary": {
           "aaxis": {
            "gridcolor": "#DFE8F3",
            "linecolor": "#A2B1C6",
            "ticks": ""
           },
           "baxis": {
            "gridcolor": "#DFE8F3",
            "linecolor": "#A2B1C6",
            "ticks": ""
           },
           "bgcolor": "white",
           "caxis": {
            "gridcolor": "#DFE8F3",
            "linecolor": "#A2B1C6",
            "ticks": ""
           }
          },
          "title": {
           "x": 0.05
          },
          "xaxis": {
           "automargin": true,
           "gridcolor": "#EBF0F8",
           "linecolor": "#EBF0F8",
           "ticks": "",
           "title": {
            "standoff": 15
           },
           "zerolinecolor": "#EBF0F8",
           "zerolinewidth": 2
          },
          "yaxis": {
           "automargin": true,
           "gridcolor": "#EBF0F8",
           "linecolor": "#EBF0F8",
           "ticks": "",
           "title": {
            "standoff": 15
           },
           "zerolinecolor": "#EBF0F8",
           "zerolinewidth": 2
          }
         }
        },
        "width": 1200,
        "xaxis": {
         "anchor": "y",
         "domain": [
          0,
          0.45
         ]
        },
        "xaxis2": {
         "anchor": "y2",
         "domain": [
          0.55,
          1
         ]
        },
        "yaxis": {
         "anchor": "x",
         "domain": [
          0,
          1
         ]
        },
        "yaxis2": {
         "anchor": "x2",
         "domain": [
          0,
          1
         ]
        }
       }
      }
     },
     "metadata": {},
     "output_type": "display_data"
    }
   ],
   "source": [
    "plot_scores_loadings_owu(owu, pc_x_axis=1, pc_y_axis=2, highlight_run=0, highlight_type='Time_id')"
   ]
  },
  {
   "cell_type": "markdown",
   "metadata": {},
   "source": [
    "### Mahalanobis distance of observations \n",
    "- equal to the euclidean distance in PCA space"
   ]
  },
  {
   "cell_type": "code",
   "execution_count": 14,
   "metadata": {},
   "outputs": [],
   "source": [
    "def plot_mahalanobis_distance_owu(owu, highlight_run=0, width=1600):\n",
    "    owu = owu.drop([\"timesteps\"], axis=1)\n",
    "    scaler = StandardScaler()\n",
    "    owu_normalized = scaler.fit_transform(owu)\n",
    "\n",
    "    # Run PCA on scaled data\n",
    "    owupca = PCA()\n",
    "    owupca.fit(owu_normalized)\n",
    "\n",
    "    # Run PCA analysis\n",
    "    owu_components = owupca.fit_transform(owu_normalized)\n",
    "\n",
    "    # Calculate mahalanobis distance\n",
    "    owu_mahalanobis = (\n",
    "        EmpiricalCovariance().fit(owu_components).mahalanobis(owu_components)\n",
    "    )\n",
    "    T2threshold = chi2.ppf(0.95, owu_components.shape[1] - 1)\n",
    "\n",
    "    # Plot mahalanobis distance\n",
    "    fig = px.bar(\n",
    "        x=list(range(len(owu_mahalanobis))),\n",
    "        y=owu_mahalanobis,\n",
    "        labels=dict(x=\"OWU Observation Id.\", y=\"Mahalanobis distance\", color=\"Run_id\"),\n",
    "        title=\"OWU Mahalanobis distance with 95% Confidence Interval\",\n",
    "        color=owu.index.get_level_values(0),\n",
    "        color_continuous_scale=px.colors.cyclical.HSV,\n",
    "    )\n",
    "    fig.add_hline(y=T2threshold)\n",
    "\n",
    "    highlight_run_ix = owu.index.get_level_values(\"run\") == highlight_run\n",
    "\n",
    "    fig.add_trace(\n",
    "        go.Bar(\n",
    "            x=list(np.array(range(len(owu_mahalanobis)))[highlight_run_ix]),\n",
    "            y=owu_mahalanobis[highlight_run_ix],\n",
    "            marker_color=\"black\",\n",
    "        )\n",
    "    )\n",
    "    fig.update_layout(width=width, showlegend=False, coloraxis_showscale=True)\n",
    "    fig.update_layout(barmode=\"overlay\")\n",
    "    fig.show()"
   ]
  },
  {
   "cell_type": "code",
   "execution_count": 15,
   "metadata": {},
   "outputs": [
    {
     "data": {
      "application/vnd.plotly.v1+json": {
       "config": {
        "plotlyServerURL": "https://plot.ly"
       },
       "data": [
        {
         "alignmentgroup": "True",
         "hovertemplate": "OWU Observation Id.=%{x}<br>Mahalanobis distance=%{y}<br>Run_id=%{marker.color}<extra></extra>",
         "legendgroup": "",
         "marker": {
          "color": [
           0,
           0,
           0,
           0,
           0,
           0,
           0,
           0,
           0,
           0,
           0,
           0,
           0,
           0,
           0,
           1,
           1,
           1,
           1,
           1,
           1,
           1,
           1,
           1,
           1,
           1,
           1,
           1,
           1,
           1,
           2,
           2,
           2,
           2,
           2,
           2,
           2,
           2,
           2,
           2,
           2,
           2,
           2,
           2,
           2,
           3,
           3,
           3,
           3,
           3,
           3,
           3,
           3,
           3,
           3,
           3,
           3,
           3,
           3,
           3,
           4,
           4,
           4,
           4,
           4,
           4,
           4,
           4,
           4,
           4,
           4,
           4,
           4,
           4,
           4,
           5,
           5,
           5,
           5,
           5,
           5,
           5,
           5,
           5,
           5,
           5,
           5,
           5,
           5,
           5,
           6,
           6,
           6,
           6,
           6,
           6,
           6,
           6,
           6,
           6,
           6,
           6,
           6,
           6,
           6,
           7,
           7,
           7,
           7,
           7,
           7,
           7,
           7,
           7,
           7,
           7,
           7,
           7,
           7,
           7,
           8,
           8,
           8,
           8,
           8,
           8,
           8,
           8,
           8,
           8,
           8,
           8,
           8,
           8,
           8,
           9,
           9,
           9,
           9,
           9,
           9,
           9,
           9,
           9,
           9,
           9,
           9,
           9,
           9,
           9,
           10,
           10,
           10,
           10,
           10,
           10,
           10,
           10,
           10,
           10,
           10,
           10,
           10,
           10,
           10,
           11,
           11,
           11,
           11,
           11,
           11,
           11,
           11,
           11,
           11,
           11,
           11,
           11,
           11,
           11,
           12,
           12,
           12,
           12,
           12,
           12,
           12,
           12,
           12,
           12,
           12,
           12,
           12,
           12,
           12,
           13,
           13,
           13,
           13,
           13,
           13,
           13,
           13,
           13,
           13,
           13,
           13,
           13,
           13,
           13,
           14,
           14,
           14,
           14,
           14,
           14,
           14,
           14,
           14,
           14,
           14,
           14,
           14,
           14,
           14,
           15,
           15,
           15,
           15,
           15,
           15,
           15,
           15,
           15,
           15,
           15,
           15,
           15,
           15,
           15,
           16,
           16,
           16,
           16,
           16,
           16,
           16,
           16,
           16,
           16,
           16,
           16,
           16,
           16,
           16,
           17,
           17,
           17,
           17,
           17,
           17,
           17,
           17,
           17,
           17,
           17,
           17,
           17,
           17,
           17,
           18,
           18,
           18,
           18,
           18,
           18,
           18,
           18,
           18,
           18,
           18,
           18,
           18,
           18,
           18,
           19,
           19,
           19,
           19,
           19,
           19,
           19,
           19,
           19,
           19,
           19,
           19,
           19,
           19,
           19,
           20,
           20,
           20,
           20,
           20,
           20,
           20,
           20,
           20,
           20,
           20,
           20,
           20,
           20,
           20,
           21,
           21,
           21,
           21,
           21,
           21,
           21,
           21,
           21,
           21,
           21,
           21,
           21,
           21,
           21,
           22,
           22,
           22,
           22,
           22,
           22,
           22,
           22,
           22,
           22,
           22,
           22,
           22,
           22,
           22,
           23,
           23,
           23,
           23,
           23,
           23,
           23,
           23,
           23,
           23,
           23,
           23,
           23,
           23,
           23,
           24,
           24,
           24,
           24,
           24,
           24,
           24,
           24,
           24,
           24,
           24,
           24,
           24,
           24,
           24,
           25,
           25,
           25,
           25,
           25,
           25,
           25,
           25,
           25,
           25,
           25,
           25,
           25,
           25,
           25,
           26,
           26,
           26,
           26,
           26,
           26,
           26,
           26,
           26,
           26,
           26,
           26,
           26,
           26,
           26,
           27,
           27,
           27,
           27,
           27,
           27,
           27,
           27,
           27,
           27,
           27,
           27,
           27,
           27,
           27,
           28,
           28,
           28,
           28,
           28,
           28,
           28,
           28,
           28,
           28,
           28,
           28,
           28,
           28,
           28,
           29,
           29,
           29,
           29,
           29,
           29,
           29,
           29,
           29,
           29,
           29,
           29,
           29,
           29,
           29,
           30,
           30,
           30,
           30,
           30,
           30,
           30,
           30,
           30,
           30,
           30,
           30,
           30,
           30,
           30,
           31,
           31,
           31,
           31,
           31,
           31,
           31,
           31,
           31,
           31,
           31,
           31,
           31,
           31,
           31,
           32,
           32,
           32,
           32,
           32,
           32,
           32,
           32,
           32,
           32,
           32,
           32,
           32,
           32,
           32,
           33,
           33,
           33,
           33,
           33,
           33,
           33,
           33,
           33,
           33,
           33,
           33,
           33,
           33,
           33,
           34,
           34,
           34,
           34,
           34,
           34,
           34,
           34,
           34,
           34,
           34,
           34,
           34,
           34,
           34,
           35,
           35,
           35,
           35,
           35,
           35,
           35,
           35,
           35,
           35,
           35,
           35,
           35,
           35,
           35,
           36,
           36,
           36,
           36,
           36,
           36,
           36,
           36,
           36,
           36,
           36,
           36,
           36,
           36,
           36,
           37,
           37,
           37,
           37,
           37,
           37,
           37,
           37,
           37,
           37,
           37,
           37,
           37,
           37,
           37,
           38,
           38,
           38,
           38,
           38,
           38,
           38,
           38,
           38,
           38,
           38,
           38,
           38,
           38,
           38,
           39,
           39,
           39,
           39,
           39,
           39,
           39,
           39,
           39,
           39,
           39,
           39,
           39,
           39,
           39,
           40,
           40,
           40,
           40,
           40,
           40,
           40,
           40,
           40,
           40,
           40,
           40,
           40,
           40,
           40,
           41,
           41,
           41,
           41,
           41,
           41,
           41,
           41,
           41,
           41,
           41,
           41,
           41,
           41,
           41,
           42,
           42,
           42,
           42,
           42,
           42,
           42,
           42,
           42,
           42,
           42,
           42,
           42,
           42,
           42,
           43,
           43,
           43,
           43,
           43,
           43,
           43,
           43,
           43,
           43,
           43,
           43,
           43,
           43,
           43,
           44,
           44,
           44,
           44,
           44,
           44,
           44,
           44,
           44,
           44,
           44,
           44,
           44,
           44,
           44,
           45,
           45,
           45,
           45,
           45,
           45,
           45,
           45,
           45,
           45,
           45,
           45,
           45,
           45,
           45,
           46,
           46,
           46,
           46,
           46,
           46,
           46,
           46,
           46,
           46,
           46,
           46,
           46,
           46,
           46,
           47,
           47,
           47,
           47,
           47,
           47,
           47,
           47,
           47,
           47,
           47,
           47,
           47,
           47,
           47,
           48,
           48,
           48,
           48,
           48,
           48,
           48,
           48,
           48,
           48,
           48,
           48,
           48,
           48,
           48,
           49,
           49,
           49,
           49,
           49,
           49,
           49,
           49,
           49,
           49,
           49,
           49,
           49,
           49,
           49
          ],
          "coloraxis": "coloraxis",
          "pattern": {
           "shape": ""
          }
         },
         "name": "",
         "offsetgroup": "",
         "orientation": "v",
         "showlegend": false,
         "textposition": "auto",
         "type": "bar",
         "x": [
          0,
          1,
          2,
          3,
          4,
          5,
          6,
          7,
          8,
          9,
          10,
          11,
          12,
          13,
          14,
          15,
          16,
          17,
          18,
          19,
          20,
          21,
          22,
          23,
          24,
          25,
          26,
          27,
          28,
          29,
          30,
          31,
          32,
          33,
          34,
          35,
          36,
          37,
          38,
          39,
          40,
          41,
          42,
          43,
          44,
          45,
          46,
          47,
          48,
          49,
          50,
          51,
          52,
          53,
          54,
          55,
          56,
          57,
          58,
          59,
          60,
          61,
          62,
          63,
          64,
          65,
          66,
          67,
          68,
          69,
          70,
          71,
          72,
          73,
          74,
          75,
          76,
          77,
          78,
          79,
          80,
          81,
          82,
          83,
          84,
          85,
          86,
          87,
          88,
          89,
          90,
          91,
          92,
          93,
          94,
          95,
          96,
          97,
          98,
          99,
          100,
          101,
          102,
          103,
          104,
          105,
          106,
          107,
          108,
          109,
          110,
          111,
          112,
          113,
          114,
          115,
          116,
          117,
          118,
          119,
          120,
          121,
          122,
          123,
          124,
          125,
          126,
          127,
          128,
          129,
          130,
          131,
          132,
          133,
          134,
          135,
          136,
          137,
          138,
          139,
          140,
          141,
          142,
          143,
          144,
          145,
          146,
          147,
          148,
          149,
          150,
          151,
          152,
          153,
          154,
          155,
          156,
          157,
          158,
          159,
          160,
          161,
          162,
          163,
          164,
          165,
          166,
          167,
          168,
          169,
          170,
          171,
          172,
          173,
          174,
          175,
          176,
          177,
          178,
          179,
          180,
          181,
          182,
          183,
          184,
          185,
          186,
          187,
          188,
          189,
          190,
          191,
          192,
          193,
          194,
          195,
          196,
          197,
          198,
          199,
          200,
          201,
          202,
          203,
          204,
          205,
          206,
          207,
          208,
          209,
          210,
          211,
          212,
          213,
          214,
          215,
          216,
          217,
          218,
          219,
          220,
          221,
          222,
          223,
          224,
          225,
          226,
          227,
          228,
          229,
          230,
          231,
          232,
          233,
          234,
          235,
          236,
          237,
          238,
          239,
          240,
          241,
          242,
          243,
          244,
          245,
          246,
          247,
          248,
          249,
          250,
          251,
          252,
          253,
          254,
          255,
          256,
          257,
          258,
          259,
          260,
          261,
          262,
          263,
          264,
          265,
          266,
          267,
          268,
          269,
          270,
          271,
          272,
          273,
          274,
          275,
          276,
          277,
          278,
          279,
          280,
          281,
          282,
          283,
          284,
          285,
          286,
          287,
          288,
          289,
          290,
          291,
          292,
          293,
          294,
          295,
          296,
          297,
          298,
          299,
          300,
          301,
          302,
          303,
          304,
          305,
          306,
          307,
          308,
          309,
          310,
          311,
          312,
          313,
          314,
          315,
          316,
          317,
          318,
          319,
          320,
          321,
          322,
          323,
          324,
          325,
          326,
          327,
          328,
          329,
          330,
          331,
          332,
          333,
          334,
          335,
          336,
          337,
          338,
          339,
          340,
          341,
          342,
          343,
          344,
          345,
          346,
          347,
          348,
          349,
          350,
          351,
          352,
          353,
          354,
          355,
          356,
          357,
          358,
          359,
          360,
          361,
          362,
          363,
          364,
          365,
          366,
          367,
          368,
          369,
          370,
          371,
          372,
          373,
          374,
          375,
          376,
          377,
          378,
          379,
          380,
          381,
          382,
          383,
          384,
          385,
          386,
          387,
          388,
          389,
          390,
          391,
          392,
          393,
          394,
          395,
          396,
          397,
          398,
          399,
          400,
          401,
          402,
          403,
          404,
          405,
          406,
          407,
          408,
          409,
          410,
          411,
          412,
          413,
          414,
          415,
          416,
          417,
          418,
          419,
          420,
          421,
          422,
          423,
          424,
          425,
          426,
          427,
          428,
          429,
          430,
          431,
          432,
          433,
          434,
          435,
          436,
          437,
          438,
          439,
          440,
          441,
          442,
          443,
          444,
          445,
          446,
          447,
          448,
          449,
          450,
          451,
          452,
          453,
          454,
          455,
          456,
          457,
          458,
          459,
          460,
          461,
          462,
          463,
          464,
          465,
          466,
          467,
          468,
          469,
          470,
          471,
          472,
          473,
          474,
          475,
          476,
          477,
          478,
          479,
          480,
          481,
          482,
          483,
          484,
          485,
          486,
          487,
          488,
          489,
          490,
          491,
          492,
          493,
          494,
          495,
          496,
          497,
          498,
          499,
          500,
          501,
          502,
          503,
          504,
          505,
          506,
          507,
          508,
          509,
          510,
          511,
          512,
          513,
          514,
          515,
          516,
          517,
          518,
          519,
          520,
          521,
          522,
          523,
          524,
          525,
          526,
          527,
          528,
          529,
          530,
          531,
          532,
          533,
          534,
          535,
          536,
          537,
          538,
          539,
          540,
          541,
          542,
          543,
          544,
          545,
          546,
          547,
          548,
          549,
          550,
          551,
          552,
          553,
          554,
          555,
          556,
          557,
          558,
          559,
          560,
          561,
          562,
          563,
          564,
          565,
          566,
          567,
          568,
          569,
          570,
          571,
          572,
          573,
          574,
          575,
          576,
          577,
          578,
          579,
          580,
          581,
          582,
          583,
          584,
          585,
          586,
          587,
          588,
          589,
          590,
          591,
          592,
          593,
          594,
          595,
          596,
          597,
          598,
          599,
          600,
          601,
          602,
          603,
          604,
          605,
          606,
          607,
          608,
          609,
          610,
          611,
          612,
          613,
          614,
          615,
          616,
          617,
          618,
          619,
          620,
          621,
          622,
          623,
          624,
          625,
          626,
          627,
          628,
          629,
          630,
          631,
          632,
          633,
          634,
          635,
          636,
          637,
          638,
          639,
          640,
          641,
          642,
          643,
          644,
          645,
          646,
          647,
          648,
          649,
          650,
          651,
          652,
          653,
          654,
          655,
          656,
          657,
          658,
          659,
          660,
          661,
          662,
          663,
          664,
          665,
          666,
          667,
          668,
          669,
          670,
          671,
          672,
          673,
          674,
          675,
          676,
          677,
          678,
          679,
          680,
          681,
          682,
          683,
          684,
          685,
          686,
          687,
          688,
          689,
          690,
          691,
          692,
          693,
          694,
          695,
          696,
          697,
          698,
          699,
          700,
          701,
          702,
          703,
          704,
          705,
          706,
          707,
          708,
          709,
          710,
          711,
          712,
          713,
          714,
          715,
          716,
          717,
          718,
          719,
          720,
          721,
          722,
          723,
          724,
          725,
          726,
          727,
          728,
          729,
          730,
          731,
          732,
          733,
          734,
          735,
          736,
          737,
          738,
          739,
          740,
          741,
          742,
          743,
          744,
          745,
          746,
          747,
          748,
          749
         ],
         "xaxis": "x",
         "y": [
          4.411479643383556,
          4.102668208133938,
          3.824734297457246,
          1.6406037977164534,
          2.619128716401337,
          3.9693815427615755,
          3.3556167992981396,
          2.3459664277220424,
          2.414148642550828,
          3.6652344408118775,
          3.392328713972339,
          3.9401590909483057,
          4.871396269756096,
          5.857177961481407,
          6.741693750977806,
          4.556042542833796,
          13.569931393564575,
          11.223929264302841,
          6.477333286705661,
          3.755958462004865,
          4.202330637828409,
          4.593771481490043,
          5.156700642534155,
          7.450584318983701,
          11.300436125553194,
          7.296746512621376,
          7.657560332528341,
          7.541480829994683,
          7.511813286767273,
          7.5056088531079,
          5.748787474695984,
          5.639010251777916,
          5.355972600984506,
          8.430856214230225,
          4.351573719084727,
          2.2520419554284525,
          2.9037821441485794,
          3.1752419056182837,
          2.7009182544969774,
          5.80761528554315,
          3.96560714304987,
          3.6147896856530504,
          3.2512305250970455,
          3.223420993851052,
          3.8199248484149946,
          4.329196333764145,
          3.9799183720948332,
          4.337924158984777,
          2.3651019557224213,
          3.3414989777063826,
          3.8446937807461996,
          3.3036096832698245,
          3.3067107523223065,
          4.531588159621196,
          3.5308368574354816,
          3.7408713098632065,
          4.6035972925872395,
          5.652624306045301,
          6.643121123590264,
          7.474193384470103,
          4.755736231379428,
          4.521676658796943,
          2.908140521562223,
          1.6609705915601778,
          3.4342825792156537,
          5.822327262107327,
          5.500518859978679,
          3.6875162951897593,
          2.1587036288334245,
          4.103906173404951,
          5.150404604633728,
          7.4539874672964475,
          9.417603841341958,
          10.86498405652227,
          11.862373501488426,
          4.440578332368271,
          4.185556255459288,
          3.862748682373538,
          1.565893767896931,
          2.984382386815688,
          5.249347376989658,
          5.041590838716002,
          3.4212361890103766,
          2.1155833128088517,
          3.4166872750843296,
          4.581024737899947,
          6.742485731402495,
          8.64131584748601,
          10.057093866844207,
          11.037794668353149,
          4.606116844353179,
          8.680527860778295,
          5.344703304529949,
          4.215162316081416,
          5.0514808598670164,
          5.651678905457921,
          7.2642165470807365,
          10.34446373571924,
          9.803145560282923,
          10.497716033230407,
          10.153225152561856,
          10.00692678761229,
          9.941395857556008,
          9.910149816189909,
          9.894360932040628,
          6.118914094805919,
          5.651209947799257,
          6.671411440985342,
          3.9862861174320825,
          2.980418826184615,
          3.0289874772340024,
          2.808983694371541,
          2.7804909946589937,
          3.6185760908320757,
          2.920526327393141,
          2.401453853434996,
          3.1602899664578983,
          4.242802342036581,
          5.174045202704976,
          5.86242003508108,
          5.055924589939825,
          4.834981872006695,
          4.573446241169934,
          2.4838846847874807,
          2.065050320445504,
          4.033535903050458,
          4.663565966737498,
          3.4496764875850188,
          2.268571015497799,
          3.7584927440074622,
          4.985196279940303,
          3.526432894534877,
          3.5640823448068755,
          3.9358135067785245,
          4.3687448911988795,
          4.979712682216533,
          4.833273388659977,
          3.2837311098141155,
          2.633964497408233,
          3.94454804492148,
          6.137876035560665,
          6.21737584239675,
          4.363748423950627,
          2.3446632013369113,
          3.6533196770126115,
          2.7430681216560586,
          2.9091215218325495,
          3.6028798019050154,
          4.234946184609491,
          4.241915226404648,
          5.149644596117018,
          4.79768743163241,
          3.9456255105331457,
          1.8867718125398052,
          2.993991621174491,
          4.500521448681221,
          3.940180946667989,
          2.6748273019437447,
          2.3428825117879373,
          2.7624978922394927,
          2.4170324518409116,
          3.024746366665667,
          4.132562734244114,
          5.155076795483436,
          5.9291872802867305,
          4.625122583466894,
          4.44355702217017,
          4.171284359484205,
          2.031262865400731,
          3.786502377215719,
          6.5520528308924435,
          6.630860262208429,
          4.577861899178238,
          2.7484056749333647,
          2.212227071459133,
          3.4709807274305557,
          3.514367844646648,
          3.512543276289444,
          3.7834575362455642,
          4.262194665511463,
          4.348272574246964,
          4.039550640101924,
          4.056340144882068,
          1.4915384252721313,
          3.3735862281005558,
          4.60139016182442,
          3.6606343180063834,
          2.525195202646106,
          2.538678365860565,
          3.642981901721938,
          3.4172750600261677,
          4.142961587920031,
          5.117362754275873,
          5.930506522443327,
          6.156707497386126,
          4.389254508551566,
          5.8555165158290645,
          2.758671089689247,
          1.8278075395922062,
          3.605607508120965,
          4.039386892672068,
          2.8583104894448073,
          2.0484726540740072,
          2.516922796277912,
          4.048054476632974,
          6.10742111058599,
          3.9745622892321317,
          4.479323210842095,
          4.967861460125152,
          5.419025443568118,
          4.435082055238877,
          4.516732961425757,
          2.3073784712307868,
          2.4442805239484833,
          4.072008024584167,
          3.802541226090504,
          2.38866635907189,
          1.544353277972767,
          1.8420749003565775,
          2.632219776646348,
          2.5049070216331493,
          2.496736379152892,
          2.758954232645652,
          3.085115559141655,
          3.393595161547206,
          4.640883990547392,
          4.347086039584454,
          4.017542409884102,
          2.4795152646471146,
          2.656373824503335,
          3.6898636633308257,
          3.4951441135289603,
          2.8253529646895656,
          2.9755822373283185,
          4.059566547254421,
          5.615844460959153,
          2.5490651191279134,
          3.0699080886347785,
          3.8455741103354577,
          4.582385019522656,
          4.373409439257871,
          4.093390961510318,
          3.9543226521470944,
          1.9981067171222122,
          2.4819304423908455,
          3.667657723565613,
          3.2891366457371736,
          2.6130377339121544,
          2.99098980452355,
          4.497316873379434,
          3.374608335447113,
          3.7624424873786833,
          4.451208654569813,
          5.271518322824745,
          6.043899340032933,
          5.953997552041176,
          15.400678126840251,
          11.644153531502317,
          5.7399916093518,
          3.5836502104595334,
          3.970569107725739,
          4.0602085724725185,
          4.25819551003985,
          5.5538334564779,
          8.014515907586777,
          11.261302910922447,
          4.672184719295266,
          5.957420617078667,
          6.127737338012928,
          6.299901341330567,
          5.208854133739183,
          4.816677944783128,
          4.585266675308373,
          2.6662895919737486,
          3.0503805991135557,
          3.8133243822950407,
          3.1967169648207467,
          2.5465610130258196,
          3.484622155755395,
          3.0829107581883357,
          4.678738110210223,
          6.598724524801811,
          8.191461291088899,
          9.353426411622388,
          10.15082825589726,
          5.076182739751262,
          4.836082357314139,
          5.807838912699407,
          3.899033816220079,
          4.617685493040167,
          5.076888110349252,
          6.332980621854659,
          9.282151396763712,
          13.13278002823268,
          10.493924792322494,
          11.62523765430356,
          11.440455654385033,
          11.357945235629721,
          11.31859448819918,
          11.298745356684048,
          4.54863741125191,
          4.188163447099964,
          7.864908597894206,
          3.7028606158415998,
          3.4392613296553383,
          4.148034847149779,
          3.9607653785241292,
          4.216460004938848,
          5.826179146858912,
          3.949038610104694,
          3.7504093960502867,
          3.685139496358765,
          3.979061539730253,
          4.322640315572767,
          4.624102979306905,
          6.180555502483828,
          5.989570455265283,
          5.206676624705355,
          3.6046765474461635,
          3.228749073637245,
          4.879950588234779,
          3.8516038246404007,
          5.285085869389284,
          9.082079455461779,
          11.741055783733607,
          14.642031092534205,
          16.966820337694983,
          18.697793496810647,
          19.933939112510256,
          20.794710733830893,
          4.305034714944203,
          3.9622040101756784,
          6.92982276323657,
          3.880666958786673,
          4.232506160912189,
          4.645583355693204,
          4.596837174617512,
          5.561431746871827,
          4.718960509006842,
          3.363913046439423,
          3.1494970990123377,
          3.5288808784356727,
          4.088176566816331,
          4.648710608764732,
          5.139616114925522,
          5.793369196303951,
          6.3228139880296945,
          3.8607117833097684,
          2.277979102593987,
          3.609936301352587,
          4.4299436918611645,
          2.9834102135927,
          3.975028652352583,
          5.588203960587091,
          6.344009315559481,
          6.829481108665915,
          4.293870270267366,
          4.201014645755236,
          4.325365517320542,
          4.493116943704511,
          4.944409826756283,
          4.646484228939068,
          4.263973753028777,
          6.922240867756321,
          4.200031568214208,
          4.142878966344001,
          4.267284225801437,
          4.419107539675041,
          5.545654261818573,
          7.8000689796780405,
          10.801934466809836,
          4.197544414432728,
          4.450606625308214,
          4.837467227280116,
          5.24144099125004,
          5.5068695469578435,
          5.124764002045241,
          5.425244961168163,
          3.2114317312106384,
          2.9054304830573114,
          3.5192821683842426,
          3.0507021793646443,
          2.5444231954807437,
          3.004493663408889,
          3.943616149463913,
          5.022310541295974,
          1.609322108147645,
          1.9163618085734686,
          2.4267149226550884,
          2.933339071308787,
          4.437584523765081,
          4.177289964957847,
          3.49728063881364,
          2.367772594779697,
          2.130469769239469,
          4.3935395716897245,
          6.254716579103902,
          5.4002242454043365,
          3.3222171681954578,
          1.9511416168929856,
          3.5639216790467643,
          3.2689347133959368,
          3.8706646938245584,
          4.190405181255717,
          4.175227325367953,
          4.667684207113386,
          4.395875814180236,
          4.755990810416515,
          2.5953081965952602,
          5.244799233146533,
          6.059951451395211,
          4.39775476026223,
          2.695680488061509,
          2.2726689784216965,
          2.9977506237590923,
          4.283284758039607,
          3.9928201476068854,
          4.91350931080644,
          5.732249223904189,
          6.198979230113387,
          4.900851462610407,
          4.722417180316551,
          4.486608577530848,
          2.244543324278751,
          2.3183403554796156,
          3.6877278940876312,
          3.3728961814676848,
          2.154607647838542,
          5.234573973418888,
          3.029954592101469,
          1.9603093988064635,
          1.8302153024003882,
          2.182745327584932,
          2.733676797658003,
          3.319714118584187,
          4.797704684009971,
          4.39538503325568,
          5.723711619318545,
          3.3052850479348694,
          3.308422311560685,
          3.782090312858293,
          3.4127884388426017,
          3.4600343300206537,
          4.351736502544797,
          3.3618622563242697,
          3.6567466867375407,
          4.52849717521968,
          5.464884745970153,
          5.864294663171738,
          5.826336058856876,
          5.450409429937781,
          17.722778596903478,
          15.244484436549467,
          11.42010679079349,
          7.027049343125639,
          5.188914032106662,
          5.9096001162131575,
          7.264272368720862,
          9.090312426358679,
          6.843344348523763,
          5.614054989047729,
          5.156913693738598,
          5.003239618232666,
          4.959697875074135,
          4.9529114359571045,
          5.416885492780581,
          5.050613953834137,
          3.4637014532744876,
          2.8239710760028016,
          4.374542925091462,
          4.0950720416918704,
          4.521218594339087,
          7.410793979649722,
          9.454184505245175,
          10.196704360114289,
          9.676317884533965,
          9.541521604241767,
          9.680793218971383,
          10.03322940608455,
          10.828311675534367,
          4.400072596705067,
          4.101337325034161,
          4.729652428845941,
          3.071304325658828,
          3.712796059295424,
          4.128826314302495,
          3.852264050037842,
          4.365758814827093,
          6.205313979703594,
          9.00911963779651,
          12.305269062947001,
          5.435390146548623,
          6.561338731705832,
          6.78271110794516,
          6.952667487092516,
          5.83004979092684,
          5.650971652121057,
          5.253505803232219,
          4.241006202980921,
          2.855515414911781,
          3.099176917285757,
          3.1579173096850806,
          3.133211940862831,
          4.480025630263163,
          5.1449808671493065,
          4.569436720670186,
          4.235413709560867,
          4.383726573737419,
          4.96934403965091,
          6.25232836881315,
          4.801031236454627,
          9.166994234789883,
          6.028187052408538,
          4.031788482712495,
          4.630967421271436,
          5.233789557527645,
          6.316686923054832,
          8.883618634973176,
          8.920495233114947,
          10.921031197232509,
          10.457644830552058,
          10.261456270627768,
          10.174328386361402,
          10.133208122441589,
          10.112620546607857,
          4.708277440498503,
          4.226793512098263,
          2.2988096319753106,
          2.9247299726678477,
          4.2334216333858645,
          3.535848390745807,
          2.1466571901451195,
          1.5295616192869277,
          2.0061723711922435,
          2.5240573103115005,
          2.6251837488995577,
          2.530924476360292,
          2.6372990225461144,
          2.7825428222630064,
          2.9152963072265563,
          4.687570102888778,
          8.003014235913264,
          5.114304843547063,
          2.055083064123528,
          2.32185367989556,
          3.6864093331845678,
          3.317956968154871,
          2.394089949807139,
          2.445315738604367,
          3.7136752225920135,
          3.3207680227222465,
          3.502638316689134,
          4.050333551896289,
          4.762509956723504,
          5.453545329931861,
          5.199849764935629,
          5.017848985035951,
          4.829101415958301,
          4.183378233206757,
          3.50790892823523,
          4.239256495948385,
          4.490134889970362,
          5.66242786812147,
          8.358821648905566,
          11.816229465623941,
          15.361461605520455,
          12.599991081984848,
          14.142991686608378,
          14.04380165361857,
          13.99399318132155,
          5.109678805696139,
          4.835035755245939,
          3.824428512846499,
          2.135481932216452,
          2.9307093311672365,
          5.062128610727385,
          4.930152200224433,
          3.1209657720336565,
          6.646533222238214,
          7.509949349916321,
          10.730416925708417,
          13.59053073129035,
          15.751117979951976,
          17.271349546788244,
          18.30075428324674,
          4.432646978521471,
          4.301168081383161,
          4.001446232748266,
          7.049926756274278,
          3.433284280453598,
          3.021939716278467,
          3.8132166531862786,
          3.6201900976151,
          3.626387304672322,
          4.912173139981156,
          7.525693744460181,
          3.9194625306150783,
          5.307549497550851,
          5.313150831784032,
          5.406136126239972,
          4.881642093854671,
          4.749402530052176,
          9.47472193426965,
          5.816991669757637,
          2.564486923597178,
          2.534117064257572,
          3.523364106692904,
          3.165190251484709,
          2.6259580658752184,
          3.1478624368189156,
          4.869752776938909,
          3.2544821066888603,
          3.8750423017522864,
          3.9016255984799604,
          4.072690175631915,
          4.3912298288625315,
          4.139112732456622,
          2.4737435853722114,
          1.6805538341085338,
          3.68322327000485,
          5.235678534086759,
          4.25253113625481,
          2.4495122065635933,
          1.5602142475294982,
          1.9412705101022132,
          3.065277968702804,
          3.4961698960370287,
          4.372393831605002,
          5.328092914909029,
          6.19800176611713,
          4.324296744276551,
          7.978663891602387,
          4.1468246601998455,
          2.4301136581799065,
          3.698375458942143,
          3.9148425853936017,
          3.2168612035697097,
          3.3666629770606904,
          4.8919557130821785,
          3.669930547826971,
          3.5957575714369434,
          3.7565901539301247,
          4.15288990332039,
          4.563971854077306,
          4.91895529947902,
          4.989458677387813,
          4.75581113467363,
          5.50200940793828,
          2.272393792608979,
          4.01400707602729,
          4.250123994039646,
          2.8382006725915314,
          1.825770790648701,
          2.088645844737233,
          3.386538181982586,
          3.297048598684227,
          3.835643753827971,
          4.618378869098443,
          5.426737478211009,
          6.146300703552349,
          4.525851261859843,
          5.984760549155989,
          3.40236850897057,
          2.560362415161838,
          3.6886208764739417,
          3.5710388842754957,
          2.8074770435932352,
          3.007544488992085,
          4.52668742371662,
          4.189461507806385,
          3.900494997493431,
          3.820461686123019,
          3.8377808503680755,
          3.8708206014178277,
          3.898680798044765,
          4.425323161892108,
          4.160241589175409,
          2.2056518587286815,
          1.9502634110912527,
          4.569626035165107,
          6.427605642589498,
          5.331803416654591,
          3.2921861452720766,
          5.207204463145088,
          3.9438151249953384,
          2.8993064240820194,
          3.049467598324399,
          3.977402384958121,
          4.893377322982732,
          5.599464794030544,
          4.4591447142719565,
          4.322732988679103,
          4.440350565553044,
          2.428144420469696,
          1.6509134563851282,
          3.4021274419967327,
          4.278183896880132,
          3.155463899139633,
          7.029566427896291,
          4.316755846756611,
          3.001579207529554,
          2.994677806446302,
          3.6862660004783665,
          4.612529857407155,
          5.478789379549653,
          4.490611539479378,
          4.203938812701645,
          4.386573382411755,
          1.9760373851828585,
          4.595304426259023,
          5.6329374505359855,
          4.166909281754545,
          2.532567951668419,
          2.15258743115771,
          2.977807149203065,
          3.641283454328849,
          4.498411071933309,
          5.4282968303624175,
          5.737503220431524,
          5.732318053648762,
          4.500660469144068,
          4.1369824113962705,
          2.153043531882414,
          2.7846771811674156,
          5.890488841948037,
          7.057452627527446,
          4.529794181957541,
          4.674470693513887,
          8.31067244102386,
          10.939477766676248,
          10.937706656427084,
          11.588286689759576,
          13.508475213891185,
          14.947025474596835,
          15.920806797684065,
          4.505697569887633,
          9.088177394852842,
          6.716855141053699,
          3.1284615195386443,
          2.243866452124018,
          3.459511074999593,
          3.4331612920621803,
          2.668573714907425,
          2.72353232387237,
          4.035413894518985,
          3.1664243540027446,
          3.434353693336027,
          3.408130580906151,
          3.5973929361289856,
          3.7996898964756585
         ],
         "yaxis": "y"
        },
        {
         "marker": {
          "color": "black"
         },
         "type": "bar",
         "x": [
          150,
          151,
          152,
          153,
          154,
          155,
          156,
          157,
          158,
          159,
          160,
          161,
          162,
          163,
          164
         ],
         "y": [
          5.149644596117018,
          4.79768743163241,
          3.9456255105331457,
          1.8867718125398052,
          2.993991621174491,
          4.500521448681221,
          3.940180946667989,
          2.6748273019437447,
          2.3428825117879373,
          2.7624978922394927,
          2.4170324518409116,
          3.024746366665667,
          4.132562734244114,
          5.155076795483436,
          5.9291872802867305
         ]
        }
       ],
       "layout": {
        "barmode": "overlay",
        "coloraxis": {
         "colorbar": {
          "title": {
           "text": "Run_id"
          }
         },
         "colorscale": [
          [
           0,
           "#ff0000"
          ],
          [
           0.1111111111111111,
           "#ffa700"
          ],
          [
           0.2222222222222222,
           "#afff00"
          ],
          [
           0.3333333333333333,
           "#08ff00"
          ],
          [
           0.4444444444444444,
           "#00ff9f"
          ],
          [
           0.5555555555555556,
           "#00b7ff"
          ],
          [
           0.6666666666666666,
           "#0010ff"
          ],
          [
           0.7777777777777778,
           "#9700ff"
          ],
          [
           0.8888888888888888,
           "#ff00bf"
          ],
          [
           1,
           "#ff0000"
          ]
         ],
         "showscale": true
        },
        "legend": {
         "tracegroupgap": 0
        },
        "shapes": [
         {
          "type": "line",
          "x0": 0,
          "x1": 1,
          "xref": "x domain",
          "y0": 9.487729036781154,
          "y1": 9.487729036781154,
          "yref": "y"
         }
        ],
        "showlegend": false,
        "template": {
         "data": {
          "bar": [
           {
            "error_x": {
             "color": "#2a3f5f"
            },
            "error_y": {
             "color": "#2a3f5f"
            },
            "marker": {
             "line": {
              "color": "white",
              "width": 0.5
             },
             "pattern": {
              "fillmode": "overlay",
              "size": 10,
              "solidity": 0.2
             }
            },
            "type": "bar"
           }
          ],
          "barpolar": [
           {
            "marker": {
             "line": {
              "color": "white",
              "width": 0.5
             },
             "pattern": {
              "fillmode": "overlay",
              "size": 10,
              "solidity": 0.2
             }
            },
            "type": "barpolar"
           }
          ],
          "carpet": [
           {
            "aaxis": {
             "endlinecolor": "#2a3f5f",
             "gridcolor": "#C8D4E3",
             "linecolor": "#C8D4E3",
             "minorgridcolor": "#C8D4E3",
             "startlinecolor": "#2a3f5f"
            },
            "baxis": {
             "endlinecolor": "#2a3f5f",
             "gridcolor": "#C8D4E3",
             "linecolor": "#C8D4E3",
             "minorgridcolor": "#C8D4E3",
             "startlinecolor": "#2a3f5f"
            },
            "type": "carpet"
           }
          ],
          "choropleth": [
           {
            "colorbar": {
             "outlinewidth": 0,
             "ticks": ""
            },
            "type": "choropleth"
           }
          ],
          "contour": [
           {
            "colorbar": {
             "outlinewidth": 0,
             "ticks": ""
            },
            "colorscale": [
             [
              0,
              "#0d0887"
             ],
             [
              0.1111111111111111,
              "#46039f"
             ],
             [
              0.2222222222222222,
              "#7201a8"
             ],
             [
              0.3333333333333333,
              "#9c179e"
             ],
             [
              0.4444444444444444,
              "#bd3786"
             ],
             [
              0.5555555555555556,
              "#d8576b"
             ],
             [
              0.6666666666666666,
              "#ed7953"
             ],
             [
              0.7777777777777778,
              "#fb9f3a"
             ],
             [
              0.8888888888888888,
              "#fdca26"
             ],
             [
              1,
              "#f0f921"
             ]
            ],
            "type": "contour"
           }
          ],
          "contourcarpet": [
           {
            "colorbar": {
             "outlinewidth": 0,
             "ticks": ""
            },
            "type": "contourcarpet"
           }
          ],
          "heatmap": [
           {
            "colorbar": {
             "outlinewidth": 0,
             "ticks": ""
            },
            "colorscale": [
             [
              0,
              "#0d0887"
             ],
             [
              0.1111111111111111,
              "#46039f"
             ],
             [
              0.2222222222222222,
              "#7201a8"
             ],
             [
              0.3333333333333333,
              "#9c179e"
             ],
             [
              0.4444444444444444,
              "#bd3786"
             ],
             [
              0.5555555555555556,
              "#d8576b"
             ],
             [
              0.6666666666666666,
              "#ed7953"
             ],
             [
              0.7777777777777778,
              "#fb9f3a"
             ],
             [
              0.8888888888888888,
              "#fdca26"
             ],
             [
              1,
              "#f0f921"
             ]
            ],
            "type": "heatmap"
           }
          ],
          "heatmapgl": [
           {
            "colorbar": {
             "outlinewidth": 0,
             "ticks": ""
            },
            "colorscale": [
             [
              0,
              "#0d0887"
             ],
             [
              0.1111111111111111,
              "#46039f"
             ],
             [
              0.2222222222222222,
              "#7201a8"
             ],
             [
              0.3333333333333333,
              "#9c179e"
             ],
             [
              0.4444444444444444,
              "#bd3786"
             ],
             [
              0.5555555555555556,
              "#d8576b"
             ],
             [
              0.6666666666666666,
              "#ed7953"
             ],
             [
              0.7777777777777778,
              "#fb9f3a"
             ],
             [
              0.8888888888888888,
              "#fdca26"
             ],
             [
              1,
              "#f0f921"
             ]
            ],
            "type": "heatmapgl"
           }
          ],
          "histogram": [
           {
            "marker": {
             "pattern": {
              "fillmode": "overlay",
              "size": 10,
              "solidity": 0.2
             }
            },
            "type": "histogram"
           }
          ],
          "histogram2d": [
           {
            "colorbar": {
             "outlinewidth": 0,
             "ticks": ""
            },
            "colorscale": [
             [
              0,
              "#0d0887"
             ],
             [
              0.1111111111111111,
              "#46039f"
             ],
             [
              0.2222222222222222,
              "#7201a8"
             ],
             [
              0.3333333333333333,
              "#9c179e"
             ],
             [
              0.4444444444444444,
              "#bd3786"
             ],
             [
              0.5555555555555556,
              "#d8576b"
             ],
             [
              0.6666666666666666,
              "#ed7953"
             ],
             [
              0.7777777777777778,
              "#fb9f3a"
             ],
             [
              0.8888888888888888,
              "#fdca26"
             ],
             [
              1,
              "#f0f921"
             ]
            ],
            "type": "histogram2d"
           }
          ],
          "histogram2dcontour": [
           {
            "colorbar": {
             "outlinewidth": 0,
             "ticks": ""
            },
            "colorscale": [
             [
              0,
              "#0d0887"
             ],
             [
              0.1111111111111111,
              "#46039f"
             ],
             [
              0.2222222222222222,
              "#7201a8"
             ],
             [
              0.3333333333333333,
              "#9c179e"
             ],
             [
              0.4444444444444444,
              "#bd3786"
             ],
             [
              0.5555555555555556,
              "#d8576b"
             ],
             [
              0.6666666666666666,
              "#ed7953"
             ],
             [
              0.7777777777777778,
              "#fb9f3a"
             ],
             [
              0.8888888888888888,
              "#fdca26"
             ],
             [
              1,
              "#f0f921"
             ]
            ],
            "type": "histogram2dcontour"
           }
          ],
          "mesh3d": [
           {
            "colorbar": {
             "outlinewidth": 0,
             "ticks": ""
            },
            "type": "mesh3d"
           }
          ],
          "parcoords": [
           {
            "line": {
             "colorbar": {
              "outlinewidth": 0,
              "ticks": ""
             }
            },
            "type": "parcoords"
           }
          ],
          "pie": [
           {
            "automargin": true,
            "type": "pie"
           }
          ],
          "scatter": [
           {
            "fillpattern": {
             "fillmode": "overlay",
             "size": 10,
             "solidity": 0.2
            },
            "type": "scatter"
           }
          ],
          "scatter3d": [
           {
            "line": {
             "colorbar": {
              "outlinewidth": 0,
              "ticks": ""
             }
            },
            "marker": {
             "colorbar": {
              "outlinewidth": 0,
              "ticks": ""
             }
            },
            "type": "scatter3d"
           }
          ],
          "scattercarpet": [
           {
            "marker": {
             "colorbar": {
              "outlinewidth": 0,
              "ticks": ""
             }
            },
            "type": "scattercarpet"
           }
          ],
          "scattergeo": [
           {
            "marker": {
             "colorbar": {
              "outlinewidth": 0,
              "ticks": ""
             }
            },
            "type": "scattergeo"
           }
          ],
          "scattergl": [
           {
            "marker": {
             "colorbar": {
              "outlinewidth": 0,
              "ticks": ""
             }
            },
            "type": "scattergl"
           }
          ],
          "scattermapbox": [
           {
            "marker": {
             "colorbar": {
              "outlinewidth": 0,
              "ticks": ""
             }
            },
            "type": "scattermapbox"
           }
          ],
          "scatterpolar": [
           {
            "marker": {
             "colorbar": {
              "outlinewidth": 0,
              "ticks": ""
             }
            },
            "type": "scatterpolar"
           }
          ],
          "scatterpolargl": [
           {
            "marker": {
             "colorbar": {
              "outlinewidth": 0,
              "ticks": ""
             }
            },
            "type": "scatterpolargl"
           }
          ],
          "scatterternary": [
           {
            "marker": {
             "colorbar": {
              "outlinewidth": 0,
              "ticks": ""
             }
            },
            "type": "scatterternary"
           }
          ],
          "surface": [
           {
            "colorbar": {
             "outlinewidth": 0,
             "ticks": ""
            },
            "colorscale": [
             [
              0,
              "#0d0887"
             ],
             [
              0.1111111111111111,
              "#46039f"
             ],
             [
              0.2222222222222222,
              "#7201a8"
             ],
             [
              0.3333333333333333,
              "#9c179e"
             ],
             [
              0.4444444444444444,
              "#bd3786"
             ],
             [
              0.5555555555555556,
              "#d8576b"
             ],
             [
              0.6666666666666666,
              "#ed7953"
             ],
             [
              0.7777777777777778,
              "#fb9f3a"
             ],
             [
              0.8888888888888888,
              "#fdca26"
             ],
             [
              1,
              "#f0f921"
             ]
            ],
            "type": "surface"
           }
          ],
          "table": [
           {
            "cells": {
             "fill": {
              "color": "#EBF0F8"
             },
             "line": {
              "color": "white"
             }
            },
            "header": {
             "fill": {
              "color": "#C8D4E3"
             },
             "line": {
              "color": "white"
             }
            },
            "type": "table"
           }
          ]
         },
         "layout": {
          "annotationdefaults": {
           "arrowcolor": "#2a3f5f",
           "arrowhead": 0,
           "arrowwidth": 1
          },
          "autotypenumbers": "strict",
          "coloraxis": {
           "colorbar": {
            "outlinewidth": 0,
            "ticks": ""
           }
          },
          "colorscale": {
           "diverging": [
            [
             0,
             "#8e0152"
            ],
            [
             0.1,
             "#c51b7d"
            ],
            [
             0.2,
             "#de77ae"
            ],
            [
             0.3,
             "#f1b6da"
            ],
            [
             0.4,
             "#fde0ef"
            ],
            [
             0.5,
             "#f7f7f7"
            ],
            [
             0.6,
             "#e6f5d0"
            ],
            [
             0.7,
             "#b8e186"
            ],
            [
             0.8,
             "#7fbc41"
            ],
            [
             0.9,
             "#4d9221"
            ],
            [
             1,
             "#276419"
            ]
           ],
           "sequential": [
            [
             0,
             "#0d0887"
            ],
            [
             0.1111111111111111,
             "#46039f"
            ],
            [
             0.2222222222222222,
             "#7201a8"
            ],
            [
             0.3333333333333333,
             "#9c179e"
            ],
            [
             0.4444444444444444,
             "#bd3786"
            ],
            [
             0.5555555555555556,
             "#d8576b"
            ],
            [
             0.6666666666666666,
             "#ed7953"
            ],
            [
             0.7777777777777778,
             "#fb9f3a"
            ],
            [
             0.8888888888888888,
             "#fdca26"
            ],
            [
             1,
             "#f0f921"
            ]
           ],
           "sequentialminus": [
            [
             0,
             "#0d0887"
            ],
            [
             0.1111111111111111,
             "#46039f"
            ],
            [
             0.2222222222222222,
             "#7201a8"
            ],
            [
             0.3333333333333333,
             "#9c179e"
            ],
            [
             0.4444444444444444,
             "#bd3786"
            ],
            [
             0.5555555555555556,
             "#d8576b"
            ],
            [
             0.6666666666666666,
             "#ed7953"
            ],
            [
             0.7777777777777778,
             "#fb9f3a"
            ],
            [
             0.8888888888888888,
             "#fdca26"
            ],
            [
             1,
             "#f0f921"
            ]
           ]
          },
          "colorway": [
           "#636efa",
           "#EF553B",
           "#00cc96",
           "#ab63fa",
           "#FFA15A",
           "#19d3f3",
           "#FF6692",
           "#B6E880",
           "#FF97FF",
           "#FECB52"
          ],
          "font": {
           "color": "#2a3f5f"
          },
          "geo": {
           "bgcolor": "white",
           "lakecolor": "white",
           "landcolor": "white",
           "showlakes": true,
           "showland": true,
           "subunitcolor": "#C8D4E3"
          },
          "hoverlabel": {
           "align": "left"
          },
          "hovermode": "closest",
          "mapbox": {
           "style": "light"
          },
          "paper_bgcolor": "white",
          "plot_bgcolor": "white",
          "polar": {
           "angularaxis": {
            "gridcolor": "#EBF0F8",
            "linecolor": "#EBF0F8",
            "ticks": ""
           },
           "bgcolor": "white",
           "radialaxis": {
            "gridcolor": "#EBF0F8",
            "linecolor": "#EBF0F8",
            "ticks": ""
           }
          },
          "scene": {
           "xaxis": {
            "backgroundcolor": "white",
            "gridcolor": "#DFE8F3",
            "gridwidth": 2,
            "linecolor": "#EBF0F8",
            "showbackground": true,
            "ticks": "",
            "zerolinecolor": "#EBF0F8"
           },
           "yaxis": {
            "backgroundcolor": "white",
            "gridcolor": "#DFE8F3",
            "gridwidth": 2,
            "linecolor": "#EBF0F8",
            "showbackground": true,
            "ticks": "",
            "zerolinecolor": "#EBF0F8"
           },
           "zaxis": {
            "backgroundcolor": "white",
            "gridcolor": "#DFE8F3",
            "gridwidth": 2,
            "linecolor": "#EBF0F8",
            "showbackground": true,
            "ticks": "",
            "zerolinecolor": "#EBF0F8"
           }
          },
          "shapedefaults": {
           "line": {
            "color": "#2a3f5f"
           }
          },
          "ternary": {
           "aaxis": {
            "gridcolor": "#DFE8F3",
            "linecolor": "#A2B1C6",
            "ticks": ""
           },
           "baxis": {
            "gridcolor": "#DFE8F3",
            "linecolor": "#A2B1C6",
            "ticks": ""
           },
           "bgcolor": "white",
           "caxis": {
            "gridcolor": "#DFE8F3",
            "linecolor": "#A2B1C6",
            "ticks": ""
           }
          },
          "title": {
           "x": 0.05
          },
          "xaxis": {
           "automargin": true,
           "gridcolor": "#EBF0F8",
           "linecolor": "#EBF0F8",
           "ticks": "",
           "title": {
            "standoff": 15
           },
           "zerolinecolor": "#EBF0F8",
           "zerolinewidth": 2
          },
          "yaxis": {
           "automargin": true,
           "gridcolor": "#EBF0F8",
           "linecolor": "#EBF0F8",
           "ticks": "",
           "title": {
            "standoff": 15
           },
           "zerolinecolor": "#EBF0F8",
           "zerolinewidth": 2
          }
         }
        },
        "title": {
         "text": "OWU Mahalanobis distance with 95% Confidence Interval"
        },
        "width": 1400,
        "xaxis": {
         "anchor": "y",
         "domain": [
          0,
          1
         ],
         "title": {
          "text": "OWU Observation Id."
         }
        },
        "yaxis": {
         "anchor": "x",
         "domain": [
          0,
          1
         ],
         "title": {
          "text": "Mahalanobis distance"
         }
        }
       }
      }
     },
     "metadata": {},
     "output_type": "display_data"
    }
   ],
   "source": [
    "plot_mahalanobis_distance_owu(owu, highlight_run=10, width=1400)"
   ]
  },
  {
   "cell_type": "markdown",
   "metadata": {},
   "source": [
    "# PCA of BWU matrix"
   ]
  },
  {
   "cell_type": "code",
   "execution_count": 16,
   "metadata": {},
   "outputs": [],
   "source": [
    "def generate_bwu(owu):\n",
    "    owu = owu.drop([\"timesteps\"],axis=1)\n",
    "    # Input: multiindex OWU\n",
    "    # Output: singleindex BWU\n",
    "    for run_ix,run in owu.groupby(\"run\"):\n",
    "        if run_ix == 0: \n",
    "            bwuindex = run.unstack(level=1)\n",
    "        else:\n",
    "            bwuindex = pd.concat([bwuindex, run.unstack(level=1)])\n",
    "    bwu_columns = [str(bwuindex.columns.get_level_values(0)[i])+str(\":\")+str(bwuindex.columns.get_level_values(1)[i]) \n",
    "                   for i in range(len(bwuindex.columns.get_level_values(0)))]\n",
    "    bwu = pd.DataFrame(bwuindex.to_numpy(), columns=bwu_columns)\n",
    "    \n",
    "    return bwu"
   ]
  },
  {
   "cell_type": "code",
   "execution_count": 17,
   "metadata": {},
   "outputs": [],
   "source": [
    "bwu = generate_bwu(owu)"
   ]
  },
  {
   "cell_type": "markdown",
   "metadata": {},
   "source": [
    "### Visualize the BWU matrix"
   ]
  },
  {
   "cell_type": "code",
   "execution_count": 18,
   "metadata": {},
   "outputs": [
    {
     "data": {
      "text/html": [
       "<div>\n",
       "<style scoped>\n",
       "    .dataframe tbody tr th:only-of-type {\n",
       "        vertical-align: middle;\n",
       "    }\n",
       "\n",
       "    .dataframe tbody tr th {\n",
       "        vertical-align: top;\n",
       "    }\n",
       "\n",
       "    .dataframe thead th {\n",
       "        text-align: right;\n",
       "    }\n",
       "</style>\n",
       "<table border=\"1\" class=\"dataframe\">\n",
       "  <thead>\n",
       "    <tr style=\"text-align: right;\">\n",
       "      <th></th>\n",
       "      <th>X:VCD:0</th>\n",
       "      <th>X:VCD:1</th>\n",
       "      <th>X:VCD:2</th>\n",
       "      <th>X:VCD:3</th>\n",
       "      <th>X:VCD:4</th>\n",
       "      <th>X:VCD:5</th>\n",
       "      <th>X:VCD:6</th>\n",
       "      <th>X:VCD:7</th>\n",
       "      <th>X:VCD:8</th>\n",
       "      <th>X:VCD:9</th>\n",
       "      <th>...</th>\n",
       "      <th>W:Feed:5</th>\n",
       "      <th>W:Feed:6</th>\n",
       "      <th>W:Feed:7</th>\n",
       "      <th>W:Feed:8</th>\n",
       "      <th>W:Feed:9</th>\n",
       "      <th>W:Feed:10</th>\n",
       "      <th>W:Feed:11</th>\n",
       "      <th>W:Feed:12</th>\n",
       "      <th>W:Feed:13</th>\n",
       "      <th>W:Feed:14</th>\n",
       "    </tr>\n",
       "  </thead>\n",
       "  <tbody>\n",
       "    <tr>\n",
       "      <th>0</th>\n",
       "      <td>0.550000</td>\n",
       "      <td>1.725244</td>\n",
       "      <td>4.779558</td>\n",
       "      <td>10.278397</td>\n",
       "      <td>15.886799</td>\n",
       "      <td>18.568089</td>\n",
       "      <td>18.099141</td>\n",
       "      <td>15.811653</td>\n",
       "      <td>12.920362</td>\n",
       "      <td>10.123559</td>\n",
       "      <td>...</td>\n",
       "      <td>12.500000</td>\n",
       "      <td>12.500000</td>\n",
       "      <td>12.500000</td>\n",
       "      <td>12.500000</td>\n",
       "      <td>12.500000</td>\n",
       "      <td>0.0</td>\n",
       "      <td>0.0</td>\n",
       "      <td>0.0</td>\n",
       "      <td>0.0</td>\n",
       "      <td>0.0</td>\n",
       "    </tr>\n",
       "    <tr>\n",
       "      <th>1</th>\n",
       "      <td>0.274490</td>\n",
       "      <td>0.871876</td>\n",
       "      <td>2.589262</td>\n",
       "      <td>6.529319</td>\n",
       "      <td>12.160305</td>\n",
       "      <td>15.860577</td>\n",
       "      <td>15.657798</td>\n",
       "      <td>12.758719</td>\n",
       "      <td>8.910175</td>\n",
       "      <td>5.459967</td>\n",
       "      <td>...</td>\n",
       "      <td>18.622449</td>\n",
       "      <td>18.622449</td>\n",
       "      <td>18.622449</td>\n",
       "      <td>18.622449</td>\n",
       "      <td>18.622449</td>\n",
       "      <td>0.0</td>\n",
       "      <td>0.0</td>\n",
       "      <td>0.0</td>\n",
       "      <td>0.0</td>\n",
       "      <td>0.0</td>\n",
       "    </tr>\n",
       "    <tr>\n",
       "      <th>2</th>\n",
       "      <td>0.127551</td>\n",
       "      <td>0.394527</td>\n",
       "      <td>1.182078</td>\n",
       "      <td>3.245514</td>\n",
       "      <td>7.422644</td>\n",
       "      <td>12.957409</td>\n",
       "      <td>16.940040</td>\n",
       "      <td>17.855081</td>\n",
       "      <td>16.416292</td>\n",
       "      <td>13.883034</td>\n",
       "      <td>...</td>\n",
       "      <td>14.642857</td>\n",
       "      <td>14.642857</td>\n",
       "      <td>14.642857</td>\n",
       "      <td>14.642857</td>\n",
       "      <td>0.000000</td>\n",
       "      <td>0.0</td>\n",
       "      <td>0.0</td>\n",
       "      <td>0.0</td>\n",
       "      <td>0.0</td>\n",
       "      <td>0.0</td>\n",
       "    </tr>\n",
       "    <tr>\n",
       "      <th>3</th>\n",
       "      <td>0.843878</td>\n",
       "      <td>2.609587</td>\n",
       "      <td>6.769304</td>\n",
       "      <td>12.917048</td>\n",
       "      <td>17.673164</td>\n",
       "      <td>18.962614</td>\n",
       "      <td>17.510225</td>\n",
       "      <td>14.783900</td>\n",
       "      <td>11.821098</td>\n",
       "      <td>9.128513</td>\n",
       "      <td>...</td>\n",
       "      <td>15.561224</td>\n",
       "      <td>15.561224</td>\n",
       "      <td>15.561224</td>\n",
       "      <td>15.561224</td>\n",
       "      <td>0.000000</td>\n",
       "      <td>0.0</td>\n",
       "      <td>0.0</td>\n",
       "      <td>0.0</td>\n",
       "      <td>0.0</td>\n",
       "      <td>0.0</td>\n",
       "    </tr>\n",
       "    <tr>\n",
       "      <th>4</th>\n",
       "      <td>0.421429</td>\n",
       "      <td>1.320115</td>\n",
       "      <td>3.754135</td>\n",
       "      <td>8.637166</td>\n",
       "      <td>14.486637</td>\n",
       "      <td>18.036687</td>\n",
       "      <td>18.229667</td>\n",
       "      <td>16.021779</td>\n",
       "      <td>11.657944</td>\n",
       "      <td>7.802797</td>\n",
       "      <td>...</td>\n",
       "      <td>7.295918</td>\n",
       "      <td>7.295918</td>\n",
       "      <td>7.295918</td>\n",
       "      <td>7.295918</td>\n",
       "      <td>0.000000</td>\n",
       "      <td>0.0</td>\n",
       "      <td>0.0</td>\n",
       "      <td>0.0</td>\n",
       "      <td>0.0</td>\n",
       "      <td>0.0</td>\n",
       "    </tr>\n",
       "  </tbody>\n",
       "</table>\n",
       "<p>5 rows × 75 columns</p>\n",
       "</div>"
      ],
      "text/plain": [
       "    X:VCD:0   X:VCD:1   X:VCD:2    X:VCD:3    X:VCD:4    X:VCD:5    X:VCD:6  \\\n",
       "0  0.550000  1.725244  4.779558  10.278397  15.886799  18.568089  18.099141   \n",
       "1  0.274490  0.871876  2.589262   6.529319  12.160305  15.860577  15.657798   \n",
       "2  0.127551  0.394527  1.182078   3.245514   7.422644  12.957409  16.940040   \n",
       "3  0.843878  2.609587  6.769304  12.917048  17.673164  18.962614  17.510225   \n",
       "4  0.421429  1.320115  3.754135   8.637166  14.486637  18.036687  18.229667   \n",
       "\n",
       "     X:VCD:7    X:VCD:8    X:VCD:9  ...   W:Feed:5   W:Feed:6   W:Feed:7  \\\n",
       "0  15.811653  12.920362  10.123559  ...  12.500000  12.500000  12.500000   \n",
       "1  12.758719   8.910175   5.459967  ...  18.622449  18.622449  18.622449   \n",
       "2  17.855081  16.416292  13.883034  ...  14.642857  14.642857  14.642857   \n",
       "3  14.783900  11.821098   9.128513  ...  15.561224  15.561224  15.561224   \n",
       "4  16.021779  11.657944   7.802797  ...   7.295918   7.295918   7.295918   \n",
       "\n",
       "    W:Feed:8   W:Feed:9  W:Feed:10  W:Feed:11  W:Feed:12  W:Feed:13  W:Feed:14  \n",
       "0  12.500000  12.500000        0.0        0.0        0.0        0.0        0.0  \n",
       "1  18.622449  18.622449        0.0        0.0        0.0        0.0        0.0  \n",
       "2  14.642857   0.000000        0.0        0.0        0.0        0.0        0.0  \n",
       "3  15.561224   0.000000        0.0        0.0        0.0        0.0        0.0  \n",
       "4   7.295918   0.000000        0.0        0.0        0.0        0.0        0.0  \n",
       "\n",
       "[5 rows x 75 columns]"
      ]
     },
     "execution_count": 18,
     "metadata": {},
     "output_type": "execute_result"
    }
   ],
   "source": [
    "bwu.head()"
   ]
  },
  {
   "cell_type": "code",
   "execution_count": 19,
   "metadata": {},
   "outputs": [],
   "source": [
    "def plot_bwu_correlation(bwu, width=1000):\n",
    "    fig = px.imshow(bwu.corr().round(3), text_auto=True)\n",
    "    fig.update_layout(title=\"BWU Correlation Matrix among X variables\", width=width)\n",
    "    fig.show();"
   ]
  },
  {
   "cell_type": "markdown",
   "metadata": {},
   "source": [
    "### Plot correlation matrix"
   ]
  },
  {
   "cell_type": "code",
   "execution_count": 20,
   "metadata": {},
   "outputs": [
    {
     "data": {
      "application/vnd.plotly.v1+json": {
       "config": {
        "plotlyServerURL": "https://plot.ly"
       },
       "data": [
        {
         "coloraxis": "coloraxis",
         "hovertemplate": "x: %{x}<br>y: %{y}<br>color: %{z}<extra></extra>",
         "name": "0",
         "texttemplate": "%{z}",
         "type": "heatmap",
         "x": [
          "X:VCD:0",
          "X:VCD:1",
          "X:VCD:2",
          "X:VCD:3",
          "X:VCD:4",
          "X:VCD:5",
          "X:VCD:6",
          "X:VCD:7",
          "X:VCD:8",
          "X:VCD:9",
          "X:VCD:10",
          "X:VCD:11",
          "X:VCD:12",
          "X:VCD:13",
          "X:VCD:14",
          "X:Glc:0",
          "X:Glc:1",
          "X:Glc:2",
          "X:Glc:3",
          "X:Glc:4",
          "X:Glc:5",
          "X:Glc:6",
          "X:Glc:7",
          "X:Glc:8",
          "X:Glc:9",
          "X:Glc:10",
          "X:Glc:11",
          "X:Glc:12",
          "X:Glc:13",
          "X:Glc:14",
          "X:Lac:0",
          "X:Lac:1",
          "X:Lac:2",
          "X:Lac:3",
          "X:Lac:4",
          "X:Lac:5",
          "X:Lac:6",
          "X:Lac:7",
          "X:Lac:8",
          "X:Lac:9",
          "X:Lac:10",
          "X:Lac:11",
          "X:Lac:12",
          "X:Lac:13",
          "X:Lac:14",
          "X:Titer:0",
          "X:Titer:1",
          "X:Titer:2",
          "X:Titer:3",
          "X:Titer:4",
          "X:Titer:5",
          "X:Titer:6",
          "X:Titer:7",
          "X:Titer:8",
          "X:Titer:9",
          "X:Titer:10",
          "X:Titer:11",
          "X:Titer:12",
          "X:Titer:13",
          "X:Titer:14",
          "W:Feed:0",
          "W:Feed:1",
          "W:Feed:2",
          "W:Feed:3",
          "W:Feed:4",
          "W:Feed:5",
          "W:Feed:6",
          "W:Feed:7",
          "W:Feed:8",
          "W:Feed:9",
          "W:Feed:10",
          "W:Feed:11",
          "W:Feed:12",
          "W:Feed:13",
          "W:Feed:14"
         ],
         "xaxis": "x",
         "y": [
          "X:VCD:0",
          "X:VCD:1",
          "X:VCD:2",
          "X:VCD:3",
          "X:VCD:4",
          "X:VCD:5",
          "X:VCD:6",
          "X:VCD:7",
          "X:VCD:8",
          "X:VCD:9",
          "X:VCD:10",
          "X:VCD:11",
          "X:VCD:12",
          "X:VCD:13",
          "X:VCD:14",
          "X:Glc:0",
          "X:Glc:1",
          "X:Glc:2",
          "X:Glc:3",
          "X:Glc:4",
          "X:Glc:5",
          "X:Glc:6",
          "X:Glc:7",
          "X:Glc:8",
          "X:Glc:9",
          "X:Glc:10",
          "X:Glc:11",
          "X:Glc:12",
          "X:Glc:13",
          "X:Glc:14",
          "X:Lac:0",
          "X:Lac:1",
          "X:Lac:2",
          "X:Lac:3",
          "X:Lac:4",
          "X:Lac:5",
          "X:Lac:6",
          "X:Lac:7",
          "X:Lac:8",
          "X:Lac:9",
          "X:Lac:10",
          "X:Lac:11",
          "X:Lac:12",
          "X:Lac:13",
          "X:Lac:14",
          "X:Titer:0",
          "X:Titer:1",
          "X:Titer:2",
          "X:Titer:3",
          "X:Titer:4",
          "X:Titer:5",
          "X:Titer:6",
          "X:Titer:7",
          "X:Titer:8",
          "X:Titer:9",
          "X:Titer:10",
          "X:Titer:11",
          "X:Titer:12",
          "X:Titer:13",
          "X:Titer:14",
          "W:Feed:0",
          "W:Feed:1",
          "W:Feed:2",
          "W:Feed:3",
          "W:Feed:4",
          "W:Feed:5",
          "W:Feed:6",
          "W:Feed:7",
          "W:Feed:8",
          "W:Feed:9",
          "W:Feed:10",
          "W:Feed:11",
          "W:Feed:12",
          "W:Feed:13",
          "W:Feed:14"
         ],
         "yaxis": "y",
         "z": [
          [
           1,
           0.999,
           0.993,
           0.966,
           0.874,
           0.45,
           -0.181,
           -0.342,
           -0.36,
           -0.356,
           -0.361,
           -0.352,
           -0.317,
           -0.268,
           -0.211,
           0.243,
           0.222,
           0.185,
           0.104,
           0.017,
           -0.015,
           0.009,
           0.058,
           0.104,
           0.131,
           0.137,
           0.121,
           0.111,
           0.113,
           0.111,
           null,
           1,
           0.998,
           0.991,
           0.975,
           0.945,
           0.884,
           0.767,
           0.609,
           0.466,
           0.357,
           0.281,
           0.231,
           0.2,
           0.182,
           null,
           0.665,
           0.939,
           0.989,
           0.991,
           0.958,
           0.861,
           0.689,
           0.542,
           0.432,
           0.342,
           0.28,
           0.246,
           0.233,
           0.23,
           null,
           0.101,
           0.217,
           0.199,
           0.199,
           0.199,
           0.199,
           0.199,
           0.055,
           -0.176,
           -0.074,
           null,
           null,
           null,
           null
          ],
          [
           0.999,
           1,
           0.997,
           0.974,
           0.883,
           0.457,
           -0.178,
           -0.339,
           -0.36,
           -0.357,
           -0.362,
           -0.352,
           -0.316,
           -0.265,
           -0.208,
           0.278,
           0.257,
           0.22,
           0.135,
           0.043,
           0.008,
           0.029,
           0.075,
           0.118,
           0.145,
           0.151,
           0.133,
           0.121,
           0.123,
           0.121,
           null,
           1,
           1,
           0.995,
           0.981,
           0.952,
           0.892,
           0.774,
           0.617,
           0.472,
           0.362,
           0.286,
           0.235,
           0.205,
           0.186,
           null,
           0.627,
           0.923,
           0.984,
           0.993,
           0.963,
           0.869,
           0.7,
           0.553,
           0.442,
           0.353,
           0.29,
           0.256,
           0.244,
           0.241,
           null,
           0.1,
           0.206,
           0.197,
           0.197,
           0.197,
           0.197,
           0.197,
           0.063,
           -0.175,
           -0.081,
           null,
           null,
           null,
           null
          ],
          [
           0.993,
           0.997,
           1,
           0.987,
           0.909,
           0.49,
           -0.158,
           -0.328,
           -0.355,
           -0.355,
           -0.36,
           -0.349,
           -0.312,
           -0.259,
           -0.2,
           0.304,
           0.282,
           0.243,
           0.152,
           0.052,
           0.012,
           0.028,
           0.07,
           0.112,
           0.141,
           0.149,
           0.131,
           0.118,
           0.119,
           0.117,
           null,
           0.996,
           0.999,
           1,
           0.992,
           0.968,
           0.912,
           0.797,
           0.64,
           0.494,
           0.382,
           0.304,
           0.253,
           0.221,
           0.203,
           null,
           0.583,
           0.893,
           0.97,
           0.993,
           0.973,
           0.886,
           0.72,
           0.572,
           0.458,
           0.368,
           0.305,
           0.27,
           0.258,
           0.256,
           null,
           0.093,
           0.189,
           0.183,
           0.183,
           0.183,
           0.183,
           0.183,
           0.074,
           -0.162,
           -0.083,
           null,
           null,
           null,
           null
          ],
          [
           0.966,
           0.974,
           0.987,
           1,
           0.959,
           0.585,
           -0.08,
           -0.275,
           -0.316,
           -0.325,
           -0.332,
           -0.322,
           -0.285,
           -0.229,
           -0.166,
           0.31,
           0.289,
           0.24,
           0.137,
           0.025,
           -0.026,
           -0.019,
           0.018,
           0.057,
           0.093,
           0.107,
           0.095,
           0.083,
           0.083,
           0.08,
           null,
           0.97,
           0.979,
           0.991,
           0.999,
           0.992,
           0.953,
           0.852,
           0.702,
           0.556,
           0.443,
           0.363,
           0.311,
           0.279,
           0.26,
           null,
           0.515,
           0.828,
           0.926,
           0.98,
           0.986,
           0.919,
           0.763,
           0.613,
           0.496,
           0.406,
           0.342,
           0.307,
           0.295,
           0.293,
           null,
           0.065,
           0.15,
           0.148,
           0.148,
           0.148,
           0.148,
           0.148,
           0.103,
           -0.11,
           -0.067,
           null,
           null,
           null,
           null
          ],
          [
           0.874,
           0.883,
           0.909,
           0.959,
           1,
           0.775,
           0.141,
           -0.09,
           -0.156,
           -0.182,
           -0.198,
           -0.2,
           -0.173,
           -0.121,
           -0.059,
           0.243,
           0.225,
           0.154,
           0.03,
           -0.098,
           -0.164,
           -0.172,
           -0.149,
           -0.115,
           -0.075,
           -0.046,
           -0.043,
           -0.049,
           -0.05,
           -0.055,
           null,
           0.878,
           0.891,
           0.919,
           0.954,
           0.984,
           0.99,
           0.939,
           0.826,
           0.7,
           0.596,
           0.52,
           0.469,
           0.437,
           0.419,
           null,
           0.441,
           0.711,
           0.818,
           0.91,
           0.965,
           0.95,
           0.831,
           0.696,
           0.584,
           0.499,
           0.436,
           0.401,
           0.39,
           0.39,
           null,
           -0.028,
           0.058,
           0.066,
           0.066,
           0.066,
           0.066,
           0.066,
           0.145,
           0.003,
           -0.019,
           null,
           null,
           null,
           null
          ],
          [
           0.45,
           0.457,
           0.49,
           0.585,
           0.775,
           1,
           0.707,
           0.48,
           0.384,
           0.326,
           0.285,
           0.248,
           0.228,
           0.237,
           0.265,
           -0.001,
           -0.011,
           -0.103,
           -0.24,
           -0.365,
           -0.435,
           -0.48,
           -0.499,
           -0.494,
           -0.465,
           -0.421,
           -0.391,
           -0.38,
           -0.386,
           -0.393,
           null,
           0.453,
           0.467,
           0.508,
           0.58,
           0.679,
           0.802,
           0.906,
           0.94,
           0.917,
           0.876,
           0.838,
           0.807,
           0.785,
           0.772,
           null,
           0.205,
           0.326,
           0.407,
           0.529,
           0.67,
           0.801,
           0.824,
           0.782,
           0.728,
           0.683,
           0.643,
           0.618,
           0.61,
           0.609,
           null,
           -0.236,
           -0.169,
           -0.098,
           -0.098,
           -0.098,
           -0.098,
           -0.098,
           0.205,
           0.213,
           0.102,
           null,
           null,
           null,
           null
          ],
          [
           -0.181,
           -0.178,
           -0.158,
           -0.08,
           0.141,
           0.707,
           1,
           0.941,
           0.877,
           0.818,
           0.766,
           0.703,
           0.632,
           0.575,
           0.539,
           -0.153,
           -0.15,
           -0.209,
           -0.29,
           -0.345,
           -0.378,
           -0.445,
           -0.514,
           -0.554,
           -0.562,
           -0.539,
           -0.51,
           -0.494,
           -0.503,
           -0.509,
           null,
           -0.18,
           -0.172,
           -0.144,
           -0.081,
           0.03,
           0.215,
           0.45,
           0.648,
           0.765,
           0.823,
           0.85,
           0.859,
           0.861,
           0.86,
           null,
           -0.143,
           -0.192,
           -0.177,
           -0.103,
           0.044,
           0.293,
           0.507,
           0.612,
           0.661,
           0.687,
           0.693,
           0.689,
           0.684,
           0.68,
           null,
           -0.305,
           -0.3,
           -0.135,
           -0.135,
           -0.135,
           -0.135,
           -0.135,
           0.202,
           0.284,
           0.171,
           null,
           null,
           null,
           null
          ],
          [
           -0.342,
           -0.339,
           -0.328,
           -0.275,
           -0.09,
           0.48,
           0.941,
           1,
           0.98,
           0.936,
           0.889,
           0.825,
           0.743,
           0.665,
           0.607,
           -0.113,
           -0.105,
           -0.144,
           -0.198,
           -0.222,
           -0.237,
           -0.302,
           -0.388,
           -0.448,
           -0.474,
           -0.47,
           -0.452,
           -0.441,
           -0.451,
           -0.457,
           null,
           -0.341,
           -0.336,
           -0.319,
           -0.273,
           -0.18,
           -0.008,
           0.242,
           0.479,
           0.638,
           0.731,
           0.781,
           0.806,
           0.817,
           0.821,
           null,
           -0.231,
           -0.311,
           -0.32,
           -0.28,
           -0.165,
           0.084,
           0.369,
           0.534,
           0.623,
           0.676,
           0.7,
           0.705,
           0.701,
           0.695,
           null,
           -0.279,
           -0.298,
           -0.102,
           -0.102,
           -0.102,
           -0.102,
           -0.102,
           0.193,
           0.251,
           0.169,
           null,
           null,
           null,
           null
          ],
          [
           -0.36,
           -0.36,
           -0.355,
           -0.316,
           -0.156,
           0.384,
           0.877,
           0.98,
           1,
           0.985,
           0.953,
           0.898,
           0.819,
           0.738,
           0.672,
           -0.091,
           -0.084,
           -0.118,
           -0.173,
           -0.194,
           -0.205,
           -0.266,
           -0.353,
           -0.419,
           -0.452,
           -0.457,
           -0.444,
           -0.437,
           -0.449,
           -0.456,
           null,
           -0.36,
           -0.359,
           -0.348,
           -0.312,
           -0.231,
           -0.072,
           0.171,
           0.414,
           0.588,
           0.695,
           0.757,
           0.791,
           0.808,
           0.815,
           null,
           -0.215,
           -0.309,
           -0.33,
           -0.307,
           -0.213,
           0.015,
           0.304,
           0.496,
           0.61,
           0.679,
           0.714,
           0.726,
           0.724,
           0.719,
           null,
           -0.288,
           -0.316,
           -0.107,
           -0.107,
           -0.107,
           -0.107,
           -0.107,
           0.181,
           0.245,
           0.165,
           null,
           null,
           null,
           null
          ],
          [
           -0.356,
           -0.357,
           -0.355,
           -0.325,
           -0.182,
           0.326,
           0.818,
           0.936,
           0.985,
           1,
           0.987,
           0.948,
           0.88,
           0.802,
           0.735,
           -0.089,
           -0.082,
           -0.117,
           -0.179,
           -0.206,
           -0.217,
           -0.276,
           -0.36,
           -0.427,
           -0.463,
           -0.473,
           -0.462,
           -0.458,
           -0.472,
           -0.48,
           null,
           -0.356,
           -0.357,
           -0.35,
           -0.32,
           -0.247,
           -0.099,
           0.131,
           0.37,
           0.549,
           0.664,
           0.734,
           0.775,
           0.797,
           0.808,
           null,
           -0.188,
           -0.292,
           -0.321,
           -0.307,
           -0.228,
           -0.023,
           0.249,
           0.449,
           0.582,
           0.663,
           0.709,
           0.727,
           0.728,
           0.723,
           null,
           -0.312,
           -0.344,
           -0.139,
           -0.139,
           -0.139,
           -0.139,
           -0.139,
           0.162,
           0.245,
           0.159,
           null,
           null,
           null,
           null
          ],
          [
           -0.361,
           -0.362,
           -0.36,
           -0.332,
           -0.198,
           0.285,
           0.766,
           0.889,
           0.953,
           0.987,
           1,
           0.985,
           0.936,
           0.869,
           0.806,
           -0.087,
           -0.079,
           -0.114,
           -0.188,
           -0.225,
           -0.24,
           -0.298,
           -0.381,
           -0.448,
           -0.484,
           -0.498,
           -0.491,
           -0.491,
           -0.508,
           -0.515,
           null,
           -0.362,
           -0.362,
           -0.355,
           -0.328,
           -0.26,
           -0.121,
           0.098,
           0.329,
           0.508,
           0.627,
           0.703,
           0.75,
           0.778,
           0.793,
           null,
           -0.205,
           -0.304,
           -0.328,
           -0.313,
           -0.241,
           -0.056,
           0.196,
           0.395,
           0.535,
           0.629,
           0.686,
           0.711,
           0.717,
           0.713,
           null,
           -0.337,
           -0.38,
           -0.187,
           -0.187,
           -0.187,
           -0.187,
           -0.187,
           0.143,
           0.244,
           0.145,
           null,
           null,
           null,
           null
          ],
          [
           -0.352,
           -0.352,
           -0.349,
           -0.322,
           -0.2,
           0.248,
           0.703,
           0.825,
           0.898,
           0.948,
           0.985,
           1,
           0.98,
           0.934,
           0.88,
           -0.078,
           -0.071,
           -0.105,
           -0.193,
           -0.24,
           -0.262,
           -0.322,
           -0.403,
           -0.47,
           -0.506,
           -0.527,
           -0.53,
           -0.539,
           -0.557,
           -0.565,
           null,
           -0.352,
           -0.351,
           -0.345,
           -0.319,
           -0.257,
           -0.129,
           0.073,
           0.29,
           0.463,
           0.582,
           0.662,
           0.714,
           0.747,
           0.766,
           null,
           -0.215,
           -0.303,
           -0.319,
           -0.302,
           -0.239,
           -0.076,
           0.151,
           0.34,
           0.481,
           0.582,
           0.648,
           0.681,
           0.691,
           0.689,
           null,
           -0.361,
           -0.403,
           -0.247,
           -0.247,
           -0.247,
           -0.247,
           -0.247,
           0.099,
           0.206,
           0.088,
           null,
           null,
           null,
           null
          ],
          [
           -0.317,
           -0.316,
           -0.312,
           -0.285,
           -0.173,
           0.228,
           0.632,
           0.743,
           0.819,
           0.88,
           0.936,
           0.98,
           1,
           0.985,
           0.949,
           -0.054,
           -0.047,
           -0.08,
           -0.181,
           -0.24,
           -0.273,
           -0.336,
           -0.416,
           -0.482,
           -0.52,
           -0.549,
           -0.563,
           -0.583,
           -0.604,
           -0.614,
           null,
           -0.317,
           -0.315,
           -0.308,
           -0.284,
           -0.227,
           -0.112,
           0.07,
           0.267,
           0.425,
           0.538,
           0.617,
           0.672,
           0.709,
           0.733,
           null,
           -0.211,
           -0.282,
           -0.289,
           -0.268,
           -0.211,
           -0.069,
           0.129,
           0.301,
           0.435,
           0.535,
           0.605,
           0.644,
           0.659,
           0.661,
           null,
           -0.368,
           -0.402,
           -0.307,
           -0.307,
           -0.307,
           -0.307,
           -0.307,
           0.036,
           0.147,
           -0.001,
           null,
           null,
           null,
           null
          ],
          [
           -0.268,
           -0.265,
           -0.259,
           -0.229,
           -0.121,
           0.237,
           0.575,
           0.665,
           0.738,
           0.802,
           0.869,
           0.934,
           0.985,
           1,
           0.987,
           -0.035,
           -0.029,
           -0.061,
           -0.169,
           -0.239,
           -0.28,
           -0.343,
           -0.418,
           -0.48,
           -0.517,
           -0.548,
           -0.567,
           -0.595,
           -0.618,
           -0.63,
           null,
           -0.266,
           -0.264,
           -0.254,
           -0.229,
           -0.174,
           -0.069,
           0.093,
           0.266,
           0.407,
           0.509,
           0.583,
           0.637,
           0.676,
           0.702,
           null,
           -0.194,
           -0.248,
           -0.245,
           -0.218,
           -0.162,
           -0.039,
           0.132,
           0.284,
           0.406,
           0.501,
           0.57,
           0.613,
           0.634,
           0.641,
           null,
           -0.36,
           -0.385,
           -0.334,
           -0.334,
           -0.334,
           -0.334,
           -0.334,
           -0.002,
           0.116,
           -0.052,
           null,
           null,
           null,
           null
          ],
          [
           -0.211,
           -0.208,
           -0.2,
           -0.166,
           -0.059,
           0.265,
           0.539,
           0.607,
           0.672,
           0.735,
           0.806,
           0.88,
           0.949,
           0.987,
           1,
           -0.026,
           -0.022,
           -0.053,
           -0.162,
           -0.235,
           -0.278,
           -0.337,
           -0.406,
           -0.462,
           -0.495,
           -0.524,
           -0.544,
           -0.576,
           -0.599,
           -0.614,
           null,
           -0.21,
           -0.206,
           -0.194,
           -0.167,
           -0.113,
           -0.015,
           0.132,
           0.286,
           0.41,
           0.501,
           0.568,
           0.619,
           0.656,
           0.683,
           null,
           -0.166,
           -0.205,
           -0.196,
           -0.162,
           -0.105,
           0.007,
           0.157,
           0.292,
           0.401,
           0.489,
           0.554,
           0.597,
           0.623,
           0.635,
           null,
           -0.339,
           -0.354,
           -0.317,
           -0.317,
           -0.317,
           -0.317,
           -0.317,
           -0.009,
           0.107,
           -0.065,
           null,
           null,
           null,
           null
          ],
          [
           0.243,
           0.278,
           0.304,
           0.31,
           0.243,
           -0.001,
           -0.153,
           -0.113,
           -0.091,
           -0.089,
           -0.087,
           -0.078,
           -0.054,
           -0.035,
           -0.026,
           1,
           1,
           0.981,
           0.888,
           0.774,
           0.694,
           0.62,
           0.553,
           0.493,
           0.467,
           0.43,
           0.388,
           0.353,
           0.347,
           0.345,
           null,
           0.265,
           0.286,
           0.301,
           0.298,
           0.269,
           0.224,
           0.179,
           0.138,
           0.104,
           0.078,
           0.061,
           0.05,
           0.045,
           0.042,
           null,
           -0.308,
           0.064,
           0.202,
           0.24,
           0.234,
           0.253,
           0.294,
           0.3,
           0.289,
           0.277,
           0.264,
           0.257,
           0.254,
           0.25,
           null,
           0.01,
           -0.199,
           -0.017,
           -0.017,
           -0.017,
           -0.017,
           -0.017,
           0.027,
           -0.086,
           -0.136,
           null,
           null,
           null,
           null
          ],
          [
           0.222,
           0.257,
           0.282,
           0.289,
           0.225,
           -0.011,
           -0.15,
           -0.105,
           -0.084,
           -0.082,
           -0.079,
           -0.071,
           -0.047,
           -0.029,
           -0.022,
           1,
           1,
           0.982,
           0.891,
           0.777,
           0.698,
           0.624,
           0.555,
           0.493,
           0.466,
           0.429,
           0.387,
           0.353,
           0.346,
           0.344,
           null,
           0.243,
           0.265,
           0.28,
           0.277,
           0.249,
           0.205,
           0.163,
           0.125,
           0.094,
           0.07,
           0.055,
           0.045,
           0.041,
           0.038,
           null,
           -0.325,
           0.043,
           0.181,
           0.219,
           0.214,
           0.235,
           0.28,
           0.289,
           0.281,
           0.271,
           0.259,
           0.253,
           0.25,
           0.246,
           null,
           0.008,
           -0.205,
           -0.022,
           -0.022,
           -0.022,
           -0.022,
           -0.022,
           0.026,
           -0.082,
           -0.135,
           null,
           null,
           null,
           null
          ],
          [
           0.185,
           0.22,
           0.243,
           0.24,
           0.154,
           -0.103,
           -0.209,
           -0.144,
           -0.118,
           -0.117,
           -0.114,
           -0.105,
           -0.08,
           -0.061,
           -0.053,
           0.981,
           0.982,
           1,
           0.948,
           0.853,
           0.779,
           0.706,
           0.636,
           0.572,
           0.538,
           0.496,
           0.45,
           0.413,
           0.407,
           0.405,
           null,
           0.206,
           0.227,
           0.239,
           0.228,
           0.19,
           0.135,
           0.085,
           0.044,
           0.014,
           -0.007,
           -0.021,
           -0.029,
           -0.032,
           -0.034,
           null,
           -0.35,
           0.015,
           0.147,
           0.175,
           0.157,
           0.171,
           0.218,
           0.231,
           0.226,
           0.219,
           0.21,
           0.206,
           0.205,
           0.202,
           null,
           0.149,
           -0.13,
           0.003,
           0.003,
           0.003,
           0.003,
           0.003,
           0.001,
           -0.101,
           -0.146,
           null,
           null,
           null,
           null
          ],
          [
           0.104,
           0.135,
           0.152,
           0.137,
           0.03,
           -0.24,
           -0.29,
           -0.198,
           -0.173,
           -0.179,
           -0.188,
           -0.193,
           -0.181,
           -0.169,
           -0.162,
           0.888,
           0.891,
           0.948,
           1,
           0.966,
           0.915,
           0.854,
           0.791,
           0.728,
           0.692,
           0.651,
           0.599,
           0.562,
           0.556,
           0.555,
           null,
           0.124,
           0.141,
           0.146,
           0.126,
           0.076,
           0.009,
           -0.051,
           -0.094,
           -0.122,
           -0.142,
           -0.155,
           -0.163,
           -0.167,
           -0.17,
           null,
           -0.353,
           -0.035,
           0.071,
           0.078,
           0.045,
           0.053,
           0.108,
           0.131,
           0.133,
           0.129,
           0.122,
           0.119,
           0.118,
           0.116,
           null,
           0.389,
           0.116,
           0.117,
           0.117,
           0.117,
           0.117,
           0.117,
           0.027,
           -0.105,
           -0.163,
           null,
           null,
           null,
           null
          ],
          [
           0.017,
           0.043,
           0.052,
           0.025,
           -0.098,
           -0.365,
           -0.345,
           -0.222,
           -0.194,
           -0.206,
           -0.225,
           -0.24,
           -0.24,
           -0.239,
           -0.235,
           0.774,
           0.777,
           0.853,
           0.966,
           1,
           0.983,
           0.945,
           0.894,
           0.841,
           0.803,
           0.759,
           0.705,
           0.669,
           0.665,
           0.664,
           null,
           0.033,
           0.046,
           0.044,
           0.016,
           -0.043,
           -0.119,
           -0.182,
           -0.219,
           -0.239,
           -0.252,
           -0.261,
           -0.267,
           -0.271,
           -0.274,
           null,
           -0.341,
           -0.08,
           -0.005,
           -0.02,
           -0.068,
           -0.064,
           0.006,
           0.042,
           0.054,
           0.055,
           0.051,
           0.049,
           0.048,
           0.047,
           null,
           0.486,
           0.291,
           0.261,
           0.261,
           0.261,
           0.261,
           0.261,
           0.03,
           -0.11,
           -0.137,
           null,
           null,
           null,
           null
          ],
          [
           -0.015,
           0.008,
           0.012,
           -0.026,
           -0.164,
           -0.435,
           -0.378,
           -0.237,
           -0.205,
           -0.217,
           -0.24,
           -0.262,
           -0.273,
           -0.28,
           -0.278,
           0.694,
           0.698,
           0.779,
           0.915,
           0.983,
           1,
           0.987,
           0.955,
           0.915,
           0.882,
           0.842,
           0.793,
           0.76,
           0.756,
           0.756,
           null,
           0,
           0.009,
           0.002,
           -0.033,
           -0.099,
           -0.181,
           -0.246,
           -0.281,
           -0.297,
           -0.306,
           -0.313,
           -0.319,
           -0.323,
           -0.326,
           null,
           -0.316,
           -0.083,
           -0.025,
           -0.056,
           -0.117,
           -0.116,
           -0.038,
           0.008,
           0.028,
           0.034,
           0.033,
           0.033,
           0.032,
           0.032,
           null,
           0.517,
           0.348,
           0.413,
           0.413,
           0.413,
           0.413,
           0.413,
           0.081,
           -0.067,
           -0.07,
           null,
           null,
           null,
           null
          ],
          [
           0.009,
           0.029,
           0.028,
           -0.019,
           -0.172,
           -0.48,
           -0.445,
           -0.302,
           -0.266,
           -0.276,
           -0.298,
           -0.322,
           -0.336,
           -0.343,
           -0.337,
           0.62,
           0.624,
           0.706,
           0.854,
           0.945,
           0.987,
           1,
           0.989,
           0.965,
           0.94,
           0.905,
           0.861,
           0.831,
           0.828,
           0.827,
           null,
           0.022,
           0.028,
           0.017,
           -0.024,
           -0.098,
           -0.192,
           -0.273,
           -0.323,
           -0.347,
           -0.361,
           -0.371,
           -0.379,
           -0.385,
           -0.388,
           null,
           -0.258,
           -0.041,
           0.006,
           -0.036,
           -0.111,
           -0.131,
           -0.068,
           -0.027,
           -0.009,
           -0.005,
           -0.006,
           -0.006,
           -0.007,
           -0.006,
           null,
           0.539,
           0.4,
           0.528,
           0.528,
           0.528,
           0.528,
           0.528,
           0.115,
           -0.043,
           -0.025,
           null,
           null,
           null,
           null
          ],
          [
           0.058,
           0.075,
           0.07,
           0.018,
           -0.149,
           -0.499,
           -0.514,
           -0.388,
           -0.353,
           -0.36,
           -0.381,
           -0.403,
           -0.416,
           -0.418,
           -0.406,
           0.553,
           0.555,
           0.636,
           0.791,
           0.894,
           0.955,
           0.989,
           1,
           0.993,
           0.977,
           0.948,
           0.909,
           0.883,
           0.88,
           0.88,
           null,
           0.069,
           0.073,
           0.059,
           0.014,
           -0.066,
           -0.173,
           -0.275,
           -0.347,
           -0.388,
           -0.412,
           -0.428,
           -0.44,
           -0.448,
           -0.454,
           null,
           -0.189,
           0.019,
           0.057,
           0.009,
           -0.075,
           -0.119,
           -0.088,
           -0.064,
           -0.056,
           -0.057,
           -0.061,
           -0.062,
           -0.062,
           -0.06,
           null,
           0.553,
           0.444,
           0.611,
           0.611,
           0.611,
           0.611,
           0.611,
           0.134,
           -0.029,
           0.007,
           null,
           null,
           null,
           null
          ],
          [
           0.104,
           0.118,
           0.112,
           0.057,
           -0.115,
           -0.494,
           -0.554,
           -0.448,
           -0.419,
           -0.427,
           -0.448,
           -0.47,
           -0.482,
           -0.48,
           -0.462,
           0.493,
           0.493,
           0.572,
           0.728,
           0.841,
           0.915,
           0.965,
           0.993,
           1,
           0.993,
           0.97,
           0.936,
           0.912,
           0.911,
           0.911,
           null,
           0.113,
           0.116,
           0.101,
           0.054,
           -0.029,
           -0.143,
           -0.26,
           -0.349,
           -0.404,
           -0.438,
           -0.461,
           -0.477,
           -0.488,
           -0.495,
           null,
           -0.13,
           0.07,
           0.104,
           0.054,
           -0.035,
           -0.093,
           -0.088,
           -0.081,
           -0.083,
           -0.092,
           -0.1,
           -0.103,
           -0.103,
           -0.1,
           null,
           0.558,
           0.477,
           0.672,
           0.672,
           0.672,
           0.672,
           0.672,
           0.15,
           -0.019,
           0.032,
           null,
           null,
           null,
           null
          ],
          [
           0.131,
           0.145,
           0.141,
           0.093,
           -0.075,
           -0.465,
           -0.562,
           -0.474,
           -0.452,
           -0.463,
           -0.484,
           -0.506,
           -0.52,
           -0.517,
           -0.495,
           0.467,
           0.466,
           0.538,
           0.692,
           0.803,
           0.882,
           0.94,
           0.977,
           0.993,
           1,
           0.989,
           0.963,
           0.943,
           0.941,
           0.941,
           null,
           0.141,
           0.144,
           0.131,
           0.088,
           0.007,
           -0.108,
           -0.231,
           -0.331,
           -0.396,
           -0.437,
           -0.464,
           -0.484,
           -0.497,
           -0.505,
           null,
           -0.123,
           0.085,
           0.125,
           0.084,
           -0.001,
           -0.064,
           -0.072,
           -0.078,
           -0.088,
           -0.099,
           -0.109,
           -0.112,
           -0.113,
           -0.109,
           null,
           0.559,
           0.47,
           0.702,
           0.702,
           0.702,
           0.702,
           0.702,
           0.231,
           0.03,
           0.079,
           null,
           null,
           null,
           null
          ],
          [
           0.137,
           0.151,
           0.149,
           0.107,
           -0.046,
           -0.421,
           -0.539,
           -0.47,
           -0.457,
           -0.473,
           -0.498,
           -0.527,
           -0.549,
           -0.548,
           -0.524,
           0.43,
           0.429,
           0.496,
           0.651,
           0.759,
           0.842,
           0.905,
           0.948,
           0.97,
           0.989,
           1,
           0.989,
           0.975,
           0.974,
           0.973,
           null,
           0.146,
           0.15,
           0.14,
           0.102,
           0.028,
           -0.082,
           -0.204,
           -0.306,
           -0.375,
           -0.421,
           -0.452,
           -0.474,
           -0.49,
           -0.5,
           null,
           -0.113,
           0.085,
           0.125,
           0.092,
           0.016,
           -0.044,
           -0.057,
           -0.068,
           -0.082,
           -0.095,
           -0.105,
           -0.109,
           -0.11,
           -0.105,
           null,
           0.561,
           0.453,
           0.723,
           0.723,
           0.723,
           0.723,
           0.723,
           0.33,
           0.143,
           0.162,
           null,
           null,
           null,
           null
          ],
          [
           0.121,
           0.133,
           0.131,
           0.095,
           -0.043,
           -0.391,
           -0.51,
           -0.452,
           -0.444,
           -0.462,
           -0.491,
           -0.53,
           -0.563,
           -0.567,
           -0.544,
           0.388,
           0.387,
           0.45,
           0.599,
           0.705,
           0.793,
           0.861,
           0.909,
           0.936,
           0.963,
           0.989,
           1,
           0.995,
           0.994,
           0.993,
           null,
           0.129,
           0.132,
           0.124,
           0.09,
           0.022,
           -0.08,
           -0.197,
           -0.295,
           -0.363,
           -0.408,
           -0.44,
           -0.464,
           -0.481,
           -0.492,
           null,
           -0.1,
           0.072,
           0.105,
           0.076,
           0.008,
           -0.046,
           -0.058,
           -0.069,
           -0.082,
           -0.095,
           -0.106,
           -0.11,
           -0.11,
           -0.104,
           null,
           0.544,
           0.415,
           0.738,
           0.738,
           0.738,
           0.738,
           0.738,
           0.385,
           0.25,
           0.282,
           null,
           null,
           null,
           null
          ],
          [
           0.111,
           0.121,
           0.118,
           0.083,
           -0.049,
           -0.38,
           -0.494,
           -0.441,
           -0.437,
           -0.458,
           -0.491,
           -0.539,
           -0.583,
           -0.595,
           -0.576,
           0.353,
           0.353,
           0.413,
           0.562,
           0.669,
           0.76,
           0.831,
           0.883,
           0.912,
           0.943,
           0.975,
           0.995,
           1,
           0.999,
           0.999,
           null,
           0.118,
           0.12,
           0.111,
           0.078,
           0.013,
           -0.085,
           -0.198,
           -0.294,
           -0.361,
           -0.405,
           -0.438,
           -0.463,
           -0.482,
           -0.495,
           null,
           -0.081,
           0.07,
           0.095,
           0.065,
           0,
           -0.053,
           -0.066,
           -0.078,
           -0.093,
           -0.107,
           -0.119,
           -0.125,
           -0.125,
           -0.12,
           null,
           0.528,
           0.403,
           0.74,
           0.74,
           0.74,
           0.74,
           0.74,
           0.401,
           0.283,
           0.346,
           null,
           null,
           null,
           null
          ],
          [
           0.113,
           0.123,
           0.119,
           0.083,
           -0.05,
           -0.386,
           -0.503,
           -0.451,
           -0.449,
           -0.472,
           -0.508,
           -0.557,
           -0.604,
           -0.618,
           -0.599,
           0.347,
           0.346,
           0.407,
           0.556,
           0.665,
           0.756,
           0.828,
           0.88,
           0.911,
           0.941,
           0.974,
           0.994,
           0.999,
           1,
           1,
           null,
           0.12,
           0.122,
           0.112,
           0.079,
           0.013,
           -0.087,
           -0.202,
           -0.301,
           -0.37,
           -0.416,
           -0.45,
           -0.477,
           -0.497,
           -0.51,
           null,
           -0.075,
           0.074,
           0.097,
           0.066,
           0,
           -0.055,
           -0.073,
           -0.089,
           -0.107,
           -0.123,
           -0.137,
           -0.145,
           -0.147,
           -0.142,
           null,
           0.529,
           0.406,
           0.736,
           0.736,
           0.736,
           0.736,
           0.736,
           0.393,
           0.27,
           0.339,
           null,
           null,
           null,
           null
          ],
          [
           0.111,
           0.121,
           0.117,
           0.08,
           -0.055,
           -0.393,
           -0.509,
           -0.457,
           -0.456,
           -0.48,
           -0.515,
           -0.565,
           -0.614,
           -0.63,
           -0.614,
           0.345,
           0.344,
           0.405,
           0.555,
           0.664,
           0.756,
           0.827,
           0.88,
           0.911,
           0.941,
           0.973,
           0.993,
           0.999,
           1,
           1,
           null,
           0.117,
           0.12,
           0.109,
           0.076,
           0.009,
           -0.092,
           -0.208,
           -0.309,
           -0.378,
           -0.425,
           -0.459,
           -0.486,
           -0.506,
           -0.52,
           null,
           -0.074,
           0.073,
           0.096,
           0.063,
           -0.004,
           -0.061,
           -0.08,
           -0.097,
           -0.116,
           -0.134,
           -0.149,
           -0.157,
           -0.16,
           -0.156,
           null,
           0.529,
           0.407,
           0.732,
           0.732,
           0.732,
           0.732,
           0.732,
           0.386,
           0.261,
           0.333,
           null,
           null,
           null,
           null
          ],
          [
           null,
           null,
           null,
           null,
           null,
           null,
           null,
           null,
           null,
           null,
           null,
           null,
           null,
           null,
           null,
           null,
           null,
           null,
           null,
           null,
           null,
           null,
           null,
           null,
           null,
           null,
           null,
           null,
           null,
           null,
           null,
           null,
           null,
           null,
           null,
           null,
           null,
           null,
           null,
           null,
           null,
           null,
           null,
           null,
           null,
           null,
           null,
           null,
           null,
           null,
           null,
           null,
           null,
           null,
           null,
           null,
           null,
           null,
           null,
           null,
           null,
           null,
           null,
           null,
           null,
           null,
           null,
           null,
           null,
           null,
           null,
           null,
           null,
           null,
           null
          ],
          [
           1,
           1,
           0.996,
           0.97,
           0.878,
           0.453,
           -0.18,
           -0.341,
           -0.36,
           -0.356,
           -0.362,
           -0.352,
           -0.317,
           -0.266,
           -0.21,
           0.265,
           0.243,
           0.206,
           0.124,
           0.033,
           0,
           0.022,
           0.069,
           0.113,
           0.141,
           0.146,
           0.129,
           0.118,
           0.12,
           0.117,
           null,
           1,
           0.999,
           0.993,
           0.978,
           0.949,
           0.888,
           0.77,
           0.613,
           0.469,
           0.359,
           0.283,
           0.233,
           0.202,
           0.184,
           null,
           0.643,
           0.93,
           0.987,
           0.992,
           0.961,
           0.865,
           0.695,
           0.548,
           0.438,
           0.348,
           0.286,
           0.252,
           0.239,
           0.237,
           null,
           0.101,
           0.211,
           0.198,
           0.198,
           0.198,
           0.198,
           0.198,
           0.06,
           -0.176,
           -0.078,
           null,
           null,
           null,
           null
          ],
          [
           0.998,
           1,
           0.999,
           0.979,
           0.891,
           0.467,
           -0.172,
           -0.336,
           -0.359,
           -0.357,
           -0.362,
           -0.351,
           -0.315,
           -0.264,
           -0.206,
           0.286,
           0.265,
           0.227,
           0.141,
           0.046,
           0.009,
           0.028,
           0.073,
           0.116,
           0.144,
           0.15,
           0.132,
           0.12,
           0.122,
           0.12,
           null,
           0.999,
           1,
           0.997,
           0.985,
           0.957,
           0.898,
           0.782,
           0.624,
           0.479,
           0.368,
           0.291,
           0.241,
           0.21,
           0.191,
           null,
           0.614,
           0.914,
           0.98,
           0.994,
           0.967,
           0.875,
           0.706,
           0.559,
           0.447,
           0.357,
           0.295,
           0.261,
           0.248,
           0.246,
           null,
           0.098,
           0.201,
           0.193,
           0.193,
           0.193,
           0.193,
           0.193,
           0.066,
           -0.171,
           -0.082,
           null,
           null,
           null,
           null
          ],
          [
           0.991,
           0.995,
           1,
           0.991,
           0.919,
           0.508,
           -0.144,
           -0.319,
           -0.348,
           -0.35,
           -0.355,
           -0.345,
           -0.308,
           -0.254,
           -0.194,
           0.301,
           0.28,
           0.239,
           0.146,
           0.044,
           0.002,
           0.017,
           0.059,
           0.101,
           0.131,
           0.14,
           0.124,
           0.111,
           0.112,
           0.109,
           null,
           0.993,
           0.997,
           1,
           0.995,
           0.974,
           0.921,
           0.808,
           0.652,
           0.506,
           0.393,
           0.315,
           0.264,
           0.232,
           0.214,
           null,
           0.576,
           0.885,
           0.965,
           0.993,
           0.977,
           0.893,
           0.729,
           0.58,
           0.465,
           0.375,
           0.311,
           0.277,
           0.264,
           0.262,
           null,
           0.088,
           0.184,
           0.178,
           0.178,
           0.178,
           0.178,
           0.178,
           0.079,
           -0.152,
           -0.079,
           null,
           null,
           null,
           null
          ],
          [
           0.975,
           0.981,
           0.992,
           0.999,
           0.954,
           0.58,
           -0.081,
           -0.273,
           -0.312,
           -0.32,
           -0.328,
           -0.319,
           -0.284,
           -0.229,
           -0.167,
           0.298,
           0.277,
           0.228,
           0.126,
           0.016,
           -0.033,
           -0.024,
           0.014,
           0.054,
           0.088,
           0.102,
           0.09,
           0.078,
           0.079,
           0.076,
           null,
           0.978,
           0.985,
           0.995,
           1,
           0.991,
           0.951,
           0.851,
           0.701,
           0.557,
           0.445,
           0.365,
           0.313,
           0.281,
           0.262,
           null,
           0.542,
           0.849,
           0.939,
           0.986,
           0.988,
           0.919,
           0.763,
           0.614,
           0.498,
           0.407,
           0.343,
           0.308,
           0.296,
           0.294,
           null,
           0.063,
           0.156,
           0.153,
           0.153,
           0.153,
           0.153,
           0.153,
           0.098,
           -0.116,
           -0.067,
           null,
           null,
           null,
           null
          ],
          [
           0.945,
           0.952,
           0.968,
           0.992,
           0.984,
           0.679,
           0.03,
           -0.18,
           -0.231,
           -0.247,
           -0.26,
           -0.257,
           -0.227,
           -0.174,
           -0.113,
           0.269,
           0.249,
           0.19,
           0.076,
           -0.043,
           -0.099,
           -0.098,
           -0.066,
           -0.029,
           0.007,
           0.028,
           0.022,
           0.013,
           0.013,
           0.009,
           null,
           0.949,
           0.957,
           0.974,
           0.991,
           1,
           0.982,
           0.906,
           0.774,
           0.639,
           0.53,
           0.452,
           0.4,
           0.368,
           0.349,
           null,
           0.514,
           0.807,
           0.903,
           0.968,
           0.993,
           0.949,
           0.81,
           0.668,
           0.553,
           0.464,
           0.4,
           0.365,
           0.353,
           0.352,
           null,
           0.02,
           0.113,
           0.118,
           0.118,
           0.118,
           0.118,
           0.118,
           0.12,
           -0.066,
           -0.044,
           null,
           null,
           null,
           null
          ],
          [
           0.884,
           0.892,
           0.912,
           0.953,
           0.99,
           0.802,
           0.215,
           -0.008,
           -0.072,
           -0.099,
           -0.121,
           -0.129,
           -0.112,
           -0.069,
           -0.015,
           0.224,
           0.205,
           0.135,
           0.009,
           -0.119,
           -0.181,
           -0.192,
           -0.173,
           -0.143,
           -0.108,
           -0.082,
           -0.08,
           -0.085,
           -0.087,
           -0.092,
           null,
           0.888,
           0.898,
           0.921,
           0.951,
           0.982,
           1,
           0.968,
           0.874,
           0.762,
           0.665,
           0.594,
           0.544,
           0.513,
           0.494,
           null,
           0.473,
           0.746,
           0.843,
           0.922,
           0.977,
           0.979,
           0.877,
           0.755,
           0.651,
           0.569,
           0.507,
           0.472,
           0.459,
           0.458,
           null,
           -0.042,
           0.05,
           0.08,
           0.08,
           0.08,
           0.08,
           0.08,
           0.153,
           -0.005,
           -0.01,
           null,
           null,
           null,
           null
          ],
          [
           0.767,
           0.774,
           0.797,
           0.852,
           0.939,
           0.906,
           0.45,
           0.242,
           0.171,
           0.131,
           0.098,
           0.073,
           0.07,
           0.093,
           0.132,
           0.179,
           0.163,
           0.085,
           -0.051,
           -0.182,
           -0.246,
           -0.273,
           -0.275,
           -0.26,
           -0.231,
           -0.204,
           -0.197,
           -0.198,
           -0.202,
           -0.208,
           null,
           0.77,
           0.782,
           0.808,
           0.851,
           0.906,
           0.968,
           1,
           0.967,
           0.897,
           0.826,
           0.768,
           0.726,
           0.698,
           0.68,
           null,
           0.397,
           0.638,
           0.731,
           0.82,
           0.904,
           0.97,
           0.94,
           0.86,
           0.779,
           0.711,
           0.657,
           0.624,
           0.611,
           0.608,
           null,
           -0.113,
           -0.028,
           0.047,
           0.047,
           0.047,
           0.047,
           0.047,
           0.194,
           0.062,
           0.034,
           null,
           null,
           null,
           null
          ],
          [
           0.609,
           0.617,
           0.64,
           0.702,
           0.826,
           0.94,
           0.648,
           0.479,
           0.414,
           0.37,
           0.329,
           0.29,
           0.267,
           0.266,
           0.286,
           0.138,
           0.125,
           0.044,
           -0.094,
           -0.219,
           -0.281,
           -0.323,
           -0.347,
           -0.349,
           -0.331,
           -0.306,
           -0.295,
           -0.294,
           -0.301,
           -0.309,
           null,
           0.613,
           0.624,
           0.652,
           0.701,
           0.774,
           0.874,
           0.967,
           1,
           0.979,
           0.94,
           0.901,
           0.871,
           0.848,
           0.834,
           null,
           0.304,
           0.503,
           0.583,
           0.673,
           0.777,
           0.9,
           0.947,
           0.92,
           0.873,
           0.826,
           0.784,
           0.756,
           0.743,
           0.739,
           null,
           -0.176,
           -0.105,
           0.016,
           0.016,
           0.016,
           0.016,
           0.016,
           0.226,
           0.12,
           0.074,
           null,
           null,
           null,
           null
          ],
          [
           0.466,
           0.472,
           0.494,
           0.556,
           0.7,
           0.917,
           0.765,
           0.638,
           0.588,
           0.549,
           0.508,
           0.463,
           0.425,
           0.407,
           0.41,
           0.104,
           0.094,
           0.014,
           -0.122,
           -0.239,
           -0.297,
           -0.347,
           -0.388,
           -0.404,
           -0.396,
           -0.375,
           -0.363,
           -0.361,
           -0.37,
           -0.378,
           null,
           0.469,
           0.479,
           0.506,
           0.557,
           0.639,
           0.762,
           0.897,
           0.979,
           1,
           0.989,
           0.969,
           0.95,
           0.935,
           0.924,
           null,
           0.228,
           0.383,
           0.45,
           0.534,
           0.646,
           0.803,
           0.907,
           0.926,
           0.911,
           0.886,
           0.858,
           0.836,
           0.824,
           0.819,
           null,
           -0.223,
           -0.166,
           -0.012,
           -0.012,
           -0.012,
           -0.012,
           -0.012,
           0.24,
           0.161,
           0.102,
           null,
           null,
           null,
           null
          ],
          [
           0.357,
           0.362,
           0.382,
           0.443,
           0.596,
           0.876,
           0.823,
           0.731,
           0.695,
           0.664,
           0.627,
           0.582,
           0.538,
           0.509,
           0.501,
           0.078,
           0.07,
           -0.007,
           -0.142,
           -0.252,
           -0.306,
           -0.361,
           -0.412,
           -0.438,
           -0.437,
           -0.421,
           -0.408,
           -0.405,
           -0.416,
           -0.425,
           null,
           0.359,
           0.368,
           0.393,
           0.445,
           0.53,
           0.665,
           0.826,
           0.94,
           0.989,
           1,
           0.995,
           0.985,
           0.975,
           0.968,
           null,
           0.171,
           0.293,
           0.348,
           0.426,
           0.54,
           0.714,
           0.853,
           0.905,
           0.915,
           0.908,
           0.891,
           0.875,
           0.865,
           0.86,
           null,
           -0.256,
           -0.211,
           -0.039,
           -0.039,
           -0.039,
           -0.039,
           -0.039,
           0.242,
           0.187,
           0.118,
           null,
           null,
           null,
           null
          ],
          [
           0.281,
           0.286,
           0.304,
           0.363,
           0.52,
           0.838,
           0.85,
           0.781,
           0.757,
           0.734,
           0.703,
           0.662,
           0.617,
           0.583,
           0.568,
           0.061,
           0.055,
           -0.021,
           -0.155,
           -0.261,
           -0.313,
           -0.371,
           -0.428,
           -0.461,
           -0.464,
           -0.452,
           -0.44,
           -0.438,
           -0.45,
           -0.459,
           null,
           0.283,
           0.291,
           0.315,
           0.365,
           0.452,
           0.594,
           0.768,
           0.901,
           0.969,
           0.995,
           1,
           0.997,
           0.992,
           0.988,
           null,
           0.13,
           0.229,
           0.277,
           0.351,
           0.463,
           0.646,
           0.804,
           0.877,
           0.904,
           0.91,
           0.903,
           0.892,
           0.884,
           0.879,
           null,
           -0.28,
           -0.244,
           -0.063,
           -0.063,
           -0.063,
           -0.063,
           -0.063,
           0.238,
           0.201,
           0.124,
           null,
           null,
           null,
           null
          ],
          [
           0.231,
           0.235,
           0.253,
           0.311,
           0.469,
           0.807,
           0.859,
           0.806,
           0.791,
           0.775,
           0.75,
           0.714,
           0.672,
           0.637,
           0.619,
           0.05,
           0.045,
           -0.029,
           -0.163,
           -0.267,
           -0.319,
           -0.379,
           -0.44,
           -0.477,
           -0.484,
           -0.474,
           -0.464,
           -0.463,
           -0.477,
           -0.486,
           null,
           0.233,
           0.241,
           0.264,
           0.313,
           0.4,
           0.544,
           0.726,
           0.871,
           0.95,
           0.985,
           0.997,
           1,
           0.999,
           0.996,
           null,
           0.101,
           0.187,
           0.23,
           0.301,
           0.412,
           0.598,
           0.766,
           0.851,
           0.89,
           0.906,
           0.905,
           0.898,
           0.892,
           0.887,
           null,
           -0.297,
           -0.267,
           -0.086,
           -0.086,
           -0.086,
           -0.086,
           -0.086,
           0.229,
           0.205,
           0.12,
           null,
           null,
           null,
           null
          ],
          [
           0.2,
           0.205,
           0.221,
           0.279,
           0.437,
           0.785,
           0.861,
           0.817,
           0.808,
           0.797,
           0.778,
           0.747,
           0.709,
           0.676,
           0.656,
           0.045,
           0.041,
           -0.032,
           -0.167,
           -0.271,
           -0.323,
           -0.385,
           -0.448,
           -0.488,
           -0.497,
           -0.49,
           -0.481,
           -0.482,
           -0.497,
           -0.506,
           null,
           0.202,
           0.21,
           0.232,
           0.281,
           0.368,
           0.513,
           0.698,
           0.848,
           0.935,
           0.975,
           0.992,
           0.999,
           1,
           0.999,
           null,
           0.083,
           0.16,
           0.201,
           0.27,
           0.38,
           0.566,
           0.739,
           0.832,
           0.878,
           0.899,
           0.903,
           0.9,
           0.895,
           0.891,
           null,
           -0.308,
           -0.282,
           -0.104,
           -0.104,
           -0.104,
           -0.104,
           -0.104,
           0.22,
           0.204,
           0.113,
           null,
           null,
           null,
           null
          ],
          [
           0.182,
           0.186,
           0.203,
           0.26,
           0.419,
           0.772,
           0.86,
           0.821,
           0.815,
           0.808,
           0.793,
           0.766,
           0.733,
           0.702,
           0.683,
           0.042,
           0.038,
           -0.034,
           -0.17,
           -0.274,
           -0.326,
           -0.388,
           -0.454,
           -0.495,
           -0.505,
           -0.5,
           -0.492,
           -0.495,
           -0.51,
           -0.52,
           null,
           0.184,
           0.191,
           0.214,
           0.262,
           0.349,
           0.494,
           0.68,
           0.834,
           0.924,
           0.968,
           0.988,
           0.996,
           0.999,
           1,
           null,
           0.071,
           0.144,
           0.184,
           0.252,
           0.361,
           0.547,
           0.722,
           0.819,
           0.869,
           0.894,
           0.901,
           0.899,
           0.896,
           0.892,
           null,
           -0.315,
           -0.291,
           -0.116,
           -0.116,
           -0.116,
           -0.116,
           -0.116,
           0.212,
           0.203,
           0.106,
           null,
           null,
           null,
           null
          ],
          [
           null,
           null,
           null,
           null,
           null,
           null,
           null,
           null,
           null,
           null,
           null,
           null,
           null,
           null,
           null,
           null,
           null,
           null,
           null,
           null,
           null,
           null,
           null,
           null,
           null,
           null,
           null,
           null,
           null,
           null,
           null,
           null,
           null,
           null,
           null,
           null,
           null,
           null,
           null,
           null,
           null,
           null,
           null,
           null,
           null,
           null,
           null,
           null,
           null,
           null,
           null,
           null,
           null,
           null,
           null,
           null,
           null,
           null,
           null,
           null,
           null,
           null,
           null,
           null,
           null,
           null,
           null,
           null,
           null,
           null,
           null,
           null,
           null,
           null,
           null
          ],
          [
           0.665,
           0.627,
           0.583,
           0.515,
           0.441,
           0.205,
           -0.143,
           -0.231,
           -0.215,
           -0.188,
           -0.205,
           -0.215,
           -0.211,
           -0.194,
           -0.166,
           -0.308,
           -0.325,
           -0.35,
           -0.353,
           -0.341,
           -0.316,
           -0.258,
           -0.189,
           -0.13,
           -0.123,
           -0.113,
           -0.1,
           -0.081,
           -0.075,
           -0.074,
           null,
           0.643,
           0.614,
           0.576,
           0.542,
           0.514,
           0.473,
           0.397,
           0.304,
           0.228,
           0.171,
           0.13,
           0.101,
           0.083,
           0.071,
           null,
           1,
           0.848,
           0.704,
           0.608,
           0.551,
           0.451,
           0.309,
           0.221,
           0.166,
           0.098,
           0.052,
           0.027,
           0.016,
           0.014,
           null,
           0.057,
           0.291,
           0.163,
           0.163,
           0.163,
           0.163,
           0.163,
           -0.094,
           -0.137,
           0.033,
           null,
           null,
           null,
           null
          ],
          [
           0.939,
           0.923,
           0.893,
           0.828,
           0.711,
           0.326,
           -0.192,
           -0.311,
           -0.309,
           -0.292,
           -0.304,
           -0.303,
           -0.282,
           -0.248,
           -0.205,
           0.064,
           0.043,
           0.015,
           -0.035,
           -0.08,
           -0.083,
           -0.041,
           0.019,
           0.07,
           0.085,
           0.085,
           0.072,
           0.07,
           0.074,
           0.073,
           null,
           0.93,
           0.914,
           0.885,
           0.849,
           0.807,
           0.746,
           0.638,
           0.503,
           0.383,
           0.293,
           0.229,
           0.187,
           0.16,
           0.144,
           null,
           0.848,
           1,
           0.968,
           0.908,
           0.845,
           0.736,
           0.571,
           0.449,
           0.362,
           0.28,
           0.223,
           0.192,
           0.179,
           0.176,
           null,
           0.104,
           0.275,
           0.238,
           0.238,
           0.238,
           0.238,
           0.238,
           -0.004,
           -0.209,
           -0.05,
           null,
           null,
           null,
           null
          ],
          [
           0.989,
           0.984,
           0.97,
           0.926,
           0.818,
           0.407,
           -0.177,
           -0.32,
           -0.33,
           -0.321,
           -0.328,
           -0.319,
           -0.289,
           -0.245,
           -0.196,
           0.202,
           0.181,
           0.147,
           0.071,
           -0.005,
           -0.025,
           0.006,
           0.057,
           0.104,
           0.125,
           0.125,
           0.105,
           0.095,
           0.097,
           0.096,
           null,
           0.987,
           0.98,
           0.965,
           0.939,
           0.903,
           0.843,
           0.731,
           0.583,
           0.45,
           0.348,
           0.277,
           0.23,
           0.201,
           0.184,
           null,
           0.704,
           0.968,
           1,
           0.979,
           0.931,
           0.829,
           0.662,
           0.527,
           0.427,
           0.342,
           0.283,
           0.251,
           0.237,
           0.234,
           null,
           0.088,
           0.229,
           0.226,
           0.226,
           0.226,
           0.226,
           0.226,
           0.036,
           -0.205,
           -0.08,
           null,
           null,
           null,
           null
          ],
          [
           0.991,
           0.993,
           0.993,
           0.98,
           0.91,
           0.529,
           -0.103,
           -0.28,
           -0.307,
           -0.307,
           -0.313,
           -0.302,
           -0.268,
           -0.218,
           -0.162,
           0.24,
           0.219,
           0.175,
           0.078,
           -0.02,
           -0.056,
           -0.036,
           0.009,
           0.054,
           0.084,
           0.092,
           0.076,
           0.065,
           0.066,
           0.063,
           null,
           0.992,
           0.994,
           0.993,
           0.986,
           0.968,
           0.922,
           0.82,
           0.673,
           0.534,
           0.426,
           0.351,
           0.301,
           0.27,
           0.252,
           null,
           0.608,
           0.908,
           0.979,
           1,
           0.982,
           0.898,
           0.735,
           0.592,
           0.483,
           0.396,
           0.336,
           0.302,
           0.289,
           0.287,
           null,
           0.06,
           0.175,
           0.185,
           0.185,
           0.185,
           0.185,
           0.185,
           0.08,
           -0.152,
           -0.071,
           null,
           null,
           null,
           null
          ],
          [
           0.958,
           0.963,
           0.973,
           0.986,
           0.965,
           0.67,
           0.044,
           -0.165,
           -0.213,
           -0.228,
           -0.241,
           -0.239,
           -0.211,
           -0.162,
           -0.105,
           0.234,
           0.214,
           0.157,
           0.045,
           -0.068,
           -0.117,
           -0.111,
           -0.075,
           -0.035,
           -0.001,
           0.016,
           0.008,
           0,
           0,
           -0.004,
           null,
           0.961,
           0.967,
           0.977,
           0.988,
           0.993,
           0.977,
           0.904,
           0.777,
           0.646,
           0.54,
           0.463,
           0.412,
           0.38,
           0.361,
           null,
           0.551,
           0.845,
           0.931,
           0.982,
           1,
           0.958,
           0.816,
           0.677,
           0.566,
           0.478,
           0.415,
           0.379,
           0.366,
           0.364,
           null,
           0.017,
           0.119,
           0.144,
           0.144,
           0.144,
           0.144,
           0.144,
           0.114,
           -0.087,
           -0.044,
           null,
           null,
           null,
           null
          ],
          [
           0.861,
           0.869,
           0.886,
           0.919,
           0.95,
           0.801,
           0.293,
           0.084,
           0.015,
           -0.023,
           -0.056,
           -0.076,
           -0.069,
           -0.039,
           0.007,
           0.253,
           0.235,
           0.171,
           0.053,
           -0.064,
           -0.116,
           -0.131,
           -0.119,
           -0.093,
           -0.064,
           -0.044,
           -0.046,
           -0.053,
           -0.055,
           -0.061,
           null,
           0.865,
           0.875,
           0.893,
           0.919,
           0.949,
           0.979,
           0.97,
           0.9,
           0.803,
           0.714,
           0.646,
           0.598,
           0.566,
           0.547,
           null,
           0.451,
           0.736,
           0.829,
           0.898,
           0.958,
           1,
           0.937,
           0.832,
           0.735,
           0.653,
           0.591,
           0.554,
           0.539,
           0.535,
           null,
           -0.022,
           0.061,
           0.157,
           0.157,
           0.157,
           0.157,
           0.157,
           0.173,
           -0.009,
           0.004,
           null,
           null,
           null,
           null
          ],
          [
           0.689,
           0.7,
           0.72,
           0.763,
           0.831,
           0.824,
           0.507,
           0.369,
           0.304,
           0.249,
           0.196,
           0.151,
           0.129,
           0.132,
           0.157,
           0.294,
           0.28,
           0.218,
           0.108,
           0.006,
           -0.038,
           -0.068,
           -0.088,
           -0.088,
           -0.072,
           -0.057,
           -0.058,
           -0.066,
           -0.073,
           -0.08,
           null,
           0.695,
           0.706,
           0.729,
           0.763,
           0.81,
           0.877,
           0.94,
           0.947,
           0.907,
           0.853,
           0.804,
           0.766,
           0.739,
           0.722,
           null,
           0.309,
           0.571,
           0.662,
           0.735,
           0.816,
           0.937,
           1,
           0.969,
           0.906,
           0.845,
           0.791,
           0.757,
           0.742,
           0.736,
           null,
           -0.042,
           0.013,
           0.207,
           0.207,
           0.207,
           0.207,
           0.207,
           0.247,
           0.068,
           0.059,
           null,
           null,
           null,
           null
          ],
          [
           0.542,
           0.553,
           0.572,
           0.613,
           0.696,
           0.782,
           0.612,
           0.534,
           0.496,
           0.449,
           0.395,
           0.34,
           0.301,
           0.284,
           0.292,
           0.3,
           0.289,
           0.231,
           0.131,
           0.042,
           0.008,
           -0.027,
           -0.064,
           -0.081,
           -0.078,
           -0.068,
           -0.069,
           -0.078,
           -0.089,
           -0.097,
           null,
           0.548,
           0.559,
           0.58,
           0.614,
           0.668,
           0.755,
           0.86,
           0.92,
           0.926,
           0.905,
           0.877,
           0.851,
           0.832,
           0.819,
           null,
           0.221,
           0.449,
           0.527,
           0.592,
           0.677,
           0.832,
           0.969,
           1,
           0.981,
           0.945,
           0.907,
           0.881,
           0.867,
           0.861,
           null,
           -0.058,
           -0.032,
           0.232,
           0.232,
           0.232,
           0.232,
           0.232,
           0.291,
           0.142,
           0.102,
           null,
           null,
           null,
           null
          ],
          [
           0.432,
           0.442,
           0.458,
           0.496,
           0.584,
           0.728,
           0.661,
           0.623,
           0.61,
           0.582,
           0.535,
           0.481,
           0.435,
           0.406,
           0.401,
           0.289,
           0.281,
           0.226,
           0.133,
           0.054,
           0.028,
           -0.009,
           -0.056,
           -0.083,
           -0.088,
           -0.082,
           -0.082,
           -0.093,
           -0.107,
           -0.116,
           null,
           0.438,
           0.447,
           0.465,
           0.498,
           0.553,
           0.651,
           0.779,
           0.873,
           0.911,
           0.915,
           0.904,
           0.89,
           0.878,
           0.869,
           null,
           0.166,
           0.362,
           0.427,
           0.483,
           0.566,
           0.735,
           0.906,
           0.981,
           1,
           0.989,
           0.968,
           0.95,
           0.939,
           0.933,
           null,
           -0.076,
           -0.071,
           0.234,
           0.234,
           0.234,
           0.234,
           0.234,
           0.318,
           0.201,
           0.134,
           null,
           null,
           null,
           null
          ],
          [
           0.342,
           0.353,
           0.368,
           0.406,
           0.499,
           0.683,
           0.687,
           0.676,
           0.679,
           0.663,
           0.629,
           0.582,
           0.535,
           0.501,
           0.489,
           0.277,
           0.271,
           0.219,
           0.129,
           0.055,
           0.034,
           -0.005,
           -0.057,
           -0.092,
           -0.099,
           -0.095,
           -0.095,
           -0.107,
           -0.123,
           -0.134,
           null,
           0.348,
           0.357,
           0.375,
           0.407,
           0.464,
           0.569,
           0.711,
           0.826,
           0.886,
           0.908,
           0.91,
           0.906,
           0.899,
           0.894,
           null,
           0.098,
           0.28,
           0.342,
           0.396,
           0.478,
           0.653,
           0.845,
           0.945,
           0.989,
           1,
           0.994,
           0.984,
           0.977,
           0.972,
           null,
           -0.088,
           -0.108,
           0.221,
           0.221,
           0.221,
           0.221,
           0.221,
           0.35,
           0.25,
           0.161,
           null,
           null,
           null,
           null
          ],
          [
           0.28,
           0.29,
           0.305,
           0.342,
           0.436,
           0.643,
           0.693,
           0.7,
           0.714,
           0.709,
           0.686,
           0.648,
           0.605,
           0.57,
           0.554,
           0.264,
           0.259,
           0.21,
           0.122,
           0.051,
           0.033,
           -0.006,
           -0.061,
           -0.1,
           -0.109,
           -0.105,
           -0.106,
           -0.119,
           -0.137,
           -0.149,
           null,
           0.286,
           0.295,
           0.311,
           0.343,
           0.4,
           0.507,
           0.657,
           0.784,
           0.858,
           0.891,
           0.903,
           0.905,
           0.903,
           0.901,
           null,
           0.052,
           0.223,
           0.283,
           0.336,
           0.415,
           0.591,
           0.791,
           0.907,
           0.968,
           0.994,
           1,
           0.997,
           0.993,
           0.989,
           null,
           -0.099,
           -0.134,
           0.208,
           0.208,
           0.208,
           0.208,
           0.208,
           0.366,
           0.282,
           0.178,
           null,
           null,
           null,
           null
          ],
          [
           0.246,
           0.256,
           0.27,
           0.307,
           0.401,
           0.618,
           0.689,
           0.705,
           0.726,
           0.727,
           0.711,
           0.681,
           0.644,
           0.613,
           0.597,
           0.257,
           0.253,
           0.206,
           0.119,
           0.049,
           0.033,
           -0.006,
           -0.062,
           -0.103,
           -0.112,
           -0.109,
           -0.11,
           -0.125,
           -0.145,
           -0.157,
           null,
           0.252,
           0.261,
           0.277,
           0.308,
           0.365,
           0.472,
           0.624,
           0.756,
           0.836,
           0.875,
           0.892,
           0.898,
           0.9,
           0.899,
           null,
           0.027,
           0.192,
           0.251,
           0.302,
           0.379,
           0.554,
           0.757,
           0.881,
           0.95,
           0.984,
           0.997,
           1,
           0.999,
           0.996,
           null,
           -0.103,
           -0.146,
           0.199,
           0.199,
           0.199,
           0.199,
           0.199,
           0.369,
           0.302,
           0.188,
           null,
           null,
           null,
           null
          ],
          [
           0.233,
           0.244,
           0.258,
           0.295,
           0.39,
           0.61,
           0.684,
           0.701,
           0.724,
           0.728,
           0.717,
           0.691,
           0.659,
           0.634,
           0.623,
           0.254,
           0.25,
           0.205,
           0.118,
           0.048,
           0.032,
           -0.007,
           -0.062,
           -0.103,
           -0.113,
           -0.11,
           -0.11,
           -0.125,
           -0.147,
           -0.16,
           null,
           0.239,
           0.248,
           0.264,
           0.296,
           0.353,
           0.459,
           0.611,
           0.743,
           0.824,
           0.865,
           0.884,
           0.892,
           0.895,
           0.896,
           null,
           0.016,
           0.179,
           0.237,
           0.289,
           0.366,
           0.539,
           0.742,
           0.867,
           0.939,
           0.977,
           0.993,
           0.999,
           1,
           0.999,
           null,
           -0.103,
           -0.147,
           0.194,
           0.194,
           0.194,
           0.194,
           0.194,
           0.37,
           0.315,
           0.195,
           null,
           null,
           null,
           null
          ],
          [
           0.23,
           0.241,
           0.256,
           0.293,
           0.39,
           0.609,
           0.68,
           0.695,
           0.719,
           0.723,
           0.713,
           0.689,
           0.661,
           0.641,
           0.635,
           0.25,
           0.246,
           0.202,
           0.116,
           0.047,
           0.032,
           -0.006,
           -0.06,
           -0.1,
           -0.109,
           -0.105,
           -0.104,
           -0.12,
           -0.142,
           -0.156,
           null,
           0.237,
           0.246,
           0.262,
           0.294,
           0.352,
           0.458,
           0.608,
           0.739,
           0.819,
           0.86,
           0.879,
           0.887,
           0.891,
           0.892,
           null,
           0.014,
           0.176,
           0.234,
           0.287,
           0.364,
           0.535,
           0.736,
           0.861,
           0.933,
           0.972,
           0.989,
           0.996,
           0.999,
           1,
           null,
           -0.1,
           -0.143,
           0.198,
           0.198,
           0.198,
           0.198,
           0.198,
           0.373,
           0.323,
           0.201,
           null,
           null,
           null,
           null
          ],
          [
           null,
           null,
           null,
           null,
           null,
           null,
           null,
           null,
           null,
           null,
           null,
           null,
           null,
           null,
           null,
           null,
           null,
           null,
           null,
           null,
           null,
           null,
           null,
           null,
           null,
           null,
           null,
           null,
           null,
           null,
           null,
           null,
           null,
           null,
           null,
           null,
           null,
           null,
           null,
           null,
           null,
           null,
           null,
           null,
           null,
           null,
           null,
           null,
           null,
           null,
           null,
           null,
           null,
           null,
           null,
           null,
           null,
           null,
           null,
           null,
           null,
           null,
           null,
           null,
           null,
           null,
           null,
           null,
           null,
           null,
           null,
           null,
           null,
           null,
           null
          ],
          [
           0.101,
           0.1,
           0.093,
           0.065,
           -0.028,
           -0.236,
           -0.305,
           -0.279,
           -0.288,
           -0.312,
           -0.337,
           -0.361,
           -0.368,
           -0.36,
           -0.339,
           0.01,
           0.008,
           0.149,
           0.389,
           0.486,
           0.517,
           0.539,
           0.553,
           0.558,
           0.559,
           0.561,
           0.544,
           0.528,
           0.529,
           0.529,
           null,
           0.101,
           0.098,
           0.088,
           0.063,
           0.02,
           -0.042,
           -0.113,
           -0.176,
           -0.223,
           -0.256,
           -0.28,
           -0.297,
           -0.308,
           -0.315,
           null,
           0.057,
           0.104,
           0.088,
           0.06,
           0.017,
           -0.022,
           -0.042,
           -0.058,
           -0.076,
           -0.088,
           -0.099,
           -0.103,
           -0.103,
           -0.1,
           null,
           1,
           0.595,
           0.346,
           0.346,
           0.346,
           0.346,
           0.346,
           0.102,
           0.05,
           -0.058,
           null,
           null,
           null,
           null
          ],
          [
           0.217,
           0.206,
           0.189,
           0.15,
           0.058,
           -0.169,
           -0.3,
           -0.298,
           -0.316,
           -0.344,
           -0.38,
           -0.403,
           -0.402,
           -0.385,
           -0.354,
           -0.199,
           -0.205,
           -0.13,
           0.116,
           0.291,
           0.348,
           0.4,
           0.444,
           0.477,
           0.47,
           0.453,
           0.415,
           0.403,
           0.406,
           0.407,
           null,
           0.211,
           0.201,
           0.184,
           0.156,
           0.113,
           0.05,
           -0.028,
           -0.105,
           -0.166,
           -0.211,
           -0.244,
           -0.267,
           -0.282,
           -0.291,
           null,
           0.291,
           0.275,
           0.229,
           0.175,
           0.119,
           0.061,
           0.013,
           -0.032,
           -0.071,
           -0.108,
           -0.134,
           -0.146,
           -0.147,
           -0.143,
           null,
           0.595,
           1,
           0.441,
           0.441,
           0.441,
           0.441,
           0.441,
           -0.098,
           -0.207,
           -0.162,
           null,
           null,
           null,
           null
          ],
          [
           0.199,
           0.197,
           0.183,
           0.148,
           0.066,
           -0.098,
           -0.135,
           -0.102,
           -0.107,
           -0.139,
           -0.187,
           -0.247,
           -0.307,
           -0.334,
           -0.317,
           -0.017,
           -0.022,
           0.003,
           0.117,
           0.261,
           0.413,
           0.528,
           0.611,
           0.672,
           0.702,
           0.723,
           0.738,
           0.74,
           0.736,
           0.732,
           null,
           0.198,
           0.193,
           0.178,
           0.153,
           0.118,
           0.08,
           0.047,
           0.016,
           -0.012,
           -0.039,
           -0.063,
           -0.086,
           -0.104,
           -0.116,
           null,
           0.163,
           0.238,
           0.226,
           0.185,
           0.144,
           0.157,
           0.207,
           0.232,
           0.234,
           0.221,
           0.208,
           0.199,
           0.194,
           0.198,
           null,
           0.346,
           0.441,
           1,
           1,
           1,
           1,
           1,
           0.404,
           0.248,
           0.339,
           null,
           null,
           null,
           null
          ],
          [
           0.199,
           0.197,
           0.183,
           0.148,
           0.066,
           -0.098,
           -0.135,
           -0.102,
           -0.107,
           -0.139,
           -0.187,
           -0.247,
           -0.307,
           -0.334,
           -0.317,
           -0.017,
           -0.022,
           0.003,
           0.117,
           0.261,
           0.413,
           0.528,
           0.611,
           0.672,
           0.702,
           0.723,
           0.738,
           0.74,
           0.736,
           0.732,
           null,
           0.198,
           0.193,
           0.178,
           0.153,
           0.118,
           0.08,
           0.047,
           0.016,
           -0.012,
           -0.039,
           -0.063,
           -0.086,
           -0.104,
           -0.116,
           null,
           0.163,
           0.238,
           0.226,
           0.185,
           0.144,
           0.157,
           0.207,
           0.232,
           0.234,
           0.221,
           0.208,
           0.199,
           0.194,
           0.198,
           null,
           0.346,
           0.441,
           1,
           1,
           1,
           1,
           1,
           0.404,
           0.248,
           0.339,
           null,
           null,
           null,
           null
          ],
          [
           0.199,
           0.197,
           0.183,
           0.148,
           0.066,
           -0.098,
           -0.135,
           -0.102,
           -0.107,
           -0.139,
           -0.187,
           -0.247,
           -0.307,
           -0.334,
           -0.317,
           -0.017,
           -0.022,
           0.003,
           0.117,
           0.261,
           0.413,
           0.528,
           0.611,
           0.672,
           0.702,
           0.723,
           0.738,
           0.74,
           0.736,
           0.732,
           null,
           0.198,
           0.193,
           0.178,
           0.153,
           0.118,
           0.08,
           0.047,
           0.016,
           -0.012,
           -0.039,
           -0.063,
           -0.086,
           -0.104,
           -0.116,
           null,
           0.163,
           0.238,
           0.226,
           0.185,
           0.144,
           0.157,
           0.207,
           0.232,
           0.234,
           0.221,
           0.208,
           0.199,
           0.194,
           0.198,
           null,
           0.346,
           0.441,
           1,
           1,
           1,
           1,
           1,
           0.404,
           0.248,
           0.339,
           null,
           null,
           null,
           null
          ],
          [
           0.199,
           0.197,
           0.183,
           0.148,
           0.066,
           -0.098,
           -0.135,
           -0.102,
           -0.107,
           -0.139,
           -0.187,
           -0.247,
           -0.307,
           -0.334,
           -0.317,
           -0.017,
           -0.022,
           0.003,
           0.117,
           0.261,
           0.413,
           0.528,
           0.611,
           0.672,
           0.702,
           0.723,
           0.738,
           0.74,
           0.736,
           0.732,
           null,
           0.198,
           0.193,
           0.178,
           0.153,
           0.118,
           0.08,
           0.047,
           0.016,
           -0.012,
           -0.039,
           -0.063,
           -0.086,
           -0.104,
           -0.116,
           null,
           0.163,
           0.238,
           0.226,
           0.185,
           0.144,
           0.157,
           0.207,
           0.232,
           0.234,
           0.221,
           0.208,
           0.199,
           0.194,
           0.198,
           null,
           0.346,
           0.441,
           1,
           1,
           1,
           1,
           1,
           0.404,
           0.248,
           0.339,
           null,
           null,
           null,
           null
          ],
          [
           0.199,
           0.197,
           0.183,
           0.148,
           0.066,
           -0.098,
           -0.135,
           -0.102,
           -0.107,
           -0.139,
           -0.187,
           -0.247,
           -0.307,
           -0.334,
           -0.317,
           -0.017,
           -0.022,
           0.003,
           0.117,
           0.261,
           0.413,
           0.528,
           0.611,
           0.672,
           0.702,
           0.723,
           0.738,
           0.74,
           0.736,
           0.732,
           null,
           0.198,
           0.193,
           0.178,
           0.153,
           0.118,
           0.08,
           0.047,
           0.016,
           -0.012,
           -0.039,
           -0.063,
           -0.086,
           -0.104,
           -0.116,
           null,
           0.163,
           0.238,
           0.226,
           0.185,
           0.144,
           0.157,
           0.207,
           0.232,
           0.234,
           0.221,
           0.208,
           0.199,
           0.194,
           0.198,
           null,
           0.346,
           0.441,
           1,
           1,
           1,
           1,
           1,
           0.404,
           0.248,
           0.339,
           null,
           null,
           null,
           null
          ],
          [
           0.055,
           0.063,
           0.074,
           0.103,
           0.145,
           0.205,
           0.202,
           0.193,
           0.181,
           0.162,
           0.143,
           0.099,
           0.036,
           -0.002,
           -0.009,
           0.027,
           0.026,
           0.001,
           0.027,
           0.03,
           0.081,
           0.115,
           0.134,
           0.15,
           0.231,
           0.33,
           0.385,
           0.401,
           0.393,
           0.386,
           null,
           0.06,
           0.066,
           0.079,
           0.098,
           0.12,
           0.153,
           0.194,
           0.226,
           0.24,
           0.242,
           0.238,
           0.229,
           0.22,
           0.212,
           null,
           -0.094,
           -0.004,
           0.036,
           0.08,
           0.114,
           0.173,
           0.247,
           0.291,
           0.318,
           0.35,
           0.366,
           0.369,
           0.37,
           0.373,
           null,
           0.102,
           -0.098,
           0.404,
           0.404,
           0.404,
           0.404,
           0.404,
           1,
           0.63,
           0.495,
           null,
           null,
           null,
           null
          ],
          [
           -0.176,
           -0.175,
           -0.162,
           -0.11,
           0.003,
           0.213,
           0.284,
           0.251,
           0.245,
           0.245,
           0.244,
           0.206,
           0.147,
           0.116,
           0.107,
           -0.086,
           -0.082,
           -0.101,
           -0.105,
           -0.11,
           -0.067,
           -0.043,
           -0.029,
           -0.019,
           0.03,
           0.143,
           0.25,
           0.283,
           0.27,
           0.261,
           null,
           -0.176,
           -0.171,
           -0.152,
           -0.116,
           -0.066,
           -0.005,
           0.062,
           0.12,
           0.161,
           0.187,
           0.201,
           0.205,
           0.204,
           0.203,
           null,
           -0.137,
           -0.209,
           -0.205,
           -0.152,
           -0.087,
           -0.009,
           0.068,
           0.142,
           0.201,
           0.25,
           0.282,
           0.302,
           0.315,
           0.323,
           null,
           0.05,
           -0.207,
           0.248,
           0.248,
           0.248,
           0.248,
           0.248,
           0.63,
           1,
           0.699,
           null,
           null,
           null,
           null
          ],
          [
           -0.074,
           -0.081,
           -0.083,
           -0.067,
           -0.019,
           0.102,
           0.171,
           0.169,
           0.165,
           0.159,
           0.145,
           0.088,
           -0.001,
           -0.052,
           -0.065,
           -0.136,
           -0.135,
           -0.146,
           -0.163,
           -0.137,
           -0.07,
           -0.025,
           0.007,
           0.032,
           0.079,
           0.162,
           0.282,
           0.346,
           0.339,
           0.333,
           null,
           -0.078,
           -0.082,
           -0.079,
           -0.067,
           -0.044,
           -0.01,
           0.034,
           0.074,
           0.102,
           0.118,
           0.124,
           0.12,
           0.113,
           0.106,
           null,
           0.033,
           -0.05,
           -0.08,
           -0.071,
           -0.044,
           0.004,
           0.059,
           0.102,
           0.134,
           0.161,
           0.178,
           0.188,
           0.195,
           0.201,
           null,
           -0.058,
           -0.162,
           0.339,
           0.339,
           0.339,
           0.339,
           0.339,
           0.495,
           0.699,
           1,
           null,
           null,
           null,
           null
          ],
          [
           null,
           null,
           null,
           null,
           null,
           null,
           null,
           null,
           null,
           null,
           null,
           null,
           null,
           null,
           null,
           null,
           null,
           null,
           null,
           null,
           null,
           null,
           null,
           null,
           null,
           null,
           null,
           null,
           null,
           null,
           null,
           null,
           null,
           null,
           null,
           null,
           null,
           null,
           null,
           null,
           null,
           null,
           null,
           null,
           null,
           null,
           null,
           null,
           null,
           null,
           null,
           null,
           null,
           null,
           null,
           null,
           null,
           null,
           null,
           null,
           null,
           null,
           null,
           null,
           null,
           null,
           null,
           null,
           null,
           null,
           null,
           null,
           null,
           null,
           null
          ],
          [
           null,
           null,
           null,
           null,
           null,
           null,
           null,
           null,
           null,
           null,
           null,
           null,
           null,
           null,
           null,
           null,
           null,
           null,
           null,
           null,
           null,
           null,
           null,
           null,
           null,
           null,
           null,
           null,
           null,
           null,
           null,
           null,
           null,
           null,
           null,
           null,
           null,
           null,
           null,
           null,
           null,
           null,
           null,
           null,
           null,
           null,
           null,
           null,
           null,
           null,
           null,
           null,
           null,
           null,
           null,
           null,
           null,
           null,
           null,
           null,
           null,
           null,
           null,
           null,
           null,
           null,
           null,
           null,
           null,
           null,
           null,
           null,
           null,
           null,
           null
          ],
          [
           null,
           null,
           null,
           null,
           null,
           null,
           null,
           null,
           null,
           null,
           null,
           null,
           null,
           null,
           null,
           null,
           null,
           null,
           null,
           null,
           null,
           null,
           null,
           null,
           null,
           null,
           null,
           null,
           null,
           null,
           null,
           null,
           null,
           null,
           null,
           null,
           null,
           null,
           null,
           null,
           null,
           null,
           null,
           null,
           null,
           null,
           null,
           null,
           null,
           null,
           null,
           null,
           null,
           null,
           null,
           null,
           null,
           null,
           null,
           null,
           null,
           null,
           null,
           null,
           null,
           null,
           null,
           null,
           null,
           null,
           null,
           null,
           null,
           null,
           null
          ],
          [
           null,
           null,
           null,
           null,
           null,
           null,
           null,
           null,
           null,
           null,
           null,
           null,
           null,
           null,
           null,
           null,
           null,
           null,
           null,
           null,
           null,
           null,
           null,
           null,
           null,
           null,
           null,
           null,
           null,
           null,
           null,
           null,
           null,
           null,
           null,
           null,
           null,
           null,
           null,
           null,
           null,
           null,
           null,
           null,
           null,
           null,
           null,
           null,
           null,
           null,
           null,
           null,
           null,
           null,
           null,
           null,
           null,
           null,
           null,
           null,
           null,
           null,
           null,
           null,
           null,
           null,
           null,
           null,
           null,
           null,
           null,
           null,
           null,
           null,
           null
          ]
         ]
        }
       ],
       "layout": {
        "coloraxis": {
         "colorscale": [
          [
           0,
           "#0d0887"
          ],
          [
           0.1111111111111111,
           "#46039f"
          ],
          [
           0.2222222222222222,
           "#7201a8"
          ],
          [
           0.3333333333333333,
           "#9c179e"
          ],
          [
           0.4444444444444444,
           "#bd3786"
          ],
          [
           0.5555555555555556,
           "#d8576b"
          ],
          [
           0.6666666666666666,
           "#ed7953"
          ],
          [
           0.7777777777777778,
           "#fb9f3a"
          ],
          [
           0.8888888888888888,
           "#fdca26"
          ],
          [
           1,
           "#f0f921"
          ]
         ]
        },
        "margin": {
         "t": 60
        },
        "template": {
         "data": {
          "bar": [
           {
            "error_x": {
             "color": "#2a3f5f"
            },
            "error_y": {
             "color": "#2a3f5f"
            },
            "marker": {
             "line": {
              "color": "white",
              "width": 0.5
             },
             "pattern": {
              "fillmode": "overlay",
              "size": 10,
              "solidity": 0.2
             }
            },
            "type": "bar"
           }
          ],
          "barpolar": [
           {
            "marker": {
             "line": {
              "color": "white",
              "width": 0.5
             },
             "pattern": {
              "fillmode": "overlay",
              "size": 10,
              "solidity": 0.2
             }
            },
            "type": "barpolar"
           }
          ],
          "carpet": [
           {
            "aaxis": {
             "endlinecolor": "#2a3f5f",
             "gridcolor": "#C8D4E3",
             "linecolor": "#C8D4E3",
             "minorgridcolor": "#C8D4E3",
             "startlinecolor": "#2a3f5f"
            },
            "baxis": {
             "endlinecolor": "#2a3f5f",
             "gridcolor": "#C8D4E3",
             "linecolor": "#C8D4E3",
             "minorgridcolor": "#C8D4E3",
             "startlinecolor": "#2a3f5f"
            },
            "type": "carpet"
           }
          ],
          "choropleth": [
           {
            "colorbar": {
             "outlinewidth": 0,
             "ticks": ""
            },
            "type": "choropleth"
           }
          ],
          "contour": [
           {
            "colorbar": {
             "outlinewidth": 0,
             "ticks": ""
            },
            "colorscale": [
             [
              0,
              "#0d0887"
             ],
             [
              0.1111111111111111,
              "#46039f"
             ],
             [
              0.2222222222222222,
              "#7201a8"
             ],
             [
              0.3333333333333333,
              "#9c179e"
             ],
             [
              0.4444444444444444,
              "#bd3786"
             ],
             [
              0.5555555555555556,
              "#d8576b"
             ],
             [
              0.6666666666666666,
              "#ed7953"
             ],
             [
              0.7777777777777778,
              "#fb9f3a"
             ],
             [
              0.8888888888888888,
              "#fdca26"
             ],
             [
              1,
              "#f0f921"
             ]
            ],
            "type": "contour"
           }
          ],
          "contourcarpet": [
           {
            "colorbar": {
             "outlinewidth": 0,
             "ticks": ""
            },
            "type": "contourcarpet"
           }
          ],
          "heatmap": [
           {
            "colorbar": {
             "outlinewidth": 0,
             "ticks": ""
            },
            "colorscale": [
             [
              0,
              "#0d0887"
             ],
             [
              0.1111111111111111,
              "#46039f"
             ],
             [
              0.2222222222222222,
              "#7201a8"
             ],
             [
              0.3333333333333333,
              "#9c179e"
             ],
             [
              0.4444444444444444,
              "#bd3786"
             ],
             [
              0.5555555555555556,
              "#d8576b"
             ],
             [
              0.6666666666666666,
              "#ed7953"
             ],
             [
              0.7777777777777778,
              "#fb9f3a"
             ],
             [
              0.8888888888888888,
              "#fdca26"
             ],
             [
              1,
              "#f0f921"
             ]
            ],
            "type": "heatmap"
           }
          ],
          "heatmapgl": [
           {
            "colorbar": {
             "outlinewidth": 0,
             "ticks": ""
            },
            "colorscale": [
             [
              0,
              "#0d0887"
             ],
             [
              0.1111111111111111,
              "#46039f"
             ],
             [
              0.2222222222222222,
              "#7201a8"
             ],
             [
              0.3333333333333333,
              "#9c179e"
             ],
             [
              0.4444444444444444,
              "#bd3786"
             ],
             [
              0.5555555555555556,
              "#d8576b"
             ],
             [
              0.6666666666666666,
              "#ed7953"
             ],
             [
              0.7777777777777778,
              "#fb9f3a"
             ],
             [
              0.8888888888888888,
              "#fdca26"
             ],
             [
              1,
              "#f0f921"
             ]
            ],
            "type": "heatmapgl"
           }
          ],
          "histogram": [
           {
            "marker": {
             "pattern": {
              "fillmode": "overlay",
              "size": 10,
              "solidity": 0.2
             }
            },
            "type": "histogram"
           }
          ],
          "histogram2d": [
           {
            "colorbar": {
             "outlinewidth": 0,
             "ticks": ""
            },
            "colorscale": [
             [
              0,
              "#0d0887"
             ],
             [
              0.1111111111111111,
              "#46039f"
             ],
             [
              0.2222222222222222,
              "#7201a8"
             ],
             [
              0.3333333333333333,
              "#9c179e"
             ],
             [
              0.4444444444444444,
              "#bd3786"
             ],
             [
              0.5555555555555556,
              "#d8576b"
             ],
             [
              0.6666666666666666,
              "#ed7953"
             ],
             [
              0.7777777777777778,
              "#fb9f3a"
             ],
             [
              0.8888888888888888,
              "#fdca26"
             ],
             [
              1,
              "#f0f921"
             ]
            ],
            "type": "histogram2d"
           }
          ],
          "histogram2dcontour": [
           {
            "colorbar": {
             "outlinewidth": 0,
             "ticks": ""
            },
            "colorscale": [
             [
              0,
              "#0d0887"
             ],
             [
              0.1111111111111111,
              "#46039f"
             ],
             [
              0.2222222222222222,
              "#7201a8"
             ],
             [
              0.3333333333333333,
              "#9c179e"
             ],
             [
              0.4444444444444444,
              "#bd3786"
             ],
             [
              0.5555555555555556,
              "#d8576b"
             ],
             [
              0.6666666666666666,
              "#ed7953"
             ],
             [
              0.7777777777777778,
              "#fb9f3a"
             ],
             [
              0.8888888888888888,
              "#fdca26"
             ],
             [
              1,
              "#f0f921"
             ]
            ],
            "type": "histogram2dcontour"
           }
          ],
          "mesh3d": [
           {
            "colorbar": {
             "outlinewidth": 0,
             "ticks": ""
            },
            "type": "mesh3d"
           }
          ],
          "parcoords": [
           {
            "line": {
             "colorbar": {
              "outlinewidth": 0,
              "ticks": ""
             }
            },
            "type": "parcoords"
           }
          ],
          "pie": [
           {
            "automargin": true,
            "type": "pie"
           }
          ],
          "scatter": [
           {
            "fillpattern": {
             "fillmode": "overlay",
             "size": 10,
             "solidity": 0.2
            },
            "type": "scatter"
           }
          ],
          "scatter3d": [
           {
            "line": {
             "colorbar": {
              "outlinewidth": 0,
              "ticks": ""
             }
            },
            "marker": {
             "colorbar": {
              "outlinewidth": 0,
              "ticks": ""
             }
            },
            "type": "scatter3d"
           }
          ],
          "scattercarpet": [
           {
            "marker": {
             "colorbar": {
              "outlinewidth": 0,
              "ticks": ""
             }
            },
            "type": "scattercarpet"
           }
          ],
          "scattergeo": [
           {
            "marker": {
             "colorbar": {
              "outlinewidth": 0,
              "ticks": ""
             }
            },
            "type": "scattergeo"
           }
          ],
          "scattergl": [
           {
            "marker": {
             "colorbar": {
              "outlinewidth": 0,
              "ticks": ""
             }
            },
            "type": "scattergl"
           }
          ],
          "scattermapbox": [
           {
            "marker": {
             "colorbar": {
              "outlinewidth": 0,
              "ticks": ""
             }
            },
            "type": "scattermapbox"
           }
          ],
          "scatterpolar": [
           {
            "marker": {
             "colorbar": {
              "outlinewidth": 0,
              "ticks": ""
             }
            },
            "type": "scatterpolar"
           }
          ],
          "scatterpolargl": [
           {
            "marker": {
             "colorbar": {
              "outlinewidth": 0,
              "ticks": ""
             }
            },
            "type": "scatterpolargl"
           }
          ],
          "scatterternary": [
           {
            "marker": {
             "colorbar": {
              "outlinewidth": 0,
              "ticks": ""
             }
            },
            "type": "scatterternary"
           }
          ],
          "surface": [
           {
            "colorbar": {
             "outlinewidth": 0,
             "ticks": ""
            },
            "colorscale": [
             [
              0,
              "#0d0887"
             ],
             [
              0.1111111111111111,
              "#46039f"
             ],
             [
              0.2222222222222222,
              "#7201a8"
             ],
             [
              0.3333333333333333,
              "#9c179e"
             ],
             [
              0.4444444444444444,
              "#bd3786"
             ],
             [
              0.5555555555555556,
              "#d8576b"
             ],
             [
              0.6666666666666666,
              "#ed7953"
             ],
             [
              0.7777777777777778,
              "#fb9f3a"
             ],
             [
              0.8888888888888888,
              "#fdca26"
             ],
             [
              1,
              "#f0f921"
             ]
            ],
            "type": "surface"
           }
          ],
          "table": [
           {
            "cells": {
             "fill": {
              "color": "#EBF0F8"
             },
             "line": {
              "color": "white"
             }
            },
            "header": {
             "fill": {
              "color": "#C8D4E3"
             },
             "line": {
              "color": "white"
             }
            },
            "type": "table"
           }
          ]
         },
         "layout": {
          "annotationdefaults": {
           "arrowcolor": "#2a3f5f",
           "arrowhead": 0,
           "arrowwidth": 1
          },
          "autotypenumbers": "strict",
          "coloraxis": {
           "colorbar": {
            "outlinewidth": 0,
            "ticks": ""
           }
          },
          "colorscale": {
           "diverging": [
            [
             0,
             "#8e0152"
            ],
            [
             0.1,
             "#c51b7d"
            ],
            [
             0.2,
             "#de77ae"
            ],
            [
             0.3,
             "#f1b6da"
            ],
            [
             0.4,
             "#fde0ef"
            ],
            [
             0.5,
             "#f7f7f7"
            ],
            [
             0.6,
             "#e6f5d0"
            ],
            [
             0.7,
             "#b8e186"
            ],
            [
             0.8,
             "#7fbc41"
            ],
            [
             0.9,
             "#4d9221"
            ],
            [
             1,
             "#276419"
            ]
           ],
           "sequential": [
            [
             0,
             "#0d0887"
            ],
            [
             0.1111111111111111,
             "#46039f"
            ],
            [
             0.2222222222222222,
             "#7201a8"
            ],
            [
             0.3333333333333333,
             "#9c179e"
            ],
            [
             0.4444444444444444,
             "#bd3786"
            ],
            [
             0.5555555555555556,
             "#d8576b"
            ],
            [
             0.6666666666666666,
             "#ed7953"
            ],
            [
             0.7777777777777778,
             "#fb9f3a"
            ],
            [
             0.8888888888888888,
             "#fdca26"
            ],
            [
             1,
             "#f0f921"
            ]
           ],
           "sequentialminus": [
            [
             0,
             "#0d0887"
            ],
            [
             0.1111111111111111,
             "#46039f"
            ],
            [
             0.2222222222222222,
             "#7201a8"
            ],
            [
             0.3333333333333333,
             "#9c179e"
            ],
            [
             0.4444444444444444,
             "#bd3786"
            ],
            [
             0.5555555555555556,
             "#d8576b"
            ],
            [
             0.6666666666666666,
             "#ed7953"
            ],
            [
             0.7777777777777778,
             "#fb9f3a"
            ],
            [
             0.8888888888888888,
             "#fdca26"
            ],
            [
             1,
             "#f0f921"
            ]
           ]
          },
          "colorway": [
           "#636efa",
           "#EF553B",
           "#00cc96",
           "#ab63fa",
           "#FFA15A",
           "#19d3f3",
           "#FF6692",
           "#B6E880",
           "#FF97FF",
           "#FECB52"
          ],
          "font": {
           "color": "#2a3f5f"
          },
          "geo": {
           "bgcolor": "white",
           "lakecolor": "white",
           "landcolor": "white",
           "showlakes": true,
           "showland": true,
           "subunitcolor": "#C8D4E3"
          },
          "hoverlabel": {
           "align": "left"
          },
          "hovermode": "closest",
          "mapbox": {
           "style": "light"
          },
          "paper_bgcolor": "white",
          "plot_bgcolor": "white",
          "polar": {
           "angularaxis": {
            "gridcolor": "#EBF0F8",
            "linecolor": "#EBF0F8",
            "ticks": ""
           },
           "bgcolor": "white",
           "radialaxis": {
            "gridcolor": "#EBF0F8",
            "linecolor": "#EBF0F8",
            "ticks": ""
           }
          },
          "scene": {
           "xaxis": {
            "backgroundcolor": "white",
            "gridcolor": "#DFE8F3",
            "gridwidth": 2,
            "linecolor": "#EBF0F8",
            "showbackground": true,
            "ticks": "",
            "zerolinecolor": "#EBF0F8"
           },
           "yaxis": {
            "backgroundcolor": "white",
            "gridcolor": "#DFE8F3",
            "gridwidth": 2,
            "linecolor": "#EBF0F8",
            "showbackground": true,
            "ticks": "",
            "zerolinecolor": "#EBF0F8"
           },
           "zaxis": {
            "backgroundcolor": "white",
            "gridcolor": "#DFE8F3",
            "gridwidth": 2,
            "linecolor": "#EBF0F8",
            "showbackground": true,
            "ticks": "",
            "zerolinecolor": "#EBF0F8"
           }
          },
          "shapedefaults": {
           "line": {
            "color": "#2a3f5f"
           }
          },
          "ternary": {
           "aaxis": {
            "gridcolor": "#DFE8F3",
            "linecolor": "#A2B1C6",
            "ticks": ""
           },
           "baxis": {
            "gridcolor": "#DFE8F3",
            "linecolor": "#A2B1C6",
            "ticks": ""
           },
           "bgcolor": "white",
           "caxis": {
            "gridcolor": "#DFE8F3",
            "linecolor": "#A2B1C6",
            "ticks": ""
           }
          },
          "title": {
           "x": 0.05
          },
          "xaxis": {
           "automargin": true,
           "gridcolor": "#EBF0F8",
           "linecolor": "#EBF0F8",
           "ticks": "",
           "title": {
            "standoff": 15
           },
           "zerolinecolor": "#EBF0F8",
           "zerolinewidth": 2
          },
          "yaxis": {
           "automargin": true,
           "gridcolor": "#EBF0F8",
           "linecolor": "#EBF0F8",
           "ticks": "",
           "title": {
            "standoff": 15
           },
           "zerolinecolor": "#EBF0F8",
           "zerolinewidth": 2
          }
         }
        },
        "title": {
         "text": "BWU Correlation Matrix among X variables"
        },
        "width": 900,
        "xaxis": {
         "anchor": "y",
         "constrain": "domain",
         "domain": [
          0,
          1
         ],
         "scaleanchor": "y"
        },
        "yaxis": {
         "anchor": "x",
         "autorange": "reversed",
         "constrain": "domain",
         "domain": [
          0,
          1
         ]
        }
       }
      }
     },
     "metadata": {},
     "output_type": "display_data"
    }
   ],
   "source": [
    "plot_bwu_correlation(bwu, width=900)"
   ]
  },
  {
   "cell_type": "markdown",
   "metadata": {},
   "source": [
    "### Normalized PCA\n"
   ]
  },
  {
   "cell_type": "code",
   "execution_count": 21,
   "metadata": {},
   "outputs": [],
   "source": [
    "def plot_explained_variance_bwu(bwu, pca_n_components=15, width=1000):\n",
    "    scaler = StandardScaler()\n",
    "    bwu_normalized = scaler.fit_transform(bwu)\n",
    "    \n",
    "    # Run PCA on scaled data\n",
    "    bwupca = PCA(n_components=min(min(bwu.shape), pca_n_components))\n",
    "    bwupca.fit(bwu_normalized)\n",
    "    bwupca_x = list(range(1, bwupca.n_components_ + 1))\n",
    "\n",
    "    fig = px.line(\n",
    "        x=bwupca_x,\n",
    "        y=np.cumsum(bwupca.explained_variance_ratio_),\n",
    "        color=px.Constant(\"Cumulative explained variance\"),\n",
    "        labels=dict(\n",
    "            x=\"Principal component index\", y=\"Explained Variance Ratio\", color=\"Legend\"\n",
    "        ),\n",
    "    )\n",
    "    fig.add_bar(\n",
    "        x=bwupca_x,\n",
    "        y=bwupca.explained_variance_ratio_,\n",
    "        name=\"Individual explained variance\",\n",
    "    )\n",
    "    fig.update_layout(width=width,\n",
    "                      title='BWU PCA Explained Variance')\n",
    "    fig.show()\n"
   ]
  },
  {
   "cell_type": "code",
   "execution_count": 22,
   "metadata": {},
   "outputs": [
    {
     "data": {
      "application/vnd.plotly.v1+json": {
       "config": {
        "plotlyServerURL": "https://plot.ly"
       },
       "data": [
        {
         "hovertemplate": "Legend=Cumulative explained variance<br>Principal component index=%{x}<br>Explained Variance Ratio=%{y}<extra></extra>",
         "legendgroup": "Cumulative explained variance",
         "line": {
          "color": "#636efa",
          "dash": "solid"
         },
         "marker": {
          "symbol": "circle"
         },
         "mode": "lines",
         "name": "Cumulative explained variance",
         "orientation": "v",
         "showlegend": true,
         "type": "scatter",
         "x": [
          1,
          2,
          3,
          4,
          5,
          6,
          7,
          8,
          9,
          10,
          11,
          12,
          13,
          14,
          15
         ],
         "xaxis": "x",
         "y": [
          0.36308934032472484,
          0.6537130535143477,
          0.8143815742993779,
          0.8961914552306062,
          0.929686689681312,
          0.9521804952797761,
          0.9675940893516266,
          0.9783787276443097,
          0.9850691007416338,
          0.989652946840623,
          0.9931725803605415,
          0.9953056828641264,
          0.9967256324617683,
          0.9979347759673312,
          0.9985644119688251
         ],
         "yaxis": "y"
        },
        {
         "name": "Individual explained variance",
         "type": "bar",
         "x": [
          1,
          2,
          3,
          4,
          5,
          6,
          7,
          8,
          9,
          10,
          11,
          12,
          13,
          14,
          15
         ],
         "y": [
          0.36308934032472484,
          0.2906237131896229,
          0.1606685207850301,
          0.08180988093122833,
          0.03349523445070583,
          0.022493805598464183,
          0.015413594071850514,
          0.01078463829268307,
          0.006690373097324154,
          0.00458384609898918,
          0.0035196335199184185,
          0.002133102503584865,
          0.0014199495976419528,
          0.0012091435055628739,
          0.0006296360014938992
         ]
        }
       ],
       "layout": {
        "legend": {
         "title": {
          "text": "Legend"
         },
         "tracegroupgap": 0
        },
        "margin": {
         "t": 60
        },
        "template": {
         "data": {
          "bar": [
           {
            "error_x": {
             "color": "#2a3f5f"
            },
            "error_y": {
             "color": "#2a3f5f"
            },
            "marker": {
             "line": {
              "color": "white",
              "width": 0.5
             },
             "pattern": {
              "fillmode": "overlay",
              "size": 10,
              "solidity": 0.2
             }
            },
            "type": "bar"
           }
          ],
          "barpolar": [
           {
            "marker": {
             "line": {
              "color": "white",
              "width": 0.5
             },
             "pattern": {
              "fillmode": "overlay",
              "size": 10,
              "solidity": 0.2
             }
            },
            "type": "barpolar"
           }
          ],
          "carpet": [
           {
            "aaxis": {
             "endlinecolor": "#2a3f5f",
             "gridcolor": "#C8D4E3",
             "linecolor": "#C8D4E3",
             "minorgridcolor": "#C8D4E3",
             "startlinecolor": "#2a3f5f"
            },
            "baxis": {
             "endlinecolor": "#2a3f5f",
             "gridcolor": "#C8D4E3",
             "linecolor": "#C8D4E3",
             "minorgridcolor": "#C8D4E3",
             "startlinecolor": "#2a3f5f"
            },
            "type": "carpet"
           }
          ],
          "choropleth": [
           {
            "colorbar": {
             "outlinewidth": 0,
             "ticks": ""
            },
            "type": "choropleth"
           }
          ],
          "contour": [
           {
            "colorbar": {
             "outlinewidth": 0,
             "ticks": ""
            },
            "colorscale": [
             [
              0,
              "#0d0887"
             ],
             [
              0.1111111111111111,
              "#46039f"
             ],
             [
              0.2222222222222222,
              "#7201a8"
             ],
             [
              0.3333333333333333,
              "#9c179e"
             ],
             [
              0.4444444444444444,
              "#bd3786"
             ],
             [
              0.5555555555555556,
              "#d8576b"
             ],
             [
              0.6666666666666666,
              "#ed7953"
             ],
             [
              0.7777777777777778,
              "#fb9f3a"
             ],
             [
              0.8888888888888888,
              "#fdca26"
             ],
             [
              1,
              "#f0f921"
             ]
            ],
            "type": "contour"
           }
          ],
          "contourcarpet": [
           {
            "colorbar": {
             "outlinewidth": 0,
             "ticks": ""
            },
            "type": "contourcarpet"
           }
          ],
          "heatmap": [
           {
            "colorbar": {
             "outlinewidth": 0,
             "ticks": ""
            },
            "colorscale": [
             [
              0,
              "#0d0887"
             ],
             [
              0.1111111111111111,
              "#46039f"
             ],
             [
              0.2222222222222222,
              "#7201a8"
             ],
             [
              0.3333333333333333,
              "#9c179e"
             ],
             [
              0.4444444444444444,
              "#bd3786"
             ],
             [
              0.5555555555555556,
              "#d8576b"
             ],
             [
              0.6666666666666666,
              "#ed7953"
             ],
             [
              0.7777777777777778,
              "#fb9f3a"
             ],
             [
              0.8888888888888888,
              "#fdca26"
             ],
             [
              1,
              "#f0f921"
             ]
            ],
            "type": "heatmap"
           }
          ],
          "heatmapgl": [
           {
            "colorbar": {
             "outlinewidth": 0,
             "ticks": ""
            },
            "colorscale": [
             [
              0,
              "#0d0887"
             ],
             [
              0.1111111111111111,
              "#46039f"
             ],
             [
              0.2222222222222222,
              "#7201a8"
             ],
             [
              0.3333333333333333,
              "#9c179e"
             ],
             [
              0.4444444444444444,
              "#bd3786"
             ],
             [
              0.5555555555555556,
              "#d8576b"
             ],
             [
              0.6666666666666666,
              "#ed7953"
             ],
             [
              0.7777777777777778,
              "#fb9f3a"
             ],
             [
              0.8888888888888888,
              "#fdca26"
             ],
             [
              1,
              "#f0f921"
             ]
            ],
            "type": "heatmapgl"
           }
          ],
          "histogram": [
           {
            "marker": {
             "pattern": {
              "fillmode": "overlay",
              "size": 10,
              "solidity": 0.2
             }
            },
            "type": "histogram"
           }
          ],
          "histogram2d": [
           {
            "colorbar": {
             "outlinewidth": 0,
             "ticks": ""
            },
            "colorscale": [
             [
              0,
              "#0d0887"
             ],
             [
              0.1111111111111111,
              "#46039f"
             ],
             [
              0.2222222222222222,
              "#7201a8"
             ],
             [
              0.3333333333333333,
              "#9c179e"
             ],
             [
              0.4444444444444444,
              "#bd3786"
             ],
             [
              0.5555555555555556,
              "#d8576b"
             ],
             [
              0.6666666666666666,
              "#ed7953"
             ],
             [
              0.7777777777777778,
              "#fb9f3a"
             ],
             [
              0.8888888888888888,
              "#fdca26"
             ],
             [
              1,
              "#f0f921"
             ]
            ],
            "type": "histogram2d"
           }
          ],
          "histogram2dcontour": [
           {
            "colorbar": {
             "outlinewidth": 0,
             "ticks": ""
            },
            "colorscale": [
             [
              0,
              "#0d0887"
             ],
             [
              0.1111111111111111,
              "#46039f"
             ],
             [
              0.2222222222222222,
              "#7201a8"
             ],
             [
              0.3333333333333333,
              "#9c179e"
             ],
             [
              0.4444444444444444,
              "#bd3786"
             ],
             [
              0.5555555555555556,
              "#d8576b"
             ],
             [
              0.6666666666666666,
              "#ed7953"
             ],
             [
              0.7777777777777778,
              "#fb9f3a"
             ],
             [
              0.8888888888888888,
              "#fdca26"
             ],
             [
              1,
              "#f0f921"
             ]
            ],
            "type": "histogram2dcontour"
           }
          ],
          "mesh3d": [
           {
            "colorbar": {
             "outlinewidth": 0,
             "ticks": ""
            },
            "type": "mesh3d"
           }
          ],
          "parcoords": [
           {
            "line": {
             "colorbar": {
              "outlinewidth": 0,
              "ticks": ""
             }
            },
            "type": "parcoords"
           }
          ],
          "pie": [
           {
            "automargin": true,
            "type": "pie"
           }
          ],
          "scatter": [
           {
            "fillpattern": {
             "fillmode": "overlay",
             "size": 10,
             "solidity": 0.2
            },
            "type": "scatter"
           }
          ],
          "scatter3d": [
           {
            "line": {
             "colorbar": {
              "outlinewidth": 0,
              "ticks": ""
             }
            },
            "marker": {
             "colorbar": {
              "outlinewidth": 0,
              "ticks": ""
             }
            },
            "type": "scatter3d"
           }
          ],
          "scattercarpet": [
           {
            "marker": {
             "colorbar": {
              "outlinewidth": 0,
              "ticks": ""
             }
            },
            "type": "scattercarpet"
           }
          ],
          "scattergeo": [
           {
            "marker": {
             "colorbar": {
              "outlinewidth": 0,
              "ticks": ""
             }
            },
            "type": "scattergeo"
           }
          ],
          "scattergl": [
           {
            "marker": {
             "colorbar": {
              "outlinewidth": 0,
              "ticks": ""
             }
            },
            "type": "scattergl"
           }
          ],
          "scattermapbox": [
           {
            "marker": {
             "colorbar": {
              "outlinewidth": 0,
              "ticks": ""
             }
            },
            "type": "scattermapbox"
           }
          ],
          "scatterpolar": [
           {
            "marker": {
             "colorbar": {
              "outlinewidth": 0,
              "ticks": ""
             }
            },
            "type": "scatterpolar"
           }
          ],
          "scatterpolargl": [
           {
            "marker": {
             "colorbar": {
              "outlinewidth": 0,
              "ticks": ""
             }
            },
            "type": "scatterpolargl"
           }
          ],
          "scatterternary": [
           {
            "marker": {
             "colorbar": {
              "outlinewidth": 0,
              "ticks": ""
             }
            },
            "type": "scatterternary"
           }
          ],
          "surface": [
           {
            "colorbar": {
             "outlinewidth": 0,
             "ticks": ""
            },
            "colorscale": [
             [
              0,
              "#0d0887"
             ],
             [
              0.1111111111111111,
              "#46039f"
             ],
             [
              0.2222222222222222,
              "#7201a8"
             ],
             [
              0.3333333333333333,
              "#9c179e"
             ],
             [
              0.4444444444444444,
              "#bd3786"
             ],
             [
              0.5555555555555556,
              "#d8576b"
             ],
             [
              0.6666666666666666,
              "#ed7953"
             ],
             [
              0.7777777777777778,
              "#fb9f3a"
             ],
             [
              0.8888888888888888,
              "#fdca26"
             ],
             [
              1,
              "#f0f921"
             ]
            ],
            "type": "surface"
           }
          ],
          "table": [
           {
            "cells": {
             "fill": {
              "color": "#EBF0F8"
             },
             "line": {
              "color": "white"
             }
            },
            "header": {
             "fill": {
              "color": "#C8D4E3"
             },
             "line": {
              "color": "white"
             }
            },
            "type": "table"
           }
          ]
         },
         "layout": {
          "annotationdefaults": {
           "arrowcolor": "#2a3f5f",
           "arrowhead": 0,
           "arrowwidth": 1
          },
          "autotypenumbers": "strict",
          "coloraxis": {
           "colorbar": {
            "outlinewidth": 0,
            "ticks": ""
           }
          },
          "colorscale": {
           "diverging": [
            [
             0,
             "#8e0152"
            ],
            [
             0.1,
             "#c51b7d"
            ],
            [
             0.2,
             "#de77ae"
            ],
            [
             0.3,
             "#f1b6da"
            ],
            [
             0.4,
             "#fde0ef"
            ],
            [
             0.5,
             "#f7f7f7"
            ],
            [
             0.6,
             "#e6f5d0"
            ],
            [
             0.7,
             "#b8e186"
            ],
            [
             0.8,
             "#7fbc41"
            ],
            [
             0.9,
             "#4d9221"
            ],
            [
             1,
             "#276419"
            ]
           ],
           "sequential": [
            [
             0,
             "#0d0887"
            ],
            [
             0.1111111111111111,
             "#46039f"
            ],
            [
             0.2222222222222222,
             "#7201a8"
            ],
            [
             0.3333333333333333,
             "#9c179e"
            ],
            [
             0.4444444444444444,
             "#bd3786"
            ],
            [
             0.5555555555555556,
             "#d8576b"
            ],
            [
             0.6666666666666666,
             "#ed7953"
            ],
            [
             0.7777777777777778,
             "#fb9f3a"
            ],
            [
             0.8888888888888888,
             "#fdca26"
            ],
            [
             1,
             "#f0f921"
            ]
           ],
           "sequentialminus": [
            [
             0,
             "#0d0887"
            ],
            [
             0.1111111111111111,
             "#46039f"
            ],
            [
             0.2222222222222222,
             "#7201a8"
            ],
            [
             0.3333333333333333,
             "#9c179e"
            ],
            [
             0.4444444444444444,
             "#bd3786"
            ],
            [
             0.5555555555555556,
             "#d8576b"
            ],
            [
             0.6666666666666666,
             "#ed7953"
            ],
            [
             0.7777777777777778,
             "#fb9f3a"
            ],
            [
             0.8888888888888888,
             "#fdca26"
            ],
            [
             1,
             "#f0f921"
            ]
           ]
          },
          "colorway": [
           "#636efa",
           "#EF553B",
           "#00cc96",
           "#ab63fa",
           "#FFA15A",
           "#19d3f3",
           "#FF6692",
           "#B6E880",
           "#FF97FF",
           "#FECB52"
          ],
          "font": {
           "color": "#2a3f5f"
          },
          "geo": {
           "bgcolor": "white",
           "lakecolor": "white",
           "landcolor": "white",
           "showlakes": true,
           "showland": true,
           "subunitcolor": "#C8D4E3"
          },
          "hoverlabel": {
           "align": "left"
          },
          "hovermode": "closest",
          "mapbox": {
           "style": "light"
          },
          "paper_bgcolor": "white",
          "plot_bgcolor": "white",
          "polar": {
           "angularaxis": {
            "gridcolor": "#EBF0F8",
            "linecolor": "#EBF0F8",
            "ticks": ""
           },
           "bgcolor": "white",
           "radialaxis": {
            "gridcolor": "#EBF0F8",
            "linecolor": "#EBF0F8",
            "ticks": ""
           }
          },
          "scene": {
           "xaxis": {
            "backgroundcolor": "white",
            "gridcolor": "#DFE8F3",
            "gridwidth": 2,
            "linecolor": "#EBF0F8",
            "showbackground": true,
            "ticks": "",
            "zerolinecolor": "#EBF0F8"
           },
           "yaxis": {
            "backgroundcolor": "white",
            "gridcolor": "#DFE8F3",
            "gridwidth": 2,
            "linecolor": "#EBF0F8",
            "showbackground": true,
            "ticks": "",
            "zerolinecolor": "#EBF0F8"
           },
           "zaxis": {
            "backgroundcolor": "white",
            "gridcolor": "#DFE8F3",
            "gridwidth": 2,
            "linecolor": "#EBF0F8",
            "showbackground": true,
            "ticks": "",
            "zerolinecolor": "#EBF0F8"
           }
          },
          "shapedefaults": {
           "line": {
            "color": "#2a3f5f"
           }
          },
          "ternary": {
           "aaxis": {
            "gridcolor": "#DFE8F3",
            "linecolor": "#A2B1C6",
            "ticks": ""
           },
           "baxis": {
            "gridcolor": "#DFE8F3",
            "linecolor": "#A2B1C6",
            "ticks": ""
           },
           "bgcolor": "white",
           "caxis": {
            "gridcolor": "#DFE8F3",
            "linecolor": "#A2B1C6",
            "ticks": ""
           }
          },
          "title": {
           "x": 0.05
          },
          "xaxis": {
           "automargin": true,
           "gridcolor": "#EBF0F8",
           "linecolor": "#EBF0F8",
           "ticks": "",
           "title": {
            "standoff": 15
           },
           "zerolinecolor": "#EBF0F8",
           "zerolinewidth": 2
          },
          "yaxis": {
           "automargin": true,
           "gridcolor": "#EBF0F8",
           "linecolor": "#EBF0F8",
           "ticks": "",
           "title": {
            "standoff": 15
           },
           "zerolinecolor": "#EBF0F8",
           "zerolinewidth": 2
          }
         }
        },
        "title": {
         "text": "BWU PCA Explained Variance"
        },
        "width": 1000,
        "xaxis": {
         "anchor": "y",
         "domain": [
          0,
          1
         ],
         "title": {
          "text": "Principal component index"
         }
        },
        "yaxis": {
         "anchor": "x",
         "domain": [
          0,
          1
         ],
         "title": {
          "text": "Explained Variance Ratio"
         }
        }
       }
      }
     },
     "metadata": {},
     "output_type": "display_data"
    }
   ],
   "source": [
    "plot_explained_variance_bwu(bwu, pca_n_components=15, width=1000)"
   ]
  },
  {
   "cell_type": "markdown",
   "metadata": {},
   "source": [
    "### Plot scores and loadings"
   ]
  },
  {
   "cell_type": "code",
   "execution_count": 23,
   "metadata": {},
   "outputs": [],
   "source": [
    "def plot_scores_loadings_bwu(\n",
    "    bwu, pc_x_axis=1, pc_y_axis=2, highlight_type=\"Run_id\", pca_n_components=15, \n",
    "    width=1200, height=900,\n",
    "):\n",
    "    scaler = StandardScaler()\n",
    "    bwu_normalized = scaler.fit_transform(bwu)\n",
    "    # Run PCA on scaled data\n",
    "    bwupca = PCA(n_components=min(min(bwu.shape), pca_n_components))\n",
    "    bwupca.fit(bwu_normalized)\n",
    "    bwupca_x = list(range(1, bwupca.n_components_ + 1))\n",
    "\n",
    "    # Run PCA analysis\n",
    "    bwu_components = bwupca.fit_transform(bwu_normalized)\n",
    "    bwu_loadings = bwupca.components_.T * np.sqrt(bwupca.explained_variance_)\n",
    "    bwu_features = list(bwu.columns)\n",
    "    bwu_explained = bwupca.explained_variance_ratio_\n",
    "\n",
    "    # Create 2 rows and 1 cols subplots\n",
    "    fig = make_subplots(\n",
    "        rows=2,\n",
    "        cols=1,\n",
    "        subplot_titles=[\"BWU PCA scores plot\", \"BWU PCA loadings plot\"],\n",
    "        vertical_spacing=0.08,\n",
    "    )\n",
    "\n",
    "    # Score plots\n",
    "    fig.add_trace(\n",
    "        go.Scatter(\n",
    "            x=[0, 0], y=[0, 0], mode=\"markers\", marker_color=\"black\", name=\"origin\"\n",
    "        ),\n",
    "        row=1,\n",
    "        col=1,\n",
    "    )\n",
    "    text_data = [\n",
    "        f\"Run {bwu.index.get_level_values(0)[i]}\"\n",
    "        for i in range(len(bwu))\n",
    "    ]\n",
    "\n",
    "    # Score plots for highlight type\n",
    "    if highlight_type == \"Run_id\":\n",
    "        color_idx=np.array(bwu.index.get_level_values(0))\n",
    "    elif highlight_type == \"Titer_14\":\n",
    "        color_idx = np.array(bwu[\"X:Titer:14\"])\n",
    "    # elif highlight_type in doe.columns:\n",
    "    #     color_idx = np.array(doe[PLOT_COLOR])\n",
    "    else:\n",
    "        color_idx = None\n",
    "    fig.add_trace(\n",
    "        go.Scatter(\n",
    "            x=bwu_components[:, pc_x_axis - 1],\n",
    "            y=bwu_components[:, pc_y_axis - 1],\n",
    "            mode=\"markers\",\n",
    "            marker=dict(size=10, color=color_idx, showscale=True),\n",
    "            marker_size=10,\n",
    "            text=text_data,\n",
    "            textposition=\"top center\",\n",
    "        ),\n",
    "        row=1,\n",
    "        col=1,\n",
    "    )\n",
    "\n",
    "    # Loading plots\n",
    "    fig.add_trace(\n",
    "        go.Scatter(\n",
    "            x=[0, 0], y=[0, 0], mode=\"markers\", marker_color=\"black\", name=\"origin\"\n",
    "        ),\n",
    "        row=2,\n",
    "        col=1,\n",
    "    )\n",
    "    for i, feature in enumerate(bwu_features):\n",
    "        fig.add_shape(\n",
    "            type=\"line\",\n",
    "            x0=0,\n",
    "            y0=0,\n",
    "            x1=bwu_loadings[i, pc_x_axis - 1],\n",
    "            y1=bwu_loadings[i, pc_y_axis - 1],\n",
    "            row=2,\n",
    "            col=1,\n",
    "        )\n",
    "        fig.add_annotation(\n",
    "            x=bwu_loadings[i, pc_x_axis - 1],\n",
    "            y=bwu_loadings[i, pc_y_axis - 1],\n",
    "            ax=0,\n",
    "            ay=0,\n",
    "            xanchor=\"center\",\n",
    "            yanchor=\"bottom\",\n",
    "            text=feature,\n",
    "            row=2,\n",
    "            col=1,\n",
    "        )\n",
    "\n",
    "    fig.update_layout(width=width, height=height, showlegend=False)\n",
    "    fig.update_xaxes(\n",
    "        title=f\"Principal Component - {pc_x_axis} ({bwu_explained[pc_x_axis-1].round(2)}%)\",\n",
    "        row=2,\n",
    "        col=1,\n",
    "    )\n",
    "    fig.update_yaxes(\n",
    "        title=f\"Principal Component - {pc_y_axis} ({bwu_explained[pc_y_axis-1].round(2)}%)\",\n",
    "        row=1,\n",
    "        col=1,\n",
    "    )\n",
    "    fig.update_yaxes(\n",
    "        title=f\"Principal Component - {pc_y_axis} ({bwu_explained[pc_y_axis-1].round(2)}%)\",\n",
    "        row=2,\n",
    "        col=1,\n",
    "    )\n",
    "    fig.show()\n",
    "\n",
    "    fig = make_subplots(\n",
    "        rows=1,\n",
    "        cols=2,\n",
    "        subplot_titles=(\n",
    "            \"BWU Loadings of Principal Component - \" + str(pc_x_axis),\n",
    "            \"BWU Loadings of Principal Component - \" + str(pc_y_axis),\n",
    "        ),\n",
    "    )\n",
    "    fig.add_bar(x=bwu_features, y=bwu_loadings[:, pc_x_axis - 1], row=1, col=1)\n",
    "    fig.add_bar(x=bwu_features, y=bwu_loadings[:, pc_y_axis - 1], row=1, col=2)\n",
    "    fig.update_layout(width=width, height=height/2, showlegend=False)\n",
    "    fig.show()"
   ]
  },
  {
   "cell_type": "code",
   "execution_count": 24,
   "metadata": {},
   "outputs": [
    {
     "data": {
      "application/vnd.plotly.v1+json": {
       "config": {
        "plotlyServerURL": "https://plot.ly"
       },
       "data": [
        {
         "marker": {
          "color": "black"
         },
         "mode": "markers",
         "name": "origin",
         "type": "scatter",
         "x": [
          0,
          0
         ],
         "xaxis": "x",
         "y": [
          0,
          0
         ],
         "yaxis": "y"
        },
        {
         "marker": {
          "color": [
           0,
           1,
           2,
           3,
           4,
           5,
           6,
           7,
           8,
           9,
           10,
           11,
           12,
           13,
           14,
           15,
           16,
           17,
           18,
           19,
           20,
           21,
           22,
           23,
           24,
           25,
           26,
           27,
           28,
           29,
           30,
           31,
           32,
           33,
           34,
           35,
           36,
           37,
           38,
           39,
           40,
           41,
           42,
           43,
           44,
           45,
           46,
           47,
           48,
           49
          ],
          "showscale": true,
          "size": 10
         },
         "mode": "markers",
         "text": [
          "Run 0",
          "Run 1",
          "Run 2",
          "Run 3",
          "Run 4",
          "Run 5",
          "Run 6",
          "Run 7",
          "Run 8",
          "Run 9",
          "Run 10",
          "Run 11",
          "Run 12",
          "Run 13",
          "Run 14",
          "Run 15",
          "Run 16",
          "Run 17",
          "Run 18",
          "Run 19",
          "Run 20",
          "Run 21",
          "Run 22",
          "Run 23",
          "Run 24",
          "Run 25",
          "Run 26",
          "Run 27",
          "Run 28",
          "Run 29",
          "Run 30",
          "Run 31",
          "Run 32",
          "Run 33",
          "Run 34",
          "Run 35",
          "Run 36",
          "Run 37",
          "Run 38",
          "Run 39",
          "Run 40",
          "Run 41",
          "Run 42",
          "Run 43",
          "Run 44",
          "Run 45",
          "Run 46",
          "Run 47",
          "Run 48",
          "Run 49"
         ],
         "textposition": "top center",
         "type": "scatter",
         "x": [
          -4.3821441380426185,
          7.462792045105473,
          3.068245691472664,
          -7.26734367980737,
          0.26652559380361146,
          0.02523440225427633,
          7.431178793614198,
          -2.4811240614742185,
          1.468133084337195,
          1.2756516581730002,
          -1.8045858486705877,
          -0.8316294556909096,
          -5.445213587828311,
          -5.182854728356574,
          -2.972117297812854,
          -2.7329917101150425,
          -4.235274060686701,
          -2.182048319571065,
          -1.2275903007036209,
          6.246370533419319,
          -3.4367479783243566,
          10.755835417175838,
          -6.205553019685963,
          -0.5039209966512757,
          -2.086648398578022,
          -1.7469718616448888,
          2.2802707798562234,
          -6.271502437119879,
          1.3839198023659873,
          -6.0291606888738345,
          12.796543666793513,
          5.467502669938241,
          -6.297341787918847,
          6.975152537353618,
          8.73119225758034,
          -1.576049376264906,
          -2.6766379942702185,
          8.854773183518265,
          3.372293425844406,
          3.818835672982049,
          4.042697152607906,
          -3.0557513467554402,
          -5.878981807318764,
          -6.8375128278689274,
          3.506737748298299,
          -2.7354507943283046,
          1.3507067117713567,
          -5.748587339718739,
          -0.10480148197628684,
          1.3559444977927537
         ],
         "xaxis": "x",
         "y": [
          -1.5267061989012827,
          3.388681540842474,
          -8.469234449238506,
          1.522298926627823,
          -3.088252246659963,
          -3.2745049254873906,
          10.782179940632009,
          0.7827379407237871,
          -5.3552395110107085,
          -5.416668421531997,
          -2.182499247230481,
          -5.199173910751764,
          -1.3667452783047978,
          2.9555020788717243,
          4.528497227892785,
          -3.3234317369800483,
          -1.3298662694967465,
          1.7486722164720976,
          -0.44179893100082823,
          10.486843412962912,
          3.2420221099510993,
          -4.82318149716901,
          5.518386730267564,
          -0.08152681414482818,
          -1.1401907835030143,
          -1.8919805256256617,
          -7.759778232242211,
          -0.284193469226484,
          -2.2486869956865694,
          0.5366264144364435,
          1.0693408262545574,
          -1.8485678265724652,
          5.4864562320055175,
          -6.137846108117457,
          8.739204221364352,
          6.56394317715941,
          -1.1736818225070935,
          5.506139020313438,
          -3.2795318911075566,
          -1.908391858494251,
          -3.4156723793166566,
          -2.190666952750835,
          5.884104019325511,
          2.6222010991071945,
          6.754741346456222,
          -2.263177525485773,
          -5.847422146345131,
          -0.7870595622007366,
          0.01119499838846238,
          -0.07409596296511564
         ],
         "yaxis": "y"
        },
        {
         "marker": {
          "color": "black"
         },
         "mode": "markers",
         "name": "origin",
         "type": "scatter",
         "x": [
          0,
          0
         ],
         "xaxis": "x2",
         "y": [
          0,
          0
         ],
         "yaxis": "y2"
        }
       ],
       "layout": {
        "annotations": [
         {
          "font": {
           "size": 16
          },
          "showarrow": false,
          "text": "BWU PCA scores plot",
          "x": 0.5,
          "xanchor": "center",
          "xref": "paper",
          "y": 1,
          "yanchor": "bottom",
          "yref": "paper"
         },
         {
          "font": {
           "size": 16
          },
          "showarrow": false,
          "text": "BWU PCA loadings plot",
          "x": 0.5,
          "xanchor": "center",
          "xref": "paper",
          "y": 0.46,
          "yanchor": "bottom",
          "yref": "paper"
         },
         {
          "ax": 0,
          "ay": 0,
          "text": "X:VCD:0",
          "x": -0.5835907625159668,
          "xanchor": "center",
          "xref": "x2",
          "y": 0.7181502032440295,
          "yanchor": "bottom",
          "yref": "y2"
         },
         {
          "ax": 0,
          "ay": 0,
          "text": "X:VCD:1",
          "x": -0.5873801631300525,
          "xanchor": "center",
          "xref": "x2",
          "y": 0.7266486450771686,
          "yanchor": "bottom",
          "yref": "y2"
         },
         {
          "ax": 0,
          "ay": 0,
          "text": "X:VCD:2",
          "x": -0.6031229701261206,
          "xanchor": "center",
          "xref": "x2",
          "y": 0.7237657751591411,
          "yanchor": "bottom",
          "yref": "y2"
         },
         {
          "ax": 0,
          "ay": 0,
          "text": "X:VCD:3",
          "x": -0.6507611053246384,
          "xanchor": "center",
          "xref": "x2",
          "y": 0.682673109449653,
          "yanchor": "bottom",
          "yref": "y2"
         },
         {
          "ax": 0,
          "ay": 0,
          "text": "X:VCD:4",
          "x": -0.7623652441136902,
          "xanchor": "center",
          "xref": "x2",
          "y": 0.5194398732061611,
          "yanchor": "bottom",
          "yref": "y2"
         },
         {
          "ax": 0,
          "ay": 0,
          "text": "X:VCD:5",
          "x": -0.8915732833625204,
          "xanchor": "center",
          "xref": "x2",
          "y": -0.031055152895097023,
          "yanchor": "bottom",
          "yref": "y2"
         },
         {
          "ax": 0,
          "ay": 0,
          "text": "X:VCD:6",
          "x": -0.6599425441486211,
          "xanchor": "center",
          "xref": "x2",
          "y": -0.5563324879888268,
          "yanchor": "bottom",
          "yref": "y2"
         },
         {
          "ax": 0,
          "ay": 0,
          "text": "X:VCD:7",
          "x": -0.5297834895931296,
          "xanchor": "center",
          "xref": "x2",
          "y": -0.6360440947190683,
          "yanchor": "bottom",
          "yref": "y2"
         },
         {
          "ax": 0,
          "ay": 0,
          "text": "X:VCD:8",
          "x": -0.5012887927037266,
          "xanchor": "center",
          "xref": "x2",
          "y": -0.6594110729276368,
          "yanchor": "bottom",
          "yref": "y2"
         },
         {
          "ax": 0,
          "ay": 0,
          "text": "X:VCD:9",
          "x": -0.48839625554501714,
          "xanchor": "center",
          "xref": "x2",
          "y": -0.6814397401041983,
          "yanchor": "bottom",
          "yref": "y2"
         },
         {
          "ax": 0,
          "ay": 0,
          "text": "X:VCD:10",
          "x": -0.47028556519563147,
          "xanchor": "center",
          "xref": "x2",
          "y": -0.7101527915891516,
          "yanchor": "bottom",
          "yref": "y2"
         },
         {
          "ax": 0,
          "ay": 0,
          "text": "X:VCD:11",
          "x": -0.45241092415499806,
          "xanchor": "center",
          "xref": "x2",
          "y": -0.7281699205304132,
          "yanchor": "bottom",
          "yref": "y2"
         },
         {
          "ax": 0,
          "ay": 0,
          "text": "X:VCD:12",
          "x": -0.44250921612447464,
          "xanchor": "center",
          "xref": "x2",
          "y": -0.7196862212274647,
          "yanchor": "bottom",
          "yref": "y2"
         },
         {
          "ax": 0,
          "ay": 0,
          "text": "X:VCD:13",
          "x": -0.44380354174136116,
          "xanchor": "center",
          "xref": "x2",
          "y": -0.6826577995650397,
          "yanchor": "bottom",
          "yref": "y2"
         },
         {
          "ax": 0,
          "ay": 0,
          "text": "X:VCD:14",
          "x": -0.45627541568443836,
          "xanchor": "center",
          "xref": "x2",
          "y": -0.6262425744923965,
          "yanchor": "bottom",
          "yref": "y2"
         },
         {
          "ax": 0,
          "ay": 0,
          "text": "X:Glc:0",
          "x": -0.11061006962890055,
          "xanchor": "center",
          "xref": "x2",
          "y": 0.42428822870081395,
          "yanchor": "bottom",
          "yref": "y2"
         },
         {
          "ax": 0,
          "ay": 0,
          "text": "X:Glc:1",
          "x": -0.09778513775917373,
          "xanchor": "center",
          "xref": "x2",
          "y": 0.41011110851926547,
          "yanchor": "bottom",
          "yref": "y2"
         },
         {
          "ax": 0,
          "ay": 0,
          "text": "X:Glc:2",
          "x": -0.013315482217689696,
          "xanchor": "center",
          "xref": "x2",
          "y": 0.4361502397848831,
          "yanchor": "bottom",
          "yref": "y2"
         },
         {
          "ax": 0,
          "ay": 0,
          "text": "X:Glc:3",
          "x": 0.1479791771546907,
          "xanchor": "center",
          "xref": "x2",
          "y": 0.49797310388508875,
          "yanchor": "bottom",
          "yref": "y2"
         },
         {
          "ax": 0,
          "ay": 0,
          "text": "X:Glc:4",
          "x": 0.282570985736099,
          "xanchor": "center",
          "xref": "x2",
          "y": 0.5209881665503517,
          "yanchor": "bottom",
          "yref": "y2"
         },
         {
          "ax": 0,
          "ay": 0,
          "text": "X:Glc:5",
          "x": 0.34528237812663765,
          "xanchor": "center",
          "xref": "x2",
          "y": 0.5543187925178528,
          "yanchor": "bottom",
          "yref": "y2"
         },
         {
          "ax": 0,
          "ay": 0,
          "text": "X:Glc:6",
          "x": 0.38808362845582545,
          "xanchor": "center",
          "xref": "x2",
          "y": 0.6149872238867109,
          "yanchor": "bottom",
          "yref": "y2"
         },
         {
          "ax": 0,
          "ay": 0,
          "text": "X:Glc:7",
          "x": 0.41872858086743386,
          "xanchor": "center",
          "xref": "x2",
          "y": 0.6830781168602122,
          "yanchor": "bottom",
          "yref": "y2"
         },
         {
          "ax": 0,
          "ay": 0,
          "text": "X:Glc:8",
          "x": 0.42858634936504125,
          "xanchor": "center",
          "xref": "x2",
          "y": 0.7348717595042344,
          "yanchor": "bottom",
          "yref": "y2"
         },
         {
          "ax": 0,
          "ay": 0,
          "text": "X:Glc:9",
          "x": 0.4198491653588856,
          "xanchor": "center",
          "xref": "x2",
          "y": 0.7658306814892519,
          "yanchor": "bottom",
          "yref": "y2"
         },
         {
          "ax": 0,
          "ay": 0,
          "text": "X:Glc:10",
          "x": 0.4063639018888244,
          "xanchor": "center",
          "xref": "x2",
          "y": 0.7751494833548807,
          "yanchor": "bottom",
          "yref": "y2"
         },
         {
          "ax": 0,
          "ay": 0,
          "text": "X:Glc:11",
          "x": 0.401730192813489,
          "xanchor": "center",
          "xref": "x2",
          "y": 0.7589334601175083,
          "yanchor": "bottom",
          "yref": "y2"
         },
         {
          "ax": 0,
          "ay": 0,
          "text": "X:Glc:12",
          "x": 0.40597453908664705,
          "xanchor": "center",
          "xref": "x2",
          "y": 0.7471160245542571,
          "yanchor": "bottom",
          "yref": "y2"
         },
         {
          "ax": 0,
          "ay": 0,
          "text": "X:Glc:13",
          "x": 0.41626616942309524,
          "xanchor": "center",
          "xref": "x2",
          "y": 0.7517927374966217,
          "yanchor": "bottom",
          "yref": "y2"
         },
         {
          "ax": 0,
          "ay": 0,
          "text": "X:Glc:14",
          "x": 0.4251273952589538,
          "xanchor": "center",
          "xref": "x2",
          "y": 0.7523490391168597,
          "yanchor": "bottom",
          "yref": "y2"
         },
         {
          "ax": 0,
          "ay": 0,
          "text": "X:Lac:0",
          "x": 0,
          "xanchor": "center",
          "xref": "x2",
          "y": 0,
          "yanchor": "bottom",
          "yref": "y2"
         },
         {
          "ax": 0,
          "ay": 0,
          "text": "X:Lac:1",
          "x": -0.5853543817126161,
          "xanchor": "center",
          "xref": "x2",
          "y": 0.7238107559351203,
          "yanchor": "bottom",
          "yref": "y2"
         },
         {
          "ax": 0,
          "ay": 0,
          "text": "X:Lac:2",
          "x": -0.5925052978814443,
          "xanchor": "center",
          "xref": "x2",
          "y": 0.726196297968368,
          "yanchor": "bottom",
          "yref": "y2"
         },
         {
          "ax": 0,
          "ay": 0,
          "text": "X:Lac:3",
          "x": -0.6129678373121006,
          "xanchor": "center",
          "xref": "x2",
          "y": 0.7170636819532917,
          "yanchor": "bottom",
          "yref": "y2"
         },
         {
          "ax": 0,
          "ay": 0,
          "text": "X:Lac:4",
          "x": -0.6543121970200995,
          "xanchor": "center",
          "xref": "x2",
          "y": 0.6826578124736228,
          "yanchor": "bottom",
          "yref": "y2"
         },
         {
          "ax": 0,
          "ay": 0,
          "text": "X:Lac:5",
          "x": -0.7220296792029061,
          "xanchor": "center",
          "xref": "x2",
          "y": 0.6112136705207281,
          "yanchor": "bottom",
          "yref": "y2"
         },
         {
          "ax": 0,
          "ay": 0,
          "text": "X:Lac:6",
          "x": -0.8229995791565923,
          "xanchor": "center",
          "xref": "x2",
          "y": 0.48769129012985224,
          "yanchor": "bottom",
          "yref": "y2"
         },
         {
          "ax": 0,
          "ay": 0,
          "text": "X:Lac:7",
          "x": -0.9272466486980758,
          "xanchor": "center",
          "xref": "x2",
          "y": 0.308616859430731,
          "yanchor": "bottom",
          "yref": "y2"
         },
         {
          "ax": 0,
          "ay": 0,
          "text": "X:Lac:8",
          "x": -0.9811400500910412,
          "xanchor": "center",
          "xref": "x2",
          "y": 0.11408525267819024,
          "yanchor": "bottom",
          "yref": "y2"
         },
         {
          "ax": 0,
          "ay": 0,
          "text": "X:Lac:9",
          "x": -0.9854493583777494,
          "xanchor": "center",
          "xref": "x2",
          "y": -0.04515098744849273,
          "yanchor": "bottom",
          "yref": "y2"
         },
         {
          "ax": 0,
          "ay": 0,
          "text": "X:Lac:10",
          "x": -0.9677159797493184,
          "xanchor": "center",
          "xref": "x2",
          "y": -0.16029776219513592,
          "yanchor": "bottom",
          "yref": "y2"
         },
         {
          "ax": 0,
          "ay": 0,
          "text": "X:Lac:11",
          "x": -0.9464817594584907,
          "xanchor": "center",
          "xref": "x2",
          "y": -0.23991634321103153,
          "yanchor": "bottom",
          "yref": "y2"
         },
         {
          "ax": 0,
          "ay": 0,
          "text": "X:Lac:12",
          "x": -0.9288104440344305,
          "xanchor": "center",
          "xref": "x2",
          "y": -0.29379799387454336,
          "yanchor": "bottom",
          "yref": "y2"
         },
         {
          "ax": 0,
          "ay": 0,
          "text": "X:Lac:13",
          "x": -0.9162429085891632,
          "xanchor": "center",
          "xref": "x2",
          "y": -0.32840538456802765,
          "yanchor": "bottom",
          "yref": "y2"
         },
         {
          "ax": 0,
          "ay": 0,
          "text": "X:Lac:14",
          "x": -0.9078834358167259,
          "xanchor": "center",
          "xref": "x2",
          "y": -0.3493567532144062,
          "yanchor": "bottom",
          "yref": "y2"
         },
         {
          "ax": 0,
          "ay": 0,
          "text": "X:Titer:0",
          "x": 0,
          "xanchor": "center",
          "xref": "x2",
          "y": 0,
          "yanchor": "bottom",
          "yref": "y2"
         },
         {
          "ax": 0,
          "ay": 0,
          "text": "X:Titer:1",
          "x": -0.34028599307178276,
          "xanchor": "center",
          "xref": "x2",
          "y": 0.3412451890824125,
          "yanchor": "bottom",
          "yref": "y2"
         },
         {
          "ax": 0,
          "ay": 0,
          "text": "X:Titer:2",
          "x": -0.5109266336185311,
          "xanchor": "center",
          "xref": "x2",
          "y": 0.6348166452458791,
          "yanchor": "bottom",
          "yref": "y2"
         },
         {
          "ax": 0,
          "ay": 0,
          "text": "X:Titer:3",
          "x": -0.5733911813216581,
          "xanchor": "center",
          "xref": "x2",
          "y": 0.6952181814111413,
          "yanchor": "bottom",
          "yref": "y2"
         },
         {
          "ax": 0,
          "ay": 0,
          "text": "X:Titer:4",
          "x": -0.64486044884172,
          "xanchor": "center",
          "xref": "x2",
          "y": 0.6783885027079052,
          "yanchor": "bottom",
          "yref": "y2"
         },
         {
          "ax": 0,
          "ay": 0,
          "text": "X:Titer:5",
          "x": -0.7349672581886104,
          "xanchor": "center",
          "xref": "x2",
          "y": 0.6064699070408988,
          "yanchor": "bottom",
          "yref": "y2"
         },
         {
          "ax": 0,
          "ay": 0,
          "text": "X:Titer:6",
          "x": -0.8504971803462152,
          "xanchor": "center",
          "xref": "x2",
          "y": 0.4874666917476822,
          "yanchor": "bottom",
          "yref": "y2"
         },
         {
          "ax": 0,
          "ay": 0,
          "text": "X:Titer:7",
          "x": -0.9110635668960028,
          "xanchor": "center",
          "xref": "x2",
          "y": 0.33876937405069474,
          "yanchor": "bottom",
          "yref": "y2"
         },
         {
          "ax": 0,
          "ay": 0,
          "text": "X:Titer:8",
          "x": -0.9137668778687461,
          "xanchor": "center",
          "xref": "x2",
          "y": 0.20867306024718155,
          "yanchor": "bottom",
          "yref": "y2"
         },
         {
          "ax": 0,
          "ay": 0,
          "text": "X:Titer:9",
          "x": -0.8957318798598892,
          "xanchor": "center",
          "xref": "x2",
          "y": 0.10533585356855332,
          "yanchor": "bottom",
          "yref": "y2"
         },
         {
          "ax": 0,
          "ay": 0,
          "text": "X:Titer:10",
          "x": -0.8698642951923623,
          "xanchor": "center",
          "xref": "x2",
          "y": 0.02232498157711866,
          "yanchor": "bottom",
          "yref": "y2"
         },
         {
          "ax": 0,
          "ay": 0,
          "text": "X:Titer:11",
          "x": -0.8437237803440044,
          "xanchor": "center",
          "xref": "x2",
          "y": -0.03600793205554501,
          "yanchor": "bottom",
          "yref": "y2"
         },
         {
          "ax": 0,
          "ay": 0,
          "text": "X:Titer:12",
          "x": -0.825197384959444,
          "xanchor": "center",
          "xref": "x2",
          "y": -0.06692627159364216,
          "yanchor": "bottom",
          "yref": "y2"
         },
         {
          "ax": 0,
          "ay": 0,
          "text": "X:Titer:13",
          "x": -0.816258560044372,
          "xanchor": "center",
          "xref": "x2",
          "y": -0.07765491679730417,
          "yanchor": "bottom",
          "yref": "y2"
         },
         {
          "ax": 0,
          "ay": 0,
          "text": "X:Titer:14",
          "x": -0.812117320513033,
          "xanchor": "center",
          "xref": "x2",
          "y": -0.07690228963438789,
          "yanchor": "bottom",
          "yref": "y2"
         },
         {
          "ax": 0,
          "ay": 0,
          "text": "W:Feed:0",
          "x": 0,
          "xanchor": "center",
          "xref": "x2",
          "y": 0,
          "yanchor": "bottom",
          "yref": "y2"
         },
         {
          "ax": 0,
          "ay": 0,
          "text": "W:Feed:1",
          "x": 0.25736802660443314,
          "xanchor": "center",
          "xref": "x2",
          "y": 0.4645443199057294,
          "yanchor": "bottom",
          "yref": "y2"
         },
         {
          "ax": 0,
          "ay": 0,
          "text": "W:Feed:2",
          "x": 0.181940712613274,
          "xanchor": "center",
          "xref": "x2",
          "y": 0.47790183837927774,
          "yanchor": "bottom",
          "yref": "y2"
         },
         {
          "ax": 0,
          "ay": 0,
          "text": "W:Feed:3",
          "x": 0.047872656755506365,
          "xanchor": "center",
          "xref": "x2",
          "y": 0.590976043186269,
          "yanchor": "bottom",
          "yref": "y2"
         },
         {
          "ax": 0,
          "ay": 0,
          "text": "W:Feed:4",
          "x": 0.047872656755506365,
          "xanchor": "center",
          "xref": "x2",
          "y": 0.590976043186269,
          "yanchor": "bottom",
          "yref": "y2"
         },
         {
          "ax": 0,
          "ay": 0,
          "text": "W:Feed:5",
          "x": 0.047872656755506365,
          "xanchor": "center",
          "xref": "x2",
          "y": 0.590976043186269,
          "yanchor": "bottom",
          "yref": "y2"
         },
         {
          "ax": 0,
          "ay": 0,
          "text": "W:Feed:6",
          "x": 0.047872656755506365,
          "xanchor": "center",
          "xref": "x2",
          "y": 0.590976043186269,
          "yanchor": "bottom",
          "yref": "y2"
         },
         {
          "ax": 0,
          "ay": 0,
          "text": "W:Feed:7",
          "x": 0.047872656755506365,
          "xanchor": "center",
          "xref": "x2",
          "y": 0.590976043186269,
          "yanchor": "bottom",
          "yref": "y2"
         },
         {
          "ax": 0,
          "ay": 0,
          "text": "W:Feed:8",
          "x": -0.19354878502329484,
          "xanchor": "center",
          "xref": "x2",
          "y": 0.16907259525747984,
          "yanchor": "bottom",
          "yref": "y2"
         },
         {
          "ax": 0,
          "ay": 0,
          "text": "W:Feed:9",
          "x": -0.10354027230886947,
          "xanchor": "center",
          "xref": "x2",
          "y": -0.07963290911345797,
          "yanchor": "bottom",
          "yref": "y2"
         },
         {
          "ax": 0,
          "ay": 0,
          "text": "W:Feed:10",
          "x": -0.053914866138863864,
          "xanchor": "center",
          "xref": "x2",
          "y": 0.024500915598234186,
          "yanchor": "bottom",
          "yref": "y2"
         },
         {
          "ax": 0,
          "ay": 0,
          "text": "W:Feed:11",
          "x": 0,
          "xanchor": "center",
          "xref": "x2",
          "y": 0,
          "yanchor": "bottom",
          "yref": "y2"
         },
         {
          "ax": 0,
          "ay": 0,
          "text": "W:Feed:12",
          "x": 0,
          "xanchor": "center",
          "xref": "x2",
          "y": 0,
          "yanchor": "bottom",
          "yref": "y2"
         },
         {
          "ax": 0,
          "ay": 0,
          "text": "W:Feed:13",
          "x": 0,
          "xanchor": "center",
          "xref": "x2",
          "y": 0,
          "yanchor": "bottom",
          "yref": "y2"
         },
         {
          "ax": 0,
          "ay": 0,
          "text": "W:Feed:14",
          "x": 0,
          "xanchor": "center",
          "xref": "x2",
          "y": 0,
          "yanchor": "bottom",
          "yref": "y2"
         }
        ],
        "height": 900,
        "shapes": [
         {
          "type": "line",
          "x0": 0,
          "x1": -0.5835907625159668,
          "xref": "x2",
          "y0": 0,
          "y1": 0.7181502032440295,
          "yref": "y2"
         },
         {
          "type": "line",
          "x0": 0,
          "x1": -0.5873801631300525,
          "xref": "x2",
          "y0": 0,
          "y1": 0.7266486450771686,
          "yref": "y2"
         },
         {
          "type": "line",
          "x0": 0,
          "x1": -0.6031229701261206,
          "xref": "x2",
          "y0": 0,
          "y1": 0.7237657751591411,
          "yref": "y2"
         },
         {
          "type": "line",
          "x0": 0,
          "x1": -0.6507611053246384,
          "xref": "x2",
          "y0": 0,
          "y1": 0.682673109449653,
          "yref": "y2"
         },
         {
          "type": "line",
          "x0": 0,
          "x1": -0.7623652441136902,
          "xref": "x2",
          "y0": 0,
          "y1": 0.5194398732061611,
          "yref": "y2"
         },
         {
          "type": "line",
          "x0": 0,
          "x1": -0.8915732833625204,
          "xref": "x2",
          "y0": 0,
          "y1": -0.031055152895097023,
          "yref": "y2"
         },
         {
          "type": "line",
          "x0": 0,
          "x1": -0.6599425441486211,
          "xref": "x2",
          "y0": 0,
          "y1": -0.5563324879888268,
          "yref": "y2"
         },
         {
          "type": "line",
          "x0": 0,
          "x1": -0.5297834895931296,
          "xref": "x2",
          "y0": 0,
          "y1": -0.6360440947190683,
          "yref": "y2"
         },
         {
          "type": "line",
          "x0": 0,
          "x1": -0.5012887927037266,
          "xref": "x2",
          "y0": 0,
          "y1": -0.6594110729276368,
          "yref": "y2"
         },
         {
          "type": "line",
          "x0": 0,
          "x1": -0.48839625554501714,
          "xref": "x2",
          "y0": 0,
          "y1": -0.6814397401041983,
          "yref": "y2"
         },
         {
          "type": "line",
          "x0": 0,
          "x1": -0.47028556519563147,
          "xref": "x2",
          "y0": 0,
          "y1": -0.7101527915891516,
          "yref": "y2"
         },
         {
          "type": "line",
          "x0": 0,
          "x1": -0.45241092415499806,
          "xref": "x2",
          "y0": 0,
          "y1": -0.7281699205304132,
          "yref": "y2"
         },
         {
          "type": "line",
          "x0": 0,
          "x1": -0.44250921612447464,
          "xref": "x2",
          "y0": 0,
          "y1": -0.7196862212274647,
          "yref": "y2"
         },
         {
          "type": "line",
          "x0": 0,
          "x1": -0.44380354174136116,
          "xref": "x2",
          "y0": 0,
          "y1": -0.6826577995650397,
          "yref": "y2"
         },
         {
          "type": "line",
          "x0": 0,
          "x1": -0.45627541568443836,
          "xref": "x2",
          "y0": 0,
          "y1": -0.6262425744923965,
          "yref": "y2"
         },
         {
          "type": "line",
          "x0": 0,
          "x1": -0.11061006962890055,
          "xref": "x2",
          "y0": 0,
          "y1": 0.42428822870081395,
          "yref": "y2"
         },
         {
          "type": "line",
          "x0": 0,
          "x1": -0.09778513775917373,
          "xref": "x2",
          "y0": 0,
          "y1": 0.41011110851926547,
          "yref": "y2"
         },
         {
          "type": "line",
          "x0": 0,
          "x1": -0.013315482217689696,
          "xref": "x2",
          "y0": 0,
          "y1": 0.4361502397848831,
          "yref": "y2"
         },
         {
          "type": "line",
          "x0": 0,
          "x1": 0.1479791771546907,
          "xref": "x2",
          "y0": 0,
          "y1": 0.49797310388508875,
          "yref": "y2"
         },
         {
          "type": "line",
          "x0": 0,
          "x1": 0.282570985736099,
          "xref": "x2",
          "y0": 0,
          "y1": 0.5209881665503517,
          "yref": "y2"
         },
         {
          "type": "line",
          "x0": 0,
          "x1": 0.34528237812663765,
          "xref": "x2",
          "y0": 0,
          "y1": 0.5543187925178528,
          "yref": "y2"
         },
         {
          "type": "line",
          "x0": 0,
          "x1": 0.38808362845582545,
          "xref": "x2",
          "y0": 0,
          "y1": 0.6149872238867109,
          "yref": "y2"
         },
         {
          "type": "line",
          "x0": 0,
          "x1": 0.41872858086743386,
          "xref": "x2",
          "y0": 0,
          "y1": 0.6830781168602122,
          "yref": "y2"
         },
         {
          "type": "line",
          "x0": 0,
          "x1": 0.42858634936504125,
          "xref": "x2",
          "y0": 0,
          "y1": 0.7348717595042344,
          "yref": "y2"
         },
         {
          "type": "line",
          "x0": 0,
          "x1": 0.4198491653588856,
          "xref": "x2",
          "y0": 0,
          "y1": 0.7658306814892519,
          "yref": "y2"
         },
         {
          "type": "line",
          "x0": 0,
          "x1": 0.4063639018888244,
          "xref": "x2",
          "y0": 0,
          "y1": 0.7751494833548807,
          "yref": "y2"
         },
         {
          "type": "line",
          "x0": 0,
          "x1": 0.401730192813489,
          "xref": "x2",
          "y0": 0,
          "y1": 0.7589334601175083,
          "yref": "y2"
         },
         {
          "type": "line",
          "x0": 0,
          "x1": 0.40597453908664705,
          "xref": "x2",
          "y0": 0,
          "y1": 0.7471160245542571,
          "yref": "y2"
         },
         {
          "type": "line",
          "x0": 0,
          "x1": 0.41626616942309524,
          "xref": "x2",
          "y0": 0,
          "y1": 0.7517927374966217,
          "yref": "y2"
         },
         {
          "type": "line",
          "x0": 0,
          "x1": 0.4251273952589538,
          "xref": "x2",
          "y0": 0,
          "y1": 0.7523490391168597,
          "yref": "y2"
         },
         {
          "type": "line",
          "x0": 0,
          "x1": 0,
          "xref": "x2",
          "y0": 0,
          "y1": 0,
          "yref": "y2"
         },
         {
          "type": "line",
          "x0": 0,
          "x1": -0.5853543817126161,
          "xref": "x2",
          "y0": 0,
          "y1": 0.7238107559351203,
          "yref": "y2"
         },
         {
          "type": "line",
          "x0": 0,
          "x1": -0.5925052978814443,
          "xref": "x2",
          "y0": 0,
          "y1": 0.726196297968368,
          "yref": "y2"
         },
         {
          "type": "line",
          "x0": 0,
          "x1": -0.6129678373121006,
          "xref": "x2",
          "y0": 0,
          "y1": 0.7170636819532917,
          "yref": "y2"
         },
         {
          "type": "line",
          "x0": 0,
          "x1": -0.6543121970200995,
          "xref": "x2",
          "y0": 0,
          "y1": 0.6826578124736228,
          "yref": "y2"
         },
         {
          "type": "line",
          "x0": 0,
          "x1": -0.7220296792029061,
          "xref": "x2",
          "y0": 0,
          "y1": 0.6112136705207281,
          "yref": "y2"
         },
         {
          "type": "line",
          "x0": 0,
          "x1": -0.8229995791565923,
          "xref": "x2",
          "y0": 0,
          "y1": 0.48769129012985224,
          "yref": "y2"
         },
         {
          "type": "line",
          "x0": 0,
          "x1": -0.9272466486980758,
          "xref": "x2",
          "y0": 0,
          "y1": 0.308616859430731,
          "yref": "y2"
         },
         {
          "type": "line",
          "x0": 0,
          "x1": -0.9811400500910412,
          "xref": "x2",
          "y0": 0,
          "y1": 0.11408525267819024,
          "yref": "y2"
         },
         {
          "type": "line",
          "x0": 0,
          "x1": -0.9854493583777494,
          "xref": "x2",
          "y0": 0,
          "y1": -0.04515098744849273,
          "yref": "y2"
         },
         {
          "type": "line",
          "x0": 0,
          "x1": -0.9677159797493184,
          "xref": "x2",
          "y0": 0,
          "y1": -0.16029776219513592,
          "yref": "y2"
         },
         {
          "type": "line",
          "x0": 0,
          "x1": -0.9464817594584907,
          "xref": "x2",
          "y0": 0,
          "y1": -0.23991634321103153,
          "yref": "y2"
         },
         {
          "type": "line",
          "x0": 0,
          "x1": -0.9288104440344305,
          "xref": "x2",
          "y0": 0,
          "y1": -0.29379799387454336,
          "yref": "y2"
         },
         {
          "type": "line",
          "x0": 0,
          "x1": -0.9162429085891632,
          "xref": "x2",
          "y0": 0,
          "y1": -0.32840538456802765,
          "yref": "y2"
         },
         {
          "type": "line",
          "x0": 0,
          "x1": -0.9078834358167259,
          "xref": "x2",
          "y0": 0,
          "y1": -0.3493567532144062,
          "yref": "y2"
         },
         {
          "type": "line",
          "x0": 0,
          "x1": 0,
          "xref": "x2",
          "y0": 0,
          "y1": 0,
          "yref": "y2"
         },
         {
          "type": "line",
          "x0": 0,
          "x1": -0.34028599307178276,
          "xref": "x2",
          "y0": 0,
          "y1": 0.3412451890824125,
          "yref": "y2"
         },
         {
          "type": "line",
          "x0": 0,
          "x1": -0.5109266336185311,
          "xref": "x2",
          "y0": 0,
          "y1": 0.6348166452458791,
          "yref": "y2"
         },
         {
          "type": "line",
          "x0": 0,
          "x1": -0.5733911813216581,
          "xref": "x2",
          "y0": 0,
          "y1": 0.6952181814111413,
          "yref": "y2"
         },
         {
          "type": "line",
          "x0": 0,
          "x1": -0.64486044884172,
          "xref": "x2",
          "y0": 0,
          "y1": 0.6783885027079052,
          "yref": "y2"
         },
         {
          "type": "line",
          "x0": 0,
          "x1": -0.7349672581886104,
          "xref": "x2",
          "y0": 0,
          "y1": 0.6064699070408988,
          "yref": "y2"
         },
         {
          "type": "line",
          "x0": 0,
          "x1": -0.8504971803462152,
          "xref": "x2",
          "y0": 0,
          "y1": 0.4874666917476822,
          "yref": "y2"
         },
         {
          "type": "line",
          "x0": 0,
          "x1": -0.9110635668960028,
          "xref": "x2",
          "y0": 0,
          "y1": 0.33876937405069474,
          "yref": "y2"
         },
         {
          "type": "line",
          "x0": 0,
          "x1": -0.9137668778687461,
          "xref": "x2",
          "y0": 0,
          "y1": 0.20867306024718155,
          "yref": "y2"
         },
         {
          "type": "line",
          "x0": 0,
          "x1": -0.8957318798598892,
          "xref": "x2",
          "y0": 0,
          "y1": 0.10533585356855332,
          "yref": "y2"
         },
         {
          "type": "line",
          "x0": 0,
          "x1": -0.8698642951923623,
          "xref": "x2",
          "y0": 0,
          "y1": 0.02232498157711866,
          "yref": "y2"
         },
         {
          "type": "line",
          "x0": 0,
          "x1": -0.8437237803440044,
          "xref": "x2",
          "y0": 0,
          "y1": -0.03600793205554501,
          "yref": "y2"
         },
         {
          "type": "line",
          "x0": 0,
          "x1": -0.825197384959444,
          "xref": "x2",
          "y0": 0,
          "y1": -0.06692627159364216,
          "yref": "y2"
         },
         {
          "type": "line",
          "x0": 0,
          "x1": -0.816258560044372,
          "xref": "x2",
          "y0": 0,
          "y1": -0.07765491679730417,
          "yref": "y2"
         },
         {
          "type": "line",
          "x0": 0,
          "x1": -0.812117320513033,
          "xref": "x2",
          "y0": 0,
          "y1": -0.07690228963438789,
          "yref": "y2"
         },
         {
          "type": "line",
          "x0": 0,
          "x1": 0,
          "xref": "x2",
          "y0": 0,
          "y1": 0,
          "yref": "y2"
         },
         {
          "type": "line",
          "x0": 0,
          "x1": 0.25736802660443314,
          "xref": "x2",
          "y0": 0,
          "y1": 0.4645443199057294,
          "yref": "y2"
         },
         {
          "type": "line",
          "x0": 0,
          "x1": 0.181940712613274,
          "xref": "x2",
          "y0": 0,
          "y1": 0.47790183837927774,
          "yref": "y2"
         },
         {
          "type": "line",
          "x0": 0,
          "x1": 0.047872656755506365,
          "xref": "x2",
          "y0": 0,
          "y1": 0.590976043186269,
          "yref": "y2"
         },
         {
          "type": "line",
          "x0": 0,
          "x1": 0.047872656755506365,
          "xref": "x2",
          "y0": 0,
          "y1": 0.590976043186269,
          "yref": "y2"
         },
         {
          "type": "line",
          "x0": 0,
          "x1": 0.047872656755506365,
          "xref": "x2",
          "y0": 0,
          "y1": 0.590976043186269,
          "yref": "y2"
         },
         {
          "type": "line",
          "x0": 0,
          "x1": 0.047872656755506365,
          "xref": "x2",
          "y0": 0,
          "y1": 0.590976043186269,
          "yref": "y2"
         },
         {
          "type": "line",
          "x0": 0,
          "x1": 0.047872656755506365,
          "xref": "x2",
          "y0": 0,
          "y1": 0.590976043186269,
          "yref": "y2"
         },
         {
          "type": "line",
          "x0": 0,
          "x1": -0.19354878502329484,
          "xref": "x2",
          "y0": 0,
          "y1": 0.16907259525747984,
          "yref": "y2"
         },
         {
          "type": "line",
          "x0": 0,
          "x1": -0.10354027230886947,
          "xref": "x2",
          "y0": 0,
          "y1": -0.07963290911345797,
          "yref": "y2"
         },
         {
          "type": "line",
          "x0": 0,
          "x1": -0.053914866138863864,
          "xref": "x2",
          "y0": 0,
          "y1": 0.024500915598234186,
          "yref": "y2"
         },
         {
          "type": "line",
          "x0": 0,
          "x1": 0,
          "xref": "x2",
          "y0": 0,
          "y1": 0,
          "yref": "y2"
         },
         {
          "type": "line",
          "x0": 0,
          "x1": 0,
          "xref": "x2",
          "y0": 0,
          "y1": 0,
          "yref": "y2"
         },
         {
          "type": "line",
          "x0": 0,
          "x1": 0,
          "xref": "x2",
          "y0": 0,
          "y1": 0,
          "yref": "y2"
         },
         {
          "type": "line",
          "x0": 0,
          "x1": 0,
          "xref": "x2",
          "y0": 0,
          "y1": 0,
          "yref": "y2"
         }
        ],
        "showlegend": false,
        "template": {
         "data": {
          "bar": [
           {
            "error_x": {
             "color": "#2a3f5f"
            },
            "error_y": {
             "color": "#2a3f5f"
            },
            "marker": {
             "line": {
              "color": "white",
              "width": 0.5
             },
             "pattern": {
              "fillmode": "overlay",
              "size": 10,
              "solidity": 0.2
             }
            },
            "type": "bar"
           }
          ],
          "barpolar": [
           {
            "marker": {
             "line": {
              "color": "white",
              "width": 0.5
             },
             "pattern": {
              "fillmode": "overlay",
              "size": 10,
              "solidity": 0.2
             }
            },
            "type": "barpolar"
           }
          ],
          "carpet": [
           {
            "aaxis": {
             "endlinecolor": "#2a3f5f",
             "gridcolor": "#C8D4E3",
             "linecolor": "#C8D4E3",
             "minorgridcolor": "#C8D4E3",
             "startlinecolor": "#2a3f5f"
            },
            "baxis": {
             "endlinecolor": "#2a3f5f",
             "gridcolor": "#C8D4E3",
             "linecolor": "#C8D4E3",
             "minorgridcolor": "#C8D4E3",
             "startlinecolor": "#2a3f5f"
            },
            "type": "carpet"
           }
          ],
          "choropleth": [
           {
            "colorbar": {
             "outlinewidth": 0,
             "ticks": ""
            },
            "type": "choropleth"
           }
          ],
          "contour": [
           {
            "colorbar": {
             "outlinewidth": 0,
             "ticks": ""
            },
            "colorscale": [
             [
              0,
              "#0d0887"
             ],
             [
              0.1111111111111111,
              "#46039f"
             ],
             [
              0.2222222222222222,
              "#7201a8"
             ],
             [
              0.3333333333333333,
              "#9c179e"
             ],
             [
              0.4444444444444444,
              "#bd3786"
             ],
             [
              0.5555555555555556,
              "#d8576b"
             ],
             [
              0.6666666666666666,
              "#ed7953"
             ],
             [
              0.7777777777777778,
              "#fb9f3a"
             ],
             [
              0.8888888888888888,
              "#fdca26"
             ],
             [
              1,
              "#f0f921"
             ]
            ],
            "type": "contour"
           }
          ],
          "contourcarpet": [
           {
            "colorbar": {
             "outlinewidth": 0,
             "ticks": ""
            },
            "type": "contourcarpet"
           }
          ],
          "heatmap": [
           {
            "colorbar": {
             "outlinewidth": 0,
             "ticks": ""
            },
            "colorscale": [
             [
              0,
              "#0d0887"
             ],
             [
              0.1111111111111111,
              "#46039f"
             ],
             [
              0.2222222222222222,
              "#7201a8"
             ],
             [
              0.3333333333333333,
              "#9c179e"
             ],
             [
              0.4444444444444444,
              "#bd3786"
             ],
             [
              0.5555555555555556,
              "#d8576b"
             ],
             [
              0.6666666666666666,
              "#ed7953"
             ],
             [
              0.7777777777777778,
              "#fb9f3a"
             ],
             [
              0.8888888888888888,
              "#fdca26"
             ],
             [
              1,
              "#f0f921"
             ]
            ],
            "type": "heatmap"
           }
          ],
          "heatmapgl": [
           {
            "colorbar": {
             "outlinewidth": 0,
             "ticks": ""
            },
            "colorscale": [
             [
              0,
              "#0d0887"
             ],
             [
              0.1111111111111111,
              "#46039f"
             ],
             [
              0.2222222222222222,
              "#7201a8"
             ],
             [
              0.3333333333333333,
              "#9c179e"
             ],
             [
              0.4444444444444444,
              "#bd3786"
             ],
             [
              0.5555555555555556,
              "#d8576b"
             ],
             [
              0.6666666666666666,
              "#ed7953"
             ],
             [
              0.7777777777777778,
              "#fb9f3a"
             ],
             [
              0.8888888888888888,
              "#fdca26"
             ],
             [
              1,
              "#f0f921"
             ]
            ],
            "type": "heatmapgl"
           }
          ],
          "histogram": [
           {
            "marker": {
             "pattern": {
              "fillmode": "overlay",
              "size": 10,
              "solidity": 0.2
             }
            },
            "type": "histogram"
           }
          ],
          "histogram2d": [
           {
            "colorbar": {
             "outlinewidth": 0,
             "ticks": ""
            },
            "colorscale": [
             [
              0,
              "#0d0887"
             ],
             [
              0.1111111111111111,
              "#46039f"
             ],
             [
              0.2222222222222222,
              "#7201a8"
             ],
             [
              0.3333333333333333,
              "#9c179e"
             ],
             [
              0.4444444444444444,
              "#bd3786"
             ],
             [
              0.5555555555555556,
              "#d8576b"
             ],
             [
              0.6666666666666666,
              "#ed7953"
             ],
             [
              0.7777777777777778,
              "#fb9f3a"
             ],
             [
              0.8888888888888888,
              "#fdca26"
             ],
             [
              1,
              "#f0f921"
             ]
            ],
            "type": "histogram2d"
           }
          ],
          "histogram2dcontour": [
           {
            "colorbar": {
             "outlinewidth": 0,
             "ticks": ""
            },
            "colorscale": [
             [
              0,
              "#0d0887"
             ],
             [
              0.1111111111111111,
              "#46039f"
             ],
             [
              0.2222222222222222,
              "#7201a8"
             ],
             [
              0.3333333333333333,
              "#9c179e"
             ],
             [
              0.4444444444444444,
              "#bd3786"
             ],
             [
              0.5555555555555556,
              "#d8576b"
             ],
             [
              0.6666666666666666,
              "#ed7953"
             ],
             [
              0.7777777777777778,
              "#fb9f3a"
             ],
             [
              0.8888888888888888,
              "#fdca26"
             ],
             [
              1,
              "#f0f921"
             ]
            ],
            "type": "histogram2dcontour"
           }
          ],
          "mesh3d": [
           {
            "colorbar": {
             "outlinewidth": 0,
             "ticks": ""
            },
            "type": "mesh3d"
           }
          ],
          "parcoords": [
           {
            "line": {
             "colorbar": {
              "outlinewidth": 0,
              "ticks": ""
             }
            },
            "type": "parcoords"
           }
          ],
          "pie": [
           {
            "automargin": true,
            "type": "pie"
           }
          ],
          "scatter": [
           {
            "fillpattern": {
             "fillmode": "overlay",
             "size": 10,
             "solidity": 0.2
            },
            "type": "scatter"
           }
          ],
          "scatter3d": [
           {
            "line": {
             "colorbar": {
              "outlinewidth": 0,
              "ticks": ""
             }
            },
            "marker": {
             "colorbar": {
              "outlinewidth": 0,
              "ticks": ""
             }
            },
            "type": "scatter3d"
           }
          ],
          "scattercarpet": [
           {
            "marker": {
             "colorbar": {
              "outlinewidth": 0,
              "ticks": ""
             }
            },
            "type": "scattercarpet"
           }
          ],
          "scattergeo": [
           {
            "marker": {
             "colorbar": {
              "outlinewidth": 0,
              "ticks": ""
             }
            },
            "type": "scattergeo"
           }
          ],
          "scattergl": [
           {
            "marker": {
             "colorbar": {
              "outlinewidth": 0,
              "ticks": ""
             }
            },
            "type": "scattergl"
           }
          ],
          "scattermapbox": [
           {
            "marker": {
             "colorbar": {
              "outlinewidth": 0,
              "ticks": ""
             }
            },
            "type": "scattermapbox"
           }
          ],
          "scatterpolar": [
           {
            "marker": {
             "colorbar": {
              "outlinewidth": 0,
              "ticks": ""
             }
            },
            "type": "scatterpolar"
           }
          ],
          "scatterpolargl": [
           {
            "marker": {
             "colorbar": {
              "outlinewidth": 0,
              "ticks": ""
             }
            },
            "type": "scatterpolargl"
           }
          ],
          "scatterternary": [
           {
            "marker": {
             "colorbar": {
              "outlinewidth": 0,
              "ticks": ""
             }
            },
            "type": "scatterternary"
           }
          ],
          "surface": [
           {
            "colorbar": {
             "outlinewidth": 0,
             "ticks": ""
            },
            "colorscale": [
             [
              0,
              "#0d0887"
             ],
             [
              0.1111111111111111,
              "#46039f"
             ],
             [
              0.2222222222222222,
              "#7201a8"
             ],
             [
              0.3333333333333333,
              "#9c179e"
             ],
             [
              0.4444444444444444,
              "#bd3786"
             ],
             [
              0.5555555555555556,
              "#d8576b"
             ],
             [
              0.6666666666666666,
              "#ed7953"
             ],
             [
              0.7777777777777778,
              "#fb9f3a"
             ],
             [
              0.8888888888888888,
              "#fdca26"
             ],
             [
              1,
              "#f0f921"
             ]
            ],
            "type": "surface"
           }
          ],
          "table": [
           {
            "cells": {
             "fill": {
              "color": "#EBF0F8"
             },
             "line": {
              "color": "white"
             }
            },
            "header": {
             "fill": {
              "color": "#C8D4E3"
             },
             "line": {
              "color": "white"
             }
            },
            "type": "table"
           }
          ]
         },
         "layout": {
          "annotationdefaults": {
           "arrowcolor": "#2a3f5f",
           "arrowhead": 0,
           "arrowwidth": 1
          },
          "autotypenumbers": "strict",
          "coloraxis": {
           "colorbar": {
            "outlinewidth": 0,
            "ticks": ""
           }
          },
          "colorscale": {
           "diverging": [
            [
             0,
             "#8e0152"
            ],
            [
             0.1,
             "#c51b7d"
            ],
            [
             0.2,
             "#de77ae"
            ],
            [
             0.3,
             "#f1b6da"
            ],
            [
             0.4,
             "#fde0ef"
            ],
            [
             0.5,
             "#f7f7f7"
            ],
            [
             0.6,
             "#e6f5d0"
            ],
            [
             0.7,
             "#b8e186"
            ],
            [
             0.8,
             "#7fbc41"
            ],
            [
             0.9,
             "#4d9221"
            ],
            [
             1,
             "#276419"
            ]
           ],
           "sequential": [
            [
             0,
             "#0d0887"
            ],
            [
             0.1111111111111111,
             "#46039f"
            ],
            [
             0.2222222222222222,
             "#7201a8"
            ],
            [
             0.3333333333333333,
             "#9c179e"
            ],
            [
             0.4444444444444444,
             "#bd3786"
            ],
            [
             0.5555555555555556,
             "#d8576b"
            ],
            [
             0.6666666666666666,
             "#ed7953"
            ],
            [
             0.7777777777777778,
             "#fb9f3a"
            ],
            [
             0.8888888888888888,
             "#fdca26"
            ],
            [
             1,
             "#f0f921"
            ]
           ],
           "sequentialminus": [
            [
             0,
             "#0d0887"
            ],
            [
             0.1111111111111111,
             "#46039f"
            ],
            [
             0.2222222222222222,
             "#7201a8"
            ],
            [
             0.3333333333333333,
             "#9c179e"
            ],
            [
             0.4444444444444444,
             "#bd3786"
            ],
            [
             0.5555555555555556,
             "#d8576b"
            ],
            [
             0.6666666666666666,
             "#ed7953"
            ],
            [
             0.7777777777777778,
             "#fb9f3a"
            ],
            [
             0.8888888888888888,
             "#fdca26"
            ],
            [
             1,
             "#f0f921"
            ]
           ]
          },
          "colorway": [
           "#636efa",
           "#EF553B",
           "#00cc96",
           "#ab63fa",
           "#FFA15A",
           "#19d3f3",
           "#FF6692",
           "#B6E880",
           "#FF97FF",
           "#FECB52"
          ],
          "font": {
           "color": "#2a3f5f"
          },
          "geo": {
           "bgcolor": "white",
           "lakecolor": "white",
           "landcolor": "white",
           "showlakes": true,
           "showland": true,
           "subunitcolor": "#C8D4E3"
          },
          "hoverlabel": {
           "align": "left"
          },
          "hovermode": "closest",
          "mapbox": {
           "style": "light"
          },
          "paper_bgcolor": "white",
          "plot_bgcolor": "white",
          "polar": {
           "angularaxis": {
            "gridcolor": "#EBF0F8",
            "linecolor": "#EBF0F8",
            "ticks": ""
           },
           "bgcolor": "white",
           "radialaxis": {
            "gridcolor": "#EBF0F8",
            "linecolor": "#EBF0F8",
            "ticks": ""
           }
          },
          "scene": {
           "xaxis": {
            "backgroundcolor": "white",
            "gridcolor": "#DFE8F3",
            "gridwidth": 2,
            "linecolor": "#EBF0F8",
            "showbackground": true,
            "ticks": "",
            "zerolinecolor": "#EBF0F8"
           },
           "yaxis": {
            "backgroundcolor": "white",
            "gridcolor": "#DFE8F3",
            "gridwidth": 2,
            "linecolor": "#EBF0F8",
            "showbackground": true,
            "ticks": "",
            "zerolinecolor": "#EBF0F8"
           },
           "zaxis": {
            "backgroundcolor": "white",
            "gridcolor": "#DFE8F3",
            "gridwidth": 2,
            "linecolor": "#EBF0F8",
            "showbackground": true,
            "ticks": "",
            "zerolinecolor": "#EBF0F8"
           }
          },
          "shapedefaults": {
           "line": {
            "color": "#2a3f5f"
           }
          },
          "ternary": {
           "aaxis": {
            "gridcolor": "#DFE8F3",
            "linecolor": "#A2B1C6",
            "ticks": ""
           },
           "baxis": {
            "gridcolor": "#DFE8F3",
            "linecolor": "#A2B1C6",
            "ticks": ""
           },
           "bgcolor": "white",
           "caxis": {
            "gridcolor": "#DFE8F3",
            "linecolor": "#A2B1C6",
            "ticks": ""
           }
          },
          "title": {
           "x": 0.05
          },
          "xaxis": {
           "automargin": true,
           "gridcolor": "#EBF0F8",
           "linecolor": "#EBF0F8",
           "ticks": "",
           "title": {
            "standoff": 15
           },
           "zerolinecolor": "#EBF0F8",
           "zerolinewidth": 2
          },
          "yaxis": {
           "automargin": true,
           "gridcolor": "#EBF0F8",
           "linecolor": "#EBF0F8",
           "ticks": "",
           "title": {
            "standoff": 15
           },
           "zerolinecolor": "#EBF0F8",
           "zerolinewidth": 2
          }
         }
        },
        "width": 1200,
        "xaxis": {
         "anchor": "y",
         "domain": [
          0,
          1
         ]
        },
        "xaxis2": {
         "anchor": "y2",
         "domain": [
          0,
          1
         ],
         "title": {
          "text": "Principal Component - 1 (0.36%)"
         }
        },
        "yaxis": {
         "anchor": "x",
         "domain": [
          0.54,
          1
         ],
         "title": {
          "text": "Principal Component - 2 (0.29%)"
         }
        },
        "yaxis2": {
         "anchor": "x2",
         "domain": [
          0,
          0.46
         ],
         "title": {
          "text": "Principal Component - 2 (0.29%)"
         }
        }
       }
      }
     },
     "metadata": {},
     "output_type": "display_data"
    },
    {
     "data": {
      "application/vnd.plotly.v1+json": {
       "config": {
        "plotlyServerURL": "https://plot.ly"
       },
       "data": [
        {
         "type": "bar",
         "x": [
          "X:VCD:0",
          "X:VCD:1",
          "X:VCD:2",
          "X:VCD:3",
          "X:VCD:4",
          "X:VCD:5",
          "X:VCD:6",
          "X:VCD:7",
          "X:VCD:8",
          "X:VCD:9",
          "X:VCD:10",
          "X:VCD:11",
          "X:VCD:12",
          "X:VCD:13",
          "X:VCD:14",
          "X:Glc:0",
          "X:Glc:1",
          "X:Glc:2",
          "X:Glc:3",
          "X:Glc:4",
          "X:Glc:5",
          "X:Glc:6",
          "X:Glc:7",
          "X:Glc:8",
          "X:Glc:9",
          "X:Glc:10",
          "X:Glc:11",
          "X:Glc:12",
          "X:Glc:13",
          "X:Glc:14",
          "X:Lac:0",
          "X:Lac:1",
          "X:Lac:2",
          "X:Lac:3",
          "X:Lac:4",
          "X:Lac:5",
          "X:Lac:6",
          "X:Lac:7",
          "X:Lac:8",
          "X:Lac:9",
          "X:Lac:10",
          "X:Lac:11",
          "X:Lac:12",
          "X:Lac:13",
          "X:Lac:14",
          "X:Titer:0",
          "X:Titer:1",
          "X:Titer:2",
          "X:Titer:3",
          "X:Titer:4",
          "X:Titer:5",
          "X:Titer:6",
          "X:Titer:7",
          "X:Titer:8",
          "X:Titer:9",
          "X:Titer:10",
          "X:Titer:11",
          "X:Titer:12",
          "X:Titer:13",
          "X:Titer:14",
          "W:Feed:0",
          "W:Feed:1",
          "W:Feed:2",
          "W:Feed:3",
          "W:Feed:4",
          "W:Feed:5",
          "W:Feed:6",
          "W:Feed:7",
          "W:Feed:8",
          "W:Feed:9",
          "W:Feed:10",
          "W:Feed:11",
          "W:Feed:12",
          "W:Feed:13",
          "W:Feed:14"
         ],
         "xaxis": "x",
         "y": [
          -0.5835907625159668,
          -0.5873801631300525,
          -0.6031229701261206,
          -0.6507611053246384,
          -0.7623652441136902,
          -0.8915732833625204,
          -0.6599425441486211,
          -0.5297834895931296,
          -0.5012887927037266,
          -0.48839625554501714,
          -0.47028556519563147,
          -0.45241092415499806,
          -0.44250921612447464,
          -0.44380354174136116,
          -0.45627541568443836,
          -0.11061006962890055,
          -0.09778513775917373,
          -0.013315482217689696,
          0.1479791771546907,
          0.282570985736099,
          0.34528237812663765,
          0.38808362845582545,
          0.41872858086743386,
          0.42858634936504125,
          0.4198491653588856,
          0.4063639018888244,
          0.401730192813489,
          0.40597453908664705,
          0.41626616942309524,
          0.4251273952589538,
          0,
          -0.5853543817126161,
          -0.5925052978814443,
          -0.6129678373121006,
          -0.6543121970200995,
          -0.7220296792029061,
          -0.8229995791565923,
          -0.9272466486980758,
          -0.9811400500910412,
          -0.9854493583777494,
          -0.9677159797493184,
          -0.9464817594584907,
          -0.9288104440344305,
          -0.9162429085891632,
          -0.9078834358167259,
          0,
          -0.34028599307178276,
          -0.5109266336185311,
          -0.5733911813216581,
          -0.64486044884172,
          -0.7349672581886104,
          -0.8504971803462152,
          -0.9110635668960028,
          -0.9137668778687461,
          -0.8957318798598892,
          -0.8698642951923623,
          -0.8437237803440044,
          -0.825197384959444,
          -0.816258560044372,
          -0.812117320513033,
          0,
          0.25736802660443314,
          0.181940712613274,
          0.047872656755506365,
          0.047872656755506365,
          0.047872656755506365,
          0.047872656755506365,
          0.047872656755506365,
          -0.19354878502329484,
          -0.10354027230886947,
          -0.053914866138863864,
          0,
          0,
          0,
          0
         ],
         "yaxis": "y"
        },
        {
         "type": "bar",
         "x": [
          "X:VCD:0",
          "X:VCD:1",
          "X:VCD:2",
          "X:VCD:3",
          "X:VCD:4",
          "X:VCD:5",
          "X:VCD:6",
          "X:VCD:7",
          "X:VCD:8",
          "X:VCD:9",
          "X:VCD:10",
          "X:VCD:11",
          "X:VCD:12",
          "X:VCD:13",
          "X:VCD:14",
          "X:Glc:0",
          "X:Glc:1",
          "X:Glc:2",
          "X:Glc:3",
          "X:Glc:4",
          "X:Glc:5",
          "X:Glc:6",
          "X:Glc:7",
          "X:Glc:8",
          "X:Glc:9",
          "X:Glc:10",
          "X:Glc:11",
          "X:Glc:12",
          "X:Glc:13",
          "X:Glc:14",
          "X:Lac:0",
          "X:Lac:1",
          "X:Lac:2",
          "X:Lac:3",
          "X:Lac:4",
          "X:Lac:5",
          "X:Lac:6",
          "X:Lac:7",
          "X:Lac:8",
          "X:Lac:9",
          "X:Lac:10",
          "X:Lac:11",
          "X:Lac:12",
          "X:Lac:13",
          "X:Lac:14",
          "X:Titer:0",
          "X:Titer:1",
          "X:Titer:2",
          "X:Titer:3",
          "X:Titer:4",
          "X:Titer:5",
          "X:Titer:6",
          "X:Titer:7",
          "X:Titer:8",
          "X:Titer:9",
          "X:Titer:10",
          "X:Titer:11",
          "X:Titer:12",
          "X:Titer:13",
          "X:Titer:14",
          "W:Feed:0",
          "W:Feed:1",
          "W:Feed:2",
          "W:Feed:3",
          "W:Feed:4",
          "W:Feed:5",
          "W:Feed:6",
          "W:Feed:7",
          "W:Feed:8",
          "W:Feed:9",
          "W:Feed:10",
          "W:Feed:11",
          "W:Feed:12",
          "W:Feed:13",
          "W:Feed:14"
         ],
         "xaxis": "x2",
         "y": [
          0.7181502032440295,
          0.7266486450771686,
          0.7237657751591411,
          0.682673109449653,
          0.5194398732061611,
          -0.031055152895097023,
          -0.5563324879888268,
          -0.6360440947190683,
          -0.6594110729276368,
          -0.6814397401041983,
          -0.7101527915891516,
          -0.7281699205304132,
          -0.7196862212274647,
          -0.6826577995650397,
          -0.6262425744923965,
          0.42428822870081395,
          0.41011110851926547,
          0.4361502397848831,
          0.49797310388508875,
          0.5209881665503517,
          0.5543187925178528,
          0.6149872238867109,
          0.6830781168602122,
          0.7348717595042344,
          0.7658306814892519,
          0.7751494833548807,
          0.7589334601175083,
          0.7471160245542571,
          0.7517927374966217,
          0.7523490391168597,
          0,
          0.7238107559351203,
          0.726196297968368,
          0.7170636819532917,
          0.6826578124736228,
          0.6112136705207281,
          0.48769129012985224,
          0.308616859430731,
          0.11408525267819024,
          -0.04515098744849273,
          -0.16029776219513592,
          -0.23991634321103153,
          -0.29379799387454336,
          -0.32840538456802765,
          -0.3493567532144062,
          0,
          0.3412451890824125,
          0.6348166452458791,
          0.6952181814111413,
          0.6783885027079052,
          0.6064699070408988,
          0.4874666917476822,
          0.33876937405069474,
          0.20867306024718155,
          0.10533585356855332,
          0.02232498157711866,
          -0.03600793205554501,
          -0.06692627159364216,
          -0.07765491679730417,
          -0.07690228963438789,
          0,
          0.4645443199057294,
          0.47790183837927774,
          0.590976043186269,
          0.590976043186269,
          0.590976043186269,
          0.590976043186269,
          0.590976043186269,
          0.16907259525747984,
          -0.07963290911345797,
          0.024500915598234186,
          0,
          0,
          0,
          0
         ],
         "yaxis": "y2"
        }
       ],
       "layout": {
        "annotations": [
         {
          "font": {
           "size": 16
          },
          "showarrow": false,
          "text": "BWU Loadings of Principal Component - 1",
          "x": 0.225,
          "xanchor": "center",
          "xref": "paper",
          "y": 1,
          "yanchor": "bottom",
          "yref": "paper"
         },
         {
          "font": {
           "size": 16
          },
          "showarrow": false,
          "text": "BWU Loadings of Principal Component - 2",
          "x": 0.775,
          "xanchor": "center",
          "xref": "paper",
          "y": 1,
          "yanchor": "bottom",
          "yref": "paper"
         }
        ],
        "height": 450,
        "showlegend": false,
        "template": {
         "data": {
          "bar": [
           {
            "error_x": {
             "color": "#2a3f5f"
            },
            "error_y": {
             "color": "#2a3f5f"
            },
            "marker": {
             "line": {
              "color": "white",
              "width": 0.5
             },
             "pattern": {
              "fillmode": "overlay",
              "size": 10,
              "solidity": 0.2
             }
            },
            "type": "bar"
           }
          ],
          "barpolar": [
           {
            "marker": {
             "line": {
              "color": "white",
              "width": 0.5
             },
             "pattern": {
              "fillmode": "overlay",
              "size": 10,
              "solidity": 0.2
             }
            },
            "type": "barpolar"
           }
          ],
          "carpet": [
           {
            "aaxis": {
             "endlinecolor": "#2a3f5f",
             "gridcolor": "#C8D4E3",
             "linecolor": "#C8D4E3",
             "minorgridcolor": "#C8D4E3",
             "startlinecolor": "#2a3f5f"
            },
            "baxis": {
             "endlinecolor": "#2a3f5f",
             "gridcolor": "#C8D4E3",
             "linecolor": "#C8D4E3",
             "minorgridcolor": "#C8D4E3",
             "startlinecolor": "#2a3f5f"
            },
            "type": "carpet"
           }
          ],
          "choropleth": [
           {
            "colorbar": {
             "outlinewidth": 0,
             "ticks": ""
            },
            "type": "choropleth"
           }
          ],
          "contour": [
           {
            "colorbar": {
             "outlinewidth": 0,
             "ticks": ""
            },
            "colorscale": [
             [
              0,
              "#0d0887"
             ],
             [
              0.1111111111111111,
              "#46039f"
             ],
             [
              0.2222222222222222,
              "#7201a8"
             ],
             [
              0.3333333333333333,
              "#9c179e"
             ],
             [
              0.4444444444444444,
              "#bd3786"
             ],
             [
              0.5555555555555556,
              "#d8576b"
             ],
             [
              0.6666666666666666,
              "#ed7953"
             ],
             [
              0.7777777777777778,
              "#fb9f3a"
             ],
             [
              0.8888888888888888,
              "#fdca26"
             ],
             [
              1,
              "#f0f921"
             ]
            ],
            "type": "contour"
           }
          ],
          "contourcarpet": [
           {
            "colorbar": {
             "outlinewidth": 0,
             "ticks": ""
            },
            "type": "contourcarpet"
           }
          ],
          "heatmap": [
           {
            "colorbar": {
             "outlinewidth": 0,
             "ticks": ""
            },
            "colorscale": [
             [
              0,
              "#0d0887"
             ],
             [
              0.1111111111111111,
              "#46039f"
             ],
             [
              0.2222222222222222,
              "#7201a8"
             ],
             [
              0.3333333333333333,
              "#9c179e"
             ],
             [
              0.4444444444444444,
              "#bd3786"
             ],
             [
              0.5555555555555556,
              "#d8576b"
             ],
             [
              0.6666666666666666,
              "#ed7953"
             ],
             [
              0.7777777777777778,
              "#fb9f3a"
             ],
             [
              0.8888888888888888,
              "#fdca26"
             ],
             [
              1,
              "#f0f921"
             ]
            ],
            "type": "heatmap"
           }
          ],
          "heatmapgl": [
           {
            "colorbar": {
             "outlinewidth": 0,
             "ticks": ""
            },
            "colorscale": [
             [
              0,
              "#0d0887"
             ],
             [
              0.1111111111111111,
              "#46039f"
             ],
             [
              0.2222222222222222,
              "#7201a8"
             ],
             [
              0.3333333333333333,
              "#9c179e"
             ],
             [
              0.4444444444444444,
              "#bd3786"
             ],
             [
              0.5555555555555556,
              "#d8576b"
             ],
             [
              0.6666666666666666,
              "#ed7953"
             ],
             [
              0.7777777777777778,
              "#fb9f3a"
             ],
             [
              0.8888888888888888,
              "#fdca26"
             ],
             [
              1,
              "#f0f921"
             ]
            ],
            "type": "heatmapgl"
           }
          ],
          "histogram": [
           {
            "marker": {
             "pattern": {
              "fillmode": "overlay",
              "size": 10,
              "solidity": 0.2
             }
            },
            "type": "histogram"
           }
          ],
          "histogram2d": [
           {
            "colorbar": {
             "outlinewidth": 0,
             "ticks": ""
            },
            "colorscale": [
             [
              0,
              "#0d0887"
             ],
             [
              0.1111111111111111,
              "#46039f"
             ],
             [
              0.2222222222222222,
              "#7201a8"
             ],
             [
              0.3333333333333333,
              "#9c179e"
             ],
             [
              0.4444444444444444,
              "#bd3786"
             ],
             [
              0.5555555555555556,
              "#d8576b"
             ],
             [
              0.6666666666666666,
              "#ed7953"
             ],
             [
              0.7777777777777778,
              "#fb9f3a"
             ],
             [
              0.8888888888888888,
              "#fdca26"
             ],
             [
              1,
              "#f0f921"
             ]
            ],
            "type": "histogram2d"
           }
          ],
          "histogram2dcontour": [
           {
            "colorbar": {
             "outlinewidth": 0,
             "ticks": ""
            },
            "colorscale": [
             [
              0,
              "#0d0887"
             ],
             [
              0.1111111111111111,
              "#46039f"
             ],
             [
              0.2222222222222222,
              "#7201a8"
             ],
             [
              0.3333333333333333,
              "#9c179e"
             ],
             [
              0.4444444444444444,
              "#bd3786"
             ],
             [
              0.5555555555555556,
              "#d8576b"
             ],
             [
              0.6666666666666666,
              "#ed7953"
             ],
             [
              0.7777777777777778,
              "#fb9f3a"
             ],
             [
              0.8888888888888888,
              "#fdca26"
             ],
             [
              1,
              "#f0f921"
             ]
            ],
            "type": "histogram2dcontour"
           }
          ],
          "mesh3d": [
           {
            "colorbar": {
             "outlinewidth": 0,
             "ticks": ""
            },
            "type": "mesh3d"
           }
          ],
          "parcoords": [
           {
            "line": {
             "colorbar": {
              "outlinewidth": 0,
              "ticks": ""
             }
            },
            "type": "parcoords"
           }
          ],
          "pie": [
           {
            "automargin": true,
            "type": "pie"
           }
          ],
          "scatter": [
           {
            "fillpattern": {
             "fillmode": "overlay",
             "size": 10,
             "solidity": 0.2
            },
            "type": "scatter"
           }
          ],
          "scatter3d": [
           {
            "line": {
             "colorbar": {
              "outlinewidth": 0,
              "ticks": ""
             }
            },
            "marker": {
             "colorbar": {
              "outlinewidth": 0,
              "ticks": ""
             }
            },
            "type": "scatter3d"
           }
          ],
          "scattercarpet": [
           {
            "marker": {
             "colorbar": {
              "outlinewidth": 0,
              "ticks": ""
             }
            },
            "type": "scattercarpet"
           }
          ],
          "scattergeo": [
           {
            "marker": {
             "colorbar": {
              "outlinewidth": 0,
              "ticks": ""
             }
            },
            "type": "scattergeo"
           }
          ],
          "scattergl": [
           {
            "marker": {
             "colorbar": {
              "outlinewidth": 0,
              "ticks": ""
             }
            },
            "type": "scattergl"
           }
          ],
          "scattermapbox": [
           {
            "marker": {
             "colorbar": {
              "outlinewidth": 0,
              "ticks": ""
             }
            },
            "type": "scattermapbox"
           }
          ],
          "scatterpolar": [
           {
            "marker": {
             "colorbar": {
              "outlinewidth": 0,
              "ticks": ""
             }
            },
            "type": "scatterpolar"
           }
          ],
          "scatterpolargl": [
           {
            "marker": {
             "colorbar": {
              "outlinewidth": 0,
              "ticks": ""
             }
            },
            "type": "scatterpolargl"
           }
          ],
          "scatterternary": [
           {
            "marker": {
             "colorbar": {
              "outlinewidth": 0,
              "ticks": ""
             }
            },
            "type": "scatterternary"
           }
          ],
          "surface": [
           {
            "colorbar": {
             "outlinewidth": 0,
             "ticks": ""
            },
            "colorscale": [
             [
              0,
              "#0d0887"
             ],
             [
              0.1111111111111111,
              "#46039f"
             ],
             [
              0.2222222222222222,
              "#7201a8"
             ],
             [
              0.3333333333333333,
              "#9c179e"
             ],
             [
              0.4444444444444444,
              "#bd3786"
             ],
             [
              0.5555555555555556,
              "#d8576b"
             ],
             [
              0.6666666666666666,
              "#ed7953"
             ],
             [
              0.7777777777777778,
              "#fb9f3a"
             ],
             [
              0.8888888888888888,
              "#fdca26"
             ],
             [
              1,
              "#f0f921"
             ]
            ],
            "type": "surface"
           }
          ],
          "table": [
           {
            "cells": {
             "fill": {
              "color": "#EBF0F8"
             },
             "line": {
              "color": "white"
             }
            },
            "header": {
             "fill": {
              "color": "#C8D4E3"
             },
             "line": {
              "color": "white"
             }
            },
            "type": "table"
           }
          ]
         },
         "layout": {
          "annotationdefaults": {
           "arrowcolor": "#2a3f5f",
           "arrowhead": 0,
           "arrowwidth": 1
          },
          "autotypenumbers": "strict",
          "coloraxis": {
           "colorbar": {
            "outlinewidth": 0,
            "ticks": ""
           }
          },
          "colorscale": {
           "diverging": [
            [
             0,
             "#8e0152"
            ],
            [
             0.1,
             "#c51b7d"
            ],
            [
             0.2,
             "#de77ae"
            ],
            [
             0.3,
             "#f1b6da"
            ],
            [
             0.4,
             "#fde0ef"
            ],
            [
             0.5,
             "#f7f7f7"
            ],
            [
             0.6,
             "#e6f5d0"
            ],
            [
             0.7,
             "#b8e186"
            ],
            [
             0.8,
             "#7fbc41"
            ],
            [
             0.9,
             "#4d9221"
            ],
            [
             1,
             "#276419"
            ]
           ],
           "sequential": [
            [
             0,
             "#0d0887"
            ],
            [
             0.1111111111111111,
             "#46039f"
            ],
            [
             0.2222222222222222,
             "#7201a8"
            ],
            [
             0.3333333333333333,
             "#9c179e"
            ],
            [
             0.4444444444444444,
             "#bd3786"
            ],
            [
             0.5555555555555556,
             "#d8576b"
            ],
            [
             0.6666666666666666,
             "#ed7953"
            ],
            [
             0.7777777777777778,
             "#fb9f3a"
            ],
            [
             0.8888888888888888,
             "#fdca26"
            ],
            [
             1,
             "#f0f921"
            ]
           ],
           "sequentialminus": [
            [
             0,
             "#0d0887"
            ],
            [
             0.1111111111111111,
             "#46039f"
            ],
            [
             0.2222222222222222,
             "#7201a8"
            ],
            [
             0.3333333333333333,
             "#9c179e"
            ],
            [
             0.4444444444444444,
             "#bd3786"
            ],
            [
             0.5555555555555556,
             "#d8576b"
            ],
            [
             0.6666666666666666,
             "#ed7953"
            ],
            [
             0.7777777777777778,
             "#fb9f3a"
            ],
            [
             0.8888888888888888,
             "#fdca26"
            ],
            [
             1,
             "#f0f921"
            ]
           ]
          },
          "colorway": [
           "#636efa",
           "#EF553B",
           "#00cc96",
           "#ab63fa",
           "#FFA15A",
           "#19d3f3",
           "#FF6692",
           "#B6E880",
           "#FF97FF",
           "#FECB52"
          ],
          "font": {
           "color": "#2a3f5f"
          },
          "geo": {
           "bgcolor": "white",
           "lakecolor": "white",
           "landcolor": "white",
           "showlakes": true,
           "showland": true,
           "subunitcolor": "#C8D4E3"
          },
          "hoverlabel": {
           "align": "left"
          },
          "hovermode": "closest",
          "mapbox": {
           "style": "light"
          },
          "paper_bgcolor": "white",
          "plot_bgcolor": "white",
          "polar": {
           "angularaxis": {
            "gridcolor": "#EBF0F8",
            "linecolor": "#EBF0F8",
            "ticks": ""
           },
           "bgcolor": "white",
           "radialaxis": {
            "gridcolor": "#EBF0F8",
            "linecolor": "#EBF0F8",
            "ticks": ""
           }
          },
          "scene": {
           "xaxis": {
            "backgroundcolor": "white",
            "gridcolor": "#DFE8F3",
            "gridwidth": 2,
            "linecolor": "#EBF0F8",
            "showbackground": true,
            "ticks": "",
            "zerolinecolor": "#EBF0F8"
           },
           "yaxis": {
            "backgroundcolor": "white",
            "gridcolor": "#DFE8F3",
            "gridwidth": 2,
            "linecolor": "#EBF0F8",
            "showbackground": true,
            "ticks": "",
            "zerolinecolor": "#EBF0F8"
           },
           "zaxis": {
            "backgroundcolor": "white",
            "gridcolor": "#DFE8F3",
            "gridwidth": 2,
            "linecolor": "#EBF0F8",
            "showbackground": true,
            "ticks": "",
            "zerolinecolor": "#EBF0F8"
           }
          },
          "shapedefaults": {
           "line": {
            "color": "#2a3f5f"
           }
          },
          "ternary": {
           "aaxis": {
            "gridcolor": "#DFE8F3",
            "linecolor": "#A2B1C6",
            "ticks": ""
           },
           "baxis": {
            "gridcolor": "#DFE8F3",
            "linecolor": "#A2B1C6",
            "ticks": ""
           },
           "bgcolor": "white",
           "caxis": {
            "gridcolor": "#DFE8F3",
            "linecolor": "#A2B1C6",
            "ticks": ""
           }
          },
          "title": {
           "x": 0.05
          },
          "xaxis": {
           "automargin": true,
           "gridcolor": "#EBF0F8",
           "linecolor": "#EBF0F8",
           "ticks": "",
           "title": {
            "standoff": 15
           },
           "zerolinecolor": "#EBF0F8",
           "zerolinewidth": 2
          },
          "yaxis": {
           "automargin": true,
           "gridcolor": "#EBF0F8",
           "linecolor": "#EBF0F8",
           "ticks": "",
           "title": {
            "standoff": 15
           },
           "zerolinecolor": "#EBF0F8",
           "zerolinewidth": 2
          }
         }
        },
        "width": 1200,
        "xaxis": {
         "anchor": "y",
         "domain": [
          0,
          0.45
         ]
        },
        "xaxis2": {
         "anchor": "y2",
         "domain": [
          0.55,
          1
         ]
        },
        "yaxis": {
         "anchor": "x",
         "domain": [
          0,
          1
         ]
        },
        "yaxis2": {
         "anchor": "x2",
         "domain": [
          0,
          1
         ]
        }
       }
      }
     },
     "metadata": {},
     "output_type": "display_data"
    }
   ],
   "source": [
    "plot_scores_loadings_bwu(bwu, pc_x_axis=1, pc_y_axis=2, pca_n_components=15,  highlight_type='Run_id')"
   ]
  },
  {
   "cell_type": "markdown",
   "metadata": {},
   "source": [
    "### Mahalanobis distance of observations \n",
    "- equal to the euclidean distance in PCA space"
   ]
  },
  {
   "cell_type": "code",
   "execution_count": 25,
   "metadata": {},
   "outputs": [],
   "source": [
    "def plot_mahalanobis_distance_bwu(bwu, pca_n_components=15, highlight_run=0, width=1600):\n",
    "    scaler = StandardScaler()\n",
    "    bwu_normalized = scaler.fit_transform(bwu)\n",
    "\n",
    "    # Run PCA on scaled data\n",
    "    bwu_pca = PCA(n_components=min(min(bwu.shape), pca_n_components))\n",
    "    bwu_pca.fit(bwu_normalized)\n",
    "\n",
    "    # Run PCA analysis\n",
    "    bwu_components = bwu_pca.fit_transform(bwu_normalized)\n",
    "\n",
    "    # Calculate Mahalanobis distance\n",
    "    bwu_mahalanobis = EmpiricalCovariance().fit(bwu_components).mahalanobis(bwu_components)\n",
    "    T2threshold = chi2.ppf(0.95, bwu_components.shape[1] - 1)\n",
    "\n",
    "    # Plot Mahalanobis distance\n",
    "    fig = px.bar(\n",
    "        x=list(range(len(bwu_mahalanobis))),\n",
    "        y=bwu_mahalanobis,\n",
    "        labels=dict(x=\"BWU Observation Id.\", y=\"Mahalanobis distance\", color=\"Run_id\"),\n",
    "        title=\"BWU Mahalanobis distance with 95% Confidence Interval\",\n",
    "        color=bwu.index,\n",
    "        color_continuous_scale=px.colors.cyclical.HSV,\n",
    "    )\n",
    "    fig.add_hline(y=T2threshold, line_dash=\"dash\", annotation_text=\"95% Threshold\", annotation_position=\"top right\")\n",
    "\n",
    "    # Highlight specific run\n",
    "    highlight_run_ix = bwu.index == highlight_run\n",
    "\n",
    "    fig.add_trace(\n",
    "        go.Bar(\n",
    "            x=list(np.array(range(len(bwu_mahalanobis)))[highlight_run_ix]),\n",
    "            y=bwu_mahalanobis[highlight_run_ix],\n",
    "            marker_color=\"black\",\n",
    "        )\n",
    "    )\n",
    "    fig.update_layout(width=width, showlegend=False, coloraxis_showscale=True)\n",
    "    fig.update_layout(barmode=\"overlay\")\n",
    "    fig.show()"
   ]
  },
  {
   "cell_type": "code",
   "execution_count": 26,
   "metadata": {},
   "outputs": [
    {
     "data": {
      "application/vnd.plotly.v1+json": {
       "config": {
        "plotlyServerURL": "https://plot.ly"
       },
       "data": [
        {
         "alignmentgroup": "True",
         "hovertemplate": "BWU Observation Id.=%{x}<br>Mahalanobis distance=%{y}<br>Run_id=%{marker.color}<extra></extra>",
         "legendgroup": "",
         "marker": {
          "color": [
           0,
           1,
           2,
           3,
           4,
           5,
           6,
           7,
           8,
           9,
           10,
           11,
           12,
           13,
           14,
           15,
           16,
           17,
           18,
           19,
           20,
           21,
           22,
           23,
           24,
           25,
           26,
           27,
           28,
           29,
           30,
           31,
           32,
           33,
           34,
           35,
           36,
           37,
           38,
           39,
           40,
           41,
           42,
           43,
           44,
           45,
           46,
           47,
           48,
           49
          ],
          "coloraxis": "coloraxis",
          "pattern": {
           "shape": ""
          }
         },
         "name": "",
         "offsetgroup": "",
         "orientation": "v",
         "showlegend": false,
         "textposition": "auto",
         "type": "bar",
         "x": [
          0,
          1,
          2,
          3,
          4,
          5,
          6,
          7,
          8,
          9,
          10,
          11,
          12,
          13,
          14,
          15,
          16,
          17,
          18,
          19,
          20,
          21,
          22,
          23,
          24,
          25,
          26,
          27,
          28,
          29,
          30,
          31,
          32,
          33,
          34,
          35,
          36,
          37,
          38,
          39,
          40,
          41,
          42,
          43,
          44,
          45,
          46,
          47,
          48,
          49
         ],
         "xaxis": "x",
         "y": [
          8.485375323553406,
          20.937995819900877,
          29.800386003229764,
          14.586512968133812,
          12.988789607389007,
          13.259319616273602,
          18.634305744967104,
          42.73664381910457,
          16.543779887682675,
          11.954584800839092,
          6.578095833119917,
          9.22563319530995,
          6.453547367077249,
          9.621416992028495,
          6.326774227373711,
          9.545971371443889,
          10.354521646155805,
          19.560012957991326,
          12.747201792680626,
          23.13170840185174,
          18.150375191337286,
          19.758362931358064,
          18.605747446261915,
          19.954666734658254,
          11.559548128114079,
          13.46168760454131,
          12.896950789258517,
          9.754003342600399,
          17.55420768618,
          14.039009259736188,
          27.05632332452038,
          22.803656370194386,
          15.366113476557215,
          16.159990888390592,
          16.0278532019346,
          10.717098753770884,
          9.414342278435406,
          21.057234980482995,
          12.033610256372059,
          14.959739479041795,
          18.323440774982235,
          5.4161010694203675,
          12.337448357280563,
          13.616043866771124,
          9.089690999197144,
          11.98481276916608,
          12.518457362528544,
          7.560359145617469,
          24.124225866853653,
          10.226320288330392
         ],
         "yaxis": "y"
        },
        {
         "marker": {
          "color": "black"
         },
         "type": "bar",
         "x": [],
         "y": []
        }
       ],
       "layout": {
        "annotations": [
         {
          "showarrow": false,
          "text": "95% Threshold",
          "x": 1,
          "xanchor": "right",
          "xref": "x domain",
          "y": 23.68479130484058,
          "yanchor": "bottom",
          "yref": "y"
         }
        ],
        "barmode": "overlay",
        "coloraxis": {
         "colorbar": {
          "title": {
           "text": "Run_id"
          }
         },
         "colorscale": [
          [
           0,
           "#ff0000"
          ],
          [
           0.1111111111111111,
           "#ffa700"
          ],
          [
           0.2222222222222222,
           "#afff00"
          ],
          [
           0.3333333333333333,
           "#08ff00"
          ],
          [
           0.4444444444444444,
           "#00ff9f"
          ],
          [
           0.5555555555555556,
           "#00b7ff"
          ],
          [
           0.6666666666666666,
           "#0010ff"
          ],
          [
           0.7777777777777778,
           "#9700ff"
          ],
          [
           0.8888888888888888,
           "#ff00bf"
          ],
          [
           1,
           "#ff0000"
          ]
         ],
         "showscale": true
        },
        "legend": {
         "tracegroupgap": 0
        },
        "shapes": [
         {
          "line": {
           "dash": "dash"
          },
          "type": "line",
          "x0": 0,
          "x1": 1,
          "xref": "x domain",
          "y0": 23.68479130484058,
          "y1": 23.68479130484058,
          "yref": "y"
         }
        ],
        "showlegend": false,
        "template": {
         "data": {
          "bar": [
           {
            "error_x": {
             "color": "#2a3f5f"
            },
            "error_y": {
             "color": "#2a3f5f"
            },
            "marker": {
             "line": {
              "color": "white",
              "width": 0.5
             },
             "pattern": {
              "fillmode": "overlay",
              "size": 10,
              "solidity": 0.2
             }
            },
            "type": "bar"
           }
          ],
          "barpolar": [
           {
            "marker": {
             "line": {
              "color": "white",
              "width": 0.5
             },
             "pattern": {
              "fillmode": "overlay",
              "size": 10,
              "solidity": 0.2
             }
            },
            "type": "barpolar"
           }
          ],
          "carpet": [
           {
            "aaxis": {
             "endlinecolor": "#2a3f5f",
             "gridcolor": "#C8D4E3",
             "linecolor": "#C8D4E3",
             "minorgridcolor": "#C8D4E3",
             "startlinecolor": "#2a3f5f"
            },
            "baxis": {
             "endlinecolor": "#2a3f5f",
             "gridcolor": "#C8D4E3",
             "linecolor": "#C8D4E3",
             "minorgridcolor": "#C8D4E3",
             "startlinecolor": "#2a3f5f"
            },
            "type": "carpet"
           }
          ],
          "choropleth": [
           {
            "colorbar": {
             "outlinewidth": 0,
             "ticks": ""
            },
            "type": "choropleth"
           }
          ],
          "contour": [
           {
            "colorbar": {
             "outlinewidth": 0,
             "ticks": ""
            },
            "colorscale": [
             [
              0,
              "#0d0887"
             ],
             [
              0.1111111111111111,
              "#46039f"
             ],
             [
              0.2222222222222222,
              "#7201a8"
             ],
             [
              0.3333333333333333,
              "#9c179e"
             ],
             [
              0.4444444444444444,
              "#bd3786"
             ],
             [
              0.5555555555555556,
              "#d8576b"
             ],
             [
              0.6666666666666666,
              "#ed7953"
             ],
             [
              0.7777777777777778,
              "#fb9f3a"
             ],
             [
              0.8888888888888888,
              "#fdca26"
             ],
             [
              1,
              "#f0f921"
             ]
            ],
            "type": "contour"
           }
          ],
          "contourcarpet": [
           {
            "colorbar": {
             "outlinewidth": 0,
             "ticks": ""
            },
            "type": "contourcarpet"
           }
          ],
          "heatmap": [
           {
            "colorbar": {
             "outlinewidth": 0,
             "ticks": ""
            },
            "colorscale": [
             [
              0,
              "#0d0887"
             ],
             [
              0.1111111111111111,
              "#46039f"
             ],
             [
              0.2222222222222222,
              "#7201a8"
             ],
             [
              0.3333333333333333,
              "#9c179e"
             ],
             [
              0.4444444444444444,
              "#bd3786"
             ],
             [
              0.5555555555555556,
              "#d8576b"
             ],
             [
              0.6666666666666666,
              "#ed7953"
             ],
             [
              0.7777777777777778,
              "#fb9f3a"
             ],
             [
              0.8888888888888888,
              "#fdca26"
             ],
             [
              1,
              "#f0f921"
             ]
            ],
            "type": "heatmap"
           }
          ],
          "heatmapgl": [
           {
            "colorbar": {
             "outlinewidth": 0,
             "ticks": ""
            },
            "colorscale": [
             [
              0,
              "#0d0887"
             ],
             [
              0.1111111111111111,
              "#46039f"
             ],
             [
              0.2222222222222222,
              "#7201a8"
             ],
             [
              0.3333333333333333,
              "#9c179e"
             ],
             [
              0.4444444444444444,
              "#bd3786"
             ],
             [
              0.5555555555555556,
              "#d8576b"
             ],
             [
              0.6666666666666666,
              "#ed7953"
             ],
             [
              0.7777777777777778,
              "#fb9f3a"
             ],
             [
              0.8888888888888888,
              "#fdca26"
             ],
             [
              1,
              "#f0f921"
             ]
            ],
            "type": "heatmapgl"
           }
          ],
          "histogram": [
           {
            "marker": {
             "pattern": {
              "fillmode": "overlay",
              "size": 10,
              "solidity": 0.2
             }
            },
            "type": "histogram"
           }
          ],
          "histogram2d": [
           {
            "colorbar": {
             "outlinewidth": 0,
             "ticks": ""
            },
            "colorscale": [
             [
              0,
              "#0d0887"
             ],
             [
              0.1111111111111111,
              "#46039f"
             ],
             [
              0.2222222222222222,
              "#7201a8"
             ],
             [
              0.3333333333333333,
              "#9c179e"
             ],
             [
              0.4444444444444444,
              "#bd3786"
             ],
             [
              0.5555555555555556,
              "#d8576b"
             ],
             [
              0.6666666666666666,
              "#ed7953"
             ],
             [
              0.7777777777777778,
              "#fb9f3a"
             ],
             [
              0.8888888888888888,
              "#fdca26"
             ],
             [
              1,
              "#f0f921"
             ]
            ],
            "type": "histogram2d"
           }
          ],
          "histogram2dcontour": [
           {
            "colorbar": {
             "outlinewidth": 0,
             "ticks": ""
            },
            "colorscale": [
             [
              0,
              "#0d0887"
             ],
             [
              0.1111111111111111,
              "#46039f"
             ],
             [
              0.2222222222222222,
              "#7201a8"
             ],
             [
              0.3333333333333333,
              "#9c179e"
             ],
             [
              0.4444444444444444,
              "#bd3786"
             ],
             [
              0.5555555555555556,
              "#d8576b"
             ],
             [
              0.6666666666666666,
              "#ed7953"
             ],
             [
              0.7777777777777778,
              "#fb9f3a"
             ],
             [
              0.8888888888888888,
              "#fdca26"
             ],
             [
              1,
              "#f0f921"
             ]
            ],
            "type": "histogram2dcontour"
           }
          ],
          "mesh3d": [
           {
            "colorbar": {
             "outlinewidth": 0,
             "ticks": ""
            },
            "type": "mesh3d"
           }
          ],
          "parcoords": [
           {
            "line": {
             "colorbar": {
              "outlinewidth": 0,
              "ticks": ""
             }
            },
            "type": "parcoords"
           }
          ],
          "pie": [
           {
            "automargin": true,
            "type": "pie"
           }
          ],
          "scatter": [
           {
            "fillpattern": {
             "fillmode": "overlay",
             "size": 10,
             "solidity": 0.2
            },
            "type": "scatter"
           }
          ],
          "scatter3d": [
           {
            "line": {
             "colorbar": {
              "outlinewidth": 0,
              "ticks": ""
             }
            },
            "marker": {
             "colorbar": {
              "outlinewidth": 0,
              "ticks": ""
             }
            },
            "type": "scatter3d"
           }
          ],
          "scattercarpet": [
           {
            "marker": {
             "colorbar": {
              "outlinewidth": 0,
              "ticks": ""
             }
            },
            "type": "scattercarpet"
           }
          ],
          "scattergeo": [
           {
            "marker": {
             "colorbar": {
              "outlinewidth": 0,
              "ticks": ""
             }
            },
            "type": "scattergeo"
           }
          ],
          "scattergl": [
           {
            "marker": {
             "colorbar": {
              "outlinewidth": 0,
              "ticks": ""
             }
            },
            "type": "scattergl"
           }
          ],
          "scattermapbox": [
           {
            "marker": {
             "colorbar": {
              "outlinewidth": 0,
              "ticks": ""
             }
            },
            "type": "scattermapbox"
           }
          ],
          "scatterpolar": [
           {
            "marker": {
             "colorbar": {
              "outlinewidth": 0,
              "ticks": ""
             }
            },
            "type": "scatterpolar"
           }
          ],
          "scatterpolargl": [
           {
            "marker": {
             "colorbar": {
              "outlinewidth": 0,
              "ticks": ""
             }
            },
            "type": "scatterpolargl"
           }
          ],
          "scatterternary": [
           {
            "marker": {
             "colorbar": {
              "outlinewidth": 0,
              "ticks": ""
             }
            },
            "type": "scatterternary"
           }
          ],
          "surface": [
           {
            "colorbar": {
             "outlinewidth": 0,
             "ticks": ""
            },
            "colorscale": [
             [
              0,
              "#0d0887"
             ],
             [
              0.1111111111111111,
              "#46039f"
             ],
             [
              0.2222222222222222,
              "#7201a8"
             ],
             [
              0.3333333333333333,
              "#9c179e"
             ],
             [
              0.4444444444444444,
              "#bd3786"
             ],
             [
              0.5555555555555556,
              "#d8576b"
             ],
             [
              0.6666666666666666,
              "#ed7953"
             ],
             [
              0.7777777777777778,
              "#fb9f3a"
             ],
             [
              0.8888888888888888,
              "#fdca26"
             ],
             [
              1,
              "#f0f921"
             ]
            ],
            "type": "surface"
           }
          ],
          "table": [
           {
            "cells": {
             "fill": {
              "color": "#EBF0F8"
             },
             "line": {
              "color": "white"
             }
            },
            "header": {
             "fill": {
              "color": "#C8D4E3"
             },
             "line": {
              "color": "white"
             }
            },
            "type": "table"
           }
          ]
         },
         "layout": {
          "annotationdefaults": {
           "arrowcolor": "#2a3f5f",
           "arrowhead": 0,
           "arrowwidth": 1
          },
          "autotypenumbers": "strict",
          "coloraxis": {
           "colorbar": {
            "outlinewidth": 0,
            "ticks": ""
           }
          },
          "colorscale": {
           "diverging": [
            [
             0,
             "#8e0152"
            ],
            [
             0.1,
             "#c51b7d"
            ],
            [
             0.2,
             "#de77ae"
            ],
            [
             0.3,
             "#f1b6da"
            ],
            [
             0.4,
             "#fde0ef"
            ],
            [
             0.5,
             "#f7f7f7"
            ],
            [
             0.6,
             "#e6f5d0"
            ],
            [
             0.7,
             "#b8e186"
            ],
            [
             0.8,
             "#7fbc41"
            ],
            [
             0.9,
             "#4d9221"
            ],
            [
             1,
             "#276419"
            ]
           ],
           "sequential": [
            [
             0,
             "#0d0887"
            ],
            [
             0.1111111111111111,
             "#46039f"
            ],
            [
             0.2222222222222222,
             "#7201a8"
            ],
            [
             0.3333333333333333,
             "#9c179e"
            ],
            [
             0.4444444444444444,
             "#bd3786"
            ],
            [
             0.5555555555555556,
             "#d8576b"
            ],
            [
             0.6666666666666666,
             "#ed7953"
            ],
            [
             0.7777777777777778,
             "#fb9f3a"
            ],
            [
             0.8888888888888888,
             "#fdca26"
            ],
            [
             1,
             "#f0f921"
            ]
           ],
           "sequentialminus": [
            [
             0,
             "#0d0887"
            ],
            [
             0.1111111111111111,
             "#46039f"
            ],
            [
             0.2222222222222222,
             "#7201a8"
            ],
            [
             0.3333333333333333,
             "#9c179e"
            ],
            [
             0.4444444444444444,
             "#bd3786"
            ],
            [
             0.5555555555555556,
             "#d8576b"
            ],
            [
             0.6666666666666666,
             "#ed7953"
            ],
            [
             0.7777777777777778,
             "#fb9f3a"
            ],
            [
             0.8888888888888888,
             "#fdca26"
            ],
            [
             1,
             "#f0f921"
            ]
           ]
          },
          "colorway": [
           "#636efa",
           "#EF553B",
           "#00cc96",
           "#ab63fa",
           "#FFA15A",
           "#19d3f3",
           "#FF6692",
           "#B6E880",
           "#FF97FF",
           "#FECB52"
          ],
          "font": {
           "color": "#2a3f5f"
          },
          "geo": {
           "bgcolor": "white",
           "lakecolor": "white",
           "landcolor": "white",
           "showlakes": true,
           "showland": true,
           "subunitcolor": "#C8D4E3"
          },
          "hoverlabel": {
           "align": "left"
          },
          "hovermode": "closest",
          "mapbox": {
           "style": "light"
          },
          "paper_bgcolor": "white",
          "plot_bgcolor": "white",
          "polar": {
           "angularaxis": {
            "gridcolor": "#EBF0F8",
            "linecolor": "#EBF0F8",
            "ticks": ""
           },
           "bgcolor": "white",
           "radialaxis": {
            "gridcolor": "#EBF0F8",
            "linecolor": "#EBF0F8",
            "ticks": ""
           }
          },
          "scene": {
           "xaxis": {
            "backgroundcolor": "white",
            "gridcolor": "#DFE8F3",
            "gridwidth": 2,
            "linecolor": "#EBF0F8",
            "showbackground": true,
            "ticks": "",
            "zerolinecolor": "#EBF0F8"
           },
           "yaxis": {
            "backgroundcolor": "white",
            "gridcolor": "#DFE8F3",
            "gridwidth": 2,
            "linecolor": "#EBF0F8",
            "showbackground": true,
            "ticks": "",
            "zerolinecolor": "#EBF0F8"
           },
           "zaxis": {
            "backgroundcolor": "white",
            "gridcolor": "#DFE8F3",
            "gridwidth": 2,
            "linecolor": "#EBF0F8",
            "showbackground": true,
            "ticks": "",
            "zerolinecolor": "#EBF0F8"
           }
          },
          "shapedefaults": {
           "line": {
            "color": "#2a3f5f"
           }
          },
          "ternary": {
           "aaxis": {
            "gridcolor": "#DFE8F3",
            "linecolor": "#A2B1C6",
            "ticks": ""
           },
           "baxis": {
            "gridcolor": "#DFE8F3",
            "linecolor": "#A2B1C6",
            "ticks": ""
           },
           "bgcolor": "white",
           "caxis": {
            "gridcolor": "#DFE8F3",
            "linecolor": "#A2B1C6",
            "ticks": ""
           }
          },
          "title": {
           "x": 0.05
          },
          "xaxis": {
           "automargin": true,
           "gridcolor": "#EBF0F8",
           "linecolor": "#EBF0F8",
           "ticks": "",
           "title": {
            "standoff": 15
           },
           "zerolinecolor": "#EBF0F8",
           "zerolinewidth": 2
          },
          "yaxis": {
           "automargin": true,
           "gridcolor": "#EBF0F8",
           "linecolor": "#EBF0F8",
           "ticks": "",
           "title": {
            "standoff": 15
           },
           "zerolinecolor": "#EBF0F8",
           "zerolinewidth": 2
          }
         }
        },
        "title": {
         "text": "BWU Mahalanobis distance with 95% Confidence Interval"
        },
        "width": 1600,
        "xaxis": {
         "anchor": "y",
         "domain": [
          0,
          1
         ],
         "title": {
          "text": "BWU Observation Id."
         }
        },
        "yaxis": {
         "anchor": "x",
         "domain": [
          0,
          1
         ],
         "title": {
          "text": "Mahalanobis distance"
         }
        }
       }
      }
     },
     "metadata": {},
     "output_type": "display_data"
    }
   ],
   "source": [
    "plot_mahalanobis_distance_bwu(bwu, highlight_run=99, width=1600)"
   ]
  },
  {
   "cell_type": "code",
   "execution_count": null,
   "metadata": {},
   "outputs": [],
   "source": []
  },
  {
   "cell_type": "code",
   "execution_count": null,
   "metadata": {},
   "outputs": [],
   "source": []
  }
 ],
 "metadata": {
  "kernelspec": {
   "display_name": "aima",
   "language": "python",
   "name": "python3"
  },
  "language_info": {
   "codemirror_mode": {
    "name": "ipython",
    "version": 3
   },
   "file_extension": ".py",
   "mimetype": "text/x-python",
   "name": "python",
   "nbconvert_exporter": "python",
   "pygments_lexer": "ipython3",
   "version": "3.11.8"
  },
  "orig_nbformat": 4
 },
 "nbformat": 4,
 "nbformat_minor": 2
}
