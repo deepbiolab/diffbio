{
 "cells": [
  {
   "cell_type": "code",
   "execution_count": 44,
   "metadata": {},
   "outputs": [],
   "source": [
    "import pandas as pd\n",
    "import numpy as np\n",
    "import plotly.express as px\n",
    "import plotly.graph_objects as go\n",
    "from plotly.subplots import make_subplots"
   ]
  },
  {
   "cell_type": "code",
   "execution_count": 4,
   "metadata": {},
   "outputs": [],
   "source": [
    "def read_owu(file):\n",
    "\troot_path = 'dataset/datahow_2020/insilico_data'\n",
    "\tdata = pd.read_excel(f'{root_path}/{file}.xlsx')\n",
    "\tcol_names = [\"run\", \"timesteps\", \"X:VCD\", \"X:Glc\", \"X:Gln\", \"X:NH4\", \"X:Lac\", \"X:Titer\", \"W:pH\", \"W:Temp\", \"F:Feed_Glc\", \"F:Feed_Gln\",]\n",
    "\towu_df = data.copy()\n",
    "\towu_df.columns = col_names\n",
    "\towu_df['time'] = (owu_df.timesteps / 24).astype(int)\n",
    "\towu_df.set_index(['run', 'time'], inplace=True)\n",
    "\treturn owu_df"
   ]
  },
  {
   "cell_type": "code",
   "execution_count": 5,
   "metadata": {},
   "outputs": [],
   "source": [
    "owu = read_owu('rawdata')"
   ]
  },
  {
   "cell_type": "code",
   "execution_count": 7,
   "metadata": {},
   "outputs": [
    {
     "data": {
      "text/html": [
       "<div>\n",
       "<style scoped>\n",
       "    .dataframe tbody tr th:only-of-type {\n",
       "        vertical-align: middle;\n",
       "    }\n",
       "\n",
       "    .dataframe tbody tr th {\n",
       "        vertical-align: top;\n",
       "    }\n",
       "\n",
       "    .dataframe thead th {\n",
       "        text-align: right;\n",
       "    }\n",
       "</style>\n",
       "<table border=\"1\" class=\"dataframe\">\n",
       "  <thead>\n",
       "    <tr style=\"text-align: right;\">\n",
       "      <th></th>\n",
       "      <th></th>\n",
       "      <th>timesteps</th>\n",
       "      <th>X:VCD</th>\n",
       "      <th>X:Glc</th>\n",
       "      <th>X:Gln</th>\n",
       "      <th>X:NH4</th>\n",
       "      <th>X:Lac</th>\n",
       "      <th>X:Titer</th>\n",
       "      <th>W:pH</th>\n",
       "      <th>W:Temp</th>\n",
       "      <th>F:Feed_Glc</th>\n",
       "      <th>F:Feed_Gln</th>\n",
       "    </tr>\n",
       "    <tr>\n",
       "      <th>run</th>\n",
       "      <th>time</th>\n",
       "      <th></th>\n",
       "      <th></th>\n",
       "      <th></th>\n",
       "      <th></th>\n",
       "      <th></th>\n",
       "      <th></th>\n",
       "      <th></th>\n",
       "      <th></th>\n",
       "      <th></th>\n",
       "      <th></th>\n",
       "      <th></th>\n",
       "    </tr>\n",
       "  </thead>\n",
       "  <tbody>\n",
       "    <tr>\n",
       "      <th rowspan=\"5\" valign=\"top\">1</th>\n",
       "      <th>0</th>\n",
       "      <td>0</td>\n",
       "      <td>0.400000</td>\n",
       "      <td>60.000000</td>\n",
       "      <td>3.000000</td>\n",
       "      <td>0.100000</td>\n",
       "      <td>0.100000</td>\n",
       "      <td>0.000000</td>\n",
       "      <td>6.90</td>\n",
       "      <td>37.5</td>\n",
       "      <td>0.0</td>\n",
       "      <td>0.0</td>\n",
       "    </tr>\n",
       "    <tr>\n",
       "      <th>1</th>\n",
       "      <td>24</td>\n",
       "      <td>1.015551</td>\n",
       "      <td>82.789425</td>\n",
       "      <td>2.071044</td>\n",
       "      <td>0.945923</td>\n",
       "      <td>5.292220</td>\n",
       "      <td>8.891501</td>\n",
       "      <td>6.90</td>\n",
       "      <td>37.5</td>\n",
       "      <td>30.0</td>\n",
       "      <td>1.0</td>\n",
       "    </tr>\n",
       "    <tr>\n",
       "      <th>2</th>\n",
       "      <td>48</td>\n",
       "      <td>2.063143</td>\n",
       "      <td>73.895885</td>\n",
       "      <td>1.504454</td>\n",
       "      <td>3.228866</td>\n",
       "      <td>15.598221</td>\n",
       "      <td>23.479590</td>\n",
       "      <td>6.90</td>\n",
       "      <td>37.5</td>\n",
       "      <td>30.0</td>\n",
       "      <td>1.0</td>\n",
       "    </tr>\n",
       "    <tr>\n",
       "      <th>3</th>\n",
       "      <td>72</td>\n",
       "      <td>2.735150</td>\n",
       "      <td>106.519232</td>\n",
       "      <td>0.374085</td>\n",
       "      <td>3.251472</td>\n",
       "      <td>33.851222</td>\n",
       "      <td>73.414915</td>\n",
       "      <td>6.90</td>\n",
       "      <td>37.5</td>\n",
       "      <td>30.0</td>\n",
       "      <td>1.0</td>\n",
       "    </tr>\n",
       "    <tr>\n",
       "      <th>4</th>\n",
       "      <td>96</td>\n",
       "      <td>4.106711</td>\n",
       "      <td>102.865067</td>\n",
       "      <td>0.174484</td>\n",
       "      <td>4.377329</td>\n",
       "      <td>43.038763</td>\n",
       "      <td>150.955189</td>\n",
       "      <td>6.90</td>\n",
       "      <td>37.5</td>\n",
       "      <td>30.0</td>\n",
       "      <td>1.0</td>\n",
       "    </tr>\n",
       "    <tr>\n",
       "      <th>...</th>\n",
       "      <th>...</th>\n",
       "      <td>...</td>\n",
       "      <td>...</td>\n",
       "      <td>...</td>\n",
       "      <td>...</td>\n",
       "      <td>...</td>\n",
       "      <td>...</td>\n",
       "      <td>...</td>\n",
       "      <td>...</td>\n",
       "      <td>...</td>\n",
       "      <td>...</td>\n",
       "      <td>...</td>\n",
       "    </tr>\n",
       "    <tr>\n",
       "      <th rowspan=\"5\" valign=\"top\">100</th>\n",
       "      <th>10</th>\n",
       "      <td>240</td>\n",
       "      <td>3.128240</td>\n",
       "      <td>70.266730</td>\n",
       "      <td>7.412604</td>\n",
       "      <td>15.379067</td>\n",
       "      <td>121.962477</td>\n",
       "      <td>930.694411</td>\n",
       "      <td>6.85</td>\n",
       "      <td>36.0</td>\n",
       "      <td>17.5</td>\n",
       "      <td>3.5</td>\n",
       "    </tr>\n",
       "    <tr>\n",
       "      <th>11</th>\n",
       "      <td>264</td>\n",
       "      <td>2.482591</td>\n",
       "      <td>83.362438</td>\n",
       "      <td>10.061534</td>\n",
       "      <td>19.644554</td>\n",
       "      <td>153.698421</td>\n",
       "      <td>982.799007</td>\n",
       "      <td>6.85</td>\n",
       "      <td>36.0</td>\n",
       "      <td>0.0</td>\n",
       "      <td>0.0</td>\n",
       "    </tr>\n",
       "    <tr>\n",
       "      <th>12</th>\n",
       "      <td>288</td>\n",
       "      <td>2.230462</td>\n",
       "      <td>70.463381</td>\n",
       "      <td>10.261330</td>\n",
       "      <td>17.409910</td>\n",
       "      <td>117.322867</td>\n",
       "      <td>976.923617</td>\n",
       "      <td>6.85</td>\n",
       "      <td>36.0</td>\n",
       "      <td>0.0</td>\n",
       "      <td>0.0</td>\n",
       "    </tr>\n",
       "    <tr>\n",
       "      <th>13</th>\n",
       "      <td>312</td>\n",
       "      <td>2.814835</td>\n",
       "      <td>67.729525</td>\n",
       "      <td>7.058223</td>\n",
       "      <td>25.258899</td>\n",
       "      <td>161.139105</td>\n",
       "      <td>1306.483996</td>\n",
       "      <td>6.85</td>\n",
       "      <td>36.0</td>\n",
       "      <td>0.0</td>\n",
       "      <td>0.0</td>\n",
       "    </tr>\n",
       "    <tr>\n",
       "      <th>14</th>\n",
       "      <td>336</td>\n",
       "      <td>2.074643</td>\n",
       "      <td>62.450237</td>\n",
       "      <td>6.756286</td>\n",
       "      <td>21.224690</td>\n",
       "      <td>203.825451</td>\n",
       "      <td>1111.024944</td>\n",
       "      <td>6.85</td>\n",
       "      <td>36.0</td>\n",
       "      <td>0.0</td>\n",
       "      <td>0.0</td>\n",
       "    </tr>\n",
       "  </tbody>\n",
       "</table>\n",
       "<p>1500 rows × 11 columns</p>\n",
       "</div>"
      ],
      "text/plain": [
       "          timesteps     X:VCD       X:Glc      X:Gln      X:NH4       X:Lac  \\\n",
       "run time                                                                      \n",
       "1   0             0  0.400000   60.000000   3.000000   0.100000    0.100000   \n",
       "    1            24  1.015551   82.789425   2.071044   0.945923    5.292220   \n",
       "    2            48  2.063143   73.895885   1.504454   3.228866   15.598221   \n",
       "    3            72  2.735150  106.519232   0.374085   3.251472   33.851222   \n",
       "    4            96  4.106711  102.865067   0.174484   4.377329   43.038763   \n",
       "...             ...       ...         ...        ...        ...         ...   \n",
       "100 10          240  3.128240   70.266730   7.412604  15.379067  121.962477   \n",
       "    11          264  2.482591   83.362438  10.061534  19.644554  153.698421   \n",
       "    12          288  2.230462   70.463381  10.261330  17.409910  117.322867   \n",
       "    13          312  2.814835   67.729525   7.058223  25.258899  161.139105   \n",
       "    14          336  2.074643   62.450237   6.756286  21.224690  203.825451   \n",
       "\n",
       "              X:Titer  W:pH  W:Temp  F:Feed_Glc  F:Feed_Gln  \n",
       "run time                                                     \n",
       "1   0        0.000000  6.90    37.5         0.0         0.0  \n",
       "    1        8.891501  6.90    37.5        30.0         1.0  \n",
       "    2       23.479590  6.90    37.5        30.0         1.0  \n",
       "    3       73.414915  6.90    37.5        30.0         1.0  \n",
       "    4      150.955189  6.90    37.5        30.0         1.0  \n",
       "...               ...   ...     ...         ...         ...  \n",
       "100 10     930.694411  6.85    36.0        17.5         3.5  \n",
       "    11     982.799007  6.85    36.0         0.0         0.0  \n",
       "    12     976.923617  6.85    36.0         0.0         0.0  \n",
       "    13    1306.483996  6.85    36.0         0.0         0.0  \n",
       "    14    1111.024944  6.85    36.0         0.0         0.0  \n",
       "\n",
       "[1500 rows x 11 columns]"
      ]
     },
     "execution_count": 7,
     "metadata": {},
     "output_type": "execute_result"
    }
   ],
   "source": [
    "owu"
   ]
  },
  {
   "cell_type": "code",
   "execution_count": 35,
   "metadata": {},
   "outputs": [],
   "source": [
    "def plot_owu_data(owu_df, select_runs):\n",
    "    max_cols_per_row = 5\n",
    "    num_columns = len(owu_df.columns) - 1\n",
    "    num_rows = (num_columns + max_cols_per_row - 1) // max_cols_per_row\n",
    "    \n",
    "    fig = make_subplots(\n",
    "        rows=num_rows,\n",
    "        cols=min(num_columns, max_cols_per_row),\n",
    "        subplot_titles=owu_df.columns[1:]\n",
    "    )\n",
    "    \n",
    "    for j in select_runs:\n",
    "        plot_run_ix = owu_df.index.get_level_values(\"run\") == j\n",
    "        for i, c in enumerate(owu_df.columns):\n",
    "            if i == 0:\n",
    "                continue\n",
    "            row = (i - 1) // max_cols_per_row + 1\n",
    "            col = (i - 1) % max_cols_per_row + 1\n",
    "            fig.add_trace(\n",
    "                go.Scatter(\n",
    "                    x=list(range(15)),\n",
    "                    y=owu_df[c].values[plot_run_ix],\n",
    "                    name=\"Run = \" + str(j),\n",
    "                    marker=dict(color=px.colors.qualitative.Plotly[j % 10]),\n",
    "                ),\n",
    "                row=row,\n",
    "                col=col,\n",
    "            )\n",
    "    \n",
    "    fig.update_layout(\n",
    "        showlegend=False,\n",
    "        title_text=\"Process variable evolution for selected runs\",\n",
    "        height=1000,\n",
    "    )\n",
    "    fig.show()"
   ]
  },
  {
   "cell_type": "code",
   "execution_count": 45,
   "metadata": {},
   "outputs": [
    {
     "data": {
      "application/vnd.plotly.v1+json": {
       "config": {
        "plotlyServerURL": "https://plot.ly"
       },
       "data": [
        {
         "marker": {
          "color": "#EF553B"
         },
         "name": "Run = 1",
         "type": "scatter",
         "x": [
          0,
          1,
          2,
          3,
          4,
          5,
          6,
          7,
          8,
          9,
          10,
          11,
          12,
          13,
          14
         ],
         "xaxis": "x",
         "y": [
          0.4,
          1.01555147313048,
          2.06314251964792,
          2.73515036590843,
          4.10671057500042,
          4.72301616256221,
          4.93202821061016,
          4.82731607773051,
          5.74548024814971,
          4.78197286543429,
          2.93462231717867,
          3.54345566015696,
          2.40390773874998,
          2.01399449005047,
          1.6825603014874
         ],
         "yaxis": "y"
        },
        {
         "marker": {
          "color": "#EF553B"
         },
         "name": "Run = 1",
         "type": "scatter",
         "x": [
          0,
          1,
          2,
          3,
          4,
          5,
          6,
          7,
          8,
          9,
          10,
          11,
          12,
          13,
          14
         ],
         "xaxis": "x2",
         "y": [
          60,
          82.7894246474924,
          73.8958854454724,
          106.519232317694,
          102.865067065933,
          88.2110279664724,
          168.364784482345,
          133.857140348611,
          199.244957154029,
          234.815768047556,
          137.680829774603,
          184.345046618242,
          162.281838784814,
          139.770074908925,
          183.677812577569
         ],
         "yaxis": "y2"
        },
        {
         "marker": {
          "color": "#EF553B"
         },
         "name": "Run = 1",
         "type": "scatter",
         "x": [
          0,
          1,
          2,
          3,
          4,
          5,
          6,
          7,
          8,
          9,
          10,
          11,
          12,
          13,
          14
         ],
         "xaxis": "x3",
         "y": [
          3,
          2.07104358445901,
          1.50445384861042,
          0.374084757065191,
          0.174483517232587,
          0,
          0,
          0.0390182740599728,
          0.136536757497994,
          0,
          0.103169035328298,
          0.0547867992607318,
          0,
          0,
          0.103853251785876
         ],
         "yaxis": "y3"
        },
        {
         "marker": {
          "color": "#EF553B"
         },
         "name": "Run = 1",
         "type": "scatter",
         "x": [
          0,
          1,
          2,
          3,
          4,
          5,
          6,
          7,
          8,
          9,
          10,
          11,
          12,
          13,
          14
         ],
         "xaxis": "x4",
         "y": [
          0.1,
          0.945922705899571,
          3.22886627669734,
          3.25147188055389,
          4.37732928063589,
          5.22300573901723,
          5.76989078087091,
          4.99170147807493,
          5.62063747123443,
          5.99345450697601,
          3.25923689444922,
          4.76061993499082,
          4.46375863639582,
          3.14005604546362,
          5.02375037690587
         ],
         "yaxis": "y4"
        },
        {
         "marker": {
          "color": "#EF553B"
         },
         "name": "Run = 1",
         "type": "scatter",
         "x": [
          0,
          1,
          2,
          3,
          4,
          5,
          6,
          7,
          8,
          9,
          10,
          11,
          12,
          13,
          14
         ],
         "xaxis": "x5",
         "y": [
          0.1,
          5.29222027296475,
          15.5982213839384,
          33.8512224327944,
          43.0387629151601,
          36.496690367088,
          74.9914271530098,
          105.321299131532,
          125.286755500881,
          121.762156502009,
          119.732154240899,
          102.848334022428,
          136.020095780073,
          123.428554914058,
          120.646184488194
         ],
         "yaxis": "y5"
        },
        {
         "marker": {
          "color": "#EF553B"
         },
         "name": "Run = 1",
         "type": "scatter",
         "x": [
          0,
          1,
          2,
          3,
          4,
          5,
          6,
          7,
          8,
          9,
          10,
          11,
          12,
          13,
          14
         ],
         "xaxis": "x6",
         "y": [
          0,
          8.89150134990947,
          23.4795898344916,
          73.4149147906946,
          150.955188790631,
          189.689869102253,
          346.178774661975,
          348.716060875935,
          322.798230292134,
          430.402554649877,
          433.841473331172,
          446.706953112055,
          395.599643755721,
          453.569182797918,
          438.802227589456
         ],
         "yaxis": "y6"
        },
        {
         "marker": {
          "color": "#EF553B"
         },
         "name": "Run = 1",
         "type": "scatter",
         "x": [
          0,
          1,
          2,
          3,
          4,
          5,
          6,
          7,
          8,
          9,
          10,
          11,
          12,
          13,
          14
         ],
         "xaxis": "x7",
         "y": [
          6.9,
          6.9,
          6.9,
          6.9,
          6.9,
          6.9,
          7,
          7,
          7,
          7,
          7,
          7,
          7,
          7,
          7
         ],
         "yaxis": "y7"
        },
        {
         "marker": {
          "color": "#EF553B"
         },
         "name": "Run = 1",
         "type": "scatter",
         "x": [
          0,
          1,
          2,
          3,
          4,
          5,
          6,
          7,
          8,
          9,
          10,
          11,
          12,
          13,
          14
         ],
         "xaxis": "x8",
         "y": [
          37.5,
          37.5,
          37.5,
          37.5,
          37.5,
          37.5,
          37.5,
          37.5,
          37.5,
          37.5,
          37.5,
          37.5,
          37.5,
          37.5,
          37
         ],
         "yaxis": "y8"
        },
        {
         "marker": {
          "color": "#EF553B"
         },
         "name": "Run = 1",
         "type": "scatter",
         "x": [
          0,
          1,
          2,
          3,
          4,
          5,
          6,
          7,
          8,
          9,
          10,
          11,
          12,
          13,
          14
         ],
         "xaxis": "x9",
         "y": [
          0,
          30,
          30,
          30,
          30,
          30,
          30,
          30,
          0,
          0,
          0,
          0,
          0,
          0,
          0
         ],
         "yaxis": "y9"
        },
        {
         "marker": {
          "color": "#EF553B"
         },
         "name": "Run = 1",
         "type": "scatter",
         "x": [
          0,
          1,
          2,
          3,
          4,
          5,
          6,
          7,
          8,
          9,
          10,
          11,
          12,
          13,
          14
         ],
         "xaxis": "x10",
         "y": [
          0,
          1,
          1,
          1,
          1,
          1,
          1,
          1,
          0,
          0,
          0,
          0,
          0,
          0,
          0
         ],
         "yaxis": "y10"
        },
        {
         "marker": {
          "color": "#00CC96"
         },
         "name": "Run = 2",
         "type": "scatter",
         "x": [
          0,
          1,
          2,
          3,
          4,
          5,
          6,
          7,
          8,
          9,
          10,
          11,
          12,
          13,
          14
         ],
         "xaxis": "x",
         "y": [
          0.4,
          0.953393057119758,
          1.78635742763164,
          1.99131551863123,
          3.89727440186949,
          4.04047033984833,
          3.69552107032584,
          3.94521405476804,
          4.18219720857312,
          3.64293458661933,
          3.27699865896298,
          2.64356715770339,
          1.87837912448184,
          1.59067268785247,
          1.20432839394365
         ],
         "yaxis": "y"
        },
        {
         "marker": {
          "color": "#00CC96"
         },
         "name": "Run = 2",
         "type": "scatter",
         "x": [
          0,
          1,
          2,
          3,
          4,
          5,
          6,
          7,
          8,
          9,
          10,
          11,
          12,
          13,
          14
         ],
         "xaxis": "x2",
         "y": [
          20,
          17.5398926340442,
          9.31582960370931,
          1.10120729861238,
          17.605891057862,
          38.7016280807305,
          49.9414300103131,
          76.6799867051764,
          63.4811077895031,
          94.2232449876202,
          67.3013829632329,
          63.8072356189696,
          48.0508149288645,
          57.8099501779389,
          53.7760917591998
         ],
         "yaxis": "y2"
        },
        {
         "marker": {
          "color": "#00CC96"
         },
         "name": "Run = 2",
         "type": "scatter",
         "x": [
          0,
          1,
          2,
          3,
          4,
          5,
          6,
          7,
          8,
          9,
          10,
          11,
          12,
          13,
          14
         ],
         "xaxis": "x3",
         "y": [
          8,
          6.76936090837218,
          5.62304335843897,
          2.73711053567273,
          2.63338093933167,
          1.74643146044887,
          1.76078283913632,
          1.02885033055561,
          0.475635762869553,
          0,
          0,
          0.0258708508329362,
          0.0245570745305532,
          0,
          0.0943008813557295
         ],
         "yaxis": "y3"
        },
        {
         "marker": {
          "color": "#00CC96"
         },
         "name": "Run = 2",
         "type": "scatter",
         "x": [
          0,
          1,
          2,
          3,
          4,
          5,
          6,
          7,
          8,
          9,
          10,
          11,
          12,
          13,
          14
         ],
         "xaxis": "x4",
         "y": [
          0.1,
          2.88961611012932,
          4.01023022750202,
          6.05108415302047,
          7.97244795595481,
          4.78818122088147,
          8.13544446414957,
          10.5421742860901,
          8.38801076799077,
          8.65376026910807,
          5.57515812969109,
          9.15488691838566,
          7.60455713934093,
          8.0124959289968,
          9.7318439168227
         ],
         "yaxis": "y4"
        },
        {
         "marker": {
          "color": "#00CC96"
         },
         "name": "Run = 2",
         "type": "scatter",
         "x": [
          0,
          1,
          2,
          3,
          4,
          5,
          6,
          7,
          8,
          9,
          10,
          11,
          12,
          13,
          14
         ],
         "xaxis": "x5",
         "y": [
          0.1,
          4.58787623217595,
          15.0810160562546,
          17.5504839803874,
          43.170690221896,
          55.4121628378154,
          63.2175711280239,
          78.8947077023839,
          95.4815419700477,
          118.473999506984,
          84.4947374358113,
          128.968628186757,
          98.079235956975,
          124.987314612286,
          150.568048910084
         ],
         "yaxis": "y5"
        },
        {
         "marker": {
          "color": "#00CC96"
         },
         "name": "Run = 2",
         "type": "scatter",
         "x": [
          0,
          1,
          2,
          3,
          4,
          5,
          6,
          7,
          8,
          9,
          10,
          11,
          12,
          13,
          14
         ],
         "xaxis": "x6",
         "y": [
          0,
          4.17720357842361,
          35.9123736997658,
          52.7640456630737,
          118.114401288945,
          171.892449186793,
          290.942967120901,
          366.127828894157,
          695.850635750044,
          527.546026209583,
          511.779192900718,
          659.033657256845,
          680.234184876943,
          486.7193346402,
          524.723439097784
         ],
         "yaxis": "y6"
        },
        {
         "marker": {
          "color": "#00CC96"
         },
         "name": "Run = 2",
         "type": "scatter",
         "x": [
          0,
          1,
          2,
          3,
          4,
          5,
          6,
          7,
          8,
          9,
          10,
          11,
          12,
          13,
          14
         ],
         "xaxis": "x7",
         "y": [
          7.1,
          7.1,
          7.1,
          7.1,
          7.1,
          7.1,
          7.1,
          7.1,
          7.1,
          7.1,
          7.1,
          7.1,
          7.1,
          7.1,
          6.7
         ],
         "yaxis": "y7"
        },
        {
         "marker": {
          "color": "#00CC96"
         },
         "name": "Run = 2",
         "type": "scatter",
         "x": [
          0,
          1,
          2,
          3,
          4,
          5,
          6,
          7,
          8,
          9,
          10,
          11,
          12,
          13,
          14
         ],
         "xaxis": "x8",
         "y": [
          36,
          36,
          36,
          36,
          36,
          36,
          37,
          37,
          37,
          37,
          37,
          37,
          37,
          37,
          37
         ],
         "yaxis": "y8"
        },
        {
         "marker": {
          "color": "#00CC96"
         },
         "name": "Run = 2",
         "type": "scatter",
         "x": [
          0,
          1,
          2,
          3,
          4,
          5,
          6,
          7,
          8,
          9,
          10,
          11,
          12,
          13,
          14
         ],
         "xaxis": "x9",
         "y": [
          0,
          0,
          0,
          30,
          30,
          30,
          30,
          30,
          0,
          0,
          0,
          0,
          0,
          0,
          0
         ],
         "yaxis": "y9"
        },
        {
         "marker": {
          "color": "#00CC96"
         },
         "name": "Run = 2",
         "type": "scatter",
         "x": [
          0,
          1,
          2,
          3,
          4,
          5,
          6,
          7,
          8,
          9,
          10,
          11,
          12,
          13,
          14
         ],
         "xaxis": "x10",
         "y": [
          0,
          0,
          0,
          1,
          1,
          1,
          1,
          1,
          0,
          0,
          0,
          0,
          0,
          0,
          0
         ],
         "yaxis": "y10"
        }
       ],
       "layout": {
        "annotations": [
         {
          "font": {
           "size": 16
          },
          "showarrow": false,
          "text": "X:VCD",
          "x": 0.08399999999999999,
          "xanchor": "center",
          "xref": "paper",
          "y": 1,
          "yanchor": "bottom",
          "yref": "paper"
         },
         {
          "font": {
           "size": 16
          },
          "showarrow": false,
          "text": "X:Glc",
          "x": 0.292,
          "xanchor": "center",
          "xref": "paper",
          "y": 1,
          "yanchor": "bottom",
          "yref": "paper"
         },
         {
          "font": {
           "size": 16
          },
          "showarrow": false,
          "text": "X:Gln",
          "x": 0.5,
          "xanchor": "center",
          "xref": "paper",
          "y": 1,
          "yanchor": "bottom",
          "yref": "paper"
         },
         {
          "font": {
           "size": 16
          },
          "showarrow": false,
          "text": "X:NH4",
          "x": 0.708,
          "xanchor": "center",
          "xref": "paper",
          "y": 1,
          "yanchor": "bottom",
          "yref": "paper"
         },
         {
          "font": {
           "size": 16
          },
          "showarrow": false,
          "text": "X:Lac",
          "x": 0.9159999999999999,
          "xanchor": "center",
          "xref": "paper",
          "y": 1,
          "yanchor": "bottom",
          "yref": "paper"
         },
         {
          "font": {
           "size": 16
          },
          "showarrow": false,
          "text": "X:Titer",
          "x": 0.08399999999999999,
          "xanchor": "center",
          "xref": "paper",
          "y": 0.375,
          "yanchor": "bottom",
          "yref": "paper"
         },
         {
          "font": {
           "size": 16
          },
          "showarrow": false,
          "text": "W:pH",
          "x": 0.292,
          "xanchor": "center",
          "xref": "paper",
          "y": 0.375,
          "yanchor": "bottom",
          "yref": "paper"
         },
         {
          "font": {
           "size": 16
          },
          "showarrow": false,
          "text": "W:Temp",
          "x": 0.5,
          "xanchor": "center",
          "xref": "paper",
          "y": 0.375,
          "yanchor": "bottom",
          "yref": "paper"
         },
         {
          "font": {
           "size": 16
          },
          "showarrow": false,
          "text": "F:Feed_Glc",
          "x": 0.708,
          "xanchor": "center",
          "xref": "paper",
          "y": 0.375,
          "yanchor": "bottom",
          "yref": "paper"
         },
         {
          "font": {
           "size": 16
          },
          "showarrow": false,
          "text": "F:Feed_Gln",
          "x": 0.9159999999999999,
          "xanchor": "center",
          "xref": "paper",
          "y": 0.375,
          "yanchor": "bottom",
          "yref": "paper"
         }
        ],
        "height": 1000,
        "showlegend": false,
        "template": {
         "data": {
          "bar": [
           {
            "error_x": {
             "color": "#2a3f5f"
            },
            "error_y": {
             "color": "#2a3f5f"
            },
            "marker": {
             "line": {
              "color": "#E5ECF6",
              "width": 0.5
             },
             "pattern": {
              "fillmode": "overlay",
              "size": 10,
              "solidity": 0.2
             }
            },
            "type": "bar"
           }
          ],
          "barpolar": [
           {
            "marker": {
             "line": {
              "color": "#E5ECF6",
              "width": 0.5
             },
             "pattern": {
              "fillmode": "overlay",
              "size": 10,
              "solidity": 0.2
             }
            },
            "type": "barpolar"
           }
          ],
          "carpet": [
           {
            "aaxis": {
             "endlinecolor": "#2a3f5f",
             "gridcolor": "white",
             "linecolor": "white",
             "minorgridcolor": "white",
             "startlinecolor": "#2a3f5f"
            },
            "baxis": {
             "endlinecolor": "#2a3f5f",
             "gridcolor": "white",
             "linecolor": "white",
             "minorgridcolor": "white",
             "startlinecolor": "#2a3f5f"
            },
            "type": "carpet"
           }
          ],
          "choropleth": [
           {
            "colorbar": {
             "outlinewidth": 0,
             "ticks": ""
            },
            "type": "choropleth"
           }
          ],
          "contour": [
           {
            "colorbar": {
             "outlinewidth": 0,
             "ticks": ""
            },
            "colorscale": [
             [
              0,
              "#0d0887"
             ],
             [
              0.1111111111111111,
              "#46039f"
             ],
             [
              0.2222222222222222,
              "#7201a8"
             ],
             [
              0.3333333333333333,
              "#9c179e"
             ],
             [
              0.4444444444444444,
              "#bd3786"
             ],
             [
              0.5555555555555556,
              "#d8576b"
             ],
             [
              0.6666666666666666,
              "#ed7953"
             ],
             [
              0.7777777777777778,
              "#fb9f3a"
             ],
             [
              0.8888888888888888,
              "#fdca26"
             ],
             [
              1,
              "#f0f921"
             ]
            ],
            "type": "contour"
           }
          ],
          "contourcarpet": [
           {
            "colorbar": {
             "outlinewidth": 0,
             "ticks": ""
            },
            "type": "contourcarpet"
           }
          ],
          "heatmap": [
           {
            "colorbar": {
             "outlinewidth": 0,
             "ticks": ""
            },
            "colorscale": [
             [
              0,
              "#0d0887"
             ],
             [
              0.1111111111111111,
              "#46039f"
             ],
             [
              0.2222222222222222,
              "#7201a8"
             ],
             [
              0.3333333333333333,
              "#9c179e"
             ],
             [
              0.4444444444444444,
              "#bd3786"
             ],
             [
              0.5555555555555556,
              "#d8576b"
             ],
             [
              0.6666666666666666,
              "#ed7953"
             ],
             [
              0.7777777777777778,
              "#fb9f3a"
             ],
             [
              0.8888888888888888,
              "#fdca26"
             ],
             [
              1,
              "#f0f921"
             ]
            ],
            "type": "heatmap"
           }
          ],
          "heatmapgl": [
           {
            "colorbar": {
             "outlinewidth": 0,
             "ticks": ""
            },
            "colorscale": [
             [
              0,
              "#0d0887"
             ],
             [
              0.1111111111111111,
              "#46039f"
             ],
             [
              0.2222222222222222,
              "#7201a8"
             ],
             [
              0.3333333333333333,
              "#9c179e"
             ],
             [
              0.4444444444444444,
              "#bd3786"
             ],
             [
              0.5555555555555556,
              "#d8576b"
             ],
             [
              0.6666666666666666,
              "#ed7953"
             ],
             [
              0.7777777777777778,
              "#fb9f3a"
             ],
             [
              0.8888888888888888,
              "#fdca26"
             ],
             [
              1,
              "#f0f921"
             ]
            ],
            "type": "heatmapgl"
           }
          ],
          "histogram": [
           {
            "marker": {
             "pattern": {
              "fillmode": "overlay",
              "size": 10,
              "solidity": 0.2
             }
            },
            "type": "histogram"
           }
          ],
          "histogram2d": [
           {
            "colorbar": {
             "outlinewidth": 0,
             "ticks": ""
            },
            "colorscale": [
             [
              0,
              "#0d0887"
             ],
             [
              0.1111111111111111,
              "#46039f"
             ],
             [
              0.2222222222222222,
              "#7201a8"
             ],
             [
              0.3333333333333333,
              "#9c179e"
             ],
             [
              0.4444444444444444,
              "#bd3786"
             ],
             [
              0.5555555555555556,
              "#d8576b"
             ],
             [
              0.6666666666666666,
              "#ed7953"
             ],
             [
              0.7777777777777778,
              "#fb9f3a"
             ],
             [
              0.8888888888888888,
              "#fdca26"
             ],
             [
              1,
              "#f0f921"
             ]
            ],
            "type": "histogram2d"
           }
          ],
          "histogram2dcontour": [
           {
            "colorbar": {
             "outlinewidth": 0,
             "ticks": ""
            },
            "colorscale": [
             [
              0,
              "#0d0887"
             ],
             [
              0.1111111111111111,
              "#46039f"
             ],
             [
              0.2222222222222222,
              "#7201a8"
             ],
             [
              0.3333333333333333,
              "#9c179e"
             ],
             [
              0.4444444444444444,
              "#bd3786"
             ],
             [
              0.5555555555555556,
              "#d8576b"
             ],
             [
              0.6666666666666666,
              "#ed7953"
             ],
             [
              0.7777777777777778,
              "#fb9f3a"
             ],
             [
              0.8888888888888888,
              "#fdca26"
             ],
             [
              1,
              "#f0f921"
             ]
            ],
            "type": "histogram2dcontour"
           }
          ],
          "mesh3d": [
           {
            "colorbar": {
             "outlinewidth": 0,
             "ticks": ""
            },
            "type": "mesh3d"
           }
          ],
          "parcoords": [
           {
            "line": {
             "colorbar": {
              "outlinewidth": 0,
              "ticks": ""
             }
            },
            "type": "parcoords"
           }
          ],
          "pie": [
           {
            "automargin": true,
            "type": "pie"
           }
          ],
          "scatter": [
           {
            "fillpattern": {
             "fillmode": "overlay",
             "size": 10,
             "solidity": 0.2
            },
            "type": "scatter"
           }
          ],
          "scatter3d": [
           {
            "line": {
             "colorbar": {
              "outlinewidth": 0,
              "ticks": ""
             }
            },
            "marker": {
             "colorbar": {
              "outlinewidth": 0,
              "ticks": ""
             }
            },
            "type": "scatter3d"
           }
          ],
          "scattercarpet": [
           {
            "marker": {
             "colorbar": {
              "outlinewidth": 0,
              "ticks": ""
             }
            },
            "type": "scattercarpet"
           }
          ],
          "scattergeo": [
           {
            "marker": {
             "colorbar": {
              "outlinewidth": 0,
              "ticks": ""
             }
            },
            "type": "scattergeo"
           }
          ],
          "scattergl": [
           {
            "marker": {
             "colorbar": {
              "outlinewidth": 0,
              "ticks": ""
             }
            },
            "type": "scattergl"
           }
          ],
          "scattermapbox": [
           {
            "marker": {
             "colorbar": {
              "outlinewidth": 0,
              "ticks": ""
             }
            },
            "type": "scattermapbox"
           }
          ],
          "scatterpolar": [
           {
            "marker": {
             "colorbar": {
              "outlinewidth": 0,
              "ticks": ""
             }
            },
            "type": "scatterpolar"
           }
          ],
          "scatterpolargl": [
           {
            "marker": {
             "colorbar": {
              "outlinewidth": 0,
              "ticks": ""
             }
            },
            "type": "scatterpolargl"
           }
          ],
          "scatterternary": [
           {
            "marker": {
             "colorbar": {
              "outlinewidth": 0,
              "ticks": ""
             }
            },
            "type": "scatterternary"
           }
          ],
          "surface": [
           {
            "colorbar": {
             "outlinewidth": 0,
             "ticks": ""
            },
            "colorscale": [
             [
              0,
              "#0d0887"
             ],
             [
              0.1111111111111111,
              "#46039f"
             ],
             [
              0.2222222222222222,
              "#7201a8"
             ],
             [
              0.3333333333333333,
              "#9c179e"
             ],
             [
              0.4444444444444444,
              "#bd3786"
             ],
             [
              0.5555555555555556,
              "#d8576b"
             ],
             [
              0.6666666666666666,
              "#ed7953"
             ],
             [
              0.7777777777777778,
              "#fb9f3a"
             ],
             [
              0.8888888888888888,
              "#fdca26"
             ],
             [
              1,
              "#f0f921"
             ]
            ],
            "type": "surface"
           }
          ],
          "table": [
           {
            "cells": {
             "fill": {
              "color": "#EBF0F8"
             },
             "line": {
              "color": "white"
             }
            },
            "header": {
             "fill": {
              "color": "#C8D4E3"
             },
             "line": {
              "color": "white"
             }
            },
            "type": "table"
           }
          ]
         },
         "layout": {
          "annotationdefaults": {
           "arrowcolor": "#2a3f5f",
           "arrowhead": 0,
           "arrowwidth": 1
          },
          "autotypenumbers": "strict",
          "coloraxis": {
           "colorbar": {
            "outlinewidth": 0,
            "ticks": ""
           }
          },
          "colorscale": {
           "diverging": [
            [
             0,
             "#8e0152"
            ],
            [
             0.1,
             "#c51b7d"
            ],
            [
             0.2,
             "#de77ae"
            ],
            [
             0.3,
             "#f1b6da"
            ],
            [
             0.4,
             "#fde0ef"
            ],
            [
             0.5,
             "#f7f7f7"
            ],
            [
             0.6,
             "#e6f5d0"
            ],
            [
             0.7,
             "#b8e186"
            ],
            [
             0.8,
             "#7fbc41"
            ],
            [
             0.9,
             "#4d9221"
            ],
            [
             1,
             "#276419"
            ]
           ],
           "sequential": [
            [
             0,
             "#0d0887"
            ],
            [
             0.1111111111111111,
             "#46039f"
            ],
            [
             0.2222222222222222,
             "#7201a8"
            ],
            [
             0.3333333333333333,
             "#9c179e"
            ],
            [
             0.4444444444444444,
             "#bd3786"
            ],
            [
             0.5555555555555556,
             "#d8576b"
            ],
            [
             0.6666666666666666,
             "#ed7953"
            ],
            [
             0.7777777777777778,
             "#fb9f3a"
            ],
            [
             0.8888888888888888,
             "#fdca26"
            ],
            [
             1,
             "#f0f921"
            ]
           ],
           "sequentialminus": [
            [
             0,
             "#0d0887"
            ],
            [
             0.1111111111111111,
             "#46039f"
            ],
            [
             0.2222222222222222,
             "#7201a8"
            ],
            [
             0.3333333333333333,
             "#9c179e"
            ],
            [
             0.4444444444444444,
             "#bd3786"
            ],
            [
             0.5555555555555556,
             "#d8576b"
            ],
            [
             0.6666666666666666,
             "#ed7953"
            ],
            [
             0.7777777777777778,
             "#fb9f3a"
            ],
            [
             0.8888888888888888,
             "#fdca26"
            ],
            [
             1,
             "#f0f921"
            ]
           ]
          },
          "colorway": [
           "#636efa",
           "#EF553B",
           "#00cc96",
           "#ab63fa",
           "#FFA15A",
           "#19d3f3",
           "#FF6692",
           "#B6E880",
           "#FF97FF",
           "#FECB52"
          ],
          "font": {
           "color": "#2a3f5f"
          },
          "geo": {
           "bgcolor": "white",
           "lakecolor": "white",
           "landcolor": "#E5ECF6",
           "showlakes": true,
           "showland": true,
           "subunitcolor": "white"
          },
          "hoverlabel": {
           "align": "left"
          },
          "hovermode": "closest",
          "mapbox": {
           "style": "light"
          },
          "paper_bgcolor": "white",
          "plot_bgcolor": "#E5ECF6",
          "polar": {
           "angularaxis": {
            "gridcolor": "white",
            "linecolor": "white",
            "ticks": ""
           },
           "bgcolor": "#E5ECF6",
           "radialaxis": {
            "gridcolor": "white",
            "linecolor": "white",
            "ticks": ""
           }
          },
          "scene": {
           "xaxis": {
            "backgroundcolor": "#E5ECF6",
            "gridcolor": "white",
            "gridwidth": 2,
            "linecolor": "white",
            "showbackground": true,
            "ticks": "",
            "zerolinecolor": "white"
           },
           "yaxis": {
            "backgroundcolor": "#E5ECF6",
            "gridcolor": "white",
            "gridwidth": 2,
            "linecolor": "white",
            "showbackground": true,
            "ticks": "",
            "zerolinecolor": "white"
           },
           "zaxis": {
            "backgroundcolor": "#E5ECF6",
            "gridcolor": "white",
            "gridwidth": 2,
            "linecolor": "white",
            "showbackground": true,
            "ticks": "",
            "zerolinecolor": "white"
           }
          },
          "shapedefaults": {
           "line": {
            "color": "#2a3f5f"
           }
          },
          "ternary": {
           "aaxis": {
            "gridcolor": "white",
            "linecolor": "white",
            "ticks": ""
           },
           "baxis": {
            "gridcolor": "white",
            "linecolor": "white",
            "ticks": ""
           },
           "bgcolor": "#E5ECF6",
           "caxis": {
            "gridcolor": "white",
            "linecolor": "white",
            "ticks": ""
           }
          },
          "title": {
           "x": 0.05
          },
          "xaxis": {
           "automargin": true,
           "gridcolor": "white",
           "linecolor": "white",
           "ticks": "",
           "title": {
            "standoff": 15
           },
           "zerolinecolor": "white",
           "zerolinewidth": 2
          },
          "yaxis": {
           "automargin": true,
           "gridcolor": "white",
           "linecolor": "white",
           "ticks": "",
           "title": {
            "standoff": 15
           },
           "zerolinecolor": "white",
           "zerolinewidth": 2
          }
         }
        },
        "title": {
         "text": "Process variable evolution for selected runs"
        },
        "xaxis": {
         "anchor": "y",
         "domain": [
          0,
          0.16799999999999998
         ]
        },
        "xaxis10": {
         "anchor": "y10",
         "domain": [
          0.832,
          1
         ]
        },
        "xaxis2": {
         "anchor": "y2",
         "domain": [
          0.208,
          0.376
         ]
        },
        "xaxis3": {
         "anchor": "y3",
         "domain": [
          0.416,
          0.584
         ]
        },
        "xaxis4": {
         "anchor": "y4",
         "domain": [
          0.624,
          0.792
         ]
        },
        "xaxis5": {
         "anchor": "y5",
         "domain": [
          0.832,
          1
         ]
        },
        "xaxis6": {
         "anchor": "y6",
         "domain": [
          0,
          0.16799999999999998
         ]
        },
        "xaxis7": {
         "anchor": "y7",
         "domain": [
          0.208,
          0.376
         ]
        },
        "xaxis8": {
         "anchor": "y8",
         "domain": [
          0.416,
          0.584
         ]
        },
        "xaxis9": {
         "anchor": "y9",
         "domain": [
          0.624,
          0.792
         ]
        },
        "yaxis": {
         "anchor": "x",
         "domain": [
          0.625,
          1
         ]
        },
        "yaxis10": {
         "anchor": "x10",
         "domain": [
          0,
          0.375
         ]
        },
        "yaxis2": {
         "anchor": "x2",
         "domain": [
          0.625,
          1
         ]
        },
        "yaxis3": {
         "anchor": "x3",
         "domain": [
          0.625,
          1
         ]
        },
        "yaxis4": {
         "anchor": "x4",
         "domain": [
          0.625,
          1
         ]
        },
        "yaxis5": {
         "anchor": "x5",
         "domain": [
          0.625,
          1
         ]
        },
        "yaxis6": {
         "anchor": "x6",
         "domain": [
          0,
          0.375
         ]
        },
        "yaxis7": {
         "anchor": "x7",
         "domain": [
          0,
          0.375
         ]
        },
        "yaxis8": {
         "anchor": "x8",
         "domain": [
          0,
          0.375
         ]
        },
        "yaxis9": {
         "anchor": "x9",
         "domain": [
          0,
          0.375
         ]
        }
       }
      }
     },
     "metadata": {},
     "output_type": "display_data"
    }
   ],
   "source": [
    "plot_owu_data(owu, select_runs=owu.index.get_level_values('run').unique().to_list()[:2])"
   ]
  },
  {
   "cell_type": "code",
   "execution_count": 43,
   "metadata": {},
   "outputs": [],
   "source": [
    "def plot_owu_data_color(owu_df, doe_df, highlight_run=0, select_color=\"run id\"):\n",
    "\n",
    "    def get_color(colorscale_name, loc):\n",
    "        from _plotly_utils.basevalidators import ColorscaleValidator\n",
    "\n",
    "        # first parameter: Name of the property being validated\n",
    "        # second parameter: a string, doesn't really matter in our use case\n",
    "        cv = ColorscaleValidator(\"colorscale\", \"\")\n",
    "        # colorscale will be a list of lists: [[loc1, \"rgb1\"], [loc2, \"rgb2\"], ...]\n",
    "        colorscale = cv.validate_coerce(colorscale_name)\n",
    "\n",
    "        if hasattr(loc, \"__iter__\"):\n",
    "            return [get_continuous_color(colorscale, x) for x in loc]\n",
    "        return get_continuous_color(colorscale, loc)\n",
    "\n",
    "    def get_continuous_color(colorscale, intermed):\n",
    "        import plotly.colors\n",
    "        from PIL import ImageColor\n",
    "\n",
    "        \"\"\"\n",
    "        Plotly continuous colorscales assign colors to the range [0, 1]. This function computes the intermediate\n",
    "        color for any value in that range.\n",
    "        \"\"\"\n",
    "        if len(colorscale) < 1:\n",
    "            raise ValueError(\"colorscale must have at least one color\")\n",
    "\n",
    "        hex_to_rgb = lambda c: \"rgb\" + str(ImageColor.getcolor(c, \"RGB\"))\n",
    "\n",
    "        if intermed <= 0 or len(colorscale) == 1:\n",
    "            c = colorscale[0][1]\n",
    "            return c if c[0] != \"#\" else hex_to_rgb(c)\n",
    "        if intermed >= 1:\n",
    "            c = colorscale[-1][1]\n",
    "            return c if c[0] != \"#\" else hex_to_rgb(c)\n",
    "\n",
    "        for cutoff, color in colorscale:\n",
    "            if intermed > cutoff:\n",
    "                low_cutoff, low_color = cutoff, color\n",
    "            else:\n",
    "                high_cutoff, high_color = cutoff, color\n",
    "                break\n",
    "\n",
    "        if (low_color[0] == \"#\") or (high_color[0] == \"#\"):\n",
    "            # some color scale names (such as cividis) returns:\n",
    "            # [[loc1, \"hex1\"], [loc2, \"hex2\"], ...]\n",
    "            low_color = hex_to_rgb(low_color)\n",
    "            high_color = hex_to_rgb(high_color)\n",
    "\n",
    "        return plotly.colors.find_intermediate_color(\n",
    "            lowcolor=low_color,\n",
    "            highcolor=high_color,\n",
    "            intermed=((intermed - low_cutoff) / (high_cutoff - low_cutoff)),\n",
    "            colortype=\"rgb\",\n",
    "        )\n",
    "\n",
    "    if select_color == \"run id\":\n",
    "        color_idx = np.repeat(np.array(list(range(len(doe_df)))), 15)\n",
    "    if select_color == \"titer_14\":\n",
    "        color_idx = np.repeat(np.array(owu_df[\"X:Titer\"][:, 14]), 15)\n",
    "    if select_color in doe_df.columns:\n",
    "        color_idx = np.repeat(np.array(doe_df[select_color]), 15)\n",
    "    owu_df[\"color\"] = color_idx\n",
    "\n",
    "    owu_columns = owu_df.columns[1:-1]\n",
    "    fig = make_subplots(rows=1, cols=5, subplot_titles=owu_columns)\n",
    "\n",
    "    for i, c in enumerate(owu_columns):\n",
    "        fig.add_trace(\n",
    "            go.Scatter(\n",
    "                x=list(range(15)),\n",
    "                y=owu_df[c],\n",
    "                mode=\"markers\",\n",
    "                marker=dict(\n",
    "                    size=0,\n",
    "                    color=\"rgba(0,0,0,0)\",\n",
    "                    colorscale=\"Portland\",\n",
    "                    cmin=min(color_idx),\n",
    "                    cmax=max(color_idx),\n",
    "                    colorbar=dict(thickness=40, title=str(select_color)),\n",
    "                ),\n",
    "                showlegend=False,\n",
    "            ),\n",
    "            row=1,\n",
    "            col=i + 1,\n",
    "        )\n",
    "        for color_val in np.unique(color_idx):\n",
    "            color_val_norm = (color_val - min(color_idx)) / (\n",
    "                max(color_idx) - min(color_idx)\n",
    "            )\n",
    "            owu_subset = owu_df[owu_df[\"color\"] == color_val]\n",
    "            fig.add_trace(\n",
    "                go.Scatter(\n",
    "                    x=owu_subset.index.get_level_values(1),\n",
    "                    y=owu_subset[c],\n",
    "                    mode=\"lines+markers\",\n",
    "                    name=\"Run id = \"\n",
    "                    + str(owu_df.index.get_level_values(0)[color_val == color_idx][0]),\n",
    "                    marker=dict(color=get_color(\"Portland\", color_val_norm)),\n",
    "                ),\n",
    "                row=1,\n",
    "                col=i + 1,\n",
    "            )\n",
    "\n",
    "    highlight_run_ix = owu_df.index.get_level_values(\"run\") == highlight_run\n",
    "    if highlight_run > len(doe_df):\n",
    "        print(\"\\n Highlighted run is higher than number of performed experiments \\n\")\n",
    "    for i, c in enumerate(owu_columns):\n",
    "        fig.add_trace(\n",
    "            go.Scatter(\n",
    "                x=list(range(15)),\n",
    "                y=owu_df[c].values[highlight_run_ix],\n",
    "                name=\"Run = \" + str(highlight_run),\n",
    "                marker=dict(color=\"black\", size=10),\n",
    "            ),\n",
    "            row=1,\n",
    "            col=i + 1,\n",
    "        )\n",
    "    fig.update_layout(\n",
    "        showlegend=False,\n",
    "        title_text=f\"Process variable evolution for selected runs and values colored by {select_color}\",\n",
    "        # width=1600,\n",
    "    )\n",
    "    fig.show()"
   ]
  },
  {
   "cell_type": "code",
   "execution_count": null,
   "metadata": {},
   "outputs": [],
   "source": [
    "process.plot_data_color, highlight_run=HIGHLIGHT_RUN, select_color=SELECT_COLOR,owu_df=fixed(owu_df), doe_df=fixed(doe_df))"
   ]
  }
 ],
 "metadata": {
  "kernelspec": {
   "display_name": "dl",
   "language": "python",
   "name": "python3"
  },
  "language_info": {
   "codemirror_mode": {
    "name": "ipython",
    "version": 3
   },
   "file_extension": ".py",
   "mimetype": "text/x-python",
   "name": "python",
   "nbconvert_exporter": "python",
   "pygments_lexer": "ipython3",
   "version": "3.11.8"
  }
 },
 "nbformat": 4,
 "nbformat_minor": 2
}
