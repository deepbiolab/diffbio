{
 "cells": [
  {
   "cell_type": "code",
   "execution_count": 199,
   "metadata": {},
   "outputs": [],
   "source": [
    "import pandas as pd\n",
    "import numpy as np\n",
    "from sklearn.pipeline import Pipeline\n",
    "from sklearn.cross_decomposition import PLSRegression\n",
    "from sklearn.preprocessing import StandardScaler, PolynomialFeatures\n",
    "from sklearn.metrics import root_mean_squared_error, r2_score\n",
    "from sklearn.model_selection import validation_curve\n",
    "import plotly.io as pio\n",
    "import plotly.express as px\n",
    "import plotly.graph_objects as go\n",
    "from plotly.subplots import make_subplots\n",
    "\n",
    "pio.templates.default = \"plotly_white\"\n",
    "pcolors = px.colors.qualitative.T10\n",
    "pcolors25 = px.colors.qualitative.Alphabet"
   ]
  },
  {
   "cell_type": "code",
   "execution_count": 200,
   "metadata": {},
   "outputs": [],
   "source": [
    "def generate_bwu(owu):\n",
    "    owu = owu.drop([\"timesteps\"], axis=1)\n",
    "    # Input: multiindex OWU\n",
    "    # Output: singleindex BWU\n",
    "    for run_ix, run in owu.groupby(\"run\"):\n",
    "        if run_ix == owu.index.get_level_values('run')[0]:\n",
    "            bwuindex = run.unstack(level=1)\n",
    "        else:\n",
    "            bwuindex = pd.concat([bwuindex, run.unstack(level=1)])\n",
    "    bwu_columns = [str(bwuindex.columns.get_level_values(0)[i])+str(\":\")+str(bwuindex.columns.get_level_values(1)[i]) \n",
    "                   for i in range(len(bwuindex.columns.get_level_values(0)))]\n",
    "    bwu = pd.DataFrame(bwuindex.to_numpy(), columns=bwu_columns)\n",
    "    \n",
    "    return bwu\n",
    "\n",
    "\n",
    "def generate_y(bwu, return_aggr=False):\n",
    "    # Input: singleindex BWU\n",
    "    # Output: singleindex BWU having only target\n",
    "    titer_column = [c for c in bwu.columns if c.startswith(\"X:Titer\")]\n",
    "    targets = pd.DataFrame(columns=[\"Y:Titer\", \"Y:Aggr\"], index=bwu.index)\n",
    "\n",
    "    # iterate through experiments\n",
    "    for j in list(bwu.index):\n",
    "        x_titer = bwu.loc[j, titer_column]\n",
    "        x_prod = [0]\n",
    "        x_aggr = [0]\n",
    "        k_aggr = 10**-7\n",
    "        for i in range(len(x_titer)):\n",
    "            if i == 0:\n",
    "                continue\n",
    "            xt_titer = x_titer.iloc[i]\n",
    "            dt_titer = x_titer.iloc[i] - x_titer.iloc[i - 1]\n",
    "            x_prod.append(xt_titer)\n",
    "            x_aggr.append(k_aggr * (xt_titer**2))\n",
    "\n",
    "            dt_aggr = x_aggr[i] - x_aggr[i - 1]\n",
    "            dt_prod = dt_titer - 2 * dt_aggr\n",
    "            dt_aggr = k_aggr * (x_prod[i - 1] + dt_prod) ** 2\n",
    "\n",
    "            x_aggr[i] = x_aggr[i - 1] + dt_aggr\n",
    "            x_prod[i] = x_prod[i - 1] + dt_prod\n",
    "        y_prod = x_prod[-1]\n",
    "        y_aggr = x_aggr[-1]\n",
    "\n",
    "        targets.loc[j, \"Y:Titer\"] = y_prod\n",
    "        targets.loc[j, \"Y:Aggr\"] = y_aggr\n",
    "    if return_aggr:\n",
    "        target = targets[\"Y:Aggr\"]\n",
    "    else:\n",
    "        target = targets[\"Y:Titer\"]\n",
    "\n",
    "    return pd.DataFrame(target)"
   ]
  },
  {
   "cell_type": "code",
   "execution_count": 201,
   "metadata": {},
   "outputs": [],
   "source": [
    "def vip(X, model):\n",
    "    # Score matrix T (latent variables), corresponding to T in the formula\n",
    "    t = model.x_scores_\n",
    "\n",
    "    # Weight matrix W, corresponding to W in the formula\n",
    "    w = model.x_weights_\n",
    "\n",
    "    # Loadings matrix Q, corresponding to c in the formula (sometimes Q is used for loadings in PLS models)\n",
    "    q = model.y_loadings_\n",
    "\n",
    "    # Number of samples (m) and number of variables (p), corresponding to the shape of X\n",
    "    m, p = X.shape\n",
    "\n",
    "    # Number of latent variables (h), corresponding to the shape of T\n",
    "    _, h = t.shape\n",
    "\n",
    "    # Initialize VIP scores array\n",
    "    vips = np.zeros((p,))\n",
    "\n",
    "    # Calculate SS(c_i t_i), the s in the formula, representing the sum of squares for the i-th latent variable\n",
    "    # Here, t.T @ t is T^t * T, q.T @ q is c^t * c\n",
    "    s = np.diag(t.T @ t @ q.T @ q).reshape(h, -1)\n",
    "\n",
    "    # Calculate the total sum of SS(c_i t_i)\n",
    "    total_s = np.sum(s)\n",
    "\n",
    "    # Calculate the VIP score for each variable\n",
    "    for i in range(p):\n",
    "        # Calculate (w_ij / ||w_i||)^2 for each latent variable j\n",
    "        # w[:,j] is the j-th column of weights, representing the weights for the j-th latent variable\n",
    "        weight = np.array([(w[i, j] / np.linalg.norm(w[:, j])) ** 2 for j in range(h)])\n",
    "\n",
    "        # Calculate the VIP score using the formula:\n",
    "        # VIP_j = (k * ∑(SS(c_i t_i) * (w_ij / ||w_i||)^2) / ∑(SS(c_i t_i)))^(1/2)\n",
    "        # Where k = p (number of variables)\n",
    "        vips[i] = np.sqrt(p * np.sum(s.T @ weight) / total_s)\n",
    "\n",
    "    return vips"
   ]
  },
  {
   "cell_type": "code",
   "execution_count": 202,
   "metadata": {},
   "outputs": [],
   "source": [
    "def r2(y, y_pred):\n",
    "    return round(r2_score(y, y_pred), 3)\n",
    "\n",
    "\n",
    "def absolute_rmse(y, y_pred):\n",
    "    return round(root_mean_squared_error(y, y_pred), 3)\n",
    "\n",
    "\n",
    "def relative_rmse(y, y_pred):\n",
    "    return round(root_mean_squared_error(y, y_pred) / np.std(np.array(y)), 3)"
   ]
  },
  {
   "cell_type": "markdown",
   "metadata": {},
   "source": [
    "# Dataset"
   ]
  },
  {
   "cell_type": "code",
   "execution_count": 203,
   "metadata": {},
   "outputs": [],
   "source": [
    "def read_owu_v4(file, root_path = 'dataset/datahow_2022/extrapolation/'):\n",
    "    data = pd.read_csv(f'{root_path}/{file}.csv')\n",
    "    owu_df = data.copy()\n",
    "    num_runs = len(pd.read_csv(f'{root_path}/{file}_doe.csv'))\n",
    "    owu_df.index = pd.MultiIndex.from_product(\n",
    "        [list(range(num_runs)), list(range(15))], names=[\"run\", \"time\"]\n",
    "    )\n",
    "    return owu_df\n",
    "\n",
    "def read_doe(file, root_path= 'dataset/datahow_2022/extrapolation/'):\n",
    "    data = pd.read_csv(f'{root_path}/{file}.csv', usecols=[\"feed_start\", \"feed_end\", \"Glc_feed_rate\", \"Glc_0\", \"VCD_0\"])\n",
    "    doe_df = data.copy()\n",
    "    return doe_df"
   ]
  },
  {
   "cell_type": "code",
   "execution_count": 204,
   "metadata": {},
   "outputs": [],
   "source": [
    "owu = read_owu_v4('owu')\n",
    "doe = read_doe('owu_doe')\n",
    "bwu = generate_bwu(owu)\n",
    "tar = generate_y(bwu, return_aggr=False)\n",
    "\n",
    "owu_test = read_owu_v4('owu_test')\n",
    "doe_test = read_doe('owu_test_doe')\n",
    "bwu_test = generate_bwu(owu_test)\n",
    "tar_test = generate_y(bwu_test, return_aggr=False)"
   ]
  },
  {
   "cell_type": "markdown",
   "metadata": {},
   "source": [
    "# Data-Driven Models for CQAs\n",
    "\n",
    "- Aim of predicting the final titer\n",
    "\n",
    "<details>\n",
    "<summary>\n",
    "<font size=\"3\" color=\"black\">\n",
    "<b>PLS Introduction ⏏︎Click to open</b>\n",
    "</font>\n",
    "</summary>\n",
    "\n",
    "<img src=\"assets/pls_explain.png\" alt=\"Variables Type\" width=\"1000\">\n",
    "\n",
    "\n",
    "\n",
    "PLS 模型允许我们使用更多的变量/列而不会导致模型过度拟合。\n",
    "\n",
    "在只有一个响应变量 $ y $ 和 $ k $ 个预测变量的情况下，具有 $ h $ 个潜变量的 PLS 回归模型表达如下：\n",
    "\n",
    "$$ X = T W^t + E$$\n",
    "\n",
    "$$ y = U c^t + f $$\n",
    "\n",
    "### Model Explain\n",
    "\n",
    "- **X**：原始预测变量矩阵。\n",
    "- **T**：得分矩阵（潜变量矩阵）。\n",
    "- **W**：权重矩阵。\n",
    "- **E**：误差矩阵。\n",
    "- **y**：响应变量。\n",
    "- **U**：响应变量的得分矩阵。\n",
    "- **c**：回归系数向量。\n",
    "- **f**：响应变量的误差向量。\n",
    "\n",
    "PLS 模型通过找到一组新的潜变量（得分矩阵 $ T $ 和 $ U $）来解释原始变量和响应变量之间的关系，从而减少数据的维度并避免多重共线性的问题。\n",
    "\n",
    "### VIP Scores\n",
    "\n",
    "VIP 分数是用于衡量变量在模型中重要性的指标。对于第 $ j $ 个变量，VIP 分数计算公式如下：\n",
    "\n",
    "$$ VIP_j = \\left( k \\sum_{i=1}^h \\left(SS(c_i t_i) \\left(\\frac{w_{ij}}{||w_i||}\\right)^2\\right) / \\sum_{k=1}^h (c_i t_i) \\right)^{1/2} $$\n",
    "\n",
    "- **VIP_j**：第 $ j $ 个变量的 VIP 分数。\n",
    "- **k**：总的预测变量数。\n",
    "- **h**：潜变量的数量。\n",
    "- **SS(c_i t_i)**：第 $ i $ 个潜变量的平方和。\n",
    "- **w_{ij}**：第 $ j $ 个变量在第 $ i $ 个潜变量中的权重。\n",
    "- **||w_i||**：第 $ i $ 个潜变量权重的范数。\n",
    "\n",
    "### VIP Usuage\n",
    "\n",
    "- VIP 分数的平方平均值等于 1，因此“一大于一规则”通常用作变量选择的标准。即，VIP 分数大于 1 的变量被认为对模型重要，可以优先保留。\n",
    "\n",
    "### Summary\n",
    "- PLS 模型通过引入潜变量减少维度，并避免多重共线性的问题，使得我们可以使用更多的变量而不会导致模型过度拟合。\n",
    "- VIP 分数则帮助我们评估每个变量在模型中的重要性，提供了一个有效的变量选择标准。\n",
    "\n",
    "</details>"
   ]
  },
  {
   "cell_type": "markdown",
   "metadata": {},
   "source": [
    "## BB-PLS1\n",
    "- Black Box - Partial Least Square Model (PLS1)\n",
    "- Training: $[Z, X(t = 0)] \\rightarrow PLS1 \\rightarrow Y_{Final}$\n",
    "\n",
    "* Input matrix: \"doe\". This corresponds to the values of the manipulated process parameters for each experiment.\n",
    "* Output target: \"tar\". This corresponds to the final value of titer at the end of each experiment. (or aggregates)\n",
    "* Select the number of latent variables for the model (the maximum number of latent variables is 5, equal to the number of variables in the input matrix)."
   ]
  },
  {
   "cell_type": "code",
   "execution_count": 205,
   "metadata": {},
   "outputs": [],
   "source": [
    "def fit_pls_model(\n",
    "    X, y, latent_variables=5, polynomial_degree=1, interactions_only=False\n",
    "):\n",
    "    # Define pipeline\n",
    "    include_bias = False\n",
    "    if polynomial_degree == 0:\n",
    "        print(\"Constant model for pls is not allowed!\")\n",
    "        latent_variables = 1\n",
    "        include_bias = True\n",
    "    if polynomial_degree == 1:\n",
    "        latent_variables = min(latent_variables, 5)\n",
    "    poly_features = PolynomialFeatures(\n",
    "        degree=polynomial_degree,\n",
    "        interaction_only=interactions_only,\n",
    "        include_bias=include_bias,\n",
    "    )\n",
    "\n",
    "    # Normlization data\n",
    "    standard_scaler = StandardScaler(with_mean=True, with_std=True)\n",
    "\n",
    "    pls_model = PLSRegression(n_components=latent_variables, scale=True)\n",
    "    pipe = Pipeline(\n",
    "        [(\"features\", poly_features), (\"scaler\", standard_scaler), (\"model\", pls_model)]\n",
    "    )\n",
    "\n",
    "    # Fit PLS model\n",
    "    pipe.fit(X, y)\n",
    "    return pipe\n",
    "\n",
    "\n",
    "def plot_pls_model_coef(X, pls_pipeline):\n",
    "    X_columns = pls_pipeline[\"features\"].get_feature_names_out()\n",
    "    X_preproc = pd.DataFrame(\n",
    "        pls_pipeline[\"scaler\"].transform(pls_pipeline[\"features\"].transform(X)),\n",
    "        columns=X_columns,\n",
    "    )\n",
    "\n",
    "    pls_vip = vip(X=X_preproc, model=pls_pipeline[\"model\"])\n",
    "\n",
    "    # Plot Model Inference\n",
    "    fig = px.bar(\n",
    "        x=list(X_columns),\n",
    "        y=pls_vip.reshape(-1),\n",
    "        title=\"VIP scores of PLS model\",\n",
    "        labels={\"x\": \"Variables\", \"y\": \"Estimated VIP\", \"color\": \"p-value\"},\n",
    "    )\n",
    "    fig.add_hline(y=1)\n",
    "    fig.add_hline(y=0.8, line=dict(color=\"gray\"))\n",
    "    fig.update_layout(width=1600)\n",
    "    fig.show()\n",
    "    \n",
    "\n",
    "def plot_pls_model_eval(\n",
    "    y,\n",
    "    y_pred,\n",
    "    y_test,\n",
    "    y_test_pred,\n",
    "):\n",
    "    # Metrics for training set\n",
    "    train_r2 = r2(y, y_pred)\n",
    "    train_abs_rmse = absolute_rmse(y, y_pred)\n",
    "    train_rel_rmse = relative_rmse(y, y_pred)\n",
    "\n",
    "    # Metrics for testing set\n",
    "    test_r2 = r2(y_test, y_test_pred)\n",
    "    test_abs_rmse = absolute_rmse(y_test, y_test_pred)\n",
    "    test_rel_rmse = relative_rmse(y_test, y_test_pred)\n",
    "\n",
    "    # Plot observed vs predicted\n",
    "    fig = make_subplots(\n",
    "        rows=1,\n",
    "        cols=2,\n",
    "        subplot_titles=(\n",
    "            f\"Train Set <br> R^2 = {train_r2} <br> Abs RMSE = {train_abs_rmse} <br> Rel RMSE = {train_rel_rmse}\",\n",
    "            f\"Test Set <br> R^2 = {test_r2} <br> Abs RMSE = {test_abs_rmse} <br> Rel RMSE = {test_rel_rmse}\",\n",
    "        ),\n",
    "    )\n",
    "    # Train set plot\n",
    "    fig.add_trace(\n",
    "        go.Scatter(x=y.values.reshape(-1), y=y_pred.reshape(-1), mode=\"markers\"),\n",
    "        row=1,\n",
    "        col=1,\n",
    "    )\n",
    "    fig.add_shape(\n",
    "        type=\"line\",\n",
    "        x0=min(y_pred)[0],\n",
    "        y0=min(y_pred)[0],\n",
    "        x1=max(y_pred)[0],\n",
    "        y1=max(y_pred)[0],\n",
    "        layer=\"below\",\n",
    "        line=dict(dash=\"dash\"),\n",
    "    )\n",
    "    # Test set plot\n",
    "    fig.add_trace(\n",
    "        go.Scatter(\n",
    "            x=y_test.values.reshape(-1), y=y_test_pred.reshape(-1), mode=\"markers\"\n",
    "        ),\n",
    "        row=1,\n",
    "        col=2,\n",
    "    )\n",
    "    fig.add_shape(\n",
    "        type=\"line\",\n",
    "        x0=min(y_test_pred)[0],\n",
    "        y0=min(y_test_pred)[0],\n",
    "        x1=max(y_test_pred)[0],\n",
    "        y1=max(y_test_pred)[0],\n",
    "        layer=\"below\",\n",
    "        line=dict(dash=\"dash\"),\n",
    "        row=1,\n",
    "        col=2,\n",
    "    )\n",
    "\n",
    "    fig.update_layout(width=1600)\n",
    "    fig.update_xaxes(title=\"Observed values\", row=1, col=1)\n",
    "    fig.update_xaxes(title=\"Observed values\", row=1, col=2)\n",
    "    fig.update_yaxes(title=\"Predicted values\", row=1, col=1)\n",
    "    fig.update_yaxes(title=\"Predicted values\", row=1, col=2)\n",
    "    fig.show()\n",
    "\n",
    "\n",
    "def plot_pls_scores(pls_pipe, pc_x_axis=1, pc_y_axis=2):\n",
    "    X_columns = pls_pipe[\"features\"].get_feature_names_out()\n",
    "    model = pls_pipe[\"model\"]\n",
    "    fig = make_subplots(\n",
    "        rows=2,\n",
    "        cols=2,\n",
    "        specs=[[{\"colspan\": 2}, None], [{}, {}]],\n",
    "        subplot_titles=(\n",
    "            \"Scores Plot \",\n",
    "            \"Loadings of Principal Component - \" + str(pc_x_axis),\n",
    "            \"Loadings of Principal Component - \" + str(pc_y_axis),\n",
    "        ),\n",
    "    )\n",
    "    fig.add_trace(\n",
    "        go.Scatter(\n",
    "            x=model.x_scores_[:, pc_x_axis],\n",
    "            y=model.x_scores_[:, pc_y_axis],\n",
    "            mode=\"markers\",\n",
    "            name=\"Scores\",\n",
    "        ),\n",
    "        row=1,\n",
    "        col=1,\n",
    "    )\n",
    "    fig.add_bar(\n",
    "        x=X_columns,\n",
    "        y=model.x_loadings_[:, pc_x_axis - 1],\n",
    "        name=\"Loadings PC - \" + str(pc_x_axis),\n",
    "        row=2,\n",
    "        col=[1, 2],\n",
    "    )\n",
    "    fig.add_bar(\n",
    "        x=X_columns,\n",
    "        y=model.x_loadings_[:, pc_y_axis - 1],\n",
    "        name=\"Loadings PC - \" + str(pc_y_axis),\n",
    "        row=2,\n",
    "        col=2,\n",
    "    )\n",
    "    fig.update_layout(height=1000)\n",
    "    fig.show()\n",
    "\n",
    "\n",
    "def pls_cross_validation(X, y, pls_pipeline):\n",
    "    X_columns = pls_pipeline[\"features\"].get_feature_names_out()\n",
    "    X_preproc = pd.DataFrame(\n",
    "        pls_pipeline[\"scaler\"].transform(pls_pipeline[\"features\"].transform(X)),\n",
    "        columns=X_columns,\n",
    "    )\n",
    "    range_LV = range(1, X_preproc.shape[1] + 1)\n",
    "    train_eval, valid_eval = validation_curve(\n",
    "        pls_pipeline,\n",
    "        X,\n",
    "        y,\n",
    "        param_name=\"model__n_components\",\n",
    "        param_range=list(range_LV),\n",
    "        scoring=\"neg_root_mean_squared_error\",\n",
    "    )\n",
    "    return train_eval, valid_eval, range_LV\n",
    "\n",
    "\n",
    "def plot_pls_cross_validation(train_eval, valid_eval, range_LV=None):\n",
    "    train_score = -np.mean(train_eval, axis=1)\n",
    "    valid_score = -np.mean(valid_eval, axis=1)\n",
    "    train_std = np.std(train_eval, axis=1)\n",
    "    valid_std = np.std(valid_eval, axis=1)\n",
    "    fig = go.Figure()\n",
    "    fig.add_trace(\n",
    "        go.Scatter(\n",
    "            x=list(range_LV),\n",
    "            y=train_score,\n",
    "            error_y=dict(type=\"data\", array=train_std, visible=True),\n",
    "            name=\"Training\",\n",
    "        )\n",
    "    )\n",
    "    fig.add_trace(\n",
    "        go.Scatter(\n",
    "            x=list(range_LV),\n",
    "            y=valid_score,\n",
    "            error_y=dict(type=\"data\", array=valid_std, visible=True),\n",
    "            name=\"Validation\",\n",
    "        )\n",
    "    )\n",
    "    fig.update_layout(\n",
    "        title=\"Hyperparameter Optimization in PLS\",\n",
    "        xaxis_title=\"Number of Latent Variables\",\n",
    "        yaxis_title=\"Abs RMSE\",\n",
    "        legend_title=\"Evaluation type\",\n",
    "    )\n",
    "    fig.show();"
   ]
  },
  {
   "cell_type": "markdown",
   "metadata": {},
   "source": [
    "### Setting"
   ]
  },
  {
   "cell_type": "code",
   "execution_count": 206,
   "metadata": {},
   "outputs": [],
   "source": [
    "\"\"\" Number of latent Variables \"\"\"\n",
    "LATENT_VARIABLES = 5\n",
    "\"\"\" Ploynomial degree of features \"\"\"\n",
    "POLYNOMIAL_DEGREE_PLS = 1\n",
    "\"\"\" Add only interaction between features\"\"\"\n",
    "INTERACTIONS_ONLY = True"
   ]
  },
  {
   "cell_type": "markdown",
   "metadata": {},
   "source": [
    "### Data"
   ]
  },
  {
   "cell_type": "code",
   "execution_count": 207,
   "metadata": {},
   "outputs": [
    {
     "data": {
      "text/html": [
       "<div>\n",
       "<style scoped>\n",
       "    .dataframe tbody tr th:only-of-type {\n",
       "        vertical-align: middle;\n",
       "    }\n",
       "\n",
       "    .dataframe tbody tr th {\n",
       "        vertical-align: top;\n",
       "    }\n",
       "\n",
       "    .dataframe thead th {\n",
       "        text-align: right;\n",
       "    }\n",
       "</style>\n",
       "<table border=\"1\" class=\"dataframe\">\n",
       "  <thead>\n",
       "    <tr style=\"text-align: right;\">\n",
       "      <th></th>\n",
       "      <th>feed_start</th>\n",
       "      <th>feed_end</th>\n",
       "      <th>Glc_feed_rate</th>\n",
       "      <th>Glc_0</th>\n",
       "      <th>VCD_0</th>\n",
       "      <th>Target</th>\n",
       "    </tr>\n",
       "  </thead>\n",
       "  <tbody>\n",
       "    <tr>\n",
       "      <th>0</th>\n",
       "      <td>1.510204</td>\n",
       "      <td>10.724490</td>\n",
       "      <td>16.632653</td>\n",
       "      <td>34.489796</td>\n",
       "      <td>0.678571</td>\n",
       "      <td>598.214512</td>\n",
       "    </tr>\n",
       "    <tr>\n",
       "      <th>1</th>\n",
       "      <td>2.000000</td>\n",
       "      <td>10.908163</td>\n",
       "      <td>19.081633</td>\n",
       "      <td>32.857143</td>\n",
       "      <td>0.515306</td>\n",
       "      <td>677.286486</td>\n",
       "    </tr>\n",
       "    <tr>\n",
       "      <th>2</th>\n",
       "      <td>2.489796</td>\n",
       "      <td>10.357143</td>\n",
       "      <td>19.693878</td>\n",
       "      <td>40.204082</td>\n",
       "      <td>0.617347</td>\n",
       "      <td>962.435039</td>\n",
       "    </tr>\n",
       "    <tr>\n",
       "      <th>3</th>\n",
       "      <td>1.142857</td>\n",
       "      <td>8.091837</td>\n",
       "      <td>15.408163</td>\n",
       "      <td>66.326531</td>\n",
       "      <td>0.790816</td>\n",
       "      <td>376.471284</td>\n",
       "    </tr>\n",
       "    <tr>\n",
       "      <th>4</th>\n",
       "      <td>2.326531</td>\n",
       "      <td>8.520408</td>\n",
       "      <td>19.897959</td>\n",
       "      <td>54.081633</td>\n",
       "      <td>0.872449</td>\n",
       "      <td>749.036075</td>\n",
       "    </tr>\n",
       "  </tbody>\n",
       "</table>\n",
       "</div>"
      ],
      "text/plain": [
       "   feed_start   feed_end  Glc_feed_rate      Glc_0     VCD_0      Target\n",
       "0    1.510204  10.724490      16.632653  34.489796  0.678571  598.214512\n",
       "1    2.000000  10.908163      19.081633  32.857143  0.515306  677.286486\n",
       "2    2.489796  10.357143      19.693878  40.204082  0.617347  962.435039\n",
       "3    1.142857   8.091837      15.408163  66.326531  0.790816  376.471284\n",
       "4    2.326531   8.520408      19.897959  54.081633  0.872449  749.036075"
      ]
     },
     "execution_count": 207,
     "metadata": {},
     "output_type": "execute_result"
    }
   ],
   "source": [
    "dataset = doe.copy() # inputs\n",
    "dataset[\"Target\"] = tar # outputs\n",
    "dataset.head()"
   ]
  },
  {
   "cell_type": "markdown",
   "metadata": {},
   "source": [
    "### Train"
   ]
  },
  {
   "cell_type": "code",
   "execution_count": 208,
   "metadata": {},
   "outputs": [
    {
     "data": {
      "application/vnd.plotly.v1+json": {
       "config": {
        "plotlyServerURL": "https://plot.ly"
       },
       "data": [
        {
         "alignmentgroup": "True",
         "hovertemplate": "Variables=%{x}<br>Estimated VIP=%{y}<extra></extra>",
         "legendgroup": "",
         "marker": {
          "color": "#636efa",
          "pattern": {
           "shape": ""
          }
         },
         "name": "",
         "offsetgroup": "",
         "orientation": "v",
         "showlegend": false,
         "textposition": "auto",
         "type": "bar",
         "x": [
          "feed_start",
          "feed_end",
          "Glc_feed_rate",
          "Glc_0",
          "VCD_0"
         ],
         "xaxis": "x",
         "y": [
          0.7689565636992683,
          0.852153628152785,
          1.391829385980405,
          1.137418653395128,
          0.6720340500302652
         ],
         "yaxis": "y"
        }
       ],
       "layout": {
        "barmode": "relative",
        "legend": {
         "tracegroupgap": 0
        },
        "shapes": [
         {
          "type": "line",
          "x0": 0,
          "x1": 1,
          "xref": "x domain",
          "y0": 1,
          "y1": 1,
          "yref": "y"
         },
         {
          "line": {
           "color": "gray"
          },
          "type": "line",
          "x0": 0,
          "x1": 1,
          "xref": "x domain",
          "y0": 0.8,
          "y1": 0.8,
          "yref": "y"
         }
        ],
        "template": {
         "data": {
          "bar": [
           {
            "error_x": {
             "color": "#2a3f5f"
            },
            "error_y": {
             "color": "#2a3f5f"
            },
            "marker": {
             "line": {
              "color": "white",
              "width": 0.5
             },
             "pattern": {
              "fillmode": "overlay",
              "size": 10,
              "solidity": 0.2
             }
            },
            "type": "bar"
           }
          ],
          "barpolar": [
           {
            "marker": {
             "line": {
              "color": "white",
              "width": 0.5
             },
             "pattern": {
              "fillmode": "overlay",
              "size": 10,
              "solidity": 0.2
             }
            },
            "type": "barpolar"
           }
          ],
          "carpet": [
           {
            "aaxis": {
             "endlinecolor": "#2a3f5f",
             "gridcolor": "#C8D4E3",
             "linecolor": "#C8D4E3",
             "minorgridcolor": "#C8D4E3",
             "startlinecolor": "#2a3f5f"
            },
            "baxis": {
             "endlinecolor": "#2a3f5f",
             "gridcolor": "#C8D4E3",
             "linecolor": "#C8D4E3",
             "minorgridcolor": "#C8D4E3",
             "startlinecolor": "#2a3f5f"
            },
            "type": "carpet"
           }
          ],
          "choropleth": [
           {
            "colorbar": {
             "outlinewidth": 0,
             "ticks": ""
            },
            "type": "choropleth"
           }
          ],
          "contour": [
           {
            "colorbar": {
             "outlinewidth": 0,
             "ticks": ""
            },
            "colorscale": [
             [
              0,
              "#0d0887"
             ],
             [
              0.1111111111111111,
              "#46039f"
             ],
             [
              0.2222222222222222,
              "#7201a8"
             ],
             [
              0.3333333333333333,
              "#9c179e"
             ],
             [
              0.4444444444444444,
              "#bd3786"
             ],
             [
              0.5555555555555556,
              "#d8576b"
             ],
             [
              0.6666666666666666,
              "#ed7953"
             ],
             [
              0.7777777777777778,
              "#fb9f3a"
             ],
             [
              0.8888888888888888,
              "#fdca26"
             ],
             [
              1,
              "#f0f921"
             ]
            ],
            "type": "contour"
           }
          ],
          "contourcarpet": [
           {
            "colorbar": {
             "outlinewidth": 0,
             "ticks": ""
            },
            "type": "contourcarpet"
           }
          ],
          "heatmap": [
           {
            "colorbar": {
             "outlinewidth": 0,
             "ticks": ""
            },
            "colorscale": [
             [
              0,
              "#0d0887"
             ],
             [
              0.1111111111111111,
              "#46039f"
             ],
             [
              0.2222222222222222,
              "#7201a8"
             ],
             [
              0.3333333333333333,
              "#9c179e"
             ],
             [
              0.4444444444444444,
              "#bd3786"
             ],
             [
              0.5555555555555556,
              "#d8576b"
             ],
             [
              0.6666666666666666,
              "#ed7953"
             ],
             [
              0.7777777777777778,
              "#fb9f3a"
             ],
             [
              0.8888888888888888,
              "#fdca26"
             ],
             [
              1,
              "#f0f921"
             ]
            ],
            "type": "heatmap"
           }
          ],
          "heatmapgl": [
           {
            "colorbar": {
             "outlinewidth": 0,
             "ticks": ""
            },
            "colorscale": [
             [
              0,
              "#0d0887"
             ],
             [
              0.1111111111111111,
              "#46039f"
             ],
             [
              0.2222222222222222,
              "#7201a8"
             ],
             [
              0.3333333333333333,
              "#9c179e"
             ],
             [
              0.4444444444444444,
              "#bd3786"
             ],
             [
              0.5555555555555556,
              "#d8576b"
             ],
             [
              0.6666666666666666,
              "#ed7953"
             ],
             [
              0.7777777777777778,
              "#fb9f3a"
             ],
             [
              0.8888888888888888,
              "#fdca26"
             ],
             [
              1,
              "#f0f921"
             ]
            ],
            "type": "heatmapgl"
           }
          ],
          "histogram": [
           {
            "marker": {
             "pattern": {
              "fillmode": "overlay",
              "size": 10,
              "solidity": 0.2
             }
            },
            "type": "histogram"
           }
          ],
          "histogram2d": [
           {
            "colorbar": {
             "outlinewidth": 0,
             "ticks": ""
            },
            "colorscale": [
             [
              0,
              "#0d0887"
             ],
             [
              0.1111111111111111,
              "#46039f"
             ],
             [
              0.2222222222222222,
              "#7201a8"
             ],
             [
              0.3333333333333333,
              "#9c179e"
             ],
             [
              0.4444444444444444,
              "#bd3786"
             ],
             [
              0.5555555555555556,
              "#d8576b"
             ],
             [
              0.6666666666666666,
              "#ed7953"
             ],
             [
              0.7777777777777778,
              "#fb9f3a"
             ],
             [
              0.8888888888888888,
              "#fdca26"
             ],
             [
              1,
              "#f0f921"
             ]
            ],
            "type": "histogram2d"
           }
          ],
          "histogram2dcontour": [
           {
            "colorbar": {
             "outlinewidth": 0,
             "ticks": ""
            },
            "colorscale": [
             [
              0,
              "#0d0887"
             ],
             [
              0.1111111111111111,
              "#46039f"
             ],
             [
              0.2222222222222222,
              "#7201a8"
             ],
             [
              0.3333333333333333,
              "#9c179e"
             ],
             [
              0.4444444444444444,
              "#bd3786"
             ],
             [
              0.5555555555555556,
              "#d8576b"
             ],
             [
              0.6666666666666666,
              "#ed7953"
             ],
             [
              0.7777777777777778,
              "#fb9f3a"
             ],
             [
              0.8888888888888888,
              "#fdca26"
             ],
             [
              1,
              "#f0f921"
             ]
            ],
            "type": "histogram2dcontour"
           }
          ],
          "mesh3d": [
           {
            "colorbar": {
             "outlinewidth": 0,
             "ticks": ""
            },
            "type": "mesh3d"
           }
          ],
          "parcoords": [
           {
            "line": {
             "colorbar": {
              "outlinewidth": 0,
              "ticks": ""
             }
            },
            "type": "parcoords"
           }
          ],
          "pie": [
           {
            "automargin": true,
            "type": "pie"
           }
          ],
          "scatter": [
           {
            "fillpattern": {
             "fillmode": "overlay",
             "size": 10,
             "solidity": 0.2
            },
            "type": "scatter"
           }
          ],
          "scatter3d": [
           {
            "line": {
             "colorbar": {
              "outlinewidth": 0,
              "ticks": ""
             }
            },
            "marker": {
             "colorbar": {
              "outlinewidth": 0,
              "ticks": ""
             }
            },
            "type": "scatter3d"
           }
          ],
          "scattercarpet": [
           {
            "marker": {
             "colorbar": {
              "outlinewidth": 0,
              "ticks": ""
             }
            },
            "type": "scattercarpet"
           }
          ],
          "scattergeo": [
           {
            "marker": {
             "colorbar": {
              "outlinewidth": 0,
              "ticks": ""
             }
            },
            "type": "scattergeo"
           }
          ],
          "scattergl": [
           {
            "marker": {
             "colorbar": {
              "outlinewidth": 0,
              "ticks": ""
             }
            },
            "type": "scattergl"
           }
          ],
          "scattermapbox": [
           {
            "marker": {
             "colorbar": {
              "outlinewidth": 0,
              "ticks": ""
             }
            },
            "type": "scattermapbox"
           }
          ],
          "scatterpolar": [
           {
            "marker": {
             "colorbar": {
              "outlinewidth": 0,
              "ticks": ""
             }
            },
            "type": "scatterpolar"
           }
          ],
          "scatterpolargl": [
           {
            "marker": {
             "colorbar": {
              "outlinewidth": 0,
              "ticks": ""
             }
            },
            "type": "scatterpolargl"
           }
          ],
          "scatterternary": [
           {
            "marker": {
             "colorbar": {
              "outlinewidth": 0,
              "ticks": ""
             }
            },
            "type": "scatterternary"
           }
          ],
          "surface": [
           {
            "colorbar": {
             "outlinewidth": 0,
             "ticks": ""
            },
            "colorscale": [
             [
              0,
              "#0d0887"
             ],
             [
              0.1111111111111111,
              "#46039f"
             ],
             [
              0.2222222222222222,
              "#7201a8"
             ],
             [
              0.3333333333333333,
              "#9c179e"
             ],
             [
              0.4444444444444444,
              "#bd3786"
             ],
             [
              0.5555555555555556,
              "#d8576b"
             ],
             [
              0.6666666666666666,
              "#ed7953"
             ],
             [
              0.7777777777777778,
              "#fb9f3a"
             ],
             [
              0.8888888888888888,
              "#fdca26"
             ],
             [
              1,
              "#f0f921"
             ]
            ],
            "type": "surface"
           }
          ],
          "table": [
           {
            "cells": {
             "fill": {
              "color": "#EBF0F8"
             },
             "line": {
              "color": "white"
             }
            },
            "header": {
             "fill": {
              "color": "#C8D4E3"
             },
             "line": {
              "color": "white"
             }
            },
            "type": "table"
           }
          ]
         },
         "layout": {
          "annotationdefaults": {
           "arrowcolor": "#2a3f5f",
           "arrowhead": 0,
           "arrowwidth": 1
          },
          "autotypenumbers": "strict",
          "coloraxis": {
           "colorbar": {
            "outlinewidth": 0,
            "ticks": ""
           }
          },
          "colorscale": {
           "diverging": [
            [
             0,
             "#8e0152"
            ],
            [
             0.1,
             "#c51b7d"
            ],
            [
             0.2,
             "#de77ae"
            ],
            [
             0.3,
             "#f1b6da"
            ],
            [
             0.4,
             "#fde0ef"
            ],
            [
             0.5,
             "#f7f7f7"
            ],
            [
             0.6,
             "#e6f5d0"
            ],
            [
             0.7,
             "#b8e186"
            ],
            [
             0.8,
             "#7fbc41"
            ],
            [
             0.9,
             "#4d9221"
            ],
            [
             1,
             "#276419"
            ]
           ],
           "sequential": [
            [
             0,
             "#0d0887"
            ],
            [
             0.1111111111111111,
             "#46039f"
            ],
            [
             0.2222222222222222,
             "#7201a8"
            ],
            [
             0.3333333333333333,
             "#9c179e"
            ],
            [
             0.4444444444444444,
             "#bd3786"
            ],
            [
             0.5555555555555556,
             "#d8576b"
            ],
            [
             0.6666666666666666,
             "#ed7953"
            ],
            [
             0.7777777777777778,
             "#fb9f3a"
            ],
            [
             0.8888888888888888,
             "#fdca26"
            ],
            [
             1,
             "#f0f921"
            ]
           ],
           "sequentialminus": [
            [
             0,
             "#0d0887"
            ],
            [
             0.1111111111111111,
             "#46039f"
            ],
            [
             0.2222222222222222,
             "#7201a8"
            ],
            [
             0.3333333333333333,
             "#9c179e"
            ],
            [
             0.4444444444444444,
             "#bd3786"
            ],
            [
             0.5555555555555556,
             "#d8576b"
            ],
            [
             0.6666666666666666,
             "#ed7953"
            ],
            [
             0.7777777777777778,
             "#fb9f3a"
            ],
            [
             0.8888888888888888,
             "#fdca26"
            ],
            [
             1,
             "#f0f921"
            ]
           ]
          },
          "colorway": [
           "#636efa",
           "#EF553B",
           "#00cc96",
           "#ab63fa",
           "#FFA15A",
           "#19d3f3",
           "#FF6692",
           "#B6E880",
           "#FF97FF",
           "#FECB52"
          ],
          "font": {
           "color": "#2a3f5f"
          },
          "geo": {
           "bgcolor": "white",
           "lakecolor": "white",
           "landcolor": "white",
           "showlakes": true,
           "showland": true,
           "subunitcolor": "#C8D4E3"
          },
          "hoverlabel": {
           "align": "left"
          },
          "hovermode": "closest",
          "mapbox": {
           "style": "light"
          },
          "paper_bgcolor": "white",
          "plot_bgcolor": "white",
          "polar": {
           "angularaxis": {
            "gridcolor": "#EBF0F8",
            "linecolor": "#EBF0F8",
            "ticks": ""
           },
           "bgcolor": "white",
           "radialaxis": {
            "gridcolor": "#EBF0F8",
            "linecolor": "#EBF0F8",
            "ticks": ""
           }
          },
          "scene": {
           "xaxis": {
            "backgroundcolor": "white",
            "gridcolor": "#DFE8F3",
            "gridwidth": 2,
            "linecolor": "#EBF0F8",
            "showbackground": true,
            "ticks": "",
            "zerolinecolor": "#EBF0F8"
           },
           "yaxis": {
            "backgroundcolor": "white",
            "gridcolor": "#DFE8F3",
            "gridwidth": 2,
            "linecolor": "#EBF0F8",
            "showbackground": true,
            "ticks": "",
            "zerolinecolor": "#EBF0F8"
           },
           "zaxis": {
            "backgroundcolor": "white",
            "gridcolor": "#DFE8F3",
            "gridwidth": 2,
            "linecolor": "#EBF0F8",
            "showbackground": true,
            "ticks": "",
            "zerolinecolor": "#EBF0F8"
           }
          },
          "shapedefaults": {
           "line": {
            "color": "#2a3f5f"
           }
          },
          "ternary": {
           "aaxis": {
            "gridcolor": "#DFE8F3",
            "linecolor": "#A2B1C6",
            "ticks": ""
           },
           "baxis": {
            "gridcolor": "#DFE8F3",
            "linecolor": "#A2B1C6",
            "ticks": ""
           },
           "bgcolor": "white",
           "caxis": {
            "gridcolor": "#DFE8F3",
            "linecolor": "#A2B1C6",
            "ticks": ""
           }
          },
          "title": {
           "x": 0.05
          },
          "xaxis": {
           "automargin": true,
           "gridcolor": "#EBF0F8",
           "linecolor": "#EBF0F8",
           "ticks": "",
           "title": {
            "standoff": 15
           },
           "zerolinecolor": "#EBF0F8",
           "zerolinewidth": 2
          },
          "yaxis": {
           "automargin": true,
           "gridcolor": "#EBF0F8",
           "linecolor": "#EBF0F8",
           "ticks": "",
           "title": {
            "standoff": 15
           },
           "zerolinecolor": "#EBF0F8",
           "zerolinewidth": 2
          }
         }
        },
        "title": {
         "text": "VIP scores of PLS model"
        },
        "width": 1600,
        "xaxis": {
         "anchor": "y",
         "domain": [
          0,
          1
         ],
         "title": {
          "text": "Variables"
         }
        },
        "yaxis": {
         "anchor": "x",
         "domain": [
          0,
          1
         ],
         "title": {
          "text": "Estimated VIP"
         }
        }
       }
      }
     },
     "metadata": {},
     "output_type": "display_data"
    }
   ],
   "source": [
    "# Training\n",
    "pipe = fit_pls_model(\n",
    "    X=doe,\n",
    "    y=tar,\n",
    "    latent_variables=LATENT_VARIABLES,\n",
    "    polynomial_degree=POLYNOMIAL_DEGREE_PLS,\n",
    "    interactions_only=INTERACTIONS_ONLY,\n",
    ")\n",
    "\n",
    "# Model features and variable importance\n",
    "plot_pls_model_coef(X=doe, pls_pipeline=pipe)"
   ]
  },
  {
   "cell_type": "markdown",
   "metadata": {},
   "source": [
    "### Test"
   ]
  },
  {
   "cell_type": "code",
   "execution_count": 209,
   "metadata": {},
   "outputs": [
    {
     "data": {
      "application/vnd.plotly.v1+json": {
       "config": {
        "plotlyServerURL": "https://plot.ly"
       },
       "data": [
        {
         "mode": "markers",
         "type": "scatter",
         "x": [
          598.2145117811539,
          677.286485760024,
          962.4350388200675,
          376.47128383977974,
          749.0360751758775,
          609.6723561724535,
          734.4947499947726,
          736.7845196154994,
          546.2042000821999,
          909.6127156214135,
          815.9583992489415,
          657.2030461292619,
          821.9922100526519,
          909.1925202242863,
          442.43899855360496,
          659.6003392397972,
          736.2204919840465,
          726.2255606564651,
          612.0684664730786,
          939.0964006837039,
          955.1470347957396,
          578.6424523588773,
          674.8901082097983,
          910.8012914346239,
          676.5850123143858,
          812.4925623898673,
          408.12104029869994,
          1034.889209312743,
          1616.008650761448,
          1163.9810469742717,
          1710.1829597211827
         ],
         "xaxis": "x",
         "y": [
          854.8273987598538,
          800.6579389298333,
          778.1932873568439,
          493.57277403858865,
          572.6953409237159,
          698.1901873323351,
          770.5342220321893,
          890.2152369918966,
          798.1061893554211,
          805.1670358620632,
          752.6309352369832,
          1030.0173909495197,
          786.5519152964856,
          857.9098627672818,
          777.7057270104108,
          627.4492622271389,
          562.8966379953728,
          775.9944981199947,
          815.6371651476068,
          1085.198133253609,
          938.8066050194435,
          592.4902178218398,
          795.5911116922158,
          1107.9967435485123,
          794.9616563296272,
          823.1394929561882,
          551.9509437033431,
          845.6468122100879,
          1077.6328929727888,
          855.7976351657967,
          843.7844876737339
         ],
         "yaxis": "y"
        },
        {
         "mode": "markers",
         "type": "scatter",
         "x": [
          2216.397102067465,
          1740.4059733542372,
          1577.254773447464,
          1209.6745136328002,
          1103.5760897930825,
          1127.890886560569,
          1647.4136745039298,
          1356.2614739098437,
          1610.2672422667451,
          1927.6928415249356,
          1893.7831892521458,
          1443.319301111057,
          1240.0992254222554,
          1088.1897229222657,
          1277.316030212535,
          1321.6726446420448,
          1481.2762023112161,
          1087.0909830692501,
          1756.7390222942445
         ],
         "xaxis": "x2",
         "y": [
          1101.373847640763,
          947.3672477440704,
          1058.2810058178613,
          970.3661953804509,
          650.9415575831209,
          853.8159602155373,
          1012.5709694855248,
          1009.9599795363009,
          920.0268201830979,
          847.5965271624178,
          796.7919266054158,
          964.6253876910133,
          950.3210598730097,
          1241.259012424803,
          1096.7384883132752,
          941.899452772044,
          820.7052490738256,
          622.0750779572382,
          713.675106363902
         ],
         "yaxis": "y2"
        }
       ],
       "layout": {
        "annotations": [
         {
          "font": {
           "size": 16
          },
          "showarrow": false,
          "text": "Train Set <br> R^2 = 0.271 <br> Abs RMSE = 246.426 <br> Rel RMSE = 0.854",
          "x": 0.225,
          "xanchor": "center",
          "xref": "paper",
          "y": 1,
          "yanchor": "bottom",
          "yref": "paper"
         },
         {
          "font": {
           "size": 16
          },
          "showarrow": false,
          "text": "Test Set <br> R^2 = -3.265 <br> Abs RMSE = 653.014 <br> Rel RMSE = 2.065",
          "x": 0.775,
          "xanchor": "center",
          "xref": "paper",
          "y": 1,
          "yanchor": "bottom",
          "yref": "paper"
         }
        ],
        "shapes": [
         {
          "layer": "below",
          "line": {
           "dash": "dash"
          },
          "type": "line",
          "x0": 493.57277403858865,
          "x1": 1107.9967435485123,
          "y0": 493.57277403858865,
          "y1": 1107.9967435485123
         },
         {
          "layer": "below",
          "line": {
           "dash": "dash"
          },
          "type": "line",
          "x0": 622.0750779572382,
          "x1": 1241.259012424803,
          "xref": "x2",
          "y0": 622.0750779572382,
          "y1": 1241.259012424803,
          "yref": "y2"
         }
        ],
        "template": {
         "data": {
          "bar": [
           {
            "error_x": {
             "color": "#2a3f5f"
            },
            "error_y": {
             "color": "#2a3f5f"
            },
            "marker": {
             "line": {
              "color": "white",
              "width": 0.5
             },
             "pattern": {
              "fillmode": "overlay",
              "size": 10,
              "solidity": 0.2
             }
            },
            "type": "bar"
           }
          ],
          "barpolar": [
           {
            "marker": {
             "line": {
              "color": "white",
              "width": 0.5
             },
             "pattern": {
              "fillmode": "overlay",
              "size": 10,
              "solidity": 0.2
             }
            },
            "type": "barpolar"
           }
          ],
          "carpet": [
           {
            "aaxis": {
             "endlinecolor": "#2a3f5f",
             "gridcolor": "#C8D4E3",
             "linecolor": "#C8D4E3",
             "minorgridcolor": "#C8D4E3",
             "startlinecolor": "#2a3f5f"
            },
            "baxis": {
             "endlinecolor": "#2a3f5f",
             "gridcolor": "#C8D4E3",
             "linecolor": "#C8D4E3",
             "minorgridcolor": "#C8D4E3",
             "startlinecolor": "#2a3f5f"
            },
            "type": "carpet"
           }
          ],
          "choropleth": [
           {
            "colorbar": {
             "outlinewidth": 0,
             "ticks": ""
            },
            "type": "choropleth"
           }
          ],
          "contour": [
           {
            "colorbar": {
             "outlinewidth": 0,
             "ticks": ""
            },
            "colorscale": [
             [
              0,
              "#0d0887"
             ],
             [
              0.1111111111111111,
              "#46039f"
             ],
             [
              0.2222222222222222,
              "#7201a8"
             ],
             [
              0.3333333333333333,
              "#9c179e"
             ],
             [
              0.4444444444444444,
              "#bd3786"
             ],
             [
              0.5555555555555556,
              "#d8576b"
             ],
             [
              0.6666666666666666,
              "#ed7953"
             ],
             [
              0.7777777777777778,
              "#fb9f3a"
             ],
             [
              0.8888888888888888,
              "#fdca26"
             ],
             [
              1,
              "#f0f921"
             ]
            ],
            "type": "contour"
           }
          ],
          "contourcarpet": [
           {
            "colorbar": {
             "outlinewidth": 0,
             "ticks": ""
            },
            "type": "contourcarpet"
           }
          ],
          "heatmap": [
           {
            "colorbar": {
             "outlinewidth": 0,
             "ticks": ""
            },
            "colorscale": [
             [
              0,
              "#0d0887"
             ],
             [
              0.1111111111111111,
              "#46039f"
             ],
             [
              0.2222222222222222,
              "#7201a8"
             ],
             [
              0.3333333333333333,
              "#9c179e"
             ],
             [
              0.4444444444444444,
              "#bd3786"
             ],
             [
              0.5555555555555556,
              "#d8576b"
             ],
             [
              0.6666666666666666,
              "#ed7953"
             ],
             [
              0.7777777777777778,
              "#fb9f3a"
             ],
             [
              0.8888888888888888,
              "#fdca26"
             ],
             [
              1,
              "#f0f921"
             ]
            ],
            "type": "heatmap"
           }
          ],
          "heatmapgl": [
           {
            "colorbar": {
             "outlinewidth": 0,
             "ticks": ""
            },
            "colorscale": [
             [
              0,
              "#0d0887"
             ],
             [
              0.1111111111111111,
              "#46039f"
             ],
             [
              0.2222222222222222,
              "#7201a8"
             ],
             [
              0.3333333333333333,
              "#9c179e"
             ],
             [
              0.4444444444444444,
              "#bd3786"
             ],
             [
              0.5555555555555556,
              "#d8576b"
             ],
             [
              0.6666666666666666,
              "#ed7953"
             ],
             [
              0.7777777777777778,
              "#fb9f3a"
             ],
             [
              0.8888888888888888,
              "#fdca26"
             ],
             [
              1,
              "#f0f921"
             ]
            ],
            "type": "heatmapgl"
           }
          ],
          "histogram": [
           {
            "marker": {
             "pattern": {
              "fillmode": "overlay",
              "size": 10,
              "solidity": 0.2
             }
            },
            "type": "histogram"
           }
          ],
          "histogram2d": [
           {
            "colorbar": {
             "outlinewidth": 0,
             "ticks": ""
            },
            "colorscale": [
             [
              0,
              "#0d0887"
             ],
             [
              0.1111111111111111,
              "#46039f"
             ],
             [
              0.2222222222222222,
              "#7201a8"
             ],
             [
              0.3333333333333333,
              "#9c179e"
             ],
             [
              0.4444444444444444,
              "#bd3786"
             ],
             [
              0.5555555555555556,
              "#d8576b"
             ],
             [
              0.6666666666666666,
              "#ed7953"
             ],
             [
              0.7777777777777778,
              "#fb9f3a"
             ],
             [
              0.8888888888888888,
              "#fdca26"
             ],
             [
              1,
              "#f0f921"
             ]
            ],
            "type": "histogram2d"
           }
          ],
          "histogram2dcontour": [
           {
            "colorbar": {
             "outlinewidth": 0,
             "ticks": ""
            },
            "colorscale": [
             [
              0,
              "#0d0887"
             ],
             [
              0.1111111111111111,
              "#46039f"
             ],
             [
              0.2222222222222222,
              "#7201a8"
             ],
             [
              0.3333333333333333,
              "#9c179e"
             ],
             [
              0.4444444444444444,
              "#bd3786"
             ],
             [
              0.5555555555555556,
              "#d8576b"
             ],
             [
              0.6666666666666666,
              "#ed7953"
             ],
             [
              0.7777777777777778,
              "#fb9f3a"
             ],
             [
              0.8888888888888888,
              "#fdca26"
             ],
             [
              1,
              "#f0f921"
             ]
            ],
            "type": "histogram2dcontour"
           }
          ],
          "mesh3d": [
           {
            "colorbar": {
             "outlinewidth": 0,
             "ticks": ""
            },
            "type": "mesh3d"
           }
          ],
          "parcoords": [
           {
            "line": {
             "colorbar": {
              "outlinewidth": 0,
              "ticks": ""
             }
            },
            "type": "parcoords"
           }
          ],
          "pie": [
           {
            "automargin": true,
            "type": "pie"
           }
          ],
          "scatter": [
           {
            "fillpattern": {
             "fillmode": "overlay",
             "size": 10,
             "solidity": 0.2
            },
            "type": "scatter"
           }
          ],
          "scatter3d": [
           {
            "line": {
             "colorbar": {
              "outlinewidth": 0,
              "ticks": ""
             }
            },
            "marker": {
             "colorbar": {
              "outlinewidth": 0,
              "ticks": ""
             }
            },
            "type": "scatter3d"
           }
          ],
          "scattercarpet": [
           {
            "marker": {
             "colorbar": {
              "outlinewidth": 0,
              "ticks": ""
             }
            },
            "type": "scattercarpet"
           }
          ],
          "scattergeo": [
           {
            "marker": {
             "colorbar": {
              "outlinewidth": 0,
              "ticks": ""
             }
            },
            "type": "scattergeo"
           }
          ],
          "scattergl": [
           {
            "marker": {
             "colorbar": {
              "outlinewidth": 0,
              "ticks": ""
             }
            },
            "type": "scattergl"
           }
          ],
          "scattermapbox": [
           {
            "marker": {
             "colorbar": {
              "outlinewidth": 0,
              "ticks": ""
             }
            },
            "type": "scattermapbox"
           }
          ],
          "scatterpolar": [
           {
            "marker": {
             "colorbar": {
              "outlinewidth": 0,
              "ticks": ""
             }
            },
            "type": "scatterpolar"
           }
          ],
          "scatterpolargl": [
           {
            "marker": {
             "colorbar": {
              "outlinewidth": 0,
              "ticks": ""
             }
            },
            "type": "scatterpolargl"
           }
          ],
          "scatterternary": [
           {
            "marker": {
             "colorbar": {
              "outlinewidth": 0,
              "ticks": ""
             }
            },
            "type": "scatterternary"
           }
          ],
          "surface": [
           {
            "colorbar": {
             "outlinewidth": 0,
             "ticks": ""
            },
            "colorscale": [
             [
              0,
              "#0d0887"
             ],
             [
              0.1111111111111111,
              "#46039f"
             ],
             [
              0.2222222222222222,
              "#7201a8"
             ],
             [
              0.3333333333333333,
              "#9c179e"
             ],
             [
              0.4444444444444444,
              "#bd3786"
             ],
             [
              0.5555555555555556,
              "#d8576b"
             ],
             [
              0.6666666666666666,
              "#ed7953"
             ],
             [
              0.7777777777777778,
              "#fb9f3a"
             ],
             [
              0.8888888888888888,
              "#fdca26"
             ],
             [
              1,
              "#f0f921"
             ]
            ],
            "type": "surface"
           }
          ],
          "table": [
           {
            "cells": {
             "fill": {
              "color": "#EBF0F8"
             },
             "line": {
              "color": "white"
             }
            },
            "header": {
             "fill": {
              "color": "#C8D4E3"
             },
             "line": {
              "color": "white"
             }
            },
            "type": "table"
           }
          ]
         },
         "layout": {
          "annotationdefaults": {
           "arrowcolor": "#2a3f5f",
           "arrowhead": 0,
           "arrowwidth": 1
          },
          "autotypenumbers": "strict",
          "coloraxis": {
           "colorbar": {
            "outlinewidth": 0,
            "ticks": ""
           }
          },
          "colorscale": {
           "diverging": [
            [
             0,
             "#8e0152"
            ],
            [
             0.1,
             "#c51b7d"
            ],
            [
             0.2,
             "#de77ae"
            ],
            [
             0.3,
             "#f1b6da"
            ],
            [
             0.4,
             "#fde0ef"
            ],
            [
             0.5,
             "#f7f7f7"
            ],
            [
             0.6,
             "#e6f5d0"
            ],
            [
             0.7,
             "#b8e186"
            ],
            [
             0.8,
             "#7fbc41"
            ],
            [
             0.9,
             "#4d9221"
            ],
            [
             1,
             "#276419"
            ]
           ],
           "sequential": [
            [
             0,
             "#0d0887"
            ],
            [
             0.1111111111111111,
             "#46039f"
            ],
            [
             0.2222222222222222,
             "#7201a8"
            ],
            [
             0.3333333333333333,
             "#9c179e"
            ],
            [
             0.4444444444444444,
             "#bd3786"
            ],
            [
             0.5555555555555556,
             "#d8576b"
            ],
            [
             0.6666666666666666,
             "#ed7953"
            ],
            [
             0.7777777777777778,
             "#fb9f3a"
            ],
            [
             0.8888888888888888,
             "#fdca26"
            ],
            [
             1,
             "#f0f921"
            ]
           ],
           "sequentialminus": [
            [
             0,
             "#0d0887"
            ],
            [
             0.1111111111111111,
             "#46039f"
            ],
            [
             0.2222222222222222,
             "#7201a8"
            ],
            [
             0.3333333333333333,
             "#9c179e"
            ],
            [
             0.4444444444444444,
             "#bd3786"
            ],
            [
             0.5555555555555556,
             "#d8576b"
            ],
            [
             0.6666666666666666,
             "#ed7953"
            ],
            [
             0.7777777777777778,
             "#fb9f3a"
            ],
            [
             0.8888888888888888,
             "#fdca26"
            ],
            [
             1,
             "#f0f921"
            ]
           ]
          },
          "colorway": [
           "#636efa",
           "#EF553B",
           "#00cc96",
           "#ab63fa",
           "#FFA15A",
           "#19d3f3",
           "#FF6692",
           "#B6E880",
           "#FF97FF",
           "#FECB52"
          ],
          "font": {
           "color": "#2a3f5f"
          },
          "geo": {
           "bgcolor": "white",
           "lakecolor": "white",
           "landcolor": "white",
           "showlakes": true,
           "showland": true,
           "subunitcolor": "#C8D4E3"
          },
          "hoverlabel": {
           "align": "left"
          },
          "hovermode": "closest",
          "mapbox": {
           "style": "light"
          },
          "paper_bgcolor": "white",
          "plot_bgcolor": "white",
          "polar": {
           "angularaxis": {
            "gridcolor": "#EBF0F8",
            "linecolor": "#EBF0F8",
            "ticks": ""
           },
           "bgcolor": "white",
           "radialaxis": {
            "gridcolor": "#EBF0F8",
            "linecolor": "#EBF0F8",
            "ticks": ""
           }
          },
          "scene": {
           "xaxis": {
            "backgroundcolor": "white",
            "gridcolor": "#DFE8F3",
            "gridwidth": 2,
            "linecolor": "#EBF0F8",
            "showbackground": true,
            "ticks": "",
            "zerolinecolor": "#EBF0F8"
           },
           "yaxis": {
            "backgroundcolor": "white",
            "gridcolor": "#DFE8F3",
            "gridwidth": 2,
            "linecolor": "#EBF0F8",
            "showbackground": true,
            "ticks": "",
            "zerolinecolor": "#EBF0F8"
           },
           "zaxis": {
            "backgroundcolor": "white",
            "gridcolor": "#DFE8F3",
            "gridwidth": 2,
            "linecolor": "#EBF0F8",
            "showbackground": true,
            "ticks": "",
            "zerolinecolor": "#EBF0F8"
           }
          },
          "shapedefaults": {
           "line": {
            "color": "#2a3f5f"
           }
          },
          "ternary": {
           "aaxis": {
            "gridcolor": "#DFE8F3",
            "linecolor": "#A2B1C6",
            "ticks": ""
           },
           "baxis": {
            "gridcolor": "#DFE8F3",
            "linecolor": "#A2B1C6",
            "ticks": ""
           },
           "bgcolor": "white",
           "caxis": {
            "gridcolor": "#DFE8F3",
            "linecolor": "#A2B1C6",
            "ticks": ""
           }
          },
          "title": {
           "x": 0.05
          },
          "xaxis": {
           "automargin": true,
           "gridcolor": "#EBF0F8",
           "linecolor": "#EBF0F8",
           "ticks": "",
           "title": {
            "standoff": 15
           },
           "zerolinecolor": "#EBF0F8",
           "zerolinewidth": 2
          },
          "yaxis": {
           "automargin": true,
           "gridcolor": "#EBF0F8",
           "linecolor": "#EBF0F8",
           "ticks": "",
           "title": {
            "standoff": 15
           },
           "zerolinecolor": "#EBF0F8",
           "zerolinewidth": 2
          }
         }
        },
        "width": 1600,
        "xaxis": {
         "anchor": "y",
         "domain": [
          0,
          0.45
         ],
         "title": {
          "text": "Observed values"
         }
        },
        "xaxis2": {
         "anchor": "y2",
         "domain": [
          0.55,
          1
         ],
         "title": {
          "text": "Observed values"
         }
        },
        "yaxis": {
         "anchor": "x",
         "domain": [
          0,
          1
         ],
         "title": {
          "text": "Predicted values"
         }
        },
        "yaxis2": {
         "anchor": "x2",
         "domain": [
          0,
          1
         ],
         "title": {
          "text": "Predicted values"
         }
        }
       }
      }
     },
     "metadata": {},
     "output_type": "display_data"
    }
   ],
   "source": [
    "# Make predictions for training\n",
    "X = doe\n",
    "y = tar\n",
    "y_pred = pipe.predict(X)\n",
    "\n",
    "# Make predictions for testing\n",
    "X_test = doe_test\n",
    "y_test = tar_test\n",
    "y_test_pred = pipe.predict(X_test)\n",
    "\n",
    "# Plot\n",
    "plot_pls_model_eval(\n",
    "    y, y_pred, y_test, y_test_pred,\n",
    ")"
   ]
  },
  {
   "cell_type": "markdown",
   "metadata": {},
   "source": [
    "### PCA"
   ]
  },
  {
   "cell_type": "code",
   "execution_count": 210,
   "metadata": {},
   "outputs": [
    {
     "data": {
      "application/vnd.plotly.v1+json": {
       "config": {
        "plotlyServerURL": "https://plot.ly"
       },
       "data": [
        {
         "mode": "markers",
         "name": "Scores",
         "type": "scatter",
         "x": [
          -1.1704061046273577,
          -1.8630188216703458,
          -0.9640196571295555,
          -0.42035618120927276,
          0.1866926383844417,
          0.956057929637939,
          -0.005616300477583542,
          0.5367157824528221,
          0.37607068346101635,
          1.1327710557330055,
          -0.031267577306442265,
          0.2825589775262926,
          0.6995881103754743,
          1.1944937985015398,
          0.5978420910251273,
          -0.06627421614236839,
          0.2658880741883855,
          -1.127634367684505,
          -0.9743766913594795,
          0.5239542395820079,
          0.5761192970914325,
          -1.6485668533504045,
          0.2402811702012735,
          3.3662993497373703,
          -1.1382252932746315,
          0.16246998099648574,
          -1.2918236368045095,
          0.2622809970802239,
          -0.17477972329624478,
          -0.9201277067823668,
          0.43640895514023087
         ],
         "xaxis": "x",
         "y": [
          0.2224125097809051,
          0.3895587497478715,
          0.8348180872862314,
          -1.597834631075995,
          0.3030261664415029,
          0.504588015515755,
          2.3196078552632,
          0.14537953634187806,
          -1.876762570678605,
          0.7019319623166601,
          -0.33920839673274283,
          0.4421294270575474,
          -0.1606569459052908,
          -0.17405478838512545,
          -0.20366907774392,
          0.710632123634744,
          -0.42557097219985035,
          0.03731945584679408,
          0.4665317778788536,
          0.22896101195848526,
          -0.7726342577826348,
          -0.699213655070491,
          0.6339781131296579,
          -0.043104571087739865,
          -0.38607486059609597,
          -0.2694036679475598,
          -0.47896462556495056,
          -0.10097466414724866,
          -0.8305222653412795,
          0.5608846009401409,
          -0.1431094428806969
         ],
         "yaxis": "y"
        },
        {
         "name": "Loadings PC - 1",
         "type": "bar",
         "x": [
          "feed_start",
          "feed_end",
          "Glc_feed_rate",
          "Glc_0",
          "VCD_0"
         ],
         "xaxis": "x2",
         "y": [
          -0.012743221678811773,
          -0.5845416677161717,
          0.5294330899644746,
          0.6346449012980744,
          0.4821088016599442
         ],
         "yaxis": "y2"
        },
        {
         "name": "Loadings PC - 2",
         "type": "bar",
         "x": [
          "feed_start",
          "feed_end",
          "Glc_feed_rate",
          "Glc_0",
          "VCD_0"
         ],
         "xaxis": "x3",
         "y": [
          0.46811611404983916,
          -0.6131958973471675,
          -0.3610020654718567,
          0.12760361058471845,
          0.5496077027572996
         ],
         "yaxis": "y3"
        }
       ],
       "layout": {
        "annotations": [
         {
          "font": {
           "size": 16
          },
          "showarrow": false,
          "text": "Scores Plot ",
          "x": 0.5,
          "xanchor": "center",
          "xref": "paper",
          "y": 1,
          "yanchor": "bottom",
          "yref": "paper"
         },
         {
          "font": {
           "size": 16
          },
          "showarrow": false,
          "text": "Loadings of Principal Component - 1",
          "x": 0.225,
          "xanchor": "center",
          "xref": "paper",
          "y": 0.375,
          "yanchor": "bottom",
          "yref": "paper"
         },
         {
          "font": {
           "size": 16
          },
          "showarrow": false,
          "text": "Loadings of Principal Component - 2",
          "x": 0.775,
          "xanchor": "center",
          "xref": "paper",
          "y": 0.375,
          "yanchor": "bottom",
          "yref": "paper"
         }
        ],
        "height": 1000,
        "template": {
         "data": {
          "bar": [
           {
            "error_x": {
             "color": "#2a3f5f"
            },
            "error_y": {
             "color": "#2a3f5f"
            },
            "marker": {
             "line": {
              "color": "white",
              "width": 0.5
             },
             "pattern": {
              "fillmode": "overlay",
              "size": 10,
              "solidity": 0.2
             }
            },
            "type": "bar"
           }
          ],
          "barpolar": [
           {
            "marker": {
             "line": {
              "color": "white",
              "width": 0.5
             },
             "pattern": {
              "fillmode": "overlay",
              "size": 10,
              "solidity": 0.2
             }
            },
            "type": "barpolar"
           }
          ],
          "carpet": [
           {
            "aaxis": {
             "endlinecolor": "#2a3f5f",
             "gridcolor": "#C8D4E3",
             "linecolor": "#C8D4E3",
             "minorgridcolor": "#C8D4E3",
             "startlinecolor": "#2a3f5f"
            },
            "baxis": {
             "endlinecolor": "#2a3f5f",
             "gridcolor": "#C8D4E3",
             "linecolor": "#C8D4E3",
             "minorgridcolor": "#C8D4E3",
             "startlinecolor": "#2a3f5f"
            },
            "type": "carpet"
           }
          ],
          "choropleth": [
           {
            "colorbar": {
             "outlinewidth": 0,
             "ticks": ""
            },
            "type": "choropleth"
           }
          ],
          "contour": [
           {
            "colorbar": {
             "outlinewidth": 0,
             "ticks": ""
            },
            "colorscale": [
             [
              0,
              "#0d0887"
             ],
             [
              0.1111111111111111,
              "#46039f"
             ],
             [
              0.2222222222222222,
              "#7201a8"
             ],
             [
              0.3333333333333333,
              "#9c179e"
             ],
             [
              0.4444444444444444,
              "#bd3786"
             ],
             [
              0.5555555555555556,
              "#d8576b"
             ],
             [
              0.6666666666666666,
              "#ed7953"
             ],
             [
              0.7777777777777778,
              "#fb9f3a"
             ],
             [
              0.8888888888888888,
              "#fdca26"
             ],
             [
              1,
              "#f0f921"
             ]
            ],
            "type": "contour"
           }
          ],
          "contourcarpet": [
           {
            "colorbar": {
             "outlinewidth": 0,
             "ticks": ""
            },
            "type": "contourcarpet"
           }
          ],
          "heatmap": [
           {
            "colorbar": {
             "outlinewidth": 0,
             "ticks": ""
            },
            "colorscale": [
             [
              0,
              "#0d0887"
             ],
             [
              0.1111111111111111,
              "#46039f"
             ],
             [
              0.2222222222222222,
              "#7201a8"
             ],
             [
              0.3333333333333333,
              "#9c179e"
             ],
             [
              0.4444444444444444,
              "#bd3786"
             ],
             [
              0.5555555555555556,
              "#d8576b"
             ],
             [
              0.6666666666666666,
              "#ed7953"
             ],
             [
              0.7777777777777778,
              "#fb9f3a"
             ],
             [
              0.8888888888888888,
              "#fdca26"
             ],
             [
              1,
              "#f0f921"
             ]
            ],
            "type": "heatmap"
           }
          ],
          "heatmapgl": [
           {
            "colorbar": {
             "outlinewidth": 0,
             "ticks": ""
            },
            "colorscale": [
             [
              0,
              "#0d0887"
             ],
             [
              0.1111111111111111,
              "#46039f"
             ],
             [
              0.2222222222222222,
              "#7201a8"
             ],
             [
              0.3333333333333333,
              "#9c179e"
             ],
             [
              0.4444444444444444,
              "#bd3786"
             ],
             [
              0.5555555555555556,
              "#d8576b"
             ],
             [
              0.6666666666666666,
              "#ed7953"
             ],
             [
              0.7777777777777778,
              "#fb9f3a"
             ],
             [
              0.8888888888888888,
              "#fdca26"
             ],
             [
              1,
              "#f0f921"
             ]
            ],
            "type": "heatmapgl"
           }
          ],
          "histogram": [
           {
            "marker": {
             "pattern": {
              "fillmode": "overlay",
              "size": 10,
              "solidity": 0.2
             }
            },
            "type": "histogram"
           }
          ],
          "histogram2d": [
           {
            "colorbar": {
             "outlinewidth": 0,
             "ticks": ""
            },
            "colorscale": [
             [
              0,
              "#0d0887"
             ],
             [
              0.1111111111111111,
              "#46039f"
             ],
             [
              0.2222222222222222,
              "#7201a8"
             ],
             [
              0.3333333333333333,
              "#9c179e"
             ],
             [
              0.4444444444444444,
              "#bd3786"
             ],
             [
              0.5555555555555556,
              "#d8576b"
             ],
             [
              0.6666666666666666,
              "#ed7953"
             ],
             [
              0.7777777777777778,
              "#fb9f3a"
             ],
             [
              0.8888888888888888,
              "#fdca26"
             ],
             [
              1,
              "#f0f921"
             ]
            ],
            "type": "histogram2d"
           }
          ],
          "histogram2dcontour": [
           {
            "colorbar": {
             "outlinewidth": 0,
             "ticks": ""
            },
            "colorscale": [
             [
              0,
              "#0d0887"
             ],
             [
              0.1111111111111111,
              "#46039f"
             ],
             [
              0.2222222222222222,
              "#7201a8"
             ],
             [
              0.3333333333333333,
              "#9c179e"
             ],
             [
              0.4444444444444444,
              "#bd3786"
             ],
             [
              0.5555555555555556,
              "#d8576b"
             ],
             [
              0.6666666666666666,
              "#ed7953"
             ],
             [
              0.7777777777777778,
              "#fb9f3a"
             ],
             [
              0.8888888888888888,
              "#fdca26"
             ],
             [
              1,
              "#f0f921"
             ]
            ],
            "type": "histogram2dcontour"
           }
          ],
          "mesh3d": [
           {
            "colorbar": {
             "outlinewidth": 0,
             "ticks": ""
            },
            "type": "mesh3d"
           }
          ],
          "parcoords": [
           {
            "line": {
             "colorbar": {
              "outlinewidth": 0,
              "ticks": ""
             }
            },
            "type": "parcoords"
           }
          ],
          "pie": [
           {
            "automargin": true,
            "type": "pie"
           }
          ],
          "scatter": [
           {
            "fillpattern": {
             "fillmode": "overlay",
             "size": 10,
             "solidity": 0.2
            },
            "type": "scatter"
           }
          ],
          "scatter3d": [
           {
            "line": {
             "colorbar": {
              "outlinewidth": 0,
              "ticks": ""
             }
            },
            "marker": {
             "colorbar": {
              "outlinewidth": 0,
              "ticks": ""
             }
            },
            "type": "scatter3d"
           }
          ],
          "scattercarpet": [
           {
            "marker": {
             "colorbar": {
              "outlinewidth": 0,
              "ticks": ""
             }
            },
            "type": "scattercarpet"
           }
          ],
          "scattergeo": [
           {
            "marker": {
             "colorbar": {
              "outlinewidth": 0,
              "ticks": ""
             }
            },
            "type": "scattergeo"
           }
          ],
          "scattergl": [
           {
            "marker": {
             "colorbar": {
              "outlinewidth": 0,
              "ticks": ""
             }
            },
            "type": "scattergl"
           }
          ],
          "scattermapbox": [
           {
            "marker": {
             "colorbar": {
              "outlinewidth": 0,
              "ticks": ""
             }
            },
            "type": "scattermapbox"
           }
          ],
          "scatterpolar": [
           {
            "marker": {
             "colorbar": {
              "outlinewidth": 0,
              "ticks": ""
             }
            },
            "type": "scatterpolar"
           }
          ],
          "scatterpolargl": [
           {
            "marker": {
             "colorbar": {
              "outlinewidth": 0,
              "ticks": ""
             }
            },
            "type": "scatterpolargl"
           }
          ],
          "scatterternary": [
           {
            "marker": {
             "colorbar": {
              "outlinewidth": 0,
              "ticks": ""
             }
            },
            "type": "scatterternary"
           }
          ],
          "surface": [
           {
            "colorbar": {
             "outlinewidth": 0,
             "ticks": ""
            },
            "colorscale": [
             [
              0,
              "#0d0887"
             ],
             [
              0.1111111111111111,
              "#46039f"
             ],
             [
              0.2222222222222222,
              "#7201a8"
             ],
             [
              0.3333333333333333,
              "#9c179e"
             ],
             [
              0.4444444444444444,
              "#bd3786"
             ],
             [
              0.5555555555555556,
              "#d8576b"
             ],
             [
              0.6666666666666666,
              "#ed7953"
             ],
             [
              0.7777777777777778,
              "#fb9f3a"
             ],
             [
              0.8888888888888888,
              "#fdca26"
             ],
             [
              1,
              "#f0f921"
             ]
            ],
            "type": "surface"
           }
          ],
          "table": [
           {
            "cells": {
             "fill": {
              "color": "#EBF0F8"
             },
             "line": {
              "color": "white"
             }
            },
            "header": {
             "fill": {
              "color": "#C8D4E3"
             },
             "line": {
              "color": "white"
             }
            },
            "type": "table"
           }
          ]
         },
         "layout": {
          "annotationdefaults": {
           "arrowcolor": "#2a3f5f",
           "arrowhead": 0,
           "arrowwidth": 1
          },
          "autotypenumbers": "strict",
          "coloraxis": {
           "colorbar": {
            "outlinewidth": 0,
            "ticks": ""
           }
          },
          "colorscale": {
           "diverging": [
            [
             0,
             "#8e0152"
            ],
            [
             0.1,
             "#c51b7d"
            ],
            [
             0.2,
             "#de77ae"
            ],
            [
             0.3,
             "#f1b6da"
            ],
            [
             0.4,
             "#fde0ef"
            ],
            [
             0.5,
             "#f7f7f7"
            ],
            [
             0.6,
             "#e6f5d0"
            ],
            [
             0.7,
             "#b8e186"
            ],
            [
             0.8,
             "#7fbc41"
            ],
            [
             0.9,
             "#4d9221"
            ],
            [
             1,
             "#276419"
            ]
           ],
           "sequential": [
            [
             0,
             "#0d0887"
            ],
            [
             0.1111111111111111,
             "#46039f"
            ],
            [
             0.2222222222222222,
             "#7201a8"
            ],
            [
             0.3333333333333333,
             "#9c179e"
            ],
            [
             0.4444444444444444,
             "#bd3786"
            ],
            [
             0.5555555555555556,
             "#d8576b"
            ],
            [
             0.6666666666666666,
             "#ed7953"
            ],
            [
             0.7777777777777778,
             "#fb9f3a"
            ],
            [
             0.8888888888888888,
             "#fdca26"
            ],
            [
             1,
             "#f0f921"
            ]
           ],
           "sequentialminus": [
            [
             0,
             "#0d0887"
            ],
            [
             0.1111111111111111,
             "#46039f"
            ],
            [
             0.2222222222222222,
             "#7201a8"
            ],
            [
             0.3333333333333333,
             "#9c179e"
            ],
            [
             0.4444444444444444,
             "#bd3786"
            ],
            [
             0.5555555555555556,
             "#d8576b"
            ],
            [
             0.6666666666666666,
             "#ed7953"
            ],
            [
             0.7777777777777778,
             "#fb9f3a"
            ],
            [
             0.8888888888888888,
             "#fdca26"
            ],
            [
             1,
             "#f0f921"
            ]
           ]
          },
          "colorway": [
           "#636efa",
           "#EF553B",
           "#00cc96",
           "#ab63fa",
           "#FFA15A",
           "#19d3f3",
           "#FF6692",
           "#B6E880",
           "#FF97FF",
           "#FECB52"
          ],
          "font": {
           "color": "#2a3f5f"
          },
          "geo": {
           "bgcolor": "white",
           "lakecolor": "white",
           "landcolor": "white",
           "showlakes": true,
           "showland": true,
           "subunitcolor": "#C8D4E3"
          },
          "hoverlabel": {
           "align": "left"
          },
          "hovermode": "closest",
          "mapbox": {
           "style": "light"
          },
          "paper_bgcolor": "white",
          "plot_bgcolor": "white",
          "polar": {
           "angularaxis": {
            "gridcolor": "#EBF0F8",
            "linecolor": "#EBF0F8",
            "ticks": ""
           },
           "bgcolor": "white",
           "radialaxis": {
            "gridcolor": "#EBF0F8",
            "linecolor": "#EBF0F8",
            "ticks": ""
           }
          },
          "scene": {
           "xaxis": {
            "backgroundcolor": "white",
            "gridcolor": "#DFE8F3",
            "gridwidth": 2,
            "linecolor": "#EBF0F8",
            "showbackground": true,
            "ticks": "",
            "zerolinecolor": "#EBF0F8"
           },
           "yaxis": {
            "backgroundcolor": "white",
            "gridcolor": "#DFE8F3",
            "gridwidth": 2,
            "linecolor": "#EBF0F8",
            "showbackground": true,
            "ticks": "",
            "zerolinecolor": "#EBF0F8"
           },
           "zaxis": {
            "backgroundcolor": "white",
            "gridcolor": "#DFE8F3",
            "gridwidth": 2,
            "linecolor": "#EBF0F8",
            "showbackground": true,
            "ticks": "",
            "zerolinecolor": "#EBF0F8"
           }
          },
          "shapedefaults": {
           "line": {
            "color": "#2a3f5f"
           }
          },
          "ternary": {
           "aaxis": {
            "gridcolor": "#DFE8F3",
            "linecolor": "#A2B1C6",
            "ticks": ""
           },
           "baxis": {
            "gridcolor": "#DFE8F3",
            "linecolor": "#A2B1C6",
            "ticks": ""
           },
           "bgcolor": "white",
           "caxis": {
            "gridcolor": "#DFE8F3",
            "linecolor": "#A2B1C6",
            "ticks": ""
           }
          },
          "title": {
           "x": 0.05
          },
          "xaxis": {
           "automargin": true,
           "gridcolor": "#EBF0F8",
           "linecolor": "#EBF0F8",
           "ticks": "",
           "title": {
            "standoff": 15
           },
           "zerolinecolor": "#EBF0F8",
           "zerolinewidth": 2
          },
          "yaxis": {
           "automargin": true,
           "gridcolor": "#EBF0F8",
           "linecolor": "#EBF0F8",
           "ticks": "",
           "title": {
            "standoff": 15
           },
           "zerolinecolor": "#EBF0F8",
           "zerolinewidth": 2
          }
         }
        },
        "xaxis": {
         "anchor": "y",
         "domain": [
          0,
          1
         ]
        },
        "xaxis2": {
         "anchor": "y2",
         "domain": [
          0,
          0.45
         ]
        },
        "xaxis3": {
         "anchor": "y3",
         "domain": [
          0.55,
          1
         ]
        },
        "yaxis": {
         "anchor": "x",
         "domain": [
          0.625,
          1
         ]
        },
        "yaxis2": {
         "anchor": "x2",
         "domain": [
          0,
          0.375
         ]
        },
        "yaxis3": {
         "anchor": "x3",
         "domain": [
          0,
          0.375
         ]
        }
       }
      }
     },
     "metadata": {},
     "output_type": "display_data"
    }
   ],
   "source": [
    "plot_pls_scores(pipe, pc_x_axis=1, pc_y_axis=2)"
   ]
  },
  {
   "cell_type": "markdown",
   "metadata": {},
   "source": [
    "### K-Fold\n",
    "- Use a typical cross-validation to define the optimal number of latent variables.\n",
    "- This is repeated for different numbers of latent variables. \n",
    "\t- Nfold PLS models are trained using (Nfolds-1) folds. \n",
    "\t- Each model is then evaluated on the remaining unused fold. \n",
    "- The number of latent variables returning the least value of the RMSE is chosen as optimal."
   ]
  },
  {
   "cell_type": "code",
   "execution_count": 211,
   "metadata": {},
   "outputs": [],
   "source": [
    "train_eval, valid_eval, range_LV = pls_cross_validation(X, y, pls_pipeline=pipe)"
   ]
  },
  {
   "cell_type": "code",
   "execution_count": 212,
   "metadata": {},
   "outputs": [
    {
     "data": {
      "application/vnd.plotly.v1+json": {
       "config": {
        "plotlyServerURL": "https://plot.ly"
       },
       "data": [
        {
         "error_y": {
          "array": [
           70.02788070040563,
           68.66781971687473,
           68.66969977828836,
           68.63739153062654,
           68.6415192137677
          ],
          "type": "data",
          "visible": true
         },
         "name": "Training",
         "type": "scatter",
         "x": [
          1,
          2,
          3,
          4,
          5
         ],
         "y": [
          235.14639546231047,
          225.01468938319468,
          223.93391153273342,
          223.7708263339028,
          223.76611170154644
         ]
        },
        {
         "error_y": {
          "array": [
           188.38907167349095,
           176.61896827454723,
           169.8335549757908,
           168.89230005663563,
           168.7258810953515
          ],
          "type": "data",
          "visible": true
         },
         "name": "Validation",
         "type": "scatter",
         "x": [
          1,
          2,
          3,
          4,
          5
         ],
         "y": [
          307.36831290484736,
          315.1646854594871,
          315.0788106464124,
          317.8712304154716,
          317.90095704106534
         ]
        }
       ],
       "layout": {
        "legend": {
         "title": {
          "text": "Evaluation type"
         }
        },
        "template": {
         "data": {
          "bar": [
           {
            "error_x": {
             "color": "#2a3f5f"
            },
            "error_y": {
             "color": "#2a3f5f"
            },
            "marker": {
             "line": {
              "color": "white",
              "width": 0.5
             },
             "pattern": {
              "fillmode": "overlay",
              "size": 10,
              "solidity": 0.2
             }
            },
            "type": "bar"
           }
          ],
          "barpolar": [
           {
            "marker": {
             "line": {
              "color": "white",
              "width": 0.5
             },
             "pattern": {
              "fillmode": "overlay",
              "size": 10,
              "solidity": 0.2
             }
            },
            "type": "barpolar"
           }
          ],
          "carpet": [
           {
            "aaxis": {
             "endlinecolor": "#2a3f5f",
             "gridcolor": "#C8D4E3",
             "linecolor": "#C8D4E3",
             "minorgridcolor": "#C8D4E3",
             "startlinecolor": "#2a3f5f"
            },
            "baxis": {
             "endlinecolor": "#2a3f5f",
             "gridcolor": "#C8D4E3",
             "linecolor": "#C8D4E3",
             "minorgridcolor": "#C8D4E3",
             "startlinecolor": "#2a3f5f"
            },
            "type": "carpet"
           }
          ],
          "choropleth": [
           {
            "colorbar": {
             "outlinewidth": 0,
             "ticks": ""
            },
            "type": "choropleth"
           }
          ],
          "contour": [
           {
            "colorbar": {
             "outlinewidth": 0,
             "ticks": ""
            },
            "colorscale": [
             [
              0,
              "#0d0887"
             ],
             [
              0.1111111111111111,
              "#46039f"
             ],
             [
              0.2222222222222222,
              "#7201a8"
             ],
             [
              0.3333333333333333,
              "#9c179e"
             ],
             [
              0.4444444444444444,
              "#bd3786"
             ],
             [
              0.5555555555555556,
              "#d8576b"
             ],
             [
              0.6666666666666666,
              "#ed7953"
             ],
             [
              0.7777777777777778,
              "#fb9f3a"
             ],
             [
              0.8888888888888888,
              "#fdca26"
             ],
             [
              1,
              "#f0f921"
             ]
            ],
            "type": "contour"
           }
          ],
          "contourcarpet": [
           {
            "colorbar": {
             "outlinewidth": 0,
             "ticks": ""
            },
            "type": "contourcarpet"
           }
          ],
          "heatmap": [
           {
            "colorbar": {
             "outlinewidth": 0,
             "ticks": ""
            },
            "colorscale": [
             [
              0,
              "#0d0887"
             ],
             [
              0.1111111111111111,
              "#46039f"
             ],
             [
              0.2222222222222222,
              "#7201a8"
             ],
             [
              0.3333333333333333,
              "#9c179e"
             ],
             [
              0.4444444444444444,
              "#bd3786"
             ],
             [
              0.5555555555555556,
              "#d8576b"
             ],
             [
              0.6666666666666666,
              "#ed7953"
             ],
             [
              0.7777777777777778,
              "#fb9f3a"
             ],
             [
              0.8888888888888888,
              "#fdca26"
             ],
             [
              1,
              "#f0f921"
             ]
            ],
            "type": "heatmap"
           }
          ],
          "heatmapgl": [
           {
            "colorbar": {
             "outlinewidth": 0,
             "ticks": ""
            },
            "colorscale": [
             [
              0,
              "#0d0887"
             ],
             [
              0.1111111111111111,
              "#46039f"
             ],
             [
              0.2222222222222222,
              "#7201a8"
             ],
             [
              0.3333333333333333,
              "#9c179e"
             ],
             [
              0.4444444444444444,
              "#bd3786"
             ],
             [
              0.5555555555555556,
              "#d8576b"
             ],
             [
              0.6666666666666666,
              "#ed7953"
             ],
             [
              0.7777777777777778,
              "#fb9f3a"
             ],
             [
              0.8888888888888888,
              "#fdca26"
             ],
             [
              1,
              "#f0f921"
             ]
            ],
            "type": "heatmapgl"
           }
          ],
          "histogram": [
           {
            "marker": {
             "pattern": {
              "fillmode": "overlay",
              "size": 10,
              "solidity": 0.2
             }
            },
            "type": "histogram"
           }
          ],
          "histogram2d": [
           {
            "colorbar": {
             "outlinewidth": 0,
             "ticks": ""
            },
            "colorscale": [
             [
              0,
              "#0d0887"
             ],
             [
              0.1111111111111111,
              "#46039f"
             ],
             [
              0.2222222222222222,
              "#7201a8"
             ],
             [
              0.3333333333333333,
              "#9c179e"
             ],
             [
              0.4444444444444444,
              "#bd3786"
             ],
             [
              0.5555555555555556,
              "#d8576b"
             ],
             [
              0.6666666666666666,
              "#ed7953"
             ],
             [
              0.7777777777777778,
              "#fb9f3a"
             ],
             [
              0.8888888888888888,
              "#fdca26"
             ],
             [
              1,
              "#f0f921"
             ]
            ],
            "type": "histogram2d"
           }
          ],
          "histogram2dcontour": [
           {
            "colorbar": {
             "outlinewidth": 0,
             "ticks": ""
            },
            "colorscale": [
             [
              0,
              "#0d0887"
             ],
             [
              0.1111111111111111,
              "#46039f"
             ],
             [
              0.2222222222222222,
              "#7201a8"
             ],
             [
              0.3333333333333333,
              "#9c179e"
             ],
             [
              0.4444444444444444,
              "#bd3786"
             ],
             [
              0.5555555555555556,
              "#d8576b"
             ],
             [
              0.6666666666666666,
              "#ed7953"
             ],
             [
              0.7777777777777778,
              "#fb9f3a"
             ],
             [
              0.8888888888888888,
              "#fdca26"
             ],
             [
              1,
              "#f0f921"
             ]
            ],
            "type": "histogram2dcontour"
           }
          ],
          "mesh3d": [
           {
            "colorbar": {
             "outlinewidth": 0,
             "ticks": ""
            },
            "type": "mesh3d"
           }
          ],
          "parcoords": [
           {
            "line": {
             "colorbar": {
              "outlinewidth": 0,
              "ticks": ""
             }
            },
            "type": "parcoords"
           }
          ],
          "pie": [
           {
            "automargin": true,
            "type": "pie"
           }
          ],
          "scatter": [
           {
            "fillpattern": {
             "fillmode": "overlay",
             "size": 10,
             "solidity": 0.2
            },
            "type": "scatter"
           }
          ],
          "scatter3d": [
           {
            "line": {
             "colorbar": {
              "outlinewidth": 0,
              "ticks": ""
             }
            },
            "marker": {
             "colorbar": {
              "outlinewidth": 0,
              "ticks": ""
             }
            },
            "type": "scatter3d"
           }
          ],
          "scattercarpet": [
           {
            "marker": {
             "colorbar": {
              "outlinewidth": 0,
              "ticks": ""
             }
            },
            "type": "scattercarpet"
           }
          ],
          "scattergeo": [
           {
            "marker": {
             "colorbar": {
              "outlinewidth": 0,
              "ticks": ""
             }
            },
            "type": "scattergeo"
           }
          ],
          "scattergl": [
           {
            "marker": {
             "colorbar": {
              "outlinewidth": 0,
              "ticks": ""
             }
            },
            "type": "scattergl"
           }
          ],
          "scattermapbox": [
           {
            "marker": {
             "colorbar": {
              "outlinewidth": 0,
              "ticks": ""
             }
            },
            "type": "scattermapbox"
           }
          ],
          "scatterpolar": [
           {
            "marker": {
             "colorbar": {
              "outlinewidth": 0,
              "ticks": ""
             }
            },
            "type": "scatterpolar"
           }
          ],
          "scatterpolargl": [
           {
            "marker": {
             "colorbar": {
              "outlinewidth": 0,
              "ticks": ""
             }
            },
            "type": "scatterpolargl"
           }
          ],
          "scatterternary": [
           {
            "marker": {
             "colorbar": {
              "outlinewidth": 0,
              "ticks": ""
             }
            },
            "type": "scatterternary"
           }
          ],
          "surface": [
           {
            "colorbar": {
             "outlinewidth": 0,
             "ticks": ""
            },
            "colorscale": [
             [
              0,
              "#0d0887"
             ],
             [
              0.1111111111111111,
              "#46039f"
             ],
             [
              0.2222222222222222,
              "#7201a8"
             ],
             [
              0.3333333333333333,
              "#9c179e"
             ],
             [
              0.4444444444444444,
              "#bd3786"
             ],
             [
              0.5555555555555556,
              "#d8576b"
             ],
             [
              0.6666666666666666,
              "#ed7953"
             ],
             [
              0.7777777777777778,
              "#fb9f3a"
             ],
             [
              0.8888888888888888,
              "#fdca26"
             ],
             [
              1,
              "#f0f921"
             ]
            ],
            "type": "surface"
           }
          ],
          "table": [
           {
            "cells": {
             "fill": {
              "color": "#EBF0F8"
             },
             "line": {
              "color": "white"
             }
            },
            "header": {
             "fill": {
              "color": "#C8D4E3"
             },
             "line": {
              "color": "white"
             }
            },
            "type": "table"
           }
          ]
         },
         "layout": {
          "annotationdefaults": {
           "arrowcolor": "#2a3f5f",
           "arrowhead": 0,
           "arrowwidth": 1
          },
          "autotypenumbers": "strict",
          "coloraxis": {
           "colorbar": {
            "outlinewidth": 0,
            "ticks": ""
           }
          },
          "colorscale": {
           "diverging": [
            [
             0,
             "#8e0152"
            ],
            [
             0.1,
             "#c51b7d"
            ],
            [
             0.2,
             "#de77ae"
            ],
            [
             0.3,
             "#f1b6da"
            ],
            [
             0.4,
             "#fde0ef"
            ],
            [
             0.5,
             "#f7f7f7"
            ],
            [
             0.6,
             "#e6f5d0"
            ],
            [
             0.7,
             "#b8e186"
            ],
            [
             0.8,
             "#7fbc41"
            ],
            [
             0.9,
             "#4d9221"
            ],
            [
             1,
             "#276419"
            ]
           ],
           "sequential": [
            [
             0,
             "#0d0887"
            ],
            [
             0.1111111111111111,
             "#46039f"
            ],
            [
             0.2222222222222222,
             "#7201a8"
            ],
            [
             0.3333333333333333,
             "#9c179e"
            ],
            [
             0.4444444444444444,
             "#bd3786"
            ],
            [
             0.5555555555555556,
             "#d8576b"
            ],
            [
             0.6666666666666666,
             "#ed7953"
            ],
            [
             0.7777777777777778,
             "#fb9f3a"
            ],
            [
             0.8888888888888888,
             "#fdca26"
            ],
            [
             1,
             "#f0f921"
            ]
           ],
           "sequentialminus": [
            [
             0,
             "#0d0887"
            ],
            [
             0.1111111111111111,
             "#46039f"
            ],
            [
             0.2222222222222222,
             "#7201a8"
            ],
            [
             0.3333333333333333,
             "#9c179e"
            ],
            [
             0.4444444444444444,
             "#bd3786"
            ],
            [
             0.5555555555555556,
             "#d8576b"
            ],
            [
             0.6666666666666666,
             "#ed7953"
            ],
            [
             0.7777777777777778,
             "#fb9f3a"
            ],
            [
             0.8888888888888888,
             "#fdca26"
            ],
            [
             1,
             "#f0f921"
            ]
           ]
          },
          "colorway": [
           "#636efa",
           "#EF553B",
           "#00cc96",
           "#ab63fa",
           "#FFA15A",
           "#19d3f3",
           "#FF6692",
           "#B6E880",
           "#FF97FF",
           "#FECB52"
          ],
          "font": {
           "color": "#2a3f5f"
          },
          "geo": {
           "bgcolor": "white",
           "lakecolor": "white",
           "landcolor": "white",
           "showlakes": true,
           "showland": true,
           "subunitcolor": "#C8D4E3"
          },
          "hoverlabel": {
           "align": "left"
          },
          "hovermode": "closest",
          "mapbox": {
           "style": "light"
          },
          "paper_bgcolor": "white",
          "plot_bgcolor": "white",
          "polar": {
           "angularaxis": {
            "gridcolor": "#EBF0F8",
            "linecolor": "#EBF0F8",
            "ticks": ""
           },
           "bgcolor": "white",
           "radialaxis": {
            "gridcolor": "#EBF0F8",
            "linecolor": "#EBF0F8",
            "ticks": ""
           }
          },
          "scene": {
           "xaxis": {
            "backgroundcolor": "white",
            "gridcolor": "#DFE8F3",
            "gridwidth": 2,
            "linecolor": "#EBF0F8",
            "showbackground": true,
            "ticks": "",
            "zerolinecolor": "#EBF0F8"
           },
           "yaxis": {
            "backgroundcolor": "white",
            "gridcolor": "#DFE8F3",
            "gridwidth": 2,
            "linecolor": "#EBF0F8",
            "showbackground": true,
            "ticks": "",
            "zerolinecolor": "#EBF0F8"
           },
           "zaxis": {
            "backgroundcolor": "white",
            "gridcolor": "#DFE8F3",
            "gridwidth": 2,
            "linecolor": "#EBF0F8",
            "showbackground": true,
            "ticks": "",
            "zerolinecolor": "#EBF0F8"
           }
          },
          "shapedefaults": {
           "line": {
            "color": "#2a3f5f"
           }
          },
          "ternary": {
           "aaxis": {
            "gridcolor": "#DFE8F3",
            "linecolor": "#A2B1C6",
            "ticks": ""
           },
           "baxis": {
            "gridcolor": "#DFE8F3",
            "linecolor": "#A2B1C6",
            "ticks": ""
           },
           "bgcolor": "white",
           "caxis": {
            "gridcolor": "#DFE8F3",
            "linecolor": "#A2B1C6",
            "ticks": ""
           }
          },
          "title": {
           "x": 0.05
          },
          "xaxis": {
           "automargin": true,
           "gridcolor": "#EBF0F8",
           "linecolor": "#EBF0F8",
           "ticks": "",
           "title": {
            "standoff": 15
           },
           "zerolinecolor": "#EBF0F8",
           "zerolinewidth": 2
          },
          "yaxis": {
           "automargin": true,
           "gridcolor": "#EBF0F8",
           "linecolor": "#EBF0F8",
           "ticks": "",
           "title": {
            "standoff": 15
           },
           "zerolinecolor": "#EBF0F8",
           "zerolinewidth": 2
          }
         }
        },
        "title": {
         "text": "Hyperparameter Optimization in PLS"
        },
        "xaxis": {
         "title": {
          "text": "Number of Latent Variables"
         }
        },
        "yaxis": {
         "title": {
          "text": "Abs RMSE"
         }
        }
       }
      }
     },
     "metadata": {},
     "output_type": "display_data"
    }
   ],
   "source": [
    "plot_pls_cross_validation(train_eval, valid_eval, range_LV=range_LV)"
   ]
  },
  {
   "cell_type": "markdown",
   "metadata": {},
   "source": [
    "## BWU-PLS1\n",
    "- Batch Wise Unfolded - Partial Least Square Model (PLS1), also called Historical-PLS\n",
    "- BWU can be used to compute final properties of the experiment, like CQAs-Titer, which are typically the effect of the cumulated effect of the experiment profile.\n",
    "- Clearly, titer information are removed from the BWU matrix.\n",
    "\n",
    "* Training: $[Z, X(t < t_{final})] \\rightarrow PLS1 \\rightarrow y(t=t_{final})$\n",
    "* Testing: $[Z, X(t < t_{final})] \\rightarrow PLS1 \\rightarrow y(t=t_{final})$\n",
    "\n",
    "> Why not to use MLR:\n",
    "> Unlinke in the initial conditions model, there are several problems in using an linear regression / response surface model for modelling historical data, which makes it dificult to fit linear model.\n",
    "> - $X$ (the BWU data), rows (samples) < columns (variables). \n",
    "> - if $X^T X$ has full rank due only to noise, the inverse is unstable and small changes in noise realization can produce dramatically different results."
   ]
  },
  {
   "cell_type": "code",
   "execution_count": 213,
   "metadata": {},
   "outputs": [],
   "source": [
    "def preprocess(Z, X, process_history=14,\n",
    "    input_variables=[\n",
    "        \"feed_start\",\n",
    "        \"feed_end\",\n",
    "        \"feed_rate\",\n",
    "        \"glc_0\",\n",
    "        \"vcd_0\",\n",
    "        \"X:VCD\",\n",
    "        \"X:Glc\",\n",
    "    ]):\n",
    "    # Remove Variables\n",
    "    remove_columns = []\n",
    "    remove_columns.extend([c for c in X.columns if c.startswith(\"X:Titer\")])\n",
    "    if \"X:Lac\" in input_variables:\n",
    "        pass\n",
    "    else:\n",
    "        remove_columns.extend([c for c in X.columns if c.startswith(\"X:Lac\")])\n",
    "    if \"W:Feed\" in input_variables:\n",
    "        pass\n",
    "    else:\n",
    "        remove_columns.extend([c for c in X.columns if c.startswith(\"W:Feed\")])\n",
    "    if \"X:Glc\" in input_variables:\n",
    "        pass\n",
    "    else:\n",
    "        remove_columns.extend([c for c in X.columns if c.startswith(\"X:Glc\")])\n",
    "    if \"X:VCD\" in input_variables:\n",
    "        pass\n",
    "    else:\n",
    "        remove_columns.extend([c for c in X.columns if c.startswith(\"X:VCD\")])\n",
    "\n",
    "    # Remove History\n",
    "    for d in range(process_history, 15):\n",
    "        remove_columns.extend([c for c in X.columns if c.endswith(\":0\")])\n",
    "        remove_columns.extend([c for c in X.columns if c.endswith(\":\" + str(d))])\n",
    "\n",
    "    # Remove Invariant\n",
    "    remove_columns.extend(list(X.columns[~(X != X.iloc[0]).any().values]))\n",
    "\n",
    "    # Add and remove columns\n",
    "    X_preproc = pd.concat([Z, X.drop(set(remove_columns), axis=1)], axis=1)\n",
    "    return X_preproc"
   ]
  },
  {
   "cell_type": "code",
   "execution_count": 214,
   "metadata": {},
   "outputs": [],
   "source": [
    "def fit_hist_pls_model(\n",
    "    X,\n",
    "    y,\n",
    "    latent_variables=5,\n",
    "):\n",
    "    # Define Pipeline\n",
    "    pscaler = StandardScaler(with_mean=True, with_std=True)\n",
    "    pls_bwu = PLSRegression(n_components=latent_variables)\n",
    "    pipe = Pipeline([(\"scaler\", pscaler), (\"model\", pls_bwu)])\n",
    "\n",
    "    # Train PLS model\n",
    "    pipe.fit(X, y)\n",
    "    return pipe\n",
    "\n",
    "\n",
    "def plot_hist_pls_model_coef(X_preproc, pls_pipeline):\n",
    "    X_columns = X_preproc.columns\n",
    "    pls_bwu_vip = vip(X_preproc, model=pls_pipeline[\"model\"])\n",
    "    fig = px.bar(\n",
    "        x=list(X_columns),\n",
    "        y=pls_bwu_vip.reshape(-1),\n",
    "        title=\"VIP scores of Historical PLS model\",\n",
    "        labels={\"x\": \"Variables\", \"y\": \"Estimated VIP\", \"color\": \"p-value\"},\n",
    "    )\n",
    "    fig.add_hline(y=1)\n",
    "    fig.add_hline(y=0.8, line=dict(color=\"gray\"))\n",
    "    fig.update_layout(width=1600)\n",
    "    fig.show()\n",
    "\n",
    "\n",
    "def plot_hist_pls_model_eval(\n",
    "    y,\n",
    "    y_pred,\n",
    "    y_test,\n",
    "    y_test_pred,\n",
    "):\n",
    "\n",
    "    # Calculate error metrics\n",
    "    train_r2 = r2(y, y_pred)\n",
    "    train_abs_rmse = absolute_rmse(y, y_pred)\n",
    "    train_rel_rmse = relative_rmse(y, y_pred)\n",
    "    test_r2 = r2(y_test, y_test_pred)\n",
    "    test_abs_rmse = absolute_rmse(y_test, y_test_pred)\n",
    "    test_rel_rmse = relative_rmse(y_test, y_test_pred)\n",
    "\n",
    "    # Plot observed vs predicted\n",
    "    fig = make_subplots(\n",
    "        rows=1,\n",
    "        cols=2,\n",
    "        subplot_titles=(\n",
    "            f\"Train Set <br> R^2 = {train_r2} <br> Abs RMSE = {train_abs_rmse} <br> Rel RMSE = {train_rel_rmse}\",\n",
    "            f\"Test Set <br> R^2 = {test_r2} <br> Abs RMSE = {test_abs_rmse} <br> Rel RMSE = {test_rel_rmse}\",\n",
    "        ),\n",
    "    )\n",
    "    # Train set plot\n",
    "    fig.add_trace(\n",
    "        go.Scatter(x=y.values.reshape(-1), y=y_pred.reshape(-1), mode=\"markers\"),\n",
    "        row=1,\n",
    "        col=1,\n",
    "    )\n",
    "    fig.add_shape(\n",
    "        type=\"line\",\n",
    "        x0=min(y_pred)[0],\n",
    "        y0=min(y_pred)[0],\n",
    "        x1=max(y_pred)[0],\n",
    "        y1=max(y_pred)[0],\n",
    "        layer=\"below\",\n",
    "        line=dict(dash=\"dash\"),\n",
    "    )\n",
    "    # Test set plot\n",
    "    fig.add_trace(\n",
    "        go.Scatter(\n",
    "            x=y_test.values.reshape(-1), y=y_test_pred.reshape(-1), mode=\"markers\"\n",
    "        ),\n",
    "        row=1,\n",
    "        col=2,\n",
    "    )\n",
    "    fig.add_shape(\n",
    "        type=\"line\",\n",
    "        x0=min(y_test_pred)[0],\n",
    "        y0=min(y_test_pred)[0],\n",
    "        x1=max(y_test_pred)[0],\n",
    "        y1=max(y_test_pred)[0],\n",
    "        layer=\"below\",\n",
    "        line=dict(dash=\"dash\"),\n",
    "        row=1,\n",
    "        col=2,\n",
    "    )\n",
    "    fig.update_layout(title_text=\"Observed vs Predicted\", showlegend=False)\n",
    "    fig.update_layout(width=1600)\n",
    "    fig.show()\n",
    "\n",
    "\n",
    "def plot_hist_pls_scores(pls_pipe, pc_x_axis=1, pc_y_axis=2, X_columns=None):\n",
    "    model = pls_pipe[\"model\"]\n",
    "    fig = make_subplots(\n",
    "        rows=2,\n",
    "        cols=2,\n",
    "        specs=[[{\"colspan\": 2}, None], [{}, {}]],\n",
    "        subplot_titles=(\n",
    "            \"Scores Plot \",\n",
    "            \"Loadings of Principal Component - \" + str(pc_x_axis),\n",
    "            \"Loadings of Principal Component - \" + str(pc_y_axis),\n",
    "        ),\n",
    "    )\n",
    "    fig.add_trace(\n",
    "        go.Scatter(\n",
    "            x=model.x_scores_[:, pc_x_axis],\n",
    "            y=model.x_scores_[:, pc_y_axis],\n",
    "            mode=\"markers\",\n",
    "            name=\"Scores\",\n",
    "        ),\n",
    "        row=1,\n",
    "        col=1,\n",
    "    )\n",
    "    fig.add_bar(\n",
    "        x=X_columns,\n",
    "        y=model.x_loadings_[:, pc_x_axis - 1],\n",
    "        name=\"Loadings PC - \" + str(pc_x_axis),\n",
    "        row=2,\n",
    "        col=[1, 2],\n",
    "    )\n",
    "    fig.add_bar(\n",
    "        x=X_columns,\n",
    "        y=model.x_loadings_[:, pc_y_axis - 1],\n",
    "        name=\"Loadings PC - \" + str(pc_y_axis),\n",
    "        row=2,\n",
    "        col=2,\n",
    "    )\n",
    "    fig.update_layout(height=1000)\n",
    "    fig.show()\n",
    "\n",
    "\n",
    "def hist_pls_cross_validation(X, y, pls_pipeline):\n",
    "    range_LV = range(1, X.shape[1] + 1)\n",
    "    train_eval, valid_eval = validation_curve(\n",
    "        pls_pipeline,\n",
    "        X,\n",
    "        y,\n",
    "        param_name=\"model__n_components\",\n",
    "        param_range=list(range_LV),\n",
    "        scoring=\"neg_root_mean_squared_error\",\n",
    "    )\n",
    "    return train_eval, valid_eval, range_LV\n",
    "\n",
    "\n",
    "def plot_hist_pls_cross_validation(train_eval, valid_eval, range_LV=None):\n",
    "    train_score = -np.mean(train_eval, axis=1)\n",
    "    valid_score = -np.mean(valid_eval, axis=1)\n",
    "    train_std = np.std(train_eval, axis=1)\n",
    "    valid_std = np.std(valid_eval, axis=1)\n",
    "    fig = go.Figure()\n",
    "    fig.add_trace(\n",
    "        go.Scatter(\n",
    "            x=list(range_LV),\n",
    "            y=train_score,\n",
    "            error_y=dict(type=\"data\", array=train_std, visible=True),\n",
    "            name=\"Training\",\n",
    "        )\n",
    "    )\n",
    "    fig.add_trace(\n",
    "        go.Scatter(\n",
    "            x=list(range_LV),\n",
    "            y=valid_score,\n",
    "            error_y=dict(type=\"data\", array=valid_std, visible=True),\n",
    "            name=\"Validation\",\n",
    "        )\n",
    "    )\n",
    "    fig.update_layout(\n",
    "        title=\"Hyperparameter Optimization in Historical PLS\",\n",
    "        xaxis_title=\"Number of Latent Variables\",\n",
    "        yaxis_title=\"Abs RMSE\",\n",
    "        legend_title=\"Evaluation type\",\n",
    "    )\n",
    "    fig.show();"
   ]
  },
  {
   "cell_type": "markdown",
   "metadata": {},
   "source": [
    "### Setting"
   ]
  },
  {
   "cell_type": "code",
   "execution_count": 215,
   "metadata": {},
   "outputs": [],
   "source": [
    "\"\"\" Number of latent variables \"\"\"\n",
    "LATENT_VARIABLES_HIST = 15\n",
    "\n",
    "\"\"\" Number of days of process history \"\"\"\n",
    "PROCESS_HISTORY = 14\n",
    "\n",
    "\"\"\" Input variables \"\"\"\n",
    "INPUT_VARIABLES = ['feed_start','feed_end','feed_rate','glc_0','vcd_0','X:VCD', 'X:Glc']"
   ]
  },
  {
   "cell_type": "markdown",
   "metadata": {},
   "source": [
    "### Data"
   ]
  },
  {
   "cell_type": "code",
   "execution_count": 216,
   "metadata": {},
   "outputs": [],
   "source": [
    "X_preproc = preprocess(Z=doe, X=bwu, process_history=PROCESS_HISTORY, \n",
    "\t\t\t\t\t   input_variables=INPUT_VARIABLES)"
   ]
  },
  {
   "cell_type": "code",
   "execution_count": 217,
   "metadata": {},
   "outputs": [
    {
     "data": {
      "text/plain": [
       "Index(['feed_start', 'feed_end', 'Glc_feed_rate', 'Glc_0', 'VCD_0', 'X:VCD:1',\n",
       "       'X:VCD:2', 'X:VCD:3', 'X:VCD:4', 'X:VCD:5', 'X:VCD:6', 'X:VCD:7',\n",
       "       'X:VCD:8', 'X:VCD:9', 'X:VCD:10', 'X:VCD:11', 'X:VCD:12', 'X:VCD:13',\n",
       "       'X:Glc:1', 'X:Glc:2', 'X:Glc:3', 'X:Glc:4', 'X:Glc:5', 'X:Glc:6',\n",
       "       'X:Glc:7', 'X:Glc:8', 'X:Glc:9', 'X:Glc:10', 'X:Glc:11', 'X:Glc:12',\n",
       "       'X:Glc:13'],\n",
       "      dtype='object')"
      ]
     },
     "execution_count": 217,
     "metadata": {},
     "output_type": "execute_result"
    }
   ],
   "source": [
    "X_preproc.columns"
   ]
  },
  {
   "cell_type": "markdown",
   "metadata": {},
   "source": [
    "### Train\n",
    "\n",
    "* Remove titer (and also lactate)\n",
    "* Remove exceeding days\n",
    "* Eliminate invariant columns\n",
    "* Remove linearly dependent columns\n",
    "* Add process parameters at the beginning\n",
    "* Create a PLS model from the initial design to the final titer\n"
   ]
  },
  {
   "cell_type": "code",
   "execution_count": 218,
   "metadata": {},
   "outputs": [
    {
     "data": {
      "application/vnd.plotly.v1+json": {
       "config": {
        "plotlyServerURL": "https://plot.ly"
       },
       "data": [
        {
         "alignmentgroup": "True",
         "hovertemplate": "Variables=%{x}<br>Estimated VIP=%{y}<extra></extra>",
         "legendgroup": "",
         "marker": {
          "color": "#636efa",
          "pattern": {
           "shape": ""
          }
         },
         "name": "",
         "offsetgroup": "",
         "orientation": "v",
         "showlegend": false,
         "textposition": "auto",
         "type": "bar",
         "x": [
          "feed_start",
          "feed_end",
          "Glc_feed_rate",
          "Glc_0",
          "VCD_0",
          "X:VCD:1",
          "X:VCD:2",
          "X:VCD:3",
          "X:VCD:4",
          "X:VCD:5",
          "X:VCD:6",
          "X:VCD:7",
          "X:VCD:8",
          "X:VCD:9",
          "X:VCD:10",
          "X:VCD:11",
          "X:VCD:12",
          "X:VCD:13",
          "X:Glc:1",
          "X:Glc:2",
          "X:Glc:3",
          "X:Glc:4",
          "X:Glc:5",
          "X:Glc:6",
          "X:Glc:7",
          "X:Glc:8",
          "X:Glc:9",
          "X:Glc:10",
          "X:Glc:11",
          "X:Glc:12",
          "X:Glc:13"
         ],
         "xaxis": "x",
         "y": [
          0.5000228875974302,
          0.6256835295687115,
          0.7224035458386034,
          0.5053499294935749,
          0.5208628095488941,
          0.36121385990932964,
          0.4091552492404136,
          0.6803325552544347,
          1.0435191506966048,
          1.2296955871948474,
          1.2877215267523572,
          1.293959571929428,
          1.2936798783150694,
          1.3080187365193678,
          1.3189559508907225,
          1.3255914139012286,
          1.333216803724409,
          1.342833798704721,
          0.5106091510226877,
          0.6125485979879021,
          0.7248121283640268,
          0.8564317275529342,
          0.9682016285821137,
          1.0413234099339395,
          1.0839580067325167,
          1.1082712145638383,
          1.1041880503991135,
          1.065331638235697,
          1.059714196889627,
          1.0784787976634957,
          1.09247923345303
         ],
         "yaxis": "y"
        }
       ],
       "layout": {
        "barmode": "relative",
        "legend": {
         "tracegroupgap": 0
        },
        "shapes": [
         {
          "type": "line",
          "x0": 0,
          "x1": 1,
          "xref": "x domain",
          "y0": 1,
          "y1": 1,
          "yref": "y"
         },
         {
          "line": {
           "color": "gray"
          },
          "type": "line",
          "x0": 0,
          "x1": 1,
          "xref": "x domain",
          "y0": 0.8,
          "y1": 0.8,
          "yref": "y"
         }
        ],
        "template": {
         "data": {
          "bar": [
           {
            "error_x": {
             "color": "#2a3f5f"
            },
            "error_y": {
             "color": "#2a3f5f"
            },
            "marker": {
             "line": {
              "color": "white",
              "width": 0.5
             },
             "pattern": {
              "fillmode": "overlay",
              "size": 10,
              "solidity": 0.2
             }
            },
            "type": "bar"
           }
          ],
          "barpolar": [
           {
            "marker": {
             "line": {
              "color": "white",
              "width": 0.5
             },
             "pattern": {
              "fillmode": "overlay",
              "size": 10,
              "solidity": 0.2
             }
            },
            "type": "barpolar"
           }
          ],
          "carpet": [
           {
            "aaxis": {
             "endlinecolor": "#2a3f5f",
             "gridcolor": "#C8D4E3",
             "linecolor": "#C8D4E3",
             "minorgridcolor": "#C8D4E3",
             "startlinecolor": "#2a3f5f"
            },
            "baxis": {
             "endlinecolor": "#2a3f5f",
             "gridcolor": "#C8D4E3",
             "linecolor": "#C8D4E3",
             "minorgridcolor": "#C8D4E3",
             "startlinecolor": "#2a3f5f"
            },
            "type": "carpet"
           }
          ],
          "choropleth": [
           {
            "colorbar": {
             "outlinewidth": 0,
             "ticks": ""
            },
            "type": "choropleth"
           }
          ],
          "contour": [
           {
            "colorbar": {
             "outlinewidth": 0,
             "ticks": ""
            },
            "colorscale": [
             [
              0,
              "#0d0887"
             ],
             [
              0.1111111111111111,
              "#46039f"
             ],
             [
              0.2222222222222222,
              "#7201a8"
             ],
             [
              0.3333333333333333,
              "#9c179e"
             ],
             [
              0.4444444444444444,
              "#bd3786"
             ],
             [
              0.5555555555555556,
              "#d8576b"
             ],
             [
              0.6666666666666666,
              "#ed7953"
             ],
             [
              0.7777777777777778,
              "#fb9f3a"
             ],
             [
              0.8888888888888888,
              "#fdca26"
             ],
             [
              1,
              "#f0f921"
             ]
            ],
            "type": "contour"
           }
          ],
          "contourcarpet": [
           {
            "colorbar": {
             "outlinewidth": 0,
             "ticks": ""
            },
            "type": "contourcarpet"
           }
          ],
          "heatmap": [
           {
            "colorbar": {
             "outlinewidth": 0,
             "ticks": ""
            },
            "colorscale": [
             [
              0,
              "#0d0887"
             ],
             [
              0.1111111111111111,
              "#46039f"
             ],
             [
              0.2222222222222222,
              "#7201a8"
             ],
             [
              0.3333333333333333,
              "#9c179e"
             ],
             [
              0.4444444444444444,
              "#bd3786"
             ],
             [
              0.5555555555555556,
              "#d8576b"
             ],
             [
              0.6666666666666666,
              "#ed7953"
             ],
             [
              0.7777777777777778,
              "#fb9f3a"
             ],
             [
              0.8888888888888888,
              "#fdca26"
             ],
             [
              1,
              "#f0f921"
             ]
            ],
            "type": "heatmap"
           }
          ],
          "heatmapgl": [
           {
            "colorbar": {
             "outlinewidth": 0,
             "ticks": ""
            },
            "colorscale": [
             [
              0,
              "#0d0887"
             ],
             [
              0.1111111111111111,
              "#46039f"
             ],
             [
              0.2222222222222222,
              "#7201a8"
             ],
             [
              0.3333333333333333,
              "#9c179e"
             ],
             [
              0.4444444444444444,
              "#bd3786"
             ],
             [
              0.5555555555555556,
              "#d8576b"
             ],
             [
              0.6666666666666666,
              "#ed7953"
             ],
             [
              0.7777777777777778,
              "#fb9f3a"
             ],
             [
              0.8888888888888888,
              "#fdca26"
             ],
             [
              1,
              "#f0f921"
             ]
            ],
            "type": "heatmapgl"
           }
          ],
          "histogram": [
           {
            "marker": {
             "pattern": {
              "fillmode": "overlay",
              "size": 10,
              "solidity": 0.2
             }
            },
            "type": "histogram"
           }
          ],
          "histogram2d": [
           {
            "colorbar": {
             "outlinewidth": 0,
             "ticks": ""
            },
            "colorscale": [
             [
              0,
              "#0d0887"
             ],
             [
              0.1111111111111111,
              "#46039f"
             ],
             [
              0.2222222222222222,
              "#7201a8"
             ],
             [
              0.3333333333333333,
              "#9c179e"
             ],
             [
              0.4444444444444444,
              "#bd3786"
             ],
             [
              0.5555555555555556,
              "#d8576b"
             ],
             [
              0.6666666666666666,
              "#ed7953"
             ],
             [
              0.7777777777777778,
              "#fb9f3a"
             ],
             [
              0.8888888888888888,
              "#fdca26"
             ],
             [
              1,
              "#f0f921"
             ]
            ],
            "type": "histogram2d"
           }
          ],
          "histogram2dcontour": [
           {
            "colorbar": {
             "outlinewidth": 0,
             "ticks": ""
            },
            "colorscale": [
             [
              0,
              "#0d0887"
             ],
             [
              0.1111111111111111,
              "#46039f"
             ],
             [
              0.2222222222222222,
              "#7201a8"
             ],
             [
              0.3333333333333333,
              "#9c179e"
             ],
             [
              0.4444444444444444,
              "#bd3786"
             ],
             [
              0.5555555555555556,
              "#d8576b"
             ],
             [
              0.6666666666666666,
              "#ed7953"
             ],
             [
              0.7777777777777778,
              "#fb9f3a"
             ],
             [
              0.8888888888888888,
              "#fdca26"
             ],
             [
              1,
              "#f0f921"
             ]
            ],
            "type": "histogram2dcontour"
           }
          ],
          "mesh3d": [
           {
            "colorbar": {
             "outlinewidth": 0,
             "ticks": ""
            },
            "type": "mesh3d"
           }
          ],
          "parcoords": [
           {
            "line": {
             "colorbar": {
              "outlinewidth": 0,
              "ticks": ""
             }
            },
            "type": "parcoords"
           }
          ],
          "pie": [
           {
            "automargin": true,
            "type": "pie"
           }
          ],
          "scatter": [
           {
            "fillpattern": {
             "fillmode": "overlay",
             "size": 10,
             "solidity": 0.2
            },
            "type": "scatter"
           }
          ],
          "scatter3d": [
           {
            "line": {
             "colorbar": {
              "outlinewidth": 0,
              "ticks": ""
             }
            },
            "marker": {
             "colorbar": {
              "outlinewidth": 0,
              "ticks": ""
             }
            },
            "type": "scatter3d"
           }
          ],
          "scattercarpet": [
           {
            "marker": {
             "colorbar": {
              "outlinewidth": 0,
              "ticks": ""
             }
            },
            "type": "scattercarpet"
           }
          ],
          "scattergeo": [
           {
            "marker": {
             "colorbar": {
              "outlinewidth": 0,
              "ticks": ""
             }
            },
            "type": "scattergeo"
           }
          ],
          "scattergl": [
           {
            "marker": {
             "colorbar": {
              "outlinewidth": 0,
              "ticks": ""
             }
            },
            "type": "scattergl"
           }
          ],
          "scattermapbox": [
           {
            "marker": {
             "colorbar": {
              "outlinewidth": 0,
              "ticks": ""
             }
            },
            "type": "scattermapbox"
           }
          ],
          "scatterpolar": [
           {
            "marker": {
             "colorbar": {
              "outlinewidth": 0,
              "ticks": ""
             }
            },
            "type": "scatterpolar"
           }
          ],
          "scatterpolargl": [
           {
            "marker": {
             "colorbar": {
              "outlinewidth": 0,
              "ticks": ""
             }
            },
            "type": "scatterpolargl"
           }
          ],
          "scatterternary": [
           {
            "marker": {
             "colorbar": {
              "outlinewidth": 0,
              "ticks": ""
             }
            },
            "type": "scatterternary"
           }
          ],
          "surface": [
           {
            "colorbar": {
             "outlinewidth": 0,
             "ticks": ""
            },
            "colorscale": [
             [
              0,
              "#0d0887"
             ],
             [
              0.1111111111111111,
              "#46039f"
             ],
             [
              0.2222222222222222,
              "#7201a8"
             ],
             [
              0.3333333333333333,
              "#9c179e"
             ],
             [
              0.4444444444444444,
              "#bd3786"
             ],
             [
              0.5555555555555556,
              "#d8576b"
             ],
             [
              0.6666666666666666,
              "#ed7953"
             ],
             [
              0.7777777777777778,
              "#fb9f3a"
             ],
             [
              0.8888888888888888,
              "#fdca26"
             ],
             [
              1,
              "#f0f921"
             ]
            ],
            "type": "surface"
           }
          ],
          "table": [
           {
            "cells": {
             "fill": {
              "color": "#EBF0F8"
             },
             "line": {
              "color": "white"
             }
            },
            "header": {
             "fill": {
              "color": "#C8D4E3"
             },
             "line": {
              "color": "white"
             }
            },
            "type": "table"
           }
          ]
         },
         "layout": {
          "annotationdefaults": {
           "arrowcolor": "#2a3f5f",
           "arrowhead": 0,
           "arrowwidth": 1
          },
          "autotypenumbers": "strict",
          "coloraxis": {
           "colorbar": {
            "outlinewidth": 0,
            "ticks": ""
           }
          },
          "colorscale": {
           "diverging": [
            [
             0,
             "#8e0152"
            ],
            [
             0.1,
             "#c51b7d"
            ],
            [
             0.2,
             "#de77ae"
            ],
            [
             0.3,
             "#f1b6da"
            ],
            [
             0.4,
             "#fde0ef"
            ],
            [
             0.5,
             "#f7f7f7"
            ],
            [
             0.6,
             "#e6f5d0"
            ],
            [
             0.7,
             "#b8e186"
            ],
            [
             0.8,
             "#7fbc41"
            ],
            [
             0.9,
             "#4d9221"
            ],
            [
             1,
             "#276419"
            ]
           ],
           "sequential": [
            [
             0,
             "#0d0887"
            ],
            [
             0.1111111111111111,
             "#46039f"
            ],
            [
             0.2222222222222222,
             "#7201a8"
            ],
            [
             0.3333333333333333,
             "#9c179e"
            ],
            [
             0.4444444444444444,
             "#bd3786"
            ],
            [
             0.5555555555555556,
             "#d8576b"
            ],
            [
             0.6666666666666666,
             "#ed7953"
            ],
            [
             0.7777777777777778,
             "#fb9f3a"
            ],
            [
             0.8888888888888888,
             "#fdca26"
            ],
            [
             1,
             "#f0f921"
            ]
           ],
           "sequentialminus": [
            [
             0,
             "#0d0887"
            ],
            [
             0.1111111111111111,
             "#46039f"
            ],
            [
             0.2222222222222222,
             "#7201a8"
            ],
            [
             0.3333333333333333,
             "#9c179e"
            ],
            [
             0.4444444444444444,
             "#bd3786"
            ],
            [
             0.5555555555555556,
             "#d8576b"
            ],
            [
             0.6666666666666666,
             "#ed7953"
            ],
            [
             0.7777777777777778,
             "#fb9f3a"
            ],
            [
             0.8888888888888888,
             "#fdca26"
            ],
            [
             1,
             "#f0f921"
            ]
           ]
          },
          "colorway": [
           "#636efa",
           "#EF553B",
           "#00cc96",
           "#ab63fa",
           "#FFA15A",
           "#19d3f3",
           "#FF6692",
           "#B6E880",
           "#FF97FF",
           "#FECB52"
          ],
          "font": {
           "color": "#2a3f5f"
          },
          "geo": {
           "bgcolor": "white",
           "lakecolor": "white",
           "landcolor": "white",
           "showlakes": true,
           "showland": true,
           "subunitcolor": "#C8D4E3"
          },
          "hoverlabel": {
           "align": "left"
          },
          "hovermode": "closest",
          "mapbox": {
           "style": "light"
          },
          "paper_bgcolor": "white",
          "plot_bgcolor": "white",
          "polar": {
           "angularaxis": {
            "gridcolor": "#EBF0F8",
            "linecolor": "#EBF0F8",
            "ticks": ""
           },
           "bgcolor": "white",
           "radialaxis": {
            "gridcolor": "#EBF0F8",
            "linecolor": "#EBF0F8",
            "ticks": ""
           }
          },
          "scene": {
           "xaxis": {
            "backgroundcolor": "white",
            "gridcolor": "#DFE8F3",
            "gridwidth": 2,
            "linecolor": "#EBF0F8",
            "showbackground": true,
            "ticks": "",
            "zerolinecolor": "#EBF0F8"
           },
           "yaxis": {
            "backgroundcolor": "white",
            "gridcolor": "#DFE8F3",
            "gridwidth": 2,
            "linecolor": "#EBF0F8",
            "showbackground": true,
            "ticks": "",
            "zerolinecolor": "#EBF0F8"
           },
           "zaxis": {
            "backgroundcolor": "white",
            "gridcolor": "#DFE8F3",
            "gridwidth": 2,
            "linecolor": "#EBF0F8",
            "showbackground": true,
            "ticks": "",
            "zerolinecolor": "#EBF0F8"
           }
          },
          "shapedefaults": {
           "line": {
            "color": "#2a3f5f"
           }
          },
          "ternary": {
           "aaxis": {
            "gridcolor": "#DFE8F3",
            "linecolor": "#A2B1C6",
            "ticks": ""
           },
           "baxis": {
            "gridcolor": "#DFE8F3",
            "linecolor": "#A2B1C6",
            "ticks": ""
           },
           "bgcolor": "white",
           "caxis": {
            "gridcolor": "#DFE8F3",
            "linecolor": "#A2B1C6",
            "ticks": ""
           }
          },
          "title": {
           "x": 0.05
          },
          "xaxis": {
           "automargin": true,
           "gridcolor": "#EBF0F8",
           "linecolor": "#EBF0F8",
           "ticks": "",
           "title": {
            "standoff": 15
           },
           "zerolinecolor": "#EBF0F8",
           "zerolinewidth": 2
          },
          "yaxis": {
           "automargin": true,
           "gridcolor": "#EBF0F8",
           "linecolor": "#EBF0F8",
           "ticks": "",
           "title": {
            "standoff": 15
           },
           "zerolinecolor": "#EBF0F8",
           "zerolinewidth": 2
          }
         }
        },
        "title": {
         "text": "VIP scores of Historical PLS model"
        },
        "width": 1600,
        "xaxis": {
         "anchor": "y",
         "domain": [
          0,
          1
         ],
         "title": {
          "text": "Variables"
         }
        },
        "yaxis": {
         "anchor": "x",
         "domain": [
          0,
          1
         ],
         "title": {
          "text": "Estimated VIP"
         }
        }
       }
      }
     },
     "metadata": {},
     "output_type": "display_data"
    }
   ],
   "source": [
    "pipe = fit_hist_pls_model(\n",
    "    X=X_preproc,\n",
    "    y=tar,\n",
    "    latent_variables=LATENT_VARIABLES_HIST,\n",
    ")\n",
    "\n",
    "plot_hist_pls_model_coef(X_preproc, pls_pipeline=pipe)"
   ]
  },
  {
   "cell_type": "markdown",
   "metadata": {},
   "source": [
    "### Test"
   ]
  },
  {
   "cell_type": "code",
   "execution_count": 219,
   "metadata": {},
   "outputs": [
    {
     "data": {
      "application/vnd.plotly.v1+json": {
       "config": {
        "plotlyServerURL": "https://plot.ly"
       },
       "data": [
        {
         "mode": "markers",
         "type": "scatter",
         "x": [
          598.2145117811539,
          677.286485760024,
          962.4350388200675,
          376.47128383977974,
          749.0360751758775,
          609.6723561724535,
          734.4947499947726,
          736.7845196154994,
          546.2042000821999,
          909.6127156214135,
          815.9583992489415,
          657.2030461292619,
          821.9922100526519,
          909.1925202242863,
          442.43899855360496,
          659.6003392397972,
          736.2204919840465,
          726.2255606564651,
          612.0684664730786,
          939.0964006837039,
          955.1470347957396,
          578.6424523588773,
          674.8901082097983,
          910.8012914346239,
          676.5850123143858,
          812.4925623898673,
          408.12104029869994,
          1034.889209312743,
          1616.008650761448,
          1163.9810469742717,
          1710.1829597211827
         ],
         "xaxis": "x",
         "y": [
          644.9420928041085,
          696.45469425608,
          909.9613488885437,
          383.29302950801554,
          765.7245337564633,
          622.1035227983168,
          706.5285599628929,
          747.1054441616249,
          538.955941782199,
          948.4732489899642,
          799.197491687803,
          619.0331944909037,
          792.8469678276402,
          927.8257889250544,
          457.5191640284913,
          598.6287132674823,
          735.2886942565194,
          738.4342966268296,
          621.564067120164,
          981.1909334759471,
          893.2651655390218,
          536.0398129859466,
          735.9335964644706,
          919.5228085879787,
          692.8689602375673,
          810.5941026931239,
          463.19250950555056,
          965.076300167774,
          1613.7680259096383,
          1165.4334346696996,
          1731.1832933049054
         ],
         "yaxis": "y"
        },
        {
         "mode": "markers",
         "type": "scatter",
         "x": [
          2216.397102067465,
          1740.4059733542372,
          1577.254773447464,
          1209.6745136328002,
          1103.5760897930825,
          1127.890886560569,
          1647.4136745039298,
          1356.2614739098437,
          1610.2672422667451,
          1927.6928415249356,
          1893.7831892521458,
          1443.319301111057,
          1240.0992254222554,
          1088.1897229222657,
          1277.316030212535,
          1321.6726446420448,
          1481.2762023112161,
          1087.0909830692501,
          1756.7390222942445
         ],
         "xaxis": "x2",
         "y": [
          1924.251298855087,
          1635.3908770338057,
          1484.8079482616808,
          1313.4358152902628,
          945.88599427169,
          1104.5048078683644,
          1614.207328017512,
          1384.3235670597314,
          1484.0380973270649,
          1939.8753441168078,
          1638.1508256898865,
          1454.62197431094,
          1103.7973123634758,
          1091.300852020175,
          1185.12118902019,
          1166.2054033442391,
          1407.3945525577096,
          952.8052781343665,
          1557.2055711591192
         ],
         "yaxis": "y2"
        }
       ],
       "layout": {
        "annotations": [
         {
          "font": {
           "size": 16
          },
          "showarrow": false,
          "text": "Train Set <br> R^2 = 0.986 <br> Abs RMSE = 33.696 <br> Rel RMSE = 0.117",
          "x": 0.225,
          "xanchor": "center",
          "xref": "paper",
          "y": 1,
          "yanchor": "bottom",
          "yref": "paper"
         },
         {
          "font": {
           "size": 16
          },
          "showarrow": false,
          "text": "Test Set <br> R^2 = 0.821 <br> Abs RMSE = 133.597 <br> Rel RMSE = 0.422",
          "x": 0.775,
          "xanchor": "center",
          "xref": "paper",
          "y": 1,
          "yanchor": "bottom",
          "yref": "paper"
         }
        ],
        "shapes": [
         {
          "layer": "below",
          "line": {
           "dash": "dash"
          },
          "type": "line",
          "x0": 383.29302950801554,
          "x1": 1731.1832933049054,
          "y0": 383.29302950801554,
          "y1": 1731.1832933049054
         },
         {
          "layer": "below",
          "line": {
           "dash": "dash"
          },
          "type": "line",
          "x0": 945.88599427169,
          "x1": 1939.8753441168078,
          "xref": "x2",
          "y0": 945.88599427169,
          "y1": 1939.8753441168078,
          "yref": "y2"
         }
        ],
        "showlegend": false,
        "template": {
         "data": {
          "bar": [
           {
            "error_x": {
             "color": "#2a3f5f"
            },
            "error_y": {
             "color": "#2a3f5f"
            },
            "marker": {
             "line": {
              "color": "white",
              "width": 0.5
             },
             "pattern": {
              "fillmode": "overlay",
              "size": 10,
              "solidity": 0.2
             }
            },
            "type": "bar"
           }
          ],
          "barpolar": [
           {
            "marker": {
             "line": {
              "color": "white",
              "width": 0.5
             },
             "pattern": {
              "fillmode": "overlay",
              "size": 10,
              "solidity": 0.2
             }
            },
            "type": "barpolar"
           }
          ],
          "carpet": [
           {
            "aaxis": {
             "endlinecolor": "#2a3f5f",
             "gridcolor": "#C8D4E3",
             "linecolor": "#C8D4E3",
             "minorgridcolor": "#C8D4E3",
             "startlinecolor": "#2a3f5f"
            },
            "baxis": {
             "endlinecolor": "#2a3f5f",
             "gridcolor": "#C8D4E3",
             "linecolor": "#C8D4E3",
             "minorgridcolor": "#C8D4E3",
             "startlinecolor": "#2a3f5f"
            },
            "type": "carpet"
           }
          ],
          "choropleth": [
           {
            "colorbar": {
             "outlinewidth": 0,
             "ticks": ""
            },
            "type": "choropleth"
           }
          ],
          "contour": [
           {
            "colorbar": {
             "outlinewidth": 0,
             "ticks": ""
            },
            "colorscale": [
             [
              0,
              "#0d0887"
             ],
             [
              0.1111111111111111,
              "#46039f"
             ],
             [
              0.2222222222222222,
              "#7201a8"
             ],
             [
              0.3333333333333333,
              "#9c179e"
             ],
             [
              0.4444444444444444,
              "#bd3786"
             ],
             [
              0.5555555555555556,
              "#d8576b"
             ],
             [
              0.6666666666666666,
              "#ed7953"
             ],
             [
              0.7777777777777778,
              "#fb9f3a"
             ],
             [
              0.8888888888888888,
              "#fdca26"
             ],
             [
              1,
              "#f0f921"
             ]
            ],
            "type": "contour"
           }
          ],
          "contourcarpet": [
           {
            "colorbar": {
             "outlinewidth": 0,
             "ticks": ""
            },
            "type": "contourcarpet"
           }
          ],
          "heatmap": [
           {
            "colorbar": {
             "outlinewidth": 0,
             "ticks": ""
            },
            "colorscale": [
             [
              0,
              "#0d0887"
             ],
             [
              0.1111111111111111,
              "#46039f"
             ],
             [
              0.2222222222222222,
              "#7201a8"
             ],
             [
              0.3333333333333333,
              "#9c179e"
             ],
             [
              0.4444444444444444,
              "#bd3786"
             ],
             [
              0.5555555555555556,
              "#d8576b"
             ],
             [
              0.6666666666666666,
              "#ed7953"
             ],
             [
              0.7777777777777778,
              "#fb9f3a"
             ],
             [
              0.8888888888888888,
              "#fdca26"
             ],
             [
              1,
              "#f0f921"
             ]
            ],
            "type": "heatmap"
           }
          ],
          "heatmapgl": [
           {
            "colorbar": {
             "outlinewidth": 0,
             "ticks": ""
            },
            "colorscale": [
             [
              0,
              "#0d0887"
             ],
             [
              0.1111111111111111,
              "#46039f"
             ],
             [
              0.2222222222222222,
              "#7201a8"
             ],
             [
              0.3333333333333333,
              "#9c179e"
             ],
             [
              0.4444444444444444,
              "#bd3786"
             ],
             [
              0.5555555555555556,
              "#d8576b"
             ],
             [
              0.6666666666666666,
              "#ed7953"
             ],
             [
              0.7777777777777778,
              "#fb9f3a"
             ],
             [
              0.8888888888888888,
              "#fdca26"
             ],
             [
              1,
              "#f0f921"
             ]
            ],
            "type": "heatmapgl"
           }
          ],
          "histogram": [
           {
            "marker": {
             "pattern": {
              "fillmode": "overlay",
              "size": 10,
              "solidity": 0.2
             }
            },
            "type": "histogram"
           }
          ],
          "histogram2d": [
           {
            "colorbar": {
             "outlinewidth": 0,
             "ticks": ""
            },
            "colorscale": [
             [
              0,
              "#0d0887"
             ],
             [
              0.1111111111111111,
              "#46039f"
             ],
             [
              0.2222222222222222,
              "#7201a8"
             ],
             [
              0.3333333333333333,
              "#9c179e"
             ],
             [
              0.4444444444444444,
              "#bd3786"
             ],
             [
              0.5555555555555556,
              "#d8576b"
             ],
             [
              0.6666666666666666,
              "#ed7953"
             ],
             [
              0.7777777777777778,
              "#fb9f3a"
             ],
             [
              0.8888888888888888,
              "#fdca26"
             ],
             [
              1,
              "#f0f921"
             ]
            ],
            "type": "histogram2d"
           }
          ],
          "histogram2dcontour": [
           {
            "colorbar": {
             "outlinewidth": 0,
             "ticks": ""
            },
            "colorscale": [
             [
              0,
              "#0d0887"
             ],
             [
              0.1111111111111111,
              "#46039f"
             ],
             [
              0.2222222222222222,
              "#7201a8"
             ],
             [
              0.3333333333333333,
              "#9c179e"
             ],
             [
              0.4444444444444444,
              "#bd3786"
             ],
             [
              0.5555555555555556,
              "#d8576b"
             ],
             [
              0.6666666666666666,
              "#ed7953"
             ],
             [
              0.7777777777777778,
              "#fb9f3a"
             ],
             [
              0.8888888888888888,
              "#fdca26"
             ],
             [
              1,
              "#f0f921"
             ]
            ],
            "type": "histogram2dcontour"
           }
          ],
          "mesh3d": [
           {
            "colorbar": {
             "outlinewidth": 0,
             "ticks": ""
            },
            "type": "mesh3d"
           }
          ],
          "parcoords": [
           {
            "line": {
             "colorbar": {
              "outlinewidth": 0,
              "ticks": ""
             }
            },
            "type": "parcoords"
           }
          ],
          "pie": [
           {
            "automargin": true,
            "type": "pie"
           }
          ],
          "scatter": [
           {
            "fillpattern": {
             "fillmode": "overlay",
             "size": 10,
             "solidity": 0.2
            },
            "type": "scatter"
           }
          ],
          "scatter3d": [
           {
            "line": {
             "colorbar": {
              "outlinewidth": 0,
              "ticks": ""
             }
            },
            "marker": {
             "colorbar": {
              "outlinewidth": 0,
              "ticks": ""
             }
            },
            "type": "scatter3d"
           }
          ],
          "scattercarpet": [
           {
            "marker": {
             "colorbar": {
              "outlinewidth": 0,
              "ticks": ""
             }
            },
            "type": "scattercarpet"
           }
          ],
          "scattergeo": [
           {
            "marker": {
             "colorbar": {
              "outlinewidth": 0,
              "ticks": ""
             }
            },
            "type": "scattergeo"
           }
          ],
          "scattergl": [
           {
            "marker": {
             "colorbar": {
              "outlinewidth": 0,
              "ticks": ""
             }
            },
            "type": "scattergl"
           }
          ],
          "scattermapbox": [
           {
            "marker": {
             "colorbar": {
              "outlinewidth": 0,
              "ticks": ""
             }
            },
            "type": "scattermapbox"
           }
          ],
          "scatterpolar": [
           {
            "marker": {
             "colorbar": {
              "outlinewidth": 0,
              "ticks": ""
             }
            },
            "type": "scatterpolar"
           }
          ],
          "scatterpolargl": [
           {
            "marker": {
             "colorbar": {
              "outlinewidth": 0,
              "ticks": ""
             }
            },
            "type": "scatterpolargl"
           }
          ],
          "scatterternary": [
           {
            "marker": {
             "colorbar": {
              "outlinewidth": 0,
              "ticks": ""
             }
            },
            "type": "scatterternary"
           }
          ],
          "surface": [
           {
            "colorbar": {
             "outlinewidth": 0,
             "ticks": ""
            },
            "colorscale": [
             [
              0,
              "#0d0887"
             ],
             [
              0.1111111111111111,
              "#46039f"
             ],
             [
              0.2222222222222222,
              "#7201a8"
             ],
             [
              0.3333333333333333,
              "#9c179e"
             ],
             [
              0.4444444444444444,
              "#bd3786"
             ],
             [
              0.5555555555555556,
              "#d8576b"
             ],
             [
              0.6666666666666666,
              "#ed7953"
             ],
             [
              0.7777777777777778,
              "#fb9f3a"
             ],
             [
              0.8888888888888888,
              "#fdca26"
             ],
             [
              1,
              "#f0f921"
             ]
            ],
            "type": "surface"
           }
          ],
          "table": [
           {
            "cells": {
             "fill": {
              "color": "#EBF0F8"
             },
             "line": {
              "color": "white"
             }
            },
            "header": {
             "fill": {
              "color": "#C8D4E3"
             },
             "line": {
              "color": "white"
             }
            },
            "type": "table"
           }
          ]
         },
         "layout": {
          "annotationdefaults": {
           "arrowcolor": "#2a3f5f",
           "arrowhead": 0,
           "arrowwidth": 1
          },
          "autotypenumbers": "strict",
          "coloraxis": {
           "colorbar": {
            "outlinewidth": 0,
            "ticks": ""
           }
          },
          "colorscale": {
           "diverging": [
            [
             0,
             "#8e0152"
            ],
            [
             0.1,
             "#c51b7d"
            ],
            [
             0.2,
             "#de77ae"
            ],
            [
             0.3,
             "#f1b6da"
            ],
            [
             0.4,
             "#fde0ef"
            ],
            [
             0.5,
             "#f7f7f7"
            ],
            [
             0.6,
             "#e6f5d0"
            ],
            [
             0.7,
             "#b8e186"
            ],
            [
             0.8,
             "#7fbc41"
            ],
            [
             0.9,
             "#4d9221"
            ],
            [
             1,
             "#276419"
            ]
           ],
           "sequential": [
            [
             0,
             "#0d0887"
            ],
            [
             0.1111111111111111,
             "#46039f"
            ],
            [
             0.2222222222222222,
             "#7201a8"
            ],
            [
             0.3333333333333333,
             "#9c179e"
            ],
            [
             0.4444444444444444,
             "#bd3786"
            ],
            [
             0.5555555555555556,
             "#d8576b"
            ],
            [
             0.6666666666666666,
             "#ed7953"
            ],
            [
             0.7777777777777778,
             "#fb9f3a"
            ],
            [
             0.8888888888888888,
             "#fdca26"
            ],
            [
             1,
             "#f0f921"
            ]
           ],
           "sequentialminus": [
            [
             0,
             "#0d0887"
            ],
            [
             0.1111111111111111,
             "#46039f"
            ],
            [
             0.2222222222222222,
             "#7201a8"
            ],
            [
             0.3333333333333333,
             "#9c179e"
            ],
            [
             0.4444444444444444,
             "#bd3786"
            ],
            [
             0.5555555555555556,
             "#d8576b"
            ],
            [
             0.6666666666666666,
             "#ed7953"
            ],
            [
             0.7777777777777778,
             "#fb9f3a"
            ],
            [
             0.8888888888888888,
             "#fdca26"
            ],
            [
             1,
             "#f0f921"
            ]
           ]
          },
          "colorway": [
           "#636efa",
           "#EF553B",
           "#00cc96",
           "#ab63fa",
           "#FFA15A",
           "#19d3f3",
           "#FF6692",
           "#B6E880",
           "#FF97FF",
           "#FECB52"
          ],
          "font": {
           "color": "#2a3f5f"
          },
          "geo": {
           "bgcolor": "white",
           "lakecolor": "white",
           "landcolor": "white",
           "showlakes": true,
           "showland": true,
           "subunitcolor": "#C8D4E3"
          },
          "hoverlabel": {
           "align": "left"
          },
          "hovermode": "closest",
          "mapbox": {
           "style": "light"
          },
          "paper_bgcolor": "white",
          "plot_bgcolor": "white",
          "polar": {
           "angularaxis": {
            "gridcolor": "#EBF0F8",
            "linecolor": "#EBF0F8",
            "ticks": ""
           },
           "bgcolor": "white",
           "radialaxis": {
            "gridcolor": "#EBF0F8",
            "linecolor": "#EBF0F8",
            "ticks": ""
           }
          },
          "scene": {
           "xaxis": {
            "backgroundcolor": "white",
            "gridcolor": "#DFE8F3",
            "gridwidth": 2,
            "linecolor": "#EBF0F8",
            "showbackground": true,
            "ticks": "",
            "zerolinecolor": "#EBF0F8"
           },
           "yaxis": {
            "backgroundcolor": "white",
            "gridcolor": "#DFE8F3",
            "gridwidth": 2,
            "linecolor": "#EBF0F8",
            "showbackground": true,
            "ticks": "",
            "zerolinecolor": "#EBF0F8"
           },
           "zaxis": {
            "backgroundcolor": "white",
            "gridcolor": "#DFE8F3",
            "gridwidth": 2,
            "linecolor": "#EBF0F8",
            "showbackground": true,
            "ticks": "",
            "zerolinecolor": "#EBF0F8"
           }
          },
          "shapedefaults": {
           "line": {
            "color": "#2a3f5f"
           }
          },
          "ternary": {
           "aaxis": {
            "gridcolor": "#DFE8F3",
            "linecolor": "#A2B1C6",
            "ticks": ""
           },
           "baxis": {
            "gridcolor": "#DFE8F3",
            "linecolor": "#A2B1C6",
            "ticks": ""
           },
           "bgcolor": "white",
           "caxis": {
            "gridcolor": "#DFE8F3",
            "linecolor": "#A2B1C6",
            "ticks": ""
           }
          },
          "title": {
           "x": 0.05
          },
          "xaxis": {
           "automargin": true,
           "gridcolor": "#EBF0F8",
           "linecolor": "#EBF0F8",
           "ticks": "",
           "title": {
            "standoff": 15
           },
           "zerolinecolor": "#EBF0F8",
           "zerolinewidth": 2
          },
          "yaxis": {
           "automargin": true,
           "gridcolor": "#EBF0F8",
           "linecolor": "#EBF0F8",
           "ticks": "",
           "title": {
            "standoff": 15
           },
           "zerolinecolor": "#EBF0F8",
           "zerolinewidth": 2
          }
         }
        },
        "title": {
         "text": "Observed vs Predicted"
        },
        "width": 1600,
        "xaxis": {
         "anchor": "y",
         "domain": [
          0,
          0.45
         ]
        },
        "xaxis2": {
         "anchor": "y2",
         "domain": [
          0.55,
          1
         ]
        },
        "yaxis": {
         "anchor": "x",
         "domain": [
          0,
          1
         ]
        },
        "yaxis2": {
         "anchor": "x2",
         "domain": [
          0,
          1
         ]
        }
       }
      }
     },
     "metadata": {},
     "output_type": "display_data"
    }
   ],
   "source": [
    "# Make predictions for training\n",
    "y = tar\n",
    "y_pred = pipe.predict(X_preproc)\n",
    "\n",
    "# Make predictions for testing\n",
    "X_test_preproc = preprocess(Z=doe_test, X=bwu_test, process_history=PROCESS_HISTORY, \n",
    "\t\t\t\t\t   input_variables=INPUT_VARIABLES)\n",
    "y_test = tar_test\n",
    "y_test_pred = pipe.predict(X_test_preproc)\n",
    "\n",
    "\n",
    "# Plot\n",
    "plot_hist_pls_model_eval(\n",
    "    y, y_pred, y_test, y_test_pred,\n",
    ")"
   ]
  },
  {
   "cell_type": "markdown",
   "metadata": {},
   "source": [
    "### PCA"
   ]
  },
  {
   "cell_type": "code",
   "execution_count": 220,
   "metadata": {},
   "outputs": [
    {
     "data": {
      "application/vnd.plotly.v1+json": {
       "config": {
        "plotlyServerURL": "https://plot.ly"
       },
       "data": [
        {
         "mode": "markers",
         "name": "Scores",
         "type": "scatter",
         "x": [
          -0.1879290636512439,
          0.019342655150310785,
          0.5139767476307741,
          0.45707484966389916,
          -0.9647876954166443,
          -1.2033512097617693,
          1.0034241474665404,
          -0.8853619003749786,
          -1.1744468356973918,
          0.12850398972652013,
          0.02390555174311399,
          -1.1903693055969518,
          -1.262231892879698,
          -3.059202843942739,
          -0.5143250039197279,
          -0.379909392746586,
          0.47003707280045587,
          0.3772009199765283,
          -0.29801339179807174,
          -0.7230811166193678,
          -1.704693113985574,
          3.0434738321524555,
          -2.5912574792979095,
          -2.9543191854779436,
          1.3686569096227206,
          0.13337816554615803,
          3.141173776027642,
          0.2372365288288189,
          1.7879414805607763,
          1.258425406677279,
          5.1295273975926
         ],
         "xaxis": "x",
         "y": [
          0.9077485092553366,
          1.248116390034966,
          2.9452814378999315,
          -1.8521365318710685,
          0.9679548450659887,
          0.06445511963863673,
          0.4077560696803148,
          -0.4432153527713916,
          -3.1233351784487438,
          1.3395281083706578,
          1.259020393509669,
          -1.39423737710985,
          0.2618727411151824,
          0.12233691343163663,
          -2.745262561325501,
          1.3774295213967398,
          0.7528805622411471,
          1.5915239866416655,
          0.9682035643397968,
          0.04932481257798289,
          -0.28758224191880477,
          -0.11779821078581354,
          2.2080876085443846,
          -2.0058674197684714,
          -2.1226069333762303,
          -2.5822969165215968,
          0.04078946405581759,
          -0.05662759812757812,
          0.36274446203800614,
          0.9727061800495568,
          -1.1167943678623693
         ],
         "yaxis": "y"
        },
        {
         "name": "Loadings PC - 1",
         "type": "bar",
         "xaxis": "x2",
         "y": [
          0.05136562770507622,
          0.01225086042242611,
          -0.1054377365734704,
          -0.08378698615531349,
          0.008893087031529466,
          0.02918095549984709,
          0.05822141802431937,
          0.10656950589121245,
          0.16584155558523997,
          0.20462497398913881,
          0.22335860670737187,
          0.23243207367858093,
          0.23447254612495103,
          0.22956393226596553,
          0.22332621008085152,
          0.21700392908966704,
          0.21089421985157428,
          0.20587095013212642,
          -0.08572360321062802,
          -0.10525500964575817,
          -0.1366283579648743,
          -0.17623188335562767,
          -0.20590799005543092,
          -0.22211335120807857,
          -0.22969164028389877,
          -0.23279627046241141,
          -0.23167097514350654,
          -0.2257055341855683,
          -0.22112222272943324,
          -0.22296954437483837,
          -0.224079564568284
         ],
         "yaxis": "y2"
        },
        {
         "name": "Loadings PC - 2",
         "type": "bar",
         "xaxis": "x3",
         "y": [
          -0.2097025263230689,
          0.225276691234581,
          -0.034274585913695296,
          0.22589885175532087,
          -0.20574343408526016,
          -0.17229720979518148,
          -0.09526623937194727,
          0.018409726708078,
          0.11124586841932245,
          0.13360802902870128,
          0.12545874851458155,
          0.12212060263841842,
          0.13401731936167693,
          0.170315105787707,
          0.19838497702556146,
          0.21552690935519253,
          0.22603079701298986,
          0.23316023961834623,
          0.23248449182872655,
          0.2847333749801142,
          0.339282701242073,
          0.3312901658136213,
          0.2851808095147846,
          0.22706261446687978,
          0.17615888080280231,
          0.13582284193148403,
          0.12520200632624215,
          0.14218543934981048,
          0.1285470418612871,
          0.11235302915363661,
          0.10015478780391852
         ],
         "yaxis": "y3"
        }
       ],
       "layout": {
        "annotations": [
         {
          "font": {
           "size": 16
          },
          "showarrow": false,
          "text": "Scores Plot ",
          "x": 0.5,
          "xanchor": "center",
          "xref": "paper",
          "y": 1,
          "yanchor": "bottom",
          "yref": "paper"
         },
         {
          "font": {
           "size": 16
          },
          "showarrow": false,
          "text": "Loadings of Principal Component - 1",
          "x": 0.225,
          "xanchor": "center",
          "xref": "paper",
          "y": 0.375,
          "yanchor": "bottom",
          "yref": "paper"
         },
         {
          "font": {
           "size": 16
          },
          "showarrow": false,
          "text": "Loadings of Principal Component - 2",
          "x": 0.775,
          "xanchor": "center",
          "xref": "paper",
          "y": 0.375,
          "yanchor": "bottom",
          "yref": "paper"
         }
        ],
        "height": 1000,
        "template": {
         "data": {
          "bar": [
           {
            "error_x": {
             "color": "#2a3f5f"
            },
            "error_y": {
             "color": "#2a3f5f"
            },
            "marker": {
             "line": {
              "color": "white",
              "width": 0.5
             },
             "pattern": {
              "fillmode": "overlay",
              "size": 10,
              "solidity": 0.2
             }
            },
            "type": "bar"
           }
          ],
          "barpolar": [
           {
            "marker": {
             "line": {
              "color": "white",
              "width": 0.5
             },
             "pattern": {
              "fillmode": "overlay",
              "size": 10,
              "solidity": 0.2
             }
            },
            "type": "barpolar"
           }
          ],
          "carpet": [
           {
            "aaxis": {
             "endlinecolor": "#2a3f5f",
             "gridcolor": "#C8D4E3",
             "linecolor": "#C8D4E3",
             "minorgridcolor": "#C8D4E3",
             "startlinecolor": "#2a3f5f"
            },
            "baxis": {
             "endlinecolor": "#2a3f5f",
             "gridcolor": "#C8D4E3",
             "linecolor": "#C8D4E3",
             "minorgridcolor": "#C8D4E3",
             "startlinecolor": "#2a3f5f"
            },
            "type": "carpet"
           }
          ],
          "choropleth": [
           {
            "colorbar": {
             "outlinewidth": 0,
             "ticks": ""
            },
            "type": "choropleth"
           }
          ],
          "contour": [
           {
            "colorbar": {
             "outlinewidth": 0,
             "ticks": ""
            },
            "colorscale": [
             [
              0,
              "#0d0887"
             ],
             [
              0.1111111111111111,
              "#46039f"
             ],
             [
              0.2222222222222222,
              "#7201a8"
             ],
             [
              0.3333333333333333,
              "#9c179e"
             ],
             [
              0.4444444444444444,
              "#bd3786"
             ],
             [
              0.5555555555555556,
              "#d8576b"
             ],
             [
              0.6666666666666666,
              "#ed7953"
             ],
             [
              0.7777777777777778,
              "#fb9f3a"
             ],
             [
              0.8888888888888888,
              "#fdca26"
             ],
             [
              1,
              "#f0f921"
             ]
            ],
            "type": "contour"
           }
          ],
          "contourcarpet": [
           {
            "colorbar": {
             "outlinewidth": 0,
             "ticks": ""
            },
            "type": "contourcarpet"
           }
          ],
          "heatmap": [
           {
            "colorbar": {
             "outlinewidth": 0,
             "ticks": ""
            },
            "colorscale": [
             [
              0,
              "#0d0887"
             ],
             [
              0.1111111111111111,
              "#46039f"
             ],
             [
              0.2222222222222222,
              "#7201a8"
             ],
             [
              0.3333333333333333,
              "#9c179e"
             ],
             [
              0.4444444444444444,
              "#bd3786"
             ],
             [
              0.5555555555555556,
              "#d8576b"
             ],
             [
              0.6666666666666666,
              "#ed7953"
             ],
             [
              0.7777777777777778,
              "#fb9f3a"
             ],
             [
              0.8888888888888888,
              "#fdca26"
             ],
             [
              1,
              "#f0f921"
             ]
            ],
            "type": "heatmap"
           }
          ],
          "heatmapgl": [
           {
            "colorbar": {
             "outlinewidth": 0,
             "ticks": ""
            },
            "colorscale": [
             [
              0,
              "#0d0887"
             ],
             [
              0.1111111111111111,
              "#46039f"
             ],
             [
              0.2222222222222222,
              "#7201a8"
             ],
             [
              0.3333333333333333,
              "#9c179e"
             ],
             [
              0.4444444444444444,
              "#bd3786"
             ],
             [
              0.5555555555555556,
              "#d8576b"
             ],
             [
              0.6666666666666666,
              "#ed7953"
             ],
             [
              0.7777777777777778,
              "#fb9f3a"
             ],
             [
              0.8888888888888888,
              "#fdca26"
             ],
             [
              1,
              "#f0f921"
             ]
            ],
            "type": "heatmapgl"
           }
          ],
          "histogram": [
           {
            "marker": {
             "pattern": {
              "fillmode": "overlay",
              "size": 10,
              "solidity": 0.2
             }
            },
            "type": "histogram"
           }
          ],
          "histogram2d": [
           {
            "colorbar": {
             "outlinewidth": 0,
             "ticks": ""
            },
            "colorscale": [
             [
              0,
              "#0d0887"
             ],
             [
              0.1111111111111111,
              "#46039f"
             ],
             [
              0.2222222222222222,
              "#7201a8"
             ],
             [
              0.3333333333333333,
              "#9c179e"
             ],
             [
              0.4444444444444444,
              "#bd3786"
             ],
             [
              0.5555555555555556,
              "#d8576b"
             ],
             [
              0.6666666666666666,
              "#ed7953"
             ],
             [
              0.7777777777777778,
              "#fb9f3a"
             ],
             [
              0.8888888888888888,
              "#fdca26"
             ],
             [
              1,
              "#f0f921"
             ]
            ],
            "type": "histogram2d"
           }
          ],
          "histogram2dcontour": [
           {
            "colorbar": {
             "outlinewidth": 0,
             "ticks": ""
            },
            "colorscale": [
             [
              0,
              "#0d0887"
             ],
             [
              0.1111111111111111,
              "#46039f"
             ],
             [
              0.2222222222222222,
              "#7201a8"
             ],
             [
              0.3333333333333333,
              "#9c179e"
             ],
             [
              0.4444444444444444,
              "#bd3786"
             ],
             [
              0.5555555555555556,
              "#d8576b"
             ],
             [
              0.6666666666666666,
              "#ed7953"
             ],
             [
              0.7777777777777778,
              "#fb9f3a"
             ],
             [
              0.8888888888888888,
              "#fdca26"
             ],
             [
              1,
              "#f0f921"
             ]
            ],
            "type": "histogram2dcontour"
           }
          ],
          "mesh3d": [
           {
            "colorbar": {
             "outlinewidth": 0,
             "ticks": ""
            },
            "type": "mesh3d"
           }
          ],
          "parcoords": [
           {
            "line": {
             "colorbar": {
              "outlinewidth": 0,
              "ticks": ""
             }
            },
            "type": "parcoords"
           }
          ],
          "pie": [
           {
            "automargin": true,
            "type": "pie"
           }
          ],
          "scatter": [
           {
            "fillpattern": {
             "fillmode": "overlay",
             "size": 10,
             "solidity": 0.2
            },
            "type": "scatter"
           }
          ],
          "scatter3d": [
           {
            "line": {
             "colorbar": {
              "outlinewidth": 0,
              "ticks": ""
             }
            },
            "marker": {
             "colorbar": {
              "outlinewidth": 0,
              "ticks": ""
             }
            },
            "type": "scatter3d"
           }
          ],
          "scattercarpet": [
           {
            "marker": {
             "colorbar": {
              "outlinewidth": 0,
              "ticks": ""
             }
            },
            "type": "scattercarpet"
           }
          ],
          "scattergeo": [
           {
            "marker": {
             "colorbar": {
              "outlinewidth": 0,
              "ticks": ""
             }
            },
            "type": "scattergeo"
           }
          ],
          "scattergl": [
           {
            "marker": {
             "colorbar": {
              "outlinewidth": 0,
              "ticks": ""
             }
            },
            "type": "scattergl"
           }
          ],
          "scattermapbox": [
           {
            "marker": {
             "colorbar": {
              "outlinewidth": 0,
              "ticks": ""
             }
            },
            "type": "scattermapbox"
           }
          ],
          "scatterpolar": [
           {
            "marker": {
             "colorbar": {
              "outlinewidth": 0,
              "ticks": ""
             }
            },
            "type": "scatterpolar"
           }
          ],
          "scatterpolargl": [
           {
            "marker": {
             "colorbar": {
              "outlinewidth": 0,
              "ticks": ""
             }
            },
            "type": "scatterpolargl"
           }
          ],
          "scatterternary": [
           {
            "marker": {
             "colorbar": {
              "outlinewidth": 0,
              "ticks": ""
             }
            },
            "type": "scatterternary"
           }
          ],
          "surface": [
           {
            "colorbar": {
             "outlinewidth": 0,
             "ticks": ""
            },
            "colorscale": [
             [
              0,
              "#0d0887"
             ],
             [
              0.1111111111111111,
              "#46039f"
             ],
             [
              0.2222222222222222,
              "#7201a8"
             ],
             [
              0.3333333333333333,
              "#9c179e"
             ],
             [
              0.4444444444444444,
              "#bd3786"
             ],
             [
              0.5555555555555556,
              "#d8576b"
             ],
             [
              0.6666666666666666,
              "#ed7953"
             ],
             [
              0.7777777777777778,
              "#fb9f3a"
             ],
             [
              0.8888888888888888,
              "#fdca26"
             ],
             [
              1,
              "#f0f921"
             ]
            ],
            "type": "surface"
           }
          ],
          "table": [
           {
            "cells": {
             "fill": {
              "color": "#EBF0F8"
             },
             "line": {
              "color": "white"
             }
            },
            "header": {
             "fill": {
              "color": "#C8D4E3"
             },
             "line": {
              "color": "white"
             }
            },
            "type": "table"
           }
          ]
         },
         "layout": {
          "annotationdefaults": {
           "arrowcolor": "#2a3f5f",
           "arrowhead": 0,
           "arrowwidth": 1
          },
          "autotypenumbers": "strict",
          "coloraxis": {
           "colorbar": {
            "outlinewidth": 0,
            "ticks": ""
           }
          },
          "colorscale": {
           "diverging": [
            [
             0,
             "#8e0152"
            ],
            [
             0.1,
             "#c51b7d"
            ],
            [
             0.2,
             "#de77ae"
            ],
            [
             0.3,
             "#f1b6da"
            ],
            [
             0.4,
             "#fde0ef"
            ],
            [
             0.5,
             "#f7f7f7"
            ],
            [
             0.6,
             "#e6f5d0"
            ],
            [
             0.7,
             "#b8e186"
            ],
            [
             0.8,
             "#7fbc41"
            ],
            [
             0.9,
             "#4d9221"
            ],
            [
             1,
             "#276419"
            ]
           ],
           "sequential": [
            [
             0,
             "#0d0887"
            ],
            [
             0.1111111111111111,
             "#46039f"
            ],
            [
             0.2222222222222222,
             "#7201a8"
            ],
            [
             0.3333333333333333,
             "#9c179e"
            ],
            [
             0.4444444444444444,
             "#bd3786"
            ],
            [
             0.5555555555555556,
             "#d8576b"
            ],
            [
             0.6666666666666666,
             "#ed7953"
            ],
            [
             0.7777777777777778,
             "#fb9f3a"
            ],
            [
             0.8888888888888888,
             "#fdca26"
            ],
            [
             1,
             "#f0f921"
            ]
           ],
           "sequentialminus": [
            [
             0,
             "#0d0887"
            ],
            [
             0.1111111111111111,
             "#46039f"
            ],
            [
             0.2222222222222222,
             "#7201a8"
            ],
            [
             0.3333333333333333,
             "#9c179e"
            ],
            [
             0.4444444444444444,
             "#bd3786"
            ],
            [
             0.5555555555555556,
             "#d8576b"
            ],
            [
             0.6666666666666666,
             "#ed7953"
            ],
            [
             0.7777777777777778,
             "#fb9f3a"
            ],
            [
             0.8888888888888888,
             "#fdca26"
            ],
            [
             1,
             "#f0f921"
            ]
           ]
          },
          "colorway": [
           "#636efa",
           "#EF553B",
           "#00cc96",
           "#ab63fa",
           "#FFA15A",
           "#19d3f3",
           "#FF6692",
           "#B6E880",
           "#FF97FF",
           "#FECB52"
          ],
          "font": {
           "color": "#2a3f5f"
          },
          "geo": {
           "bgcolor": "white",
           "lakecolor": "white",
           "landcolor": "white",
           "showlakes": true,
           "showland": true,
           "subunitcolor": "#C8D4E3"
          },
          "hoverlabel": {
           "align": "left"
          },
          "hovermode": "closest",
          "mapbox": {
           "style": "light"
          },
          "paper_bgcolor": "white",
          "plot_bgcolor": "white",
          "polar": {
           "angularaxis": {
            "gridcolor": "#EBF0F8",
            "linecolor": "#EBF0F8",
            "ticks": ""
           },
           "bgcolor": "white",
           "radialaxis": {
            "gridcolor": "#EBF0F8",
            "linecolor": "#EBF0F8",
            "ticks": ""
           }
          },
          "scene": {
           "xaxis": {
            "backgroundcolor": "white",
            "gridcolor": "#DFE8F3",
            "gridwidth": 2,
            "linecolor": "#EBF0F8",
            "showbackground": true,
            "ticks": "",
            "zerolinecolor": "#EBF0F8"
           },
           "yaxis": {
            "backgroundcolor": "white",
            "gridcolor": "#DFE8F3",
            "gridwidth": 2,
            "linecolor": "#EBF0F8",
            "showbackground": true,
            "ticks": "",
            "zerolinecolor": "#EBF0F8"
           },
           "zaxis": {
            "backgroundcolor": "white",
            "gridcolor": "#DFE8F3",
            "gridwidth": 2,
            "linecolor": "#EBF0F8",
            "showbackground": true,
            "ticks": "",
            "zerolinecolor": "#EBF0F8"
           }
          },
          "shapedefaults": {
           "line": {
            "color": "#2a3f5f"
           }
          },
          "ternary": {
           "aaxis": {
            "gridcolor": "#DFE8F3",
            "linecolor": "#A2B1C6",
            "ticks": ""
           },
           "baxis": {
            "gridcolor": "#DFE8F3",
            "linecolor": "#A2B1C6",
            "ticks": ""
           },
           "bgcolor": "white",
           "caxis": {
            "gridcolor": "#DFE8F3",
            "linecolor": "#A2B1C6",
            "ticks": ""
           }
          },
          "title": {
           "x": 0.05
          },
          "xaxis": {
           "automargin": true,
           "gridcolor": "#EBF0F8",
           "linecolor": "#EBF0F8",
           "ticks": "",
           "title": {
            "standoff": 15
           },
           "zerolinecolor": "#EBF0F8",
           "zerolinewidth": 2
          },
          "yaxis": {
           "automargin": true,
           "gridcolor": "#EBF0F8",
           "linecolor": "#EBF0F8",
           "ticks": "",
           "title": {
            "standoff": 15
           },
           "zerolinecolor": "#EBF0F8",
           "zerolinewidth": 2
          }
         }
        },
        "xaxis": {
         "anchor": "y",
         "domain": [
          0,
          1
         ]
        },
        "xaxis2": {
         "anchor": "y2",
         "domain": [
          0,
          0.45
         ]
        },
        "xaxis3": {
         "anchor": "y3",
         "domain": [
          0.55,
          1
         ]
        },
        "yaxis": {
         "anchor": "x",
         "domain": [
          0.625,
          1
         ]
        },
        "yaxis2": {
         "anchor": "x2",
         "domain": [
          0,
          0.375
         ]
        },
        "yaxis3": {
         "anchor": "x3",
         "domain": [
          0,
          0.375
         ]
        }
       }
      }
     },
     "metadata": {},
     "output_type": "display_data"
    }
   ],
   "source": [
    "plot_hist_pls_scores(pipe, pc_x_axis=1, pc_y_axis=2)"
   ]
  },
  {
   "cell_type": "markdown",
   "metadata": {},
   "source": [
    "### K-Fold\n",
    "\n",
    "- Use a typical cross-validation to define the optimal number of latent variables.\n",
    "- This is repeated for different numbers of latent variables. \n",
    "\t- Nfold PLS models are trained using (Nfolds-1) folds. For each model, the sum of squared residuals (SSR) is calculated and summed up.\n",
    "\t- Each model is then evaluated on the remaining unused fold. \n",
    "- The number of latent variables returning the least value of the RMSE is chosen as optimal.\n",
    "- A second criterion is selected, namely the adjusted R-squared (adj. R^2), which is weighting the effect of the number of latent variables\n",
    "\t- if two values of the number of latent variables are returning a similar value of the SSR, then the one using less variables is chosen to be more likely to produce robust predictions:\n",
    "\n"
   ]
  },
  {
   "cell_type": "code",
   "execution_count": 221,
   "metadata": {},
   "outputs": [
    {
     "name": "stderr",
     "output_type": "stream",
     "text": [
      "/Users/tim/miniconda3/envs/dl/lib/python3.11/site-packages/sklearn/cross_decomposition/_pls.py:305: UserWarning:\n",
      "\n",
      "Y residual is constant at iteration 27\n",
      "\n",
      "/Users/tim/miniconda3/envs/dl/lib/python3.11/site-packages/sklearn/cross_decomposition/_pls.py:305: UserWarning:\n",
      "\n",
      "Y residual is constant at iteration 27\n",
      "\n",
      "/Users/tim/miniconda3/envs/dl/lib/python3.11/site-packages/sklearn/cross_decomposition/_pls.py:305: UserWarning:\n",
      "\n",
      "Y residual is constant at iteration 27\n",
      "\n",
      "/Users/tim/miniconda3/envs/dl/lib/python3.11/site-packages/sklearn/cross_decomposition/_pls.py:305: UserWarning:\n",
      "\n",
      "Y residual is constant at iteration 27\n",
      "\n",
      "/Users/tim/miniconda3/envs/dl/lib/python3.11/site-packages/sklearn/cross_decomposition/_pls.py:305: UserWarning:\n",
      "\n",
      "Y residual is constant at iteration 28\n",
      "\n",
      "/Users/tim/miniconda3/envs/dl/lib/python3.11/site-packages/sklearn/cross_decomposition/_pls.py:305: UserWarning:\n",
      "\n",
      "Y residual is constant at iteration 28\n",
      "\n",
      "/Users/tim/miniconda3/envs/dl/lib/python3.11/site-packages/sklearn/cross_decomposition/_pls.py:305: UserWarning:\n",
      "\n",
      "Y residual is constant at iteration 28\n",
      "\n"
     ]
    }
   ],
   "source": [
    "train_eval, valid_eval, range_LV = hist_pls_cross_validation(X=X_preproc, y=tar, pls_pipeline=pipe)"
   ]
  },
  {
   "cell_type": "code",
   "execution_count": 222,
   "metadata": {},
   "outputs": [
    {
     "data": {
      "application/vnd.plotly.v1+json": {
       "config": {
        "plotlyServerURL": "https://plot.ly"
       },
       "data": [
        {
         "error_y": {
          "array": [
           23.06179048304865,
           15.989724818510751,
           14.205026399583291,
           13.278472354878994,
           12.725360727237442,
           10.932459003734213,
           9.900156713909789,
           7.036029852920863,
           6.1778278049730835,
           7.078462719769844,
           5.444506957369488,
           4.819312799048682,
           4.605238569982056,
           4.908844777555571,
           4.623394233598746,
           4.012223972535661,
           1.8686757283742628,
           2.322004136458493,
           2.6612699310730683,
           4.659251845835813,
           4.768491022958608,
           2.7933381208476984,
           2.649299931999023,
           1.466357308931182e-11,
           3.76217481886268e-11,
           9.911421310118386e-11,
           2.2001848695196427e-10,
           1.2157199125236915e-9,
           4.964141502150184e-10,
           1.468693882122633e-9,
           1.424283136569635e-9
          ],
          "type": "data",
          "visible": true
         },
         "name": "Training",
         "type": "scatter",
         "x": [
          1,
          2,
          3,
          4,
          5,
          6,
          7,
          8,
          9,
          10,
          11,
          12,
          13,
          14,
          15,
          16,
          17,
          18,
          19,
          20,
          21,
          22,
          23,
          24,
          25,
          26,
          27,
          28,
          29,
          30,
          31
         ],
         "y": [
          115.20708352432553,
          80.89235112020994,
          69.58667374676403,
          65.8379669875424,
          62.89626537038597,
          58.21221027550073,
          54.83518214651866,
          47.83081037052071,
          43.80178486997802,
          39.65276959178553,
          36.70263170794663,
          30.929816322010566,
          29.486543147167282,
          27.89237764928468,
          26.851020323481144,
          25.880838643697228,
          22.835810776555505,
          19.36205740564988,
          17.3373167171723,
          13.61224543870459,
          10.08531432743992,
          5.696726791051054,
          2.1424151122689867,
          1.817011561961713e-11,
          3.9578732915366666e-11,
          1.6825552452648513e-10,
          3.3182018510710494e-10,
          1.0330209555422587e-9,
          8.02166711898695e-10,
          1.6877514377213061e-9,
          2.0974964890388957e-9
         ]
        },
        {
         "error_y": {
          "array": [
           111.2154371959788,
           102.24161277053166,
           75.7048623209422,
           73.69046885531856,
           67.17605480198971,
           50.72943320157431,
           56.055949901367576,
           54.39099753811337,
           68.71154957535776,
           67.39240170581142,
           67.43571467672413,
           64.02233514349584,
           60.84357696313787,
           47.997704898770714,
           48.170988499055504,
           58.51499207659795,
           68.12719974746052,
           69.37505812229041,
           102.85700189436359,
           106.10460149364731,
           78.52000881038072,
           142.5768050390638,
           145.41017419876187,
           196.7303238249015,
           233.29985694985203,
           268.2386187803606,
           367.3100918910308,
           1529.4346212895853,
           500.1494288486794,
           388.48796202954827,
           452.3949971740716
          ],
          "type": "data",
          "visible": true
         },
         "name": "Validation",
         "type": "scatter",
         "x": [
          1,
          2,
          3,
          4,
          5,
          6,
          7,
          8,
          9,
          10,
          11,
          12,
          13,
          14,
          15,
          16,
          17,
          18,
          19,
          20,
          21,
          22,
          23,
          24,
          25,
          26,
          27,
          28,
          29,
          30,
          31
         ],
         "y": [
          166.92501729006324,
          157.86556414403603,
          131.045237414049,
          122.11197256356243,
          122.84686883759252,
          125.10105837258024,
          132.5950325864948,
          124.4992996192494,
          128.79045186944373,
          117.7039724372984,
          118.4976631174375,
          115.36948247961755,
          110.35899328016481,
          100.78455241038867,
          104.91056576708164,
          123.18660330379905,
          185.98256069097974,
          204.1426942781705,
          224.48242778629728,
          223.51297701974778,
          202.86707369415208,
          277.1226438442533,
          289.3240682342588,
          339.6146402946849,
          373.10716842592336,
          408.24293437881795,
          564.2698712122972,
          1373.4998416099397,
          697.0963015253775,
          618.7535729426892,
          637.4151230519936
         ]
        }
       ],
       "layout": {
        "legend": {
         "title": {
          "text": "Evaluation type"
         }
        },
        "template": {
         "data": {
          "bar": [
           {
            "error_x": {
             "color": "#2a3f5f"
            },
            "error_y": {
             "color": "#2a3f5f"
            },
            "marker": {
             "line": {
              "color": "white",
              "width": 0.5
             },
             "pattern": {
              "fillmode": "overlay",
              "size": 10,
              "solidity": 0.2
             }
            },
            "type": "bar"
           }
          ],
          "barpolar": [
           {
            "marker": {
             "line": {
              "color": "white",
              "width": 0.5
             },
             "pattern": {
              "fillmode": "overlay",
              "size": 10,
              "solidity": 0.2
             }
            },
            "type": "barpolar"
           }
          ],
          "carpet": [
           {
            "aaxis": {
             "endlinecolor": "#2a3f5f",
             "gridcolor": "#C8D4E3",
             "linecolor": "#C8D4E3",
             "minorgridcolor": "#C8D4E3",
             "startlinecolor": "#2a3f5f"
            },
            "baxis": {
             "endlinecolor": "#2a3f5f",
             "gridcolor": "#C8D4E3",
             "linecolor": "#C8D4E3",
             "minorgridcolor": "#C8D4E3",
             "startlinecolor": "#2a3f5f"
            },
            "type": "carpet"
           }
          ],
          "choropleth": [
           {
            "colorbar": {
             "outlinewidth": 0,
             "ticks": ""
            },
            "type": "choropleth"
           }
          ],
          "contour": [
           {
            "colorbar": {
             "outlinewidth": 0,
             "ticks": ""
            },
            "colorscale": [
             [
              0,
              "#0d0887"
             ],
             [
              0.1111111111111111,
              "#46039f"
             ],
             [
              0.2222222222222222,
              "#7201a8"
             ],
             [
              0.3333333333333333,
              "#9c179e"
             ],
             [
              0.4444444444444444,
              "#bd3786"
             ],
             [
              0.5555555555555556,
              "#d8576b"
             ],
             [
              0.6666666666666666,
              "#ed7953"
             ],
             [
              0.7777777777777778,
              "#fb9f3a"
             ],
             [
              0.8888888888888888,
              "#fdca26"
             ],
             [
              1,
              "#f0f921"
             ]
            ],
            "type": "contour"
           }
          ],
          "contourcarpet": [
           {
            "colorbar": {
             "outlinewidth": 0,
             "ticks": ""
            },
            "type": "contourcarpet"
           }
          ],
          "heatmap": [
           {
            "colorbar": {
             "outlinewidth": 0,
             "ticks": ""
            },
            "colorscale": [
             [
              0,
              "#0d0887"
             ],
             [
              0.1111111111111111,
              "#46039f"
             ],
             [
              0.2222222222222222,
              "#7201a8"
             ],
             [
              0.3333333333333333,
              "#9c179e"
             ],
             [
              0.4444444444444444,
              "#bd3786"
             ],
             [
              0.5555555555555556,
              "#d8576b"
             ],
             [
              0.6666666666666666,
              "#ed7953"
             ],
             [
              0.7777777777777778,
              "#fb9f3a"
             ],
             [
              0.8888888888888888,
              "#fdca26"
             ],
             [
              1,
              "#f0f921"
             ]
            ],
            "type": "heatmap"
           }
          ],
          "heatmapgl": [
           {
            "colorbar": {
             "outlinewidth": 0,
             "ticks": ""
            },
            "colorscale": [
             [
              0,
              "#0d0887"
             ],
             [
              0.1111111111111111,
              "#46039f"
             ],
             [
              0.2222222222222222,
              "#7201a8"
             ],
             [
              0.3333333333333333,
              "#9c179e"
             ],
             [
              0.4444444444444444,
              "#bd3786"
             ],
             [
              0.5555555555555556,
              "#d8576b"
             ],
             [
              0.6666666666666666,
              "#ed7953"
             ],
             [
              0.7777777777777778,
              "#fb9f3a"
             ],
             [
              0.8888888888888888,
              "#fdca26"
             ],
             [
              1,
              "#f0f921"
             ]
            ],
            "type": "heatmapgl"
           }
          ],
          "histogram": [
           {
            "marker": {
             "pattern": {
              "fillmode": "overlay",
              "size": 10,
              "solidity": 0.2
             }
            },
            "type": "histogram"
           }
          ],
          "histogram2d": [
           {
            "colorbar": {
             "outlinewidth": 0,
             "ticks": ""
            },
            "colorscale": [
             [
              0,
              "#0d0887"
             ],
             [
              0.1111111111111111,
              "#46039f"
             ],
             [
              0.2222222222222222,
              "#7201a8"
             ],
             [
              0.3333333333333333,
              "#9c179e"
             ],
             [
              0.4444444444444444,
              "#bd3786"
             ],
             [
              0.5555555555555556,
              "#d8576b"
             ],
             [
              0.6666666666666666,
              "#ed7953"
             ],
             [
              0.7777777777777778,
              "#fb9f3a"
             ],
             [
              0.8888888888888888,
              "#fdca26"
             ],
             [
              1,
              "#f0f921"
             ]
            ],
            "type": "histogram2d"
           }
          ],
          "histogram2dcontour": [
           {
            "colorbar": {
             "outlinewidth": 0,
             "ticks": ""
            },
            "colorscale": [
             [
              0,
              "#0d0887"
             ],
             [
              0.1111111111111111,
              "#46039f"
             ],
             [
              0.2222222222222222,
              "#7201a8"
             ],
             [
              0.3333333333333333,
              "#9c179e"
             ],
             [
              0.4444444444444444,
              "#bd3786"
             ],
             [
              0.5555555555555556,
              "#d8576b"
             ],
             [
              0.6666666666666666,
              "#ed7953"
             ],
             [
              0.7777777777777778,
              "#fb9f3a"
             ],
             [
              0.8888888888888888,
              "#fdca26"
             ],
             [
              1,
              "#f0f921"
             ]
            ],
            "type": "histogram2dcontour"
           }
          ],
          "mesh3d": [
           {
            "colorbar": {
             "outlinewidth": 0,
             "ticks": ""
            },
            "type": "mesh3d"
           }
          ],
          "parcoords": [
           {
            "line": {
             "colorbar": {
              "outlinewidth": 0,
              "ticks": ""
             }
            },
            "type": "parcoords"
           }
          ],
          "pie": [
           {
            "automargin": true,
            "type": "pie"
           }
          ],
          "scatter": [
           {
            "fillpattern": {
             "fillmode": "overlay",
             "size": 10,
             "solidity": 0.2
            },
            "type": "scatter"
           }
          ],
          "scatter3d": [
           {
            "line": {
             "colorbar": {
              "outlinewidth": 0,
              "ticks": ""
             }
            },
            "marker": {
             "colorbar": {
              "outlinewidth": 0,
              "ticks": ""
             }
            },
            "type": "scatter3d"
           }
          ],
          "scattercarpet": [
           {
            "marker": {
             "colorbar": {
              "outlinewidth": 0,
              "ticks": ""
             }
            },
            "type": "scattercarpet"
           }
          ],
          "scattergeo": [
           {
            "marker": {
             "colorbar": {
              "outlinewidth": 0,
              "ticks": ""
             }
            },
            "type": "scattergeo"
           }
          ],
          "scattergl": [
           {
            "marker": {
             "colorbar": {
              "outlinewidth": 0,
              "ticks": ""
             }
            },
            "type": "scattergl"
           }
          ],
          "scattermapbox": [
           {
            "marker": {
             "colorbar": {
              "outlinewidth": 0,
              "ticks": ""
             }
            },
            "type": "scattermapbox"
           }
          ],
          "scatterpolar": [
           {
            "marker": {
             "colorbar": {
              "outlinewidth": 0,
              "ticks": ""
             }
            },
            "type": "scatterpolar"
           }
          ],
          "scatterpolargl": [
           {
            "marker": {
             "colorbar": {
              "outlinewidth": 0,
              "ticks": ""
             }
            },
            "type": "scatterpolargl"
           }
          ],
          "scatterternary": [
           {
            "marker": {
             "colorbar": {
              "outlinewidth": 0,
              "ticks": ""
             }
            },
            "type": "scatterternary"
           }
          ],
          "surface": [
           {
            "colorbar": {
             "outlinewidth": 0,
             "ticks": ""
            },
            "colorscale": [
             [
              0,
              "#0d0887"
             ],
             [
              0.1111111111111111,
              "#46039f"
             ],
             [
              0.2222222222222222,
              "#7201a8"
             ],
             [
              0.3333333333333333,
              "#9c179e"
             ],
             [
              0.4444444444444444,
              "#bd3786"
             ],
             [
              0.5555555555555556,
              "#d8576b"
             ],
             [
              0.6666666666666666,
              "#ed7953"
             ],
             [
              0.7777777777777778,
              "#fb9f3a"
             ],
             [
              0.8888888888888888,
              "#fdca26"
             ],
             [
              1,
              "#f0f921"
             ]
            ],
            "type": "surface"
           }
          ],
          "table": [
           {
            "cells": {
             "fill": {
              "color": "#EBF0F8"
             },
             "line": {
              "color": "white"
             }
            },
            "header": {
             "fill": {
              "color": "#C8D4E3"
             },
             "line": {
              "color": "white"
             }
            },
            "type": "table"
           }
          ]
         },
         "layout": {
          "annotationdefaults": {
           "arrowcolor": "#2a3f5f",
           "arrowhead": 0,
           "arrowwidth": 1
          },
          "autotypenumbers": "strict",
          "coloraxis": {
           "colorbar": {
            "outlinewidth": 0,
            "ticks": ""
           }
          },
          "colorscale": {
           "diverging": [
            [
             0,
             "#8e0152"
            ],
            [
             0.1,
             "#c51b7d"
            ],
            [
             0.2,
             "#de77ae"
            ],
            [
             0.3,
             "#f1b6da"
            ],
            [
             0.4,
             "#fde0ef"
            ],
            [
             0.5,
             "#f7f7f7"
            ],
            [
             0.6,
             "#e6f5d0"
            ],
            [
             0.7,
             "#b8e186"
            ],
            [
             0.8,
             "#7fbc41"
            ],
            [
             0.9,
             "#4d9221"
            ],
            [
             1,
             "#276419"
            ]
           ],
           "sequential": [
            [
             0,
             "#0d0887"
            ],
            [
             0.1111111111111111,
             "#46039f"
            ],
            [
             0.2222222222222222,
             "#7201a8"
            ],
            [
             0.3333333333333333,
             "#9c179e"
            ],
            [
             0.4444444444444444,
             "#bd3786"
            ],
            [
             0.5555555555555556,
             "#d8576b"
            ],
            [
             0.6666666666666666,
             "#ed7953"
            ],
            [
             0.7777777777777778,
             "#fb9f3a"
            ],
            [
             0.8888888888888888,
             "#fdca26"
            ],
            [
             1,
             "#f0f921"
            ]
           ],
           "sequentialminus": [
            [
             0,
             "#0d0887"
            ],
            [
             0.1111111111111111,
             "#46039f"
            ],
            [
             0.2222222222222222,
             "#7201a8"
            ],
            [
             0.3333333333333333,
             "#9c179e"
            ],
            [
             0.4444444444444444,
             "#bd3786"
            ],
            [
             0.5555555555555556,
             "#d8576b"
            ],
            [
             0.6666666666666666,
             "#ed7953"
            ],
            [
             0.7777777777777778,
             "#fb9f3a"
            ],
            [
             0.8888888888888888,
             "#fdca26"
            ],
            [
             1,
             "#f0f921"
            ]
           ]
          },
          "colorway": [
           "#636efa",
           "#EF553B",
           "#00cc96",
           "#ab63fa",
           "#FFA15A",
           "#19d3f3",
           "#FF6692",
           "#B6E880",
           "#FF97FF",
           "#FECB52"
          ],
          "font": {
           "color": "#2a3f5f"
          },
          "geo": {
           "bgcolor": "white",
           "lakecolor": "white",
           "landcolor": "white",
           "showlakes": true,
           "showland": true,
           "subunitcolor": "#C8D4E3"
          },
          "hoverlabel": {
           "align": "left"
          },
          "hovermode": "closest",
          "mapbox": {
           "style": "light"
          },
          "paper_bgcolor": "white",
          "plot_bgcolor": "white",
          "polar": {
           "angularaxis": {
            "gridcolor": "#EBF0F8",
            "linecolor": "#EBF0F8",
            "ticks": ""
           },
           "bgcolor": "white",
           "radialaxis": {
            "gridcolor": "#EBF0F8",
            "linecolor": "#EBF0F8",
            "ticks": ""
           }
          },
          "scene": {
           "xaxis": {
            "backgroundcolor": "white",
            "gridcolor": "#DFE8F3",
            "gridwidth": 2,
            "linecolor": "#EBF0F8",
            "showbackground": true,
            "ticks": "",
            "zerolinecolor": "#EBF0F8"
           },
           "yaxis": {
            "backgroundcolor": "white",
            "gridcolor": "#DFE8F3",
            "gridwidth": 2,
            "linecolor": "#EBF0F8",
            "showbackground": true,
            "ticks": "",
            "zerolinecolor": "#EBF0F8"
           },
           "zaxis": {
            "backgroundcolor": "white",
            "gridcolor": "#DFE8F3",
            "gridwidth": 2,
            "linecolor": "#EBF0F8",
            "showbackground": true,
            "ticks": "",
            "zerolinecolor": "#EBF0F8"
           }
          },
          "shapedefaults": {
           "line": {
            "color": "#2a3f5f"
           }
          },
          "ternary": {
           "aaxis": {
            "gridcolor": "#DFE8F3",
            "linecolor": "#A2B1C6",
            "ticks": ""
           },
           "baxis": {
            "gridcolor": "#DFE8F3",
            "linecolor": "#A2B1C6",
            "ticks": ""
           },
           "bgcolor": "white",
           "caxis": {
            "gridcolor": "#DFE8F3",
            "linecolor": "#A2B1C6",
            "ticks": ""
           }
          },
          "title": {
           "x": 0.05
          },
          "xaxis": {
           "automargin": true,
           "gridcolor": "#EBF0F8",
           "linecolor": "#EBF0F8",
           "ticks": "",
           "title": {
            "standoff": 15
           },
           "zerolinecolor": "#EBF0F8",
           "zerolinewidth": 2
          },
          "yaxis": {
           "automargin": true,
           "gridcolor": "#EBF0F8",
           "linecolor": "#EBF0F8",
           "ticks": "",
           "title": {
            "standoff": 15
           },
           "zerolinecolor": "#EBF0F8",
           "zerolinewidth": 2
          }
         }
        },
        "title": {
         "text": "Hyperparameter Optimization in Historical PLS"
        },
        "xaxis": {
         "title": {
          "text": "Number of Latent Variables"
         }
        },
        "yaxis": {
         "title": {
          "text": "Abs RMSE"
         }
        }
       }
      }
     },
     "metadata": {},
     "output_type": "display_data"
    }
   ],
   "source": [
    "plot_hist_pls_cross_validation(train_eval, valid_eval, range_LV)"
   ]
  },
  {
   "cell_type": "markdown",
   "metadata": {},
   "source": [
    "# Data-Driven Models for Simulation"
   ]
  },
  {
   "cell_type": "markdown",
   "metadata": {},
   "source": [
    "## BB-PLS1\n",
    "- Black Box - Partial Least Square Model (PLS1)\n",
    "- One model per timepoint per process variable is developed, denoted as $PLS1_{i, t}$\n",
    "- Training: $[Z, X(t = 0)] \\rightarrow PLS1_{i, t} \\rightarrow X_i(t = t_{model})$"
   ]
  },
  {
   "cell_type": "code",
   "execution_count": 223,
   "metadata": {},
   "outputs": [],
   "source": [
    "def transform_owu(owu, t_steps=15, batch_first=False):\n",
    "    X_columns = [col for col in owu.columns if 'X:' in col]\n",
    "    X_owu = owu[X_columns].copy()\n",
    "    X_owu = X_owu.sort_index(level=['run', 'time'])\n",
    "\n",
    "    C = len(X_columns)\n",
    "    B = X_owu.index.get_level_values('run').nunique()\n",
    "    T = t_steps\n",
    "\n",
    "    if batch_first:\n",
    "        X = np.zeros((B, T, C))\n",
    "    else:\n",
    "        X = np.zeros((T, C, B))\n",
    "\n",
    "    for i, (run, group) in enumerate(X_owu.groupby(level='run')):\n",
    "        if len(group) != T:\n",
    "            raise ValueError(f'Run {run} does not have {T} time steps.')\n",
    "        \n",
    "        if batch_first:\n",
    "            X[i, :, :] = group.values\n",
    "        else:\n",
    "            X[:, :, i] = group.values\n",
    "    \n",
    "    return X, X_columns\n",
    "\n",
    "\n",
    "def fit_multi_step_pls_model(Z, X, latent_variables=2):\n",
    "    # Function to train using multiple BB-PLS1 models\n",
    "    T, C, B = X.shape\n",
    "    models = {}\n",
    "    for t in range(T):\n",
    "        models[t] = {}\n",
    "        for i in range(C):\n",
    "            model = fit_pls_model(\n",
    "                X=Z, y=X[t, i, :], \n",
    "                latent_variables=latent_variables\n",
    "            )\n",
    "            models[t][i] = model\n",
    "    return models\n",
    "\n",
    "\n",
    "def predict_multi_step_pls_model(Z, multi_step_models, t_steps=15):\n",
    "    # Prediction in train set\n",
    "    B, _ = Z.shape\n",
    "    T = len(multi_step_models)\n",
    "    C = len(multi_step_models[0])\n",
    "\n",
    "    if t_steps != T:\n",
    "        raise ValueError(f'Models does not have {t_steps} time steps.')\n",
    "\n",
    "    X_pred = np.zeros((T, C, B))\n",
    "    for t in range(T):\n",
    "        for i in range(C):\n",
    "            X_pred[t, i, :] = multi_step_models[t][i].predict(Z)\n",
    "\n",
    "    return X_pred\n",
    "\n",
    "\n",
    "def plot_multi_step_pls_model_eval(\n",
    "    X,\n",
    "    X_pred,\n",
    "    X_test,\n",
    "    X_test_pred,\n",
    "    X_columns=None,\n",
    "):\n",
    "\n",
    "    for i, col in enumerate(X_columns):\n",
    "        y = X[:, i, :]\n",
    "        y_pred = X_pred[:, i, :]\n",
    "        y_test = X_test[:, i, :]\n",
    "        y_test_pred = X_test_pred[:, i, :]\n",
    "\n",
    "        # Metrics for training set\n",
    "        train_r2 = r2(y, y_pred)\n",
    "        train_abs_rmse = absolute_rmse(y, y_pred)\n",
    "        train_rel_rmse = relative_rmse(y, y_pred)\n",
    "\n",
    "        # Metrics for testing set\n",
    "        test_r2 = r2(y_test, y_test_pred)\n",
    "        test_abs_rmse = absolute_rmse(y_test, y_test_pred)\n",
    "        test_rel_rmse = relative_rmse(y_test, y_test_pred)\n",
    "\n",
    "        # Plot observed vs predicted\n",
    "        fig = make_subplots(\n",
    "            rows=1,\n",
    "            cols=2,\n",
    "            subplot_titles=(\n",
    "                f\"Train Set - {col} <br> R^2 = {train_r2} <br> Abs RMSE = {train_abs_rmse} <br> Rel RMSE = {train_rel_rmse}\",\n",
    "                f\"Test Set - {col} <br> R^2 = {test_r2} <br> Abs RMSE = {test_abs_rmse} <br> Rel RMSE = {test_rel_rmse}\",\n",
    "            ),\n",
    "        )\n",
    "\n",
    "        # Train set plot\n",
    "        _, _, NUM_TRAIN = X.shape\n",
    "        for i in range(NUM_TRAIN):\n",
    "            fig.add_trace(\n",
    "                go.Scatter(\n",
    "                    x=y[:, i].reshape(-1),\n",
    "                    y=y_pred[:, i].reshape(-1),\n",
    "                    mode=\"markers\",\n",
    "                    name=f\"Run id in Train {i}\",\n",
    "                    legendgroup=f\"train_{i}\",\n",
    "                ),\n",
    "                row=1,\n",
    "                col=1,\n",
    "            )\n",
    "        fig.add_shape(\n",
    "            type=\"line\",\n",
    "            x0=y_pred.min(),\n",
    "            y0=y_pred.min(),\n",
    "            x1=y_pred.max(),\n",
    "            y1=y_pred.max(),\n",
    "            layer=\"above\",\n",
    "            line=dict(dash=\"dash\"),\n",
    "        )\n",
    "\n",
    "        # Test set plot\n",
    "        _, _, NUM_TEST = X_test.shape\n",
    "        for j in range(NUM_TEST):\n",
    "            fig.add_trace(\n",
    "                go.Scatter(\n",
    "                    x=y_test[:, j].reshape(-1),\n",
    "                    y=y_test_pred[:, j].reshape(-1),\n",
    "                    mode=\"markers\",\n",
    "                    name=f\"Run id in Test {j}\",\n",
    "                    legendgroup=f\"test_{j}\",\n",
    "                ),\n",
    "                row=1,\n",
    "                col=2,\n",
    "            )\n",
    "        fig.add_shape(\n",
    "            type=\"line\",\n",
    "            x0=y_test_pred.min(),\n",
    "            y0=y_test_pred.min(),\n",
    "            x1=y_test_pred.max(),\n",
    "            y1=y_test_pred.max(),\n",
    "            layer=\"above\",\n",
    "            line=dict(dash=\"dash\"),\n",
    "            row=1,\n",
    "            col=2,\n",
    "        )\n",
    "\n",
    "        fig.update_layout(width=1600)\n",
    "        fig.update_xaxes(title=\"Observed values\", row=1, col=1)\n",
    "        fig.update_xaxes(title=\"Observed values\", row=1, col=2)\n",
    "        fig.update_yaxes(title=\"Predicted values\", row=1, col=1)\n",
    "        fig.update_yaxes(title=\"Predicted values\", row=1, col=2)\n",
    "        fig.show()\n",
    "\n",
    "\n",
    "def plot_relative_rmse_by_variables(\n",
    "    X,\n",
    "    X_pred,\n",
    "    X_test,\n",
    "    X_test_pred,\n",
    "    X_columns=None,\n",
    "):\n",
    "    relative_rmse_train = []\n",
    "    relative_rmse_test = []\n",
    "    for i, col in enumerate(X_columns):\n",
    "        y = X[:, i, :]\n",
    "        y_pred = X_pred[:, i, :]\n",
    "        y_test = X_test[:, i, :]\n",
    "        y_test_pred = X_test_pred[:, i, :]\n",
    "\n",
    "        # Metrics for training set\n",
    "        train_rel_rmse = relative_rmse(y, y_pred)\n",
    "        relative_rmse_train.append(train_rel_rmse)\n",
    "\n",
    "        # Metrics for testing set\n",
    "        test_rel_rmse = relative_rmse(y_test, y_test_pred)\n",
    "        relative_rmse_test.append(test_rel_rmse)\n",
    "\n",
    "\n",
    "    fig_rmse = go.Figure()\n",
    "    fig_rmse.add_trace(\n",
    "        go.Bar(\n",
    "            x=X_columns,\n",
    "            y=relative_rmse_train,\n",
    "            name=\"Train Set\",\n",
    "            marker_color=pcolors[0],\n",
    "            text=[f\"{v:.2f}\" for v in relative_rmse_train],\n",
    "            textposition=\"outside\",\n",
    "        )\n",
    "    )\n",
    "\n",
    "    fig_rmse.add_trace(\n",
    "        go.Bar(\n",
    "            x=X_columns,\n",
    "            y=relative_rmse_test,\n",
    "            name=\"Test Set\",\n",
    "            marker_color=pcolors[1],\n",
    "            text=[f\"{v:.2f}\" for v in relative_rmse_test],\n",
    "            textposition=\"outside\",\n",
    "        )\n",
    "    )\n",
    "\n",
    "    fig_rmse.update_layout(\n",
    "        barmode=\"group\",\n",
    "        title=\"Relative RMSE for Each Variables\",\n",
    "        xaxis_title=\"Feature\",\n",
    "        yaxis_title=\"Relative RMSE\",\n",
    "        legend=dict(orientation=\"h\", yanchor=\"bottom\", y=1.02, xanchor=\"center\", x=0.5),\n",
    "    )\n",
    "\n",
    "    fig_rmse.show()"
   ]
  },
  {
   "cell_type": "markdown",
   "metadata": {},
   "source": [
    "### Data"
   ]
  },
  {
   "cell_type": "code",
   "execution_count": 224,
   "metadata": {},
   "outputs": [],
   "source": [
    "X, X_columns = transform_owu(owu, t_steps=15, batch_first=False)\n",
    "X_test, X_columns = transform_owu(owu_test, t_steps=15, batch_first=False)"
   ]
  },
  {
   "cell_type": "markdown",
   "metadata": {},
   "source": [
    "### Train"
   ]
  },
  {
   "cell_type": "code",
   "execution_count": 225,
   "metadata": {},
   "outputs": [
    {
     "name": "stderr",
     "output_type": "stream",
     "text": [
      "/Users/tim/miniconda3/envs/dl/lib/python3.11/site-packages/sklearn/cross_decomposition/_pls.py:305: UserWarning:\n",
      "\n",
      "Y residual is constant at iteration 0\n",
      "\n",
      "/Users/tim/miniconda3/envs/dl/lib/python3.11/site-packages/sklearn/cross_decomposition/_pls.py:305: UserWarning:\n",
      "\n",
      "Y residual is constant at iteration 0\n",
      "\n"
     ]
    }
   ],
   "source": [
    "models = fit_multi_step_pls_model(Z=doe, X=X, latent_variables=2)"
   ]
  },
  {
   "cell_type": "markdown",
   "metadata": {},
   "source": [
    "### Test"
   ]
  },
  {
   "cell_type": "code",
   "execution_count": 226,
   "metadata": {},
   "outputs": [
    {
     "data": {
      "application/vnd.plotly.v1+json": {
       "config": {
        "plotlyServerURL": "https://plot.ly"
       },
       "data": [
        {
         "legendgroup": "train_0",
         "mode": "markers",
         "name": "Run id in Train 0",
         "type": "scatter",
         "x": [
          0.6785714285714286,
          1.7882418695451865,
          4.197866164841867,
          8.024606484655857,
          11.644249637655555,
          12.989020406401975,
          11.780327631246772,
          9.032982556876329,
          5.956851986938314,
          3.496495271581572,
          1.9290844755904624,
          1.0384515260949645,
          0.5546547313461386,
          0.2952719021768026,
          0.1569168141294896
         ],
         "xaxis": "x",
         "y": [
          0.6888376001893428,
          1.9065129810608072,
          4.634596117821715,
          8.907082264849421,
          12.744606328779973,
          14.002321071753538,
          12.923243958233295,
          10.430706833868467,
          7.555957155726754,
          5.0977382075983355,
          3.2842728857114127,
          2.0770692304843177,
          1.3229976837108641,
          0.862228163495928,
          0.5747066279079036
         ],
         "yaxis": "y"
        },
        {
         "legendgroup": "train_1",
         "mode": "markers",
         "name": "Run id in Train 1",
         "type": "scatter",
         "x": [
          0.5153061224489796,
          1.3283920087753476,
          3.138891683299708,
          6.312312369758947,
          10.046362313224048,
          12.46619056309494,
          12.598864431782903,
          10.871896873825465,
          8.153434943282626,
          5.329460673311844,
          3.14372471445888,
          1.7669202575842775,
          0.9787333701850192,
          0.5395471576727975,
          0.2966820616676253
         ],
         "xaxis": "x",
         "y": [
          0.5300481089582207,
          1.5011099187691763,
          3.824016407751578,
          7.860380040594606,
          12.00200073523956,
          13.609234574378245,
          12.665094447846922,
          10.005419228673063,
          6.863561638621703,
          4.332750132890724,
          2.572541240475836,
          1.4880905445931862,
          0.8679583259312658,
          0.5175196908631665,
          0.3221853130754578
         ],
         "yaxis": "y"
        },
        {
         "legendgroup": "train_2",
         "mode": "markers",
         "name": "Run id in Train 2",
         "type": "scatter",
         "x": [
          0.6173469387755102,
          1.8393336824263824,
          4.76347819968831,
          9.519503140279811,
          13.897096050739306,
          15.469914296467806,
          14.064178274367205,
          10.784332549589733,
          7.024161263041686,
          4.060211714152641,
          2.225243161400361,
          1.198139824795706,
          0.6414845918398311,
          0.3424920004434781,
          0.1825893379791691
         ],
         "xaxis": "x",
         "y": [
          0.6185535648163466,
          1.6976875518826513,
          4.150642624787203,
          8.194531071048443,
          12.211998382197882,
          13.67055749211104,
          12.533759113288044,
          9.713819693870807,
          6.473789787875899,
          3.8795750727549017,
          2.1745225854299997,
          1.1809541985238847,
          0.6353616235558951,
          0.3394689177496705,
          0.18419916106547946
         ],
         "yaxis": "y"
        },
        {
         "legendgroup": "train_3",
         "mode": "markers",
         "name": "Run id in Train 3",
         "type": "scatter",
         "x": [
          0.7908163265306123,
          2.2233342240594665,
          5.189819500047023,
          8.648482942575908,
          9.89213218339913,
          8.48011217599898,
          6.030387208242467,
          3.83431965046864,
          2.2927149728665563,
          1.3293309225353016,
          0.7591389409901108,
          0.4298972793384327,
          0.2423196690989927,
          0.1362354666329924,
          0.0764834617843639
         ],
         "xaxis": "x",
         "y": [
          0.823006167281618,
          2.250199513878786,
          5.249022617162046,
          9.196579389342476,
          11.217992182548146,
          10.61323786686801,
          8.156958400028167,
          5.5183414710866,
          3.494485838958382,
          2.1932876157591736,
          1.4120348803847516,
          0.9300983597332819,
          0.6135381650213253,
          0.4075539827703224,
          0.266402703377298
         ],
         "yaxis": "y"
        },
        {
         "legendgroup": "train_4",
         "mode": "markers",
         "name": "Run id in Train 4",
         "type": "scatter",
         "x": [
          0.8724489795918368,
          2.327450417335682,
          5.302229080189516,
          9.382915401755742,
          12.45876223358994,
          13.000921335581488,
          11.354064624495637,
          8.53677594789,
          5.544672913732412,
          3.240925051389084,
          1.866988108037708,
          1.0767488544223136,
          0.6221397684347698,
          0.359995999048859,
          0.2085132104697249
         ],
         "xaxis": "x",
         "y": [
          0.8835540184483878,
          2.3337552407228226,
          5.28912400743292,
          9.292782455822884,
          12.054189823880453,
          12.162604161406671,
          9.970044522633806,
          6.837011952962504,
          3.907127117326061,
          1.8454144814277358,
          0.7436642904328812,
          0.21291723639507487,
          -0.040552619966233605,
          -0.14440523425997032,
          -0.16640805187224184
         ],
         "yaxis": "y"
        },
        {
         "legendgroup": "train_5",
         "mode": "markers",
         "name": "Run id in Train 5",
         "type": "scatter",
         "x": [
          0.9744897959183674,
          2.406921302247812,
          5.196041068887806,
          9.018136271163266,
          11.975281156400662,
          12.472876584537527,
          10.74865387739688,
          7.898282124391004,
          5.015423771955666,
          2.8668906881316008,
          1.5952036675723131,
          0.883499604044254,
          0.4883827704146793,
          0.2697342502902922,
          0.1489124435385337
         ],
         "xaxis": "x",
         "y": [
          0.9692189372878448,
          2.5566672037132143,
          5.759644878131221,
          10.002590308757247,
          12.901925195497286,
          13.148005368359545,
          11.168669616981463,
          8.282322248895008,
          5.4816074609456225,
          3.260421821073023,
          1.891336117478318,
          1.0942182029734675,
          0.6209542421520928,
          0.34807396326560436,
          0.1902247610380557
         ],
         "yaxis": "y"
        },
        {
         "legendgroup": "train_6",
         "mode": "markers",
         "name": "Run id in Train 6",
         "type": "scatter",
         "x": [
          0.7806122448979591,
          1.975598501172804,
          4.447145355804954,
          8.222007631588548,
          11.810855568464037,
          13.202788595684126,
          12.11249067562794,
          9.4917369807142,
          6.47725387266102,
          3.982074568663462,
          2.317558052215487,
          1.3188287116986093,
          0.7439866778063171,
          0.4179559136359603,
          0.2342622485018471
         ],
         "xaxis": "x",
         "y": [
          0.7248439736589078,
          1.9471302190563062,
          4.634979023016206,
          8.851495866404106,
          12.800031959521004,
          13.825233505763943,
          12.26716150912775,
          9.240006258076122,
          5.990172204345589,
          3.4518976663755874,
          1.8201860773596494,
          0.9016522575339938,
          0.42361268224365733,
          0.18065371087156223,
          0.04560595246101917
         ],
         "yaxis": "y"
        },
        {
         "legendgroup": "train_7",
         "mode": "markers",
         "name": "Run id in Train 7",
         "type": "scatter",
         "x": [
          0.7295918367346939,
          2.2505276992118386,
          5.756846967199105,
          10.651374604582667,
          13.779990523471408,
          13.661272552598792,
          11.410021845873027,
          8.391262132032626,
          5.433289941751308,
          3.062335558796292,
          1.5495839975266816,
          0.7674467069216043,
          0.3797836815105751,
          0.1878918071388641,
          0.09294639830802
         ],
         "xaxis": "x",
         "y": [
          0.7120199314910258,
          1.9663532454324606,
          4.752033814830464,
          9.012582123669803,
          12.792693479386338,
          14.108645633379783,
          13.108598292075015,
          10.863982672419413,
          8.264885068215051,
          5.814193775536781,
          3.9423205661732057,
          2.668054678075025,
          1.8318531483756657,
          1.2713390064183394,
          0.8757494780503685
         ],
         "yaxis": "y"
        },
        {
         "legendgroup": "train_8",
         "mode": "markers",
         "name": "Run id in Train 8",
         "type": "scatter",
         "x": [
          0.6989795918367347,
          1.848104962271837,
          4.275239539329713,
          7.758151399559654,
          10.377011125677477,
          10.64641962815131,
          9.028929257551075,
          6.646146575884176,
          4.340519317462716,
          2.593373670872533,
          1.5281691419509686,
          0.8995307180450183,
          0.5295521527654201,
          0.311842208648604,
          0.1836859247616231
         ],
         "xaxis": "x",
         "y": [
          0.7208177068307324,
          2.0280660562117903,
          4.914008718720938,
          9.061452885307641,
          12.045612905564766,
          12.753677660218013,
          11.504080484334144,
          9.60430948298409,
          7.681489958913043,
          5.798829630442769,
          4.2375773435813535,
          3.0699856428988728,
          2.226501602434614,
          1.6134765943111646,
          1.1552480434565737
         ],
         "yaxis": "y"
        },
        {
         "legendgroup": "train_9",
         "mode": "markers",
         "name": "Run id in Train 9",
         "type": "scatter",
         "x": [
          0.8418367346938775,
          2.2789376634822687,
          5.398066543095938,
          10.156482702407544,
          14.449290906131306,
          15.978352785495437,
          14.576748915106055,
          11.378259295196262,
          7.682741940655455,
          4.608446080818723,
          2.647979593740628,
          1.514662535836207,
          0.8649572065986112,
          0.4936224262432949,
          0.2816301431882249
         ],
         "xaxis": "x",
         "y": [
          0.8257973423290285,
          2.2032921046457634,
          5.09602705132496,
          9.280790209166302,
          12.850101685495392,
          13.93541500007352,
          12.581007454515237,
          9.901396109665388,
          6.9511333907899795,
          4.389013242655802,
          2.6894751380024498,
          1.6640805610783267,
          1.044917728664451,
          0.6624188315167141,
          0.4198986374579113
         ],
         "yaxis": "y"
        },
        {
         "legendgroup": "train_10",
         "mode": "markers",
         "name": "Run id in Train 10",
         "type": "scatter",
         "x": [
          0.923469387755102,
          2.4674952847066307,
          5.654656303058643,
          10.097201515633571,
          13.556644471846797,
          14.307623198609583,
          12.606972734825222,
          9.626816830604502,
          6.544446803442491,
          4.115593536052588,
          2.4987668493627453,
          1.5030636983007923,
          0.8997281702794723,
          0.5371112374189292,
          0.3201425755581251
         ],
         "xaxis": "x",
         "y": [
          0.9482077718476455,
          2.5343519175617732,
          5.778336391109776,
          10.113572376893739,
          13.013907633837634,
          13.337102624707136,
          11.579585154486416,
          8.942555691705826,
          6.3124349556976185,
          4.144780657299905,
          2.6643887115369176,
          1.6927870820115207,
          1.0641126553672404,
          0.6784798311285105,
          0.4442288616455826
         ],
         "yaxis": "y"
        },
        {
         "legendgroup": "train_11",
         "mode": "markers",
         "name": "Run id in Train 11",
         "type": "scatter",
         "x": [
          0.596938775510204,
          1.5608371339147178,
          3.647331351529664,
          6.962771213924969,
          10.19507559703228,
          11.598509578671898,
          10.884080774492324,
          8.851564606648125,
          6.34609931995668,
          3.988012007506024,
          2.21807731028272,
          1.1477251655777574,
          0.587544586714998,
          0.30012672922519,
          0.1531511806757734
         ],
         "xaxis": "x",
         "y": [
          0.5705593701921929,
          1.6247963837130497,
          4.136253217353955,
          8.423400526867274,
          12.968691563678359,
          15.162591808217066,
          14.850032296166898,
          12.83603057138092,
          10.06334079655081,
          7.237585598206179,
          4.961347269889405,
          3.3807950812816885,
          2.343749565893043,
          1.6431729515379083,
          1.145932504479029
         ],
         "yaxis": "y"
        },
        {
         "legendgroup": "train_12",
         "mode": "markers",
         "name": "Run id in Train 12",
         "type": "scatter",
         "x": [
          0.6887755102040816,
          2.029318430344991,
          5.09606459448939,
          9.66449020086537,
          13.262917411504043,
          14.005601884046005,
          12.38037854109164,
          9.597991474053645,
          6.523037843825477,
          3.840589775698148,
          2.2196587973774524,
          1.300378864615394,
          0.7684830420751022,
          0.4565770271986459,
          0.2721392414066705
         ],
         "xaxis": "x",
         "y": [
          0.6905382611955047,
          1.886320297254906,
          4.508753187310129,
          8.516922947627386,
          12.134418344972692,
          13.446603797322052,
          12.31663166810001,
          9.838639382265017,
          7.048892680304216,
          4.5942847822636494,
          2.9191893520332513,
          1.8876554524877338,
          1.2498471620852627,
          0.8355094038559042,
          0.5611104142863266
         ],
         "yaxis": "y"
        },
        {
         "legendgroup": "train_13",
         "mode": "markers",
         "name": "Run id in Train 13",
         "type": "scatter",
         "x": [
          0.7397959183673469,
          2.0932798335703744,
          4.988371973144161,
          8.961674224473938,
          11.916455937922128,
          12.580053813163431,
          11.425458869513504,
          9.42725806498084,
          7.261048482116555,
          5.314589433638116,
          3.864166905680257,
          2.793086596716929,
          2.007452603973621,
          1.436198139885796,
          1.023945947342565
         ],
         "xaxis": "x",
         "y": [
          0.7493291414574162,
          2.0208104117086916,
          4.74026803648125,
          8.818199868688929,
          12.591349371501725,
          14.200952624656884,
          13.309312829463494,
          10.880338533672083,
          7.952733741864613,
          5.227258045857525,
          3.3535079958084464,
          2.1863659404818807,
          1.451552304649152,
          0.9712929757248048,
          0.6596251930863366
         ],
         "yaxis": "y"
        },
        {
         "legendgroup": "train_14",
         "mode": "markers",
         "name": "Run id in Train 14",
         "type": "scatter",
         "x": [
          0.9132653061224488,
          2.268700003075957,
          4.852817605190676,
          8.03020144985266,
          9.849429257100594,
          9.41700644818678,
          7.520062556504349,
          5.260973437955173,
          3.344908565936372,
          2.0025458697630176,
          1.1628548044785942,
          0.6681238524519214,
          0.3817906954042855,
          0.2175108950812728,
          0.1237074813855766
         ],
         "xaxis": "x",
         "y": [
          0.8988873841159676,
          2.440823492671808,
          5.680217384073054,
          10.07076218200087,
          12.947062193307712,
          13.120455134721865,
          11.333455254295279,
          8.983722379321184,
          6.779349329472125,
          4.8509198583333895,
          3.376827113200677,
          2.327834669323893,
          1.607319201228194,
          1.1202282334052733,
          0.7673623136907287
         ],
         "yaxis": "y"
        },
        {
         "legendgroup": "train_15",
         "mode": "markers",
         "name": "Run id in Train 15",
         "type": "scatter",
         "x": [
          0.9540816326530612,
          2.367342281659226,
          5.027991030327787,
          8.465589732275065,
          10.977214084733218,
          11.298221524962116,
          9.665324913154048,
          7.141607212815919,
          4.770577720546938,
          3.0208431828807,
          1.8677986607649288,
          1.1428102738448511,
          0.6950128093663546,
          0.4211774265021741,
          0.2546938298816966
         ],
         "xaxis": "x",
         "y": [
          0.9610108953687277,
          2.528527473551125,
          5.688521048216851,
          9.893808288060757,
          12.707730955997599,
          12.732738235605938,
          10.515833923445806,
          7.358887244526352,
          4.373436873563224,
          2.2351954597661687,
          1.025462644853099,
          0.3847148816354222,
          0.052400515864597264,
          -0.09210558820207249,
          -0.13530317647402668
         ],
         "yaxis": "y"
        },
        {
         "legendgroup": "train_16",
         "mode": "markers",
         "name": "Run id in Train 16",
         "type": "scatter",
         "x": [
          0.7091836734693877,
          2.031120047613229,
          5.0607865396963145,
          9.811731190638346,
          13.705226987387707,
          14.11094751309537,
          11.495394691205163,
          7.844975652540778,
          4.758585473852402,
          2.746166858492201,
          1.5624130281404758,
          0.8826520025943043,
          0.496823032931045,
          0.2791089499380181,
          0.1566367060258852
         ],
         "xaxis": "x",
         "y": [
          0.7213946048491661,
          1.9520226153363873,
          4.585435354764785,
          8.386411291227569,
          11.255080503599874,
          11.654744999851248,
          9.728499813769005,
          6.873808918982435,
          4.187713978937268,
          2.2447002008439627,
          1.1502224693199945,
          0.5985437073810436,
          0.3107867997968481,
          0.15011454234063937,
          0.06255189166188868
         ],
         "yaxis": "y"
        },
        {
         "legendgroup": "train_17",
         "mode": "markers",
         "name": "Run id in Train 17",
         "type": "scatter",
         "x": [
          0.5051020408163265,
          1.5395095794355145,
          4.170322326771822,
          8.872307890111077,
          13.492753111350268,
          14.946517948610614,
          13.044323492488331,
          9.38840829027414,
          5.64549552050192,
          2.9742752841713527,
          1.4758636693661418,
          0.7192374603146248,
          0.3489000392746019,
          0.1688870733719879,
          0.0816666440022619
         ],
         "xaxis": "x",
         "y": [
          0.5133032200326982,
          1.4629844585075065,
          3.745780979125932,
          7.687489782104108,
          11.680141606861731,
          13.234817177125773,
          12.264758970614796,
          9.72546246280386,
          6.78333389702081,
          4.363484520527026,
          2.6761513681489495,
          1.6373403169909257,
          1.0290617746996464,
          0.6609124050623612,
          0.43286019659556185
         ],
         "yaxis": "y"
        },
        {
         "legendgroup": "train_18",
         "mode": "markers",
         "name": "Run id in Train 18",
         "type": "scatter",
         "x": [
          0.8112244897959184,
          2.435858405511861,
          5.961413488526969,
          10.42636474501128,
          12.79723266806944,
          11.990451310009338,
          9.219196995695562,
          6.006234572258977,
          3.437115573746232,
          1.829965729665929,
          0.9461302517795804,
          0.4839226222384316,
          0.246555080124136,
          0.1253995058246693,
          0.063725743226018
         ],
         "xaxis": "x",
         "y": [
          0.8122487458847234,
          2.2117817772108723,
          5.2259563816003585,
          9.624956904138031,
          13.077594152601769,
          13.76059392813715,
          12.259306332967581,
          9.653440012859157,
          6.899838437902089,
          4.634266373822878,
          2.97968533797804,
          1.8669815131095295,
          1.1666794345139346,
          0.7464783100639562,
          0.4846573242818218
         ],
         "yaxis": "y"
        },
        {
         "legendgroup": "train_19",
         "mode": "markers",
         "name": "Run id in Train 19",
         "type": "scatter",
         "x": [
          0.5561224489795918,
          1.4257427421108804,
          3.3432933783312624,
          6.6284768975394135,
          10.4461174666061,
          13.06205208865169,
          13.606463927585786,
          12.46234608131146,
          10.385803560623968,
          7.945368526273156,
          5.485308584405903,
          3.5750719942868177,
          2.370530066085736,
          1.5898761954124825,
          1.0741649177874006
         ],
         "xaxis": "x",
         "y": [
          0.5455562166370815,
          1.5500358968384351,
          3.953682064552418,
          8.181485832357383,
          13.016838439065404,
          15.737340427885133,
          15.80496812202608,
          13.841923833446145,
          10.861080498858644,
          7.728584077686598,
          5.254893538979203,
          3.5662468765253053,
          2.464064147606029,
          1.7202388616997815,
          1.2055280823287757
         ],
         "yaxis": "y"
        },
        {
         "legendgroup": "train_20",
         "mode": "markers",
         "name": "Run id in Train 20",
         "type": "scatter",
         "x": [
          0.6581632653061225,
          1.685321229352324,
          3.8508270529947928,
          7.220189710401732,
          10.576576422001322,
          12.33718107549764,
          12.172890010167036,
          10.721396732669987,
          8.697922274897833,
          6.550454396733091,
          4.814264956820509,
          3.55685819858454,
          2.628179025105676,
          1.9389506067955613,
          1.4277951086179823
         ],
         "xaxis": "x",
         "y": [
          0.6785485334590898,
          1.878945841750919,
          4.546834565452965,
          8.702943577307623,
          12.652909107329439,
          14.507609198199981,
          13.957818580899307,
          11.870027876140565,
          9.162204889386539,
          6.458506543640321,
          4.405806313077958,
          3.0107416097529707,
          2.082304939946992,
          1.4512111504252352,
          1.0206880195089798
         ],
         "yaxis": "y"
        },
        {
         "legendgroup": "train_21",
         "mode": "markers",
         "name": "Run id in Train 21",
         "type": "scatter",
         "x": [
          0.6071428571428571,
          1.704916153784669,
          4.247868088374872,
          8.283424816314591,
          11.55107021979292,
          11.946885496405434,
          10.05368020938228,
          7.439991313957908,
          5.102622058690177,
          3.3504012840129023,
          2.1456734894040617,
          1.3543320777174386,
          0.8474062834159186,
          0.5274006136363352,
          0.3271685272912421
         ],
         "xaxis": "x",
         "y": [
          0.623454262798609,
          1.7620503205157543,
          4.361389650228127,
          8.319894685844757,
          11.233903276473974,
          11.428232635240565,
          9.520539467875874,
          6.89365253643793,
          4.5180842397599825,
          2.8916554131037415,
          1.7913077820349053,
          1.0985317547403164,
          0.6847672961473154,
          0.438150871286942,
          0.27884338176633794
         ],
         "yaxis": "y"
        },
        {
         "legendgroup": "train_22",
         "mode": "markers",
         "name": "Run id in Train 22",
         "type": "scatter",
         "x": [
          0.8928571428571428,
          2.3350802322236013,
          5.2557023533384495,
          9.289435962758969,
          12.492749769115903,
          13.300463661196533,
          11.947722528698772,
          9.379765315653389,
          6.343753672846081,
          3.5708275420073536,
          1.7868094317494536,
          0.8886376126994404,
          0.442200977584012,
          0.2201523652671352,
          0.1096358304603639
         ],
         "xaxis": "x",
         "y": [
          0.9084236172863267,
          2.396346184948469,
          5.435952019338863,
          9.699211672508238,
          13.180157071504922,
          14.156418692878919,
          12.708950286297446,
          9.815478436968366,
          6.612050671052249,
          3.9534369888582037,
          2.261725377930362,
          1.2633896596304814,
          0.6813401789014006,
          0.35916654754559296,
          0.19680963182659234
         ],
         "yaxis": "y"
        },
        {
         "legendgroup": "train_23",
         "mode": "markers",
         "name": "Run id in Train 23",
         "type": "scatter",
         "x": [
          0.9948979591836736,
          2.724153484749099,
          6.3707816747891926,
          11.549482031397128,
          15.917233796260168,
          17.741899341332616,
          17.181804664477998,
          15.153215229575952,
          12.363925634613343,
          8.621498246835316,
          5.8075983017902,
          3.8930001983690823,
          2.601598848467503,
          1.7351935137964911,
          1.1558606431059135
         ],
         "xaxis": "x",
         "y": [
          0.9683992650382449,
          2.589227606238085,
          5.919532858252771,
          10.494980786278864,
          14.341850301281317,
          16.0693841694575,
          15.53101096208112,
          13.701592454519481,
          11.219930638255546,
          8.260848147715869,
          5.886086726469137,
          4.183069689401246,
          2.980526384177536,
          2.1236530290663533,
          1.498864544071941
         ],
         "yaxis": "y"
        },
        {
         "legendgroup": "train_24",
         "mode": "markers",
         "name": "Run id in Train 24",
         "type": "scatter",
         "x": [
          0.5663265306122449,
          1.6771093009774558,
          4.379731070195562,
          8.814428066154804,
          12.554055541493298,
          13.424131104834624,
          11.962167160326796,
          9.455430182571265,
          6.7596940358204325,
          4.373322113045097,
          2.589368718003216,
          1.450686301806721,
          0.8038656628412996,
          0.4445277900923833,
          0.2455700767878137
         ],
         "xaxis": "x",
         "y": [
          0.5557734529466958,
          1.6180637661874013,
          4.169067910824856,
          8.32124229728291,
          11.906698924725235,
          12.844852822497707,
          11.625543137269773,
          9.449672310233376,
          7.166621808255289,
          5.212690894036873,
          3.6150808961895278,
          2.474645107516499,
          1.7215061643679404,
          1.2147963628822838,
          0.8444683085861837
         ],
         "yaxis": "y"
        },
        {
         "legendgroup": "train_25",
         "mode": "markers",
         "name": "Run id in Train 25",
         "type": "scatter",
         "x": [
          0.7704081632653061,
          2.151854148193768,
          5.140486648583636,
          9.30280586447139,
          12.26575518353688,
          12.741214421952844,
          11.428516567248533,
          9.32322404371885,
          7.042106481499884,
          4.90236484657312,
          3.1089254719526997,
          1.9320232792738623,
          1.2178531519640323,
          0.7751231354680042,
          0.4964700790761943
         ],
         "xaxis": "x",
         "y": [
          0.7541327340707391,
          2.0941606032085107,
          5.0467089152764935,
          9.360486013476862,
          12.644742052484858,
          13.303135751205076,
          11.895400895806809,
          9.701035605553338,
          7.466962345780713,
          5.436747726878705,
          3.8119921808021853,
          2.64495542601873,
          1.849496917900994,
          1.3052690317506321,
          0.9060781320581973
         ],
         "yaxis": "y"
        },
        {
         "legendgroup": "train_26",
         "mode": "markers",
         "name": "Run id in Train 26",
         "type": "scatter",
         "x": [
          0.5459183673469388,
          1.4612526535185737,
          3.5588105560735417,
          7.106884653233597,
          10.320064695094043,
          10.863672285246889,
          9.049290698641858,
          6.52501914594416,
          4.329889270118319,
          2.7411300342703435,
          1.6892374665766086,
          1.024806199587152,
          0.6159936416061322,
          0.3682493960337067,
          0.2194372578287619
         ],
         "xaxis": "x",
         "y": [
          0.5530956067920991,
          1.5717066418264853,
          3.9540543935157864,
          7.7400213873997705,
          10.78071110202381,
          11.162859405920642,
          9.287981443078438,
          6.556901636440724,
          4.048745900459593,
          2.363218803092893,
          1.315993933524957,
          0.7322238743820817,
          0.4211009634549192,
          0.24568006067951165,
          0.13598659646897482
         ],
         "yaxis": "y"
        },
        {
         "legendgroup": "train_27",
         "mode": "markers",
         "name": "Run id in Train 27",
         "type": "scatter",
         "x": [
          0.75,
          2.083893336988898,
          5.067346416088848,
          9.700998168028448,
          13.808835852497104,
          15.30512697665309,
          14.346966807721929,
          12.044545101050092,
          9.268962591481236,
          6.497915751245502,
          4.134784100960853,
          2.6506825128490155,
          1.7306129311879863,
          1.143206551169588,
          0.7608529283796743
         ],
         "xaxis": "x",
         "y": [
          0.7482710279621568,
          2.0517700978757762,
          4.895240495592279,
          9.1313222986807,
          12.702823025210144,
          13.815422919411326,
          12.653935175849488,
          10.307751320554033,
          7.6853010779270665,
          5.309004639848194,
          3.5492812213806997,
          2.3680216974544526,
          1.598701258276566,
          1.0929386981672053,
          0.7478552311269432
         ],
         "yaxis": "y"
        },
        {
         "legendgroup": "train_28",
         "mode": "markers",
         "name": "Run id in Train 28",
         "type": "scatter",
         "x": [
          0.576530612244898,
          1.696045953610509,
          4.475798278854103,
          9.544466207759733,
          15.16531396381901,
          18.47074228676544,
          18.751854241389506,
          16.999519428238006,
          14.363996218092185,
          11.604576843178217,
          9.100675836876158,
          6.995347572971533,
          5.306411384179855,
          3.9839077410901913,
          2.966695184039032
         ],
         "xaxis": "x",
         "y": [
          0.5883049172424255,
          1.6966546050924023,
          4.316813749696672,
          8.665693525919316,
          13.041008636732702,
          15.26349640039161,
          15.163562103238515,
          13.46965238171413,
          10.964896402698397,
          8.212490945629394,
          5.8489540742631,
          4.1052937233558096,
          2.9024925530188876,
          2.067964640739275,
          1.4746438125324564
         ],
         "yaxis": "y"
        },
        {
         "legendgroup": "train_29",
         "mode": "markers",
         "name": "Run id in Train 29",
         "type": "scatter",
         "x": [
          0.8316326530612245,
          2.4182968063591703,
          6.1106357822366,
          11.852894769474116,
          16.653269229028503,
          18.1448033705536,
          16.85728446876505,
          14.208639126663268,
          11.239797988952644,
          8.474083677021213,
          6.075095296147305,
          4.023688170056238,
          2.567496189452761,
          1.6726642367271911,
          1.1025407004970518
         ],
         "xaxis": "x",
         "y": [
          0.8305247292568769,
          2.259207815507453,
          5.328372608975526,
          9.799372325933614,
          13.339162651549413,
          14.106038817961114,
          12.693958917322586,
          10.138368006640807,
          7.373492552251902,
          5.031987839380743,
          3.2830068259423606,
          2.0854784866652416,
          1.3214126730520026,
          0.8572077408007579,
          0.564083973327085
         ],
         "yaxis": "y"
        },
        {
         "legendgroup": "train_30",
         "mode": "markers",
         "name": "Run id in Train 30",
         "type": "scatter",
         "x": [
          0.75,
          2.11838522099468,
          5.300777801136268,
          10.531619241902058,
          15.625152148324371,
          18.365283029377498,
          18.735569286962225,
          17.523220850761664,
          15.45560463907854,
          13.082587497614089,
          10.75654587793331,
          8.670837906549645,
          6.868595783995239,
          5.334868052328891,
          3.927190522113845
         ],
         "xaxis": "x",
         "y": [
          0.7251756249680366,
          2.0209923503451708,
          4.9061719433944235,
          9.198966314988576,
          12.622241920418023,
          13.451933376128297,
          12.160367747909236,
          10.011879832449388,
          7.761803317270623,
          5.661887473623481,
          3.973849404943763,
          2.768361117751673,
          1.948663152958021,
          1.382118627233229,
          0.9611253069449299
         ],
         "yaxis": "y"
        },
        {
         "legendgroup": "test_0",
         "mode": "markers",
         "name": "Run id in Test 0",
         "type": "scatter",
         "x": [
          0.9846938775510204,
          2.9249576819091097,
          7.444332832191713,
          14.420480064339324,
          20.57081333243489,
          23.12755137436929,
          22.33065010823708,
          19.648806069957416,
          16.31282380897557,
          13.028843938823911,
          10.102605608179564,
          7.629152917195547,
          5.731307831914585,
          4.294304959498489,
          3.2079190607230106
         ],
         "xaxis": "x2",
         "y": [
          0.9334546672571957,
          2.4706343166466227,
          5.671973962337976,
          10.360598383150846,
          14.796478642172747,
          16.64991380315898,
          15.965906973764886,
          13.514019395517568,
          10.283559909312253,
          7.036722245073291,
          4.611000512668472,
          2.993234246081383,
          1.958259974547806,
          1.3007825459779045,
          0.8653883965644111
         ],
         "yaxis": "y2"
        },
        {
         "legendgroup": "test_1",
         "mode": "markers",
         "name": "Run id in Test 1",
         "type": "scatter",
         "x": [
          0.7602040816326531,
          1.9141143764556665,
          4.408003876496271,
          8.6231479106663,
          13.457148205276154,
          16.834281247208605,
          17.857446383705128,
          16.99522186258524,
          15.068785638787078,
          12.793489696074769,
          10.597325015932462,
          8.59544420181317,
          6.853541356095238,
          5.38786140727645,
          4.18265740274008
         ],
         "xaxis": "x2",
         "y": [
          0.779967650870795,
          2.159542274487928,
          5.14101426438591,
          9.420457608268494,
          12.848990230724828,
          14.204685917188346,
          13.462903907232974,
          11.703615631603165,
          9.55596927818576,
          7.173707844821022,
          5.203771888118541,
          3.7482231890296513,
          2.7024995782472074,
          1.9471955066851239,
          1.3947916604728157
         ],
         "yaxis": "y2"
        },
        {
         "legendgroup": "test_2",
         "mode": "markers",
         "name": "Run id in Test 2",
         "type": "scatter",
         "x": [
          0.6377551020408163,
          1.7596767331437484,
          4.320048035023024,
          8.600099814712605,
          13.129010583057209,
          15.86887489530228,
          16.314060822920034,
          15.128350980501,
          13.118424032866182,
          10.845032804189962,
          8.611928610057822,
          6.721336704242177,
          5.249987862906268,
          4.091917406485745,
          3.180171977396879
         ],
         "xaxis": "x2",
         "y": [
          0.6391376042758261,
          1.8163568388071492,
          4.534013351208761,
          8.902904290802388,
          13.13632219199591,
          15.165726845445159,
          14.897456640388768,
          13.147403652788258,
          10.678345970310614,
          7.97397671607964,
          5.67636303708812,
          3.9898074207505076,
          2.824696406757115,
          2.013287556394124,
          1.43116479237142
         ],
         "yaxis": "y2"
        },
        {
         "legendgroup": "test_3",
         "mode": "markers",
         "name": "Run id in Test 3",
         "type": "scatter",
         "x": [
          0.6683673469387755,
          1.8479761959252932,
          4.5642475791718695,
          9.101866917551046,
          13.763741305573545,
          16.39181066854337,
          16.588673250600085,
          15.121065257143862,
          12.880994022025028,
          10.494696740233676,
          8.276399606720522,
          6.112053610273055,
          3.960093130262047,
          2.557747831948446,
          1.6487988889593452
         ],
         "xaxis": "x2",
         "y": [
          0.6821429066064587,
          1.9407135675572864,
          4.7867147655074085,
          9.088505697033057,
          12.6955578251987,
          14.138732079181356,
          13.519195140509034,
          11.894105828679969,
          9.861855389026976,
          7.575933797521506,
          5.561956213402331,
          4.024407883216304,
          2.9160128048616274,
          2.11423174388339,
          1.5187563939813846
         ],
         "yaxis": "y2"
        },
        {
         "legendgroup": "test_4",
         "mode": "markers",
         "name": "Run id in Test 4",
         "type": "scatter",
         "x": [
          0.8214285714285714,
          2.462338134351961,
          6.204794037706704,
          11.455830213030046,
          15.029129484664557,
          15.46330643203451,
          13.775109141164494,
          11.194697479273378,
          8.439502937137675,
          5.831525356659873,
          3.89278824381229,
          2.6769952754832365,
          1.8716034350620616,
          1.320869574866547,
          0.9373903299802034
         ],
         "xaxis": "x2",
         "y": [
          0.8539515111373738,
          2.3195560898276173,
          5.39133051409762,
          9.555075757148401,
          12.161476049830844,
          12.170436967313638,
          10.197830786383726,
          7.603837038743625,
          5.240722636759756,
          3.452219447285187,
          2.2436266782912364,
          1.447592558426844,
          0.9288302084987424,
          0.6052506549498724,
          0.40147196741436497
         ],
         "yaxis": "y2"
        },
        {
         "legendgroup": "test_5",
         "mode": "markers",
         "name": "Run id in Test 5",
         "type": "scatter",
         "x": [
          0.5357142857142857,
          1.68535612201013,
          4.750910857750842,
          10.527563515639322,
          16.384892612448336,
          18.71899028723027,
          17.642047191967187,
          14.84113370432232,
          11.547197993927814,
          8.368835642374764,
          5.550515941164199,
          3.400201224606473,
          2.123828050301551,
          1.3483571723438612,
          0.864549860389209
         ],
         "xaxis": "x2",
         "y": [
          0.5193999898390149,
          1.5129972945578243,
          3.9349289538471544,
          8.037809714887397,
          11.989670608181406,
          13.44953671952415,
          12.572699155471451,
          10.432716810675302,
          7.951344873614881,
          5.692676727425771,
          3.894675816683699,
          2.6530880409835795,
          1.8455764362429399,
          1.299530177043469,
          0.9037552575331782
         ],
         "yaxis": "y2"
        },
        {
         "legendgroup": "test_6",
         "mode": "markers",
         "name": "Run id in Test 6",
         "type": "scatter",
         "x": [
          0.9642857142857144,
          2.7309189004610017,
          6.496967810835099,
          11.712526422702096,
          15.86566984919472,
          17.518274325752582,
          17.049508108239532,
          15.339560792436927,
          13.11520485201357,
          10.836341627146137,
          8.748004765272608,
          6.940423704135373,
          5.421358011949733,
          4.157669835361252,
          3.027012159344149
         ],
         "xaxis": "x2",
         "y": [
          0.9330390387943369,
          2.5242055417562552,
          5.8550900010711935,
          10.446840493560101,
          13.979662146184054,
          15.080432750162508,
          14.089261308704593,
          12.151398733919795,
          9.875121358871848,
          7.357082983953328,
          5.2768819706786,
          3.7453804946387486,
          2.6616573265649053,
          1.8971462547812328,
          1.3326430477671485
         ],
         "yaxis": "y2"
        },
        {
         "legendgroup": "test_7",
         "mode": "markers",
         "name": "Run id in Test 7",
         "type": "scatter",
         "x": [
          0.8622448979591837,
          2.331143803305513,
          5.496622671227072,
          10.20537730486747,
          14.299665039067758,
          15.96548171229209,
          15.372177818756573,
          13.498156448189532,
          11.164486041753278,
          8.850690795800881,
          6.801418450313421,
          5.185592772160354,
          3.932335026469168,
          2.9668846208042594,
          2.2290717204845274
         ],
         "xaxis": "x2",
         "y": [
          0.8660855864019403,
          2.3857760783113258,
          5.637183491965923,
          10.207254923968632,
          13.668787017219342,
          14.776115881299479,
          13.911915581289621,
          12.14207438640803,
          10.020967744320245,
          7.653477131723307,
          5.58828259286701,
          4.000203618859177,
          2.854690344590882,
          2.045540200487791,
          1.455853967325314
         ],
         "yaxis": "y2"
        },
        {
         "legendgroup": "test_8",
         "mode": "markers",
         "name": "Run id in Test 8",
         "type": "scatter",
         "x": [
          0.6275510204081632,
          1.966509895702454,
          5.4703296564633614,
          11.75929246310936,
          17.798476959757984,
          20.25767094292334,
          19.398185047268417,
          16.755642131725846,
          13.55094811108645,
          10.481962644716347,
          7.857313430365911,
          5.811171729991748,
          4.2584707583927095,
          3.0973636223609207,
          2.240048684169528
         ],
         "xaxis": "x2",
         "y": [
          0.6181249020822424,
          1.7812699826206735,
          4.4932589582481866,
          8.743277745805443,
          12.40738326044304,
          13.712013622444621,
          12.907443157905208,
          11.14070159056293,
          9.077108409484552,
          6.916124141574356,
          5.027127344243173,
          3.6083427640228845,
          2.607509679727272,
          1.8888661405130676,
          1.3461114524784357
         ],
         "yaxis": "y2"
        },
        {
         "legendgroup": "test_9",
         "mode": "markers",
         "name": "Run id in Test 9",
         "type": "scatter",
         "x": [
          0.8010204081632653,
          2.339410182422604,
          6.0419955584897975,
          12.429172992150209,
          19.0638331981036,
          22.700661141137463,
          22.85778892850325,
          20.76765902113485,
          17.695686246636583,
          14.451046918863232,
          11.429553184034148,
          8.81126297917751,
          6.767892149629804,
          5.174965627060598,
          3.937534851903999
         ],
         "xaxis": "x2",
         "y": [
          0.8058262929015713,
          2.162312396588583,
          5.052816612118087,
          9.371794895275087,
          13.189663116910243,
          14.396848702134019,
          13.1649206046411,
          10.391385958663662,
          7.210047928935428,
          4.5406964908867415,
          2.721136487284088,
          1.588392495746776,
          0.9161917559475251,
          0.5344310776681993,
          0.3230694881980092
         ],
         "yaxis": "y2"
        },
        {
         "legendgroup": "test_10",
         "mode": "markers",
         "name": "Run id in Test 10",
         "type": "scatter",
         "x": [
          0.5255102040816326,
          1.542944523336143,
          4.111079413586001,
          8.963076939330202,
          14.544645094511967,
          18.04047070058947,
          18.84870496269079,
          17.78007013831816,
          15.691412933616666,
          13.226330834280551,
          10.79079447405206,
          8.629169774506371,
          6.794817697582468,
          5.271066535858475,
          4.017629690968412
         ],
         "xaxis": "x2",
         "y": [
          0.5043124689575464,
          1.4695502522337824,
          3.830847961740743,
          7.834863118720816,
          11.656849220977577,
          12.977562933280003,
          11.944602926408965,
          9.725674911412428,
          7.269058137764285,
          5.113053958632416,
          3.4526927377961547,
          2.340382879115909,
          1.6297763329479222,
          1.147550487923103,
          0.7927319708814242
         ],
         "yaxis": "y2"
        },
        {
         "legendgroup": "test_11",
         "mode": "markers",
         "name": "Run id in Test 11",
         "type": "scatter",
         "x": [
          0.9336734693877552,
          2.437065710148363,
          5.62796875469204,
          10.533862335746935,
          15.299290333717591,
          17.875320862162734,
          17.969674835262136,
          16.391071193811836,
          14.038007795709742,
          11.533274365430168,
          9.195745593943654,
          7.112231654820247,
          4.969438825805817,
          3.2717696020474447,
          2.149185943850851
         ],
         "xaxis": "x2",
         "y": [
          0.9152194448901663,
          2.4491156036241573,
          5.629665522806614,
          10.068061758202598,
          13.713447391379484,
          15.01753629444845,
          14.035887970277427,
          11.819505364438243,
          9.172425788777598,
          6.466790863225879,
          4.430413901529215,
          3.0375686768824095,
          2.0965806577309154,
          1.4557658593989085,
          1.0062975005795392
         ],
         "yaxis": "y2"
        },
        {
         "legendgroup": "test_12",
         "mode": "markers",
         "name": "Run id in Test 12",
         "type": "scatter",
         "x": [
          0.6479591836734694,
          1.884819157337169,
          4.857121815360596,
          9.883852342577676,
          14.745478184452407,
          16.750903296290836,
          15.855890776999102,
          13.4084180343061,
          10.541080300045364,
          7.838598393293369,
          5.537871658750931,
          3.8998106271285167,
          2.751999359383246,
          1.940978937310896,
          1.3673696888707296
         ],
         "xaxis": "x2",
         "y": [
          0.6371093935680683,
          1.777599955798477,
          4.379180025829419,
          8.575290775253764,
          12.724162193503217,
          14.594682592317188,
          14.009180317395156,
          11.877119631995443,
          9.142294880813635,
          6.443663528462276,
          4.369591366801313,
          2.9658821070388317,
          2.047546267274028,
          1.427048779777858,
          0.9927291333640345
         ],
         "yaxis": "y2"
        },
        {
         "legendgroup": "test_13",
         "mode": "markers",
         "name": "Run id in Test 13",
         "type": "scatter",
         "x": [
          0.5867346938775511,
          1.75224472840841,
          4.626422304609773,
          9.554697980944976,
          14.351559517739917,
          16.306983739372416,
          15.354023140977375,
          12.884585124732602,
          10.07134964767596,
          7.510842411848839,
          5.396747823002425,
          3.775682093010206,
          2.62885136314987,
          1.823744181150547,
          1.2617144548275685
         ],
         "xaxis": "x2",
         "y": [
          0.5711727717349525,
          1.636911298246261,
          4.184462236630308,
          8.614473117537793,
          13.69759204959304,
          16.790513698684443,
          17.310718270665763,
          15.77281327623188,
          13.003839938779588,
          9.690744473427586,
          6.864156794525587,
          4.816127231129345,
          3.4147926782968807,
          2.435423641231759,
          1.7331573645461162
         ],
         "yaxis": "y2"
        },
        {
         "legendgroup": "test_14",
         "mode": "markers",
         "name": "Run id in Test 14",
         "type": "scatter",
         "x": [
          0.7193877551020408,
          1.8819649327552248,
          4.431622324838061,
          8.619809650994062,
          13.020876150688665,
          15.515499060036886,
          15.599965118787315,
          14.051640993658378,
          11.782572421294605,
          9.403752555916933,
          7.219481888621721,
          5.344457577067406,
          3.934198389414581,
          2.897586446932469,
          2.1311363407691504
         ],
         "xaxis": "x2",
         "y": [
          0.6613928462492973,
          1.8361975078287225,
          4.535853468178726,
          8.989975010840103,
          13.691885886786523,
          15.931114690271174,
          15.61643303609544,
          13.558265456712709,
          10.68446276746684,
          7.663681955526529,
          5.237231237388063,
          3.5593115605357344,
          2.4604521856553756,
          1.7195575794788098,
          1.1874860319342289
         ],
         "yaxis": "y2"
        },
        {
         "legendgroup": "test_15",
         "mode": "markers",
         "name": "Run id in Test 15",
         "type": "scatter",
         "x": [
          0.8826530612244898,
          2.301700917119291,
          5.221233783249605,
          9.405183220458456,
          12.989315041294953,
          14.45608728431214,
          13.939459640554592,
          12.272193189642197,
          10.170481276864445,
          8.119481293771605,
          6.3870512257453775,
          4.958828121214336,
          3.808676492326277,
          2.9007645035005254,
          2.195065592587444
         ],
         "xaxis": "x2",
         "y": [
          0.8890717194041498,
          2.4213468102424454,
          5.634968911567499,
          10.036763763772834,
          13.289444038603484,
          14.328736482575115,
          13.329698166208875,
          11.453145117692145,
          9.299012647261215,
          6.942899495623919,
          5.021186854470381,
          3.602913277619765,
          2.5825946160815185,
          1.8513533829869715,
          1.3163274234163014
         ],
         "yaxis": "y2"
        },
        {
         "legendgroup": "test_16",
         "mode": "markers",
         "name": "Run id in Test 16",
         "type": "scatter",
         "x": [
          0.9438775510204082,
          2.8608285925892134,
          7.211490532463949,
          13.22033673014351,
          17.38034576855179,
          18.169166945611025,
          16.553907900096718,
          13.863207809745452,
          11.0034580506766,
          8.42873035096861,
          6.321499692051502,
          4.671305057674692,
          3.411394976707729,
          2.467823605597711,
          1.7713327375780012
         ],
         "xaxis": "x2",
         "y": [
          0.9386602867473584,
          2.529153008209412,
          5.818359047227319,
          10.215562381695051,
          13.16645006095413,
          13.580985160920731,
          11.983495413928855,
          9.687741157983533,
          7.401268837054685,
          5.276669327916662,
          3.6739015098263392,
          2.544642289404384,
          1.7633015763468378,
          1.2297606958739415,
          0.8494815475138036
         ],
         "yaxis": "y2"
        },
        {
         "legendgroup": "test_17",
         "mode": "markers",
         "name": "Run id in Test 17",
         "type": "scatter",
         "x": [
          0.903061224489796,
          2.2853857876023507,
          5.207498757579862,
          9.834180339586856,
          14.387777013134414,
          16.518293170572928,
          15.828301258336182,
          13.28438736410519,
          9.913147649435132,
          6.653166686717479,
          4.473402355110158,
          3.0820159980536745,
          2.162848716950996,
          1.5374121883957808,
          1.1024930459376108
         ],
         "xaxis": "x2",
         "y": [
          0.9471431484613777,
          2.5176093534085346,
          5.690024824659201,
          9.83697934057316,
          12.378914823814673,
          12.362195002929145,
          10.262338011865763,
          7.379326088581875,
          4.692022371169887,
          2.717448525513331,
          1.5415407855829888,
          0.8528515982100691,
          0.4401220828049952,
          0.21531614578869718,
          0.10984348614651468
         ],
         "yaxis": "y2"
        },
        {
         "legendgroup": "test_18",
         "mode": "markers",
         "name": "Run id in Test 18",
         "type": "scatter",
         "x": [
          0.8520408163265306,
          2.394281632269277,
          5.874275295524471,
          11.342460340273425,
          16.424580746592124,
          18.73494831787969,
          18.266700666445463,
          16.14155873776271,
          13.331454907504677,
          10.520866257083032,
          8.27961915944311,
          6.467422789957415,
          5.007659365321414,
          3.847656521493039,
          2.9379087226288005
         ],
         "xaxis": "x2",
         "y": [
          0.8765024332342892,
          2.3353021298109837,
          5.332899490069346,
          9.44821465698883,
          12.488238992764774,
          13.11711854545253,
          11.474800541309026,
          8.744578613974543,
          5.939166373455874,
          3.64600570080641,
          2.1958316764528814,
          1.3316339608424599,
          0.8049433746736885,
          0.4880901633194595,
          0.3058875040402475
         ],
         "yaxis": "y2"
        }
       ],
       "layout": {
        "annotations": [
         {
          "font": {
           "size": 16
          },
          "showarrow": false,
          "text": "Train Set - X:VCD <br> R^2 = 0.89 <br> Abs RMSE = 1.253 <br> Rel RMSE = 0.254",
          "x": 0.225,
          "xanchor": "center",
          "xref": "paper",
          "y": 1,
          "yanchor": "bottom",
          "yref": "paper"
         },
         {
          "font": {
           "size": 16
          },
          "showarrow": false,
          "text": "Test Set - X:VCD <br> R^2 = 0.709 <br> Abs RMSE = 2.911 <br> Rel RMSE = 0.492",
          "x": 0.775,
          "xanchor": "center",
          "xref": "paper",
          "y": 1,
          "yanchor": "bottom",
          "yref": "paper"
         }
        ],
        "shapes": [
         {
          "layer": "above",
          "line": {
           "dash": "dash"
          },
          "type": "line",
          "x0": -0.16640805187224184,
          "x1": 16.0693841694575,
          "y0": -0.16640805187224184,
          "y1": 16.0693841694575
         },
         {
          "layer": "above",
          "line": {
           "dash": "dash"
          },
          "type": "line",
          "x0": 0.10984348614651468,
          "x1": 17.310718270665763,
          "xref": "x2",
          "y0": 0.10984348614651468,
          "y1": 17.310718270665763,
          "yref": "y2"
         }
        ],
        "template": {
         "data": {
          "bar": [
           {
            "error_x": {
             "color": "#2a3f5f"
            },
            "error_y": {
             "color": "#2a3f5f"
            },
            "marker": {
             "line": {
              "color": "white",
              "width": 0.5
             },
             "pattern": {
              "fillmode": "overlay",
              "size": 10,
              "solidity": 0.2
             }
            },
            "type": "bar"
           }
          ],
          "barpolar": [
           {
            "marker": {
             "line": {
              "color": "white",
              "width": 0.5
             },
             "pattern": {
              "fillmode": "overlay",
              "size": 10,
              "solidity": 0.2
             }
            },
            "type": "barpolar"
           }
          ],
          "carpet": [
           {
            "aaxis": {
             "endlinecolor": "#2a3f5f",
             "gridcolor": "#C8D4E3",
             "linecolor": "#C8D4E3",
             "minorgridcolor": "#C8D4E3",
             "startlinecolor": "#2a3f5f"
            },
            "baxis": {
             "endlinecolor": "#2a3f5f",
             "gridcolor": "#C8D4E3",
             "linecolor": "#C8D4E3",
             "minorgridcolor": "#C8D4E3",
             "startlinecolor": "#2a3f5f"
            },
            "type": "carpet"
           }
          ],
          "choropleth": [
           {
            "colorbar": {
             "outlinewidth": 0,
             "ticks": ""
            },
            "type": "choropleth"
           }
          ],
          "contour": [
           {
            "colorbar": {
             "outlinewidth": 0,
             "ticks": ""
            },
            "colorscale": [
             [
              0,
              "#0d0887"
             ],
             [
              0.1111111111111111,
              "#46039f"
             ],
             [
              0.2222222222222222,
              "#7201a8"
             ],
             [
              0.3333333333333333,
              "#9c179e"
             ],
             [
              0.4444444444444444,
              "#bd3786"
             ],
             [
              0.5555555555555556,
              "#d8576b"
             ],
             [
              0.6666666666666666,
              "#ed7953"
             ],
             [
              0.7777777777777778,
              "#fb9f3a"
             ],
             [
              0.8888888888888888,
              "#fdca26"
             ],
             [
              1,
              "#f0f921"
             ]
            ],
            "type": "contour"
           }
          ],
          "contourcarpet": [
           {
            "colorbar": {
             "outlinewidth": 0,
             "ticks": ""
            },
            "type": "contourcarpet"
           }
          ],
          "heatmap": [
           {
            "colorbar": {
             "outlinewidth": 0,
             "ticks": ""
            },
            "colorscale": [
             [
              0,
              "#0d0887"
             ],
             [
              0.1111111111111111,
              "#46039f"
             ],
             [
              0.2222222222222222,
              "#7201a8"
             ],
             [
              0.3333333333333333,
              "#9c179e"
             ],
             [
              0.4444444444444444,
              "#bd3786"
             ],
             [
              0.5555555555555556,
              "#d8576b"
             ],
             [
              0.6666666666666666,
              "#ed7953"
             ],
             [
              0.7777777777777778,
              "#fb9f3a"
             ],
             [
              0.8888888888888888,
              "#fdca26"
             ],
             [
              1,
              "#f0f921"
             ]
            ],
            "type": "heatmap"
           }
          ],
          "heatmapgl": [
           {
            "colorbar": {
             "outlinewidth": 0,
             "ticks": ""
            },
            "colorscale": [
             [
              0,
              "#0d0887"
             ],
             [
              0.1111111111111111,
              "#46039f"
             ],
             [
              0.2222222222222222,
              "#7201a8"
             ],
             [
              0.3333333333333333,
              "#9c179e"
             ],
             [
              0.4444444444444444,
              "#bd3786"
             ],
             [
              0.5555555555555556,
              "#d8576b"
             ],
             [
              0.6666666666666666,
              "#ed7953"
             ],
             [
              0.7777777777777778,
              "#fb9f3a"
             ],
             [
              0.8888888888888888,
              "#fdca26"
             ],
             [
              1,
              "#f0f921"
             ]
            ],
            "type": "heatmapgl"
           }
          ],
          "histogram": [
           {
            "marker": {
             "pattern": {
              "fillmode": "overlay",
              "size": 10,
              "solidity": 0.2
             }
            },
            "type": "histogram"
           }
          ],
          "histogram2d": [
           {
            "colorbar": {
             "outlinewidth": 0,
             "ticks": ""
            },
            "colorscale": [
             [
              0,
              "#0d0887"
             ],
             [
              0.1111111111111111,
              "#46039f"
             ],
             [
              0.2222222222222222,
              "#7201a8"
             ],
             [
              0.3333333333333333,
              "#9c179e"
             ],
             [
              0.4444444444444444,
              "#bd3786"
             ],
             [
              0.5555555555555556,
              "#d8576b"
             ],
             [
              0.6666666666666666,
              "#ed7953"
             ],
             [
              0.7777777777777778,
              "#fb9f3a"
             ],
             [
              0.8888888888888888,
              "#fdca26"
             ],
             [
              1,
              "#f0f921"
             ]
            ],
            "type": "histogram2d"
           }
          ],
          "histogram2dcontour": [
           {
            "colorbar": {
             "outlinewidth": 0,
             "ticks": ""
            },
            "colorscale": [
             [
              0,
              "#0d0887"
             ],
             [
              0.1111111111111111,
              "#46039f"
             ],
             [
              0.2222222222222222,
              "#7201a8"
             ],
             [
              0.3333333333333333,
              "#9c179e"
             ],
             [
              0.4444444444444444,
              "#bd3786"
             ],
             [
              0.5555555555555556,
              "#d8576b"
             ],
             [
              0.6666666666666666,
              "#ed7953"
             ],
             [
              0.7777777777777778,
              "#fb9f3a"
             ],
             [
              0.8888888888888888,
              "#fdca26"
             ],
             [
              1,
              "#f0f921"
             ]
            ],
            "type": "histogram2dcontour"
           }
          ],
          "mesh3d": [
           {
            "colorbar": {
             "outlinewidth": 0,
             "ticks": ""
            },
            "type": "mesh3d"
           }
          ],
          "parcoords": [
           {
            "line": {
             "colorbar": {
              "outlinewidth": 0,
              "ticks": ""
             }
            },
            "type": "parcoords"
           }
          ],
          "pie": [
           {
            "automargin": true,
            "type": "pie"
           }
          ],
          "scatter": [
           {
            "fillpattern": {
             "fillmode": "overlay",
             "size": 10,
             "solidity": 0.2
            },
            "type": "scatter"
           }
          ],
          "scatter3d": [
           {
            "line": {
             "colorbar": {
              "outlinewidth": 0,
              "ticks": ""
             }
            },
            "marker": {
             "colorbar": {
              "outlinewidth": 0,
              "ticks": ""
             }
            },
            "type": "scatter3d"
           }
          ],
          "scattercarpet": [
           {
            "marker": {
             "colorbar": {
              "outlinewidth": 0,
              "ticks": ""
             }
            },
            "type": "scattercarpet"
           }
          ],
          "scattergeo": [
           {
            "marker": {
             "colorbar": {
              "outlinewidth": 0,
              "ticks": ""
             }
            },
            "type": "scattergeo"
           }
          ],
          "scattergl": [
           {
            "marker": {
             "colorbar": {
              "outlinewidth": 0,
              "ticks": ""
             }
            },
            "type": "scattergl"
           }
          ],
          "scattermapbox": [
           {
            "marker": {
             "colorbar": {
              "outlinewidth": 0,
              "ticks": ""
             }
            },
            "type": "scattermapbox"
           }
          ],
          "scatterpolar": [
           {
            "marker": {
             "colorbar": {
              "outlinewidth": 0,
              "ticks": ""
             }
            },
            "type": "scatterpolar"
           }
          ],
          "scatterpolargl": [
           {
            "marker": {
             "colorbar": {
              "outlinewidth": 0,
              "ticks": ""
             }
            },
            "type": "scatterpolargl"
           }
          ],
          "scatterternary": [
           {
            "marker": {
             "colorbar": {
              "outlinewidth": 0,
              "ticks": ""
             }
            },
            "type": "scatterternary"
           }
          ],
          "surface": [
           {
            "colorbar": {
             "outlinewidth": 0,
             "ticks": ""
            },
            "colorscale": [
             [
              0,
              "#0d0887"
             ],
             [
              0.1111111111111111,
              "#46039f"
             ],
             [
              0.2222222222222222,
              "#7201a8"
             ],
             [
              0.3333333333333333,
              "#9c179e"
             ],
             [
              0.4444444444444444,
              "#bd3786"
             ],
             [
              0.5555555555555556,
              "#d8576b"
             ],
             [
              0.6666666666666666,
              "#ed7953"
             ],
             [
              0.7777777777777778,
              "#fb9f3a"
             ],
             [
              0.8888888888888888,
              "#fdca26"
             ],
             [
              1,
              "#f0f921"
             ]
            ],
            "type": "surface"
           }
          ],
          "table": [
           {
            "cells": {
             "fill": {
              "color": "#EBF0F8"
             },
             "line": {
              "color": "white"
             }
            },
            "header": {
             "fill": {
              "color": "#C8D4E3"
             },
             "line": {
              "color": "white"
             }
            },
            "type": "table"
           }
          ]
         },
         "layout": {
          "annotationdefaults": {
           "arrowcolor": "#2a3f5f",
           "arrowhead": 0,
           "arrowwidth": 1
          },
          "autotypenumbers": "strict",
          "coloraxis": {
           "colorbar": {
            "outlinewidth": 0,
            "ticks": ""
           }
          },
          "colorscale": {
           "diverging": [
            [
             0,
             "#8e0152"
            ],
            [
             0.1,
             "#c51b7d"
            ],
            [
             0.2,
             "#de77ae"
            ],
            [
             0.3,
             "#f1b6da"
            ],
            [
             0.4,
             "#fde0ef"
            ],
            [
             0.5,
             "#f7f7f7"
            ],
            [
             0.6,
             "#e6f5d0"
            ],
            [
             0.7,
             "#b8e186"
            ],
            [
             0.8,
             "#7fbc41"
            ],
            [
             0.9,
             "#4d9221"
            ],
            [
             1,
             "#276419"
            ]
           ],
           "sequential": [
            [
             0,
             "#0d0887"
            ],
            [
             0.1111111111111111,
             "#46039f"
            ],
            [
             0.2222222222222222,
             "#7201a8"
            ],
            [
             0.3333333333333333,
             "#9c179e"
            ],
            [
             0.4444444444444444,
             "#bd3786"
            ],
            [
             0.5555555555555556,
             "#d8576b"
            ],
            [
             0.6666666666666666,
             "#ed7953"
            ],
            [
             0.7777777777777778,
             "#fb9f3a"
            ],
            [
             0.8888888888888888,
             "#fdca26"
            ],
            [
             1,
             "#f0f921"
            ]
           ],
           "sequentialminus": [
            [
             0,
             "#0d0887"
            ],
            [
             0.1111111111111111,
             "#46039f"
            ],
            [
             0.2222222222222222,
             "#7201a8"
            ],
            [
             0.3333333333333333,
             "#9c179e"
            ],
            [
             0.4444444444444444,
             "#bd3786"
            ],
            [
             0.5555555555555556,
             "#d8576b"
            ],
            [
             0.6666666666666666,
             "#ed7953"
            ],
            [
             0.7777777777777778,
             "#fb9f3a"
            ],
            [
             0.8888888888888888,
             "#fdca26"
            ],
            [
             1,
             "#f0f921"
            ]
           ]
          },
          "colorway": [
           "#636efa",
           "#EF553B",
           "#00cc96",
           "#ab63fa",
           "#FFA15A",
           "#19d3f3",
           "#FF6692",
           "#B6E880",
           "#FF97FF",
           "#FECB52"
          ],
          "font": {
           "color": "#2a3f5f"
          },
          "geo": {
           "bgcolor": "white",
           "lakecolor": "white",
           "landcolor": "white",
           "showlakes": true,
           "showland": true,
           "subunitcolor": "#C8D4E3"
          },
          "hoverlabel": {
           "align": "left"
          },
          "hovermode": "closest",
          "mapbox": {
           "style": "light"
          },
          "paper_bgcolor": "white",
          "plot_bgcolor": "white",
          "polar": {
           "angularaxis": {
            "gridcolor": "#EBF0F8",
            "linecolor": "#EBF0F8",
            "ticks": ""
           },
           "bgcolor": "white",
           "radialaxis": {
            "gridcolor": "#EBF0F8",
            "linecolor": "#EBF0F8",
            "ticks": ""
           }
          },
          "scene": {
           "xaxis": {
            "backgroundcolor": "white",
            "gridcolor": "#DFE8F3",
            "gridwidth": 2,
            "linecolor": "#EBF0F8",
            "showbackground": true,
            "ticks": "",
            "zerolinecolor": "#EBF0F8"
           },
           "yaxis": {
            "backgroundcolor": "white",
            "gridcolor": "#DFE8F3",
            "gridwidth": 2,
            "linecolor": "#EBF0F8",
            "showbackground": true,
            "ticks": "",
            "zerolinecolor": "#EBF0F8"
           },
           "zaxis": {
            "backgroundcolor": "white",
            "gridcolor": "#DFE8F3",
            "gridwidth": 2,
            "linecolor": "#EBF0F8",
            "showbackground": true,
            "ticks": "",
            "zerolinecolor": "#EBF0F8"
           }
          },
          "shapedefaults": {
           "line": {
            "color": "#2a3f5f"
           }
          },
          "ternary": {
           "aaxis": {
            "gridcolor": "#DFE8F3",
            "linecolor": "#A2B1C6",
            "ticks": ""
           },
           "baxis": {
            "gridcolor": "#DFE8F3",
            "linecolor": "#A2B1C6",
            "ticks": ""
           },
           "bgcolor": "white",
           "caxis": {
            "gridcolor": "#DFE8F3",
            "linecolor": "#A2B1C6",
            "ticks": ""
           }
          },
          "title": {
           "x": 0.05
          },
          "xaxis": {
           "automargin": true,
           "gridcolor": "#EBF0F8",
           "linecolor": "#EBF0F8",
           "ticks": "",
           "title": {
            "standoff": 15
           },
           "zerolinecolor": "#EBF0F8",
           "zerolinewidth": 2
          },
          "yaxis": {
           "automargin": true,
           "gridcolor": "#EBF0F8",
           "linecolor": "#EBF0F8",
           "ticks": "",
           "title": {
            "standoff": 15
           },
           "zerolinecolor": "#EBF0F8",
           "zerolinewidth": 2
          }
         }
        },
        "width": 1600,
        "xaxis": {
         "anchor": "y",
         "domain": [
          0,
          0.45
         ],
         "title": {
          "text": "Observed values"
         }
        },
        "xaxis2": {
         "anchor": "y2",
         "domain": [
          0.55,
          1
         ],
         "title": {
          "text": "Observed values"
         }
        },
        "yaxis": {
         "anchor": "x",
         "domain": [
          0,
          1
         ],
         "title": {
          "text": "Predicted values"
         }
        },
        "yaxis2": {
         "anchor": "x2",
         "domain": [
          0,
          1
         ],
         "title": {
          "text": "Predicted values"
         }
        }
       }
      }
     },
     "metadata": {},
     "output_type": "display_data"
    },
    {
     "data": {
      "application/vnd.plotly.v1+json": {
       "config": {
        "plotlyServerURL": "https://plot.ly"
       },
       "data": [
        {
         "legendgroup": "train_0",
         "mode": "markers",
         "name": "Run id in Train 0",
         "type": "scatter",
         "x": [
          34.48979591836735,
          33.497759773117764,
          39.18158379968747,
          50.62009499710431,
          58.67865561216076,
          64.50229474124312,
          70.31266186967268,
          77.9143661034886,
          88.10689900312666,
          100.73117479331908,
          115.08564001033828,
          125.8969576070251,
          125.23197031699696,
          124.87737539599864,
          124.68877246718952
         ],
         "xaxis": "x",
         "y": [
          34.304484857484255,
          33.232473440242586,
          38.18401928426166,
          49.37989249716268,
          55.87883414261619,
          59.959985207810234,
          64.16815529711191,
          70.69503481933943,
          78.82103444716455,
          89.71573248924453,
          101.72767498814663,
          108.44384585258126,
          106.58314504819423,
          105.37786713155491,
          104.57650663421896
         ],
         "yaxis": "y"
        },
        {
         "legendgroup": "train_1",
         "mode": "markers",
         "name": "Run id in Train 1",
         "type": "scatter",
         "x": [
          32.857142857142854,
          31.895276825078454,
          29.523755023926796,
          43.45365774211284,
          53.37801483606592,
          59.70360012988135,
          64.5923317260211,
          70.44512271860509,
          78.85933822620683,
          90.44847284105865,
          104.8797826290292,
          119.53418654560204,
          118.04401028491286,
          117.22054934864067,
          116.76720197022738
         ],
         "xaxis": "x",
         "y": [
          33.01034520706083,
          32.25904982302259,
          33.69824380271588,
          44.50778097222973,
          55.19347890340615,
          63.265325207834266,
          71.27951038886616,
          81.37886523378627,
          92.3490537667509,
          104.65436586798683,
          121.08484727939292,
          129.3251990610347,
          127.73234145554451,
          126.75714098476402,
          126.1284741301854
         ],
         "yaxis": "y"
        },
        {
         "legendgroup": "train_2",
         "mode": "markers",
         "name": "Run id in Train 2",
         "type": "scatter",
         "x": [
          40.20408163265306,
          39.3106253406875,
          36.83461707271391,
          41.29851545118337,
          51.58422234292109,
          59.42037843500661,
          67.24029203773658,
          77.00259730155591,
          89.6529978703625,
          105.02858325349617,
          122.29644922822447,
          128.01353314088,
          127.30657682739415,
          126.92861071812789,
          126.72696474831358
         ],
         "xaxis": "x",
         "y": [
          39.80247523938458,
          38.84642849735005,
          36.463255436844534,
          42.85185408551015,
          53.59205883395458,
          61.776229801669416,
          69.95431377262585,
          79.8775898582922,
          91.3731909804451,
          103.97579291440145,
          117.14183828239055,
          123.48694812685174,
          122.3885086653249,
          121.77066376335733,
          121.40467632307335
         ],
         "yaxis": "y"
        },
        {
         "legendgroup": "train_3",
         "mode": "markers",
         "name": "Run id in Train 3",
         "type": "scatter",
         "x": [
          66.3265306122449,
          64.9018084421659,
          74.46646692324572,
          82.75195820225221,
          88.4608121252639,
          94.35032349278424,
          102.35264420922908,
          112.78820578337243,
          125.13254274305396,
          124.74568445028515,
          123.70828935213474,
          123.11833121458756,
          122.78502933027806,
          122.59740576605402,
          122.49199994699929
         ],
         "xaxis": "x",
         "y": [
          66.55557052827061,
          65.13510523537728,
          70.46220745897715,
          80.45698663985911,
          85.79575390072719,
          90.38212803759569,
          96.44766686191214,
          105.12926035481934,
          116.9791333263924,
          121.82640121763637,
          116.70717713216635,
          111.71656625198824,
          110.87295870790027,
          110.30561830151788,
          109.94444582603982
         ],
         "yaxis": "y"
        },
        {
         "legendgroup": "train_4",
         "mode": "markers",
         "name": "Run id in Train 4",
         "type": "scatter",
         "x": [
          54.08163265306122,
          52.32453548724165,
          48.00670790060231,
          52.80978895442207,
          59.67166365361268,
          64.36116287789906,
          69.78971877901188,
          77.9393717582966,
          89.59672510578096,
          94.88781273549858,
          91.9609809279264,
          90.2743358499412,
          89.30079949433396,
          88.73790326458321,
          88.41203209326693
         ],
         "xaxis": "x",
         "y": [
          52.86696224041488,
          51.378071200281575,
          48.74382691713409,
          53.786975584247415,
          63.559466927812,
          71.93156517743398,
          81.3217741672872,
          92.65566857960877,
          106.94611219380329,
          118.02200212316353,
          118.31244129996837,
          118.07166783229496,
          118.08178060832543,
          118.2413633772865,
          118.42764335117002
         ],
         "yaxis": "y"
        },
        {
         "legendgroup": "train_5",
         "mode": "markers",
         "name": "Run id in Train 5",
         "type": "scatter",
         "x": [
          55.71428571428572,
          54.04229265312258,
          50.19044815252949,
          56.66345377265392,
          62.94630603076002,
          67.36240093890267,
          72.50080654941964,
          80.1355041391731,
          90.8600281640686,
          99.09780809177174,
          96.82391152015649,
          95.56174721339072,
          94.86342162097333,
          94.47756919225226,
          94.2645083447324
         ],
         "xaxis": "x",
         "y": [
          54.33842475948308,
          52.65023505219075,
          51.23415610109701,
          54.254551077466346,
          60.06265391061905,
          64.21538388517648,
          69.15237005401173,
          75.95640463126749,
          86.2952703115774,
          96.15284952210085,
          95.01524955315764,
          94.2852031970794,
          93.80097456593424,
          93.56644013565237,
          93.46567652635757
         ],
         "yaxis": "y"
        },
        {
         "legendgroup": "train_6",
         "mode": "markers",
         "name": "Run id in Train 6",
         "type": "scatter",
         "x": [
          67.14285714285714,
          65.72262111008826,
          62.33899756102318,
          55.86087499300016,
          63.63048603140288,
          68.5499478631087,
          73.3580779196577,
          80.30501123095608,
          90.44056467752864,
          103.65677129603148,
          119.15240642675616,
          133.19526386484125,
          132.09349753140145,
          131.47324993444937,
          131.12522304466037
         ],
         "xaxis": "x",
         "y": [
          65.14492095594238,
          63.84763372386147,
          58.766476539947725,
          59.31552769402141,
          67.97354081974375,
          73.97125553189919,
          79.97519857023234,
          87.32345078173425,
          98.1449315035849,
          113.29923460022025,
          128.33268908774315,
          135.8664269509705,
          135.02931453861632,
          134.59362458241765,
          134.4097738308684
         ],
         "yaxis": "y"
        },
        {
         "legendgroup": "train_7",
         "mode": "markers",
         "name": "Run id in Train 7",
         "type": "scatter",
         "x": [
          56.53061224489796,
          55.32956552576817,
          51.96887747098334,
          55.45175427907439,
          58.64166030227109,
          60.52459420873051,
          63.5659352103408,
          69.0079158344245,
          77.12764839367868,
          87.62684618186968,
          95.35728979796336,
          94.37636391008608,
          93.89075940271,
          93.6504884837088,
          93.53162545237578
         ],
         "xaxis": "x",
         "y": [
          56.801551142433944,
          55.551863704546605,
          54.595867741628524,
          55.89244038790532,
          59.050019128625024,
          59.61476782187994,
          60.00611309170195,
          61.97086621398259,
          66.81282117523108,
          73.03703019687111,
          77.77869694490316,
          77.77698980437096,
          75.84529760234079,
          74.49473360173782,
          73.57823324643665
         ],
         "yaxis": "y"
        },
        {
         "legendgroup": "train_8",
         "mode": "markers",
         "name": "Run id in Train 8",
         "type": "scatter",
         "x": [
          57.3469387755102,
          56.26328141499867,
          61.11818356473742,
          67.19682852618769,
          70.32245701569198,
          72.10170042398552,
          74.576588215411,
          78.95127698119116,
          85.50870626123897,
          87.70211038857562,
          85.86798924811929,
          84.78793917261947,
          84.1521917968171,
          83.77787674575289,
          83.55742278372415
         ],
         "xaxis": "x",
         "y": [
          59.04871763176107,
          57.79625146115426,
          62.03672700952855,
          67.21478797099918,
          67.75390863205371,
          66.4571469275727,
          65.51848596774387,
          66.70302925251372,
          70.58813659271276,
          70.67426811766667,
          66.00310820906779,
          59.54722136216548,
          57.29796197955282,
          55.63427219540117,
          54.44802062730937
         ],
         "yaxis": "y"
        },
        {
         "legendgroup": "train_9",
         "mode": "markers",
         "name": "Run id in Train 9",
         "type": "scatter",
         "x": [
          54.89795918367347,
          53.83097725200842,
          51.135170054284416,
          48.65346404036791,
          56.75047501717443,
          62.62869783627702,
          68.50787888685004,
          76.15521464524201,
          86.41064303572327,
          98.32486114462506,
          95.72525521914292,
          94.23513508473134,
          93.3835594751364,
          92.89742769084626,
          92.62003538179069
         ],
         "xaxis": "x",
         "y": [
          54.27437820819568,
          52.834449230013554,
          47.22619778390455,
          45.948293179095494,
          52.1376464767853,
          55.98482397211719,
          59.92499000157236,
          65.19675886953922,
          73.58595113643055,
          82.24484981428657,
          84.01489034483426,
          83.25501378349809,
          82.37041881529868,
          81.82910492126854,
          81.50070002766799
         ],
         "yaxis": "y"
        },
        {
         "legendgroup": "train_10",
         "mode": "markers",
         "name": "Run id in Train 10",
         "type": "scatter",
         "x": [
          37.755102040816325,
          36.57677271180029,
          46.25251666763304,
          56.64085612713366,
          63.93010853230757,
          69.61138526768147,
          75.70522885017883,
          83.61823357971268,
          93.8505805221179,
          106.16011549019908,
          106.89271438768871,
          105.43418230466489,
          104.55902351663788,
          104.03588709514992,
          103.72383714409824
         ],
         "xaxis": "x",
         "y": [
          37.012063592411394,
          35.45147745399025,
          41.2718510009214,
          51.91398330588705,
          56.491794426986004,
          59.50454132805066,
          63.38903028071674,
          69.8201654580265,
          78.78812479176439,
          87.88683788687626,
          88.24723388429379,
          89.48814191997124,
          88.3389807062656,
          87.62483161507838,
          87.1580849742986
         ],
         "yaxis": "y"
        },
        {
         "legendgroup": "train_11",
         "mode": "markers",
         "name": "Run id in Train 11",
         "type": "scatter",
         "x": [
          50,
          49.09157529517094,
          46.84955829669319,
          48.604170355828494,
          54.57199337246716,
          58.36389194187862,
          61.88214335467829,
          66.70762201746292,
          73.63003288664736,
          82.78253116993254,
          93.81695568052636,
          98.95564472697004,
          98.20184536432616,
          97.816392253681,
          97.61960461531294
         ],
         "xaxis": "x",
         "y": [
          50.85756127960342,
          49.87881716729054,
          47.51402737698848,
          47.43397281047074,
          50.64034773558621,
          50.509328896165684,
          49.51105969410065,
          49.79384828491497,
          52.297928619854,
          58.49122786596726,
          68.94471396345838,
          71.36604827931112,
          68.80177328726906,
          66.99320050717579,
          65.74524162129438
         ],
         "yaxis": "y"
        },
        {
         "legendgroup": "train_12",
         "mode": "markers",
         "name": "Run id in Train 12",
         "type": "scatter",
         "x": [
          53.265306122448976,
          52.07762276098589,
          48.85648769794223,
          45.675942234273386,
          51.44183740483195,
          55.10349177204707,
          59.27795539849706,
          65.63004245517226,
          74.81560802644988,
          80.78657448356496,
          77.9829296661077,
          76.351828471724,
          75.39214007585592,
          74.82349025196835,
          74.48509743633007
         ],
         "xaxis": "x",
         "y": [
          53.84614209759181,
          52.67272005658634,
          46.909223026769034,
          46.202890551787,
          53.05384671678492,
          57.5441073928943,
          62.00742197407385,
          67.79495991932008,
          76.03860183130365,
          81.87641202111115,
          82.80956403044547,
          79.95342845312673,
          78.78909187165704,
          78.0143491561713,
          77.49668165489057
         ],
         "yaxis": "y"
        },
        {
         "legendgroup": "train_13",
         "mode": "markers",
         "name": "Run id in Train 13",
         "type": "scatter",
         "x": [
          42.6530612244898,
          41.0850704046084,
          37.02759928043359,
          30.45818992081187,
          34.84039068591313,
          37.03717255130894,
          39.62190109929062,
          44.1745698335648,
          51.25758334994672,
          49.53678242399757,
          44.10139357151434,
          40.1605794521544,
          37.32023770896177,
          35.2836040652659,
          33.82914719873361
         ],
         "xaxis": "x",
         "y": [
          43.30259424312229,
          42.05599612599975,
          35.17535270188093,
          33.351687236793985,
          39.85936648773353,
          43.85563024195866,
          47.666095877524576,
          52.6912971864803,
          59.912147317708666,
          65.3325327110382,
          64.02124666996029,
          60.42396509966026,
          59.2832938892949,
          58.531217665868894,
          58.01204385313087
         ],
         "yaxis": "y"
        },
        {
         "legendgroup": "train_14",
         "mode": "markers",
         "name": "Run id in Train 14",
         "type": "scatter",
         "x": [
          65.51020408163265,
          63.99548061319936,
          68.31974239376322,
          74.55355398322388,
          78.10924118523516,
          80.97932389280727,
          85.12202366785418,
          91.439862636109,
          99.900706432951,
          110.0072728438019,
          113.2635748496598,
          112.3626417581054,
          111.84642723137338,
          111.55190341588812,
          111.38425266447108
         ],
         "xaxis": "x",
         "y": [
          64.95864621815753,
          63.3367942296929,
          68.35600178173556,
          73.79541445075566,
          74.31791843843007,
          73.09004820868705,
          72.51425028158474,
          74.1490264572639,
          79.65464035777673,
          85.89444768994983,
          85.84063261252838,
          84.6576463659374,
          82.94579706245791,
          81.73848223569092,
          80.93458978221746
         ],
         "yaxis": "y"
        },
        {
         "legendgroup": "train_15",
         "mode": "markers",
         "name": "Run id in Train 15",
         "type": "scatter",
         "x": [
          47.55102040816327,
          45.8922067054614,
          44.4834870148573,
          56.84737786538536,
          65.89953771295528,
          73.4105232772496,
          81.68717394241027,
          92.26539526705966,
          105.50217629618813,
          120.93059981792972,
          123.3640388967564,
          121.80239343360144,
          120.84980527546172,
          120.27152393275526,
          119.92145882187592
         ],
         "xaxis": "x",
         "y": [
          45.64397138340315,
          44.03589465199162,
          45.303650809845145,
          53.74149777583442,
          62.29941944343387,
          69.42510466990225,
          77.63875152141368,
          88.12738134450188,
          101.6170556306115,
          114.94474267976676,
          118.19494750881805,
          121.44433056965403,
          121.24852815734265,
          121.28641741908062,
          121.39732094942958
         ],
         "yaxis": "y"
        },
        {
         "legendgroup": "train_16",
         "mode": "markers",
         "name": "Run id in Train 16",
         "type": "scatter",
         "x": [
          63.87755102040816,
          62.7997973773388,
          59.92744499260717,
          60.14026939943034,
          68.61093962182483,
          75.17149181152776,
          82.79264413672342,
          93.22579734587684,
          106.60270419078677,
          104.05208801365085,
          102.2626939458606,
          101.24826415555845,
          100.67625763219442,
          100.35460727550736,
          100.17400749483134
         ],
         "xaxis": "x",
         "y": [
          64.0055338195465,
          62.768567935126896,
          57.28600117014494,
          58.800808415597416,
          68.32517353015169,
          76.2840809379447,
          84.96490803533737,
          95.23960907096517,
          108.33252697558794,
          115.25315813495898,
          113.66000840656226,
          109.47512570646285,
          109.14926501070254,
          109.00165238731154,
          108.94944865839382
         ],
         "yaxis": "y"
        },
        {
         "legendgroup": "train_17",
         "mode": "markers",
         "name": "Run id in Train 17",
         "type": "scatter",
         "x": [
          45.10204081632653,
          44.32554935069983,
          42.09780125798637,
          48.21160619101941,
          56.83439327644384,
          62.79896168360311,
          69.0323479779723,
          77.6995411599223,
          89.55116481418871,
          104.11646694207596,
          120.39314375571296,
          121.5440388378647,
          121.11783445744182,
          120.91131348589892,
          120.8113993720039
         ],
         "xaxis": "x",
         "y": [
          45.77475023850938,
          44.99026071292139,
          43.17884285916728,
          49.24187562611269,
          58.874149390741934,
          65.93746830010262,
          72.8811932145161,
          81.55469159942305,
          91.62189565563374,
          100.789650053357,
          112.40374965905721,
          116.12248727454588,
          114.58000970196505,
          113.58702600021023,
          112.93466364928251
         ],
         "yaxis": "y"
        },
        {
         "legendgroup": "train_18",
         "mode": "markers",
         "name": "Run id in Train 18",
         "type": "scatter",
         "x": [
          41.0204081632653,
          39.76317528737375,
          49.44862331575384,
          58.53397348094333,
          64.55156958910726,
          69.94445269486563,
          76.95590953958703,
          86.58218679090731,
          98.69403791602484,
          112.55931574547742,
          127.44989304320484,
          139.45760038772522,
          139.16110431744187,
          139.01016816204165,
          138.93343756461462
         ],
         "xaxis": "x",
         "y": [
          40.00015555177767,
          38.671402165768555,
          46.14185290770503,
          58.571245282128004,
          63.53317130909386,
          66.4137091640624,
          69.79449528470217,
          75.74150637659908,
          84.05195168390254,
          96.05323141363007,
          106.7759263479858,
          113.90762595290286,
          112.21066706687333,
          111.12584945726204,
          110.42657951181452
         ],
         "yaxis": "y"
        },
        {
         "legendgroup": "train_19",
         "mode": "markers",
         "name": "Run id in Train 19",
         "type": "scatter",
         "x": [
          36.93877551020408,
          36.17608107215249,
          34.30795593879786,
          32.40937296108588,
          40.1675611223837,
          45.17128689028889,
          48.86730102835964,
          52.8591162556128,
          58.22235790233503,
          65.47106471879752,
          74.75402201416783,
          71.84620132386978,
          69.4383626932422,
          67.83265629249838,
          66.75175770438237
         ],
         "xaxis": "x",
         "y": [
          38.34748159583842,
          37.469265297061256,
          32.31593807315683,
          30.76708287222076,
          35.28340943407317,
          36.22255435758602,
          36.01579200468909,
          36.86264582943185,
          39.1981014821711,
          44.520384247291176,
          53.421892908548955,
          54.72316109033552,
          52.226116882828244,
          50.47570588514389,
          49.24480368097668
         ],
         "yaxis": "y"
        },
        {
         "legendgroup": "train_20",
         "mode": "markers",
         "name": "Run id in Train 20",
         "type": "scatter",
         "x": [
          35.30612244897959,
          34.17701287970345,
          31.45037253589945,
          36.552350216996096,
          42.3302691618333,
          45.3855387574456,
          47.64962182660855,
          50.81117335898369,
          55.80825890807329,
          61.29242873124736,
          55.50312353915039,
          51.23516895292121,
          48.08123391278078,
          45.75249238850651,
          44.03606197144599
         ],
         "xaxis": "x",
         "y": [
          36.72436858671633,
          35.63525103917317,
          33.50016550199487,
          35.49253486748473,
          39.95412515950602,
          41.74146369900441,
          43.16973662660034,
          46.14678879425208,
          50.7502262631521,
          54.48746101336952,
          55.24849905483761,
          52.71598924731556,
          50.75234885351945,
          49.37815620816394,
          48.39777105006898
         ],
         "yaxis": "y"
        },
        {
         "legendgroup": "train_21",
         "mode": "markers",
         "name": "Run id in Train 21",
         "type": "scatter",
         "x": [
          59.79591836734694,
          58.92682483341649,
          68.029602205082,
          79.41939529284414,
          87.63477063072462,
          94.31293654560272,
          101.70249720709306,
          111.01790509610508,
          122.38537697936913,
          135.419508052179,
          147.46618990364215,
          146.0671505483476,
          145.18792191466025,
          144.6392658186537,
          144.2983612296959
         ],
         "xaxis": "x",
         "y": [
          59.9984635526368,
          58.97379702714079,
          64.5530023518939,
          76.62030976175362,
          84.1739025286861,
          90.19445425317775,
          97.08019195883841,
          106.49783101800884,
          118.21152617114218,
          126.76007541065562,
          134.4710327642447,
          136.78264002612977,
          135.38514134820036,
          134.4694569431083,
          133.88600030462743
         ],
         "yaxis": "y"
        },
        {
         "legendgroup": "train_22",
         "mode": "markers",
         "name": "Run id in Train 22",
         "type": "scatter",
         "x": [
          30.40816326530612,
          28.89909967032107,
          25.24756662809376,
          34.16081629047233,
          42.4163614600787,
          48.61808376150079,
          55.16167311278586,
          63.73585277314172,
          75.15927533525743,
          89.553660640942,
          93.07364649124854,
          91.7895522517977,
          91.1507983277656,
          90.83287156687406,
          90.67456726997992
         ],
         "xaxis": "x",
         "y": [
          29.27241289571844,
          27.813932396478943,
          27.03743011038038,
          33.57392363966089,
          41.81822604995466,
          47.98850108990731,
          54.59972224952237,
          63.18782403434693,
          73.88831125646443,
          85.90702589071459,
          89.80128322600575,
          93.13066002049416,
          92.4752144053336,
          92.1776252043002,
          92.01894595324093
         ],
         "yaxis": "y"
        },
        {
         "legendgroup": "train_23",
         "mode": "markers",
         "name": "Run id in Train 23",
         "type": "scatter",
         "x": [
          52.44897959183673,
          50.4319868175881,
          45.34450559604125,
          38.30925495008091,
          33.041173173756015,
          24.110506751120333,
          14.538342253152472,
          6.605350541491551,
          1.6629870894699352,
          -1.123438192410525e-9,
          2.2941719252264282e-9,
          4.620853030997867e-8,
          -1.5405446731290965e-7,
          -3.4484208939467065e-8,
          2.2272309436876068e-9
         ],
         "xaxis": "x",
         "y": [
          52.94562506606212,
          51.172732093581644,
          46.044617539966815,
          37.80033293001979,
          34.5832305318017,
          28.46007472211317,
          21.73320917890731,
          15.958547045330256,
          14.032402957800485,
          14.859798418388323,
          6.3275060291294665,
          -1.3262096234866334,
          -3.4729747387061423,
          -5.0653537600693,
          -6.205551323556861
         ],
         "yaxis": "y"
        },
        {
         "legendgroup": "train_24",
         "mode": "markers",
         "name": "Run id in Train 24",
         "type": "scatter",
         "x": [
          63.06122448979592,
          61.952601824752016,
          65.96675238217034,
          72.31715616572308,
          73.97264176847989,
          73.08696675585317,
          72.63914368129423,
          74.42783938590682,
          79.07376276074767,
          86.49092723862145,
          96.16950330741508,
          102.09578626850131,
          100.91547590879154,
          100.26212354644224,
          99.90101778584494
         ],
         "xaxis": "x",
         "y": [
          63.75908909530437,
          62.79870389325693,
          67.9771855059123,
          76.19438861550684,
          79.85429031405374,
          81.18673112019033,
          82.6231722719169,
          86.22623348010448,
          92.34134910532816,
          98.9077024291263,
          109.55245819427368,
          112.42263631473477,
          110.01429961237204,
          108.31430370068729,
          107.16455534924457
         ],
         "yaxis": "y"
        },
        {
         "legendgroup": "train_25",
         "mode": "markers",
         "name": "Run id in Train 25",
         "type": "scatter",
         "x": [
          64.6938775510204,
          63.14050370260742,
          64.77366444282445,
          69.06845572848533,
          69.04584676781845,
          67.05402507732256,
          65.64707670684369,
          66.2758086873537,
          69.45732013501959,
          75.19184324651715,
          80.76635129405248,
          77.9365906791618,
          76.16575463960542,
          75.04416964759184,
          74.32807413916493
         ],
         "xaxis": "x",
         "y": [
          64.81525164836468,
          63.46123760020564,
          67.58491119135681,
          72.5773648209678,
          73.74168915662037,
          72.77216288444029,
          72.07137044747584,
          73.42035330449438,
          78.12686097107418,
          83.73196628890214,
          87.43636827814667,
          87.21217646576552,
          85.09842052641261,
          83.59177219306822,
          82.57096382667031
         ],
         "yaxis": "y"
        },
        {
         "legendgroup": "train_26",
         "mode": "markers",
         "name": "Run id in Train 26",
         "type": "scatter",
         "x": [
          67.9591836734694,
          67.28240628318157,
          65.55626871848547,
          78.68757982143282,
          89.91745708231556,
          99.71371990057854,
          110.06098058358664,
          122.07060389155308,
          135.8251542778384,
          150.95258727079258,
          157.12109745450894,
          156.15677047550912,
          155.5744139832062,
          155.2253247278377,
          155.01697465590297
         ],
         "xaxis": "x",
         "y": [
          68.34912607518349,
          67.41897770248806,
          67.38288854908122,
          74.64562717011458,
          84.18364624184233,
          92.0444239105959,
          100.58924656662094,
          111.16269039017044,
          124.15888335169964,
          132.32144242841255,
          139.49587334085714,
          140.0086599268114,
          138.9758748975034,
          138.32056466701005,
          137.9274864041009
         ],
         "yaxis": "y"
        },
        {
         "legendgroup": "train_27",
         "mode": "markers",
         "name": "Run id in Train 27",
         "type": "scatter",
         "x": [
          50,
          48.73922107070047,
          45.46922825291517,
          53.461171251022776,
          57.03038841840529,
          57.83699174243187,
          58.46340311758151,
          60.74015474289358,
          65.50362833436158,
          72.95435094799299,
          75.41882542416371,
          72.22254147912683,
          70.1547645357654,
          68.79678839191861,
          67.89636682149879
         ],
         "xaxis": "x",
         "y": [
          50.18477040340679,
          48.912251028528466,
          49.47754235188361,
          53.48887125805921,
          57.58842695359599,
          59.363324015142354,
          61.2245874245668,
          64.91188485986082,
          71.18885582449417,
          77.98600647920088,
          81.67916593046333,
          81.87077658359757,
          80.15859011450117,
          78.98729504519854,
          78.19412700987317
         ],
         "yaxis": "y"
        },
        {
         "legendgroup": "train_28",
         "mode": "markers",
         "name": "Run id in Train 28",
         "type": "scatter",
         "x": [
          32.04081632653061,
          31.11229055057243,
          32.990053331965804,
          39.03911379335461,
          40.10185844259447,
          37.037803537375126,
          32.41633985913958,
          28.54647446886421,
          26.704208985507083,
          27.30321123979796,
          30.25992780900893,
          25.97984753374252,
          20.53793167215064,
          16.43325134188797,
          13.365977772810336
         ],
         "xaxis": "x",
         "y": [
          33.87591925318455,
          32.94933438815877,
          36.617324516914074,
          42.39075853746549,
          43.68540633479635,
          41.864704177767294,
          39.31538685068901,
          38.62946465078877,
          39.26415092176716,
          42.58906497219286,
          49.689856826024034,
          50.85689843714517,
          47.73254900386292,
          45.49412062631041,
          43.8973622931457
         ],
         "yaxis": "y"
        },
        {
         "legendgroup": "train_29",
         "mode": "markers",
         "name": "Run id in Train 29",
         "type": "scatter",
         "x": [
          38.57142857142857,
          36.94526330464651,
          46.56604114423194,
          52.510047762318656,
          52.39254747165324,
          48.79493058206928,
          45.211991647717625,
          43.88684382492737,
          45.68118398279381,
          50.61696624254692,
          58.36039213251052,
          68.03797774314373,
          64.52430457840241,
          62.258336634425056,
          60.77330311529059
         ],
         "xaxis": "x",
         "y": [
          37.47183291892743,
          36.1131948821279,
          44.3527977663252,
          57.07359422333954,
          61.29385878120889,
          63.33797206095436,
          65.80973299195601,
          70.87960887532283,
          78.31053817804778,
          90.48643435820846,
          101.75779702079691,
          109.55017798947921,
          107.70497041153503,
          106.51331118442258,
          105.7369009609379
         ],
         "yaxis": "y"
        },
        {
         "legendgroup": "train_30",
         "mode": "markers",
         "name": "Run id in Train 30",
         "type": "scatter",
         "x": [
          68.77551020408163,
          67.30842702461945,
          65.4320580309612,
          69.14985960557682,
          66.87845495884588,
          60.18089313058049,
          51.82855887903272,
          44.01862105502139,
          38.08501827711447,
          34.65002605136349,
          30.68833443946355,
          19.9828427302298,
          11.436469064786976,
          4.748603738921237,
          0.0019930195818658
         ],
         "xaxis": "x",
         "y": [
          69.03294032634756,
          67.70554414956713,
          69.77055247880915,
          72.22365011534525,
          73.23133416587578,
          71.93048227132086,
          70.71326036491936,
          71.30029508945854,
          75.38750610258067,
          80.39631723014014,
          84.06837619024076,
          83.09994884190412,
          80.94326267952923,
          79.39241720349152,
          78.34031334596827
         ],
         "yaxis": "y"
        },
        {
         "legendgroup": "test_0",
         "mode": "markers",
         "name": "Run id in Test 0",
         "type": "scatter",
         "x": [
          43.46938775510204,
          42.11575103737883,
          38.40470745766825,
          34.28104672448483,
          36.13270037292429,
          34.63344313923112,
          32.55252740419164,
          31.875483763746413,
          33.52447895437812,
          37.694658596943526,
          44.21209863405196,
          45.78852821788307,
          40.788789446857486,
          37.03759971276014,
          34.231330813861874
         ],
         "xaxis": "x2",
         "y": [
          41.831237339916854,
          40.186418809153,
          36.81094462294074,
          34.54587409197349,
          36.4558778373019,
          35.086753873904925,
          33.09098414523835,
          32.316312444779435,
          34.93745320069797,
          46.51595646576598,
          54.95458439071754,
          60.20928486130483,
          58.45208320489119,
          57.29983470658192,
          56.54884680428182
         ],
         "yaxis": "y2"
        },
        {
         "legendgroup": "test_1",
         "mode": "markers",
         "name": "Run id in Test 1",
         "type": "scatter",
         "x": [
          45.91836734693878,
          44.93535705335225,
          45.34454371167346,
          51.66956589718001,
          54.3222189193982,
          53.64426667599316,
          51.24210526598327,
          48.83005687873178,
          47.56068327676123,
          39.08302910973476,
          29.94038322346193,
          22.44987114558976,
          16.430036262308974,
          11.668327985152208,
          7.95349374597405
         ],
         "xaxis": "x2",
         "y": [
          47.731607239959125,
          46.39033224181071,
          47.59534217155037,
          48.893319620439414,
          48.30448760044686,
          45.40062251894402,
          42.381887664232096,
          41.10527692509239,
          42.34391565203595,
          41.66142985957796,
          34.955237467921066,
          27.611756609977093,
          25.23013360234937,
          23.46765935969421,
          22.18964415659029
         ],
         "yaxis": "y2"
        },
        {
         "legendgroup": "test_2",
         "mode": "markers",
         "name": "Run id in Test 2",
         "type": "scatter",
         "x": [
          39.38775510204081,
          38.5280407408776,
          38.7311595156132,
          45.76285698062254,
          49.24196581704296,
          49.81892064072007,
          49.184687689797485,
          48.89258013831316,
          49.88107629463944,
          52.55198518790212,
          56.8557322124684,
          50.96007068131026,
          46.35555553595123,
          42.76260751556799,
          39.96626373139646
         ],
         "xaxis": "x2",
         "y": [
          40.90374272960703,
          39.84505964241115,
          42.237365924729424,
          45.842184613269026,
          46.52042669210102,
          44.16759612686081,
          41.16398423419707,
          39.89220082901254,
          40.49946240940132,
          43.71072993395184,
          48.9531279686001,
          48.95249598281308,
          46.01639342002243,
          43.90391677735484,
          42.40377531860599
         ],
         "yaxis": "y2"
        },
        {
         "legendgroup": "test_3",
         "mode": "markers",
         "name": "Run id in Test 3",
         "type": "scatter",
         "x": [
          48.36734693877551,
          47.04285822396751,
          49.47633429246047,
          52.15436152007848,
          49.36912447968168,
          42.317330231004384,
          33.707503700984184,
          25.915780610616988,
          20.30896088097011,
          17.375999828551723,
          7.512392125109961,
          0.000005549966366497421,
          -1.1635971826234836e-8,
          -7.551679343443506e-10,
          5.42590117253555e-10
         ],
         "xaxis": "x2",
         "y": [
          50.395937561825384,
          49.22558913056078,
          53.44411924513186,
          57.4054767848481,
          56.21492488232388,
          52.54589374322627,
          48.642035130435616,
          46.67608991037263,
          47.0397594490349,
          46.70954393586967,
          45.05007559296744,
          40.29281896073556,
          37.380886289582264,
          35.228828475507335,
          33.68289141754558
         ],
         "yaxis": "y2"
        },
        {
         "legendgroup": "test_4",
         "mode": "markers",
         "name": "Run id in Test 4",
         "type": "scatter",
         "x": [
          46.734693877551024,
          44.99290263409152,
          55.71392075823843,
          61.33985969413218,
          61.56527277561326,
          59.50002768365175,
          58.29518530186981,
          59.65002766372735,
          64.13123970145408,
          71.72899291203933,
          66.36797709905878,
          62.62435211663696,
          60.027913453442245,
          58.20387118444934,
          56.91292005668433
         ],
         "xaxis": "x2",
         "y": [
          46.58124009088051,
          45.17435083819192,
          52.17639377301595,
          64.36140212133942,
          69.49232074270182,
          73.35816329406777,
          78.32046402289222,
          85.9859407577374,
          96.14752698064473,
          103.63265057442682,
          103.5296425752473,
          103.24050712938663,
          102.04205134738993,
          101.26579890408824,
          100.75419417998097
         ],
         "yaxis": "y2"
        },
        {
         "legendgroup": "test_5",
         "mode": "markers",
         "name": "Run id in Test 5",
         "type": "scatter",
         "x": [
          61.42857142857143,
          60.50079410755882,
          57.7416721465118,
          63.15057974853251,
          64.57604262224581,
          62.09198760634006,
          59.14814915273872,
          58.11012565652759,
          59.9433480996893,
          64.7820145618766,
          72.39096715444906,
          72.48911688464071,
          69.99775447415446,
          68.42884724712913,
          67.42783305213658
         ],
         "xaxis": "x2",
         "y": [
          62.41979326490108,
          61.519079993417705,
          61.79348992885008,
          65.29892647165305,
          69.71023176759375,
          71.40769819706902,
          72.80352543206553,
          75.86197098897237,
          81.29580947072073,
          87.14257461300102,
          97.07399944143984,
          98.6232224267903,
          96.29459579838162,
          94.64806494640216,
          93.52724127488406
         ],
         "yaxis": "y2"
        },
        {
         "legendgroup": "test_6",
         "mode": "markers",
         "name": "Run id in Test 6",
         "type": "scatter",
         "x": [
          60.61224489795919,
          58.91820688373571,
          54.967944586112615,
          56.504120407833305,
          53.20133675298614,
          47.006106393559286,
          40.2969979363268,
          34.73770111132932,
          31.173384146301327,
          29.862540320253835,
          21.60893411956609,
          13.894199054079715,
          7.830610064693132,
          3.1559468428018,
          0.0010337156919927
         ],
         "xaxis": "x2",
         "y": [
          60.591282874066934,
          58.87152215537232,
          59.784533628430125,
          57.83425436382514,
          54.6568960560188,
          48.93154327932627,
          43.036710770124714,
          38.6940480951078,
          38.40016220264308,
          41.55024267628087,
          38.472141250148574,
          34.698428436447664,
          32.38356344605605,
          30.687408380424785,
          29.505000844730866
         ],
         "yaxis": "y2"
        },
        {
         "legendgroup": "test_7",
         "mode": "markers",
         "name": "Run id in Test 7",
         "type": "scatter",
         "x": [
          44.285714285714285,
          43.091730416232096,
          49.56742116592375,
          53.41855175443676,
          53.56105683162421,
          51.3427427140427,
          48.75151084812984,
          47.21647080029135,
          47.41291358220813,
          49.4956375243666,
          48.292322180351455,
          43.51040815227347,
          39.87424357386649,
          37.12396685800291,
          35.05341744703701
         ],
         "xaxis": "x2",
         "y": [
          45.04151804931233,
          43.54015531415111,
          50.92881482869357,
          56.95978384322827,
          54.03979764732724,
          48.7691764109111,
          43.50341264306341,
          40.46535715962902,
          40.312847737722564,
          42.828428562067096,
          41.57702774209782,
          39.54216228637228,
          36.74497670784918,
          34.70856862935671,
          33.26197831588182
         ],
         "yaxis": "y2"
        },
        {
         "legendgroup": "test_8",
         "mode": "markers",
         "name": "Run id in Test 8",
         "type": "scatter",
         "x": [
          62.24489795918368,
          61.21776604301599,
          61.68839208761704,
          65.04382305329295,
          62.69758511158651,
          56.54852620466132,
          49.80711194765001,
          44.700101045224585,
          42.2095427249079,
          42.48465618101904,
          41.20803831131787,
          35.297389599090664,
          30.946368717426356,
          27.770291957174603,
          25.467113925770228
         ],
         "xaxis": "x2",
         "y": [
          63.814140914151714,
          62.7045879969145,
          65.69941093876892,
          68.47746774527448,
          68.21273866799848,
          65.39438787031726,
          62.32681160616507,
          61.05433319719317,
          62.590865364771005,
          64.06249621231058,
          66.75254851175139,
          63.90633437859405,
          61.09029656523472,
          59.01715566186722,
          57.559531839130514
         ],
         "yaxis": "y2"
        },
        {
         "legendgroup": "test_9",
         "mode": "markers",
         "name": "Run id in Test 9",
         "type": "scatter",
         "x": [
          31.22448979591837,
          29.86833180785049,
          27.658387185172973,
          37.619533430058816,
          41.16323693589936,
          39.72372431065216,
          36.56691320199399,
          34.4317618023923,
          34.8034920745417,
          38.185121525710215,
          44.52533300483191,
          42.78968564912638,
          35.513688469230864,
          29.937750335245543,
          25.685477735236184
         ],
         "xaxis": "x2",
         "y": [
          30.157051873494364,
          28.881274305450383,
          30.763549312614817,
          39.70310322059704,
          47.49896369359234,
          52.90678592007441,
          58.52050118724332,
          66.25007753071239,
          75.85853411497749,
          89.01890701582856,
          99.58274751682806,
          106.632372107053,
          105.40545156747281,
          104.69939064222213,
          104.26384208357929
         ],
         "yaxis": "y2"
        },
        {
         "legendgroup": "test_10",
         "mode": "markers",
         "name": "Run id in Test 10",
         "type": "scatter",
         "x": [
          69.59183673469389,
          68.46750689794594,
          65.3266602512058,
          66.30677152443242,
          66.68529999697574,
          61.49451704502854,
          53.80679731466593,
          46.36843571545527,
          40.87750415301878,
          38.13586928938357,
          37.29759740650222,
          25.839575325434303,
          16.752013641424025,
          9.65792303172169,
          4.218111157440058
         ],
         "xaxis": "x2",
         "y": [
          70.59772643079828,
          69.69289725146528,
          67.62776409837882,
          68.90331634649296,
          74.03337782527457,
          76.55267787252417,
          78.83759845944672,
          82.59694679857594,
          89.02967930239068,
          94.40841649560943,
          102.86799114565076,
          102.78730384780638,
          100.72798785824745,
          99.26690110794655,
          98.28314528626716
         ],
         "yaxis": "y2"
        },
        {
         "legendgroup": "test_11",
         "mode": "markers",
         "name": "Run id in Test 11",
         "type": "scatter",
         "x": [
          51.63265306122449,
          49.94976636557456,
          45.82621053051052,
          44.7843135956976,
          44.45291934626548,
          40.09750565232298,
          34.36587652676877,
          29.51632947308628,
          26.835405259517685,
          23.601304472992464,
          12.58750667173926,
          3.959861417068549,
          -1.3036276822892648e-8,
          -4.020210447778308e-8,
          -4.251459656023749e-9
         ],
         "xaxis": "x2",
         "y": [
          51.50073418388493,
          49.871079832867274,
          46.86803842775327,
          44.16906126446002,
          44.927975400403724,
          43.13287926195238,
          41.168010766307766,
          40.557502150305,
          43.39740953064569,
          48.33269798224444,
          45.50188378362757,
          42.11874529474938,
          40.44833250679157,
          39.27021195464869,
          38.45668360208628
         ],
         "yaxis": "y2"
        },
        {
         "legendgroup": "test_12",
         "mode": "markers",
         "name": "Run id in Test 12",
         "type": "scatter",
         "x": [
          49.18367346938776,
          48.04307641738522,
          44.925389332895406,
          44.08673424776753,
          46.47446596782147,
          45.38245170418673,
          43.83611968730055,
          44.03879975806608,
          46.91039218981837,
          52.53450294032319,
          54.22434141162034,
          49.65477063498234,
          46.43274606004504,
          44.15952747224678,
          42.557171394724136
         ],
         "xaxis": "x2",
         "y": [
          50.091951879816314,
          49.00662020631361,
          45.53487605536679,
          45.072060549013244,
          49.10216135541529,
          50.19820193257479,
          50.75191176004674,
          52.61628556673892,
          56.760750378617104,
          61.969001916556806,
          67.04824656962043,
          66.46364826992243,
          64.3924373679751,
          62.93852959923896,
          61.93136288716761
         ],
         "yaxis": "y2"
        },
        {
         "legendgroup": "test_13",
         "mode": "markers",
         "name": "Run id in Test 13",
         "type": "scatter",
         "x": [
          33.673469387755105,
          32.85568903858953,
          30.56312746120461,
          29.79751038666612,
          32.29613558672073,
          32.1220102532364,
          31.63580653315286,
          32.54689847491206,
          35.52766659560036,
          40.579724163483775,
          47.4183760344545,
          45.98769286172848,
          43.56916921498736,
          41.888306284004265,
          40.72385776395283
         ],
         "xaxis": "x2",
         "y": [
          35.62050157663499,
          34.674876431667684,
          31.46814975281757,
          28.68748967929987,
          28.936925268837193,
          25.260177268247354,
          20.064055793915088,
          15.885705135132461,
          13.304752688706046,
          15.741829186681315,
          22.88283780020363,
          22.918327680627968,
          19.615785049514656,
          17.228094346465156,
          15.519008563918845
         ],
         "yaxis": "y2"
        },
        {
         "legendgroup": "test_14",
         "mode": "markers",
         "name": "Run id in Test 14",
         "type": "scatter",
         "x": [
          58.9795918367347,
          57.71818717441643,
          54.591835289208696,
          48.740034488313086,
          50.591902264455705,
          48.73667552104879,
          45.57858606172464,
          43.266404113141846,
          43.00220538089287,
          45.186238141865225,
          49.75160387959409,
          51.9980652588479,
          47.2238657605447,
          43.70790635047517,
          41.12009101718862
         ],
         "xaxis": "x2",
         "y": [
          58.994323851064465,
          57.78013606865338,
          52.90794877595051,
          48.16155618036092,
          49.584269992120994,
          47.403318850894415,
          44.15841401022609,
          41.83320781720987,
          42.68044018387758,
          49.962181211310856,
          60.536407355697946,
          63.32734548348493,
          60.82526239184483,
          59.05700261998231,
          57.85644218287829
         ],
         "yaxis": "y2"
        },
        {
         "legendgroup": "test_15",
         "mode": "markers",
         "name": "Run id in Test 15",
         "type": "scatter",
         "x": [
          50.81632653061224,
          49.42903179884225,
          49.241059384896246,
          53.60616050819305,
          54.18866248915607,
          52.37444668092891,
          50.17414735016551,
          49.05515864313025,
          49.732300878384365,
          44.31814137271242,
          37.60075716598503,
          32.35174463832436,
          28.2991972340904,
          25.20030120956997,
          22.84821138001836
         ],
         "xaxis": "x2",
         "y": [
          51.81410336189119,
          50.242858296838264,
          51.94173587735636,
          52.646900079128685,
          50.968415972514606,
          47.10176327413684,
          43.29516147056016,
          41.266221492141156,
          42.43355627617105,
          43.057165468769746,
          35.59473656868645,
          28.769799511639064,
          26.581882649717002,
          24.96707631350094,
          23.80960534085355
         ],
         "yaxis": "y2"
        },
        {
         "legendgroup": "test_16",
         "mode": "markers",
         "name": "Run id in Test 16",
         "type": "scatter",
         "x": [
          58.16326530612245,
          56.19839835142584,
          56.07719419309451,
          57.53927463109983,
          52.96921102523128,
          45.63397195631546,
          38.8997572613256,
          34.699870639411095,
          33.68510842771298,
          33.50523150199827,
          25.256678759625984,
          19.1188305910305,
          14.612733046549293,
          11.34014001235881,
          8.984242446198829
         ],
         "xaxis": "x2",
         "y": [
          57.87486868087085,
          56.20355921021638,
          59.29488132069117,
          62.844570175880854,
          63.25201148661717,
          61.828314115684044,
          60.93211804144744,
          62.0759381308241,
          66.88301060669266,
          71.92681618502093,
          68.46563774278229,
          65.32835651654935,
          63.70873271545126,
          62.56252584750184,
          61.78195201273721
         ],
         "yaxis": "y2"
        },
        {
         "legendgroup": "test_17",
         "mode": "markers",
         "name": "Run id in Test 17",
         "type": "scatter",
         "x": [
          36.12244897959184,
          34.6867024963607,
          44.664597050119234,
          55.81361234748272,
          62.34479586783534,
          65.5442152273638,
          68.10088432954296,
          72.29838027303144,
          79.40567313644425,
          82.14377076705478,
          76.88705450215896,
          73.31063873396018,
          70.82401060761896,
          69.06773895134793,
          67.81381045954711
         ],
         "xaxis": "x2",
         "y": [
          35.39826023670345,
          33.876791192912336,
          38.754823515468146,
          50.91264969143863,
          58.40939867984036,
          64.7798416675222,
          72.41030266807907,
          82.70516635059828,
          95.24784063018969,
          104.82843832363523,
          103.03305390940183,
          103.10168638957907,
          102.5745221928643,
          102.33578069105597,
          102.20685284614132
         ],
         "yaxis": "y2"
        },
        {
         "legendgroup": "test_18",
         "mode": "markers",
         "name": "Run id in Test 18",
         "type": "scatter",
         "x": [
          41.83673469387755,
          40.38038830938275,
          36.565252180866544,
          44.724152294715466,
          48.97178774316208,
          49.54183685095304,
          49.29284092052927,
          50.39400821481854,
          53.94618618233191,
          49.53852948905152,
          40.47200104895845,
          33.3616915595214,
          27.83277789229457,
          23.569360359584245,
          20.30478711205175
         ],
         "xaxis": "x2",
         "y": [
          41.55196741831432,
          40.107649142877875,
          39.082797746799514,
          44.213261704635784,
          51.31605130406952,
          56.71092600592221,
          62.76028814891572,
          70.77208004895772,
          81.20979416080976,
          89.16237085429883,
          87.15962322132671,
          85.35283584141176,
          84.67020830567013,
          84.28877275644304,
          84.05186750301924
         ],
         "yaxis": "y2"
        }
       ],
       "layout": {
        "annotations": [
         {
          "font": {
           "size": 16
          },
          "showarrow": false,
          "text": "Train Set - X:Glc <br> R^2 = -0.194 <br> Abs RMSE = 11.34 <br> Rel RMSE = 0.357",
          "x": 0.225,
          "xanchor": "center",
          "xref": "paper",
          "y": 1,
          "yanchor": "bottom",
          "yref": "paper"
         },
         {
          "font": {
           "size": 16
          },
          "showarrow": false,
          "text": "Test Set - X:Glc <br> R^2 = -7.51 <br> Abs RMSE = 20.104 <br> Rel RMSE = 1.232",
          "x": 0.775,
          "xanchor": "center",
          "xref": "paper",
          "y": 1,
          "yanchor": "bottom",
          "yref": "paper"
         }
        ],
        "shapes": [
         {
          "layer": "above",
          "line": {
           "dash": "dash"
          },
          "type": "line",
          "x0": -6.205551323556861,
          "x1": 140.0086599268114,
          "y0": -6.205551323556861,
          "y1": 140.0086599268114
         },
         {
          "layer": "above",
          "line": {
           "dash": "dash"
          },
          "type": "line",
          "x0": 13.304752688706046,
          "x1": 106.632372107053,
          "xref": "x2",
          "y0": 13.304752688706046,
          "y1": 106.632372107053,
          "yref": "y2"
         }
        ],
        "template": {
         "data": {
          "bar": [
           {
            "error_x": {
             "color": "#2a3f5f"
            },
            "error_y": {
             "color": "#2a3f5f"
            },
            "marker": {
             "line": {
              "color": "white",
              "width": 0.5
             },
             "pattern": {
              "fillmode": "overlay",
              "size": 10,
              "solidity": 0.2
             }
            },
            "type": "bar"
           }
          ],
          "barpolar": [
           {
            "marker": {
             "line": {
              "color": "white",
              "width": 0.5
             },
             "pattern": {
              "fillmode": "overlay",
              "size": 10,
              "solidity": 0.2
             }
            },
            "type": "barpolar"
           }
          ],
          "carpet": [
           {
            "aaxis": {
             "endlinecolor": "#2a3f5f",
             "gridcolor": "#C8D4E3",
             "linecolor": "#C8D4E3",
             "minorgridcolor": "#C8D4E3",
             "startlinecolor": "#2a3f5f"
            },
            "baxis": {
             "endlinecolor": "#2a3f5f",
             "gridcolor": "#C8D4E3",
             "linecolor": "#C8D4E3",
             "minorgridcolor": "#C8D4E3",
             "startlinecolor": "#2a3f5f"
            },
            "type": "carpet"
           }
          ],
          "choropleth": [
           {
            "colorbar": {
             "outlinewidth": 0,
             "ticks": ""
            },
            "type": "choropleth"
           }
          ],
          "contour": [
           {
            "colorbar": {
             "outlinewidth": 0,
             "ticks": ""
            },
            "colorscale": [
             [
              0,
              "#0d0887"
             ],
             [
              0.1111111111111111,
              "#46039f"
             ],
             [
              0.2222222222222222,
              "#7201a8"
             ],
             [
              0.3333333333333333,
              "#9c179e"
             ],
             [
              0.4444444444444444,
              "#bd3786"
             ],
             [
              0.5555555555555556,
              "#d8576b"
             ],
             [
              0.6666666666666666,
              "#ed7953"
             ],
             [
              0.7777777777777778,
              "#fb9f3a"
             ],
             [
              0.8888888888888888,
              "#fdca26"
             ],
             [
              1,
              "#f0f921"
             ]
            ],
            "type": "contour"
           }
          ],
          "contourcarpet": [
           {
            "colorbar": {
             "outlinewidth": 0,
             "ticks": ""
            },
            "type": "contourcarpet"
           }
          ],
          "heatmap": [
           {
            "colorbar": {
             "outlinewidth": 0,
             "ticks": ""
            },
            "colorscale": [
             [
              0,
              "#0d0887"
             ],
             [
              0.1111111111111111,
              "#46039f"
             ],
             [
              0.2222222222222222,
              "#7201a8"
             ],
             [
              0.3333333333333333,
              "#9c179e"
             ],
             [
              0.4444444444444444,
              "#bd3786"
             ],
             [
              0.5555555555555556,
              "#d8576b"
             ],
             [
              0.6666666666666666,
              "#ed7953"
             ],
             [
              0.7777777777777778,
              "#fb9f3a"
             ],
             [
              0.8888888888888888,
              "#fdca26"
             ],
             [
              1,
              "#f0f921"
             ]
            ],
            "type": "heatmap"
           }
          ],
          "heatmapgl": [
           {
            "colorbar": {
             "outlinewidth": 0,
             "ticks": ""
            },
            "colorscale": [
             [
              0,
              "#0d0887"
             ],
             [
              0.1111111111111111,
              "#46039f"
             ],
             [
              0.2222222222222222,
              "#7201a8"
             ],
             [
              0.3333333333333333,
              "#9c179e"
             ],
             [
              0.4444444444444444,
              "#bd3786"
             ],
             [
              0.5555555555555556,
              "#d8576b"
             ],
             [
              0.6666666666666666,
              "#ed7953"
             ],
             [
              0.7777777777777778,
              "#fb9f3a"
             ],
             [
              0.8888888888888888,
              "#fdca26"
             ],
             [
              1,
              "#f0f921"
             ]
            ],
            "type": "heatmapgl"
           }
          ],
          "histogram": [
           {
            "marker": {
             "pattern": {
              "fillmode": "overlay",
              "size": 10,
              "solidity": 0.2
             }
            },
            "type": "histogram"
           }
          ],
          "histogram2d": [
           {
            "colorbar": {
             "outlinewidth": 0,
             "ticks": ""
            },
            "colorscale": [
             [
              0,
              "#0d0887"
             ],
             [
              0.1111111111111111,
              "#46039f"
             ],
             [
              0.2222222222222222,
              "#7201a8"
             ],
             [
              0.3333333333333333,
              "#9c179e"
             ],
             [
              0.4444444444444444,
              "#bd3786"
             ],
             [
              0.5555555555555556,
              "#d8576b"
             ],
             [
              0.6666666666666666,
              "#ed7953"
             ],
             [
              0.7777777777777778,
              "#fb9f3a"
             ],
             [
              0.8888888888888888,
              "#fdca26"
             ],
             [
              1,
              "#f0f921"
             ]
            ],
            "type": "histogram2d"
           }
          ],
          "histogram2dcontour": [
           {
            "colorbar": {
             "outlinewidth": 0,
             "ticks": ""
            },
            "colorscale": [
             [
              0,
              "#0d0887"
             ],
             [
              0.1111111111111111,
              "#46039f"
             ],
             [
              0.2222222222222222,
              "#7201a8"
             ],
             [
              0.3333333333333333,
              "#9c179e"
             ],
             [
              0.4444444444444444,
              "#bd3786"
             ],
             [
              0.5555555555555556,
              "#d8576b"
             ],
             [
              0.6666666666666666,
              "#ed7953"
             ],
             [
              0.7777777777777778,
              "#fb9f3a"
             ],
             [
              0.8888888888888888,
              "#fdca26"
             ],
             [
              1,
              "#f0f921"
             ]
            ],
            "type": "histogram2dcontour"
           }
          ],
          "mesh3d": [
           {
            "colorbar": {
             "outlinewidth": 0,
             "ticks": ""
            },
            "type": "mesh3d"
           }
          ],
          "parcoords": [
           {
            "line": {
             "colorbar": {
              "outlinewidth": 0,
              "ticks": ""
             }
            },
            "type": "parcoords"
           }
          ],
          "pie": [
           {
            "automargin": true,
            "type": "pie"
           }
          ],
          "scatter": [
           {
            "fillpattern": {
             "fillmode": "overlay",
             "size": 10,
             "solidity": 0.2
            },
            "type": "scatter"
           }
          ],
          "scatter3d": [
           {
            "line": {
             "colorbar": {
              "outlinewidth": 0,
              "ticks": ""
             }
            },
            "marker": {
             "colorbar": {
              "outlinewidth": 0,
              "ticks": ""
             }
            },
            "type": "scatter3d"
           }
          ],
          "scattercarpet": [
           {
            "marker": {
             "colorbar": {
              "outlinewidth": 0,
              "ticks": ""
             }
            },
            "type": "scattercarpet"
           }
          ],
          "scattergeo": [
           {
            "marker": {
             "colorbar": {
              "outlinewidth": 0,
              "ticks": ""
             }
            },
            "type": "scattergeo"
           }
          ],
          "scattergl": [
           {
            "marker": {
             "colorbar": {
              "outlinewidth": 0,
              "ticks": ""
             }
            },
            "type": "scattergl"
           }
          ],
          "scattermapbox": [
           {
            "marker": {
             "colorbar": {
              "outlinewidth": 0,
              "ticks": ""
             }
            },
            "type": "scattermapbox"
           }
          ],
          "scatterpolar": [
           {
            "marker": {
             "colorbar": {
              "outlinewidth": 0,
              "ticks": ""
             }
            },
            "type": "scatterpolar"
           }
          ],
          "scatterpolargl": [
           {
            "marker": {
             "colorbar": {
              "outlinewidth": 0,
              "ticks": ""
             }
            },
            "type": "scatterpolargl"
           }
          ],
          "scatterternary": [
           {
            "marker": {
             "colorbar": {
              "outlinewidth": 0,
              "ticks": ""
             }
            },
            "type": "scatterternary"
           }
          ],
          "surface": [
           {
            "colorbar": {
             "outlinewidth": 0,
             "ticks": ""
            },
            "colorscale": [
             [
              0,
              "#0d0887"
             ],
             [
              0.1111111111111111,
              "#46039f"
             ],
             [
              0.2222222222222222,
              "#7201a8"
             ],
             [
              0.3333333333333333,
              "#9c179e"
             ],
             [
              0.4444444444444444,
              "#bd3786"
             ],
             [
              0.5555555555555556,
              "#d8576b"
             ],
             [
              0.6666666666666666,
              "#ed7953"
             ],
             [
              0.7777777777777778,
              "#fb9f3a"
             ],
             [
              0.8888888888888888,
              "#fdca26"
             ],
             [
              1,
              "#f0f921"
             ]
            ],
            "type": "surface"
           }
          ],
          "table": [
           {
            "cells": {
             "fill": {
              "color": "#EBF0F8"
             },
             "line": {
              "color": "white"
             }
            },
            "header": {
             "fill": {
              "color": "#C8D4E3"
             },
             "line": {
              "color": "white"
             }
            },
            "type": "table"
           }
          ]
         },
         "layout": {
          "annotationdefaults": {
           "arrowcolor": "#2a3f5f",
           "arrowhead": 0,
           "arrowwidth": 1
          },
          "autotypenumbers": "strict",
          "coloraxis": {
           "colorbar": {
            "outlinewidth": 0,
            "ticks": ""
           }
          },
          "colorscale": {
           "diverging": [
            [
             0,
             "#8e0152"
            ],
            [
             0.1,
             "#c51b7d"
            ],
            [
             0.2,
             "#de77ae"
            ],
            [
             0.3,
             "#f1b6da"
            ],
            [
             0.4,
             "#fde0ef"
            ],
            [
             0.5,
             "#f7f7f7"
            ],
            [
             0.6,
             "#e6f5d0"
            ],
            [
             0.7,
             "#b8e186"
            ],
            [
             0.8,
             "#7fbc41"
            ],
            [
             0.9,
             "#4d9221"
            ],
            [
             1,
             "#276419"
            ]
           ],
           "sequential": [
            [
             0,
             "#0d0887"
            ],
            [
             0.1111111111111111,
             "#46039f"
            ],
            [
             0.2222222222222222,
             "#7201a8"
            ],
            [
             0.3333333333333333,
             "#9c179e"
            ],
            [
             0.4444444444444444,
             "#bd3786"
            ],
            [
             0.5555555555555556,
             "#d8576b"
            ],
            [
             0.6666666666666666,
             "#ed7953"
            ],
            [
             0.7777777777777778,
             "#fb9f3a"
            ],
            [
             0.8888888888888888,
             "#fdca26"
            ],
            [
             1,
             "#f0f921"
            ]
           ],
           "sequentialminus": [
            [
             0,
             "#0d0887"
            ],
            [
             0.1111111111111111,
             "#46039f"
            ],
            [
             0.2222222222222222,
             "#7201a8"
            ],
            [
             0.3333333333333333,
             "#9c179e"
            ],
            [
             0.4444444444444444,
             "#bd3786"
            ],
            [
             0.5555555555555556,
             "#d8576b"
            ],
            [
             0.6666666666666666,
             "#ed7953"
            ],
            [
             0.7777777777777778,
             "#fb9f3a"
            ],
            [
             0.8888888888888888,
             "#fdca26"
            ],
            [
             1,
             "#f0f921"
            ]
           ]
          },
          "colorway": [
           "#636efa",
           "#EF553B",
           "#00cc96",
           "#ab63fa",
           "#FFA15A",
           "#19d3f3",
           "#FF6692",
           "#B6E880",
           "#FF97FF",
           "#FECB52"
          ],
          "font": {
           "color": "#2a3f5f"
          },
          "geo": {
           "bgcolor": "white",
           "lakecolor": "white",
           "landcolor": "white",
           "showlakes": true,
           "showland": true,
           "subunitcolor": "#C8D4E3"
          },
          "hoverlabel": {
           "align": "left"
          },
          "hovermode": "closest",
          "mapbox": {
           "style": "light"
          },
          "paper_bgcolor": "white",
          "plot_bgcolor": "white",
          "polar": {
           "angularaxis": {
            "gridcolor": "#EBF0F8",
            "linecolor": "#EBF0F8",
            "ticks": ""
           },
           "bgcolor": "white",
           "radialaxis": {
            "gridcolor": "#EBF0F8",
            "linecolor": "#EBF0F8",
            "ticks": ""
           }
          },
          "scene": {
           "xaxis": {
            "backgroundcolor": "white",
            "gridcolor": "#DFE8F3",
            "gridwidth": 2,
            "linecolor": "#EBF0F8",
            "showbackground": true,
            "ticks": "",
            "zerolinecolor": "#EBF0F8"
           },
           "yaxis": {
            "backgroundcolor": "white",
            "gridcolor": "#DFE8F3",
            "gridwidth": 2,
            "linecolor": "#EBF0F8",
            "showbackground": true,
            "ticks": "",
            "zerolinecolor": "#EBF0F8"
           },
           "zaxis": {
            "backgroundcolor": "white",
            "gridcolor": "#DFE8F3",
            "gridwidth": 2,
            "linecolor": "#EBF0F8",
            "showbackground": true,
            "ticks": "",
            "zerolinecolor": "#EBF0F8"
           }
          },
          "shapedefaults": {
           "line": {
            "color": "#2a3f5f"
           }
          },
          "ternary": {
           "aaxis": {
            "gridcolor": "#DFE8F3",
            "linecolor": "#A2B1C6",
            "ticks": ""
           },
           "baxis": {
            "gridcolor": "#DFE8F3",
            "linecolor": "#A2B1C6",
            "ticks": ""
           },
           "bgcolor": "white",
           "caxis": {
            "gridcolor": "#DFE8F3",
            "linecolor": "#A2B1C6",
            "ticks": ""
           }
          },
          "title": {
           "x": 0.05
          },
          "xaxis": {
           "automargin": true,
           "gridcolor": "#EBF0F8",
           "linecolor": "#EBF0F8",
           "ticks": "",
           "title": {
            "standoff": 15
           },
           "zerolinecolor": "#EBF0F8",
           "zerolinewidth": 2
          },
          "yaxis": {
           "automargin": true,
           "gridcolor": "#EBF0F8",
           "linecolor": "#EBF0F8",
           "ticks": "",
           "title": {
            "standoff": 15
           },
           "zerolinecolor": "#EBF0F8",
           "zerolinewidth": 2
          }
         }
        },
        "width": 1600,
        "xaxis": {
         "anchor": "y",
         "domain": [
          0,
          0.45
         ],
         "title": {
          "text": "Observed values"
         }
        },
        "xaxis2": {
         "anchor": "y2",
         "domain": [
          0.55,
          1
         ],
         "title": {
          "text": "Observed values"
         }
        },
        "yaxis": {
         "anchor": "x",
         "domain": [
          0,
          1
         ],
         "title": {
          "text": "Predicted values"
         }
        },
        "yaxis2": {
         "anchor": "x2",
         "domain": [
          0,
          1
         ],
         "title": {
          "text": "Predicted values"
         }
        }
       }
      }
     },
     "metadata": {},
     "output_type": "display_data"
    },
    {
     "data": {
      "application/vnd.plotly.v1+json": {
       "config": {
        "plotlyServerURL": "https://plot.ly"
       },
       "data": [
        {
         "legendgroup": "train_0",
         "mode": "markers",
         "name": "Run id in Train 0",
         "type": "scatter",
         "x": [
          0,
          1.69345805704731,
          5.897022174496003,
          14.760391525541584,
          29.38859302970828,
          47.82798059583144,
          66.28877804594478,
          81.69288657721607,
          92.67703047605649,
          99.51314361635391,
          103.3982341018014,
          105.5137608534153,
          106.64771326447794,
          107.25237808915796,
          107.57398917080884
         ],
         "xaxis": "x",
         "y": [
          0,
          1.7874826481604744,
          6.415107653454032,
          16.333460028364616,
          32.57346323794389,
          52.79245980930798,
          72.81502230194396,
          88.97376184729002,
          101.85325746018364,
          110.86083868921597,
          116.75853673369184,
          120.45826514298254,
          122.73961177219574,
          124.16810462808495,
          125.08499433036785
         ],
         "yaxis": "y"
        },
        {
         "legendgroup": "train_1",
         "mode": "markers",
         "name": "Run id in Train 1",
         "type": "scatter",
         "x": [
          0,
          1.2591174351446812,
          4.363787969322462,
          11.105807850200534,
          23.08674531626167,
          39.77379364032567,
          58.33909249352142,
          75.64227711825473,
          89.5941838255521,
          99.3928495418756,
          105.4740473218795,
          108.9699250499719,
          110.918427122675,
          111.99516193361828,
          112.58794736476844
         ],
         "xaxis": "x",
         "y": [
          0,
          1.423686749984015,
          5.2451727177769545,
          13.931138044938454,
          29.11345208377976,
          48.95644865614526,
          68.8860033850904,
          84.7147816004747,
          97.53231886509644,
          106.02267333451779,
          111.20829444239415,
          114.17218921193476,
          115.82271471125834,
          116.74975892404194,
          117.28626522848508
         ],
         "yaxis": "y"
        },
        {
         "legendgroup": "train_2",
         "mode": "markers",
         "name": "Run id in Train 2",
         "type": "scatter",
         "x": [
          0,
          1.866469333291912,
          7.039248680252867,
          18.704626424131312,
          38.35496070782931,
          63.1173995632141,
          87.91110486552529,
          108.64700768237822,
          123.35156668084312,
          132.36601726278963,
          137.42994602457176,
          140.17843995403726,
          141.65402443925203,
          142.44293058550818,
          142.86381460240204
         ],
         "xaxis": "x",
         "y": [
          0,
          1.632105242793193,
          5.861880199030595,
          15.108423426241282,
          30.804231063255497,
          50.984329863242024,
          70.97958818310374,
          87.32241643814625,
          99.96234646410024,
          107.98408175281637,
          112.62659958470323,
          115.14691764454771,
          116.47720554835992,
          117.1732514867333,
          117.53844936162605
         ],
         "yaxis": "y"
        },
        {
         "legendgroup": "train_3",
         "mode": "markers",
         "name": "Run id in Train 3",
         "type": "scatter",
         "x": [
          0,
          2.1935506074183557,
          7.801298168106945,
          18.766174317262404,
          33.69689018464,
          48.34900066558672,
          59.74842585087358,
          67.40216019026191,
          72.1177330616482,
          74.89252493334618,
          76.48915967702284,
          77.39715527981402,
          77.91013594557718,
          78.1989052220856,
          78.36113418904017
         ],
         "xaxis": "x",
         "y": [
          0,
          2.072658230742747,
          7.290507321464525,
          17.72571312442506,
          32.74044110056235,
          48.15494076323379,
          60.819384515942446,
          70.95474060973584,
          76.83631855033525,
          80.42166949323138,
          82.71933384230812,
          84.30289553147207,
          85.41160502175154,
          86.18020117990889,
          86.70609717452817
         ],
         "yaxis": "y"
        },
        {
         "legendgroup": "train_4",
         "mode": "markers",
         "name": "Run id in Train 4",
         "type": "scatter",
         "x": [
          0,
          2.271716977830502,
          7.854473161355809,
          18.971708052051884,
          35.82484903801885,
          55.484937664768005,
          74.18856957963564,
          89.37381330601042,
          100.02434710219111,
          106.56762036581328,
          110.35013494198267,
          112.52991365924176,
          113.78809838136668,
          114.51558106094842,
          114.936735596877
         ],
         "xaxis": "x",
         "y": [
          0,
          2.235442679941962,
          7.700784446923961,
          18.541133917516877,
          34.81094430905762,
          53.156382069662925,
          69.09235632812216,
          82.45090894088399,
          90.89103974496027,
          95.25951981530096,
          97.21049208041552,
          97.9899713959683,
          98.2157731682835,
          98.18544065312255,
          98.05389530633425
         ],
         "yaxis": "y"
        },
        {
         "legendgroup": "train_5",
         "mode": "markers",
         "name": "Run id in Train 5",
         "type": "scatter",
         "x": [
          0,
          2.1740074735550605,
          7.182608258476706,
          16.82510229378721,
          31.34268820461444,
          48.28624408120008,
          64.28995969884735,
          77.04776277507078,
          85.78842522037073,
          91.04929514777176,
          94.00474366506025,
          95.64522970427242,
          96.55287676695592,
          97.054389027165,
          97.331315646952
         ],
         "xaxis": "x",
         "y": [
          0,
          2.435228739083233,
          8.36161154980684,
          19.992205198347378,
          37.24225279566893,
          56.764614046692095,
          74.44033535507128,
          89.65428221215669,
          99.82037305814764,
          106.04041658184627,
          109.61827442362741,
          111.7091740018544,
          112.93916986845578,
          113.66284834545856,
          114.0860078975181
         ],
         "yaxis": "y"
        },
        {
         "legendgroup": "train_6",
         "mode": "markers",
         "name": "Run id in Train 6",
         "type": "scatter",
         "x": [
          0,
          1.916223707605735,
          6.481636373842608,
          15.742076047399967,
          30.7303924619266,
          49.56309399414012,
          68.54508580701972,
          84.64064208273174,
          96.4336875563552,
          104.07036255435077,
          108.63197524096528,
          111.25534115276618,
          112.74131598613712,
          113.577859978804,
          114.04725326605498
         ],
         "xaxis": "x",
         "y": [
          0,
          1.8839153134371633,
          6.66021795298419,
          16.819463306282703,
          33.55140418532661,
          54.51618990092053,
          75.30219562462757,
          91.8168789990105,
          103.45599514540237,
          110.59042621265557,
          114.50088111807113,
          116.46851745325404,
          117.40434452356416,
          117.82181010081871,
          117.9766370749863
         ],
         "yaxis": "y"
        },
        {
         "legendgroup": "train_7",
         "mode": "markers",
         "name": "Run id in Train 7",
         "type": "scatter",
         "x": [
          0,
          2.243958200027949,
          8.523091057701478,
          22.02505899374238,
          42.56465569657718,
          65.54531000542516,
          86.36115270011925,
          102.69136210007946,
          114.01852655478228,
          120.90042892063524,
          124.57629681718988,
          126.40832354825189,
          127.3152667728905,
          127.7640116394374,
          127.98600783384062
         ],
         "xaxis": "x",
         "y": [
          0,
          1.8398305486106508,
          6.58705057937603,
          16.670556374512437,
          32.94474379628656,
          53.09220816695342,
          73.74298416064887,
          91.54372553487138,
          105.43113536765073,
          115.60110855382868,
          122.57344751183864,
          127.25053815958037,
          130.4141478116519,
          132.5832199727405,
          134.0781605783111
         ],
         "yaxis": "y"
        },
        {
         "legendgroup": "train_8",
         "mode": "markers",
         "name": "Run id in Train 8",
         "type": "scatter",
         "x": [
          0,
          1.6793980299494815,
          5.825279816564676,
          14.27356176357438,
          27.297157467115877,
          42.40664958688576,
          56.43799757399171,
          67.52538375231104,
          75.23050405709591,
          80.0340985431344,
          82.87566487240495,
          84.54898020684811,
          85.5339459906819,
          86.11387571389295,
          86.4554277707369
         ],
         "xaxis": "x",
         "y": [
          0,
          1.8408913717252282,
          6.6302858432544065,
          16.631991818772583,
          31.938771907900204,
          49.50075611409766,
          66.78542978740307,
          82.06794375120135,
          93.92623308323007,
          103.23946159601778,
          110.20556404031885,
          115.31509058829651,
          119.04139920461432,
          121.74625848069135,
          123.69498593911405
         ],
         "yaxis": "y"
        },
        {
         "legendgroup": "train_9",
         "mode": "markers",
         "name": "Run id in Train 9",
         "type": "scatter",
         "x": [
          0,
          1.936573425915886,
          6.829628620347621,
          17.08542047827603,
          33.68920844131243,
          54.31801760252742,
          74.94360934324902,
          92.35928951478154,
          105.04138844957716,
          113.1173391723332,
          117.83371942641146,
          120.5372260817002,
          122.08223916974812,
          122.96423137950454,
          123.46750725239096
         ],
         "xaxis": "x",
         "y": [
          0,
          2.1093800912559852,
          7.34718610174618,
          18.03229070205552,
          34.82195285928381,
          55.24217769584321,
          75.23251900947648,
          92.88653491645128,
          105.853507373543,
          114.3957125498983,
          119.63471332542498,
          122.83698680339982,
          124.83956766068795,
          126.1151747888187,
          126.93586102953635
         ],
         "yaxis": "y"
        },
        {
         "legendgroup": "train_10",
         "mode": "markers",
         "name": "Run id in Train 10",
         "type": "scatter",
         "x": [
          0,
          2.2045774470236106,
          7.641883100611657,
          18.55674420310442,
          35.26530286784005,
          54.97920848857748,
          73.92058498359414,
          89.45973831766962,
          100.66193693639848,
          107.98040575765472,
          112.49289873095236,
          115.2193343478992,
          116.85527810935798,
          117.83318579088176,
          118.41650712461951
         ],
         "xaxis": "x",
         "y": [
          0,
          2.3805398825146193,
          8.235309377861654,
          19.801514551818247,
          36.95564008068597,
          56.3083744445516,
          73.80352222046103,
          88.53759914616263,
          99.13843309967622,
          106.2118824774588,
          110.75294540774944,
          113.66988469854914,
          115.51086588854989,
          116.67631573009858,
          117.42531968897664
         ],
         "yaxis": "y"
        },
        {
         "legendgroup": "train_11",
         "mode": "markers",
         "name": "Run id in Train 11",
         "type": "scatter",
         "x": [
          0,
          1.462853690999637,
          5.073336681969035,
          12.660230851131171,
          25.232508578399084,
          41.307290770199714,
          57.82184158492357,
          72.23096168957767,
          83.26341754953935,
          90.70522924185808,
          95.11732108367188,
          97.47899681646844,
          98.69224529926088,
          99.31263835102392,
          99.62937170511216
         ],
         "xaxis": "x",
         "y": [
          0,
          1.5190586494017493,
          5.606358794431198,
          14.84291607018059,
          30.881144362549385,
          52.28809489202773,
          75.66393538382071,
          95.88099215649747,
          112.7796200165898,
          125.54643507162548,
          134.43542972534615,
          140.3969383489989,
          144.42155683495827,
          147.18409923616593,
          149.09688228642716
         ],
         "yaxis": "y"
        },
        {
         "legendgroup": "train_12",
         "mode": "markers",
         "name": "Run id in Train 12",
         "type": "scatter",
         "x": [
          0,
          1.9486693387676397,
          7.233907153871678,
          18.655652259929067,
          36.821238159666514,
          58.43775305560913,
          79.2116435858596,
          96.41166814671342,
          108.96228662742594,
          116.92184996449268,
          121.52041084071284,
          124.19580393108706,
          125.76993807966964,
          126.70267532390474,
          127.25773195905832
         ],
         "xaxis": "x",
         "y": [
          0,
          1.7907684735736493,
          6.363682164332241,
          16.01835450820328,
          31.641916005281605,
          51.00607366788503,
          70.31845991809938,
          87.56879620440894,
          100.72728582079219,
          109.67277863616623,
          115.37505435302948,
          118.996326225612,
          121.36529939848629,
          122.9446992327059,
          124.00881848501331
         ],
         "yaxis": "y"
        },
        {
         "legendgroup": "train_13",
         "mode": "markers",
         "name": "Run id in Train 13",
         "type": "scatter",
         "x": [
          0,
          2.200382492961511,
          7.894780870993562,
          19.55827449790884,
          37.32797040419936,
          58.16284815438131,
          78.45160605087935,
          95.9765309874497,
          109.94854564544856,
          120.41278648298837,
          128.03938655086029,
          133.56954670527574,
          137.55582192807515,
          140.41438051763683,
          142.45595462091137
         ],
         "xaxis": "x",
         "y": [
          0,
          1.930682058389225,
          6.780424278460762,
          16.8393743701389,
          33.03042158675201,
          53.35239218660073,
          73.78567397741635,
          92.69287479334353,
          107.51383682312253,
          117.68689567315921,
          124.2061705792862,
          128.3769501729023,
          131.1144603832912,
          132.94169347867717,
          134.17684331829076
         ],
         "yaxis": "y"
        },
        {
         "legendgroup": "train_14",
         "mode": "markers",
         "name": "Run id in Train 14",
         "type": "scatter",
         "x": [
          0,
          2.266481007500602,
          7.481108061218053,
          17.23816542368565,
          31.00161642185615,
          45.79045669201285,
          58.67502859375343,
          68.30515125033189,
          74.72906732624747,
          78.69091157515295,
          81.02465134943674,
          82.37227425825185,
          83.1444344589161,
          83.58498751213965,
          83.83576220973902
         ],
         "xaxis": "x",
         "y": [
          0,
          2.26185685435929,
          7.931197076287539,
          19.32460013287789,
          36.230759371692,
          55.10843602587841,
          72.94703720608734,
          87.77985549789891,
          98.1844594096543,
          105.83330523339635,
          111.24614426440233,
          115.04524904471248,
          117.6919197931945,
          119.53940893564628,
          120.82254431307175
         ],
         "yaxis": "y"
        },
        {
         "legendgroup": "train_15",
         "mode": "markers",
         "name": "Run id in Train 15",
         "type": "scatter",
         "x": [
          0,
          2.552386950076697,
          8.392360008279711,
          19.35582388537178,
          35.41186190998785,
          53.836957553515546,
          71.08313629584738,
          84.78848500743933,
          94.40449986949466,
          100.64975894259464,
          104.55422151379533,
          106.95550768745558,
          108.42027414285872,
          109.30948263721103,
          109.84776964772038
         ],
         "xaxis": "x",
         "y": [
          0,
          2.4169557573914604,
          8.288564421957272,
          19.81847116479942,
          36.954773979357796,
          56.19596077783857,
          72.8945398494684,
          86.44412368381309,
          95.1001272568712,
          99.73458879539162,
          101.92593309517085,
          102.86340759750519,
          103.14840158777908,
          103.12499305987686,
          102.9800990661325
         ],
         "yaxis": "y"
        },
        {
         "legendgroup": "train_16",
         "mode": "markers",
         "name": "Run id in Train 16",
         "type": "scatter",
         "x": [
          0,
          1.6612988084468303,
          6.088987259959261,
          15.746803690207084,
          31.47358567363868,
          50.14323937382536,
          67.1771767925946,
          79.87642582688726,
          88.03847016923935,
          92.85156193453584,
          95.6089760471386,
          97.1721988730927,
          98.05365672810824,
          98.54931865816886,
          98.82762255437292
         ],
         "xaxis": "x",
         "y": [
          0,
          1.8548692551259824,
          6.530815208304612,
          16.1714824190227,
          31.120044145629606,
          48.35516306941251,
          63.98140963496108,
          77.47246269611045,
          86.40930373992057,
          91.54642299649112,
          94.29014436480493,
          95.77458511131266,
          96.62768864918598,
          97.12450417375933,
          97.41168997655979
         ],
         "yaxis": "y"
        },
        {
         "legendgroup": "train_17",
         "mode": "markers",
         "name": "Run id in Train 17",
         "type": "scatter",
         "x": [
          0,
          1.499847102362348,
          5.803065059063494,
          16.06512088809116,
          34.29292329340938,
          57.65182970890164,
          80.48997704156366,
          98.6273814881257,
          110.61549927737116,
          117.36409711236269,
          120.80877510725404,
          122.50076704100492,
          123.32342969062344,
          123.72205830717552,
          123.91491353241597
         ],
         "xaxis": "x",
         "y": [
          0,
          1.381516596584588,
          5.112587351251882,
          13.610511616616394,
          28.379650326179842,
          47.53749008904123,
          66.97160667354886,
          82.96264057482487,
          95.69329993364452,
          104.2787949095748,
          109.6589212033763,
          112.89006602921121,
          114.84834777762981,
          116.06456225044433,
          116.84008994291304
         ],
         "yaxis": "y"
        },
        {
         "legendgroup": "train_18",
         "mode": "markers",
         "name": "Run id in Train 18",
         "type": "scatter",
         "x": [
          0,
          2.488304429432778,
          9.201525295257095,
          22.922914190168047,
          42.711921774691525,
          63.735468508291376,
          81.5560504006724,
          94.20340317822532,
          101.9338301743324,
          106.1960070963081,
          108.43033224571111,
          109.57902313526031,
          110.16533036894172,
          110.46379979506132,
          110.61553112855547
         ],
         "xaxis": "x",
         "y": [
          0,
          2.070840862945273,
          7.311370926762866,
          18.14324235298109,
          35.07599643410846,
          55.15702977851803,
          74.31436673627665,
          89.36137633819976,
          100.66189513510938,
          108.45760037367172,
          113.54286945883787,
          116.73473077411408,
          118.67906301200496,
          119.87442367629026,
          120.62349134644023
         ],
         "yaxis": "y"
        },
        {
         "legendgroup": "train_19",
         "mode": "markers",
         "name": "Run id in Train 19",
         "type": "scatter",
         "x": [
          0,
          1.5183831297264283,
          5.237664340994536,
          13.227504908739592,
          27.238238354729056,
          46.72874279001649,
          68.81986352619273,
          90.32062048197646,
          109.09064388778134,
          124.10742826977872,
          135.07559840644768,
          142.3634752724604,
          147.15387572687197,
          150.34849804663463,
          152.4990240834168
         ],
         "xaxis": "x",
         "y": [
          0,
          1.465332067968773,
          5.404524144592415,
          14.382733604416757,
          30.362290398821294,
          52.41787841958517,
          76.82262535461619,
          98.72523410906837,
          117.55951901428176,
          131.64882662584117,
          141.3346175233835,
          147.77061434148882,
          152.090514228731,
          155.04139023746222,
          157.08196399285828
         ],
         "yaxis": "y"
        },
        {
         "legendgroup": "train_20",
         "mode": "markers",
         "name": "Run id in Train 20",
         "type": "scatter",
         "x": [
          0,
          1.6907176376655193,
          5.773910042206273,
          14.178261769173828,
          27.98477279498128,
          45.865270359254026,
          64.9289791631562,
          82.64832060799844,
          97.61916670072311,
          109.34101112134148,
          118.00481802274926,
          124.39240823684412,
          129.1130420005869,
          132.59877665246637,
          135.1681075041741
         ],
         "xaxis": "x",
         "y": [
          0,
          1.7622184686453233,
          6.3114783540333175,
          16.010771096686092,
          31.929240425813873,
          52.221260690929945,
          73.22563108577856,
          92.39396815278603,
          108.25482921759432,
          119.90833079998882,
          127.90869196429641,
          133.30301846614577,
          136.97365941464338,
          139.50077455810865,
          141.25794665539428
         ],
         "yaxis": "y"
        },
        {
         "legendgroup": "train_21",
         "mode": "markers",
         "name": "Run id in Train 21",
         "type": "scatter",
         "x": [
          0,
          1.5195748146028738,
          5.534078736329199,
          14.34267262512248,
          28.699577101254164,
          45.74277964198039,
          61.54190183971102,
          73.97438100140312,
          82.81986886234498,
          88.75222772461386,
          92.59822095273498,
          95.04314887846118,
          96.57967691012072,
          97.53850241594792,
          98.13426493027002
         ],
         "xaxis": "x",
         "y": [
          0,
          1.620265152515728,
          5.90164761870884,
          15.132371669829183,
          29.726016467951638,
          46.40875009206268,
          61.65877330882404,
          73.03263135684985,
          80.84908219261159,
          85.91935871858638,
          89.13596817222333,
          91.12208945632129,
          92.34338704226785,
          93.10575365831309,
          93.58836782899428
         ],
         "yaxis": "y"
        },
        {
         "legendgroup": "train_22",
         "mode": "markers",
         "name": "Run id in Train 22",
         "type": "scatter",
         "x": [
          0,
          2.074756943107576,
          7.095935288897512,
          17.027959125060974,
          32.18701064221906,
          50.16514536683079,
          67.67126701157989,
          82.38584101600017,
          93.18507894811724,
          99.9027997881222,
          103.44557278583376,
          105.20900775495964,
          106.08620802811922,
          106.52281787788957,
          106.74021799592084
         ],
         "xaxis": "x",
         "y": [
          0,
          2.302230393772586,
          7.924405136097629,
          19.149232783560336,
          36.51310817669979,
          57.38719919974966,
          76.92225454583131,
          93.81654019020922,
          106.36226469567164,
          114.19211639810307,
          118.69496849997996,
          121.22178705012689,
          122.59951527615195,
          123.3377348789526,
          123.73383246199083
         ],
         "yaxis": "y"
        },
        {
         "legendgroup": "train_23",
         "mode": "markers",
         "name": "Run id in Train 23",
         "type": "scatter",
         "x": [
          0,
          2.5788314092992546,
          9.08391799950622,
          22.355325442747105,
          43.05925292517488,
          68.4572201776519,
          94.69927810946756,
          118.89950418038664,
          139.4586837337397,
          155.09571063286376,
          165.70565263638912,
          172.83521729628083,
          177.60706929909114,
          180.7927853419405,
          182.9162078795065
         ],
         "xaxis": "x",
         "y": [
          0,
          2.437613048541858,
          8.444280686339443,
          20.40488507732888,
          38.6792534800242,
          61.07397314235666,
          84.65302698997364,
          107.41723824644163,
          125.60307200627392,
          139.61983133410263,
          149.65599760935976,
          156.77637087625078,
          161.85126242331478,
          165.47407811067603,
          168.0481662547013
         ],
         "yaxis": "y"
        },
        {
         "legendgroup": "train_24",
         "mode": "markers",
         "name": "Run id in Train 24",
         "type": "scatter",
         "x": [
          0,
          1.66426423317173,
          6.28576833862229,
          16.81871581715164,
          34.39845395750664,
          55.792510876412905,
          76.52951151727098,
          93.90934063549015,
          107.0000424928104,
          115.930742106806,
          121.46694979008385,
          124.65181785924042,
          126.42315550690796,
          127.40367119806868,
          127.94560044834527
         ],
         "xaxis": "x",
         "y": [
          0,
          1.4679653679812767,
          5.487138881266448,
          14.527324097222872,
          29.493206607689704,
          47.76287574924774,
          66.36109184495272,
          80.91618957158047,
          92.2447021867746,
          100.82813759973523,
          106.96290264832525,
          111.15769661861847,
          114.01733140563235,
          115.99322841506456,
          117.36507522351019
         ],
         "yaxis": "y"
        },
        {
         "legendgroup": "train_25",
         "mode": "markers",
         "name": "Run id in Train 25",
         "type": "scatter",
         "x": [
          0,
          2.139220835350532,
          7.650666154814507,
          19.020216486163097,
          36.33486631637721,
          56.361508217905005,
          75.5831271496908,
          92.00148752225614,
          104.90411414250732,
          114.29060239591809,
          120.54718402976414,
          124.44358117060791,
          126.88195406193326,
          128.42635240377606,
          129.41240848852712
         ],
         "xaxis": "x",
         "y": [
          0,
          1.9280671447796163,
          6.906046841577434,
          17.330622541452737,
          33.526244043859386,
          52.47907893963193,
          71.27723943892194,
          86.8240981030181,
          98.44359041059722,
          107.22701374238898,
          113.52191936430799,
          117.92233116076206,
          120.98693061962585,
          123.13453519042854,
          124.63660776915404
         ],
         "yaxis": "y"
        },
        {
         "legendgroup": "train_26",
         "mode": "markers",
         "name": "Run id in Train 26",
         "type": "scatter",
         "x": [
          0,
          1.1989647818124811,
          4.2569952563834015,
          10.99072061373146,
          22.36820286043155,
          36.28419488988094,
          49.22362252143591,
          59.218358350677285,
          66.12246730151067,
          70.59507970313997,
          73.38815516459402,
          75.09582432997499,
          76.12708408346579,
          76.74526512429902,
          77.1142199455744
         ],
         "xaxis": "x",
         "y": [
          0,
          1.4606045357001398,
          5.3684176510572845,
          13.992561461617171,
          28.021686424466814,
          44.47720634389695,
          59.76804975833144,
          71.51231229117326,
          79.44043325813637,
          84.25600360347332,
          87.04787586385089,
          88.6181434204726,
          89.52587826992858,
          90.06247172028428,
          90.38147330208102
         ],
         "yaxis": "y"
        },
        {
         "legendgroup": "train_27",
         "mode": "markers",
         "name": "Run id in Train 27",
         "type": "scatter",
         "x": [
          0,
          1.8930838152463207,
          6.803349792833476,
          17.325670319062116,
          34.487246517925776,
          55.795835795296334,
          77.37478351754763,
          96.47572719991511,
          111.84274849980947,
          123.17490344230582,
          130.73354904700537,
          135.5312228645926,
          138.63506651977843,
          140.67349673823577,
          142.02511718930316
         ],
         "xaxis": "x",
         "y": [
          0,
          1.9218344431423837,
          6.828153903184936,
          17.090284033313413,
          33.3760666004804,
          53.157147998981635,
          72.84406384580153,
          89.75056704832903,
          102.79324811682683,
          112.12961342566268,
          118.42657746464086,
          122.60023685512763,
          125.38176110734086,
          127.26018961272787,
          128.53999021614771
         ],
         "yaxis": "y"
        },
        {
         "legendgroup": "train_28",
         "mode": "markers",
         "name": "Run id in Train 28",
         "type": "scatter",
         "x": [
          0,
          1.2570277775090313,
          4.753677752178248,
          13.00157293390872,
          27.996695520031267,
          48.57761844666174,
          71.26974599282754,
          92.94898443035557,
          111.88639150472412,
          127.51874869050408,
          139.9569546616572,
          149.61055844105428,
          156.982000300884,
          162.5451533648477,
          166.70499077235368
         ],
         "xaxis": "x",
         "y": [
          0,
          1.5516447410329959,
          5.741134215491148,
          15.106785040931232,
          31.051213648395716,
          52.00772195438084,
          74.77987601965258,
          94.77546294854147,
          112.25935325819286,
          126.04740011394232,
          136.08172318781772,
          143.08430913792665,
          147.93959895644917,
          151.33618240608217,
          153.72987749405482
         ],
         "yaxis": "y"
        },
        {
         "legendgroup": "train_29",
         "mode": "markers",
         "name": "Run id in Train 29",
         "type": "scatter",
         "x": [
          0,
          1.9803879570113108,
          7.335950553180955,
          19.10630044948672,
          38.25515850704539,
          61.64155365633496,
          85.01194490886684,
          105.6347144219525,
          122.45916803060658,
          135.45765423391487,
          145.03670618229216,
          151.6784846742583,
          155.95509590517716,
          158.71317689674677,
          160.52076678066763
         ],
         "xaxis": "x",
         "y": [
          0,
          2.114296940102113,
          7.455903998866136,
          18.474313868341778,
          35.69780693478311,
          56.22353095267075,
          75.9805383863724,
          91.56034804150981,
          103.43890365463919,
          111.78575309140825,
          117.31752345273873,
          120.83933446104558,
          123.01379431069199,
          124.36979135021383,
          125.23193151357229
         ],
         "yaxis": "y"
        },
        {
         "legendgroup": "train_30",
         "mode": "markers",
         "name": "Run id in Train 30",
         "type": "scatter",
         "x": [
          0,
          1.7280128504514205,
          6.313311015870646,
          16.47720044034038,
          33.69543731260756,
          56.12825880125742,
          80.51290379084037,
          104.26221280436164,
          125.80458370400444,
          144.40545567099667,
          159.91633967431395,
          172.54185897546512,
          182.63371646954985,
          190.5570264301286,
          196.60147929841384
         ],
         "xaxis": "x",
         "y": [
          0,
          1.8627183901097242,
          6.701007646825238,
          16.933050163457295,
          33.03184560168919,
          52.171973223355415,
          71.53820950637778,
          87.77053764330007,
          100.00812000901833,
          109.30165374716108,
          115.95808160696652,
          120.60973825981995,
          123.86562178737975,
          126.16047554190963,
          127.77233743575943
         ],
         "yaxis": "y"
        },
        {
         "legendgroup": "test_0",
         "mode": "markers",
         "name": "Run id in Test 0",
         "type": "scatter",
         "x": [
          0,
          2.1824297539180297,
          8.166083041116508,
          21.321369967573112,
          42.85414584728475,
          69.79089068242651,
          97.66797157992208,
          123.28266885228646,
          145.1452661433552,
          162.939326203935,
          176.9454542072082,
          187.66054365335236,
          195.7213811855037,
          201.77002614645343,
          206.29555670809924
         ],
         "xaxis": "x2",
         "y": [
          0,
          2.373067514758139,
          8.21761185976967,
          20.101227974593883,
          39.08758663569077,
          63.302772853180365,
          88.52115500041455,
          110.69394461964671,
          128.1965408343791,
          140.7200436691612,
          148.9577419023577,
          154.23743905193754,
          157.6181753794054,
          159.81973037725425,
          161.27115123588305
         ],
         "yaxis": "y2"
        },
        {
         "legendgroup": "test_1",
         "mode": "markers",
         "name": "Run id in Test 1",
         "type": "scatter",
         "x": [
          0,
          1.5991499982104411,
          5.445699389353575,
          13.581432771597257,
          27.689681352073706,
          47.21496460203044,
          69.54534066005401,
          91.89286610534306,
          112.38249670914288,
          130.1236250206878,
          145.0020761195221,
          157.1975521219229,
          167.00514815735104,
          174.77073081852015,
          180.83847709015123
         ],
         "xaxis": "x2",
         "y": [
          0,
          1.9860419254493762,
          7.063304454495182,
          17.53579745274766,
          33.73992709798069,
          53.17745809110894,
          73.09787458143086,
          91.72378721515943,
          106.88979434513509,
          118.78519773742354,
          127.54118079450748,
          133.87252613700693,
          138.43926161029313,
          141.72769828530906,
          144.0864185080237
         ],
         "yaxis": "y2"
        },
        {
         "legendgroup": "test_2",
         "mode": "markers",
         "name": "Run id in Test 2",
         "type": "scatter",
         "x": [
          0,
          1.5581891741849512,
          5.606126893705409,
          14.498929324203344,
          29.82798216505632,
          50.41499972160747,
          73.19671246341571,
          95.3587673773708,
          115.20028515974414,
          131.99273880744107,
          145.60559285891645,
          156.2873977451865,
          164.63072407738295,
          171.14171656847114,
          176.2095735657846
         ],
         "xaxis": "x2",
         "y": [
          0,
          1.6694988661793215,
          6.103259404202977,
          15.817049409296907,
          32.01869215539481,
          52.952114721270675,
          75.5207903249346,
          95.45815927551945,
          112.48726271747424,
          125.86161905246905,
          135.57376168239543,
          142.3679858161613,
          147.10049778663566,
          150.42347310694026,
          152.7679991392945
         ],
         "yaxis": "y2"
        },
        {
         "legendgroup": "test_3",
         "mode": "markers",
         "name": "Run id in Test 3",
         "type": "scatter",
         "x": [
          0,
          1.7487860554820465,
          6.311671256918155,
          16.382654836909964,
          33.66660265814613,
          56.58603621625323,
          81.56847238120447,
          105.47928252536023,
          126.51381224589684,
          144.02257896315942,
          158.0615217586803,
          168.90191538273123,
          176.33605979156945,
          181.14518553707703,
          184.24826675684804
         ],
         "xaxis": "x2",
         "y": [
          0,
          1.7575109313526585,
          6.396035822205613,
          16.311515262718785,
          32.0830682622309,
          51.31593469355005,
          71.50595228004485,
          89.62244228135225,
          104.72931227885695,
          116.94846483832431,
          126.15105672516661,
          132.85173296094948,
          137.68926399296183,
          141.17852479322684,
          143.68618089422898
         ],
         "yaxis": "y2"
        },
        {
         "legendgroup": "test_4",
         "mode": "markers",
         "name": "Run id in Test 4",
         "type": "scatter",
         "x": [
          0,
          2.40865700404835,
          9.007605339128604,
          23.0960309095346,
          44.650055160271,
          69.37126336604697,
          92.90356906065072,
          112.89704265210062,
          128.56760159133748,
          139.92880141496798,
          147.5636069024654,
          152.73889571644432,
          156.32842633487192,
          158.8502092384601,
          160.63502139951692
         ],
         "xaxis": "x2",
         "y": [
          0,
          2.1539067189814287,
          7.5463676084311615,
          18.36937459509203,
          34.40121781150212,
          51.99884838527229,
          67.48370583194976,
          80.0685017946486,
          88.74640126567677,
          94.49376343206669,
          98.24549439687281,
          100.7129359354611,
          102.3145957203469,
          103.35663720968252,
          104.04218355611673
         ],
         "yaxis": "y2"
        },
        {
         "legendgroup": "test_5",
         "mode": "markers",
         "name": "Run id in Test 5",
         "type": "scatter",
         "x": [
          0,
          1.2545144440534064,
          4.985417532879248,
          14.260275885034812,
          31.234881024706453,
          53.49583974096605,
          76.37935894351298,
          96.68647952280352,
          113.11097089305292,
          125.47091067391106,
          134.08437572025375,
          139.54476133203477,
          142.9131133751618,
          145.0343385158262,
          146.38776809777494
         ],
         "xaxis": "x2",
         "y": [
          0,
          1.3899563018787446,
          5.2154630668258,
          13.967528327280881,
          28.926727197063173,
          48.01374241552366,
          68.10904115392793,
          84.67469858478914,
          97.94458545900827,
          107.87129125617204,
          114.8063100797803,
          119.47219269082441,
          122.63908874662195,
          124.82437065963558,
          126.34147694210873
         ],
         "yaxis": "y2"
        },
        {
         "legendgroup": "test_6",
         "mode": "markers",
         "name": "Run id in Test 6",
         "type": "scatter",
         "x": [
          0,
          2.4676429401569653,
          8.847402570973394,
          21.92022427914256,
          42.04251997927221,
          66.3806237114453,
          91.4711752566404,
          114.89076395797905,
          135.40670329147326,
          152.63994276475762,
          166.70916056328812,
          177.96967910428168,
          186.83664250707432,
          193.7065213911428,
          198.882259098652
         ],
         "xaxis": "x2",
         "y": [
          0,
          2.349200131731069,
          8.21495443436505,
          20.014687159369846,
          37.89591186891012,
          59.0950149458698,
          80.86039333138113,
          100.5307333778668,
          115.77644580151555,
          127.67099141373329,
          136.33576909680778,
          142.5329455861302,
          146.94586442231545,
          150.0912096887068,
          152.32029637649163
         ],
         "yaxis": "y2"
        },
        {
         "legendgroup": "test_7",
         "mode": "markers",
         "name": "Run id in Test 7",
         "type": "scatter",
         "x": [
          0,
          2.3615459556658216,
          8.310160827313466,
          20.67139833266929,
          40.36585105311375,
          64.7292302489265,
          89.83125897208262,
          112.84560274344835,
          132.43594927073886,
          148.2954069606308,
          160.66288615971445,
          170.12038236611113,
          177.31264510895502,
          182.75317820372044,
          186.84944474519827
         ],
         "xaxis": "x2",
         "y": [
          0,
          2.186849436348838,
          7.740329318061162,
          19.072988474442987,
          36.347994655255995,
          56.74852054966643,
          77.51930395298945,
          95.87022823023777,
          110.75325639525666,
          122.71359081356228,
          131.6830430299621,
          138.1947176343478,
          142.84219681275337,
          146.1555475368371,
          148.51311901829854
         ],
         "yaxis": "y2"
        },
        {
         "legendgroup": "test_8",
         "mode": "markers",
         "name": "Run id in Test 8",
         "type": "scatter",
         "x": [
          0,
          1.4553196405346558,
          5.745846264970134,
          16.172136437495485,
          34.67671064022556,
          58.57066013499378,
          83.3065087273045,
          105.72898824643453,
          124.44509749634368,
          139.24169506314482,
          150.50390826076975,
          158.88275265089592,
          165.05193713369445,
          169.55607062164327,
          172.82287801702037
         ],
         "xaxis": "x2",
         "y": [
          0,
          1.6109192812088562,
          5.94640496265367,
          15.45560591712351,
          30.888112524768626,
          49.82553833606166,
          69.8327469923652,
          87.064121553172,
          101.04362405681312,
          112.25350170160715,
          120.62749355645703,
          126.65836143278453,
          130.98562484703015,
          134.0980993773219,
          136.3266059620476
         ],
         "yaxis": "y2"
        },
        {
         "legendgroup": "test_9",
         "mode": "markers",
         "name": "Run id in Test 9",
         "type": "scatter",
         "x": [
          0,
          1.8253206890696088,
          6.829555224571791,
          18.279574448197184,
          38.361024117816335,
          65.14647238107932,
          94.2447821690744,
          121.97130459806723,
          146.32540899281685,
          166.62762006243048,
          182.94611833504848,
          195.67525930047435,
          205.46490282737048,
          212.9690451781578,
          218.69332923153357
         ],
         "xaxis": "x2",
         "y": [
          0,
          2.0655139280553465,
          7.2304565158521585,
          17.90418631782906,
          35.00584863153241,
          56.15852565550943,
          76.64995441371998,
          93.58039659171256,
          106.61948602014232,
          115.15888986898896,
          120.33062469870825,
          123.33165227308685,
          125.01907187930775,
          125.96692875413096,
          126.5087937646011
         ],
         "yaxis": "y2"
        },
        {
         "legendgroup": "test_10",
         "mode": "markers",
         "name": "Run id in Test 10",
         "type": "scatter",
         "x": [
          0,
          1.1623390875862771,
          4.409440947202533,
          12.199464858319589,
          26.682595991736637,
          46.92408425738573,
          69.74911784545765,
          92.31934092239872,
          112.87882510600517,
          130.5969978701169,
          145.28440753789718,
          157.14016520309832,
          166.55053242887047,
          173.9075937931368,
          179.57004361756432
         ],
         "xaxis": "x2",
         "y": [
          0,
          1.3541406164425367,
          5.088849013920316,
          13.655892274090434,
          28.283128951462327,
          46.80863265822829,
          66.18957750246167,
          82.22256736700307,
          94.70248458306571,
          103.85842873001896,
          110.15651129157662,
          114.35784661737951,
          117.21526864644541,
          119.19417771358273,
          120.56908715816377
         ],
         "yaxis": "y2"
        },
        {
         "legendgroup": "test_11",
         "mode": "markers",
         "name": "Run id in Test 11",
         "type": "scatter",
         "x": [
          0,
          2.1172702949179154,
          7.305502925025182,
          18.02605086353491,
          35.519642006796616,
          58.07810892501568,
          82.3723933094982,
          105.56179602327548,
          126.02557042848376,
          143.17744112838247,
          157.05998379428294,
          167.97662820808074,
          176.11974191251963,
          181.57186533940825,
          185.15740684204212
         ],
         "xaxis": "x2",
         "y": [
          0,
          2.313707539503146,
          8.037773820941313,
          19.53393350074597,
          37.20641502217826,
          58.58570899928671,
          80.22917049036529,
          100.0971079788525,
          115.44595762444571,
          126.6950775554448,
          134.4159083932329,
          139.6849670800605,
          143.3098093380831,
          145.82304830958705,
          147.56789430707047
         ],
         "yaxis": "y2"
        },
        {
         "legendgroup": "test_12",
         "mode": "markers",
         "name": "Run id in Test 12",
         "type": "scatter",
         "x": [
          0,
          1.6669845466734208,
          6.223705621680365,
          16.59088977088941,
          34.42835644756829,
          57.35162646503026,
          80.93980492612349,
          101.97199222804544,
          119.1024912169146,
          132.2086469137818,
          141.70604522424804,
          148.3840451309173,
          153.0930985296731,
          156.41566199650234,
          158.757799982056
         ],
         "xaxis": "x2",
         "y": [
          0,
          1.669829442923577,
          6.042741980634123,
          15.574541415325966,
          31.54293996866981,
          52.188587963442906,
          74.01767105891567,
          93.35145091223896,
          109.09974584366063,
          120.70408994516046,
          128.6496147822054,
          133.9582594362727,
          137.54842355942353,
          140.01355614174014,
          141.71970478912579
         ],
         "yaxis": "y2"
        },
        {
         "legendgroup": "test_13",
         "mode": "markers",
         "name": "Run id in Test 13",
         "type": "scatter",
         "x": [
          0,
          1.480517386218695,
          5.631300891839221,
          15.25628823233654,
          31.97882529328608,
          53.53959837438649,
          75.66593620578863,
          95.26232853471676,
          111.11015878520422,
          123.20632524569982,
          132.0670149960691,
          138.3390254866564,
          142.71585501498006,
          145.75789396620863,
          147.86540674531656
         ],
         "xaxis": "x2",
         "y": [
          0,
          1.523793613045014,
          5.6376245722266685,
          14.983810507227071,
          31.534048883620272,
          54.57458905936038,
          80.88727904526694,
          104.98004639325542,
          126.30796761628089,
          143.0968433341371,
          155.17359857407428,
          163.5329601848216,
          169.32965716569322,
          173.39361674343675,
          176.26004958454104
         ],
         "yaxis": "y2"
        },
        {
         "legendgroup": "test_14",
         "mode": "markers",
         "name": "Run id in Test 14",
         "type": "scatter",
         "x": [
          0,
          1.5721519049958252,
          5.468812184864578,
          13.767322353810854,
          27.867271337341503,
          46.58830393438672,
          66.93456569631056,
          86.22762971965741,
          102.96809255545382,
          116.65593838561732,
          127.3741122464817,
          135.45641475699983,
          141.40764098599195,
          145.79082291889162,
          149.01718551175938
         ],
         "xaxis": "x2",
         "y": [
          0,
          1.7360751559875038,
          6.28337842261949,
          16.281521132555646,
          33.34183428117419,
          56.057732647255726,
          81.07228537734163,
          102.8917668848482,
          120.7469165299718,
          134.22166160057054,
          143.55143551402185,
          149.79202096896455,
          154.00191055440598,
          156.89065514708952,
          158.88416778634615
         ],
         "yaxis": "y2"
        },
        {
         "legendgroup": "test_15",
         "mode": "markers",
         "name": "Run id in Test 15",
         "type": "scatter",
         "x": [
          0,
          2.280356634684465,
          7.812798471789079,
          18.919758526955192,
          36.24342981960826,
          57.50669578617706,
          79.40540226064152,
          99.5274386937432,
          116.69715637471636,
          130.63477911991845,
          141.67892666222323,
          150.31070315704335,
          156.97640134345704,
          162.0746371518185,
          165.94506113740152
         ],
         "xaxis": "x2",
         "y": [
          0,
          2.240075668392222,
          7.8554140873761735,
          19.14377075630813,
          36.12598461606582,
          55.96427507841763,
          75.88490482296362,
          94.3872108659941,
          108.93286821065983,
          120.25821842503368,
          128.56240160019246,
          134.57373299451265,
          138.90570633406944,
          142.01895035281885,
          144.24396684226377
         ],
         "yaxis": "y2"
        },
        {
         "legendgroup": "test_16",
         "mode": "markers",
         "name": "Run id in Test 16",
         "type": "scatter",
         "x": [
          0,
          2.7019171141585354,
          10.14257170143317,
          25.952339979578465,
          50.05769408008341,
          77.9687704938532,
          105.0579405178387,
          128.66524614140488,
          147.89251612956977,
          162.878155087556,
          174.23036359112152,
          182.68235949974505,
          188.89180975560112,
          193.4054853992409,
          196.6582813915627
         ],
         "xaxis": "x2",
         "y": [
          0,
          2.3560254875639104,
          8.201712924819772,
          19.81877405835697,
          37.00055394319575,
          56.39568413695061,
          74.86394021689689,
          91.01370857107344,
          102.71274092348554,
          111.29698558844294,
          117.32719524285423,
          121.55786072716633,
          124.51665475250137,
          126.58830197273882,
          128.03369973876065
         ],
         "yaxis": "y2"
        },
        {
         "legendgroup": "test_17",
         "mode": "markers",
         "name": "Run id in Test 17",
         "type": "scatter",
         "x": [
          0,
          1.8779094088172577,
          6.379040692614926,
          15.682901265397506,
          31.02196122153285,
          50.71519426730839,
          71.24796684377188,
          89.63539028590327,
          104.21879198709198,
          114.5249885013283,
          121.3952226335185,
          126.0695701950539,
          129.3196645816352,
          131.6152102822434,
          133.25419096856038
         ],
         "xaxis": "x2",
         "y": [
          0,
          2.3750634768833687,
          8.175515591302489,
          19.519987355743538,
          36.10104664016763,
          54.26673169095867,
          69.65572686244256,
          82.54073144876811,
          91.18547454622984,
          96.24714421235036,
          99.08948616652188,
          100.71141018633446,
          101.5995585919333,
          102.06556293524966,
          102.30620506520944
         ],
         "yaxis": "y2"
        },
        {
         "legendgroup": "test_18",
         "mode": "markers",
         "name": "Run id in Test 18",
         "type": "scatter",
         "x": [
          0,
          2.032527999671584,
          7.3575136815364255,
          18.857802036212608,
          37.84865876590555,
          61.97018562355187,
          87.23460245441795,
          110.61493495356896,
          130.5744118175516,
          146.63986274564618,
          159.29214245571052,
          169.21694855690444,
          176.93654779895664,
          182.8910817568976,
          187.45209020865843
         ],
         "xaxis": "x2",
         "y": [
          0,
          2.2180454201211193,
          7.676244255036005,
          18.560231208568215,
          35.05230843517939,
          54.16886834346558,
          71.69396871325964,
          87.1749248260239,
          98.31363642063482,
          105.3762161618083,
          109.61364879165927,
          112.18594100186448,
          113.76502776875552,
          114.74201751679746,
          115.3558076459598
         ],
         "yaxis": "y2"
        }
       ],
       "layout": {
        "annotations": [
         {
          "font": {
           "size": 16
          },
          "showarrow": false,
          "text": "Train Set - X:Lac <br> R^2 = 0.912 <br> Abs RMSE = 10.18 <br> Rel RMSE = 0.205",
          "x": 0.225,
          "xanchor": "center",
          "xref": "paper",
          "y": 1,
          "yanchor": "bottom",
          "yref": "paper"
         },
         {
          "font": {
           "size": 16
          },
          "showarrow": false,
          "text": "Test Set - X:Lac <br> R^2 = 0.858 <br> Abs RMSE = 23.299 <br> Rel RMSE = 0.349",
          "x": 0.775,
          "xanchor": "center",
          "xref": "paper",
          "y": 1,
          "yanchor": "bottom",
          "yref": "paper"
         }
        ],
        "shapes": [
         {
          "layer": "above",
          "line": {
           "dash": "dash"
          },
          "type": "line",
          "x0": 0,
          "x1": 168.0481662547013,
          "y0": 0,
          "y1": 168.0481662547013
         },
         {
          "layer": "above",
          "line": {
           "dash": "dash"
          },
          "type": "line",
          "x0": 0,
          "x1": 176.26004958454104,
          "xref": "x2",
          "y0": 0,
          "y1": 176.26004958454104,
          "yref": "y2"
         }
        ],
        "template": {
         "data": {
          "bar": [
           {
            "error_x": {
             "color": "#2a3f5f"
            },
            "error_y": {
             "color": "#2a3f5f"
            },
            "marker": {
             "line": {
              "color": "white",
              "width": 0.5
             },
             "pattern": {
              "fillmode": "overlay",
              "size": 10,
              "solidity": 0.2
             }
            },
            "type": "bar"
           }
          ],
          "barpolar": [
           {
            "marker": {
             "line": {
              "color": "white",
              "width": 0.5
             },
             "pattern": {
              "fillmode": "overlay",
              "size": 10,
              "solidity": 0.2
             }
            },
            "type": "barpolar"
           }
          ],
          "carpet": [
           {
            "aaxis": {
             "endlinecolor": "#2a3f5f",
             "gridcolor": "#C8D4E3",
             "linecolor": "#C8D4E3",
             "minorgridcolor": "#C8D4E3",
             "startlinecolor": "#2a3f5f"
            },
            "baxis": {
             "endlinecolor": "#2a3f5f",
             "gridcolor": "#C8D4E3",
             "linecolor": "#C8D4E3",
             "minorgridcolor": "#C8D4E3",
             "startlinecolor": "#2a3f5f"
            },
            "type": "carpet"
           }
          ],
          "choropleth": [
           {
            "colorbar": {
             "outlinewidth": 0,
             "ticks": ""
            },
            "type": "choropleth"
           }
          ],
          "contour": [
           {
            "colorbar": {
             "outlinewidth": 0,
             "ticks": ""
            },
            "colorscale": [
             [
              0,
              "#0d0887"
             ],
             [
              0.1111111111111111,
              "#46039f"
             ],
             [
              0.2222222222222222,
              "#7201a8"
             ],
             [
              0.3333333333333333,
              "#9c179e"
             ],
             [
              0.4444444444444444,
              "#bd3786"
             ],
             [
              0.5555555555555556,
              "#d8576b"
             ],
             [
              0.6666666666666666,
              "#ed7953"
             ],
             [
              0.7777777777777778,
              "#fb9f3a"
             ],
             [
              0.8888888888888888,
              "#fdca26"
             ],
             [
              1,
              "#f0f921"
             ]
            ],
            "type": "contour"
           }
          ],
          "contourcarpet": [
           {
            "colorbar": {
             "outlinewidth": 0,
             "ticks": ""
            },
            "type": "contourcarpet"
           }
          ],
          "heatmap": [
           {
            "colorbar": {
             "outlinewidth": 0,
             "ticks": ""
            },
            "colorscale": [
             [
              0,
              "#0d0887"
             ],
             [
              0.1111111111111111,
              "#46039f"
             ],
             [
              0.2222222222222222,
              "#7201a8"
             ],
             [
              0.3333333333333333,
              "#9c179e"
             ],
             [
              0.4444444444444444,
              "#bd3786"
             ],
             [
              0.5555555555555556,
              "#d8576b"
             ],
             [
              0.6666666666666666,
              "#ed7953"
             ],
             [
              0.7777777777777778,
              "#fb9f3a"
             ],
             [
              0.8888888888888888,
              "#fdca26"
             ],
             [
              1,
              "#f0f921"
             ]
            ],
            "type": "heatmap"
           }
          ],
          "heatmapgl": [
           {
            "colorbar": {
             "outlinewidth": 0,
             "ticks": ""
            },
            "colorscale": [
             [
              0,
              "#0d0887"
             ],
             [
              0.1111111111111111,
              "#46039f"
             ],
             [
              0.2222222222222222,
              "#7201a8"
             ],
             [
              0.3333333333333333,
              "#9c179e"
             ],
             [
              0.4444444444444444,
              "#bd3786"
             ],
             [
              0.5555555555555556,
              "#d8576b"
             ],
             [
              0.6666666666666666,
              "#ed7953"
             ],
             [
              0.7777777777777778,
              "#fb9f3a"
             ],
             [
              0.8888888888888888,
              "#fdca26"
             ],
             [
              1,
              "#f0f921"
             ]
            ],
            "type": "heatmapgl"
           }
          ],
          "histogram": [
           {
            "marker": {
             "pattern": {
              "fillmode": "overlay",
              "size": 10,
              "solidity": 0.2
             }
            },
            "type": "histogram"
           }
          ],
          "histogram2d": [
           {
            "colorbar": {
             "outlinewidth": 0,
             "ticks": ""
            },
            "colorscale": [
             [
              0,
              "#0d0887"
             ],
             [
              0.1111111111111111,
              "#46039f"
             ],
             [
              0.2222222222222222,
              "#7201a8"
             ],
             [
              0.3333333333333333,
              "#9c179e"
             ],
             [
              0.4444444444444444,
              "#bd3786"
             ],
             [
              0.5555555555555556,
              "#d8576b"
             ],
             [
              0.6666666666666666,
              "#ed7953"
             ],
             [
              0.7777777777777778,
              "#fb9f3a"
             ],
             [
              0.8888888888888888,
              "#fdca26"
             ],
             [
              1,
              "#f0f921"
             ]
            ],
            "type": "histogram2d"
           }
          ],
          "histogram2dcontour": [
           {
            "colorbar": {
             "outlinewidth": 0,
             "ticks": ""
            },
            "colorscale": [
             [
              0,
              "#0d0887"
             ],
             [
              0.1111111111111111,
              "#46039f"
             ],
             [
              0.2222222222222222,
              "#7201a8"
             ],
             [
              0.3333333333333333,
              "#9c179e"
             ],
             [
              0.4444444444444444,
              "#bd3786"
             ],
             [
              0.5555555555555556,
              "#d8576b"
             ],
             [
              0.6666666666666666,
              "#ed7953"
             ],
             [
              0.7777777777777778,
              "#fb9f3a"
             ],
             [
              0.8888888888888888,
              "#fdca26"
             ],
             [
              1,
              "#f0f921"
             ]
            ],
            "type": "histogram2dcontour"
           }
          ],
          "mesh3d": [
           {
            "colorbar": {
             "outlinewidth": 0,
             "ticks": ""
            },
            "type": "mesh3d"
           }
          ],
          "parcoords": [
           {
            "line": {
             "colorbar": {
              "outlinewidth": 0,
              "ticks": ""
             }
            },
            "type": "parcoords"
           }
          ],
          "pie": [
           {
            "automargin": true,
            "type": "pie"
           }
          ],
          "scatter": [
           {
            "fillpattern": {
             "fillmode": "overlay",
             "size": 10,
             "solidity": 0.2
            },
            "type": "scatter"
           }
          ],
          "scatter3d": [
           {
            "line": {
             "colorbar": {
              "outlinewidth": 0,
              "ticks": ""
             }
            },
            "marker": {
             "colorbar": {
              "outlinewidth": 0,
              "ticks": ""
             }
            },
            "type": "scatter3d"
           }
          ],
          "scattercarpet": [
           {
            "marker": {
             "colorbar": {
              "outlinewidth": 0,
              "ticks": ""
             }
            },
            "type": "scattercarpet"
           }
          ],
          "scattergeo": [
           {
            "marker": {
             "colorbar": {
              "outlinewidth": 0,
              "ticks": ""
             }
            },
            "type": "scattergeo"
           }
          ],
          "scattergl": [
           {
            "marker": {
             "colorbar": {
              "outlinewidth": 0,
              "ticks": ""
             }
            },
            "type": "scattergl"
           }
          ],
          "scattermapbox": [
           {
            "marker": {
             "colorbar": {
              "outlinewidth": 0,
              "ticks": ""
             }
            },
            "type": "scattermapbox"
           }
          ],
          "scatterpolar": [
           {
            "marker": {
             "colorbar": {
              "outlinewidth": 0,
              "ticks": ""
             }
            },
            "type": "scatterpolar"
           }
          ],
          "scatterpolargl": [
           {
            "marker": {
             "colorbar": {
              "outlinewidth": 0,
              "ticks": ""
             }
            },
            "type": "scatterpolargl"
           }
          ],
          "scatterternary": [
           {
            "marker": {
             "colorbar": {
              "outlinewidth": 0,
              "ticks": ""
             }
            },
            "type": "scatterternary"
           }
          ],
          "surface": [
           {
            "colorbar": {
             "outlinewidth": 0,
             "ticks": ""
            },
            "colorscale": [
             [
              0,
              "#0d0887"
             ],
             [
              0.1111111111111111,
              "#46039f"
             ],
             [
              0.2222222222222222,
              "#7201a8"
             ],
             [
              0.3333333333333333,
              "#9c179e"
             ],
             [
              0.4444444444444444,
              "#bd3786"
             ],
             [
              0.5555555555555556,
              "#d8576b"
             ],
             [
              0.6666666666666666,
              "#ed7953"
             ],
             [
              0.7777777777777778,
              "#fb9f3a"
             ],
             [
              0.8888888888888888,
              "#fdca26"
             ],
             [
              1,
              "#f0f921"
             ]
            ],
            "type": "surface"
           }
          ],
          "table": [
           {
            "cells": {
             "fill": {
              "color": "#EBF0F8"
             },
             "line": {
              "color": "white"
             }
            },
            "header": {
             "fill": {
              "color": "#C8D4E3"
             },
             "line": {
              "color": "white"
             }
            },
            "type": "table"
           }
          ]
         },
         "layout": {
          "annotationdefaults": {
           "arrowcolor": "#2a3f5f",
           "arrowhead": 0,
           "arrowwidth": 1
          },
          "autotypenumbers": "strict",
          "coloraxis": {
           "colorbar": {
            "outlinewidth": 0,
            "ticks": ""
           }
          },
          "colorscale": {
           "diverging": [
            [
             0,
             "#8e0152"
            ],
            [
             0.1,
             "#c51b7d"
            ],
            [
             0.2,
             "#de77ae"
            ],
            [
             0.3,
             "#f1b6da"
            ],
            [
             0.4,
             "#fde0ef"
            ],
            [
             0.5,
             "#f7f7f7"
            ],
            [
             0.6,
             "#e6f5d0"
            ],
            [
             0.7,
             "#b8e186"
            ],
            [
             0.8,
             "#7fbc41"
            ],
            [
             0.9,
             "#4d9221"
            ],
            [
             1,
             "#276419"
            ]
           ],
           "sequential": [
            [
             0,
             "#0d0887"
            ],
            [
             0.1111111111111111,
             "#46039f"
            ],
            [
             0.2222222222222222,
             "#7201a8"
            ],
            [
             0.3333333333333333,
             "#9c179e"
            ],
            [
             0.4444444444444444,
             "#bd3786"
            ],
            [
             0.5555555555555556,
             "#d8576b"
            ],
            [
             0.6666666666666666,
             "#ed7953"
            ],
            [
             0.7777777777777778,
             "#fb9f3a"
            ],
            [
             0.8888888888888888,
             "#fdca26"
            ],
            [
             1,
             "#f0f921"
            ]
           ],
           "sequentialminus": [
            [
             0,
             "#0d0887"
            ],
            [
             0.1111111111111111,
             "#46039f"
            ],
            [
             0.2222222222222222,
             "#7201a8"
            ],
            [
             0.3333333333333333,
             "#9c179e"
            ],
            [
             0.4444444444444444,
             "#bd3786"
            ],
            [
             0.5555555555555556,
             "#d8576b"
            ],
            [
             0.6666666666666666,
             "#ed7953"
            ],
            [
             0.7777777777777778,
             "#fb9f3a"
            ],
            [
             0.8888888888888888,
             "#fdca26"
            ],
            [
             1,
             "#f0f921"
            ]
           ]
          },
          "colorway": [
           "#636efa",
           "#EF553B",
           "#00cc96",
           "#ab63fa",
           "#FFA15A",
           "#19d3f3",
           "#FF6692",
           "#B6E880",
           "#FF97FF",
           "#FECB52"
          ],
          "font": {
           "color": "#2a3f5f"
          },
          "geo": {
           "bgcolor": "white",
           "lakecolor": "white",
           "landcolor": "white",
           "showlakes": true,
           "showland": true,
           "subunitcolor": "#C8D4E3"
          },
          "hoverlabel": {
           "align": "left"
          },
          "hovermode": "closest",
          "mapbox": {
           "style": "light"
          },
          "paper_bgcolor": "white",
          "plot_bgcolor": "white",
          "polar": {
           "angularaxis": {
            "gridcolor": "#EBF0F8",
            "linecolor": "#EBF0F8",
            "ticks": ""
           },
           "bgcolor": "white",
           "radialaxis": {
            "gridcolor": "#EBF0F8",
            "linecolor": "#EBF0F8",
            "ticks": ""
           }
          },
          "scene": {
           "xaxis": {
            "backgroundcolor": "white",
            "gridcolor": "#DFE8F3",
            "gridwidth": 2,
            "linecolor": "#EBF0F8",
            "showbackground": true,
            "ticks": "",
            "zerolinecolor": "#EBF0F8"
           },
           "yaxis": {
            "backgroundcolor": "white",
            "gridcolor": "#DFE8F3",
            "gridwidth": 2,
            "linecolor": "#EBF0F8",
            "showbackground": true,
            "ticks": "",
            "zerolinecolor": "#EBF0F8"
           },
           "zaxis": {
            "backgroundcolor": "white",
            "gridcolor": "#DFE8F3",
            "gridwidth": 2,
            "linecolor": "#EBF0F8",
            "showbackground": true,
            "ticks": "",
            "zerolinecolor": "#EBF0F8"
           }
          },
          "shapedefaults": {
           "line": {
            "color": "#2a3f5f"
           }
          },
          "ternary": {
           "aaxis": {
            "gridcolor": "#DFE8F3",
            "linecolor": "#A2B1C6",
            "ticks": ""
           },
           "baxis": {
            "gridcolor": "#DFE8F3",
            "linecolor": "#A2B1C6",
            "ticks": ""
           },
           "bgcolor": "white",
           "caxis": {
            "gridcolor": "#DFE8F3",
            "linecolor": "#A2B1C6",
            "ticks": ""
           }
          },
          "title": {
           "x": 0.05
          },
          "xaxis": {
           "automargin": true,
           "gridcolor": "#EBF0F8",
           "linecolor": "#EBF0F8",
           "ticks": "",
           "title": {
            "standoff": 15
           },
           "zerolinecolor": "#EBF0F8",
           "zerolinewidth": 2
          },
          "yaxis": {
           "automargin": true,
           "gridcolor": "#EBF0F8",
           "linecolor": "#EBF0F8",
           "ticks": "",
           "title": {
            "standoff": 15
           },
           "zerolinecolor": "#EBF0F8",
           "zerolinewidth": 2
          }
         }
        },
        "width": 1600,
        "xaxis": {
         "anchor": "y",
         "domain": [
          0,
          0.45
         ],
         "title": {
          "text": "Observed values"
         }
        },
        "xaxis2": {
         "anchor": "y2",
         "domain": [
          0.55,
          1
         ],
         "title": {
          "text": "Observed values"
         }
        },
        "yaxis": {
         "anchor": "x",
         "domain": [
          0,
          1
         ],
         "title": {
          "text": "Predicted values"
         }
        },
        "yaxis2": {
         "anchor": "x2",
         "domain": [
          0,
          1
         ],
         "title": {
          "text": "Predicted values"
         }
        }
       }
      }
     },
     "metadata": {},
     "output_type": "display_data"
    },
    {
     "data": {
      "application/vnd.plotly.v1+json": {
       "config": {
        "plotlyServerURL": "https://plot.ly"
       },
       "data": [
        {
         "legendgroup": "train_0",
         "mode": "markers",
         "name": "Run id in Train 0",
         "type": "scatter",
         "x": [
          0,
          0.092797611632703,
          1.3613322223015707,
          11.344886505251033,
          52.28927236583092,
          140.5961579864852,
          259.3251210897019,
          375.5879131278478,
          466.0614611226992,
          525.1008308953583,
          559.5121702665116,
          578.501989557713,
          588.7503117163226,
          594.2341048016712,
          597.15618596249
         ],
         "xaxis": "x",
         "y": [
          0,
          0.09797567529285522,
          1.7816684846802,
          15.533931914867662,
          68.57413075033165,
          177.80786819635233,
          322.49465997772893,
          467.03335427942307,
          582.4968699636728,
          674.7178608121153,
          743.8949678767607,
          788.733659656417,
          817.4210187992444,
          836.0922122458264,
          849.0925230193952
         ],
         "yaxis": "y"
        },
        {
         "legendgroup": "train_1",
         "mode": "markers",
         "name": "Run id in Train 1",
         "type": "scatter",
         "x": [
          0,
          0.0438814612801809,
          0.6754926172763417,
          6.144508366864772,
          32.89209616429462,
          103.50902716060114,
          216.84466709892055,
          346.44671755061927,
          463.7142285131992,
          551.6325993334557,
          608.2207631731609,
          641.4045985098942,
          660.0958645554078,
          670.481486260618,
          676.2162592557202
         ],
         "xaxis": "x",
         "y": [
          0,
          0.06644611490536967,
          1.0924403137218777,
          10.696037521224817,
          54.39025555260363,
          154.4007092313027,
          293.32026841956275,
          432.1717006909477,
          536.234669741293,
          633.8517110758524,
          704.3425534011427,
          746.4189054156794,
          771.5479169982145,
          786.9892472402669,
          798.1513174092589
         ],
         "yaxis": "y"
        },
        {
         "legendgroup": "train_2",
         "mode": "markers",
         "name": "Run id in Train 2",
         "type": "scatter",
         "x": [
          0,
          0.0805992014021038,
          1.8724719368459048,
          19.41861755313492,
          91.75328005105564,
          241.06314503965848,
          434.5519776483289,
          619.9756875720175,
          761.4441456682614,
          851.6236464360761,
          903.333097571553,
          931.7008737773178,
          947.0117744048353,
          955.2202498945722,
          959.6058930504475
         ],
         "xaxis": "x",
         "y": [
          0,
          0.08041994200781342,
          1.4538960478506902,
          13.389295757568762,
          62.89973560377505,
          170.04686059013525,
          314.1374378914876,
          453.87493858856755,
          557.6145792426349,
          645.7460753542454,
          701.3086378946628,
          732.0258954908282,
          748.9326220855494,
          758.397875054746,
          764.8138628779748
         ],
         "yaxis": "y"
        },
        {
         "legendgroup": "train_3",
         "mode": "markers",
         "name": "Run id in Train 3",
         "type": "scatter",
         "x": [
          0,
          0.100395228326079,
          2.471584704867094,
          20.810314349562,
          75.25006587798005,
          155.21180957123823,
          231.3966660922219,
          288.1189053801796,
          325.0105400678119,
          347.3566646464407,
          360.4174988213081,
          367.9092782306117,
          372.1621491359598,
          374.5625824428543,
          375.9131407266119
         ],
         "xaxis": "x",
         "y": [
          0,
          0.10240187865827967,
          2.347967110676384,
          20.213080460854826,
          79.54970903941957,
          177.00487475929083,
          276.4789022658603,
          355.9464962637265,
          417.20297982868,
          458.00076826323806,
          482.4923190425995,
          500.595811706315,
          513.6469106027104,
          522.6902511258907,
          527.7197705883781
         ],
         "yaxis": "y"
        },
        {
         "legendgroup": "train_4",
         "mode": "markers",
         "name": "Run id in Train 4",
         "type": "scatter",
         "x": [
          0,
          0.1292531886788032,
          2.811811054279715,
          23.20550382163473,
          91.22866564904736,
          213.66138340861409,
          360.48179504747,
          495.63502362499145,
          597.2236779261053,
          662.0367074378605,
          700.2481804040611,
          722.5010954289212,
          735.4205903119163,
          742.9151800957571,
          747.2620778238343
         ],
         "xaxis": "x",
         "y": [
          0,
          0.13386931062691426,
          2.698152597085201,
          22.048654462785592,
          86.82201286545524,
          201.41065317464538,
          330.36636149250484,
          436.296391298288,
          508.1131527357419,
          557.758398605783,
          573.0931606121832,
          576.8837568789834,
          575.8826961377674,
          573.1283132159043,
          570.6879846315514
         ],
         "yaxis": "y"
        },
        {
         "legendgroup": "train_5",
         "mode": "markers",
         "name": "Run id in Train 5",
         "type": "scatter",
         "x": [
          0,
          0.1191344970680277,
          2.2379543730029474,
          17.6686268146821,
          70.79210067044147,
          170.7629621239597,
          293.6414359032689,
          406.8318234868232,
          490.7890370390738,
          543.5352893767821,
          573.8362605087634,
          590.8523186228688,
          600.3258243064748,
          605.5779966984201,
          608.4835154549434
         ],
         "xaxis": "x",
         "y": [
          0,
          0.1460670057387567,
          3.004917728733044,
          24.423080237978656,
          94.77415722745263,
          218.44244791838415,
          361.32803361411123,
          487.1629668675965,
          584.1834138998954,
          639.2736723631486,
          662.1627193784617,
          674.3295753503359,
          680.5556528392888,
          683.4871497206586,
          684.308070686525
         ],
         "yaxis": "y"
        },
        {
         "legendgroup": "train_6",
         "mode": "markers",
         "name": "Run id in Train 6",
         "type": "scatter",
         "x": [
          0,
          0.0684760856557625,
          1.419909024026719,
          12.974359746806352,
          60.01220329000836,
          161.81840299179677,
          300.87029124327046,
          440.31555861369503,
          552.4775099714313,
          628.9702012520282,
          675.981959241405,
          703.4448217414291,
          719.1329460060222,
          728.0050414796943,
          732.9958800156783
         ],
         "xaxis": "x",
         "y": [
          0,
          0.06831607759380165,
          1.5672764342703633,
          15.07858808397488,
          69.1276766092543,
          180.59387566636536,
          325.57461920503545,
          464.1389426787394,
          571.6039985185082,
          638.7028462347321,
          676.9370198694926,
          696.1589658355457,
          704.9230300761259,
          708.1247950555991,
          706.6916740851937
         ],
         "yaxis": "y"
        },
        {
         "legendgroup": "train_7",
         "mode": "markers",
         "name": "Run id in Train 7",
         "type": "scatter",
         "x": [
          0,
          0.1012025981276605,
          2.7202639401550184,
          25.946291951340097,
          104.55968898992953,
          237.42432217784472,
          385.7596767399676,
          515.6947127178214,
          611.4373805988364,
          671.5705931211872,
          704.2589949515327,
          720.6883271094672,
          728.8537430043472,
          732.9016580530529,
          734.9060666799251
         ],
         "xaxis": "x",
         "y": [
          0,
          0.07561447917200009,
          1.699378319665379,
          16.07996625264103,
          71.79173484461408,
          184.55365998570826,
          334.62380876868696,
          489.2100669080414,
          623.8964661991197,
          711.2374023220249,
          773.3632805273475,
          816.8480752375827,
          846.9858933808314,
          867.751537770475,
          880.2872541230674
         ],
         "yaxis": "y"
        },
        {
         "legendgroup": "train_8",
         "mode": "markers",
         "name": "Run id in Train 8",
         "type": "scatter",
         "x": [
          0,
          0.0851032436703326,
          1.6658115757244931,
          14.546461217109194,
          61.856051928684174,
          151.27308669024367,
          259.1592993253078,
          357.334846431788,
          431.0590970254083,
          479.022153470829,
          508.0532921590253,
          525.365934354859,
          535.6297084406955,
          541.6976620375669,
          545.27993727455
         ],
         "xaxis": "x",
         "y": [
          0,
          0.0795092342216687,
          1.8668891915781225,
          17.300402130810518,
          73.4592749528856,
          177.95427411911587,
          307.7441952230727,
          439.9176880695269,
          561.1527097333869,
          641.493464343846,
          704.3749113571266,
          753.7797111256779,
          791.1882189085152,
          818.7686937852752,
          836.9808016174683
         ],
         "yaxis": "y"
        },
        {
         "legendgroup": "train_9",
         "mode": "markers",
         "name": "Run id in Train 9",
         "type": "scatter",
         "x": [
          0,
          0.1028398753471017,
          2.103522354496929,
          19.1988180976768,
          85.1350472831614,
          219.1183953406561,
          393.9596615083559,
          564.5612087274179,
          699.1155234613333,
          788.6518291426167,
          842.1815810738857,
          873.2435171883614,
          891.1142870152056,
          901.354027797561,
          907.2091784828596
         ],
         "xaxis": "x",
         "y": [
          0,
          0.1111529872310834,
          2.316495224015755,
          19.983258807632573,
          83.24597867770551,
          205.11696133372874,
          359.62833719194344,
          507.54071547640405,
          626.7439518631238,
          701.5152419348428,
          740.0561451856662,
          762.7349240335159,
          776.380370119888,
          784.6489149916754,
          789.095979726599
         ],
         "yaxis": "y"
        },
        {
         "legendgroup": "train_10",
         "mode": "markers",
         "name": "Run id in Train 10",
         "type": "scatter",
         "x": [
          0,
          0.1470472010409363,
          2.9395090312997345,
          23.907085129044823,
          94.4340857277404,
          222.15876723868627,
          376.173402702402,
          519.0120298827978,
          629.2136941295797,
          703.9973447636482,
          751.0994673201072,
          779.894701007298,
          797.2898945846578,
          807.7290935704646,
          813.9704468733556
         ],
         "xaxis": "x",
         "y": [
          0,
          0.16008687852093434,
          3.0672305241198172,
          24.240584064020997,
          93.10047883894276,
          214.37445106661664,
          355.90527009706165,
          484.1558991121509,
          584.5641121681706,
          652.7128040712697,
          694.9502626600292,
          722.6178427505118,
          740.3693523556306,
          751.9102490899995,
          760.3748015155757
         ],
         "yaxis": "y"
        },
        {
         "legendgroup": "train_11",
         "mode": "markers",
         "name": "Run id in Train 11",
         "type": "scatter",
         "x": [
          0,
          0.0556307506924713,
          1.1065410833519418,
          10.442983811546242,
          49.7319003225286,
          136.7043717804452,
          257.8011614687863,
          382.7422886002216,
          487.86676658106586,
          562.6715615249985,
          608.3546958190284,
          633.1935451255907,
          646.0518497587835,
          652.6518651413129,
          656.027854624254
         ],
         "xaxis": "x",
         "y": [
          0,
          0.04574338142158102,
          1.0303209907286701,
          11.547132515274276,
          59.77490122738269,
          170.84994543020804,
          333.96159007782177,
          513.4765203582872,
          672.7068126709507,
          783.7426429685033,
          868.4127388423859,
          927.3312725539732,
          968.071425506401,
          996.2707019886516,
          1014.1156445496829
         ],
         "yaxis": "y"
        },
        {
         "legendgroup": "train_12",
         "mode": "markers",
         "name": "Run id in Train 12",
         "type": "scatter",
         "x": [
          0,
          0.0957275931281071,
          2.1989010548873216,
          21.008466194877247,
          90.19693953948467,
          219.60531486072665,
          377.135888175285,
          525.2129981916805,
          641.1756714731843,
          717.6803021019153,
          762.8002614230991,
          789.3356986651899,
          805.0428185578367,
          814.3821516360006,
          819.9510724635422
         ],
         "xaxis": "x",
         "y": [
          0,
          0.08300213298612331,
          1.7643796161746241,
          16.271461675439706,
          71.98570549556035,
          184.21509320087154,
          330.6945076755795,
          474.58212927015444,
          591.8527078957395,
          675.0766809782535,
          723.2568688325113,
          753.642426590618,
          773.5401992190638,
          786.7778706672427,
          795.328984986516
         ],
         "yaxis": "y"
        },
        {
         "legendgroup": "train_13",
         "mode": "markers",
         "name": "Run id in Train 13",
         "type": "scatter",
         "x": [
          0,
          0.126685644391205,
          2.709713044740282,
          22.88392124144616,
          89.20221911536494,
          206.81176871007776,
          349.61302693672366,
          489.0196357593948,
          608.4666855907725,
          701.9356498165585,
          771.8164492794015,
          823.2980027038677,
          860.7887955412502,
          887.8549193392146,
          907.272589700129
         ],
         "xaxis": "x",
         "y": [
          0,
          0.11000644229097081,
          2.155946212509729,
          18.65163981289089,
          79.4757928276339,
          201.41493836276152,
          362.5680151933635,
          522.1896739535534,
          652.1571899877808,
          744.3441783973109,
          795.1749612108225,
          826.8818021424013,
          847.5791058854267,
          861.4877372194129,
          871.6249579170533
         ],
         "yaxis": "y"
        },
        {
         "legendgroup": "train_14",
         "mode": "markers",
         "name": "Run id in Train 14",
         "type": "scatter",
         "x": [
          0,
          0.1013702250456762,
          2.1058490748674403,
          16.59441652082327,
          62.97895653051971,
          141.93107867311176,
          230.2050203966937,
          305.7669497866212,
          360.0731727576222,
          394.9735315102163,
          416.0051240570907,
          428.30285971623033,
          435.3986662484396,
          439.46310823492814,
          441.7818145495612
         ],
         "xaxis": "x",
         "y": [
          0,
          0.10872397872797522,
          2.492492328034051,
          21.56183339096523,
          86.24921311174664,
          200.26014479143868,
          334.23611369584023,
          462.50449389749707,
          576.2829570926484,
          636.9187244465853,
          681.5264649066606,
          715.7752103176513,
          740.5826934950943,
          757.9475980892555,
          767.294655967889
         ],
         "yaxis": "y"
        },
        {
         "legendgroup": "train_15",
         "mode": "markers",
         "name": "Run id in Train 15",
         "type": "scatter",
         "x": [
          0,
          0.1976090037256626,
          3.3927702387124063,
          23.636949194399804,
          85.44917827364986,
          192.50718606697797,
          317.79233973405417,
          430.2661527934913,
          514.6981721858238,
          571.6594039805899,
          608.0504186881034,
          630.7055391847287,
          644.6239133496756,
          653.1090738546142,
          658.2585534546254
         ],
         "xaxis": "x",
         "y": [
          0,
          0.15610661756907923,
          3.04174335998941,
          24.102011360954585,
          92.71536378379992,
          212.60687489629044,
          347.38348638547876,
          459.26547313418996,
          536.3019333432655,
          587.0551979804636,
          606.8753471534459,
          614.0437940336941,
          614.9864244957732,
          613.3181864483865,
          611.6650272616334
         ],
         "yaxis": "y"
        },
        {
         "legendgroup": "train_16",
         "mode": "markers",
         "name": "Run id in Train 16",
         "type": "scatter",
         "x": [
          0,
          0.0681559838030328,
          1.809073710788191,
          18.894057657289583,
          87.87411848503078,
          222.15306394539576,
          380.1302377633172,
          514.2524370799309,
          606.4384514608811,
          662.7223667936963,
          695.555548054108,
          714.351100475548,
          725.0061572878042,
          731.0154172257579,
          734.395042279861
         ],
         "xaxis": "x",
         "y": [
          0,
          0.08461271250090863,
          1.9019961308874558,
          17.200882189648322,
          72.97097351888496,
          176.51957774664328,
          297.50181802290746,
          402.18889747239285,
          478.6304933856009,
          534.7769785677234,
          557.977213064524,
          569.3159449689766,
          575.1841276689051,
          578.0972337317432,
          579.1052838240641
         ],
         "yaxis": "y"
        },
        {
         "legendgroup": "train_17",
         "mode": "markers",
         "name": "Run id in Train 17",
         "type": "scatter",
         "x": [
          0,
          0.0523875912045667,
          1.0849335710743253,
          12.397227255057013,
          66.70721155080555,
          188.80699893000047,
          348.628846772129,
          496.08738150173247,
          601.4153982598878,
          663.0960593211578,
          695.1996723973907,
          711.1167021937663,
          718.8884764897649,
          722.6619862234576,
          724.4893742827281
         ],
         "xaxis": "x",
         "y": [
          0,
          0.049081531884225274,
          0.9477359930050983,
          10.280423488236243,
          53.61896959396242,
          151.81652283735912,
          287.53497679138303,
          424.21715568743065,
          530.9412667036813,
          624.0007739308936,
          688.9025589114774,
          728.8685976609115,
          753.8882618665333,
          769.909043786737,
          780.6914140024777
         ],
         "yaxis": "y"
        },
        {
         "legendgroup": "train_18",
         "mode": "markers",
         "name": "Run id in Train 18",
         "type": "scatter",
         "x": [
          0,
          0.1639102116690734,
          3.8162534234110383,
          31.58840454920204,
          114.39074843849652,
          241.3088462821016,
          370.4678011577989,
          471.1031059119348,
          535.6510464509408,
          572.128189881369,
          591.4918214759558,
          601.5111889632029,
          606.6413906815634,
          609.2569591728045,
          610.5876432724958
         ],
         "xaxis": "x",
         "y": [
          0,
          0.1179294443155473,
          2.263542281905861,
          18.916165424885442,
          78.03444394199188,
          190.6915283071004,
          330.9648244127826,
          465.7880795478622,
          573.7754034522517,
          650.9074236278354,
          709.2405233075727,
          747.5991546046275,
          771.9759822381242,
          787.5461350474307,
          797.5210181909201
         ],
         "yaxis": "y"
        },
        {
         "legendgroup": "train_19",
         "mode": "markers",
         "name": "Run id in Train 19",
         "type": "scatter",
         "x": [
          0,
          0.0505855307401332,
          0.7731813124812714,
          7.184421272127962,
          37.25298009873588,
          115.1935842742996,
          242.32338018719167,
          394.73911488863234,
          545.1012315383621,
          674.650318014126,
          773.6935723337805,
          841.3285038140069,
          886.4955483862935,
          916.9128576810516,
          937.5175526384209
         ],
         "xaxis": "x",
         "y": [
          0,
          0.058135748804102695,
          1.09206196655563,
          11.607889514823494,
          60.445405891272664,
          176.8763847624442,
          352.6110946024527,
          546.929282415595,
          715.9801419068276,
          841.34680825502,
          931.6227562396732,
          992.7889727315387,
          1034.6380286561398,
          1063.657629949239,
          1083.7040611203174
         ],
         "yaxis": "y"
        },
        {
         "legendgroup": "train_20",
         "mode": "markers",
         "name": "Run id in Train 20",
         "type": "scatter",
         "x": [
          0,
          0.0915554388125294,
          1.4366858757504155,
          11.928970502230491,
          53.67457630212952,
          146.1927370451157,
          280.04669851927497,
          428.060670855728,
          566.6052658898965,
          682.1106352455298,
          770.8251180076209,
          837.8042548390449,
          888.0843487843646,
          925.6076691649102,
          953.4701546514614
         ],
         "xaxis": "x",
         "y": [
          0,
          0.09755267427308915,
          1.8549280211603105,
          16.508013582074977,
          72.91622594586836,
          190.20661312433063,
          351.0842130139523,
          518.5119406917506,
          660.8608200706716,
          767.0462490081874,
          838.956950341489,
          888.2930320205664,
          922.5742846331044,
          946.7142845848406,
          964.4155316441643
         ],
         "yaxis": "y"
        },
        {
         "legendgroup": "train_21",
         "mode": "markers",
         "name": "Run id in Train 21",
         "type": "scatter",
         "x": [
          0,
          0.0454423452358374,
          1.1013957732707498,
          11.683792867331864,
          56.45241865774136,
          146.59492034354986,
          256.76227566297626,
          357.042961240522,
          434.29519153866727,
          488.4943856651632,
          524.5699907625919,
          547.8640170424655,
          562.6401568767717,
          571.9132370136097,
          577.6950160457868
         ],
         "xaxis": "x",
         "y": [
          0,
          0.0580952787069761,
          1.3486710727189397,
          13.232023587113577,
          59.903909028411796,
          149.03037502568827,
          253.8179495493779,
          348.7393704765371,
          421.7031722765429,
          483.1628613367212,
          530.8954013937981,
          562.5839213339189,
          583.3146926621206,
          596.793278143092,
          604.6001707677942
         ],
         "yaxis": "y"
        },
        {
         "legendgroup": "train_22",
         "mode": "markers",
         "name": "Run id in Train 22",
         "type": "scatter",
         "x": [
          0,
          0.1684018704459252,
          2.606331206432606,
          19.23471850074958,
          74.87373864573715,
          179.35310787462046,
          310.5416686503349,
          437.6163948606052,
          538.702308905668,
          604.4739001907734,
          639.9806594585657,
          657.8477494723851,
          666.7818276304306,
          671.2398888749135,
          673.4624594029277
         ],
         "xaxis": "x",
         "y": [
          0,
          0.16237089434596605,
          2.949890786525579,
          23.164546171427535,
          91.24591566278798,
          219.03949582039678,
          377.113553628519,
          522.108307256681,
          629.1817001957869,
          707.5777810084993,
          747.4463803139831,
          768.1818094243225,
          778.6279607678939,
          783.9343572982283,
          788.7142449674199
         ],
         "yaxis": "y"
        },
        {
         "legendgroup": "train_23",
         "mode": "markers",
         "name": "Run id in Train 23",
         "type": "scatter",
         "x": [
          0,
          0.1334153595382972,
          3.089811960997721,
          27.012303141427168,
          110.80710225753842,
          270.82588859452034,
          479.7627554821577,
          695.7189975420514,
          877.4831874852433,
          907.5016715520344,
          907.5016724299692,
          907.5016724128424,
          907.5016728258174,
          907.5016722078176,
          907.5016722025266
         ],
         "xaxis": "x",
         "y": [
          0,
          0.1376714913337216,
          2.9527231887892977,
          24.96998499281375,
          100.16875699709445,
          242.61696202131162,
          431.72867723655173,
          631.2146977850348,
          815.712853019588,
          914.1862283469907,
          975.8108144690735,
          1023.2817031971433,
          1058.9601708377959,
          1085.1917913819964,
          1102.0672591612406
         ],
         "yaxis": "y"
        },
        {
         "legendgroup": "train_24",
         "mode": "markers",
         "name": "Run id in Train 24",
         "type": "scatter",
         "x": [
          0,
          0.0369718156697984,
          0.9843644085661748,
          11.378321165942422,
          57.80677261386413,
          155.02627221181052,
          280.2945376719491,
          402.580036516236,
          502.8883556795072,
          574.7531920548328,
          620.5670310436815,
          647.3382193397189,
          662.3512320247443,
          670.6982324838854,
          675.3226654764776
         ],
         "xaxis": "x",
         "y": [
          0,
          0.029039049420042692,
          0.8778171763820266,
          10.577545403709513,
          54.03189662169767,
          145.89138160969344,
          268.11674528670005,
          396.13988681044407,
          509.4983225582383,
          591.659355012256,
          663.380700206146,
          715.2672665074829,
          751.7261682221263,
          776.9838431059097,
          791.8337013644549
         ],
         "yaxis": "y"
        },
        {
         "legendgroup": "train_25",
         "mode": "markers",
         "name": "Run id in Train 25",
         "type": "scatter",
         "x": [
          0,
          0.0824634762215527,
          2.106321376398896,
          19.494379182753804,
          80.96977513457726,
          193.14884215415083,
          330.34750602465067,
          464.3260998614456,
          578.1431088131873,
          664.9211108119922,
          724.4296973700812,
          762.1044464931385,
          785.9051598723119,
          801.0661711958087,
          810.7803554335553
         ],
         "xaxis": "x",
         "y": [
          0,
          0.0739619194090356,
          1.8035200771247442,
          16.979572687037766,
          73.27247906527829,
          180.1478859158298,
          314.3060930633944,
          450.05126546531096,
          572.1547496957018,
          645.8100447226873,
          704.5184005306592,
          748.5878060068402,
          780.3254883924317,
          802.6321892379592,
          815.3685935906982
         ],
         "yaxis": "y"
        },
        {
         "legendgroup": "train_26",
         "mode": "markers",
         "name": "Run id in Train 26",
         "type": "scatter",
         "x": [
          0,
          0.0284541274614131,
          0.5820223432530234,
          6.243765512138137,
          33.54192272798116,
          95.7967587677016,
          176.9765461921374,
          252.0034454564192,
          309.1011638220337,
          348.13441142469685,
          373.2674247500301,
          388.9065408698552,
          398.44813971650825,
          404.2023419943497,
          407.6489052838648
         ],
         "xaxis": "x",
         "y": [
          0,
          0.03501401663192819,
          0.985599286707704,
          11.069795986817816,
          54.221918723035685,
          140.44715366258484,
          244.1762178144802,
          337.60901576208374,
          407.3875086759268,
          467.21886826662325,
          507.77618000791813,
          532.6185132267897,
          548.0616479325012,
          557.579431245751,
          562.1609168875701
         ],
         "yaxis": "y"
        },
        {
         "legendgroup": "train_27",
         "mode": "markers",
         "name": "Run id in Train 27",
         "type": "scatter",
         "x": [
          0,
          0.0847442285126015,
          1.8321463933308135,
          17.45268543252457,
          79.80588660557672,
          207.9115678201446,
          378.0310948876776,
          552.8292276347343,
          706.0849494132782,
          825.0656926101584,
          906.9088163843452,
          959.7680106177736,
          994.3155994053012,
          1017.1483683080728,
          1032.349344219952
         ],
         "xaxis": "x",
         "y": [
          0,
          0.09452858062883186,
          1.969937666724244,
          17.558676581394053,
          75.3369739239248,
          188.79387247102687,
          335.4598179925342,
          482.07144958897527,
          605.9580862384267,
          689.9877886992799,
          747.9622823702354,
          787.6924759083932,
          814.7550105387986,
          833.2157206878559,
          845.036015169488
         ],
         "yaxis": "y"
        },
        {
         "legendgroup": "train_28",
         "mode": "markers",
         "name": "Run id in Train 28",
         "type": "scatter",
         "x": [
          0,
          0.0747824078450999,
          1.2639312147458257,
          13.00186146318898,
          70.58783726161896,
          210.9075187039407,
          421.1963222355897,
          658.0917502549977,
          885.2096724093011,
          1083.6428215968845,
          1247.6241983466907,
          1378.0567228950367,
          1478.6919325567635,
          1554.9066628685762,
          1611.8217044951684
         ],
         "xaxis": "x",
         "y": [
          0,
          0.07085288993740371,
          1.331068527276754,
          13.05169504980228,
          63.0661267312072,
          174.99142067096733,
          338.6058959523784,
          521.2938591534129,
          685.7311889580294,
          808.7391444474274,
          908.7636604980498,
          981.3013609536165,
          1033.033742572342,
          1069.9513586625312,
          1095.9361035088937
         ],
         "yaxis": "y"
        },
        {
         "legendgroup": "train_29",
         "mode": "markers",
         "name": "Run id in Train 29",
         "type": "scatter",
         "x": [
          0,
          0.0859524653968408,
          1.846390635216046,
          18.67091729832891,
          87.11387435191574,
          225.6003779933273,
          406.4929073714057,
          591.3090014757036,
          755.4719921287747,
          889.1227508376217,
          990.981130417612,
          1063.1641902209965,
          1110.2595402503275,
          1140.86081707277,
          1161.0101694475163
         ],
         "xaxis": "x",
         "y": [
          0,
          0.12348024219259635,
          2.345577870442424,
          19.43098447108968,
          79.7440179175971,
          194.97415631233392,
          339.8553263227062,
          480.97722469488804,
          595.5699226955538,
          676.0261115736391,
          738.0892375627628,
          779.4593084969104,
          806.0348945154773,
          823.1963305093284,
          834.3218208456559
         ],
         "yaxis": "y"
        },
        {
         "legendgroup": "train_30",
         "mode": "markers",
         "name": "Run id in Train 30",
         "type": "scatter",
         "x": [
          0,
          0.0645331313775414,
          1.5034420274973632,
          15.75627268661195,
          78.22802333351575,
          217.76119069005108,
          421.132071656061,
          654.4556643476976,
          887.4757676941509,
          1101.0355474430337,
          1286.199613214318,
          1439.9333577788136,
          1562.796556866039,
          1655.794318501114,
          1705.8431496804849
         ],
         "xaxis": "x",
         "y": [
          0,
          0.06174078179747393,
          1.623458034010927,
          15.985151422344563,
          70.9346032734083,
          177.64189244092782,
          314.523270480152,
          455.43085802028656,
          583.6997208845495,
          659.6772752976339,
          719.4007632361087,
          764.2982821911747,
          796.8068841828173,
          819.7328402452947,
          832.4762291968283
         ],
         "yaxis": "y"
        },
        {
         "legendgroup": "test_0",
         "mode": "markers",
         "name": "Run id in Test 0",
         "type": "scatter",
         "x": [
          0,
          0.164105508211151,
          3.6737447861367754,
          35.32186247671071,
          154.34678831320295,
          387.7950784521392,
          693.7864209487878,
          1013.615495248714,
          1308.0461540356737,
          1559.5112502067666,
          1764.0166792193825,
          1924.0159855683603,
          2045.8920299168967,
          2138.039188646103,
          2207.3227092050597
         ],
         "xaxis": "x2",
         "y": [
          0,
          0.13766772709078412,
          2.6996595738111395,
          22.489286656460038,
          92.84979146435832,
          233.7993939028123,
          425.24248220859533,
          622.7799784037176,
          791.9581287465617,
          889.5553438341251,
          951.1690025019043,
          991.1185825194904,
          1016.5960052152436,
          1032.9546668265436,
          1042.4762412065518
         ],
         "yaxis": "y2"
        },
        {
         "legendgroup": "test_1",
         "mode": "markers",
         "name": "Run id in Test 1",
         "type": "scatter",
         "x": [
          0,
          0.0763700634007142,
          1.2004047047372728,
          10.769047562231066,
          55.331509943793534,
          169.67881535568202,
          356.9149807868821,
          587.3658271878509,
          826.3777227138344,
          1049.7114958711982,
          1245.9405162620585,
          1411.3748743127069,
          1546.3862233793775,
          1653.611268198273,
          1736.5908399465277
         ],
         "xaxis": "x2",
         "y": [
          0,
          0.10561897179134615,
          2.238347823657214,
          19.66292148872843,
          81.86221040238745,
          200.91187185217345,
          356.70123348129636,
          520.2717994662888,
          670.0240403874147,
          767.2670470172889,
          837.8152116068784,
          892.1784607936511,
          933.0589629410323,
          963.2748979447207,
          984.3113158262425
         ],
         "yaxis": "y2"
        },
        {
         "legendgroup": "test_2",
         "mode": "markers",
         "name": "Run id in Test 2",
         "type": "scatter",
         "x": [
          0,
          0.0854355568288807,
          1.6092625643264258,
          15.15306007085573,
          73.21962446854067,
          204.75841445857023,
          398.2225074477981,
          618.5671629053375,
          834.8994407537554,
          1028.7815128523432,
          1191.952374312491,
          1323.1237497744814,
          1427.1505262970163,
          1509.177096006116,
          1573.4842264771685
         ],
         "xaxis": "x2",
         "y": [
          0,
          0.07418456105125332,
          1.497724779831087,
          14.435585120429513,
          67.35629957007738,
          181.68443302898802,
          345.114798508391,
          525.4961116900897,
          688.9939496924292,
          804.2350776579694,
          896.0110817477129,
          963.1348963823949,
          1011.2988846165586,
          1045.7276875602315,
          1069.271227394956
         ],
         "yaxis": "y2"
        },
        {
         "legendgroup": "test_3",
         "mode": "markers",
         "name": "Run id in Test 3",
         "type": "scatter",
         "x": [
          0,
          0.0532844883797582,
          1.1745834254072027,
          12.400110906230712,
          64.33322629187558,
          186.9762484824127,
          370.7059655837582,
          580.4291461413053,
          784.4388717931332,
          964.694945425899,
          1113.2574886158343,
          1206.3258825585165,
          1206.325890023906,
          1206.3258900094436,
          1206.3258900076912
         ],
         "xaxis": "x2",
         "y": [
          0,
          0.07558705936699511,
          1.6917994800679192,
          16.070310911945782,
          71.15749059242516,
          181.35038438041784,
          330.27464020806923,
          492.3872642808994,
          644.2543681720715,
          746.3825325786294,
          829.7540752194748,
          894.3717647816607,
          942.7509094380933,
          978.289206674359,
          1002.3387957036009
         ],
         "yaxis": "y2"
        },
        {
         "legendgroup": "test_4",
         "mode": "markers",
         "name": "Run id in Test 4",
         "type": "scatter",
         "x": [
          0,
          0.1271028978965827,
          3.043268173982997,
          28.535584577172003,
          116.56093471808562,
          271.0820879759505,
          454.3992159877672,
          629.9846449120229,
          777.5049250060061,
          889.0424907203862,
          965.8903434918803,
          1018.7426183492312,
          1055.7385430042384,
          1081.8878031673305,
          1100.471520461802
         ],
         "xaxis": "x2",
         "y": [
          0,
          0.12895676633140257,
          2.5890029544501956,
          21.242172057936074,
          83.34650825134592,
          191.43330171310143,
          313.1392046156188,
          420.37773675457083,
          503.8273444580184,
          564.3907525985951,
          605.1014690040181,
          632.965657995009,
          651.6341279694519,
          664.1491596185974,
          672.7975311346557
         ],
         "yaxis": "y2"
        },
        {
         "legendgroup": "test_5",
         "mode": "markers",
         "name": "Run id in Test 5",
         "type": "scatter",
         "x": [
          0,
          0.030935924736293,
          0.804162343449244,
          10.870548517297646,
          65.22768655509961,
          195.8585375096484,
          380.0010361514075,
          573.2161531583585,
          744.9282135378564,
          881.5839367271855,
          980.1323846987966,
          1043.8984122969127,
          1083.679069018441,
          1108.8968951501029,
          1125.052087317103
         ],
         "xaxis": "x2",
         "y": [
          0,
          0.023395598034711862,
          0.7402730297642353,
          9.736261043290394,
          52.74404215101082,
          149.02826417200856,
          283.7649058651069,
          427.9477429369653,
          555.0168240605259,
          647.1884344524082,
          721.1253147156715,
          773.2419723917233,
          809.5645502330433,
          834.6925673067897,
          849.7300706365866
         ],
         "yaxis": "y2"
        },
        {
         "legendgroup": "test_6",
         "mode": "markers",
         "name": "Run id in Test 6",
         "type": "scatter",
         "x": [
          0,
          0.1544111652934467,
          3.7599944327811374,
          32.09025603312709,
          125.87188314534892,
          296.2627151898705,
          514.158742340626,
          743.343236146268,
          958.7202578978104,
          1147.7971737836272,
          1306.3166571781155,
          1434.1989079569498,
          1533.80175002571,
          1606.8302417039786,
          1642.45281821088
         ],
         "xaxis": "x2",
         "y": [
          0,
          0.11709520028039325,
          2.646319577323675,
          22.933226717696844,
          92.76371495832655,
          222.40915369822835,
          389.15687645643743,
          563.1281842554909,
          725.580794684838,
          810.1866458575755,
          871.1577014600252,
          919.0979432890908,
          954.9286082967458,
          980.9052782562835,
          996.3670405210523
         ],
         "yaxis": "y2"
        },
        {
         "legendgroup": "test_7",
         "mode": "markers",
         "name": "Run id in Test 7",
         "type": "scatter",
         "x": [
          0,
          0.1286279523117829,
          2.342442711201244,
          20.45181017599882,
          88.7824526964827,
          226.36982620800097,
          411.3388964710858,
          608.2362445845563,
          791.3387220952158,
          948.0160994755988,
          1074.6884871389736,
          1173.7661017215894,
          1250.2321253331695,
          1308.6545890123389,
          1352.9446842650268
         ],
         "xaxis": "x2",
         "y": [
          0,
          0.12075767164948314,
          2.512969126582906,
          21.39904200583009,
          86.7529865687183,
          209.09248184114193,
          367.3012126561913,
          534.431514894441,
          689.7946637715899,
          784.4667603915887,
          861.4667346613571,
          921.6316088077366,
          966.3330622694089,
          998.886142544122,
          1020.6654773514223
         ],
         "yaxis": "y2"
        },
        {
         "legendgroup": "test_8",
         "mode": "markers",
         "name": "Run id in Test 8",
         "type": "scatter",
         "x": [
          0,
          0.0394649376441817,
          1.139667969188726,
          15.14525494943351,
          86.48169581613604,
          251.5004556721223,
          483.3663578645889,
          731.0518874452288,
          958.0819454950264,
          1148.0484050576056,
          1297.9680603092725,
          1411.989486887015,
          1497.089986665622,
          1559.7604330226195,
          1605.464984209573
         ],
         "xaxis": "x2",
         "y": [
          0,
          0.04269745596658436,
          1.209136905342759,
          13.192125880773235,
          62.91380951162357,
          165.42932883327663,
          304.9403581838716,
          457.3340202383278,
          600.8735070852285,
          694.4383650656641,
          773.1825516070926,
          833.7814966694842,
          878.7603655490675,
          911.375286837427,
          931.6940113081448
         ],
         "yaxis": "y2"
        },
        {
         "legendgroup": "test_9",
         "mode": "markers",
         "name": "Run id in Test 9",
         "type": "scatter",
         "x": [
          0,
          0.1036825935213099,
          1.8759111567395288,
          18.21704051387724,
          91.8183531595854,
          260.8827697220299,
          506.8788143193637,
          781.838227586801,
          1046.7682798947126,
          1280.778709654132,
          1476.298589359522,
          1632.8559662496232,
          1755.007587791339,
          1849.4347546111003,
          1921.8083818131652
         ],
         "xaxis": "x2",
         "y": [
          0,
          0.1321937431287428,
          2.3706625094991667,
          19.30772949923127,
          80.07908896164729,
          200.5050436292683,
          355.95167044463676,
          505.0495495646985,
          618.6844251133075,
          705.2188322062929,
          760.3329525400508,
          792.4450157775516,
          810.8023999981863,
          821.5285880940427,
          829.3543444734572
         ],
         "yaxis": "y2"
        },
        {
         "legendgroup": "test_10",
         "mode": "markers",
         "name": "Run id in Test 10",
         "type": "scatter",
         "x": [
          0,
          0.033277931111437,
          0.8132238560741042,
          10.333914533136843,
          62.58970950350485,
          199.69882318846916,
          417.1718619309535,
          676.330732512661,
          939.1524970150888,
          1180.983227181542,
          1390.170136335851,
          1563.3064485232628,
          1701.95789351015,
          1809.547328888428,
          1888.9141371741127
         ],
         "xaxis": "x2",
         "y": [
          0,
          0.012245891892956842,
          0.6253242420069394,
          9.20820189131523,
          51.2253323053861,
          144.7792990088981,
          273.88065440979483,
          410.06583954550763,
          529.6791142216637,
          614.6652082867593,
          680.2754781042587,
          726.1960429855063,
          758.2085769816936,
          780.270761929328,
          792.6352535913567
         ],
         "yaxis": "y2"
        },
        {
         "legendgroup": "test_11",
         "mode": "markers",
         "name": "Run id in Test 11",
         "type": "scatter",
         "x": [
          0,
          0.1118108026724597,
          2.1126090047105106,
          18.77205000238081,
          84.87085727760795,
          228.50531207380084,
          435.6558878139516,
          668.8032561927158,
          895.4518317980693,
          1097.2160759654264,
          1265.227919580515,
          1394.4376892168991,
          1438.9121368714896,
          1438.912136900354,
          1438.9121368621752
         ],
         "xaxis": "x2",
         "y": [
          0,
          0.12975990907930707,
          2.7195178071689083,
          22.965174500223753,
          92.81836052574798,
          224.80961885938729,
          395.2349272984112,
          567.7054965793469,
          719.3667882950842,
          805.800617031553,
          858.682429558784,
          896.50062322066,
          923.2939534917945,
          942.1272663106289,
          953.9490861228045
         ],
         "yaxis": "y2"
        },
        {
         "legendgroup": "test_12",
         "mode": "markers",
         "name": "Run id in Test 12",
         "type": "scatter",
         "x": [
          0,
          0.0650874739368107,
          1.33934994937356,
          14.466734103189973,
          74.60934099159422,
          210.60068625199736,
          400.4768112958397,
          600.4514122099282,
          779.6668898642205,
          924.9762614027202,
          1034.1850931258248,
          1112.6561662642366,
          1168.7389344412495,
          1208.6574097766354,
          1236.961352495897
         ],
         "xaxis": "x2",
         "y": [
          0,
          0.0674849715736341,
          1.442283775275577,
          14.21510582586473,
          66.96748916966284,
          180.54472424887408,
          339.5213991590203,
          507.9262807945449,
          654.1411126748192,
          756.0402701207449,
          827.5020471576096,
          876.6280370567799,
          910.5614302378483,
          934.0983928245159,
          949.4357016300637
         ],
         "yaxis": "y2"
        },
        {
         "legendgroup": "test_13",
         "mode": "markers",
         "name": "Run id in Test 13",
         "type": "scatter",
         "x": [
          0,
          0.0775713556726022,
          1.3323293824109703,
          13.675349791909884,
          68.84965330185243,
          191.6274019310073,
          360.435675788076,
          535.5707719825474,
          690.6325828391189,
          815.7192240186338,
          910.6561554434476,
          979.3800966114234,
          1027.9620633680902,
          1062.0100828210157,
          1085.7278565677673
         ],
         "xaxis": "x2",
         "y": [
          0,
          0.06173323587555084,
          1.1845167826732417,
          12.458323429008953,
          63.860030954326,
          186.6338621417093,
          376.6607793725655,
          595.2328151504603,
          795.0751681163221,
          935.0886979458392,
          1042.7331316952661,
          1120.0921353196575,
          1175.258615424819,
          1214.6695826747525,
          1241.8779551813313
         ],
         "yaxis": "y2"
        },
        {
         "legendgroup": "test_14",
         "mode": "markers",
         "name": "Run id in Test 14",
         "type": "scatter",
         "x": [
          0,
          0.0517799844637069,
          1.086017356632279,
          10.953844898091484,
          56.06492889396038,
          164.49730247146377,
          329.47200094091767,
          518.7518362879913,
          702.481563411152,
          863.5033810962298,
          995.3919363718366,
          1097.8754581461646,
          1174.7778141402418,
          1232.1150002821148,
          1274.6722418448528
         ],
         "xaxis": "x2",
         "y": [
          0,
          0.05281577572477953,
          1.290575051518789,
          13.723684658861437,
          67.48889951264204,
          187.85292582968458,
          363.4769685696642,
          556.829758315949,
          731.3428568682092,
          838.6425849655942,
          917.7084698953979,
          972.9706289724998,
          1011.1237676379594,
          1037.309797545245,
          1052.3259084636938
         ],
         "yaxis": "y2"
        },
        {
         "legendgroup": "test_15",
         "mode": "markers",
         "name": "Run id in Test 15",
         "type": "scatter",
         "x": [
          0,
          0.1361134959845262,
          2.6268201833203086,
          21.642315591586733,
          89.4840394645475,
          222.56113837595285,
          399.9869344495684,
          588.6737236471344,
          764.3372780584056,
          914.8719254835776,
          1038.1910250151227,
          1136.6450456489808,
          1213.7180222972656,
          1273.1816989334352,
          1318.5711304394208
         ],
         "xaxis": "x2",
         "y": [
          0,
          0.12419684055048202,
          2.663996833468449,
          22.661467232638508,
          90.76905171865829,
          215.70653105173034,
          373.7677465962246,
          536.0511420453164,
          685.0561891869629,
          772.3160665645169,
          833.6475935948838,
          881.7870839149058,
          918.1874581654216,
          945.0509170916929,
          963.0041699424569
         ],
         "yaxis": "y2"
        },
        {
         "legendgroup": "test_16",
         "mode": "markers",
         "name": "Run id in Test 16",
         "type": "scatter",
         "x": [
          0,
          0.1362308657826228,
          3.654487690374856,
          34.36181495157046,
          139.22423207103105,
          324.2249193901656,
          547.5729611224215,
          766.7489930376987,
          958.032953531586,
          1113.7222927520452,
          1234.6344053119324,
          1325.7252821108657,
          1392.8975301434723,
          1441.6081870195858,
          1476.45971619891
         ],
         "xaxis": "x2",
         "y": [
          0,
          0.12853198821562306,
          2.7904333041473377,
          23.422019091263326,
          92.12292153403034,
          213.49866913555644,
          358.32622113051445,
          497.8963984562056,
          620.7863415646407,
          688.0582553803481,
          732.8898886164344,
          766.954750315931,
          791.7545497892531,
          809.3475979256893,
          819.8554492588511
         ],
         "yaxis": "y2"
        },
        {
         "legendgroup": "test_17",
         "mode": "markers",
         "name": "Run id in Test 17",
         "type": "scatter",
         "x": [
          0,
          0.1209844545950259,
          1.790459973586387,
          15.062004598489736,
          70.40081805213595,
          194.2446126265813,
          370.6859520919911,
          558.8980739372003,
          723.9285624251402,
          847.5534122940699,
          932.7547948854268,
          991.88244658216,
          1033.514902644962,
          1063.166767801361,
          1084.4591115920357
         ],
         "xaxis": "x2",
         "y": [
          0,
          0.16846882799095142,
          3.1771111744002307,
          24.698828401078305,
          93.35125361814801,
          210.75410003842165,
          340.57925857118914,
          448.52221835702,
          524.0649452141719,
          581.9790031192156,
          610.7523881258332,
          626.720361763083,
          635.3888578878644,
          640.1888530146721,
          644.8097454201771
         ],
         "yaxis": "y2"
        },
        {
         "legendgroup": "test_18",
         "mode": "markers",
         "name": "Run id in Test 18",
         "type": "scatter",
         "x": [
          0,
          0.1158097614343491,
          2.4298058155113016,
          22.931589171885257,
          105.12860666256104,
          277.55532956507454,
          514.4363622699755,
          769.2833019750905,
          1006.9721084599564,
          1208.9999155922717,
          1373.4060550266352,
          1505.043116798952,
          1608.756647966356,
          1689.3747441247992,
          1751.382462301726
         ],
         "xaxis": "x2",
         "y": [
          0,
          0.14352744269955556,
          2.7775060411721246,
          22.45805365402277,
          88.57067618073062,
          208.73138073381116,
          352.10948054570196,
          481.3998860431422,
          579.4898940054877,
          649.1975776356554,
          683.8404154943461,
          703.866954109902,
          715.7445642038118,
          723.0125820859506,
          728.7157581012459
         ],
         "yaxis": "y2"
        }
       ],
       "layout": {
        "annotations": [
         {
          "font": {
           "size": 16
          },
          "showarrow": false,
          "text": "Train Set - X:Titer <br> R^2 = 0.828 <br> Abs RMSE = 104.742 <br> Rel RMSE = 0.291",
          "x": 0.225,
          "xanchor": "center",
          "xref": "paper",
          "y": 1,
          "yanchor": "bottom",
          "yref": "paper"
         },
         {
          "font": {
           "size": 16
          },
          "showarrow": false,
          "text": "Test Set - X:Titer <br> R^2 = 0.698 <br> Abs RMSE = 311.53 <br> Rel RMSE = 0.521",
          "x": 0.775,
          "xanchor": "center",
          "xref": "paper",
          "y": 1,
          "yanchor": "bottom",
          "yref": "paper"
         }
        ],
        "shapes": [
         {
          "layer": "above",
          "line": {
           "dash": "dash"
          },
          "type": "line",
          "x0": 0,
          "x1": 1102.0672591612406,
          "y0": 0,
          "y1": 1102.0672591612406
         },
         {
          "layer": "above",
          "line": {
           "dash": "dash"
          },
          "type": "line",
          "x0": 0,
          "x1": 1241.8779551813313,
          "xref": "x2",
          "y0": 0,
          "y1": 1241.8779551813313,
          "yref": "y2"
         }
        ],
        "template": {
         "data": {
          "bar": [
           {
            "error_x": {
             "color": "#2a3f5f"
            },
            "error_y": {
             "color": "#2a3f5f"
            },
            "marker": {
             "line": {
              "color": "white",
              "width": 0.5
             },
             "pattern": {
              "fillmode": "overlay",
              "size": 10,
              "solidity": 0.2
             }
            },
            "type": "bar"
           }
          ],
          "barpolar": [
           {
            "marker": {
             "line": {
              "color": "white",
              "width": 0.5
             },
             "pattern": {
              "fillmode": "overlay",
              "size": 10,
              "solidity": 0.2
             }
            },
            "type": "barpolar"
           }
          ],
          "carpet": [
           {
            "aaxis": {
             "endlinecolor": "#2a3f5f",
             "gridcolor": "#C8D4E3",
             "linecolor": "#C8D4E3",
             "minorgridcolor": "#C8D4E3",
             "startlinecolor": "#2a3f5f"
            },
            "baxis": {
             "endlinecolor": "#2a3f5f",
             "gridcolor": "#C8D4E3",
             "linecolor": "#C8D4E3",
             "minorgridcolor": "#C8D4E3",
             "startlinecolor": "#2a3f5f"
            },
            "type": "carpet"
           }
          ],
          "choropleth": [
           {
            "colorbar": {
             "outlinewidth": 0,
             "ticks": ""
            },
            "type": "choropleth"
           }
          ],
          "contour": [
           {
            "colorbar": {
             "outlinewidth": 0,
             "ticks": ""
            },
            "colorscale": [
             [
              0,
              "#0d0887"
             ],
             [
              0.1111111111111111,
              "#46039f"
             ],
             [
              0.2222222222222222,
              "#7201a8"
             ],
             [
              0.3333333333333333,
              "#9c179e"
             ],
             [
              0.4444444444444444,
              "#bd3786"
             ],
             [
              0.5555555555555556,
              "#d8576b"
             ],
             [
              0.6666666666666666,
              "#ed7953"
             ],
             [
              0.7777777777777778,
              "#fb9f3a"
             ],
             [
              0.8888888888888888,
              "#fdca26"
             ],
             [
              1,
              "#f0f921"
             ]
            ],
            "type": "contour"
           }
          ],
          "contourcarpet": [
           {
            "colorbar": {
             "outlinewidth": 0,
             "ticks": ""
            },
            "type": "contourcarpet"
           }
          ],
          "heatmap": [
           {
            "colorbar": {
             "outlinewidth": 0,
             "ticks": ""
            },
            "colorscale": [
             [
              0,
              "#0d0887"
             ],
             [
              0.1111111111111111,
              "#46039f"
             ],
             [
              0.2222222222222222,
              "#7201a8"
             ],
             [
              0.3333333333333333,
              "#9c179e"
             ],
             [
              0.4444444444444444,
              "#bd3786"
             ],
             [
              0.5555555555555556,
              "#d8576b"
             ],
             [
              0.6666666666666666,
              "#ed7953"
             ],
             [
              0.7777777777777778,
              "#fb9f3a"
             ],
             [
              0.8888888888888888,
              "#fdca26"
             ],
             [
              1,
              "#f0f921"
             ]
            ],
            "type": "heatmap"
           }
          ],
          "heatmapgl": [
           {
            "colorbar": {
             "outlinewidth": 0,
             "ticks": ""
            },
            "colorscale": [
             [
              0,
              "#0d0887"
             ],
             [
              0.1111111111111111,
              "#46039f"
             ],
             [
              0.2222222222222222,
              "#7201a8"
             ],
             [
              0.3333333333333333,
              "#9c179e"
             ],
             [
              0.4444444444444444,
              "#bd3786"
             ],
             [
              0.5555555555555556,
              "#d8576b"
             ],
             [
              0.6666666666666666,
              "#ed7953"
             ],
             [
              0.7777777777777778,
              "#fb9f3a"
             ],
             [
              0.8888888888888888,
              "#fdca26"
             ],
             [
              1,
              "#f0f921"
             ]
            ],
            "type": "heatmapgl"
           }
          ],
          "histogram": [
           {
            "marker": {
             "pattern": {
              "fillmode": "overlay",
              "size": 10,
              "solidity": 0.2
             }
            },
            "type": "histogram"
           }
          ],
          "histogram2d": [
           {
            "colorbar": {
             "outlinewidth": 0,
             "ticks": ""
            },
            "colorscale": [
             [
              0,
              "#0d0887"
             ],
             [
              0.1111111111111111,
              "#46039f"
             ],
             [
              0.2222222222222222,
              "#7201a8"
             ],
             [
              0.3333333333333333,
              "#9c179e"
             ],
             [
              0.4444444444444444,
              "#bd3786"
             ],
             [
              0.5555555555555556,
              "#d8576b"
             ],
             [
              0.6666666666666666,
              "#ed7953"
             ],
             [
              0.7777777777777778,
              "#fb9f3a"
             ],
             [
              0.8888888888888888,
              "#fdca26"
             ],
             [
              1,
              "#f0f921"
             ]
            ],
            "type": "histogram2d"
           }
          ],
          "histogram2dcontour": [
           {
            "colorbar": {
             "outlinewidth": 0,
             "ticks": ""
            },
            "colorscale": [
             [
              0,
              "#0d0887"
             ],
             [
              0.1111111111111111,
              "#46039f"
             ],
             [
              0.2222222222222222,
              "#7201a8"
             ],
             [
              0.3333333333333333,
              "#9c179e"
             ],
             [
              0.4444444444444444,
              "#bd3786"
             ],
             [
              0.5555555555555556,
              "#d8576b"
             ],
             [
              0.6666666666666666,
              "#ed7953"
             ],
             [
              0.7777777777777778,
              "#fb9f3a"
             ],
             [
              0.8888888888888888,
              "#fdca26"
             ],
             [
              1,
              "#f0f921"
             ]
            ],
            "type": "histogram2dcontour"
           }
          ],
          "mesh3d": [
           {
            "colorbar": {
             "outlinewidth": 0,
             "ticks": ""
            },
            "type": "mesh3d"
           }
          ],
          "parcoords": [
           {
            "line": {
             "colorbar": {
              "outlinewidth": 0,
              "ticks": ""
             }
            },
            "type": "parcoords"
           }
          ],
          "pie": [
           {
            "automargin": true,
            "type": "pie"
           }
          ],
          "scatter": [
           {
            "fillpattern": {
             "fillmode": "overlay",
             "size": 10,
             "solidity": 0.2
            },
            "type": "scatter"
           }
          ],
          "scatter3d": [
           {
            "line": {
             "colorbar": {
              "outlinewidth": 0,
              "ticks": ""
             }
            },
            "marker": {
             "colorbar": {
              "outlinewidth": 0,
              "ticks": ""
             }
            },
            "type": "scatter3d"
           }
          ],
          "scattercarpet": [
           {
            "marker": {
             "colorbar": {
              "outlinewidth": 0,
              "ticks": ""
             }
            },
            "type": "scattercarpet"
           }
          ],
          "scattergeo": [
           {
            "marker": {
             "colorbar": {
              "outlinewidth": 0,
              "ticks": ""
             }
            },
            "type": "scattergeo"
           }
          ],
          "scattergl": [
           {
            "marker": {
             "colorbar": {
              "outlinewidth": 0,
              "ticks": ""
             }
            },
            "type": "scattergl"
           }
          ],
          "scattermapbox": [
           {
            "marker": {
             "colorbar": {
              "outlinewidth": 0,
              "ticks": ""
             }
            },
            "type": "scattermapbox"
           }
          ],
          "scatterpolar": [
           {
            "marker": {
             "colorbar": {
              "outlinewidth": 0,
              "ticks": ""
             }
            },
            "type": "scatterpolar"
           }
          ],
          "scatterpolargl": [
           {
            "marker": {
             "colorbar": {
              "outlinewidth": 0,
              "ticks": ""
             }
            },
            "type": "scatterpolargl"
           }
          ],
          "scatterternary": [
           {
            "marker": {
             "colorbar": {
              "outlinewidth": 0,
              "ticks": ""
             }
            },
            "type": "scatterternary"
           }
          ],
          "surface": [
           {
            "colorbar": {
             "outlinewidth": 0,
             "ticks": ""
            },
            "colorscale": [
             [
              0,
              "#0d0887"
             ],
             [
              0.1111111111111111,
              "#46039f"
             ],
             [
              0.2222222222222222,
              "#7201a8"
             ],
             [
              0.3333333333333333,
              "#9c179e"
             ],
             [
              0.4444444444444444,
              "#bd3786"
             ],
             [
              0.5555555555555556,
              "#d8576b"
             ],
             [
              0.6666666666666666,
              "#ed7953"
             ],
             [
              0.7777777777777778,
              "#fb9f3a"
             ],
             [
              0.8888888888888888,
              "#fdca26"
             ],
             [
              1,
              "#f0f921"
             ]
            ],
            "type": "surface"
           }
          ],
          "table": [
           {
            "cells": {
             "fill": {
              "color": "#EBF0F8"
             },
             "line": {
              "color": "white"
             }
            },
            "header": {
             "fill": {
              "color": "#C8D4E3"
             },
             "line": {
              "color": "white"
             }
            },
            "type": "table"
           }
          ]
         },
         "layout": {
          "annotationdefaults": {
           "arrowcolor": "#2a3f5f",
           "arrowhead": 0,
           "arrowwidth": 1
          },
          "autotypenumbers": "strict",
          "coloraxis": {
           "colorbar": {
            "outlinewidth": 0,
            "ticks": ""
           }
          },
          "colorscale": {
           "diverging": [
            [
             0,
             "#8e0152"
            ],
            [
             0.1,
             "#c51b7d"
            ],
            [
             0.2,
             "#de77ae"
            ],
            [
             0.3,
             "#f1b6da"
            ],
            [
             0.4,
             "#fde0ef"
            ],
            [
             0.5,
             "#f7f7f7"
            ],
            [
             0.6,
             "#e6f5d0"
            ],
            [
             0.7,
             "#b8e186"
            ],
            [
             0.8,
             "#7fbc41"
            ],
            [
             0.9,
             "#4d9221"
            ],
            [
             1,
             "#276419"
            ]
           ],
           "sequential": [
            [
             0,
             "#0d0887"
            ],
            [
             0.1111111111111111,
             "#46039f"
            ],
            [
             0.2222222222222222,
             "#7201a8"
            ],
            [
             0.3333333333333333,
             "#9c179e"
            ],
            [
             0.4444444444444444,
             "#bd3786"
            ],
            [
             0.5555555555555556,
             "#d8576b"
            ],
            [
             0.6666666666666666,
             "#ed7953"
            ],
            [
             0.7777777777777778,
             "#fb9f3a"
            ],
            [
             0.8888888888888888,
             "#fdca26"
            ],
            [
             1,
             "#f0f921"
            ]
           ],
           "sequentialminus": [
            [
             0,
             "#0d0887"
            ],
            [
             0.1111111111111111,
             "#46039f"
            ],
            [
             0.2222222222222222,
             "#7201a8"
            ],
            [
             0.3333333333333333,
             "#9c179e"
            ],
            [
             0.4444444444444444,
             "#bd3786"
            ],
            [
             0.5555555555555556,
             "#d8576b"
            ],
            [
             0.6666666666666666,
             "#ed7953"
            ],
            [
             0.7777777777777778,
             "#fb9f3a"
            ],
            [
             0.8888888888888888,
             "#fdca26"
            ],
            [
             1,
             "#f0f921"
            ]
           ]
          },
          "colorway": [
           "#636efa",
           "#EF553B",
           "#00cc96",
           "#ab63fa",
           "#FFA15A",
           "#19d3f3",
           "#FF6692",
           "#B6E880",
           "#FF97FF",
           "#FECB52"
          ],
          "font": {
           "color": "#2a3f5f"
          },
          "geo": {
           "bgcolor": "white",
           "lakecolor": "white",
           "landcolor": "white",
           "showlakes": true,
           "showland": true,
           "subunitcolor": "#C8D4E3"
          },
          "hoverlabel": {
           "align": "left"
          },
          "hovermode": "closest",
          "mapbox": {
           "style": "light"
          },
          "paper_bgcolor": "white",
          "plot_bgcolor": "white",
          "polar": {
           "angularaxis": {
            "gridcolor": "#EBF0F8",
            "linecolor": "#EBF0F8",
            "ticks": ""
           },
           "bgcolor": "white",
           "radialaxis": {
            "gridcolor": "#EBF0F8",
            "linecolor": "#EBF0F8",
            "ticks": ""
           }
          },
          "scene": {
           "xaxis": {
            "backgroundcolor": "white",
            "gridcolor": "#DFE8F3",
            "gridwidth": 2,
            "linecolor": "#EBF0F8",
            "showbackground": true,
            "ticks": "",
            "zerolinecolor": "#EBF0F8"
           },
           "yaxis": {
            "backgroundcolor": "white",
            "gridcolor": "#DFE8F3",
            "gridwidth": 2,
            "linecolor": "#EBF0F8",
            "showbackground": true,
            "ticks": "",
            "zerolinecolor": "#EBF0F8"
           },
           "zaxis": {
            "backgroundcolor": "white",
            "gridcolor": "#DFE8F3",
            "gridwidth": 2,
            "linecolor": "#EBF0F8",
            "showbackground": true,
            "ticks": "",
            "zerolinecolor": "#EBF0F8"
           }
          },
          "shapedefaults": {
           "line": {
            "color": "#2a3f5f"
           }
          },
          "ternary": {
           "aaxis": {
            "gridcolor": "#DFE8F3",
            "linecolor": "#A2B1C6",
            "ticks": ""
           },
           "baxis": {
            "gridcolor": "#DFE8F3",
            "linecolor": "#A2B1C6",
            "ticks": ""
           },
           "bgcolor": "white",
           "caxis": {
            "gridcolor": "#DFE8F3",
            "linecolor": "#A2B1C6",
            "ticks": ""
           }
          },
          "title": {
           "x": 0.05
          },
          "xaxis": {
           "automargin": true,
           "gridcolor": "#EBF0F8",
           "linecolor": "#EBF0F8",
           "ticks": "",
           "title": {
            "standoff": 15
           },
           "zerolinecolor": "#EBF0F8",
           "zerolinewidth": 2
          },
          "yaxis": {
           "automargin": true,
           "gridcolor": "#EBF0F8",
           "linecolor": "#EBF0F8",
           "ticks": "",
           "title": {
            "standoff": 15
           },
           "zerolinecolor": "#EBF0F8",
           "zerolinewidth": 2
          }
         }
        },
        "width": 1600,
        "xaxis": {
         "anchor": "y",
         "domain": [
          0,
          0.45
         ],
         "title": {
          "text": "Observed values"
         }
        },
        "xaxis2": {
         "anchor": "y2",
         "domain": [
          0.55,
          1
         ],
         "title": {
          "text": "Observed values"
         }
        },
        "yaxis": {
         "anchor": "x",
         "domain": [
          0,
          1
         ],
         "title": {
          "text": "Predicted values"
         }
        },
        "yaxis2": {
         "anchor": "x2",
         "domain": [
          0,
          1
         ],
         "title": {
          "text": "Predicted values"
         }
        }
       }
      }
     },
     "metadata": {},
     "output_type": "display_data"
    },
    {
     "data": {
      "application/vnd.plotly.v1+json": {
       "config": {
        "plotlyServerURL": "https://plot.ly"
       },
       "data": [
        {
         "marker": {
          "color": "#4C78A8"
         },
         "name": "Train Set",
         "text": [
          "0.25",
          "0.36",
          "0.20",
          "0.29"
         ],
         "textposition": "outside",
         "type": "bar",
         "x": [
          "X:VCD",
          "X:Glc",
          "X:Lac",
          "X:Titer"
         ],
         "y": [
          0.254,
          0.357,
          0.205,
          0.291
         ]
        },
        {
         "marker": {
          "color": "#F58518"
         },
         "name": "Test Set",
         "text": [
          "0.49",
          "1.23",
          "0.35",
          "0.52"
         ],
         "textposition": "outside",
         "type": "bar",
         "x": [
          "X:VCD",
          "X:Glc",
          "X:Lac",
          "X:Titer"
         ],
         "y": [
          0.492,
          1.232,
          0.349,
          0.521
         ]
        }
       ],
       "layout": {
        "barmode": "group",
        "legend": {
         "orientation": "h",
         "x": 0.5,
         "xanchor": "center",
         "y": 1.02,
         "yanchor": "bottom"
        },
        "template": {
         "data": {
          "bar": [
           {
            "error_x": {
             "color": "#2a3f5f"
            },
            "error_y": {
             "color": "#2a3f5f"
            },
            "marker": {
             "line": {
              "color": "white",
              "width": 0.5
             },
             "pattern": {
              "fillmode": "overlay",
              "size": 10,
              "solidity": 0.2
             }
            },
            "type": "bar"
           }
          ],
          "barpolar": [
           {
            "marker": {
             "line": {
              "color": "white",
              "width": 0.5
             },
             "pattern": {
              "fillmode": "overlay",
              "size": 10,
              "solidity": 0.2
             }
            },
            "type": "barpolar"
           }
          ],
          "carpet": [
           {
            "aaxis": {
             "endlinecolor": "#2a3f5f",
             "gridcolor": "#C8D4E3",
             "linecolor": "#C8D4E3",
             "minorgridcolor": "#C8D4E3",
             "startlinecolor": "#2a3f5f"
            },
            "baxis": {
             "endlinecolor": "#2a3f5f",
             "gridcolor": "#C8D4E3",
             "linecolor": "#C8D4E3",
             "minorgridcolor": "#C8D4E3",
             "startlinecolor": "#2a3f5f"
            },
            "type": "carpet"
           }
          ],
          "choropleth": [
           {
            "colorbar": {
             "outlinewidth": 0,
             "ticks": ""
            },
            "type": "choropleth"
           }
          ],
          "contour": [
           {
            "colorbar": {
             "outlinewidth": 0,
             "ticks": ""
            },
            "colorscale": [
             [
              0,
              "#0d0887"
             ],
             [
              0.1111111111111111,
              "#46039f"
             ],
             [
              0.2222222222222222,
              "#7201a8"
             ],
             [
              0.3333333333333333,
              "#9c179e"
             ],
             [
              0.4444444444444444,
              "#bd3786"
             ],
             [
              0.5555555555555556,
              "#d8576b"
             ],
             [
              0.6666666666666666,
              "#ed7953"
             ],
             [
              0.7777777777777778,
              "#fb9f3a"
             ],
             [
              0.8888888888888888,
              "#fdca26"
             ],
             [
              1,
              "#f0f921"
             ]
            ],
            "type": "contour"
           }
          ],
          "contourcarpet": [
           {
            "colorbar": {
             "outlinewidth": 0,
             "ticks": ""
            },
            "type": "contourcarpet"
           }
          ],
          "heatmap": [
           {
            "colorbar": {
             "outlinewidth": 0,
             "ticks": ""
            },
            "colorscale": [
             [
              0,
              "#0d0887"
             ],
             [
              0.1111111111111111,
              "#46039f"
             ],
             [
              0.2222222222222222,
              "#7201a8"
             ],
             [
              0.3333333333333333,
              "#9c179e"
             ],
             [
              0.4444444444444444,
              "#bd3786"
             ],
             [
              0.5555555555555556,
              "#d8576b"
             ],
             [
              0.6666666666666666,
              "#ed7953"
             ],
             [
              0.7777777777777778,
              "#fb9f3a"
             ],
             [
              0.8888888888888888,
              "#fdca26"
             ],
             [
              1,
              "#f0f921"
             ]
            ],
            "type": "heatmap"
           }
          ],
          "heatmapgl": [
           {
            "colorbar": {
             "outlinewidth": 0,
             "ticks": ""
            },
            "colorscale": [
             [
              0,
              "#0d0887"
             ],
             [
              0.1111111111111111,
              "#46039f"
             ],
             [
              0.2222222222222222,
              "#7201a8"
             ],
             [
              0.3333333333333333,
              "#9c179e"
             ],
             [
              0.4444444444444444,
              "#bd3786"
             ],
             [
              0.5555555555555556,
              "#d8576b"
             ],
             [
              0.6666666666666666,
              "#ed7953"
             ],
             [
              0.7777777777777778,
              "#fb9f3a"
             ],
             [
              0.8888888888888888,
              "#fdca26"
             ],
             [
              1,
              "#f0f921"
             ]
            ],
            "type": "heatmapgl"
           }
          ],
          "histogram": [
           {
            "marker": {
             "pattern": {
              "fillmode": "overlay",
              "size": 10,
              "solidity": 0.2
             }
            },
            "type": "histogram"
           }
          ],
          "histogram2d": [
           {
            "colorbar": {
             "outlinewidth": 0,
             "ticks": ""
            },
            "colorscale": [
             [
              0,
              "#0d0887"
             ],
             [
              0.1111111111111111,
              "#46039f"
             ],
             [
              0.2222222222222222,
              "#7201a8"
             ],
             [
              0.3333333333333333,
              "#9c179e"
             ],
             [
              0.4444444444444444,
              "#bd3786"
             ],
             [
              0.5555555555555556,
              "#d8576b"
             ],
             [
              0.6666666666666666,
              "#ed7953"
             ],
             [
              0.7777777777777778,
              "#fb9f3a"
             ],
             [
              0.8888888888888888,
              "#fdca26"
             ],
             [
              1,
              "#f0f921"
             ]
            ],
            "type": "histogram2d"
           }
          ],
          "histogram2dcontour": [
           {
            "colorbar": {
             "outlinewidth": 0,
             "ticks": ""
            },
            "colorscale": [
             [
              0,
              "#0d0887"
             ],
             [
              0.1111111111111111,
              "#46039f"
             ],
             [
              0.2222222222222222,
              "#7201a8"
             ],
             [
              0.3333333333333333,
              "#9c179e"
             ],
             [
              0.4444444444444444,
              "#bd3786"
             ],
             [
              0.5555555555555556,
              "#d8576b"
             ],
             [
              0.6666666666666666,
              "#ed7953"
             ],
             [
              0.7777777777777778,
              "#fb9f3a"
             ],
             [
              0.8888888888888888,
              "#fdca26"
             ],
             [
              1,
              "#f0f921"
             ]
            ],
            "type": "histogram2dcontour"
           }
          ],
          "mesh3d": [
           {
            "colorbar": {
             "outlinewidth": 0,
             "ticks": ""
            },
            "type": "mesh3d"
           }
          ],
          "parcoords": [
           {
            "line": {
             "colorbar": {
              "outlinewidth": 0,
              "ticks": ""
             }
            },
            "type": "parcoords"
           }
          ],
          "pie": [
           {
            "automargin": true,
            "type": "pie"
           }
          ],
          "scatter": [
           {
            "fillpattern": {
             "fillmode": "overlay",
             "size": 10,
             "solidity": 0.2
            },
            "type": "scatter"
           }
          ],
          "scatter3d": [
           {
            "line": {
             "colorbar": {
              "outlinewidth": 0,
              "ticks": ""
             }
            },
            "marker": {
             "colorbar": {
              "outlinewidth": 0,
              "ticks": ""
             }
            },
            "type": "scatter3d"
           }
          ],
          "scattercarpet": [
           {
            "marker": {
             "colorbar": {
              "outlinewidth": 0,
              "ticks": ""
             }
            },
            "type": "scattercarpet"
           }
          ],
          "scattergeo": [
           {
            "marker": {
             "colorbar": {
              "outlinewidth": 0,
              "ticks": ""
             }
            },
            "type": "scattergeo"
           }
          ],
          "scattergl": [
           {
            "marker": {
             "colorbar": {
              "outlinewidth": 0,
              "ticks": ""
             }
            },
            "type": "scattergl"
           }
          ],
          "scattermapbox": [
           {
            "marker": {
             "colorbar": {
              "outlinewidth": 0,
              "ticks": ""
             }
            },
            "type": "scattermapbox"
           }
          ],
          "scatterpolar": [
           {
            "marker": {
             "colorbar": {
              "outlinewidth": 0,
              "ticks": ""
             }
            },
            "type": "scatterpolar"
           }
          ],
          "scatterpolargl": [
           {
            "marker": {
             "colorbar": {
              "outlinewidth": 0,
              "ticks": ""
             }
            },
            "type": "scatterpolargl"
           }
          ],
          "scatterternary": [
           {
            "marker": {
             "colorbar": {
              "outlinewidth": 0,
              "ticks": ""
             }
            },
            "type": "scatterternary"
           }
          ],
          "surface": [
           {
            "colorbar": {
             "outlinewidth": 0,
             "ticks": ""
            },
            "colorscale": [
             [
              0,
              "#0d0887"
             ],
             [
              0.1111111111111111,
              "#46039f"
             ],
             [
              0.2222222222222222,
              "#7201a8"
             ],
             [
              0.3333333333333333,
              "#9c179e"
             ],
             [
              0.4444444444444444,
              "#bd3786"
             ],
             [
              0.5555555555555556,
              "#d8576b"
             ],
             [
              0.6666666666666666,
              "#ed7953"
             ],
             [
              0.7777777777777778,
              "#fb9f3a"
             ],
             [
              0.8888888888888888,
              "#fdca26"
             ],
             [
              1,
              "#f0f921"
             ]
            ],
            "type": "surface"
           }
          ],
          "table": [
           {
            "cells": {
             "fill": {
              "color": "#EBF0F8"
             },
             "line": {
              "color": "white"
             }
            },
            "header": {
             "fill": {
              "color": "#C8D4E3"
             },
             "line": {
              "color": "white"
             }
            },
            "type": "table"
           }
          ]
         },
         "layout": {
          "annotationdefaults": {
           "arrowcolor": "#2a3f5f",
           "arrowhead": 0,
           "arrowwidth": 1
          },
          "autotypenumbers": "strict",
          "coloraxis": {
           "colorbar": {
            "outlinewidth": 0,
            "ticks": ""
           }
          },
          "colorscale": {
           "diverging": [
            [
             0,
             "#8e0152"
            ],
            [
             0.1,
             "#c51b7d"
            ],
            [
             0.2,
             "#de77ae"
            ],
            [
             0.3,
             "#f1b6da"
            ],
            [
             0.4,
             "#fde0ef"
            ],
            [
             0.5,
             "#f7f7f7"
            ],
            [
             0.6,
             "#e6f5d0"
            ],
            [
             0.7,
             "#b8e186"
            ],
            [
             0.8,
             "#7fbc41"
            ],
            [
             0.9,
             "#4d9221"
            ],
            [
             1,
             "#276419"
            ]
           ],
           "sequential": [
            [
             0,
             "#0d0887"
            ],
            [
             0.1111111111111111,
             "#46039f"
            ],
            [
             0.2222222222222222,
             "#7201a8"
            ],
            [
             0.3333333333333333,
             "#9c179e"
            ],
            [
             0.4444444444444444,
             "#bd3786"
            ],
            [
             0.5555555555555556,
             "#d8576b"
            ],
            [
             0.6666666666666666,
             "#ed7953"
            ],
            [
             0.7777777777777778,
             "#fb9f3a"
            ],
            [
             0.8888888888888888,
             "#fdca26"
            ],
            [
             1,
             "#f0f921"
            ]
           ],
           "sequentialminus": [
            [
             0,
             "#0d0887"
            ],
            [
             0.1111111111111111,
             "#46039f"
            ],
            [
             0.2222222222222222,
             "#7201a8"
            ],
            [
             0.3333333333333333,
             "#9c179e"
            ],
            [
             0.4444444444444444,
             "#bd3786"
            ],
            [
             0.5555555555555556,
             "#d8576b"
            ],
            [
             0.6666666666666666,
             "#ed7953"
            ],
            [
             0.7777777777777778,
             "#fb9f3a"
            ],
            [
             0.8888888888888888,
             "#fdca26"
            ],
            [
             1,
             "#f0f921"
            ]
           ]
          },
          "colorway": [
           "#636efa",
           "#EF553B",
           "#00cc96",
           "#ab63fa",
           "#FFA15A",
           "#19d3f3",
           "#FF6692",
           "#B6E880",
           "#FF97FF",
           "#FECB52"
          ],
          "font": {
           "color": "#2a3f5f"
          },
          "geo": {
           "bgcolor": "white",
           "lakecolor": "white",
           "landcolor": "white",
           "showlakes": true,
           "showland": true,
           "subunitcolor": "#C8D4E3"
          },
          "hoverlabel": {
           "align": "left"
          },
          "hovermode": "closest",
          "mapbox": {
           "style": "light"
          },
          "paper_bgcolor": "white",
          "plot_bgcolor": "white",
          "polar": {
           "angularaxis": {
            "gridcolor": "#EBF0F8",
            "linecolor": "#EBF0F8",
            "ticks": ""
           },
           "bgcolor": "white",
           "radialaxis": {
            "gridcolor": "#EBF0F8",
            "linecolor": "#EBF0F8",
            "ticks": ""
           }
          },
          "scene": {
           "xaxis": {
            "backgroundcolor": "white",
            "gridcolor": "#DFE8F3",
            "gridwidth": 2,
            "linecolor": "#EBF0F8",
            "showbackground": true,
            "ticks": "",
            "zerolinecolor": "#EBF0F8"
           },
           "yaxis": {
            "backgroundcolor": "white",
            "gridcolor": "#DFE8F3",
            "gridwidth": 2,
            "linecolor": "#EBF0F8",
            "showbackground": true,
            "ticks": "",
            "zerolinecolor": "#EBF0F8"
           },
           "zaxis": {
            "backgroundcolor": "white",
            "gridcolor": "#DFE8F3",
            "gridwidth": 2,
            "linecolor": "#EBF0F8",
            "showbackground": true,
            "ticks": "",
            "zerolinecolor": "#EBF0F8"
           }
          },
          "shapedefaults": {
           "line": {
            "color": "#2a3f5f"
           }
          },
          "ternary": {
           "aaxis": {
            "gridcolor": "#DFE8F3",
            "linecolor": "#A2B1C6",
            "ticks": ""
           },
           "baxis": {
            "gridcolor": "#DFE8F3",
            "linecolor": "#A2B1C6",
            "ticks": ""
           },
           "bgcolor": "white",
           "caxis": {
            "gridcolor": "#DFE8F3",
            "linecolor": "#A2B1C6",
            "ticks": ""
           }
          },
          "title": {
           "x": 0.05
          },
          "xaxis": {
           "automargin": true,
           "gridcolor": "#EBF0F8",
           "linecolor": "#EBF0F8",
           "ticks": "",
           "title": {
            "standoff": 15
           },
           "zerolinecolor": "#EBF0F8",
           "zerolinewidth": 2
          },
          "yaxis": {
           "automargin": true,
           "gridcolor": "#EBF0F8",
           "linecolor": "#EBF0F8",
           "ticks": "",
           "title": {
            "standoff": 15
           },
           "zerolinecolor": "#EBF0F8",
           "zerolinewidth": 2
          }
         }
        },
        "title": {
         "text": "Relative RMSE for Each Variables"
        },
        "xaxis": {
         "title": {
          "text": "Feature"
         }
        },
        "yaxis": {
         "title": {
          "text": "Relative RMSE"
         }
        }
       }
      }
     },
     "metadata": {},
     "output_type": "display_data"
    }
   ],
   "source": [
    "X_pred = predict_multi_step_pls_model(Z=doe, multi_step_models=models, t_steps=15)\n",
    "X_test_pred = predict_multi_step_pls_model(Z=doe_test, multi_step_models=models, t_steps=15)\n",
    "\n",
    "plot_multi_step_pls_model_eval(\n",
    "    X,\n",
    "    X_pred,\n",
    "    X_test,\n",
    "    X_test_pred,\n",
    "    X_columns = X_columns,\n",
    ")\n",
    "\n",
    "plot_relative_rmse_by_variables(\n",
    "    X,\n",
    "    X_pred,\n",
    "    X_test,\n",
    "    X_test_pred,\n",
    "    X_columns = X_columns,\n",
    ")"
   ]
  },
  {
   "cell_type": "code",
   "execution_count": 227,
   "metadata": {},
   "outputs": [],
   "source": [
    "def plot_predicted_profile(X, X_pred, X_columns, select_runs=[0], height=1000):\n",
    "    max_cols_per_row = 5\n",
    "    num_columns = len(X_columns)\n",
    "    num_rows = (num_columns + max_cols_per_row) // max_cols_per_row\n",
    "\n",
    "    fig = make_subplots(\n",
    "        rows=num_rows, cols=min(num_columns, max_cols_per_row), \n",
    "        subplot_titles=X_columns\n",
    "    )\n",
    "\n",
    "    color_palette = px.colors.qualitative.Plotly\n",
    "\n",
    "    for idx, j in enumerate(select_runs):\n",
    "        color = color_palette[idx % len(color_palette)]\n",
    "        for i, c in enumerate(X_columns):\n",
    "            row = i // max_cols_per_row + 1\n",
    "            col = i % max_cols_per_row + 1\n",
    "            show_legend = (i == 0)\n",
    "            fig.add_trace(\n",
    "                go.Scatter(\n",
    "                    x=list(range(15)),\n",
    "                    y=X[:, i, j],\n",
    "                    name=f\"Run {j} Observed\",\n",
    "                    marker=dict(color=color),\n",
    "                    showlegend=show_legend,\n",
    "                    legendgroup=f\"group_{j}\"\n",
    "                ),\n",
    "                row=row,\n",
    "                col=col,\n",
    "            )\n",
    "            fig.add_trace(\n",
    "                go.Scatter(\n",
    "                    x=list(range(15)),\n",
    "                    y=X_pred[:, i, j],\n",
    "                    name=f\"Run {j} Predicted\",\n",
    "                    line=dict(dash=\"dash\"),\n",
    "                    marker=dict(color=color),\n",
    "                    showlegend=show_legend,\n",
    "                    legendgroup=f\"group_{j}\"\n",
    "                ),\n",
    "                row=row,\n",
    "                col=col,\n",
    "            )\n",
    "\n",
    "    fig.update_layout(\n",
    "        showlegend=True,\n",
    "        title_text=\"Process variable evolution for selected runs\",\n",
    "        height=height,\n",
    "    )\n",
    "    fig.show()\n"
   ]
  },
  {
   "cell_type": "code",
   "execution_count": 230,
   "metadata": {},
   "outputs": [
    {
     "data": {
      "application/vnd.plotly.v1+json": {
       "config": {
        "plotlyServerURL": "https://plot.ly"
       },
       "data": [
        {
         "legendgroup": "group_0",
         "marker": {
          "color": "#636EFA"
         },
         "name": "Run 0 Observed",
         "showlegend": true,
         "type": "scatter",
         "x": [
          0,
          1,
          2,
          3,
          4,
          5,
          6,
          7,
          8,
          9,
          10,
          11,
          12,
          13,
          14
         ],
         "xaxis": "x",
         "y": [
          0.9846938775510204,
          2.9249576819091097,
          7.444332832191713,
          14.420480064339324,
          20.57081333243489,
          23.12755137436929,
          22.33065010823708,
          19.648806069957416,
          16.31282380897557,
          13.028843938823911,
          10.102605608179564,
          7.629152917195547,
          5.731307831914585,
          4.294304959498489,
          3.2079190607230106
         ],
         "yaxis": "y"
        },
        {
         "legendgroup": "group_0",
         "line": {
          "dash": "dash"
         },
         "marker": {
          "color": "#636EFA"
         },
         "name": "Run 0 Predicted",
         "showlegend": true,
         "type": "scatter",
         "x": [
          0,
          1,
          2,
          3,
          4,
          5,
          6,
          7,
          8,
          9,
          10,
          11,
          12,
          13,
          14
         ],
         "xaxis": "x",
         "y": [
          0.9334546672571957,
          2.4706343166466227,
          5.671973962337976,
          10.360598383150846,
          14.796478642172747,
          16.64991380315898,
          15.965906973764886,
          13.514019395517568,
          10.283559909312253,
          7.036722245073291,
          4.611000512668472,
          2.993234246081383,
          1.958259974547806,
          1.3007825459779045,
          0.8653883965644111
         ],
         "yaxis": "y"
        },
        {
         "legendgroup": "group_0",
         "marker": {
          "color": "#636EFA"
         },
         "name": "Run 0 Observed",
         "showlegend": false,
         "type": "scatter",
         "x": [
          0,
          1,
          2,
          3,
          4,
          5,
          6,
          7,
          8,
          9,
          10,
          11,
          12,
          13,
          14
         ],
         "xaxis": "x2",
         "y": [
          43.46938775510204,
          42.11575103737883,
          38.40470745766825,
          34.28104672448483,
          36.13270037292429,
          34.63344313923112,
          32.55252740419164,
          31.875483763746413,
          33.52447895437812,
          37.694658596943526,
          44.21209863405196,
          45.78852821788307,
          40.788789446857486,
          37.03759971276014,
          34.231330813861874
         ],
         "yaxis": "y2"
        },
        {
         "legendgroup": "group_0",
         "line": {
          "dash": "dash"
         },
         "marker": {
          "color": "#636EFA"
         },
         "name": "Run 0 Predicted",
         "showlegend": false,
         "type": "scatter",
         "x": [
          0,
          1,
          2,
          3,
          4,
          5,
          6,
          7,
          8,
          9,
          10,
          11,
          12,
          13,
          14
         ],
         "xaxis": "x2",
         "y": [
          41.831237339916854,
          40.186418809153,
          36.81094462294074,
          34.54587409197349,
          36.4558778373019,
          35.086753873904925,
          33.09098414523835,
          32.316312444779435,
          34.93745320069797,
          46.51595646576598,
          54.95458439071754,
          60.20928486130483,
          58.45208320489119,
          57.29983470658192,
          56.54884680428182
         ],
         "yaxis": "y2"
        },
        {
         "legendgroup": "group_0",
         "marker": {
          "color": "#636EFA"
         },
         "name": "Run 0 Observed",
         "showlegend": false,
         "type": "scatter",
         "x": [
          0,
          1,
          2,
          3,
          4,
          5,
          6,
          7,
          8,
          9,
          10,
          11,
          12,
          13,
          14
         ],
         "xaxis": "x3",
         "y": [
          0,
          2.1824297539180297,
          8.166083041116508,
          21.321369967573112,
          42.85414584728475,
          69.79089068242651,
          97.66797157992208,
          123.28266885228646,
          145.1452661433552,
          162.939326203935,
          176.9454542072082,
          187.66054365335236,
          195.7213811855037,
          201.77002614645343,
          206.29555670809924
         ],
         "yaxis": "y3"
        },
        {
         "legendgroup": "group_0",
         "line": {
          "dash": "dash"
         },
         "marker": {
          "color": "#636EFA"
         },
         "name": "Run 0 Predicted",
         "showlegend": false,
         "type": "scatter",
         "x": [
          0,
          1,
          2,
          3,
          4,
          5,
          6,
          7,
          8,
          9,
          10,
          11,
          12,
          13,
          14
         ],
         "xaxis": "x3",
         "y": [
          0,
          2.373067514758139,
          8.21761185976967,
          20.101227974593883,
          39.08758663569077,
          63.302772853180365,
          88.52115500041455,
          110.69394461964671,
          128.1965408343791,
          140.7200436691612,
          148.9577419023577,
          154.23743905193754,
          157.6181753794054,
          159.81973037725425,
          161.27115123588305
         ],
         "yaxis": "y3"
        },
        {
         "legendgroup": "group_0",
         "marker": {
          "color": "#636EFA"
         },
         "name": "Run 0 Observed",
         "showlegend": false,
         "type": "scatter",
         "x": [
          0,
          1,
          2,
          3,
          4,
          5,
          6,
          7,
          8,
          9,
          10,
          11,
          12,
          13,
          14
         ],
         "xaxis": "x4",
         "y": [
          0,
          0.164105508211151,
          3.6737447861367754,
          35.32186247671071,
          154.34678831320295,
          387.7950784521392,
          693.7864209487878,
          1013.615495248714,
          1308.0461540356737,
          1559.5112502067666,
          1764.0166792193825,
          1924.0159855683603,
          2045.8920299168967,
          2138.039188646103,
          2207.3227092050597
         ],
         "yaxis": "y4"
        },
        {
         "legendgroup": "group_0",
         "line": {
          "dash": "dash"
         },
         "marker": {
          "color": "#636EFA"
         },
         "name": "Run 0 Predicted",
         "showlegend": false,
         "type": "scatter",
         "x": [
          0,
          1,
          2,
          3,
          4,
          5,
          6,
          7,
          8,
          9,
          10,
          11,
          12,
          13,
          14
         ],
         "xaxis": "x4",
         "y": [
          0,
          0.13766772709078412,
          2.6996595738111395,
          22.489286656460038,
          92.84979146435832,
          233.7993939028123,
          425.24248220859533,
          622.7799784037176,
          791.9581287465617,
          889.5553438341251,
          951.1690025019043,
          991.1185825194904,
          1016.5960052152436,
          1032.9546668265436,
          1042.4762412065518
         ],
         "yaxis": "y4"
        },
        {
         "legendgroup": "group_10",
         "marker": {
          "color": "#EF553B"
         },
         "name": "Run 10 Observed",
         "showlegend": true,
         "type": "scatter",
         "x": [
          0,
          1,
          2,
          3,
          4,
          5,
          6,
          7,
          8,
          9,
          10,
          11,
          12,
          13,
          14
         ],
         "xaxis": "x",
         "y": [
          0.5255102040816326,
          1.542944523336143,
          4.111079413586001,
          8.963076939330202,
          14.544645094511967,
          18.04047070058947,
          18.84870496269079,
          17.78007013831816,
          15.691412933616666,
          13.226330834280551,
          10.79079447405206,
          8.629169774506371,
          6.794817697582468,
          5.271066535858475,
          4.017629690968412
         ],
         "yaxis": "y"
        },
        {
         "legendgroup": "group_10",
         "line": {
          "dash": "dash"
         },
         "marker": {
          "color": "#EF553B"
         },
         "name": "Run 10 Predicted",
         "showlegend": true,
         "type": "scatter",
         "x": [
          0,
          1,
          2,
          3,
          4,
          5,
          6,
          7,
          8,
          9,
          10,
          11,
          12,
          13,
          14
         ],
         "xaxis": "x",
         "y": [
          0.5043124689575464,
          1.4695502522337824,
          3.830847961740743,
          7.834863118720816,
          11.656849220977577,
          12.977562933280003,
          11.944602926408965,
          9.725674911412428,
          7.269058137764285,
          5.113053958632416,
          3.4526927377961547,
          2.340382879115909,
          1.6297763329479222,
          1.147550487923103,
          0.7927319708814242
         ],
         "yaxis": "y"
        },
        {
         "legendgroup": "group_10",
         "marker": {
          "color": "#EF553B"
         },
         "name": "Run 10 Observed",
         "showlegend": false,
         "type": "scatter",
         "x": [
          0,
          1,
          2,
          3,
          4,
          5,
          6,
          7,
          8,
          9,
          10,
          11,
          12,
          13,
          14
         ],
         "xaxis": "x2",
         "y": [
          69.59183673469389,
          68.46750689794594,
          65.3266602512058,
          66.30677152443242,
          66.68529999697574,
          61.49451704502854,
          53.80679731466593,
          46.36843571545527,
          40.87750415301878,
          38.13586928938357,
          37.29759740650222,
          25.839575325434303,
          16.752013641424025,
          9.65792303172169,
          4.218111157440058
         ],
         "yaxis": "y2"
        },
        {
         "legendgroup": "group_10",
         "line": {
          "dash": "dash"
         },
         "marker": {
          "color": "#EF553B"
         },
         "name": "Run 10 Predicted",
         "showlegend": false,
         "type": "scatter",
         "x": [
          0,
          1,
          2,
          3,
          4,
          5,
          6,
          7,
          8,
          9,
          10,
          11,
          12,
          13,
          14
         ],
         "xaxis": "x2",
         "y": [
          70.59772643079828,
          69.69289725146528,
          67.62776409837882,
          68.90331634649296,
          74.03337782527457,
          76.55267787252417,
          78.83759845944672,
          82.59694679857594,
          89.02967930239068,
          94.40841649560943,
          102.86799114565076,
          102.78730384780638,
          100.72798785824745,
          99.26690110794655,
          98.28314528626716
         ],
         "yaxis": "y2"
        },
        {
         "legendgroup": "group_10",
         "marker": {
          "color": "#EF553B"
         },
         "name": "Run 10 Observed",
         "showlegend": false,
         "type": "scatter",
         "x": [
          0,
          1,
          2,
          3,
          4,
          5,
          6,
          7,
          8,
          9,
          10,
          11,
          12,
          13,
          14
         ],
         "xaxis": "x3",
         "y": [
          0,
          1.1623390875862771,
          4.409440947202533,
          12.199464858319589,
          26.682595991736637,
          46.92408425738573,
          69.74911784545765,
          92.31934092239872,
          112.87882510600517,
          130.5969978701169,
          145.28440753789718,
          157.14016520309832,
          166.55053242887047,
          173.9075937931368,
          179.57004361756432
         ],
         "yaxis": "y3"
        },
        {
         "legendgroup": "group_10",
         "line": {
          "dash": "dash"
         },
         "marker": {
          "color": "#EF553B"
         },
         "name": "Run 10 Predicted",
         "showlegend": false,
         "type": "scatter",
         "x": [
          0,
          1,
          2,
          3,
          4,
          5,
          6,
          7,
          8,
          9,
          10,
          11,
          12,
          13,
          14
         ],
         "xaxis": "x3",
         "y": [
          0,
          1.3541406164425367,
          5.088849013920316,
          13.655892274090434,
          28.283128951462327,
          46.80863265822829,
          66.18957750246167,
          82.22256736700307,
          94.70248458306571,
          103.85842873001896,
          110.15651129157662,
          114.35784661737951,
          117.21526864644541,
          119.19417771358273,
          120.56908715816377
         ],
         "yaxis": "y3"
        },
        {
         "legendgroup": "group_10",
         "marker": {
          "color": "#EF553B"
         },
         "name": "Run 10 Observed",
         "showlegend": false,
         "type": "scatter",
         "x": [
          0,
          1,
          2,
          3,
          4,
          5,
          6,
          7,
          8,
          9,
          10,
          11,
          12,
          13,
          14
         ],
         "xaxis": "x4",
         "y": [
          0,
          0.033277931111437,
          0.8132238560741042,
          10.333914533136843,
          62.58970950350485,
          199.69882318846916,
          417.1718619309535,
          676.330732512661,
          939.1524970150888,
          1180.983227181542,
          1390.170136335851,
          1563.3064485232628,
          1701.95789351015,
          1809.547328888428,
          1888.9141371741127
         ],
         "yaxis": "y4"
        },
        {
         "legendgroup": "group_10",
         "line": {
          "dash": "dash"
         },
         "marker": {
          "color": "#EF553B"
         },
         "name": "Run 10 Predicted",
         "showlegend": false,
         "type": "scatter",
         "x": [
          0,
          1,
          2,
          3,
          4,
          5,
          6,
          7,
          8,
          9,
          10,
          11,
          12,
          13,
          14
         ],
         "xaxis": "x4",
         "y": [
          0,
          0.012245891892956842,
          0.6253242420069394,
          9.20820189131523,
          51.2253323053861,
          144.7792990088981,
          273.88065440979483,
          410.06583954550763,
          529.6791142216637,
          614.6652082867593,
          680.2754781042587,
          726.1960429855063,
          758.2085769816936,
          780.270761929328,
          792.6352535913567
         ],
         "yaxis": "y4"
        }
       ],
       "layout": {
        "annotations": [
         {
          "font": {
           "size": 16
          },
          "showarrow": false,
          "text": "X:VCD",
          "x": 0.10625,
          "xanchor": "center",
          "xref": "paper",
          "y": 1,
          "yanchor": "bottom",
          "yref": "paper"
         },
         {
          "font": {
           "size": 16
          },
          "showarrow": false,
          "text": "X:Glc",
          "x": 0.36875,
          "xanchor": "center",
          "xref": "paper",
          "y": 1,
          "yanchor": "bottom",
          "yref": "paper"
         },
         {
          "font": {
           "size": 16
          },
          "showarrow": false,
          "text": "X:Lac",
          "x": 0.6312500000000001,
          "xanchor": "center",
          "xref": "paper",
          "y": 1,
          "yanchor": "bottom",
          "yref": "paper"
         },
         {
          "font": {
           "size": 16
          },
          "showarrow": false,
          "text": "X:Titer",
          "x": 0.89375,
          "xanchor": "center",
          "xref": "paper",
          "y": 1,
          "yanchor": "bottom",
          "yref": "paper"
         }
        ],
        "height": 500,
        "showlegend": true,
        "template": {
         "data": {
          "bar": [
           {
            "error_x": {
             "color": "#2a3f5f"
            },
            "error_y": {
             "color": "#2a3f5f"
            },
            "marker": {
             "line": {
              "color": "white",
              "width": 0.5
             },
             "pattern": {
              "fillmode": "overlay",
              "size": 10,
              "solidity": 0.2
             }
            },
            "type": "bar"
           }
          ],
          "barpolar": [
           {
            "marker": {
             "line": {
              "color": "white",
              "width": 0.5
             },
             "pattern": {
              "fillmode": "overlay",
              "size": 10,
              "solidity": 0.2
             }
            },
            "type": "barpolar"
           }
          ],
          "carpet": [
           {
            "aaxis": {
             "endlinecolor": "#2a3f5f",
             "gridcolor": "#C8D4E3",
             "linecolor": "#C8D4E3",
             "minorgridcolor": "#C8D4E3",
             "startlinecolor": "#2a3f5f"
            },
            "baxis": {
             "endlinecolor": "#2a3f5f",
             "gridcolor": "#C8D4E3",
             "linecolor": "#C8D4E3",
             "minorgridcolor": "#C8D4E3",
             "startlinecolor": "#2a3f5f"
            },
            "type": "carpet"
           }
          ],
          "choropleth": [
           {
            "colorbar": {
             "outlinewidth": 0,
             "ticks": ""
            },
            "type": "choropleth"
           }
          ],
          "contour": [
           {
            "colorbar": {
             "outlinewidth": 0,
             "ticks": ""
            },
            "colorscale": [
             [
              0,
              "#0d0887"
             ],
             [
              0.1111111111111111,
              "#46039f"
             ],
             [
              0.2222222222222222,
              "#7201a8"
             ],
             [
              0.3333333333333333,
              "#9c179e"
             ],
             [
              0.4444444444444444,
              "#bd3786"
             ],
             [
              0.5555555555555556,
              "#d8576b"
             ],
             [
              0.6666666666666666,
              "#ed7953"
             ],
             [
              0.7777777777777778,
              "#fb9f3a"
             ],
             [
              0.8888888888888888,
              "#fdca26"
             ],
             [
              1,
              "#f0f921"
             ]
            ],
            "type": "contour"
           }
          ],
          "contourcarpet": [
           {
            "colorbar": {
             "outlinewidth": 0,
             "ticks": ""
            },
            "type": "contourcarpet"
           }
          ],
          "heatmap": [
           {
            "colorbar": {
             "outlinewidth": 0,
             "ticks": ""
            },
            "colorscale": [
             [
              0,
              "#0d0887"
             ],
             [
              0.1111111111111111,
              "#46039f"
             ],
             [
              0.2222222222222222,
              "#7201a8"
             ],
             [
              0.3333333333333333,
              "#9c179e"
             ],
             [
              0.4444444444444444,
              "#bd3786"
             ],
             [
              0.5555555555555556,
              "#d8576b"
             ],
             [
              0.6666666666666666,
              "#ed7953"
             ],
             [
              0.7777777777777778,
              "#fb9f3a"
             ],
             [
              0.8888888888888888,
              "#fdca26"
             ],
             [
              1,
              "#f0f921"
             ]
            ],
            "type": "heatmap"
           }
          ],
          "heatmapgl": [
           {
            "colorbar": {
             "outlinewidth": 0,
             "ticks": ""
            },
            "colorscale": [
             [
              0,
              "#0d0887"
             ],
             [
              0.1111111111111111,
              "#46039f"
             ],
             [
              0.2222222222222222,
              "#7201a8"
             ],
             [
              0.3333333333333333,
              "#9c179e"
             ],
             [
              0.4444444444444444,
              "#bd3786"
             ],
             [
              0.5555555555555556,
              "#d8576b"
             ],
             [
              0.6666666666666666,
              "#ed7953"
             ],
             [
              0.7777777777777778,
              "#fb9f3a"
             ],
             [
              0.8888888888888888,
              "#fdca26"
             ],
             [
              1,
              "#f0f921"
             ]
            ],
            "type": "heatmapgl"
           }
          ],
          "histogram": [
           {
            "marker": {
             "pattern": {
              "fillmode": "overlay",
              "size": 10,
              "solidity": 0.2
             }
            },
            "type": "histogram"
           }
          ],
          "histogram2d": [
           {
            "colorbar": {
             "outlinewidth": 0,
             "ticks": ""
            },
            "colorscale": [
             [
              0,
              "#0d0887"
             ],
             [
              0.1111111111111111,
              "#46039f"
             ],
             [
              0.2222222222222222,
              "#7201a8"
             ],
             [
              0.3333333333333333,
              "#9c179e"
             ],
             [
              0.4444444444444444,
              "#bd3786"
             ],
             [
              0.5555555555555556,
              "#d8576b"
             ],
             [
              0.6666666666666666,
              "#ed7953"
             ],
             [
              0.7777777777777778,
              "#fb9f3a"
             ],
             [
              0.8888888888888888,
              "#fdca26"
             ],
             [
              1,
              "#f0f921"
             ]
            ],
            "type": "histogram2d"
           }
          ],
          "histogram2dcontour": [
           {
            "colorbar": {
             "outlinewidth": 0,
             "ticks": ""
            },
            "colorscale": [
             [
              0,
              "#0d0887"
             ],
             [
              0.1111111111111111,
              "#46039f"
             ],
             [
              0.2222222222222222,
              "#7201a8"
             ],
             [
              0.3333333333333333,
              "#9c179e"
             ],
             [
              0.4444444444444444,
              "#bd3786"
             ],
             [
              0.5555555555555556,
              "#d8576b"
             ],
             [
              0.6666666666666666,
              "#ed7953"
             ],
             [
              0.7777777777777778,
              "#fb9f3a"
             ],
             [
              0.8888888888888888,
              "#fdca26"
             ],
             [
              1,
              "#f0f921"
             ]
            ],
            "type": "histogram2dcontour"
           }
          ],
          "mesh3d": [
           {
            "colorbar": {
             "outlinewidth": 0,
             "ticks": ""
            },
            "type": "mesh3d"
           }
          ],
          "parcoords": [
           {
            "line": {
             "colorbar": {
              "outlinewidth": 0,
              "ticks": ""
             }
            },
            "type": "parcoords"
           }
          ],
          "pie": [
           {
            "automargin": true,
            "type": "pie"
           }
          ],
          "scatter": [
           {
            "fillpattern": {
             "fillmode": "overlay",
             "size": 10,
             "solidity": 0.2
            },
            "type": "scatter"
           }
          ],
          "scatter3d": [
           {
            "line": {
             "colorbar": {
              "outlinewidth": 0,
              "ticks": ""
             }
            },
            "marker": {
             "colorbar": {
              "outlinewidth": 0,
              "ticks": ""
             }
            },
            "type": "scatter3d"
           }
          ],
          "scattercarpet": [
           {
            "marker": {
             "colorbar": {
              "outlinewidth": 0,
              "ticks": ""
             }
            },
            "type": "scattercarpet"
           }
          ],
          "scattergeo": [
           {
            "marker": {
             "colorbar": {
              "outlinewidth": 0,
              "ticks": ""
             }
            },
            "type": "scattergeo"
           }
          ],
          "scattergl": [
           {
            "marker": {
             "colorbar": {
              "outlinewidth": 0,
              "ticks": ""
             }
            },
            "type": "scattergl"
           }
          ],
          "scattermapbox": [
           {
            "marker": {
             "colorbar": {
              "outlinewidth": 0,
              "ticks": ""
             }
            },
            "type": "scattermapbox"
           }
          ],
          "scatterpolar": [
           {
            "marker": {
             "colorbar": {
              "outlinewidth": 0,
              "ticks": ""
             }
            },
            "type": "scatterpolar"
           }
          ],
          "scatterpolargl": [
           {
            "marker": {
             "colorbar": {
              "outlinewidth": 0,
              "ticks": ""
             }
            },
            "type": "scatterpolargl"
           }
          ],
          "scatterternary": [
           {
            "marker": {
             "colorbar": {
              "outlinewidth": 0,
              "ticks": ""
             }
            },
            "type": "scatterternary"
           }
          ],
          "surface": [
           {
            "colorbar": {
             "outlinewidth": 0,
             "ticks": ""
            },
            "colorscale": [
             [
              0,
              "#0d0887"
             ],
             [
              0.1111111111111111,
              "#46039f"
             ],
             [
              0.2222222222222222,
              "#7201a8"
             ],
             [
              0.3333333333333333,
              "#9c179e"
             ],
             [
              0.4444444444444444,
              "#bd3786"
             ],
             [
              0.5555555555555556,
              "#d8576b"
             ],
             [
              0.6666666666666666,
              "#ed7953"
             ],
             [
              0.7777777777777778,
              "#fb9f3a"
             ],
             [
              0.8888888888888888,
              "#fdca26"
             ],
             [
              1,
              "#f0f921"
             ]
            ],
            "type": "surface"
           }
          ],
          "table": [
           {
            "cells": {
             "fill": {
              "color": "#EBF0F8"
             },
             "line": {
              "color": "white"
             }
            },
            "header": {
             "fill": {
              "color": "#C8D4E3"
             },
             "line": {
              "color": "white"
             }
            },
            "type": "table"
           }
          ]
         },
         "layout": {
          "annotationdefaults": {
           "arrowcolor": "#2a3f5f",
           "arrowhead": 0,
           "arrowwidth": 1
          },
          "autotypenumbers": "strict",
          "coloraxis": {
           "colorbar": {
            "outlinewidth": 0,
            "ticks": ""
           }
          },
          "colorscale": {
           "diverging": [
            [
             0,
             "#8e0152"
            ],
            [
             0.1,
             "#c51b7d"
            ],
            [
             0.2,
             "#de77ae"
            ],
            [
             0.3,
             "#f1b6da"
            ],
            [
             0.4,
             "#fde0ef"
            ],
            [
             0.5,
             "#f7f7f7"
            ],
            [
             0.6,
             "#e6f5d0"
            ],
            [
             0.7,
             "#b8e186"
            ],
            [
             0.8,
             "#7fbc41"
            ],
            [
             0.9,
             "#4d9221"
            ],
            [
             1,
             "#276419"
            ]
           ],
           "sequential": [
            [
             0,
             "#0d0887"
            ],
            [
             0.1111111111111111,
             "#46039f"
            ],
            [
             0.2222222222222222,
             "#7201a8"
            ],
            [
             0.3333333333333333,
             "#9c179e"
            ],
            [
             0.4444444444444444,
             "#bd3786"
            ],
            [
             0.5555555555555556,
             "#d8576b"
            ],
            [
             0.6666666666666666,
             "#ed7953"
            ],
            [
             0.7777777777777778,
             "#fb9f3a"
            ],
            [
             0.8888888888888888,
             "#fdca26"
            ],
            [
             1,
             "#f0f921"
            ]
           ],
           "sequentialminus": [
            [
             0,
             "#0d0887"
            ],
            [
             0.1111111111111111,
             "#46039f"
            ],
            [
             0.2222222222222222,
             "#7201a8"
            ],
            [
             0.3333333333333333,
             "#9c179e"
            ],
            [
             0.4444444444444444,
             "#bd3786"
            ],
            [
             0.5555555555555556,
             "#d8576b"
            ],
            [
             0.6666666666666666,
             "#ed7953"
            ],
            [
             0.7777777777777778,
             "#fb9f3a"
            ],
            [
             0.8888888888888888,
             "#fdca26"
            ],
            [
             1,
             "#f0f921"
            ]
           ]
          },
          "colorway": [
           "#636efa",
           "#EF553B",
           "#00cc96",
           "#ab63fa",
           "#FFA15A",
           "#19d3f3",
           "#FF6692",
           "#B6E880",
           "#FF97FF",
           "#FECB52"
          ],
          "font": {
           "color": "#2a3f5f"
          },
          "geo": {
           "bgcolor": "white",
           "lakecolor": "white",
           "landcolor": "white",
           "showlakes": true,
           "showland": true,
           "subunitcolor": "#C8D4E3"
          },
          "hoverlabel": {
           "align": "left"
          },
          "hovermode": "closest",
          "mapbox": {
           "style": "light"
          },
          "paper_bgcolor": "white",
          "plot_bgcolor": "white",
          "polar": {
           "angularaxis": {
            "gridcolor": "#EBF0F8",
            "linecolor": "#EBF0F8",
            "ticks": ""
           },
           "bgcolor": "white",
           "radialaxis": {
            "gridcolor": "#EBF0F8",
            "linecolor": "#EBF0F8",
            "ticks": ""
           }
          },
          "scene": {
           "xaxis": {
            "backgroundcolor": "white",
            "gridcolor": "#DFE8F3",
            "gridwidth": 2,
            "linecolor": "#EBF0F8",
            "showbackground": true,
            "ticks": "",
            "zerolinecolor": "#EBF0F8"
           },
           "yaxis": {
            "backgroundcolor": "white",
            "gridcolor": "#DFE8F3",
            "gridwidth": 2,
            "linecolor": "#EBF0F8",
            "showbackground": true,
            "ticks": "",
            "zerolinecolor": "#EBF0F8"
           },
           "zaxis": {
            "backgroundcolor": "white",
            "gridcolor": "#DFE8F3",
            "gridwidth": 2,
            "linecolor": "#EBF0F8",
            "showbackground": true,
            "ticks": "",
            "zerolinecolor": "#EBF0F8"
           }
          },
          "shapedefaults": {
           "line": {
            "color": "#2a3f5f"
           }
          },
          "ternary": {
           "aaxis": {
            "gridcolor": "#DFE8F3",
            "linecolor": "#A2B1C6",
            "ticks": ""
           },
           "baxis": {
            "gridcolor": "#DFE8F3",
            "linecolor": "#A2B1C6",
            "ticks": ""
           },
           "bgcolor": "white",
           "caxis": {
            "gridcolor": "#DFE8F3",
            "linecolor": "#A2B1C6",
            "ticks": ""
           }
          },
          "title": {
           "x": 0.05
          },
          "xaxis": {
           "automargin": true,
           "gridcolor": "#EBF0F8",
           "linecolor": "#EBF0F8",
           "ticks": "",
           "title": {
            "standoff": 15
           },
           "zerolinecolor": "#EBF0F8",
           "zerolinewidth": 2
          },
          "yaxis": {
           "automargin": true,
           "gridcolor": "#EBF0F8",
           "linecolor": "#EBF0F8",
           "ticks": "",
           "title": {
            "standoff": 15
           },
           "zerolinecolor": "#EBF0F8",
           "zerolinewidth": 2
          }
         }
        },
        "title": {
         "text": "Process variable evolution for selected runs"
        },
        "xaxis": {
         "anchor": "y",
         "domain": [
          0,
          0.2125
         ]
        },
        "xaxis2": {
         "anchor": "y2",
         "domain": [
          0.2625,
          0.475
         ]
        },
        "xaxis3": {
         "anchor": "y3",
         "domain": [
          0.525,
          0.7375
         ]
        },
        "xaxis4": {
         "anchor": "y4",
         "domain": [
          0.7875,
          1
         ]
        },
        "yaxis": {
         "anchor": "x",
         "domain": [
          0,
          1
         ]
        },
        "yaxis2": {
         "anchor": "x2",
         "domain": [
          0,
          1
         ]
        },
        "yaxis3": {
         "anchor": "x3",
         "domain": [
          0,
          1
         ]
        },
        "yaxis4": {
         "anchor": "x4",
         "domain": [
          0,
          1
         ]
        }
       }
      }
     },
     "metadata": {},
     "output_type": "display_data"
    }
   ],
   "source": [
    "plot_predicted_profile(X_test, X_test_pred, X_columns, select_runs=[0,10], height=500)"
   ]
  },
  {
   "cell_type": "markdown",
   "metadata": {},
   "source": [
    "## BWU-PLS1\n",
    "- Batch Wise Unfolded - Partial Least Square Model (PLS1), also called Historical-PLS\n",
    "- One model per timepoint per process variable is developed, denoted as $PLS1_{i, t}$\n",
    "\t- But, using the process condition and the historical information available until a given time\n",
    "- Training: $[Z, X(t < t_{model})] \\rightarrow PLS1_{i, t} \\rightarrow X_i(t=t_{model})$\n",
    "- Testing: $[Z, X(t = 0), X^{predicted}(t < t_{model})] \\rightarrow PLS1_{i, t} \\rightarrow X_i(t=t_{model})$"
   ]
  },
  {
   "cell_type": "code",
   "execution_count": null,
   "metadata": {},
   "outputs": [],
   "source": []
  },
  {
   "cell_type": "markdown",
   "metadata": {},
   "source": [
    "## Instant-ANN\n",
    "- ANN models per variable per time point\n",
    "- Training: $[Z, X(t = t_{model} - 1)] \\rightarrow ANN_{i, t} \\rightarrow X_i(t = t_{model})$\n",
    "- Testing: $[Z, \\hat{X}(t = t_{model} - 1)] \\rightarrow ANN_{i, t} \\rightarrow X_i(t = t_{model})$"
   ]
  },
  {
   "cell_type": "code",
   "execution_count": null,
   "metadata": {},
   "outputs": [],
   "source": []
  },
  {
   "cell_type": "markdown",
   "metadata": {},
   "source": [
    "## OWU-ANN\n",
    "- a single model is used for all time points\n",
    "- Training: $[Z, X(t = t_{model} - 1)] \\rightarrow ANN_i \\rightarrow X_i(t = t_{model})$​\n",
    "- Testing: $[Z, \\hat{X}(t = t_{model} - 1)] \\rightarrow ANN_i \\rightarrow X_i(t = t_{model})$"
   ]
  },
  {
   "cell_type": "code",
   "execution_count": null,
   "metadata": {},
   "outputs": [],
   "source": []
  }
 ],
 "metadata": {
  "kernelspec": {
   "display_name": "dl",
   "language": "python",
   "name": "python3"
  },
  "language_info": {
   "codemirror_mode": {
    "name": "ipython",
    "version": 3
   },
   "file_extension": ".py",
   "mimetype": "text/x-python",
   "name": "python",
   "nbconvert_exporter": "python",
   "pygments_lexer": "ipython3",
   "version": "3.11.8"
  }
 },
 "nbformat": 4,
 "nbformat_minor": 2
}
