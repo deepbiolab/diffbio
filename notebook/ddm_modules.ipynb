{
 "cells": [
  {
   "cell_type": "code",
   "execution_count": 49,
   "metadata": {},
   "outputs": [],
   "source": [
    "import pandas as pd\n",
    "import numpy as np\n",
    "from sklearn.pipeline import Pipeline\n",
    "from sklearn.cross_decomposition import PLSRegression\n",
    "from sklearn.preprocessing import StandardScaler, PolynomialFeatures\n",
    "from sklearn.metrics import root_mean_squared_error\n",
    "import plotly.express as px\n",
    "import plotly.graph_objects as go\n",
    "from plotly.subplots import make_subplots"
   ]
  },
  {
   "cell_type": "code",
   "execution_count": 27,
   "metadata": {},
   "outputs": [],
   "source": [
    "def generate_bwu(owu):\n",
    "    owu = owu.drop([\"timesteps\"],axis=1)\n",
    "    # Input: multiindex OWU\n",
    "    # Output: singleindex BWU\n",
    "    for run_ix, run in owu.groupby(\"run\"):\n",
    "        if run_ix == owu.index.get_level_values('run')[0]:\n",
    "            bwuindex = run.unstack(level=1)\n",
    "        else:\n",
    "            bwuindex = pd.concat([bwuindex, run.unstack(level=1)])\n",
    "    bwu_columns = [str(bwuindex.columns.get_level_values(0)[i])+str(\":\")+str(bwuindex.columns.get_level_values(1)[i]) \n",
    "                   for i in range(len(bwuindex.columns.get_level_values(0)))]\n",
    "    bwu = pd.DataFrame(bwuindex.to_numpy(), columns=bwu_columns)\n",
    "    \n",
    "    return bwu\n",
    "\n",
    "\n",
    "def generate_y(bwu, return_aggr=False):\n",
    "    # Input: singleindex BWU\n",
    "    # Output: singleindex BWU having only target\n",
    "    titer_column = [c for c in bwu.columns if c.startswith(\"X:Titer\")]\n",
    "    targets = pd.DataFrame(columns=[\"Y:Titer\", \"Y:Aggr\"], index=bwu.index)\n",
    "\n",
    "    # iterate through experiments\n",
    "    for j in list(bwu.index):\n",
    "        x_titer = bwu.loc[j, titer_column]\n",
    "        x_prod = [0]\n",
    "        x_aggr = [0]\n",
    "        k_aggr = 10**-7\n",
    "        for i in range(len(x_titer)):\n",
    "            if i == 0:\n",
    "                continue\n",
    "            xt_titer = x_titer.iloc[i]\n",
    "            dt_titer = x_titer.iloc[i] - x_titer.iloc[i - 1]\n",
    "            x_prod.append(xt_titer)\n",
    "            x_aggr.append(k_aggr * (xt_titer**2))\n",
    "\n",
    "            dt_aggr = x_aggr[i] - x_aggr[i - 1]\n",
    "            dt_prod = dt_titer - 2 * dt_aggr\n",
    "            dt_aggr = k_aggr * (x_prod[i - 1] + dt_prod) ** 2\n",
    "\n",
    "            x_aggr[i] = x_aggr[i - 1] + dt_aggr\n",
    "            x_prod[i] = x_prod[i - 1] + dt_prod\n",
    "        y_prod = x_prod[-1]\n",
    "        y_aggr = x_aggr[-1]\n",
    "\n",
    "        targets.loc[j, \"Y:Titer\"] = y_prod\n",
    "        targets.loc[j, \"Y:Aggr\"] = y_aggr\n",
    "    if return_aggr:\n",
    "        target = targets[\"Y:Aggr\"]\n",
    "    else:\n",
    "        target = targets[\"Y:Titer\"]\n",
    "\n",
    "    return pd.DataFrame(target)"
   ]
  },
  {
   "cell_type": "code",
   "execution_count": 34,
   "metadata": {},
   "outputs": [],
   "source": [
    "def vip(x, y, model):\n",
    "    import numpy as np\n",
    "\n",
    "    # Score matrix T (latent variables), corresponding to T in the formula\n",
    "    t = model.x_scores_\n",
    "\n",
    "    # Weight matrix W, corresponding to W in the formula\n",
    "    w = model.x_weights_\n",
    "\n",
    "    # Loadings matrix Q, corresponding to c in the formula (sometimes Q is used for loadings in PLS models)\n",
    "    q = model.y_loadings_\n",
    "\n",
    "    # Number of samples (m) and number of variables (p), corresponding to the shape of X\n",
    "    m, p = x.shape\n",
    "\n",
    "    # Number of latent variables (h), corresponding to the shape of T\n",
    "    _, h = t.shape\n",
    "\n",
    "    # Initialize VIP scores array\n",
    "    vips = np.zeros((p,))\n",
    "\n",
    "    # Calculate SS(c_i t_i), the s in the formula, representing the sum of squares for the i-th latent variable\n",
    "    # Here, t.T @ t is T^t * T, q.T @ q is c^t * c\n",
    "    s = np.diag(t.T @ t @ q.T @ q).reshape(h, -1)\n",
    "\n",
    "    # Calculate the total sum of SS(c_i t_i)\n",
    "    total_s = np.sum(s)\n",
    "\n",
    "    # Calculate the VIP score for each variable\n",
    "    for i in range(p):\n",
    "        # Calculate (w_ij / ||w_i||)^2 for each latent variable j\n",
    "        # w[:,j] is the j-th column of weights, representing the weights for the j-th latent variable\n",
    "        weight = np.array([(w[i, j] / np.linalg.norm(w[:, j])) ** 2 for j in range(h)])\n",
    "\n",
    "        # Calculate the VIP score using the formula:\n",
    "        # VIP_j = (k * ∑(SS(c_i t_i) * (w_ij / ||w_i||)^2) / ∑(SS(c_i t_i)))^(1/2)\n",
    "        # Where k = p (number of variables)\n",
    "        vips[i] = np.sqrt(p * np.sum(s.T @ weight) / total_s)\n",
    "\n",
    "    return vips"
   ]
  },
  {
   "cell_type": "code",
   "execution_count": 55,
   "metadata": {},
   "outputs": [],
   "source": [
    "def fit_pls_model(\n",
    "    doe, tar, latent_variables=5, polynomial_degree=1, interactions_only=False\n",
    "):\n",
    "    # Define pipeline\n",
    "    include_bias = False\n",
    "    if polynomial_degree == 0:\n",
    "        print(\"Constant model for pls is not allowed!\")\n",
    "        latent_variables = 1\n",
    "        include_bias = True\n",
    "    if polynomial_degree == 1:\n",
    "        latent_variables = min(latent_variables, 5)\n",
    "    poly_features = PolynomialFeatures(\n",
    "        degree=polynomial_degree,\n",
    "        interaction_only=interactions_only,\n",
    "        include_bias=include_bias,\n",
    "    )\n",
    "\n",
    "    # Normlization data\n",
    "    standard_scaler = StandardScaler(with_mean=True, with_std=True)\n",
    "\n",
    "    pls_model = PLSRegression(n_components=latent_variables, scale=True)\n",
    "    pipe = Pipeline(\n",
    "        [(\"features\", poly_features), (\"scaler\", standard_scaler), (\"model\", pls_model)]\n",
    "    )\n",
    "\n",
    "    # Fit PLS model\n",
    "    X = doe\n",
    "    y = tar\n",
    "    pipe.fit(X, y)\n",
    "\n",
    "    # Model features and variable importance\n",
    "    X_columns = poly_features.get_feature_names_out()\n",
    "    X_preproc = pd.DataFrame(\n",
    "        pipe.steps[1][1].transform(pipe.steps[0][1].transform(X)), columns=X_columns\n",
    "    )\n",
    "    pls_vip = vip(X_preproc, y, pls_model)\n",
    "    return X_columns, pls_vip, pipe\n",
    "\n",
    "\n",
    "def plot_pls_model_coef(X_columns, pls_vip):\n",
    "    # Plot Model Inference\n",
    "    fig = px.bar(\n",
    "        x=list(X_columns),\n",
    "        y=pls_vip.reshape(-1),\n",
    "        title=\"VIP scores of PLS model\",\n",
    "        labels={\"x\": \"Variables\", \"y\": \"Estimated VIP\", \"color\": \"p-value\"},\n",
    "    )\n",
    "    fig.add_hline(y=1)\n",
    "    fig.add_hline(y=0.8, line=dict(color=\"gray\"))\n",
    "    fig.update_layout(width=1600)\n",
    "    fig.show()\n",
    "\n",
    "\n",
    "def plot_pls_model_eval(\n",
    "    y,\n",
    "    yhat,\n",
    "    y_test,\n",
    "    yhat_test,\n",
    "    train_r2=None,\n",
    "    test_r2=None,\n",
    "    train_abs_rmse=None,\n",
    "    test_abs_rmse=None,\n",
    "    train_rel_rmse=None,\n",
    "    test_rel_rmse=None,\n",
    "):\n",
    "\n",
    "    # Plot observed vs predicted\n",
    "    fig = make_subplots(\n",
    "        rows=1,\n",
    "        cols=2,\n",
    "        subplot_titles=(\n",
    "            f\"Train Set <br> R^2 = {train_r2} <br> Abs RMSE = {train_abs_rmse} <br> Rel RMSE = {train_rel_rmse}\",\n",
    "            f\"Test Set <br> R^2 = {test_r2} <br> Abs RMSE = {test_abs_rmse} <br> Rel RMSE = {test_rel_rmse}\",\n",
    "        ),\n",
    "    )\n",
    "    # Train set plot\n",
    "    fig.add_trace(\n",
    "        go.Scatter(x=y.values.reshape(-1), y=yhat.reshape(-1), mode=\"markers\"),\n",
    "        row=1,\n",
    "        col=1,\n",
    "    )\n",
    "    fig.add_shape(\n",
    "        type=\"line\",\n",
    "        x0=min(yhat)[0],\n",
    "        y0=min(yhat)[0],\n",
    "        x1=max(yhat)[0],\n",
    "        y1=max(yhat)[0],\n",
    "        layer=\"below\",\n",
    "        line=dict(dash=\"dash\"),\n",
    "    )\n",
    "    # Test set plot\n",
    "    fig.add_trace(\n",
    "        go.Scatter(\n",
    "            x=y_test.values.reshape(-1), y=yhat_test.reshape(-1), mode=\"markers\"\n",
    "        ),\n",
    "        row=1,\n",
    "        col=2,\n",
    "    )\n",
    "    fig.add_shape(\n",
    "        type=\"line\",\n",
    "        x0=min(yhat_test)[0],\n",
    "        y0=min(yhat_test)[0],\n",
    "        x1=max(yhat_test)[0],\n",
    "        y1=max(yhat_test)[0],\n",
    "        layer=\"below\",\n",
    "        line=dict(dash=\"dash\"),\n",
    "        row=1,\n",
    "        col=2,\n",
    "    )\n",
    "\n",
    "    fig.update_layout(width=1600)\n",
    "    fig.update_xaxes(title=\"Observed values\", row=1, col=1)\n",
    "    fig.update_xaxes(title=\"Observed values\", row=1, col=2)\n",
    "    fig.update_yaxes(title=\"Predicted values\", row=1, col=1)\n",
    "    fig.update_yaxes(title=\"Predicted values\", row=1, col=2)\n",
    "    fig.show()\n",
    "\n",
    "\n",
    "def plot_pls_scores(X_columns, pipe, pc_x_axis=1, pc_y_axis=2):\n",
    "    pls_model = pipe[\"model\"]\n",
    "    fig = make_subplots(\n",
    "        rows=2,\n",
    "        cols=2,\n",
    "        specs=[[{\"colspan\": 2}, None], [{}, {}]],\n",
    "        subplot_titles=(\n",
    "            \"Scores Plot \",\n",
    "            \"Loadings of Principal Component - \" + str(pc_x_axis),\n",
    "            \"Loadings of Principal Component - \" + str(pc_y_axis),\n",
    "        ),\n",
    "    )\n",
    "    fig.add_trace(\n",
    "        go.Scatter(\n",
    "            x=pls_model.x_scores_[:, pc_x_axis],\n",
    "            y=pls_model.x_scores_[:, pc_y_axis],\n",
    "            mode=\"markers\",\n",
    "            name=\"Scores\",\n",
    "        ),\n",
    "        row=1,\n",
    "        col=1,\n",
    "    )\n",
    "    fig.add_bar(\n",
    "        x=X_columns,\n",
    "        y=pls_model.x_loadings_[:, pc_x_axis - 1],\n",
    "        name=\"Loadings PC - \" + str(pc_x_axis),\n",
    "        row=2,\n",
    "        col=[1, 2],\n",
    "    )\n",
    "    fig.add_bar(\n",
    "        x=X_columns,\n",
    "        y=pls_model.x_loadings_[:, pc_y_axis - 1],\n",
    "        name=\"Loadings PC - \" + str(pc_y_axis),\n",
    "        row=2,\n",
    "        col=2,\n",
    "    )\n",
    "    fig.update_layout(height=1000)\n",
    "    fig.show()"
   ]
  },
  {
   "cell_type": "markdown",
   "metadata": {},
   "source": [
    "# Dataset"
   ]
  },
  {
   "cell_type": "code",
   "execution_count": 36,
   "metadata": {},
   "outputs": [],
   "source": [
    "def read_owu_v3(file, root_path = 'dataset/datahow_2022/interpolation/'):\n",
    "\tdata = pd.read_csv(f'{root_path}/{file}.csv')\n",
    "\towu_df = data.copy()\n",
    "\towu_df.set_index(['run', 'time'], inplace=True)\n",
    "\treturn owu_df\n",
    "\n",
    "def read_doe(file, root_path= 'dataset/datahow_2022/interpolation/'):\n",
    "\tdata = pd.read_csv(f'{root_path}/{file}.csv', usecols=[\"feed_start\", \"feed_end\", \"Glc_feed_rate\", \"Glc_0\", \"VCD_0\"])\n",
    "\tdoe_df = data.copy()\n",
    "\treturn doe_df"
   ]
  },
  {
   "cell_type": "code",
   "execution_count": 37,
   "metadata": {},
   "outputs": [],
   "source": [
    "owu = read_owu_v3('owu')\n",
    "doe = read_doe('owu_doe')\n",
    "bwu = generate_bwu(owu)\n",
    "tar = generate_y(bwu, return_aggr=False)\n",
    "owu_test = read_owu_v3('owu_test')\n",
    "doe_test = read_doe('owu_test_doe')\n",
    "bwu_test = generate_bwu(owu_test)\n",
    "tar_test = generate_y(bwu_test, return_aggr=False)"
   ]
  },
  {
   "cell_type": "markdown",
   "metadata": {},
   "source": [
    "# Data-Driven Models for CQAs\n",
    "\n",
    "- Aim of predicting the final titer\n",
    "\n",
    "<details>\n",
    "<summary>\n",
    "<font size=\"3\" color=\"black\">\n",
    "<b>PLS Introduction ⏏︎Click to open</b>\n",
    "</font>\n",
    "</summary>\n",
    "\n",
    "<img src=\"assets/pls_explain.png\" alt=\"Variables Type\" width=\"1000\">\n",
    "\n",
    "\n",
    "\n",
    "PLS 模型允许我们使用更多的变量/列而不会导致模型过度拟合。\n",
    "\n",
    "在只有一个响应变量 $ y $ 和 $ k $ 个预测变量的情况下，具有 $ h $ 个潜变量的 PLS 回归模型表达如下：\n",
    "\n",
    "$$ X = T W^t + E$$\n",
    "\n",
    "$$ y = U c^t + f $$\n",
    "\n",
    "### 模型解释\n",
    "\n",
    "- **X**：原始预测变量矩阵。\n",
    "- **T**：得分矩阵（潜变量矩阵）。\n",
    "- **W**：权重矩阵。\n",
    "- **E**：误差矩阵。\n",
    "- **y**：响应变量。\n",
    "- **U**：响应变量的得分矩阵。\n",
    "- **c**：回归系数向量。\n",
    "- **f**：响应变量的误差向量。\n",
    "\n",
    "PLS 模型通过找到一组新的潜变量（得分矩阵 $ T $ 和 $ U $）来解释原始变量和响应变量之间的关系，从而减少数据的维度并避免多重共线性的问题。\n",
    "\n",
    "### VIP (变量重要性投影) 分数\n",
    "\n",
    "VIP 分数是用于衡量变量在模型中重要性的指标。对于第 $ j $ 个变量，VIP 分数计算公式如下：\n",
    "\n",
    "$$ VIP_j = \\left( k \\sum_{i=1}^h \\left(SS(c_i t_i) \\left(\\frac{w_{ij}}{||w_i||}\\right)^2\\right) / \\sum_{k=1}^h (c_i t_i) \\right)^{1/2} $$\n",
    "\n",
    "- **VIP_j**：第 $ j $ 个变量的 VIP 分数。\n",
    "- **k**：总的预测变量数。\n",
    "- **h**：潜变量的数量。\n",
    "- **SS(c_i t_i)**：第 $ i $ 个潜变量的平方和。\n",
    "- **w_{ij}**：第 $ j $ 个变量在第 $ i $ 个潜变量中的权重。\n",
    "- **||w_i||**：第 $ i $ 个潜变量权重的范数。\n",
    "\n",
    "### VIP 分数的应用\n",
    "\n",
    "- VIP 分数的平方平均值等于 1，因此“一大于一规则”通常用作变量选择的标准。即，VIP 分数大于 1 的变量被认为对模型重要，可以优先保留。\n",
    "\n",
    "### 总结\n",
    "\n",
    "- PLS 模型通过引入潜变量减少维度，并避免多重共线性的问题，使得我们可以使用更多的变量而不会导致模型过度拟合。\n",
    "- VIP 分数则帮助我们评估每个变量在模型中的重要性，提供了一个有效的变量选择标准。\n",
    "\n",
    "</details>"
   ]
  },
  {
   "cell_type": "markdown",
   "metadata": {},
   "source": [
    "## BB-PLS1\n",
    "- Black Box - Partial Least Square Model (PLS1)\n",
    "- Training: $[Z, X(t = 0)] \\rightarrow PLS1 \\rightarrow Y_{Final}$\n",
    "\n",
    "* Input matrix: \"doe\". This corresponds to the values of the manipulated process parameters for each experiment.\n",
    "* Output target: \"tar\". This corresponds to the final value of titer at the end of each experiment. (or aggregates)\n",
    "* Select the number of latent variables for the model (the maximum number of latent variables is 5, equal to the number of variables in the input matrix)."
   ]
  },
  {
   "cell_type": "markdown",
   "metadata": {},
   "source": [
    "### Data"
   ]
  },
  {
   "cell_type": "code",
   "execution_count": 38,
   "metadata": {},
   "outputs": [
    {
     "data": {
      "text/html": [
       "<div>\n",
       "<style scoped>\n",
       "    .dataframe tbody tr th:only-of-type {\n",
       "        vertical-align: middle;\n",
       "    }\n",
       "\n",
       "    .dataframe tbody tr th {\n",
       "        vertical-align: top;\n",
       "    }\n",
       "\n",
       "    .dataframe thead th {\n",
       "        text-align: right;\n",
       "    }\n",
       "</style>\n",
       "<table border=\"1\" class=\"dataframe\">\n",
       "  <thead>\n",
       "    <tr style=\"text-align: right;\">\n",
       "      <th></th>\n",
       "      <th>feed_start</th>\n",
       "      <th>feed_end</th>\n",
       "      <th>Glc_feed_rate</th>\n",
       "      <th>Glc_0</th>\n",
       "      <th>VCD_0</th>\n",
       "      <th>Target</th>\n",
       "    </tr>\n",
       "  </thead>\n",
       "  <tbody>\n",
       "    <tr>\n",
       "      <th>0</th>\n",
       "      <td>2.500000</td>\n",
       "      <td>10.000000</td>\n",
       "      <td>12.500000</td>\n",
       "      <td>45.000000</td>\n",
       "      <td>0.550000</td>\n",
       "      <td>1565.310032</td>\n",
       "    </tr>\n",
       "    <tr>\n",
       "      <th>1</th>\n",
       "      <td>1.948980</td>\n",
       "      <td>10.244898</td>\n",
       "      <td>18.622449</td>\n",
       "      <td>40.714286</td>\n",
       "      <td>0.274490</td>\n",
       "      <td>854.449233</td>\n",
       "    </tr>\n",
       "    <tr>\n",
       "      <th>2</th>\n",
       "      <td>3.295918</td>\n",
       "      <td>9.346939</td>\n",
       "      <td>14.642857</td>\n",
       "      <td>17.857143</td>\n",
       "      <td>0.127551</td>\n",
       "      <td>1206.096655</td>\n",
       "    </tr>\n",
       "    <tr>\n",
       "      <th>3</th>\n",
       "      <td>3.479592</td>\n",
       "      <td>9.020408</td>\n",
       "      <td>15.561224</td>\n",
       "      <td>47.857143</td>\n",
       "      <td>0.843878</td>\n",
       "      <td>1587.937536</td>\n",
       "    </tr>\n",
       "    <tr>\n",
       "      <th>4</th>\n",
       "      <td>1.459184</td>\n",
       "      <td>9.591837</td>\n",
       "      <td>7.295918</td>\n",
       "      <td>33.571429</td>\n",
       "      <td>0.421429</td>\n",
       "      <td>811.55299</td>\n",
       "    </tr>\n",
       "  </tbody>\n",
       "</table>\n",
       "</div>"
      ],
      "text/plain": [
       "   feed_start   feed_end  Glc_feed_rate      Glc_0     VCD_0       Target\n",
       "0    2.500000  10.000000      12.500000  45.000000  0.550000  1565.310032\n",
       "1    1.948980  10.244898      18.622449  40.714286  0.274490   854.449233\n",
       "2    3.295918   9.346939      14.642857  17.857143  0.127551  1206.096655\n",
       "3    3.479592   9.020408      15.561224  47.857143  0.843878  1587.937536\n",
       "4    1.459184   9.591837       7.295918  33.571429  0.421429    811.55299"
      ]
     },
     "execution_count": 38,
     "metadata": {},
     "output_type": "execute_result"
    }
   ],
   "source": [
    "dataset = doe.copy() # inputs\n",
    "dataset[\"Target\"] = tar # outputs\n",
    "dataset.head()"
   ]
  },
  {
   "cell_type": "markdown",
   "metadata": {},
   "source": [
    "### Train"
   ]
  },
  {
   "cell_type": "code",
   "execution_count": 44,
   "metadata": {},
   "outputs": [
    {
     "data": {
      "application/vnd.plotly.v1+json": {
       "config": {
        "plotlyServerURL": "https://plot.ly"
       },
       "data": [
        {
         "alignmentgroup": "True",
         "hovertemplate": "Variables=%{x}<br>Estimated VIP=%{y}<extra></extra>",
         "legendgroup": "",
         "marker": {
          "color": "#636efa",
          "pattern": {
           "shape": ""
          }
         },
         "name": "",
         "offsetgroup": "",
         "orientation": "v",
         "showlegend": false,
         "textposition": "auto",
         "type": "bar",
         "x": [
          "feed_start",
          "feed_end",
          "Glc_feed_rate",
          "Glc_0",
          "VCD_0"
         ],
         "xaxis": "x",
         "y": [
          0.9459141613721446,
          1.2521062607739084,
          0.8014691678392292,
          1.010150230896906,
          0.9352646657863408
         ],
         "yaxis": "y"
        }
       ],
       "layout": {
        "barmode": "relative",
        "legend": {
         "tracegroupgap": 0
        },
        "shapes": [
         {
          "type": "line",
          "x0": 0,
          "x1": 1,
          "xref": "x domain",
          "y0": 1,
          "y1": 1,
          "yref": "y"
         },
         {
          "line": {
           "color": "gray"
          },
          "type": "line",
          "x0": 0,
          "x1": 1,
          "xref": "x domain",
          "y0": 0.8,
          "y1": 0.8,
          "yref": "y"
         }
        ],
        "template": {
         "data": {
          "bar": [
           {
            "error_x": {
             "color": "#2a3f5f"
            },
            "error_y": {
             "color": "#2a3f5f"
            },
            "marker": {
             "line": {
              "color": "#E5ECF6",
              "width": 0.5
             },
             "pattern": {
              "fillmode": "overlay",
              "size": 10,
              "solidity": 0.2
             }
            },
            "type": "bar"
           }
          ],
          "barpolar": [
           {
            "marker": {
             "line": {
              "color": "#E5ECF6",
              "width": 0.5
             },
             "pattern": {
              "fillmode": "overlay",
              "size": 10,
              "solidity": 0.2
             }
            },
            "type": "barpolar"
           }
          ],
          "carpet": [
           {
            "aaxis": {
             "endlinecolor": "#2a3f5f",
             "gridcolor": "white",
             "linecolor": "white",
             "minorgridcolor": "white",
             "startlinecolor": "#2a3f5f"
            },
            "baxis": {
             "endlinecolor": "#2a3f5f",
             "gridcolor": "white",
             "linecolor": "white",
             "minorgridcolor": "white",
             "startlinecolor": "#2a3f5f"
            },
            "type": "carpet"
           }
          ],
          "choropleth": [
           {
            "colorbar": {
             "outlinewidth": 0,
             "ticks": ""
            },
            "type": "choropleth"
           }
          ],
          "contour": [
           {
            "colorbar": {
             "outlinewidth": 0,
             "ticks": ""
            },
            "colorscale": [
             [
              0,
              "#0d0887"
             ],
             [
              0.1111111111111111,
              "#46039f"
             ],
             [
              0.2222222222222222,
              "#7201a8"
             ],
             [
              0.3333333333333333,
              "#9c179e"
             ],
             [
              0.4444444444444444,
              "#bd3786"
             ],
             [
              0.5555555555555556,
              "#d8576b"
             ],
             [
              0.6666666666666666,
              "#ed7953"
             ],
             [
              0.7777777777777778,
              "#fb9f3a"
             ],
             [
              0.8888888888888888,
              "#fdca26"
             ],
             [
              1,
              "#f0f921"
             ]
            ],
            "type": "contour"
           }
          ],
          "contourcarpet": [
           {
            "colorbar": {
             "outlinewidth": 0,
             "ticks": ""
            },
            "type": "contourcarpet"
           }
          ],
          "heatmap": [
           {
            "colorbar": {
             "outlinewidth": 0,
             "ticks": ""
            },
            "colorscale": [
             [
              0,
              "#0d0887"
             ],
             [
              0.1111111111111111,
              "#46039f"
             ],
             [
              0.2222222222222222,
              "#7201a8"
             ],
             [
              0.3333333333333333,
              "#9c179e"
             ],
             [
              0.4444444444444444,
              "#bd3786"
             ],
             [
              0.5555555555555556,
              "#d8576b"
             ],
             [
              0.6666666666666666,
              "#ed7953"
             ],
             [
              0.7777777777777778,
              "#fb9f3a"
             ],
             [
              0.8888888888888888,
              "#fdca26"
             ],
             [
              1,
              "#f0f921"
             ]
            ],
            "type": "heatmap"
           }
          ],
          "heatmapgl": [
           {
            "colorbar": {
             "outlinewidth": 0,
             "ticks": ""
            },
            "colorscale": [
             [
              0,
              "#0d0887"
             ],
             [
              0.1111111111111111,
              "#46039f"
             ],
             [
              0.2222222222222222,
              "#7201a8"
             ],
             [
              0.3333333333333333,
              "#9c179e"
             ],
             [
              0.4444444444444444,
              "#bd3786"
             ],
             [
              0.5555555555555556,
              "#d8576b"
             ],
             [
              0.6666666666666666,
              "#ed7953"
             ],
             [
              0.7777777777777778,
              "#fb9f3a"
             ],
             [
              0.8888888888888888,
              "#fdca26"
             ],
             [
              1,
              "#f0f921"
             ]
            ],
            "type": "heatmapgl"
           }
          ],
          "histogram": [
           {
            "marker": {
             "pattern": {
              "fillmode": "overlay",
              "size": 10,
              "solidity": 0.2
             }
            },
            "type": "histogram"
           }
          ],
          "histogram2d": [
           {
            "colorbar": {
             "outlinewidth": 0,
             "ticks": ""
            },
            "colorscale": [
             [
              0,
              "#0d0887"
             ],
             [
              0.1111111111111111,
              "#46039f"
             ],
             [
              0.2222222222222222,
              "#7201a8"
             ],
             [
              0.3333333333333333,
              "#9c179e"
             ],
             [
              0.4444444444444444,
              "#bd3786"
             ],
             [
              0.5555555555555556,
              "#d8576b"
             ],
             [
              0.6666666666666666,
              "#ed7953"
             ],
             [
              0.7777777777777778,
              "#fb9f3a"
             ],
             [
              0.8888888888888888,
              "#fdca26"
             ],
             [
              1,
              "#f0f921"
             ]
            ],
            "type": "histogram2d"
           }
          ],
          "histogram2dcontour": [
           {
            "colorbar": {
             "outlinewidth": 0,
             "ticks": ""
            },
            "colorscale": [
             [
              0,
              "#0d0887"
             ],
             [
              0.1111111111111111,
              "#46039f"
             ],
             [
              0.2222222222222222,
              "#7201a8"
             ],
             [
              0.3333333333333333,
              "#9c179e"
             ],
             [
              0.4444444444444444,
              "#bd3786"
             ],
             [
              0.5555555555555556,
              "#d8576b"
             ],
             [
              0.6666666666666666,
              "#ed7953"
             ],
             [
              0.7777777777777778,
              "#fb9f3a"
             ],
             [
              0.8888888888888888,
              "#fdca26"
             ],
             [
              1,
              "#f0f921"
             ]
            ],
            "type": "histogram2dcontour"
           }
          ],
          "mesh3d": [
           {
            "colorbar": {
             "outlinewidth": 0,
             "ticks": ""
            },
            "type": "mesh3d"
           }
          ],
          "parcoords": [
           {
            "line": {
             "colorbar": {
              "outlinewidth": 0,
              "ticks": ""
             }
            },
            "type": "parcoords"
           }
          ],
          "pie": [
           {
            "automargin": true,
            "type": "pie"
           }
          ],
          "scatter": [
           {
            "fillpattern": {
             "fillmode": "overlay",
             "size": 10,
             "solidity": 0.2
            },
            "type": "scatter"
           }
          ],
          "scatter3d": [
           {
            "line": {
             "colorbar": {
              "outlinewidth": 0,
              "ticks": ""
             }
            },
            "marker": {
             "colorbar": {
              "outlinewidth": 0,
              "ticks": ""
             }
            },
            "type": "scatter3d"
           }
          ],
          "scattercarpet": [
           {
            "marker": {
             "colorbar": {
              "outlinewidth": 0,
              "ticks": ""
             }
            },
            "type": "scattercarpet"
           }
          ],
          "scattergeo": [
           {
            "marker": {
             "colorbar": {
              "outlinewidth": 0,
              "ticks": ""
             }
            },
            "type": "scattergeo"
           }
          ],
          "scattergl": [
           {
            "marker": {
             "colorbar": {
              "outlinewidth": 0,
              "ticks": ""
             }
            },
            "type": "scattergl"
           }
          ],
          "scattermapbox": [
           {
            "marker": {
             "colorbar": {
              "outlinewidth": 0,
              "ticks": ""
             }
            },
            "type": "scattermapbox"
           }
          ],
          "scatterpolar": [
           {
            "marker": {
             "colorbar": {
              "outlinewidth": 0,
              "ticks": ""
             }
            },
            "type": "scatterpolar"
           }
          ],
          "scatterpolargl": [
           {
            "marker": {
             "colorbar": {
              "outlinewidth": 0,
              "ticks": ""
             }
            },
            "type": "scatterpolargl"
           }
          ],
          "scatterternary": [
           {
            "marker": {
             "colorbar": {
              "outlinewidth": 0,
              "ticks": ""
             }
            },
            "type": "scatterternary"
           }
          ],
          "surface": [
           {
            "colorbar": {
             "outlinewidth": 0,
             "ticks": ""
            },
            "colorscale": [
             [
              0,
              "#0d0887"
             ],
             [
              0.1111111111111111,
              "#46039f"
             ],
             [
              0.2222222222222222,
              "#7201a8"
             ],
             [
              0.3333333333333333,
              "#9c179e"
             ],
             [
              0.4444444444444444,
              "#bd3786"
             ],
             [
              0.5555555555555556,
              "#d8576b"
             ],
             [
              0.6666666666666666,
              "#ed7953"
             ],
             [
              0.7777777777777778,
              "#fb9f3a"
             ],
             [
              0.8888888888888888,
              "#fdca26"
             ],
             [
              1,
              "#f0f921"
             ]
            ],
            "type": "surface"
           }
          ],
          "table": [
           {
            "cells": {
             "fill": {
              "color": "#EBF0F8"
             },
             "line": {
              "color": "white"
             }
            },
            "header": {
             "fill": {
              "color": "#C8D4E3"
             },
             "line": {
              "color": "white"
             }
            },
            "type": "table"
           }
          ]
         },
         "layout": {
          "annotationdefaults": {
           "arrowcolor": "#2a3f5f",
           "arrowhead": 0,
           "arrowwidth": 1
          },
          "autotypenumbers": "strict",
          "coloraxis": {
           "colorbar": {
            "outlinewidth": 0,
            "ticks": ""
           }
          },
          "colorscale": {
           "diverging": [
            [
             0,
             "#8e0152"
            ],
            [
             0.1,
             "#c51b7d"
            ],
            [
             0.2,
             "#de77ae"
            ],
            [
             0.3,
             "#f1b6da"
            ],
            [
             0.4,
             "#fde0ef"
            ],
            [
             0.5,
             "#f7f7f7"
            ],
            [
             0.6,
             "#e6f5d0"
            ],
            [
             0.7,
             "#b8e186"
            ],
            [
             0.8,
             "#7fbc41"
            ],
            [
             0.9,
             "#4d9221"
            ],
            [
             1,
             "#276419"
            ]
           ],
           "sequential": [
            [
             0,
             "#0d0887"
            ],
            [
             0.1111111111111111,
             "#46039f"
            ],
            [
             0.2222222222222222,
             "#7201a8"
            ],
            [
             0.3333333333333333,
             "#9c179e"
            ],
            [
             0.4444444444444444,
             "#bd3786"
            ],
            [
             0.5555555555555556,
             "#d8576b"
            ],
            [
             0.6666666666666666,
             "#ed7953"
            ],
            [
             0.7777777777777778,
             "#fb9f3a"
            ],
            [
             0.8888888888888888,
             "#fdca26"
            ],
            [
             1,
             "#f0f921"
            ]
           ],
           "sequentialminus": [
            [
             0,
             "#0d0887"
            ],
            [
             0.1111111111111111,
             "#46039f"
            ],
            [
             0.2222222222222222,
             "#7201a8"
            ],
            [
             0.3333333333333333,
             "#9c179e"
            ],
            [
             0.4444444444444444,
             "#bd3786"
            ],
            [
             0.5555555555555556,
             "#d8576b"
            ],
            [
             0.6666666666666666,
             "#ed7953"
            ],
            [
             0.7777777777777778,
             "#fb9f3a"
            ],
            [
             0.8888888888888888,
             "#fdca26"
            ],
            [
             1,
             "#f0f921"
            ]
           ]
          },
          "colorway": [
           "#636efa",
           "#EF553B",
           "#00cc96",
           "#ab63fa",
           "#FFA15A",
           "#19d3f3",
           "#FF6692",
           "#B6E880",
           "#FF97FF",
           "#FECB52"
          ],
          "font": {
           "color": "#2a3f5f"
          },
          "geo": {
           "bgcolor": "white",
           "lakecolor": "white",
           "landcolor": "#E5ECF6",
           "showlakes": true,
           "showland": true,
           "subunitcolor": "white"
          },
          "hoverlabel": {
           "align": "left"
          },
          "hovermode": "closest",
          "mapbox": {
           "style": "light"
          },
          "paper_bgcolor": "white",
          "plot_bgcolor": "#E5ECF6",
          "polar": {
           "angularaxis": {
            "gridcolor": "white",
            "linecolor": "white",
            "ticks": ""
           },
           "bgcolor": "#E5ECF6",
           "radialaxis": {
            "gridcolor": "white",
            "linecolor": "white",
            "ticks": ""
           }
          },
          "scene": {
           "xaxis": {
            "backgroundcolor": "#E5ECF6",
            "gridcolor": "white",
            "gridwidth": 2,
            "linecolor": "white",
            "showbackground": true,
            "ticks": "",
            "zerolinecolor": "white"
           },
           "yaxis": {
            "backgroundcolor": "#E5ECF6",
            "gridcolor": "white",
            "gridwidth": 2,
            "linecolor": "white",
            "showbackground": true,
            "ticks": "",
            "zerolinecolor": "white"
           },
           "zaxis": {
            "backgroundcolor": "#E5ECF6",
            "gridcolor": "white",
            "gridwidth": 2,
            "linecolor": "white",
            "showbackground": true,
            "ticks": "",
            "zerolinecolor": "white"
           }
          },
          "shapedefaults": {
           "line": {
            "color": "#2a3f5f"
           }
          },
          "ternary": {
           "aaxis": {
            "gridcolor": "white",
            "linecolor": "white",
            "ticks": ""
           },
           "baxis": {
            "gridcolor": "white",
            "linecolor": "white",
            "ticks": ""
           },
           "bgcolor": "#E5ECF6",
           "caxis": {
            "gridcolor": "white",
            "linecolor": "white",
            "ticks": ""
           }
          },
          "title": {
           "x": 0.05
          },
          "xaxis": {
           "automargin": true,
           "gridcolor": "white",
           "linecolor": "white",
           "ticks": "",
           "title": {
            "standoff": 15
           },
           "zerolinecolor": "white",
           "zerolinewidth": 2
          },
          "yaxis": {
           "automargin": true,
           "gridcolor": "white",
           "linecolor": "white",
           "ticks": "",
           "title": {
            "standoff": 15
           },
           "zerolinecolor": "white",
           "zerolinewidth": 2
          }
         }
        },
        "title": {
         "text": "VIP scores of PLS model"
        },
        "width": 1600,
        "xaxis": {
         "anchor": "y",
         "domain": [
          0,
          1
         ],
         "title": {
          "text": "Variables"
         }
        },
        "yaxis": {
         "anchor": "x",
         "domain": [
          0,
          1
         ],
         "title": {
          "text": "Estimated VIP"
         }
        }
       }
      }
     },
     "metadata": {},
     "output_type": "display_data"
    }
   ],
   "source": [
    "\"\"\" Number of latent Variables \"\"\"\n",
    "LATENT_VARIABLES = 5\n",
    "\"\"\" Ploynomial degree of features \"\"\"\n",
    "POLYNOMIAL_DEGREE_PLS = 1\n",
    "\"\"\" Add only interaction between features\"\"\"\n",
    "INTERACTIONS_ONLY = False\n",
    "\n",
    "# Training\n",
    "X_columns, pls_vip, pipe = fit_pls_model(\n",
    "    doe,\n",
    "    tar,\n",
    "    latent_variables=LATENT_VARIABLES,\n",
    "    polynomial_degree=POLYNOMIAL_DEGREE_PLS,\n",
    "    interactions_only=INTERACTIONS_ONLY,\n",
    ")\n",
    "\n",
    "plot_pls_model_coef(X_columns, pls_vip)"
   ]
  },
  {
   "cell_type": "markdown",
   "metadata": {},
   "source": [
    "### Test"
   ]
  },
  {
   "cell_type": "code",
   "execution_count": 51,
   "metadata": {},
   "outputs": [
    {
     "data": {
      "application/vnd.plotly.v1+json": {
       "config": {
        "plotlyServerURL": "https://plot.ly"
       },
       "data": [
        {
         "mode": "markers",
         "type": "scatter",
         "x": [
          1565.3100316152315,
          854.4492329290191,
          1206.0966547089297,
          1587.9375363361153,
          811.5529901913034,
          841.4987076939608,
          645.8652400020387,
          978.3211904574658,
          1026.2593627477372,
          1307.3427908630745,
          1034.0873731742636,
          1268.3772140122305,
          1489.9274823809976,
          1519.9915046105887,
          1329.31439655397,
          1431.0248922870994,
          1566.2144147333108,
          1438.4509323399373,
          829.9221681206134,
          705.0060621997021,
          1432.1650836978292,
          188.37323461354003,
          1498.950979086217,
          920.6159834819938,
          1489.455399004581,
          1236.0520625432987,
          1323.9958683550722,
          1490.703545196068,
          1317.71949505948,
          1463.7461925349555,
          645.6194533195517,
          518.6891441332469,
          1508.020685458528,
          681.9077197106743,
          643.2530983456666,
          1171.9226021898683,
          1526.8075977874203,
          710.1789864596954,
          547.0659967970258,
          1239.099546696681,
          1275.603243989509,
          1516.3836910289606,
          1472.959836115183,
          1561.4366964617066,
          895.4073430723885,
          1139.0681753517283,
          1424.484489881591,
          1464.164972241741,
          639.5435764295627,
          1297.0316324502526
         ],
         "xaxis": "x",
         "y": [
          1153.5475301890322,
          1124.3621673413918,
          961.0620815930906,
          1271.0692942917922,
          883.834727590285,
          1054.3215048512752,
          1137.8560116195492,
          964.2392378284233,
          1137.7918951056865,
          994.8668810956215,
          1004.0791388536904,
          1207.6821950619862,
          1287.2398772748838,
          1228.2528142408826,
          1175.7369320956084,
          1349.9952874322314,
          1409.2338968151805,
          1258.1033348715703,
          941.2253839763796,
          1352.150945885726,
          1187.6587363215954,
          657.4234703954805,
          1225.4826873353668,
          1157.7370643115396,
          1331.0274950063758,
          1230.4594173923863,
          944.1248500401709,
          1445.2906007648407,
          1106.704287799421,
          1126.346277478338,
          777.8249415095863,
          1066.284764130439,
          1637.252260415417,
          1073.0366716590959,
          1171.8407531496791,
          1256.766819348747,
          1075.347348631821,
          1467.8360800912237,
          865.2981578432982,
          1406.0475809572006,
          1175.7857916307803,
          1090.8992899994612,
          1224.620717531281,
          1500.678170765697,
          1117.2478861695154,
          979.426750515361,
          971.3783775206897,
          1262.2779623223587,
          1103.3031275709136,
          1145.3170328292408
         ],
         "yaxis": "y"
        },
        {
         "mode": "markers",
         "type": "scatter",
         "x": [
          1486.555322665747,
          852.5421510506708,
          1553.3693013236993,
          1561.6944741051122,
          1561.9285093830367,
          1555.5990575252915,
          664.6187798777727,
          1588.1477685622356,
          1573.9990705283894,
          1393.0710551474324,
          1585.7304206956908,
          1534.768930546699,
          1586.8676827848133,
          1120.6204607891566,
          967.4138303905323,
          1581.2252660009826,
          1521.0375916532755,
          1255.2700326269191,
          1504.894937980849,
          728.3175492673013,
          1127.481659231358,
          1037.3529483901104,
          1153.1684886467415,
          1599.395719266287,
          1373.3875240676539,
          1588.972941246536,
          1397.182482338,
          1586.1796600561468,
          1268.1596010497083,
          1579.9184591007336,
          777.916772007101,
          1461.5586797240042,
          1318.0550040408075,
          1513.53945930146,
          678.9881062945203,
          920.6098404000459,
          1242.4469308698558,
          797.4025653838119,
          1418.0496260461455,
          1205.021737650426,
          1154.9710813250379,
          1360.312718950821,
          1101.630950463139,
          1504.347905209396,
          799.6625192661403,
          1530.773728116675,
          1419.8835249141798,
          1564.0148293057987,
          1562.1980325113516,
          1049.7026566235018
         ],
         "xaxis": "x2",
         "y": [
          1176.4549125703306,
          1169.1057374307368,
          1065.8612417552763,
          1236.781895475643,
          1001.5076829152371,
          1109.056283626836,
          1135.7003575788794,
          1036.6309487407223,
          1192.4769637420954,
          1062.6477662965374,
          1083.3081081025716,
          1219.5099405879453,
          1260.9436986254368,
          1228.4655689526649,
          1172.8192932106335,
          1324.4066897065593,
          1351.7114653676724,
          1270.5388945284624,
          1023.5191274179977,
          1283.937710823299,
          1195.1237795005402,
          854.2292309825316,
          1196.5810200033936,
          1197.2917815983744,
          1312.9401176366757,
          1245.5929556110177,
          1052.7873126470554,
          1363.8167939698408,
          1130.2174955092516,
          1145.5531541281866,
          933.6484779674835,
          1130.9340920982218,
          1494.8031810220505,
          1148.5437508729583,
          1168.2002566258977,
          1220.9748334811557,
          1133.4453858081054,
          1391.173997198879,
          987.0045780640186,
          1369.8439978508786,
          1222.8993995786363,
          1134.9291500280797,
          1206.2002772443545,
          1388.4640028360802,
          1132.2072667556533,
          1045.3709392999056,
          1051.592183232378,
          1237.7031346953827,
          1140.4751651737338,
          1184.813629640269
         ],
         "yaxis": "y2"
        }
       ],
       "layout": {
        "annotations": [
         {
          "font": {
           "size": 16
          },
          "showarrow": false,
          "text": "Train Set <br> R^2 = 0.269 <br> Abs RMSE = 306.317 <br> Rel RMSE = 0.855",
          "x": 0.225,
          "xanchor": "center",
          "xref": "paper",
          "y": 1,
          "yanchor": "bottom",
          "yref": "paper"
         },
         {
          "font": {
           "size": 16
          },
          "showarrow": false,
          "text": "Test Set <br> R^2 = -0.376 <br> Abs RMSE = 339.095 <br> Rel RMSE = 1.173",
          "x": 0.775,
          "xanchor": "center",
          "xref": "paper",
          "y": 1,
          "yanchor": "bottom",
          "yref": "paper"
         }
        ],
        "shapes": [
         {
          "layer": "below",
          "line": {
           "dash": "dash"
          },
          "type": "line",
          "x0": 657.4234703954805,
          "x1": 1637.252260415417,
          "y0": 657.4234703954805,
          "y1": 1637.252260415417
         },
         {
          "layer": "below",
          "line": {
           "dash": "dash"
          },
          "type": "line",
          "x0": 854.2292309825316,
          "x1": 1494.8031810220505,
          "xref": "x2",
          "y0": 854.2292309825316,
          "y1": 1494.8031810220505,
          "yref": "y2"
         }
        ],
        "template": {
         "data": {
          "bar": [
           {
            "error_x": {
             "color": "#2a3f5f"
            },
            "error_y": {
             "color": "#2a3f5f"
            },
            "marker": {
             "line": {
              "color": "#E5ECF6",
              "width": 0.5
             },
             "pattern": {
              "fillmode": "overlay",
              "size": 10,
              "solidity": 0.2
             }
            },
            "type": "bar"
           }
          ],
          "barpolar": [
           {
            "marker": {
             "line": {
              "color": "#E5ECF6",
              "width": 0.5
             },
             "pattern": {
              "fillmode": "overlay",
              "size": 10,
              "solidity": 0.2
             }
            },
            "type": "barpolar"
           }
          ],
          "carpet": [
           {
            "aaxis": {
             "endlinecolor": "#2a3f5f",
             "gridcolor": "white",
             "linecolor": "white",
             "minorgridcolor": "white",
             "startlinecolor": "#2a3f5f"
            },
            "baxis": {
             "endlinecolor": "#2a3f5f",
             "gridcolor": "white",
             "linecolor": "white",
             "minorgridcolor": "white",
             "startlinecolor": "#2a3f5f"
            },
            "type": "carpet"
           }
          ],
          "choropleth": [
           {
            "colorbar": {
             "outlinewidth": 0,
             "ticks": ""
            },
            "type": "choropleth"
           }
          ],
          "contour": [
           {
            "colorbar": {
             "outlinewidth": 0,
             "ticks": ""
            },
            "colorscale": [
             [
              0,
              "#0d0887"
             ],
             [
              0.1111111111111111,
              "#46039f"
             ],
             [
              0.2222222222222222,
              "#7201a8"
             ],
             [
              0.3333333333333333,
              "#9c179e"
             ],
             [
              0.4444444444444444,
              "#bd3786"
             ],
             [
              0.5555555555555556,
              "#d8576b"
             ],
             [
              0.6666666666666666,
              "#ed7953"
             ],
             [
              0.7777777777777778,
              "#fb9f3a"
             ],
             [
              0.8888888888888888,
              "#fdca26"
             ],
             [
              1,
              "#f0f921"
             ]
            ],
            "type": "contour"
           }
          ],
          "contourcarpet": [
           {
            "colorbar": {
             "outlinewidth": 0,
             "ticks": ""
            },
            "type": "contourcarpet"
           }
          ],
          "heatmap": [
           {
            "colorbar": {
             "outlinewidth": 0,
             "ticks": ""
            },
            "colorscale": [
             [
              0,
              "#0d0887"
             ],
             [
              0.1111111111111111,
              "#46039f"
             ],
             [
              0.2222222222222222,
              "#7201a8"
             ],
             [
              0.3333333333333333,
              "#9c179e"
             ],
             [
              0.4444444444444444,
              "#bd3786"
             ],
             [
              0.5555555555555556,
              "#d8576b"
             ],
             [
              0.6666666666666666,
              "#ed7953"
             ],
             [
              0.7777777777777778,
              "#fb9f3a"
             ],
             [
              0.8888888888888888,
              "#fdca26"
             ],
             [
              1,
              "#f0f921"
             ]
            ],
            "type": "heatmap"
           }
          ],
          "heatmapgl": [
           {
            "colorbar": {
             "outlinewidth": 0,
             "ticks": ""
            },
            "colorscale": [
             [
              0,
              "#0d0887"
             ],
             [
              0.1111111111111111,
              "#46039f"
             ],
             [
              0.2222222222222222,
              "#7201a8"
             ],
             [
              0.3333333333333333,
              "#9c179e"
             ],
             [
              0.4444444444444444,
              "#bd3786"
             ],
             [
              0.5555555555555556,
              "#d8576b"
             ],
             [
              0.6666666666666666,
              "#ed7953"
             ],
             [
              0.7777777777777778,
              "#fb9f3a"
             ],
             [
              0.8888888888888888,
              "#fdca26"
             ],
             [
              1,
              "#f0f921"
             ]
            ],
            "type": "heatmapgl"
           }
          ],
          "histogram": [
           {
            "marker": {
             "pattern": {
              "fillmode": "overlay",
              "size": 10,
              "solidity": 0.2
             }
            },
            "type": "histogram"
           }
          ],
          "histogram2d": [
           {
            "colorbar": {
             "outlinewidth": 0,
             "ticks": ""
            },
            "colorscale": [
             [
              0,
              "#0d0887"
             ],
             [
              0.1111111111111111,
              "#46039f"
             ],
             [
              0.2222222222222222,
              "#7201a8"
             ],
             [
              0.3333333333333333,
              "#9c179e"
             ],
             [
              0.4444444444444444,
              "#bd3786"
             ],
             [
              0.5555555555555556,
              "#d8576b"
             ],
             [
              0.6666666666666666,
              "#ed7953"
             ],
             [
              0.7777777777777778,
              "#fb9f3a"
             ],
             [
              0.8888888888888888,
              "#fdca26"
             ],
             [
              1,
              "#f0f921"
             ]
            ],
            "type": "histogram2d"
           }
          ],
          "histogram2dcontour": [
           {
            "colorbar": {
             "outlinewidth": 0,
             "ticks": ""
            },
            "colorscale": [
             [
              0,
              "#0d0887"
             ],
             [
              0.1111111111111111,
              "#46039f"
             ],
             [
              0.2222222222222222,
              "#7201a8"
             ],
             [
              0.3333333333333333,
              "#9c179e"
             ],
             [
              0.4444444444444444,
              "#bd3786"
             ],
             [
              0.5555555555555556,
              "#d8576b"
             ],
             [
              0.6666666666666666,
              "#ed7953"
             ],
             [
              0.7777777777777778,
              "#fb9f3a"
             ],
             [
              0.8888888888888888,
              "#fdca26"
             ],
             [
              1,
              "#f0f921"
             ]
            ],
            "type": "histogram2dcontour"
           }
          ],
          "mesh3d": [
           {
            "colorbar": {
             "outlinewidth": 0,
             "ticks": ""
            },
            "type": "mesh3d"
           }
          ],
          "parcoords": [
           {
            "line": {
             "colorbar": {
              "outlinewidth": 0,
              "ticks": ""
             }
            },
            "type": "parcoords"
           }
          ],
          "pie": [
           {
            "automargin": true,
            "type": "pie"
           }
          ],
          "scatter": [
           {
            "fillpattern": {
             "fillmode": "overlay",
             "size": 10,
             "solidity": 0.2
            },
            "type": "scatter"
           }
          ],
          "scatter3d": [
           {
            "line": {
             "colorbar": {
              "outlinewidth": 0,
              "ticks": ""
             }
            },
            "marker": {
             "colorbar": {
              "outlinewidth": 0,
              "ticks": ""
             }
            },
            "type": "scatter3d"
           }
          ],
          "scattercarpet": [
           {
            "marker": {
             "colorbar": {
              "outlinewidth": 0,
              "ticks": ""
             }
            },
            "type": "scattercarpet"
           }
          ],
          "scattergeo": [
           {
            "marker": {
             "colorbar": {
              "outlinewidth": 0,
              "ticks": ""
             }
            },
            "type": "scattergeo"
           }
          ],
          "scattergl": [
           {
            "marker": {
             "colorbar": {
              "outlinewidth": 0,
              "ticks": ""
             }
            },
            "type": "scattergl"
           }
          ],
          "scattermapbox": [
           {
            "marker": {
             "colorbar": {
              "outlinewidth": 0,
              "ticks": ""
             }
            },
            "type": "scattermapbox"
           }
          ],
          "scatterpolar": [
           {
            "marker": {
             "colorbar": {
              "outlinewidth": 0,
              "ticks": ""
             }
            },
            "type": "scatterpolar"
           }
          ],
          "scatterpolargl": [
           {
            "marker": {
             "colorbar": {
              "outlinewidth": 0,
              "ticks": ""
             }
            },
            "type": "scatterpolargl"
           }
          ],
          "scatterternary": [
           {
            "marker": {
             "colorbar": {
              "outlinewidth": 0,
              "ticks": ""
             }
            },
            "type": "scatterternary"
           }
          ],
          "surface": [
           {
            "colorbar": {
             "outlinewidth": 0,
             "ticks": ""
            },
            "colorscale": [
             [
              0,
              "#0d0887"
             ],
             [
              0.1111111111111111,
              "#46039f"
             ],
             [
              0.2222222222222222,
              "#7201a8"
             ],
             [
              0.3333333333333333,
              "#9c179e"
             ],
             [
              0.4444444444444444,
              "#bd3786"
             ],
             [
              0.5555555555555556,
              "#d8576b"
             ],
             [
              0.6666666666666666,
              "#ed7953"
             ],
             [
              0.7777777777777778,
              "#fb9f3a"
             ],
             [
              0.8888888888888888,
              "#fdca26"
             ],
             [
              1,
              "#f0f921"
             ]
            ],
            "type": "surface"
           }
          ],
          "table": [
           {
            "cells": {
             "fill": {
              "color": "#EBF0F8"
             },
             "line": {
              "color": "white"
             }
            },
            "header": {
             "fill": {
              "color": "#C8D4E3"
             },
             "line": {
              "color": "white"
             }
            },
            "type": "table"
           }
          ]
         },
         "layout": {
          "annotationdefaults": {
           "arrowcolor": "#2a3f5f",
           "arrowhead": 0,
           "arrowwidth": 1
          },
          "autotypenumbers": "strict",
          "coloraxis": {
           "colorbar": {
            "outlinewidth": 0,
            "ticks": ""
           }
          },
          "colorscale": {
           "diverging": [
            [
             0,
             "#8e0152"
            ],
            [
             0.1,
             "#c51b7d"
            ],
            [
             0.2,
             "#de77ae"
            ],
            [
             0.3,
             "#f1b6da"
            ],
            [
             0.4,
             "#fde0ef"
            ],
            [
             0.5,
             "#f7f7f7"
            ],
            [
             0.6,
             "#e6f5d0"
            ],
            [
             0.7,
             "#b8e186"
            ],
            [
             0.8,
             "#7fbc41"
            ],
            [
             0.9,
             "#4d9221"
            ],
            [
             1,
             "#276419"
            ]
           ],
           "sequential": [
            [
             0,
             "#0d0887"
            ],
            [
             0.1111111111111111,
             "#46039f"
            ],
            [
             0.2222222222222222,
             "#7201a8"
            ],
            [
             0.3333333333333333,
             "#9c179e"
            ],
            [
             0.4444444444444444,
             "#bd3786"
            ],
            [
             0.5555555555555556,
             "#d8576b"
            ],
            [
             0.6666666666666666,
             "#ed7953"
            ],
            [
             0.7777777777777778,
             "#fb9f3a"
            ],
            [
             0.8888888888888888,
             "#fdca26"
            ],
            [
             1,
             "#f0f921"
            ]
           ],
           "sequentialminus": [
            [
             0,
             "#0d0887"
            ],
            [
             0.1111111111111111,
             "#46039f"
            ],
            [
             0.2222222222222222,
             "#7201a8"
            ],
            [
             0.3333333333333333,
             "#9c179e"
            ],
            [
             0.4444444444444444,
             "#bd3786"
            ],
            [
             0.5555555555555556,
             "#d8576b"
            ],
            [
             0.6666666666666666,
             "#ed7953"
            ],
            [
             0.7777777777777778,
             "#fb9f3a"
            ],
            [
             0.8888888888888888,
             "#fdca26"
            ],
            [
             1,
             "#f0f921"
            ]
           ]
          },
          "colorway": [
           "#636efa",
           "#EF553B",
           "#00cc96",
           "#ab63fa",
           "#FFA15A",
           "#19d3f3",
           "#FF6692",
           "#B6E880",
           "#FF97FF",
           "#FECB52"
          ],
          "font": {
           "color": "#2a3f5f"
          },
          "geo": {
           "bgcolor": "white",
           "lakecolor": "white",
           "landcolor": "#E5ECF6",
           "showlakes": true,
           "showland": true,
           "subunitcolor": "white"
          },
          "hoverlabel": {
           "align": "left"
          },
          "hovermode": "closest",
          "mapbox": {
           "style": "light"
          },
          "paper_bgcolor": "white",
          "plot_bgcolor": "#E5ECF6",
          "polar": {
           "angularaxis": {
            "gridcolor": "white",
            "linecolor": "white",
            "ticks": ""
           },
           "bgcolor": "#E5ECF6",
           "radialaxis": {
            "gridcolor": "white",
            "linecolor": "white",
            "ticks": ""
           }
          },
          "scene": {
           "xaxis": {
            "backgroundcolor": "#E5ECF6",
            "gridcolor": "white",
            "gridwidth": 2,
            "linecolor": "white",
            "showbackground": true,
            "ticks": "",
            "zerolinecolor": "white"
           },
           "yaxis": {
            "backgroundcolor": "#E5ECF6",
            "gridcolor": "white",
            "gridwidth": 2,
            "linecolor": "white",
            "showbackground": true,
            "ticks": "",
            "zerolinecolor": "white"
           },
           "zaxis": {
            "backgroundcolor": "#E5ECF6",
            "gridcolor": "white",
            "gridwidth": 2,
            "linecolor": "white",
            "showbackground": true,
            "ticks": "",
            "zerolinecolor": "white"
           }
          },
          "shapedefaults": {
           "line": {
            "color": "#2a3f5f"
           }
          },
          "ternary": {
           "aaxis": {
            "gridcolor": "white",
            "linecolor": "white",
            "ticks": ""
           },
           "baxis": {
            "gridcolor": "white",
            "linecolor": "white",
            "ticks": ""
           },
           "bgcolor": "#E5ECF6",
           "caxis": {
            "gridcolor": "white",
            "linecolor": "white",
            "ticks": ""
           }
          },
          "title": {
           "x": 0.05
          },
          "xaxis": {
           "automargin": true,
           "gridcolor": "white",
           "linecolor": "white",
           "ticks": "",
           "title": {
            "standoff": 15
           },
           "zerolinecolor": "white",
           "zerolinewidth": 2
          },
          "yaxis": {
           "automargin": true,
           "gridcolor": "white",
           "linecolor": "white",
           "ticks": "",
           "title": {
            "standoff": 15
           },
           "zerolinecolor": "white",
           "zerolinewidth": 2
          }
         }
        },
        "width": 1600,
        "xaxis": {
         "anchor": "y",
         "domain": [
          0,
          0.45
         ],
         "title": {
          "text": "Observed values"
         }
        },
        "xaxis2": {
         "anchor": "y2",
         "domain": [
          0.55,
          1
         ],
         "title": {
          "text": "Observed values"
         }
        },
        "yaxis": {
         "anchor": "x",
         "domain": [
          0,
          1
         ],
         "title": {
          "text": "Predicted values"
         }
        },
        "yaxis2": {
         "anchor": "x2",
         "domain": [
          0,
          1
         ],
         "title": {
          "text": "Predicted values"
         }
        }
       }
      }
     },
     "metadata": {},
     "output_type": "display_data"
    }
   ],
   "source": [
    "# Make predictions\n",
    "X = doe\n",
    "y = tar\n",
    "yhat = pipe.predict(X)\n",
    "X_test = doe_test\n",
    "y_test = tar_test\n",
    "yhat_test = pipe.predict(X_test)\n",
    "\n",
    "\n",
    "# Calculate error metrics\n",
    "train_r2 = round(pipe.score(X, y), 3)\n",
    "train_abs_rmse = round(root_mean_squared_error(y, yhat), 3)\n",
    "train_rel_rmse = round(\n",
    "\troot_mean_squared_error(y, yhat) / np.std(np.array(y)), 3\n",
    ")\n",
    "test_r2 = round(pipe.score(X_test, y_test), 3)\n",
    "test_abs_rmse = round(root_mean_squared_error(y_test, yhat_test), 3)\n",
    "test_rel_rmse = round(\n",
    "\troot_mean_squared_error(y_test, yhat_test) / np.std(np.array(y_test)),\n",
    "\t3,\n",
    ")\n",
    "\n",
    "# Plot\n",
    "plot_pls_model_eval(\n",
    "    y, yhat, y_test, yhat_test,\n",
    "    train_r2=train_r2,\n",
    "    test_r2=test_r2,\n",
    "    train_abs_rmse=train_abs_rmse,\n",
    "    test_abs_rmse=test_abs_rmse,\n",
    "    train_rel_rmse=train_rel_rmse,\n",
    "    test_rel_rmse=test_rel_rmse,\n",
    ")"
   ]
  },
  {
   "cell_type": "markdown",
   "metadata": {},
   "source": [
    "### PCA"
   ]
  },
  {
   "cell_type": "code",
   "execution_count": 56,
   "metadata": {},
   "outputs": [
    {
     "data": {
      "application/vnd.plotly.v1+json": {
       "config": {
        "plotlyServerURL": "https://plot.ly"
       },
       "data": [
        {
         "mode": "markers",
         "name": "Scores",
         "type": "scatter",
         "x": [
          -1.579581670783463e-16,
          0.3660872340178329,
          -0.18179301189806332,
          -1.4889522839088596,
          0.5708300856918781,
          -0.5787672156626551,
          -1.4350751865627767,
          -1.239763953719773,
          1.6590842943998787,
          -0.4269641053414977,
          0.4912315021536355,
          0.6320991502254164,
          -0.3842844474991714,
          1.2686383319532117,
          -0.15862857345734505,
          0.6633935007758696,
          0.020842028443130413,
          1.6886726271177397,
          -1.3641063490298755,
          -1.2466634153719198,
          -0.3946455787113749,
          -0.053505797299222564,
          -2.011121068665618,
          1.998037696771146,
          0.5358770575947068,
          1.1443736876410417,
          1.5429699106921844,
          0.02215025048159088,
          -1.58108160118495,
          -1.2854285034353403,
          -0.5870267034612291,
          0.9142742554465205,
          0.049793736290497256,
          0.8093002354382509,
          -1.1398141762587535,
          -0.3531094459840467,
          0.8021284944383558,
          0.36546149367124187,
          -0.2586671400551545,
          1.0509862587264898,
          1.9234645273841278,
          0.6276457745015921,
          -0.599975988510753,
          -0.7391868549314249,
          -0.7086501913808624,
          -0.9149092685478494,
          -0.808900244331338,
          -0.4335548486432977,
          0.2939591786321685,
          0.9332746413646439
         ],
         "xaxis": "x",
         "y": [
          -7.776246896688073e-17,
          0.2819020847637809,
          2.0796045542861465,
          0.5103206988379116,
          -0.7138223031750628,
          1.1754482036458176,
          -1.7507857319840576,
          -0.20079709109176427,
          0.5790446365251716,
          0.14490168826444108,
          -0.31474693971676454,
          0.5784927303613159,
          0.6871279604895901,
          -2.138468571475928,
          -2.0770789172835027,
          1.460121047300114,
          1.1882314994901382,
          -0.4946146011231191,
          0.5774716886739428,
          -0.8415960202745058,
          -0.2781062349473827,
          0.6280536627640034,
          -0.31047991030896765,
          -1.3890424451707943,
          1.2147707743074765,
          0.276281256466622,
          -0.8104186405463359,
          0.26655882741750553,
          1.1765565391993171,
          0.36595349552866874,
          0.5247086931538129,
          0.16024429157858058,
          0.07931631817605472,
          1.9725282540188147,
          -0.8213861110417643,
          -2.2381140327785536,
          -0.7123416097265461,
          0.5521682583347866,
          0.5480657615330392,
          1.5997568907139763,
          0.2802763478444213,
          -1.0094001213228059,
          -1.4468538173778493,
          -0.07149074863466709,
          -1.4930293569706166,
          -0.1023579637627201,
          0.9745351165532794,
          0.03689320348371049,
          -0.4851318167435019,
          -0.21927149825522868
         ],
         "yaxis": "y"
        },
        {
         "name": "Loadings PC - 1",
         "type": "bar",
         "x": [
          "feed_start",
          "feed_end",
          "Glc_feed_rate",
          "Glc_0",
          "VCD_0"
         ],
         "xaxis": "x2",
         "y": [
          0.44640812399428936,
          0.5027135965120674,
          0.3741298670907115,
          0.47372567247582353,
          0.43375305157166677
         ],
         "yaxis": "y2"
        },
        {
         "name": "Loadings PC - 2",
         "type": "bar",
         "x": [
          "feed_start",
          "feed_end",
          "Glc_feed_rate",
          "Glc_0",
          "VCD_0"
         ],
         "xaxis": "x3",
         "y": [
          -0.13289649489869954,
          0.8452210821243279,
          -0.1998630777500638,
          -0.3866605957535779,
          -0.4033465197833239
         ],
         "yaxis": "y3"
        }
       ],
       "layout": {
        "annotations": [
         {
          "font": {
           "size": 16
          },
          "showarrow": false,
          "text": "Scores Plot ",
          "x": 0.5,
          "xanchor": "center",
          "xref": "paper",
          "y": 1,
          "yanchor": "bottom",
          "yref": "paper"
         },
         {
          "font": {
           "size": 16
          },
          "showarrow": false,
          "text": "Loadings of Principal Component - 1",
          "x": 0.225,
          "xanchor": "center",
          "xref": "paper",
          "y": 0.375,
          "yanchor": "bottom",
          "yref": "paper"
         },
         {
          "font": {
           "size": 16
          },
          "showarrow": false,
          "text": "Loadings of Principal Component - 2",
          "x": 0.775,
          "xanchor": "center",
          "xref": "paper",
          "y": 0.375,
          "yanchor": "bottom",
          "yref": "paper"
         }
        ],
        "height": 1000,
        "template": {
         "data": {
          "bar": [
           {
            "error_x": {
             "color": "#2a3f5f"
            },
            "error_y": {
             "color": "#2a3f5f"
            },
            "marker": {
             "line": {
              "color": "#E5ECF6",
              "width": 0.5
             },
             "pattern": {
              "fillmode": "overlay",
              "size": 10,
              "solidity": 0.2
             }
            },
            "type": "bar"
           }
          ],
          "barpolar": [
           {
            "marker": {
             "line": {
              "color": "#E5ECF6",
              "width": 0.5
             },
             "pattern": {
              "fillmode": "overlay",
              "size": 10,
              "solidity": 0.2
             }
            },
            "type": "barpolar"
           }
          ],
          "carpet": [
           {
            "aaxis": {
             "endlinecolor": "#2a3f5f",
             "gridcolor": "white",
             "linecolor": "white",
             "minorgridcolor": "white",
             "startlinecolor": "#2a3f5f"
            },
            "baxis": {
             "endlinecolor": "#2a3f5f",
             "gridcolor": "white",
             "linecolor": "white",
             "minorgridcolor": "white",
             "startlinecolor": "#2a3f5f"
            },
            "type": "carpet"
           }
          ],
          "choropleth": [
           {
            "colorbar": {
             "outlinewidth": 0,
             "ticks": ""
            },
            "type": "choropleth"
           }
          ],
          "contour": [
           {
            "colorbar": {
             "outlinewidth": 0,
             "ticks": ""
            },
            "colorscale": [
             [
              0,
              "#0d0887"
             ],
             [
              0.1111111111111111,
              "#46039f"
             ],
             [
              0.2222222222222222,
              "#7201a8"
             ],
             [
              0.3333333333333333,
              "#9c179e"
             ],
             [
              0.4444444444444444,
              "#bd3786"
             ],
             [
              0.5555555555555556,
              "#d8576b"
             ],
             [
              0.6666666666666666,
              "#ed7953"
             ],
             [
              0.7777777777777778,
              "#fb9f3a"
             ],
             [
              0.8888888888888888,
              "#fdca26"
             ],
             [
              1,
              "#f0f921"
             ]
            ],
            "type": "contour"
           }
          ],
          "contourcarpet": [
           {
            "colorbar": {
             "outlinewidth": 0,
             "ticks": ""
            },
            "type": "contourcarpet"
           }
          ],
          "heatmap": [
           {
            "colorbar": {
             "outlinewidth": 0,
             "ticks": ""
            },
            "colorscale": [
             [
              0,
              "#0d0887"
             ],
             [
              0.1111111111111111,
              "#46039f"
             ],
             [
              0.2222222222222222,
              "#7201a8"
             ],
             [
              0.3333333333333333,
              "#9c179e"
             ],
             [
              0.4444444444444444,
              "#bd3786"
             ],
             [
              0.5555555555555556,
              "#d8576b"
             ],
             [
              0.6666666666666666,
              "#ed7953"
             ],
             [
              0.7777777777777778,
              "#fb9f3a"
             ],
             [
              0.8888888888888888,
              "#fdca26"
             ],
             [
              1,
              "#f0f921"
             ]
            ],
            "type": "heatmap"
           }
          ],
          "heatmapgl": [
           {
            "colorbar": {
             "outlinewidth": 0,
             "ticks": ""
            },
            "colorscale": [
             [
              0,
              "#0d0887"
             ],
             [
              0.1111111111111111,
              "#46039f"
             ],
             [
              0.2222222222222222,
              "#7201a8"
             ],
             [
              0.3333333333333333,
              "#9c179e"
             ],
             [
              0.4444444444444444,
              "#bd3786"
             ],
             [
              0.5555555555555556,
              "#d8576b"
             ],
             [
              0.6666666666666666,
              "#ed7953"
             ],
             [
              0.7777777777777778,
              "#fb9f3a"
             ],
             [
              0.8888888888888888,
              "#fdca26"
             ],
             [
              1,
              "#f0f921"
             ]
            ],
            "type": "heatmapgl"
           }
          ],
          "histogram": [
           {
            "marker": {
             "pattern": {
              "fillmode": "overlay",
              "size": 10,
              "solidity": 0.2
             }
            },
            "type": "histogram"
           }
          ],
          "histogram2d": [
           {
            "colorbar": {
             "outlinewidth": 0,
             "ticks": ""
            },
            "colorscale": [
             [
              0,
              "#0d0887"
             ],
             [
              0.1111111111111111,
              "#46039f"
             ],
             [
              0.2222222222222222,
              "#7201a8"
             ],
             [
              0.3333333333333333,
              "#9c179e"
             ],
             [
              0.4444444444444444,
              "#bd3786"
             ],
             [
              0.5555555555555556,
              "#d8576b"
             ],
             [
              0.6666666666666666,
              "#ed7953"
             ],
             [
              0.7777777777777778,
              "#fb9f3a"
             ],
             [
              0.8888888888888888,
              "#fdca26"
             ],
             [
              1,
              "#f0f921"
             ]
            ],
            "type": "histogram2d"
           }
          ],
          "histogram2dcontour": [
           {
            "colorbar": {
             "outlinewidth": 0,
             "ticks": ""
            },
            "colorscale": [
             [
              0,
              "#0d0887"
             ],
             [
              0.1111111111111111,
              "#46039f"
             ],
             [
              0.2222222222222222,
              "#7201a8"
             ],
             [
              0.3333333333333333,
              "#9c179e"
             ],
             [
              0.4444444444444444,
              "#bd3786"
             ],
             [
              0.5555555555555556,
              "#d8576b"
             ],
             [
              0.6666666666666666,
              "#ed7953"
             ],
             [
              0.7777777777777778,
              "#fb9f3a"
             ],
             [
              0.8888888888888888,
              "#fdca26"
             ],
             [
              1,
              "#f0f921"
             ]
            ],
            "type": "histogram2dcontour"
           }
          ],
          "mesh3d": [
           {
            "colorbar": {
             "outlinewidth": 0,
             "ticks": ""
            },
            "type": "mesh3d"
           }
          ],
          "parcoords": [
           {
            "line": {
             "colorbar": {
              "outlinewidth": 0,
              "ticks": ""
             }
            },
            "type": "parcoords"
           }
          ],
          "pie": [
           {
            "automargin": true,
            "type": "pie"
           }
          ],
          "scatter": [
           {
            "fillpattern": {
             "fillmode": "overlay",
             "size": 10,
             "solidity": 0.2
            },
            "type": "scatter"
           }
          ],
          "scatter3d": [
           {
            "line": {
             "colorbar": {
              "outlinewidth": 0,
              "ticks": ""
             }
            },
            "marker": {
             "colorbar": {
              "outlinewidth": 0,
              "ticks": ""
             }
            },
            "type": "scatter3d"
           }
          ],
          "scattercarpet": [
           {
            "marker": {
             "colorbar": {
              "outlinewidth": 0,
              "ticks": ""
             }
            },
            "type": "scattercarpet"
           }
          ],
          "scattergeo": [
           {
            "marker": {
             "colorbar": {
              "outlinewidth": 0,
              "ticks": ""
             }
            },
            "type": "scattergeo"
           }
          ],
          "scattergl": [
           {
            "marker": {
             "colorbar": {
              "outlinewidth": 0,
              "ticks": ""
             }
            },
            "type": "scattergl"
           }
          ],
          "scattermapbox": [
           {
            "marker": {
             "colorbar": {
              "outlinewidth": 0,
              "ticks": ""
             }
            },
            "type": "scattermapbox"
           }
          ],
          "scatterpolar": [
           {
            "marker": {
             "colorbar": {
              "outlinewidth": 0,
              "ticks": ""
             }
            },
            "type": "scatterpolar"
           }
          ],
          "scatterpolargl": [
           {
            "marker": {
             "colorbar": {
              "outlinewidth": 0,
              "ticks": ""
             }
            },
            "type": "scatterpolargl"
           }
          ],
          "scatterternary": [
           {
            "marker": {
             "colorbar": {
              "outlinewidth": 0,
              "ticks": ""
             }
            },
            "type": "scatterternary"
           }
          ],
          "surface": [
           {
            "colorbar": {
             "outlinewidth": 0,
             "ticks": ""
            },
            "colorscale": [
             [
              0,
              "#0d0887"
             ],
             [
              0.1111111111111111,
              "#46039f"
             ],
             [
              0.2222222222222222,
              "#7201a8"
             ],
             [
              0.3333333333333333,
              "#9c179e"
             ],
             [
              0.4444444444444444,
              "#bd3786"
             ],
             [
              0.5555555555555556,
              "#d8576b"
             ],
             [
              0.6666666666666666,
              "#ed7953"
             ],
             [
              0.7777777777777778,
              "#fb9f3a"
             ],
             [
              0.8888888888888888,
              "#fdca26"
             ],
             [
              1,
              "#f0f921"
             ]
            ],
            "type": "surface"
           }
          ],
          "table": [
           {
            "cells": {
             "fill": {
              "color": "#EBF0F8"
             },
             "line": {
              "color": "white"
             }
            },
            "header": {
             "fill": {
              "color": "#C8D4E3"
             },
             "line": {
              "color": "white"
             }
            },
            "type": "table"
           }
          ]
         },
         "layout": {
          "annotationdefaults": {
           "arrowcolor": "#2a3f5f",
           "arrowhead": 0,
           "arrowwidth": 1
          },
          "autotypenumbers": "strict",
          "coloraxis": {
           "colorbar": {
            "outlinewidth": 0,
            "ticks": ""
           }
          },
          "colorscale": {
           "diverging": [
            [
             0,
             "#8e0152"
            ],
            [
             0.1,
             "#c51b7d"
            ],
            [
             0.2,
             "#de77ae"
            ],
            [
             0.3,
             "#f1b6da"
            ],
            [
             0.4,
             "#fde0ef"
            ],
            [
             0.5,
             "#f7f7f7"
            ],
            [
             0.6,
             "#e6f5d0"
            ],
            [
             0.7,
             "#b8e186"
            ],
            [
             0.8,
             "#7fbc41"
            ],
            [
             0.9,
             "#4d9221"
            ],
            [
             1,
             "#276419"
            ]
           ],
           "sequential": [
            [
             0,
             "#0d0887"
            ],
            [
             0.1111111111111111,
             "#46039f"
            ],
            [
             0.2222222222222222,
             "#7201a8"
            ],
            [
             0.3333333333333333,
             "#9c179e"
            ],
            [
             0.4444444444444444,
             "#bd3786"
            ],
            [
             0.5555555555555556,
             "#d8576b"
            ],
            [
             0.6666666666666666,
             "#ed7953"
            ],
            [
             0.7777777777777778,
             "#fb9f3a"
            ],
            [
             0.8888888888888888,
             "#fdca26"
            ],
            [
             1,
             "#f0f921"
            ]
           ],
           "sequentialminus": [
            [
             0,
             "#0d0887"
            ],
            [
             0.1111111111111111,
             "#46039f"
            ],
            [
             0.2222222222222222,
             "#7201a8"
            ],
            [
             0.3333333333333333,
             "#9c179e"
            ],
            [
             0.4444444444444444,
             "#bd3786"
            ],
            [
             0.5555555555555556,
             "#d8576b"
            ],
            [
             0.6666666666666666,
             "#ed7953"
            ],
            [
             0.7777777777777778,
             "#fb9f3a"
            ],
            [
             0.8888888888888888,
             "#fdca26"
            ],
            [
             1,
             "#f0f921"
            ]
           ]
          },
          "colorway": [
           "#636efa",
           "#EF553B",
           "#00cc96",
           "#ab63fa",
           "#FFA15A",
           "#19d3f3",
           "#FF6692",
           "#B6E880",
           "#FF97FF",
           "#FECB52"
          ],
          "font": {
           "color": "#2a3f5f"
          },
          "geo": {
           "bgcolor": "white",
           "lakecolor": "white",
           "landcolor": "#E5ECF6",
           "showlakes": true,
           "showland": true,
           "subunitcolor": "white"
          },
          "hoverlabel": {
           "align": "left"
          },
          "hovermode": "closest",
          "mapbox": {
           "style": "light"
          },
          "paper_bgcolor": "white",
          "plot_bgcolor": "#E5ECF6",
          "polar": {
           "angularaxis": {
            "gridcolor": "white",
            "linecolor": "white",
            "ticks": ""
           },
           "bgcolor": "#E5ECF6",
           "radialaxis": {
            "gridcolor": "white",
            "linecolor": "white",
            "ticks": ""
           }
          },
          "scene": {
           "xaxis": {
            "backgroundcolor": "#E5ECF6",
            "gridcolor": "white",
            "gridwidth": 2,
            "linecolor": "white",
            "showbackground": true,
            "ticks": "",
            "zerolinecolor": "white"
           },
           "yaxis": {
            "backgroundcolor": "#E5ECF6",
            "gridcolor": "white",
            "gridwidth": 2,
            "linecolor": "white",
            "showbackground": true,
            "ticks": "",
            "zerolinecolor": "white"
           },
           "zaxis": {
            "backgroundcolor": "#E5ECF6",
            "gridcolor": "white",
            "gridwidth": 2,
            "linecolor": "white",
            "showbackground": true,
            "ticks": "",
            "zerolinecolor": "white"
           }
          },
          "shapedefaults": {
           "line": {
            "color": "#2a3f5f"
           }
          },
          "ternary": {
           "aaxis": {
            "gridcolor": "white",
            "linecolor": "white",
            "ticks": ""
           },
           "baxis": {
            "gridcolor": "white",
            "linecolor": "white",
            "ticks": ""
           },
           "bgcolor": "#E5ECF6",
           "caxis": {
            "gridcolor": "white",
            "linecolor": "white",
            "ticks": ""
           }
          },
          "title": {
           "x": 0.05
          },
          "xaxis": {
           "automargin": true,
           "gridcolor": "white",
           "linecolor": "white",
           "ticks": "",
           "title": {
            "standoff": 15
           },
           "zerolinecolor": "white",
           "zerolinewidth": 2
          },
          "yaxis": {
           "automargin": true,
           "gridcolor": "white",
           "linecolor": "white",
           "ticks": "",
           "title": {
            "standoff": 15
           },
           "zerolinecolor": "white",
           "zerolinewidth": 2
          }
         }
        },
        "xaxis": {
         "anchor": "y",
         "domain": [
          0,
          1
         ]
        },
        "xaxis2": {
         "anchor": "y2",
         "domain": [
          0,
          0.45
         ]
        },
        "xaxis3": {
         "anchor": "y3",
         "domain": [
          0.55,
          1
         ]
        },
        "yaxis": {
         "anchor": "x",
         "domain": [
          0.625,
          1
         ]
        },
        "yaxis2": {
         "anchor": "x2",
         "domain": [
          0,
          0.375
         ]
        },
        "yaxis3": {
         "anchor": "x3",
         "domain": [
          0,
          0.375
         ]
        }
       }
      }
     },
     "metadata": {},
     "output_type": "display_data"
    }
   ],
   "source": [
    "plot_pls_scores(X_columns, pipe, pc_x_axis=1, pc_y_axis=2)"
   ]
  },
  {
   "cell_type": "markdown",
   "metadata": {},
   "source": [
    "## BWU-PLS1\n",
    "- Batch Wise Unfolded - Partial Least Square Model (PLS1), also called Historical-PLS\n",
    "- One model per timepoint per process variable is developed, denoted as $PLS1_{i, t}$\n",
    "\t- But, using the process condition and the historical information available until a given time\n",
    "- Training: $[Z, X(t < t_{model})] \\rightarrow PLS1_{i, t} \\rightarrow X_i(t=t_{model})$\n",
    "- Testing: $[Z, X(t = 0), X^{predicted}(t < t_{model})] \\rightarrow PLS1_{i, t} \\rightarrow X_i(t=t_{model})$"
   ]
  },
  {
   "cell_type": "code",
   "execution_count": null,
   "metadata": {},
   "outputs": [],
   "source": []
  },
  {
   "cell_type": "markdown",
   "metadata": {},
   "source": [
    "# Data-Driven Models for Simulation"
   ]
  },
  {
   "cell_type": "markdown",
   "metadata": {},
   "source": [
    "## BB-PLS1\n",
    "- Black Box - Partial Least Square Model (PLS1)\n",
    "- One model per timepoint per process variable is developed, denoted as $PLS1_{i, t}$\n",
    "- Training: $[Z, X(t = 0)] \\rightarrow PLS1_{i, t} \\rightarrow X_i(t = t_{model})$"
   ]
  },
  {
   "cell_type": "code",
   "execution_count": null,
   "metadata": {},
   "outputs": [],
   "source": []
  },
  {
   "cell_type": "markdown",
   "metadata": {},
   "source": [
    "## BWU-PLS1\n",
    "- Batch Wise Unfolded - Partial Least Square Model (PLS1), also called Historical-PLS\n",
    "- One model per timepoint per process variable is developed, denoted as $PLS1_{i, t}$\n",
    "\t- But, using the process condition and the historical information available until a given time\n",
    "- Training: $[Z, X(t < t_{model})] \\rightarrow PLS1_{i, t} \\rightarrow X_i(t=t_{model})$\n",
    "- Testing: $[Z, X(t = 0), X^{predicted}(t < t_{model})] \\rightarrow PLS1_{i, t} \\rightarrow X_i(t=t_{model})$"
   ]
  },
  {
   "cell_type": "code",
   "execution_count": null,
   "metadata": {},
   "outputs": [],
   "source": []
  },
  {
   "cell_type": "markdown",
   "metadata": {},
   "source": [
    "## Instant-ANN\n",
    "- ANN models per variable per time point\n",
    "- Training: $[Z, X(t = t_{model} - 1)] \\rightarrow ANN_{i, t} \\rightarrow X_i(t = t_{model})$\n",
    "- Testing: $[Z, \\hat{X}(t = t_{model} - 1)] \\rightarrow ANN_{i, t} \\rightarrow X_i(t = t_{model})$"
   ]
  },
  {
   "cell_type": "code",
   "execution_count": null,
   "metadata": {},
   "outputs": [],
   "source": []
  },
  {
   "cell_type": "markdown",
   "metadata": {},
   "source": [
    "## OWU-ANN\n",
    "- a single model is used for all time points\n",
    "- Training: $[Z, X(t = t_{model} - 1)] \\rightarrow ANN_i \\rightarrow X_i(t = t_{model})$​\n",
    "- Testing: $[Z, \\hat{X}(t = t_{model} - 1)] \\rightarrow ANN_i \\rightarrow X_i(t = t_{model})$"
   ]
  },
  {
   "cell_type": "code",
   "execution_count": null,
   "metadata": {},
   "outputs": [],
   "source": []
  }
 ],
 "metadata": {
  "kernelspec": {
   "display_name": "dl",
   "language": "python",
   "name": "python3"
  },
  "language_info": {
   "codemirror_mode": {
    "name": "ipython",
    "version": 3
   },
   "file_extension": ".py",
   "mimetype": "text/x-python",
   "name": "python",
   "nbconvert_exporter": "python",
   "pygments_lexer": "ipython3",
   "version": "3.11.8"
  }
 },
 "nbformat": 4,
 "nbformat_minor": 2
}
