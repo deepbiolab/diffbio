{
 "cells": [
  {
   "cell_type": "code",
   "execution_count": 283,
   "metadata": {},
   "outputs": [],
   "source": [
    "import pandas as pd\n",
    "import numpy as np\n",
    "from sklearn.pipeline import Pipeline\n",
    "from sklearn.cross_decomposition import PLSRegression\n",
    "from sklearn.preprocessing import StandardScaler, PolynomialFeatures\n",
    "from sklearn.metrics import root_mean_squared_error, r2_score\n",
    "from sklearn.model_selection import validation_curve\n",
    "import plotly.io as pio\n",
    "import plotly.express as px\n",
    "import plotly.graph_objects as go\n",
    "from plotly.subplots import make_subplots\n",
    "from sklearn.model_selection import KFold\n",
    "\n",
    "pio.templates.default = \"plotly_white\"\n",
    "pcolors = px.colors.qualitative.T10\n",
    "pcolors25 = px.colors.qualitative.Alphabet"
   ]
  },
  {
   "cell_type": "code",
   "execution_count": 284,
   "metadata": {},
   "outputs": [],
   "source": [
    "def generate_bwu(owu):\n",
    "    owu = owu.drop([\"timesteps\"], axis=1)\n",
    "    # Input: multiindex OWU\n",
    "    # Output: singleindex BWU\n",
    "    for run_ix, run in owu.groupby(\"run\"):\n",
    "        if run_ix == owu.index.get_level_values('run')[0]:\n",
    "            bwuindex = run.unstack(level=1)\n",
    "        else:\n",
    "            bwuindex = pd.concat([bwuindex, run.unstack(level=1)])\n",
    "    bwu_columns = [str(bwuindex.columns.get_level_values(0)[i])+str(\":\")+str(bwuindex.columns.get_level_values(1)[i]) \n",
    "                   for i in range(len(bwuindex.columns.get_level_values(0)))]\n",
    "    bwu = pd.DataFrame(bwuindex.to_numpy(), columns=bwu_columns)\n",
    "    \n",
    "    return bwu\n",
    "\n",
    "\n",
    "def generate_y(bwu, return_aggr=False):\n",
    "    # Input: singleindex BWU\n",
    "    # Output: singleindex BWU having only target\n",
    "    titer_column = [c for c in bwu.columns if c.startswith(\"X:Titer\")]\n",
    "    targets = pd.DataFrame(columns=[\"Y:Titer\", \"Y:Aggr\"], index=bwu.index)\n",
    "\n",
    "    # iterate through experiments\n",
    "    for j in list(bwu.index):\n",
    "        x_titer = bwu.loc[j, titer_column]\n",
    "        x_prod = [0]\n",
    "        x_aggr = [0]\n",
    "        k_aggr = 10**-7\n",
    "        for i in range(len(x_titer)):\n",
    "            if i == 0:\n",
    "                continue\n",
    "            xt_titer = x_titer.iloc[i]\n",
    "            dt_titer = x_titer.iloc[i] - x_titer.iloc[i - 1]\n",
    "            x_prod.append(xt_titer)\n",
    "            x_aggr.append(k_aggr * (xt_titer**2))\n",
    "\n",
    "            dt_aggr = x_aggr[i] - x_aggr[i - 1]\n",
    "            dt_prod = dt_titer - 2 * dt_aggr\n",
    "            dt_aggr = k_aggr * (x_prod[i - 1] + dt_prod) ** 2\n",
    "\n",
    "            x_aggr[i] = x_aggr[i - 1] + dt_aggr\n",
    "            x_prod[i] = x_prod[i - 1] + dt_prod\n",
    "        y_prod = x_prod[-1]\n",
    "        y_aggr = x_aggr[-1]\n",
    "\n",
    "        targets.loc[j, \"Y:Titer\"] = y_prod\n",
    "        targets.loc[j, \"Y:Aggr\"] = y_aggr\n",
    "    if return_aggr:\n",
    "        target = targets[\"Y:Aggr\"]\n",
    "    else:\n",
    "        target = targets[\"Y:Titer\"]\n",
    "\n",
    "    return pd.DataFrame(target)"
   ]
  },
  {
   "cell_type": "code",
   "execution_count": 285,
   "metadata": {},
   "outputs": [],
   "source": [
    "def vip(X, model):\n",
    "    # Score matrix T (latent variables), corresponding to T in the formula\n",
    "    t = model.x_scores_\n",
    "\n",
    "    # Weight matrix W, corresponding to W in the formula\n",
    "    w = model.x_weights_\n",
    "\n",
    "    # Loadings matrix Q, corresponding to c in the formula (sometimes Q is used for loadings in PLS models)\n",
    "    q = model.y_loadings_\n",
    "\n",
    "    # Number of samples (m) and number of variables (p), corresponding to the shape of X\n",
    "    m, p = X.shape\n",
    "\n",
    "    # Number of latent variables (h), corresponding to the shape of T\n",
    "    _, h = t.shape\n",
    "\n",
    "    # Initialize VIP scores array\n",
    "    vips = np.zeros((p,))\n",
    "\n",
    "    # Calculate SS(c_i t_i), the s in the formula, representing the sum of squares for the i-th latent variable\n",
    "    # Here, t.T @ t is T^t * T, q.T @ q is c^t * c\n",
    "    s = np.diag(t.T @ t @ q.T @ q).reshape(h, -1)\n",
    "\n",
    "    # Calculate the total sum of SS(c_i t_i)\n",
    "    total_s = np.sum(s)\n",
    "\n",
    "    # Calculate the VIP score for each variable\n",
    "    for i in range(p):\n",
    "        # Calculate (w_ij / ||w_i||)^2 for each latent variable j\n",
    "        # w[:,j] is the j-th column of weights, representing the weights for the j-th latent variable\n",
    "        weight = np.array([(w[i, j] / np.linalg.norm(w[:, j])) ** 2 for j in range(h)])\n",
    "\n",
    "        # Calculate the VIP score using the formula:\n",
    "        # VIP_j = (k * ∑(SS(c_i t_i) * (w_ij / ||w_i||)^2) / ∑(SS(c_i t_i)))^(1/2)\n",
    "        # Where k = p (number of variables)\n",
    "        vips[i] = np.sqrt(p * np.sum(s.T @ weight) / total_s)\n",
    "\n",
    "    return vips"
   ]
  },
  {
   "cell_type": "code",
   "execution_count": 286,
   "metadata": {},
   "outputs": [],
   "source": [
    "def r2(y, y_pred):\n",
    "    return round(r2_score(y, y_pred), 3)\n",
    "\n",
    "\n",
    "def absolute_rmse(y, y_pred):\n",
    "    return round(root_mean_squared_error(y, y_pred), 3)\n",
    "\n",
    "\n",
    "def relative_rmse(y, y_pred):\n",
    "    return round(root_mean_squared_error(y, y_pred) / np.std(np.array(y)), 3)"
   ]
  },
  {
   "cell_type": "markdown",
   "metadata": {},
   "source": [
    "# Dataset"
   ]
  },
  {
   "cell_type": "code",
   "execution_count": 287,
   "metadata": {},
   "outputs": [],
   "source": [
    "def read_owu_v4(file, root_path = 'dataset/datahow_2022/extrapolation/'):\n",
    "    data = pd.read_csv(f'{root_path}/{file}.csv')\n",
    "    owu_df = data.copy()\n",
    "    num_runs = len(pd.read_csv(f'{root_path}/{file}_doe.csv'))\n",
    "    owu_df.index = pd.MultiIndex.from_product(\n",
    "        [list(range(num_runs)), list(range(15))], names=[\"run\", \"time\"]\n",
    "    )\n",
    "    return owu_df\n",
    "\n",
    "def read_doe(file, root_path= 'dataset/datahow_2022/extrapolation/'):\n",
    "    data = pd.read_csv(f'{root_path}/{file}.csv', usecols=[\"feed_start\", \"feed_end\", \"Glc_feed_rate\", \"Glc_0\", \"VCD_0\"])\n",
    "    doe_df = data.copy()\n",
    "    return doe_df"
   ]
  },
  {
   "cell_type": "code",
   "execution_count": 288,
   "metadata": {},
   "outputs": [],
   "source": [
    "owu = read_owu_v4('owu')\n",
    "doe = read_doe('owu_doe')\n",
    "bwu = generate_bwu(owu)\n",
    "tar = generate_y(bwu, return_aggr=False)\n",
    "\n",
    "owu_test = read_owu_v4('owu_test')\n",
    "doe_test = read_doe('owu_test_doe')\n",
    "bwu_test = generate_bwu(owu_test)\n",
    "tar_test = generate_y(bwu_test, return_aggr=False)"
   ]
  },
  {
   "cell_type": "markdown",
   "metadata": {},
   "source": [
    "# Data-Driven Models for CQAs\n",
    "\n",
    "- Aim of predicting the final titer\n",
    "\n",
    "<details>\n",
    "<summary>\n",
    "<font size=\"3\" color=\"black\">\n",
    "<b>PLS Introduction ⏏︎Click to open</b>\n",
    "</font>\n",
    "</summary>\n",
    "\n",
    "<img src=\"assets/pls_explain.png\" alt=\"Variables Type\" width=\"1000\">\n",
    "\n",
    "\n",
    "\n",
    "PLS 模型允许我们使用更多的变量/列而不会导致模型过度拟合。\n",
    "\n",
    "在只有一个响应变量 $ y $ 和 $ k $ 个预测变量的情况下，具有 $ h $ 个潜变量的 PLS 回归模型表达如下：\n",
    "\n",
    "$$ X = T W^t + E$$\n",
    "\n",
    "$$ y = U c^t + f $$\n",
    "\n",
    "### Model Explain\n",
    "\n",
    "- **X**：原始预测变量矩阵。\n",
    "- **T**：得分矩阵（潜变量矩阵）。\n",
    "- **W**：权重矩阵。\n",
    "- **E**：误差矩阵。\n",
    "- **y**：响应变量。\n",
    "- **U**：响应变量的得分矩阵。\n",
    "- **c**：回归系数向量。\n",
    "- **f**：响应变量的误差向量。\n",
    "\n",
    "PLS 模型通过找到一组新的潜变量（得分矩阵 $ T $ 和 $ U $）来解释原始变量和响应变量之间的关系，从而减少数据的维度并避免多重共线性的问题。\n",
    "\n",
    "### VIP Scores\n",
    "\n",
    "VIP 分数是用于衡量变量在模型中重要性的指标。对于第 $ j $ 个变量，VIP 分数计算公式如下：\n",
    "\n",
    "$$ VIP_j = \\left( k \\sum_{i=1}^h \\left(SS(c_i t_i) \\left(\\frac{w_{ij}}{||w_i||}\\right)^2\\right) / \\sum_{k=1}^h (c_i t_i) \\right)^{1/2} $$\n",
    "\n",
    "- **VIP_j**：第 $ j $ 个变量的 VIP 分数。\n",
    "- **k**：总的预测变量数。\n",
    "- **h**：潜变量的数量。\n",
    "- **SS(c_i t_i)**：第 $ i $ 个潜变量的平方和。\n",
    "- **w_{ij}**：第 $ j $ 个变量在第 $ i $ 个潜变量中的权重。\n",
    "- **||w_i||**：第 $ i $ 个潜变量权重的范数。\n",
    "\n",
    "### VIP Usuage\n",
    "\n",
    "- VIP 分数的平方平均值等于 1，因此“一大于一规则”通常用作变量选择的标准。即，VIP 分数大于 1 的变量被认为对模型重要，可以优先保留。\n",
    "\n",
    "### Summary\n",
    "- PLS 模型通过引入潜变量减少维度，并避免多重共线性的问题，使得我们可以使用更多的变量而不会导致模型过度拟合。\n",
    "- VIP 分数则帮助我们评估每个变量在模型中的重要性，提供了一个有效的变量选择标准。\n",
    "\n",
    "</details>"
   ]
  },
  {
   "cell_type": "markdown",
   "metadata": {},
   "source": [
    "## BB-PLS1\n",
    "- Black Box - Partial Least Square Model (PLS1)\n",
    "- Training: $[Z, X(t = 0)] \\rightarrow PLS1 \\rightarrow Y_{Final}$\n",
    "\n",
    "* Input matrix: \"doe\". This corresponds to the values of the manipulated process parameters for each experiment.\n",
    "* Output target: \"tar\". This corresponds to the final value of titer at the end of each experiment. (or aggregates)\n",
    "* Select the number of latent variables for the model (the maximum number of latent variables is 5, equal to the number of variables in the input matrix)."
   ]
  },
  {
   "cell_type": "code",
   "execution_count": 289,
   "metadata": {},
   "outputs": [],
   "source": [
    "def fit_pls_model(\n",
    "    X, y, latent_variables=5, polynomial_degree=1, interactions_only=False\n",
    "):\n",
    "    # Define pipeline\n",
    "    include_bias = False\n",
    "    if polynomial_degree == 0:\n",
    "        print(\"Constant model for pls is not allowed!\")\n",
    "        latent_variables = 1\n",
    "        include_bias = True\n",
    "    if polynomial_degree == 1:\n",
    "        latent_variables = min(latent_variables, 5)\n",
    "    poly_features = PolynomialFeatures(\n",
    "        degree=polynomial_degree,\n",
    "        interaction_only=interactions_only,\n",
    "        include_bias=include_bias,\n",
    "    )\n",
    "\n",
    "    # Normlization data\n",
    "    standard_scaler = StandardScaler(with_mean=True, with_std=True)\n",
    "\n",
    "    pls_model = PLSRegression(n_components=latent_variables, scale=True)\n",
    "    pipe = Pipeline(\n",
    "        [(\"features\", poly_features), (\"scaler\", standard_scaler), (\"model\", pls_model)]\n",
    "    )\n",
    "\n",
    "    # Fit PLS model\n",
    "    pipe.fit(X, y)\n",
    "    return pipe\n",
    "\n",
    "\n",
    "def plot_pls_model_coef(X, pls_pipeline):\n",
    "    X_columns = pls_pipeline[\"features\"].get_feature_names_out()\n",
    "    X_preproc = pd.DataFrame(\n",
    "        pls_pipeline[\"scaler\"].transform(pls_pipeline[\"features\"].transform(X)),\n",
    "        columns=X_columns,\n",
    "    )\n",
    "\n",
    "    pls_vip = vip(X=X_preproc, model=pls_pipeline[\"model\"])\n",
    "\n",
    "    # Plot Model Inference\n",
    "    fig = px.bar(\n",
    "        x=list(X_columns),\n",
    "        y=pls_vip.reshape(-1),\n",
    "        title=\"VIP scores of PLS model\",\n",
    "        labels={\"x\": \"Variables\", \"y\": \"Estimated VIP\", \"color\": \"p-value\"},\n",
    "    )\n",
    "    fig.add_hline(y=1)\n",
    "    fig.add_hline(y=0.8, line=dict(color=\"gray\"))\n",
    "    fig.update_layout(width=1600)\n",
    "    fig.show()\n",
    "    \n",
    "\n",
    "def plot_pls_model_eval(\n",
    "    y,\n",
    "    y_pred,\n",
    "    y_test,\n",
    "    y_test_pred,\n",
    "):\n",
    "    # Metrics for training set\n",
    "    train_r2 = r2(y, y_pred)\n",
    "    train_abs_rmse = absolute_rmse(y, y_pred)\n",
    "    train_rel_rmse = relative_rmse(y, y_pred)\n",
    "\n",
    "    # Metrics for testing set\n",
    "    test_r2 = r2(y_test, y_test_pred)\n",
    "    test_abs_rmse = absolute_rmse(y_test, y_test_pred)\n",
    "    test_rel_rmse = relative_rmse(y_test, y_test_pred)\n",
    "\n",
    "    # Plot observed vs predicted\n",
    "    fig = make_subplots(\n",
    "        rows=1,\n",
    "        cols=2,\n",
    "        subplot_titles=(\n",
    "            f\"Train Set <br> R^2 = {train_r2} <br> Abs RMSE = {train_abs_rmse} <br> Rel RMSE = {train_rel_rmse}\",\n",
    "            f\"Test Set <br> R^2 = {test_r2} <br> Abs RMSE = {test_abs_rmse} <br> Rel RMSE = {test_rel_rmse}\",\n",
    "        ),\n",
    "    )\n",
    "    # Train set plot\n",
    "    fig.add_trace(\n",
    "        go.Scatter(x=y.values.reshape(-1), y=y_pred.reshape(-1), mode=\"markers\"),\n",
    "        row=1,\n",
    "        col=1,\n",
    "    )\n",
    "    fig.add_shape(\n",
    "        type=\"line\",\n",
    "        x0=min(y_pred)[0],\n",
    "        y0=min(y_pred)[0],\n",
    "        x1=max(y_pred)[0],\n",
    "        y1=max(y_pred)[0],\n",
    "        layer=\"below\",\n",
    "        line=dict(dash=\"dash\"),\n",
    "    )\n",
    "    # Test set plot\n",
    "    fig.add_trace(\n",
    "        go.Scatter(\n",
    "            x=y_test.values.reshape(-1), y=y_test_pred.reshape(-1), mode=\"markers\"\n",
    "        ),\n",
    "        row=1,\n",
    "        col=2,\n",
    "    )\n",
    "    fig.add_shape(\n",
    "        type=\"line\",\n",
    "        x0=min(y_test_pred)[0],\n",
    "        y0=min(y_test_pred)[0],\n",
    "        x1=max(y_test_pred)[0],\n",
    "        y1=max(y_test_pred)[0],\n",
    "        layer=\"below\",\n",
    "        line=dict(dash=\"dash\"),\n",
    "        row=1,\n",
    "        col=2,\n",
    "    )\n",
    "\n",
    "    fig.update_layout(width=1600)\n",
    "    fig.update_xaxes(title=\"Observed values\", row=1, col=1)\n",
    "    fig.update_xaxes(title=\"Observed values\", row=1, col=2)\n",
    "    fig.update_yaxes(title=\"Predicted values\", row=1, col=1)\n",
    "    fig.update_yaxes(title=\"Predicted values\", row=1, col=2)\n",
    "    fig.show()\n",
    "\n",
    "\n",
    "def plot_pls_scores(pls_pipe, pc_x_axis=1, pc_y_axis=2):\n",
    "    X_columns = pls_pipe[\"features\"].get_feature_names_out()\n",
    "    model = pls_pipe[\"model\"]\n",
    "    fig = make_subplots(\n",
    "        rows=2,\n",
    "        cols=2,\n",
    "        specs=[[{\"colspan\": 2}, None], [{}, {}]],\n",
    "        subplot_titles=(\n",
    "            \"Scores Plot \",\n",
    "            \"Loadings of Principal Component - \" + str(pc_x_axis),\n",
    "            \"Loadings of Principal Component - \" + str(pc_y_axis),\n",
    "        ),\n",
    "    )\n",
    "    fig.add_trace(\n",
    "        go.Scatter(\n",
    "            x=model.x_scores_[:, pc_x_axis],\n",
    "            y=model.x_scores_[:, pc_y_axis],\n",
    "            mode=\"markers\",\n",
    "            name=\"Scores\",\n",
    "        ),\n",
    "        row=1,\n",
    "        col=1,\n",
    "    )\n",
    "    fig.add_bar(\n",
    "        x=X_columns,\n",
    "        y=model.x_loadings_[:, pc_x_axis - 1],\n",
    "        name=\"Loadings PC - \" + str(pc_x_axis),\n",
    "        row=2,\n",
    "        col=[1, 2],\n",
    "    )\n",
    "    fig.add_bar(\n",
    "        x=X_columns,\n",
    "        y=model.x_loadings_[:, pc_y_axis - 1],\n",
    "        name=\"Loadings PC - \" + str(pc_y_axis),\n",
    "        row=2,\n",
    "        col=2,\n",
    "    )\n",
    "    fig.update_layout(height=1000)\n",
    "    fig.show()\n",
    "\n",
    "\n",
    "def pls_cross_validation(X, y, pls_pipeline):\n",
    "    X_columns = pls_pipeline[\"features\"].get_feature_names_out()\n",
    "    X_preproc = pd.DataFrame(\n",
    "        pls_pipeline[\"scaler\"].transform(pls_pipeline[\"features\"].transform(X)),\n",
    "        columns=X_columns,\n",
    "    )\n",
    "    range_LV = range(1, X_preproc.shape[1] + 1)\n",
    "    train_eval, valid_eval = validation_curve(\n",
    "        pls_pipeline,\n",
    "        X,\n",
    "        y,\n",
    "        param_name=\"model__n_components\",\n",
    "        param_range=list(range_LV),\n",
    "        scoring=\"neg_root_mean_squared_error\",\n",
    "    )\n",
    "    return train_eval, valid_eval, range_LV\n",
    "\n",
    "\n",
    "def plot_pls_cross_validation(train_eval, valid_eval, range_LV=None):\n",
    "    train_score = -np.mean(train_eval, axis=1)\n",
    "    valid_score = -np.mean(valid_eval, axis=1)\n",
    "    train_std = np.std(train_eval, axis=1)\n",
    "    valid_std = np.std(valid_eval, axis=1)\n",
    "    fig = go.Figure()\n",
    "    fig.add_trace(\n",
    "        go.Scatter(\n",
    "            x=list(range_LV),\n",
    "            y=train_score,\n",
    "            error_y=dict(type=\"data\", array=train_std, visible=True),\n",
    "            name=\"Training\",\n",
    "        )\n",
    "    )\n",
    "    fig.add_trace(\n",
    "        go.Scatter(\n",
    "            x=list(range_LV),\n",
    "            y=valid_score,\n",
    "            error_y=dict(type=\"data\", array=valid_std, visible=True),\n",
    "            name=\"Validation\",\n",
    "        )\n",
    "    )\n",
    "    fig.update_layout(\n",
    "        title=\"Hyperparameter Optimization in PLS\",\n",
    "        xaxis_title=\"Number of Latent Variables\",\n",
    "        yaxis_title=\"Abs RMSE\",\n",
    "        legend_title=\"Evaluation type\",\n",
    "    )\n",
    "    fig.show();"
   ]
  },
  {
   "cell_type": "markdown",
   "metadata": {},
   "source": [
    "### Setting"
   ]
  },
  {
   "cell_type": "code",
   "execution_count": 290,
   "metadata": {},
   "outputs": [],
   "source": [
    "\"\"\" Number of latent Variables \"\"\"\n",
    "LATENT_VARIABLES = 5\n",
    "\"\"\" Ploynomial degree of features \"\"\"\n",
    "POLYNOMIAL_DEGREE_PLS = 1\n",
    "\"\"\" Add only interaction between features\"\"\"\n",
    "INTERACTIONS_ONLY = True"
   ]
  },
  {
   "cell_type": "markdown",
   "metadata": {},
   "source": [
    "### Data"
   ]
  },
  {
   "cell_type": "code",
   "execution_count": 291,
   "metadata": {},
   "outputs": [
    {
     "data": {
      "text/html": [
       "<div>\n",
       "<style scoped>\n",
       "    .dataframe tbody tr th:only-of-type {\n",
       "        vertical-align: middle;\n",
       "    }\n",
       "\n",
       "    .dataframe tbody tr th {\n",
       "        vertical-align: top;\n",
       "    }\n",
       "\n",
       "    .dataframe thead th {\n",
       "        text-align: right;\n",
       "    }\n",
       "</style>\n",
       "<table border=\"1\" class=\"dataframe\">\n",
       "  <thead>\n",
       "    <tr style=\"text-align: right;\">\n",
       "      <th></th>\n",
       "      <th>feed_start</th>\n",
       "      <th>feed_end</th>\n",
       "      <th>Glc_feed_rate</th>\n",
       "      <th>Glc_0</th>\n",
       "      <th>VCD_0</th>\n",
       "      <th>Target</th>\n",
       "    </tr>\n",
       "  </thead>\n",
       "  <tbody>\n",
       "    <tr>\n",
       "      <th>0</th>\n",
       "      <td>1.510204</td>\n",
       "      <td>10.724490</td>\n",
       "      <td>16.632653</td>\n",
       "      <td>34.489796</td>\n",
       "      <td>0.678571</td>\n",
       "      <td>598.214512</td>\n",
       "    </tr>\n",
       "    <tr>\n",
       "      <th>1</th>\n",
       "      <td>2.000000</td>\n",
       "      <td>10.908163</td>\n",
       "      <td>19.081633</td>\n",
       "      <td>32.857143</td>\n",
       "      <td>0.515306</td>\n",
       "      <td>677.286486</td>\n",
       "    </tr>\n",
       "    <tr>\n",
       "      <th>2</th>\n",
       "      <td>2.489796</td>\n",
       "      <td>10.357143</td>\n",
       "      <td>19.693878</td>\n",
       "      <td>40.204082</td>\n",
       "      <td>0.617347</td>\n",
       "      <td>962.435039</td>\n",
       "    </tr>\n",
       "    <tr>\n",
       "      <th>3</th>\n",
       "      <td>1.142857</td>\n",
       "      <td>8.091837</td>\n",
       "      <td>15.408163</td>\n",
       "      <td>66.326531</td>\n",
       "      <td>0.790816</td>\n",
       "      <td>376.471284</td>\n",
       "    </tr>\n",
       "    <tr>\n",
       "      <th>4</th>\n",
       "      <td>2.326531</td>\n",
       "      <td>8.520408</td>\n",
       "      <td>19.897959</td>\n",
       "      <td>54.081633</td>\n",
       "      <td>0.872449</td>\n",
       "      <td>749.036075</td>\n",
       "    </tr>\n",
       "  </tbody>\n",
       "</table>\n",
       "</div>"
      ],
      "text/plain": [
       "   feed_start   feed_end  Glc_feed_rate      Glc_0     VCD_0      Target\n",
       "0    1.510204  10.724490      16.632653  34.489796  0.678571  598.214512\n",
       "1    2.000000  10.908163      19.081633  32.857143  0.515306  677.286486\n",
       "2    2.489796  10.357143      19.693878  40.204082  0.617347  962.435039\n",
       "3    1.142857   8.091837      15.408163  66.326531  0.790816  376.471284\n",
       "4    2.326531   8.520408      19.897959  54.081633  0.872449  749.036075"
      ]
     },
     "execution_count": 291,
     "metadata": {},
     "output_type": "execute_result"
    }
   ],
   "source": [
    "dataset = doe.copy() # inputs\n",
    "dataset[\"Target\"] = tar # outputs\n",
    "dataset.head()"
   ]
  },
  {
   "cell_type": "markdown",
   "metadata": {},
   "source": [
    "### Train"
   ]
  },
  {
   "cell_type": "code",
   "execution_count": 292,
   "metadata": {},
   "outputs": [
    {
     "data": {
      "application/vnd.plotly.v1+json": {
       "config": {
        "plotlyServerURL": "https://plot.ly"
       },
       "data": [
        {
         "alignmentgroup": "True",
         "hovertemplate": "Variables=%{x}<br>Estimated VIP=%{y}<extra></extra>",
         "legendgroup": "",
         "marker": {
          "color": "#636efa",
          "pattern": {
           "shape": ""
          }
         },
         "name": "",
         "offsetgroup": "",
         "orientation": "v",
         "showlegend": false,
         "textposition": "auto",
         "type": "bar",
         "x": [
          "feed_start",
          "feed_end",
          "Glc_feed_rate",
          "Glc_0",
          "VCD_0"
         ],
         "xaxis": "x",
         "y": [
          0.7689565636992683,
          0.8521536281527847,
          1.391829385980405,
          1.1374186533951276,
          0.6720340500302653
         ],
         "yaxis": "y"
        }
       ],
       "layout": {
        "barmode": "relative",
        "legend": {
         "tracegroupgap": 0
        },
        "shapes": [
         {
          "type": "line",
          "x0": 0,
          "x1": 1,
          "xref": "x domain",
          "y0": 1,
          "y1": 1,
          "yref": "y"
         },
         {
          "line": {
           "color": "gray"
          },
          "type": "line",
          "x0": 0,
          "x1": 1,
          "xref": "x domain",
          "y0": 0.8,
          "y1": 0.8,
          "yref": "y"
         }
        ],
        "template": {
         "data": {
          "bar": [
           {
            "error_x": {
             "color": "#2a3f5f"
            },
            "error_y": {
             "color": "#2a3f5f"
            },
            "marker": {
             "line": {
              "color": "white",
              "width": 0.5
             },
             "pattern": {
              "fillmode": "overlay",
              "size": 10,
              "solidity": 0.2
             }
            },
            "type": "bar"
           }
          ],
          "barpolar": [
           {
            "marker": {
             "line": {
              "color": "white",
              "width": 0.5
             },
             "pattern": {
              "fillmode": "overlay",
              "size": 10,
              "solidity": 0.2
             }
            },
            "type": "barpolar"
           }
          ],
          "carpet": [
           {
            "aaxis": {
             "endlinecolor": "#2a3f5f",
             "gridcolor": "#C8D4E3",
             "linecolor": "#C8D4E3",
             "minorgridcolor": "#C8D4E3",
             "startlinecolor": "#2a3f5f"
            },
            "baxis": {
             "endlinecolor": "#2a3f5f",
             "gridcolor": "#C8D4E3",
             "linecolor": "#C8D4E3",
             "minorgridcolor": "#C8D4E3",
             "startlinecolor": "#2a3f5f"
            },
            "type": "carpet"
           }
          ],
          "choropleth": [
           {
            "colorbar": {
             "outlinewidth": 0,
             "ticks": ""
            },
            "type": "choropleth"
           }
          ],
          "contour": [
           {
            "colorbar": {
             "outlinewidth": 0,
             "ticks": ""
            },
            "colorscale": [
             [
              0,
              "#0d0887"
             ],
             [
              0.1111111111111111,
              "#46039f"
             ],
             [
              0.2222222222222222,
              "#7201a8"
             ],
             [
              0.3333333333333333,
              "#9c179e"
             ],
             [
              0.4444444444444444,
              "#bd3786"
             ],
             [
              0.5555555555555556,
              "#d8576b"
             ],
             [
              0.6666666666666666,
              "#ed7953"
             ],
             [
              0.7777777777777778,
              "#fb9f3a"
             ],
             [
              0.8888888888888888,
              "#fdca26"
             ],
             [
              1,
              "#f0f921"
             ]
            ],
            "type": "contour"
           }
          ],
          "contourcarpet": [
           {
            "colorbar": {
             "outlinewidth": 0,
             "ticks": ""
            },
            "type": "contourcarpet"
           }
          ],
          "heatmap": [
           {
            "colorbar": {
             "outlinewidth": 0,
             "ticks": ""
            },
            "colorscale": [
             [
              0,
              "#0d0887"
             ],
             [
              0.1111111111111111,
              "#46039f"
             ],
             [
              0.2222222222222222,
              "#7201a8"
             ],
             [
              0.3333333333333333,
              "#9c179e"
             ],
             [
              0.4444444444444444,
              "#bd3786"
             ],
             [
              0.5555555555555556,
              "#d8576b"
             ],
             [
              0.6666666666666666,
              "#ed7953"
             ],
             [
              0.7777777777777778,
              "#fb9f3a"
             ],
             [
              0.8888888888888888,
              "#fdca26"
             ],
             [
              1,
              "#f0f921"
             ]
            ],
            "type": "heatmap"
           }
          ],
          "heatmapgl": [
           {
            "colorbar": {
             "outlinewidth": 0,
             "ticks": ""
            },
            "colorscale": [
             [
              0,
              "#0d0887"
             ],
             [
              0.1111111111111111,
              "#46039f"
             ],
             [
              0.2222222222222222,
              "#7201a8"
             ],
             [
              0.3333333333333333,
              "#9c179e"
             ],
             [
              0.4444444444444444,
              "#bd3786"
             ],
             [
              0.5555555555555556,
              "#d8576b"
             ],
             [
              0.6666666666666666,
              "#ed7953"
             ],
             [
              0.7777777777777778,
              "#fb9f3a"
             ],
             [
              0.8888888888888888,
              "#fdca26"
             ],
             [
              1,
              "#f0f921"
             ]
            ],
            "type": "heatmapgl"
           }
          ],
          "histogram": [
           {
            "marker": {
             "pattern": {
              "fillmode": "overlay",
              "size": 10,
              "solidity": 0.2
             }
            },
            "type": "histogram"
           }
          ],
          "histogram2d": [
           {
            "colorbar": {
             "outlinewidth": 0,
             "ticks": ""
            },
            "colorscale": [
             [
              0,
              "#0d0887"
             ],
             [
              0.1111111111111111,
              "#46039f"
             ],
             [
              0.2222222222222222,
              "#7201a8"
             ],
             [
              0.3333333333333333,
              "#9c179e"
             ],
             [
              0.4444444444444444,
              "#bd3786"
             ],
             [
              0.5555555555555556,
              "#d8576b"
             ],
             [
              0.6666666666666666,
              "#ed7953"
             ],
             [
              0.7777777777777778,
              "#fb9f3a"
             ],
             [
              0.8888888888888888,
              "#fdca26"
             ],
             [
              1,
              "#f0f921"
             ]
            ],
            "type": "histogram2d"
           }
          ],
          "histogram2dcontour": [
           {
            "colorbar": {
             "outlinewidth": 0,
             "ticks": ""
            },
            "colorscale": [
             [
              0,
              "#0d0887"
             ],
             [
              0.1111111111111111,
              "#46039f"
             ],
             [
              0.2222222222222222,
              "#7201a8"
             ],
             [
              0.3333333333333333,
              "#9c179e"
             ],
             [
              0.4444444444444444,
              "#bd3786"
             ],
             [
              0.5555555555555556,
              "#d8576b"
             ],
             [
              0.6666666666666666,
              "#ed7953"
             ],
             [
              0.7777777777777778,
              "#fb9f3a"
             ],
             [
              0.8888888888888888,
              "#fdca26"
             ],
             [
              1,
              "#f0f921"
             ]
            ],
            "type": "histogram2dcontour"
           }
          ],
          "mesh3d": [
           {
            "colorbar": {
             "outlinewidth": 0,
             "ticks": ""
            },
            "type": "mesh3d"
           }
          ],
          "parcoords": [
           {
            "line": {
             "colorbar": {
              "outlinewidth": 0,
              "ticks": ""
             }
            },
            "type": "parcoords"
           }
          ],
          "pie": [
           {
            "automargin": true,
            "type": "pie"
           }
          ],
          "scatter": [
           {
            "fillpattern": {
             "fillmode": "overlay",
             "size": 10,
             "solidity": 0.2
            },
            "type": "scatter"
           }
          ],
          "scatter3d": [
           {
            "line": {
             "colorbar": {
              "outlinewidth": 0,
              "ticks": ""
             }
            },
            "marker": {
             "colorbar": {
              "outlinewidth": 0,
              "ticks": ""
             }
            },
            "type": "scatter3d"
           }
          ],
          "scattercarpet": [
           {
            "marker": {
             "colorbar": {
              "outlinewidth": 0,
              "ticks": ""
             }
            },
            "type": "scattercarpet"
           }
          ],
          "scattergeo": [
           {
            "marker": {
             "colorbar": {
              "outlinewidth": 0,
              "ticks": ""
             }
            },
            "type": "scattergeo"
           }
          ],
          "scattergl": [
           {
            "marker": {
             "colorbar": {
              "outlinewidth": 0,
              "ticks": ""
             }
            },
            "type": "scattergl"
           }
          ],
          "scattermapbox": [
           {
            "marker": {
             "colorbar": {
              "outlinewidth": 0,
              "ticks": ""
             }
            },
            "type": "scattermapbox"
           }
          ],
          "scatterpolar": [
           {
            "marker": {
             "colorbar": {
              "outlinewidth": 0,
              "ticks": ""
             }
            },
            "type": "scatterpolar"
           }
          ],
          "scatterpolargl": [
           {
            "marker": {
             "colorbar": {
              "outlinewidth": 0,
              "ticks": ""
             }
            },
            "type": "scatterpolargl"
           }
          ],
          "scatterternary": [
           {
            "marker": {
             "colorbar": {
              "outlinewidth": 0,
              "ticks": ""
             }
            },
            "type": "scatterternary"
           }
          ],
          "surface": [
           {
            "colorbar": {
             "outlinewidth": 0,
             "ticks": ""
            },
            "colorscale": [
             [
              0,
              "#0d0887"
             ],
             [
              0.1111111111111111,
              "#46039f"
             ],
             [
              0.2222222222222222,
              "#7201a8"
             ],
             [
              0.3333333333333333,
              "#9c179e"
             ],
             [
              0.4444444444444444,
              "#bd3786"
             ],
             [
              0.5555555555555556,
              "#d8576b"
             ],
             [
              0.6666666666666666,
              "#ed7953"
             ],
             [
              0.7777777777777778,
              "#fb9f3a"
             ],
             [
              0.8888888888888888,
              "#fdca26"
             ],
             [
              1,
              "#f0f921"
             ]
            ],
            "type": "surface"
           }
          ],
          "table": [
           {
            "cells": {
             "fill": {
              "color": "#EBF0F8"
             },
             "line": {
              "color": "white"
             }
            },
            "header": {
             "fill": {
              "color": "#C8D4E3"
             },
             "line": {
              "color": "white"
             }
            },
            "type": "table"
           }
          ]
         },
         "layout": {
          "annotationdefaults": {
           "arrowcolor": "#2a3f5f",
           "arrowhead": 0,
           "arrowwidth": 1
          },
          "autotypenumbers": "strict",
          "coloraxis": {
           "colorbar": {
            "outlinewidth": 0,
            "ticks": ""
           }
          },
          "colorscale": {
           "diverging": [
            [
             0,
             "#8e0152"
            ],
            [
             0.1,
             "#c51b7d"
            ],
            [
             0.2,
             "#de77ae"
            ],
            [
             0.3,
             "#f1b6da"
            ],
            [
             0.4,
             "#fde0ef"
            ],
            [
             0.5,
             "#f7f7f7"
            ],
            [
             0.6,
             "#e6f5d0"
            ],
            [
             0.7,
             "#b8e186"
            ],
            [
             0.8,
             "#7fbc41"
            ],
            [
             0.9,
             "#4d9221"
            ],
            [
             1,
             "#276419"
            ]
           ],
           "sequential": [
            [
             0,
             "#0d0887"
            ],
            [
             0.1111111111111111,
             "#46039f"
            ],
            [
             0.2222222222222222,
             "#7201a8"
            ],
            [
             0.3333333333333333,
             "#9c179e"
            ],
            [
             0.4444444444444444,
             "#bd3786"
            ],
            [
             0.5555555555555556,
             "#d8576b"
            ],
            [
             0.6666666666666666,
             "#ed7953"
            ],
            [
             0.7777777777777778,
             "#fb9f3a"
            ],
            [
             0.8888888888888888,
             "#fdca26"
            ],
            [
             1,
             "#f0f921"
            ]
           ],
           "sequentialminus": [
            [
             0,
             "#0d0887"
            ],
            [
             0.1111111111111111,
             "#46039f"
            ],
            [
             0.2222222222222222,
             "#7201a8"
            ],
            [
             0.3333333333333333,
             "#9c179e"
            ],
            [
             0.4444444444444444,
             "#bd3786"
            ],
            [
             0.5555555555555556,
             "#d8576b"
            ],
            [
             0.6666666666666666,
             "#ed7953"
            ],
            [
             0.7777777777777778,
             "#fb9f3a"
            ],
            [
             0.8888888888888888,
             "#fdca26"
            ],
            [
             1,
             "#f0f921"
            ]
           ]
          },
          "colorway": [
           "#636efa",
           "#EF553B",
           "#00cc96",
           "#ab63fa",
           "#FFA15A",
           "#19d3f3",
           "#FF6692",
           "#B6E880",
           "#FF97FF",
           "#FECB52"
          ],
          "font": {
           "color": "#2a3f5f"
          },
          "geo": {
           "bgcolor": "white",
           "lakecolor": "white",
           "landcolor": "white",
           "showlakes": true,
           "showland": true,
           "subunitcolor": "#C8D4E3"
          },
          "hoverlabel": {
           "align": "left"
          },
          "hovermode": "closest",
          "mapbox": {
           "style": "light"
          },
          "paper_bgcolor": "white",
          "plot_bgcolor": "white",
          "polar": {
           "angularaxis": {
            "gridcolor": "#EBF0F8",
            "linecolor": "#EBF0F8",
            "ticks": ""
           },
           "bgcolor": "white",
           "radialaxis": {
            "gridcolor": "#EBF0F8",
            "linecolor": "#EBF0F8",
            "ticks": ""
           }
          },
          "scene": {
           "xaxis": {
            "backgroundcolor": "white",
            "gridcolor": "#DFE8F3",
            "gridwidth": 2,
            "linecolor": "#EBF0F8",
            "showbackground": true,
            "ticks": "",
            "zerolinecolor": "#EBF0F8"
           },
           "yaxis": {
            "backgroundcolor": "white",
            "gridcolor": "#DFE8F3",
            "gridwidth": 2,
            "linecolor": "#EBF0F8",
            "showbackground": true,
            "ticks": "",
            "zerolinecolor": "#EBF0F8"
           },
           "zaxis": {
            "backgroundcolor": "white",
            "gridcolor": "#DFE8F3",
            "gridwidth": 2,
            "linecolor": "#EBF0F8",
            "showbackground": true,
            "ticks": "",
            "zerolinecolor": "#EBF0F8"
           }
          },
          "shapedefaults": {
           "line": {
            "color": "#2a3f5f"
           }
          },
          "ternary": {
           "aaxis": {
            "gridcolor": "#DFE8F3",
            "linecolor": "#A2B1C6",
            "ticks": ""
           },
           "baxis": {
            "gridcolor": "#DFE8F3",
            "linecolor": "#A2B1C6",
            "ticks": ""
           },
           "bgcolor": "white",
           "caxis": {
            "gridcolor": "#DFE8F3",
            "linecolor": "#A2B1C6",
            "ticks": ""
           }
          },
          "title": {
           "x": 0.05
          },
          "xaxis": {
           "automargin": true,
           "gridcolor": "#EBF0F8",
           "linecolor": "#EBF0F8",
           "ticks": "",
           "title": {
            "standoff": 15
           },
           "zerolinecolor": "#EBF0F8",
           "zerolinewidth": 2
          },
          "yaxis": {
           "automargin": true,
           "gridcolor": "#EBF0F8",
           "linecolor": "#EBF0F8",
           "ticks": "",
           "title": {
            "standoff": 15
           },
           "zerolinecolor": "#EBF0F8",
           "zerolinewidth": 2
          }
         }
        },
        "title": {
         "text": "VIP scores of PLS model"
        },
        "width": 1600,
        "xaxis": {
         "anchor": "y",
         "domain": [
          0,
          1
         ],
         "title": {
          "text": "Variables"
         }
        },
        "yaxis": {
         "anchor": "x",
         "domain": [
          0,
          1
         ],
         "title": {
          "text": "Estimated VIP"
         }
        }
       }
      },
      "text/html": [
       "<div>                            <div id=\"15ca0990-87b0-4289-abed-72eb283d5f05\" class=\"plotly-graph-div\" style=\"height:525px; width:1600px;\"></div>            <script type=\"text/javascript\">                require([\"plotly\"], function(Plotly) {                    window.PLOTLYENV=window.PLOTLYENV || {};                                    if (document.getElementById(\"15ca0990-87b0-4289-abed-72eb283d5f05\")) {                    Plotly.newPlot(                        \"15ca0990-87b0-4289-abed-72eb283d5f05\",                        [{\"alignmentgroup\":\"True\",\"hovertemplate\":\"Variables=%{x}\\u003cbr\\u003eEstimated VIP=%{y}\\u003cextra\\u003e\\u003c\\u002fextra\\u003e\",\"legendgroup\":\"\",\"marker\":{\"color\":\"#636efa\",\"pattern\":{\"shape\":\"\"}},\"name\":\"\",\"offsetgroup\":\"\",\"orientation\":\"v\",\"showlegend\":false,\"textposition\":\"auto\",\"x\":[\"feed_start\",\"feed_end\",\"Glc_feed_rate\",\"Glc_0\",\"VCD_0\"],\"xaxis\":\"x\",\"y\":[0.7689565636992683,0.8521536281527847,1.391829385980405,1.1374186533951276,0.6720340500302653],\"yaxis\":\"y\",\"type\":\"bar\"}],                        {\"template\":{\"data\":{\"histogram2dcontour\":[{\"type\":\"histogram2dcontour\",\"colorbar\":{\"outlinewidth\":0,\"ticks\":\"\"},\"colorscale\":[[0.0,\"#0d0887\"],[0.1111111111111111,\"#46039f\"],[0.2222222222222222,\"#7201a8\"],[0.3333333333333333,\"#9c179e\"],[0.4444444444444444,\"#bd3786\"],[0.5555555555555556,\"#d8576b\"],[0.6666666666666666,\"#ed7953\"],[0.7777777777777778,\"#fb9f3a\"],[0.8888888888888888,\"#fdca26\"],[1.0,\"#f0f921\"]]}],\"choropleth\":[{\"type\":\"choropleth\",\"colorbar\":{\"outlinewidth\":0,\"ticks\":\"\"}}],\"histogram2d\":[{\"type\":\"histogram2d\",\"colorbar\":{\"outlinewidth\":0,\"ticks\":\"\"},\"colorscale\":[[0.0,\"#0d0887\"],[0.1111111111111111,\"#46039f\"],[0.2222222222222222,\"#7201a8\"],[0.3333333333333333,\"#9c179e\"],[0.4444444444444444,\"#bd3786\"],[0.5555555555555556,\"#d8576b\"],[0.6666666666666666,\"#ed7953\"],[0.7777777777777778,\"#fb9f3a\"],[0.8888888888888888,\"#fdca26\"],[1.0,\"#f0f921\"]]}],\"heatmap\":[{\"type\":\"heatmap\",\"colorbar\":{\"outlinewidth\":0,\"ticks\":\"\"},\"colorscale\":[[0.0,\"#0d0887\"],[0.1111111111111111,\"#46039f\"],[0.2222222222222222,\"#7201a8\"],[0.3333333333333333,\"#9c179e\"],[0.4444444444444444,\"#bd3786\"],[0.5555555555555556,\"#d8576b\"],[0.6666666666666666,\"#ed7953\"],[0.7777777777777778,\"#fb9f3a\"],[0.8888888888888888,\"#fdca26\"],[1.0,\"#f0f921\"]]}],\"heatmapgl\":[{\"type\":\"heatmapgl\",\"colorbar\":{\"outlinewidth\":0,\"ticks\":\"\"},\"colorscale\":[[0.0,\"#0d0887\"],[0.1111111111111111,\"#46039f\"],[0.2222222222222222,\"#7201a8\"],[0.3333333333333333,\"#9c179e\"],[0.4444444444444444,\"#bd3786\"],[0.5555555555555556,\"#d8576b\"],[0.6666666666666666,\"#ed7953\"],[0.7777777777777778,\"#fb9f3a\"],[0.8888888888888888,\"#fdca26\"],[1.0,\"#f0f921\"]]}],\"contourcarpet\":[{\"type\":\"contourcarpet\",\"colorbar\":{\"outlinewidth\":0,\"ticks\":\"\"}}],\"contour\":[{\"type\":\"contour\",\"colorbar\":{\"outlinewidth\":0,\"ticks\":\"\"},\"colorscale\":[[0.0,\"#0d0887\"],[0.1111111111111111,\"#46039f\"],[0.2222222222222222,\"#7201a8\"],[0.3333333333333333,\"#9c179e\"],[0.4444444444444444,\"#bd3786\"],[0.5555555555555556,\"#d8576b\"],[0.6666666666666666,\"#ed7953\"],[0.7777777777777778,\"#fb9f3a\"],[0.8888888888888888,\"#fdca26\"],[1.0,\"#f0f921\"]]}],\"surface\":[{\"type\":\"surface\",\"colorbar\":{\"outlinewidth\":0,\"ticks\":\"\"},\"colorscale\":[[0.0,\"#0d0887\"],[0.1111111111111111,\"#46039f\"],[0.2222222222222222,\"#7201a8\"],[0.3333333333333333,\"#9c179e\"],[0.4444444444444444,\"#bd3786\"],[0.5555555555555556,\"#d8576b\"],[0.6666666666666666,\"#ed7953\"],[0.7777777777777778,\"#fb9f3a\"],[0.8888888888888888,\"#fdca26\"],[1.0,\"#f0f921\"]]}],\"mesh3d\":[{\"type\":\"mesh3d\",\"colorbar\":{\"outlinewidth\":0,\"ticks\":\"\"}}],\"scatter\":[{\"fillpattern\":{\"fillmode\":\"overlay\",\"size\":10,\"solidity\":0.2},\"type\":\"scatter\"}],\"parcoords\":[{\"type\":\"parcoords\",\"line\":{\"colorbar\":{\"outlinewidth\":0,\"ticks\":\"\"}}}],\"scatterpolargl\":[{\"type\":\"scatterpolargl\",\"marker\":{\"colorbar\":{\"outlinewidth\":0,\"ticks\":\"\"}}}],\"bar\":[{\"error_x\":{\"color\":\"#2a3f5f\"},\"error_y\":{\"color\":\"#2a3f5f\"},\"marker\":{\"line\":{\"color\":\"white\",\"width\":0.5},\"pattern\":{\"fillmode\":\"overlay\",\"size\":10,\"solidity\":0.2}},\"type\":\"bar\"}],\"scattergeo\":[{\"type\":\"scattergeo\",\"marker\":{\"colorbar\":{\"outlinewidth\":0,\"ticks\":\"\"}}}],\"scatterpolar\":[{\"type\":\"scatterpolar\",\"marker\":{\"colorbar\":{\"outlinewidth\":0,\"ticks\":\"\"}}}],\"histogram\":[{\"marker\":{\"pattern\":{\"fillmode\":\"overlay\",\"size\":10,\"solidity\":0.2}},\"type\":\"histogram\"}],\"scattergl\":[{\"type\":\"scattergl\",\"marker\":{\"colorbar\":{\"outlinewidth\":0,\"ticks\":\"\"}}}],\"scatter3d\":[{\"type\":\"scatter3d\",\"line\":{\"colorbar\":{\"outlinewidth\":0,\"ticks\":\"\"}},\"marker\":{\"colorbar\":{\"outlinewidth\":0,\"ticks\":\"\"}}}],\"scattermapbox\":[{\"type\":\"scattermapbox\",\"marker\":{\"colorbar\":{\"outlinewidth\":0,\"ticks\":\"\"}}}],\"scatterternary\":[{\"type\":\"scatterternary\",\"marker\":{\"colorbar\":{\"outlinewidth\":0,\"ticks\":\"\"}}}],\"scattercarpet\":[{\"type\":\"scattercarpet\",\"marker\":{\"colorbar\":{\"outlinewidth\":0,\"ticks\":\"\"}}}],\"carpet\":[{\"aaxis\":{\"endlinecolor\":\"#2a3f5f\",\"gridcolor\":\"#C8D4E3\",\"linecolor\":\"#C8D4E3\",\"minorgridcolor\":\"#C8D4E3\",\"startlinecolor\":\"#2a3f5f\"},\"baxis\":{\"endlinecolor\":\"#2a3f5f\",\"gridcolor\":\"#C8D4E3\",\"linecolor\":\"#C8D4E3\",\"minorgridcolor\":\"#C8D4E3\",\"startlinecolor\":\"#2a3f5f\"},\"type\":\"carpet\"}],\"table\":[{\"cells\":{\"fill\":{\"color\":\"#EBF0F8\"},\"line\":{\"color\":\"white\"}},\"header\":{\"fill\":{\"color\":\"#C8D4E3\"},\"line\":{\"color\":\"white\"}},\"type\":\"table\"}],\"barpolar\":[{\"marker\":{\"line\":{\"color\":\"white\",\"width\":0.5},\"pattern\":{\"fillmode\":\"overlay\",\"size\":10,\"solidity\":0.2}},\"type\":\"barpolar\"}],\"pie\":[{\"automargin\":true,\"type\":\"pie\"}]},\"layout\":{\"autotypenumbers\":\"strict\",\"colorway\":[\"#636efa\",\"#EF553B\",\"#00cc96\",\"#ab63fa\",\"#FFA15A\",\"#19d3f3\",\"#FF6692\",\"#B6E880\",\"#FF97FF\",\"#FECB52\"],\"font\":{\"color\":\"#2a3f5f\"},\"hovermode\":\"closest\",\"hoverlabel\":{\"align\":\"left\"},\"paper_bgcolor\":\"white\",\"plot_bgcolor\":\"white\",\"polar\":{\"bgcolor\":\"white\",\"angularaxis\":{\"gridcolor\":\"#EBF0F8\",\"linecolor\":\"#EBF0F8\",\"ticks\":\"\"},\"radialaxis\":{\"gridcolor\":\"#EBF0F8\",\"linecolor\":\"#EBF0F8\",\"ticks\":\"\"}},\"ternary\":{\"bgcolor\":\"white\",\"aaxis\":{\"gridcolor\":\"#DFE8F3\",\"linecolor\":\"#A2B1C6\",\"ticks\":\"\"},\"baxis\":{\"gridcolor\":\"#DFE8F3\",\"linecolor\":\"#A2B1C6\",\"ticks\":\"\"},\"caxis\":{\"gridcolor\":\"#DFE8F3\",\"linecolor\":\"#A2B1C6\",\"ticks\":\"\"}},\"coloraxis\":{\"colorbar\":{\"outlinewidth\":0,\"ticks\":\"\"}},\"colorscale\":{\"sequential\":[[0.0,\"#0d0887\"],[0.1111111111111111,\"#46039f\"],[0.2222222222222222,\"#7201a8\"],[0.3333333333333333,\"#9c179e\"],[0.4444444444444444,\"#bd3786\"],[0.5555555555555556,\"#d8576b\"],[0.6666666666666666,\"#ed7953\"],[0.7777777777777778,\"#fb9f3a\"],[0.8888888888888888,\"#fdca26\"],[1.0,\"#f0f921\"]],\"sequentialminus\":[[0.0,\"#0d0887\"],[0.1111111111111111,\"#46039f\"],[0.2222222222222222,\"#7201a8\"],[0.3333333333333333,\"#9c179e\"],[0.4444444444444444,\"#bd3786\"],[0.5555555555555556,\"#d8576b\"],[0.6666666666666666,\"#ed7953\"],[0.7777777777777778,\"#fb9f3a\"],[0.8888888888888888,\"#fdca26\"],[1.0,\"#f0f921\"]],\"diverging\":[[0,\"#8e0152\"],[0.1,\"#c51b7d\"],[0.2,\"#de77ae\"],[0.3,\"#f1b6da\"],[0.4,\"#fde0ef\"],[0.5,\"#f7f7f7\"],[0.6,\"#e6f5d0\"],[0.7,\"#b8e186\"],[0.8,\"#7fbc41\"],[0.9,\"#4d9221\"],[1,\"#276419\"]]},\"xaxis\":{\"gridcolor\":\"#EBF0F8\",\"linecolor\":\"#EBF0F8\",\"ticks\":\"\",\"title\":{\"standoff\":15},\"zerolinecolor\":\"#EBF0F8\",\"automargin\":true,\"zerolinewidth\":2},\"yaxis\":{\"gridcolor\":\"#EBF0F8\",\"linecolor\":\"#EBF0F8\",\"ticks\":\"\",\"title\":{\"standoff\":15},\"zerolinecolor\":\"#EBF0F8\",\"automargin\":true,\"zerolinewidth\":2},\"scene\":{\"xaxis\":{\"backgroundcolor\":\"white\",\"gridcolor\":\"#DFE8F3\",\"linecolor\":\"#EBF0F8\",\"showbackground\":true,\"ticks\":\"\",\"zerolinecolor\":\"#EBF0F8\",\"gridwidth\":2},\"yaxis\":{\"backgroundcolor\":\"white\",\"gridcolor\":\"#DFE8F3\",\"linecolor\":\"#EBF0F8\",\"showbackground\":true,\"ticks\":\"\",\"zerolinecolor\":\"#EBF0F8\",\"gridwidth\":2},\"zaxis\":{\"backgroundcolor\":\"white\",\"gridcolor\":\"#DFE8F3\",\"linecolor\":\"#EBF0F8\",\"showbackground\":true,\"ticks\":\"\",\"zerolinecolor\":\"#EBF0F8\",\"gridwidth\":2}},\"shapedefaults\":{\"line\":{\"color\":\"#2a3f5f\"}},\"annotationdefaults\":{\"arrowcolor\":\"#2a3f5f\",\"arrowhead\":0,\"arrowwidth\":1},\"geo\":{\"bgcolor\":\"white\",\"landcolor\":\"white\",\"subunitcolor\":\"#C8D4E3\",\"showland\":true,\"showlakes\":true,\"lakecolor\":\"white\"},\"title\":{\"x\":0.05},\"mapbox\":{\"style\":\"light\"}}},\"xaxis\":{\"anchor\":\"y\",\"domain\":[0.0,1.0],\"title\":{\"text\":\"Variables\"}},\"yaxis\":{\"anchor\":\"x\",\"domain\":[0.0,1.0],\"title\":{\"text\":\"Estimated VIP\"}},\"legend\":{\"tracegroupgap\":0},\"title\":{\"text\":\"VIP scores of PLS model\"},\"barmode\":\"relative\",\"shapes\":[{\"type\":\"line\",\"x0\":0,\"x1\":1,\"xref\":\"x domain\",\"y0\":1,\"y1\":1,\"yref\":\"y\"},{\"line\":{\"color\":\"gray\"},\"type\":\"line\",\"x0\":0,\"x1\":1,\"xref\":\"x domain\",\"y0\":0.8,\"y1\":0.8,\"yref\":\"y\"}],\"width\":1600},                        {\"responsive\": true}                    ).then(function(){\n",
       "                            \n",
       "var gd = document.getElementById('15ca0990-87b0-4289-abed-72eb283d5f05');\n",
       "var x = new MutationObserver(function (mutations, observer) {{\n",
       "        var display = window.getComputedStyle(gd).display;\n",
       "        if (!display || display === 'none') {{\n",
       "            console.log([gd, 'removed!']);\n",
       "            Plotly.purge(gd);\n",
       "            observer.disconnect();\n",
       "        }}\n",
       "}});\n",
       "\n",
       "// Listen for the removal of the full notebook cells\n",
       "var notebookContainer = gd.closest('#notebook-container');\n",
       "if (notebookContainer) {{\n",
       "    x.observe(notebookContainer, {childList: true});\n",
       "}}\n",
       "\n",
       "// Listen for the clearing of the current output cell\n",
       "var outputEl = gd.closest('.output');\n",
       "if (outputEl) {{\n",
       "    x.observe(outputEl, {childList: true});\n",
       "}}\n",
       "\n",
       "                        })                };                });            </script>        </div>"
      ]
     },
     "metadata": {},
     "output_type": "display_data"
    }
   ],
   "source": [
    "# Training\n",
    "pipe = fit_pls_model(\n",
    "    X=doe,\n",
    "    y=tar,\n",
    "    latent_variables=LATENT_VARIABLES,\n",
    "    polynomial_degree=POLYNOMIAL_DEGREE_PLS,\n",
    "    interactions_only=INTERACTIONS_ONLY,\n",
    ")\n",
    "\n",
    "# Model features and variable importance\n",
    "plot_pls_model_coef(X=doe, pls_pipeline=pipe)"
   ]
  },
  {
   "cell_type": "markdown",
   "metadata": {},
   "source": [
    "### Test"
   ]
  },
  {
   "cell_type": "code",
   "execution_count": 293,
   "metadata": {},
   "outputs": [
    {
     "data": {
      "application/vnd.plotly.v1+json": {
       "config": {
        "plotlyServerURL": "https://plot.ly"
       },
       "data": [
        {
         "mode": "markers",
         "type": "scatter",
         "x": [
          598.2145117811539,
          677.286485760024,
          962.4350388200675,
          376.47128383977974,
          749.0360751758775,
          609.6723561724535,
          734.4947499947726,
          736.7845196154994,
          546.2042000821999,
          909.6127156214135,
          815.9583992489415,
          657.2030461292619,
          821.9922100526519,
          909.1925202242863,
          442.43899855360496,
          659.6003392397972,
          736.2204919840465,
          726.2255606564651,
          612.0684664730786,
          939.0964006837039,
          955.1470347957396,
          578.6424523588773,
          674.8901082097983,
          910.8012914346239,
          676.5850123143858,
          812.4925623898673,
          408.12104029869994,
          1034.889209312743,
          1616.008650761448,
          1163.9810469742717,
          1710.1829597211827
         ],
         "xaxis": "x",
         "y": [
          854.827398759854,
          800.6579389298336,
          778.193287356844,
          493.57277403858853,
          572.695340923716,
          698.190187332335,
          770.5342220321894,
          890.2152369918966,
          798.106189355421,
          805.1670358620631,
          752.6309352369831,
          1030.0173909495197,
          786.5519152964856,
          857.9098627672817,
          777.7057270104107,
          627.4492622271389,
          562.8966379953728,
          775.9944981199948,
          815.6371651476068,
          1085.198133253609,
          938.8066050194434,
          592.4902178218399,
          795.5911116922159,
          1107.996743548512,
          794.9616563296272,
          823.1394929561882,
          551.9509437033432,
          845.6468122100878,
          1077.6328929727888,
          855.7976351657967,
          843.7844876737339
         ],
         "yaxis": "y"
        },
        {
         "mode": "markers",
         "type": "scatter",
         "x": [
          2216.3971020674653,
          1740.4059733542372,
          1577.254773447464,
          1209.6745136328002,
          1103.5760897930825,
          1127.890886560569,
          1647.4136745039298,
          1356.2614739098437,
          1610.2672422667451,
          1927.6928415249351,
          1893.7831892521456,
          1443.319301111057,
          1240.0992254222554,
          1088.1897229222657,
          1277.316030212535,
          1321.6726446420448,
          1481.2762023112161,
          1087.0909830692501,
          1756.7390222942445
         ],
         "xaxis": "x2",
         "y": [
          1101.373847640763,
          947.3672477440701,
          1058.2810058178613,
          970.3661953804507,
          650.9415575831209,
          853.8159602155374,
          1012.5709694855245,
          1009.9599795363007,
          920.0268201830978,
          847.5965271624178,
          796.7919266054159,
          964.6253876910132,
          950.3210598730099,
          1241.259012424803,
          1096.7384883132752,
          941.8994527720437,
          820.7052490738255,
          622.0750779572382,
          713.6751063639019
         ],
         "yaxis": "y2"
        }
       ],
       "layout": {
        "annotations": [
         {
          "font": {
           "size": 16
          },
          "showarrow": false,
          "text": "Train Set <br> R^2 = 0.271 <br> Abs RMSE = 246.426 <br> Rel RMSE = 0.854",
          "x": 0.225,
          "xanchor": "center",
          "xref": "paper",
          "y": 1,
          "yanchor": "bottom",
          "yref": "paper"
         },
         {
          "font": {
           "size": 16
          },
          "showarrow": false,
          "text": "Test Set <br> R^2 = -3.265 <br> Abs RMSE = 653.014 <br> Rel RMSE = 2.065",
          "x": 0.775,
          "xanchor": "center",
          "xref": "paper",
          "y": 1,
          "yanchor": "bottom",
          "yref": "paper"
         }
        ],
        "shapes": [
         {
          "layer": "below",
          "line": {
           "dash": "dash"
          },
          "type": "line",
          "x0": 493.57277403858853,
          "x1": 1107.996743548512,
          "y0": 493.57277403858853,
          "y1": 1107.996743548512
         },
         {
          "layer": "below",
          "line": {
           "dash": "dash"
          },
          "type": "line",
          "x0": 622.0750779572382,
          "x1": 1241.259012424803,
          "xref": "x2",
          "y0": 622.0750779572382,
          "y1": 1241.259012424803,
          "yref": "y2"
         }
        ],
        "template": {
         "data": {
          "bar": [
           {
            "error_x": {
             "color": "#2a3f5f"
            },
            "error_y": {
             "color": "#2a3f5f"
            },
            "marker": {
             "line": {
              "color": "white",
              "width": 0.5
             },
             "pattern": {
              "fillmode": "overlay",
              "size": 10,
              "solidity": 0.2
             }
            },
            "type": "bar"
           }
          ],
          "barpolar": [
           {
            "marker": {
             "line": {
              "color": "white",
              "width": 0.5
             },
             "pattern": {
              "fillmode": "overlay",
              "size": 10,
              "solidity": 0.2
             }
            },
            "type": "barpolar"
           }
          ],
          "carpet": [
           {
            "aaxis": {
             "endlinecolor": "#2a3f5f",
             "gridcolor": "#C8D4E3",
             "linecolor": "#C8D4E3",
             "minorgridcolor": "#C8D4E3",
             "startlinecolor": "#2a3f5f"
            },
            "baxis": {
             "endlinecolor": "#2a3f5f",
             "gridcolor": "#C8D4E3",
             "linecolor": "#C8D4E3",
             "minorgridcolor": "#C8D4E3",
             "startlinecolor": "#2a3f5f"
            },
            "type": "carpet"
           }
          ],
          "choropleth": [
           {
            "colorbar": {
             "outlinewidth": 0,
             "ticks": ""
            },
            "type": "choropleth"
           }
          ],
          "contour": [
           {
            "colorbar": {
             "outlinewidth": 0,
             "ticks": ""
            },
            "colorscale": [
             [
              0,
              "#0d0887"
             ],
             [
              0.1111111111111111,
              "#46039f"
             ],
             [
              0.2222222222222222,
              "#7201a8"
             ],
             [
              0.3333333333333333,
              "#9c179e"
             ],
             [
              0.4444444444444444,
              "#bd3786"
             ],
             [
              0.5555555555555556,
              "#d8576b"
             ],
             [
              0.6666666666666666,
              "#ed7953"
             ],
             [
              0.7777777777777778,
              "#fb9f3a"
             ],
             [
              0.8888888888888888,
              "#fdca26"
             ],
             [
              1,
              "#f0f921"
             ]
            ],
            "type": "contour"
           }
          ],
          "contourcarpet": [
           {
            "colorbar": {
             "outlinewidth": 0,
             "ticks": ""
            },
            "type": "contourcarpet"
           }
          ],
          "heatmap": [
           {
            "colorbar": {
             "outlinewidth": 0,
             "ticks": ""
            },
            "colorscale": [
             [
              0,
              "#0d0887"
             ],
             [
              0.1111111111111111,
              "#46039f"
             ],
             [
              0.2222222222222222,
              "#7201a8"
             ],
             [
              0.3333333333333333,
              "#9c179e"
             ],
             [
              0.4444444444444444,
              "#bd3786"
             ],
             [
              0.5555555555555556,
              "#d8576b"
             ],
             [
              0.6666666666666666,
              "#ed7953"
             ],
             [
              0.7777777777777778,
              "#fb9f3a"
             ],
             [
              0.8888888888888888,
              "#fdca26"
             ],
             [
              1,
              "#f0f921"
             ]
            ],
            "type": "heatmap"
           }
          ],
          "heatmapgl": [
           {
            "colorbar": {
             "outlinewidth": 0,
             "ticks": ""
            },
            "colorscale": [
             [
              0,
              "#0d0887"
             ],
             [
              0.1111111111111111,
              "#46039f"
             ],
             [
              0.2222222222222222,
              "#7201a8"
             ],
             [
              0.3333333333333333,
              "#9c179e"
             ],
             [
              0.4444444444444444,
              "#bd3786"
             ],
             [
              0.5555555555555556,
              "#d8576b"
             ],
             [
              0.6666666666666666,
              "#ed7953"
             ],
             [
              0.7777777777777778,
              "#fb9f3a"
             ],
             [
              0.8888888888888888,
              "#fdca26"
             ],
             [
              1,
              "#f0f921"
             ]
            ],
            "type": "heatmapgl"
           }
          ],
          "histogram": [
           {
            "marker": {
             "pattern": {
              "fillmode": "overlay",
              "size": 10,
              "solidity": 0.2
             }
            },
            "type": "histogram"
           }
          ],
          "histogram2d": [
           {
            "colorbar": {
             "outlinewidth": 0,
             "ticks": ""
            },
            "colorscale": [
             [
              0,
              "#0d0887"
             ],
             [
              0.1111111111111111,
              "#46039f"
             ],
             [
              0.2222222222222222,
              "#7201a8"
             ],
             [
              0.3333333333333333,
              "#9c179e"
             ],
             [
              0.4444444444444444,
              "#bd3786"
             ],
             [
              0.5555555555555556,
              "#d8576b"
             ],
             [
              0.6666666666666666,
              "#ed7953"
             ],
             [
              0.7777777777777778,
              "#fb9f3a"
             ],
             [
              0.8888888888888888,
              "#fdca26"
             ],
             [
              1,
              "#f0f921"
             ]
            ],
            "type": "histogram2d"
           }
          ],
          "histogram2dcontour": [
           {
            "colorbar": {
             "outlinewidth": 0,
             "ticks": ""
            },
            "colorscale": [
             [
              0,
              "#0d0887"
             ],
             [
              0.1111111111111111,
              "#46039f"
             ],
             [
              0.2222222222222222,
              "#7201a8"
             ],
             [
              0.3333333333333333,
              "#9c179e"
             ],
             [
              0.4444444444444444,
              "#bd3786"
             ],
             [
              0.5555555555555556,
              "#d8576b"
             ],
             [
              0.6666666666666666,
              "#ed7953"
             ],
             [
              0.7777777777777778,
              "#fb9f3a"
             ],
             [
              0.8888888888888888,
              "#fdca26"
             ],
             [
              1,
              "#f0f921"
             ]
            ],
            "type": "histogram2dcontour"
           }
          ],
          "mesh3d": [
           {
            "colorbar": {
             "outlinewidth": 0,
             "ticks": ""
            },
            "type": "mesh3d"
           }
          ],
          "parcoords": [
           {
            "line": {
             "colorbar": {
              "outlinewidth": 0,
              "ticks": ""
             }
            },
            "type": "parcoords"
           }
          ],
          "pie": [
           {
            "automargin": true,
            "type": "pie"
           }
          ],
          "scatter": [
           {
            "fillpattern": {
             "fillmode": "overlay",
             "size": 10,
             "solidity": 0.2
            },
            "type": "scatter"
           }
          ],
          "scatter3d": [
           {
            "line": {
             "colorbar": {
              "outlinewidth": 0,
              "ticks": ""
             }
            },
            "marker": {
             "colorbar": {
              "outlinewidth": 0,
              "ticks": ""
             }
            },
            "type": "scatter3d"
           }
          ],
          "scattercarpet": [
           {
            "marker": {
             "colorbar": {
              "outlinewidth": 0,
              "ticks": ""
             }
            },
            "type": "scattercarpet"
           }
          ],
          "scattergeo": [
           {
            "marker": {
             "colorbar": {
              "outlinewidth": 0,
              "ticks": ""
             }
            },
            "type": "scattergeo"
           }
          ],
          "scattergl": [
           {
            "marker": {
             "colorbar": {
              "outlinewidth": 0,
              "ticks": ""
             }
            },
            "type": "scattergl"
           }
          ],
          "scattermapbox": [
           {
            "marker": {
             "colorbar": {
              "outlinewidth": 0,
              "ticks": ""
             }
            },
            "type": "scattermapbox"
           }
          ],
          "scatterpolar": [
           {
            "marker": {
             "colorbar": {
              "outlinewidth": 0,
              "ticks": ""
             }
            },
            "type": "scatterpolar"
           }
          ],
          "scatterpolargl": [
           {
            "marker": {
             "colorbar": {
              "outlinewidth": 0,
              "ticks": ""
             }
            },
            "type": "scatterpolargl"
           }
          ],
          "scatterternary": [
           {
            "marker": {
             "colorbar": {
              "outlinewidth": 0,
              "ticks": ""
             }
            },
            "type": "scatterternary"
           }
          ],
          "surface": [
           {
            "colorbar": {
             "outlinewidth": 0,
             "ticks": ""
            },
            "colorscale": [
             [
              0,
              "#0d0887"
             ],
             [
              0.1111111111111111,
              "#46039f"
             ],
             [
              0.2222222222222222,
              "#7201a8"
             ],
             [
              0.3333333333333333,
              "#9c179e"
             ],
             [
              0.4444444444444444,
              "#bd3786"
             ],
             [
              0.5555555555555556,
              "#d8576b"
             ],
             [
              0.6666666666666666,
              "#ed7953"
             ],
             [
              0.7777777777777778,
              "#fb9f3a"
             ],
             [
              0.8888888888888888,
              "#fdca26"
             ],
             [
              1,
              "#f0f921"
             ]
            ],
            "type": "surface"
           }
          ],
          "table": [
           {
            "cells": {
             "fill": {
              "color": "#EBF0F8"
             },
             "line": {
              "color": "white"
             }
            },
            "header": {
             "fill": {
              "color": "#C8D4E3"
             },
             "line": {
              "color": "white"
             }
            },
            "type": "table"
           }
          ]
         },
         "layout": {
          "annotationdefaults": {
           "arrowcolor": "#2a3f5f",
           "arrowhead": 0,
           "arrowwidth": 1
          },
          "autotypenumbers": "strict",
          "coloraxis": {
           "colorbar": {
            "outlinewidth": 0,
            "ticks": ""
           }
          },
          "colorscale": {
           "diverging": [
            [
             0,
             "#8e0152"
            ],
            [
             0.1,
             "#c51b7d"
            ],
            [
             0.2,
             "#de77ae"
            ],
            [
             0.3,
             "#f1b6da"
            ],
            [
             0.4,
             "#fde0ef"
            ],
            [
             0.5,
             "#f7f7f7"
            ],
            [
             0.6,
             "#e6f5d0"
            ],
            [
             0.7,
             "#b8e186"
            ],
            [
             0.8,
             "#7fbc41"
            ],
            [
             0.9,
             "#4d9221"
            ],
            [
             1,
             "#276419"
            ]
           ],
           "sequential": [
            [
             0,
             "#0d0887"
            ],
            [
             0.1111111111111111,
             "#46039f"
            ],
            [
             0.2222222222222222,
             "#7201a8"
            ],
            [
             0.3333333333333333,
             "#9c179e"
            ],
            [
             0.4444444444444444,
             "#bd3786"
            ],
            [
             0.5555555555555556,
             "#d8576b"
            ],
            [
             0.6666666666666666,
             "#ed7953"
            ],
            [
             0.7777777777777778,
             "#fb9f3a"
            ],
            [
             0.8888888888888888,
             "#fdca26"
            ],
            [
             1,
             "#f0f921"
            ]
           ],
           "sequentialminus": [
            [
             0,
             "#0d0887"
            ],
            [
             0.1111111111111111,
             "#46039f"
            ],
            [
             0.2222222222222222,
             "#7201a8"
            ],
            [
             0.3333333333333333,
             "#9c179e"
            ],
            [
             0.4444444444444444,
             "#bd3786"
            ],
            [
             0.5555555555555556,
             "#d8576b"
            ],
            [
             0.6666666666666666,
             "#ed7953"
            ],
            [
             0.7777777777777778,
             "#fb9f3a"
            ],
            [
             0.8888888888888888,
             "#fdca26"
            ],
            [
             1,
             "#f0f921"
            ]
           ]
          },
          "colorway": [
           "#636efa",
           "#EF553B",
           "#00cc96",
           "#ab63fa",
           "#FFA15A",
           "#19d3f3",
           "#FF6692",
           "#B6E880",
           "#FF97FF",
           "#FECB52"
          ],
          "font": {
           "color": "#2a3f5f"
          },
          "geo": {
           "bgcolor": "white",
           "lakecolor": "white",
           "landcolor": "white",
           "showlakes": true,
           "showland": true,
           "subunitcolor": "#C8D4E3"
          },
          "hoverlabel": {
           "align": "left"
          },
          "hovermode": "closest",
          "mapbox": {
           "style": "light"
          },
          "paper_bgcolor": "white",
          "plot_bgcolor": "white",
          "polar": {
           "angularaxis": {
            "gridcolor": "#EBF0F8",
            "linecolor": "#EBF0F8",
            "ticks": ""
           },
           "bgcolor": "white",
           "radialaxis": {
            "gridcolor": "#EBF0F8",
            "linecolor": "#EBF0F8",
            "ticks": ""
           }
          },
          "scene": {
           "xaxis": {
            "backgroundcolor": "white",
            "gridcolor": "#DFE8F3",
            "gridwidth": 2,
            "linecolor": "#EBF0F8",
            "showbackground": true,
            "ticks": "",
            "zerolinecolor": "#EBF0F8"
           },
           "yaxis": {
            "backgroundcolor": "white",
            "gridcolor": "#DFE8F3",
            "gridwidth": 2,
            "linecolor": "#EBF0F8",
            "showbackground": true,
            "ticks": "",
            "zerolinecolor": "#EBF0F8"
           },
           "zaxis": {
            "backgroundcolor": "white",
            "gridcolor": "#DFE8F3",
            "gridwidth": 2,
            "linecolor": "#EBF0F8",
            "showbackground": true,
            "ticks": "",
            "zerolinecolor": "#EBF0F8"
           }
          },
          "shapedefaults": {
           "line": {
            "color": "#2a3f5f"
           }
          },
          "ternary": {
           "aaxis": {
            "gridcolor": "#DFE8F3",
            "linecolor": "#A2B1C6",
            "ticks": ""
           },
           "baxis": {
            "gridcolor": "#DFE8F3",
            "linecolor": "#A2B1C6",
            "ticks": ""
           },
           "bgcolor": "white",
           "caxis": {
            "gridcolor": "#DFE8F3",
            "linecolor": "#A2B1C6",
            "ticks": ""
           }
          },
          "title": {
           "x": 0.05
          },
          "xaxis": {
           "automargin": true,
           "gridcolor": "#EBF0F8",
           "linecolor": "#EBF0F8",
           "ticks": "",
           "title": {
            "standoff": 15
           },
           "zerolinecolor": "#EBF0F8",
           "zerolinewidth": 2
          },
          "yaxis": {
           "automargin": true,
           "gridcolor": "#EBF0F8",
           "linecolor": "#EBF0F8",
           "ticks": "",
           "title": {
            "standoff": 15
           },
           "zerolinecolor": "#EBF0F8",
           "zerolinewidth": 2
          }
         }
        },
        "width": 1600,
        "xaxis": {
         "anchor": "y",
         "domain": [
          0,
          0.45
         ],
         "title": {
          "text": "Observed values"
         }
        },
        "xaxis2": {
         "anchor": "y2",
         "domain": [
          0.55,
          1
         ],
         "title": {
          "text": "Observed values"
         }
        },
        "yaxis": {
         "anchor": "x",
         "domain": [
          0,
          1
         ],
         "title": {
          "text": "Predicted values"
         }
        },
        "yaxis2": {
         "anchor": "x2",
         "domain": [
          0,
          1
         ],
         "title": {
          "text": "Predicted values"
         }
        }
       }
      },
      "text/html": [
       "<div>                            <div id=\"bf991c62-7d8c-48de-ac50-aec7ab25acf3\" class=\"plotly-graph-div\" style=\"height:525px; width:1600px;\"></div>            <script type=\"text/javascript\">                require([\"plotly\"], function(Plotly) {                    window.PLOTLYENV=window.PLOTLYENV || {};                                    if (document.getElementById(\"bf991c62-7d8c-48de-ac50-aec7ab25acf3\")) {                    Plotly.newPlot(                        \"bf991c62-7d8c-48de-ac50-aec7ab25acf3\",                        [{\"mode\":\"markers\",\"x\":[598.2145117811539,677.286485760024,962.4350388200675,376.47128383977974,749.0360751758775,609.6723561724535,734.4947499947726,736.7845196154994,546.2042000821999,909.6127156214135,815.9583992489415,657.2030461292619,821.9922100526519,909.1925202242863,442.43899855360496,659.6003392397972,736.2204919840465,726.2255606564651,612.0684664730786,939.0964006837039,955.1470347957396,578.6424523588773,674.8901082097983,910.8012914346239,676.5850123143858,812.4925623898673,408.12104029869994,1034.889209312743,1616.008650761448,1163.9810469742717,1710.1829597211827],\"y\":[854.827398759854,800.6579389298336,778.193287356844,493.57277403858853,572.695340923716,698.190187332335,770.5342220321894,890.2152369918966,798.106189355421,805.1670358620631,752.6309352369831,1030.0173909495197,786.5519152964856,857.9098627672817,777.7057270104107,627.4492622271389,562.8966379953728,775.9944981199948,815.6371651476068,1085.198133253609,938.8066050194434,592.4902178218399,795.5911116922159,1107.996743548512,794.9616563296272,823.1394929561882,551.9509437033432,845.6468122100878,1077.6328929727888,855.7976351657967,843.7844876737339],\"type\":\"scatter\",\"xaxis\":\"x\",\"yaxis\":\"y\"},{\"mode\":\"markers\",\"x\":[2216.3971020674653,1740.4059733542372,1577.254773447464,1209.6745136328002,1103.5760897930825,1127.890886560569,1647.4136745039298,1356.2614739098437,1610.2672422667451,1927.6928415249351,1893.7831892521456,1443.319301111057,1240.0992254222554,1088.1897229222657,1277.316030212535,1321.6726446420448,1481.2762023112161,1087.0909830692501,1756.7390222942445],\"y\":[1101.373847640763,947.3672477440701,1058.2810058178613,970.3661953804507,650.9415575831209,853.8159602155374,1012.5709694855245,1009.9599795363007,920.0268201830978,847.5965271624178,796.7919266054159,964.6253876910132,950.3210598730099,1241.259012424803,1096.7384883132752,941.8994527720437,820.7052490738255,622.0750779572382,713.6751063639019],\"type\":\"scatter\",\"xaxis\":\"x2\",\"yaxis\":\"y2\"}],                        {\"template\":{\"data\":{\"histogram2dcontour\":[{\"type\":\"histogram2dcontour\",\"colorbar\":{\"outlinewidth\":0,\"ticks\":\"\"},\"colorscale\":[[0.0,\"#0d0887\"],[0.1111111111111111,\"#46039f\"],[0.2222222222222222,\"#7201a8\"],[0.3333333333333333,\"#9c179e\"],[0.4444444444444444,\"#bd3786\"],[0.5555555555555556,\"#d8576b\"],[0.6666666666666666,\"#ed7953\"],[0.7777777777777778,\"#fb9f3a\"],[0.8888888888888888,\"#fdca26\"],[1.0,\"#f0f921\"]]}],\"choropleth\":[{\"type\":\"choropleth\",\"colorbar\":{\"outlinewidth\":0,\"ticks\":\"\"}}],\"histogram2d\":[{\"type\":\"histogram2d\",\"colorbar\":{\"outlinewidth\":0,\"ticks\":\"\"},\"colorscale\":[[0.0,\"#0d0887\"],[0.1111111111111111,\"#46039f\"],[0.2222222222222222,\"#7201a8\"],[0.3333333333333333,\"#9c179e\"],[0.4444444444444444,\"#bd3786\"],[0.5555555555555556,\"#d8576b\"],[0.6666666666666666,\"#ed7953\"],[0.7777777777777778,\"#fb9f3a\"],[0.8888888888888888,\"#fdca26\"],[1.0,\"#f0f921\"]]}],\"heatmap\":[{\"type\":\"heatmap\",\"colorbar\":{\"outlinewidth\":0,\"ticks\":\"\"},\"colorscale\":[[0.0,\"#0d0887\"],[0.1111111111111111,\"#46039f\"],[0.2222222222222222,\"#7201a8\"],[0.3333333333333333,\"#9c179e\"],[0.4444444444444444,\"#bd3786\"],[0.5555555555555556,\"#d8576b\"],[0.6666666666666666,\"#ed7953\"],[0.7777777777777778,\"#fb9f3a\"],[0.8888888888888888,\"#fdca26\"],[1.0,\"#f0f921\"]]}],\"heatmapgl\":[{\"type\":\"heatmapgl\",\"colorbar\":{\"outlinewidth\":0,\"ticks\":\"\"},\"colorscale\":[[0.0,\"#0d0887\"],[0.1111111111111111,\"#46039f\"],[0.2222222222222222,\"#7201a8\"],[0.3333333333333333,\"#9c179e\"],[0.4444444444444444,\"#bd3786\"],[0.5555555555555556,\"#d8576b\"],[0.6666666666666666,\"#ed7953\"],[0.7777777777777778,\"#fb9f3a\"],[0.8888888888888888,\"#fdca26\"],[1.0,\"#f0f921\"]]}],\"contourcarpet\":[{\"type\":\"contourcarpet\",\"colorbar\":{\"outlinewidth\":0,\"ticks\":\"\"}}],\"contour\":[{\"type\":\"contour\",\"colorbar\":{\"outlinewidth\":0,\"ticks\":\"\"},\"colorscale\":[[0.0,\"#0d0887\"],[0.1111111111111111,\"#46039f\"],[0.2222222222222222,\"#7201a8\"],[0.3333333333333333,\"#9c179e\"],[0.4444444444444444,\"#bd3786\"],[0.5555555555555556,\"#d8576b\"],[0.6666666666666666,\"#ed7953\"],[0.7777777777777778,\"#fb9f3a\"],[0.8888888888888888,\"#fdca26\"],[1.0,\"#f0f921\"]]}],\"surface\":[{\"type\":\"surface\",\"colorbar\":{\"outlinewidth\":0,\"ticks\":\"\"},\"colorscale\":[[0.0,\"#0d0887\"],[0.1111111111111111,\"#46039f\"],[0.2222222222222222,\"#7201a8\"],[0.3333333333333333,\"#9c179e\"],[0.4444444444444444,\"#bd3786\"],[0.5555555555555556,\"#d8576b\"],[0.6666666666666666,\"#ed7953\"],[0.7777777777777778,\"#fb9f3a\"],[0.8888888888888888,\"#fdca26\"],[1.0,\"#f0f921\"]]}],\"mesh3d\":[{\"type\":\"mesh3d\",\"colorbar\":{\"outlinewidth\":0,\"ticks\":\"\"}}],\"scatter\":[{\"fillpattern\":{\"fillmode\":\"overlay\",\"size\":10,\"solidity\":0.2},\"type\":\"scatter\"}],\"parcoords\":[{\"type\":\"parcoords\",\"line\":{\"colorbar\":{\"outlinewidth\":0,\"ticks\":\"\"}}}],\"scatterpolargl\":[{\"type\":\"scatterpolargl\",\"marker\":{\"colorbar\":{\"outlinewidth\":0,\"ticks\":\"\"}}}],\"bar\":[{\"error_x\":{\"color\":\"#2a3f5f\"},\"error_y\":{\"color\":\"#2a3f5f\"},\"marker\":{\"line\":{\"color\":\"white\",\"width\":0.5},\"pattern\":{\"fillmode\":\"overlay\",\"size\":10,\"solidity\":0.2}},\"type\":\"bar\"}],\"scattergeo\":[{\"type\":\"scattergeo\",\"marker\":{\"colorbar\":{\"outlinewidth\":0,\"ticks\":\"\"}}}],\"scatterpolar\":[{\"type\":\"scatterpolar\",\"marker\":{\"colorbar\":{\"outlinewidth\":0,\"ticks\":\"\"}}}],\"histogram\":[{\"marker\":{\"pattern\":{\"fillmode\":\"overlay\",\"size\":10,\"solidity\":0.2}},\"type\":\"histogram\"}],\"scattergl\":[{\"type\":\"scattergl\",\"marker\":{\"colorbar\":{\"outlinewidth\":0,\"ticks\":\"\"}}}],\"scatter3d\":[{\"type\":\"scatter3d\",\"line\":{\"colorbar\":{\"outlinewidth\":0,\"ticks\":\"\"}},\"marker\":{\"colorbar\":{\"outlinewidth\":0,\"ticks\":\"\"}}}],\"scattermapbox\":[{\"type\":\"scattermapbox\",\"marker\":{\"colorbar\":{\"outlinewidth\":0,\"ticks\":\"\"}}}],\"scatterternary\":[{\"type\":\"scatterternary\",\"marker\":{\"colorbar\":{\"outlinewidth\":0,\"ticks\":\"\"}}}],\"scattercarpet\":[{\"type\":\"scattercarpet\",\"marker\":{\"colorbar\":{\"outlinewidth\":0,\"ticks\":\"\"}}}],\"carpet\":[{\"aaxis\":{\"endlinecolor\":\"#2a3f5f\",\"gridcolor\":\"#C8D4E3\",\"linecolor\":\"#C8D4E3\",\"minorgridcolor\":\"#C8D4E3\",\"startlinecolor\":\"#2a3f5f\"},\"baxis\":{\"endlinecolor\":\"#2a3f5f\",\"gridcolor\":\"#C8D4E3\",\"linecolor\":\"#C8D4E3\",\"minorgridcolor\":\"#C8D4E3\",\"startlinecolor\":\"#2a3f5f\"},\"type\":\"carpet\"}],\"table\":[{\"cells\":{\"fill\":{\"color\":\"#EBF0F8\"},\"line\":{\"color\":\"white\"}},\"header\":{\"fill\":{\"color\":\"#C8D4E3\"},\"line\":{\"color\":\"white\"}},\"type\":\"table\"}],\"barpolar\":[{\"marker\":{\"line\":{\"color\":\"white\",\"width\":0.5},\"pattern\":{\"fillmode\":\"overlay\",\"size\":10,\"solidity\":0.2}},\"type\":\"barpolar\"}],\"pie\":[{\"automargin\":true,\"type\":\"pie\"}]},\"layout\":{\"autotypenumbers\":\"strict\",\"colorway\":[\"#636efa\",\"#EF553B\",\"#00cc96\",\"#ab63fa\",\"#FFA15A\",\"#19d3f3\",\"#FF6692\",\"#B6E880\",\"#FF97FF\",\"#FECB52\"],\"font\":{\"color\":\"#2a3f5f\"},\"hovermode\":\"closest\",\"hoverlabel\":{\"align\":\"left\"},\"paper_bgcolor\":\"white\",\"plot_bgcolor\":\"white\",\"polar\":{\"bgcolor\":\"white\",\"angularaxis\":{\"gridcolor\":\"#EBF0F8\",\"linecolor\":\"#EBF0F8\",\"ticks\":\"\"},\"radialaxis\":{\"gridcolor\":\"#EBF0F8\",\"linecolor\":\"#EBF0F8\",\"ticks\":\"\"}},\"ternary\":{\"bgcolor\":\"white\",\"aaxis\":{\"gridcolor\":\"#DFE8F3\",\"linecolor\":\"#A2B1C6\",\"ticks\":\"\"},\"baxis\":{\"gridcolor\":\"#DFE8F3\",\"linecolor\":\"#A2B1C6\",\"ticks\":\"\"},\"caxis\":{\"gridcolor\":\"#DFE8F3\",\"linecolor\":\"#A2B1C6\",\"ticks\":\"\"}},\"coloraxis\":{\"colorbar\":{\"outlinewidth\":0,\"ticks\":\"\"}},\"colorscale\":{\"sequential\":[[0.0,\"#0d0887\"],[0.1111111111111111,\"#46039f\"],[0.2222222222222222,\"#7201a8\"],[0.3333333333333333,\"#9c179e\"],[0.4444444444444444,\"#bd3786\"],[0.5555555555555556,\"#d8576b\"],[0.6666666666666666,\"#ed7953\"],[0.7777777777777778,\"#fb9f3a\"],[0.8888888888888888,\"#fdca26\"],[1.0,\"#f0f921\"]],\"sequentialminus\":[[0.0,\"#0d0887\"],[0.1111111111111111,\"#46039f\"],[0.2222222222222222,\"#7201a8\"],[0.3333333333333333,\"#9c179e\"],[0.4444444444444444,\"#bd3786\"],[0.5555555555555556,\"#d8576b\"],[0.6666666666666666,\"#ed7953\"],[0.7777777777777778,\"#fb9f3a\"],[0.8888888888888888,\"#fdca26\"],[1.0,\"#f0f921\"]],\"diverging\":[[0,\"#8e0152\"],[0.1,\"#c51b7d\"],[0.2,\"#de77ae\"],[0.3,\"#f1b6da\"],[0.4,\"#fde0ef\"],[0.5,\"#f7f7f7\"],[0.6,\"#e6f5d0\"],[0.7,\"#b8e186\"],[0.8,\"#7fbc41\"],[0.9,\"#4d9221\"],[1,\"#276419\"]]},\"xaxis\":{\"gridcolor\":\"#EBF0F8\",\"linecolor\":\"#EBF0F8\",\"ticks\":\"\",\"title\":{\"standoff\":15},\"zerolinecolor\":\"#EBF0F8\",\"automargin\":true,\"zerolinewidth\":2},\"yaxis\":{\"gridcolor\":\"#EBF0F8\",\"linecolor\":\"#EBF0F8\",\"ticks\":\"\",\"title\":{\"standoff\":15},\"zerolinecolor\":\"#EBF0F8\",\"automargin\":true,\"zerolinewidth\":2},\"scene\":{\"xaxis\":{\"backgroundcolor\":\"white\",\"gridcolor\":\"#DFE8F3\",\"linecolor\":\"#EBF0F8\",\"showbackground\":true,\"ticks\":\"\",\"zerolinecolor\":\"#EBF0F8\",\"gridwidth\":2},\"yaxis\":{\"backgroundcolor\":\"white\",\"gridcolor\":\"#DFE8F3\",\"linecolor\":\"#EBF0F8\",\"showbackground\":true,\"ticks\":\"\",\"zerolinecolor\":\"#EBF0F8\",\"gridwidth\":2},\"zaxis\":{\"backgroundcolor\":\"white\",\"gridcolor\":\"#DFE8F3\",\"linecolor\":\"#EBF0F8\",\"showbackground\":true,\"ticks\":\"\",\"zerolinecolor\":\"#EBF0F8\",\"gridwidth\":2}},\"shapedefaults\":{\"line\":{\"color\":\"#2a3f5f\"}},\"annotationdefaults\":{\"arrowcolor\":\"#2a3f5f\",\"arrowhead\":0,\"arrowwidth\":1},\"geo\":{\"bgcolor\":\"white\",\"landcolor\":\"white\",\"subunitcolor\":\"#C8D4E3\",\"showland\":true,\"showlakes\":true,\"lakecolor\":\"white\"},\"title\":{\"x\":0.05},\"mapbox\":{\"style\":\"light\"}}},\"xaxis\":{\"anchor\":\"y\",\"domain\":[0.0,0.45],\"title\":{\"text\":\"Observed values\"}},\"yaxis\":{\"anchor\":\"x\",\"domain\":[0.0,1.0],\"title\":{\"text\":\"Predicted values\"}},\"xaxis2\":{\"anchor\":\"y2\",\"domain\":[0.55,1.0],\"title\":{\"text\":\"Observed values\"}},\"yaxis2\":{\"anchor\":\"x2\",\"domain\":[0.0,1.0],\"title\":{\"text\":\"Predicted values\"}},\"annotations\":[{\"font\":{\"size\":16},\"showarrow\":false,\"text\":\"Train Set \\u003cbr\\u003e R^2 = 0.271 \\u003cbr\\u003e Abs RMSE = 246.426 \\u003cbr\\u003e Rel RMSE = 0.854\",\"x\":0.225,\"xanchor\":\"center\",\"xref\":\"paper\",\"y\":1.0,\"yanchor\":\"bottom\",\"yref\":\"paper\"},{\"font\":{\"size\":16},\"showarrow\":false,\"text\":\"Test Set \\u003cbr\\u003e R^2 = -3.265 \\u003cbr\\u003e Abs RMSE = 653.014 \\u003cbr\\u003e Rel RMSE = 2.065\",\"x\":0.775,\"xanchor\":\"center\",\"xref\":\"paper\",\"y\":1.0,\"yanchor\":\"bottom\",\"yref\":\"paper\"}],\"shapes\":[{\"layer\":\"below\",\"line\":{\"dash\":\"dash\"},\"type\":\"line\",\"x0\":493.57277403858853,\"x1\":1107.996743548512,\"y0\":493.57277403858853,\"y1\":1107.996743548512},{\"layer\":\"below\",\"line\":{\"dash\":\"dash\"},\"type\":\"line\",\"x0\":622.0750779572382,\"x1\":1241.259012424803,\"xref\":\"x2\",\"y0\":622.0750779572382,\"y1\":1241.259012424803,\"yref\":\"y2\"}],\"width\":1600},                        {\"responsive\": true}                    ).then(function(){\n",
       "                            \n",
       "var gd = document.getElementById('bf991c62-7d8c-48de-ac50-aec7ab25acf3');\n",
       "var x = new MutationObserver(function (mutations, observer) {{\n",
       "        var display = window.getComputedStyle(gd).display;\n",
       "        if (!display || display === 'none') {{\n",
       "            console.log([gd, 'removed!']);\n",
       "            Plotly.purge(gd);\n",
       "            observer.disconnect();\n",
       "        }}\n",
       "}});\n",
       "\n",
       "// Listen for the removal of the full notebook cells\n",
       "var notebookContainer = gd.closest('#notebook-container');\n",
       "if (notebookContainer) {{\n",
       "    x.observe(notebookContainer, {childList: true});\n",
       "}}\n",
       "\n",
       "// Listen for the clearing of the current output cell\n",
       "var outputEl = gd.closest('.output');\n",
       "if (outputEl) {{\n",
       "    x.observe(outputEl, {childList: true});\n",
       "}}\n",
       "\n",
       "                        })                };                });            </script>        </div>"
      ]
     },
     "metadata": {},
     "output_type": "display_data"
    }
   ],
   "source": [
    "# Make predictions for training\n",
    "X = doe\n",
    "y = tar\n",
    "y_pred = pipe.predict(X)\n",
    "\n",
    "# Make predictions for testing\n",
    "X_test = doe_test\n",
    "y_test = tar_test\n",
    "y_test_pred = pipe.predict(X_test)\n",
    "\n",
    "# Plot\n",
    "plot_pls_model_eval(\n",
    "    y, y_pred, y_test, y_test_pred,\n",
    ")"
   ]
  },
  {
   "cell_type": "markdown",
   "metadata": {},
   "source": [
    "### PCA"
   ]
  },
  {
   "cell_type": "code",
   "execution_count": 294,
   "metadata": {},
   "outputs": [
    {
     "data": {
      "application/vnd.plotly.v1+json": {
       "config": {
        "plotlyServerURL": "https://plot.ly"
       },
       "data": [
        {
         "mode": "markers",
         "name": "Scores",
         "type": "scatter",
         "x": [
          -1.1704061046273573,
          -1.8630188216703463,
          -0.9640196571295555,
          -0.4203561812092727,
          0.1866926383844419,
          0.9560579296379392,
          -0.005616300477583756,
          0.536715782452822,
          0.3760706834610163,
          1.1327710557330057,
          -0.03126757730644191,
          0.2825589775262928,
          0.6995881103754741,
          1.194493798501539,
          0.5978420910251275,
          -0.06627421614236817,
          0.26588807418838556,
          -1.127634367684505,
          -0.9743766913594792,
          0.5239542395820075,
          0.5761192970914326,
          -1.6485668533504045,
          0.2402811702012737,
          3.3662993497373708,
          -1.1382252932746313,
          0.1624699809964858,
          -1.2918236368045097,
          0.2622809970802239,
          -0.17477972329624458,
          -0.9201277067823667,
          0.4364089551402308
         ],
         "xaxis": "x",
         "y": [
          0.22241250978090502,
          0.3895587497478724,
          0.8348180872862333,
          -1.597834631075997,
          0.30302616644150404,
          0.5045880155157555,
          2.3196078552632007,
          0.14537953634187784,
          -1.876762570678607,
          0.7019319623166618,
          -0.3392083967327434,
          0.4421294270575479,
          -0.16065694590528948,
          -0.17405478838512384,
          -0.20366907774392234,
          0.7106321236347446,
          -0.4255709721998491,
          0.037319455846795274,
          0.4665317778788526,
          0.22896101195848675,
          -0.7726342577826337,
          -0.6992136550704926,
          0.6339781131296597,
          -0.04310457108773974,
          -0.38607486059609775,
          -0.2694036679475619,
          -0.478964625564951,
          -0.10097466414724882,
          -0.8305222653412797,
          0.5608846009401396,
          -0.14310944288069863
         ],
         "yaxis": "y"
        },
        {
         "name": "Loadings PC - 1",
         "type": "bar",
         "x": [
          "feed_start",
          "feed_end",
          "Glc_feed_rate",
          "Glc_0",
          "VCD_0"
         ],
         "xaxis": "x2",
         "y": [
          -0.012743221678811778,
          -0.5845416677161716,
          0.5294330899644746,
          0.6346449012980745,
          0.48210880165994413
         ],
         "yaxis": "y2"
        },
        {
         "name": "Loadings PC - 2",
         "type": "bar",
         "x": [
          "feed_start",
          "feed_end",
          "Glc_feed_rate",
          "Glc_0",
          "VCD_0"
         ],
         "xaxis": "x3",
         "y": [
          0.468116114049839,
          -0.6131958973471677,
          -0.3610020654718568,
          0.1276036105847185,
          0.5496077027572996
         ],
         "yaxis": "y3"
        }
       ],
       "layout": {
        "annotations": [
         {
          "font": {
           "size": 16
          },
          "showarrow": false,
          "text": "Scores Plot ",
          "x": 0.5,
          "xanchor": "center",
          "xref": "paper",
          "y": 1,
          "yanchor": "bottom",
          "yref": "paper"
         },
         {
          "font": {
           "size": 16
          },
          "showarrow": false,
          "text": "Loadings of Principal Component - 1",
          "x": 0.225,
          "xanchor": "center",
          "xref": "paper",
          "y": 0.375,
          "yanchor": "bottom",
          "yref": "paper"
         },
         {
          "font": {
           "size": 16
          },
          "showarrow": false,
          "text": "Loadings of Principal Component - 2",
          "x": 0.775,
          "xanchor": "center",
          "xref": "paper",
          "y": 0.375,
          "yanchor": "bottom",
          "yref": "paper"
         }
        ],
        "height": 1000,
        "template": {
         "data": {
          "bar": [
           {
            "error_x": {
             "color": "#2a3f5f"
            },
            "error_y": {
             "color": "#2a3f5f"
            },
            "marker": {
             "line": {
              "color": "white",
              "width": 0.5
             },
             "pattern": {
              "fillmode": "overlay",
              "size": 10,
              "solidity": 0.2
             }
            },
            "type": "bar"
           }
          ],
          "barpolar": [
           {
            "marker": {
             "line": {
              "color": "white",
              "width": 0.5
             },
             "pattern": {
              "fillmode": "overlay",
              "size": 10,
              "solidity": 0.2
             }
            },
            "type": "barpolar"
           }
          ],
          "carpet": [
           {
            "aaxis": {
             "endlinecolor": "#2a3f5f",
             "gridcolor": "#C8D4E3",
             "linecolor": "#C8D4E3",
             "minorgridcolor": "#C8D4E3",
             "startlinecolor": "#2a3f5f"
            },
            "baxis": {
             "endlinecolor": "#2a3f5f",
             "gridcolor": "#C8D4E3",
             "linecolor": "#C8D4E3",
             "minorgridcolor": "#C8D4E3",
             "startlinecolor": "#2a3f5f"
            },
            "type": "carpet"
           }
          ],
          "choropleth": [
           {
            "colorbar": {
             "outlinewidth": 0,
             "ticks": ""
            },
            "type": "choropleth"
           }
          ],
          "contour": [
           {
            "colorbar": {
             "outlinewidth": 0,
             "ticks": ""
            },
            "colorscale": [
             [
              0,
              "#0d0887"
             ],
             [
              0.1111111111111111,
              "#46039f"
             ],
             [
              0.2222222222222222,
              "#7201a8"
             ],
             [
              0.3333333333333333,
              "#9c179e"
             ],
             [
              0.4444444444444444,
              "#bd3786"
             ],
             [
              0.5555555555555556,
              "#d8576b"
             ],
             [
              0.6666666666666666,
              "#ed7953"
             ],
             [
              0.7777777777777778,
              "#fb9f3a"
             ],
             [
              0.8888888888888888,
              "#fdca26"
             ],
             [
              1,
              "#f0f921"
             ]
            ],
            "type": "contour"
           }
          ],
          "contourcarpet": [
           {
            "colorbar": {
             "outlinewidth": 0,
             "ticks": ""
            },
            "type": "contourcarpet"
           }
          ],
          "heatmap": [
           {
            "colorbar": {
             "outlinewidth": 0,
             "ticks": ""
            },
            "colorscale": [
             [
              0,
              "#0d0887"
             ],
             [
              0.1111111111111111,
              "#46039f"
             ],
             [
              0.2222222222222222,
              "#7201a8"
             ],
             [
              0.3333333333333333,
              "#9c179e"
             ],
             [
              0.4444444444444444,
              "#bd3786"
             ],
             [
              0.5555555555555556,
              "#d8576b"
             ],
             [
              0.6666666666666666,
              "#ed7953"
             ],
             [
              0.7777777777777778,
              "#fb9f3a"
             ],
             [
              0.8888888888888888,
              "#fdca26"
             ],
             [
              1,
              "#f0f921"
             ]
            ],
            "type": "heatmap"
           }
          ],
          "heatmapgl": [
           {
            "colorbar": {
             "outlinewidth": 0,
             "ticks": ""
            },
            "colorscale": [
             [
              0,
              "#0d0887"
             ],
             [
              0.1111111111111111,
              "#46039f"
             ],
             [
              0.2222222222222222,
              "#7201a8"
             ],
             [
              0.3333333333333333,
              "#9c179e"
             ],
             [
              0.4444444444444444,
              "#bd3786"
             ],
             [
              0.5555555555555556,
              "#d8576b"
             ],
             [
              0.6666666666666666,
              "#ed7953"
             ],
             [
              0.7777777777777778,
              "#fb9f3a"
             ],
             [
              0.8888888888888888,
              "#fdca26"
             ],
             [
              1,
              "#f0f921"
             ]
            ],
            "type": "heatmapgl"
           }
          ],
          "histogram": [
           {
            "marker": {
             "pattern": {
              "fillmode": "overlay",
              "size": 10,
              "solidity": 0.2
             }
            },
            "type": "histogram"
           }
          ],
          "histogram2d": [
           {
            "colorbar": {
             "outlinewidth": 0,
             "ticks": ""
            },
            "colorscale": [
             [
              0,
              "#0d0887"
             ],
             [
              0.1111111111111111,
              "#46039f"
             ],
             [
              0.2222222222222222,
              "#7201a8"
             ],
             [
              0.3333333333333333,
              "#9c179e"
             ],
             [
              0.4444444444444444,
              "#bd3786"
             ],
             [
              0.5555555555555556,
              "#d8576b"
             ],
             [
              0.6666666666666666,
              "#ed7953"
             ],
             [
              0.7777777777777778,
              "#fb9f3a"
             ],
             [
              0.8888888888888888,
              "#fdca26"
             ],
             [
              1,
              "#f0f921"
             ]
            ],
            "type": "histogram2d"
           }
          ],
          "histogram2dcontour": [
           {
            "colorbar": {
             "outlinewidth": 0,
             "ticks": ""
            },
            "colorscale": [
             [
              0,
              "#0d0887"
             ],
             [
              0.1111111111111111,
              "#46039f"
             ],
             [
              0.2222222222222222,
              "#7201a8"
             ],
             [
              0.3333333333333333,
              "#9c179e"
             ],
             [
              0.4444444444444444,
              "#bd3786"
             ],
             [
              0.5555555555555556,
              "#d8576b"
             ],
             [
              0.6666666666666666,
              "#ed7953"
             ],
             [
              0.7777777777777778,
              "#fb9f3a"
             ],
             [
              0.8888888888888888,
              "#fdca26"
             ],
             [
              1,
              "#f0f921"
             ]
            ],
            "type": "histogram2dcontour"
           }
          ],
          "mesh3d": [
           {
            "colorbar": {
             "outlinewidth": 0,
             "ticks": ""
            },
            "type": "mesh3d"
           }
          ],
          "parcoords": [
           {
            "line": {
             "colorbar": {
              "outlinewidth": 0,
              "ticks": ""
             }
            },
            "type": "parcoords"
           }
          ],
          "pie": [
           {
            "automargin": true,
            "type": "pie"
           }
          ],
          "scatter": [
           {
            "fillpattern": {
             "fillmode": "overlay",
             "size": 10,
             "solidity": 0.2
            },
            "type": "scatter"
           }
          ],
          "scatter3d": [
           {
            "line": {
             "colorbar": {
              "outlinewidth": 0,
              "ticks": ""
             }
            },
            "marker": {
             "colorbar": {
              "outlinewidth": 0,
              "ticks": ""
             }
            },
            "type": "scatter3d"
           }
          ],
          "scattercarpet": [
           {
            "marker": {
             "colorbar": {
              "outlinewidth": 0,
              "ticks": ""
             }
            },
            "type": "scattercarpet"
           }
          ],
          "scattergeo": [
           {
            "marker": {
             "colorbar": {
              "outlinewidth": 0,
              "ticks": ""
             }
            },
            "type": "scattergeo"
           }
          ],
          "scattergl": [
           {
            "marker": {
             "colorbar": {
              "outlinewidth": 0,
              "ticks": ""
             }
            },
            "type": "scattergl"
           }
          ],
          "scattermapbox": [
           {
            "marker": {
             "colorbar": {
              "outlinewidth": 0,
              "ticks": ""
             }
            },
            "type": "scattermapbox"
           }
          ],
          "scatterpolar": [
           {
            "marker": {
             "colorbar": {
              "outlinewidth": 0,
              "ticks": ""
             }
            },
            "type": "scatterpolar"
           }
          ],
          "scatterpolargl": [
           {
            "marker": {
             "colorbar": {
              "outlinewidth": 0,
              "ticks": ""
             }
            },
            "type": "scatterpolargl"
           }
          ],
          "scatterternary": [
           {
            "marker": {
             "colorbar": {
              "outlinewidth": 0,
              "ticks": ""
             }
            },
            "type": "scatterternary"
           }
          ],
          "surface": [
           {
            "colorbar": {
             "outlinewidth": 0,
             "ticks": ""
            },
            "colorscale": [
             [
              0,
              "#0d0887"
             ],
             [
              0.1111111111111111,
              "#46039f"
             ],
             [
              0.2222222222222222,
              "#7201a8"
             ],
             [
              0.3333333333333333,
              "#9c179e"
             ],
             [
              0.4444444444444444,
              "#bd3786"
             ],
             [
              0.5555555555555556,
              "#d8576b"
             ],
             [
              0.6666666666666666,
              "#ed7953"
             ],
             [
              0.7777777777777778,
              "#fb9f3a"
             ],
             [
              0.8888888888888888,
              "#fdca26"
             ],
             [
              1,
              "#f0f921"
             ]
            ],
            "type": "surface"
           }
          ],
          "table": [
           {
            "cells": {
             "fill": {
              "color": "#EBF0F8"
             },
             "line": {
              "color": "white"
             }
            },
            "header": {
             "fill": {
              "color": "#C8D4E3"
             },
             "line": {
              "color": "white"
             }
            },
            "type": "table"
           }
          ]
         },
         "layout": {
          "annotationdefaults": {
           "arrowcolor": "#2a3f5f",
           "arrowhead": 0,
           "arrowwidth": 1
          },
          "autotypenumbers": "strict",
          "coloraxis": {
           "colorbar": {
            "outlinewidth": 0,
            "ticks": ""
           }
          },
          "colorscale": {
           "diverging": [
            [
             0,
             "#8e0152"
            ],
            [
             0.1,
             "#c51b7d"
            ],
            [
             0.2,
             "#de77ae"
            ],
            [
             0.3,
             "#f1b6da"
            ],
            [
             0.4,
             "#fde0ef"
            ],
            [
             0.5,
             "#f7f7f7"
            ],
            [
             0.6,
             "#e6f5d0"
            ],
            [
             0.7,
             "#b8e186"
            ],
            [
             0.8,
             "#7fbc41"
            ],
            [
             0.9,
             "#4d9221"
            ],
            [
             1,
             "#276419"
            ]
           ],
           "sequential": [
            [
             0,
             "#0d0887"
            ],
            [
             0.1111111111111111,
             "#46039f"
            ],
            [
             0.2222222222222222,
             "#7201a8"
            ],
            [
             0.3333333333333333,
             "#9c179e"
            ],
            [
             0.4444444444444444,
             "#bd3786"
            ],
            [
             0.5555555555555556,
             "#d8576b"
            ],
            [
             0.6666666666666666,
             "#ed7953"
            ],
            [
             0.7777777777777778,
             "#fb9f3a"
            ],
            [
             0.8888888888888888,
             "#fdca26"
            ],
            [
             1,
             "#f0f921"
            ]
           ],
           "sequentialminus": [
            [
             0,
             "#0d0887"
            ],
            [
             0.1111111111111111,
             "#46039f"
            ],
            [
             0.2222222222222222,
             "#7201a8"
            ],
            [
             0.3333333333333333,
             "#9c179e"
            ],
            [
             0.4444444444444444,
             "#bd3786"
            ],
            [
             0.5555555555555556,
             "#d8576b"
            ],
            [
             0.6666666666666666,
             "#ed7953"
            ],
            [
             0.7777777777777778,
             "#fb9f3a"
            ],
            [
             0.8888888888888888,
             "#fdca26"
            ],
            [
             1,
             "#f0f921"
            ]
           ]
          },
          "colorway": [
           "#636efa",
           "#EF553B",
           "#00cc96",
           "#ab63fa",
           "#FFA15A",
           "#19d3f3",
           "#FF6692",
           "#B6E880",
           "#FF97FF",
           "#FECB52"
          ],
          "font": {
           "color": "#2a3f5f"
          },
          "geo": {
           "bgcolor": "white",
           "lakecolor": "white",
           "landcolor": "white",
           "showlakes": true,
           "showland": true,
           "subunitcolor": "#C8D4E3"
          },
          "hoverlabel": {
           "align": "left"
          },
          "hovermode": "closest",
          "mapbox": {
           "style": "light"
          },
          "paper_bgcolor": "white",
          "plot_bgcolor": "white",
          "polar": {
           "angularaxis": {
            "gridcolor": "#EBF0F8",
            "linecolor": "#EBF0F8",
            "ticks": ""
           },
           "bgcolor": "white",
           "radialaxis": {
            "gridcolor": "#EBF0F8",
            "linecolor": "#EBF0F8",
            "ticks": ""
           }
          },
          "scene": {
           "xaxis": {
            "backgroundcolor": "white",
            "gridcolor": "#DFE8F3",
            "gridwidth": 2,
            "linecolor": "#EBF0F8",
            "showbackground": true,
            "ticks": "",
            "zerolinecolor": "#EBF0F8"
           },
           "yaxis": {
            "backgroundcolor": "white",
            "gridcolor": "#DFE8F3",
            "gridwidth": 2,
            "linecolor": "#EBF0F8",
            "showbackground": true,
            "ticks": "",
            "zerolinecolor": "#EBF0F8"
           },
           "zaxis": {
            "backgroundcolor": "white",
            "gridcolor": "#DFE8F3",
            "gridwidth": 2,
            "linecolor": "#EBF0F8",
            "showbackground": true,
            "ticks": "",
            "zerolinecolor": "#EBF0F8"
           }
          },
          "shapedefaults": {
           "line": {
            "color": "#2a3f5f"
           }
          },
          "ternary": {
           "aaxis": {
            "gridcolor": "#DFE8F3",
            "linecolor": "#A2B1C6",
            "ticks": ""
           },
           "baxis": {
            "gridcolor": "#DFE8F3",
            "linecolor": "#A2B1C6",
            "ticks": ""
           },
           "bgcolor": "white",
           "caxis": {
            "gridcolor": "#DFE8F3",
            "linecolor": "#A2B1C6",
            "ticks": ""
           }
          },
          "title": {
           "x": 0.05
          },
          "xaxis": {
           "automargin": true,
           "gridcolor": "#EBF0F8",
           "linecolor": "#EBF0F8",
           "ticks": "",
           "title": {
            "standoff": 15
           },
           "zerolinecolor": "#EBF0F8",
           "zerolinewidth": 2
          },
          "yaxis": {
           "automargin": true,
           "gridcolor": "#EBF0F8",
           "linecolor": "#EBF0F8",
           "ticks": "",
           "title": {
            "standoff": 15
           },
           "zerolinecolor": "#EBF0F8",
           "zerolinewidth": 2
          }
         }
        },
        "xaxis": {
         "anchor": "y",
         "domain": [
          0,
          1
         ]
        },
        "xaxis2": {
         "anchor": "y2",
         "domain": [
          0,
          0.45
         ]
        },
        "xaxis3": {
         "anchor": "y3",
         "domain": [
          0.55,
          1
         ]
        },
        "yaxis": {
         "anchor": "x",
         "domain": [
          0.625,
          1
         ]
        },
        "yaxis2": {
         "anchor": "x2",
         "domain": [
          0,
          0.375
         ]
        },
        "yaxis3": {
         "anchor": "x3",
         "domain": [
          0,
          0.375
         ]
        }
       }
      },
      "text/html": [
       "<div>                            <div id=\"615e62ba-e82a-4e32-8b72-8d3739d7a7a2\" class=\"plotly-graph-div\" style=\"height:1000px; width:100%;\"></div>            <script type=\"text/javascript\">                require([\"plotly\"], function(Plotly) {                    window.PLOTLYENV=window.PLOTLYENV || {};                                    if (document.getElementById(\"615e62ba-e82a-4e32-8b72-8d3739d7a7a2\")) {                    Plotly.newPlot(                        \"615e62ba-e82a-4e32-8b72-8d3739d7a7a2\",                        [{\"mode\":\"markers\",\"name\":\"Scores\",\"x\":[-1.1704061046273573,-1.8630188216703463,-0.9640196571295555,-0.4203561812092727,0.1866926383844419,0.9560579296379392,-0.005616300477583756,0.536715782452822,0.3760706834610163,1.1327710557330057,-0.03126757730644191,0.2825589775262928,0.6995881103754741,1.194493798501539,0.5978420910251275,-0.06627421614236817,0.26588807418838556,-1.127634367684505,-0.9743766913594792,0.5239542395820075,0.5761192970914326,-1.6485668533504045,0.2402811702012737,3.3662993497373708,-1.1382252932746313,0.1624699809964858,-1.2918236368045097,0.2622809970802239,-0.17477972329624458,-0.9201277067823667,0.4364089551402308],\"y\":[0.22241250978090502,0.3895587497478724,0.8348180872862333,-1.597834631075997,0.30302616644150404,0.5045880155157555,2.3196078552632007,0.14537953634187784,-1.876762570678607,0.7019319623166618,-0.3392083967327434,0.4421294270575479,-0.16065694590528948,-0.17405478838512384,-0.20366907774392234,0.7106321236347446,-0.4255709721998491,0.037319455846795274,0.4665317778788526,0.22896101195848675,-0.7726342577826337,-0.6992136550704926,0.6339781131296597,-0.04310457108773974,-0.38607486059609775,-0.2694036679475619,-0.478964625564951,-0.10097466414724882,-0.8305222653412797,0.5608846009401396,-0.14310944288069863],\"type\":\"scatter\",\"xaxis\":\"x\",\"yaxis\":\"y\"},{\"name\":\"Loadings PC - 1\",\"x\":[\"feed_start\",\"feed_end\",\"Glc_feed_rate\",\"Glc_0\",\"VCD_0\"],\"y\":[-0.012743221678811778,-0.5845416677161716,0.5294330899644746,0.6346449012980745,0.48210880165994413],\"type\":\"bar\",\"xaxis\":\"x2\",\"yaxis\":\"y2\"},{\"name\":\"Loadings PC - 2\",\"x\":[\"feed_start\",\"feed_end\",\"Glc_feed_rate\",\"Glc_0\",\"VCD_0\"],\"y\":[0.468116114049839,-0.6131958973471677,-0.3610020654718568,0.1276036105847185,0.5496077027572996],\"type\":\"bar\",\"xaxis\":\"x3\",\"yaxis\":\"y3\"}],                        {\"template\":{\"data\":{\"histogram2dcontour\":[{\"type\":\"histogram2dcontour\",\"colorbar\":{\"outlinewidth\":0,\"ticks\":\"\"},\"colorscale\":[[0.0,\"#0d0887\"],[0.1111111111111111,\"#46039f\"],[0.2222222222222222,\"#7201a8\"],[0.3333333333333333,\"#9c179e\"],[0.4444444444444444,\"#bd3786\"],[0.5555555555555556,\"#d8576b\"],[0.6666666666666666,\"#ed7953\"],[0.7777777777777778,\"#fb9f3a\"],[0.8888888888888888,\"#fdca26\"],[1.0,\"#f0f921\"]]}],\"choropleth\":[{\"type\":\"choropleth\",\"colorbar\":{\"outlinewidth\":0,\"ticks\":\"\"}}],\"histogram2d\":[{\"type\":\"histogram2d\",\"colorbar\":{\"outlinewidth\":0,\"ticks\":\"\"},\"colorscale\":[[0.0,\"#0d0887\"],[0.1111111111111111,\"#46039f\"],[0.2222222222222222,\"#7201a8\"],[0.3333333333333333,\"#9c179e\"],[0.4444444444444444,\"#bd3786\"],[0.5555555555555556,\"#d8576b\"],[0.6666666666666666,\"#ed7953\"],[0.7777777777777778,\"#fb9f3a\"],[0.8888888888888888,\"#fdca26\"],[1.0,\"#f0f921\"]]}],\"heatmap\":[{\"type\":\"heatmap\",\"colorbar\":{\"outlinewidth\":0,\"ticks\":\"\"},\"colorscale\":[[0.0,\"#0d0887\"],[0.1111111111111111,\"#46039f\"],[0.2222222222222222,\"#7201a8\"],[0.3333333333333333,\"#9c179e\"],[0.4444444444444444,\"#bd3786\"],[0.5555555555555556,\"#d8576b\"],[0.6666666666666666,\"#ed7953\"],[0.7777777777777778,\"#fb9f3a\"],[0.8888888888888888,\"#fdca26\"],[1.0,\"#f0f921\"]]}],\"heatmapgl\":[{\"type\":\"heatmapgl\",\"colorbar\":{\"outlinewidth\":0,\"ticks\":\"\"},\"colorscale\":[[0.0,\"#0d0887\"],[0.1111111111111111,\"#46039f\"],[0.2222222222222222,\"#7201a8\"],[0.3333333333333333,\"#9c179e\"],[0.4444444444444444,\"#bd3786\"],[0.5555555555555556,\"#d8576b\"],[0.6666666666666666,\"#ed7953\"],[0.7777777777777778,\"#fb9f3a\"],[0.8888888888888888,\"#fdca26\"],[1.0,\"#f0f921\"]]}],\"contourcarpet\":[{\"type\":\"contourcarpet\",\"colorbar\":{\"outlinewidth\":0,\"ticks\":\"\"}}],\"contour\":[{\"type\":\"contour\",\"colorbar\":{\"outlinewidth\":0,\"ticks\":\"\"},\"colorscale\":[[0.0,\"#0d0887\"],[0.1111111111111111,\"#46039f\"],[0.2222222222222222,\"#7201a8\"],[0.3333333333333333,\"#9c179e\"],[0.4444444444444444,\"#bd3786\"],[0.5555555555555556,\"#d8576b\"],[0.6666666666666666,\"#ed7953\"],[0.7777777777777778,\"#fb9f3a\"],[0.8888888888888888,\"#fdca26\"],[1.0,\"#f0f921\"]]}],\"surface\":[{\"type\":\"surface\",\"colorbar\":{\"outlinewidth\":0,\"ticks\":\"\"},\"colorscale\":[[0.0,\"#0d0887\"],[0.1111111111111111,\"#46039f\"],[0.2222222222222222,\"#7201a8\"],[0.3333333333333333,\"#9c179e\"],[0.4444444444444444,\"#bd3786\"],[0.5555555555555556,\"#d8576b\"],[0.6666666666666666,\"#ed7953\"],[0.7777777777777778,\"#fb9f3a\"],[0.8888888888888888,\"#fdca26\"],[1.0,\"#f0f921\"]]}],\"mesh3d\":[{\"type\":\"mesh3d\",\"colorbar\":{\"outlinewidth\":0,\"ticks\":\"\"}}],\"scatter\":[{\"fillpattern\":{\"fillmode\":\"overlay\",\"size\":10,\"solidity\":0.2},\"type\":\"scatter\"}],\"parcoords\":[{\"type\":\"parcoords\",\"line\":{\"colorbar\":{\"outlinewidth\":0,\"ticks\":\"\"}}}],\"scatterpolargl\":[{\"type\":\"scatterpolargl\",\"marker\":{\"colorbar\":{\"outlinewidth\":0,\"ticks\":\"\"}}}],\"bar\":[{\"error_x\":{\"color\":\"#2a3f5f\"},\"error_y\":{\"color\":\"#2a3f5f\"},\"marker\":{\"line\":{\"color\":\"white\",\"width\":0.5},\"pattern\":{\"fillmode\":\"overlay\",\"size\":10,\"solidity\":0.2}},\"type\":\"bar\"}],\"scattergeo\":[{\"type\":\"scattergeo\",\"marker\":{\"colorbar\":{\"outlinewidth\":0,\"ticks\":\"\"}}}],\"scatterpolar\":[{\"type\":\"scatterpolar\",\"marker\":{\"colorbar\":{\"outlinewidth\":0,\"ticks\":\"\"}}}],\"histogram\":[{\"marker\":{\"pattern\":{\"fillmode\":\"overlay\",\"size\":10,\"solidity\":0.2}},\"type\":\"histogram\"}],\"scattergl\":[{\"type\":\"scattergl\",\"marker\":{\"colorbar\":{\"outlinewidth\":0,\"ticks\":\"\"}}}],\"scatter3d\":[{\"type\":\"scatter3d\",\"line\":{\"colorbar\":{\"outlinewidth\":0,\"ticks\":\"\"}},\"marker\":{\"colorbar\":{\"outlinewidth\":0,\"ticks\":\"\"}}}],\"scattermapbox\":[{\"type\":\"scattermapbox\",\"marker\":{\"colorbar\":{\"outlinewidth\":0,\"ticks\":\"\"}}}],\"scatterternary\":[{\"type\":\"scatterternary\",\"marker\":{\"colorbar\":{\"outlinewidth\":0,\"ticks\":\"\"}}}],\"scattercarpet\":[{\"type\":\"scattercarpet\",\"marker\":{\"colorbar\":{\"outlinewidth\":0,\"ticks\":\"\"}}}],\"carpet\":[{\"aaxis\":{\"endlinecolor\":\"#2a3f5f\",\"gridcolor\":\"#C8D4E3\",\"linecolor\":\"#C8D4E3\",\"minorgridcolor\":\"#C8D4E3\",\"startlinecolor\":\"#2a3f5f\"},\"baxis\":{\"endlinecolor\":\"#2a3f5f\",\"gridcolor\":\"#C8D4E3\",\"linecolor\":\"#C8D4E3\",\"minorgridcolor\":\"#C8D4E3\",\"startlinecolor\":\"#2a3f5f\"},\"type\":\"carpet\"}],\"table\":[{\"cells\":{\"fill\":{\"color\":\"#EBF0F8\"},\"line\":{\"color\":\"white\"}},\"header\":{\"fill\":{\"color\":\"#C8D4E3\"},\"line\":{\"color\":\"white\"}},\"type\":\"table\"}],\"barpolar\":[{\"marker\":{\"line\":{\"color\":\"white\",\"width\":0.5},\"pattern\":{\"fillmode\":\"overlay\",\"size\":10,\"solidity\":0.2}},\"type\":\"barpolar\"}],\"pie\":[{\"automargin\":true,\"type\":\"pie\"}]},\"layout\":{\"autotypenumbers\":\"strict\",\"colorway\":[\"#636efa\",\"#EF553B\",\"#00cc96\",\"#ab63fa\",\"#FFA15A\",\"#19d3f3\",\"#FF6692\",\"#B6E880\",\"#FF97FF\",\"#FECB52\"],\"font\":{\"color\":\"#2a3f5f\"},\"hovermode\":\"closest\",\"hoverlabel\":{\"align\":\"left\"},\"paper_bgcolor\":\"white\",\"plot_bgcolor\":\"white\",\"polar\":{\"bgcolor\":\"white\",\"angularaxis\":{\"gridcolor\":\"#EBF0F8\",\"linecolor\":\"#EBF0F8\",\"ticks\":\"\"},\"radialaxis\":{\"gridcolor\":\"#EBF0F8\",\"linecolor\":\"#EBF0F8\",\"ticks\":\"\"}},\"ternary\":{\"bgcolor\":\"white\",\"aaxis\":{\"gridcolor\":\"#DFE8F3\",\"linecolor\":\"#A2B1C6\",\"ticks\":\"\"},\"baxis\":{\"gridcolor\":\"#DFE8F3\",\"linecolor\":\"#A2B1C6\",\"ticks\":\"\"},\"caxis\":{\"gridcolor\":\"#DFE8F3\",\"linecolor\":\"#A2B1C6\",\"ticks\":\"\"}},\"coloraxis\":{\"colorbar\":{\"outlinewidth\":0,\"ticks\":\"\"}},\"colorscale\":{\"sequential\":[[0.0,\"#0d0887\"],[0.1111111111111111,\"#46039f\"],[0.2222222222222222,\"#7201a8\"],[0.3333333333333333,\"#9c179e\"],[0.4444444444444444,\"#bd3786\"],[0.5555555555555556,\"#d8576b\"],[0.6666666666666666,\"#ed7953\"],[0.7777777777777778,\"#fb9f3a\"],[0.8888888888888888,\"#fdca26\"],[1.0,\"#f0f921\"]],\"sequentialminus\":[[0.0,\"#0d0887\"],[0.1111111111111111,\"#46039f\"],[0.2222222222222222,\"#7201a8\"],[0.3333333333333333,\"#9c179e\"],[0.4444444444444444,\"#bd3786\"],[0.5555555555555556,\"#d8576b\"],[0.6666666666666666,\"#ed7953\"],[0.7777777777777778,\"#fb9f3a\"],[0.8888888888888888,\"#fdca26\"],[1.0,\"#f0f921\"]],\"diverging\":[[0,\"#8e0152\"],[0.1,\"#c51b7d\"],[0.2,\"#de77ae\"],[0.3,\"#f1b6da\"],[0.4,\"#fde0ef\"],[0.5,\"#f7f7f7\"],[0.6,\"#e6f5d0\"],[0.7,\"#b8e186\"],[0.8,\"#7fbc41\"],[0.9,\"#4d9221\"],[1,\"#276419\"]]},\"xaxis\":{\"gridcolor\":\"#EBF0F8\",\"linecolor\":\"#EBF0F8\",\"ticks\":\"\",\"title\":{\"standoff\":15},\"zerolinecolor\":\"#EBF0F8\",\"automargin\":true,\"zerolinewidth\":2},\"yaxis\":{\"gridcolor\":\"#EBF0F8\",\"linecolor\":\"#EBF0F8\",\"ticks\":\"\",\"title\":{\"standoff\":15},\"zerolinecolor\":\"#EBF0F8\",\"automargin\":true,\"zerolinewidth\":2},\"scene\":{\"xaxis\":{\"backgroundcolor\":\"white\",\"gridcolor\":\"#DFE8F3\",\"linecolor\":\"#EBF0F8\",\"showbackground\":true,\"ticks\":\"\",\"zerolinecolor\":\"#EBF0F8\",\"gridwidth\":2},\"yaxis\":{\"backgroundcolor\":\"white\",\"gridcolor\":\"#DFE8F3\",\"linecolor\":\"#EBF0F8\",\"showbackground\":true,\"ticks\":\"\",\"zerolinecolor\":\"#EBF0F8\",\"gridwidth\":2},\"zaxis\":{\"backgroundcolor\":\"white\",\"gridcolor\":\"#DFE8F3\",\"linecolor\":\"#EBF0F8\",\"showbackground\":true,\"ticks\":\"\",\"zerolinecolor\":\"#EBF0F8\",\"gridwidth\":2}},\"shapedefaults\":{\"line\":{\"color\":\"#2a3f5f\"}},\"annotationdefaults\":{\"arrowcolor\":\"#2a3f5f\",\"arrowhead\":0,\"arrowwidth\":1},\"geo\":{\"bgcolor\":\"white\",\"landcolor\":\"white\",\"subunitcolor\":\"#C8D4E3\",\"showland\":true,\"showlakes\":true,\"lakecolor\":\"white\"},\"title\":{\"x\":0.05},\"mapbox\":{\"style\":\"light\"}}},\"xaxis\":{\"anchor\":\"y\",\"domain\":[0.0,1.0]},\"yaxis\":{\"anchor\":\"x\",\"domain\":[0.625,1.0]},\"xaxis2\":{\"anchor\":\"y2\",\"domain\":[0.0,0.45]},\"yaxis2\":{\"anchor\":\"x2\",\"domain\":[0.0,0.375]},\"xaxis3\":{\"anchor\":\"y3\",\"domain\":[0.55,1.0]},\"yaxis3\":{\"anchor\":\"x3\",\"domain\":[0.0,0.375]},\"annotations\":[{\"font\":{\"size\":16},\"showarrow\":false,\"text\":\"Scores Plot \",\"x\":0.5,\"xanchor\":\"center\",\"xref\":\"paper\",\"y\":1.0,\"yanchor\":\"bottom\",\"yref\":\"paper\"},{\"font\":{\"size\":16},\"showarrow\":false,\"text\":\"Loadings of Principal Component - 1\",\"x\":0.225,\"xanchor\":\"center\",\"xref\":\"paper\",\"y\":0.375,\"yanchor\":\"bottom\",\"yref\":\"paper\"},{\"font\":{\"size\":16},\"showarrow\":false,\"text\":\"Loadings of Principal Component - 2\",\"x\":0.775,\"xanchor\":\"center\",\"xref\":\"paper\",\"y\":0.375,\"yanchor\":\"bottom\",\"yref\":\"paper\"}],\"height\":1000},                        {\"responsive\": true}                    ).then(function(){\n",
       "                            \n",
       "var gd = document.getElementById('615e62ba-e82a-4e32-8b72-8d3739d7a7a2');\n",
       "var x = new MutationObserver(function (mutations, observer) {{\n",
       "        var display = window.getComputedStyle(gd).display;\n",
       "        if (!display || display === 'none') {{\n",
       "            console.log([gd, 'removed!']);\n",
       "            Plotly.purge(gd);\n",
       "            observer.disconnect();\n",
       "        }}\n",
       "}});\n",
       "\n",
       "// Listen for the removal of the full notebook cells\n",
       "var notebookContainer = gd.closest('#notebook-container');\n",
       "if (notebookContainer) {{\n",
       "    x.observe(notebookContainer, {childList: true});\n",
       "}}\n",
       "\n",
       "// Listen for the clearing of the current output cell\n",
       "var outputEl = gd.closest('.output');\n",
       "if (outputEl) {{\n",
       "    x.observe(outputEl, {childList: true});\n",
       "}}\n",
       "\n",
       "                        })                };                });            </script>        </div>"
      ]
     },
     "metadata": {},
     "output_type": "display_data"
    }
   ],
   "source": [
    "plot_pls_scores(pipe, pc_x_axis=1, pc_y_axis=2)"
   ]
  },
  {
   "cell_type": "markdown",
   "metadata": {},
   "source": [
    "### K-Fold\n",
    "- Use a typical cross-validation to define the optimal number of latent variables.\n",
    "- This is repeated for different numbers of latent variables. \n",
    "\t- Nfold PLS models are trained using (Nfolds-1) folds. \n",
    "\t- Each model is then evaluated on the remaining unused fold. \n",
    "- The number of latent variables returning the least value of the RMSE is chosen as optimal."
   ]
  },
  {
   "cell_type": "code",
   "execution_count": 295,
   "metadata": {},
   "outputs": [],
   "source": [
    "train_eval, valid_eval, range_LV = pls_cross_validation(X, y, pls_pipeline=pipe)"
   ]
  },
  {
   "cell_type": "code",
   "execution_count": 296,
   "metadata": {},
   "outputs": [
    {
     "data": {
      "application/vnd.plotly.v1+json": {
       "config": {
        "plotlyServerURL": "https://plot.ly"
       },
       "data": [
        {
         "error_y": {
          "array": [
           70.02788070040563,
           68.66781971687475,
           68.66969977828836,
           68.63739153062654,
           68.6415192137677
          ],
          "type": "data",
          "visible": true
         },
         "name": "Training",
         "type": "scatter",
         "x": [
          1,
          2,
          3,
          4,
          5
         ],
         "y": [
          235.14639546231047,
          225.0146893831947,
          223.93391153273342,
          223.7708263339028,
          223.76611170154638
         ]
        },
        {
         "error_y": {
          "array": [
           188.389071673491,
           176.6189682745472,
           169.83355497579083,
           168.89230005663555,
           168.7258810953515
          ],
          "type": "data",
          "visible": true
         },
         "name": "Validation",
         "type": "scatter",
         "x": [
          1,
          2,
          3,
          4,
          5
         ],
         "y": [
          307.36831290484736,
          315.1646854594871,
          315.0788106464125,
          317.8712304154716,
          317.9009570410653
         ]
        }
       ],
       "layout": {
        "legend": {
         "title": {
          "text": "Evaluation type"
         }
        },
        "template": {
         "data": {
          "bar": [
           {
            "error_x": {
             "color": "#2a3f5f"
            },
            "error_y": {
             "color": "#2a3f5f"
            },
            "marker": {
             "line": {
              "color": "white",
              "width": 0.5
             },
             "pattern": {
              "fillmode": "overlay",
              "size": 10,
              "solidity": 0.2
             }
            },
            "type": "bar"
           }
          ],
          "barpolar": [
           {
            "marker": {
             "line": {
              "color": "white",
              "width": 0.5
             },
             "pattern": {
              "fillmode": "overlay",
              "size": 10,
              "solidity": 0.2
             }
            },
            "type": "barpolar"
           }
          ],
          "carpet": [
           {
            "aaxis": {
             "endlinecolor": "#2a3f5f",
             "gridcolor": "#C8D4E3",
             "linecolor": "#C8D4E3",
             "minorgridcolor": "#C8D4E3",
             "startlinecolor": "#2a3f5f"
            },
            "baxis": {
             "endlinecolor": "#2a3f5f",
             "gridcolor": "#C8D4E3",
             "linecolor": "#C8D4E3",
             "minorgridcolor": "#C8D4E3",
             "startlinecolor": "#2a3f5f"
            },
            "type": "carpet"
           }
          ],
          "choropleth": [
           {
            "colorbar": {
             "outlinewidth": 0,
             "ticks": ""
            },
            "type": "choropleth"
           }
          ],
          "contour": [
           {
            "colorbar": {
             "outlinewidth": 0,
             "ticks": ""
            },
            "colorscale": [
             [
              0,
              "#0d0887"
             ],
             [
              0.1111111111111111,
              "#46039f"
             ],
             [
              0.2222222222222222,
              "#7201a8"
             ],
             [
              0.3333333333333333,
              "#9c179e"
             ],
             [
              0.4444444444444444,
              "#bd3786"
             ],
             [
              0.5555555555555556,
              "#d8576b"
             ],
             [
              0.6666666666666666,
              "#ed7953"
             ],
             [
              0.7777777777777778,
              "#fb9f3a"
             ],
             [
              0.8888888888888888,
              "#fdca26"
             ],
             [
              1,
              "#f0f921"
             ]
            ],
            "type": "contour"
           }
          ],
          "contourcarpet": [
           {
            "colorbar": {
             "outlinewidth": 0,
             "ticks": ""
            },
            "type": "contourcarpet"
           }
          ],
          "heatmap": [
           {
            "colorbar": {
             "outlinewidth": 0,
             "ticks": ""
            },
            "colorscale": [
             [
              0,
              "#0d0887"
             ],
             [
              0.1111111111111111,
              "#46039f"
             ],
             [
              0.2222222222222222,
              "#7201a8"
             ],
             [
              0.3333333333333333,
              "#9c179e"
             ],
             [
              0.4444444444444444,
              "#bd3786"
             ],
             [
              0.5555555555555556,
              "#d8576b"
             ],
             [
              0.6666666666666666,
              "#ed7953"
             ],
             [
              0.7777777777777778,
              "#fb9f3a"
             ],
             [
              0.8888888888888888,
              "#fdca26"
             ],
             [
              1,
              "#f0f921"
             ]
            ],
            "type": "heatmap"
           }
          ],
          "heatmapgl": [
           {
            "colorbar": {
             "outlinewidth": 0,
             "ticks": ""
            },
            "colorscale": [
             [
              0,
              "#0d0887"
             ],
             [
              0.1111111111111111,
              "#46039f"
             ],
             [
              0.2222222222222222,
              "#7201a8"
             ],
             [
              0.3333333333333333,
              "#9c179e"
             ],
             [
              0.4444444444444444,
              "#bd3786"
             ],
             [
              0.5555555555555556,
              "#d8576b"
             ],
             [
              0.6666666666666666,
              "#ed7953"
             ],
             [
              0.7777777777777778,
              "#fb9f3a"
             ],
             [
              0.8888888888888888,
              "#fdca26"
             ],
             [
              1,
              "#f0f921"
             ]
            ],
            "type": "heatmapgl"
           }
          ],
          "histogram": [
           {
            "marker": {
             "pattern": {
              "fillmode": "overlay",
              "size": 10,
              "solidity": 0.2
             }
            },
            "type": "histogram"
           }
          ],
          "histogram2d": [
           {
            "colorbar": {
             "outlinewidth": 0,
             "ticks": ""
            },
            "colorscale": [
             [
              0,
              "#0d0887"
             ],
             [
              0.1111111111111111,
              "#46039f"
             ],
             [
              0.2222222222222222,
              "#7201a8"
             ],
             [
              0.3333333333333333,
              "#9c179e"
             ],
             [
              0.4444444444444444,
              "#bd3786"
             ],
             [
              0.5555555555555556,
              "#d8576b"
             ],
             [
              0.6666666666666666,
              "#ed7953"
             ],
             [
              0.7777777777777778,
              "#fb9f3a"
             ],
             [
              0.8888888888888888,
              "#fdca26"
             ],
             [
              1,
              "#f0f921"
             ]
            ],
            "type": "histogram2d"
           }
          ],
          "histogram2dcontour": [
           {
            "colorbar": {
             "outlinewidth": 0,
             "ticks": ""
            },
            "colorscale": [
             [
              0,
              "#0d0887"
             ],
             [
              0.1111111111111111,
              "#46039f"
             ],
             [
              0.2222222222222222,
              "#7201a8"
             ],
             [
              0.3333333333333333,
              "#9c179e"
             ],
             [
              0.4444444444444444,
              "#bd3786"
             ],
             [
              0.5555555555555556,
              "#d8576b"
             ],
             [
              0.6666666666666666,
              "#ed7953"
             ],
             [
              0.7777777777777778,
              "#fb9f3a"
             ],
             [
              0.8888888888888888,
              "#fdca26"
             ],
             [
              1,
              "#f0f921"
             ]
            ],
            "type": "histogram2dcontour"
           }
          ],
          "mesh3d": [
           {
            "colorbar": {
             "outlinewidth": 0,
             "ticks": ""
            },
            "type": "mesh3d"
           }
          ],
          "parcoords": [
           {
            "line": {
             "colorbar": {
              "outlinewidth": 0,
              "ticks": ""
             }
            },
            "type": "parcoords"
           }
          ],
          "pie": [
           {
            "automargin": true,
            "type": "pie"
           }
          ],
          "scatter": [
           {
            "fillpattern": {
             "fillmode": "overlay",
             "size": 10,
             "solidity": 0.2
            },
            "type": "scatter"
           }
          ],
          "scatter3d": [
           {
            "line": {
             "colorbar": {
              "outlinewidth": 0,
              "ticks": ""
             }
            },
            "marker": {
             "colorbar": {
              "outlinewidth": 0,
              "ticks": ""
             }
            },
            "type": "scatter3d"
           }
          ],
          "scattercarpet": [
           {
            "marker": {
             "colorbar": {
              "outlinewidth": 0,
              "ticks": ""
             }
            },
            "type": "scattercarpet"
           }
          ],
          "scattergeo": [
           {
            "marker": {
             "colorbar": {
              "outlinewidth": 0,
              "ticks": ""
             }
            },
            "type": "scattergeo"
           }
          ],
          "scattergl": [
           {
            "marker": {
             "colorbar": {
              "outlinewidth": 0,
              "ticks": ""
             }
            },
            "type": "scattergl"
           }
          ],
          "scattermapbox": [
           {
            "marker": {
             "colorbar": {
              "outlinewidth": 0,
              "ticks": ""
             }
            },
            "type": "scattermapbox"
           }
          ],
          "scatterpolar": [
           {
            "marker": {
             "colorbar": {
              "outlinewidth": 0,
              "ticks": ""
             }
            },
            "type": "scatterpolar"
           }
          ],
          "scatterpolargl": [
           {
            "marker": {
             "colorbar": {
              "outlinewidth": 0,
              "ticks": ""
             }
            },
            "type": "scatterpolargl"
           }
          ],
          "scatterternary": [
           {
            "marker": {
             "colorbar": {
              "outlinewidth": 0,
              "ticks": ""
             }
            },
            "type": "scatterternary"
           }
          ],
          "surface": [
           {
            "colorbar": {
             "outlinewidth": 0,
             "ticks": ""
            },
            "colorscale": [
             [
              0,
              "#0d0887"
             ],
             [
              0.1111111111111111,
              "#46039f"
             ],
             [
              0.2222222222222222,
              "#7201a8"
             ],
             [
              0.3333333333333333,
              "#9c179e"
             ],
             [
              0.4444444444444444,
              "#bd3786"
             ],
             [
              0.5555555555555556,
              "#d8576b"
             ],
             [
              0.6666666666666666,
              "#ed7953"
             ],
             [
              0.7777777777777778,
              "#fb9f3a"
             ],
             [
              0.8888888888888888,
              "#fdca26"
             ],
             [
              1,
              "#f0f921"
             ]
            ],
            "type": "surface"
           }
          ],
          "table": [
           {
            "cells": {
             "fill": {
              "color": "#EBF0F8"
             },
             "line": {
              "color": "white"
             }
            },
            "header": {
             "fill": {
              "color": "#C8D4E3"
             },
             "line": {
              "color": "white"
             }
            },
            "type": "table"
           }
          ]
         },
         "layout": {
          "annotationdefaults": {
           "arrowcolor": "#2a3f5f",
           "arrowhead": 0,
           "arrowwidth": 1
          },
          "autotypenumbers": "strict",
          "coloraxis": {
           "colorbar": {
            "outlinewidth": 0,
            "ticks": ""
           }
          },
          "colorscale": {
           "diverging": [
            [
             0,
             "#8e0152"
            ],
            [
             0.1,
             "#c51b7d"
            ],
            [
             0.2,
             "#de77ae"
            ],
            [
             0.3,
             "#f1b6da"
            ],
            [
             0.4,
             "#fde0ef"
            ],
            [
             0.5,
             "#f7f7f7"
            ],
            [
             0.6,
             "#e6f5d0"
            ],
            [
             0.7,
             "#b8e186"
            ],
            [
             0.8,
             "#7fbc41"
            ],
            [
             0.9,
             "#4d9221"
            ],
            [
             1,
             "#276419"
            ]
           ],
           "sequential": [
            [
             0,
             "#0d0887"
            ],
            [
             0.1111111111111111,
             "#46039f"
            ],
            [
             0.2222222222222222,
             "#7201a8"
            ],
            [
             0.3333333333333333,
             "#9c179e"
            ],
            [
             0.4444444444444444,
             "#bd3786"
            ],
            [
             0.5555555555555556,
             "#d8576b"
            ],
            [
             0.6666666666666666,
             "#ed7953"
            ],
            [
             0.7777777777777778,
             "#fb9f3a"
            ],
            [
             0.8888888888888888,
             "#fdca26"
            ],
            [
             1,
             "#f0f921"
            ]
           ],
           "sequentialminus": [
            [
             0,
             "#0d0887"
            ],
            [
             0.1111111111111111,
             "#46039f"
            ],
            [
             0.2222222222222222,
             "#7201a8"
            ],
            [
             0.3333333333333333,
             "#9c179e"
            ],
            [
             0.4444444444444444,
             "#bd3786"
            ],
            [
             0.5555555555555556,
             "#d8576b"
            ],
            [
             0.6666666666666666,
             "#ed7953"
            ],
            [
             0.7777777777777778,
             "#fb9f3a"
            ],
            [
             0.8888888888888888,
             "#fdca26"
            ],
            [
             1,
             "#f0f921"
            ]
           ]
          },
          "colorway": [
           "#636efa",
           "#EF553B",
           "#00cc96",
           "#ab63fa",
           "#FFA15A",
           "#19d3f3",
           "#FF6692",
           "#B6E880",
           "#FF97FF",
           "#FECB52"
          ],
          "font": {
           "color": "#2a3f5f"
          },
          "geo": {
           "bgcolor": "white",
           "lakecolor": "white",
           "landcolor": "white",
           "showlakes": true,
           "showland": true,
           "subunitcolor": "#C8D4E3"
          },
          "hoverlabel": {
           "align": "left"
          },
          "hovermode": "closest",
          "mapbox": {
           "style": "light"
          },
          "paper_bgcolor": "white",
          "plot_bgcolor": "white",
          "polar": {
           "angularaxis": {
            "gridcolor": "#EBF0F8",
            "linecolor": "#EBF0F8",
            "ticks": ""
           },
           "bgcolor": "white",
           "radialaxis": {
            "gridcolor": "#EBF0F8",
            "linecolor": "#EBF0F8",
            "ticks": ""
           }
          },
          "scene": {
           "xaxis": {
            "backgroundcolor": "white",
            "gridcolor": "#DFE8F3",
            "gridwidth": 2,
            "linecolor": "#EBF0F8",
            "showbackground": true,
            "ticks": "",
            "zerolinecolor": "#EBF0F8"
           },
           "yaxis": {
            "backgroundcolor": "white",
            "gridcolor": "#DFE8F3",
            "gridwidth": 2,
            "linecolor": "#EBF0F8",
            "showbackground": true,
            "ticks": "",
            "zerolinecolor": "#EBF0F8"
           },
           "zaxis": {
            "backgroundcolor": "white",
            "gridcolor": "#DFE8F3",
            "gridwidth": 2,
            "linecolor": "#EBF0F8",
            "showbackground": true,
            "ticks": "",
            "zerolinecolor": "#EBF0F8"
           }
          },
          "shapedefaults": {
           "line": {
            "color": "#2a3f5f"
           }
          },
          "ternary": {
           "aaxis": {
            "gridcolor": "#DFE8F3",
            "linecolor": "#A2B1C6",
            "ticks": ""
           },
           "baxis": {
            "gridcolor": "#DFE8F3",
            "linecolor": "#A2B1C6",
            "ticks": ""
           },
           "bgcolor": "white",
           "caxis": {
            "gridcolor": "#DFE8F3",
            "linecolor": "#A2B1C6",
            "ticks": ""
           }
          },
          "title": {
           "x": 0.05
          },
          "xaxis": {
           "automargin": true,
           "gridcolor": "#EBF0F8",
           "linecolor": "#EBF0F8",
           "ticks": "",
           "title": {
            "standoff": 15
           },
           "zerolinecolor": "#EBF0F8",
           "zerolinewidth": 2
          },
          "yaxis": {
           "automargin": true,
           "gridcolor": "#EBF0F8",
           "linecolor": "#EBF0F8",
           "ticks": "",
           "title": {
            "standoff": 15
           },
           "zerolinecolor": "#EBF0F8",
           "zerolinewidth": 2
          }
         }
        },
        "title": {
         "text": "Hyperparameter Optimization in PLS"
        },
        "xaxis": {
         "title": {
          "text": "Number of Latent Variables"
         }
        },
        "yaxis": {
         "title": {
          "text": "Abs RMSE"
         }
        }
       }
      },
      "text/html": [
       "<div>                            <div id=\"60138cdb-9923-4c7d-8abe-21162a049d46\" class=\"plotly-graph-div\" style=\"height:525px; width:100%;\"></div>            <script type=\"text/javascript\">                require([\"plotly\"], function(Plotly) {                    window.PLOTLYENV=window.PLOTLYENV || {};                                    if (document.getElementById(\"60138cdb-9923-4c7d-8abe-21162a049d46\")) {                    Plotly.newPlot(                        \"60138cdb-9923-4c7d-8abe-21162a049d46\",                        [{\"error_y\":{\"array\":[70.02788070040563,68.66781971687475,68.66969977828836,68.63739153062654,68.6415192137677],\"type\":\"data\",\"visible\":true},\"name\":\"Training\",\"x\":[1,2,3,4,5],\"y\":[235.14639546231047,225.0146893831947,223.93391153273342,223.7708263339028,223.76611170154638],\"type\":\"scatter\"},{\"error_y\":{\"array\":[188.389071673491,176.6189682745472,169.83355497579083,168.89230005663555,168.7258810953515],\"type\":\"data\",\"visible\":true},\"name\":\"Validation\",\"x\":[1,2,3,4,5],\"y\":[307.36831290484736,315.1646854594871,315.0788106464125,317.8712304154716,317.9009570410653],\"type\":\"scatter\"}],                        {\"template\":{\"data\":{\"histogram2dcontour\":[{\"type\":\"histogram2dcontour\",\"colorbar\":{\"outlinewidth\":0,\"ticks\":\"\"},\"colorscale\":[[0.0,\"#0d0887\"],[0.1111111111111111,\"#46039f\"],[0.2222222222222222,\"#7201a8\"],[0.3333333333333333,\"#9c179e\"],[0.4444444444444444,\"#bd3786\"],[0.5555555555555556,\"#d8576b\"],[0.6666666666666666,\"#ed7953\"],[0.7777777777777778,\"#fb9f3a\"],[0.8888888888888888,\"#fdca26\"],[1.0,\"#f0f921\"]]}],\"choropleth\":[{\"type\":\"choropleth\",\"colorbar\":{\"outlinewidth\":0,\"ticks\":\"\"}}],\"histogram2d\":[{\"type\":\"histogram2d\",\"colorbar\":{\"outlinewidth\":0,\"ticks\":\"\"},\"colorscale\":[[0.0,\"#0d0887\"],[0.1111111111111111,\"#46039f\"],[0.2222222222222222,\"#7201a8\"],[0.3333333333333333,\"#9c179e\"],[0.4444444444444444,\"#bd3786\"],[0.5555555555555556,\"#d8576b\"],[0.6666666666666666,\"#ed7953\"],[0.7777777777777778,\"#fb9f3a\"],[0.8888888888888888,\"#fdca26\"],[1.0,\"#f0f921\"]]}],\"heatmap\":[{\"type\":\"heatmap\",\"colorbar\":{\"outlinewidth\":0,\"ticks\":\"\"},\"colorscale\":[[0.0,\"#0d0887\"],[0.1111111111111111,\"#46039f\"],[0.2222222222222222,\"#7201a8\"],[0.3333333333333333,\"#9c179e\"],[0.4444444444444444,\"#bd3786\"],[0.5555555555555556,\"#d8576b\"],[0.6666666666666666,\"#ed7953\"],[0.7777777777777778,\"#fb9f3a\"],[0.8888888888888888,\"#fdca26\"],[1.0,\"#f0f921\"]]}],\"heatmapgl\":[{\"type\":\"heatmapgl\",\"colorbar\":{\"outlinewidth\":0,\"ticks\":\"\"},\"colorscale\":[[0.0,\"#0d0887\"],[0.1111111111111111,\"#46039f\"],[0.2222222222222222,\"#7201a8\"],[0.3333333333333333,\"#9c179e\"],[0.4444444444444444,\"#bd3786\"],[0.5555555555555556,\"#d8576b\"],[0.6666666666666666,\"#ed7953\"],[0.7777777777777778,\"#fb9f3a\"],[0.8888888888888888,\"#fdca26\"],[1.0,\"#f0f921\"]]}],\"contourcarpet\":[{\"type\":\"contourcarpet\",\"colorbar\":{\"outlinewidth\":0,\"ticks\":\"\"}}],\"contour\":[{\"type\":\"contour\",\"colorbar\":{\"outlinewidth\":0,\"ticks\":\"\"},\"colorscale\":[[0.0,\"#0d0887\"],[0.1111111111111111,\"#46039f\"],[0.2222222222222222,\"#7201a8\"],[0.3333333333333333,\"#9c179e\"],[0.4444444444444444,\"#bd3786\"],[0.5555555555555556,\"#d8576b\"],[0.6666666666666666,\"#ed7953\"],[0.7777777777777778,\"#fb9f3a\"],[0.8888888888888888,\"#fdca26\"],[1.0,\"#f0f921\"]]}],\"surface\":[{\"type\":\"surface\",\"colorbar\":{\"outlinewidth\":0,\"ticks\":\"\"},\"colorscale\":[[0.0,\"#0d0887\"],[0.1111111111111111,\"#46039f\"],[0.2222222222222222,\"#7201a8\"],[0.3333333333333333,\"#9c179e\"],[0.4444444444444444,\"#bd3786\"],[0.5555555555555556,\"#d8576b\"],[0.6666666666666666,\"#ed7953\"],[0.7777777777777778,\"#fb9f3a\"],[0.8888888888888888,\"#fdca26\"],[1.0,\"#f0f921\"]]}],\"mesh3d\":[{\"type\":\"mesh3d\",\"colorbar\":{\"outlinewidth\":0,\"ticks\":\"\"}}],\"scatter\":[{\"fillpattern\":{\"fillmode\":\"overlay\",\"size\":10,\"solidity\":0.2},\"type\":\"scatter\"}],\"parcoords\":[{\"type\":\"parcoords\",\"line\":{\"colorbar\":{\"outlinewidth\":0,\"ticks\":\"\"}}}],\"scatterpolargl\":[{\"type\":\"scatterpolargl\",\"marker\":{\"colorbar\":{\"outlinewidth\":0,\"ticks\":\"\"}}}],\"bar\":[{\"error_x\":{\"color\":\"#2a3f5f\"},\"error_y\":{\"color\":\"#2a3f5f\"},\"marker\":{\"line\":{\"color\":\"white\",\"width\":0.5},\"pattern\":{\"fillmode\":\"overlay\",\"size\":10,\"solidity\":0.2}},\"type\":\"bar\"}],\"scattergeo\":[{\"type\":\"scattergeo\",\"marker\":{\"colorbar\":{\"outlinewidth\":0,\"ticks\":\"\"}}}],\"scatterpolar\":[{\"type\":\"scatterpolar\",\"marker\":{\"colorbar\":{\"outlinewidth\":0,\"ticks\":\"\"}}}],\"histogram\":[{\"marker\":{\"pattern\":{\"fillmode\":\"overlay\",\"size\":10,\"solidity\":0.2}},\"type\":\"histogram\"}],\"scattergl\":[{\"type\":\"scattergl\",\"marker\":{\"colorbar\":{\"outlinewidth\":0,\"ticks\":\"\"}}}],\"scatter3d\":[{\"type\":\"scatter3d\",\"line\":{\"colorbar\":{\"outlinewidth\":0,\"ticks\":\"\"}},\"marker\":{\"colorbar\":{\"outlinewidth\":0,\"ticks\":\"\"}}}],\"scattermapbox\":[{\"type\":\"scattermapbox\",\"marker\":{\"colorbar\":{\"outlinewidth\":0,\"ticks\":\"\"}}}],\"scatterternary\":[{\"type\":\"scatterternary\",\"marker\":{\"colorbar\":{\"outlinewidth\":0,\"ticks\":\"\"}}}],\"scattercarpet\":[{\"type\":\"scattercarpet\",\"marker\":{\"colorbar\":{\"outlinewidth\":0,\"ticks\":\"\"}}}],\"carpet\":[{\"aaxis\":{\"endlinecolor\":\"#2a3f5f\",\"gridcolor\":\"#C8D4E3\",\"linecolor\":\"#C8D4E3\",\"minorgridcolor\":\"#C8D4E3\",\"startlinecolor\":\"#2a3f5f\"},\"baxis\":{\"endlinecolor\":\"#2a3f5f\",\"gridcolor\":\"#C8D4E3\",\"linecolor\":\"#C8D4E3\",\"minorgridcolor\":\"#C8D4E3\",\"startlinecolor\":\"#2a3f5f\"},\"type\":\"carpet\"}],\"table\":[{\"cells\":{\"fill\":{\"color\":\"#EBF0F8\"},\"line\":{\"color\":\"white\"}},\"header\":{\"fill\":{\"color\":\"#C8D4E3\"},\"line\":{\"color\":\"white\"}},\"type\":\"table\"}],\"barpolar\":[{\"marker\":{\"line\":{\"color\":\"white\",\"width\":0.5},\"pattern\":{\"fillmode\":\"overlay\",\"size\":10,\"solidity\":0.2}},\"type\":\"barpolar\"}],\"pie\":[{\"automargin\":true,\"type\":\"pie\"}]},\"layout\":{\"autotypenumbers\":\"strict\",\"colorway\":[\"#636efa\",\"#EF553B\",\"#00cc96\",\"#ab63fa\",\"#FFA15A\",\"#19d3f3\",\"#FF6692\",\"#B6E880\",\"#FF97FF\",\"#FECB52\"],\"font\":{\"color\":\"#2a3f5f\"},\"hovermode\":\"closest\",\"hoverlabel\":{\"align\":\"left\"},\"paper_bgcolor\":\"white\",\"plot_bgcolor\":\"white\",\"polar\":{\"bgcolor\":\"white\",\"angularaxis\":{\"gridcolor\":\"#EBF0F8\",\"linecolor\":\"#EBF0F8\",\"ticks\":\"\"},\"radialaxis\":{\"gridcolor\":\"#EBF0F8\",\"linecolor\":\"#EBF0F8\",\"ticks\":\"\"}},\"ternary\":{\"bgcolor\":\"white\",\"aaxis\":{\"gridcolor\":\"#DFE8F3\",\"linecolor\":\"#A2B1C6\",\"ticks\":\"\"},\"baxis\":{\"gridcolor\":\"#DFE8F3\",\"linecolor\":\"#A2B1C6\",\"ticks\":\"\"},\"caxis\":{\"gridcolor\":\"#DFE8F3\",\"linecolor\":\"#A2B1C6\",\"ticks\":\"\"}},\"coloraxis\":{\"colorbar\":{\"outlinewidth\":0,\"ticks\":\"\"}},\"colorscale\":{\"sequential\":[[0.0,\"#0d0887\"],[0.1111111111111111,\"#46039f\"],[0.2222222222222222,\"#7201a8\"],[0.3333333333333333,\"#9c179e\"],[0.4444444444444444,\"#bd3786\"],[0.5555555555555556,\"#d8576b\"],[0.6666666666666666,\"#ed7953\"],[0.7777777777777778,\"#fb9f3a\"],[0.8888888888888888,\"#fdca26\"],[1.0,\"#f0f921\"]],\"sequentialminus\":[[0.0,\"#0d0887\"],[0.1111111111111111,\"#46039f\"],[0.2222222222222222,\"#7201a8\"],[0.3333333333333333,\"#9c179e\"],[0.4444444444444444,\"#bd3786\"],[0.5555555555555556,\"#d8576b\"],[0.6666666666666666,\"#ed7953\"],[0.7777777777777778,\"#fb9f3a\"],[0.8888888888888888,\"#fdca26\"],[1.0,\"#f0f921\"]],\"diverging\":[[0,\"#8e0152\"],[0.1,\"#c51b7d\"],[0.2,\"#de77ae\"],[0.3,\"#f1b6da\"],[0.4,\"#fde0ef\"],[0.5,\"#f7f7f7\"],[0.6,\"#e6f5d0\"],[0.7,\"#b8e186\"],[0.8,\"#7fbc41\"],[0.9,\"#4d9221\"],[1,\"#276419\"]]},\"xaxis\":{\"gridcolor\":\"#EBF0F8\",\"linecolor\":\"#EBF0F8\",\"ticks\":\"\",\"title\":{\"standoff\":15},\"zerolinecolor\":\"#EBF0F8\",\"automargin\":true,\"zerolinewidth\":2},\"yaxis\":{\"gridcolor\":\"#EBF0F8\",\"linecolor\":\"#EBF0F8\",\"ticks\":\"\",\"title\":{\"standoff\":15},\"zerolinecolor\":\"#EBF0F8\",\"automargin\":true,\"zerolinewidth\":2},\"scene\":{\"xaxis\":{\"backgroundcolor\":\"white\",\"gridcolor\":\"#DFE8F3\",\"linecolor\":\"#EBF0F8\",\"showbackground\":true,\"ticks\":\"\",\"zerolinecolor\":\"#EBF0F8\",\"gridwidth\":2},\"yaxis\":{\"backgroundcolor\":\"white\",\"gridcolor\":\"#DFE8F3\",\"linecolor\":\"#EBF0F8\",\"showbackground\":true,\"ticks\":\"\",\"zerolinecolor\":\"#EBF0F8\",\"gridwidth\":2},\"zaxis\":{\"backgroundcolor\":\"white\",\"gridcolor\":\"#DFE8F3\",\"linecolor\":\"#EBF0F8\",\"showbackground\":true,\"ticks\":\"\",\"zerolinecolor\":\"#EBF0F8\",\"gridwidth\":2}},\"shapedefaults\":{\"line\":{\"color\":\"#2a3f5f\"}},\"annotationdefaults\":{\"arrowcolor\":\"#2a3f5f\",\"arrowhead\":0,\"arrowwidth\":1},\"geo\":{\"bgcolor\":\"white\",\"landcolor\":\"white\",\"subunitcolor\":\"#C8D4E3\",\"showland\":true,\"showlakes\":true,\"lakecolor\":\"white\"},\"title\":{\"x\":0.05},\"mapbox\":{\"style\":\"light\"}}},\"title\":{\"text\":\"Hyperparameter Optimization in PLS\"},\"xaxis\":{\"title\":{\"text\":\"Number of Latent Variables\"}},\"yaxis\":{\"title\":{\"text\":\"Abs RMSE\"}},\"legend\":{\"title\":{\"text\":\"Evaluation type\"}}},                        {\"responsive\": true}                    ).then(function(){\n",
       "                            \n",
       "var gd = document.getElementById('60138cdb-9923-4c7d-8abe-21162a049d46');\n",
       "var x = new MutationObserver(function (mutations, observer) {{\n",
       "        var display = window.getComputedStyle(gd).display;\n",
       "        if (!display || display === 'none') {{\n",
       "            console.log([gd, 'removed!']);\n",
       "            Plotly.purge(gd);\n",
       "            observer.disconnect();\n",
       "        }}\n",
       "}});\n",
       "\n",
       "// Listen for the removal of the full notebook cells\n",
       "var notebookContainer = gd.closest('#notebook-container');\n",
       "if (notebookContainer) {{\n",
       "    x.observe(notebookContainer, {childList: true});\n",
       "}}\n",
       "\n",
       "// Listen for the clearing of the current output cell\n",
       "var outputEl = gd.closest('.output');\n",
       "if (outputEl) {{\n",
       "    x.observe(outputEl, {childList: true});\n",
       "}}\n",
       "\n",
       "                        })                };                });            </script>        </div>"
      ]
     },
     "metadata": {},
     "output_type": "display_data"
    }
   ],
   "source": [
    "plot_pls_cross_validation(train_eval, valid_eval, range_LV=range_LV)"
   ]
  },
  {
   "cell_type": "markdown",
   "metadata": {},
   "source": [
    "## BWU-PLS1\n",
    "- Batch Wise Unfolded - Partial Least Square Model (PLS1), also called Historical-PLS\n",
    "- BWU can be used to compute final properties of the experiment, like CQAs-Titer, which are typically the effect of the cumulated effect of the experiment profile.\n",
    "- Clearly, titer information are removed from the BWU matrix.\n",
    "\n",
    "* Training: $[Z, X(t < t_{final})] \\rightarrow PLS1 \\rightarrow y(t=t_{final})$\n",
    "* Testing: $[Z, X(t < t_{final})] \\rightarrow PLS1 \\rightarrow y(t=t_{final})$\n",
    "\n",
    "> Why not to use MLR:\n",
    "> Unlinke in the initial conditions model, there are several problems in using an linear regression / response surface model for modelling historical data, which makes it dificult to fit linear model.\n",
    "> - $X$ (the BWU data), rows (samples) < columns (variables). \n",
    "> - if $X^T X$ has full rank due only to noise, the inverse is unstable and small changes in noise realization can produce dramatically different results."
   ]
  },
  {
   "cell_type": "code",
   "execution_count": 297,
   "metadata": {},
   "outputs": [],
   "source": [
    "def preprocess(Z, X, process_history=14,\n",
    "    input_variables=[\n",
    "        \"feed_start\",\n",
    "        \"feed_end\",\n",
    "        \"feed_rate\",\n",
    "        \"glc_0\",\n",
    "        \"vcd_0\",\n",
    "        \"X:VCD\",\n",
    "        \"X:Glc\",\n",
    "    ]):\n",
    "    # Remove Variables\n",
    "    remove_columns = []\n",
    "    remove_columns.extend([c for c in X.columns if c.startswith(\"X:Titer\")])\n",
    "    if \"X:Lac\" in input_variables:\n",
    "        pass\n",
    "    else:\n",
    "        remove_columns.extend([c for c in X.columns if c.startswith(\"X:Lac\")])\n",
    "    if \"W:Feed\" in input_variables:\n",
    "        pass\n",
    "    else:\n",
    "        remove_columns.extend([c for c in X.columns if c.startswith(\"W:Feed\")])\n",
    "    if \"X:Glc\" in input_variables:\n",
    "        pass\n",
    "    else:\n",
    "        remove_columns.extend([c for c in X.columns if c.startswith(\"X:Glc\")])\n",
    "    if \"X:VCD\" in input_variables:\n",
    "        pass\n",
    "    else:\n",
    "        remove_columns.extend([c for c in X.columns if c.startswith(\"X:VCD\")])\n",
    "\n",
    "    # Remove History\n",
    "    for d in range(process_history, 15):\n",
    "        remove_columns.extend([c for c in X.columns if c.endswith(\":0\")])\n",
    "        remove_columns.extend([c for c in X.columns if c.endswith(\":\" + str(d))])\n",
    "\n",
    "    # Remove Invariant\n",
    "    remove_columns.extend(list(X.columns[~(X != X.iloc[0]).any().values]))\n",
    "\n",
    "    # Add and remove columns\n",
    "    X_preproc = pd.concat([Z, X.drop(set(remove_columns), axis=1)], axis=1)\n",
    "    return X_preproc"
   ]
  },
  {
   "cell_type": "code",
   "execution_count": 298,
   "metadata": {},
   "outputs": [],
   "source": [
    "def fit_hist_pls_model(\n",
    "    X,\n",
    "    y,\n",
    "    latent_variables=5,\n",
    "):\n",
    "    # Define Pipeline\n",
    "    pscaler = StandardScaler(with_mean=True, with_std=True)\n",
    "    pls_bwu = PLSRegression(n_components=latent_variables)\n",
    "    pipe = Pipeline([(\"scaler\", pscaler), (\"model\", pls_bwu)])\n",
    "\n",
    "    # Train PLS model\n",
    "    pipe.fit(X, y)\n",
    "    return pipe\n",
    "\n",
    "\n",
    "def plot_hist_pls_model_coef(X_preproc, pls_pipeline):\n",
    "    X_columns = X_preproc.columns\n",
    "    pls_bwu_vip = vip(X_preproc, model=pls_pipeline[\"model\"])\n",
    "    fig = px.bar(\n",
    "        x=list(X_columns),\n",
    "        y=pls_bwu_vip.reshape(-1),\n",
    "        title=\"VIP scores of Historical PLS model\",\n",
    "        labels={\"x\": \"Variables\", \"y\": \"Estimated VIP\", \"color\": \"p-value\"},\n",
    "    )\n",
    "    fig.add_hline(y=1)\n",
    "    fig.add_hline(y=0.8, line=dict(color=\"gray\"))\n",
    "    fig.update_layout(width=1600)\n",
    "    fig.show()\n",
    "\n",
    "\n",
    "def plot_hist_pls_model_eval(\n",
    "    y,\n",
    "    y_pred,\n",
    "    y_test,\n",
    "    y_test_pred,\n",
    "):\n",
    "\n",
    "    # Calculate error metrics\n",
    "    train_r2 = r2(y, y_pred)\n",
    "    train_abs_rmse = absolute_rmse(y, y_pred)\n",
    "    train_rel_rmse = relative_rmse(y, y_pred)\n",
    "    test_r2 = r2(y_test, y_test_pred)\n",
    "    test_abs_rmse = absolute_rmse(y_test, y_test_pred)\n",
    "    test_rel_rmse = relative_rmse(y_test, y_test_pred)\n",
    "\n",
    "    # Plot observed vs predicted\n",
    "    fig = make_subplots(\n",
    "        rows=1,\n",
    "        cols=2,\n",
    "        subplot_titles=(\n",
    "            f\"Train Set <br> R^2 = {train_r2} <br> Abs RMSE = {train_abs_rmse} <br> Rel RMSE = {train_rel_rmse}\",\n",
    "            f\"Test Set <br> R^2 = {test_r2} <br> Abs RMSE = {test_abs_rmse} <br> Rel RMSE = {test_rel_rmse}\",\n",
    "        ),\n",
    "    )\n",
    "    # Train set plot\n",
    "    fig.add_trace(\n",
    "        go.Scatter(x=y.values.reshape(-1), y=y_pred.reshape(-1), mode=\"markers\"),\n",
    "        row=1,\n",
    "        col=1,\n",
    "    )\n",
    "    fig.add_shape(\n",
    "        type=\"line\",\n",
    "        x0=min(y_pred)[0],\n",
    "        y0=min(y_pred)[0],\n",
    "        x1=max(y_pred)[0],\n",
    "        y1=max(y_pred)[0],\n",
    "        layer=\"below\",\n",
    "        line=dict(dash=\"dash\"),\n",
    "    )\n",
    "    # Test set plot\n",
    "    fig.add_trace(\n",
    "        go.Scatter(\n",
    "            x=y_test.values.reshape(-1), y=y_test_pred.reshape(-1), mode=\"markers\"\n",
    "        ),\n",
    "        row=1,\n",
    "        col=2,\n",
    "    )\n",
    "    fig.add_shape(\n",
    "        type=\"line\",\n",
    "        x0=min(y_test_pred)[0],\n",
    "        y0=min(y_test_pred)[0],\n",
    "        x1=max(y_test_pred)[0],\n",
    "        y1=max(y_test_pred)[0],\n",
    "        layer=\"below\",\n",
    "        line=dict(dash=\"dash\"),\n",
    "        row=1,\n",
    "        col=2,\n",
    "    )\n",
    "    fig.update_layout(title_text=\"Observed vs Predicted\", showlegend=False)\n",
    "    fig.update_layout(width=1600)\n",
    "    fig.show()\n",
    "\n",
    "\n",
    "def plot_hist_pls_scores(pls_pipe, pc_x_axis=1, pc_y_axis=2, X_columns=None):\n",
    "    model = pls_pipe[\"model\"]\n",
    "    fig = make_subplots(\n",
    "        rows=2,\n",
    "        cols=2,\n",
    "        specs=[[{\"colspan\": 2}, None], [{}, {}]],\n",
    "        subplot_titles=(\n",
    "            \"Scores Plot \",\n",
    "            \"Loadings of Principal Component - \" + str(pc_x_axis),\n",
    "            \"Loadings of Principal Component - \" + str(pc_y_axis),\n",
    "        ),\n",
    "    )\n",
    "    fig.add_trace(\n",
    "        go.Scatter(\n",
    "            x=model.x_scores_[:, pc_x_axis],\n",
    "            y=model.x_scores_[:, pc_y_axis],\n",
    "            mode=\"markers\",\n",
    "            name=\"Scores\",\n",
    "        ),\n",
    "        row=1,\n",
    "        col=1,\n",
    "    )\n",
    "    fig.add_bar(\n",
    "        x=X_columns,\n",
    "        y=model.x_loadings_[:, pc_x_axis - 1],\n",
    "        name=\"Loadings PC - \" + str(pc_x_axis),\n",
    "        row=2,\n",
    "        col=[1, 2],\n",
    "    )\n",
    "    fig.add_bar(\n",
    "        x=X_columns,\n",
    "        y=model.x_loadings_[:, pc_y_axis - 1],\n",
    "        name=\"Loadings PC - \" + str(pc_y_axis),\n",
    "        row=2,\n",
    "        col=2,\n",
    "    )\n",
    "    fig.update_layout(height=1000)\n",
    "    fig.show()\n",
    "\n",
    "\n",
    "def hist_pls_cross_validation(X, y, pls_pipeline):\n",
    "    range_LV = range(1, X.shape[1] + 1)\n",
    "    train_eval, valid_eval = validation_curve(\n",
    "        pls_pipeline,\n",
    "        X,\n",
    "        y,\n",
    "        param_name=\"model__n_components\",\n",
    "        param_range=list(range_LV),\n",
    "        scoring=\"neg_root_mean_squared_error\",\n",
    "    )\n",
    "    return train_eval, valid_eval, range_LV\n",
    "\n",
    "\n",
    "def plot_hist_pls_cross_validation(train_eval, valid_eval, range_LV=None):\n",
    "    train_score = -np.mean(train_eval, axis=1)\n",
    "    valid_score = -np.mean(valid_eval, axis=1)\n",
    "    train_std = np.std(train_eval, axis=1)\n",
    "    valid_std = np.std(valid_eval, axis=1)\n",
    "    fig = go.Figure()\n",
    "    fig.add_trace(\n",
    "        go.Scatter(\n",
    "            x=list(range_LV),\n",
    "            y=train_score,\n",
    "            error_y=dict(type=\"data\", array=train_std, visible=True),\n",
    "            name=\"Training\",\n",
    "        )\n",
    "    )\n",
    "    fig.add_trace(\n",
    "        go.Scatter(\n",
    "            x=list(range_LV),\n",
    "            y=valid_score,\n",
    "            error_y=dict(type=\"data\", array=valid_std, visible=True),\n",
    "            name=\"Validation\",\n",
    "        )\n",
    "    )\n",
    "    fig.update_layout(\n",
    "        title=\"Hyperparameter Optimization in Historical PLS\",\n",
    "        xaxis_title=\"Number of Latent Variables\",\n",
    "        yaxis_title=\"Abs RMSE\",\n",
    "        legend_title=\"Evaluation type\",\n",
    "    )\n",
    "    fig.show();"
   ]
  },
  {
   "cell_type": "markdown",
   "metadata": {},
   "source": [
    "### Setting"
   ]
  },
  {
   "cell_type": "code",
   "execution_count": 299,
   "metadata": {},
   "outputs": [],
   "source": [
    "\"\"\" Number of latent variables \"\"\"\n",
    "LATENT_VARIABLES_HIST = 15\n",
    "\n",
    "\"\"\" Number of days of process history \"\"\"\n",
    "PROCESS_HISTORY = 14\n",
    "\n",
    "\"\"\" Input variables \"\"\"\n",
    "INPUT_VARIABLES = ['feed_start','feed_end','feed_rate','glc_0','vcd_0','X:VCD', 'X:Glc']"
   ]
  },
  {
   "cell_type": "markdown",
   "metadata": {},
   "source": [
    "### Data"
   ]
  },
  {
   "cell_type": "code",
   "execution_count": 300,
   "metadata": {},
   "outputs": [],
   "source": [
    "ZX_preproc = preprocess(Z=doe, X=bwu, process_history=PROCESS_HISTORY, \n",
    "\t\t\t\t\t   input_variables=INPUT_VARIABLES)"
   ]
  },
  {
   "cell_type": "code",
   "execution_count": 301,
   "metadata": {},
   "outputs": [
    {
     "data": {
      "text/plain": [
       "Index(['feed_start', 'feed_end', 'Glc_feed_rate', 'Glc_0', 'VCD_0', 'X:VCD:1',\n",
       "       'X:VCD:2', 'X:VCD:3', 'X:VCD:4', 'X:VCD:5', 'X:VCD:6', 'X:VCD:7',\n",
       "       'X:VCD:8', 'X:VCD:9', 'X:VCD:10', 'X:VCD:11', 'X:VCD:12', 'X:VCD:13',\n",
       "       'X:Glc:1', 'X:Glc:2', 'X:Glc:3', 'X:Glc:4', 'X:Glc:5', 'X:Glc:6',\n",
       "       'X:Glc:7', 'X:Glc:8', 'X:Glc:9', 'X:Glc:10', 'X:Glc:11', 'X:Glc:12',\n",
       "       'X:Glc:13'],\n",
       "      dtype='object')"
      ]
     },
     "execution_count": 301,
     "metadata": {},
     "output_type": "execute_result"
    }
   ],
   "source": [
    "ZX_preproc.columns"
   ]
  },
  {
   "cell_type": "markdown",
   "metadata": {},
   "source": [
    "### Train\n",
    "\n",
    "* Remove titer (and also lactate)\n",
    "* Remove exceeding days\n",
    "* Eliminate invariant columns\n",
    "* Remove linearly dependent columns\n",
    "* Add process parameters at the beginning\n",
    "* Create a PLS model from the initial design to the final titer\n"
   ]
  },
  {
   "cell_type": "code",
   "execution_count": 302,
   "metadata": {},
   "outputs": [
    {
     "data": {
      "application/vnd.plotly.v1+json": {
       "config": {
        "plotlyServerURL": "https://plot.ly"
       },
       "data": [
        {
         "alignmentgroup": "True",
         "hovertemplate": "Variables=%{x}<br>Estimated VIP=%{y}<extra></extra>",
         "legendgroup": "",
         "marker": {
          "color": "#636efa",
          "pattern": {
           "shape": ""
          }
         },
         "name": "",
         "offsetgroup": "",
         "orientation": "v",
         "showlegend": false,
         "textposition": "auto",
         "type": "bar",
         "x": [
          "feed_start",
          "feed_end",
          "Glc_feed_rate",
          "Glc_0",
          "VCD_0",
          "X:VCD:1",
          "X:VCD:2",
          "X:VCD:3",
          "X:VCD:4",
          "X:VCD:5",
          "X:VCD:6",
          "X:VCD:7",
          "X:VCD:8",
          "X:VCD:9",
          "X:VCD:10",
          "X:VCD:11",
          "X:VCD:12",
          "X:VCD:13",
          "X:Glc:1",
          "X:Glc:2",
          "X:Glc:3",
          "X:Glc:4",
          "X:Glc:5",
          "X:Glc:6",
          "X:Glc:7",
          "X:Glc:8",
          "X:Glc:9",
          "X:Glc:10",
          "X:Glc:11",
          "X:Glc:12",
          "X:Glc:13"
         ],
         "xaxis": "x",
         "y": [
          0.50002288759743,
          0.6256835295687119,
          0.7224035458386033,
          0.5053499294935749,
          0.5208628095488942,
          0.3612138599093295,
          0.40915524924041363,
          0.680332555254435,
          1.0435191506966048,
          1.2296955871948474,
          1.2877215267523572,
          1.293959571929428,
          1.2936798783150696,
          1.3080187365193674,
          1.3189559508907225,
          1.3255914139012286,
          1.3332168037244092,
          1.3428337987047214,
          0.5106091510226876,
          0.6125485979879023,
          0.7248121283640269,
          0.8564317275529342,
          0.9682016285821139,
          1.0413234099339395,
          1.0839580067325163,
          1.1082712145638385,
          1.1041880503991137,
          1.0653316382356968,
          1.059714196889627,
          1.0784787976634955,
          1.0924792334530298
         ],
         "yaxis": "y"
        }
       ],
       "layout": {
        "barmode": "relative",
        "legend": {
         "tracegroupgap": 0
        },
        "shapes": [
         {
          "type": "line",
          "x0": 0,
          "x1": 1,
          "xref": "x domain",
          "y0": 1,
          "y1": 1,
          "yref": "y"
         },
         {
          "line": {
           "color": "gray"
          },
          "type": "line",
          "x0": 0,
          "x1": 1,
          "xref": "x domain",
          "y0": 0.8,
          "y1": 0.8,
          "yref": "y"
         }
        ],
        "template": {
         "data": {
          "bar": [
           {
            "error_x": {
             "color": "#2a3f5f"
            },
            "error_y": {
             "color": "#2a3f5f"
            },
            "marker": {
             "line": {
              "color": "white",
              "width": 0.5
             },
             "pattern": {
              "fillmode": "overlay",
              "size": 10,
              "solidity": 0.2
             }
            },
            "type": "bar"
           }
          ],
          "barpolar": [
           {
            "marker": {
             "line": {
              "color": "white",
              "width": 0.5
             },
             "pattern": {
              "fillmode": "overlay",
              "size": 10,
              "solidity": 0.2
             }
            },
            "type": "barpolar"
           }
          ],
          "carpet": [
           {
            "aaxis": {
             "endlinecolor": "#2a3f5f",
             "gridcolor": "#C8D4E3",
             "linecolor": "#C8D4E3",
             "minorgridcolor": "#C8D4E3",
             "startlinecolor": "#2a3f5f"
            },
            "baxis": {
             "endlinecolor": "#2a3f5f",
             "gridcolor": "#C8D4E3",
             "linecolor": "#C8D4E3",
             "minorgridcolor": "#C8D4E3",
             "startlinecolor": "#2a3f5f"
            },
            "type": "carpet"
           }
          ],
          "choropleth": [
           {
            "colorbar": {
             "outlinewidth": 0,
             "ticks": ""
            },
            "type": "choropleth"
           }
          ],
          "contour": [
           {
            "colorbar": {
             "outlinewidth": 0,
             "ticks": ""
            },
            "colorscale": [
             [
              0,
              "#0d0887"
             ],
             [
              0.1111111111111111,
              "#46039f"
             ],
             [
              0.2222222222222222,
              "#7201a8"
             ],
             [
              0.3333333333333333,
              "#9c179e"
             ],
             [
              0.4444444444444444,
              "#bd3786"
             ],
             [
              0.5555555555555556,
              "#d8576b"
             ],
             [
              0.6666666666666666,
              "#ed7953"
             ],
             [
              0.7777777777777778,
              "#fb9f3a"
             ],
             [
              0.8888888888888888,
              "#fdca26"
             ],
             [
              1,
              "#f0f921"
             ]
            ],
            "type": "contour"
           }
          ],
          "contourcarpet": [
           {
            "colorbar": {
             "outlinewidth": 0,
             "ticks": ""
            },
            "type": "contourcarpet"
           }
          ],
          "heatmap": [
           {
            "colorbar": {
             "outlinewidth": 0,
             "ticks": ""
            },
            "colorscale": [
             [
              0,
              "#0d0887"
             ],
             [
              0.1111111111111111,
              "#46039f"
             ],
             [
              0.2222222222222222,
              "#7201a8"
             ],
             [
              0.3333333333333333,
              "#9c179e"
             ],
             [
              0.4444444444444444,
              "#bd3786"
             ],
             [
              0.5555555555555556,
              "#d8576b"
             ],
             [
              0.6666666666666666,
              "#ed7953"
             ],
             [
              0.7777777777777778,
              "#fb9f3a"
             ],
             [
              0.8888888888888888,
              "#fdca26"
             ],
             [
              1,
              "#f0f921"
             ]
            ],
            "type": "heatmap"
           }
          ],
          "heatmapgl": [
           {
            "colorbar": {
             "outlinewidth": 0,
             "ticks": ""
            },
            "colorscale": [
             [
              0,
              "#0d0887"
             ],
             [
              0.1111111111111111,
              "#46039f"
             ],
             [
              0.2222222222222222,
              "#7201a8"
             ],
             [
              0.3333333333333333,
              "#9c179e"
             ],
             [
              0.4444444444444444,
              "#bd3786"
             ],
             [
              0.5555555555555556,
              "#d8576b"
             ],
             [
              0.6666666666666666,
              "#ed7953"
             ],
             [
              0.7777777777777778,
              "#fb9f3a"
             ],
             [
              0.8888888888888888,
              "#fdca26"
             ],
             [
              1,
              "#f0f921"
             ]
            ],
            "type": "heatmapgl"
           }
          ],
          "histogram": [
           {
            "marker": {
             "pattern": {
              "fillmode": "overlay",
              "size": 10,
              "solidity": 0.2
             }
            },
            "type": "histogram"
           }
          ],
          "histogram2d": [
           {
            "colorbar": {
             "outlinewidth": 0,
             "ticks": ""
            },
            "colorscale": [
             [
              0,
              "#0d0887"
             ],
             [
              0.1111111111111111,
              "#46039f"
             ],
             [
              0.2222222222222222,
              "#7201a8"
             ],
             [
              0.3333333333333333,
              "#9c179e"
             ],
             [
              0.4444444444444444,
              "#bd3786"
             ],
             [
              0.5555555555555556,
              "#d8576b"
             ],
             [
              0.6666666666666666,
              "#ed7953"
             ],
             [
              0.7777777777777778,
              "#fb9f3a"
             ],
             [
              0.8888888888888888,
              "#fdca26"
             ],
             [
              1,
              "#f0f921"
             ]
            ],
            "type": "histogram2d"
           }
          ],
          "histogram2dcontour": [
           {
            "colorbar": {
             "outlinewidth": 0,
             "ticks": ""
            },
            "colorscale": [
             [
              0,
              "#0d0887"
             ],
             [
              0.1111111111111111,
              "#46039f"
             ],
             [
              0.2222222222222222,
              "#7201a8"
             ],
             [
              0.3333333333333333,
              "#9c179e"
             ],
             [
              0.4444444444444444,
              "#bd3786"
             ],
             [
              0.5555555555555556,
              "#d8576b"
             ],
             [
              0.6666666666666666,
              "#ed7953"
             ],
             [
              0.7777777777777778,
              "#fb9f3a"
             ],
             [
              0.8888888888888888,
              "#fdca26"
             ],
             [
              1,
              "#f0f921"
             ]
            ],
            "type": "histogram2dcontour"
           }
          ],
          "mesh3d": [
           {
            "colorbar": {
             "outlinewidth": 0,
             "ticks": ""
            },
            "type": "mesh3d"
           }
          ],
          "parcoords": [
           {
            "line": {
             "colorbar": {
              "outlinewidth": 0,
              "ticks": ""
             }
            },
            "type": "parcoords"
           }
          ],
          "pie": [
           {
            "automargin": true,
            "type": "pie"
           }
          ],
          "scatter": [
           {
            "fillpattern": {
             "fillmode": "overlay",
             "size": 10,
             "solidity": 0.2
            },
            "type": "scatter"
           }
          ],
          "scatter3d": [
           {
            "line": {
             "colorbar": {
              "outlinewidth": 0,
              "ticks": ""
             }
            },
            "marker": {
             "colorbar": {
              "outlinewidth": 0,
              "ticks": ""
             }
            },
            "type": "scatter3d"
           }
          ],
          "scattercarpet": [
           {
            "marker": {
             "colorbar": {
              "outlinewidth": 0,
              "ticks": ""
             }
            },
            "type": "scattercarpet"
           }
          ],
          "scattergeo": [
           {
            "marker": {
             "colorbar": {
              "outlinewidth": 0,
              "ticks": ""
             }
            },
            "type": "scattergeo"
           }
          ],
          "scattergl": [
           {
            "marker": {
             "colorbar": {
              "outlinewidth": 0,
              "ticks": ""
             }
            },
            "type": "scattergl"
           }
          ],
          "scattermapbox": [
           {
            "marker": {
             "colorbar": {
              "outlinewidth": 0,
              "ticks": ""
             }
            },
            "type": "scattermapbox"
           }
          ],
          "scatterpolar": [
           {
            "marker": {
             "colorbar": {
              "outlinewidth": 0,
              "ticks": ""
             }
            },
            "type": "scatterpolar"
           }
          ],
          "scatterpolargl": [
           {
            "marker": {
             "colorbar": {
              "outlinewidth": 0,
              "ticks": ""
             }
            },
            "type": "scatterpolargl"
           }
          ],
          "scatterternary": [
           {
            "marker": {
             "colorbar": {
              "outlinewidth": 0,
              "ticks": ""
             }
            },
            "type": "scatterternary"
           }
          ],
          "surface": [
           {
            "colorbar": {
             "outlinewidth": 0,
             "ticks": ""
            },
            "colorscale": [
             [
              0,
              "#0d0887"
             ],
             [
              0.1111111111111111,
              "#46039f"
             ],
             [
              0.2222222222222222,
              "#7201a8"
             ],
             [
              0.3333333333333333,
              "#9c179e"
             ],
             [
              0.4444444444444444,
              "#bd3786"
             ],
             [
              0.5555555555555556,
              "#d8576b"
             ],
             [
              0.6666666666666666,
              "#ed7953"
             ],
             [
              0.7777777777777778,
              "#fb9f3a"
             ],
             [
              0.8888888888888888,
              "#fdca26"
             ],
             [
              1,
              "#f0f921"
             ]
            ],
            "type": "surface"
           }
          ],
          "table": [
           {
            "cells": {
             "fill": {
              "color": "#EBF0F8"
             },
             "line": {
              "color": "white"
             }
            },
            "header": {
             "fill": {
              "color": "#C8D4E3"
             },
             "line": {
              "color": "white"
             }
            },
            "type": "table"
           }
          ]
         },
         "layout": {
          "annotationdefaults": {
           "arrowcolor": "#2a3f5f",
           "arrowhead": 0,
           "arrowwidth": 1
          },
          "autotypenumbers": "strict",
          "coloraxis": {
           "colorbar": {
            "outlinewidth": 0,
            "ticks": ""
           }
          },
          "colorscale": {
           "diverging": [
            [
             0,
             "#8e0152"
            ],
            [
             0.1,
             "#c51b7d"
            ],
            [
             0.2,
             "#de77ae"
            ],
            [
             0.3,
             "#f1b6da"
            ],
            [
             0.4,
             "#fde0ef"
            ],
            [
             0.5,
             "#f7f7f7"
            ],
            [
             0.6,
             "#e6f5d0"
            ],
            [
             0.7,
             "#b8e186"
            ],
            [
             0.8,
             "#7fbc41"
            ],
            [
             0.9,
             "#4d9221"
            ],
            [
             1,
             "#276419"
            ]
           ],
           "sequential": [
            [
             0,
             "#0d0887"
            ],
            [
             0.1111111111111111,
             "#46039f"
            ],
            [
             0.2222222222222222,
             "#7201a8"
            ],
            [
             0.3333333333333333,
             "#9c179e"
            ],
            [
             0.4444444444444444,
             "#bd3786"
            ],
            [
             0.5555555555555556,
             "#d8576b"
            ],
            [
             0.6666666666666666,
             "#ed7953"
            ],
            [
             0.7777777777777778,
             "#fb9f3a"
            ],
            [
             0.8888888888888888,
             "#fdca26"
            ],
            [
             1,
             "#f0f921"
            ]
           ],
           "sequentialminus": [
            [
             0,
             "#0d0887"
            ],
            [
             0.1111111111111111,
             "#46039f"
            ],
            [
             0.2222222222222222,
             "#7201a8"
            ],
            [
             0.3333333333333333,
             "#9c179e"
            ],
            [
             0.4444444444444444,
             "#bd3786"
            ],
            [
             0.5555555555555556,
             "#d8576b"
            ],
            [
             0.6666666666666666,
             "#ed7953"
            ],
            [
             0.7777777777777778,
             "#fb9f3a"
            ],
            [
             0.8888888888888888,
             "#fdca26"
            ],
            [
             1,
             "#f0f921"
            ]
           ]
          },
          "colorway": [
           "#636efa",
           "#EF553B",
           "#00cc96",
           "#ab63fa",
           "#FFA15A",
           "#19d3f3",
           "#FF6692",
           "#B6E880",
           "#FF97FF",
           "#FECB52"
          ],
          "font": {
           "color": "#2a3f5f"
          },
          "geo": {
           "bgcolor": "white",
           "lakecolor": "white",
           "landcolor": "white",
           "showlakes": true,
           "showland": true,
           "subunitcolor": "#C8D4E3"
          },
          "hoverlabel": {
           "align": "left"
          },
          "hovermode": "closest",
          "mapbox": {
           "style": "light"
          },
          "paper_bgcolor": "white",
          "plot_bgcolor": "white",
          "polar": {
           "angularaxis": {
            "gridcolor": "#EBF0F8",
            "linecolor": "#EBF0F8",
            "ticks": ""
           },
           "bgcolor": "white",
           "radialaxis": {
            "gridcolor": "#EBF0F8",
            "linecolor": "#EBF0F8",
            "ticks": ""
           }
          },
          "scene": {
           "xaxis": {
            "backgroundcolor": "white",
            "gridcolor": "#DFE8F3",
            "gridwidth": 2,
            "linecolor": "#EBF0F8",
            "showbackground": true,
            "ticks": "",
            "zerolinecolor": "#EBF0F8"
           },
           "yaxis": {
            "backgroundcolor": "white",
            "gridcolor": "#DFE8F3",
            "gridwidth": 2,
            "linecolor": "#EBF0F8",
            "showbackground": true,
            "ticks": "",
            "zerolinecolor": "#EBF0F8"
           },
           "zaxis": {
            "backgroundcolor": "white",
            "gridcolor": "#DFE8F3",
            "gridwidth": 2,
            "linecolor": "#EBF0F8",
            "showbackground": true,
            "ticks": "",
            "zerolinecolor": "#EBF0F8"
           }
          },
          "shapedefaults": {
           "line": {
            "color": "#2a3f5f"
           }
          },
          "ternary": {
           "aaxis": {
            "gridcolor": "#DFE8F3",
            "linecolor": "#A2B1C6",
            "ticks": ""
           },
           "baxis": {
            "gridcolor": "#DFE8F3",
            "linecolor": "#A2B1C6",
            "ticks": ""
           },
           "bgcolor": "white",
           "caxis": {
            "gridcolor": "#DFE8F3",
            "linecolor": "#A2B1C6",
            "ticks": ""
           }
          },
          "title": {
           "x": 0.05
          },
          "xaxis": {
           "automargin": true,
           "gridcolor": "#EBF0F8",
           "linecolor": "#EBF0F8",
           "ticks": "",
           "title": {
            "standoff": 15
           },
           "zerolinecolor": "#EBF0F8",
           "zerolinewidth": 2
          },
          "yaxis": {
           "automargin": true,
           "gridcolor": "#EBF0F8",
           "linecolor": "#EBF0F8",
           "ticks": "",
           "title": {
            "standoff": 15
           },
           "zerolinecolor": "#EBF0F8",
           "zerolinewidth": 2
          }
         }
        },
        "title": {
         "text": "VIP scores of Historical PLS model"
        },
        "width": 1600,
        "xaxis": {
         "anchor": "y",
         "domain": [
          0,
          1
         ],
         "title": {
          "text": "Variables"
         }
        },
        "yaxis": {
         "anchor": "x",
         "domain": [
          0,
          1
         ],
         "title": {
          "text": "Estimated VIP"
         }
        }
       }
      },
      "text/html": [
       "<div>                            <div id=\"2ff79e8e-2098-4fce-9c53-392906964d46\" class=\"plotly-graph-div\" style=\"height:525px; width:1600px;\"></div>            <script type=\"text/javascript\">                require([\"plotly\"], function(Plotly) {                    window.PLOTLYENV=window.PLOTLYENV || {};                                    if (document.getElementById(\"2ff79e8e-2098-4fce-9c53-392906964d46\")) {                    Plotly.newPlot(                        \"2ff79e8e-2098-4fce-9c53-392906964d46\",                        [{\"alignmentgroup\":\"True\",\"hovertemplate\":\"Variables=%{x}\\u003cbr\\u003eEstimated VIP=%{y}\\u003cextra\\u003e\\u003c\\u002fextra\\u003e\",\"legendgroup\":\"\",\"marker\":{\"color\":\"#636efa\",\"pattern\":{\"shape\":\"\"}},\"name\":\"\",\"offsetgroup\":\"\",\"orientation\":\"v\",\"showlegend\":false,\"textposition\":\"auto\",\"x\":[\"feed_start\",\"feed_end\",\"Glc_feed_rate\",\"Glc_0\",\"VCD_0\",\"X:VCD:1\",\"X:VCD:2\",\"X:VCD:3\",\"X:VCD:4\",\"X:VCD:5\",\"X:VCD:6\",\"X:VCD:7\",\"X:VCD:8\",\"X:VCD:9\",\"X:VCD:10\",\"X:VCD:11\",\"X:VCD:12\",\"X:VCD:13\",\"X:Glc:1\",\"X:Glc:2\",\"X:Glc:3\",\"X:Glc:4\",\"X:Glc:5\",\"X:Glc:6\",\"X:Glc:7\",\"X:Glc:8\",\"X:Glc:9\",\"X:Glc:10\",\"X:Glc:11\",\"X:Glc:12\",\"X:Glc:13\"],\"xaxis\":\"x\",\"y\":[0.50002288759743,0.6256835295687119,0.7224035458386033,0.5053499294935749,0.5208628095488942,0.3612138599093295,0.40915524924041363,0.680332555254435,1.0435191506966048,1.2296955871948474,1.2877215267523572,1.293959571929428,1.2936798783150696,1.3080187365193674,1.3189559508907225,1.3255914139012286,1.3332168037244092,1.3428337987047214,0.5106091510226876,0.6125485979879023,0.7248121283640269,0.8564317275529342,0.9682016285821139,1.0413234099339395,1.0839580067325163,1.1082712145638385,1.1041880503991137,1.0653316382356968,1.059714196889627,1.0784787976634955,1.0924792334530298],\"yaxis\":\"y\",\"type\":\"bar\"}],                        {\"template\":{\"data\":{\"histogram2dcontour\":[{\"type\":\"histogram2dcontour\",\"colorbar\":{\"outlinewidth\":0,\"ticks\":\"\"},\"colorscale\":[[0.0,\"#0d0887\"],[0.1111111111111111,\"#46039f\"],[0.2222222222222222,\"#7201a8\"],[0.3333333333333333,\"#9c179e\"],[0.4444444444444444,\"#bd3786\"],[0.5555555555555556,\"#d8576b\"],[0.6666666666666666,\"#ed7953\"],[0.7777777777777778,\"#fb9f3a\"],[0.8888888888888888,\"#fdca26\"],[1.0,\"#f0f921\"]]}],\"choropleth\":[{\"type\":\"choropleth\",\"colorbar\":{\"outlinewidth\":0,\"ticks\":\"\"}}],\"histogram2d\":[{\"type\":\"histogram2d\",\"colorbar\":{\"outlinewidth\":0,\"ticks\":\"\"},\"colorscale\":[[0.0,\"#0d0887\"],[0.1111111111111111,\"#46039f\"],[0.2222222222222222,\"#7201a8\"],[0.3333333333333333,\"#9c179e\"],[0.4444444444444444,\"#bd3786\"],[0.5555555555555556,\"#d8576b\"],[0.6666666666666666,\"#ed7953\"],[0.7777777777777778,\"#fb9f3a\"],[0.8888888888888888,\"#fdca26\"],[1.0,\"#f0f921\"]]}],\"heatmap\":[{\"type\":\"heatmap\",\"colorbar\":{\"outlinewidth\":0,\"ticks\":\"\"},\"colorscale\":[[0.0,\"#0d0887\"],[0.1111111111111111,\"#46039f\"],[0.2222222222222222,\"#7201a8\"],[0.3333333333333333,\"#9c179e\"],[0.4444444444444444,\"#bd3786\"],[0.5555555555555556,\"#d8576b\"],[0.6666666666666666,\"#ed7953\"],[0.7777777777777778,\"#fb9f3a\"],[0.8888888888888888,\"#fdca26\"],[1.0,\"#f0f921\"]]}],\"heatmapgl\":[{\"type\":\"heatmapgl\",\"colorbar\":{\"outlinewidth\":0,\"ticks\":\"\"},\"colorscale\":[[0.0,\"#0d0887\"],[0.1111111111111111,\"#46039f\"],[0.2222222222222222,\"#7201a8\"],[0.3333333333333333,\"#9c179e\"],[0.4444444444444444,\"#bd3786\"],[0.5555555555555556,\"#d8576b\"],[0.6666666666666666,\"#ed7953\"],[0.7777777777777778,\"#fb9f3a\"],[0.8888888888888888,\"#fdca26\"],[1.0,\"#f0f921\"]]}],\"contourcarpet\":[{\"type\":\"contourcarpet\",\"colorbar\":{\"outlinewidth\":0,\"ticks\":\"\"}}],\"contour\":[{\"type\":\"contour\",\"colorbar\":{\"outlinewidth\":0,\"ticks\":\"\"},\"colorscale\":[[0.0,\"#0d0887\"],[0.1111111111111111,\"#46039f\"],[0.2222222222222222,\"#7201a8\"],[0.3333333333333333,\"#9c179e\"],[0.4444444444444444,\"#bd3786\"],[0.5555555555555556,\"#d8576b\"],[0.6666666666666666,\"#ed7953\"],[0.7777777777777778,\"#fb9f3a\"],[0.8888888888888888,\"#fdca26\"],[1.0,\"#f0f921\"]]}],\"surface\":[{\"type\":\"surface\",\"colorbar\":{\"outlinewidth\":0,\"ticks\":\"\"},\"colorscale\":[[0.0,\"#0d0887\"],[0.1111111111111111,\"#46039f\"],[0.2222222222222222,\"#7201a8\"],[0.3333333333333333,\"#9c179e\"],[0.4444444444444444,\"#bd3786\"],[0.5555555555555556,\"#d8576b\"],[0.6666666666666666,\"#ed7953\"],[0.7777777777777778,\"#fb9f3a\"],[0.8888888888888888,\"#fdca26\"],[1.0,\"#f0f921\"]]}],\"mesh3d\":[{\"type\":\"mesh3d\",\"colorbar\":{\"outlinewidth\":0,\"ticks\":\"\"}}],\"scatter\":[{\"fillpattern\":{\"fillmode\":\"overlay\",\"size\":10,\"solidity\":0.2},\"type\":\"scatter\"}],\"parcoords\":[{\"type\":\"parcoords\",\"line\":{\"colorbar\":{\"outlinewidth\":0,\"ticks\":\"\"}}}],\"scatterpolargl\":[{\"type\":\"scatterpolargl\",\"marker\":{\"colorbar\":{\"outlinewidth\":0,\"ticks\":\"\"}}}],\"bar\":[{\"error_x\":{\"color\":\"#2a3f5f\"},\"error_y\":{\"color\":\"#2a3f5f\"},\"marker\":{\"line\":{\"color\":\"white\",\"width\":0.5},\"pattern\":{\"fillmode\":\"overlay\",\"size\":10,\"solidity\":0.2}},\"type\":\"bar\"}],\"scattergeo\":[{\"type\":\"scattergeo\",\"marker\":{\"colorbar\":{\"outlinewidth\":0,\"ticks\":\"\"}}}],\"scatterpolar\":[{\"type\":\"scatterpolar\",\"marker\":{\"colorbar\":{\"outlinewidth\":0,\"ticks\":\"\"}}}],\"histogram\":[{\"marker\":{\"pattern\":{\"fillmode\":\"overlay\",\"size\":10,\"solidity\":0.2}},\"type\":\"histogram\"}],\"scattergl\":[{\"type\":\"scattergl\",\"marker\":{\"colorbar\":{\"outlinewidth\":0,\"ticks\":\"\"}}}],\"scatter3d\":[{\"type\":\"scatter3d\",\"line\":{\"colorbar\":{\"outlinewidth\":0,\"ticks\":\"\"}},\"marker\":{\"colorbar\":{\"outlinewidth\":0,\"ticks\":\"\"}}}],\"scattermapbox\":[{\"type\":\"scattermapbox\",\"marker\":{\"colorbar\":{\"outlinewidth\":0,\"ticks\":\"\"}}}],\"scatterternary\":[{\"type\":\"scatterternary\",\"marker\":{\"colorbar\":{\"outlinewidth\":0,\"ticks\":\"\"}}}],\"scattercarpet\":[{\"type\":\"scattercarpet\",\"marker\":{\"colorbar\":{\"outlinewidth\":0,\"ticks\":\"\"}}}],\"carpet\":[{\"aaxis\":{\"endlinecolor\":\"#2a3f5f\",\"gridcolor\":\"#C8D4E3\",\"linecolor\":\"#C8D4E3\",\"minorgridcolor\":\"#C8D4E3\",\"startlinecolor\":\"#2a3f5f\"},\"baxis\":{\"endlinecolor\":\"#2a3f5f\",\"gridcolor\":\"#C8D4E3\",\"linecolor\":\"#C8D4E3\",\"minorgridcolor\":\"#C8D4E3\",\"startlinecolor\":\"#2a3f5f\"},\"type\":\"carpet\"}],\"table\":[{\"cells\":{\"fill\":{\"color\":\"#EBF0F8\"},\"line\":{\"color\":\"white\"}},\"header\":{\"fill\":{\"color\":\"#C8D4E3\"},\"line\":{\"color\":\"white\"}},\"type\":\"table\"}],\"barpolar\":[{\"marker\":{\"line\":{\"color\":\"white\",\"width\":0.5},\"pattern\":{\"fillmode\":\"overlay\",\"size\":10,\"solidity\":0.2}},\"type\":\"barpolar\"}],\"pie\":[{\"automargin\":true,\"type\":\"pie\"}]},\"layout\":{\"autotypenumbers\":\"strict\",\"colorway\":[\"#636efa\",\"#EF553B\",\"#00cc96\",\"#ab63fa\",\"#FFA15A\",\"#19d3f3\",\"#FF6692\",\"#B6E880\",\"#FF97FF\",\"#FECB52\"],\"font\":{\"color\":\"#2a3f5f\"},\"hovermode\":\"closest\",\"hoverlabel\":{\"align\":\"left\"},\"paper_bgcolor\":\"white\",\"plot_bgcolor\":\"white\",\"polar\":{\"bgcolor\":\"white\",\"angularaxis\":{\"gridcolor\":\"#EBF0F8\",\"linecolor\":\"#EBF0F8\",\"ticks\":\"\"},\"radialaxis\":{\"gridcolor\":\"#EBF0F8\",\"linecolor\":\"#EBF0F8\",\"ticks\":\"\"}},\"ternary\":{\"bgcolor\":\"white\",\"aaxis\":{\"gridcolor\":\"#DFE8F3\",\"linecolor\":\"#A2B1C6\",\"ticks\":\"\"},\"baxis\":{\"gridcolor\":\"#DFE8F3\",\"linecolor\":\"#A2B1C6\",\"ticks\":\"\"},\"caxis\":{\"gridcolor\":\"#DFE8F3\",\"linecolor\":\"#A2B1C6\",\"ticks\":\"\"}},\"coloraxis\":{\"colorbar\":{\"outlinewidth\":0,\"ticks\":\"\"}},\"colorscale\":{\"sequential\":[[0.0,\"#0d0887\"],[0.1111111111111111,\"#46039f\"],[0.2222222222222222,\"#7201a8\"],[0.3333333333333333,\"#9c179e\"],[0.4444444444444444,\"#bd3786\"],[0.5555555555555556,\"#d8576b\"],[0.6666666666666666,\"#ed7953\"],[0.7777777777777778,\"#fb9f3a\"],[0.8888888888888888,\"#fdca26\"],[1.0,\"#f0f921\"]],\"sequentialminus\":[[0.0,\"#0d0887\"],[0.1111111111111111,\"#46039f\"],[0.2222222222222222,\"#7201a8\"],[0.3333333333333333,\"#9c179e\"],[0.4444444444444444,\"#bd3786\"],[0.5555555555555556,\"#d8576b\"],[0.6666666666666666,\"#ed7953\"],[0.7777777777777778,\"#fb9f3a\"],[0.8888888888888888,\"#fdca26\"],[1.0,\"#f0f921\"]],\"diverging\":[[0,\"#8e0152\"],[0.1,\"#c51b7d\"],[0.2,\"#de77ae\"],[0.3,\"#f1b6da\"],[0.4,\"#fde0ef\"],[0.5,\"#f7f7f7\"],[0.6,\"#e6f5d0\"],[0.7,\"#b8e186\"],[0.8,\"#7fbc41\"],[0.9,\"#4d9221\"],[1,\"#276419\"]]},\"xaxis\":{\"gridcolor\":\"#EBF0F8\",\"linecolor\":\"#EBF0F8\",\"ticks\":\"\",\"title\":{\"standoff\":15},\"zerolinecolor\":\"#EBF0F8\",\"automargin\":true,\"zerolinewidth\":2},\"yaxis\":{\"gridcolor\":\"#EBF0F8\",\"linecolor\":\"#EBF0F8\",\"ticks\":\"\",\"title\":{\"standoff\":15},\"zerolinecolor\":\"#EBF0F8\",\"automargin\":true,\"zerolinewidth\":2},\"scene\":{\"xaxis\":{\"backgroundcolor\":\"white\",\"gridcolor\":\"#DFE8F3\",\"linecolor\":\"#EBF0F8\",\"showbackground\":true,\"ticks\":\"\",\"zerolinecolor\":\"#EBF0F8\",\"gridwidth\":2},\"yaxis\":{\"backgroundcolor\":\"white\",\"gridcolor\":\"#DFE8F3\",\"linecolor\":\"#EBF0F8\",\"showbackground\":true,\"ticks\":\"\",\"zerolinecolor\":\"#EBF0F8\",\"gridwidth\":2},\"zaxis\":{\"backgroundcolor\":\"white\",\"gridcolor\":\"#DFE8F3\",\"linecolor\":\"#EBF0F8\",\"showbackground\":true,\"ticks\":\"\",\"zerolinecolor\":\"#EBF0F8\",\"gridwidth\":2}},\"shapedefaults\":{\"line\":{\"color\":\"#2a3f5f\"}},\"annotationdefaults\":{\"arrowcolor\":\"#2a3f5f\",\"arrowhead\":0,\"arrowwidth\":1},\"geo\":{\"bgcolor\":\"white\",\"landcolor\":\"white\",\"subunitcolor\":\"#C8D4E3\",\"showland\":true,\"showlakes\":true,\"lakecolor\":\"white\"},\"title\":{\"x\":0.05},\"mapbox\":{\"style\":\"light\"}}},\"xaxis\":{\"anchor\":\"y\",\"domain\":[0.0,1.0],\"title\":{\"text\":\"Variables\"}},\"yaxis\":{\"anchor\":\"x\",\"domain\":[0.0,1.0],\"title\":{\"text\":\"Estimated VIP\"}},\"legend\":{\"tracegroupgap\":0},\"title\":{\"text\":\"VIP scores of Historical PLS model\"},\"barmode\":\"relative\",\"shapes\":[{\"type\":\"line\",\"x0\":0,\"x1\":1,\"xref\":\"x domain\",\"y0\":1,\"y1\":1,\"yref\":\"y\"},{\"line\":{\"color\":\"gray\"},\"type\":\"line\",\"x0\":0,\"x1\":1,\"xref\":\"x domain\",\"y0\":0.8,\"y1\":0.8,\"yref\":\"y\"}],\"width\":1600},                        {\"responsive\": true}                    ).then(function(){\n",
       "                            \n",
       "var gd = document.getElementById('2ff79e8e-2098-4fce-9c53-392906964d46');\n",
       "var x = new MutationObserver(function (mutations, observer) {{\n",
       "        var display = window.getComputedStyle(gd).display;\n",
       "        if (!display || display === 'none') {{\n",
       "            console.log([gd, 'removed!']);\n",
       "            Plotly.purge(gd);\n",
       "            observer.disconnect();\n",
       "        }}\n",
       "}});\n",
       "\n",
       "// Listen for the removal of the full notebook cells\n",
       "var notebookContainer = gd.closest('#notebook-container');\n",
       "if (notebookContainer) {{\n",
       "    x.observe(notebookContainer, {childList: true});\n",
       "}}\n",
       "\n",
       "// Listen for the clearing of the current output cell\n",
       "var outputEl = gd.closest('.output');\n",
       "if (outputEl) {{\n",
       "    x.observe(outputEl, {childList: true});\n",
       "}}\n",
       "\n",
       "                        })                };                });            </script>        </div>"
      ]
     },
     "metadata": {},
     "output_type": "display_data"
    }
   ],
   "source": [
    "pipe = fit_hist_pls_model(\n",
    "    X=ZX_preproc,\n",
    "    y=tar,\n",
    "    latent_variables=LATENT_VARIABLES_HIST,\n",
    ")\n",
    "\n",
    "plot_hist_pls_model_coef(ZX_preproc, pls_pipeline=pipe)"
   ]
  },
  {
   "cell_type": "markdown",
   "metadata": {},
   "source": [
    "### Test"
   ]
  },
  {
   "cell_type": "code",
   "execution_count": 303,
   "metadata": {},
   "outputs": [
    {
     "data": {
      "application/vnd.plotly.v1+json": {
       "config": {
        "plotlyServerURL": "https://plot.ly"
       },
       "data": [
        {
         "mode": "markers",
         "type": "scatter",
         "x": [
          598.2145117811539,
          677.286485760024,
          962.4350388200675,
          376.47128383977974,
          749.0360751758775,
          609.6723561724535,
          734.4947499947726,
          736.7845196154994,
          546.2042000821999,
          909.6127156214135,
          815.9583992489415,
          657.2030461292619,
          821.9922100526519,
          909.1925202242863,
          442.43899855360496,
          659.6003392397972,
          736.2204919840465,
          726.2255606564651,
          612.0684664730786,
          939.0964006837039,
          955.1470347957396,
          578.6424523588773,
          674.8901082097983,
          910.8012914346239,
          676.5850123143858,
          812.4925623898673,
          408.12104029869994,
          1034.889209312743,
          1616.008650761448,
          1163.9810469742717,
          1710.1829597211827
         ],
         "xaxis": "x",
         "y": [
          644.9420928041093,
          696.4546942560818,
          909.9613488885448,
          383.29302950801366,
          765.7245337564627,
          622.1035227983161,
          706.528559962893,
          747.105444161625,
          538.9559417821986,
          948.4732489899641,
          799.1974916878024,
          619.0331944909046,
          792.8469678276406,
          927.8257889250542,
          457.51916402848985,
          598.6287132674818,
          735.2886942565192,
          738.4342966268309,
          621.5640671201639,
          981.1909334759482,
          893.2651655390221,
          536.0398129859466,
          735.9335964644706,
          919.5228085879784,
          692.8689602375678,
          810.5941026931232,
          463.19250950555096,
          965.076300167774,
          1613.7680259096385,
          1165.4334346696996,
          1731.1832933049034
         ],
         "yaxis": "y"
        },
        {
         "mode": "markers",
         "type": "scatter",
         "x": [
          2216.3971020674653,
          1740.4059733542372,
          1577.254773447464,
          1209.6745136328002,
          1103.5760897930825,
          1127.890886560569,
          1647.4136745039298,
          1356.2614739098437,
          1610.2672422667451,
          1927.6928415249351,
          1893.7831892521456,
          1443.319301111057,
          1240.0992254222554,
          1088.1897229222657,
          1277.316030212535,
          1321.6726446420448,
          1481.2762023112161,
          1087.0909830692501,
          1756.7390222942445
         ],
         "xaxis": "x2",
         "y": [
          1924.2512988550857,
          1635.390877033804,
          1484.80794826168,
          1313.4358152902628,
          945.8859942716894,
          1104.5048078683653,
          1614.20732801751,
          1384.3235670597296,
          1484.038097327064,
          1939.8753441168067,
          1638.1508256898858,
          1454.6219743109395,
          1103.797312363476,
          1091.300852020176,
          1185.1211890201903,
          1166.2054033442378,
          1407.3945525577078,
          952.805278134366,
          1557.2055711591174
         ],
         "yaxis": "y2"
        }
       ],
       "layout": {
        "annotations": [
         {
          "font": {
           "size": 16
          },
          "showarrow": false,
          "text": "Train Set <br> R^2 = 0.986 <br> Abs RMSE = 33.696 <br> Rel RMSE = 0.117",
          "x": 0.225,
          "xanchor": "center",
          "xref": "paper",
          "y": 1,
          "yanchor": "bottom",
          "yref": "paper"
         },
         {
          "font": {
           "size": 16
          },
          "showarrow": false,
          "text": "Test Set <br> R^2 = 0.821 <br> Abs RMSE = 133.597 <br> Rel RMSE = 0.422",
          "x": 0.775,
          "xanchor": "center",
          "xref": "paper",
          "y": 1,
          "yanchor": "bottom",
          "yref": "paper"
         }
        ],
        "shapes": [
         {
          "layer": "below",
          "line": {
           "dash": "dash"
          },
          "type": "line",
          "x0": 383.29302950801366,
          "x1": 1731.1832933049034,
          "y0": 383.29302950801366,
          "y1": 1731.1832933049034
         },
         {
          "layer": "below",
          "line": {
           "dash": "dash"
          },
          "type": "line",
          "x0": 945.8859942716894,
          "x1": 1939.8753441168067,
          "xref": "x2",
          "y0": 945.8859942716894,
          "y1": 1939.8753441168067,
          "yref": "y2"
         }
        ],
        "showlegend": false,
        "template": {
         "data": {
          "bar": [
           {
            "error_x": {
             "color": "#2a3f5f"
            },
            "error_y": {
             "color": "#2a3f5f"
            },
            "marker": {
             "line": {
              "color": "white",
              "width": 0.5
             },
             "pattern": {
              "fillmode": "overlay",
              "size": 10,
              "solidity": 0.2
             }
            },
            "type": "bar"
           }
          ],
          "barpolar": [
           {
            "marker": {
             "line": {
              "color": "white",
              "width": 0.5
             },
             "pattern": {
              "fillmode": "overlay",
              "size": 10,
              "solidity": 0.2
             }
            },
            "type": "barpolar"
           }
          ],
          "carpet": [
           {
            "aaxis": {
             "endlinecolor": "#2a3f5f",
             "gridcolor": "#C8D4E3",
             "linecolor": "#C8D4E3",
             "minorgridcolor": "#C8D4E3",
             "startlinecolor": "#2a3f5f"
            },
            "baxis": {
             "endlinecolor": "#2a3f5f",
             "gridcolor": "#C8D4E3",
             "linecolor": "#C8D4E3",
             "minorgridcolor": "#C8D4E3",
             "startlinecolor": "#2a3f5f"
            },
            "type": "carpet"
           }
          ],
          "choropleth": [
           {
            "colorbar": {
             "outlinewidth": 0,
             "ticks": ""
            },
            "type": "choropleth"
           }
          ],
          "contour": [
           {
            "colorbar": {
             "outlinewidth": 0,
             "ticks": ""
            },
            "colorscale": [
             [
              0,
              "#0d0887"
             ],
             [
              0.1111111111111111,
              "#46039f"
             ],
             [
              0.2222222222222222,
              "#7201a8"
             ],
             [
              0.3333333333333333,
              "#9c179e"
             ],
             [
              0.4444444444444444,
              "#bd3786"
             ],
             [
              0.5555555555555556,
              "#d8576b"
             ],
             [
              0.6666666666666666,
              "#ed7953"
             ],
             [
              0.7777777777777778,
              "#fb9f3a"
             ],
             [
              0.8888888888888888,
              "#fdca26"
             ],
             [
              1,
              "#f0f921"
             ]
            ],
            "type": "contour"
           }
          ],
          "contourcarpet": [
           {
            "colorbar": {
             "outlinewidth": 0,
             "ticks": ""
            },
            "type": "contourcarpet"
           }
          ],
          "heatmap": [
           {
            "colorbar": {
             "outlinewidth": 0,
             "ticks": ""
            },
            "colorscale": [
             [
              0,
              "#0d0887"
             ],
             [
              0.1111111111111111,
              "#46039f"
             ],
             [
              0.2222222222222222,
              "#7201a8"
             ],
             [
              0.3333333333333333,
              "#9c179e"
             ],
             [
              0.4444444444444444,
              "#bd3786"
             ],
             [
              0.5555555555555556,
              "#d8576b"
             ],
             [
              0.6666666666666666,
              "#ed7953"
             ],
             [
              0.7777777777777778,
              "#fb9f3a"
             ],
             [
              0.8888888888888888,
              "#fdca26"
             ],
             [
              1,
              "#f0f921"
             ]
            ],
            "type": "heatmap"
           }
          ],
          "heatmapgl": [
           {
            "colorbar": {
             "outlinewidth": 0,
             "ticks": ""
            },
            "colorscale": [
             [
              0,
              "#0d0887"
             ],
             [
              0.1111111111111111,
              "#46039f"
             ],
             [
              0.2222222222222222,
              "#7201a8"
             ],
             [
              0.3333333333333333,
              "#9c179e"
             ],
             [
              0.4444444444444444,
              "#bd3786"
             ],
             [
              0.5555555555555556,
              "#d8576b"
             ],
             [
              0.6666666666666666,
              "#ed7953"
             ],
             [
              0.7777777777777778,
              "#fb9f3a"
             ],
             [
              0.8888888888888888,
              "#fdca26"
             ],
             [
              1,
              "#f0f921"
             ]
            ],
            "type": "heatmapgl"
           }
          ],
          "histogram": [
           {
            "marker": {
             "pattern": {
              "fillmode": "overlay",
              "size": 10,
              "solidity": 0.2
             }
            },
            "type": "histogram"
           }
          ],
          "histogram2d": [
           {
            "colorbar": {
             "outlinewidth": 0,
             "ticks": ""
            },
            "colorscale": [
             [
              0,
              "#0d0887"
             ],
             [
              0.1111111111111111,
              "#46039f"
             ],
             [
              0.2222222222222222,
              "#7201a8"
             ],
             [
              0.3333333333333333,
              "#9c179e"
             ],
             [
              0.4444444444444444,
              "#bd3786"
             ],
             [
              0.5555555555555556,
              "#d8576b"
             ],
             [
              0.6666666666666666,
              "#ed7953"
             ],
             [
              0.7777777777777778,
              "#fb9f3a"
             ],
             [
              0.8888888888888888,
              "#fdca26"
             ],
             [
              1,
              "#f0f921"
             ]
            ],
            "type": "histogram2d"
           }
          ],
          "histogram2dcontour": [
           {
            "colorbar": {
             "outlinewidth": 0,
             "ticks": ""
            },
            "colorscale": [
             [
              0,
              "#0d0887"
             ],
             [
              0.1111111111111111,
              "#46039f"
             ],
             [
              0.2222222222222222,
              "#7201a8"
             ],
             [
              0.3333333333333333,
              "#9c179e"
             ],
             [
              0.4444444444444444,
              "#bd3786"
             ],
             [
              0.5555555555555556,
              "#d8576b"
             ],
             [
              0.6666666666666666,
              "#ed7953"
             ],
             [
              0.7777777777777778,
              "#fb9f3a"
             ],
             [
              0.8888888888888888,
              "#fdca26"
             ],
             [
              1,
              "#f0f921"
             ]
            ],
            "type": "histogram2dcontour"
           }
          ],
          "mesh3d": [
           {
            "colorbar": {
             "outlinewidth": 0,
             "ticks": ""
            },
            "type": "mesh3d"
           }
          ],
          "parcoords": [
           {
            "line": {
             "colorbar": {
              "outlinewidth": 0,
              "ticks": ""
             }
            },
            "type": "parcoords"
           }
          ],
          "pie": [
           {
            "automargin": true,
            "type": "pie"
           }
          ],
          "scatter": [
           {
            "fillpattern": {
             "fillmode": "overlay",
             "size": 10,
             "solidity": 0.2
            },
            "type": "scatter"
           }
          ],
          "scatter3d": [
           {
            "line": {
             "colorbar": {
              "outlinewidth": 0,
              "ticks": ""
             }
            },
            "marker": {
             "colorbar": {
              "outlinewidth": 0,
              "ticks": ""
             }
            },
            "type": "scatter3d"
           }
          ],
          "scattercarpet": [
           {
            "marker": {
             "colorbar": {
              "outlinewidth": 0,
              "ticks": ""
             }
            },
            "type": "scattercarpet"
           }
          ],
          "scattergeo": [
           {
            "marker": {
             "colorbar": {
              "outlinewidth": 0,
              "ticks": ""
             }
            },
            "type": "scattergeo"
           }
          ],
          "scattergl": [
           {
            "marker": {
             "colorbar": {
              "outlinewidth": 0,
              "ticks": ""
             }
            },
            "type": "scattergl"
           }
          ],
          "scattermapbox": [
           {
            "marker": {
             "colorbar": {
              "outlinewidth": 0,
              "ticks": ""
             }
            },
            "type": "scattermapbox"
           }
          ],
          "scatterpolar": [
           {
            "marker": {
             "colorbar": {
              "outlinewidth": 0,
              "ticks": ""
             }
            },
            "type": "scatterpolar"
           }
          ],
          "scatterpolargl": [
           {
            "marker": {
             "colorbar": {
              "outlinewidth": 0,
              "ticks": ""
             }
            },
            "type": "scatterpolargl"
           }
          ],
          "scatterternary": [
           {
            "marker": {
             "colorbar": {
              "outlinewidth": 0,
              "ticks": ""
             }
            },
            "type": "scatterternary"
           }
          ],
          "surface": [
           {
            "colorbar": {
             "outlinewidth": 0,
             "ticks": ""
            },
            "colorscale": [
             [
              0,
              "#0d0887"
             ],
             [
              0.1111111111111111,
              "#46039f"
             ],
             [
              0.2222222222222222,
              "#7201a8"
             ],
             [
              0.3333333333333333,
              "#9c179e"
             ],
             [
              0.4444444444444444,
              "#bd3786"
             ],
             [
              0.5555555555555556,
              "#d8576b"
             ],
             [
              0.6666666666666666,
              "#ed7953"
             ],
             [
              0.7777777777777778,
              "#fb9f3a"
             ],
             [
              0.8888888888888888,
              "#fdca26"
             ],
             [
              1,
              "#f0f921"
             ]
            ],
            "type": "surface"
           }
          ],
          "table": [
           {
            "cells": {
             "fill": {
              "color": "#EBF0F8"
             },
             "line": {
              "color": "white"
             }
            },
            "header": {
             "fill": {
              "color": "#C8D4E3"
             },
             "line": {
              "color": "white"
             }
            },
            "type": "table"
           }
          ]
         },
         "layout": {
          "annotationdefaults": {
           "arrowcolor": "#2a3f5f",
           "arrowhead": 0,
           "arrowwidth": 1
          },
          "autotypenumbers": "strict",
          "coloraxis": {
           "colorbar": {
            "outlinewidth": 0,
            "ticks": ""
           }
          },
          "colorscale": {
           "diverging": [
            [
             0,
             "#8e0152"
            ],
            [
             0.1,
             "#c51b7d"
            ],
            [
             0.2,
             "#de77ae"
            ],
            [
             0.3,
             "#f1b6da"
            ],
            [
             0.4,
             "#fde0ef"
            ],
            [
             0.5,
             "#f7f7f7"
            ],
            [
             0.6,
             "#e6f5d0"
            ],
            [
             0.7,
             "#b8e186"
            ],
            [
             0.8,
             "#7fbc41"
            ],
            [
             0.9,
             "#4d9221"
            ],
            [
             1,
             "#276419"
            ]
           ],
           "sequential": [
            [
             0,
             "#0d0887"
            ],
            [
             0.1111111111111111,
             "#46039f"
            ],
            [
             0.2222222222222222,
             "#7201a8"
            ],
            [
             0.3333333333333333,
             "#9c179e"
            ],
            [
             0.4444444444444444,
             "#bd3786"
            ],
            [
             0.5555555555555556,
             "#d8576b"
            ],
            [
             0.6666666666666666,
             "#ed7953"
            ],
            [
             0.7777777777777778,
             "#fb9f3a"
            ],
            [
             0.8888888888888888,
             "#fdca26"
            ],
            [
             1,
             "#f0f921"
            ]
           ],
           "sequentialminus": [
            [
             0,
             "#0d0887"
            ],
            [
             0.1111111111111111,
             "#46039f"
            ],
            [
             0.2222222222222222,
             "#7201a8"
            ],
            [
             0.3333333333333333,
             "#9c179e"
            ],
            [
             0.4444444444444444,
             "#bd3786"
            ],
            [
             0.5555555555555556,
             "#d8576b"
            ],
            [
             0.6666666666666666,
             "#ed7953"
            ],
            [
             0.7777777777777778,
             "#fb9f3a"
            ],
            [
             0.8888888888888888,
             "#fdca26"
            ],
            [
             1,
             "#f0f921"
            ]
           ]
          },
          "colorway": [
           "#636efa",
           "#EF553B",
           "#00cc96",
           "#ab63fa",
           "#FFA15A",
           "#19d3f3",
           "#FF6692",
           "#B6E880",
           "#FF97FF",
           "#FECB52"
          ],
          "font": {
           "color": "#2a3f5f"
          },
          "geo": {
           "bgcolor": "white",
           "lakecolor": "white",
           "landcolor": "white",
           "showlakes": true,
           "showland": true,
           "subunitcolor": "#C8D4E3"
          },
          "hoverlabel": {
           "align": "left"
          },
          "hovermode": "closest",
          "mapbox": {
           "style": "light"
          },
          "paper_bgcolor": "white",
          "plot_bgcolor": "white",
          "polar": {
           "angularaxis": {
            "gridcolor": "#EBF0F8",
            "linecolor": "#EBF0F8",
            "ticks": ""
           },
           "bgcolor": "white",
           "radialaxis": {
            "gridcolor": "#EBF0F8",
            "linecolor": "#EBF0F8",
            "ticks": ""
           }
          },
          "scene": {
           "xaxis": {
            "backgroundcolor": "white",
            "gridcolor": "#DFE8F3",
            "gridwidth": 2,
            "linecolor": "#EBF0F8",
            "showbackground": true,
            "ticks": "",
            "zerolinecolor": "#EBF0F8"
           },
           "yaxis": {
            "backgroundcolor": "white",
            "gridcolor": "#DFE8F3",
            "gridwidth": 2,
            "linecolor": "#EBF0F8",
            "showbackground": true,
            "ticks": "",
            "zerolinecolor": "#EBF0F8"
           },
           "zaxis": {
            "backgroundcolor": "white",
            "gridcolor": "#DFE8F3",
            "gridwidth": 2,
            "linecolor": "#EBF0F8",
            "showbackground": true,
            "ticks": "",
            "zerolinecolor": "#EBF0F8"
           }
          },
          "shapedefaults": {
           "line": {
            "color": "#2a3f5f"
           }
          },
          "ternary": {
           "aaxis": {
            "gridcolor": "#DFE8F3",
            "linecolor": "#A2B1C6",
            "ticks": ""
           },
           "baxis": {
            "gridcolor": "#DFE8F3",
            "linecolor": "#A2B1C6",
            "ticks": ""
           },
           "bgcolor": "white",
           "caxis": {
            "gridcolor": "#DFE8F3",
            "linecolor": "#A2B1C6",
            "ticks": ""
           }
          },
          "title": {
           "x": 0.05
          },
          "xaxis": {
           "automargin": true,
           "gridcolor": "#EBF0F8",
           "linecolor": "#EBF0F8",
           "ticks": "",
           "title": {
            "standoff": 15
           },
           "zerolinecolor": "#EBF0F8",
           "zerolinewidth": 2
          },
          "yaxis": {
           "automargin": true,
           "gridcolor": "#EBF0F8",
           "linecolor": "#EBF0F8",
           "ticks": "",
           "title": {
            "standoff": 15
           },
           "zerolinecolor": "#EBF0F8",
           "zerolinewidth": 2
          }
         }
        },
        "title": {
         "text": "Observed vs Predicted"
        },
        "width": 1600,
        "xaxis": {
         "anchor": "y",
         "domain": [
          0,
          0.45
         ]
        },
        "xaxis2": {
         "anchor": "y2",
         "domain": [
          0.55,
          1
         ]
        },
        "yaxis": {
         "anchor": "x",
         "domain": [
          0,
          1
         ]
        },
        "yaxis2": {
         "anchor": "x2",
         "domain": [
          0,
          1
         ]
        }
       }
      },
      "text/html": [
       "<div>                            <div id=\"b5815240-f7d3-4ddf-95fb-89efa87d69af\" class=\"plotly-graph-div\" style=\"height:525px; width:1600px;\"></div>            <script type=\"text/javascript\">                require([\"plotly\"], function(Plotly) {                    window.PLOTLYENV=window.PLOTLYENV || {};                                    if (document.getElementById(\"b5815240-f7d3-4ddf-95fb-89efa87d69af\")) {                    Plotly.newPlot(                        \"b5815240-f7d3-4ddf-95fb-89efa87d69af\",                        [{\"mode\":\"markers\",\"x\":[598.2145117811539,677.286485760024,962.4350388200675,376.47128383977974,749.0360751758775,609.6723561724535,734.4947499947726,736.7845196154994,546.2042000821999,909.6127156214135,815.9583992489415,657.2030461292619,821.9922100526519,909.1925202242863,442.43899855360496,659.6003392397972,736.2204919840465,726.2255606564651,612.0684664730786,939.0964006837039,955.1470347957396,578.6424523588773,674.8901082097983,910.8012914346239,676.5850123143858,812.4925623898673,408.12104029869994,1034.889209312743,1616.008650761448,1163.9810469742717,1710.1829597211827],\"y\":[644.9420928041093,696.4546942560818,909.9613488885448,383.29302950801366,765.7245337564627,622.1035227983161,706.528559962893,747.105444161625,538.9559417821986,948.4732489899641,799.1974916878024,619.0331944909046,792.8469678276406,927.8257889250542,457.51916402848985,598.6287132674818,735.2886942565192,738.4342966268309,621.5640671201639,981.1909334759482,893.2651655390221,536.0398129859466,735.9335964644706,919.5228085879784,692.8689602375678,810.5941026931232,463.19250950555096,965.076300167774,1613.7680259096385,1165.4334346696996,1731.1832933049034],\"type\":\"scatter\",\"xaxis\":\"x\",\"yaxis\":\"y\"},{\"mode\":\"markers\",\"x\":[2216.3971020674653,1740.4059733542372,1577.254773447464,1209.6745136328002,1103.5760897930825,1127.890886560569,1647.4136745039298,1356.2614739098437,1610.2672422667451,1927.6928415249351,1893.7831892521456,1443.319301111057,1240.0992254222554,1088.1897229222657,1277.316030212535,1321.6726446420448,1481.2762023112161,1087.0909830692501,1756.7390222942445],\"y\":[1924.2512988550857,1635.390877033804,1484.80794826168,1313.4358152902628,945.8859942716894,1104.5048078683653,1614.20732801751,1384.3235670597296,1484.038097327064,1939.8753441168067,1638.1508256898858,1454.6219743109395,1103.797312363476,1091.300852020176,1185.1211890201903,1166.2054033442378,1407.3945525577078,952.805278134366,1557.2055711591174],\"type\":\"scatter\",\"xaxis\":\"x2\",\"yaxis\":\"y2\"}],                        {\"template\":{\"data\":{\"histogram2dcontour\":[{\"type\":\"histogram2dcontour\",\"colorbar\":{\"outlinewidth\":0,\"ticks\":\"\"},\"colorscale\":[[0.0,\"#0d0887\"],[0.1111111111111111,\"#46039f\"],[0.2222222222222222,\"#7201a8\"],[0.3333333333333333,\"#9c179e\"],[0.4444444444444444,\"#bd3786\"],[0.5555555555555556,\"#d8576b\"],[0.6666666666666666,\"#ed7953\"],[0.7777777777777778,\"#fb9f3a\"],[0.8888888888888888,\"#fdca26\"],[1.0,\"#f0f921\"]]}],\"choropleth\":[{\"type\":\"choropleth\",\"colorbar\":{\"outlinewidth\":0,\"ticks\":\"\"}}],\"histogram2d\":[{\"type\":\"histogram2d\",\"colorbar\":{\"outlinewidth\":0,\"ticks\":\"\"},\"colorscale\":[[0.0,\"#0d0887\"],[0.1111111111111111,\"#46039f\"],[0.2222222222222222,\"#7201a8\"],[0.3333333333333333,\"#9c179e\"],[0.4444444444444444,\"#bd3786\"],[0.5555555555555556,\"#d8576b\"],[0.6666666666666666,\"#ed7953\"],[0.7777777777777778,\"#fb9f3a\"],[0.8888888888888888,\"#fdca26\"],[1.0,\"#f0f921\"]]}],\"heatmap\":[{\"type\":\"heatmap\",\"colorbar\":{\"outlinewidth\":0,\"ticks\":\"\"},\"colorscale\":[[0.0,\"#0d0887\"],[0.1111111111111111,\"#46039f\"],[0.2222222222222222,\"#7201a8\"],[0.3333333333333333,\"#9c179e\"],[0.4444444444444444,\"#bd3786\"],[0.5555555555555556,\"#d8576b\"],[0.6666666666666666,\"#ed7953\"],[0.7777777777777778,\"#fb9f3a\"],[0.8888888888888888,\"#fdca26\"],[1.0,\"#f0f921\"]]}],\"heatmapgl\":[{\"type\":\"heatmapgl\",\"colorbar\":{\"outlinewidth\":0,\"ticks\":\"\"},\"colorscale\":[[0.0,\"#0d0887\"],[0.1111111111111111,\"#46039f\"],[0.2222222222222222,\"#7201a8\"],[0.3333333333333333,\"#9c179e\"],[0.4444444444444444,\"#bd3786\"],[0.5555555555555556,\"#d8576b\"],[0.6666666666666666,\"#ed7953\"],[0.7777777777777778,\"#fb9f3a\"],[0.8888888888888888,\"#fdca26\"],[1.0,\"#f0f921\"]]}],\"contourcarpet\":[{\"type\":\"contourcarpet\",\"colorbar\":{\"outlinewidth\":0,\"ticks\":\"\"}}],\"contour\":[{\"type\":\"contour\",\"colorbar\":{\"outlinewidth\":0,\"ticks\":\"\"},\"colorscale\":[[0.0,\"#0d0887\"],[0.1111111111111111,\"#46039f\"],[0.2222222222222222,\"#7201a8\"],[0.3333333333333333,\"#9c179e\"],[0.4444444444444444,\"#bd3786\"],[0.5555555555555556,\"#d8576b\"],[0.6666666666666666,\"#ed7953\"],[0.7777777777777778,\"#fb9f3a\"],[0.8888888888888888,\"#fdca26\"],[1.0,\"#f0f921\"]]}],\"surface\":[{\"type\":\"surface\",\"colorbar\":{\"outlinewidth\":0,\"ticks\":\"\"},\"colorscale\":[[0.0,\"#0d0887\"],[0.1111111111111111,\"#46039f\"],[0.2222222222222222,\"#7201a8\"],[0.3333333333333333,\"#9c179e\"],[0.4444444444444444,\"#bd3786\"],[0.5555555555555556,\"#d8576b\"],[0.6666666666666666,\"#ed7953\"],[0.7777777777777778,\"#fb9f3a\"],[0.8888888888888888,\"#fdca26\"],[1.0,\"#f0f921\"]]}],\"mesh3d\":[{\"type\":\"mesh3d\",\"colorbar\":{\"outlinewidth\":0,\"ticks\":\"\"}}],\"scatter\":[{\"fillpattern\":{\"fillmode\":\"overlay\",\"size\":10,\"solidity\":0.2},\"type\":\"scatter\"}],\"parcoords\":[{\"type\":\"parcoords\",\"line\":{\"colorbar\":{\"outlinewidth\":0,\"ticks\":\"\"}}}],\"scatterpolargl\":[{\"type\":\"scatterpolargl\",\"marker\":{\"colorbar\":{\"outlinewidth\":0,\"ticks\":\"\"}}}],\"bar\":[{\"error_x\":{\"color\":\"#2a3f5f\"},\"error_y\":{\"color\":\"#2a3f5f\"},\"marker\":{\"line\":{\"color\":\"white\",\"width\":0.5},\"pattern\":{\"fillmode\":\"overlay\",\"size\":10,\"solidity\":0.2}},\"type\":\"bar\"}],\"scattergeo\":[{\"type\":\"scattergeo\",\"marker\":{\"colorbar\":{\"outlinewidth\":0,\"ticks\":\"\"}}}],\"scatterpolar\":[{\"type\":\"scatterpolar\",\"marker\":{\"colorbar\":{\"outlinewidth\":0,\"ticks\":\"\"}}}],\"histogram\":[{\"marker\":{\"pattern\":{\"fillmode\":\"overlay\",\"size\":10,\"solidity\":0.2}},\"type\":\"histogram\"}],\"scattergl\":[{\"type\":\"scattergl\",\"marker\":{\"colorbar\":{\"outlinewidth\":0,\"ticks\":\"\"}}}],\"scatter3d\":[{\"type\":\"scatter3d\",\"line\":{\"colorbar\":{\"outlinewidth\":0,\"ticks\":\"\"}},\"marker\":{\"colorbar\":{\"outlinewidth\":0,\"ticks\":\"\"}}}],\"scattermapbox\":[{\"type\":\"scattermapbox\",\"marker\":{\"colorbar\":{\"outlinewidth\":0,\"ticks\":\"\"}}}],\"scatterternary\":[{\"type\":\"scatterternary\",\"marker\":{\"colorbar\":{\"outlinewidth\":0,\"ticks\":\"\"}}}],\"scattercarpet\":[{\"type\":\"scattercarpet\",\"marker\":{\"colorbar\":{\"outlinewidth\":0,\"ticks\":\"\"}}}],\"carpet\":[{\"aaxis\":{\"endlinecolor\":\"#2a3f5f\",\"gridcolor\":\"#C8D4E3\",\"linecolor\":\"#C8D4E3\",\"minorgridcolor\":\"#C8D4E3\",\"startlinecolor\":\"#2a3f5f\"},\"baxis\":{\"endlinecolor\":\"#2a3f5f\",\"gridcolor\":\"#C8D4E3\",\"linecolor\":\"#C8D4E3\",\"minorgridcolor\":\"#C8D4E3\",\"startlinecolor\":\"#2a3f5f\"},\"type\":\"carpet\"}],\"table\":[{\"cells\":{\"fill\":{\"color\":\"#EBF0F8\"},\"line\":{\"color\":\"white\"}},\"header\":{\"fill\":{\"color\":\"#C8D4E3\"},\"line\":{\"color\":\"white\"}},\"type\":\"table\"}],\"barpolar\":[{\"marker\":{\"line\":{\"color\":\"white\",\"width\":0.5},\"pattern\":{\"fillmode\":\"overlay\",\"size\":10,\"solidity\":0.2}},\"type\":\"barpolar\"}],\"pie\":[{\"automargin\":true,\"type\":\"pie\"}]},\"layout\":{\"autotypenumbers\":\"strict\",\"colorway\":[\"#636efa\",\"#EF553B\",\"#00cc96\",\"#ab63fa\",\"#FFA15A\",\"#19d3f3\",\"#FF6692\",\"#B6E880\",\"#FF97FF\",\"#FECB52\"],\"font\":{\"color\":\"#2a3f5f\"},\"hovermode\":\"closest\",\"hoverlabel\":{\"align\":\"left\"},\"paper_bgcolor\":\"white\",\"plot_bgcolor\":\"white\",\"polar\":{\"bgcolor\":\"white\",\"angularaxis\":{\"gridcolor\":\"#EBF0F8\",\"linecolor\":\"#EBF0F8\",\"ticks\":\"\"},\"radialaxis\":{\"gridcolor\":\"#EBF0F8\",\"linecolor\":\"#EBF0F8\",\"ticks\":\"\"}},\"ternary\":{\"bgcolor\":\"white\",\"aaxis\":{\"gridcolor\":\"#DFE8F3\",\"linecolor\":\"#A2B1C6\",\"ticks\":\"\"},\"baxis\":{\"gridcolor\":\"#DFE8F3\",\"linecolor\":\"#A2B1C6\",\"ticks\":\"\"},\"caxis\":{\"gridcolor\":\"#DFE8F3\",\"linecolor\":\"#A2B1C6\",\"ticks\":\"\"}},\"coloraxis\":{\"colorbar\":{\"outlinewidth\":0,\"ticks\":\"\"}},\"colorscale\":{\"sequential\":[[0.0,\"#0d0887\"],[0.1111111111111111,\"#46039f\"],[0.2222222222222222,\"#7201a8\"],[0.3333333333333333,\"#9c179e\"],[0.4444444444444444,\"#bd3786\"],[0.5555555555555556,\"#d8576b\"],[0.6666666666666666,\"#ed7953\"],[0.7777777777777778,\"#fb9f3a\"],[0.8888888888888888,\"#fdca26\"],[1.0,\"#f0f921\"]],\"sequentialminus\":[[0.0,\"#0d0887\"],[0.1111111111111111,\"#46039f\"],[0.2222222222222222,\"#7201a8\"],[0.3333333333333333,\"#9c179e\"],[0.4444444444444444,\"#bd3786\"],[0.5555555555555556,\"#d8576b\"],[0.6666666666666666,\"#ed7953\"],[0.7777777777777778,\"#fb9f3a\"],[0.8888888888888888,\"#fdca26\"],[1.0,\"#f0f921\"]],\"diverging\":[[0,\"#8e0152\"],[0.1,\"#c51b7d\"],[0.2,\"#de77ae\"],[0.3,\"#f1b6da\"],[0.4,\"#fde0ef\"],[0.5,\"#f7f7f7\"],[0.6,\"#e6f5d0\"],[0.7,\"#b8e186\"],[0.8,\"#7fbc41\"],[0.9,\"#4d9221\"],[1,\"#276419\"]]},\"xaxis\":{\"gridcolor\":\"#EBF0F8\",\"linecolor\":\"#EBF0F8\",\"ticks\":\"\",\"title\":{\"standoff\":15},\"zerolinecolor\":\"#EBF0F8\",\"automargin\":true,\"zerolinewidth\":2},\"yaxis\":{\"gridcolor\":\"#EBF0F8\",\"linecolor\":\"#EBF0F8\",\"ticks\":\"\",\"title\":{\"standoff\":15},\"zerolinecolor\":\"#EBF0F8\",\"automargin\":true,\"zerolinewidth\":2},\"scene\":{\"xaxis\":{\"backgroundcolor\":\"white\",\"gridcolor\":\"#DFE8F3\",\"linecolor\":\"#EBF0F8\",\"showbackground\":true,\"ticks\":\"\",\"zerolinecolor\":\"#EBF0F8\",\"gridwidth\":2},\"yaxis\":{\"backgroundcolor\":\"white\",\"gridcolor\":\"#DFE8F3\",\"linecolor\":\"#EBF0F8\",\"showbackground\":true,\"ticks\":\"\",\"zerolinecolor\":\"#EBF0F8\",\"gridwidth\":2},\"zaxis\":{\"backgroundcolor\":\"white\",\"gridcolor\":\"#DFE8F3\",\"linecolor\":\"#EBF0F8\",\"showbackground\":true,\"ticks\":\"\",\"zerolinecolor\":\"#EBF0F8\",\"gridwidth\":2}},\"shapedefaults\":{\"line\":{\"color\":\"#2a3f5f\"}},\"annotationdefaults\":{\"arrowcolor\":\"#2a3f5f\",\"arrowhead\":0,\"arrowwidth\":1},\"geo\":{\"bgcolor\":\"white\",\"landcolor\":\"white\",\"subunitcolor\":\"#C8D4E3\",\"showland\":true,\"showlakes\":true,\"lakecolor\":\"white\"},\"title\":{\"x\":0.05},\"mapbox\":{\"style\":\"light\"}}},\"xaxis\":{\"anchor\":\"y\",\"domain\":[0.0,0.45]},\"yaxis\":{\"anchor\":\"x\",\"domain\":[0.0,1.0]},\"xaxis2\":{\"anchor\":\"y2\",\"domain\":[0.55,1.0]},\"yaxis2\":{\"anchor\":\"x2\",\"domain\":[0.0,1.0]},\"annotations\":[{\"font\":{\"size\":16},\"showarrow\":false,\"text\":\"Train Set \\u003cbr\\u003e R^2 = 0.986 \\u003cbr\\u003e Abs RMSE = 33.696 \\u003cbr\\u003e Rel RMSE = 0.117\",\"x\":0.225,\"xanchor\":\"center\",\"xref\":\"paper\",\"y\":1.0,\"yanchor\":\"bottom\",\"yref\":\"paper\"},{\"font\":{\"size\":16},\"showarrow\":false,\"text\":\"Test Set \\u003cbr\\u003e R^2 = 0.821 \\u003cbr\\u003e Abs RMSE = 133.597 \\u003cbr\\u003e Rel RMSE = 0.422\",\"x\":0.775,\"xanchor\":\"center\",\"xref\":\"paper\",\"y\":1.0,\"yanchor\":\"bottom\",\"yref\":\"paper\"}],\"shapes\":[{\"layer\":\"below\",\"line\":{\"dash\":\"dash\"},\"type\":\"line\",\"x0\":383.29302950801366,\"x1\":1731.1832933049034,\"y0\":383.29302950801366,\"y1\":1731.1832933049034},{\"layer\":\"below\",\"line\":{\"dash\":\"dash\"},\"type\":\"line\",\"x0\":945.8859942716894,\"x1\":1939.8753441168067,\"xref\":\"x2\",\"y0\":945.8859942716894,\"y1\":1939.8753441168067,\"yref\":\"y2\"}],\"title\":{\"text\":\"Observed vs Predicted\"},\"showlegend\":false,\"width\":1600},                        {\"responsive\": true}                    ).then(function(){\n",
       "                            \n",
       "var gd = document.getElementById('b5815240-f7d3-4ddf-95fb-89efa87d69af');\n",
       "var x = new MutationObserver(function (mutations, observer) {{\n",
       "        var display = window.getComputedStyle(gd).display;\n",
       "        if (!display || display === 'none') {{\n",
       "            console.log([gd, 'removed!']);\n",
       "            Plotly.purge(gd);\n",
       "            observer.disconnect();\n",
       "        }}\n",
       "}});\n",
       "\n",
       "// Listen for the removal of the full notebook cells\n",
       "var notebookContainer = gd.closest('#notebook-container');\n",
       "if (notebookContainer) {{\n",
       "    x.observe(notebookContainer, {childList: true});\n",
       "}}\n",
       "\n",
       "// Listen for the clearing of the current output cell\n",
       "var outputEl = gd.closest('.output');\n",
       "if (outputEl) {{\n",
       "    x.observe(outputEl, {childList: true});\n",
       "}}\n",
       "\n",
       "                        })                };                });            </script>        </div>"
      ]
     },
     "metadata": {},
     "output_type": "display_data"
    }
   ],
   "source": [
    "# Make predictions for training\n",
    "y = tar\n",
    "y_pred = pipe.predict(ZX_preproc)\n",
    "\n",
    "# Make predictions for testing\n",
    "ZX_test_preproc = preprocess(Z=doe_test, X=bwu_test, process_history=PROCESS_HISTORY, \n",
    "\t\t\t\t\t   input_variables=INPUT_VARIABLES)\n",
    "y_test = tar_test\n",
    "y_test_pred = pipe.predict(ZX_test_preproc)\n",
    "\n",
    "\n",
    "# Plot\n",
    "plot_hist_pls_model_eval(\n",
    "    y, y_pred, y_test, y_test_pred,\n",
    ")"
   ]
  },
  {
   "cell_type": "markdown",
   "metadata": {},
   "source": [
    "### PCA"
   ]
  },
  {
   "cell_type": "code",
   "execution_count": 304,
   "metadata": {},
   "outputs": [
    {
     "data": {
      "application/vnd.plotly.v1+json": {
       "config": {
        "plotlyServerURL": "https://plot.ly"
       },
       "data": [
        {
         "mode": "markers",
         "name": "Scores",
         "type": "scatter",
         "x": [
          -0.18792906365124326,
          0.01934265515031093,
          0.5139767476307744,
          0.4570748496638985,
          -0.9647876954166446,
          -1.2033512097617693,
          1.0034241474665406,
          -0.8853619003749786,
          -1.174446835697392,
          0.1285039897265201,
          0.023905551743114463,
          -1.1903693055969515,
          -1.2622318928796978,
          -3.0592028439427383,
          -0.5143250039197282,
          -0.3799093927465857,
          0.47003707280045565,
          0.37720091997652844,
          -0.29801339179807124,
          -0.7230811166193669,
          -1.7046931139855737,
          3.043473832152454,
          -2.591257479297908,
          -2.9543191854779427,
          1.3686569096227206,
          0.13337816554615764,
          3.1411737760276415,
          0.23723652882881896,
          1.7879414805607765,
          1.2584254066772795,
          5.1295273975926
         ],
         "xaxis": "x",
         "y": [
          0.9077485092553363,
          1.2481163900349659,
          2.945281437899932,
          -1.8521365318710687,
          0.967954845065989,
          0.06445511963863651,
          0.4077560696803151,
          -0.44321535277139146,
          -3.123335178448743,
          1.3395281083706578,
          1.259020393509669,
          -1.3942373771098504,
          0.2618727411151826,
          0.12233691343163693,
          -2.7452625613255006,
          1.3774295213967398,
          0.7528805622411472,
          1.5915239866416655,
          0.9682035643397972,
          0.04932481257798276,
          -0.28758224191880505,
          -0.11779821078581403,
          2.208087608544385,
          -2.005867419768471,
          -2.1226069333762303,
          -2.582296916521597,
          0.04078946405581719,
          -0.05662759812757813,
          0.36274446203800603,
          0.9727061800495574,
          -1.1167943678623693
         ],
         "yaxis": "y"
        },
        {
         "name": "Loadings PC - 1",
         "type": "bar",
         "xaxis": "x2",
         "y": [
          0.05136562770507621,
          0.0122508604224261,
          -0.1054377365734704,
          -0.08378698615531349,
          0.008893087031529471,
          0.0291809554998471,
          0.05822141802431938,
          0.10656950589121246,
          0.16584155558524,
          0.20462497398913881,
          0.2233586067073719,
          0.23243207367858096,
          0.23447254612495103,
          0.22956393226596553,
          0.22332621008085152,
          0.217003929089667,
          0.21089421985157428,
          0.20587095013212642,
          -0.085723603210628,
          -0.10525500964575817,
          -0.1366283579648743,
          -0.1762318833556277,
          -0.2059079900554309,
          -0.22211335120807854,
          -0.2296916402838988,
          -0.23279627046241144,
          -0.23167097514350657,
          -0.22570553418556835,
          -0.22112222272943324,
          -0.2229695443748384,
          -0.22407956456828404
         ],
         "yaxis": "y2"
        },
        {
         "name": "Loadings PC - 2",
         "type": "bar",
         "xaxis": "x3",
         "y": [
          -0.20970252632306896,
          0.22527669123458113,
          -0.03427458591369526,
          0.2258988517553209,
          -0.20574343408526027,
          -0.1722972097951815,
          -0.09526623937194731,
          0.018409726708077986,
          0.1112458684193225,
          0.13360802902870134,
          0.12545874851458158,
          0.12212060263841845,
          0.134017319361677,
          0.17031510578770706,
          0.19838497702556154,
          0.21552690935519256,
          0.22603079701298992,
          0.23316023961834625,
          0.2324844918287265,
          0.28473337498011425,
          0.3392827012420731,
          0.3312901658136215,
          0.2851808095147847,
          0.2270626144668799,
          0.17615888080280237,
          0.13582284193148408,
          0.12520200632624223,
          0.1421854393498106,
          0.12854704186128718,
          0.11235302915363671,
          0.10015478780391858
         ],
         "yaxis": "y3"
        }
       ],
       "layout": {
        "annotations": [
         {
          "font": {
           "size": 16
          },
          "showarrow": false,
          "text": "Scores Plot ",
          "x": 0.5,
          "xanchor": "center",
          "xref": "paper",
          "y": 1,
          "yanchor": "bottom",
          "yref": "paper"
         },
         {
          "font": {
           "size": 16
          },
          "showarrow": false,
          "text": "Loadings of Principal Component - 1",
          "x": 0.225,
          "xanchor": "center",
          "xref": "paper",
          "y": 0.375,
          "yanchor": "bottom",
          "yref": "paper"
         },
         {
          "font": {
           "size": 16
          },
          "showarrow": false,
          "text": "Loadings of Principal Component - 2",
          "x": 0.775,
          "xanchor": "center",
          "xref": "paper",
          "y": 0.375,
          "yanchor": "bottom",
          "yref": "paper"
         }
        ],
        "height": 1000,
        "template": {
         "data": {
          "bar": [
           {
            "error_x": {
             "color": "#2a3f5f"
            },
            "error_y": {
             "color": "#2a3f5f"
            },
            "marker": {
             "line": {
              "color": "white",
              "width": 0.5
             },
             "pattern": {
              "fillmode": "overlay",
              "size": 10,
              "solidity": 0.2
             }
            },
            "type": "bar"
           }
          ],
          "barpolar": [
           {
            "marker": {
             "line": {
              "color": "white",
              "width": 0.5
             },
             "pattern": {
              "fillmode": "overlay",
              "size": 10,
              "solidity": 0.2
             }
            },
            "type": "barpolar"
           }
          ],
          "carpet": [
           {
            "aaxis": {
             "endlinecolor": "#2a3f5f",
             "gridcolor": "#C8D4E3",
             "linecolor": "#C8D4E3",
             "minorgridcolor": "#C8D4E3",
             "startlinecolor": "#2a3f5f"
            },
            "baxis": {
             "endlinecolor": "#2a3f5f",
             "gridcolor": "#C8D4E3",
             "linecolor": "#C8D4E3",
             "minorgridcolor": "#C8D4E3",
             "startlinecolor": "#2a3f5f"
            },
            "type": "carpet"
           }
          ],
          "choropleth": [
           {
            "colorbar": {
             "outlinewidth": 0,
             "ticks": ""
            },
            "type": "choropleth"
           }
          ],
          "contour": [
           {
            "colorbar": {
             "outlinewidth": 0,
             "ticks": ""
            },
            "colorscale": [
             [
              0,
              "#0d0887"
             ],
             [
              0.1111111111111111,
              "#46039f"
             ],
             [
              0.2222222222222222,
              "#7201a8"
             ],
             [
              0.3333333333333333,
              "#9c179e"
             ],
             [
              0.4444444444444444,
              "#bd3786"
             ],
             [
              0.5555555555555556,
              "#d8576b"
             ],
             [
              0.6666666666666666,
              "#ed7953"
             ],
             [
              0.7777777777777778,
              "#fb9f3a"
             ],
             [
              0.8888888888888888,
              "#fdca26"
             ],
             [
              1,
              "#f0f921"
             ]
            ],
            "type": "contour"
           }
          ],
          "contourcarpet": [
           {
            "colorbar": {
             "outlinewidth": 0,
             "ticks": ""
            },
            "type": "contourcarpet"
           }
          ],
          "heatmap": [
           {
            "colorbar": {
             "outlinewidth": 0,
             "ticks": ""
            },
            "colorscale": [
             [
              0,
              "#0d0887"
             ],
             [
              0.1111111111111111,
              "#46039f"
             ],
             [
              0.2222222222222222,
              "#7201a8"
             ],
             [
              0.3333333333333333,
              "#9c179e"
             ],
             [
              0.4444444444444444,
              "#bd3786"
             ],
             [
              0.5555555555555556,
              "#d8576b"
             ],
             [
              0.6666666666666666,
              "#ed7953"
             ],
             [
              0.7777777777777778,
              "#fb9f3a"
             ],
             [
              0.8888888888888888,
              "#fdca26"
             ],
             [
              1,
              "#f0f921"
             ]
            ],
            "type": "heatmap"
           }
          ],
          "heatmapgl": [
           {
            "colorbar": {
             "outlinewidth": 0,
             "ticks": ""
            },
            "colorscale": [
             [
              0,
              "#0d0887"
             ],
             [
              0.1111111111111111,
              "#46039f"
             ],
             [
              0.2222222222222222,
              "#7201a8"
             ],
             [
              0.3333333333333333,
              "#9c179e"
             ],
             [
              0.4444444444444444,
              "#bd3786"
             ],
             [
              0.5555555555555556,
              "#d8576b"
             ],
             [
              0.6666666666666666,
              "#ed7953"
             ],
             [
              0.7777777777777778,
              "#fb9f3a"
             ],
             [
              0.8888888888888888,
              "#fdca26"
             ],
             [
              1,
              "#f0f921"
             ]
            ],
            "type": "heatmapgl"
           }
          ],
          "histogram": [
           {
            "marker": {
             "pattern": {
              "fillmode": "overlay",
              "size": 10,
              "solidity": 0.2
             }
            },
            "type": "histogram"
           }
          ],
          "histogram2d": [
           {
            "colorbar": {
             "outlinewidth": 0,
             "ticks": ""
            },
            "colorscale": [
             [
              0,
              "#0d0887"
             ],
             [
              0.1111111111111111,
              "#46039f"
             ],
             [
              0.2222222222222222,
              "#7201a8"
             ],
             [
              0.3333333333333333,
              "#9c179e"
             ],
             [
              0.4444444444444444,
              "#bd3786"
             ],
             [
              0.5555555555555556,
              "#d8576b"
             ],
             [
              0.6666666666666666,
              "#ed7953"
             ],
             [
              0.7777777777777778,
              "#fb9f3a"
             ],
             [
              0.8888888888888888,
              "#fdca26"
             ],
             [
              1,
              "#f0f921"
             ]
            ],
            "type": "histogram2d"
           }
          ],
          "histogram2dcontour": [
           {
            "colorbar": {
             "outlinewidth": 0,
             "ticks": ""
            },
            "colorscale": [
             [
              0,
              "#0d0887"
             ],
             [
              0.1111111111111111,
              "#46039f"
             ],
             [
              0.2222222222222222,
              "#7201a8"
             ],
             [
              0.3333333333333333,
              "#9c179e"
             ],
             [
              0.4444444444444444,
              "#bd3786"
             ],
             [
              0.5555555555555556,
              "#d8576b"
             ],
             [
              0.6666666666666666,
              "#ed7953"
             ],
             [
              0.7777777777777778,
              "#fb9f3a"
             ],
             [
              0.8888888888888888,
              "#fdca26"
             ],
             [
              1,
              "#f0f921"
             ]
            ],
            "type": "histogram2dcontour"
           }
          ],
          "mesh3d": [
           {
            "colorbar": {
             "outlinewidth": 0,
             "ticks": ""
            },
            "type": "mesh3d"
           }
          ],
          "parcoords": [
           {
            "line": {
             "colorbar": {
              "outlinewidth": 0,
              "ticks": ""
             }
            },
            "type": "parcoords"
           }
          ],
          "pie": [
           {
            "automargin": true,
            "type": "pie"
           }
          ],
          "scatter": [
           {
            "fillpattern": {
             "fillmode": "overlay",
             "size": 10,
             "solidity": 0.2
            },
            "type": "scatter"
           }
          ],
          "scatter3d": [
           {
            "line": {
             "colorbar": {
              "outlinewidth": 0,
              "ticks": ""
             }
            },
            "marker": {
             "colorbar": {
              "outlinewidth": 0,
              "ticks": ""
             }
            },
            "type": "scatter3d"
           }
          ],
          "scattercarpet": [
           {
            "marker": {
             "colorbar": {
              "outlinewidth": 0,
              "ticks": ""
             }
            },
            "type": "scattercarpet"
           }
          ],
          "scattergeo": [
           {
            "marker": {
             "colorbar": {
              "outlinewidth": 0,
              "ticks": ""
             }
            },
            "type": "scattergeo"
           }
          ],
          "scattergl": [
           {
            "marker": {
             "colorbar": {
              "outlinewidth": 0,
              "ticks": ""
             }
            },
            "type": "scattergl"
           }
          ],
          "scattermapbox": [
           {
            "marker": {
             "colorbar": {
              "outlinewidth": 0,
              "ticks": ""
             }
            },
            "type": "scattermapbox"
           }
          ],
          "scatterpolar": [
           {
            "marker": {
             "colorbar": {
              "outlinewidth": 0,
              "ticks": ""
             }
            },
            "type": "scatterpolar"
           }
          ],
          "scatterpolargl": [
           {
            "marker": {
             "colorbar": {
              "outlinewidth": 0,
              "ticks": ""
             }
            },
            "type": "scatterpolargl"
           }
          ],
          "scatterternary": [
           {
            "marker": {
             "colorbar": {
              "outlinewidth": 0,
              "ticks": ""
             }
            },
            "type": "scatterternary"
           }
          ],
          "surface": [
           {
            "colorbar": {
             "outlinewidth": 0,
             "ticks": ""
            },
            "colorscale": [
             [
              0,
              "#0d0887"
             ],
             [
              0.1111111111111111,
              "#46039f"
             ],
             [
              0.2222222222222222,
              "#7201a8"
             ],
             [
              0.3333333333333333,
              "#9c179e"
             ],
             [
              0.4444444444444444,
              "#bd3786"
             ],
             [
              0.5555555555555556,
              "#d8576b"
             ],
             [
              0.6666666666666666,
              "#ed7953"
             ],
             [
              0.7777777777777778,
              "#fb9f3a"
             ],
             [
              0.8888888888888888,
              "#fdca26"
             ],
             [
              1,
              "#f0f921"
             ]
            ],
            "type": "surface"
           }
          ],
          "table": [
           {
            "cells": {
             "fill": {
              "color": "#EBF0F8"
             },
             "line": {
              "color": "white"
             }
            },
            "header": {
             "fill": {
              "color": "#C8D4E3"
             },
             "line": {
              "color": "white"
             }
            },
            "type": "table"
           }
          ]
         },
         "layout": {
          "annotationdefaults": {
           "arrowcolor": "#2a3f5f",
           "arrowhead": 0,
           "arrowwidth": 1
          },
          "autotypenumbers": "strict",
          "coloraxis": {
           "colorbar": {
            "outlinewidth": 0,
            "ticks": ""
           }
          },
          "colorscale": {
           "diverging": [
            [
             0,
             "#8e0152"
            ],
            [
             0.1,
             "#c51b7d"
            ],
            [
             0.2,
             "#de77ae"
            ],
            [
             0.3,
             "#f1b6da"
            ],
            [
             0.4,
             "#fde0ef"
            ],
            [
             0.5,
             "#f7f7f7"
            ],
            [
             0.6,
             "#e6f5d0"
            ],
            [
             0.7,
             "#b8e186"
            ],
            [
             0.8,
             "#7fbc41"
            ],
            [
             0.9,
             "#4d9221"
            ],
            [
             1,
             "#276419"
            ]
           ],
           "sequential": [
            [
             0,
             "#0d0887"
            ],
            [
             0.1111111111111111,
             "#46039f"
            ],
            [
             0.2222222222222222,
             "#7201a8"
            ],
            [
             0.3333333333333333,
             "#9c179e"
            ],
            [
             0.4444444444444444,
             "#bd3786"
            ],
            [
             0.5555555555555556,
             "#d8576b"
            ],
            [
             0.6666666666666666,
             "#ed7953"
            ],
            [
             0.7777777777777778,
             "#fb9f3a"
            ],
            [
             0.8888888888888888,
             "#fdca26"
            ],
            [
             1,
             "#f0f921"
            ]
           ],
           "sequentialminus": [
            [
             0,
             "#0d0887"
            ],
            [
             0.1111111111111111,
             "#46039f"
            ],
            [
             0.2222222222222222,
             "#7201a8"
            ],
            [
             0.3333333333333333,
             "#9c179e"
            ],
            [
             0.4444444444444444,
             "#bd3786"
            ],
            [
             0.5555555555555556,
             "#d8576b"
            ],
            [
             0.6666666666666666,
             "#ed7953"
            ],
            [
             0.7777777777777778,
             "#fb9f3a"
            ],
            [
             0.8888888888888888,
             "#fdca26"
            ],
            [
             1,
             "#f0f921"
            ]
           ]
          },
          "colorway": [
           "#636efa",
           "#EF553B",
           "#00cc96",
           "#ab63fa",
           "#FFA15A",
           "#19d3f3",
           "#FF6692",
           "#B6E880",
           "#FF97FF",
           "#FECB52"
          ],
          "font": {
           "color": "#2a3f5f"
          },
          "geo": {
           "bgcolor": "white",
           "lakecolor": "white",
           "landcolor": "white",
           "showlakes": true,
           "showland": true,
           "subunitcolor": "#C8D4E3"
          },
          "hoverlabel": {
           "align": "left"
          },
          "hovermode": "closest",
          "mapbox": {
           "style": "light"
          },
          "paper_bgcolor": "white",
          "plot_bgcolor": "white",
          "polar": {
           "angularaxis": {
            "gridcolor": "#EBF0F8",
            "linecolor": "#EBF0F8",
            "ticks": ""
           },
           "bgcolor": "white",
           "radialaxis": {
            "gridcolor": "#EBF0F8",
            "linecolor": "#EBF0F8",
            "ticks": ""
           }
          },
          "scene": {
           "xaxis": {
            "backgroundcolor": "white",
            "gridcolor": "#DFE8F3",
            "gridwidth": 2,
            "linecolor": "#EBF0F8",
            "showbackground": true,
            "ticks": "",
            "zerolinecolor": "#EBF0F8"
           },
           "yaxis": {
            "backgroundcolor": "white",
            "gridcolor": "#DFE8F3",
            "gridwidth": 2,
            "linecolor": "#EBF0F8",
            "showbackground": true,
            "ticks": "",
            "zerolinecolor": "#EBF0F8"
           },
           "zaxis": {
            "backgroundcolor": "white",
            "gridcolor": "#DFE8F3",
            "gridwidth": 2,
            "linecolor": "#EBF0F8",
            "showbackground": true,
            "ticks": "",
            "zerolinecolor": "#EBF0F8"
           }
          },
          "shapedefaults": {
           "line": {
            "color": "#2a3f5f"
           }
          },
          "ternary": {
           "aaxis": {
            "gridcolor": "#DFE8F3",
            "linecolor": "#A2B1C6",
            "ticks": ""
           },
           "baxis": {
            "gridcolor": "#DFE8F3",
            "linecolor": "#A2B1C6",
            "ticks": ""
           },
           "bgcolor": "white",
           "caxis": {
            "gridcolor": "#DFE8F3",
            "linecolor": "#A2B1C6",
            "ticks": ""
           }
          },
          "title": {
           "x": 0.05
          },
          "xaxis": {
           "automargin": true,
           "gridcolor": "#EBF0F8",
           "linecolor": "#EBF0F8",
           "ticks": "",
           "title": {
            "standoff": 15
           },
           "zerolinecolor": "#EBF0F8",
           "zerolinewidth": 2
          },
          "yaxis": {
           "automargin": true,
           "gridcolor": "#EBF0F8",
           "linecolor": "#EBF0F8",
           "ticks": "",
           "title": {
            "standoff": 15
           },
           "zerolinecolor": "#EBF0F8",
           "zerolinewidth": 2
          }
         }
        },
        "xaxis": {
         "anchor": "y",
         "domain": [
          0,
          1
         ]
        },
        "xaxis2": {
         "anchor": "y2",
         "domain": [
          0,
          0.45
         ]
        },
        "xaxis3": {
         "anchor": "y3",
         "domain": [
          0.55,
          1
         ]
        },
        "yaxis": {
         "anchor": "x",
         "domain": [
          0.625,
          1
         ]
        },
        "yaxis2": {
         "anchor": "x2",
         "domain": [
          0,
          0.375
         ]
        },
        "yaxis3": {
         "anchor": "x3",
         "domain": [
          0,
          0.375
         ]
        }
       }
      },
      "text/html": [
       "<div>                            <div id=\"71e54994-baa4-4446-82ab-b470f724daa5\" class=\"plotly-graph-div\" style=\"height:1000px; width:100%;\"></div>            <script type=\"text/javascript\">                require([\"plotly\"], function(Plotly) {                    window.PLOTLYENV=window.PLOTLYENV || {};                                    if (document.getElementById(\"71e54994-baa4-4446-82ab-b470f724daa5\")) {                    Plotly.newPlot(                        \"71e54994-baa4-4446-82ab-b470f724daa5\",                        [{\"mode\":\"markers\",\"name\":\"Scores\",\"x\":[-0.18792906365124326,0.01934265515031093,0.5139767476307744,0.4570748496638985,-0.9647876954166446,-1.2033512097617693,1.0034241474665406,-0.8853619003749786,-1.174446835697392,0.1285039897265201,0.023905551743114463,-1.1903693055969515,-1.2622318928796978,-3.0592028439427383,-0.5143250039197282,-0.3799093927465857,0.47003707280045565,0.37720091997652844,-0.29801339179807124,-0.7230811166193669,-1.7046931139855737,3.043473832152454,-2.591257479297908,-2.9543191854779427,1.3686569096227206,0.13337816554615764,3.1411737760276415,0.23723652882881896,1.7879414805607765,1.2584254066772795,5.1295273975926],\"y\":[0.9077485092553363,1.2481163900349659,2.945281437899932,-1.8521365318710687,0.967954845065989,0.06445511963863651,0.4077560696803151,-0.44321535277139146,-3.123335178448743,1.3395281083706578,1.259020393509669,-1.3942373771098504,0.2618727411151826,0.12233691343163693,-2.7452625613255006,1.3774295213967398,0.7528805622411472,1.5915239866416655,0.9682035643397972,0.04932481257798276,-0.28758224191880505,-0.11779821078581403,2.208087608544385,-2.005867419768471,-2.1226069333762303,-2.582296916521597,0.04078946405581719,-0.05662759812757813,0.36274446203800603,0.9727061800495574,-1.1167943678623693],\"type\":\"scatter\",\"xaxis\":\"x\",\"yaxis\":\"y\"},{\"name\":\"Loadings PC - 1\",\"y\":[0.05136562770507621,0.0122508604224261,-0.1054377365734704,-0.08378698615531349,0.008893087031529471,0.0291809554998471,0.05822141802431938,0.10656950589121246,0.16584155558524,0.20462497398913881,0.2233586067073719,0.23243207367858096,0.23447254612495103,0.22956393226596553,0.22332621008085152,0.217003929089667,0.21089421985157428,0.20587095013212642,-0.085723603210628,-0.10525500964575817,-0.1366283579648743,-0.1762318833556277,-0.2059079900554309,-0.22211335120807854,-0.2296916402838988,-0.23279627046241144,-0.23167097514350657,-0.22570553418556835,-0.22112222272943324,-0.2229695443748384,-0.22407956456828404],\"type\":\"bar\",\"xaxis\":\"x2\",\"yaxis\":\"y2\"},{\"name\":\"Loadings PC - 2\",\"y\":[-0.20970252632306896,0.22527669123458113,-0.03427458591369526,0.2258988517553209,-0.20574343408526027,-0.1722972097951815,-0.09526623937194731,0.018409726708077986,0.1112458684193225,0.13360802902870134,0.12545874851458158,0.12212060263841845,0.134017319361677,0.17031510578770706,0.19838497702556154,0.21552690935519256,0.22603079701298992,0.23316023961834625,0.2324844918287265,0.28473337498011425,0.3392827012420731,0.3312901658136215,0.2851808095147847,0.2270626144668799,0.17615888080280237,0.13582284193148408,0.12520200632624223,0.1421854393498106,0.12854704186128718,0.11235302915363671,0.10015478780391858],\"type\":\"bar\",\"xaxis\":\"x3\",\"yaxis\":\"y3\"}],                        {\"template\":{\"data\":{\"histogram2dcontour\":[{\"type\":\"histogram2dcontour\",\"colorbar\":{\"outlinewidth\":0,\"ticks\":\"\"},\"colorscale\":[[0.0,\"#0d0887\"],[0.1111111111111111,\"#46039f\"],[0.2222222222222222,\"#7201a8\"],[0.3333333333333333,\"#9c179e\"],[0.4444444444444444,\"#bd3786\"],[0.5555555555555556,\"#d8576b\"],[0.6666666666666666,\"#ed7953\"],[0.7777777777777778,\"#fb9f3a\"],[0.8888888888888888,\"#fdca26\"],[1.0,\"#f0f921\"]]}],\"choropleth\":[{\"type\":\"choropleth\",\"colorbar\":{\"outlinewidth\":0,\"ticks\":\"\"}}],\"histogram2d\":[{\"type\":\"histogram2d\",\"colorbar\":{\"outlinewidth\":0,\"ticks\":\"\"},\"colorscale\":[[0.0,\"#0d0887\"],[0.1111111111111111,\"#46039f\"],[0.2222222222222222,\"#7201a8\"],[0.3333333333333333,\"#9c179e\"],[0.4444444444444444,\"#bd3786\"],[0.5555555555555556,\"#d8576b\"],[0.6666666666666666,\"#ed7953\"],[0.7777777777777778,\"#fb9f3a\"],[0.8888888888888888,\"#fdca26\"],[1.0,\"#f0f921\"]]}],\"heatmap\":[{\"type\":\"heatmap\",\"colorbar\":{\"outlinewidth\":0,\"ticks\":\"\"},\"colorscale\":[[0.0,\"#0d0887\"],[0.1111111111111111,\"#46039f\"],[0.2222222222222222,\"#7201a8\"],[0.3333333333333333,\"#9c179e\"],[0.4444444444444444,\"#bd3786\"],[0.5555555555555556,\"#d8576b\"],[0.6666666666666666,\"#ed7953\"],[0.7777777777777778,\"#fb9f3a\"],[0.8888888888888888,\"#fdca26\"],[1.0,\"#f0f921\"]]}],\"heatmapgl\":[{\"type\":\"heatmapgl\",\"colorbar\":{\"outlinewidth\":0,\"ticks\":\"\"},\"colorscale\":[[0.0,\"#0d0887\"],[0.1111111111111111,\"#46039f\"],[0.2222222222222222,\"#7201a8\"],[0.3333333333333333,\"#9c179e\"],[0.4444444444444444,\"#bd3786\"],[0.5555555555555556,\"#d8576b\"],[0.6666666666666666,\"#ed7953\"],[0.7777777777777778,\"#fb9f3a\"],[0.8888888888888888,\"#fdca26\"],[1.0,\"#f0f921\"]]}],\"contourcarpet\":[{\"type\":\"contourcarpet\",\"colorbar\":{\"outlinewidth\":0,\"ticks\":\"\"}}],\"contour\":[{\"type\":\"contour\",\"colorbar\":{\"outlinewidth\":0,\"ticks\":\"\"},\"colorscale\":[[0.0,\"#0d0887\"],[0.1111111111111111,\"#46039f\"],[0.2222222222222222,\"#7201a8\"],[0.3333333333333333,\"#9c179e\"],[0.4444444444444444,\"#bd3786\"],[0.5555555555555556,\"#d8576b\"],[0.6666666666666666,\"#ed7953\"],[0.7777777777777778,\"#fb9f3a\"],[0.8888888888888888,\"#fdca26\"],[1.0,\"#f0f921\"]]}],\"surface\":[{\"type\":\"surface\",\"colorbar\":{\"outlinewidth\":0,\"ticks\":\"\"},\"colorscale\":[[0.0,\"#0d0887\"],[0.1111111111111111,\"#46039f\"],[0.2222222222222222,\"#7201a8\"],[0.3333333333333333,\"#9c179e\"],[0.4444444444444444,\"#bd3786\"],[0.5555555555555556,\"#d8576b\"],[0.6666666666666666,\"#ed7953\"],[0.7777777777777778,\"#fb9f3a\"],[0.8888888888888888,\"#fdca26\"],[1.0,\"#f0f921\"]]}],\"mesh3d\":[{\"type\":\"mesh3d\",\"colorbar\":{\"outlinewidth\":0,\"ticks\":\"\"}}],\"scatter\":[{\"fillpattern\":{\"fillmode\":\"overlay\",\"size\":10,\"solidity\":0.2},\"type\":\"scatter\"}],\"parcoords\":[{\"type\":\"parcoords\",\"line\":{\"colorbar\":{\"outlinewidth\":0,\"ticks\":\"\"}}}],\"scatterpolargl\":[{\"type\":\"scatterpolargl\",\"marker\":{\"colorbar\":{\"outlinewidth\":0,\"ticks\":\"\"}}}],\"bar\":[{\"error_x\":{\"color\":\"#2a3f5f\"},\"error_y\":{\"color\":\"#2a3f5f\"},\"marker\":{\"line\":{\"color\":\"white\",\"width\":0.5},\"pattern\":{\"fillmode\":\"overlay\",\"size\":10,\"solidity\":0.2}},\"type\":\"bar\"}],\"scattergeo\":[{\"type\":\"scattergeo\",\"marker\":{\"colorbar\":{\"outlinewidth\":0,\"ticks\":\"\"}}}],\"scatterpolar\":[{\"type\":\"scatterpolar\",\"marker\":{\"colorbar\":{\"outlinewidth\":0,\"ticks\":\"\"}}}],\"histogram\":[{\"marker\":{\"pattern\":{\"fillmode\":\"overlay\",\"size\":10,\"solidity\":0.2}},\"type\":\"histogram\"}],\"scattergl\":[{\"type\":\"scattergl\",\"marker\":{\"colorbar\":{\"outlinewidth\":0,\"ticks\":\"\"}}}],\"scatter3d\":[{\"type\":\"scatter3d\",\"line\":{\"colorbar\":{\"outlinewidth\":0,\"ticks\":\"\"}},\"marker\":{\"colorbar\":{\"outlinewidth\":0,\"ticks\":\"\"}}}],\"scattermapbox\":[{\"type\":\"scattermapbox\",\"marker\":{\"colorbar\":{\"outlinewidth\":0,\"ticks\":\"\"}}}],\"scatterternary\":[{\"type\":\"scatterternary\",\"marker\":{\"colorbar\":{\"outlinewidth\":0,\"ticks\":\"\"}}}],\"scattercarpet\":[{\"type\":\"scattercarpet\",\"marker\":{\"colorbar\":{\"outlinewidth\":0,\"ticks\":\"\"}}}],\"carpet\":[{\"aaxis\":{\"endlinecolor\":\"#2a3f5f\",\"gridcolor\":\"#C8D4E3\",\"linecolor\":\"#C8D4E3\",\"minorgridcolor\":\"#C8D4E3\",\"startlinecolor\":\"#2a3f5f\"},\"baxis\":{\"endlinecolor\":\"#2a3f5f\",\"gridcolor\":\"#C8D4E3\",\"linecolor\":\"#C8D4E3\",\"minorgridcolor\":\"#C8D4E3\",\"startlinecolor\":\"#2a3f5f\"},\"type\":\"carpet\"}],\"table\":[{\"cells\":{\"fill\":{\"color\":\"#EBF0F8\"},\"line\":{\"color\":\"white\"}},\"header\":{\"fill\":{\"color\":\"#C8D4E3\"},\"line\":{\"color\":\"white\"}},\"type\":\"table\"}],\"barpolar\":[{\"marker\":{\"line\":{\"color\":\"white\",\"width\":0.5},\"pattern\":{\"fillmode\":\"overlay\",\"size\":10,\"solidity\":0.2}},\"type\":\"barpolar\"}],\"pie\":[{\"automargin\":true,\"type\":\"pie\"}]},\"layout\":{\"autotypenumbers\":\"strict\",\"colorway\":[\"#636efa\",\"#EF553B\",\"#00cc96\",\"#ab63fa\",\"#FFA15A\",\"#19d3f3\",\"#FF6692\",\"#B6E880\",\"#FF97FF\",\"#FECB52\"],\"font\":{\"color\":\"#2a3f5f\"},\"hovermode\":\"closest\",\"hoverlabel\":{\"align\":\"left\"},\"paper_bgcolor\":\"white\",\"plot_bgcolor\":\"white\",\"polar\":{\"bgcolor\":\"white\",\"angularaxis\":{\"gridcolor\":\"#EBF0F8\",\"linecolor\":\"#EBF0F8\",\"ticks\":\"\"},\"radialaxis\":{\"gridcolor\":\"#EBF0F8\",\"linecolor\":\"#EBF0F8\",\"ticks\":\"\"}},\"ternary\":{\"bgcolor\":\"white\",\"aaxis\":{\"gridcolor\":\"#DFE8F3\",\"linecolor\":\"#A2B1C6\",\"ticks\":\"\"},\"baxis\":{\"gridcolor\":\"#DFE8F3\",\"linecolor\":\"#A2B1C6\",\"ticks\":\"\"},\"caxis\":{\"gridcolor\":\"#DFE8F3\",\"linecolor\":\"#A2B1C6\",\"ticks\":\"\"}},\"coloraxis\":{\"colorbar\":{\"outlinewidth\":0,\"ticks\":\"\"}},\"colorscale\":{\"sequential\":[[0.0,\"#0d0887\"],[0.1111111111111111,\"#46039f\"],[0.2222222222222222,\"#7201a8\"],[0.3333333333333333,\"#9c179e\"],[0.4444444444444444,\"#bd3786\"],[0.5555555555555556,\"#d8576b\"],[0.6666666666666666,\"#ed7953\"],[0.7777777777777778,\"#fb9f3a\"],[0.8888888888888888,\"#fdca26\"],[1.0,\"#f0f921\"]],\"sequentialminus\":[[0.0,\"#0d0887\"],[0.1111111111111111,\"#46039f\"],[0.2222222222222222,\"#7201a8\"],[0.3333333333333333,\"#9c179e\"],[0.4444444444444444,\"#bd3786\"],[0.5555555555555556,\"#d8576b\"],[0.6666666666666666,\"#ed7953\"],[0.7777777777777778,\"#fb9f3a\"],[0.8888888888888888,\"#fdca26\"],[1.0,\"#f0f921\"]],\"diverging\":[[0,\"#8e0152\"],[0.1,\"#c51b7d\"],[0.2,\"#de77ae\"],[0.3,\"#f1b6da\"],[0.4,\"#fde0ef\"],[0.5,\"#f7f7f7\"],[0.6,\"#e6f5d0\"],[0.7,\"#b8e186\"],[0.8,\"#7fbc41\"],[0.9,\"#4d9221\"],[1,\"#276419\"]]},\"xaxis\":{\"gridcolor\":\"#EBF0F8\",\"linecolor\":\"#EBF0F8\",\"ticks\":\"\",\"title\":{\"standoff\":15},\"zerolinecolor\":\"#EBF0F8\",\"automargin\":true,\"zerolinewidth\":2},\"yaxis\":{\"gridcolor\":\"#EBF0F8\",\"linecolor\":\"#EBF0F8\",\"ticks\":\"\",\"title\":{\"standoff\":15},\"zerolinecolor\":\"#EBF0F8\",\"automargin\":true,\"zerolinewidth\":2},\"scene\":{\"xaxis\":{\"backgroundcolor\":\"white\",\"gridcolor\":\"#DFE8F3\",\"linecolor\":\"#EBF0F8\",\"showbackground\":true,\"ticks\":\"\",\"zerolinecolor\":\"#EBF0F8\",\"gridwidth\":2},\"yaxis\":{\"backgroundcolor\":\"white\",\"gridcolor\":\"#DFE8F3\",\"linecolor\":\"#EBF0F8\",\"showbackground\":true,\"ticks\":\"\",\"zerolinecolor\":\"#EBF0F8\",\"gridwidth\":2},\"zaxis\":{\"backgroundcolor\":\"white\",\"gridcolor\":\"#DFE8F3\",\"linecolor\":\"#EBF0F8\",\"showbackground\":true,\"ticks\":\"\",\"zerolinecolor\":\"#EBF0F8\",\"gridwidth\":2}},\"shapedefaults\":{\"line\":{\"color\":\"#2a3f5f\"}},\"annotationdefaults\":{\"arrowcolor\":\"#2a3f5f\",\"arrowhead\":0,\"arrowwidth\":1},\"geo\":{\"bgcolor\":\"white\",\"landcolor\":\"white\",\"subunitcolor\":\"#C8D4E3\",\"showland\":true,\"showlakes\":true,\"lakecolor\":\"white\"},\"title\":{\"x\":0.05},\"mapbox\":{\"style\":\"light\"}}},\"xaxis\":{\"anchor\":\"y\",\"domain\":[0.0,1.0]},\"yaxis\":{\"anchor\":\"x\",\"domain\":[0.625,1.0]},\"xaxis2\":{\"anchor\":\"y2\",\"domain\":[0.0,0.45]},\"yaxis2\":{\"anchor\":\"x2\",\"domain\":[0.0,0.375]},\"xaxis3\":{\"anchor\":\"y3\",\"domain\":[0.55,1.0]},\"yaxis3\":{\"anchor\":\"x3\",\"domain\":[0.0,0.375]},\"annotations\":[{\"font\":{\"size\":16},\"showarrow\":false,\"text\":\"Scores Plot \",\"x\":0.5,\"xanchor\":\"center\",\"xref\":\"paper\",\"y\":1.0,\"yanchor\":\"bottom\",\"yref\":\"paper\"},{\"font\":{\"size\":16},\"showarrow\":false,\"text\":\"Loadings of Principal Component - 1\",\"x\":0.225,\"xanchor\":\"center\",\"xref\":\"paper\",\"y\":0.375,\"yanchor\":\"bottom\",\"yref\":\"paper\"},{\"font\":{\"size\":16},\"showarrow\":false,\"text\":\"Loadings of Principal Component - 2\",\"x\":0.775,\"xanchor\":\"center\",\"xref\":\"paper\",\"y\":0.375,\"yanchor\":\"bottom\",\"yref\":\"paper\"}],\"height\":1000},                        {\"responsive\": true}                    ).then(function(){\n",
       "                            \n",
       "var gd = document.getElementById('71e54994-baa4-4446-82ab-b470f724daa5');\n",
       "var x = new MutationObserver(function (mutations, observer) {{\n",
       "        var display = window.getComputedStyle(gd).display;\n",
       "        if (!display || display === 'none') {{\n",
       "            console.log([gd, 'removed!']);\n",
       "            Plotly.purge(gd);\n",
       "            observer.disconnect();\n",
       "        }}\n",
       "}});\n",
       "\n",
       "// Listen for the removal of the full notebook cells\n",
       "var notebookContainer = gd.closest('#notebook-container');\n",
       "if (notebookContainer) {{\n",
       "    x.observe(notebookContainer, {childList: true});\n",
       "}}\n",
       "\n",
       "// Listen for the clearing of the current output cell\n",
       "var outputEl = gd.closest('.output');\n",
       "if (outputEl) {{\n",
       "    x.observe(outputEl, {childList: true});\n",
       "}}\n",
       "\n",
       "                        })                };                });            </script>        </div>"
      ]
     },
     "metadata": {},
     "output_type": "display_data"
    }
   ],
   "source": [
    "plot_hist_pls_scores(pipe, pc_x_axis=1, pc_y_axis=2)"
   ]
  },
  {
   "cell_type": "markdown",
   "metadata": {},
   "source": [
    "### K-Fold\n",
    "\n",
    "- Use a typical cross-validation to define the optimal number of latent variables.\n",
    "- This is repeated for different numbers of latent variables. \n",
    "\t- Nfold PLS models are trained using (Nfolds-1) folds. For each model, the sum of squared residuals (SSR) is calculated and summed up.\n",
    "\t- Each model is then evaluated on the remaining unused fold. \n",
    "- The number of latent variables returning the least value of the RMSE is chosen as optimal.\n",
    "- A second criterion is selected, namely the adjusted R-squared (adj. R^2), which is weighting the effect of the number of latent variables\n",
    "\t- if two values of the number of latent variables are returning a similar value of the SSR, then the one using less variables is chosen to be more likely to produce robust predictions:\n",
    "\n"
   ]
  },
  {
   "cell_type": "code",
   "execution_count": 305,
   "metadata": {},
   "outputs": [
    {
     "name": "stderr",
     "output_type": "stream",
     "text": [
      "/home/tim/anaconda3/envs/aima/lib/python3.10/site-packages/sklearn/cross_decomposition/_pls.py:336: UserWarning:\n",
      "\n",
      "y residual is constant at iteration 28\n",
      "\n",
      "/home/tim/anaconda3/envs/aima/lib/python3.10/site-packages/sklearn/cross_decomposition/_pls.py:336: UserWarning:\n",
      "\n",
      "y residual is constant at iteration 28\n",
      "\n",
      "/home/tim/anaconda3/envs/aima/lib/python3.10/site-packages/sklearn/cross_decomposition/_pls.py:336: UserWarning:\n",
      "\n",
      "y residual is constant at iteration 28\n",
      "\n",
      "/home/tim/anaconda3/envs/aima/lib/python3.10/site-packages/sklearn/cross_decomposition/_pls.py:336: UserWarning:\n",
      "\n",
      "y residual is constant at iteration 27\n",
      "\n",
      "/home/tim/anaconda3/envs/aima/lib/python3.10/site-packages/sklearn/cross_decomposition/_pls.py:336: UserWarning:\n",
      "\n",
      "y residual is constant at iteration 27\n",
      "\n",
      "/home/tim/anaconda3/envs/aima/lib/python3.10/site-packages/sklearn/cross_decomposition/_pls.py:336: UserWarning:\n",
      "\n",
      "y residual is constant at iteration 27\n",
      "\n",
      "/home/tim/anaconda3/envs/aima/lib/python3.10/site-packages/sklearn/cross_decomposition/_pls.py:336: UserWarning:\n",
      "\n",
      "y residual is constant at iteration 27\n",
      "\n",
      "/home/tim/anaconda3/envs/aima/lib/python3.10/site-packages/sklearn/cross_decomposition/_pls.py:336: UserWarning:\n",
      "\n",
      "y residual is constant at iteration 30\n",
      "\n"
     ]
    }
   ],
   "source": [
    "train_eval, valid_eval, range_LV = hist_pls_cross_validation(X=ZX_preproc, y=tar, pls_pipeline=pipe)"
   ]
  },
  {
   "cell_type": "code",
   "execution_count": 306,
   "metadata": {},
   "outputs": [
    {
     "data": {
      "application/vnd.plotly.v1+json": {
       "config": {
        "plotlyServerURL": "https://plot.ly"
       },
       "data": [
        {
         "error_y": {
          "array": [
           23.061790483048668,
           15.989724818510757,
           14.20502639958328,
           13.278472354878998,
           12.725360727237456,
           10.932459003734206,
           9.900156713909793,
           7.0360298529208665,
           6.177827804973081,
           7.078462719769829,
           5.444506957369484,
           4.819312799048679,
           4.60523856998205,
           4.908844777555573,
           4.623394233598739,
           4.012223972535656,
           1.8686757283742434,
           2.322004136458449,
           2.661269931073091,
           4.659251845835868,
           4.768491022958633,
           2.793338120847664,
           2.6492999319984514,
           5.6365140776484555e-12,
           5.09047493337365e-11,
           3.6081605027765515e-11,
           1.183795908157409e-10,
           1.2276421227695325e-10,
           8.719979072471833e-10,
           2.307328929172915e-10,
           2.682549133283073e-9
          ],
          "type": "data",
          "visible": true
         },
         "name": "Training",
         "type": "scatter",
         "x": [
          1,
          2,
          3,
          4,
          5,
          6,
          7,
          8,
          9,
          10,
          11,
          12,
          13,
          14,
          15,
          16,
          17,
          18,
          19,
          20,
          21,
          22,
          23,
          24,
          25,
          26,
          27,
          28,
          29,
          30,
          31
         ],
         "y": [
          115.2070835243255,
          80.89235112020992,
          69.58667374676403,
          65.83796698754239,
          62.89626537038596,
          58.21221027550073,
          54.83518214651866,
          47.83081037052072,
          43.801784869978036,
          39.65276959178554,
          36.70263170794662,
          30.929816322010556,
          29.486543147167275,
          27.892377649284686,
          26.85102032348113,
          25.880838643697224,
          22.835810776555526,
          19.362057405649825,
          17.337316717172246,
          13.612245438704662,
          10.085314327439946,
          5.696726791050979,
          2.142415112269759,
          1.2845017199355376e-11,
          9.211184565653421e-11,
          1.307836214890504e-10,
          1.8131985034891104e-10,
          2.0918745817703433e-10,
          6.45011404211079e-10,
          3.344026588540299e-10,
          1.762487527288155e-9
         ]
        },
        {
         "error_y": {
          "array": [
           111.21543719597882,
           102.24161277053163,
           75.70486232094217,
           73.69046885531854,
           67.17605480198972,
           50.72943320157443,
           56.05594990136759,
           54.39099753811353,
           68.71154957535765,
           67.3924017058114,
           67.43571467672425,
           64.022335143496,
           60.84357696313772,
           47.99770489877122,
           48.170988499054694,
           58.51499207659702,
           68.12719974745832,
           69.37505812228916,
           102.85700189436123,
           106.1046014936455,
           78.52000881037591,
           142.57680503906272,
           145.4101741987661,
           192.05940934502323,
           156.0143651378562,
           178.03487835955428,
           159.86903507075996,
           161.9548969384502,
           195.0649439394404,
           277.13000060807155,
           274.31361938268685
          ],
          "type": "data",
          "visible": true
         },
         "name": "Validation",
         "type": "scatter",
         "x": [
          1,
          2,
          3,
          4,
          5,
          6,
          7,
          8,
          9,
          10,
          11,
          12,
          13,
          14,
          15,
          16,
          17,
          18,
          19,
          20,
          21,
          22,
          23,
          24,
          25,
          26,
          27,
          28,
          29,
          30,
          31
         ],
         "y": [
          166.92501729006327,
          157.865564144036,
          131.04523741404898,
          122.1119725635624,
          122.8468688375925,
          125.10105837258034,
          132.5950325864947,
          124.49929961924946,
          128.7904518694438,
          117.70397243729835,
          118.49766311743761,
          115.3694824796174,
          110.35899328016463,
          100.78455241038891,
          104.91056576708095,
          123.18660330379808,
          185.98256069097835,
          204.14269427817158,
          224.48242778629688,
          223.5129770197456,
          202.86707369415026,
          277.12264384425333,
          289.32406823428664,
          344.15938913382297,
          289.0273194416623,
          307.80213608545387,
          300.14393689289903,
          315.26190588215314,
          393.3475277441728,
          456.6019219994467,
          417.63103771719153
         ]
        }
       ],
       "layout": {
        "legend": {
         "title": {
          "text": "Evaluation type"
         }
        },
        "template": {
         "data": {
          "bar": [
           {
            "error_x": {
             "color": "#2a3f5f"
            },
            "error_y": {
             "color": "#2a3f5f"
            },
            "marker": {
             "line": {
              "color": "white",
              "width": 0.5
             },
             "pattern": {
              "fillmode": "overlay",
              "size": 10,
              "solidity": 0.2
             }
            },
            "type": "bar"
           }
          ],
          "barpolar": [
           {
            "marker": {
             "line": {
              "color": "white",
              "width": 0.5
             },
             "pattern": {
              "fillmode": "overlay",
              "size": 10,
              "solidity": 0.2
             }
            },
            "type": "barpolar"
           }
          ],
          "carpet": [
           {
            "aaxis": {
             "endlinecolor": "#2a3f5f",
             "gridcolor": "#C8D4E3",
             "linecolor": "#C8D4E3",
             "minorgridcolor": "#C8D4E3",
             "startlinecolor": "#2a3f5f"
            },
            "baxis": {
             "endlinecolor": "#2a3f5f",
             "gridcolor": "#C8D4E3",
             "linecolor": "#C8D4E3",
             "minorgridcolor": "#C8D4E3",
             "startlinecolor": "#2a3f5f"
            },
            "type": "carpet"
           }
          ],
          "choropleth": [
           {
            "colorbar": {
             "outlinewidth": 0,
             "ticks": ""
            },
            "type": "choropleth"
           }
          ],
          "contour": [
           {
            "colorbar": {
             "outlinewidth": 0,
             "ticks": ""
            },
            "colorscale": [
             [
              0,
              "#0d0887"
             ],
             [
              0.1111111111111111,
              "#46039f"
             ],
             [
              0.2222222222222222,
              "#7201a8"
             ],
             [
              0.3333333333333333,
              "#9c179e"
             ],
             [
              0.4444444444444444,
              "#bd3786"
             ],
             [
              0.5555555555555556,
              "#d8576b"
             ],
             [
              0.6666666666666666,
              "#ed7953"
             ],
             [
              0.7777777777777778,
              "#fb9f3a"
             ],
             [
              0.8888888888888888,
              "#fdca26"
             ],
             [
              1,
              "#f0f921"
             ]
            ],
            "type": "contour"
           }
          ],
          "contourcarpet": [
           {
            "colorbar": {
             "outlinewidth": 0,
             "ticks": ""
            },
            "type": "contourcarpet"
           }
          ],
          "heatmap": [
           {
            "colorbar": {
             "outlinewidth": 0,
             "ticks": ""
            },
            "colorscale": [
             [
              0,
              "#0d0887"
             ],
             [
              0.1111111111111111,
              "#46039f"
             ],
             [
              0.2222222222222222,
              "#7201a8"
             ],
             [
              0.3333333333333333,
              "#9c179e"
             ],
             [
              0.4444444444444444,
              "#bd3786"
             ],
             [
              0.5555555555555556,
              "#d8576b"
             ],
             [
              0.6666666666666666,
              "#ed7953"
             ],
             [
              0.7777777777777778,
              "#fb9f3a"
             ],
             [
              0.8888888888888888,
              "#fdca26"
             ],
             [
              1,
              "#f0f921"
             ]
            ],
            "type": "heatmap"
           }
          ],
          "heatmapgl": [
           {
            "colorbar": {
             "outlinewidth": 0,
             "ticks": ""
            },
            "colorscale": [
             [
              0,
              "#0d0887"
             ],
             [
              0.1111111111111111,
              "#46039f"
             ],
             [
              0.2222222222222222,
              "#7201a8"
             ],
             [
              0.3333333333333333,
              "#9c179e"
             ],
             [
              0.4444444444444444,
              "#bd3786"
             ],
             [
              0.5555555555555556,
              "#d8576b"
             ],
             [
              0.6666666666666666,
              "#ed7953"
             ],
             [
              0.7777777777777778,
              "#fb9f3a"
             ],
             [
              0.8888888888888888,
              "#fdca26"
             ],
             [
              1,
              "#f0f921"
             ]
            ],
            "type": "heatmapgl"
           }
          ],
          "histogram": [
           {
            "marker": {
             "pattern": {
              "fillmode": "overlay",
              "size": 10,
              "solidity": 0.2
             }
            },
            "type": "histogram"
           }
          ],
          "histogram2d": [
           {
            "colorbar": {
             "outlinewidth": 0,
             "ticks": ""
            },
            "colorscale": [
             [
              0,
              "#0d0887"
             ],
             [
              0.1111111111111111,
              "#46039f"
             ],
             [
              0.2222222222222222,
              "#7201a8"
             ],
             [
              0.3333333333333333,
              "#9c179e"
             ],
             [
              0.4444444444444444,
              "#bd3786"
             ],
             [
              0.5555555555555556,
              "#d8576b"
             ],
             [
              0.6666666666666666,
              "#ed7953"
             ],
             [
              0.7777777777777778,
              "#fb9f3a"
             ],
             [
              0.8888888888888888,
              "#fdca26"
             ],
             [
              1,
              "#f0f921"
             ]
            ],
            "type": "histogram2d"
           }
          ],
          "histogram2dcontour": [
           {
            "colorbar": {
             "outlinewidth": 0,
             "ticks": ""
            },
            "colorscale": [
             [
              0,
              "#0d0887"
             ],
             [
              0.1111111111111111,
              "#46039f"
             ],
             [
              0.2222222222222222,
              "#7201a8"
             ],
             [
              0.3333333333333333,
              "#9c179e"
             ],
             [
              0.4444444444444444,
              "#bd3786"
             ],
             [
              0.5555555555555556,
              "#d8576b"
             ],
             [
              0.6666666666666666,
              "#ed7953"
             ],
             [
              0.7777777777777778,
              "#fb9f3a"
             ],
             [
              0.8888888888888888,
              "#fdca26"
             ],
             [
              1,
              "#f0f921"
             ]
            ],
            "type": "histogram2dcontour"
           }
          ],
          "mesh3d": [
           {
            "colorbar": {
             "outlinewidth": 0,
             "ticks": ""
            },
            "type": "mesh3d"
           }
          ],
          "parcoords": [
           {
            "line": {
             "colorbar": {
              "outlinewidth": 0,
              "ticks": ""
             }
            },
            "type": "parcoords"
           }
          ],
          "pie": [
           {
            "automargin": true,
            "type": "pie"
           }
          ],
          "scatter": [
           {
            "fillpattern": {
             "fillmode": "overlay",
             "size": 10,
             "solidity": 0.2
            },
            "type": "scatter"
           }
          ],
          "scatter3d": [
           {
            "line": {
             "colorbar": {
              "outlinewidth": 0,
              "ticks": ""
             }
            },
            "marker": {
             "colorbar": {
              "outlinewidth": 0,
              "ticks": ""
             }
            },
            "type": "scatter3d"
           }
          ],
          "scattercarpet": [
           {
            "marker": {
             "colorbar": {
              "outlinewidth": 0,
              "ticks": ""
             }
            },
            "type": "scattercarpet"
           }
          ],
          "scattergeo": [
           {
            "marker": {
             "colorbar": {
              "outlinewidth": 0,
              "ticks": ""
             }
            },
            "type": "scattergeo"
           }
          ],
          "scattergl": [
           {
            "marker": {
             "colorbar": {
              "outlinewidth": 0,
              "ticks": ""
             }
            },
            "type": "scattergl"
           }
          ],
          "scattermapbox": [
           {
            "marker": {
             "colorbar": {
              "outlinewidth": 0,
              "ticks": ""
             }
            },
            "type": "scattermapbox"
           }
          ],
          "scatterpolar": [
           {
            "marker": {
             "colorbar": {
              "outlinewidth": 0,
              "ticks": ""
             }
            },
            "type": "scatterpolar"
           }
          ],
          "scatterpolargl": [
           {
            "marker": {
             "colorbar": {
              "outlinewidth": 0,
              "ticks": ""
             }
            },
            "type": "scatterpolargl"
           }
          ],
          "scatterternary": [
           {
            "marker": {
             "colorbar": {
              "outlinewidth": 0,
              "ticks": ""
             }
            },
            "type": "scatterternary"
           }
          ],
          "surface": [
           {
            "colorbar": {
             "outlinewidth": 0,
             "ticks": ""
            },
            "colorscale": [
             [
              0,
              "#0d0887"
             ],
             [
              0.1111111111111111,
              "#46039f"
             ],
             [
              0.2222222222222222,
              "#7201a8"
             ],
             [
              0.3333333333333333,
              "#9c179e"
             ],
             [
              0.4444444444444444,
              "#bd3786"
             ],
             [
              0.5555555555555556,
              "#d8576b"
             ],
             [
              0.6666666666666666,
              "#ed7953"
             ],
             [
              0.7777777777777778,
              "#fb9f3a"
             ],
             [
              0.8888888888888888,
              "#fdca26"
             ],
             [
              1,
              "#f0f921"
             ]
            ],
            "type": "surface"
           }
          ],
          "table": [
           {
            "cells": {
             "fill": {
              "color": "#EBF0F8"
             },
             "line": {
              "color": "white"
             }
            },
            "header": {
             "fill": {
              "color": "#C8D4E3"
             },
             "line": {
              "color": "white"
             }
            },
            "type": "table"
           }
          ]
         },
         "layout": {
          "annotationdefaults": {
           "arrowcolor": "#2a3f5f",
           "arrowhead": 0,
           "arrowwidth": 1
          },
          "autotypenumbers": "strict",
          "coloraxis": {
           "colorbar": {
            "outlinewidth": 0,
            "ticks": ""
           }
          },
          "colorscale": {
           "diverging": [
            [
             0,
             "#8e0152"
            ],
            [
             0.1,
             "#c51b7d"
            ],
            [
             0.2,
             "#de77ae"
            ],
            [
             0.3,
             "#f1b6da"
            ],
            [
             0.4,
             "#fde0ef"
            ],
            [
             0.5,
             "#f7f7f7"
            ],
            [
             0.6,
             "#e6f5d0"
            ],
            [
             0.7,
             "#b8e186"
            ],
            [
             0.8,
             "#7fbc41"
            ],
            [
             0.9,
             "#4d9221"
            ],
            [
             1,
             "#276419"
            ]
           ],
           "sequential": [
            [
             0,
             "#0d0887"
            ],
            [
             0.1111111111111111,
             "#46039f"
            ],
            [
             0.2222222222222222,
             "#7201a8"
            ],
            [
             0.3333333333333333,
             "#9c179e"
            ],
            [
             0.4444444444444444,
             "#bd3786"
            ],
            [
             0.5555555555555556,
             "#d8576b"
            ],
            [
             0.6666666666666666,
             "#ed7953"
            ],
            [
             0.7777777777777778,
             "#fb9f3a"
            ],
            [
             0.8888888888888888,
             "#fdca26"
            ],
            [
             1,
             "#f0f921"
            ]
           ],
           "sequentialminus": [
            [
             0,
             "#0d0887"
            ],
            [
             0.1111111111111111,
             "#46039f"
            ],
            [
             0.2222222222222222,
             "#7201a8"
            ],
            [
             0.3333333333333333,
             "#9c179e"
            ],
            [
             0.4444444444444444,
             "#bd3786"
            ],
            [
             0.5555555555555556,
             "#d8576b"
            ],
            [
             0.6666666666666666,
             "#ed7953"
            ],
            [
             0.7777777777777778,
             "#fb9f3a"
            ],
            [
             0.8888888888888888,
             "#fdca26"
            ],
            [
             1,
             "#f0f921"
            ]
           ]
          },
          "colorway": [
           "#636efa",
           "#EF553B",
           "#00cc96",
           "#ab63fa",
           "#FFA15A",
           "#19d3f3",
           "#FF6692",
           "#B6E880",
           "#FF97FF",
           "#FECB52"
          ],
          "font": {
           "color": "#2a3f5f"
          },
          "geo": {
           "bgcolor": "white",
           "lakecolor": "white",
           "landcolor": "white",
           "showlakes": true,
           "showland": true,
           "subunitcolor": "#C8D4E3"
          },
          "hoverlabel": {
           "align": "left"
          },
          "hovermode": "closest",
          "mapbox": {
           "style": "light"
          },
          "paper_bgcolor": "white",
          "plot_bgcolor": "white",
          "polar": {
           "angularaxis": {
            "gridcolor": "#EBF0F8",
            "linecolor": "#EBF0F8",
            "ticks": ""
           },
           "bgcolor": "white",
           "radialaxis": {
            "gridcolor": "#EBF0F8",
            "linecolor": "#EBF0F8",
            "ticks": ""
           }
          },
          "scene": {
           "xaxis": {
            "backgroundcolor": "white",
            "gridcolor": "#DFE8F3",
            "gridwidth": 2,
            "linecolor": "#EBF0F8",
            "showbackground": true,
            "ticks": "",
            "zerolinecolor": "#EBF0F8"
           },
           "yaxis": {
            "backgroundcolor": "white",
            "gridcolor": "#DFE8F3",
            "gridwidth": 2,
            "linecolor": "#EBF0F8",
            "showbackground": true,
            "ticks": "",
            "zerolinecolor": "#EBF0F8"
           },
           "zaxis": {
            "backgroundcolor": "white",
            "gridcolor": "#DFE8F3",
            "gridwidth": 2,
            "linecolor": "#EBF0F8",
            "showbackground": true,
            "ticks": "",
            "zerolinecolor": "#EBF0F8"
           }
          },
          "shapedefaults": {
           "line": {
            "color": "#2a3f5f"
           }
          },
          "ternary": {
           "aaxis": {
            "gridcolor": "#DFE8F3",
            "linecolor": "#A2B1C6",
            "ticks": ""
           },
           "baxis": {
            "gridcolor": "#DFE8F3",
            "linecolor": "#A2B1C6",
            "ticks": ""
           },
           "bgcolor": "white",
           "caxis": {
            "gridcolor": "#DFE8F3",
            "linecolor": "#A2B1C6",
            "ticks": ""
           }
          },
          "title": {
           "x": 0.05
          },
          "xaxis": {
           "automargin": true,
           "gridcolor": "#EBF0F8",
           "linecolor": "#EBF0F8",
           "ticks": "",
           "title": {
            "standoff": 15
           },
           "zerolinecolor": "#EBF0F8",
           "zerolinewidth": 2
          },
          "yaxis": {
           "automargin": true,
           "gridcolor": "#EBF0F8",
           "linecolor": "#EBF0F8",
           "ticks": "",
           "title": {
            "standoff": 15
           },
           "zerolinecolor": "#EBF0F8",
           "zerolinewidth": 2
          }
         }
        },
        "title": {
         "text": "Hyperparameter Optimization in Historical PLS"
        },
        "xaxis": {
         "title": {
          "text": "Number of Latent Variables"
         }
        },
        "yaxis": {
         "title": {
          "text": "Abs RMSE"
         }
        }
       }
      },
      "text/html": [
       "<div>                            <div id=\"a6751b15-022a-429b-9c86-b462c567d4bc\" class=\"plotly-graph-div\" style=\"height:525px; width:100%;\"></div>            <script type=\"text/javascript\">                require([\"plotly\"], function(Plotly) {                    window.PLOTLYENV=window.PLOTLYENV || {};                                    if (document.getElementById(\"a6751b15-022a-429b-9c86-b462c567d4bc\")) {                    Plotly.newPlot(                        \"a6751b15-022a-429b-9c86-b462c567d4bc\",                        [{\"error_y\":{\"array\":[23.061790483048668,15.989724818510757,14.20502639958328,13.278472354878998,12.725360727237456,10.932459003734206,9.900156713909793,7.0360298529208665,6.177827804973081,7.078462719769829,5.444506957369484,4.819312799048679,4.60523856998205,4.908844777555573,4.623394233598739,4.012223972535656,1.8686757283742434,2.322004136458449,2.661269931073091,4.659251845835868,4.768491022958633,2.793338120847664,2.6492999319984514,5.6365140776484555e-12,5.09047493337365e-11,3.6081605027765515e-11,1.183795908157409e-10,1.2276421227695325e-10,8.719979072471833e-10,2.307328929172915e-10,2.682549133283073e-9],\"type\":\"data\",\"visible\":true},\"name\":\"Training\",\"x\":[1,2,3,4,5,6,7,8,9,10,11,12,13,14,15,16,17,18,19,20,21,22,23,24,25,26,27,28,29,30,31],\"y\":[115.2070835243255,80.89235112020992,69.58667374676403,65.83796698754239,62.89626537038596,58.21221027550073,54.83518214651866,47.83081037052072,43.801784869978036,39.65276959178554,36.70263170794662,30.929816322010556,29.486543147167275,27.892377649284686,26.85102032348113,25.880838643697224,22.835810776555526,19.362057405649825,17.337316717172246,13.612245438704662,10.085314327439946,5.696726791050979,2.142415112269759,1.2845017199355376e-11,9.211184565653421e-11,1.307836214890504e-10,1.8131985034891104e-10,2.0918745817703433e-10,6.45011404211079e-10,3.344026588540299e-10,1.762487527288155e-9],\"type\":\"scatter\"},{\"error_y\":{\"array\":[111.21543719597882,102.24161277053163,75.70486232094217,73.69046885531854,67.17605480198972,50.72943320157443,56.05594990136759,54.39099753811353,68.71154957535765,67.3924017058114,67.43571467672425,64.022335143496,60.84357696313772,47.99770489877122,48.170988499054694,58.51499207659702,68.12719974745832,69.37505812228916,102.85700189436123,106.1046014936455,78.52000881037591,142.57680503906272,145.4101741987661,192.05940934502323,156.0143651378562,178.03487835955428,159.86903507075996,161.9548969384502,195.0649439394404,277.13000060807155,274.31361938268685],\"type\":\"data\",\"visible\":true},\"name\":\"Validation\",\"x\":[1,2,3,4,5,6,7,8,9,10,11,12,13,14,15,16,17,18,19,20,21,22,23,24,25,26,27,28,29,30,31],\"y\":[166.92501729006327,157.865564144036,131.04523741404898,122.1119725635624,122.8468688375925,125.10105837258034,132.5950325864947,124.49929961924946,128.7904518694438,117.70397243729835,118.49766311743761,115.3694824796174,110.35899328016463,100.78455241038891,104.91056576708095,123.18660330379808,185.98256069097835,204.14269427817158,224.48242778629688,223.5129770197456,202.86707369415026,277.12264384425333,289.32406823428664,344.15938913382297,289.0273194416623,307.80213608545387,300.14393689289903,315.26190588215314,393.3475277441728,456.6019219994467,417.63103771719153],\"type\":\"scatter\"}],                        {\"template\":{\"data\":{\"histogram2dcontour\":[{\"type\":\"histogram2dcontour\",\"colorbar\":{\"outlinewidth\":0,\"ticks\":\"\"},\"colorscale\":[[0.0,\"#0d0887\"],[0.1111111111111111,\"#46039f\"],[0.2222222222222222,\"#7201a8\"],[0.3333333333333333,\"#9c179e\"],[0.4444444444444444,\"#bd3786\"],[0.5555555555555556,\"#d8576b\"],[0.6666666666666666,\"#ed7953\"],[0.7777777777777778,\"#fb9f3a\"],[0.8888888888888888,\"#fdca26\"],[1.0,\"#f0f921\"]]}],\"choropleth\":[{\"type\":\"choropleth\",\"colorbar\":{\"outlinewidth\":0,\"ticks\":\"\"}}],\"histogram2d\":[{\"type\":\"histogram2d\",\"colorbar\":{\"outlinewidth\":0,\"ticks\":\"\"},\"colorscale\":[[0.0,\"#0d0887\"],[0.1111111111111111,\"#46039f\"],[0.2222222222222222,\"#7201a8\"],[0.3333333333333333,\"#9c179e\"],[0.4444444444444444,\"#bd3786\"],[0.5555555555555556,\"#d8576b\"],[0.6666666666666666,\"#ed7953\"],[0.7777777777777778,\"#fb9f3a\"],[0.8888888888888888,\"#fdca26\"],[1.0,\"#f0f921\"]]}],\"heatmap\":[{\"type\":\"heatmap\",\"colorbar\":{\"outlinewidth\":0,\"ticks\":\"\"},\"colorscale\":[[0.0,\"#0d0887\"],[0.1111111111111111,\"#46039f\"],[0.2222222222222222,\"#7201a8\"],[0.3333333333333333,\"#9c179e\"],[0.4444444444444444,\"#bd3786\"],[0.5555555555555556,\"#d8576b\"],[0.6666666666666666,\"#ed7953\"],[0.7777777777777778,\"#fb9f3a\"],[0.8888888888888888,\"#fdca26\"],[1.0,\"#f0f921\"]]}],\"heatmapgl\":[{\"type\":\"heatmapgl\",\"colorbar\":{\"outlinewidth\":0,\"ticks\":\"\"},\"colorscale\":[[0.0,\"#0d0887\"],[0.1111111111111111,\"#46039f\"],[0.2222222222222222,\"#7201a8\"],[0.3333333333333333,\"#9c179e\"],[0.4444444444444444,\"#bd3786\"],[0.5555555555555556,\"#d8576b\"],[0.6666666666666666,\"#ed7953\"],[0.7777777777777778,\"#fb9f3a\"],[0.8888888888888888,\"#fdca26\"],[1.0,\"#f0f921\"]]}],\"contourcarpet\":[{\"type\":\"contourcarpet\",\"colorbar\":{\"outlinewidth\":0,\"ticks\":\"\"}}],\"contour\":[{\"type\":\"contour\",\"colorbar\":{\"outlinewidth\":0,\"ticks\":\"\"},\"colorscale\":[[0.0,\"#0d0887\"],[0.1111111111111111,\"#46039f\"],[0.2222222222222222,\"#7201a8\"],[0.3333333333333333,\"#9c179e\"],[0.4444444444444444,\"#bd3786\"],[0.5555555555555556,\"#d8576b\"],[0.6666666666666666,\"#ed7953\"],[0.7777777777777778,\"#fb9f3a\"],[0.8888888888888888,\"#fdca26\"],[1.0,\"#f0f921\"]]}],\"surface\":[{\"type\":\"surface\",\"colorbar\":{\"outlinewidth\":0,\"ticks\":\"\"},\"colorscale\":[[0.0,\"#0d0887\"],[0.1111111111111111,\"#46039f\"],[0.2222222222222222,\"#7201a8\"],[0.3333333333333333,\"#9c179e\"],[0.4444444444444444,\"#bd3786\"],[0.5555555555555556,\"#d8576b\"],[0.6666666666666666,\"#ed7953\"],[0.7777777777777778,\"#fb9f3a\"],[0.8888888888888888,\"#fdca26\"],[1.0,\"#f0f921\"]]}],\"mesh3d\":[{\"type\":\"mesh3d\",\"colorbar\":{\"outlinewidth\":0,\"ticks\":\"\"}}],\"scatter\":[{\"fillpattern\":{\"fillmode\":\"overlay\",\"size\":10,\"solidity\":0.2},\"type\":\"scatter\"}],\"parcoords\":[{\"type\":\"parcoords\",\"line\":{\"colorbar\":{\"outlinewidth\":0,\"ticks\":\"\"}}}],\"scatterpolargl\":[{\"type\":\"scatterpolargl\",\"marker\":{\"colorbar\":{\"outlinewidth\":0,\"ticks\":\"\"}}}],\"bar\":[{\"error_x\":{\"color\":\"#2a3f5f\"},\"error_y\":{\"color\":\"#2a3f5f\"},\"marker\":{\"line\":{\"color\":\"white\",\"width\":0.5},\"pattern\":{\"fillmode\":\"overlay\",\"size\":10,\"solidity\":0.2}},\"type\":\"bar\"}],\"scattergeo\":[{\"type\":\"scattergeo\",\"marker\":{\"colorbar\":{\"outlinewidth\":0,\"ticks\":\"\"}}}],\"scatterpolar\":[{\"type\":\"scatterpolar\",\"marker\":{\"colorbar\":{\"outlinewidth\":0,\"ticks\":\"\"}}}],\"histogram\":[{\"marker\":{\"pattern\":{\"fillmode\":\"overlay\",\"size\":10,\"solidity\":0.2}},\"type\":\"histogram\"}],\"scattergl\":[{\"type\":\"scattergl\",\"marker\":{\"colorbar\":{\"outlinewidth\":0,\"ticks\":\"\"}}}],\"scatter3d\":[{\"type\":\"scatter3d\",\"line\":{\"colorbar\":{\"outlinewidth\":0,\"ticks\":\"\"}},\"marker\":{\"colorbar\":{\"outlinewidth\":0,\"ticks\":\"\"}}}],\"scattermapbox\":[{\"type\":\"scattermapbox\",\"marker\":{\"colorbar\":{\"outlinewidth\":0,\"ticks\":\"\"}}}],\"scatterternary\":[{\"type\":\"scatterternary\",\"marker\":{\"colorbar\":{\"outlinewidth\":0,\"ticks\":\"\"}}}],\"scattercarpet\":[{\"type\":\"scattercarpet\",\"marker\":{\"colorbar\":{\"outlinewidth\":0,\"ticks\":\"\"}}}],\"carpet\":[{\"aaxis\":{\"endlinecolor\":\"#2a3f5f\",\"gridcolor\":\"#C8D4E3\",\"linecolor\":\"#C8D4E3\",\"minorgridcolor\":\"#C8D4E3\",\"startlinecolor\":\"#2a3f5f\"},\"baxis\":{\"endlinecolor\":\"#2a3f5f\",\"gridcolor\":\"#C8D4E3\",\"linecolor\":\"#C8D4E3\",\"minorgridcolor\":\"#C8D4E3\",\"startlinecolor\":\"#2a3f5f\"},\"type\":\"carpet\"}],\"table\":[{\"cells\":{\"fill\":{\"color\":\"#EBF0F8\"},\"line\":{\"color\":\"white\"}},\"header\":{\"fill\":{\"color\":\"#C8D4E3\"},\"line\":{\"color\":\"white\"}},\"type\":\"table\"}],\"barpolar\":[{\"marker\":{\"line\":{\"color\":\"white\",\"width\":0.5},\"pattern\":{\"fillmode\":\"overlay\",\"size\":10,\"solidity\":0.2}},\"type\":\"barpolar\"}],\"pie\":[{\"automargin\":true,\"type\":\"pie\"}]},\"layout\":{\"autotypenumbers\":\"strict\",\"colorway\":[\"#636efa\",\"#EF553B\",\"#00cc96\",\"#ab63fa\",\"#FFA15A\",\"#19d3f3\",\"#FF6692\",\"#B6E880\",\"#FF97FF\",\"#FECB52\"],\"font\":{\"color\":\"#2a3f5f\"},\"hovermode\":\"closest\",\"hoverlabel\":{\"align\":\"left\"},\"paper_bgcolor\":\"white\",\"plot_bgcolor\":\"white\",\"polar\":{\"bgcolor\":\"white\",\"angularaxis\":{\"gridcolor\":\"#EBF0F8\",\"linecolor\":\"#EBF0F8\",\"ticks\":\"\"},\"radialaxis\":{\"gridcolor\":\"#EBF0F8\",\"linecolor\":\"#EBF0F8\",\"ticks\":\"\"}},\"ternary\":{\"bgcolor\":\"white\",\"aaxis\":{\"gridcolor\":\"#DFE8F3\",\"linecolor\":\"#A2B1C6\",\"ticks\":\"\"},\"baxis\":{\"gridcolor\":\"#DFE8F3\",\"linecolor\":\"#A2B1C6\",\"ticks\":\"\"},\"caxis\":{\"gridcolor\":\"#DFE8F3\",\"linecolor\":\"#A2B1C6\",\"ticks\":\"\"}},\"coloraxis\":{\"colorbar\":{\"outlinewidth\":0,\"ticks\":\"\"}},\"colorscale\":{\"sequential\":[[0.0,\"#0d0887\"],[0.1111111111111111,\"#46039f\"],[0.2222222222222222,\"#7201a8\"],[0.3333333333333333,\"#9c179e\"],[0.4444444444444444,\"#bd3786\"],[0.5555555555555556,\"#d8576b\"],[0.6666666666666666,\"#ed7953\"],[0.7777777777777778,\"#fb9f3a\"],[0.8888888888888888,\"#fdca26\"],[1.0,\"#f0f921\"]],\"sequentialminus\":[[0.0,\"#0d0887\"],[0.1111111111111111,\"#46039f\"],[0.2222222222222222,\"#7201a8\"],[0.3333333333333333,\"#9c179e\"],[0.4444444444444444,\"#bd3786\"],[0.5555555555555556,\"#d8576b\"],[0.6666666666666666,\"#ed7953\"],[0.7777777777777778,\"#fb9f3a\"],[0.8888888888888888,\"#fdca26\"],[1.0,\"#f0f921\"]],\"diverging\":[[0,\"#8e0152\"],[0.1,\"#c51b7d\"],[0.2,\"#de77ae\"],[0.3,\"#f1b6da\"],[0.4,\"#fde0ef\"],[0.5,\"#f7f7f7\"],[0.6,\"#e6f5d0\"],[0.7,\"#b8e186\"],[0.8,\"#7fbc41\"],[0.9,\"#4d9221\"],[1,\"#276419\"]]},\"xaxis\":{\"gridcolor\":\"#EBF0F8\",\"linecolor\":\"#EBF0F8\",\"ticks\":\"\",\"title\":{\"standoff\":15},\"zerolinecolor\":\"#EBF0F8\",\"automargin\":true,\"zerolinewidth\":2},\"yaxis\":{\"gridcolor\":\"#EBF0F8\",\"linecolor\":\"#EBF0F8\",\"ticks\":\"\",\"title\":{\"standoff\":15},\"zerolinecolor\":\"#EBF0F8\",\"automargin\":true,\"zerolinewidth\":2},\"scene\":{\"xaxis\":{\"backgroundcolor\":\"white\",\"gridcolor\":\"#DFE8F3\",\"linecolor\":\"#EBF0F8\",\"showbackground\":true,\"ticks\":\"\",\"zerolinecolor\":\"#EBF0F8\",\"gridwidth\":2},\"yaxis\":{\"backgroundcolor\":\"white\",\"gridcolor\":\"#DFE8F3\",\"linecolor\":\"#EBF0F8\",\"showbackground\":true,\"ticks\":\"\",\"zerolinecolor\":\"#EBF0F8\",\"gridwidth\":2},\"zaxis\":{\"backgroundcolor\":\"white\",\"gridcolor\":\"#DFE8F3\",\"linecolor\":\"#EBF0F8\",\"showbackground\":true,\"ticks\":\"\",\"zerolinecolor\":\"#EBF0F8\",\"gridwidth\":2}},\"shapedefaults\":{\"line\":{\"color\":\"#2a3f5f\"}},\"annotationdefaults\":{\"arrowcolor\":\"#2a3f5f\",\"arrowhead\":0,\"arrowwidth\":1},\"geo\":{\"bgcolor\":\"white\",\"landcolor\":\"white\",\"subunitcolor\":\"#C8D4E3\",\"showland\":true,\"showlakes\":true,\"lakecolor\":\"white\"},\"title\":{\"x\":0.05},\"mapbox\":{\"style\":\"light\"}}},\"title\":{\"text\":\"Hyperparameter Optimization in Historical PLS\"},\"xaxis\":{\"title\":{\"text\":\"Number of Latent Variables\"}},\"yaxis\":{\"title\":{\"text\":\"Abs RMSE\"}},\"legend\":{\"title\":{\"text\":\"Evaluation type\"}}},                        {\"responsive\": true}                    ).then(function(){\n",
       "                            \n",
       "var gd = document.getElementById('a6751b15-022a-429b-9c86-b462c567d4bc');\n",
       "var x = new MutationObserver(function (mutations, observer) {{\n",
       "        var display = window.getComputedStyle(gd).display;\n",
       "        if (!display || display === 'none') {{\n",
       "            console.log([gd, 'removed!']);\n",
       "            Plotly.purge(gd);\n",
       "            observer.disconnect();\n",
       "        }}\n",
       "}});\n",
       "\n",
       "// Listen for the removal of the full notebook cells\n",
       "var notebookContainer = gd.closest('#notebook-container');\n",
       "if (notebookContainer) {{\n",
       "    x.observe(notebookContainer, {childList: true});\n",
       "}}\n",
       "\n",
       "// Listen for the clearing of the current output cell\n",
       "var outputEl = gd.closest('.output');\n",
       "if (outputEl) {{\n",
       "    x.observe(outputEl, {childList: true});\n",
       "}}\n",
       "\n",
       "                        })                };                });            </script>        </div>"
      ]
     },
     "metadata": {},
     "output_type": "display_data"
    }
   ],
   "source": [
    "plot_hist_pls_cross_validation(train_eval, valid_eval, range_LV)"
   ]
  },
  {
   "cell_type": "markdown",
   "metadata": {},
   "source": [
    "# Data-Driven Models for Simulation"
   ]
  },
  {
   "cell_type": "markdown",
   "metadata": {},
   "source": [
    "## BB-PLS1\n",
    "- Black Box - Partial Least Square Model (PLS1)\n",
    "- One model per timepoint per process variable is developed, denoted as $PLS1_{i, t}$\n",
    "- Training: $[Z, X(t = 0)] \\rightarrow PLS1_{i, t} \\rightarrow X_i(t = t_{model})$"
   ]
  },
  {
   "cell_type": "code",
   "execution_count": 307,
   "metadata": {},
   "outputs": [],
   "source": [
    "def transform_owu(owu, t_steps=15, batch_first=False):\n",
    "    X_columns = [col for col in owu.columns if \"X:\" in col]\n",
    "    X_owu = owu[X_columns].copy()\n",
    "    X_owu = X_owu.sort_index(level=[\"run\", \"time\"])\n",
    "\n",
    "    C = len(X_columns)\n",
    "    B = X_owu.index.get_level_values(\"run\").nunique()\n",
    "    T = t_steps\n",
    "\n",
    "    if batch_first:\n",
    "        X = np.zeros((B, T, C))\n",
    "    else:\n",
    "        X = np.zeros((T, C, B))\n",
    "\n",
    "    for i, (run, group) in enumerate(X_owu.groupby(level=\"run\")):\n",
    "        if len(group) != T:\n",
    "            raise ValueError(f\"Run {run} does not have {T} time steps.\")\n",
    "\n",
    "        if batch_first:\n",
    "            X[i, :, :] = group.values\n",
    "        else:\n",
    "            X[:, :, i] = group.values\n",
    "\n",
    "    return X, X_columns\n",
    "\n",
    "\n",
    "def fit_multi_step_pls_model(\n",
    "    Z, X, latent_variables=2, polynomial_degree=1, interactions_only=False\n",
    "):\n",
    "    # Function to train using multiple BB-PLS1 models\n",
    "    T, C, B = X.shape\n",
    "    models = {}\n",
    "    for t in range(T):\n",
    "        models[t] = {}\n",
    "        for i in range(C):\n",
    "            model = fit_pls_model(\n",
    "                X=Z,\n",
    "                y=X[t, i, :],\n",
    "                latent_variables=latent_variables,\n",
    "                polynomial_degree=polynomial_degree,\n",
    "                interactions_only=interactions_only,\n",
    "            )\n",
    "            models[t][i] = model\n",
    "    return models\n",
    "\n",
    "\n",
    "def predict_multi_step_pls_model(Z, multi_step_models, t_steps=15):\n",
    "    # Prediction in train set\n",
    "    B, _ = Z.shape\n",
    "    T = len(multi_step_models)\n",
    "    C = len(multi_step_models[0])\n",
    "\n",
    "    if t_steps != T:\n",
    "        raise ValueError(f\"Models does not have {t_steps} time steps.\")\n",
    "\n",
    "    X_pred = np.zeros((T, C, B))\n",
    "    for t in range(T):\n",
    "        for i in range(C):\n",
    "            X_pred[t, i, :] = multi_step_models[t][i].predict(Z)\n",
    "\n",
    "    return X_pred\n",
    "\n",
    "\n",
    "def plot_multi_step_pls_model_eval(\n",
    "    X,\n",
    "    X_pred,\n",
    "    X_test,\n",
    "    X_test_pred,\n",
    "    X_columns=None,\n",
    "):\n",
    "    for i, col in enumerate(X_columns):\n",
    "        y = X[:, i, :]\n",
    "        y_pred = X_pred[:, i, :]\n",
    "        y_test = X_test[:, i, :]\n",
    "        y_test_pred = X_test_pred[:, i, :]\n",
    "\n",
    "        # Metrics for training set\n",
    "        train_r2 = r2(y, y_pred)\n",
    "        train_abs_rmse = absolute_rmse(y, y_pred)\n",
    "        train_rel_rmse = relative_rmse(y, y_pred)\n",
    "\n",
    "        # Metrics for testing set\n",
    "        test_r2 = r2(y_test, y_test_pred)\n",
    "        test_abs_rmse = absolute_rmse(y_test, y_test_pred)\n",
    "        test_rel_rmse = relative_rmse(y_test, y_test_pred)\n",
    "\n",
    "        # Plot observed vs predicted\n",
    "        fig = make_subplots(\n",
    "            rows=1,\n",
    "            cols=2,\n",
    "            subplot_titles=(\n",
    "                f\"Train Set - {col} <br> R^2 = {train_r2} <br> Abs RMSE = {train_abs_rmse} <br> Rel RMSE = {train_rel_rmse}\",\n",
    "                f\"Test Set - {col} <br> R^2 = {test_r2} <br> Abs RMSE = {test_abs_rmse} <br> Rel RMSE = {test_rel_rmse}\",\n",
    "            ),\n",
    "        )\n",
    "\n",
    "        # Train set plot\n",
    "        _, _, NUM_TRAIN = X.shape\n",
    "        for i in range(NUM_TRAIN):\n",
    "            fig.add_trace(\n",
    "                go.Scatter(\n",
    "                    x=y[:, i].reshape(-1),\n",
    "                    y=y_pred[:, i].reshape(-1),\n",
    "                    mode=\"markers\",\n",
    "                    name=f\"Run id in Train {i}\",\n",
    "                    legendgroup=f\"train_{i}\",\n",
    "                ),\n",
    "                row=1,\n",
    "                col=1,\n",
    "            )\n",
    "        fig.add_shape(\n",
    "            type=\"line\",\n",
    "            x0=y_pred.min(),\n",
    "            y0=y_pred.min(),\n",
    "            x1=y_pred.max(),\n",
    "            y1=y_pred.max(),\n",
    "            layer=\"above\",\n",
    "            line=dict(dash=\"dash\"),\n",
    "        )\n",
    "\n",
    "        # Test set plot\n",
    "        _, _, NUM_TEST = X_test.shape\n",
    "        for j in range(NUM_TEST):\n",
    "            fig.add_trace(\n",
    "                go.Scatter(\n",
    "                    x=y_test[:, j].reshape(-1),\n",
    "                    y=y_test_pred[:, j].reshape(-1),\n",
    "                    mode=\"markers\",\n",
    "                    name=f\"Run id in Test {j}\",\n",
    "                    legendgroup=f\"test_{j}\",\n",
    "                ),\n",
    "                row=1,\n",
    "                col=2,\n",
    "            )\n",
    "        fig.add_shape(\n",
    "            type=\"line\",\n",
    "            x0=y_test_pred.min(),\n",
    "            y0=y_test_pred.min(),\n",
    "            x1=y_test_pred.max(),\n",
    "            y1=y_test_pred.max(),\n",
    "            layer=\"above\",\n",
    "            line=dict(dash=\"dash\"),\n",
    "            row=1,\n",
    "            col=2,\n",
    "        )\n",
    "\n",
    "        fig.update_layout(width=1600)\n",
    "        fig.update_xaxes(title=\"Observed values\", row=1, col=1)\n",
    "        fig.update_xaxes(title=\"Observed values\", row=1, col=2)\n",
    "        fig.update_yaxes(title=\"Predicted values\", row=1, col=1)\n",
    "        fig.update_yaxes(title=\"Predicted values\", row=1, col=2)\n",
    "        fig.show()\n",
    "\n",
    "\n",
    "def plot_relative_rmse_by_variables(\n",
    "    X,\n",
    "    X_pred,\n",
    "    X_test,\n",
    "    X_test_pred,\n",
    "    X_columns=None,\n",
    "):\n",
    "    relative_rmse_train = []\n",
    "    relative_rmse_test = []\n",
    "    for i, col in enumerate(X_columns):\n",
    "        y = X[:, i, :]\n",
    "        y_pred = X_pred[:, i, :]\n",
    "        y_test = X_test[:, i, :]\n",
    "        y_test_pred = X_test_pred[:, i, :]\n",
    "\n",
    "        # Metrics for training set\n",
    "        train_rel_rmse = relative_rmse(y, y_pred)\n",
    "        relative_rmse_train.append(train_rel_rmse)\n",
    "\n",
    "        # Metrics for testing set\n",
    "        test_rel_rmse = relative_rmse(y_test, y_test_pred)\n",
    "        relative_rmse_test.append(test_rel_rmse)\n",
    "\n",
    "    fig_rmse = go.Figure()\n",
    "    fig_rmse.add_trace(\n",
    "        go.Bar(\n",
    "            x=X_columns,\n",
    "            y=relative_rmse_train,\n",
    "            name=\"Train Set\",\n",
    "            marker_color=pcolors[0],\n",
    "            text=[f\"{v:.2f}\" for v in relative_rmse_train],\n",
    "            textposition=\"outside\",\n",
    "        )\n",
    "    )\n",
    "\n",
    "    fig_rmse.add_trace(\n",
    "        go.Bar(\n",
    "            x=X_columns,\n",
    "            y=relative_rmse_test,\n",
    "            name=\"Test Set\",\n",
    "            marker_color=pcolors[1],\n",
    "            text=[f\"{v:.2f}\" for v in relative_rmse_test],\n",
    "            textposition=\"outside\",\n",
    "        )\n",
    "    )\n",
    "\n",
    "    fig_rmse.update_layout(\n",
    "        barmode=\"group\",\n",
    "        title=\"Relative RMSE for Each Variables\",\n",
    "        xaxis_title=\"Feature\",\n",
    "        yaxis_title=\"Relative RMSE\",\n",
    "        legend=dict(orientation=\"h\", yanchor=\"bottom\", y=1.02, xanchor=\"center\", x=0.5),\n",
    "    )\n",
    "\n",
    "    fig_rmse.show()"
   ]
  },
  {
   "cell_type": "markdown",
   "metadata": {},
   "source": [
    "### Setting"
   ]
  },
  {
   "cell_type": "code",
   "execution_count": 308,
   "metadata": {},
   "outputs": [],
   "source": [
    "\"\"\" Number of latent Variables \"\"\"\n",
    "LATENT_VARIABLES = 2\n",
    "\"\"\" Ploynomial degree of features \"\"\"\n",
    "POLYNOMIAL_DEGREE_PLS = 1\n",
    "\"\"\" Add only interaction between features\"\"\"\n",
    "INTERACTIONS_ONLY = True\n",
    "\n",
    "\"\"\" Number of days of process history \"\"\"\n",
    "PROCESS_HISTORY = 15"
   ]
  },
  {
   "cell_type": "markdown",
   "metadata": {},
   "source": [
    "### Data"
   ]
  },
  {
   "cell_type": "code",
   "execution_count": 310,
   "metadata": {},
   "outputs": [],
   "source": [
    "X, X_columns = transform_owu(owu, t_steps=15, batch_first=False)\n",
    "X_test, X_columns = transform_owu(owu_test, t_steps=15, batch_first=False)"
   ]
  },
  {
   "cell_type": "markdown",
   "metadata": {},
   "source": [
    "### Train"
   ]
  },
  {
   "cell_type": "code",
   "execution_count": 311,
   "metadata": {},
   "outputs": [
    {
     "name": "stderr",
     "output_type": "stream",
     "text": [
      "/home/tim/anaconda3/envs/aima/lib/python3.10/site-packages/sklearn/cross_decomposition/_pls.py:336: UserWarning:\n",
      "\n",
      "y residual is constant at iteration 0\n",
      "\n",
      "/home/tim/anaconda3/envs/aima/lib/python3.10/site-packages/sklearn/cross_decomposition/_pls.py:336: UserWarning:\n",
      "\n",
      "y residual is constant at iteration 0\n",
      "\n"
     ]
    }
   ],
   "source": [
    "models = fit_multi_step_pls_model(\n",
    "    Z=doe,\n",
    "    X=X,\n",
    "    latent_variables=LATENT_VARIABLES,\n",
    "    polynomial_degree=POLYNOMIAL_DEGREE_PLS,\n",
    "    interactions_only=INTERACTIONS_ONLY,\n",
    ")"
   ]
  },
  {
   "cell_type": "markdown",
   "metadata": {},
   "source": [
    "### Test"
   ]
  },
  {
   "cell_type": "code",
   "execution_count": 312,
   "metadata": {},
   "outputs": [
    {
     "data": {
      "application/vnd.plotly.v1+json": {
       "config": {
        "plotlyServerURL": "https://plot.ly"
       },
       "data": [
        {
         "legendgroup": "train_0",
         "mode": "markers",
         "name": "Run id in Train 0",
         "type": "scatter",
         "x": [
          0.6785714285714286,
          1.7882418695451865,
          4.197866164841867,
          8.024606484655857,
          11.644249637655555,
          12.989020406401975,
          11.780327631246772,
          9.032982556876329,
          5.956851986938314,
          3.496495271581572,
          1.9290844755904624,
          1.0384515260949645,
          0.5546547313461386,
          0.2952719021768026,
          0.1569168141294896
         ],
         "xaxis": "x",
         "y": [
          0.6888376001893428,
          1.9065129810608075,
          4.634596117821716,
          8.907082264849421,
          12.744606328779973,
          14.002321071753538,
          12.923243958233295,
          10.430706833868467,
          7.555957155726754,
          5.097738207598335,
          3.284272885711413,
          2.077069230484318,
          1.3229976837108643,
          0.8622281634959281,
          0.5747066279079037
         ],
         "yaxis": "y"
        },
        {
         "legendgroup": "train_1",
         "mode": "markers",
         "name": "Run id in Train 1",
         "type": "scatter",
         "x": [
          0.5153061224489796,
          1.3283920087753476,
          3.138891683299708,
          6.312312369758947,
          10.046362313224048,
          12.46619056309494,
          12.598864431782903,
          10.871896873825465,
          8.153434943282626,
          5.329460673311844,
          3.14372471445888,
          1.7669202575842775,
          0.9787333701850192,
          0.5395471576727975,
          0.2966820616676253
         ],
         "xaxis": "x",
         "y": [
          0.5300481089582207,
          1.5011099187691768,
          3.8240164077515786,
          7.860380040594606,
          12.00200073523956,
          13.609234574378243,
          12.665094447846922,
          10.005419228673063,
          6.863561638621703,
          4.332750132890723,
          2.572541240475836,
          1.4880905445931858,
          0.867958325931266,
          0.5175196908631665,
          0.32218531307545806
         ],
         "yaxis": "y"
        },
        {
         "legendgroup": "train_2",
         "mode": "markers",
         "name": "Run id in Train 2",
         "type": "scatter",
         "x": [
          0.6173469387755102,
          1.8393336824263824,
          4.76347819968831,
          9.519503140279811,
          13.897096050739306,
          15.469914296467806,
          14.064178274367205,
          10.784332549589733,
          7.024161263041686,
          4.060211714152641,
          2.225243161400361,
          1.198139824795706,
          0.6414845918398311,
          0.3424920004434781,
          0.1825893379791691
         ],
         "xaxis": "x",
         "y": [
          0.6185535648163465,
          1.6976875518826513,
          4.150642624787204,
          8.194531071048443,
          12.211998382197882,
          13.67055749211104,
          12.533759113288044,
          9.713819693870807,
          6.473789787875898,
          3.8795750727549017,
          2.174522585429999,
          1.1809541985238838,
          0.6353616235558952,
          0.33946891774967036,
          0.18419916106548
         ],
         "yaxis": "y"
        },
        {
         "legendgroup": "train_3",
         "mode": "markers",
         "name": "Run id in Train 3",
         "type": "scatter",
         "x": [
          0.7908163265306123,
          2.2233342240594665,
          5.189819500047023,
          8.648482942575908,
          9.89213218339913,
          8.48011217599898,
          6.030387208242467,
          3.83431965046864,
          2.2927149728665563,
          1.3293309225353016,
          0.7591389409901108,
          0.4298972793384327,
          0.2423196690989927,
          0.1362354666329924,
          0.0764834617843639
         ],
         "xaxis": "x",
         "y": [
          0.823006167281618,
          2.250199513878786,
          5.249022617162046,
          9.196579389342476,
          11.217992182548146,
          10.613237866868012,
          8.156958400028168,
          5.5183414710866,
          3.4944858389583833,
          2.1932876157591763,
          1.4120348803847522,
          0.930098359733281,
          0.6135381650213251,
          0.40755398277032245,
          0.266402703377298
         ],
         "yaxis": "y"
        },
        {
         "legendgroup": "train_4",
         "mode": "markers",
         "name": "Run id in Train 4",
         "type": "scatter",
         "x": [
          0.8724489795918368,
          2.327450417335682,
          5.302229080189516,
          9.382915401755742,
          12.45876223358994,
          13.000921335581488,
          11.354064624495637,
          8.53677594789,
          5.544672913732412,
          3.240925051389084,
          1.866988108037708,
          1.0767488544223136,
          0.6221397684347698,
          0.359995999048859,
          0.2085132104697249
         ],
         "xaxis": "x",
         "y": [
          0.8835540184483879,
          2.3337552407228226,
          5.28912400743292,
          9.292782455822884,
          12.054189823880453,
          12.162604161406671,
          9.970044522633808,
          6.837011952962504,
          3.9071271173260613,
          1.8454144814277393,
          0.7436642904328807,
          0.21291723639507287,
          -0.04055261996623338,
          -0.14440523425997032,
          -0.16640805187224106
         ],
         "yaxis": "y"
        },
        {
         "legendgroup": "train_5",
         "mode": "markers",
         "name": "Run id in Train 5",
         "type": "scatter",
         "x": [
          0.9744897959183674,
          2.406921302247812,
          5.196041068887806,
          9.018136271163266,
          11.975281156400662,
          12.472876584537527,
          10.74865387739688,
          7.898282124391004,
          5.015423771955666,
          2.8668906881316008,
          1.5952036675723131,
          0.883499604044254,
          0.4883827704146793,
          0.2697342502902922,
          0.1489124435385337
         ],
         "xaxis": "x",
         "y": [
          0.9692189372878449,
          2.5566672037132143,
          5.759644878131221,
          10.002590308757247,
          12.901925195497284,
          13.148005368359545,
          11.168669616981463,
          8.282322248895007,
          5.481607460945622,
          3.2604218210730243,
          1.8913361174783174,
          1.0942182029734662,
          0.6209542421520928,
          0.34807396326560425,
          0.19022476103805586
         ],
         "yaxis": "y"
        },
        {
         "legendgroup": "train_6",
         "mode": "markers",
         "name": "Run id in Train 6",
         "type": "scatter",
         "x": [
          0.7806122448979591,
          1.975598501172804,
          4.447145355804954,
          8.222007631588548,
          11.810855568464037,
          13.202788595684126,
          12.11249067562794,
          9.4917369807142,
          6.47725387266102,
          3.982074568663462,
          2.317558052215487,
          1.3188287116986093,
          0.7439866778063171,
          0.4179559136359603,
          0.2342622485018471
         ],
         "xaxis": "x",
         "y": [
          0.7248439736589078,
          1.9471302190563062,
          4.634979023016206,
          8.851495866404106,
          12.800031959521004,
          13.825233505763943,
          12.267161509127748,
          9.240006258076122,
          5.990172204345589,
          3.4518976663755874,
          1.8201860773596488,
          0.9016522575339923,
          0.42361268224365733,
          0.1806537108715619,
          0.045605952461019617
         ],
         "yaxis": "y"
        },
        {
         "legendgroup": "train_7",
         "mode": "markers",
         "name": "Run id in Train 7",
         "type": "scatter",
         "x": [
          0.7295918367346939,
          2.2505276992118386,
          5.756846967199105,
          10.651374604582667,
          13.779990523471408,
          13.661272552598792,
          11.410021845873027,
          8.391262132032626,
          5.433289941751308,
          3.062335558796292,
          1.5495839975266816,
          0.7674467069216043,
          0.3797836815105751,
          0.1878918071388641,
          0.09294639830802
         ],
         "xaxis": "x",
         "y": [
          0.7120199314910258,
          1.9663532454324606,
          4.752033814830464,
          9.012582123669803,
          12.792693479386338,
          14.108645633379782,
          13.108598292075015,
          10.863982672419413,
          8.264885068215051,
          5.81419377553678,
          3.9423205661732057,
          2.668054678075026,
          1.8318531483756657,
          1.2713390064183394,
          0.8757494780503683
         ],
         "yaxis": "y"
        },
        {
         "legendgroup": "train_8",
         "mode": "markers",
         "name": "Run id in Train 8",
         "type": "scatter",
         "x": [
          0.6989795918367347,
          1.848104962271837,
          4.275239539329713,
          7.758151399559654,
          10.377011125677477,
          10.64641962815131,
          9.028929257551075,
          6.646146575884176,
          4.340519317462716,
          2.593373670872533,
          1.5281691419509686,
          0.8995307180450183,
          0.5295521527654201,
          0.311842208648604,
          0.1836859247616231
         ],
         "xaxis": "x",
         "y": [
          0.7208177068307324,
          2.0280660562117903,
          4.914008718720938,
          9.061452885307641,
          12.045612905564766,
          12.753677660218013,
          11.504080484334144,
          9.60430948298409,
          7.681489958913043,
          5.798829630442768,
          4.237577343581354,
          3.0699856428988745,
          2.2265016024346136,
          1.6134765943111649,
          1.155248043456573
         ],
         "yaxis": "y"
        },
        {
         "legendgroup": "train_9",
         "mode": "markers",
         "name": "Run id in Train 9",
         "type": "scatter",
         "x": [
          0.8418367346938775,
          2.2789376634822687,
          5.398066543095938,
          10.156482702407544,
          14.449290906131306,
          15.978352785495437,
          14.576748915106055,
          11.378259295196262,
          7.682741940655455,
          4.608446080818723,
          2.647979593740628,
          1.514662535836207,
          0.8649572065986112,
          0.4936224262432949,
          0.2816301431882249
         ],
         "xaxis": "x",
         "y": [
          0.8257973423290286,
          2.2032921046457634,
          5.09602705132496,
          9.280790209166302,
          12.850101685495392,
          13.93541500007352,
          12.581007454515237,
          9.901396109665388,
          6.9511333907899795,
          4.389013242655802,
          2.6894751380024493,
          1.664080561078326,
          1.044917728664451,
          0.662418831516714,
          0.41989863745791156
         ],
         "yaxis": "y"
        },
        {
         "legendgroup": "train_10",
         "mode": "markers",
         "name": "Run id in Train 10",
         "type": "scatter",
         "x": [
          0.923469387755102,
          2.4674952847066307,
          5.654656303058643,
          10.097201515633571,
          13.556644471846797,
          14.307623198609583,
          12.606972734825222,
          9.626816830604502,
          6.544446803442491,
          4.115593536052588,
          2.4987668493627453,
          1.5030636983007923,
          0.8997281702794723,
          0.5371112374189292,
          0.3201425755581251
         ],
         "xaxis": "x",
         "y": [
          0.9482077718476456,
          2.534351917561773,
          5.778336391109775,
          10.113572376893739,
          13.013907633837634,
          13.337102624707137,
          11.579585154486418,
          8.942555691705826,
          6.31243495569762,
          4.144780657299905,
          2.6643887115369176,
          1.6927870820115207,
          1.0641126553672406,
          0.6784798311285107,
          0.44422886164558273
         ],
         "yaxis": "y"
        },
        {
         "legendgroup": "train_11",
         "mode": "markers",
         "name": "Run id in Train 11",
         "type": "scatter",
         "x": [
          0.596938775510204,
          1.5608371339147178,
          3.647331351529664,
          6.962771213924969,
          10.19507559703228,
          11.598509578671898,
          10.884080774492324,
          8.851564606648125,
          6.34609931995668,
          3.988012007506024,
          2.21807731028272,
          1.1477251655777574,
          0.587544586714998,
          0.30012672922519,
          0.1531511806757734
         ],
         "xaxis": "x",
         "y": [
          0.5705593701921928,
          1.62479638371305,
          4.136253217353955,
          8.423400526867274,
          12.968691563678359,
          15.162591808217064,
          14.850032296166898,
          12.836030571380922,
          10.063340796550811,
          7.237585598206178,
          4.961347269889406,
          3.3807950812816903,
          2.343749565893043,
          1.6431729515379085,
          1.1459325044790287
         ],
         "yaxis": "y"
        },
        {
         "legendgroup": "train_12",
         "mode": "markers",
         "name": "Run id in Train 12",
         "type": "scatter",
         "x": [
          0.6887755102040816,
          2.029318430344991,
          5.09606459448939,
          9.66449020086537,
          13.262917411504043,
          14.005601884046005,
          12.38037854109164,
          9.597991474053645,
          6.523037843825477,
          3.840589775698148,
          2.2196587973774524,
          1.300378864615394,
          0.7684830420751022,
          0.4565770271986459,
          0.2721392414066705
         ],
         "xaxis": "x",
         "y": [
          0.6905382611955047,
          1.886320297254906,
          4.508753187310129,
          8.516922947627386,
          12.134418344972692,
          13.446603797322052,
          12.31663166810001,
          9.838639382265017,
          7.048892680304215,
          4.5942847822636494,
          2.9191893520332513,
          1.8876554524877334,
          1.2498471620852627,
          0.8355094038559042,
          0.5611104142863268
         ],
         "yaxis": "y"
        },
        {
         "legendgroup": "train_13",
         "mode": "markers",
         "name": "Run id in Train 13",
         "type": "scatter",
         "x": [
          0.7397959183673469,
          2.0932798335703744,
          4.988371973144161,
          8.961674224473938,
          11.916455937922128,
          12.580053813163431,
          11.425458869513504,
          9.42725806498084,
          7.261048482116555,
          5.314589433638116,
          3.864166905680257,
          2.793086596716929,
          2.007452603973621,
          1.436198139885796,
          1.023945947342565
         ],
         "xaxis": "x",
         "y": [
          0.7493291414574162,
          2.0208104117086916,
          4.74026803648125,
          8.818199868688929,
          12.591349371501725,
          14.200952624656882,
          13.309312829463494,
          10.880338533672083,
          7.952733741864611,
          5.227258045857524,
          3.353507995808446,
          2.1863659404818803,
          1.451552304649152,
          0.9712929757248047,
          0.6596251930863367
         ],
         "yaxis": "y"
        },
        {
         "legendgroup": "train_14",
         "mode": "markers",
         "name": "Run id in Train 14",
         "type": "scatter",
         "x": [
          0.9132653061224488,
          2.268700003075957,
          4.852817605190676,
          8.03020144985266,
          9.849429257100594,
          9.41700644818678,
          7.520062556504349,
          5.260973437955173,
          3.344908565936372,
          2.0025458697630176,
          1.1628548044785942,
          0.6681238524519214,
          0.3817906954042855,
          0.2175108950812728,
          0.1237074813855766
         ],
         "xaxis": "x",
         "y": [
          0.8988873841159677,
          2.440823492671808,
          5.680217384073053,
          10.07076218200087,
          12.947062193307712,
          13.120455134721865,
          11.333455254295279,
          8.983722379321186,
          6.779349329472125,
          4.8509198583333895,
          3.376827113200677,
          2.3278346693238934,
          1.6073192012281936,
          1.120228233405273,
          0.7673623136907283
         ],
         "yaxis": "y"
        },
        {
         "legendgroup": "train_15",
         "mode": "markers",
         "name": "Run id in Train 15",
         "type": "scatter",
         "x": [
          0.9540816326530612,
          2.367342281659226,
          5.027991030327787,
          8.465589732275065,
          10.977214084733218,
          11.298221524962116,
          9.665324913154048,
          7.141607212815919,
          4.770577720546938,
          3.0208431828807,
          1.8677986607649288,
          1.1428102738448511,
          0.6950128093663546,
          0.4211774265021741,
          0.2546938298816966
         ],
         "xaxis": "x",
         "y": [
          0.9610108953687279,
          2.528527473551125,
          5.688521048216851,
          9.893808288060757,
          12.707730955997599,
          12.73273823560594,
          10.515833923445808,
          7.358887244526352,
          4.373436873563225,
          2.2351954597661705,
          1.0254626448530995,
          0.38471488163542067,
          0.052400515864597486,
          -0.09210558820207237,
          -0.135303176474026
         ],
         "yaxis": "y"
        },
        {
         "legendgroup": "train_16",
         "mode": "markers",
         "name": "Run id in Train 16",
         "type": "scatter",
         "x": [
          0.7091836734693877,
          2.031120047613229,
          5.0607865396963145,
          9.811731190638346,
          13.705226987387707,
          14.11094751309537,
          11.495394691205163,
          7.844975652540778,
          4.758585473852402,
          2.746166858492201,
          1.5624130281404758,
          0.8826520025943043,
          0.496823032931045,
          0.2791089499380181,
          0.1566367060258852
         ],
         "xaxis": "x",
         "y": [
          0.7213946048491661,
          1.9520226153363873,
          4.585435354764785,
          8.386411291227569,
          11.255080503599872,
          11.65474499985125,
          9.728499813769005,
          6.873808918982435,
          4.187713978937268,
          2.244700200843965,
          1.1502224693199947,
          0.598543707381042,
          0.3107867997968483,
          0.15011454234063915,
          0.06255189166188913
         ],
         "yaxis": "y"
        },
        {
         "legendgroup": "train_17",
         "mode": "markers",
         "name": "Run id in Train 17",
         "type": "scatter",
         "x": [
          0.5051020408163265,
          1.5395095794355145,
          4.170322326771822,
          8.872307890111077,
          13.492753111350268,
          14.946517948610614,
          13.044323492488331,
          9.38840829027414,
          5.64549552050192,
          2.9742752841713527,
          1.4758636693661418,
          0.7192374603146248,
          0.3489000392746019,
          0.1688870733719879,
          0.0816666440022619
         ],
         "xaxis": "x",
         "y": [
          0.5133032200326981,
          1.4629844585075067,
          3.745780979125932,
          7.687489782104107,
          11.680141606861731,
          13.234817177125771,
          12.264758970614796,
          9.725462462803858,
          6.78333389702081,
          4.363484520527025,
          2.6761513681489495,
          1.6373403169909255,
          1.0290617746996467,
          0.660912405062361,
          0.4328601965955621
         ],
         "yaxis": "y"
        },
        {
         "legendgroup": "train_18",
         "mode": "markers",
         "name": "Run id in Train 18",
         "type": "scatter",
         "x": [
          0.8112244897959184,
          2.435858405511861,
          5.961413488526969,
          10.42636474501128,
          12.79723266806944,
          11.990451310009338,
          9.219196995695562,
          6.006234572258977,
          3.437115573746232,
          1.829965729665929,
          0.9461302517795804,
          0.4839226222384316,
          0.246555080124136,
          0.1253995058246693,
          0.063725743226018
         ],
         "xaxis": "x",
         "y": [
          0.8122487458847234,
          2.211781777210872,
          5.2259563816003585,
          9.624956904138031,
          13.077594152601769,
          13.76059392813715,
          12.259306332967581,
          9.653440012859159,
          6.899838437902089,
          4.634266373822877,
          2.97968533797804,
          1.8669815131095298,
          1.1666794345139349,
          0.7464783100639563,
          0.48465732428182173
         ],
         "yaxis": "y"
        },
        {
         "legendgroup": "train_19",
         "mode": "markers",
         "name": "Run id in Train 19",
         "type": "scatter",
         "x": [
          0.5561224489795918,
          1.4257427421108804,
          3.3432933783312624,
          6.6284768975394135,
          10.4461174666061,
          13.06205208865169,
          13.606463927585786,
          12.46234608131146,
          10.385803560623968,
          7.945368526273156,
          5.485308584405903,
          3.5750719942868177,
          2.370530066085736,
          1.5898761954124825,
          1.0741649177874006
         ],
         "xaxis": "x",
         "y": [
          0.5455562166370814,
          1.5500358968384353,
          3.9536820645524187,
          8.181485832357383,
          13.016838439065406,
          15.737340427885131,
          15.804968122026079,
          13.841923833446145,
          10.861080498858644,
          7.728584077686596,
          5.254893538979202,
          3.566246876525306,
          2.464064147606029,
          1.7202388616997815,
          1.2055280823287755
         ],
         "yaxis": "y"
        },
        {
         "legendgroup": "train_20",
         "mode": "markers",
         "name": "Run id in Train 20",
         "type": "scatter",
         "x": [
          0.6581632653061225,
          1.685321229352324,
          3.8508270529947928,
          7.220189710401732,
          10.576576422001322,
          12.33718107549764,
          12.172890010167036,
          10.721396732669987,
          8.697922274897833,
          6.550454396733091,
          4.814264956820509,
          3.55685819858454,
          2.628179025105676,
          1.9389506067955613,
          1.4277951086179823
         ],
         "xaxis": "x",
         "y": [
          0.6785485334590898,
          1.8789458417509193,
          4.546834565452965,
          8.702943577307623,
          12.652909107329439,
          14.507609198199981,
          13.957818580899307,
          11.870027876140567,
          9.162204889386539,
          6.45850654364032,
          4.405806313077958,
          3.010741609752972,
          2.082304939946992,
          1.4512111504252352,
          1.0206880195089796
         ],
         "yaxis": "y"
        },
        {
         "legendgroup": "train_21",
         "mode": "markers",
         "name": "Run id in Train 21",
         "type": "scatter",
         "x": [
          0.6071428571428571,
          1.704916153784669,
          4.247868088374872,
          8.283424816314591,
          11.55107021979292,
          11.946885496405434,
          10.05368020938228,
          7.439991313957908,
          5.102622058690177,
          3.3504012840129023,
          2.1456734894040617,
          1.3543320777174386,
          0.8474062834159186,
          0.5274006136363352,
          0.3271685272912421
         ],
         "xaxis": "x",
         "y": [
          0.623454262798609,
          1.7620503205157543,
          4.361389650228128,
          8.319894685844757,
          11.233903276473974,
          11.428232635240565,
          9.520539467875874,
          6.89365253643793,
          4.518084239759984,
          2.8916554131037424,
          1.7913077820349055,
          1.098531754740316,
          0.6847672961473154,
          0.438150871286942,
          0.278843381766338
         ],
         "yaxis": "y"
        },
        {
         "legendgroup": "train_22",
         "mode": "markers",
         "name": "Run id in Train 22",
         "type": "scatter",
         "x": [
          0.8928571428571428,
          2.3350802322236013,
          5.2557023533384495,
          9.289435962758969,
          12.492749769115903,
          13.300463661196533,
          11.947722528698772,
          9.379765315653389,
          6.343753672846081,
          3.5708275420073536,
          1.7868094317494536,
          0.8886376126994404,
          0.442200977584012,
          0.2201523652671352,
          0.1096358304603639
         ],
         "xaxis": "x",
         "y": [
          0.9084236172863267,
          2.396346184948469,
          5.435952019338863,
          9.699211672508238,
          13.180157071504922,
          14.15641869287892,
          12.708950286297448,
          9.815478436968366,
          6.612050671052249,
          3.953436988858204,
          2.2617253779303623,
          1.2633896596304808,
          0.6813401789014011,
          0.3591665475455932,
          0.19680963182659295
         ],
         "yaxis": "y"
        },
        {
         "legendgroup": "train_23",
         "mode": "markers",
         "name": "Run id in Train 23",
         "type": "scatter",
         "x": [
          0.9948979591836736,
          2.724153484749099,
          6.3707816747891926,
          11.549482031397128,
          15.917233796260168,
          17.741899341332616,
          17.181804664477998,
          15.153215229575952,
          12.363925634613343,
          8.621498246835316,
          5.8075983017902,
          3.8930001983690814,
          2.601598848467503,
          1.7351935137964911,
          1.1558606431059135
         ],
         "xaxis": "x",
         "y": [
          0.9683992650382451,
          2.589227606238085,
          5.91953285825277,
          10.494980786278864,
          14.341850301281317,
          16.0693841694575,
          15.53101096208112,
          13.701592454519481,
          11.219930638255544,
          8.260848147715869,
          5.886086726469136,
          4.183069689401248,
          2.9805263841775353,
          2.1236530290663533,
          1.4988645440719406
         ],
         "yaxis": "y"
        },
        {
         "legendgroup": "train_24",
         "mode": "markers",
         "name": "Run id in Train 24",
         "type": "scatter",
         "x": [
          0.5663265306122449,
          1.6771093009774558,
          4.379731070195562,
          8.814428066154804,
          12.554055541493298,
          13.424131104834624,
          11.962167160326796,
          9.455430182571265,
          6.7596940358204325,
          4.373322113045097,
          2.589368718003216,
          1.450686301806721,
          0.8038656628412996,
          0.4445277900923833,
          0.2455700767878137
         ],
         "xaxis": "x",
         "y": [
          0.5557734529466957,
          1.6180637661874013,
          4.169067910824856,
          8.32124229728291,
          11.906698924725235,
          12.844852822497707,
          11.625543137269773,
          9.449672310233376,
          7.1666218082552895,
          5.212690894036873,
          3.6150808961895278,
          2.4746451075165,
          1.7215061643679401,
          1.2147963628822838,
          0.8444683085861833
         ],
         "yaxis": "y"
        },
        {
         "legendgroup": "train_25",
         "mode": "markers",
         "name": "Run id in Train 25",
         "type": "scatter",
         "x": [
          0.7704081632653061,
          2.151854148193768,
          5.140486648583636,
          9.30280586447139,
          12.26575518353688,
          12.741214421952844,
          11.428516567248533,
          9.32322404371885,
          7.042106481499884,
          4.90236484657312,
          3.1089254719527,
          1.9320232792738623,
          1.2178531519640323,
          0.7751231354680042,
          0.4964700790761943
         ],
         "xaxis": "x",
         "y": [
          0.7541327340707391,
          2.0941606032085107,
          5.0467089152764935,
          9.360486013476862,
          12.644742052484858,
          13.303135751205076,
          11.895400895806809,
          9.701035605553338,
          7.466962345780714,
          5.436747726878705,
          3.8119921808021857,
          2.644955426018731,
          1.8494969179009937,
          1.3052690317506321,
          0.9060781320581968
         ],
         "yaxis": "y"
        },
        {
         "legendgroup": "train_26",
         "mode": "markers",
         "name": "Run id in Train 26",
         "type": "scatter",
         "x": [
          0.5459183673469388,
          1.4612526535185737,
          3.5588105560735417,
          7.106884653233597,
          10.320064695094043,
          10.863672285246889,
          9.049290698641858,
          6.52501914594416,
          4.329889270118319,
          2.7411300342703435,
          1.6892374665766086,
          1.024806199587152,
          0.6159936416061322,
          0.3682493960337067,
          0.2194372578287619
         ],
         "xaxis": "x",
         "y": [
          0.553095606792099,
          1.5717066418264856,
          3.9540543935157864,
          7.7400213873997705,
          10.78071110202381,
          11.162859405920644,
          9.287981443078438,
          6.556901636440723,
          4.048745900459593,
          2.3632188030928947,
          1.3159939335249573,
          0.7322238743820806,
          0.4211009634549191,
          0.24568006067951154,
          0.13598659646897499
         ],
         "yaxis": "y"
        },
        {
         "legendgroup": "train_27",
         "mode": "markers",
         "name": "Run id in Train 27",
         "type": "scatter",
         "x": [
          0.75,
          2.083893336988898,
          5.067346416088848,
          9.700998168028448,
          13.808835852497104,
          15.30512697665309,
          14.346966807721929,
          12.044545101050092,
          9.268962591481236,
          6.497915751245502,
          4.134784100960853,
          2.6506825128490155,
          1.7306129311879863,
          1.143206551169588,
          0.7608529283796743
         ],
         "xaxis": "x",
         "y": [
          0.7482710279621568,
          2.0517700978757762,
          4.895240495592279,
          9.1313222986807,
          12.702823025210144,
          13.815422919411326,
          12.653935175849488,
          10.307751320554033,
          7.6853010779270665,
          5.309004639848193,
          3.5492812213806997,
          2.368021697454453,
          1.598701258276566,
          1.0929386981672053,
          0.7478552311269431
         ],
         "yaxis": "y"
        },
        {
         "legendgroup": "train_28",
         "mode": "markers",
         "name": "Run id in Train 28",
         "type": "scatter",
         "x": [
          0.576530612244898,
          1.696045953610509,
          4.475798278854103,
          9.544466207759733,
          15.16531396381901,
          18.47074228676544,
          18.751854241389506,
          16.999519428238006,
          14.363996218092185,
          11.604576843178217,
          9.100675836876158,
          6.995347572971533,
          5.306411384179855,
          3.9839077410901913,
          2.966695184039032
         ],
         "xaxis": "x",
         "y": [
          0.5883049172424255,
          1.6966546050924025,
          4.3168137496966725,
          8.665693525919316,
          13.041008636732702,
          15.263496400391608,
          15.163562103238515,
          13.46965238171413,
          10.964896402698395,
          8.21249094562939,
          5.8489540742631005,
          4.105293723355812,
          2.902492553018887,
          2.0679646407392753,
          1.474643812532456
         ],
         "yaxis": "y"
        },
        {
         "legendgroup": "train_29",
         "mode": "markers",
         "name": "Run id in Train 29",
         "type": "scatter",
         "x": [
          0.8316326530612245,
          2.4182968063591703,
          6.1106357822366,
          11.852894769474116,
          16.653269229028503,
          18.1448033705536,
          16.85728446876505,
          14.208639126663268,
          11.239797988952644,
          8.474083677021213,
          6.075095296147305,
          4.023688170056238,
          2.567496189452761,
          1.6726642367271911,
          1.1025407004970518
         ],
         "xaxis": "x",
         "y": [
          0.8305247292568769,
          2.259207815507453,
          5.328372608975526,
          9.799372325933614,
          13.339162651549413,
          14.106038817961114,
          12.693958917322586,
          10.138368006640807,
          7.373492552251903,
          5.031987839380742,
          3.2830068259423606,
          2.085478486665242,
          1.3214126730520028,
          0.8572077408007579,
          0.5640839733270848
         ],
         "yaxis": "y"
        },
        {
         "legendgroup": "train_30",
         "mode": "markers",
         "name": "Run id in Train 30",
         "type": "scatter",
         "x": [
          0.75,
          2.11838522099468,
          5.300777801136268,
          10.531619241902058,
          15.625152148324371,
          18.365283029377498,
          18.735569286962225,
          17.523220850761664,
          15.45560463907854,
          13.082587497614089,
          10.75654587793331,
          8.670837906549645,
          6.868595783995239,
          5.334868052328891,
          3.927190522113845
         ],
         "xaxis": "x",
         "y": [
          0.7251756249680366,
          2.0209923503451708,
          4.906171943394423,
          9.198966314988576,
          12.622241920418023,
          13.451933376128297,
          12.160367747909234,
          10.01187983244939,
          7.761803317270623,
          5.661887473623481,
          3.973849404943763,
          2.768361117751674,
          1.9486631529580205,
          1.382118627233229,
          0.9611253069449295
         ],
         "yaxis": "y"
        },
        {
         "legendgroup": "test_0",
         "mode": "markers",
         "name": "Run id in Test 0",
         "type": "scatter",
         "x": [
          0.9846938775510204,
          2.9249576819091097,
          7.444332832191713,
          14.420480064339324,
          20.57081333243489,
          23.12755137436929,
          22.33065010823708,
          19.648806069957416,
          16.31282380897557,
          13.028843938823911,
          10.102605608179564,
          7.629152917195547,
          5.731307831914585,
          4.294304959498489,
          3.2079190607230106
         ],
         "xaxis": "x2",
         "y": [
          0.9334546672571958,
          2.4706343166466227,
          5.671973962337976,
          10.360598383150846,
          14.796478642172747,
          16.64991380315898,
          15.965906973764884,
          13.514019395517568,
          10.283559909312253,
          7.036722245073289,
          4.611000512668472,
          2.9932342460813834,
          1.958259974547806,
          1.3007825459779043,
          0.8653883965644111
         ],
         "yaxis": "y2"
        },
        {
         "legendgroup": "test_1",
         "mode": "markers",
         "name": "Run id in Test 1",
         "type": "scatter",
         "x": [
          0.7602040816326531,
          1.9141143764556665,
          4.408003876496271,
          8.6231479106663,
          13.457148205276154,
          16.834281247208605,
          17.857446383705128,
          16.99522186258524,
          15.068785638787078,
          12.793489696074769,
          10.597325015932462,
          8.59544420181317,
          6.853541356095238,
          5.38786140727645,
          4.18265740274008
         ],
         "xaxis": "x2",
         "y": [
          0.7799676508707951,
          2.159542274487928,
          5.14101426438591,
          9.420457608268494,
          12.848990230724828,
          14.204685917188346,
          13.462903907232974,
          11.703615631603167,
          9.55596927818576,
          7.173707844821021,
          5.203771888118542,
          3.7482231890296536,
          2.7024995782472074,
          1.9471955066851239,
          1.394791660472815
         ],
         "yaxis": "y2"
        },
        {
         "legendgroup": "test_2",
         "mode": "markers",
         "name": "Run id in Test 2",
         "type": "scatter",
         "x": [
          0.6377551020408163,
          1.7596767331437484,
          4.320048035023024,
          8.600099814712605,
          13.129010583057209,
          15.86887489530228,
          16.314060822920034,
          15.128350980501,
          13.118424032866182,
          10.845032804189962,
          8.611928610057822,
          6.721336704242177,
          5.249987862906268,
          4.091917406485745,
          3.180171977396879
         ],
         "xaxis": "x2",
         "y": [
          0.6391376042758261,
          1.8163568388071494,
          4.534013351208761,
          8.902904290802388,
          13.136322191995912,
          15.165726845445157,
          14.897456640388768,
          13.14740365278826,
          10.678345970310614,
          7.973976716079638,
          5.67636303708812,
          3.9898074207505094,
          2.8246964067571145,
          2.013287556394124,
          1.4311647923714192
         ],
         "yaxis": "y2"
        },
        {
         "legendgroup": "test_3",
         "mode": "markers",
         "name": "Run id in Test 3",
         "type": "scatter",
         "x": [
          0.6683673469387755,
          1.8479761959252927,
          4.5642475791718695,
          9.101866917551046,
          13.763741305573545,
          16.39181066854337,
          16.588673250600085,
          15.121065257143862,
          12.880994022025028,
          10.494696740233676,
          8.276399606720522,
          6.112053610273055,
          3.960093130262047,
          2.557747831948446,
          1.6487988889593452
         ],
         "xaxis": "x2",
         "y": [
          0.6821429066064587,
          1.9407135675572866,
          4.7867147655074085,
          9.088505697033057,
          12.695557825198701,
          14.138732079181356,
          13.519195140509034,
          11.894105828679969,
          9.861855389026978,
          7.575933797521505,
          5.561956213402331,
          4.024407883216307,
          2.9160128048616274,
          2.1142317438833906,
          1.5187563939813842
         ],
         "yaxis": "y2"
        },
        {
         "legendgroup": "test_4",
         "mode": "markers",
         "name": "Run id in Test 4",
         "type": "scatter",
         "x": [
          0.8214285714285714,
          2.462338134351961,
          6.204794037706704,
          11.455830213030046,
          15.029129484664557,
          15.46330643203451,
          13.775109141164494,
          11.194697479273378,
          8.439502937137675,
          5.831525356659873,
          3.89278824381229,
          2.6769952754832365,
          1.8716034350620616,
          1.320869574866547,
          0.9373903299802034
         ],
         "xaxis": "x2",
         "y": [
          0.8539515111373739,
          2.319556089827617,
          5.39133051409762,
          9.555075757148401,
          12.161476049830846,
          12.17043696731364,
          10.197830786383728,
          7.603837038743626,
          5.240722636759758,
          3.452219447285189,
          2.243626678291237,
          1.447592558426844,
          0.9288302084987425,
          0.6052506549498727,
          0.4014719674143651
         ],
         "yaxis": "y2"
        },
        {
         "legendgroup": "test_5",
         "mode": "markers",
         "name": "Run id in Test 5",
         "type": "scatter",
         "x": [
          0.5357142857142857,
          1.68535612201013,
          4.750910857750842,
          10.527563515639322,
          16.384892612448336,
          18.71899028723027,
          17.642047191967187,
          14.84113370432232,
          11.547197993927814,
          8.368835642374764,
          5.550515941164199,
          3.400201224606473,
          2.123828050301551,
          1.3483571723438612,
          0.864549860389209
         ],
         "xaxis": "x2",
         "y": [
          0.5193999898390149,
          1.5129972945578243,
          3.9349289538471544,
          8.037809714887397,
          11.989670608181406,
          13.44953671952415,
          12.57269915547145,
          10.432716810675302,
          7.95134487361488,
          5.69267672742577,
          3.894675816683699,
          2.6530880409835804,
          1.8455764362429397,
          1.299530177043469,
          0.9037552575331779
         ],
         "yaxis": "y2"
        },
        {
         "legendgroup": "test_6",
         "mode": "markers",
         "name": "Run id in Test 6",
         "type": "scatter",
         "x": [
          0.9642857142857144,
          2.7309189004610017,
          6.496967810835099,
          11.712526422702096,
          15.86566984919472,
          17.518274325752582,
          17.049508108239532,
          15.339560792436927,
          13.11520485201357,
          10.836341627146137,
          8.748004765272608,
          6.940423704135373,
          5.421358011949733,
          4.157669835361252,
          3.027012159344149
         ],
         "xaxis": "x2",
         "y": [
          0.933039038794337,
          2.5242055417562552,
          5.8550900010711935,
          10.446840493560101,
          13.979662146184054,
          15.080432750162508,
          14.089261308704593,
          12.151398733919798,
          9.875121358871848,
          7.357082983953328,
          5.2768819706786,
          3.745380494638751,
          2.661657326564905,
          1.8971462547812328,
          1.332643047767148
         ],
         "yaxis": "y2"
        },
        {
         "legendgroup": "test_7",
         "mode": "markers",
         "name": "Run id in Test 7",
         "type": "scatter",
         "x": [
          0.8622448979591837,
          2.331143803305513,
          5.496622671227072,
          10.20537730486747,
          14.299665039067758,
          15.96548171229209,
          15.372177818756573,
          13.498156448189532,
          11.164486041753278,
          8.850690795800881,
          6.801418450313421,
          5.185592772160354,
          3.932335026469168,
          2.9668846208042594,
          2.2290717204845274
         ],
         "xaxis": "x2",
         "y": [
          0.8660855864019404,
          2.3857760783113258,
          5.637183491965923,
          10.207254923968634,
          13.668787017219342,
          14.776115881299479,
          13.911915581289621,
          12.14207438640803,
          10.020967744320247,
          7.653477131723305,
          5.58828259286701,
          4.00020361885918,
          2.854690344590882,
          2.0455402004877916,
          1.4558539673253132
         ],
         "yaxis": "y2"
        },
        {
         "legendgroup": "test_8",
         "mode": "markers",
         "name": "Run id in Test 8",
         "type": "scatter",
         "x": [
          0.6275510204081632,
          1.966509895702454,
          5.4703296564633614,
          11.75929246310936,
          17.798476959757984,
          20.25767094292334,
          19.398185047268417,
          16.755642131725846,
          13.55094811108645,
          10.481962644716347,
          7.857313430365911,
          5.811171729991748,
          4.2584707583927095,
          3.0973636223609207,
          2.240048684169528
         ],
         "xaxis": "x2",
         "y": [
          0.6181249020822422,
          1.7812699826206737,
          4.4932589582481866,
          8.743277745805443,
          12.40738326044304,
          13.712013622444621,
          12.907443157905206,
          11.140701590562928,
          9.07710840948455,
          6.916124141574354,
          5.027127344243173,
          3.6083427640228853,
          2.607509679727271,
          1.8888661405130671,
          1.3461114524784348
         ],
         "yaxis": "y2"
        },
        {
         "legendgroup": "test_9",
         "mode": "markers",
         "name": "Run id in Test 9",
         "type": "scatter",
         "x": [
          0.8010204081632653,
          2.339410182422604,
          6.0419955584897975,
          12.429172992150209,
          19.0638331981036,
          22.700661141137463,
          22.85778892850325,
          20.76765902113485,
          17.695686246636583,
          14.451046918863232,
          11.429553184034148,
          8.81126297917751,
          6.767892149629804,
          5.174965627060598,
          3.937534851903999
         ],
         "xaxis": "x2",
         "y": [
          0.8058262929015713,
          2.162312396588583,
          5.052816612118087,
          9.371794895275087,
          13.189663116910243,
          14.396848702134019,
          13.164920604641102,
          10.391385958663662,
          7.210047928935428,
          4.5406964908867415,
          2.721136487284088,
          1.5883924957467759,
          0.9161917559475254,
          0.5344310776681993,
          0.32306948819800957
         ],
         "yaxis": "y2"
        },
        {
         "legendgroup": "test_10",
         "mode": "markers",
         "name": "Run id in Test 10",
         "type": "scatter",
         "x": [
          0.5255102040816326,
          1.542944523336143,
          4.111079413586001,
          8.963076939330202,
          14.544645094511967,
          18.04047070058947,
          18.84870496269079,
          17.78007013831816,
          15.691412933616666,
          13.226330834280551,
          10.79079447405206,
          8.629169774506371,
          6.794817697582468,
          5.271066535858475,
          4.017629690968412
         ],
         "xaxis": "x2",
         "y": [
          0.5043124689575463,
          1.4695502522337827,
          3.830847961740743,
          7.834863118720815,
          11.656849220977577,
          12.977562933280003,
          11.944602926408963,
          9.725674911412428,
          7.269058137764285,
          5.113053958632415,
          3.4526927377961547,
          2.340382879115909,
          1.6297763329479218,
          1.1475504879231029,
          0.792731970881424
         ],
         "yaxis": "y2"
        },
        {
         "legendgroup": "test_11",
         "mode": "markers",
         "name": "Run id in Test 11",
         "type": "scatter",
         "x": [
          0.9336734693877552,
          2.437065710148363,
          5.62796875469204,
          10.533862335746935,
          15.299290333717591,
          17.875320862162734,
          17.969674835262136,
          16.391071193811836,
          14.038007795709742,
          11.533274365430168,
          9.195745593943654,
          7.112231654820247,
          4.969438825805817,
          3.2717696020474447,
          2.149185943850851
         ],
         "xaxis": "x2",
         "y": [
          0.9152194448901663,
          2.4491156036241573,
          5.629665522806614,
          10.0680617582026,
          13.713447391379482,
          15.01753629444845,
          14.035887970277425,
          11.819505364438243,
          9.172425788777598,
          6.466790863225878,
          4.430413901529215,
          3.0375686768824104,
          2.0965806577309154,
          1.4557658593989087,
          1.0062975005795387
         ],
         "yaxis": "y2"
        },
        {
         "legendgroup": "test_12",
         "mode": "markers",
         "name": "Run id in Test 12",
         "type": "scatter",
         "x": [
          0.6479591836734694,
          1.884819157337169,
          4.857121815360596,
          9.883852342577676,
          14.745478184452407,
          16.750903296290836,
          15.855890776999102,
          13.4084180343061,
          10.541080300045364,
          7.838598393293369,
          5.537871658750931,
          3.8998106271285167,
          2.751999359383246,
          1.940978937310896,
          1.3673696888707296
         ],
         "xaxis": "x2",
         "y": [
          0.6371093935680683,
          1.777599955798477,
          4.379180025829419,
          8.575290775253764,
          12.724162193503217,
          14.594682592317188,
          14.009180317395156,
          11.877119631995443,
          9.142294880813635,
          6.443663528462274,
          4.369591366801312,
          2.9658821070388326,
          2.047546267274028,
          1.427048779777858,
          0.9927291333640342
         ],
         "yaxis": "y2"
        },
        {
         "legendgroup": "test_13",
         "mode": "markers",
         "name": "Run id in Test 13",
         "type": "scatter",
         "x": [
          0.5867346938775511,
          1.75224472840841,
          4.626422304609773,
          9.554697980944976,
          14.351559517739917,
          16.306983739372416,
          15.354023140977375,
          12.884585124732602,
          10.07134964767596,
          7.510842411848839,
          5.396747823002425,
          3.775682093010206,
          2.62885136314987,
          1.823744181150547,
          1.2617144548275685
         ],
         "xaxis": "x2",
         "y": [
          0.5711727717349524,
          1.636911298246261,
          4.184462236630308,
          8.614473117537793,
          13.69759204959304,
          16.79051369868444,
          17.310718270665763,
          15.772813276231881,
          13.003839938779588,
          9.690744473427582,
          6.864156794525587,
          4.816127231129348,
          3.4147926782968807,
          2.4354236412317594,
          1.7331573645461156
         ],
         "yaxis": "y2"
        },
        {
         "legendgroup": "test_14",
         "mode": "markers",
         "name": "Run id in Test 14",
         "type": "scatter",
         "x": [
          0.7193877551020408,
          1.8819649327552248,
          4.431622324838061,
          8.619809650994062,
          13.020876150688665,
          15.515499060036886,
          15.599965118787315,
          14.051640993658378,
          11.782572421294605,
          9.403752555916933,
          7.219481888621721,
          5.344457577067406,
          3.934198389414581,
          2.897586446932469,
          2.1311363407691504
         ],
         "xaxis": "x2",
         "y": [
          0.6613928462492973,
          1.8361975078287227,
          4.535853468178726,
          8.989975010840103,
          13.691885886786523,
          15.931114690271173,
          15.61643303609544,
          13.558265456712709,
          10.684462767466837,
          7.663681955526526,
          5.2372312373880625,
          3.5593115605357353,
          2.460452185655375,
          1.7195575794788094,
          1.1874860319342284
         ],
         "yaxis": "y2"
        },
        {
         "legendgroup": "test_15",
         "mode": "markers",
         "name": "Run id in Test 15",
         "type": "scatter",
         "x": [
          0.8826530612244898,
          2.301700917119291,
          5.221233783249605,
          9.405183220458456,
          12.989315041294953,
          14.45608728431214,
          13.939459640554592,
          12.272193189642197,
          10.170481276864445,
          8.119481293771605,
          6.3870512257453775,
          4.958828121214336,
          3.808676492326277,
          2.9007645035005254,
          2.195065592587444
         ],
         "xaxis": "x2",
         "y": [
          0.8890717194041499,
          2.4213468102424454,
          5.634968911567499,
          10.036763763772834,
          13.289444038603484,
          14.328736482575115,
          13.329698166208875,
          11.453145117692145,
          9.299012647261213,
          6.942899495623919,
          5.021186854470381,
          3.6029132776197663,
          2.5825946160815185,
          1.8513533829869715,
          1.316327423416301
         ],
         "yaxis": "y2"
        },
        {
         "legendgroup": "test_16",
         "mode": "markers",
         "name": "Run id in Test 16",
         "type": "scatter",
         "x": [
          0.9438775510204082,
          2.8608285925892134,
          7.211490532463949,
          13.22033673014351,
          17.38034576855179,
          18.169166945611025,
          16.553907900096718,
          13.863207809745452,
          11.0034580506766,
          8.42873035096861,
          6.321499692051502,
          4.671305057674692,
          3.411394976707729,
          2.467823605597711,
          1.7713327375780012
         ],
         "xaxis": "x2",
         "y": [
          0.9386602867473585,
          2.5291530082094114,
          5.818359047227319,
          10.215562381695051,
          13.16645006095413,
          13.580985160920731,
          11.983495413928855,
          9.687741157983533,
          7.401268837054686,
          5.276669327916662,
          3.6739015098263397,
          2.544642289404385,
          1.7633015763468376,
          1.2297606958739418,
          0.8494815475138032
         ],
         "yaxis": "y2"
        },
        {
         "legendgroup": "test_17",
         "mode": "markers",
         "name": "Run id in Test 17",
         "type": "scatter",
         "x": [
          0.903061224489796,
          2.2853857876023507,
          5.207498757579862,
          9.834180339586856,
          14.387777013134414,
          16.518293170572928,
          15.828301258336182,
          13.28438736410519,
          9.913147649435132,
          6.653166686717479,
          4.473402355110158,
          3.0820159980536745,
          2.162848716950996,
          1.5374121883957808,
          1.1024930459376108
         ],
         "xaxis": "x2",
         "y": [
          0.9471431484613779,
          2.5176093534085346,
          5.690024824659201,
          9.836979340573162,
          12.378914823814673,
          12.362195002929147,
          10.262338011865765,
          7.379326088581875,
          4.692022371169887,
          2.7174485255133334,
          1.5415407855829892,
          0.8528515982100686,
          0.4401220828049953,
          0.2153161457886973,
          0.10984348614651507
         ],
         "yaxis": "y2"
        },
        {
         "legendgroup": "test_18",
         "mode": "markers",
         "name": "Run id in Test 18",
         "type": "scatter",
         "x": [
          0.8520408163265306,
          2.394281632269277,
          5.874275295524471,
          11.342460340273425,
          16.424580746592124,
          18.73494831787969,
          18.266700666445463,
          16.14155873776271,
          13.331454907504677,
          10.520866257083032,
          8.27961915944311,
          6.467422789957415,
          5.007659365321414,
          3.847656521493039,
          2.9379087226288005
         ],
         "xaxis": "x2",
         "y": [
          0.8765024332342893,
          2.3353021298109833,
          5.332899490069346,
          9.448214656988831,
          12.488238992764774,
          13.117118545452533,
          11.474800541309026,
          8.744578613974545,
          5.939166373455874,
          3.646005700806411,
          2.1958316764528814,
          1.3316339608424594,
          0.8049433746736888,
          0.4880901633194596,
          0.3058875040402478
         ],
         "yaxis": "y2"
        }
       ],
       "layout": {
        "annotations": [
         {
          "font": {
           "size": 16
          },
          "showarrow": false,
          "text": "Train Set - X:VCD <br> R^2 = 0.89 <br> Abs RMSE = 1.253 <br> Rel RMSE = 0.254",
          "x": 0.225,
          "xanchor": "center",
          "xref": "paper",
          "y": 1,
          "yanchor": "bottom",
          "yref": "paper"
         },
         {
          "font": {
           "size": 16
          },
          "showarrow": false,
          "text": "Test Set - X:VCD <br> R^2 = 0.709 <br> Abs RMSE = 2.911 <br> Rel RMSE = 0.492",
          "x": 0.775,
          "xanchor": "center",
          "xref": "paper",
          "y": 1,
          "yanchor": "bottom",
          "yref": "paper"
         }
        ],
        "shapes": [
         {
          "layer": "above",
          "line": {
           "dash": "dash"
          },
          "type": "line",
          "x0": -0.16640805187224106,
          "x1": 16.0693841694575,
          "y0": -0.16640805187224106,
          "y1": 16.0693841694575
         },
         {
          "layer": "above",
          "line": {
           "dash": "dash"
          },
          "type": "line",
          "x0": 0.10984348614651507,
          "x1": 17.310718270665763,
          "xref": "x2",
          "y0": 0.10984348614651507,
          "y1": 17.310718270665763,
          "yref": "y2"
         }
        ],
        "template": {
         "data": {
          "bar": [
           {
            "error_x": {
             "color": "#2a3f5f"
            },
            "error_y": {
             "color": "#2a3f5f"
            },
            "marker": {
             "line": {
              "color": "white",
              "width": 0.5
             },
             "pattern": {
              "fillmode": "overlay",
              "size": 10,
              "solidity": 0.2
             }
            },
            "type": "bar"
           }
          ],
          "barpolar": [
           {
            "marker": {
             "line": {
              "color": "white",
              "width": 0.5
             },
             "pattern": {
              "fillmode": "overlay",
              "size": 10,
              "solidity": 0.2
             }
            },
            "type": "barpolar"
           }
          ],
          "carpet": [
           {
            "aaxis": {
             "endlinecolor": "#2a3f5f",
             "gridcolor": "#C8D4E3",
             "linecolor": "#C8D4E3",
             "minorgridcolor": "#C8D4E3",
             "startlinecolor": "#2a3f5f"
            },
            "baxis": {
             "endlinecolor": "#2a3f5f",
             "gridcolor": "#C8D4E3",
             "linecolor": "#C8D4E3",
             "minorgridcolor": "#C8D4E3",
             "startlinecolor": "#2a3f5f"
            },
            "type": "carpet"
           }
          ],
          "choropleth": [
           {
            "colorbar": {
             "outlinewidth": 0,
             "ticks": ""
            },
            "type": "choropleth"
           }
          ],
          "contour": [
           {
            "colorbar": {
             "outlinewidth": 0,
             "ticks": ""
            },
            "colorscale": [
             [
              0,
              "#0d0887"
             ],
             [
              0.1111111111111111,
              "#46039f"
             ],
             [
              0.2222222222222222,
              "#7201a8"
             ],
             [
              0.3333333333333333,
              "#9c179e"
             ],
             [
              0.4444444444444444,
              "#bd3786"
             ],
             [
              0.5555555555555556,
              "#d8576b"
             ],
             [
              0.6666666666666666,
              "#ed7953"
             ],
             [
              0.7777777777777778,
              "#fb9f3a"
             ],
             [
              0.8888888888888888,
              "#fdca26"
             ],
             [
              1,
              "#f0f921"
             ]
            ],
            "type": "contour"
           }
          ],
          "contourcarpet": [
           {
            "colorbar": {
             "outlinewidth": 0,
             "ticks": ""
            },
            "type": "contourcarpet"
           }
          ],
          "heatmap": [
           {
            "colorbar": {
             "outlinewidth": 0,
             "ticks": ""
            },
            "colorscale": [
             [
              0,
              "#0d0887"
             ],
             [
              0.1111111111111111,
              "#46039f"
             ],
             [
              0.2222222222222222,
              "#7201a8"
             ],
             [
              0.3333333333333333,
              "#9c179e"
             ],
             [
              0.4444444444444444,
              "#bd3786"
             ],
             [
              0.5555555555555556,
              "#d8576b"
             ],
             [
              0.6666666666666666,
              "#ed7953"
             ],
             [
              0.7777777777777778,
              "#fb9f3a"
             ],
             [
              0.8888888888888888,
              "#fdca26"
             ],
             [
              1,
              "#f0f921"
             ]
            ],
            "type": "heatmap"
           }
          ],
          "heatmapgl": [
           {
            "colorbar": {
             "outlinewidth": 0,
             "ticks": ""
            },
            "colorscale": [
             [
              0,
              "#0d0887"
             ],
             [
              0.1111111111111111,
              "#46039f"
             ],
             [
              0.2222222222222222,
              "#7201a8"
             ],
             [
              0.3333333333333333,
              "#9c179e"
             ],
             [
              0.4444444444444444,
              "#bd3786"
             ],
             [
              0.5555555555555556,
              "#d8576b"
             ],
             [
              0.6666666666666666,
              "#ed7953"
             ],
             [
              0.7777777777777778,
              "#fb9f3a"
             ],
             [
              0.8888888888888888,
              "#fdca26"
             ],
             [
              1,
              "#f0f921"
             ]
            ],
            "type": "heatmapgl"
           }
          ],
          "histogram": [
           {
            "marker": {
             "pattern": {
              "fillmode": "overlay",
              "size": 10,
              "solidity": 0.2
             }
            },
            "type": "histogram"
           }
          ],
          "histogram2d": [
           {
            "colorbar": {
             "outlinewidth": 0,
             "ticks": ""
            },
            "colorscale": [
             [
              0,
              "#0d0887"
             ],
             [
              0.1111111111111111,
              "#46039f"
             ],
             [
              0.2222222222222222,
              "#7201a8"
             ],
             [
              0.3333333333333333,
              "#9c179e"
             ],
             [
              0.4444444444444444,
              "#bd3786"
             ],
             [
              0.5555555555555556,
              "#d8576b"
             ],
             [
              0.6666666666666666,
              "#ed7953"
             ],
             [
              0.7777777777777778,
              "#fb9f3a"
             ],
             [
              0.8888888888888888,
              "#fdca26"
             ],
             [
              1,
              "#f0f921"
             ]
            ],
            "type": "histogram2d"
           }
          ],
          "histogram2dcontour": [
           {
            "colorbar": {
             "outlinewidth": 0,
             "ticks": ""
            },
            "colorscale": [
             [
              0,
              "#0d0887"
             ],
             [
              0.1111111111111111,
              "#46039f"
             ],
             [
              0.2222222222222222,
              "#7201a8"
             ],
             [
              0.3333333333333333,
              "#9c179e"
             ],
             [
              0.4444444444444444,
              "#bd3786"
             ],
             [
              0.5555555555555556,
              "#d8576b"
             ],
             [
              0.6666666666666666,
              "#ed7953"
             ],
             [
              0.7777777777777778,
              "#fb9f3a"
             ],
             [
              0.8888888888888888,
              "#fdca26"
             ],
             [
              1,
              "#f0f921"
             ]
            ],
            "type": "histogram2dcontour"
           }
          ],
          "mesh3d": [
           {
            "colorbar": {
             "outlinewidth": 0,
             "ticks": ""
            },
            "type": "mesh3d"
           }
          ],
          "parcoords": [
           {
            "line": {
             "colorbar": {
              "outlinewidth": 0,
              "ticks": ""
             }
            },
            "type": "parcoords"
           }
          ],
          "pie": [
           {
            "automargin": true,
            "type": "pie"
           }
          ],
          "scatter": [
           {
            "fillpattern": {
             "fillmode": "overlay",
             "size": 10,
             "solidity": 0.2
            },
            "type": "scatter"
           }
          ],
          "scatter3d": [
           {
            "line": {
             "colorbar": {
              "outlinewidth": 0,
              "ticks": ""
             }
            },
            "marker": {
             "colorbar": {
              "outlinewidth": 0,
              "ticks": ""
             }
            },
            "type": "scatter3d"
           }
          ],
          "scattercarpet": [
           {
            "marker": {
             "colorbar": {
              "outlinewidth": 0,
              "ticks": ""
             }
            },
            "type": "scattercarpet"
           }
          ],
          "scattergeo": [
           {
            "marker": {
             "colorbar": {
              "outlinewidth": 0,
              "ticks": ""
             }
            },
            "type": "scattergeo"
           }
          ],
          "scattergl": [
           {
            "marker": {
             "colorbar": {
              "outlinewidth": 0,
              "ticks": ""
             }
            },
            "type": "scattergl"
           }
          ],
          "scattermapbox": [
           {
            "marker": {
             "colorbar": {
              "outlinewidth": 0,
              "ticks": ""
             }
            },
            "type": "scattermapbox"
           }
          ],
          "scatterpolar": [
           {
            "marker": {
             "colorbar": {
              "outlinewidth": 0,
              "ticks": ""
             }
            },
            "type": "scatterpolar"
           }
          ],
          "scatterpolargl": [
           {
            "marker": {
             "colorbar": {
              "outlinewidth": 0,
              "ticks": ""
             }
            },
            "type": "scatterpolargl"
           }
          ],
          "scatterternary": [
           {
            "marker": {
             "colorbar": {
              "outlinewidth": 0,
              "ticks": ""
             }
            },
            "type": "scatterternary"
           }
          ],
          "surface": [
           {
            "colorbar": {
             "outlinewidth": 0,
             "ticks": ""
            },
            "colorscale": [
             [
              0,
              "#0d0887"
             ],
             [
              0.1111111111111111,
              "#46039f"
             ],
             [
              0.2222222222222222,
              "#7201a8"
             ],
             [
              0.3333333333333333,
              "#9c179e"
             ],
             [
              0.4444444444444444,
              "#bd3786"
             ],
             [
              0.5555555555555556,
              "#d8576b"
             ],
             [
              0.6666666666666666,
              "#ed7953"
             ],
             [
              0.7777777777777778,
              "#fb9f3a"
             ],
             [
              0.8888888888888888,
              "#fdca26"
             ],
             [
              1,
              "#f0f921"
             ]
            ],
            "type": "surface"
           }
          ],
          "table": [
           {
            "cells": {
             "fill": {
              "color": "#EBF0F8"
             },
             "line": {
              "color": "white"
             }
            },
            "header": {
             "fill": {
              "color": "#C8D4E3"
             },
             "line": {
              "color": "white"
             }
            },
            "type": "table"
           }
          ]
         },
         "layout": {
          "annotationdefaults": {
           "arrowcolor": "#2a3f5f",
           "arrowhead": 0,
           "arrowwidth": 1
          },
          "autotypenumbers": "strict",
          "coloraxis": {
           "colorbar": {
            "outlinewidth": 0,
            "ticks": ""
           }
          },
          "colorscale": {
           "diverging": [
            [
             0,
             "#8e0152"
            ],
            [
             0.1,
             "#c51b7d"
            ],
            [
             0.2,
             "#de77ae"
            ],
            [
             0.3,
             "#f1b6da"
            ],
            [
             0.4,
             "#fde0ef"
            ],
            [
             0.5,
             "#f7f7f7"
            ],
            [
             0.6,
             "#e6f5d0"
            ],
            [
             0.7,
             "#b8e186"
            ],
            [
             0.8,
             "#7fbc41"
            ],
            [
             0.9,
             "#4d9221"
            ],
            [
             1,
             "#276419"
            ]
           ],
           "sequential": [
            [
             0,
             "#0d0887"
            ],
            [
             0.1111111111111111,
             "#46039f"
            ],
            [
             0.2222222222222222,
             "#7201a8"
            ],
            [
             0.3333333333333333,
             "#9c179e"
            ],
            [
             0.4444444444444444,
             "#bd3786"
            ],
            [
             0.5555555555555556,
             "#d8576b"
            ],
            [
             0.6666666666666666,
             "#ed7953"
            ],
            [
             0.7777777777777778,
             "#fb9f3a"
            ],
            [
             0.8888888888888888,
             "#fdca26"
            ],
            [
             1,
             "#f0f921"
            ]
           ],
           "sequentialminus": [
            [
             0,
             "#0d0887"
            ],
            [
             0.1111111111111111,
             "#46039f"
            ],
            [
             0.2222222222222222,
             "#7201a8"
            ],
            [
             0.3333333333333333,
             "#9c179e"
            ],
            [
             0.4444444444444444,
             "#bd3786"
            ],
            [
             0.5555555555555556,
             "#d8576b"
            ],
            [
             0.6666666666666666,
             "#ed7953"
            ],
            [
             0.7777777777777778,
             "#fb9f3a"
            ],
            [
             0.8888888888888888,
             "#fdca26"
            ],
            [
             1,
             "#f0f921"
            ]
           ]
          },
          "colorway": [
           "#636efa",
           "#EF553B",
           "#00cc96",
           "#ab63fa",
           "#FFA15A",
           "#19d3f3",
           "#FF6692",
           "#B6E880",
           "#FF97FF",
           "#FECB52"
          ],
          "font": {
           "color": "#2a3f5f"
          },
          "geo": {
           "bgcolor": "white",
           "lakecolor": "white",
           "landcolor": "white",
           "showlakes": true,
           "showland": true,
           "subunitcolor": "#C8D4E3"
          },
          "hoverlabel": {
           "align": "left"
          },
          "hovermode": "closest",
          "mapbox": {
           "style": "light"
          },
          "paper_bgcolor": "white",
          "plot_bgcolor": "white",
          "polar": {
           "angularaxis": {
            "gridcolor": "#EBF0F8",
            "linecolor": "#EBF0F8",
            "ticks": ""
           },
           "bgcolor": "white",
           "radialaxis": {
            "gridcolor": "#EBF0F8",
            "linecolor": "#EBF0F8",
            "ticks": ""
           }
          },
          "scene": {
           "xaxis": {
            "backgroundcolor": "white",
            "gridcolor": "#DFE8F3",
            "gridwidth": 2,
            "linecolor": "#EBF0F8",
            "showbackground": true,
            "ticks": "",
            "zerolinecolor": "#EBF0F8"
           },
           "yaxis": {
            "backgroundcolor": "white",
            "gridcolor": "#DFE8F3",
            "gridwidth": 2,
            "linecolor": "#EBF0F8",
            "showbackground": true,
            "ticks": "",
            "zerolinecolor": "#EBF0F8"
           },
           "zaxis": {
            "backgroundcolor": "white",
            "gridcolor": "#DFE8F3",
            "gridwidth": 2,
            "linecolor": "#EBF0F8",
            "showbackground": true,
            "ticks": "",
            "zerolinecolor": "#EBF0F8"
           }
          },
          "shapedefaults": {
           "line": {
            "color": "#2a3f5f"
           }
          },
          "ternary": {
           "aaxis": {
            "gridcolor": "#DFE8F3",
            "linecolor": "#A2B1C6",
            "ticks": ""
           },
           "baxis": {
            "gridcolor": "#DFE8F3",
            "linecolor": "#A2B1C6",
            "ticks": ""
           },
           "bgcolor": "white",
           "caxis": {
            "gridcolor": "#DFE8F3",
            "linecolor": "#A2B1C6",
            "ticks": ""
           }
          },
          "title": {
           "x": 0.05
          },
          "xaxis": {
           "automargin": true,
           "gridcolor": "#EBF0F8",
           "linecolor": "#EBF0F8",
           "ticks": "",
           "title": {
            "standoff": 15
           },
           "zerolinecolor": "#EBF0F8",
           "zerolinewidth": 2
          },
          "yaxis": {
           "automargin": true,
           "gridcolor": "#EBF0F8",
           "linecolor": "#EBF0F8",
           "ticks": "",
           "title": {
            "standoff": 15
           },
           "zerolinecolor": "#EBF0F8",
           "zerolinewidth": 2
          }
         }
        },
        "width": 1600,
        "xaxis": {
         "anchor": "y",
         "domain": [
          0,
          0.45
         ],
         "title": {
          "text": "Observed values"
         }
        },
        "xaxis2": {
         "anchor": "y2",
         "domain": [
          0.55,
          1
         ],
         "title": {
          "text": "Observed values"
         }
        },
        "yaxis": {
         "anchor": "x",
         "domain": [
          0,
          1
         ],
         "title": {
          "text": "Predicted values"
         }
        },
        "yaxis2": {
         "anchor": "x2",
         "domain": [
          0,
          1
         ],
         "title": {
          "text": "Predicted values"
         }
        }
       }
      },
      "text/html": [
       "<div>                            <div id=\"41bf4cc5-d5b4-4e71-a5b7-fba39bcec7aa\" class=\"plotly-graph-div\" style=\"height:525px; width:1600px;\"></div>            <script type=\"text/javascript\">                require([\"plotly\"], function(Plotly) {                    window.PLOTLYENV=window.PLOTLYENV || {};                                    if (document.getElementById(\"41bf4cc5-d5b4-4e71-a5b7-fba39bcec7aa\")) {                    Plotly.newPlot(                        \"41bf4cc5-d5b4-4e71-a5b7-fba39bcec7aa\",                        [{\"legendgroup\":\"train_0\",\"mode\":\"markers\",\"name\":\"Run id in Train 0\",\"x\":[0.6785714285714286,1.7882418695451865,4.197866164841867,8.024606484655857,11.644249637655555,12.989020406401975,11.780327631246772,9.032982556876329,5.956851986938314,3.496495271581572,1.9290844755904624,1.0384515260949645,0.5546547313461386,0.2952719021768026,0.1569168141294896],\"y\":[0.6888376001893428,1.9065129810608075,4.634596117821716,8.907082264849421,12.744606328779973,14.002321071753538,12.923243958233295,10.430706833868467,7.555957155726754,5.097738207598335,3.284272885711413,2.077069230484318,1.3229976837108643,0.8622281634959281,0.5747066279079037],\"type\":\"scatter\",\"xaxis\":\"x\",\"yaxis\":\"y\"},{\"legendgroup\":\"train_1\",\"mode\":\"markers\",\"name\":\"Run id in Train 1\",\"x\":[0.5153061224489796,1.3283920087753476,3.138891683299708,6.312312369758947,10.046362313224048,12.46619056309494,12.598864431782903,10.871896873825465,8.153434943282626,5.329460673311844,3.14372471445888,1.7669202575842775,0.9787333701850192,0.5395471576727975,0.2966820616676253],\"y\":[0.5300481089582207,1.5011099187691768,3.8240164077515786,7.860380040594606,12.00200073523956,13.609234574378243,12.665094447846922,10.005419228673063,6.863561638621703,4.332750132890723,2.572541240475836,1.4880905445931858,0.867958325931266,0.5175196908631665,0.32218531307545806],\"type\":\"scatter\",\"xaxis\":\"x\",\"yaxis\":\"y\"},{\"legendgroup\":\"train_2\",\"mode\":\"markers\",\"name\":\"Run id in Train 2\",\"x\":[0.6173469387755102,1.8393336824263824,4.76347819968831,9.519503140279811,13.897096050739306,15.469914296467806,14.064178274367205,10.784332549589733,7.024161263041686,4.060211714152641,2.225243161400361,1.198139824795706,0.6414845918398311,0.3424920004434781,0.1825893379791691],\"y\":[0.6185535648163465,1.6976875518826513,4.150642624787204,8.194531071048443,12.211998382197882,13.67055749211104,12.533759113288044,9.713819693870807,6.473789787875898,3.8795750727549017,2.174522585429999,1.1809541985238838,0.6353616235558952,0.33946891774967036,0.18419916106548],\"type\":\"scatter\",\"xaxis\":\"x\",\"yaxis\":\"y\"},{\"legendgroup\":\"train_3\",\"mode\":\"markers\",\"name\":\"Run id in Train 3\",\"x\":[0.7908163265306123,2.2233342240594665,5.189819500047023,8.648482942575908,9.89213218339913,8.48011217599898,6.030387208242467,3.83431965046864,2.2927149728665563,1.3293309225353016,0.7591389409901108,0.4298972793384327,0.2423196690989927,0.1362354666329924,0.0764834617843639],\"y\":[0.823006167281618,2.250199513878786,5.249022617162046,9.196579389342476,11.217992182548146,10.613237866868012,8.156958400028168,5.5183414710866,3.4944858389583833,2.1932876157591763,1.4120348803847522,0.930098359733281,0.6135381650213251,0.40755398277032245,0.266402703377298],\"type\":\"scatter\",\"xaxis\":\"x\",\"yaxis\":\"y\"},{\"legendgroup\":\"train_4\",\"mode\":\"markers\",\"name\":\"Run id in Train 4\",\"x\":[0.8724489795918368,2.327450417335682,5.302229080189516,9.382915401755742,12.45876223358994,13.000921335581488,11.354064624495637,8.53677594789,5.544672913732412,3.240925051389084,1.866988108037708,1.0767488544223136,0.6221397684347698,0.359995999048859,0.2085132104697249],\"y\":[0.8835540184483879,2.3337552407228226,5.28912400743292,9.292782455822884,12.054189823880453,12.162604161406671,9.970044522633808,6.837011952962504,3.9071271173260613,1.8454144814277393,0.7436642904328807,0.21291723639507287,-0.04055261996623338,-0.14440523425997032,-0.16640805187224106],\"type\":\"scatter\",\"xaxis\":\"x\",\"yaxis\":\"y\"},{\"legendgroup\":\"train_5\",\"mode\":\"markers\",\"name\":\"Run id in Train 5\",\"x\":[0.9744897959183674,2.406921302247812,5.196041068887806,9.018136271163266,11.975281156400662,12.472876584537527,10.74865387739688,7.898282124391004,5.015423771955666,2.8668906881316008,1.5952036675723131,0.883499604044254,0.4883827704146793,0.2697342502902922,0.1489124435385337],\"y\":[0.9692189372878449,2.5566672037132143,5.759644878131221,10.002590308757247,12.901925195497284,13.148005368359545,11.168669616981463,8.282322248895007,5.481607460945622,3.2604218210730243,1.8913361174783174,1.0942182029734662,0.6209542421520928,0.34807396326560425,0.19022476103805586],\"type\":\"scatter\",\"xaxis\":\"x\",\"yaxis\":\"y\"},{\"legendgroup\":\"train_6\",\"mode\":\"markers\",\"name\":\"Run id in Train 6\",\"x\":[0.7806122448979591,1.975598501172804,4.447145355804954,8.222007631588548,11.810855568464037,13.202788595684126,12.11249067562794,9.4917369807142,6.47725387266102,3.982074568663462,2.317558052215487,1.3188287116986093,0.7439866778063171,0.4179559136359603,0.2342622485018471],\"y\":[0.7248439736589078,1.9471302190563062,4.634979023016206,8.851495866404106,12.800031959521004,13.825233505763943,12.267161509127748,9.240006258076122,5.990172204345589,3.4518976663755874,1.8201860773596488,0.9016522575339923,0.42361268224365733,0.1806537108715619,0.045605952461019617],\"type\":\"scatter\",\"xaxis\":\"x\",\"yaxis\":\"y\"},{\"legendgroup\":\"train_7\",\"mode\":\"markers\",\"name\":\"Run id in Train 7\",\"x\":[0.7295918367346939,2.2505276992118386,5.756846967199105,10.651374604582667,13.779990523471408,13.661272552598792,11.410021845873027,8.391262132032626,5.433289941751308,3.062335558796292,1.5495839975266816,0.7674467069216043,0.3797836815105751,0.1878918071388641,0.09294639830802],\"y\":[0.7120199314910258,1.9663532454324606,4.752033814830464,9.012582123669803,12.792693479386338,14.108645633379782,13.108598292075015,10.863982672419413,8.264885068215051,5.81419377553678,3.9423205661732057,2.668054678075026,1.8318531483756657,1.2713390064183394,0.8757494780503683],\"type\":\"scatter\",\"xaxis\":\"x\",\"yaxis\":\"y\"},{\"legendgroup\":\"train_8\",\"mode\":\"markers\",\"name\":\"Run id in Train 8\",\"x\":[0.6989795918367347,1.848104962271837,4.275239539329713,7.758151399559654,10.377011125677477,10.64641962815131,9.028929257551075,6.646146575884176,4.340519317462716,2.593373670872533,1.5281691419509686,0.8995307180450183,0.5295521527654201,0.311842208648604,0.1836859247616231],\"y\":[0.7208177068307324,2.0280660562117903,4.914008718720938,9.061452885307641,12.045612905564766,12.753677660218013,11.504080484334144,9.60430948298409,7.681489958913043,5.798829630442768,4.237577343581354,3.0699856428988745,2.2265016024346136,1.6134765943111649,1.155248043456573],\"type\":\"scatter\",\"xaxis\":\"x\",\"yaxis\":\"y\"},{\"legendgroup\":\"train_9\",\"mode\":\"markers\",\"name\":\"Run id in Train 9\",\"x\":[0.8418367346938775,2.2789376634822687,5.398066543095938,10.156482702407544,14.449290906131306,15.978352785495437,14.576748915106055,11.378259295196262,7.682741940655455,4.608446080818723,2.647979593740628,1.514662535836207,0.8649572065986112,0.4936224262432949,0.2816301431882249],\"y\":[0.8257973423290286,2.2032921046457634,5.09602705132496,9.280790209166302,12.850101685495392,13.93541500007352,12.581007454515237,9.901396109665388,6.9511333907899795,4.389013242655802,2.6894751380024493,1.664080561078326,1.044917728664451,0.662418831516714,0.41989863745791156],\"type\":\"scatter\",\"xaxis\":\"x\",\"yaxis\":\"y\"},{\"legendgroup\":\"train_10\",\"mode\":\"markers\",\"name\":\"Run id in Train 10\",\"x\":[0.923469387755102,2.4674952847066307,5.654656303058643,10.097201515633571,13.556644471846797,14.307623198609583,12.606972734825222,9.626816830604502,6.544446803442491,4.115593536052588,2.4987668493627453,1.5030636983007923,0.8997281702794723,0.5371112374189292,0.3201425755581251],\"y\":[0.9482077718476456,2.534351917561773,5.778336391109775,10.113572376893739,13.013907633837634,13.337102624707137,11.579585154486418,8.942555691705826,6.31243495569762,4.144780657299905,2.6643887115369176,1.6927870820115207,1.0641126553672406,0.6784798311285107,0.44422886164558273],\"type\":\"scatter\",\"xaxis\":\"x\",\"yaxis\":\"y\"},{\"legendgroup\":\"train_11\",\"mode\":\"markers\",\"name\":\"Run id in Train 11\",\"x\":[0.596938775510204,1.5608371339147178,3.647331351529664,6.962771213924969,10.19507559703228,11.598509578671898,10.884080774492324,8.851564606648125,6.34609931995668,3.988012007506024,2.21807731028272,1.1477251655777574,0.587544586714998,0.30012672922519,0.1531511806757734],\"y\":[0.5705593701921928,1.62479638371305,4.136253217353955,8.423400526867274,12.968691563678359,15.162591808217064,14.850032296166898,12.836030571380922,10.063340796550811,7.237585598206178,4.961347269889406,3.3807950812816903,2.343749565893043,1.6431729515379085,1.1459325044790287],\"type\":\"scatter\",\"xaxis\":\"x\",\"yaxis\":\"y\"},{\"legendgroup\":\"train_12\",\"mode\":\"markers\",\"name\":\"Run id in Train 12\",\"x\":[0.6887755102040816,2.029318430344991,5.09606459448939,9.66449020086537,13.262917411504043,14.005601884046005,12.38037854109164,9.597991474053645,6.523037843825477,3.840589775698148,2.2196587973774524,1.300378864615394,0.7684830420751022,0.4565770271986459,0.2721392414066705],\"y\":[0.6905382611955047,1.886320297254906,4.508753187310129,8.516922947627386,12.134418344972692,13.446603797322052,12.31663166810001,9.838639382265017,7.048892680304215,4.5942847822636494,2.9191893520332513,1.8876554524877334,1.2498471620852627,0.8355094038559042,0.5611104142863268],\"type\":\"scatter\",\"xaxis\":\"x\",\"yaxis\":\"y\"},{\"legendgroup\":\"train_13\",\"mode\":\"markers\",\"name\":\"Run id in Train 13\",\"x\":[0.7397959183673469,2.0932798335703744,4.988371973144161,8.961674224473938,11.916455937922128,12.580053813163431,11.425458869513504,9.42725806498084,7.261048482116555,5.314589433638116,3.864166905680257,2.793086596716929,2.007452603973621,1.436198139885796,1.023945947342565],\"y\":[0.7493291414574162,2.0208104117086916,4.74026803648125,8.818199868688929,12.591349371501725,14.200952624656882,13.309312829463494,10.880338533672083,7.952733741864611,5.227258045857524,3.353507995808446,2.1863659404818803,1.451552304649152,0.9712929757248047,0.6596251930863367],\"type\":\"scatter\",\"xaxis\":\"x\",\"yaxis\":\"y\"},{\"legendgroup\":\"train_14\",\"mode\":\"markers\",\"name\":\"Run id in Train 14\",\"x\":[0.9132653061224488,2.268700003075957,4.852817605190676,8.03020144985266,9.849429257100594,9.41700644818678,7.520062556504349,5.260973437955173,3.344908565936372,2.0025458697630176,1.1628548044785942,0.6681238524519214,0.3817906954042855,0.2175108950812728,0.1237074813855766],\"y\":[0.8988873841159677,2.440823492671808,5.680217384073053,10.07076218200087,12.947062193307712,13.120455134721865,11.333455254295279,8.983722379321186,6.779349329472125,4.8509198583333895,3.376827113200677,2.3278346693238934,1.6073192012281936,1.120228233405273,0.7673623136907283],\"type\":\"scatter\",\"xaxis\":\"x\",\"yaxis\":\"y\"},{\"legendgroup\":\"train_15\",\"mode\":\"markers\",\"name\":\"Run id in Train 15\",\"x\":[0.9540816326530612,2.367342281659226,5.027991030327787,8.465589732275065,10.977214084733218,11.298221524962116,9.665324913154048,7.141607212815919,4.770577720546938,3.0208431828807,1.8677986607649288,1.1428102738448511,0.6950128093663546,0.4211774265021741,0.2546938298816966],\"y\":[0.9610108953687279,2.528527473551125,5.688521048216851,9.893808288060757,12.707730955997599,12.73273823560594,10.515833923445808,7.358887244526352,4.373436873563225,2.2351954597661705,1.0254626448530995,0.38471488163542067,0.052400515864597486,-0.09210558820207237,-0.135303176474026],\"type\":\"scatter\",\"xaxis\":\"x\",\"yaxis\":\"y\"},{\"legendgroup\":\"train_16\",\"mode\":\"markers\",\"name\":\"Run id in Train 16\",\"x\":[0.7091836734693877,2.031120047613229,5.0607865396963145,9.811731190638346,13.705226987387707,14.11094751309537,11.495394691205163,7.844975652540778,4.758585473852402,2.746166858492201,1.5624130281404758,0.8826520025943043,0.496823032931045,0.2791089499380181,0.1566367060258852],\"y\":[0.7213946048491661,1.9520226153363873,4.585435354764785,8.386411291227569,11.255080503599872,11.65474499985125,9.728499813769005,6.873808918982435,4.187713978937268,2.244700200843965,1.1502224693199947,0.598543707381042,0.3107867997968483,0.15011454234063915,0.06255189166188913],\"type\":\"scatter\",\"xaxis\":\"x\",\"yaxis\":\"y\"},{\"legendgroup\":\"train_17\",\"mode\":\"markers\",\"name\":\"Run id in Train 17\",\"x\":[0.5051020408163265,1.5395095794355145,4.170322326771822,8.872307890111077,13.492753111350268,14.946517948610614,13.044323492488331,9.38840829027414,5.64549552050192,2.9742752841713527,1.4758636693661418,0.7192374603146248,0.3489000392746019,0.1688870733719879,0.0816666440022619],\"y\":[0.5133032200326981,1.4629844585075067,3.745780979125932,7.687489782104107,11.680141606861731,13.234817177125771,12.264758970614796,9.725462462803858,6.78333389702081,4.363484520527025,2.6761513681489495,1.6373403169909255,1.0290617746996467,0.660912405062361,0.4328601965955621],\"type\":\"scatter\",\"xaxis\":\"x\",\"yaxis\":\"y\"},{\"legendgroup\":\"train_18\",\"mode\":\"markers\",\"name\":\"Run id in Train 18\",\"x\":[0.8112244897959184,2.435858405511861,5.961413488526969,10.42636474501128,12.79723266806944,11.990451310009338,9.219196995695562,6.006234572258977,3.437115573746232,1.829965729665929,0.9461302517795804,0.4839226222384316,0.246555080124136,0.1253995058246693,0.063725743226018],\"y\":[0.8122487458847234,2.211781777210872,5.2259563816003585,9.624956904138031,13.077594152601769,13.76059392813715,12.259306332967581,9.653440012859159,6.899838437902089,4.634266373822877,2.97968533797804,1.8669815131095298,1.1666794345139349,0.7464783100639563,0.48465732428182173],\"type\":\"scatter\",\"xaxis\":\"x\",\"yaxis\":\"y\"},{\"legendgroup\":\"train_19\",\"mode\":\"markers\",\"name\":\"Run id in Train 19\",\"x\":[0.5561224489795918,1.4257427421108804,3.3432933783312624,6.6284768975394135,10.4461174666061,13.06205208865169,13.606463927585786,12.46234608131146,10.385803560623968,7.945368526273156,5.485308584405903,3.5750719942868177,2.370530066085736,1.5898761954124825,1.0741649177874006],\"y\":[0.5455562166370814,1.5500358968384353,3.9536820645524187,8.181485832357383,13.016838439065406,15.737340427885131,15.804968122026079,13.841923833446145,10.861080498858644,7.728584077686596,5.254893538979202,3.566246876525306,2.464064147606029,1.7202388616997815,1.2055280823287755],\"type\":\"scatter\",\"xaxis\":\"x\",\"yaxis\":\"y\"},{\"legendgroup\":\"train_20\",\"mode\":\"markers\",\"name\":\"Run id in Train 20\",\"x\":[0.6581632653061225,1.685321229352324,3.8508270529947928,7.220189710401732,10.576576422001322,12.33718107549764,12.172890010167036,10.721396732669987,8.697922274897833,6.550454396733091,4.814264956820509,3.55685819858454,2.628179025105676,1.9389506067955613,1.4277951086179823],\"y\":[0.6785485334590898,1.8789458417509193,4.546834565452965,8.702943577307623,12.652909107329439,14.507609198199981,13.957818580899307,11.870027876140567,9.162204889386539,6.45850654364032,4.405806313077958,3.010741609752972,2.082304939946992,1.4512111504252352,1.0206880195089796],\"type\":\"scatter\",\"xaxis\":\"x\",\"yaxis\":\"y\"},{\"legendgroup\":\"train_21\",\"mode\":\"markers\",\"name\":\"Run id in Train 21\",\"x\":[0.6071428571428571,1.704916153784669,4.247868088374872,8.283424816314591,11.55107021979292,11.946885496405434,10.05368020938228,7.439991313957908,5.102622058690177,3.3504012840129023,2.1456734894040617,1.3543320777174386,0.8474062834159186,0.5274006136363352,0.3271685272912421],\"y\":[0.623454262798609,1.7620503205157543,4.361389650228128,8.319894685844757,11.233903276473974,11.428232635240565,9.520539467875874,6.89365253643793,4.518084239759984,2.8916554131037424,1.7913077820349055,1.098531754740316,0.6847672961473154,0.438150871286942,0.278843381766338],\"type\":\"scatter\",\"xaxis\":\"x\",\"yaxis\":\"y\"},{\"legendgroup\":\"train_22\",\"mode\":\"markers\",\"name\":\"Run id in Train 22\",\"x\":[0.8928571428571428,2.3350802322236013,5.2557023533384495,9.289435962758969,12.492749769115903,13.300463661196533,11.947722528698772,9.379765315653389,6.343753672846081,3.5708275420073536,1.7868094317494536,0.8886376126994404,0.442200977584012,0.2201523652671352,0.1096358304603639],\"y\":[0.9084236172863267,2.396346184948469,5.435952019338863,9.699211672508238,13.180157071504922,14.15641869287892,12.708950286297448,9.815478436968366,6.612050671052249,3.953436988858204,2.2617253779303623,1.2633896596304808,0.6813401789014011,0.3591665475455932,0.19680963182659295],\"type\":\"scatter\",\"xaxis\":\"x\",\"yaxis\":\"y\"},{\"legendgroup\":\"train_23\",\"mode\":\"markers\",\"name\":\"Run id in Train 23\",\"x\":[0.9948979591836736,2.724153484749099,6.3707816747891926,11.549482031397128,15.917233796260168,17.741899341332616,17.181804664477998,15.153215229575952,12.363925634613343,8.621498246835316,5.8075983017902,3.8930001983690814,2.601598848467503,1.7351935137964911,1.1558606431059135],\"y\":[0.9683992650382451,2.589227606238085,5.91953285825277,10.494980786278864,14.341850301281317,16.0693841694575,15.53101096208112,13.701592454519481,11.219930638255544,8.260848147715869,5.886086726469136,4.183069689401248,2.9805263841775353,2.1236530290663533,1.4988645440719406],\"type\":\"scatter\",\"xaxis\":\"x\",\"yaxis\":\"y\"},{\"legendgroup\":\"train_24\",\"mode\":\"markers\",\"name\":\"Run id in Train 24\",\"x\":[0.5663265306122449,1.6771093009774558,4.379731070195562,8.814428066154804,12.554055541493298,13.424131104834624,11.962167160326796,9.455430182571265,6.7596940358204325,4.373322113045097,2.589368718003216,1.450686301806721,0.8038656628412996,0.4445277900923833,0.2455700767878137],\"y\":[0.5557734529466957,1.6180637661874013,4.169067910824856,8.32124229728291,11.906698924725235,12.844852822497707,11.625543137269773,9.449672310233376,7.1666218082552895,5.212690894036873,3.6150808961895278,2.4746451075165,1.7215061643679401,1.2147963628822838,0.8444683085861833],\"type\":\"scatter\",\"xaxis\":\"x\",\"yaxis\":\"y\"},{\"legendgroup\":\"train_25\",\"mode\":\"markers\",\"name\":\"Run id in Train 25\",\"x\":[0.7704081632653061,2.151854148193768,5.140486648583636,9.30280586447139,12.26575518353688,12.741214421952844,11.428516567248533,9.32322404371885,7.042106481499884,4.90236484657312,3.1089254719527,1.9320232792738623,1.2178531519640323,0.7751231354680042,0.4964700790761943],\"y\":[0.7541327340707391,2.0941606032085107,5.0467089152764935,9.360486013476862,12.644742052484858,13.303135751205076,11.895400895806809,9.701035605553338,7.466962345780714,5.436747726878705,3.8119921808021857,2.644955426018731,1.8494969179009937,1.3052690317506321,0.9060781320581968],\"type\":\"scatter\",\"xaxis\":\"x\",\"yaxis\":\"y\"},{\"legendgroup\":\"train_26\",\"mode\":\"markers\",\"name\":\"Run id in Train 26\",\"x\":[0.5459183673469388,1.4612526535185737,3.5588105560735417,7.106884653233597,10.320064695094043,10.863672285246889,9.049290698641858,6.52501914594416,4.329889270118319,2.7411300342703435,1.6892374665766086,1.024806199587152,0.6159936416061322,0.3682493960337067,0.2194372578287619],\"y\":[0.553095606792099,1.5717066418264856,3.9540543935157864,7.7400213873997705,10.78071110202381,11.162859405920644,9.287981443078438,6.556901636440723,4.048745900459593,2.3632188030928947,1.3159939335249573,0.7322238743820806,0.4211009634549191,0.24568006067951154,0.13598659646897499],\"type\":\"scatter\",\"xaxis\":\"x\",\"yaxis\":\"y\"},{\"legendgroup\":\"train_27\",\"mode\":\"markers\",\"name\":\"Run id in Train 27\",\"x\":[0.75,2.083893336988898,5.067346416088848,9.700998168028448,13.808835852497104,15.30512697665309,14.346966807721929,12.044545101050092,9.268962591481236,6.497915751245502,4.134784100960853,2.6506825128490155,1.7306129311879863,1.143206551169588,0.7608529283796743],\"y\":[0.7482710279621568,2.0517700978757762,4.895240495592279,9.1313222986807,12.702823025210144,13.815422919411326,12.653935175849488,10.307751320554033,7.6853010779270665,5.309004639848193,3.5492812213806997,2.368021697454453,1.598701258276566,1.0929386981672053,0.7478552311269431],\"type\":\"scatter\",\"xaxis\":\"x\",\"yaxis\":\"y\"},{\"legendgroup\":\"train_28\",\"mode\":\"markers\",\"name\":\"Run id in Train 28\",\"x\":[0.576530612244898,1.696045953610509,4.475798278854103,9.544466207759733,15.16531396381901,18.47074228676544,18.751854241389506,16.999519428238006,14.363996218092185,11.604576843178217,9.100675836876158,6.995347572971533,5.306411384179855,3.9839077410901913,2.966695184039032],\"y\":[0.5883049172424255,1.6966546050924025,4.3168137496966725,8.665693525919316,13.041008636732702,15.263496400391608,15.163562103238515,13.46965238171413,10.964896402698395,8.21249094562939,5.8489540742631005,4.105293723355812,2.902492553018887,2.0679646407392753,1.474643812532456],\"type\":\"scatter\",\"xaxis\":\"x\",\"yaxis\":\"y\"},{\"legendgroup\":\"train_29\",\"mode\":\"markers\",\"name\":\"Run id in Train 29\",\"x\":[0.8316326530612245,2.4182968063591703,6.1106357822366,11.852894769474116,16.653269229028503,18.1448033705536,16.85728446876505,14.208639126663268,11.239797988952644,8.474083677021213,6.075095296147305,4.023688170056238,2.567496189452761,1.6726642367271911,1.1025407004970518],\"y\":[0.8305247292568769,2.259207815507453,5.328372608975526,9.799372325933614,13.339162651549413,14.106038817961114,12.693958917322586,10.138368006640807,7.373492552251903,5.031987839380742,3.2830068259423606,2.085478486665242,1.3214126730520028,0.8572077408007579,0.5640839733270848],\"type\":\"scatter\",\"xaxis\":\"x\",\"yaxis\":\"y\"},{\"legendgroup\":\"train_30\",\"mode\":\"markers\",\"name\":\"Run id in Train 30\",\"x\":[0.75,2.11838522099468,5.300777801136268,10.531619241902058,15.625152148324371,18.365283029377498,18.735569286962225,17.523220850761664,15.45560463907854,13.082587497614089,10.75654587793331,8.670837906549645,6.868595783995239,5.334868052328891,3.927190522113845],\"y\":[0.7251756249680366,2.0209923503451708,4.906171943394423,9.198966314988576,12.622241920418023,13.451933376128297,12.160367747909234,10.01187983244939,7.761803317270623,5.661887473623481,3.973849404943763,2.768361117751674,1.9486631529580205,1.382118627233229,0.9611253069449295],\"type\":\"scatter\",\"xaxis\":\"x\",\"yaxis\":\"y\"},{\"legendgroup\":\"test_0\",\"mode\":\"markers\",\"name\":\"Run id in Test 0\",\"x\":[0.9846938775510204,2.9249576819091097,7.444332832191713,14.420480064339324,20.57081333243489,23.12755137436929,22.33065010823708,19.648806069957416,16.31282380897557,13.028843938823911,10.102605608179564,7.629152917195547,5.731307831914585,4.294304959498489,3.2079190607230106],\"y\":[0.9334546672571958,2.4706343166466227,5.671973962337976,10.360598383150846,14.796478642172747,16.64991380315898,15.965906973764884,13.514019395517568,10.283559909312253,7.036722245073289,4.611000512668472,2.9932342460813834,1.958259974547806,1.3007825459779043,0.8653883965644111],\"type\":\"scatter\",\"xaxis\":\"x2\",\"yaxis\":\"y2\"},{\"legendgroup\":\"test_1\",\"mode\":\"markers\",\"name\":\"Run id in Test 1\",\"x\":[0.7602040816326531,1.9141143764556665,4.408003876496271,8.6231479106663,13.457148205276154,16.834281247208605,17.857446383705128,16.99522186258524,15.068785638787078,12.793489696074769,10.597325015932462,8.59544420181317,6.853541356095238,5.38786140727645,4.18265740274008],\"y\":[0.7799676508707951,2.159542274487928,5.14101426438591,9.420457608268494,12.848990230724828,14.204685917188346,13.462903907232974,11.703615631603167,9.55596927818576,7.173707844821021,5.203771888118542,3.7482231890296536,2.7024995782472074,1.9471955066851239,1.394791660472815],\"type\":\"scatter\",\"xaxis\":\"x2\",\"yaxis\":\"y2\"},{\"legendgroup\":\"test_2\",\"mode\":\"markers\",\"name\":\"Run id in Test 2\",\"x\":[0.6377551020408163,1.7596767331437484,4.320048035023024,8.600099814712605,13.129010583057209,15.86887489530228,16.314060822920034,15.128350980501,13.118424032866182,10.845032804189962,8.611928610057822,6.721336704242177,5.249987862906268,4.091917406485745,3.180171977396879],\"y\":[0.6391376042758261,1.8163568388071494,4.534013351208761,8.902904290802388,13.136322191995912,15.165726845445157,14.897456640388768,13.14740365278826,10.678345970310614,7.973976716079638,5.67636303708812,3.9898074207505094,2.8246964067571145,2.013287556394124,1.4311647923714192],\"type\":\"scatter\",\"xaxis\":\"x2\",\"yaxis\":\"y2\"},{\"legendgroup\":\"test_3\",\"mode\":\"markers\",\"name\":\"Run id in Test 3\",\"x\":[0.6683673469387755,1.8479761959252927,4.5642475791718695,9.101866917551046,13.763741305573545,16.39181066854337,16.588673250600085,15.121065257143862,12.880994022025028,10.494696740233676,8.276399606720522,6.112053610273055,3.960093130262047,2.557747831948446,1.6487988889593452],\"y\":[0.6821429066064587,1.9407135675572866,4.7867147655074085,9.088505697033057,12.695557825198701,14.138732079181356,13.519195140509034,11.894105828679969,9.861855389026978,7.575933797521505,5.561956213402331,4.024407883216307,2.9160128048616274,2.1142317438833906,1.5187563939813842],\"type\":\"scatter\",\"xaxis\":\"x2\",\"yaxis\":\"y2\"},{\"legendgroup\":\"test_4\",\"mode\":\"markers\",\"name\":\"Run id in Test 4\",\"x\":[0.8214285714285714,2.462338134351961,6.204794037706704,11.455830213030046,15.029129484664557,15.46330643203451,13.775109141164494,11.194697479273378,8.439502937137675,5.831525356659873,3.89278824381229,2.6769952754832365,1.8716034350620616,1.320869574866547,0.9373903299802034],\"y\":[0.8539515111373739,2.319556089827617,5.39133051409762,9.555075757148401,12.161476049830846,12.17043696731364,10.197830786383728,7.603837038743626,5.240722636759758,3.452219447285189,2.243626678291237,1.447592558426844,0.9288302084987425,0.6052506549498727,0.4014719674143651],\"type\":\"scatter\",\"xaxis\":\"x2\",\"yaxis\":\"y2\"},{\"legendgroup\":\"test_5\",\"mode\":\"markers\",\"name\":\"Run id in Test 5\",\"x\":[0.5357142857142857,1.68535612201013,4.750910857750842,10.527563515639322,16.384892612448336,18.71899028723027,17.642047191967187,14.84113370432232,11.547197993927814,8.368835642374764,5.550515941164199,3.400201224606473,2.123828050301551,1.3483571723438612,0.864549860389209],\"y\":[0.5193999898390149,1.5129972945578243,3.9349289538471544,8.037809714887397,11.989670608181406,13.44953671952415,12.57269915547145,10.432716810675302,7.95134487361488,5.69267672742577,3.894675816683699,2.6530880409835804,1.8455764362429397,1.299530177043469,0.9037552575331779],\"type\":\"scatter\",\"xaxis\":\"x2\",\"yaxis\":\"y2\"},{\"legendgroup\":\"test_6\",\"mode\":\"markers\",\"name\":\"Run id in Test 6\",\"x\":[0.9642857142857144,2.7309189004610017,6.496967810835099,11.712526422702096,15.86566984919472,17.518274325752582,17.049508108239532,15.339560792436927,13.11520485201357,10.836341627146137,8.748004765272608,6.940423704135373,5.421358011949733,4.157669835361252,3.027012159344149],\"y\":[0.933039038794337,2.5242055417562552,5.8550900010711935,10.446840493560101,13.979662146184054,15.080432750162508,14.089261308704593,12.151398733919798,9.875121358871848,7.357082983953328,5.2768819706786,3.745380494638751,2.661657326564905,1.8971462547812328,1.332643047767148],\"type\":\"scatter\",\"xaxis\":\"x2\",\"yaxis\":\"y2\"},{\"legendgroup\":\"test_7\",\"mode\":\"markers\",\"name\":\"Run id in Test 7\",\"x\":[0.8622448979591837,2.331143803305513,5.496622671227072,10.20537730486747,14.299665039067758,15.96548171229209,15.372177818756573,13.498156448189532,11.164486041753278,8.850690795800881,6.801418450313421,5.185592772160354,3.932335026469168,2.9668846208042594,2.2290717204845274],\"y\":[0.8660855864019404,2.3857760783113258,5.637183491965923,10.207254923968634,13.668787017219342,14.776115881299479,13.911915581289621,12.14207438640803,10.020967744320247,7.653477131723305,5.58828259286701,4.00020361885918,2.854690344590882,2.0455402004877916,1.4558539673253132],\"type\":\"scatter\",\"xaxis\":\"x2\",\"yaxis\":\"y2\"},{\"legendgroup\":\"test_8\",\"mode\":\"markers\",\"name\":\"Run id in Test 8\",\"x\":[0.6275510204081632,1.966509895702454,5.4703296564633614,11.75929246310936,17.798476959757984,20.25767094292334,19.398185047268417,16.755642131725846,13.55094811108645,10.481962644716347,7.857313430365911,5.811171729991748,4.2584707583927095,3.0973636223609207,2.240048684169528],\"y\":[0.6181249020822422,1.7812699826206737,4.4932589582481866,8.743277745805443,12.40738326044304,13.712013622444621,12.907443157905206,11.140701590562928,9.07710840948455,6.916124141574354,5.027127344243173,3.6083427640228853,2.607509679727271,1.8888661405130671,1.3461114524784348],\"type\":\"scatter\",\"xaxis\":\"x2\",\"yaxis\":\"y2\"},{\"legendgroup\":\"test_9\",\"mode\":\"markers\",\"name\":\"Run id in Test 9\",\"x\":[0.8010204081632653,2.339410182422604,6.0419955584897975,12.429172992150209,19.0638331981036,22.700661141137463,22.85778892850325,20.76765902113485,17.695686246636583,14.451046918863232,11.429553184034148,8.81126297917751,6.767892149629804,5.174965627060598,3.937534851903999],\"y\":[0.8058262929015713,2.162312396588583,5.052816612118087,9.371794895275087,13.189663116910243,14.396848702134019,13.164920604641102,10.391385958663662,7.210047928935428,4.5406964908867415,2.721136487284088,1.5883924957467759,0.9161917559475254,0.5344310776681993,0.32306948819800957],\"type\":\"scatter\",\"xaxis\":\"x2\",\"yaxis\":\"y2\"},{\"legendgroup\":\"test_10\",\"mode\":\"markers\",\"name\":\"Run id in Test 10\",\"x\":[0.5255102040816326,1.542944523336143,4.111079413586001,8.963076939330202,14.544645094511967,18.04047070058947,18.84870496269079,17.78007013831816,15.691412933616666,13.226330834280551,10.79079447405206,8.629169774506371,6.794817697582468,5.271066535858475,4.017629690968412],\"y\":[0.5043124689575463,1.4695502522337827,3.830847961740743,7.834863118720815,11.656849220977577,12.977562933280003,11.944602926408963,9.725674911412428,7.269058137764285,5.113053958632415,3.4526927377961547,2.340382879115909,1.6297763329479218,1.1475504879231029,0.792731970881424],\"type\":\"scatter\",\"xaxis\":\"x2\",\"yaxis\":\"y2\"},{\"legendgroup\":\"test_11\",\"mode\":\"markers\",\"name\":\"Run id in Test 11\",\"x\":[0.9336734693877552,2.437065710148363,5.62796875469204,10.533862335746935,15.299290333717591,17.875320862162734,17.969674835262136,16.391071193811836,14.038007795709742,11.533274365430168,9.195745593943654,7.112231654820247,4.969438825805817,3.2717696020474447,2.149185943850851],\"y\":[0.9152194448901663,2.4491156036241573,5.629665522806614,10.0680617582026,13.713447391379482,15.01753629444845,14.035887970277425,11.819505364438243,9.172425788777598,6.466790863225878,4.430413901529215,3.0375686768824104,2.0965806577309154,1.4557658593989087,1.0062975005795387],\"type\":\"scatter\",\"xaxis\":\"x2\",\"yaxis\":\"y2\"},{\"legendgroup\":\"test_12\",\"mode\":\"markers\",\"name\":\"Run id in Test 12\",\"x\":[0.6479591836734694,1.884819157337169,4.857121815360596,9.883852342577676,14.745478184452407,16.750903296290836,15.855890776999102,13.4084180343061,10.541080300045364,7.838598393293369,5.537871658750931,3.8998106271285167,2.751999359383246,1.940978937310896,1.3673696888707296],\"y\":[0.6371093935680683,1.777599955798477,4.379180025829419,8.575290775253764,12.724162193503217,14.594682592317188,14.009180317395156,11.877119631995443,9.142294880813635,6.443663528462274,4.369591366801312,2.9658821070388326,2.047546267274028,1.427048779777858,0.9927291333640342],\"type\":\"scatter\",\"xaxis\":\"x2\",\"yaxis\":\"y2\"},{\"legendgroup\":\"test_13\",\"mode\":\"markers\",\"name\":\"Run id in Test 13\",\"x\":[0.5867346938775511,1.75224472840841,4.626422304609773,9.554697980944976,14.351559517739917,16.306983739372416,15.354023140977375,12.884585124732602,10.07134964767596,7.510842411848839,5.396747823002425,3.775682093010206,2.62885136314987,1.823744181150547,1.2617144548275685],\"y\":[0.5711727717349524,1.636911298246261,4.184462236630308,8.614473117537793,13.69759204959304,16.79051369868444,17.310718270665763,15.772813276231881,13.003839938779588,9.690744473427582,6.864156794525587,4.816127231129348,3.4147926782968807,2.4354236412317594,1.7331573645461156],\"type\":\"scatter\",\"xaxis\":\"x2\",\"yaxis\":\"y2\"},{\"legendgroup\":\"test_14\",\"mode\":\"markers\",\"name\":\"Run id in Test 14\",\"x\":[0.7193877551020408,1.8819649327552248,4.431622324838061,8.619809650994062,13.020876150688665,15.515499060036886,15.599965118787315,14.051640993658378,11.782572421294605,9.403752555916933,7.219481888621721,5.344457577067406,3.934198389414581,2.897586446932469,2.1311363407691504],\"y\":[0.6613928462492973,1.8361975078287227,4.535853468178726,8.989975010840103,13.691885886786523,15.931114690271173,15.61643303609544,13.558265456712709,10.684462767466837,7.663681955526526,5.2372312373880625,3.5593115605357353,2.460452185655375,1.7195575794788094,1.1874860319342284],\"type\":\"scatter\",\"xaxis\":\"x2\",\"yaxis\":\"y2\"},{\"legendgroup\":\"test_15\",\"mode\":\"markers\",\"name\":\"Run id in Test 15\",\"x\":[0.8826530612244898,2.301700917119291,5.221233783249605,9.405183220458456,12.989315041294953,14.45608728431214,13.939459640554592,12.272193189642197,10.170481276864445,8.119481293771605,6.3870512257453775,4.958828121214336,3.808676492326277,2.9007645035005254,2.195065592587444],\"y\":[0.8890717194041499,2.4213468102424454,5.634968911567499,10.036763763772834,13.289444038603484,14.328736482575115,13.329698166208875,11.453145117692145,9.299012647261213,6.942899495623919,5.021186854470381,3.6029132776197663,2.5825946160815185,1.8513533829869715,1.316327423416301],\"type\":\"scatter\",\"xaxis\":\"x2\",\"yaxis\":\"y2\"},{\"legendgroup\":\"test_16\",\"mode\":\"markers\",\"name\":\"Run id in Test 16\",\"x\":[0.9438775510204082,2.8608285925892134,7.211490532463949,13.22033673014351,17.38034576855179,18.169166945611025,16.553907900096718,13.863207809745452,11.0034580506766,8.42873035096861,6.321499692051502,4.671305057674692,3.411394976707729,2.467823605597711,1.7713327375780012],\"y\":[0.9386602867473585,2.5291530082094114,5.818359047227319,10.215562381695051,13.16645006095413,13.580985160920731,11.983495413928855,9.687741157983533,7.401268837054686,5.276669327916662,3.6739015098263397,2.544642289404385,1.7633015763468376,1.2297606958739418,0.8494815475138032],\"type\":\"scatter\",\"xaxis\":\"x2\",\"yaxis\":\"y2\"},{\"legendgroup\":\"test_17\",\"mode\":\"markers\",\"name\":\"Run id in Test 17\",\"x\":[0.903061224489796,2.2853857876023507,5.207498757579862,9.834180339586856,14.387777013134414,16.518293170572928,15.828301258336182,13.28438736410519,9.913147649435132,6.653166686717479,4.473402355110158,3.0820159980536745,2.162848716950996,1.5374121883957808,1.1024930459376108],\"y\":[0.9471431484613779,2.5176093534085346,5.690024824659201,9.836979340573162,12.378914823814673,12.362195002929147,10.262338011865765,7.379326088581875,4.692022371169887,2.7174485255133334,1.5415407855829892,0.8528515982100686,0.4401220828049953,0.2153161457886973,0.10984348614651507],\"type\":\"scatter\",\"xaxis\":\"x2\",\"yaxis\":\"y2\"},{\"legendgroup\":\"test_18\",\"mode\":\"markers\",\"name\":\"Run id in Test 18\",\"x\":[0.8520408163265306,2.394281632269277,5.874275295524471,11.342460340273425,16.424580746592124,18.73494831787969,18.266700666445463,16.14155873776271,13.331454907504677,10.520866257083032,8.27961915944311,6.467422789957415,5.007659365321414,3.847656521493039,2.9379087226288005],\"y\":[0.8765024332342893,2.3353021298109833,5.332899490069346,9.448214656988831,12.488238992764774,13.117118545452533,11.474800541309026,8.744578613974545,5.939166373455874,3.646005700806411,2.1958316764528814,1.3316339608424594,0.8049433746736888,0.4880901633194596,0.3058875040402478],\"type\":\"scatter\",\"xaxis\":\"x2\",\"yaxis\":\"y2\"}],                        {\"template\":{\"data\":{\"histogram2dcontour\":[{\"type\":\"histogram2dcontour\",\"colorbar\":{\"outlinewidth\":0,\"ticks\":\"\"},\"colorscale\":[[0.0,\"#0d0887\"],[0.1111111111111111,\"#46039f\"],[0.2222222222222222,\"#7201a8\"],[0.3333333333333333,\"#9c179e\"],[0.4444444444444444,\"#bd3786\"],[0.5555555555555556,\"#d8576b\"],[0.6666666666666666,\"#ed7953\"],[0.7777777777777778,\"#fb9f3a\"],[0.8888888888888888,\"#fdca26\"],[1.0,\"#f0f921\"]]}],\"choropleth\":[{\"type\":\"choropleth\",\"colorbar\":{\"outlinewidth\":0,\"ticks\":\"\"}}],\"histogram2d\":[{\"type\":\"histogram2d\",\"colorbar\":{\"outlinewidth\":0,\"ticks\":\"\"},\"colorscale\":[[0.0,\"#0d0887\"],[0.1111111111111111,\"#46039f\"],[0.2222222222222222,\"#7201a8\"],[0.3333333333333333,\"#9c179e\"],[0.4444444444444444,\"#bd3786\"],[0.5555555555555556,\"#d8576b\"],[0.6666666666666666,\"#ed7953\"],[0.7777777777777778,\"#fb9f3a\"],[0.8888888888888888,\"#fdca26\"],[1.0,\"#f0f921\"]]}],\"heatmap\":[{\"type\":\"heatmap\",\"colorbar\":{\"outlinewidth\":0,\"ticks\":\"\"},\"colorscale\":[[0.0,\"#0d0887\"],[0.1111111111111111,\"#46039f\"],[0.2222222222222222,\"#7201a8\"],[0.3333333333333333,\"#9c179e\"],[0.4444444444444444,\"#bd3786\"],[0.5555555555555556,\"#d8576b\"],[0.6666666666666666,\"#ed7953\"],[0.7777777777777778,\"#fb9f3a\"],[0.8888888888888888,\"#fdca26\"],[1.0,\"#f0f921\"]]}],\"heatmapgl\":[{\"type\":\"heatmapgl\",\"colorbar\":{\"outlinewidth\":0,\"ticks\":\"\"},\"colorscale\":[[0.0,\"#0d0887\"],[0.1111111111111111,\"#46039f\"],[0.2222222222222222,\"#7201a8\"],[0.3333333333333333,\"#9c179e\"],[0.4444444444444444,\"#bd3786\"],[0.5555555555555556,\"#d8576b\"],[0.6666666666666666,\"#ed7953\"],[0.7777777777777778,\"#fb9f3a\"],[0.8888888888888888,\"#fdca26\"],[1.0,\"#f0f921\"]]}],\"contourcarpet\":[{\"type\":\"contourcarpet\",\"colorbar\":{\"outlinewidth\":0,\"ticks\":\"\"}}],\"contour\":[{\"type\":\"contour\",\"colorbar\":{\"outlinewidth\":0,\"ticks\":\"\"},\"colorscale\":[[0.0,\"#0d0887\"],[0.1111111111111111,\"#46039f\"],[0.2222222222222222,\"#7201a8\"],[0.3333333333333333,\"#9c179e\"],[0.4444444444444444,\"#bd3786\"],[0.5555555555555556,\"#d8576b\"],[0.6666666666666666,\"#ed7953\"],[0.7777777777777778,\"#fb9f3a\"],[0.8888888888888888,\"#fdca26\"],[1.0,\"#f0f921\"]]}],\"surface\":[{\"type\":\"surface\",\"colorbar\":{\"outlinewidth\":0,\"ticks\":\"\"},\"colorscale\":[[0.0,\"#0d0887\"],[0.1111111111111111,\"#46039f\"],[0.2222222222222222,\"#7201a8\"],[0.3333333333333333,\"#9c179e\"],[0.4444444444444444,\"#bd3786\"],[0.5555555555555556,\"#d8576b\"],[0.6666666666666666,\"#ed7953\"],[0.7777777777777778,\"#fb9f3a\"],[0.8888888888888888,\"#fdca26\"],[1.0,\"#f0f921\"]]}],\"mesh3d\":[{\"type\":\"mesh3d\",\"colorbar\":{\"outlinewidth\":0,\"ticks\":\"\"}}],\"scatter\":[{\"fillpattern\":{\"fillmode\":\"overlay\",\"size\":10,\"solidity\":0.2},\"type\":\"scatter\"}],\"parcoords\":[{\"type\":\"parcoords\",\"line\":{\"colorbar\":{\"outlinewidth\":0,\"ticks\":\"\"}}}],\"scatterpolargl\":[{\"type\":\"scatterpolargl\",\"marker\":{\"colorbar\":{\"outlinewidth\":0,\"ticks\":\"\"}}}],\"bar\":[{\"error_x\":{\"color\":\"#2a3f5f\"},\"error_y\":{\"color\":\"#2a3f5f\"},\"marker\":{\"line\":{\"color\":\"white\",\"width\":0.5},\"pattern\":{\"fillmode\":\"overlay\",\"size\":10,\"solidity\":0.2}},\"type\":\"bar\"}],\"scattergeo\":[{\"type\":\"scattergeo\",\"marker\":{\"colorbar\":{\"outlinewidth\":0,\"ticks\":\"\"}}}],\"scatterpolar\":[{\"type\":\"scatterpolar\",\"marker\":{\"colorbar\":{\"outlinewidth\":0,\"ticks\":\"\"}}}],\"histogram\":[{\"marker\":{\"pattern\":{\"fillmode\":\"overlay\",\"size\":10,\"solidity\":0.2}},\"type\":\"histogram\"}],\"scattergl\":[{\"type\":\"scattergl\",\"marker\":{\"colorbar\":{\"outlinewidth\":0,\"ticks\":\"\"}}}],\"scatter3d\":[{\"type\":\"scatter3d\",\"line\":{\"colorbar\":{\"outlinewidth\":0,\"ticks\":\"\"}},\"marker\":{\"colorbar\":{\"outlinewidth\":0,\"ticks\":\"\"}}}],\"scattermapbox\":[{\"type\":\"scattermapbox\",\"marker\":{\"colorbar\":{\"outlinewidth\":0,\"ticks\":\"\"}}}],\"scatterternary\":[{\"type\":\"scatterternary\",\"marker\":{\"colorbar\":{\"outlinewidth\":0,\"ticks\":\"\"}}}],\"scattercarpet\":[{\"type\":\"scattercarpet\",\"marker\":{\"colorbar\":{\"outlinewidth\":0,\"ticks\":\"\"}}}],\"carpet\":[{\"aaxis\":{\"endlinecolor\":\"#2a3f5f\",\"gridcolor\":\"#C8D4E3\",\"linecolor\":\"#C8D4E3\",\"minorgridcolor\":\"#C8D4E3\",\"startlinecolor\":\"#2a3f5f\"},\"baxis\":{\"endlinecolor\":\"#2a3f5f\",\"gridcolor\":\"#C8D4E3\",\"linecolor\":\"#C8D4E3\",\"minorgridcolor\":\"#C8D4E3\",\"startlinecolor\":\"#2a3f5f\"},\"type\":\"carpet\"}],\"table\":[{\"cells\":{\"fill\":{\"color\":\"#EBF0F8\"},\"line\":{\"color\":\"white\"}},\"header\":{\"fill\":{\"color\":\"#C8D4E3\"},\"line\":{\"color\":\"white\"}},\"type\":\"table\"}],\"barpolar\":[{\"marker\":{\"line\":{\"color\":\"white\",\"width\":0.5},\"pattern\":{\"fillmode\":\"overlay\",\"size\":10,\"solidity\":0.2}},\"type\":\"barpolar\"}],\"pie\":[{\"automargin\":true,\"type\":\"pie\"}]},\"layout\":{\"autotypenumbers\":\"strict\",\"colorway\":[\"#636efa\",\"#EF553B\",\"#00cc96\",\"#ab63fa\",\"#FFA15A\",\"#19d3f3\",\"#FF6692\",\"#B6E880\",\"#FF97FF\",\"#FECB52\"],\"font\":{\"color\":\"#2a3f5f\"},\"hovermode\":\"closest\",\"hoverlabel\":{\"align\":\"left\"},\"paper_bgcolor\":\"white\",\"plot_bgcolor\":\"white\",\"polar\":{\"bgcolor\":\"white\",\"angularaxis\":{\"gridcolor\":\"#EBF0F8\",\"linecolor\":\"#EBF0F8\",\"ticks\":\"\"},\"radialaxis\":{\"gridcolor\":\"#EBF0F8\",\"linecolor\":\"#EBF0F8\",\"ticks\":\"\"}},\"ternary\":{\"bgcolor\":\"white\",\"aaxis\":{\"gridcolor\":\"#DFE8F3\",\"linecolor\":\"#A2B1C6\",\"ticks\":\"\"},\"baxis\":{\"gridcolor\":\"#DFE8F3\",\"linecolor\":\"#A2B1C6\",\"ticks\":\"\"},\"caxis\":{\"gridcolor\":\"#DFE8F3\",\"linecolor\":\"#A2B1C6\",\"ticks\":\"\"}},\"coloraxis\":{\"colorbar\":{\"outlinewidth\":0,\"ticks\":\"\"}},\"colorscale\":{\"sequential\":[[0.0,\"#0d0887\"],[0.1111111111111111,\"#46039f\"],[0.2222222222222222,\"#7201a8\"],[0.3333333333333333,\"#9c179e\"],[0.4444444444444444,\"#bd3786\"],[0.5555555555555556,\"#d8576b\"],[0.6666666666666666,\"#ed7953\"],[0.7777777777777778,\"#fb9f3a\"],[0.8888888888888888,\"#fdca26\"],[1.0,\"#f0f921\"]],\"sequentialminus\":[[0.0,\"#0d0887\"],[0.1111111111111111,\"#46039f\"],[0.2222222222222222,\"#7201a8\"],[0.3333333333333333,\"#9c179e\"],[0.4444444444444444,\"#bd3786\"],[0.5555555555555556,\"#d8576b\"],[0.6666666666666666,\"#ed7953\"],[0.7777777777777778,\"#fb9f3a\"],[0.8888888888888888,\"#fdca26\"],[1.0,\"#f0f921\"]],\"diverging\":[[0,\"#8e0152\"],[0.1,\"#c51b7d\"],[0.2,\"#de77ae\"],[0.3,\"#f1b6da\"],[0.4,\"#fde0ef\"],[0.5,\"#f7f7f7\"],[0.6,\"#e6f5d0\"],[0.7,\"#b8e186\"],[0.8,\"#7fbc41\"],[0.9,\"#4d9221\"],[1,\"#276419\"]]},\"xaxis\":{\"gridcolor\":\"#EBF0F8\",\"linecolor\":\"#EBF0F8\",\"ticks\":\"\",\"title\":{\"standoff\":15},\"zerolinecolor\":\"#EBF0F8\",\"automargin\":true,\"zerolinewidth\":2},\"yaxis\":{\"gridcolor\":\"#EBF0F8\",\"linecolor\":\"#EBF0F8\",\"ticks\":\"\",\"title\":{\"standoff\":15},\"zerolinecolor\":\"#EBF0F8\",\"automargin\":true,\"zerolinewidth\":2},\"scene\":{\"xaxis\":{\"backgroundcolor\":\"white\",\"gridcolor\":\"#DFE8F3\",\"linecolor\":\"#EBF0F8\",\"showbackground\":true,\"ticks\":\"\",\"zerolinecolor\":\"#EBF0F8\",\"gridwidth\":2},\"yaxis\":{\"backgroundcolor\":\"white\",\"gridcolor\":\"#DFE8F3\",\"linecolor\":\"#EBF0F8\",\"showbackground\":true,\"ticks\":\"\",\"zerolinecolor\":\"#EBF0F8\",\"gridwidth\":2},\"zaxis\":{\"backgroundcolor\":\"white\",\"gridcolor\":\"#DFE8F3\",\"linecolor\":\"#EBF0F8\",\"showbackground\":true,\"ticks\":\"\",\"zerolinecolor\":\"#EBF0F8\",\"gridwidth\":2}},\"shapedefaults\":{\"line\":{\"color\":\"#2a3f5f\"}},\"annotationdefaults\":{\"arrowcolor\":\"#2a3f5f\",\"arrowhead\":0,\"arrowwidth\":1},\"geo\":{\"bgcolor\":\"white\",\"landcolor\":\"white\",\"subunitcolor\":\"#C8D4E3\",\"showland\":true,\"showlakes\":true,\"lakecolor\":\"white\"},\"title\":{\"x\":0.05},\"mapbox\":{\"style\":\"light\"}}},\"xaxis\":{\"anchor\":\"y\",\"domain\":[0.0,0.45],\"title\":{\"text\":\"Observed values\"}},\"yaxis\":{\"anchor\":\"x\",\"domain\":[0.0,1.0],\"title\":{\"text\":\"Predicted values\"}},\"xaxis2\":{\"anchor\":\"y2\",\"domain\":[0.55,1.0],\"title\":{\"text\":\"Observed values\"}},\"yaxis2\":{\"anchor\":\"x2\",\"domain\":[0.0,1.0],\"title\":{\"text\":\"Predicted values\"}},\"annotations\":[{\"font\":{\"size\":16},\"showarrow\":false,\"text\":\"Train Set - X:VCD \\u003cbr\\u003e R^2 = 0.89 \\u003cbr\\u003e Abs RMSE = 1.253 \\u003cbr\\u003e Rel RMSE = 0.254\",\"x\":0.225,\"xanchor\":\"center\",\"xref\":\"paper\",\"y\":1.0,\"yanchor\":\"bottom\",\"yref\":\"paper\"},{\"font\":{\"size\":16},\"showarrow\":false,\"text\":\"Test Set - X:VCD \\u003cbr\\u003e R^2 = 0.709 \\u003cbr\\u003e Abs RMSE = 2.911 \\u003cbr\\u003e Rel RMSE = 0.492\",\"x\":0.775,\"xanchor\":\"center\",\"xref\":\"paper\",\"y\":1.0,\"yanchor\":\"bottom\",\"yref\":\"paper\"}],\"shapes\":[{\"layer\":\"above\",\"line\":{\"dash\":\"dash\"},\"type\":\"line\",\"x0\":-0.16640805187224106,\"x1\":16.0693841694575,\"y0\":-0.16640805187224106,\"y1\":16.0693841694575},{\"layer\":\"above\",\"line\":{\"dash\":\"dash\"},\"type\":\"line\",\"x0\":0.10984348614651507,\"x1\":17.310718270665763,\"xref\":\"x2\",\"y0\":0.10984348614651507,\"y1\":17.310718270665763,\"yref\":\"y2\"}],\"width\":1600},                        {\"responsive\": true}                    ).then(function(){\n",
       "                            \n",
       "var gd = document.getElementById('41bf4cc5-d5b4-4e71-a5b7-fba39bcec7aa');\n",
       "var x = new MutationObserver(function (mutations, observer) {{\n",
       "        var display = window.getComputedStyle(gd).display;\n",
       "        if (!display || display === 'none') {{\n",
       "            console.log([gd, 'removed!']);\n",
       "            Plotly.purge(gd);\n",
       "            observer.disconnect();\n",
       "        }}\n",
       "}});\n",
       "\n",
       "// Listen for the removal of the full notebook cells\n",
       "var notebookContainer = gd.closest('#notebook-container');\n",
       "if (notebookContainer) {{\n",
       "    x.observe(notebookContainer, {childList: true});\n",
       "}}\n",
       "\n",
       "// Listen for the clearing of the current output cell\n",
       "var outputEl = gd.closest('.output');\n",
       "if (outputEl) {{\n",
       "    x.observe(outputEl, {childList: true});\n",
       "}}\n",
       "\n",
       "                        })                };                });            </script>        </div>"
      ]
     },
     "metadata": {},
     "output_type": "display_data"
    },
    {
     "data": {
      "application/vnd.plotly.v1+json": {
       "config": {
        "plotlyServerURL": "https://plot.ly"
       },
       "data": [
        {
         "legendgroup": "train_0",
         "mode": "markers",
         "name": "Run id in Train 0",
         "type": "scatter",
         "x": [
          34.48979591836735,
          33.497759773117764,
          39.18158379968747,
          50.62009499710431,
          58.67865561216076,
          64.50229474124312,
          70.31266186967268,
          77.9143661034886,
          88.10689900312666,
          100.73117479331908,
          115.08564001033828,
          125.8969576070251,
          125.23197031699696,
          124.87737539599864,
          124.68877246718952
         ],
         "xaxis": "x",
         "y": [
          34.30448485748425,
          33.232473440242586,
          38.18401928426166,
          49.379892497162686,
          55.8788341426162,
          59.959985207810234,
          64.16815529711191,
          70.69503481933943,
          78.82103444716454,
          89.71573248924452,
          101.72767498814662,
          108.44384585258125,
          106.58314504819421,
          105.3778671315549,
          104.57650663421896
         ],
         "yaxis": "y"
        },
        {
         "legendgroup": "train_1",
         "mode": "markers",
         "name": "Run id in Train 1",
         "type": "scatter",
         "x": [
          32.857142857142854,
          31.89527682507845,
          29.5237550239268,
          43.45365774211284,
          53.37801483606592,
          59.70360012988135,
          64.5923317260211,
          70.44512271860509,
          78.85933822620683,
          90.44847284105865,
          104.8797826290292,
          119.53418654560204,
          118.04401028491286,
          117.22054934864067,
          116.76720197022738
         ],
         "xaxis": "x",
         "y": [
          33.01034520706084,
          32.25904982302259,
          33.69824380271588,
          44.50778097222974,
          55.19347890340616,
          63.265325207834266,
          71.27951038886617,
          81.37886523378627,
          92.34905376675088,
          104.65436586798681,
          121.08484727939292,
          129.3251990610347,
          127.73234145554449,
          126.75714098476402,
          126.1284741301854
         ],
         "yaxis": "y"
        },
        {
         "legendgroup": "train_2",
         "mode": "markers",
         "name": "Run id in Train 2",
         "type": "scatter",
         "x": [
          40.20408163265306,
          39.3106253406875,
          36.83461707271391,
          41.29851545118337,
          51.58422234292109,
          59.42037843500661,
          67.24029203773658,
          77.00259730155591,
          89.6529978703625,
          105.02858325349617,
          122.29644922822447,
          128.01353314088,
          127.30657682739415,
          126.92861071812789,
          126.72696474831358
         ],
         "xaxis": "x",
         "y": [
          39.80247523938458,
          38.84642849735005,
          36.46325543684453,
          42.85185408551015,
          53.59205883395459,
          61.77622980166942,
          69.95431377262587,
          79.8775898582922,
          91.37319098044512,
          103.97579291440144,
          117.14183828239055,
          123.48694812685174,
          122.38850866532489,
          121.77066376335733,
          121.40467632307335
         ],
         "yaxis": "y"
        },
        {
         "legendgroup": "train_3",
         "mode": "markers",
         "name": "Run id in Train 3",
         "type": "scatter",
         "x": [
          66.3265306122449,
          64.9018084421659,
          74.46646692324572,
          82.75195820225221,
          88.4608121252639,
          94.35032349278424,
          102.35264420922908,
          112.78820578337243,
          125.13254274305396,
          124.74568445028515,
          123.70828935213474,
          123.11833121458756,
          122.78502933027806,
          122.59740576605402,
          122.49199994699929
         ],
         "xaxis": "x",
         "y": [
          66.55557052827061,
          65.13510523537727,
          70.46220745897716,
          80.45698663985911,
          85.79575390072719,
          90.38212803759569,
          96.44766686191214,
          105.12926035481932,
          116.97913332639241,
          121.82640121763637,
          116.70717713216635,
          111.71656625198825,
          110.87295870790027,
          110.30561830151788,
          109.94444582603984
         ],
         "yaxis": "y"
        },
        {
         "legendgroup": "train_4",
         "mode": "markers",
         "name": "Run id in Train 4",
         "type": "scatter",
         "x": [
          54.08163265306122,
          52.32453548724165,
          48.00670790060231,
          52.80978895442207,
          59.67166365361268,
          64.36116287789906,
          69.78971877901188,
          77.9393717582966,
          89.59672510578096,
          94.88781273549858,
          91.9609809279264,
          90.2743358499412,
          89.30079949433396,
          88.73790326458321,
          88.41203209326693
         ],
         "xaxis": "x",
         "y": [
          52.86696224041488,
          51.378071200281575,
          48.743826917134086,
          53.7869755842474,
          63.55946692781199,
          71.93156517743398,
          81.32177416728719,
          92.65566857960876,
          106.94611219380332,
          118.02200212316353,
          118.31244129996836,
          118.07166783229498,
          118.08178060832542,
          118.24136337728649,
          118.42764335117003
         ],
         "yaxis": "y"
        },
        {
         "legendgroup": "train_5",
         "mode": "markers",
         "name": "Run id in Train 5",
         "type": "scatter",
         "x": [
          55.71428571428572,
          54.04229265312258,
          50.19044815252949,
          56.66345377265392,
          62.94630603076002,
          67.36240093890267,
          72.50080654941964,
          80.1355041391731,
          90.8600281640686,
          99.09780809177174,
          96.82391152015649,
          95.56174721339072,
          94.86342162097333,
          94.47756919225226,
          94.2645083447324
         ],
         "xaxis": "x",
         "y": [
          54.33842475948309,
          52.65023505219076,
          51.23415610109701,
          54.254551077466346,
          60.06265391061905,
          64.21538388517648,
          69.15237005401174,
          75.95640463126749,
          86.29527031157741,
          96.15284952210087,
          95.01524955315766,
          94.28520319707941,
          93.80097456593425,
          93.56644013565239,
          93.46567652635758
         ],
         "yaxis": "y"
        },
        {
         "legendgroup": "train_6",
         "mode": "markers",
         "name": "Run id in Train 6",
         "type": "scatter",
         "x": [
          67.14285714285714,
          65.72262111008826,
          62.33899756102318,
          55.86087499300016,
          63.63048603140288,
          68.5499478631087,
          73.3580779196577,
          80.30501123095608,
          90.44056467752864,
          103.65677129603148,
          119.15240642675616,
          133.19526386484125,
          132.09349753140145,
          131.47324993444937,
          131.12522304466037
         ],
         "xaxis": "x",
         "y": [
          65.14492095594238,
          63.84763372386147,
          58.76647653994772,
          59.315527694021405,
          67.97354081974375,
          73.97125553189919,
          79.97519857023234,
          87.32345078173424,
          98.14493150358491,
          113.29923460022023,
          128.33268908774315,
          135.8664269509705,
          135.02931453861632,
          134.59362458241762,
          134.4097738308684
         ],
         "yaxis": "y"
        },
        {
         "legendgroup": "train_7",
         "mode": "markers",
         "name": "Run id in Train 7",
         "type": "scatter",
         "x": [
          56.53061224489796,
          55.32956552576817,
          51.96887747098334,
          55.45175427907439,
          58.64166030227109,
          60.52459420873051,
          63.5659352103408,
          69.0079158344245,
          77.12764839367868,
          87.62684618186968,
          95.35728979796336,
          94.37636391008608,
          93.89075940271,
          93.6504884837088,
          93.53162545237578
         ],
         "xaxis": "x",
         "y": [
          56.801551142433944,
          55.551863704546605,
          54.595867741628524,
          55.89244038790532,
          59.05001912862502,
          59.61476782187993,
          60.00611309170195,
          61.97086621398259,
          66.81282117523108,
          73.03703019687111,
          77.77869694490317,
          77.77698980437096,
          75.84529760234079,
          74.49473360173782,
          73.57823324643665
         ],
         "yaxis": "y"
        },
        {
         "legendgroup": "train_8",
         "mode": "markers",
         "name": "Run id in Train 8",
         "type": "scatter",
         "x": [
          57.3469387755102,
          56.26328141499867,
          61.11818356473742,
          67.19682852618769,
          70.32245701569198,
          72.10170042398552,
          74.576588215411,
          78.95127698119116,
          85.50870626123897,
          87.70211038857562,
          85.86798924811929,
          84.78793917261947,
          84.1521917968171,
          83.77787674575289,
          83.55742278372415
         ],
         "xaxis": "x",
         "y": [
          59.04871763176107,
          57.796251461154256,
          62.03672700952855,
          67.21478797099918,
          67.75390863205371,
          66.4571469275727,
          65.51848596774386,
          66.70302925251373,
          70.58813659271276,
          70.67426811766668,
          66.00310820906779,
          59.54722136216548,
          57.29796197955283,
          55.63427219540119,
          54.44802062730937
         ],
         "yaxis": "y"
        },
        {
         "legendgroup": "train_9",
         "mode": "markers",
         "name": "Run id in Train 9",
         "type": "scatter",
         "x": [
          54.89795918367347,
          53.83097725200842,
          51.135170054284416,
          48.65346404036791,
          56.75047501717443,
          62.62869783627702,
          68.50787888685004,
          76.15521464524201,
          86.41064303572327,
          98.32486114462506,
          95.72525521914292,
          94.23513508473134,
          93.3835594751364,
          92.89742769084626,
          92.62003538179069
         ],
         "xaxis": "x",
         "y": [
          54.27437820819568,
          52.834449230013554,
          47.22619778390455,
          45.94829317909549,
          52.1376464767853,
          55.98482397211719,
          59.924990001572354,
          65.19675886953921,
          73.58595113643057,
          82.24484981428657,
          84.01489034483426,
          83.2550137834981,
          82.37041881529869,
          81.82910492126854,
          81.500700027668
         ],
         "yaxis": "y"
        },
        {
         "legendgroup": "train_10",
         "mode": "markers",
         "name": "Run id in Train 10",
         "type": "scatter",
         "x": [
          37.755102040816325,
          36.57677271180029,
          46.25251666763304,
          56.64085612713366,
          63.93010853230757,
          69.61138526768147,
          75.70522885017883,
          83.61823357971268,
          93.8505805221179,
          106.16011549019908,
          106.89271438768871,
          105.43418230466489,
          104.55902351663788,
          104.03588709514992,
          103.72383714409824
         ],
         "xaxis": "x",
         "y": [
          37.012063592411394,
          35.45147745399025,
          41.2718510009214,
          51.91398330588706,
          56.491794426986,
          59.50454132805066,
          63.38903028071673,
          69.8201654580265,
          78.78812479176439,
          87.88683788687625,
          88.24723388429378,
          89.48814191997124,
          88.33898070626562,
          87.62483161507836,
          87.1580849742986
         ],
         "yaxis": "y"
        },
        {
         "legendgroup": "train_11",
         "mode": "markers",
         "name": "Run id in Train 11",
         "type": "scatter",
         "x": [
          50,
          49.09157529517094,
          46.84955829669319,
          48.604170355828494,
          54.57199337246716,
          58.36389194187862,
          61.88214335467829,
          66.70762201746292,
          73.63003288664736,
          82.78253116993254,
          93.81695568052636,
          98.95564472697004,
          98.20184536432616,
          97.816392253681,
          97.61960461531294
         ],
         "xaxis": "x",
         "y": [
          50.85756127960342,
          49.87881716729054,
          47.51402737698848,
          47.433972810470735,
          50.640347735586204,
          50.509328896165684,
          49.51105969410064,
          49.79384828491497,
          52.29792861985398,
          58.49122786596725,
          68.94471396345838,
          71.36604827931109,
          68.80177328726906,
          66.99320050717577,
          65.74524162129437
         ],
         "yaxis": "y"
        },
        {
         "legendgroup": "train_12",
         "mode": "markers",
         "name": "Run id in Train 12",
         "type": "scatter",
         "x": [
          53.265306122448976,
          52.07762276098589,
          48.85648769794223,
          45.675942234273386,
          51.44183740483195,
          55.10349177204707,
          59.27795539849706,
          65.63004245517226,
          74.81560802644988,
          80.78657448356496,
          77.9829296661077,
          76.351828471724,
          75.39214007585592,
          74.82349025196835,
          74.48509743633007
         ],
         "xaxis": "x",
         "y": [
          53.84614209759181,
          52.67272005658634,
          46.90922302676903,
          46.20289055178699,
          53.05384671678492,
          57.54410739289429,
          62.00742197407385,
          67.79495991932006,
          76.03860183130367,
          81.87641202111115,
          82.80956403044546,
          79.95342845312673,
          78.78909187165704,
          78.01434915617132,
          77.49668165489057
         ],
         "yaxis": "y"
        },
        {
         "legendgroup": "train_13",
         "mode": "markers",
         "name": "Run id in Train 13",
         "type": "scatter",
         "x": [
          42.6530612244898,
          41.0850704046084,
          37.02759928043359,
          30.45818992081187,
          34.84039068591313,
          37.03717255130894,
          39.62190109929062,
          44.1745698335648,
          51.25758334994672,
          49.53678242399757,
          44.10139357151434,
          40.1605794521544,
          37.32023770896177,
          35.2836040652659,
          33.82914719873361
         ],
         "xaxis": "x",
         "y": [
          43.30259424312229,
          42.05599612599974,
          35.17535270188093,
          33.35168723679399,
          39.859366487733546,
          43.85563024195866,
          47.66609587752458,
          52.69129718648031,
          59.91214731770869,
          65.33253271103821,
          64.0212466699603,
          60.42396509966028,
          59.283293889294924,
          58.53121766586891,
          58.012043853130876
         ],
         "yaxis": "y"
        },
        {
         "legendgroup": "train_14",
         "mode": "markers",
         "name": "Run id in Train 14",
         "type": "scatter",
         "x": [
          65.51020408163265,
          63.99548061319936,
          68.31974239376322,
          74.55355398322388,
          78.10924118523516,
          80.97932389280727,
          85.12202366785418,
          91.439862636109,
          99.900706432951,
          110.0072728438019,
          113.2635748496598,
          112.3626417581054,
          111.84642723137338,
          111.55190341588812,
          111.38425266447108
         ],
         "xaxis": "x",
         "y": [
          64.95864621815753,
          63.3367942296929,
          68.35600178173556,
          73.79541445075566,
          74.31791843843007,
          73.09004820868705,
          72.51425028158472,
          74.1490264572639,
          79.65464035777673,
          85.89444768994984,
          85.84063261252838,
          84.6576463659374,
          82.94579706245793,
          81.73848223569092,
          80.93458978221747
         ],
         "yaxis": "y"
        },
        {
         "legendgroup": "train_15",
         "mode": "markers",
         "name": "Run id in Train 15",
         "type": "scatter",
         "x": [
          47.55102040816327,
          45.8922067054614,
          44.4834870148573,
          56.84737786538536,
          65.89953771295528,
          73.4105232772496,
          81.68717394241027,
          92.26539526705966,
          105.50217629618813,
          120.93059981792972,
          123.3640388967564,
          121.80239343360144,
          120.84980527546172,
          120.27152393275526,
          119.92145882187592
         ],
         "xaxis": "x",
         "y": [
          45.64397138340315,
          44.03589465199162,
          45.303650809845145,
          53.74149777583441,
          62.29941944343386,
          69.42510466990225,
          77.63875152141368,
          88.12738134450186,
          101.61705563061152,
          114.94474267976676,
          118.19494750881803,
          121.44433056965404,
          121.24852815734263,
          121.2864174190806,
          121.39732094942958
         ],
         "yaxis": "y"
        },
        {
         "legendgroup": "train_16",
         "mode": "markers",
         "name": "Run id in Train 16",
         "type": "scatter",
         "x": [
          63.87755102040816,
          62.7997973773388,
          59.92744499260717,
          60.14026939943034,
          68.61093962182483,
          75.17149181152776,
          82.79264413672342,
          93.22579734587684,
          106.60270419078677,
          104.05208801365085,
          102.2626939458606,
          101.24826415555845,
          100.67625763219442,
          100.35460727550736,
          100.17400749483134
         ],
         "xaxis": "x",
         "y": [
          64.00553381954649,
          62.768567935126896,
          57.286001170144935,
          58.80080841559741,
          68.32517353015169,
          76.28408093794471,
          84.96490803533737,
          95.23960907096516,
          108.33252697558797,
          115.25315813495898,
          113.66000840656224,
          109.47512570646286,
          109.14926501070254,
          109.00165238731154,
          108.94944865839383
         ],
         "yaxis": "y"
        },
        {
         "legendgroup": "train_17",
         "mode": "markers",
         "name": "Run id in Train 17",
         "type": "scatter",
         "x": [
          45.10204081632653,
          44.32554935069983,
          42.09780125798637,
          48.21160619101941,
          56.83439327644384,
          62.79896168360311,
          69.0323479779723,
          77.6995411599223,
          89.55116481418871,
          104.11646694207596,
          120.39314375571296,
          121.5440388378647,
          121.11783445744182,
          120.91131348589892,
          120.8113993720039
         ],
         "xaxis": "x",
         "y": [
          45.774750238509384,
          44.99026071292139,
          43.17884285916728,
          49.241875626112694,
          58.87414939074194,
          65.93746830010262,
          72.88119321451612,
          81.55469159942305,
          91.62189565563374,
          100.789650053357,
          112.40374965905721,
          116.12248727454588,
          114.58000970196504,
          113.58702600021022,
          112.93466364928251
         ],
         "yaxis": "y"
        },
        {
         "legendgroup": "train_18",
         "mode": "markers",
         "name": "Run id in Train 18",
         "type": "scatter",
         "x": [
          41.0204081632653,
          39.76317528737375,
          49.44862331575384,
          58.53397348094333,
          64.55156958910726,
          69.94445269486563,
          76.95590953958703,
          86.58218679090731,
          98.69403791602484,
          112.55931574547742,
          127.44989304320484,
          139.45760038772522,
          139.16110431744187,
          139.01016816204165,
          138.93343756461462
         ],
         "xaxis": "x",
         "y": [
          40.00015555177767,
          38.671402165768555,
          46.14185290770503,
          58.57124528212801,
          63.53317130909386,
          66.4137091640624,
          69.79449528470217,
          75.74150637659908,
          84.05195168390254,
          96.05323141363007,
          106.7759263479858,
          113.90762595290286,
          112.21066706687331,
          111.12584945726204,
          110.42657951181451
         ],
         "yaxis": "y"
        },
        {
         "legendgroup": "train_19",
         "mode": "markers",
         "name": "Run id in Train 19",
         "type": "scatter",
         "x": [
          36.93877551020408,
          36.17608107215249,
          34.30795593879786,
          32.40937296108588,
          40.1675611223837,
          45.17128689028889,
          48.86730102835964,
          52.8591162556128,
          58.22235790233503,
          65.47106471879752,
          74.75402201416783,
          71.84620132386978,
          69.4383626932422,
          67.83265629249838,
          66.75175770438237
         ],
         "xaxis": "x",
         "y": [
          38.34748159583842,
          37.469265297061256,
          32.315938073156836,
          30.76708287222077,
          35.28340943407318,
          36.22255435758602,
          36.0157920046891,
          36.86264582943186,
          39.19810148217108,
          44.520384247291176,
          53.42189290854897,
          54.723161090335516,
          52.22611688282826,
          50.47570588514389,
          49.24480368097667
         ],
         "yaxis": "y"
        },
        {
         "legendgroup": "train_20",
         "mode": "markers",
         "name": "Run id in Train 20",
         "type": "scatter",
         "x": [
          35.30612244897959,
          34.17701287970345,
          31.45037253589945,
          36.552350216996096,
          42.3302691618333,
          45.3855387574456,
          47.64962182660855,
          50.81117335898369,
          55.80825890807329,
          61.29242873124736,
          55.50312353915039,
          51.23516895292121,
          48.08123391278078,
          45.75249238850651,
          44.03606197144599
         ],
         "xaxis": "x",
         "y": [
          36.72436858671633,
          35.63525103917317,
          33.50016550199487,
          35.492534867484736,
          39.95412515950602,
          41.7414636990044,
          43.16973662660034,
          46.14678879425209,
          50.75022626315209,
          54.48746101336951,
          55.2484990548376,
          52.71598924731556,
          50.75234885351945,
          49.37815620816394,
          48.39777105006896
         ],
         "yaxis": "y"
        },
        {
         "legendgroup": "train_21",
         "mode": "markers",
         "name": "Run id in Train 21",
         "type": "scatter",
         "x": [
          59.79591836734694,
          58.92682483341649,
          68.029602205082,
          79.41939529284414,
          87.63477063072462,
          94.31293654560272,
          101.70249720709306,
          111.01790509610508,
          122.38537697936913,
          135.419508052179,
          147.46618990364215,
          146.0671505483476,
          145.18792191466025,
          144.6392658186537,
          144.2983612296959
         ],
         "xaxis": "x",
         "y": [
          59.99846355263679,
          58.9737970271408,
          64.5530023518939,
          76.62030976175362,
          84.1739025286861,
          90.19445425317775,
          97.08019195883841,
          106.49783101800884,
          118.2115261711422,
          126.76007541065562,
          134.4710327642447,
          136.78264002612977,
          135.38514134820036,
          134.4694569431083,
          133.88600030462743
         ],
         "yaxis": "y"
        },
        {
         "legendgroup": "train_22",
         "mode": "markers",
         "name": "Run id in Train 22",
         "type": "scatter",
         "x": [
          30.40816326530612,
          28.89909967032107,
          25.24756662809376,
          34.16081629047233,
          42.4163614600787,
          48.61808376150079,
          55.16167311278586,
          63.73585277314172,
          75.15927533525743,
          89.553660640942,
          93.07364649124854,
          91.7895522517977,
          91.1507983277656,
          90.83287156687406,
          90.67456726997992
         ],
         "xaxis": "x",
         "y": [
          29.27241289571844,
          27.81393239647894,
          27.037430110380377,
          33.573923639660904,
          41.81822604995466,
          47.9885010899073,
          54.599722249522365,
          63.18782403434692,
          73.88831125646445,
          85.90702589071458,
          89.80128322600574,
          93.13066002049416,
          92.4752144053336,
          92.17762520430018,
          92.01894595324092
         ],
         "yaxis": "y"
        },
        {
         "legendgroup": "train_23",
         "mode": "markers",
         "name": "Run id in Train 23",
         "type": "scatter",
         "x": [
          52.44897959183673,
          50.4319868175881,
          45.34450559604125,
          38.30925495008091,
          33.041173173756015,
          24.110506751120333,
          14.538342253152472,
          6.605350541491551,
          1.6629870894699352,
          -1.123438192410525e-9,
          2.2941719252264282e-9,
          4.620853030997867e-8,
          -1.5405446731290965e-7,
          -3.4484208939467065e-8,
          2.2272309436876068e-9
         ],
         "xaxis": "x",
         "y": [
          52.94562506606212,
          51.17273209358164,
          46.044617539966815,
          37.80033293001979,
          34.58323053180171,
          28.460074722113163,
          21.733209178907295,
          15.95854704533027,
          14.032402957800485,
          14.859798418388323,
          6.3275060291294665,
          -1.3262096234866334,
          -3.4729747387060996,
          -5.065353760069286,
          -6.205551323556875
         ],
         "yaxis": "y"
        },
        {
         "legendgroup": "train_24",
         "mode": "markers",
         "name": "Run id in Train 24",
         "type": "scatter",
         "x": [
          63.06122448979592,
          61.952601824752016,
          65.96675238217034,
          72.31715616572308,
          73.97264176847989,
          73.08696675585317,
          72.63914368129423,
          74.42783938590682,
          79.07376276074767,
          86.49092723862145,
          96.16950330741508,
          102.09578626850131,
          100.91547590879154,
          100.26212354644224,
          99.90101778584494
         ],
         "xaxis": "x",
         "y": [
          63.75908909530436,
          62.798703893256935,
          67.9771855059123,
          76.19438861550684,
          79.85429031405374,
          81.18673112019033,
          82.6231722719169,
          86.22623348010448,
          92.34134910532816,
          98.9077024291263,
          109.55245819427368,
          112.42263631473475,
          110.01429961237203,
          108.31430370068729,
          107.16455534924457
         ],
         "yaxis": "y"
        },
        {
         "legendgroup": "train_25",
         "mode": "markers",
         "name": "Run id in Train 25",
         "type": "scatter",
         "x": [
          64.6938775510204,
          63.14050370260742,
          64.77366444282445,
          69.06845572848533,
          69.04584676781845,
          67.05402507732256,
          65.64707670684369,
          66.2758086873537,
          69.45732013501959,
          75.19184324651715,
          80.76635129405248,
          77.9365906791618,
          76.16575463960542,
          75.04416964759184,
          74.32807413916493
         ],
         "xaxis": "x",
         "y": [
          64.81525164836467,
          63.46123760020564,
          67.58491119135681,
          72.5773648209678,
          73.74168915662037,
          72.77216288444028,
          72.07137044747584,
          73.42035330449438,
          78.12686097107417,
          83.73196628890216,
          87.43636827814669,
          87.21217646576551,
          85.09842052641261,
          83.59177219306822,
          82.57096382667031
         ],
         "yaxis": "y"
        },
        {
         "legendgroup": "train_26",
         "mode": "markers",
         "name": "Run id in Train 26",
         "type": "scatter",
         "x": [
          67.9591836734694,
          67.28240628318157,
          65.55626871848547,
          78.68757982143282,
          89.91745708231556,
          99.71371990057854,
          110.06098058358664,
          122.07060389155308,
          135.8251542778384,
          150.95258727079258,
          157.12109745450894,
          156.15677047550912,
          155.5744139832062,
          155.2253247278377,
          155.01697465590297
         ],
         "xaxis": "x",
         "y": [
          68.34912607518349,
          67.41897770248806,
          67.38288854908122,
          74.64562717011457,
          84.18364624184233,
          92.0444239105959,
          100.58924656662094,
          111.16269039017041,
          124.15888335169966,
          132.32144242841255,
          139.49587334085714,
          140.0086599268114,
          138.9758748975034,
          138.32056466701005,
          137.9274864041009
         ],
         "yaxis": "y"
        },
        {
         "legendgroup": "train_27",
         "mode": "markers",
         "name": "Run id in Train 27",
         "type": "scatter",
         "x": [
          50,
          48.73922107070047,
          45.46922825291517,
          53.461171251022776,
          57.03038841840529,
          57.83699174243187,
          58.46340311758151,
          60.74015474289358,
          65.50362833436158,
          72.95435094799299,
          75.41882542416371,
          72.22254147912683,
          70.1547645357654,
          68.79678839191861,
          67.89636682149879
         ],
         "xaxis": "x",
         "y": [
          50.18477040340679,
          48.912251028528466,
          49.47754235188361,
          53.48887125805921,
          57.58842695359599,
          59.363324015142354,
          61.2245874245668,
          64.91188485986082,
          71.18885582449417,
          77.98600647920088,
          81.67916593046333,
          81.87077658359757,
          80.15859011450117,
          78.98729504519854,
          78.19412700987317
         ],
         "yaxis": "y"
        },
        {
         "legendgroup": "train_28",
         "mode": "markers",
         "name": "Run id in Train 28",
         "type": "scatter",
         "x": [
          32.04081632653061,
          31.11229055057243,
          32.990053331965804,
          39.03911379335461,
          40.10185844259447,
          37.037803537375126,
          32.41633985913958,
          28.54647446886421,
          26.704208985507083,
          27.30321123979796,
          30.25992780900893,
          25.97984753374252,
          20.53793167215064,
          16.43325134188797,
          13.365977772810336
         ],
         "xaxis": "x",
         "y": [
          33.87591925318455,
          32.94933438815877,
          36.61732451691408,
          42.390758537465494,
          43.685406334796355,
          41.864704177767294,
          39.31538685068901,
          38.62946465078878,
          39.26415092176715,
          42.58906497219286,
          49.68985682602404,
          50.85689843714515,
          47.73254900386292,
          45.494120626310426,
          43.89736229314567
         ],
         "yaxis": "y"
        },
        {
         "legendgroup": "train_29",
         "mode": "markers",
         "name": "Run id in Train 29",
         "type": "scatter",
         "x": [
          38.57142857142857,
          36.94526330464651,
          46.56604114423194,
          52.510047762318656,
          52.39254747165324,
          48.79493058206928,
          45.211991647717625,
          43.88684382492737,
          45.68118398279381,
          50.61696624254692,
          58.36039213251052,
          68.03797774314373,
          64.52430457840241,
          62.258336634425056,
          60.77330311529059
         ],
         "xaxis": "x",
         "y": [
          37.47183291892743,
          36.1131948821279,
          44.3527977663252,
          57.073594223339555,
          61.29385878120889,
          63.337972060954364,
          65.80973299195601,
          70.87960887532283,
          78.31053817804778,
          90.48643435820846,
          101.75779702079691,
          109.55017798947921,
          107.70497041153502,
          106.51331118442258,
          105.7369009609379
         ],
         "yaxis": "y"
        },
        {
         "legendgroup": "train_30",
         "mode": "markers",
         "name": "Run id in Train 30",
         "type": "scatter",
         "x": [
          68.77551020408163,
          67.30842702461945,
          65.4320580309612,
          69.14985960557682,
          66.87845495884588,
          60.18089313058049,
          51.82855887903272,
          44.01862105502139,
          38.08501827711447,
          34.65002605136349,
          30.68833443946355,
          19.9828427302298,
          11.436469064786976,
          4.748603738921237,
          0.0019930195818658
         ],
         "xaxis": "x",
         "y": [
          69.03294032634756,
          67.70554414956713,
          69.77055247880915,
          72.22365011534525,
          73.23133416587578,
          71.93048227132086,
          70.71326036491936,
          71.30029508945854,
          75.38750610258067,
          80.39631723014014,
          84.06837619024076,
          83.09994884190411,
          80.94326267952923,
          79.39241720349153,
          78.3403133459683
         ],
         "yaxis": "y"
        },
        {
         "legendgroup": "test_0",
         "mode": "markers",
         "name": "Run id in Test 0",
         "type": "scatter",
         "x": [
          43.46938775510204,
          42.11575103737883,
          38.40470745766825,
          34.28104672448483,
          36.13270037292429,
          34.63344313923112,
          32.55252740419164,
          31.875483763746413,
          33.52447895437812,
          37.694658596943526,
          44.21209863405196,
          45.78852821788307,
          40.788789446857486,
          37.03759971276014,
          34.231330813861874
         ],
         "xaxis": "x2",
         "y": [
          41.831237339916854,
          40.18641880915299,
          36.81094462294074,
          34.54587409197349,
          36.455877837301905,
          35.08675387390491,
          33.090984145238345,
          32.31631244477944,
          34.93745320069798,
          46.515956465765974,
          54.95458439071755,
          60.20928486130482,
          58.452083204891196,
          57.29983470658192,
          56.548846804281816
         ],
         "yaxis": "y2"
        },
        {
         "legendgroup": "test_1",
         "mode": "markers",
         "name": "Run id in Test 1",
         "type": "scatter",
         "x": [
          45.91836734693878,
          44.93535705335225,
          45.34454371167346,
          51.66956589718001,
          54.3222189193982,
          53.64426667599316,
          51.24210526598327,
          48.83005687873178,
          47.56068327676123,
          39.08302910973476,
          29.94038322346193,
          22.44987114558976,
          16.430036262308974,
          11.668327985152208,
          7.95349374597405
         ],
         "xaxis": "x2",
         "y": [
          47.73160723995912,
          46.390332241810704,
          47.59534217155038,
          48.893319620439414,
          48.30448760044686,
          45.400622518944004,
          42.38188766423209,
          41.105276925092404,
          42.34391565203594,
          41.66142985957796,
          34.95523746792107,
          27.611756609977093,
          25.230133602349397,
          23.467659359694238,
          22.18964415659029
         ],
         "yaxis": "y2"
        },
        {
         "legendgroup": "test_2",
         "mode": "markers",
         "name": "Run id in Test 2",
         "type": "scatter",
         "x": [
          39.38775510204081,
          38.5280407408776,
          38.7311595156132,
          45.76285698062254,
          49.24196581704296,
          49.81892064072007,
          49.184687689797485,
          48.89258013831316,
          49.88107629463944,
          52.55198518790212,
          56.8557322124684,
          50.96007068131026,
          46.35555553595123,
          42.76260751556799,
          39.96626373139646
         ],
         "xaxis": "x2",
         "y": [
          40.90374272960703,
          39.845059642411144,
          42.23736592472943,
          45.84218461326903,
          46.520426692101026,
          44.1675961268608,
          41.16398423419707,
          39.892200829012566,
          40.4994624094013,
          43.71072993395184,
          48.95312796860011,
          48.952495982813076,
          46.01639342002244,
          43.90391677735485,
          42.403775318605966
         ],
         "yaxis": "y2"
        },
        {
         "legendgroup": "test_3",
         "mode": "markers",
         "name": "Run id in Test 3",
         "type": "scatter",
         "x": [
          48.36734693877551,
          47.04285822396751,
          49.47633429246047,
          52.15436152007848,
          49.36912447968168,
          42.317330231004384,
          33.707503700984184,
          25.915780610616988,
          20.30896088097011,
          17.375999828551723,
          7.512392125109961,
          0.000005549966366497421,
          -1.1635971826234836e-8,
          -7.551679343443506e-10,
          5.42590117253555e-10
         ],
         "xaxis": "x2",
         "y": [
          50.395937561825384,
          49.22558913056077,
          53.444119245131866,
          57.4054767848481,
          56.21492488232388,
          52.54589374322626,
          48.64203513043561,
          46.67608991037265,
          47.03975944903489,
          46.70954393586967,
          45.050075592967445,
          40.29281896073555,
          37.38088628958228,
          35.22882847550735,
          33.68289141754556
         ],
         "yaxis": "y2"
        },
        {
         "legendgroup": "test_4",
         "mode": "markers",
         "name": "Run id in Test 4",
         "type": "scatter",
         "x": [
          46.734693877551024,
          44.99290263409152,
          55.71392075823843,
          61.33985969413218,
          61.56527277561326,
          59.50002768365175,
          58.29518530186981,
          59.65002766372735,
          64.13123970145408,
          71.72899291203933,
          66.36797709905878,
          62.62435211663696,
          60.027913453442245,
          58.20387118444934,
          56.91292005668433
         ],
         "xaxis": "x2",
         "y": [
          46.58124009088051,
          45.17435083819191,
          52.17639377301595,
          64.36140212133941,
          69.4923207427018,
          73.35816329406777,
          78.32046402289222,
          85.9859407577374,
          96.14752698064473,
          103.63265057442682,
          103.5296425752473,
          103.24050712938663,
          102.04205134738993,
          101.26579890408823,
          100.75419417998097
         ],
         "yaxis": "y2"
        },
        {
         "legendgroup": "test_5",
         "mode": "markers",
         "name": "Run id in Test 5",
         "type": "scatter",
         "x": [
          61.42857142857143,
          60.50079410755882,
          57.7416721465118,
          63.15057974853251,
          64.57604262224581,
          62.09198760634006,
          59.14814915273872,
          58.11012565652759,
          59.9433480996893,
          64.7820145618766,
          72.39096715444906,
          72.48911688464071,
          69.99775447415446,
          68.42884724712913,
          67.42783305213658
         ],
         "xaxis": "x2",
         "y": [
          62.41979326490109,
          61.51907999341771,
          61.79348992885008,
          65.29892647165305,
          69.71023176759375,
          71.40769819706902,
          72.80352543206554,
          75.86197098897237,
          81.29580947072073,
          87.14257461300102,
          97.07399944143985,
          98.6232224267903,
          96.29459579838162,
          94.64806494640216,
          93.52724127488406
         ],
         "yaxis": "y2"
        },
        {
         "legendgroup": "test_6",
         "mode": "markers",
         "name": "Run id in Test 6",
         "type": "scatter",
         "x": [
          60.61224489795919,
          58.91820688373571,
          54.967944586112615,
          56.504120407833305,
          53.20133675298614,
          47.006106393559286,
          40.2969979363268,
          34.73770111132932,
          31.173384146301327,
          29.862540320253835,
          21.60893411956609,
          13.894199054079715,
          7.830610064693132,
          3.1559468428018,
          0.0010337156919927
         ],
         "xaxis": "x2",
         "y": [
          60.591282874066934,
          58.87152215537232,
          59.784533628430125,
          57.83425436382513,
          54.656896056018795,
          48.931543279326256,
          43.0367107701247,
          38.69404809510781,
          38.40016220264308,
          41.55024267628087,
          38.47214125014858,
          34.69842843644766,
          32.38356344605607,
          30.6874083804248,
          29.505000844730866
         ],
         "yaxis": "y2"
        },
        {
         "legendgroup": "test_7",
         "mode": "markers",
         "name": "Run id in Test 7",
         "type": "scatter",
         "x": [
          44.285714285714285,
          43.091730416232096,
          49.56742116592375,
          53.41855175443676,
          53.56105683162421,
          51.3427427140427,
          48.75151084812984,
          47.21647080029135,
          47.41291358220813,
          49.4956375243666,
          48.292322180351455,
          43.51040815227347,
          39.87424357386649,
          37.12396685800291,
          35.05341744703701
         ],
         "xaxis": "x2",
         "y": [
          45.04151804931233,
          43.54015531415111,
          50.928814828693575,
          56.95978384322828,
          54.039797647327234,
          48.76917641091109,
          43.50341264306341,
          40.465357159629036,
          40.31284773772255,
          42.8284285620671,
          41.57702774209782,
          39.542162286372275,
          36.74497670784918,
          34.70856862935672,
          33.26197831588181
         ],
         "yaxis": "y2"
        },
        {
         "legendgroup": "test_8",
         "mode": "markers",
         "name": "Run id in Test 8",
         "type": "scatter",
         "x": [
          62.24489795918368,
          61.21776604301599,
          61.68839208761704,
          65.04382305329295,
          62.69758511158651,
          56.54852620466132,
          49.80711194765001,
          44.700101045224585,
          42.2095427249079,
          42.48465618101904,
          41.20803831131787,
          35.297389599090664,
          30.94636871742636,
          27.770291957174603,
          25.467113925770228
         ],
         "xaxis": "x2",
         "y": [
          63.81414091415172,
          62.70458799691451,
          65.69941093876893,
          68.4774677452745,
          68.2127386679985,
          65.39438787031726,
          62.32681160616508,
          61.054333197193195,
          62.590865364771005,
          64.06249621231059,
          66.7525485117514,
          63.90633437859406,
          61.09029656523475,
          59.01715566186725,
          57.55953183913053
         ],
         "yaxis": "y2"
        },
        {
         "legendgroup": "test_9",
         "mode": "markers",
         "name": "Run id in Test 9",
         "type": "scatter",
         "x": [
          31.22448979591837,
          29.86833180785049,
          27.658387185172973,
          37.619533430058816,
          41.16323693589936,
          39.72372431065216,
          36.56691320199399,
          34.4317618023923,
          34.8034920745417,
          38.185121525710215,
          44.52533300483191,
          42.78968564912638,
          35.513688469230864,
          29.937750335245543,
          25.685477735236184
         ],
         "xaxis": "x2",
         "y": [
          30.157051873494368,
          28.881274305450376,
          30.763549312614817,
          39.70310322059705,
          47.498963693592344,
          52.90678592007441,
          58.52050118724332,
          66.25007753071237,
          75.85853411497749,
          89.01890701582855,
          99.58274751682806,
          106.63237210705299,
          105.4054515674728,
          104.69939064222211,
          104.26384208357928
         ],
         "yaxis": "y2"
        },
        {
         "legendgroup": "test_10",
         "mode": "markers",
         "name": "Run id in Test 10",
         "type": "scatter",
         "x": [
          69.59183673469389,
          68.46750689794594,
          65.3266602512058,
          66.30677152443242,
          66.68529999697574,
          61.49451704502854,
          53.80679731466593,
          46.36843571545527,
          40.87750415301878,
          38.13586928938357,
          37.29759740650222,
          25.839575325434303,
          16.752013641424025,
          9.65792303172169,
          4.218111157440058
         ],
         "xaxis": "x2",
         "y": [
          70.59772643079828,
          69.69289725146528,
          67.62776409837882,
          68.90331634649296,
          74.03337782527457,
          76.55267787252417,
          78.83759845944674,
          82.59694679857594,
          89.02967930239066,
          94.40841649560943,
          102.86799114565076,
          102.78730384780638,
          100.72798785824745,
          99.26690110794655,
          98.28314528626716
         ],
         "yaxis": "y2"
        },
        {
         "legendgroup": "test_11",
         "mode": "markers",
         "name": "Run id in Test 11",
         "type": "scatter",
         "x": [
          51.63265306122449,
          49.94976636557456,
          45.82621053051052,
          44.7843135956976,
          44.45291934626548,
          40.09750565232298,
          34.36587652676877,
          29.51632947308628,
          26.835405259517685,
          23.601304472992464,
          12.58750667173926,
          3.959861417068549,
          -1.3036276822892648e-8,
          -4.020210447778308e-8,
          -4.251459656023749e-9
         ],
         "xaxis": "x2",
         "y": [
          51.50073418388493,
          49.87107983286727,
          46.86803842775327,
          44.16906126446002,
          44.927975400403724,
          43.132879261952375,
          41.16801076630776,
          40.557502150305005,
          43.397409530645696,
          48.33269798224444,
          45.501883783627584,
          42.11874529474938,
          40.44833250679159,
          39.27021195464871,
          38.45668360208628
         ],
         "yaxis": "y2"
        },
        {
         "legendgroup": "test_12",
         "mode": "markers",
         "name": "Run id in Test 12",
         "type": "scatter",
         "x": [
          49.18367346938776,
          48.04307641738522,
          44.925389332895406,
          44.08673424776753,
          46.47446596782147,
          45.38245170418673,
          43.83611968730055,
          44.03879975806608,
          46.91039218981837,
          52.53450294032319,
          54.22434141162034,
          49.65477063498234,
          46.43274606004504,
          44.15952747224678,
          42.557171394724136
         ],
         "xaxis": "x2",
         "y": [
          50.091951879816314,
          49.00662020631361,
          45.53487605536679,
          45.072060549013244,
          49.10216135541529,
          50.19820193257478,
          50.75191176004674,
          52.61628556673891,
          56.7607503786171,
          61.969001916556806,
          67.04824656962042,
          66.46364826992243,
          64.3924373679751,
          62.93852959923896,
          61.9313628871676
         ],
         "yaxis": "y2"
        },
        {
         "legendgroup": "test_13",
         "mode": "markers",
         "name": "Run id in Test 13",
         "type": "scatter",
         "x": [
          33.673469387755105,
          32.85568903858953,
          30.56312746120461,
          29.79751038666612,
          32.29613558672073,
          32.1220102532364,
          31.63580653315286,
          32.54689847491206,
          35.52766659560036,
          40.579724163483775,
          47.4183760344545,
          45.98769286172848,
          43.56916921498736,
          41.888306284004265,
          40.72385776395283
         ],
         "xaxis": "x2",
         "y": [
          35.62050157663499,
          34.674876431667684,
          31.46814975281757,
          28.687489679299876,
          28.936925268837207,
          25.260177268247347,
          20.064055793915095,
          15.88570513513249,
          13.304752688706031,
          15.741829186681315,
          22.88283780020363,
          22.918327680627954,
          19.61578504951467,
          17.228094346465156,
          15.519008563918817
         ],
         "yaxis": "y2"
        },
        {
         "legendgroup": "test_14",
         "mode": "markers",
         "name": "Run id in Test 14",
         "type": "scatter",
         "x": [
          58.9795918367347,
          57.71818717441643,
          54.591835289208696,
          48.740034488313086,
          50.591902264455705,
          48.73667552104879,
          45.57858606172464,
          43.266404113141846,
          43.00220538089287,
          45.186238141865225,
          49.75160387959409,
          51.9980652588479,
          47.2238657605447,
          43.70790635047517,
          41.12009101718862
         ],
         "xaxis": "x2",
         "y": [
          58.994323851064465,
          57.780136068653384,
          52.9079487759505,
          48.16155618036092,
          49.584269992121,
          47.40331885089442,
          44.158414010226096,
          41.833207817209875,
          42.68044018387758,
          49.962181211310856,
          60.53640735569796,
          63.327345483484926,
          60.825262391844845,
          59.05700261998231,
          57.85644218287829
         ],
         "yaxis": "y2"
        },
        {
         "legendgroup": "test_15",
         "mode": "markers",
         "name": "Run id in Test 15",
         "type": "scatter",
         "x": [
          50.81632653061224,
          49.42903179884225,
          49.241059384896246,
          53.60616050819305,
          54.18866248915607,
          52.37444668092891,
          50.17414735016551,
          49.05515864313025,
          49.732300878384365,
          44.31814137271242,
          37.60075716598503,
          32.35174463832436,
          28.2991972340904,
          25.20030120956997,
          22.84821138001836
         ],
         "xaxis": "x2",
         "y": [
          51.81410336189119,
          50.24285829683826,
          51.941735877356365,
          52.646900079128685,
          50.968415972514606,
          47.10176327413683,
          43.29516147056016,
          41.26622149214117,
          42.433556276171046,
          43.05716546876975,
          35.59473656868645,
          28.76979951163908,
          26.581882649717016,
          24.967076313500954,
          23.809605340853537
         ],
         "yaxis": "y2"
        },
        {
         "legendgroup": "test_16",
         "mode": "markers",
         "name": "Run id in Test 16",
         "type": "scatter",
         "x": [
          58.16326530612245,
          56.19839835142584,
          56.07719419309451,
          57.53927463109983,
          52.96921102523128,
          45.63397195631546,
          38.8997572613256,
          34.699870639411095,
          33.68510842771298,
          33.50523150199827,
          25.256678759625984,
          19.1188305910305,
          14.612733046549293,
          11.34014001235881,
          8.984242446198829
         ],
         "xaxis": "x2",
         "y": [
          57.87486868087085,
          56.203559210216376,
          59.29488132069117,
          62.84457017588085,
          63.252011486617164,
          61.82831411568404,
          60.932118041447424,
          62.0759381308241,
          66.88301060669266,
          71.92681618502093,
          68.46563774278229,
          65.32835651654935,
          63.708732715451276,
          62.562525847501846,
          61.78195201273721
         ],
         "yaxis": "y2"
        },
        {
         "legendgroup": "test_17",
         "mode": "markers",
         "name": "Run id in Test 17",
         "type": "scatter",
         "x": [
          36.12244897959184,
          34.6867024963607,
          44.664597050119234,
          55.81361234748272,
          62.34479586783534,
          65.5442152273638,
          68.10088432954296,
          72.29838027303144,
          79.40567313644425,
          82.14377076705478,
          76.88705450215896,
          73.31063873396018,
          70.82401060761896,
          69.06773895134793,
          67.81381045954711
         ],
         "xaxis": "x2",
         "y": [
          35.39826023670345,
          33.876791192912336,
          38.75482351546815,
          50.91264969143863,
          58.40939867984035,
          64.7798416675222,
          72.41030266807907,
          82.70516635059828,
          95.2478406301897,
          104.82843832363523,
          103.03305390940183,
          103.10168638957909,
          102.57452219286431,
          102.33578069105596,
          102.2068528461413
         ],
         "yaxis": "y2"
        },
        {
         "legendgroup": "test_18",
         "mode": "markers",
         "name": "Run id in Test 18",
         "type": "scatter",
         "x": [
          41.83673469387755,
          40.38038830938275,
          36.565252180866544,
          44.724152294715466,
          48.97178774316208,
          49.54183685095304,
          49.29284092052927,
          50.39400821481854,
          53.94618618233191,
          49.53852948905152,
          40.47200104895845,
          33.3616915595214,
          27.83277789229457,
          23.569360359584245,
          20.30478711205175
         ],
         "xaxis": "x2",
         "y": [
          41.55196741831432,
          40.10764914287787,
          39.08279774679951,
          44.213261704635784,
          51.31605130406952,
          56.71092600592221,
          62.76028814891572,
          70.77208004895772,
          81.20979416080976,
          89.16237085429883,
          87.1596232213267,
          85.35283584141176,
          84.67020830567013,
          84.28877275644302,
          84.05186750301924
         ],
         "yaxis": "y2"
        }
       ],
       "layout": {
        "annotations": [
         {
          "font": {
           "size": 16
          },
          "showarrow": false,
          "text": "Train Set - X:Glc <br> R^2 = -0.194 <br> Abs RMSE = 11.34 <br> Rel RMSE = 0.357",
          "x": 0.225,
          "xanchor": "center",
          "xref": "paper",
          "y": 1,
          "yanchor": "bottom",
          "yref": "paper"
         },
         {
          "font": {
           "size": 16
          },
          "showarrow": false,
          "text": "Test Set - X:Glc <br> R^2 = -7.51 <br> Abs RMSE = 20.104 <br> Rel RMSE = 1.232",
          "x": 0.775,
          "xanchor": "center",
          "xref": "paper",
          "y": 1,
          "yanchor": "bottom",
          "yref": "paper"
         }
        ],
        "shapes": [
         {
          "layer": "above",
          "line": {
           "dash": "dash"
          },
          "type": "line",
          "x0": -6.205551323556875,
          "x1": 140.0086599268114,
          "y0": -6.205551323556875,
          "y1": 140.0086599268114
         },
         {
          "layer": "above",
          "line": {
           "dash": "dash"
          },
          "type": "line",
          "x0": 13.304752688706031,
          "x1": 106.63237210705299,
          "xref": "x2",
          "y0": 13.304752688706031,
          "y1": 106.63237210705299,
          "yref": "y2"
         }
        ],
        "template": {
         "data": {
          "bar": [
           {
            "error_x": {
             "color": "#2a3f5f"
            },
            "error_y": {
             "color": "#2a3f5f"
            },
            "marker": {
             "line": {
              "color": "white",
              "width": 0.5
             },
             "pattern": {
              "fillmode": "overlay",
              "size": 10,
              "solidity": 0.2
             }
            },
            "type": "bar"
           }
          ],
          "barpolar": [
           {
            "marker": {
             "line": {
              "color": "white",
              "width": 0.5
             },
             "pattern": {
              "fillmode": "overlay",
              "size": 10,
              "solidity": 0.2
             }
            },
            "type": "barpolar"
           }
          ],
          "carpet": [
           {
            "aaxis": {
             "endlinecolor": "#2a3f5f",
             "gridcolor": "#C8D4E3",
             "linecolor": "#C8D4E3",
             "minorgridcolor": "#C8D4E3",
             "startlinecolor": "#2a3f5f"
            },
            "baxis": {
             "endlinecolor": "#2a3f5f",
             "gridcolor": "#C8D4E3",
             "linecolor": "#C8D4E3",
             "minorgridcolor": "#C8D4E3",
             "startlinecolor": "#2a3f5f"
            },
            "type": "carpet"
           }
          ],
          "choropleth": [
           {
            "colorbar": {
             "outlinewidth": 0,
             "ticks": ""
            },
            "type": "choropleth"
           }
          ],
          "contour": [
           {
            "colorbar": {
             "outlinewidth": 0,
             "ticks": ""
            },
            "colorscale": [
             [
              0,
              "#0d0887"
             ],
             [
              0.1111111111111111,
              "#46039f"
             ],
             [
              0.2222222222222222,
              "#7201a8"
             ],
             [
              0.3333333333333333,
              "#9c179e"
             ],
             [
              0.4444444444444444,
              "#bd3786"
             ],
             [
              0.5555555555555556,
              "#d8576b"
             ],
             [
              0.6666666666666666,
              "#ed7953"
             ],
             [
              0.7777777777777778,
              "#fb9f3a"
             ],
             [
              0.8888888888888888,
              "#fdca26"
             ],
             [
              1,
              "#f0f921"
             ]
            ],
            "type": "contour"
           }
          ],
          "contourcarpet": [
           {
            "colorbar": {
             "outlinewidth": 0,
             "ticks": ""
            },
            "type": "contourcarpet"
           }
          ],
          "heatmap": [
           {
            "colorbar": {
             "outlinewidth": 0,
             "ticks": ""
            },
            "colorscale": [
             [
              0,
              "#0d0887"
             ],
             [
              0.1111111111111111,
              "#46039f"
             ],
             [
              0.2222222222222222,
              "#7201a8"
             ],
             [
              0.3333333333333333,
              "#9c179e"
             ],
             [
              0.4444444444444444,
              "#bd3786"
             ],
             [
              0.5555555555555556,
              "#d8576b"
             ],
             [
              0.6666666666666666,
              "#ed7953"
             ],
             [
              0.7777777777777778,
              "#fb9f3a"
             ],
             [
              0.8888888888888888,
              "#fdca26"
             ],
             [
              1,
              "#f0f921"
             ]
            ],
            "type": "heatmap"
           }
          ],
          "heatmapgl": [
           {
            "colorbar": {
             "outlinewidth": 0,
             "ticks": ""
            },
            "colorscale": [
             [
              0,
              "#0d0887"
             ],
             [
              0.1111111111111111,
              "#46039f"
             ],
             [
              0.2222222222222222,
              "#7201a8"
             ],
             [
              0.3333333333333333,
              "#9c179e"
             ],
             [
              0.4444444444444444,
              "#bd3786"
             ],
             [
              0.5555555555555556,
              "#d8576b"
             ],
             [
              0.6666666666666666,
              "#ed7953"
             ],
             [
              0.7777777777777778,
              "#fb9f3a"
             ],
             [
              0.8888888888888888,
              "#fdca26"
             ],
             [
              1,
              "#f0f921"
             ]
            ],
            "type": "heatmapgl"
           }
          ],
          "histogram": [
           {
            "marker": {
             "pattern": {
              "fillmode": "overlay",
              "size": 10,
              "solidity": 0.2
             }
            },
            "type": "histogram"
           }
          ],
          "histogram2d": [
           {
            "colorbar": {
             "outlinewidth": 0,
             "ticks": ""
            },
            "colorscale": [
             [
              0,
              "#0d0887"
             ],
             [
              0.1111111111111111,
              "#46039f"
             ],
             [
              0.2222222222222222,
              "#7201a8"
             ],
             [
              0.3333333333333333,
              "#9c179e"
             ],
             [
              0.4444444444444444,
              "#bd3786"
             ],
             [
              0.5555555555555556,
              "#d8576b"
             ],
             [
              0.6666666666666666,
              "#ed7953"
             ],
             [
              0.7777777777777778,
              "#fb9f3a"
             ],
             [
              0.8888888888888888,
              "#fdca26"
             ],
             [
              1,
              "#f0f921"
             ]
            ],
            "type": "histogram2d"
           }
          ],
          "histogram2dcontour": [
           {
            "colorbar": {
             "outlinewidth": 0,
             "ticks": ""
            },
            "colorscale": [
             [
              0,
              "#0d0887"
             ],
             [
              0.1111111111111111,
              "#46039f"
             ],
             [
              0.2222222222222222,
              "#7201a8"
             ],
             [
              0.3333333333333333,
              "#9c179e"
             ],
             [
              0.4444444444444444,
              "#bd3786"
             ],
             [
              0.5555555555555556,
              "#d8576b"
             ],
             [
              0.6666666666666666,
              "#ed7953"
             ],
             [
              0.7777777777777778,
              "#fb9f3a"
             ],
             [
              0.8888888888888888,
              "#fdca26"
             ],
             [
              1,
              "#f0f921"
             ]
            ],
            "type": "histogram2dcontour"
           }
          ],
          "mesh3d": [
           {
            "colorbar": {
             "outlinewidth": 0,
             "ticks": ""
            },
            "type": "mesh3d"
           }
          ],
          "parcoords": [
           {
            "line": {
             "colorbar": {
              "outlinewidth": 0,
              "ticks": ""
             }
            },
            "type": "parcoords"
           }
          ],
          "pie": [
           {
            "automargin": true,
            "type": "pie"
           }
          ],
          "scatter": [
           {
            "fillpattern": {
             "fillmode": "overlay",
             "size": 10,
             "solidity": 0.2
            },
            "type": "scatter"
           }
          ],
          "scatter3d": [
           {
            "line": {
             "colorbar": {
              "outlinewidth": 0,
              "ticks": ""
             }
            },
            "marker": {
             "colorbar": {
              "outlinewidth": 0,
              "ticks": ""
             }
            },
            "type": "scatter3d"
           }
          ],
          "scattercarpet": [
           {
            "marker": {
             "colorbar": {
              "outlinewidth": 0,
              "ticks": ""
             }
            },
            "type": "scattercarpet"
           }
          ],
          "scattergeo": [
           {
            "marker": {
             "colorbar": {
              "outlinewidth": 0,
              "ticks": ""
             }
            },
            "type": "scattergeo"
           }
          ],
          "scattergl": [
           {
            "marker": {
             "colorbar": {
              "outlinewidth": 0,
              "ticks": ""
             }
            },
            "type": "scattergl"
           }
          ],
          "scattermapbox": [
           {
            "marker": {
             "colorbar": {
              "outlinewidth": 0,
              "ticks": ""
             }
            },
            "type": "scattermapbox"
           }
          ],
          "scatterpolar": [
           {
            "marker": {
             "colorbar": {
              "outlinewidth": 0,
              "ticks": ""
             }
            },
            "type": "scatterpolar"
           }
          ],
          "scatterpolargl": [
           {
            "marker": {
             "colorbar": {
              "outlinewidth": 0,
              "ticks": ""
             }
            },
            "type": "scatterpolargl"
           }
          ],
          "scatterternary": [
           {
            "marker": {
             "colorbar": {
              "outlinewidth": 0,
              "ticks": ""
             }
            },
            "type": "scatterternary"
           }
          ],
          "surface": [
           {
            "colorbar": {
             "outlinewidth": 0,
             "ticks": ""
            },
            "colorscale": [
             [
              0,
              "#0d0887"
             ],
             [
              0.1111111111111111,
              "#46039f"
             ],
             [
              0.2222222222222222,
              "#7201a8"
             ],
             [
              0.3333333333333333,
              "#9c179e"
             ],
             [
              0.4444444444444444,
              "#bd3786"
             ],
             [
              0.5555555555555556,
              "#d8576b"
             ],
             [
              0.6666666666666666,
              "#ed7953"
             ],
             [
              0.7777777777777778,
              "#fb9f3a"
             ],
             [
              0.8888888888888888,
              "#fdca26"
             ],
             [
              1,
              "#f0f921"
             ]
            ],
            "type": "surface"
           }
          ],
          "table": [
           {
            "cells": {
             "fill": {
              "color": "#EBF0F8"
             },
             "line": {
              "color": "white"
             }
            },
            "header": {
             "fill": {
              "color": "#C8D4E3"
             },
             "line": {
              "color": "white"
             }
            },
            "type": "table"
           }
          ]
         },
         "layout": {
          "annotationdefaults": {
           "arrowcolor": "#2a3f5f",
           "arrowhead": 0,
           "arrowwidth": 1
          },
          "autotypenumbers": "strict",
          "coloraxis": {
           "colorbar": {
            "outlinewidth": 0,
            "ticks": ""
           }
          },
          "colorscale": {
           "diverging": [
            [
             0,
             "#8e0152"
            ],
            [
             0.1,
             "#c51b7d"
            ],
            [
             0.2,
             "#de77ae"
            ],
            [
             0.3,
             "#f1b6da"
            ],
            [
             0.4,
             "#fde0ef"
            ],
            [
             0.5,
             "#f7f7f7"
            ],
            [
             0.6,
             "#e6f5d0"
            ],
            [
             0.7,
             "#b8e186"
            ],
            [
             0.8,
             "#7fbc41"
            ],
            [
             0.9,
             "#4d9221"
            ],
            [
             1,
             "#276419"
            ]
           ],
           "sequential": [
            [
             0,
             "#0d0887"
            ],
            [
             0.1111111111111111,
             "#46039f"
            ],
            [
             0.2222222222222222,
             "#7201a8"
            ],
            [
             0.3333333333333333,
             "#9c179e"
            ],
            [
             0.4444444444444444,
             "#bd3786"
            ],
            [
             0.5555555555555556,
             "#d8576b"
            ],
            [
             0.6666666666666666,
             "#ed7953"
            ],
            [
             0.7777777777777778,
             "#fb9f3a"
            ],
            [
             0.8888888888888888,
             "#fdca26"
            ],
            [
             1,
             "#f0f921"
            ]
           ],
           "sequentialminus": [
            [
             0,
             "#0d0887"
            ],
            [
             0.1111111111111111,
             "#46039f"
            ],
            [
             0.2222222222222222,
             "#7201a8"
            ],
            [
             0.3333333333333333,
             "#9c179e"
            ],
            [
             0.4444444444444444,
             "#bd3786"
            ],
            [
             0.5555555555555556,
             "#d8576b"
            ],
            [
             0.6666666666666666,
             "#ed7953"
            ],
            [
             0.7777777777777778,
             "#fb9f3a"
            ],
            [
             0.8888888888888888,
             "#fdca26"
            ],
            [
             1,
             "#f0f921"
            ]
           ]
          },
          "colorway": [
           "#636efa",
           "#EF553B",
           "#00cc96",
           "#ab63fa",
           "#FFA15A",
           "#19d3f3",
           "#FF6692",
           "#B6E880",
           "#FF97FF",
           "#FECB52"
          ],
          "font": {
           "color": "#2a3f5f"
          },
          "geo": {
           "bgcolor": "white",
           "lakecolor": "white",
           "landcolor": "white",
           "showlakes": true,
           "showland": true,
           "subunitcolor": "#C8D4E3"
          },
          "hoverlabel": {
           "align": "left"
          },
          "hovermode": "closest",
          "mapbox": {
           "style": "light"
          },
          "paper_bgcolor": "white",
          "plot_bgcolor": "white",
          "polar": {
           "angularaxis": {
            "gridcolor": "#EBF0F8",
            "linecolor": "#EBF0F8",
            "ticks": ""
           },
           "bgcolor": "white",
           "radialaxis": {
            "gridcolor": "#EBF0F8",
            "linecolor": "#EBF0F8",
            "ticks": ""
           }
          },
          "scene": {
           "xaxis": {
            "backgroundcolor": "white",
            "gridcolor": "#DFE8F3",
            "gridwidth": 2,
            "linecolor": "#EBF0F8",
            "showbackground": true,
            "ticks": "",
            "zerolinecolor": "#EBF0F8"
           },
           "yaxis": {
            "backgroundcolor": "white",
            "gridcolor": "#DFE8F3",
            "gridwidth": 2,
            "linecolor": "#EBF0F8",
            "showbackground": true,
            "ticks": "",
            "zerolinecolor": "#EBF0F8"
           },
           "zaxis": {
            "backgroundcolor": "white",
            "gridcolor": "#DFE8F3",
            "gridwidth": 2,
            "linecolor": "#EBF0F8",
            "showbackground": true,
            "ticks": "",
            "zerolinecolor": "#EBF0F8"
           }
          },
          "shapedefaults": {
           "line": {
            "color": "#2a3f5f"
           }
          },
          "ternary": {
           "aaxis": {
            "gridcolor": "#DFE8F3",
            "linecolor": "#A2B1C6",
            "ticks": ""
           },
           "baxis": {
            "gridcolor": "#DFE8F3",
            "linecolor": "#A2B1C6",
            "ticks": ""
           },
           "bgcolor": "white",
           "caxis": {
            "gridcolor": "#DFE8F3",
            "linecolor": "#A2B1C6",
            "ticks": ""
           }
          },
          "title": {
           "x": 0.05
          },
          "xaxis": {
           "automargin": true,
           "gridcolor": "#EBF0F8",
           "linecolor": "#EBF0F8",
           "ticks": "",
           "title": {
            "standoff": 15
           },
           "zerolinecolor": "#EBF0F8",
           "zerolinewidth": 2
          },
          "yaxis": {
           "automargin": true,
           "gridcolor": "#EBF0F8",
           "linecolor": "#EBF0F8",
           "ticks": "",
           "title": {
            "standoff": 15
           },
           "zerolinecolor": "#EBF0F8",
           "zerolinewidth": 2
          }
         }
        },
        "width": 1600,
        "xaxis": {
         "anchor": "y",
         "domain": [
          0,
          0.45
         ],
         "title": {
          "text": "Observed values"
         }
        },
        "xaxis2": {
         "anchor": "y2",
         "domain": [
          0.55,
          1
         ],
         "title": {
          "text": "Observed values"
         }
        },
        "yaxis": {
         "anchor": "x",
         "domain": [
          0,
          1
         ],
         "title": {
          "text": "Predicted values"
         }
        },
        "yaxis2": {
         "anchor": "x2",
         "domain": [
          0,
          1
         ],
         "title": {
          "text": "Predicted values"
         }
        }
       }
      },
      "text/html": [
       "<div>                            <div id=\"dea78229-912c-4ed9-994a-2c0f48210fac\" class=\"plotly-graph-div\" style=\"height:525px; width:1600px;\"></div>            <script type=\"text/javascript\">                require([\"plotly\"], function(Plotly) {                    window.PLOTLYENV=window.PLOTLYENV || {};                                    if (document.getElementById(\"dea78229-912c-4ed9-994a-2c0f48210fac\")) {                    Plotly.newPlot(                        \"dea78229-912c-4ed9-994a-2c0f48210fac\",                        [{\"legendgroup\":\"train_0\",\"mode\":\"markers\",\"name\":\"Run id in Train 0\",\"x\":[34.48979591836735,33.497759773117764,39.18158379968747,50.62009499710431,58.67865561216076,64.50229474124312,70.31266186967268,77.9143661034886,88.10689900312666,100.73117479331908,115.08564001033828,125.8969576070251,125.23197031699696,124.87737539599864,124.68877246718952],\"y\":[34.30448485748425,33.232473440242586,38.18401928426166,49.379892497162686,55.8788341426162,59.959985207810234,64.16815529711191,70.69503481933943,78.82103444716454,89.71573248924452,101.72767498814662,108.44384585258125,106.58314504819421,105.3778671315549,104.57650663421896],\"type\":\"scatter\",\"xaxis\":\"x\",\"yaxis\":\"y\"},{\"legendgroup\":\"train_1\",\"mode\":\"markers\",\"name\":\"Run id in Train 1\",\"x\":[32.857142857142854,31.89527682507845,29.5237550239268,43.45365774211284,53.37801483606592,59.70360012988135,64.5923317260211,70.44512271860509,78.85933822620683,90.44847284105865,104.8797826290292,119.53418654560204,118.04401028491286,117.22054934864067,116.76720197022738],\"y\":[33.01034520706084,32.25904982302259,33.69824380271588,44.50778097222974,55.19347890340616,63.265325207834266,71.27951038886617,81.37886523378627,92.34905376675088,104.65436586798681,121.08484727939292,129.3251990610347,127.73234145554449,126.75714098476402,126.1284741301854],\"type\":\"scatter\",\"xaxis\":\"x\",\"yaxis\":\"y\"},{\"legendgroup\":\"train_2\",\"mode\":\"markers\",\"name\":\"Run id in Train 2\",\"x\":[40.20408163265306,39.3106253406875,36.83461707271391,41.29851545118337,51.58422234292109,59.42037843500661,67.24029203773658,77.00259730155591,89.6529978703625,105.02858325349617,122.29644922822447,128.01353314088,127.30657682739415,126.92861071812789,126.72696474831358],\"y\":[39.80247523938458,38.84642849735005,36.46325543684453,42.85185408551015,53.59205883395459,61.77622980166942,69.95431377262587,79.8775898582922,91.37319098044512,103.97579291440144,117.14183828239055,123.48694812685174,122.38850866532489,121.77066376335733,121.40467632307335],\"type\":\"scatter\",\"xaxis\":\"x\",\"yaxis\":\"y\"},{\"legendgroup\":\"train_3\",\"mode\":\"markers\",\"name\":\"Run id in Train 3\",\"x\":[66.3265306122449,64.9018084421659,74.46646692324572,82.75195820225221,88.4608121252639,94.35032349278424,102.35264420922908,112.78820578337243,125.13254274305396,124.74568445028515,123.70828935213474,123.11833121458756,122.78502933027806,122.59740576605402,122.49199994699929],\"y\":[66.55557052827061,65.13510523537727,70.46220745897716,80.45698663985911,85.79575390072719,90.38212803759569,96.44766686191214,105.12926035481932,116.97913332639241,121.82640121763637,116.70717713216635,111.71656625198825,110.87295870790027,110.30561830151788,109.94444582603984],\"type\":\"scatter\",\"xaxis\":\"x\",\"yaxis\":\"y\"},{\"legendgroup\":\"train_4\",\"mode\":\"markers\",\"name\":\"Run id in Train 4\",\"x\":[54.08163265306122,52.32453548724165,48.00670790060231,52.80978895442207,59.67166365361268,64.36116287789906,69.78971877901188,77.9393717582966,89.59672510578096,94.88781273549858,91.9609809279264,90.2743358499412,89.30079949433396,88.73790326458321,88.41203209326693],\"y\":[52.86696224041488,51.378071200281575,48.743826917134086,53.7869755842474,63.55946692781199,71.93156517743398,81.32177416728719,92.65566857960876,106.94611219380332,118.02200212316353,118.31244129996836,118.07166783229498,118.08178060832542,118.24136337728649,118.42764335117003],\"type\":\"scatter\",\"xaxis\":\"x\",\"yaxis\":\"y\"},{\"legendgroup\":\"train_5\",\"mode\":\"markers\",\"name\":\"Run id in Train 5\",\"x\":[55.71428571428572,54.04229265312258,50.19044815252949,56.66345377265392,62.94630603076002,67.36240093890267,72.50080654941964,80.1355041391731,90.8600281640686,99.09780809177174,96.82391152015649,95.56174721339072,94.86342162097333,94.47756919225226,94.2645083447324],\"y\":[54.33842475948309,52.65023505219076,51.23415610109701,54.254551077466346,60.06265391061905,64.21538388517648,69.15237005401174,75.95640463126749,86.29527031157741,96.15284952210087,95.01524955315766,94.28520319707941,93.80097456593425,93.56644013565239,93.46567652635758],\"type\":\"scatter\",\"xaxis\":\"x\",\"yaxis\":\"y\"},{\"legendgroup\":\"train_6\",\"mode\":\"markers\",\"name\":\"Run id in Train 6\",\"x\":[67.14285714285714,65.72262111008826,62.33899756102318,55.86087499300016,63.63048603140288,68.5499478631087,73.3580779196577,80.30501123095608,90.44056467752864,103.65677129603148,119.15240642675616,133.19526386484125,132.09349753140145,131.47324993444937,131.12522304466037],\"y\":[65.14492095594238,63.84763372386147,58.76647653994772,59.315527694021405,67.97354081974375,73.97125553189919,79.97519857023234,87.32345078173424,98.14493150358491,113.29923460022023,128.33268908774315,135.8664269509705,135.02931453861632,134.59362458241762,134.4097738308684],\"type\":\"scatter\",\"xaxis\":\"x\",\"yaxis\":\"y\"},{\"legendgroup\":\"train_7\",\"mode\":\"markers\",\"name\":\"Run id in Train 7\",\"x\":[56.53061224489796,55.32956552576817,51.96887747098334,55.45175427907439,58.64166030227109,60.52459420873051,63.5659352103408,69.0079158344245,77.12764839367868,87.62684618186968,95.35728979796336,94.37636391008608,93.89075940271,93.6504884837088,93.53162545237578],\"y\":[56.801551142433944,55.551863704546605,54.595867741628524,55.89244038790532,59.05001912862502,59.61476782187993,60.00611309170195,61.97086621398259,66.81282117523108,73.03703019687111,77.77869694490317,77.77698980437096,75.84529760234079,74.49473360173782,73.57823324643665],\"type\":\"scatter\",\"xaxis\":\"x\",\"yaxis\":\"y\"},{\"legendgroup\":\"train_8\",\"mode\":\"markers\",\"name\":\"Run id in Train 8\",\"x\":[57.3469387755102,56.26328141499867,61.11818356473742,67.19682852618769,70.32245701569198,72.10170042398552,74.576588215411,78.95127698119116,85.50870626123897,87.70211038857562,85.86798924811929,84.78793917261947,84.1521917968171,83.77787674575289,83.55742278372415],\"y\":[59.04871763176107,57.796251461154256,62.03672700952855,67.21478797099918,67.75390863205371,66.4571469275727,65.51848596774386,66.70302925251373,70.58813659271276,70.67426811766668,66.00310820906779,59.54722136216548,57.29796197955283,55.63427219540119,54.44802062730937],\"type\":\"scatter\",\"xaxis\":\"x\",\"yaxis\":\"y\"},{\"legendgroup\":\"train_9\",\"mode\":\"markers\",\"name\":\"Run id in Train 9\",\"x\":[54.89795918367347,53.83097725200842,51.135170054284416,48.65346404036791,56.75047501717443,62.62869783627702,68.50787888685004,76.15521464524201,86.41064303572327,98.32486114462506,95.72525521914292,94.23513508473134,93.3835594751364,92.89742769084626,92.62003538179069],\"y\":[54.27437820819568,52.834449230013554,47.22619778390455,45.94829317909549,52.1376464767853,55.98482397211719,59.924990001572354,65.19675886953921,73.58595113643057,82.24484981428657,84.01489034483426,83.2550137834981,82.37041881529869,81.82910492126854,81.500700027668],\"type\":\"scatter\",\"xaxis\":\"x\",\"yaxis\":\"y\"},{\"legendgroup\":\"train_10\",\"mode\":\"markers\",\"name\":\"Run id in Train 10\",\"x\":[37.755102040816325,36.57677271180029,46.25251666763304,56.64085612713366,63.93010853230757,69.61138526768147,75.70522885017883,83.61823357971268,93.8505805221179,106.16011549019908,106.89271438768871,105.43418230466489,104.55902351663788,104.03588709514992,103.72383714409824],\"y\":[37.012063592411394,35.45147745399025,41.2718510009214,51.91398330588706,56.491794426986,59.50454132805066,63.38903028071673,69.8201654580265,78.78812479176439,87.88683788687625,88.24723388429378,89.48814191997124,88.33898070626562,87.62483161507836,87.1580849742986],\"type\":\"scatter\",\"xaxis\":\"x\",\"yaxis\":\"y\"},{\"legendgroup\":\"train_11\",\"mode\":\"markers\",\"name\":\"Run id in Train 11\",\"x\":[50.0,49.09157529517094,46.84955829669319,48.604170355828494,54.57199337246716,58.36389194187862,61.88214335467829,66.70762201746292,73.63003288664736,82.78253116993254,93.81695568052636,98.95564472697004,98.20184536432616,97.816392253681,97.61960461531294],\"y\":[50.85756127960342,49.87881716729054,47.51402737698848,47.433972810470735,50.640347735586204,50.509328896165684,49.51105969410064,49.79384828491497,52.29792861985398,58.49122786596725,68.94471396345838,71.36604827931109,68.80177328726906,66.99320050717577,65.74524162129437],\"type\":\"scatter\",\"xaxis\":\"x\",\"yaxis\":\"y\"},{\"legendgroup\":\"train_12\",\"mode\":\"markers\",\"name\":\"Run id in Train 12\",\"x\":[53.265306122448976,52.07762276098589,48.85648769794223,45.675942234273386,51.44183740483195,55.10349177204707,59.27795539849706,65.63004245517226,74.81560802644988,80.78657448356496,77.9829296661077,76.351828471724,75.39214007585592,74.82349025196835,74.48509743633007],\"y\":[53.84614209759181,52.67272005658634,46.90922302676903,46.20289055178699,53.05384671678492,57.54410739289429,62.00742197407385,67.79495991932006,76.03860183130367,81.87641202111115,82.80956403044546,79.95342845312673,78.78909187165704,78.01434915617132,77.49668165489057],\"type\":\"scatter\",\"xaxis\":\"x\",\"yaxis\":\"y\"},{\"legendgroup\":\"train_13\",\"mode\":\"markers\",\"name\":\"Run id in Train 13\",\"x\":[42.6530612244898,41.0850704046084,37.02759928043359,30.45818992081187,34.84039068591313,37.03717255130894,39.62190109929062,44.1745698335648,51.25758334994672,49.53678242399757,44.10139357151434,40.1605794521544,37.32023770896177,35.2836040652659,33.82914719873361],\"y\":[43.30259424312229,42.05599612599974,35.17535270188093,33.35168723679399,39.859366487733546,43.85563024195866,47.66609587752458,52.69129718648031,59.91214731770869,65.33253271103821,64.0212466699603,60.42396509966028,59.283293889294924,58.53121766586891,58.012043853130876],\"type\":\"scatter\",\"xaxis\":\"x\",\"yaxis\":\"y\"},{\"legendgroup\":\"train_14\",\"mode\":\"markers\",\"name\":\"Run id in Train 14\",\"x\":[65.51020408163265,63.99548061319936,68.31974239376322,74.55355398322388,78.10924118523516,80.97932389280727,85.12202366785418,91.439862636109,99.900706432951,110.0072728438019,113.2635748496598,112.3626417581054,111.84642723137338,111.55190341588812,111.38425266447108],\"y\":[64.95864621815753,63.3367942296929,68.35600178173556,73.79541445075566,74.31791843843007,73.09004820868705,72.51425028158472,74.1490264572639,79.65464035777673,85.89444768994984,85.84063261252838,84.6576463659374,82.94579706245793,81.73848223569092,80.93458978221747],\"type\":\"scatter\",\"xaxis\":\"x\",\"yaxis\":\"y\"},{\"legendgroup\":\"train_15\",\"mode\":\"markers\",\"name\":\"Run id in Train 15\",\"x\":[47.55102040816327,45.8922067054614,44.4834870148573,56.84737786538536,65.89953771295528,73.4105232772496,81.68717394241027,92.26539526705966,105.50217629618813,120.93059981792972,123.3640388967564,121.80239343360144,120.84980527546172,120.27152393275526,119.92145882187592],\"y\":[45.64397138340315,44.03589465199162,45.303650809845145,53.74149777583441,62.29941944343386,69.42510466990225,77.63875152141368,88.12738134450186,101.61705563061152,114.94474267976676,118.19494750881803,121.44433056965404,121.24852815734263,121.2864174190806,121.39732094942958],\"type\":\"scatter\",\"xaxis\":\"x\",\"yaxis\":\"y\"},{\"legendgroup\":\"train_16\",\"mode\":\"markers\",\"name\":\"Run id in Train 16\",\"x\":[63.87755102040816,62.7997973773388,59.92744499260717,60.14026939943034,68.61093962182483,75.17149181152776,82.79264413672342,93.22579734587684,106.60270419078677,104.05208801365085,102.2626939458606,101.24826415555845,100.67625763219442,100.35460727550736,100.17400749483134],\"y\":[64.00553381954649,62.768567935126896,57.286001170144935,58.80080841559741,68.32517353015169,76.28408093794471,84.96490803533737,95.23960907096516,108.33252697558797,115.25315813495898,113.66000840656224,109.47512570646286,109.14926501070254,109.00165238731154,108.94944865839383],\"type\":\"scatter\",\"xaxis\":\"x\",\"yaxis\":\"y\"},{\"legendgroup\":\"train_17\",\"mode\":\"markers\",\"name\":\"Run id in Train 17\",\"x\":[45.10204081632653,44.32554935069983,42.09780125798637,48.21160619101941,56.83439327644384,62.79896168360311,69.0323479779723,77.6995411599223,89.55116481418871,104.11646694207596,120.39314375571296,121.5440388378647,121.11783445744182,120.91131348589892,120.8113993720039],\"y\":[45.774750238509384,44.99026071292139,43.17884285916728,49.241875626112694,58.87414939074194,65.93746830010262,72.88119321451612,81.55469159942305,91.62189565563374,100.789650053357,112.40374965905721,116.12248727454588,114.58000970196504,113.58702600021022,112.93466364928251],\"type\":\"scatter\",\"xaxis\":\"x\",\"yaxis\":\"y\"},{\"legendgroup\":\"train_18\",\"mode\":\"markers\",\"name\":\"Run id in Train 18\",\"x\":[41.0204081632653,39.76317528737375,49.44862331575384,58.53397348094333,64.55156958910726,69.94445269486563,76.95590953958703,86.58218679090731,98.69403791602484,112.55931574547742,127.44989304320484,139.45760038772522,139.16110431744187,139.01016816204165,138.93343756461462],\"y\":[40.00015555177767,38.671402165768555,46.14185290770503,58.57124528212801,63.53317130909386,66.4137091640624,69.79449528470217,75.74150637659908,84.05195168390254,96.05323141363007,106.7759263479858,113.90762595290286,112.21066706687331,111.12584945726204,110.42657951181451],\"type\":\"scatter\",\"xaxis\":\"x\",\"yaxis\":\"y\"},{\"legendgroup\":\"train_19\",\"mode\":\"markers\",\"name\":\"Run id in Train 19\",\"x\":[36.93877551020408,36.17608107215249,34.30795593879786,32.40937296108588,40.1675611223837,45.17128689028889,48.86730102835964,52.8591162556128,58.22235790233503,65.47106471879752,74.75402201416783,71.84620132386978,69.4383626932422,67.83265629249838,66.75175770438237],\"y\":[38.34748159583842,37.469265297061256,32.315938073156836,30.76708287222077,35.28340943407318,36.22255435758602,36.0157920046891,36.86264582943186,39.19810148217108,44.520384247291176,53.42189290854897,54.723161090335516,52.22611688282826,50.47570588514389,49.24480368097667],\"type\":\"scatter\",\"xaxis\":\"x\",\"yaxis\":\"y\"},{\"legendgroup\":\"train_20\",\"mode\":\"markers\",\"name\":\"Run id in Train 20\",\"x\":[35.30612244897959,34.17701287970345,31.45037253589945,36.552350216996096,42.3302691618333,45.3855387574456,47.64962182660855,50.81117335898369,55.80825890807329,61.29242873124736,55.50312353915039,51.23516895292121,48.08123391278078,45.75249238850651,44.03606197144599],\"y\":[36.72436858671633,35.63525103917317,33.50016550199487,35.492534867484736,39.95412515950602,41.7414636990044,43.16973662660034,46.14678879425209,50.75022626315209,54.48746101336951,55.2484990548376,52.71598924731556,50.75234885351945,49.37815620816394,48.39777105006896],\"type\":\"scatter\",\"xaxis\":\"x\",\"yaxis\":\"y\"},{\"legendgroup\":\"train_21\",\"mode\":\"markers\",\"name\":\"Run id in Train 21\",\"x\":[59.79591836734694,58.92682483341649,68.029602205082,79.41939529284414,87.63477063072462,94.31293654560272,101.70249720709306,111.01790509610508,122.38537697936913,135.419508052179,147.46618990364215,146.0671505483476,145.18792191466025,144.6392658186537,144.2983612296959],\"y\":[59.99846355263679,58.9737970271408,64.5530023518939,76.62030976175362,84.1739025286861,90.19445425317775,97.08019195883841,106.49783101800884,118.2115261711422,126.76007541065562,134.4710327642447,136.78264002612977,135.38514134820036,134.4694569431083,133.88600030462743],\"type\":\"scatter\",\"xaxis\":\"x\",\"yaxis\":\"y\"},{\"legendgroup\":\"train_22\",\"mode\":\"markers\",\"name\":\"Run id in Train 22\",\"x\":[30.40816326530612,28.89909967032107,25.24756662809376,34.16081629047233,42.4163614600787,48.61808376150079,55.16167311278586,63.73585277314172,75.15927533525743,89.553660640942,93.07364649124854,91.7895522517977,91.1507983277656,90.83287156687406,90.67456726997992],\"y\":[29.27241289571844,27.81393239647894,27.037430110380377,33.573923639660904,41.81822604995466,47.9885010899073,54.599722249522365,63.18782403434692,73.88831125646445,85.90702589071458,89.80128322600574,93.13066002049416,92.4752144053336,92.17762520430018,92.01894595324092],\"type\":\"scatter\",\"xaxis\":\"x\",\"yaxis\":\"y\"},{\"legendgroup\":\"train_23\",\"mode\":\"markers\",\"name\":\"Run id in Train 23\",\"x\":[52.44897959183673,50.4319868175881,45.34450559604125,38.30925495008091,33.041173173756015,24.110506751120333,14.538342253152472,6.605350541491551,1.6629870894699352,-1.123438192410525e-9,2.2941719252264282e-9,4.620853030997867e-8,-1.5405446731290965e-7,-3.4484208939467065e-8,2.2272309436876068e-9],\"y\":[52.94562506606212,51.17273209358164,46.044617539966815,37.80033293001979,34.58323053180171,28.460074722113163,21.733209178907295,15.95854704533027,14.032402957800485,14.859798418388323,6.3275060291294665,-1.3262096234866334,-3.4729747387060996,-5.065353760069286,-6.205551323556875],\"type\":\"scatter\",\"xaxis\":\"x\",\"yaxis\":\"y\"},{\"legendgroup\":\"train_24\",\"mode\":\"markers\",\"name\":\"Run id in Train 24\",\"x\":[63.06122448979592,61.952601824752016,65.96675238217034,72.31715616572308,73.97264176847989,73.08696675585317,72.63914368129423,74.42783938590682,79.07376276074767,86.49092723862145,96.16950330741508,102.09578626850131,100.91547590879154,100.26212354644224,99.90101778584494],\"y\":[63.75908909530436,62.798703893256935,67.9771855059123,76.19438861550684,79.85429031405374,81.18673112019033,82.6231722719169,86.22623348010448,92.34134910532816,98.9077024291263,109.55245819427368,112.42263631473475,110.01429961237203,108.31430370068729,107.16455534924457],\"type\":\"scatter\",\"xaxis\":\"x\",\"yaxis\":\"y\"},{\"legendgroup\":\"train_25\",\"mode\":\"markers\",\"name\":\"Run id in Train 25\",\"x\":[64.6938775510204,63.14050370260742,64.77366444282445,69.06845572848533,69.04584676781845,67.05402507732256,65.64707670684369,66.2758086873537,69.45732013501959,75.19184324651715,80.76635129405248,77.9365906791618,76.16575463960542,75.04416964759184,74.32807413916493],\"y\":[64.81525164836467,63.46123760020564,67.58491119135681,72.5773648209678,73.74168915662037,72.77216288444028,72.07137044747584,73.42035330449438,78.12686097107417,83.73196628890216,87.43636827814669,87.21217646576551,85.09842052641261,83.59177219306822,82.57096382667031],\"type\":\"scatter\",\"xaxis\":\"x\",\"yaxis\":\"y\"},{\"legendgroup\":\"train_26\",\"mode\":\"markers\",\"name\":\"Run id in Train 26\",\"x\":[67.9591836734694,67.28240628318157,65.55626871848547,78.68757982143282,89.91745708231556,99.71371990057854,110.06098058358664,122.07060389155308,135.8251542778384,150.95258727079258,157.12109745450894,156.15677047550912,155.5744139832062,155.2253247278377,155.01697465590297],\"y\":[68.34912607518349,67.41897770248806,67.38288854908122,74.64562717011457,84.18364624184233,92.0444239105959,100.58924656662094,111.16269039017041,124.15888335169966,132.32144242841255,139.49587334085714,140.0086599268114,138.9758748975034,138.32056466701005,137.9274864041009],\"type\":\"scatter\",\"xaxis\":\"x\",\"yaxis\":\"y\"},{\"legendgroup\":\"train_27\",\"mode\":\"markers\",\"name\":\"Run id in Train 27\",\"x\":[50.0,48.73922107070047,45.46922825291517,53.461171251022776,57.03038841840529,57.83699174243187,58.46340311758151,60.74015474289358,65.50362833436158,72.95435094799299,75.41882542416371,72.22254147912683,70.1547645357654,68.79678839191861,67.89636682149879],\"y\":[50.18477040340679,48.912251028528466,49.47754235188361,53.48887125805921,57.58842695359599,59.363324015142354,61.2245874245668,64.91188485986082,71.18885582449417,77.98600647920088,81.67916593046333,81.87077658359757,80.15859011450117,78.98729504519854,78.19412700987317],\"type\":\"scatter\",\"xaxis\":\"x\",\"yaxis\":\"y\"},{\"legendgroup\":\"train_28\",\"mode\":\"markers\",\"name\":\"Run id in Train 28\",\"x\":[32.04081632653061,31.11229055057243,32.990053331965804,39.03911379335461,40.10185844259447,37.037803537375126,32.41633985913958,28.54647446886421,26.704208985507083,27.30321123979796,30.25992780900893,25.97984753374252,20.53793167215064,16.43325134188797,13.365977772810336],\"y\":[33.87591925318455,32.94933438815877,36.61732451691408,42.390758537465494,43.685406334796355,41.864704177767294,39.31538685068901,38.62946465078878,39.26415092176715,42.58906497219286,49.68985682602404,50.85689843714515,47.73254900386292,45.494120626310426,43.89736229314567],\"type\":\"scatter\",\"xaxis\":\"x\",\"yaxis\":\"y\"},{\"legendgroup\":\"train_29\",\"mode\":\"markers\",\"name\":\"Run id in Train 29\",\"x\":[38.57142857142857,36.94526330464651,46.56604114423194,52.510047762318656,52.39254747165324,48.79493058206928,45.211991647717625,43.88684382492737,45.68118398279381,50.61696624254692,58.36039213251052,68.03797774314373,64.52430457840241,62.258336634425056,60.77330311529059],\"y\":[37.47183291892743,36.1131948821279,44.3527977663252,57.073594223339555,61.29385878120889,63.337972060954364,65.80973299195601,70.87960887532283,78.31053817804778,90.48643435820846,101.75779702079691,109.55017798947921,107.70497041153502,106.51331118442258,105.7369009609379],\"type\":\"scatter\",\"xaxis\":\"x\",\"yaxis\":\"y\"},{\"legendgroup\":\"train_30\",\"mode\":\"markers\",\"name\":\"Run id in Train 30\",\"x\":[68.77551020408163,67.30842702461945,65.4320580309612,69.14985960557682,66.87845495884588,60.18089313058049,51.82855887903272,44.01862105502139,38.08501827711447,34.65002605136349,30.68833443946355,19.9828427302298,11.436469064786976,4.748603738921237,0.0019930195818658],\"y\":[69.03294032634756,67.70554414956713,69.77055247880915,72.22365011534525,73.23133416587578,71.93048227132086,70.71326036491936,71.30029508945854,75.38750610258067,80.39631723014014,84.06837619024076,83.09994884190411,80.94326267952923,79.39241720349153,78.3403133459683],\"type\":\"scatter\",\"xaxis\":\"x\",\"yaxis\":\"y\"},{\"legendgroup\":\"test_0\",\"mode\":\"markers\",\"name\":\"Run id in Test 0\",\"x\":[43.46938775510204,42.11575103737883,38.40470745766825,34.28104672448483,36.13270037292429,34.63344313923112,32.55252740419164,31.875483763746413,33.52447895437812,37.694658596943526,44.21209863405196,45.78852821788307,40.788789446857486,37.03759971276014,34.231330813861874],\"y\":[41.831237339916854,40.18641880915299,36.81094462294074,34.54587409197349,36.455877837301905,35.08675387390491,33.090984145238345,32.31631244477944,34.93745320069798,46.515956465765974,54.95458439071755,60.20928486130482,58.452083204891196,57.29983470658192,56.548846804281816],\"type\":\"scatter\",\"xaxis\":\"x2\",\"yaxis\":\"y2\"},{\"legendgroup\":\"test_1\",\"mode\":\"markers\",\"name\":\"Run id in Test 1\",\"x\":[45.91836734693878,44.93535705335225,45.34454371167346,51.66956589718001,54.3222189193982,53.64426667599316,51.24210526598327,48.83005687873178,47.56068327676123,39.08302910973476,29.94038322346193,22.44987114558976,16.430036262308974,11.668327985152208,7.95349374597405],\"y\":[47.73160723995912,46.390332241810704,47.59534217155038,48.893319620439414,48.30448760044686,45.400622518944004,42.38188766423209,41.105276925092404,42.34391565203594,41.66142985957796,34.95523746792107,27.611756609977093,25.230133602349397,23.467659359694238,22.18964415659029],\"type\":\"scatter\",\"xaxis\":\"x2\",\"yaxis\":\"y2\"},{\"legendgroup\":\"test_2\",\"mode\":\"markers\",\"name\":\"Run id in Test 2\",\"x\":[39.38775510204081,38.5280407408776,38.7311595156132,45.76285698062254,49.24196581704296,49.81892064072007,49.184687689797485,48.89258013831316,49.88107629463944,52.55198518790212,56.8557322124684,50.96007068131026,46.35555553595123,42.76260751556799,39.96626373139646],\"y\":[40.90374272960703,39.845059642411144,42.23736592472943,45.84218461326903,46.520426692101026,44.1675961268608,41.16398423419707,39.892200829012566,40.4994624094013,43.71072993395184,48.95312796860011,48.952495982813076,46.01639342002244,43.90391677735485,42.403775318605966],\"type\":\"scatter\",\"xaxis\":\"x2\",\"yaxis\":\"y2\"},{\"legendgroup\":\"test_3\",\"mode\":\"markers\",\"name\":\"Run id in Test 3\",\"x\":[48.36734693877551,47.04285822396751,49.47633429246047,52.15436152007848,49.36912447968168,42.317330231004384,33.707503700984184,25.915780610616988,20.30896088097011,17.375999828551723,7.512392125109961,5.549966366497421e-6,-1.1635971826234836e-8,-7.551679343443506e-10,5.42590117253555e-10],\"y\":[50.395937561825384,49.22558913056077,53.444119245131866,57.4054767848481,56.21492488232388,52.54589374322626,48.64203513043561,46.67608991037265,47.03975944903489,46.70954393586967,45.050075592967445,40.29281896073555,37.38088628958228,35.22882847550735,33.68289141754556],\"type\":\"scatter\",\"xaxis\":\"x2\",\"yaxis\":\"y2\"},{\"legendgroup\":\"test_4\",\"mode\":\"markers\",\"name\":\"Run id in Test 4\",\"x\":[46.734693877551024,44.99290263409152,55.71392075823843,61.33985969413218,61.56527277561326,59.50002768365175,58.29518530186981,59.65002766372735,64.13123970145408,71.72899291203933,66.36797709905878,62.62435211663696,60.027913453442245,58.20387118444934,56.91292005668433],\"y\":[46.58124009088051,45.17435083819191,52.17639377301595,64.36140212133941,69.4923207427018,73.35816329406777,78.32046402289222,85.9859407577374,96.14752698064473,103.63265057442682,103.5296425752473,103.24050712938663,102.04205134738993,101.26579890408823,100.75419417998097],\"type\":\"scatter\",\"xaxis\":\"x2\",\"yaxis\":\"y2\"},{\"legendgroup\":\"test_5\",\"mode\":\"markers\",\"name\":\"Run id in Test 5\",\"x\":[61.42857142857143,60.50079410755882,57.7416721465118,63.15057974853251,64.57604262224581,62.09198760634006,59.14814915273872,58.11012565652759,59.9433480996893,64.7820145618766,72.39096715444906,72.48911688464071,69.99775447415446,68.42884724712913,67.42783305213658],\"y\":[62.41979326490109,61.51907999341771,61.79348992885008,65.29892647165305,69.71023176759375,71.40769819706902,72.80352543206554,75.86197098897237,81.29580947072073,87.14257461300102,97.07399944143985,98.6232224267903,96.29459579838162,94.64806494640216,93.52724127488406],\"type\":\"scatter\",\"xaxis\":\"x2\",\"yaxis\":\"y2\"},{\"legendgroup\":\"test_6\",\"mode\":\"markers\",\"name\":\"Run id in Test 6\",\"x\":[60.61224489795919,58.91820688373571,54.967944586112615,56.504120407833305,53.20133675298614,47.006106393559286,40.2969979363268,34.73770111132932,31.173384146301327,29.862540320253835,21.60893411956609,13.894199054079715,7.830610064693132,3.1559468428018,0.0010337156919927],\"y\":[60.591282874066934,58.87152215537232,59.784533628430125,57.83425436382513,54.656896056018795,48.931543279326256,43.0367107701247,38.69404809510781,38.40016220264308,41.55024267628087,38.47214125014858,34.69842843644766,32.38356344605607,30.6874083804248,29.505000844730866],\"type\":\"scatter\",\"xaxis\":\"x2\",\"yaxis\":\"y2\"},{\"legendgroup\":\"test_7\",\"mode\":\"markers\",\"name\":\"Run id in Test 7\",\"x\":[44.285714285714285,43.091730416232096,49.56742116592375,53.41855175443676,53.56105683162421,51.3427427140427,48.75151084812984,47.21647080029135,47.41291358220813,49.4956375243666,48.292322180351455,43.51040815227347,39.87424357386649,37.12396685800291,35.05341744703701],\"y\":[45.04151804931233,43.54015531415111,50.928814828693575,56.95978384322828,54.039797647327234,48.76917641091109,43.50341264306341,40.465357159629036,40.31284773772255,42.8284285620671,41.57702774209782,39.542162286372275,36.74497670784918,34.70856862935672,33.26197831588181],\"type\":\"scatter\",\"xaxis\":\"x2\",\"yaxis\":\"y2\"},{\"legendgroup\":\"test_8\",\"mode\":\"markers\",\"name\":\"Run id in Test 8\",\"x\":[62.24489795918368,61.21776604301599,61.68839208761704,65.04382305329295,62.69758511158651,56.54852620466132,49.80711194765001,44.700101045224585,42.2095427249079,42.48465618101904,41.20803831131787,35.297389599090664,30.94636871742636,27.770291957174603,25.467113925770228],\"y\":[63.81414091415172,62.70458799691451,65.69941093876893,68.4774677452745,68.2127386679985,65.39438787031726,62.32681160616508,61.054333197193195,62.590865364771005,64.06249621231059,66.7525485117514,63.90633437859406,61.09029656523475,59.01715566186725,57.55953183913053],\"type\":\"scatter\",\"xaxis\":\"x2\",\"yaxis\":\"y2\"},{\"legendgroup\":\"test_9\",\"mode\":\"markers\",\"name\":\"Run id in Test 9\",\"x\":[31.22448979591837,29.86833180785049,27.658387185172973,37.619533430058816,41.16323693589936,39.72372431065216,36.56691320199399,34.4317618023923,34.8034920745417,38.185121525710215,44.52533300483191,42.78968564912638,35.513688469230864,29.937750335245543,25.685477735236184],\"y\":[30.157051873494368,28.881274305450376,30.763549312614817,39.70310322059705,47.498963693592344,52.90678592007441,58.52050118724332,66.25007753071237,75.85853411497749,89.01890701582855,99.58274751682806,106.63237210705299,105.4054515674728,104.69939064222211,104.26384208357928],\"type\":\"scatter\",\"xaxis\":\"x2\",\"yaxis\":\"y2\"},{\"legendgroup\":\"test_10\",\"mode\":\"markers\",\"name\":\"Run id in Test 10\",\"x\":[69.59183673469389,68.46750689794594,65.3266602512058,66.30677152443242,66.68529999697574,61.49451704502854,53.80679731466593,46.36843571545527,40.87750415301878,38.13586928938357,37.29759740650222,25.839575325434303,16.752013641424025,9.65792303172169,4.218111157440058],\"y\":[70.59772643079828,69.69289725146528,67.62776409837882,68.90331634649296,74.03337782527457,76.55267787252417,78.83759845944674,82.59694679857594,89.02967930239066,94.40841649560943,102.86799114565076,102.78730384780638,100.72798785824745,99.26690110794655,98.28314528626716],\"type\":\"scatter\",\"xaxis\":\"x2\",\"yaxis\":\"y2\"},{\"legendgroup\":\"test_11\",\"mode\":\"markers\",\"name\":\"Run id in Test 11\",\"x\":[51.63265306122449,49.94976636557456,45.82621053051052,44.7843135956976,44.45291934626548,40.09750565232298,34.36587652676877,29.51632947308628,26.835405259517685,23.601304472992464,12.58750667173926,3.959861417068549,-1.3036276822892648e-8,-4.020210447778308e-8,-4.251459656023749e-9],\"y\":[51.50073418388493,49.87107983286727,46.86803842775327,44.16906126446002,44.927975400403724,43.132879261952375,41.16801076630776,40.557502150305005,43.397409530645696,48.33269798224444,45.501883783627584,42.11874529474938,40.44833250679159,39.27021195464871,38.45668360208628],\"type\":\"scatter\",\"xaxis\":\"x2\",\"yaxis\":\"y2\"},{\"legendgroup\":\"test_12\",\"mode\":\"markers\",\"name\":\"Run id in Test 12\",\"x\":[49.18367346938776,48.04307641738522,44.925389332895406,44.08673424776753,46.47446596782147,45.38245170418673,43.83611968730055,44.03879975806608,46.91039218981837,52.53450294032319,54.22434141162034,49.65477063498234,46.43274606004504,44.15952747224678,42.557171394724136],\"y\":[50.091951879816314,49.00662020631361,45.53487605536679,45.072060549013244,49.10216135541529,50.19820193257478,50.75191176004674,52.61628556673891,56.7607503786171,61.969001916556806,67.04824656962042,66.46364826992243,64.3924373679751,62.93852959923896,61.9313628871676],\"type\":\"scatter\",\"xaxis\":\"x2\",\"yaxis\":\"y2\"},{\"legendgroup\":\"test_13\",\"mode\":\"markers\",\"name\":\"Run id in Test 13\",\"x\":[33.673469387755105,32.85568903858953,30.56312746120461,29.79751038666612,32.29613558672073,32.1220102532364,31.63580653315286,32.54689847491206,35.52766659560036,40.579724163483775,47.4183760344545,45.98769286172848,43.56916921498736,41.888306284004265,40.72385776395283],\"y\":[35.62050157663499,34.674876431667684,31.46814975281757,28.687489679299876,28.936925268837207,25.260177268247347,20.064055793915095,15.88570513513249,13.304752688706031,15.741829186681315,22.88283780020363,22.918327680627954,19.61578504951467,17.228094346465156,15.519008563918817],\"type\":\"scatter\",\"xaxis\":\"x2\",\"yaxis\":\"y2\"},{\"legendgroup\":\"test_14\",\"mode\":\"markers\",\"name\":\"Run id in Test 14\",\"x\":[58.9795918367347,57.71818717441643,54.591835289208696,48.740034488313086,50.591902264455705,48.73667552104879,45.57858606172464,43.266404113141846,43.00220538089287,45.186238141865225,49.75160387959409,51.9980652588479,47.2238657605447,43.70790635047517,41.12009101718862],\"y\":[58.994323851064465,57.780136068653384,52.9079487759505,48.16155618036092,49.584269992121,47.40331885089442,44.158414010226096,41.833207817209875,42.68044018387758,49.962181211310856,60.53640735569796,63.327345483484926,60.825262391844845,59.05700261998231,57.85644218287829],\"type\":\"scatter\",\"xaxis\":\"x2\",\"yaxis\":\"y2\"},{\"legendgroup\":\"test_15\",\"mode\":\"markers\",\"name\":\"Run id in Test 15\",\"x\":[50.81632653061224,49.42903179884225,49.241059384896246,53.60616050819305,54.18866248915607,52.37444668092891,50.17414735016551,49.05515864313025,49.732300878384365,44.31814137271242,37.60075716598503,32.35174463832436,28.2991972340904,25.20030120956997,22.84821138001836],\"y\":[51.81410336189119,50.24285829683826,51.941735877356365,52.646900079128685,50.968415972514606,47.10176327413683,43.29516147056016,41.26622149214117,42.433556276171046,43.05716546876975,35.59473656868645,28.76979951163908,26.581882649717016,24.967076313500954,23.809605340853537],\"type\":\"scatter\",\"xaxis\":\"x2\",\"yaxis\":\"y2\"},{\"legendgroup\":\"test_16\",\"mode\":\"markers\",\"name\":\"Run id in Test 16\",\"x\":[58.16326530612245,56.19839835142584,56.07719419309451,57.53927463109983,52.96921102523128,45.63397195631546,38.8997572613256,34.699870639411095,33.68510842771298,33.50523150199827,25.256678759625984,19.1188305910305,14.612733046549293,11.34014001235881,8.984242446198829],\"y\":[57.87486868087085,56.203559210216376,59.29488132069117,62.84457017588085,63.252011486617164,61.82831411568404,60.932118041447424,62.0759381308241,66.88301060669266,71.92681618502093,68.46563774278229,65.32835651654935,63.708732715451276,62.562525847501846,61.78195201273721],\"type\":\"scatter\",\"xaxis\":\"x2\",\"yaxis\":\"y2\"},{\"legendgroup\":\"test_17\",\"mode\":\"markers\",\"name\":\"Run id in Test 17\",\"x\":[36.12244897959184,34.6867024963607,44.664597050119234,55.81361234748272,62.34479586783534,65.5442152273638,68.10088432954296,72.29838027303144,79.40567313644425,82.14377076705478,76.88705450215896,73.31063873396018,70.82401060761896,69.06773895134793,67.81381045954711],\"y\":[35.39826023670345,33.876791192912336,38.75482351546815,50.91264969143863,58.40939867984035,64.7798416675222,72.41030266807907,82.70516635059828,95.2478406301897,104.82843832363523,103.03305390940183,103.10168638957909,102.57452219286431,102.33578069105596,102.2068528461413],\"type\":\"scatter\",\"xaxis\":\"x2\",\"yaxis\":\"y2\"},{\"legendgroup\":\"test_18\",\"mode\":\"markers\",\"name\":\"Run id in Test 18\",\"x\":[41.83673469387755,40.38038830938275,36.565252180866544,44.724152294715466,48.97178774316208,49.54183685095304,49.29284092052927,50.39400821481854,53.94618618233191,49.53852948905152,40.47200104895845,33.3616915595214,27.83277789229457,23.569360359584245,20.30478711205175],\"y\":[41.55196741831432,40.10764914287787,39.08279774679951,44.213261704635784,51.31605130406952,56.71092600592221,62.76028814891572,70.77208004895772,81.20979416080976,89.16237085429883,87.1596232213267,85.35283584141176,84.67020830567013,84.28877275644302,84.05186750301924],\"type\":\"scatter\",\"xaxis\":\"x2\",\"yaxis\":\"y2\"}],                        {\"template\":{\"data\":{\"histogram2dcontour\":[{\"type\":\"histogram2dcontour\",\"colorbar\":{\"outlinewidth\":0,\"ticks\":\"\"},\"colorscale\":[[0.0,\"#0d0887\"],[0.1111111111111111,\"#46039f\"],[0.2222222222222222,\"#7201a8\"],[0.3333333333333333,\"#9c179e\"],[0.4444444444444444,\"#bd3786\"],[0.5555555555555556,\"#d8576b\"],[0.6666666666666666,\"#ed7953\"],[0.7777777777777778,\"#fb9f3a\"],[0.8888888888888888,\"#fdca26\"],[1.0,\"#f0f921\"]]}],\"choropleth\":[{\"type\":\"choropleth\",\"colorbar\":{\"outlinewidth\":0,\"ticks\":\"\"}}],\"histogram2d\":[{\"type\":\"histogram2d\",\"colorbar\":{\"outlinewidth\":0,\"ticks\":\"\"},\"colorscale\":[[0.0,\"#0d0887\"],[0.1111111111111111,\"#46039f\"],[0.2222222222222222,\"#7201a8\"],[0.3333333333333333,\"#9c179e\"],[0.4444444444444444,\"#bd3786\"],[0.5555555555555556,\"#d8576b\"],[0.6666666666666666,\"#ed7953\"],[0.7777777777777778,\"#fb9f3a\"],[0.8888888888888888,\"#fdca26\"],[1.0,\"#f0f921\"]]}],\"heatmap\":[{\"type\":\"heatmap\",\"colorbar\":{\"outlinewidth\":0,\"ticks\":\"\"},\"colorscale\":[[0.0,\"#0d0887\"],[0.1111111111111111,\"#46039f\"],[0.2222222222222222,\"#7201a8\"],[0.3333333333333333,\"#9c179e\"],[0.4444444444444444,\"#bd3786\"],[0.5555555555555556,\"#d8576b\"],[0.6666666666666666,\"#ed7953\"],[0.7777777777777778,\"#fb9f3a\"],[0.8888888888888888,\"#fdca26\"],[1.0,\"#f0f921\"]]}],\"heatmapgl\":[{\"type\":\"heatmapgl\",\"colorbar\":{\"outlinewidth\":0,\"ticks\":\"\"},\"colorscale\":[[0.0,\"#0d0887\"],[0.1111111111111111,\"#46039f\"],[0.2222222222222222,\"#7201a8\"],[0.3333333333333333,\"#9c179e\"],[0.4444444444444444,\"#bd3786\"],[0.5555555555555556,\"#d8576b\"],[0.6666666666666666,\"#ed7953\"],[0.7777777777777778,\"#fb9f3a\"],[0.8888888888888888,\"#fdca26\"],[1.0,\"#f0f921\"]]}],\"contourcarpet\":[{\"type\":\"contourcarpet\",\"colorbar\":{\"outlinewidth\":0,\"ticks\":\"\"}}],\"contour\":[{\"type\":\"contour\",\"colorbar\":{\"outlinewidth\":0,\"ticks\":\"\"},\"colorscale\":[[0.0,\"#0d0887\"],[0.1111111111111111,\"#46039f\"],[0.2222222222222222,\"#7201a8\"],[0.3333333333333333,\"#9c179e\"],[0.4444444444444444,\"#bd3786\"],[0.5555555555555556,\"#d8576b\"],[0.6666666666666666,\"#ed7953\"],[0.7777777777777778,\"#fb9f3a\"],[0.8888888888888888,\"#fdca26\"],[1.0,\"#f0f921\"]]}],\"surface\":[{\"type\":\"surface\",\"colorbar\":{\"outlinewidth\":0,\"ticks\":\"\"},\"colorscale\":[[0.0,\"#0d0887\"],[0.1111111111111111,\"#46039f\"],[0.2222222222222222,\"#7201a8\"],[0.3333333333333333,\"#9c179e\"],[0.4444444444444444,\"#bd3786\"],[0.5555555555555556,\"#d8576b\"],[0.6666666666666666,\"#ed7953\"],[0.7777777777777778,\"#fb9f3a\"],[0.8888888888888888,\"#fdca26\"],[1.0,\"#f0f921\"]]}],\"mesh3d\":[{\"type\":\"mesh3d\",\"colorbar\":{\"outlinewidth\":0,\"ticks\":\"\"}}],\"scatter\":[{\"fillpattern\":{\"fillmode\":\"overlay\",\"size\":10,\"solidity\":0.2},\"type\":\"scatter\"}],\"parcoords\":[{\"type\":\"parcoords\",\"line\":{\"colorbar\":{\"outlinewidth\":0,\"ticks\":\"\"}}}],\"scatterpolargl\":[{\"type\":\"scatterpolargl\",\"marker\":{\"colorbar\":{\"outlinewidth\":0,\"ticks\":\"\"}}}],\"bar\":[{\"error_x\":{\"color\":\"#2a3f5f\"},\"error_y\":{\"color\":\"#2a3f5f\"},\"marker\":{\"line\":{\"color\":\"white\",\"width\":0.5},\"pattern\":{\"fillmode\":\"overlay\",\"size\":10,\"solidity\":0.2}},\"type\":\"bar\"}],\"scattergeo\":[{\"type\":\"scattergeo\",\"marker\":{\"colorbar\":{\"outlinewidth\":0,\"ticks\":\"\"}}}],\"scatterpolar\":[{\"type\":\"scatterpolar\",\"marker\":{\"colorbar\":{\"outlinewidth\":0,\"ticks\":\"\"}}}],\"histogram\":[{\"marker\":{\"pattern\":{\"fillmode\":\"overlay\",\"size\":10,\"solidity\":0.2}},\"type\":\"histogram\"}],\"scattergl\":[{\"type\":\"scattergl\",\"marker\":{\"colorbar\":{\"outlinewidth\":0,\"ticks\":\"\"}}}],\"scatter3d\":[{\"type\":\"scatter3d\",\"line\":{\"colorbar\":{\"outlinewidth\":0,\"ticks\":\"\"}},\"marker\":{\"colorbar\":{\"outlinewidth\":0,\"ticks\":\"\"}}}],\"scattermapbox\":[{\"type\":\"scattermapbox\",\"marker\":{\"colorbar\":{\"outlinewidth\":0,\"ticks\":\"\"}}}],\"scatterternary\":[{\"type\":\"scatterternary\",\"marker\":{\"colorbar\":{\"outlinewidth\":0,\"ticks\":\"\"}}}],\"scattercarpet\":[{\"type\":\"scattercarpet\",\"marker\":{\"colorbar\":{\"outlinewidth\":0,\"ticks\":\"\"}}}],\"carpet\":[{\"aaxis\":{\"endlinecolor\":\"#2a3f5f\",\"gridcolor\":\"#C8D4E3\",\"linecolor\":\"#C8D4E3\",\"minorgridcolor\":\"#C8D4E3\",\"startlinecolor\":\"#2a3f5f\"},\"baxis\":{\"endlinecolor\":\"#2a3f5f\",\"gridcolor\":\"#C8D4E3\",\"linecolor\":\"#C8D4E3\",\"minorgridcolor\":\"#C8D4E3\",\"startlinecolor\":\"#2a3f5f\"},\"type\":\"carpet\"}],\"table\":[{\"cells\":{\"fill\":{\"color\":\"#EBF0F8\"},\"line\":{\"color\":\"white\"}},\"header\":{\"fill\":{\"color\":\"#C8D4E3\"},\"line\":{\"color\":\"white\"}},\"type\":\"table\"}],\"barpolar\":[{\"marker\":{\"line\":{\"color\":\"white\",\"width\":0.5},\"pattern\":{\"fillmode\":\"overlay\",\"size\":10,\"solidity\":0.2}},\"type\":\"barpolar\"}],\"pie\":[{\"automargin\":true,\"type\":\"pie\"}]},\"layout\":{\"autotypenumbers\":\"strict\",\"colorway\":[\"#636efa\",\"#EF553B\",\"#00cc96\",\"#ab63fa\",\"#FFA15A\",\"#19d3f3\",\"#FF6692\",\"#B6E880\",\"#FF97FF\",\"#FECB52\"],\"font\":{\"color\":\"#2a3f5f\"},\"hovermode\":\"closest\",\"hoverlabel\":{\"align\":\"left\"},\"paper_bgcolor\":\"white\",\"plot_bgcolor\":\"white\",\"polar\":{\"bgcolor\":\"white\",\"angularaxis\":{\"gridcolor\":\"#EBF0F8\",\"linecolor\":\"#EBF0F8\",\"ticks\":\"\"},\"radialaxis\":{\"gridcolor\":\"#EBF0F8\",\"linecolor\":\"#EBF0F8\",\"ticks\":\"\"}},\"ternary\":{\"bgcolor\":\"white\",\"aaxis\":{\"gridcolor\":\"#DFE8F3\",\"linecolor\":\"#A2B1C6\",\"ticks\":\"\"},\"baxis\":{\"gridcolor\":\"#DFE8F3\",\"linecolor\":\"#A2B1C6\",\"ticks\":\"\"},\"caxis\":{\"gridcolor\":\"#DFE8F3\",\"linecolor\":\"#A2B1C6\",\"ticks\":\"\"}},\"coloraxis\":{\"colorbar\":{\"outlinewidth\":0,\"ticks\":\"\"}},\"colorscale\":{\"sequential\":[[0.0,\"#0d0887\"],[0.1111111111111111,\"#46039f\"],[0.2222222222222222,\"#7201a8\"],[0.3333333333333333,\"#9c179e\"],[0.4444444444444444,\"#bd3786\"],[0.5555555555555556,\"#d8576b\"],[0.6666666666666666,\"#ed7953\"],[0.7777777777777778,\"#fb9f3a\"],[0.8888888888888888,\"#fdca26\"],[1.0,\"#f0f921\"]],\"sequentialminus\":[[0.0,\"#0d0887\"],[0.1111111111111111,\"#46039f\"],[0.2222222222222222,\"#7201a8\"],[0.3333333333333333,\"#9c179e\"],[0.4444444444444444,\"#bd3786\"],[0.5555555555555556,\"#d8576b\"],[0.6666666666666666,\"#ed7953\"],[0.7777777777777778,\"#fb9f3a\"],[0.8888888888888888,\"#fdca26\"],[1.0,\"#f0f921\"]],\"diverging\":[[0,\"#8e0152\"],[0.1,\"#c51b7d\"],[0.2,\"#de77ae\"],[0.3,\"#f1b6da\"],[0.4,\"#fde0ef\"],[0.5,\"#f7f7f7\"],[0.6,\"#e6f5d0\"],[0.7,\"#b8e186\"],[0.8,\"#7fbc41\"],[0.9,\"#4d9221\"],[1,\"#276419\"]]},\"xaxis\":{\"gridcolor\":\"#EBF0F8\",\"linecolor\":\"#EBF0F8\",\"ticks\":\"\",\"title\":{\"standoff\":15},\"zerolinecolor\":\"#EBF0F8\",\"automargin\":true,\"zerolinewidth\":2},\"yaxis\":{\"gridcolor\":\"#EBF0F8\",\"linecolor\":\"#EBF0F8\",\"ticks\":\"\",\"title\":{\"standoff\":15},\"zerolinecolor\":\"#EBF0F8\",\"automargin\":true,\"zerolinewidth\":2},\"scene\":{\"xaxis\":{\"backgroundcolor\":\"white\",\"gridcolor\":\"#DFE8F3\",\"linecolor\":\"#EBF0F8\",\"showbackground\":true,\"ticks\":\"\",\"zerolinecolor\":\"#EBF0F8\",\"gridwidth\":2},\"yaxis\":{\"backgroundcolor\":\"white\",\"gridcolor\":\"#DFE8F3\",\"linecolor\":\"#EBF0F8\",\"showbackground\":true,\"ticks\":\"\",\"zerolinecolor\":\"#EBF0F8\",\"gridwidth\":2},\"zaxis\":{\"backgroundcolor\":\"white\",\"gridcolor\":\"#DFE8F3\",\"linecolor\":\"#EBF0F8\",\"showbackground\":true,\"ticks\":\"\",\"zerolinecolor\":\"#EBF0F8\",\"gridwidth\":2}},\"shapedefaults\":{\"line\":{\"color\":\"#2a3f5f\"}},\"annotationdefaults\":{\"arrowcolor\":\"#2a3f5f\",\"arrowhead\":0,\"arrowwidth\":1},\"geo\":{\"bgcolor\":\"white\",\"landcolor\":\"white\",\"subunitcolor\":\"#C8D4E3\",\"showland\":true,\"showlakes\":true,\"lakecolor\":\"white\"},\"title\":{\"x\":0.05},\"mapbox\":{\"style\":\"light\"}}},\"xaxis\":{\"anchor\":\"y\",\"domain\":[0.0,0.45],\"title\":{\"text\":\"Observed values\"}},\"yaxis\":{\"anchor\":\"x\",\"domain\":[0.0,1.0],\"title\":{\"text\":\"Predicted values\"}},\"xaxis2\":{\"anchor\":\"y2\",\"domain\":[0.55,1.0],\"title\":{\"text\":\"Observed values\"}},\"yaxis2\":{\"anchor\":\"x2\",\"domain\":[0.0,1.0],\"title\":{\"text\":\"Predicted values\"}},\"annotations\":[{\"font\":{\"size\":16},\"showarrow\":false,\"text\":\"Train Set - X:Glc \\u003cbr\\u003e R^2 = -0.194 \\u003cbr\\u003e Abs RMSE = 11.34 \\u003cbr\\u003e Rel RMSE = 0.357\",\"x\":0.225,\"xanchor\":\"center\",\"xref\":\"paper\",\"y\":1.0,\"yanchor\":\"bottom\",\"yref\":\"paper\"},{\"font\":{\"size\":16},\"showarrow\":false,\"text\":\"Test Set - X:Glc \\u003cbr\\u003e R^2 = -7.51 \\u003cbr\\u003e Abs RMSE = 20.104 \\u003cbr\\u003e Rel RMSE = 1.232\",\"x\":0.775,\"xanchor\":\"center\",\"xref\":\"paper\",\"y\":1.0,\"yanchor\":\"bottom\",\"yref\":\"paper\"}],\"shapes\":[{\"layer\":\"above\",\"line\":{\"dash\":\"dash\"},\"type\":\"line\",\"x0\":-6.205551323556875,\"x1\":140.0086599268114,\"y0\":-6.205551323556875,\"y1\":140.0086599268114},{\"layer\":\"above\",\"line\":{\"dash\":\"dash\"},\"type\":\"line\",\"x0\":13.304752688706031,\"x1\":106.63237210705299,\"xref\":\"x2\",\"y0\":13.304752688706031,\"y1\":106.63237210705299,\"yref\":\"y2\"}],\"width\":1600},                        {\"responsive\": true}                    ).then(function(){\n",
       "                            \n",
       "var gd = document.getElementById('dea78229-912c-4ed9-994a-2c0f48210fac');\n",
       "var x = new MutationObserver(function (mutations, observer) {{\n",
       "        var display = window.getComputedStyle(gd).display;\n",
       "        if (!display || display === 'none') {{\n",
       "            console.log([gd, 'removed!']);\n",
       "            Plotly.purge(gd);\n",
       "            observer.disconnect();\n",
       "        }}\n",
       "}});\n",
       "\n",
       "// Listen for the removal of the full notebook cells\n",
       "var notebookContainer = gd.closest('#notebook-container');\n",
       "if (notebookContainer) {{\n",
       "    x.observe(notebookContainer, {childList: true});\n",
       "}}\n",
       "\n",
       "// Listen for the clearing of the current output cell\n",
       "var outputEl = gd.closest('.output');\n",
       "if (outputEl) {{\n",
       "    x.observe(outputEl, {childList: true});\n",
       "}}\n",
       "\n",
       "                        })                };                });            </script>        </div>"
      ]
     },
     "metadata": {},
     "output_type": "display_data"
    },
    {
     "data": {
      "application/vnd.plotly.v1+json": {
       "config": {
        "plotlyServerURL": "https://plot.ly"
       },
       "data": [
        {
         "legendgroup": "train_0",
         "mode": "markers",
         "name": "Run id in Train 0",
         "type": "scatter",
         "x": [
          0,
          1.69345805704731,
          5.897022174496003,
          14.760391525541584,
          29.38859302970828,
          47.82798059583144,
          66.28877804594478,
          81.69288657721607,
          92.67703047605649,
          99.51314361635391,
          103.3982341018014,
          105.5137608534153,
          106.64771326447794,
          107.25237808915796,
          107.57398917080884
         ],
         "xaxis": "x",
         "y": [
          0,
          1.7874826481604744,
          6.415107653454032,
          16.333460028364616,
          32.57346323794388,
          52.79245980930798,
          72.81502230194396,
          88.97376184729002,
          101.85325746018364,
          110.86083868921597,
          116.75853673369184,
          120.45826514298254,
          122.73961177219574,
          124.16810462808496,
          125.08499433036785
         ],
         "yaxis": "y"
        },
        {
         "legendgroup": "train_1",
         "mode": "markers",
         "name": "Run id in Train 1",
         "type": "scatter",
         "x": [
          0,
          1.2591174351446812,
          4.363787969322462,
          11.105807850200534,
          23.08674531626167,
          39.77379364032567,
          58.33909249352142,
          75.64227711825473,
          89.5941838255521,
          99.3928495418756,
          105.4740473218795,
          108.9699250499719,
          110.918427122675,
          111.99516193361828,
          112.58794736476844
         ],
         "xaxis": "x",
         "y": [
          0,
          1.423686749984015,
          5.2451727177769545,
          13.931138044938455,
          29.113452083779755,
          48.95644865614526,
          68.88600338509039,
          84.7147816004747,
          97.53231886509644,
          106.02267333451779,
          111.20829444239415,
          114.17218921193476,
          115.82271471125834,
          116.74975892404196,
          117.28626522848508
         ],
         "yaxis": "y"
        },
        {
         "legendgroup": "train_2",
         "mode": "markers",
         "name": "Run id in Train 2",
         "type": "scatter",
         "x": [
          0,
          1.866469333291912,
          7.039248680252867,
          18.704626424131312,
          38.35496070782931,
          63.1173995632141,
          87.91110486552529,
          108.64700768237822,
          123.35156668084312,
          132.36601726278963,
          137.42994602457176,
          140.17843995403726,
          141.65402443925203,
          142.44293058550818,
          142.86381460240204
         ],
         "xaxis": "x",
         "y": [
          0,
          1.6321052427931932,
          5.861880199030595,
          15.108423426241282,
          30.804231063255493,
          50.984329863242024,
          70.97958818310373,
          87.32241643814625,
          99.96234646410024,
          107.98408175281637,
          112.62659958470323,
          115.14691764454771,
          116.4772055483599,
          117.1732514867333,
          117.53844936162604
         ],
         "yaxis": "y"
        },
        {
         "legendgroup": "train_3",
         "mode": "markers",
         "name": "Run id in Train 3",
         "type": "scatter",
         "x": [
          0,
          2.193550607418356,
          7.801298168106945,
          18.766174317262404,
          33.69689018464,
          48.34900066558672,
          59.74842585087358,
          67.40216019026191,
          72.1177330616482,
          74.89252493334618,
          76.48915967702284,
          77.39715527981402,
          77.91013594557718,
          78.1989052220856,
          78.36113418904017
         ],
         "xaxis": "x",
         "y": [
          0,
          2.072658230742747,
          7.290507321464525,
          17.72571312442506,
          32.74044110056235,
          48.154940763233796,
          60.819384515942446,
          70.95474060973585,
          76.83631855033525,
          80.42166949323136,
          82.7193338423081,
          84.30289553147207,
          85.41160502175153,
          86.18020117990886,
          86.70609717452817
         ],
         "yaxis": "y"
        },
        {
         "legendgroup": "train_4",
         "mode": "markers",
         "name": "Run id in Train 4",
         "type": "scatter",
         "x": [
          0,
          2.271716977830502,
          7.854473161355809,
          18.971708052051884,
          35.82484903801885,
          55.484937664768005,
          74.18856957963564,
          89.37381330601042,
          100.02434710219111,
          106.56762036581328,
          110.35013494198267,
          112.52991365924176,
          113.78809838136668,
          114.51558106094842,
          114.936735596877
         ],
         "xaxis": "x",
         "y": [
          0,
          2.2354426799419618,
          7.700784446923961,
          18.541133917516877,
          34.810944309057625,
          53.156382069662925,
          69.09235632812218,
          82.45090894088399,
          90.89103974496028,
          95.25951981530096,
          97.21049208041552,
          97.9899713959683,
          98.2157731682835,
          98.18544065312253,
          98.05389530633427
         ],
         "yaxis": "y"
        },
        {
         "legendgroup": "train_5",
         "mode": "markers",
         "name": "Run id in Train 5",
         "type": "scatter",
         "x": [
          0,
          2.1740074735550605,
          7.182608258476706,
          16.82510229378721,
          31.34268820461444,
          48.28624408120008,
          64.28995969884735,
          77.04776277507078,
          85.78842522037073,
          91.04929514777176,
          94.00474366506025,
          95.64522970427242,
          96.55287676695592,
          97.054389027165,
          97.331315646952
         ],
         "xaxis": "x",
         "y": [
          0,
          2.435228739083233,
          8.36161154980684,
          19.992205198347378,
          37.24225279566893,
          56.764614046692095,
          74.44033535507128,
          89.65428221215669,
          99.82037305814764,
          106.04041658184627,
          109.6182744236274,
          111.7091740018544,
          112.93916986845578,
          113.66284834545854,
          114.0860078975181
         ],
         "yaxis": "y"
        },
        {
         "legendgroup": "train_6",
         "mode": "markers",
         "name": "Run id in Train 6",
         "type": "scatter",
         "x": [
          0,
          1.916223707605735,
          6.481636373842608,
          15.742076047399967,
          30.7303924619266,
          49.56309399414012,
          68.54508580701972,
          84.64064208273174,
          96.4336875563552,
          104.07036255435077,
          108.63197524096528,
          111.25534115276618,
          112.74131598613712,
          113.577859978804,
          114.04725326605498
         ],
         "xaxis": "x",
         "y": [
          0,
          1.8839153134371633,
          6.66021795298419,
          16.819463306282703,
          33.55140418532661,
          54.51618990092052,
          75.30219562462757,
          91.8168789990105,
          103.45599514540237,
          110.59042621265557,
          114.50088111807113,
          116.46851745325404,
          117.40434452356416,
          117.82181010081871,
          117.97663707498629
         ],
         "yaxis": "y"
        },
        {
         "legendgroup": "train_7",
         "mode": "markers",
         "name": "Run id in Train 7",
         "type": "scatter",
         "x": [
          0,
          2.243958200027949,
          8.523091057701478,
          22.02505899374238,
          42.56465569657718,
          65.54531000542516,
          86.36115270011925,
          102.69136210007946,
          114.01852655478228,
          120.90042892063524,
          124.57629681718988,
          126.40832354825189,
          127.3152667728905,
          127.7640116394374,
          127.98600783384062
         ],
         "xaxis": "x",
         "y": [
          0,
          1.8398305486106508,
          6.58705057937603,
          16.670556374512437,
          32.94474379628656,
          53.09220816695342,
          73.74298416064887,
          91.54372553487138,
          105.43113536765073,
          115.60110855382868,
          122.57344751183864,
          127.25053815958036,
          130.4141478116519,
          132.5832199727405,
          134.0781605783111
         ],
         "yaxis": "y"
        },
        {
         "legendgroup": "train_8",
         "mode": "markers",
         "name": "Run id in Train 8",
         "type": "scatter",
         "x": [
          0,
          1.6793980299494815,
          5.825279816564676,
          14.27356176357438,
          27.29715746711588,
          42.40664958688576,
          56.43799757399171,
          67.52538375231104,
          75.23050405709591,
          80.0340985431344,
          82.87566487240495,
          84.54898020684811,
          85.5339459906819,
          86.11387571389295,
          86.4554277707369
         ],
         "xaxis": "x",
         "y": [
          0,
          1.8408913717252282,
          6.630285843254407,
          16.631991818772583,
          31.938771907900204,
          49.50075611409767,
          66.78542978740307,
          82.06794375120137,
          93.92623308323007,
          103.23946159601778,
          110.20556404031885,
          115.31509058829651,
          119.04139920461434,
          121.74625848069135,
          123.69498593911406
         ],
         "yaxis": "y"
        },
        {
         "legendgroup": "train_9",
         "mode": "markers",
         "name": "Run id in Train 9",
         "type": "scatter",
         "x": [
          0,
          1.936573425915886,
          6.829628620347621,
          17.08542047827603,
          33.68920844131243,
          54.31801760252742,
          74.94360934324902,
          92.35928951478154,
          105.04138844957716,
          113.1173391723332,
          117.83371942641146,
          120.5372260817002,
          122.08223916974812,
          122.96423137950454,
          123.46750725239096
         ],
         "xaxis": "x",
         "y": [
          0,
          2.1093800912559852,
          7.347186101746179,
          18.03229070205552,
          34.82195285928381,
          55.24217769584321,
          75.23251900947648,
          92.88653491645128,
          105.853507373543,
          114.3957125498983,
          119.63471332542497,
          122.83698680339982,
          124.83956766068795,
          126.1151747888187,
          126.93586102953635
         ],
         "yaxis": "y"
        },
        {
         "legendgroup": "train_10",
         "mode": "markers",
         "name": "Run id in Train 10",
         "type": "scatter",
         "x": [
          0,
          2.2045774470236106,
          7.641883100611657,
          18.55674420310442,
          35.26530286784005,
          54.97920848857748,
          73.92058498359414,
          89.45973831766962,
          100.66193693639848,
          107.98040575765472,
          112.49289873095236,
          115.2193343478992,
          116.85527810935798,
          117.83318579088176,
          118.41650712461951
         ],
         "xaxis": "x",
         "y": [
          0,
          2.3805398825146193,
          8.235309377861654,
          19.801514551818244,
          36.955640080685974,
          56.30837444455161,
          73.80352222046103,
          88.53759914616263,
          99.13843309967622,
          106.2118824774588,
          110.75294540774944,
          113.66988469854915,
          115.51086588854989,
          116.67631573009857,
          117.42531968897666
         ],
         "yaxis": "y"
        },
        {
         "legendgroup": "train_11",
         "mode": "markers",
         "name": "Run id in Train 11",
         "type": "scatter",
         "x": [
          0,
          1.462853690999637,
          5.073336681969035,
          12.660230851131171,
          25.232508578399084,
          41.307290770199714,
          57.82184158492357,
          72.23096168957767,
          83.26341754953935,
          90.70522924185808,
          95.11732108367188,
          97.47899681646844,
          98.69224529926088,
          99.31263835102392,
          99.62937170511216
         ],
         "xaxis": "x",
         "y": [
          0,
          1.5190586494017495,
          5.606358794431198,
          14.84291607018059,
          30.881144362549385,
          52.28809489202773,
          75.66393538382071,
          95.88099215649747,
          112.7796200165898,
          125.5464350716255,
          134.43542972534618,
          140.3969383489989,
          144.4215568349583,
          147.18409923616596,
          149.09688228642716
         ],
         "yaxis": "y"
        },
        {
         "legendgroup": "train_12",
         "mode": "markers",
         "name": "Run id in Train 12",
         "type": "scatter",
         "x": [
          0,
          1.94866933876764,
          7.233907153871678,
          18.655652259929067,
          36.821238159666514,
          58.43775305560913,
          79.2116435858596,
          96.41166814671342,
          108.96228662742594,
          116.92184996449268,
          121.52041084071284,
          124.19580393108706,
          125.76993807966964,
          126.70267532390474,
          127.25773195905832
         ],
         "xaxis": "x",
         "y": [
          0,
          1.7907684735736493,
          6.363682164332241,
          16.01835450820328,
          31.641916005281605,
          51.00607366788503,
          70.31845991809938,
          87.56879620440894,
          100.72728582079219,
          109.67277863616623,
          115.37505435302948,
          118.996326225612,
          121.36529939848629,
          122.94469923270589,
          124.00881848501331
         ],
         "yaxis": "y"
        },
        {
         "legendgroup": "train_13",
         "mode": "markers",
         "name": "Run id in Train 13",
         "type": "scatter",
         "x": [
          0,
          2.200382492961511,
          7.894780870993562,
          19.55827449790884,
          37.32797040419936,
          58.16284815438131,
          78.45160605087935,
          95.9765309874497,
          109.94854564544856,
          120.41278648298837,
          128.03938655086029,
          133.56954670527574,
          137.55582192807515,
          140.41438051763683,
          142.45595462091137
         ],
         "xaxis": "x",
         "y": [
          0,
          1.930682058389225,
          6.780424278460762,
          16.8393743701389,
          33.03042158675201,
          53.35239218660073,
          73.78567397741635,
          92.69287479334353,
          107.51383682312253,
          117.68689567315921,
          124.2061705792862,
          128.37695017290227,
          131.11446038329117,
          132.94169347867717,
          134.17684331829076
         ],
         "yaxis": "y"
        },
        {
         "legendgroup": "train_14",
         "mode": "markers",
         "name": "Run id in Train 14",
         "type": "scatter",
         "x": [
          0,
          2.266481007500602,
          7.481108061218053,
          17.23816542368565,
          31.00161642185615,
          45.79045669201285,
          58.67502859375343,
          68.30515125033189,
          74.72906732624747,
          78.69091157515295,
          81.02465134943674,
          82.37227425825185,
          83.1444344589161,
          83.58498751213965,
          83.83576220973902
         ],
         "xaxis": "x",
         "y": [
          0,
          2.26185685435929,
          7.931197076287539,
          19.32460013287789,
          36.230759371692,
          55.108436025878405,
          72.94703720608734,
          87.77985549789891,
          98.1844594096543,
          105.83330523339635,
          111.24614426440232,
          115.04524904471248,
          117.6919197931945,
          119.53940893564628,
          120.82254431307175
         ],
         "yaxis": "y"
        },
        {
         "legendgroup": "train_15",
         "mode": "markers",
         "name": "Run id in Train 15",
         "type": "scatter",
         "x": [
          0,
          2.552386950076697,
          8.392360008279711,
          19.35582388537178,
          35.41186190998785,
          53.836957553515546,
          71.08313629584738,
          84.78848500743933,
          94.40449986949466,
          100.64975894259464,
          104.55422151379533,
          106.95550768745558,
          108.42027414285872,
          109.30948263721103,
          109.84776964772038
         ],
         "xaxis": "x",
         "y": [
          0,
          2.4169557573914604,
          8.288564421957272,
          19.81847116479942,
          36.9547739793578,
          56.19596077783857,
          72.8945398494684,
          86.44412368381309,
          95.1001272568712,
          99.73458879539162,
          101.92593309517085,
          102.8634075975052,
          103.14840158777908,
          103.12499305987684,
          102.9800990661325
         ],
         "yaxis": "y"
        },
        {
         "legendgroup": "train_16",
         "mode": "markers",
         "name": "Run id in Train 16",
         "type": "scatter",
         "x": [
          0,
          1.6612988084468303,
          6.088987259959261,
          15.746803690207084,
          31.47358567363868,
          50.14323937382536,
          67.1771767925946,
          79.87642582688726,
          88.03847016923935,
          92.85156193453584,
          95.6089760471386,
          97.1721988730927,
          98.05365672810824,
          98.54931865816886,
          98.82762255437292
         ],
         "xaxis": "x",
         "y": [
          0,
          1.8548692551259824,
          6.530815208304613,
          16.1714824190227,
          31.120044145629606,
          48.35516306941251,
          63.98140963496108,
          77.47246269611045,
          86.40930373992059,
          91.54642299649112,
          94.29014436480492,
          95.77458511131266,
          96.62768864918597,
          97.1245041737593,
          97.41168997655979
         ],
         "yaxis": "y"
        },
        {
         "legendgroup": "train_17",
         "mode": "markers",
         "name": "Run id in Train 17",
         "type": "scatter",
         "x": [
          0,
          1.499847102362348,
          5.803065059063494,
          16.06512088809116,
          34.29292329340938,
          57.65182970890164,
          80.48997704156366,
          98.6273814881257,
          110.61549927737116,
          117.36409711236269,
          120.80877510725404,
          122.50076704100492,
          123.32342969062344,
          123.72205830717552,
          123.91491353241597
         ],
         "xaxis": "x",
         "y": [
          0,
          1.381516596584588,
          5.112587351251883,
          13.610511616616396,
          28.37965032617984,
          47.53749008904123,
          66.97160667354885,
          82.96264057482487,
          95.69329993364452,
          104.2787949095748,
          109.6589212033763,
          112.89006602921121,
          114.84834777762981,
          116.06456225044433,
          116.84008994291302
         ],
         "yaxis": "y"
        },
        {
         "legendgroup": "train_18",
         "mode": "markers",
         "name": "Run id in Train 18",
         "type": "scatter",
         "x": [
          0,
          2.488304429432778,
          9.201525295257095,
          22.922914190168047,
          42.711921774691525,
          63.735468508291376,
          81.5560504006724,
          94.20340317822532,
          101.9338301743324,
          106.1960070963081,
          108.43033224571111,
          109.57902313526031,
          110.16533036894172,
          110.46379979506132,
          110.61553112855547
         ],
         "xaxis": "x",
         "y": [
          0,
          2.070840862945273,
          7.311370926762866,
          18.14324235298109,
          35.07599643410846,
          55.15702977851803,
          74.31436673627665,
          89.36137633819976,
          100.66189513510938,
          108.45760037367174,
          113.54286945883787,
          116.73473077411408,
          118.67906301200495,
          119.87442367629028,
          120.62349134644023
         ],
         "yaxis": "y"
        },
        {
         "legendgroup": "train_19",
         "mode": "markers",
         "name": "Run id in Train 19",
         "type": "scatter",
         "x": [
          0,
          1.5183831297264283,
          5.237664340994536,
          13.227504908739592,
          27.238238354729056,
          46.72874279001649,
          68.81986352619273,
          90.32062048197646,
          109.09064388778134,
          124.10742826977872,
          135.07559840644768,
          142.3634752724604,
          147.15387572687197,
          150.34849804663463,
          152.4990240834168
         ],
         "xaxis": "x",
         "y": [
          0,
          1.465332067968773,
          5.404524144592415,
          14.382733604416758,
          30.36229039882129,
          52.41787841958517,
          76.82262535461619,
          98.72523410906835,
          117.55951901428176,
          131.6488266258412,
          141.33461752338354,
          147.7706143414888,
          152.090514228731,
          155.04139023746222,
          157.08196399285828
         ],
         "yaxis": "y"
        },
        {
         "legendgroup": "train_20",
         "mode": "markers",
         "name": "Run id in Train 20",
         "type": "scatter",
         "x": [
          0,
          1.6907176376655193,
          5.773910042206273,
          14.178261769173828,
          27.98477279498128,
          45.865270359254026,
          64.9289791631562,
          82.64832060799844,
          97.61916670072311,
          109.34101112134148,
          118.00481802274926,
          124.39240823684412,
          129.1130420005869,
          132.59877665246637,
          135.1681075041741
         ],
         "xaxis": "x",
         "y": [
          0,
          1.7622184686453233,
          6.3114783540333175,
          16.010771096686092,
          31.929240425813873,
          52.22126069092995,
          73.22563108577856,
          92.39396815278603,
          108.25482921759432,
          119.90833079998883,
          127.90869196429642,
          133.30301846614577,
          136.97365941464338,
          139.50077455810865,
          141.25794665539428
         ],
         "yaxis": "y"
        },
        {
         "legendgroup": "train_21",
         "mode": "markers",
         "name": "Run id in Train 21",
         "type": "scatter",
         "x": [
          0,
          1.5195748146028738,
          5.534078736329199,
          14.34267262512248,
          28.699577101254164,
          45.74277964198039,
          61.54190183971102,
          73.97438100140312,
          82.81986886234498,
          88.75222772461386,
          92.59822095273498,
          95.04314887846118,
          96.57967691012072,
          97.53850241594792,
          98.13426493027002
         ],
         "xaxis": "x",
         "y": [
          0,
          1.620265152515728,
          5.901647618708841,
          15.132371669829183,
          29.726016467951638,
          46.40875009206268,
          61.65877330882403,
          73.03263135684985,
          80.84908219261159,
          85.91935871858638,
          89.13596817222333,
          91.12208945632129,
          92.34338704226784,
          93.10575365831309,
          93.58836782899428
         ],
         "yaxis": "y"
        },
        {
         "legendgroup": "train_22",
         "mode": "markers",
         "name": "Run id in Train 22",
         "type": "scatter",
         "x": [
          0,
          2.074756943107576,
          7.095935288897512,
          17.027959125060974,
          32.18701064221906,
          50.16514536683079,
          67.67126701157989,
          82.38584101600017,
          93.18507894811724,
          99.9027997881222,
          103.44557278583376,
          105.20900775495964,
          106.08620802811922,
          106.52281787788957,
          106.74021799592084
         ],
         "xaxis": "x",
         "y": [
          0,
          2.302230393772586,
          7.924405136097629,
          19.149232783560336,
          36.51310817669979,
          57.387199199749666,
          76.92225454583131,
          93.81654019020922,
          106.36226469567163,
          114.19211639810308,
          118.69496849997998,
          121.2217870501269,
          122.59951527615195,
          123.33773487895262,
          123.73383246199083
         ],
         "yaxis": "y"
        },
        {
         "legendgroup": "train_23",
         "mode": "markers",
         "name": "Run id in Train 23",
         "type": "scatter",
         "x": [
          0,
          2.5788314092992546,
          9.08391799950622,
          22.355325442747105,
          43.05925292517488,
          68.4572201776519,
          94.69927810946756,
          118.89950418038664,
          139.4586837337397,
          155.09571063286376,
          165.70565263638912,
          172.83521729628083,
          177.60706929909114,
          180.7927853419405,
          182.9162078795065
         ],
         "xaxis": "x",
         "y": [
          0,
          2.437613048541858,
          8.444280686339443,
          20.404885077328878,
          38.6792534800242,
          61.07397314235666,
          84.65302698997364,
          107.41723824644161,
          125.60307200627392,
          139.61983133410266,
          149.6559976093598,
          156.77637087625078,
          161.8512624233148,
          165.47407811067603,
          168.0481662547013
         ],
         "yaxis": "y"
        },
        {
         "legendgroup": "train_24",
         "mode": "markers",
         "name": "Run id in Train 24",
         "type": "scatter",
         "x": [
          0,
          1.66426423317173,
          6.28576833862229,
          16.81871581715164,
          34.39845395750664,
          55.792510876412905,
          76.52951151727098,
          93.90934063549015,
          107.0000424928104,
          115.930742106806,
          121.46694979008385,
          124.65181785924042,
          126.42315550690796,
          127.40367119806868,
          127.94560044834527
         ],
         "xaxis": "x",
         "y": [
          0,
          1.467965367981277,
          5.487138881266448,
          14.527324097222873,
          29.4932066076897,
          47.76287574924774,
          66.36109184495271,
          80.91618957158047,
          92.2447021867746,
          100.82813759973523,
          106.96290264832525,
          111.15769661861846,
          114.01733140563235,
          115.99322841506458,
          117.36507522351019
         ],
         "yaxis": "y"
        },
        {
         "legendgroup": "train_25",
         "mode": "markers",
         "name": "Run id in Train 25",
         "type": "scatter",
         "x": [
          0,
          2.139220835350532,
          7.650666154814507,
          19.020216486163097,
          36.33486631637721,
          56.361508217905005,
          75.5831271496908,
          92.00148752225614,
          104.90411414250732,
          114.29060239591809,
          120.54718402976414,
          124.44358117060791,
          126.88195406193326,
          128.42635240377606,
          129.41240848852712
         ],
         "xaxis": "x",
         "y": [
          0,
          1.9280671447796163,
          6.906046841577434,
          17.330622541452737,
          33.526244043859386,
          52.47907893963193,
          71.27723943892194,
          86.8240981030181,
          98.44359041059722,
          107.22701374238898,
          113.52191936430799,
          117.92233116076206,
          120.98693061962585,
          123.13453519042855,
          124.63660776915404
         ],
         "yaxis": "y"
        },
        {
         "legendgroup": "train_26",
         "mode": "markers",
         "name": "Run id in Train 26",
         "type": "scatter",
         "x": [
          0,
          1.1989647818124811,
          4.2569952563834015,
          10.99072061373146,
          22.36820286043155,
          36.28419488988094,
          49.22362252143591,
          59.218358350677285,
          66.12246730151067,
          70.59507970313997,
          73.38815516459402,
          75.09582432997499,
          76.12708408346579,
          76.74526512429902,
          77.1142199455744
         ],
         "xaxis": "x",
         "y": [
          0,
          1.4606045357001398,
          5.3684176510572845,
          13.992561461617171,
          28.02168642446681,
          44.47720634389695,
          59.768049758331436,
          71.51231229117326,
          79.44043325813637,
          84.2560036034733,
          87.04787586385088,
          88.6181434204726,
          89.52587826992857,
          90.06247172028426,
          90.381473302081
         ],
         "yaxis": "y"
        },
        {
         "legendgroup": "train_27",
         "mode": "markers",
         "name": "Run id in Train 27",
         "type": "scatter",
         "x": [
          0,
          1.8930838152463207,
          6.803349792833476,
          17.325670319062116,
          34.487246517925776,
          55.795835795296334,
          77.37478351754763,
          96.47572719991511,
          111.84274849980947,
          123.17490344230582,
          130.73354904700537,
          135.5312228645926,
          138.63506651977843,
          140.67349673823577,
          142.02511718930316
         ],
         "xaxis": "x",
         "y": [
          0,
          1.9218344431423837,
          6.828153903184936,
          17.090284033313413,
          33.3760666004804,
          53.157147998981635,
          72.84406384580153,
          89.75056704832903,
          102.79324811682683,
          112.12961342566268,
          118.42657746464086,
          122.60023685512763,
          125.38176110734086,
          127.26018961272788,
          128.53999021614771
         ],
         "yaxis": "y"
        },
        {
         "legendgroup": "train_28",
         "mode": "markers",
         "name": "Run id in Train 28",
         "type": "scatter",
         "x": [
          0,
          1.2570277775090313,
          4.753677752178248,
          13.00157293390872,
          27.996695520031267,
          48.57761844666174,
          71.26974599282754,
          92.94898443035557,
          111.88639150472412,
          127.51874869050408,
          139.9569546616572,
          149.61055844105428,
          156.982000300884,
          162.5451533648477,
          166.70499077235368
         ],
         "xaxis": "x",
         "y": [
          0,
          1.551644741032996,
          5.741134215491148,
          15.106785040931232,
          31.051213648395716,
          52.00772195438084,
          74.77987601965258,
          94.77546294854147,
          112.25935325819286,
          126.04740011394233,
          136.08172318781772,
          143.08430913792662,
          147.93959895644917,
          151.33618240608217,
          153.72987749405482
         ],
         "yaxis": "y"
        },
        {
         "legendgroup": "train_29",
         "mode": "markers",
         "name": "Run id in Train 29",
         "type": "scatter",
         "x": [
          0,
          1.9803879570113108,
          7.335950553180955,
          19.10630044948672,
          38.25515850704539,
          61.64155365633496,
          85.01194490886684,
          105.6347144219525,
          122.45916803060658,
          135.45765423391487,
          145.03670618229216,
          151.6784846742583,
          155.95509590517716,
          158.71317689674677,
          160.52076678066763
         ],
         "xaxis": "x",
         "y": [
          0,
          2.114296940102113,
          7.455903998866136,
          18.474313868341778,
          35.69780693478311,
          56.22353095267075,
          75.9805383863724,
          91.56034804150981,
          103.43890365463919,
          111.78575309140825,
          117.31752345273873,
          120.83933446104558,
          123.01379431069198,
          124.36979135021383,
          125.23193151357229
         ],
         "yaxis": "y"
        },
        {
         "legendgroup": "train_30",
         "mode": "markers",
         "name": "Run id in Train 30",
         "type": "scatter",
         "x": [
          0,
          1.7280128504514205,
          6.313311015870646,
          16.47720044034038,
          33.69543731260756,
          56.12825880125742,
          80.51290379084037,
          104.26221280436164,
          125.80458370400444,
          144.40545567099667,
          159.91633967431395,
          172.54185897546512,
          182.63371646954985,
          190.5570264301286,
          196.60147929841384
         ],
         "xaxis": "x",
         "y": [
          0,
          1.8627183901097242,
          6.701007646825238,
          16.933050163457292,
          33.03184560168919,
          52.171973223355415,
          71.53820950637778,
          87.77053764330007,
          100.00812000901833,
          109.30165374716108,
          115.95808160696652,
          120.60973825981995,
          123.86562178737975,
          126.16047554190963,
          127.77233743575943
         ],
         "yaxis": "y"
        },
        {
         "legendgroup": "test_0",
         "mode": "markers",
         "name": "Run id in Test 0",
         "type": "scatter",
         "x": [
          0,
          2.1824297539180297,
          8.166083041116508,
          21.321369967573112,
          42.85414584728475,
          69.79089068242651,
          97.66797157992208,
          123.28266885228646,
          145.1452661433552,
          162.939326203935,
          176.9454542072082,
          187.6605436533524,
          195.7213811855037,
          201.77002614645343,
          206.29555670809924
         ],
         "xaxis": "x2",
         "y": [
          0,
          2.373067514758139,
          8.217611859769669,
          20.10122797459388,
          39.08758663569077,
          63.302772853180365,
          88.52115500041455,
          110.69394461964671,
          128.19654083437908,
          140.7200436691612,
          148.9577419023577,
          154.23743905193754,
          157.61817537940541,
          159.81973037725427,
          161.27115123588305
         ],
         "yaxis": "y2"
        },
        {
         "legendgroup": "test_1",
         "mode": "markers",
         "name": "Run id in Test 1",
         "type": "scatter",
         "x": [
          0,
          1.5991499982104411,
          5.445699389353575,
          13.581432771597257,
          27.689681352073706,
          47.21496460203044,
          69.54534066005401,
          91.89286610534306,
          112.38249670914288,
          130.1236250206878,
          145.0020761195221,
          157.1975521219229,
          167.00514815735104,
          174.77073081852015,
          180.83847709015123
         ],
         "xaxis": "x2",
         "y": [
          0,
          1.9860419254493762,
          7.063304454495182,
          17.53579745274766,
          33.73992709798069,
          53.17745809110894,
          73.09787458143086,
          91.72378721515943,
          106.88979434513509,
          118.78519773742354,
          127.5411807945075,
          133.87252613700693,
          138.43926161029313,
          141.72769828530906,
          144.0864185080237
         ],
         "yaxis": "y2"
        },
        {
         "legendgroup": "test_2",
         "mode": "markers",
         "name": "Run id in Test 2",
         "type": "scatter",
         "x": [
          0,
          1.5581891741849512,
          5.606126893705409,
          14.498929324203344,
          29.82798216505632,
          50.41499972160747,
          73.19671246341571,
          95.3587673773708,
          115.20028515974414,
          131.99273880744107,
          145.60559285891645,
          156.2873977451865,
          164.63072407738295,
          171.14171656847114,
          176.2095735657846
         ],
         "xaxis": "x2",
         "y": [
          0,
          1.6694988661793215,
          6.103259404202978,
          15.817049409296907,
          32.01869215539481,
          52.952114721270675,
          75.5207903249346,
          95.45815927551945,
          112.48726271747424,
          125.86161905246905,
          135.57376168239543,
          142.36798581616128,
          147.10049778663566,
          150.4234731069403,
          152.7679991392945
         ],
         "yaxis": "y2"
        },
        {
         "legendgroup": "test_3",
         "mode": "markers",
         "name": "Run id in Test 3",
         "type": "scatter",
         "x": [
          0,
          1.7487860554820465,
          6.311671256918155,
          16.382654836909964,
          33.66660265814613,
          56.58603621625323,
          81.56847238120447,
          105.47928252536023,
          126.51381224589684,
          144.02257896315942,
          158.0615217586803,
          168.90191538273123,
          176.33605979156945,
          181.14518553707703,
          184.24826675684804
         ],
         "xaxis": "x2",
         "y": [
          0,
          1.7575109313526585,
          6.396035822205613,
          16.31151526271879,
          32.0830682622309,
          51.31593469355005,
          71.50595228004485,
          89.62244228135225,
          104.72931227885695,
          116.94846483832431,
          126.15105672516661,
          132.85173296094948,
          137.68926399296186,
          141.17852479322687,
          143.68618089422898
         ],
         "yaxis": "y2"
        },
        {
         "legendgroup": "test_4",
         "mode": "markers",
         "name": "Run id in Test 4",
         "type": "scatter",
         "x": [
          0,
          2.40865700404835,
          9.007605339128604,
          23.0960309095346,
          44.650055160271,
          69.37126336604697,
          92.90356906065072,
          112.89704265210062,
          128.56760159133748,
          139.92880141496798,
          147.5636069024654,
          152.73889571644432,
          156.32842633487192,
          158.8502092384601,
          160.63502139951692
         ],
         "xaxis": "x2",
         "y": [
          0,
          2.1539067189814287,
          7.5463676084311615,
          18.36937459509203,
          34.40121781150212,
          51.99884838527229,
          67.48370583194976,
          80.0685017946486,
          88.74640126567677,
          94.49376343206669,
          98.24549439687281,
          100.7129359354611,
          102.3145957203469,
          103.3566372096825,
          104.04218355611674
         ],
         "yaxis": "y2"
        },
        {
         "legendgroup": "test_5",
         "mode": "markers",
         "name": "Run id in Test 5",
         "type": "scatter",
         "x": [
          0,
          1.2545144440534064,
          4.985417532879248,
          14.260275885034812,
          31.234881024706453,
          53.49583974096605,
          76.37935894351298,
          96.68647952280352,
          113.11097089305292,
          125.47091067391106,
          134.08437572025375,
          139.54476133203477,
          142.9131133751618,
          145.0343385158262,
          146.38776809777494
         ],
         "xaxis": "x2",
         "y": [
          0,
          1.3899563018787449,
          5.2154630668258,
          13.967528327280881,
          28.92672719706317,
          48.01374241552366,
          68.10904115392793,
          84.67469858478914,
          97.94458545900827,
          107.87129125617204,
          114.8063100797803,
          119.4721926908244,
          122.63908874662195,
          124.82437065963559,
          126.34147694210873
         ],
         "yaxis": "y2"
        },
        {
         "legendgroup": "test_6",
         "mode": "markers",
         "name": "Run id in Test 6",
         "type": "scatter",
         "x": [
          0,
          2.4676429401569653,
          8.847402570973394,
          21.92022427914256,
          42.04251997927221,
          66.3806237114453,
          91.4711752566404,
          114.89076395797905,
          135.40670329147326,
          152.63994276475762,
          166.70916056328812,
          177.96967910428168,
          186.83664250707432,
          193.7065213911428,
          198.882259098652
         ],
         "xaxis": "x2",
         "y": [
          0,
          2.349200131731069,
          8.214954434365048,
          20.014687159369842,
          37.89591186891012,
          59.0950149458698,
          80.86039333138113,
          100.5307333778668,
          115.77644580151555,
          127.6709914137333,
          136.33576909680778,
          142.53294558613024,
          146.94586442231548,
          150.0912096887068,
          152.32029637649163
         ],
         "yaxis": "y2"
        },
        {
         "legendgroup": "test_7",
         "mode": "markers",
         "name": "Run id in Test 7",
         "type": "scatter",
         "x": [
          0,
          2.3615459556658216,
          8.310160827313466,
          20.67139833266929,
          40.36585105311375,
          64.7292302489265,
          89.83125897208262,
          112.84560274344835,
          132.43594927073886,
          148.2954069606308,
          160.66288615971445,
          170.12038236611113,
          177.31264510895502,
          182.75317820372044,
          186.84944474519827
         ],
         "xaxis": "x2",
         "y": [
          0,
          2.186849436348838,
          7.740329318061162,
          19.072988474442987,
          36.347994655255995,
          56.74852054966643,
          77.51930395298946,
          95.87022823023777,
          110.75325639525664,
          122.71359081356229,
          131.68304302996214,
          138.19471763434782,
          142.84219681275337,
          146.1555475368371,
          148.51311901829854
         ],
         "yaxis": "y2"
        },
        {
         "legendgroup": "test_8",
         "mode": "markers",
         "name": "Run id in Test 8",
         "type": "scatter",
         "x": [
          0,
          1.4553196405346558,
          5.745846264970134,
          16.172136437495485,
          34.67671064022556,
          58.57066013499378,
          83.3065087273045,
          105.72898824643453,
          124.44509749634368,
          139.24169506314482,
          150.50390826076975,
          158.88275265089592,
          165.05193713369445,
          169.55607062164327,
          172.82287801702037
         ],
         "xaxis": "x2",
         "y": [
          0,
          1.6109192812088562,
          5.94640496265367,
          15.45560591712351,
          30.888112524768626,
          49.82553833606166,
          69.8327469923652,
          87.064121553172,
          101.04362405681312,
          112.25350170160715,
          120.62749355645701,
          126.65836143278452,
          130.98562484703015,
          134.0980993773219,
          136.32660596204758
         ],
         "yaxis": "y2"
        },
        {
         "legendgroup": "test_9",
         "mode": "markers",
         "name": "Run id in Test 9",
         "type": "scatter",
         "x": [
          0,
          1.8253206890696088,
          6.829555224571791,
          18.279574448197184,
          38.361024117816335,
          65.14647238107932,
          94.2447821690744,
          121.97130459806723,
          146.32540899281685,
          166.62762006243048,
          182.94611833504848,
          195.67525930047435,
          205.46490282737048,
          212.9690451781578,
          218.6933292315336
         ],
         "xaxis": "x2",
         "y": [
          0,
          2.0655139280553465,
          7.2304565158521585,
          17.90418631782906,
          35.00584863153241,
          56.15852565550943,
          76.64995441372,
          93.58039659171256,
          106.61948602014232,
          115.15888986898896,
          120.33062469870825,
          123.33165227308685,
          125.01907187930775,
          125.96692875413096,
          126.5087937646011
         ],
         "yaxis": "y2"
        },
        {
         "legendgroup": "test_10",
         "mode": "markers",
         "name": "Run id in Test 10",
         "type": "scatter",
         "x": [
          0,
          1.1623390875862771,
          4.409440947202533,
          12.199464858319589,
          26.68259599173664,
          46.92408425738573,
          69.74911784545765,
          92.31934092239872,
          112.87882510600517,
          130.5969978701169,
          145.28440753789718,
          157.14016520309832,
          166.55053242887047,
          173.9075937931368,
          179.57004361756432
         ],
         "xaxis": "x2",
         "y": [
          0,
          1.3541406164425367,
          5.088849013920316,
          13.655892274090434,
          28.283128951462324,
          46.80863265822829,
          66.18957750246166,
          82.22256736700307,
          94.70248458306571,
          103.85842873001894,
          110.1565112915766,
          114.35784661737951,
          117.21526864644541,
          119.19417771358273,
          120.56908715816375
         ],
         "yaxis": "y2"
        },
        {
         "legendgroup": "test_11",
         "mode": "markers",
         "name": "Run id in Test 11",
         "type": "scatter",
         "x": [
          0,
          2.1172702949179154,
          7.305502925025182,
          18.02605086353491,
          35.519642006796616,
          58.07810892501568,
          82.3723933094982,
          105.56179602327548,
          126.02557042848376,
          143.17744112838247,
          157.05998379428294,
          167.97662820808074,
          176.11974191251963,
          181.57186533940825,
          185.1574068420421
         ],
         "xaxis": "x2",
         "y": [
          0,
          2.313707539503146,
          8.037773820941313,
          19.53393350074597,
          37.20641502217827,
          58.5857089992867,
          80.22917049036529,
          100.0971079788525,
          115.4459576244457,
          126.6950775554448,
          134.4159083932329,
          139.6849670800605,
          143.30980933808314,
          145.82304830958705,
          147.56789430707047
         ],
         "yaxis": "y2"
        },
        {
         "legendgroup": "test_12",
         "mode": "markers",
         "name": "Run id in Test 12",
         "type": "scatter",
         "x": [
          0,
          1.6669845466734208,
          6.223705621680365,
          16.59088977088941,
          34.42835644756829,
          57.35162646503026,
          80.93980492612349,
          101.97199222804544,
          119.1024912169146,
          132.2086469137818,
          141.70604522424804,
          148.3840451309173,
          153.0930985296731,
          156.41566199650234,
          158.757799982056
         ],
         "xaxis": "x2",
         "y": [
          0,
          1.669829442923577,
          6.042741980634123,
          15.574541415325966,
          31.54293996866981,
          52.188587963442906,
          74.01767105891567,
          93.35145091223896,
          109.09974584366063,
          120.70408994516048,
          128.6496147822054,
          133.9582594362727,
          137.54842355942353,
          140.01355614174017,
          141.71970478912579
         ],
         "yaxis": "y2"
        },
        {
         "legendgroup": "test_13",
         "mode": "markers",
         "name": "Run id in Test 13",
         "type": "scatter",
         "x": [
          0,
          1.480517386218695,
          5.631300891839221,
          15.25628823233654,
          31.97882529328608,
          53.53959837438649,
          75.66593620578863,
          95.26232853471676,
          111.11015878520422,
          123.20632524569982,
          132.0670149960691,
          138.3390254866564,
          142.71585501498006,
          145.75789396620863,
          147.86540674531656
         ],
         "xaxis": "x2",
         "y": [
          0,
          1.5237936130450143,
          5.6376245722266685,
          14.983810507227071,
          31.53404888362027,
          54.57458905936037,
          80.88727904526694,
          104.98004639325542,
          126.30796761628088,
          143.09684333413713,
          155.1735985740743,
          163.5329601848216,
          169.32965716569325,
          173.39361674343678,
          176.26004958454104
         ],
         "yaxis": "y2"
        },
        {
         "legendgroup": "test_14",
         "mode": "markers",
         "name": "Run id in Test 14",
         "type": "scatter",
         "x": [
          0,
          1.5721519049958252,
          5.468812184864578,
          13.767322353810854,
          27.867271337341503,
          46.58830393438672,
          66.93456569631056,
          86.22762971965741,
          102.96809255545382,
          116.65593838561732,
          127.3741122464817,
          135.45641475699983,
          141.40764098599195,
          145.79082291889162,
          149.01718551175938
         ],
         "xaxis": "x2",
         "y": [
          0,
          1.7360751559875038,
          6.2833784226194895,
          16.281521132555646,
          33.34183428117419,
          56.05773264725572,
          81.07228537734163,
          102.89176688484818,
          120.7469165299718,
          134.22166160057054,
          143.55143551402185,
          149.79202096896455,
          154.001910554406,
          156.89065514708955,
          158.88416778634613
         ],
         "yaxis": "y2"
        },
        {
         "legendgroup": "test_15",
         "mode": "markers",
         "name": "Run id in Test 15",
         "type": "scatter",
         "x": [
          0,
          2.280356634684465,
          7.812798471789079,
          18.919758526955192,
          36.24342981960826,
          57.50669578617706,
          79.40540226064152,
          99.5274386937432,
          116.69715637471636,
          130.63477911991845,
          141.67892666222323,
          150.31070315704335,
          156.97640134345704,
          162.0746371518185,
          165.94506113740152
         ],
         "xaxis": "x2",
         "y": [
          0,
          2.240075668392222,
          7.855414087376173,
          19.143770756308125,
          36.12598461606582,
          55.96427507841763,
          75.88490482296362,
          94.3872108659941,
          108.93286821065983,
          120.25821842503368,
          128.56240160019246,
          134.57373299451265,
          138.90570633406946,
          142.01895035281885,
          144.24396684226377
         ],
         "yaxis": "y2"
        },
        {
         "legendgroup": "test_16",
         "mode": "markers",
         "name": "Run id in Test 16",
         "type": "scatter",
         "x": [
          0,
          2.7019171141585354,
          10.14257170143317,
          25.952339979578465,
          50.05769408008341,
          77.9687704938532,
          105.0579405178387,
          128.66524614140488,
          147.89251612956977,
          162.878155087556,
          174.23036359112152,
          182.68235949974505,
          188.89180975560112,
          193.4054853992409,
          196.6582813915627
         ],
         "xaxis": "x2",
         "y": [
          0,
          2.3560254875639104,
          8.201712924819772,
          19.81877405835697,
          37.00055394319575,
          56.39568413695061,
          74.86394021689689,
          91.01370857107344,
          102.71274092348554,
          111.29698558844294,
          117.32719524285423,
          121.55786072716634,
          124.51665475250138,
          126.58830197273882,
          128.03369973876067
         ],
         "yaxis": "y2"
        },
        {
         "legendgroup": "test_17",
         "mode": "markers",
         "name": "Run id in Test 17",
         "type": "scatter",
         "x": [
          0,
          1.8779094088172577,
          6.379040692614926,
          15.682901265397506,
          31.02196122153285,
          50.71519426730839,
          71.24796684377188,
          89.63539028590327,
          104.21879198709198,
          114.5249885013283,
          121.3952226335185,
          126.0695701950539,
          129.3196645816352,
          131.6152102822434,
          133.25419096856038
         ],
         "xaxis": "x2",
         "y": [
          0,
          2.3750634768833687,
          8.175515591302489,
          19.519987355743538,
          36.10104664016763,
          54.26673169095868,
          69.65572686244256,
          82.54073144876813,
          91.18547454622984,
          96.24714421235035,
          99.08948616652188,
          100.71141018633448,
          101.5995585919333,
          102.06556293524966,
          102.30620506520944
         ],
         "yaxis": "y2"
        },
        {
         "legendgroup": "test_18",
         "mode": "markers",
         "name": "Run id in Test 18",
         "type": "scatter",
         "x": [
          0,
          2.032527999671584,
          7.3575136815364255,
          18.857802036212608,
          37.84865876590555,
          61.97018562355187,
          87.23460245441795,
          110.61493495356896,
          130.5744118175516,
          146.63986274564618,
          159.29214245571052,
          169.21694855690444,
          176.93654779895664,
          182.8910817568976,
          187.45209020865843
         ],
         "xaxis": "x2",
         "y": [
          0,
          2.2180454201211193,
          7.676244255036005,
          18.560231208568215,
          35.05230843517939,
          54.16886834346558,
          71.69396871325964,
          87.17492482602391,
          98.31363642063482,
          105.3762161618083,
          109.61364879165927,
          112.18594100186449,
          113.76502776875552,
          114.74201751679746,
          115.3558076459598
         ],
         "yaxis": "y2"
        }
       ],
       "layout": {
        "annotations": [
         {
          "font": {
           "size": 16
          },
          "showarrow": false,
          "text": "Train Set - X:Lac <br> R^2 = 0.912 <br> Abs RMSE = 10.18 <br> Rel RMSE = 0.205",
          "x": 0.225,
          "xanchor": "center",
          "xref": "paper",
          "y": 1,
          "yanchor": "bottom",
          "yref": "paper"
         },
         {
          "font": {
           "size": 16
          },
          "showarrow": false,
          "text": "Test Set - X:Lac <br> R^2 = 0.858 <br> Abs RMSE = 23.299 <br> Rel RMSE = 0.349",
          "x": 0.775,
          "xanchor": "center",
          "xref": "paper",
          "y": 1,
          "yanchor": "bottom",
          "yref": "paper"
         }
        ],
        "shapes": [
         {
          "layer": "above",
          "line": {
           "dash": "dash"
          },
          "type": "line",
          "x0": 0,
          "x1": 168.0481662547013,
          "y0": 0,
          "y1": 168.0481662547013
         },
         {
          "layer": "above",
          "line": {
           "dash": "dash"
          },
          "type": "line",
          "x0": 0,
          "x1": 176.26004958454104,
          "xref": "x2",
          "y0": 0,
          "y1": 176.26004958454104,
          "yref": "y2"
         }
        ],
        "template": {
         "data": {
          "bar": [
           {
            "error_x": {
             "color": "#2a3f5f"
            },
            "error_y": {
             "color": "#2a3f5f"
            },
            "marker": {
             "line": {
              "color": "white",
              "width": 0.5
             },
             "pattern": {
              "fillmode": "overlay",
              "size": 10,
              "solidity": 0.2
             }
            },
            "type": "bar"
           }
          ],
          "barpolar": [
           {
            "marker": {
             "line": {
              "color": "white",
              "width": 0.5
             },
             "pattern": {
              "fillmode": "overlay",
              "size": 10,
              "solidity": 0.2
             }
            },
            "type": "barpolar"
           }
          ],
          "carpet": [
           {
            "aaxis": {
             "endlinecolor": "#2a3f5f",
             "gridcolor": "#C8D4E3",
             "linecolor": "#C8D4E3",
             "minorgridcolor": "#C8D4E3",
             "startlinecolor": "#2a3f5f"
            },
            "baxis": {
             "endlinecolor": "#2a3f5f",
             "gridcolor": "#C8D4E3",
             "linecolor": "#C8D4E3",
             "minorgridcolor": "#C8D4E3",
             "startlinecolor": "#2a3f5f"
            },
            "type": "carpet"
           }
          ],
          "choropleth": [
           {
            "colorbar": {
             "outlinewidth": 0,
             "ticks": ""
            },
            "type": "choropleth"
           }
          ],
          "contour": [
           {
            "colorbar": {
             "outlinewidth": 0,
             "ticks": ""
            },
            "colorscale": [
             [
              0,
              "#0d0887"
             ],
             [
              0.1111111111111111,
              "#46039f"
             ],
             [
              0.2222222222222222,
              "#7201a8"
             ],
             [
              0.3333333333333333,
              "#9c179e"
             ],
             [
              0.4444444444444444,
              "#bd3786"
             ],
             [
              0.5555555555555556,
              "#d8576b"
             ],
             [
              0.6666666666666666,
              "#ed7953"
             ],
             [
              0.7777777777777778,
              "#fb9f3a"
             ],
             [
              0.8888888888888888,
              "#fdca26"
             ],
             [
              1,
              "#f0f921"
             ]
            ],
            "type": "contour"
           }
          ],
          "contourcarpet": [
           {
            "colorbar": {
             "outlinewidth": 0,
             "ticks": ""
            },
            "type": "contourcarpet"
           }
          ],
          "heatmap": [
           {
            "colorbar": {
             "outlinewidth": 0,
             "ticks": ""
            },
            "colorscale": [
             [
              0,
              "#0d0887"
             ],
             [
              0.1111111111111111,
              "#46039f"
             ],
             [
              0.2222222222222222,
              "#7201a8"
             ],
             [
              0.3333333333333333,
              "#9c179e"
             ],
             [
              0.4444444444444444,
              "#bd3786"
             ],
             [
              0.5555555555555556,
              "#d8576b"
             ],
             [
              0.6666666666666666,
              "#ed7953"
             ],
             [
              0.7777777777777778,
              "#fb9f3a"
             ],
             [
              0.8888888888888888,
              "#fdca26"
             ],
             [
              1,
              "#f0f921"
             ]
            ],
            "type": "heatmap"
           }
          ],
          "heatmapgl": [
           {
            "colorbar": {
             "outlinewidth": 0,
             "ticks": ""
            },
            "colorscale": [
             [
              0,
              "#0d0887"
             ],
             [
              0.1111111111111111,
              "#46039f"
             ],
             [
              0.2222222222222222,
              "#7201a8"
             ],
             [
              0.3333333333333333,
              "#9c179e"
             ],
             [
              0.4444444444444444,
              "#bd3786"
             ],
             [
              0.5555555555555556,
              "#d8576b"
             ],
             [
              0.6666666666666666,
              "#ed7953"
             ],
             [
              0.7777777777777778,
              "#fb9f3a"
             ],
             [
              0.8888888888888888,
              "#fdca26"
             ],
             [
              1,
              "#f0f921"
             ]
            ],
            "type": "heatmapgl"
           }
          ],
          "histogram": [
           {
            "marker": {
             "pattern": {
              "fillmode": "overlay",
              "size": 10,
              "solidity": 0.2
             }
            },
            "type": "histogram"
           }
          ],
          "histogram2d": [
           {
            "colorbar": {
             "outlinewidth": 0,
             "ticks": ""
            },
            "colorscale": [
             [
              0,
              "#0d0887"
             ],
             [
              0.1111111111111111,
              "#46039f"
             ],
             [
              0.2222222222222222,
              "#7201a8"
             ],
             [
              0.3333333333333333,
              "#9c179e"
             ],
             [
              0.4444444444444444,
              "#bd3786"
             ],
             [
              0.5555555555555556,
              "#d8576b"
             ],
             [
              0.6666666666666666,
              "#ed7953"
             ],
             [
              0.7777777777777778,
              "#fb9f3a"
             ],
             [
              0.8888888888888888,
              "#fdca26"
             ],
             [
              1,
              "#f0f921"
             ]
            ],
            "type": "histogram2d"
           }
          ],
          "histogram2dcontour": [
           {
            "colorbar": {
             "outlinewidth": 0,
             "ticks": ""
            },
            "colorscale": [
             [
              0,
              "#0d0887"
             ],
             [
              0.1111111111111111,
              "#46039f"
             ],
             [
              0.2222222222222222,
              "#7201a8"
             ],
             [
              0.3333333333333333,
              "#9c179e"
             ],
             [
              0.4444444444444444,
              "#bd3786"
             ],
             [
              0.5555555555555556,
              "#d8576b"
             ],
             [
              0.6666666666666666,
              "#ed7953"
             ],
             [
              0.7777777777777778,
              "#fb9f3a"
             ],
             [
              0.8888888888888888,
              "#fdca26"
             ],
             [
              1,
              "#f0f921"
             ]
            ],
            "type": "histogram2dcontour"
           }
          ],
          "mesh3d": [
           {
            "colorbar": {
             "outlinewidth": 0,
             "ticks": ""
            },
            "type": "mesh3d"
           }
          ],
          "parcoords": [
           {
            "line": {
             "colorbar": {
              "outlinewidth": 0,
              "ticks": ""
             }
            },
            "type": "parcoords"
           }
          ],
          "pie": [
           {
            "automargin": true,
            "type": "pie"
           }
          ],
          "scatter": [
           {
            "fillpattern": {
             "fillmode": "overlay",
             "size": 10,
             "solidity": 0.2
            },
            "type": "scatter"
           }
          ],
          "scatter3d": [
           {
            "line": {
             "colorbar": {
              "outlinewidth": 0,
              "ticks": ""
             }
            },
            "marker": {
             "colorbar": {
              "outlinewidth": 0,
              "ticks": ""
             }
            },
            "type": "scatter3d"
           }
          ],
          "scattercarpet": [
           {
            "marker": {
             "colorbar": {
              "outlinewidth": 0,
              "ticks": ""
             }
            },
            "type": "scattercarpet"
           }
          ],
          "scattergeo": [
           {
            "marker": {
             "colorbar": {
              "outlinewidth": 0,
              "ticks": ""
             }
            },
            "type": "scattergeo"
           }
          ],
          "scattergl": [
           {
            "marker": {
             "colorbar": {
              "outlinewidth": 0,
              "ticks": ""
             }
            },
            "type": "scattergl"
           }
          ],
          "scattermapbox": [
           {
            "marker": {
             "colorbar": {
              "outlinewidth": 0,
              "ticks": ""
             }
            },
            "type": "scattermapbox"
           }
          ],
          "scatterpolar": [
           {
            "marker": {
             "colorbar": {
              "outlinewidth": 0,
              "ticks": ""
             }
            },
            "type": "scatterpolar"
           }
          ],
          "scatterpolargl": [
           {
            "marker": {
             "colorbar": {
              "outlinewidth": 0,
              "ticks": ""
             }
            },
            "type": "scatterpolargl"
           }
          ],
          "scatterternary": [
           {
            "marker": {
             "colorbar": {
              "outlinewidth": 0,
              "ticks": ""
             }
            },
            "type": "scatterternary"
           }
          ],
          "surface": [
           {
            "colorbar": {
             "outlinewidth": 0,
             "ticks": ""
            },
            "colorscale": [
             [
              0,
              "#0d0887"
             ],
             [
              0.1111111111111111,
              "#46039f"
             ],
             [
              0.2222222222222222,
              "#7201a8"
             ],
             [
              0.3333333333333333,
              "#9c179e"
             ],
             [
              0.4444444444444444,
              "#bd3786"
             ],
             [
              0.5555555555555556,
              "#d8576b"
             ],
             [
              0.6666666666666666,
              "#ed7953"
             ],
             [
              0.7777777777777778,
              "#fb9f3a"
             ],
             [
              0.8888888888888888,
              "#fdca26"
             ],
             [
              1,
              "#f0f921"
             ]
            ],
            "type": "surface"
           }
          ],
          "table": [
           {
            "cells": {
             "fill": {
              "color": "#EBF0F8"
             },
             "line": {
              "color": "white"
             }
            },
            "header": {
             "fill": {
              "color": "#C8D4E3"
             },
             "line": {
              "color": "white"
             }
            },
            "type": "table"
           }
          ]
         },
         "layout": {
          "annotationdefaults": {
           "arrowcolor": "#2a3f5f",
           "arrowhead": 0,
           "arrowwidth": 1
          },
          "autotypenumbers": "strict",
          "coloraxis": {
           "colorbar": {
            "outlinewidth": 0,
            "ticks": ""
           }
          },
          "colorscale": {
           "diverging": [
            [
             0,
             "#8e0152"
            ],
            [
             0.1,
             "#c51b7d"
            ],
            [
             0.2,
             "#de77ae"
            ],
            [
             0.3,
             "#f1b6da"
            ],
            [
             0.4,
             "#fde0ef"
            ],
            [
             0.5,
             "#f7f7f7"
            ],
            [
             0.6,
             "#e6f5d0"
            ],
            [
             0.7,
             "#b8e186"
            ],
            [
             0.8,
             "#7fbc41"
            ],
            [
             0.9,
             "#4d9221"
            ],
            [
             1,
             "#276419"
            ]
           ],
           "sequential": [
            [
             0,
             "#0d0887"
            ],
            [
             0.1111111111111111,
             "#46039f"
            ],
            [
             0.2222222222222222,
             "#7201a8"
            ],
            [
             0.3333333333333333,
             "#9c179e"
            ],
            [
             0.4444444444444444,
             "#bd3786"
            ],
            [
             0.5555555555555556,
             "#d8576b"
            ],
            [
             0.6666666666666666,
             "#ed7953"
            ],
            [
             0.7777777777777778,
             "#fb9f3a"
            ],
            [
             0.8888888888888888,
             "#fdca26"
            ],
            [
             1,
             "#f0f921"
            ]
           ],
           "sequentialminus": [
            [
             0,
             "#0d0887"
            ],
            [
             0.1111111111111111,
             "#46039f"
            ],
            [
             0.2222222222222222,
             "#7201a8"
            ],
            [
             0.3333333333333333,
             "#9c179e"
            ],
            [
             0.4444444444444444,
             "#bd3786"
            ],
            [
             0.5555555555555556,
             "#d8576b"
            ],
            [
             0.6666666666666666,
             "#ed7953"
            ],
            [
             0.7777777777777778,
             "#fb9f3a"
            ],
            [
             0.8888888888888888,
             "#fdca26"
            ],
            [
             1,
             "#f0f921"
            ]
           ]
          },
          "colorway": [
           "#636efa",
           "#EF553B",
           "#00cc96",
           "#ab63fa",
           "#FFA15A",
           "#19d3f3",
           "#FF6692",
           "#B6E880",
           "#FF97FF",
           "#FECB52"
          ],
          "font": {
           "color": "#2a3f5f"
          },
          "geo": {
           "bgcolor": "white",
           "lakecolor": "white",
           "landcolor": "white",
           "showlakes": true,
           "showland": true,
           "subunitcolor": "#C8D4E3"
          },
          "hoverlabel": {
           "align": "left"
          },
          "hovermode": "closest",
          "mapbox": {
           "style": "light"
          },
          "paper_bgcolor": "white",
          "plot_bgcolor": "white",
          "polar": {
           "angularaxis": {
            "gridcolor": "#EBF0F8",
            "linecolor": "#EBF0F8",
            "ticks": ""
           },
           "bgcolor": "white",
           "radialaxis": {
            "gridcolor": "#EBF0F8",
            "linecolor": "#EBF0F8",
            "ticks": ""
           }
          },
          "scene": {
           "xaxis": {
            "backgroundcolor": "white",
            "gridcolor": "#DFE8F3",
            "gridwidth": 2,
            "linecolor": "#EBF0F8",
            "showbackground": true,
            "ticks": "",
            "zerolinecolor": "#EBF0F8"
           },
           "yaxis": {
            "backgroundcolor": "white",
            "gridcolor": "#DFE8F3",
            "gridwidth": 2,
            "linecolor": "#EBF0F8",
            "showbackground": true,
            "ticks": "",
            "zerolinecolor": "#EBF0F8"
           },
           "zaxis": {
            "backgroundcolor": "white",
            "gridcolor": "#DFE8F3",
            "gridwidth": 2,
            "linecolor": "#EBF0F8",
            "showbackground": true,
            "ticks": "",
            "zerolinecolor": "#EBF0F8"
           }
          },
          "shapedefaults": {
           "line": {
            "color": "#2a3f5f"
           }
          },
          "ternary": {
           "aaxis": {
            "gridcolor": "#DFE8F3",
            "linecolor": "#A2B1C6",
            "ticks": ""
           },
           "baxis": {
            "gridcolor": "#DFE8F3",
            "linecolor": "#A2B1C6",
            "ticks": ""
           },
           "bgcolor": "white",
           "caxis": {
            "gridcolor": "#DFE8F3",
            "linecolor": "#A2B1C6",
            "ticks": ""
           }
          },
          "title": {
           "x": 0.05
          },
          "xaxis": {
           "automargin": true,
           "gridcolor": "#EBF0F8",
           "linecolor": "#EBF0F8",
           "ticks": "",
           "title": {
            "standoff": 15
           },
           "zerolinecolor": "#EBF0F8",
           "zerolinewidth": 2
          },
          "yaxis": {
           "automargin": true,
           "gridcolor": "#EBF0F8",
           "linecolor": "#EBF0F8",
           "ticks": "",
           "title": {
            "standoff": 15
           },
           "zerolinecolor": "#EBF0F8",
           "zerolinewidth": 2
          }
         }
        },
        "width": 1600,
        "xaxis": {
         "anchor": "y",
         "domain": [
          0,
          0.45
         ],
         "title": {
          "text": "Observed values"
         }
        },
        "xaxis2": {
         "anchor": "y2",
         "domain": [
          0.55,
          1
         ],
         "title": {
          "text": "Observed values"
         }
        },
        "yaxis": {
         "anchor": "x",
         "domain": [
          0,
          1
         ],
         "title": {
          "text": "Predicted values"
         }
        },
        "yaxis2": {
         "anchor": "x2",
         "domain": [
          0,
          1
         ],
         "title": {
          "text": "Predicted values"
         }
        }
       }
      },
      "text/html": [
       "<div>                            <div id=\"7d998e58-f97e-4a97-aa31-5cfd69832cba\" class=\"plotly-graph-div\" style=\"height:525px; width:1600px;\"></div>            <script type=\"text/javascript\">                require([\"plotly\"], function(Plotly) {                    window.PLOTLYENV=window.PLOTLYENV || {};                                    if (document.getElementById(\"7d998e58-f97e-4a97-aa31-5cfd69832cba\")) {                    Plotly.newPlot(                        \"7d998e58-f97e-4a97-aa31-5cfd69832cba\",                        [{\"legendgroup\":\"train_0\",\"mode\":\"markers\",\"name\":\"Run id in Train 0\",\"x\":[0.0,1.69345805704731,5.897022174496003,14.760391525541584,29.38859302970828,47.82798059583144,66.28877804594478,81.69288657721607,92.67703047605649,99.51314361635391,103.3982341018014,105.5137608534153,106.64771326447794,107.25237808915796,107.57398917080884],\"y\":[0.0,1.7874826481604744,6.415107653454032,16.333460028364616,32.57346323794388,52.79245980930798,72.81502230194396,88.97376184729002,101.85325746018364,110.86083868921597,116.75853673369184,120.45826514298254,122.73961177219574,124.16810462808496,125.08499433036785],\"type\":\"scatter\",\"xaxis\":\"x\",\"yaxis\":\"y\"},{\"legendgroup\":\"train_1\",\"mode\":\"markers\",\"name\":\"Run id in Train 1\",\"x\":[0.0,1.2591174351446812,4.363787969322462,11.105807850200534,23.08674531626167,39.77379364032567,58.33909249352142,75.64227711825473,89.5941838255521,99.3928495418756,105.4740473218795,108.9699250499719,110.918427122675,111.99516193361828,112.58794736476844],\"y\":[0.0,1.423686749984015,5.2451727177769545,13.931138044938455,29.113452083779755,48.95644865614526,68.88600338509039,84.7147816004747,97.53231886509644,106.02267333451779,111.20829444239415,114.17218921193476,115.82271471125834,116.74975892404196,117.28626522848508],\"type\":\"scatter\",\"xaxis\":\"x\",\"yaxis\":\"y\"},{\"legendgroup\":\"train_2\",\"mode\":\"markers\",\"name\":\"Run id in Train 2\",\"x\":[0.0,1.866469333291912,7.039248680252867,18.704626424131312,38.35496070782931,63.1173995632141,87.91110486552529,108.64700768237822,123.35156668084312,132.36601726278963,137.42994602457176,140.17843995403726,141.65402443925203,142.44293058550818,142.86381460240204],\"y\":[0.0,1.6321052427931932,5.861880199030595,15.108423426241282,30.804231063255493,50.984329863242024,70.97958818310373,87.32241643814625,99.96234646410024,107.98408175281637,112.62659958470323,115.14691764454771,116.4772055483599,117.1732514867333,117.53844936162604],\"type\":\"scatter\",\"xaxis\":\"x\",\"yaxis\":\"y\"},{\"legendgroup\":\"train_3\",\"mode\":\"markers\",\"name\":\"Run id in Train 3\",\"x\":[0.0,2.193550607418356,7.801298168106945,18.766174317262404,33.69689018464,48.34900066558672,59.74842585087358,67.40216019026191,72.1177330616482,74.89252493334618,76.48915967702284,77.39715527981402,77.91013594557718,78.1989052220856,78.36113418904017],\"y\":[0.0,2.072658230742747,7.290507321464525,17.72571312442506,32.74044110056235,48.154940763233796,60.819384515942446,70.95474060973585,76.83631855033525,80.42166949323136,82.7193338423081,84.30289553147207,85.41160502175153,86.18020117990886,86.70609717452817],\"type\":\"scatter\",\"xaxis\":\"x\",\"yaxis\":\"y\"},{\"legendgroup\":\"train_4\",\"mode\":\"markers\",\"name\":\"Run id in Train 4\",\"x\":[0.0,2.271716977830502,7.854473161355809,18.971708052051884,35.82484903801885,55.484937664768005,74.18856957963564,89.37381330601042,100.02434710219111,106.56762036581328,110.35013494198267,112.52991365924176,113.78809838136668,114.51558106094842,114.936735596877],\"y\":[0.0,2.2354426799419618,7.700784446923961,18.541133917516877,34.810944309057625,53.156382069662925,69.09235632812218,82.45090894088399,90.89103974496028,95.25951981530096,97.21049208041552,97.9899713959683,98.2157731682835,98.18544065312253,98.05389530633427],\"type\":\"scatter\",\"xaxis\":\"x\",\"yaxis\":\"y\"},{\"legendgroup\":\"train_5\",\"mode\":\"markers\",\"name\":\"Run id in Train 5\",\"x\":[0.0,2.1740074735550605,7.182608258476706,16.82510229378721,31.34268820461444,48.28624408120008,64.28995969884735,77.04776277507078,85.78842522037073,91.04929514777176,94.00474366506025,95.64522970427242,96.55287676695592,97.054389027165,97.331315646952],\"y\":[0.0,2.435228739083233,8.36161154980684,19.992205198347378,37.24225279566893,56.764614046692095,74.44033535507128,89.65428221215669,99.82037305814764,106.04041658184627,109.6182744236274,111.7091740018544,112.93916986845578,113.66284834545854,114.0860078975181],\"type\":\"scatter\",\"xaxis\":\"x\",\"yaxis\":\"y\"},{\"legendgroup\":\"train_6\",\"mode\":\"markers\",\"name\":\"Run id in Train 6\",\"x\":[0.0,1.916223707605735,6.481636373842608,15.742076047399967,30.7303924619266,49.56309399414012,68.54508580701972,84.64064208273174,96.4336875563552,104.07036255435077,108.63197524096528,111.25534115276618,112.74131598613712,113.577859978804,114.04725326605498],\"y\":[0.0,1.8839153134371633,6.66021795298419,16.819463306282703,33.55140418532661,54.51618990092052,75.30219562462757,91.8168789990105,103.45599514540237,110.59042621265557,114.50088111807113,116.46851745325404,117.40434452356416,117.82181010081871,117.97663707498629],\"type\":\"scatter\",\"xaxis\":\"x\",\"yaxis\":\"y\"},{\"legendgroup\":\"train_7\",\"mode\":\"markers\",\"name\":\"Run id in Train 7\",\"x\":[0.0,2.243958200027949,8.523091057701478,22.02505899374238,42.56465569657718,65.54531000542516,86.36115270011925,102.69136210007946,114.01852655478228,120.90042892063524,124.57629681718988,126.40832354825189,127.3152667728905,127.7640116394374,127.98600783384062],\"y\":[0.0,1.8398305486106508,6.58705057937603,16.670556374512437,32.94474379628656,53.09220816695342,73.74298416064887,91.54372553487138,105.43113536765073,115.60110855382868,122.57344751183864,127.25053815958036,130.4141478116519,132.5832199727405,134.0781605783111],\"type\":\"scatter\",\"xaxis\":\"x\",\"yaxis\":\"y\"},{\"legendgroup\":\"train_8\",\"mode\":\"markers\",\"name\":\"Run id in Train 8\",\"x\":[0.0,1.6793980299494815,5.825279816564676,14.27356176357438,27.29715746711588,42.40664958688576,56.43799757399171,67.52538375231104,75.23050405709591,80.0340985431344,82.87566487240495,84.54898020684811,85.5339459906819,86.11387571389295,86.4554277707369],\"y\":[0.0,1.8408913717252282,6.630285843254407,16.631991818772583,31.938771907900204,49.50075611409767,66.78542978740307,82.06794375120137,93.92623308323007,103.23946159601778,110.20556404031885,115.31509058829651,119.04139920461434,121.74625848069135,123.69498593911406],\"type\":\"scatter\",\"xaxis\":\"x\",\"yaxis\":\"y\"},{\"legendgroup\":\"train_9\",\"mode\":\"markers\",\"name\":\"Run id in Train 9\",\"x\":[0.0,1.936573425915886,6.829628620347621,17.08542047827603,33.68920844131243,54.31801760252742,74.94360934324902,92.35928951478154,105.04138844957716,113.1173391723332,117.83371942641146,120.5372260817002,122.08223916974812,122.96423137950454,123.46750725239096],\"y\":[0.0,2.1093800912559852,7.347186101746179,18.03229070205552,34.82195285928381,55.24217769584321,75.23251900947648,92.88653491645128,105.853507373543,114.3957125498983,119.63471332542497,122.83698680339982,124.83956766068795,126.1151747888187,126.93586102953635],\"type\":\"scatter\",\"xaxis\":\"x\",\"yaxis\":\"y\"},{\"legendgroup\":\"train_10\",\"mode\":\"markers\",\"name\":\"Run id in Train 10\",\"x\":[0.0,2.2045774470236106,7.641883100611657,18.55674420310442,35.26530286784005,54.97920848857748,73.92058498359414,89.45973831766962,100.66193693639848,107.98040575765472,112.49289873095236,115.2193343478992,116.85527810935798,117.83318579088176,118.41650712461951],\"y\":[0.0,2.3805398825146193,8.235309377861654,19.801514551818244,36.955640080685974,56.30837444455161,73.80352222046103,88.53759914616263,99.13843309967622,106.2118824774588,110.75294540774944,113.66988469854915,115.51086588854989,116.67631573009857,117.42531968897666],\"type\":\"scatter\",\"xaxis\":\"x\",\"yaxis\":\"y\"},{\"legendgroup\":\"train_11\",\"mode\":\"markers\",\"name\":\"Run id in Train 11\",\"x\":[0.0,1.462853690999637,5.073336681969035,12.660230851131171,25.232508578399084,41.307290770199714,57.82184158492357,72.23096168957767,83.26341754953935,90.70522924185808,95.11732108367188,97.47899681646844,98.69224529926088,99.31263835102392,99.62937170511216],\"y\":[0.0,1.5190586494017495,5.606358794431198,14.84291607018059,30.881144362549385,52.28809489202773,75.66393538382071,95.88099215649747,112.7796200165898,125.5464350716255,134.43542972534618,140.3969383489989,144.4215568349583,147.18409923616596,149.09688228642716],\"type\":\"scatter\",\"xaxis\":\"x\",\"yaxis\":\"y\"},{\"legendgroup\":\"train_12\",\"mode\":\"markers\",\"name\":\"Run id in Train 12\",\"x\":[0.0,1.94866933876764,7.233907153871678,18.655652259929067,36.821238159666514,58.43775305560913,79.2116435858596,96.41166814671342,108.96228662742594,116.92184996449268,121.52041084071284,124.19580393108706,125.76993807966964,126.70267532390474,127.25773195905832],\"y\":[0.0,1.7907684735736493,6.363682164332241,16.01835450820328,31.641916005281605,51.00607366788503,70.31845991809938,87.56879620440894,100.72728582079219,109.67277863616623,115.37505435302948,118.996326225612,121.36529939848629,122.94469923270589,124.00881848501331],\"type\":\"scatter\",\"xaxis\":\"x\",\"yaxis\":\"y\"},{\"legendgroup\":\"train_13\",\"mode\":\"markers\",\"name\":\"Run id in Train 13\",\"x\":[0.0,2.200382492961511,7.894780870993562,19.55827449790884,37.32797040419936,58.16284815438131,78.45160605087935,95.9765309874497,109.94854564544856,120.41278648298837,128.03938655086029,133.56954670527574,137.55582192807515,140.41438051763683,142.45595462091137],\"y\":[0.0,1.930682058389225,6.780424278460762,16.8393743701389,33.03042158675201,53.35239218660073,73.78567397741635,92.69287479334353,107.51383682312253,117.68689567315921,124.2061705792862,128.37695017290227,131.11446038329117,132.94169347867717,134.17684331829076],\"type\":\"scatter\",\"xaxis\":\"x\",\"yaxis\":\"y\"},{\"legendgroup\":\"train_14\",\"mode\":\"markers\",\"name\":\"Run id in Train 14\",\"x\":[0.0,2.266481007500602,7.481108061218053,17.23816542368565,31.00161642185615,45.79045669201285,58.67502859375343,68.30515125033189,74.72906732624747,78.69091157515295,81.02465134943674,82.37227425825185,83.1444344589161,83.58498751213965,83.83576220973902],\"y\":[0.0,2.26185685435929,7.931197076287539,19.32460013287789,36.230759371692,55.108436025878405,72.94703720608734,87.77985549789891,98.1844594096543,105.83330523339635,111.24614426440232,115.04524904471248,117.6919197931945,119.53940893564628,120.82254431307175],\"type\":\"scatter\",\"xaxis\":\"x\",\"yaxis\":\"y\"},{\"legendgroup\":\"train_15\",\"mode\":\"markers\",\"name\":\"Run id in Train 15\",\"x\":[0.0,2.552386950076697,8.392360008279711,19.35582388537178,35.41186190998785,53.836957553515546,71.08313629584738,84.78848500743933,94.40449986949466,100.64975894259464,104.55422151379533,106.95550768745558,108.42027414285872,109.30948263721103,109.84776964772038],\"y\":[0.0,2.4169557573914604,8.288564421957272,19.81847116479942,36.9547739793578,56.19596077783857,72.8945398494684,86.44412368381309,95.1001272568712,99.73458879539162,101.92593309517085,102.8634075975052,103.14840158777908,103.12499305987684,102.9800990661325],\"type\":\"scatter\",\"xaxis\":\"x\",\"yaxis\":\"y\"},{\"legendgroup\":\"train_16\",\"mode\":\"markers\",\"name\":\"Run id in Train 16\",\"x\":[0.0,1.6612988084468303,6.088987259959261,15.746803690207084,31.47358567363868,50.14323937382536,67.1771767925946,79.87642582688726,88.03847016923935,92.85156193453584,95.6089760471386,97.1721988730927,98.05365672810824,98.54931865816886,98.82762255437292],\"y\":[0.0,1.8548692551259824,6.530815208304613,16.1714824190227,31.120044145629606,48.35516306941251,63.98140963496108,77.47246269611045,86.40930373992059,91.54642299649112,94.29014436480492,95.77458511131266,96.62768864918597,97.1245041737593,97.41168997655979],\"type\":\"scatter\",\"xaxis\":\"x\",\"yaxis\":\"y\"},{\"legendgroup\":\"train_17\",\"mode\":\"markers\",\"name\":\"Run id in Train 17\",\"x\":[0.0,1.499847102362348,5.803065059063494,16.06512088809116,34.29292329340938,57.65182970890164,80.48997704156366,98.6273814881257,110.61549927737116,117.36409711236269,120.80877510725404,122.50076704100492,123.32342969062344,123.72205830717552,123.91491353241597],\"y\":[0.0,1.381516596584588,5.112587351251883,13.610511616616396,28.37965032617984,47.53749008904123,66.97160667354885,82.96264057482487,95.69329993364452,104.2787949095748,109.6589212033763,112.89006602921121,114.84834777762981,116.06456225044433,116.84008994291302],\"type\":\"scatter\",\"xaxis\":\"x\",\"yaxis\":\"y\"},{\"legendgroup\":\"train_18\",\"mode\":\"markers\",\"name\":\"Run id in Train 18\",\"x\":[0.0,2.488304429432778,9.201525295257095,22.922914190168047,42.711921774691525,63.735468508291376,81.5560504006724,94.20340317822532,101.9338301743324,106.1960070963081,108.43033224571111,109.57902313526031,110.16533036894172,110.46379979506132,110.61553112855547],\"y\":[0.0,2.070840862945273,7.311370926762866,18.14324235298109,35.07599643410846,55.15702977851803,74.31436673627665,89.36137633819976,100.66189513510938,108.45760037367174,113.54286945883787,116.73473077411408,118.67906301200495,119.87442367629028,120.62349134644023],\"type\":\"scatter\",\"xaxis\":\"x\",\"yaxis\":\"y\"},{\"legendgroup\":\"train_19\",\"mode\":\"markers\",\"name\":\"Run id in Train 19\",\"x\":[0.0,1.5183831297264283,5.237664340994536,13.227504908739592,27.238238354729056,46.72874279001649,68.81986352619273,90.32062048197646,109.09064388778134,124.10742826977872,135.07559840644768,142.3634752724604,147.15387572687197,150.34849804663463,152.4990240834168],\"y\":[0.0,1.465332067968773,5.404524144592415,14.382733604416758,30.36229039882129,52.41787841958517,76.82262535461619,98.72523410906835,117.55951901428176,131.6488266258412,141.33461752338354,147.7706143414888,152.090514228731,155.04139023746222,157.08196399285828],\"type\":\"scatter\",\"xaxis\":\"x\",\"yaxis\":\"y\"},{\"legendgroup\":\"train_20\",\"mode\":\"markers\",\"name\":\"Run id in Train 20\",\"x\":[0.0,1.6907176376655193,5.773910042206273,14.178261769173828,27.98477279498128,45.865270359254026,64.9289791631562,82.64832060799844,97.61916670072311,109.34101112134148,118.00481802274926,124.39240823684412,129.1130420005869,132.59877665246637,135.1681075041741],\"y\":[0.0,1.7622184686453233,6.3114783540333175,16.010771096686092,31.929240425813873,52.22126069092995,73.22563108577856,92.39396815278603,108.25482921759432,119.90833079998883,127.90869196429642,133.30301846614577,136.97365941464338,139.50077455810865,141.25794665539428],\"type\":\"scatter\",\"xaxis\":\"x\",\"yaxis\":\"y\"},{\"legendgroup\":\"train_21\",\"mode\":\"markers\",\"name\":\"Run id in Train 21\",\"x\":[0.0,1.5195748146028738,5.534078736329199,14.34267262512248,28.699577101254164,45.74277964198039,61.54190183971102,73.97438100140312,82.81986886234498,88.75222772461386,92.59822095273498,95.04314887846118,96.57967691012072,97.53850241594792,98.13426493027002],\"y\":[0.0,1.620265152515728,5.901647618708841,15.132371669829183,29.726016467951638,46.40875009206268,61.65877330882403,73.03263135684985,80.84908219261159,85.91935871858638,89.13596817222333,91.12208945632129,92.34338704226784,93.10575365831309,93.58836782899428],\"type\":\"scatter\",\"xaxis\":\"x\",\"yaxis\":\"y\"},{\"legendgroup\":\"train_22\",\"mode\":\"markers\",\"name\":\"Run id in Train 22\",\"x\":[0.0,2.074756943107576,7.095935288897512,17.027959125060974,32.18701064221906,50.16514536683079,67.67126701157989,82.38584101600017,93.18507894811724,99.9027997881222,103.44557278583376,105.20900775495964,106.08620802811922,106.52281787788957,106.74021799592084],\"y\":[0.0,2.302230393772586,7.924405136097629,19.149232783560336,36.51310817669979,57.387199199749666,76.92225454583131,93.81654019020922,106.36226469567163,114.19211639810308,118.69496849997998,121.2217870501269,122.59951527615195,123.33773487895262,123.73383246199083],\"type\":\"scatter\",\"xaxis\":\"x\",\"yaxis\":\"y\"},{\"legendgroup\":\"train_23\",\"mode\":\"markers\",\"name\":\"Run id in Train 23\",\"x\":[0.0,2.5788314092992546,9.08391799950622,22.355325442747105,43.05925292517488,68.4572201776519,94.69927810946756,118.89950418038664,139.4586837337397,155.09571063286376,165.70565263638912,172.83521729628083,177.60706929909114,180.7927853419405,182.9162078795065],\"y\":[0.0,2.437613048541858,8.444280686339443,20.404885077328878,38.6792534800242,61.07397314235666,84.65302698997364,107.41723824644161,125.60307200627392,139.61983133410266,149.6559976093598,156.77637087625078,161.8512624233148,165.47407811067603,168.0481662547013],\"type\":\"scatter\",\"xaxis\":\"x\",\"yaxis\":\"y\"},{\"legendgroup\":\"train_24\",\"mode\":\"markers\",\"name\":\"Run id in Train 24\",\"x\":[0.0,1.66426423317173,6.28576833862229,16.81871581715164,34.39845395750664,55.792510876412905,76.52951151727098,93.90934063549015,107.0000424928104,115.930742106806,121.46694979008385,124.65181785924042,126.42315550690796,127.40367119806868,127.94560044834527],\"y\":[0.0,1.467965367981277,5.487138881266448,14.527324097222873,29.4932066076897,47.76287574924774,66.36109184495271,80.91618957158047,92.2447021867746,100.82813759973523,106.96290264832525,111.15769661861846,114.01733140563235,115.99322841506458,117.36507522351019],\"type\":\"scatter\",\"xaxis\":\"x\",\"yaxis\":\"y\"},{\"legendgroup\":\"train_25\",\"mode\":\"markers\",\"name\":\"Run id in Train 25\",\"x\":[0.0,2.139220835350532,7.650666154814507,19.020216486163097,36.33486631637721,56.361508217905005,75.5831271496908,92.00148752225614,104.90411414250732,114.29060239591809,120.54718402976414,124.44358117060791,126.88195406193326,128.42635240377606,129.41240848852712],\"y\":[0.0,1.9280671447796163,6.906046841577434,17.330622541452737,33.526244043859386,52.47907893963193,71.27723943892194,86.8240981030181,98.44359041059722,107.22701374238898,113.52191936430799,117.92233116076206,120.98693061962585,123.13453519042855,124.63660776915404],\"type\":\"scatter\",\"xaxis\":\"x\",\"yaxis\":\"y\"},{\"legendgroup\":\"train_26\",\"mode\":\"markers\",\"name\":\"Run id in Train 26\",\"x\":[0.0,1.1989647818124811,4.2569952563834015,10.99072061373146,22.36820286043155,36.28419488988094,49.22362252143591,59.218358350677285,66.12246730151067,70.59507970313997,73.38815516459402,75.09582432997499,76.12708408346579,76.74526512429902,77.1142199455744],\"y\":[0.0,1.4606045357001398,5.3684176510572845,13.992561461617171,28.02168642446681,44.47720634389695,59.768049758331436,71.51231229117326,79.44043325813637,84.2560036034733,87.04787586385088,88.6181434204726,89.52587826992857,90.06247172028426,90.381473302081],\"type\":\"scatter\",\"xaxis\":\"x\",\"yaxis\":\"y\"},{\"legendgroup\":\"train_27\",\"mode\":\"markers\",\"name\":\"Run id in Train 27\",\"x\":[0.0,1.8930838152463207,6.803349792833476,17.325670319062116,34.487246517925776,55.795835795296334,77.37478351754763,96.47572719991511,111.84274849980947,123.17490344230582,130.73354904700537,135.5312228645926,138.63506651977843,140.67349673823577,142.02511718930316],\"y\":[0.0,1.9218344431423837,6.828153903184936,17.090284033313413,33.3760666004804,53.157147998981635,72.84406384580153,89.75056704832903,102.79324811682683,112.12961342566268,118.42657746464086,122.60023685512763,125.38176110734086,127.26018961272788,128.53999021614771],\"type\":\"scatter\",\"xaxis\":\"x\",\"yaxis\":\"y\"},{\"legendgroup\":\"train_28\",\"mode\":\"markers\",\"name\":\"Run id in Train 28\",\"x\":[0.0,1.2570277775090313,4.753677752178248,13.00157293390872,27.996695520031267,48.57761844666174,71.26974599282754,92.94898443035557,111.88639150472412,127.51874869050408,139.9569546616572,149.61055844105428,156.982000300884,162.5451533648477,166.70499077235368],\"y\":[0.0,1.551644741032996,5.741134215491148,15.106785040931232,31.051213648395716,52.00772195438084,74.77987601965258,94.77546294854147,112.25935325819286,126.04740011394233,136.08172318781772,143.08430913792662,147.93959895644917,151.33618240608217,153.72987749405482],\"type\":\"scatter\",\"xaxis\":\"x\",\"yaxis\":\"y\"},{\"legendgroup\":\"train_29\",\"mode\":\"markers\",\"name\":\"Run id in Train 29\",\"x\":[0.0,1.9803879570113108,7.335950553180955,19.10630044948672,38.25515850704539,61.64155365633496,85.01194490886684,105.6347144219525,122.45916803060658,135.45765423391487,145.03670618229216,151.6784846742583,155.95509590517716,158.71317689674677,160.52076678066763],\"y\":[0.0,2.114296940102113,7.455903998866136,18.474313868341778,35.69780693478311,56.22353095267075,75.9805383863724,91.56034804150981,103.43890365463919,111.78575309140825,117.31752345273873,120.83933446104558,123.01379431069198,124.36979135021383,125.23193151357229],\"type\":\"scatter\",\"xaxis\":\"x\",\"yaxis\":\"y\"},{\"legendgroup\":\"train_30\",\"mode\":\"markers\",\"name\":\"Run id in Train 30\",\"x\":[0.0,1.7280128504514205,6.313311015870646,16.47720044034038,33.69543731260756,56.12825880125742,80.51290379084037,104.26221280436164,125.80458370400444,144.40545567099667,159.91633967431395,172.54185897546512,182.63371646954985,190.5570264301286,196.60147929841384],\"y\":[0.0,1.8627183901097242,6.701007646825238,16.933050163457292,33.03184560168919,52.171973223355415,71.53820950637778,87.77053764330007,100.00812000901833,109.30165374716108,115.95808160696652,120.60973825981995,123.86562178737975,126.16047554190963,127.77233743575943],\"type\":\"scatter\",\"xaxis\":\"x\",\"yaxis\":\"y\"},{\"legendgroup\":\"test_0\",\"mode\":\"markers\",\"name\":\"Run id in Test 0\",\"x\":[0.0,2.1824297539180297,8.166083041116508,21.321369967573112,42.85414584728475,69.79089068242651,97.66797157992208,123.28266885228646,145.1452661433552,162.939326203935,176.9454542072082,187.6605436533524,195.7213811855037,201.77002614645343,206.29555670809924],\"y\":[0.0,2.373067514758139,8.217611859769669,20.10122797459388,39.08758663569077,63.302772853180365,88.52115500041455,110.69394461964671,128.19654083437908,140.7200436691612,148.9577419023577,154.23743905193754,157.61817537940541,159.81973037725427,161.27115123588305],\"type\":\"scatter\",\"xaxis\":\"x2\",\"yaxis\":\"y2\"},{\"legendgroup\":\"test_1\",\"mode\":\"markers\",\"name\":\"Run id in Test 1\",\"x\":[0.0,1.5991499982104411,5.445699389353575,13.581432771597257,27.689681352073706,47.21496460203044,69.54534066005401,91.89286610534306,112.38249670914288,130.1236250206878,145.0020761195221,157.1975521219229,167.00514815735104,174.77073081852015,180.83847709015123],\"y\":[0.0,1.9860419254493762,7.063304454495182,17.53579745274766,33.73992709798069,53.17745809110894,73.09787458143086,91.72378721515943,106.88979434513509,118.78519773742354,127.5411807945075,133.87252613700693,138.43926161029313,141.72769828530906,144.0864185080237],\"type\":\"scatter\",\"xaxis\":\"x2\",\"yaxis\":\"y2\"},{\"legendgroup\":\"test_2\",\"mode\":\"markers\",\"name\":\"Run id in Test 2\",\"x\":[0.0,1.5581891741849512,5.606126893705409,14.498929324203344,29.82798216505632,50.41499972160747,73.19671246341571,95.3587673773708,115.20028515974414,131.99273880744107,145.60559285891645,156.2873977451865,164.63072407738295,171.14171656847114,176.2095735657846],\"y\":[0.0,1.6694988661793215,6.103259404202978,15.817049409296907,32.01869215539481,52.952114721270675,75.5207903249346,95.45815927551945,112.48726271747424,125.86161905246905,135.57376168239543,142.36798581616128,147.10049778663566,150.4234731069403,152.7679991392945],\"type\":\"scatter\",\"xaxis\":\"x2\",\"yaxis\":\"y2\"},{\"legendgroup\":\"test_3\",\"mode\":\"markers\",\"name\":\"Run id in Test 3\",\"x\":[0.0,1.7487860554820465,6.311671256918155,16.382654836909964,33.66660265814613,56.58603621625323,81.56847238120447,105.47928252536023,126.51381224589684,144.02257896315942,158.0615217586803,168.90191538273123,176.33605979156945,181.14518553707703,184.24826675684804],\"y\":[0.0,1.7575109313526585,6.396035822205613,16.31151526271879,32.0830682622309,51.31593469355005,71.50595228004485,89.62244228135225,104.72931227885695,116.94846483832431,126.15105672516661,132.85173296094948,137.68926399296186,141.17852479322687,143.68618089422898],\"type\":\"scatter\",\"xaxis\":\"x2\",\"yaxis\":\"y2\"},{\"legendgroup\":\"test_4\",\"mode\":\"markers\",\"name\":\"Run id in Test 4\",\"x\":[0.0,2.40865700404835,9.007605339128604,23.0960309095346,44.650055160271,69.37126336604697,92.90356906065072,112.89704265210062,128.56760159133748,139.92880141496798,147.5636069024654,152.73889571644432,156.32842633487192,158.8502092384601,160.63502139951692],\"y\":[0.0,2.1539067189814287,7.5463676084311615,18.36937459509203,34.40121781150212,51.99884838527229,67.48370583194976,80.0685017946486,88.74640126567677,94.49376343206669,98.24549439687281,100.7129359354611,102.3145957203469,103.3566372096825,104.04218355611674],\"type\":\"scatter\",\"xaxis\":\"x2\",\"yaxis\":\"y2\"},{\"legendgroup\":\"test_5\",\"mode\":\"markers\",\"name\":\"Run id in Test 5\",\"x\":[0.0,1.2545144440534064,4.985417532879248,14.260275885034812,31.234881024706453,53.49583974096605,76.37935894351298,96.68647952280352,113.11097089305292,125.47091067391106,134.08437572025375,139.54476133203477,142.9131133751618,145.0343385158262,146.38776809777494],\"y\":[0.0,1.3899563018787449,5.2154630668258,13.967528327280881,28.92672719706317,48.01374241552366,68.10904115392793,84.67469858478914,97.94458545900827,107.87129125617204,114.8063100797803,119.4721926908244,122.63908874662195,124.82437065963559,126.34147694210873],\"type\":\"scatter\",\"xaxis\":\"x2\",\"yaxis\":\"y2\"},{\"legendgroup\":\"test_6\",\"mode\":\"markers\",\"name\":\"Run id in Test 6\",\"x\":[0.0,2.4676429401569653,8.847402570973394,21.92022427914256,42.04251997927221,66.3806237114453,91.4711752566404,114.89076395797905,135.40670329147326,152.63994276475762,166.70916056328812,177.96967910428168,186.83664250707432,193.7065213911428,198.882259098652],\"y\":[0.0,2.349200131731069,8.214954434365048,20.014687159369842,37.89591186891012,59.0950149458698,80.86039333138113,100.5307333778668,115.77644580151555,127.6709914137333,136.33576909680778,142.53294558613024,146.94586442231548,150.0912096887068,152.32029637649163],\"type\":\"scatter\",\"xaxis\":\"x2\",\"yaxis\":\"y2\"},{\"legendgroup\":\"test_7\",\"mode\":\"markers\",\"name\":\"Run id in Test 7\",\"x\":[0.0,2.3615459556658216,8.310160827313466,20.67139833266929,40.36585105311375,64.7292302489265,89.83125897208262,112.84560274344835,132.43594927073886,148.2954069606308,160.66288615971445,170.12038236611113,177.31264510895502,182.75317820372044,186.84944474519827],\"y\":[0.0,2.186849436348838,7.740329318061162,19.072988474442987,36.347994655255995,56.74852054966643,77.51930395298946,95.87022823023777,110.75325639525664,122.71359081356229,131.68304302996214,138.19471763434782,142.84219681275337,146.1555475368371,148.51311901829854],\"type\":\"scatter\",\"xaxis\":\"x2\",\"yaxis\":\"y2\"},{\"legendgroup\":\"test_8\",\"mode\":\"markers\",\"name\":\"Run id in Test 8\",\"x\":[0.0,1.4553196405346558,5.745846264970134,16.172136437495485,34.67671064022556,58.57066013499378,83.3065087273045,105.72898824643453,124.44509749634368,139.24169506314482,150.50390826076975,158.88275265089592,165.05193713369445,169.55607062164327,172.82287801702037],\"y\":[0.0,1.6109192812088562,5.94640496265367,15.45560591712351,30.888112524768626,49.82553833606166,69.8327469923652,87.064121553172,101.04362405681312,112.25350170160715,120.62749355645701,126.65836143278452,130.98562484703015,134.0980993773219,136.32660596204758],\"type\":\"scatter\",\"xaxis\":\"x2\",\"yaxis\":\"y2\"},{\"legendgroup\":\"test_9\",\"mode\":\"markers\",\"name\":\"Run id in Test 9\",\"x\":[0.0,1.8253206890696088,6.829555224571791,18.279574448197184,38.361024117816335,65.14647238107932,94.2447821690744,121.97130459806723,146.32540899281685,166.62762006243048,182.94611833504848,195.67525930047435,205.46490282737048,212.9690451781578,218.6933292315336],\"y\":[0.0,2.0655139280553465,7.2304565158521585,17.90418631782906,35.00584863153241,56.15852565550943,76.64995441372,93.58039659171256,106.61948602014232,115.15888986898896,120.33062469870825,123.33165227308685,125.01907187930775,125.96692875413096,126.5087937646011],\"type\":\"scatter\",\"xaxis\":\"x2\",\"yaxis\":\"y2\"},{\"legendgroup\":\"test_10\",\"mode\":\"markers\",\"name\":\"Run id in Test 10\",\"x\":[0.0,1.1623390875862771,4.409440947202533,12.199464858319589,26.68259599173664,46.92408425738573,69.74911784545765,92.31934092239872,112.87882510600517,130.5969978701169,145.28440753789718,157.14016520309832,166.55053242887047,173.9075937931368,179.57004361756432],\"y\":[0.0,1.3541406164425367,5.088849013920316,13.655892274090434,28.283128951462324,46.80863265822829,66.18957750246166,82.22256736700307,94.70248458306571,103.85842873001894,110.1565112915766,114.35784661737951,117.21526864644541,119.19417771358273,120.56908715816375],\"type\":\"scatter\",\"xaxis\":\"x2\",\"yaxis\":\"y2\"},{\"legendgroup\":\"test_11\",\"mode\":\"markers\",\"name\":\"Run id in Test 11\",\"x\":[0.0,2.1172702949179154,7.305502925025182,18.02605086353491,35.519642006796616,58.07810892501568,82.3723933094982,105.56179602327548,126.02557042848376,143.17744112838247,157.05998379428294,167.97662820808074,176.11974191251963,181.57186533940825,185.1574068420421],\"y\":[0.0,2.313707539503146,8.037773820941313,19.53393350074597,37.20641502217827,58.5857089992867,80.22917049036529,100.0971079788525,115.4459576244457,126.6950775554448,134.4159083932329,139.6849670800605,143.30980933808314,145.82304830958705,147.56789430707047],\"type\":\"scatter\",\"xaxis\":\"x2\",\"yaxis\":\"y2\"},{\"legendgroup\":\"test_12\",\"mode\":\"markers\",\"name\":\"Run id in Test 12\",\"x\":[0.0,1.6669845466734208,6.223705621680365,16.59088977088941,34.42835644756829,57.35162646503026,80.93980492612349,101.97199222804544,119.1024912169146,132.2086469137818,141.70604522424804,148.3840451309173,153.0930985296731,156.41566199650234,158.757799982056],\"y\":[0.0,1.669829442923577,6.042741980634123,15.574541415325966,31.54293996866981,52.188587963442906,74.01767105891567,93.35145091223896,109.09974584366063,120.70408994516048,128.6496147822054,133.9582594362727,137.54842355942353,140.01355614174017,141.71970478912579],\"type\":\"scatter\",\"xaxis\":\"x2\",\"yaxis\":\"y2\"},{\"legendgroup\":\"test_13\",\"mode\":\"markers\",\"name\":\"Run id in Test 13\",\"x\":[0.0,1.480517386218695,5.631300891839221,15.25628823233654,31.97882529328608,53.53959837438649,75.66593620578863,95.26232853471676,111.11015878520422,123.20632524569982,132.0670149960691,138.3390254866564,142.71585501498006,145.75789396620863,147.86540674531656],\"y\":[0.0,1.5237936130450143,5.6376245722266685,14.983810507227071,31.53404888362027,54.57458905936037,80.88727904526694,104.98004639325542,126.30796761628088,143.09684333413713,155.1735985740743,163.5329601848216,169.32965716569325,173.39361674343678,176.26004958454104],\"type\":\"scatter\",\"xaxis\":\"x2\",\"yaxis\":\"y2\"},{\"legendgroup\":\"test_14\",\"mode\":\"markers\",\"name\":\"Run id in Test 14\",\"x\":[0.0,1.5721519049958252,5.468812184864578,13.767322353810854,27.867271337341503,46.58830393438672,66.93456569631056,86.22762971965741,102.96809255545382,116.65593838561732,127.3741122464817,135.45641475699983,141.40764098599195,145.79082291889162,149.01718551175938],\"y\":[0.0,1.7360751559875038,6.2833784226194895,16.281521132555646,33.34183428117419,56.05773264725572,81.07228537734163,102.89176688484818,120.7469165299718,134.22166160057054,143.55143551402185,149.79202096896455,154.001910554406,156.89065514708955,158.88416778634613],\"type\":\"scatter\",\"xaxis\":\"x2\",\"yaxis\":\"y2\"},{\"legendgroup\":\"test_15\",\"mode\":\"markers\",\"name\":\"Run id in Test 15\",\"x\":[0.0,2.280356634684465,7.812798471789079,18.919758526955192,36.24342981960826,57.50669578617706,79.40540226064152,99.5274386937432,116.69715637471636,130.63477911991845,141.67892666222323,150.31070315704335,156.97640134345704,162.0746371518185,165.94506113740152],\"y\":[0.0,2.240075668392222,7.855414087376173,19.143770756308125,36.12598461606582,55.96427507841763,75.88490482296362,94.3872108659941,108.93286821065983,120.25821842503368,128.56240160019246,134.57373299451265,138.90570633406946,142.01895035281885,144.24396684226377],\"type\":\"scatter\",\"xaxis\":\"x2\",\"yaxis\":\"y2\"},{\"legendgroup\":\"test_16\",\"mode\":\"markers\",\"name\":\"Run id in Test 16\",\"x\":[0.0,2.7019171141585354,10.14257170143317,25.952339979578465,50.05769408008341,77.9687704938532,105.0579405178387,128.66524614140488,147.89251612956977,162.878155087556,174.23036359112152,182.68235949974505,188.89180975560112,193.4054853992409,196.6582813915627],\"y\":[0.0,2.3560254875639104,8.201712924819772,19.81877405835697,37.00055394319575,56.39568413695061,74.86394021689689,91.01370857107344,102.71274092348554,111.29698558844294,117.32719524285423,121.55786072716634,124.51665475250138,126.58830197273882,128.03369973876067],\"type\":\"scatter\",\"xaxis\":\"x2\",\"yaxis\":\"y2\"},{\"legendgroup\":\"test_17\",\"mode\":\"markers\",\"name\":\"Run id in Test 17\",\"x\":[0.0,1.8779094088172577,6.379040692614926,15.682901265397506,31.02196122153285,50.71519426730839,71.24796684377188,89.63539028590327,104.21879198709198,114.5249885013283,121.3952226335185,126.0695701950539,129.3196645816352,131.6152102822434,133.25419096856038],\"y\":[0.0,2.3750634768833687,8.175515591302489,19.519987355743538,36.10104664016763,54.26673169095868,69.65572686244256,82.54073144876813,91.18547454622984,96.24714421235035,99.08948616652188,100.71141018633448,101.5995585919333,102.06556293524966,102.30620506520944],\"type\":\"scatter\",\"xaxis\":\"x2\",\"yaxis\":\"y2\"},{\"legendgroup\":\"test_18\",\"mode\":\"markers\",\"name\":\"Run id in Test 18\",\"x\":[0.0,2.032527999671584,7.3575136815364255,18.857802036212608,37.84865876590555,61.97018562355187,87.23460245441795,110.61493495356896,130.5744118175516,146.63986274564618,159.29214245571052,169.21694855690444,176.93654779895664,182.8910817568976,187.45209020865843],\"y\":[0.0,2.2180454201211193,7.676244255036005,18.560231208568215,35.05230843517939,54.16886834346558,71.69396871325964,87.17492482602391,98.31363642063482,105.3762161618083,109.61364879165927,112.18594100186449,113.76502776875552,114.74201751679746,115.3558076459598],\"type\":\"scatter\",\"xaxis\":\"x2\",\"yaxis\":\"y2\"}],                        {\"template\":{\"data\":{\"histogram2dcontour\":[{\"type\":\"histogram2dcontour\",\"colorbar\":{\"outlinewidth\":0,\"ticks\":\"\"},\"colorscale\":[[0.0,\"#0d0887\"],[0.1111111111111111,\"#46039f\"],[0.2222222222222222,\"#7201a8\"],[0.3333333333333333,\"#9c179e\"],[0.4444444444444444,\"#bd3786\"],[0.5555555555555556,\"#d8576b\"],[0.6666666666666666,\"#ed7953\"],[0.7777777777777778,\"#fb9f3a\"],[0.8888888888888888,\"#fdca26\"],[1.0,\"#f0f921\"]]}],\"choropleth\":[{\"type\":\"choropleth\",\"colorbar\":{\"outlinewidth\":0,\"ticks\":\"\"}}],\"histogram2d\":[{\"type\":\"histogram2d\",\"colorbar\":{\"outlinewidth\":0,\"ticks\":\"\"},\"colorscale\":[[0.0,\"#0d0887\"],[0.1111111111111111,\"#46039f\"],[0.2222222222222222,\"#7201a8\"],[0.3333333333333333,\"#9c179e\"],[0.4444444444444444,\"#bd3786\"],[0.5555555555555556,\"#d8576b\"],[0.6666666666666666,\"#ed7953\"],[0.7777777777777778,\"#fb9f3a\"],[0.8888888888888888,\"#fdca26\"],[1.0,\"#f0f921\"]]}],\"heatmap\":[{\"type\":\"heatmap\",\"colorbar\":{\"outlinewidth\":0,\"ticks\":\"\"},\"colorscale\":[[0.0,\"#0d0887\"],[0.1111111111111111,\"#46039f\"],[0.2222222222222222,\"#7201a8\"],[0.3333333333333333,\"#9c179e\"],[0.4444444444444444,\"#bd3786\"],[0.5555555555555556,\"#d8576b\"],[0.6666666666666666,\"#ed7953\"],[0.7777777777777778,\"#fb9f3a\"],[0.8888888888888888,\"#fdca26\"],[1.0,\"#f0f921\"]]}],\"heatmapgl\":[{\"type\":\"heatmapgl\",\"colorbar\":{\"outlinewidth\":0,\"ticks\":\"\"},\"colorscale\":[[0.0,\"#0d0887\"],[0.1111111111111111,\"#46039f\"],[0.2222222222222222,\"#7201a8\"],[0.3333333333333333,\"#9c179e\"],[0.4444444444444444,\"#bd3786\"],[0.5555555555555556,\"#d8576b\"],[0.6666666666666666,\"#ed7953\"],[0.7777777777777778,\"#fb9f3a\"],[0.8888888888888888,\"#fdca26\"],[1.0,\"#f0f921\"]]}],\"contourcarpet\":[{\"type\":\"contourcarpet\",\"colorbar\":{\"outlinewidth\":0,\"ticks\":\"\"}}],\"contour\":[{\"type\":\"contour\",\"colorbar\":{\"outlinewidth\":0,\"ticks\":\"\"},\"colorscale\":[[0.0,\"#0d0887\"],[0.1111111111111111,\"#46039f\"],[0.2222222222222222,\"#7201a8\"],[0.3333333333333333,\"#9c179e\"],[0.4444444444444444,\"#bd3786\"],[0.5555555555555556,\"#d8576b\"],[0.6666666666666666,\"#ed7953\"],[0.7777777777777778,\"#fb9f3a\"],[0.8888888888888888,\"#fdca26\"],[1.0,\"#f0f921\"]]}],\"surface\":[{\"type\":\"surface\",\"colorbar\":{\"outlinewidth\":0,\"ticks\":\"\"},\"colorscale\":[[0.0,\"#0d0887\"],[0.1111111111111111,\"#46039f\"],[0.2222222222222222,\"#7201a8\"],[0.3333333333333333,\"#9c179e\"],[0.4444444444444444,\"#bd3786\"],[0.5555555555555556,\"#d8576b\"],[0.6666666666666666,\"#ed7953\"],[0.7777777777777778,\"#fb9f3a\"],[0.8888888888888888,\"#fdca26\"],[1.0,\"#f0f921\"]]}],\"mesh3d\":[{\"type\":\"mesh3d\",\"colorbar\":{\"outlinewidth\":0,\"ticks\":\"\"}}],\"scatter\":[{\"fillpattern\":{\"fillmode\":\"overlay\",\"size\":10,\"solidity\":0.2},\"type\":\"scatter\"}],\"parcoords\":[{\"type\":\"parcoords\",\"line\":{\"colorbar\":{\"outlinewidth\":0,\"ticks\":\"\"}}}],\"scatterpolargl\":[{\"type\":\"scatterpolargl\",\"marker\":{\"colorbar\":{\"outlinewidth\":0,\"ticks\":\"\"}}}],\"bar\":[{\"error_x\":{\"color\":\"#2a3f5f\"},\"error_y\":{\"color\":\"#2a3f5f\"},\"marker\":{\"line\":{\"color\":\"white\",\"width\":0.5},\"pattern\":{\"fillmode\":\"overlay\",\"size\":10,\"solidity\":0.2}},\"type\":\"bar\"}],\"scattergeo\":[{\"type\":\"scattergeo\",\"marker\":{\"colorbar\":{\"outlinewidth\":0,\"ticks\":\"\"}}}],\"scatterpolar\":[{\"type\":\"scatterpolar\",\"marker\":{\"colorbar\":{\"outlinewidth\":0,\"ticks\":\"\"}}}],\"histogram\":[{\"marker\":{\"pattern\":{\"fillmode\":\"overlay\",\"size\":10,\"solidity\":0.2}},\"type\":\"histogram\"}],\"scattergl\":[{\"type\":\"scattergl\",\"marker\":{\"colorbar\":{\"outlinewidth\":0,\"ticks\":\"\"}}}],\"scatter3d\":[{\"type\":\"scatter3d\",\"line\":{\"colorbar\":{\"outlinewidth\":0,\"ticks\":\"\"}},\"marker\":{\"colorbar\":{\"outlinewidth\":0,\"ticks\":\"\"}}}],\"scattermapbox\":[{\"type\":\"scattermapbox\",\"marker\":{\"colorbar\":{\"outlinewidth\":0,\"ticks\":\"\"}}}],\"scatterternary\":[{\"type\":\"scatterternary\",\"marker\":{\"colorbar\":{\"outlinewidth\":0,\"ticks\":\"\"}}}],\"scattercarpet\":[{\"type\":\"scattercarpet\",\"marker\":{\"colorbar\":{\"outlinewidth\":0,\"ticks\":\"\"}}}],\"carpet\":[{\"aaxis\":{\"endlinecolor\":\"#2a3f5f\",\"gridcolor\":\"#C8D4E3\",\"linecolor\":\"#C8D4E3\",\"minorgridcolor\":\"#C8D4E3\",\"startlinecolor\":\"#2a3f5f\"},\"baxis\":{\"endlinecolor\":\"#2a3f5f\",\"gridcolor\":\"#C8D4E3\",\"linecolor\":\"#C8D4E3\",\"minorgridcolor\":\"#C8D4E3\",\"startlinecolor\":\"#2a3f5f\"},\"type\":\"carpet\"}],\"table\":[{\"cells\":{\"fill\":{\"color\":\"#EBF0F8\"},\"line\":{\"color\":\"white\"}},\"header\":{\"fill\":{\"color\":\"#C8D4E3\"},\"line\":{\"color\":\"white\"}},\"type\":\"table\"}],\"barpolar\":[{\"marker\":{\"line\":{\"color\":\"white\",\"width\":0.5},\"pattern\":{\"fillmode\":\"overlay\",\"size\":10,\"solidity\":0.2}},\"type\":\"barpolar\"}],\"pie\":[{\"automargin\":true,\"type\":\"pie\"}]},\"layout\":{\"autotypenumbers\":\"strict\",\"colorway\":[\"#636efa\",\"#EF553B\",\"#00cc96\",\"#ab63fa\",\"#FFA15A\",\"#19d3f3\",\"#FF6692\",\"#B6E880\",\"#FF97FF\",\"#FECB52\"],\"font\":{\"color\":\"#2a3f5f\"},\"hovermode\":\"closest\",\"hoverlabel\":{\"align\":\"left\"},\"paper_bgcolor\":\"white\",\"plot_bgcolor\":\"white\",\"polar\":{\"bgcolor\":\"white\",\"angularaxis\":{\"gridcolor\":\"#EBF0F8\",\"linecolor\":\"#EBF0F8\",\"ticks\":\"\"},\"radialaxis\":{\"gridcolor\":\"#EBF0F8\",\"linecolor\":\"#EBF0F8\",\"ticks\":\"\"}},\"ternary\":{\"bgcolor\":\"white\",\"aaxis\":{\"gridcolor\":\"#DFE8F3\",\"linecolor\":\"#A2B1C6\",\"ticks\":\"\"},\"baxis\":{\"gridcolor\":\"#DFE8F3\",\"linecolor\":\"#A2B1C6\",\"ticks\":\"\"},\"caxis\":{\"gridcolor\":\"#DFE8F3\",\"linecolor\":\"#A2B1C6\",\"ticks\":\"\"}},\"coloraxis\":{\"colorbar\":{\"outlinewidth\":0,\"ticks\":\"\"}},\"colorscale\":{\"sequential\":[[0.0,\"#0d0887\"],[0.1111111111111111,\"#46039f\"],[0.2222222222222222,\"#7201a8\"],[0.3333333333333333,\"#9c179e\"],[0.4444444444444444,\"#bd3786\"],[0.5555555555555556,\"#d8576b\"],[0.6666666666666666,\"#ed7953\"],[0.7777777777777778,\"#fb9f3a\"],[0.8888888888888888,\"#fdca26\"],[1.0,\"#f0f921\"]],\"sequentialminus\":[[0.0,\"#0d0887\"],[0.1111111111111111,\"#46039f\"],[0.2222222222222222,\"#7201a8\"],[0.3333333333333333,\"#9c179e\"],[0.4444444444444444,\"#bd3786\"],[0.5555555555555556,\"#d8576b\"],[0.6666666666666666,\"#ed7953\"],[0.7777777777777778,\"#fb9f3a\"],[0.8888888888888888,\"#fdca26\"],[1.0,\"#f0f921\"]],\"diverging\":[[0,\"#8e0152\"],[0.1,\"#c51b7d\"],[0.2,\"#de77ae\"],[0.3,\"#f1b6da\"],[0.4,\"#fde0ef\"],[0.5,\"#f7f7f7\"],[0.6,\"#e6f5d0\"],[0.7,\"#b8e186\"],[0.8,\"#7fbc41\"],[0.9,\"#4d9221\"],[1,\"#276419\"]]},\"xaxis\":{\"gridcolor\":\"#EBF0F8\",\"linecolor\":\"#EBF0F8\",\"ticks\":\"\",\"title\":{\"standoff\":15},\"zerolinecolor\":\"#EBF0F8\",\"automargin\":true,\"zerolinewidth\":2},\"yaxis\":{\"gridcolor\":\"#EBF0F8\",\"linecolor\":\"#EBF0F8\",\"ticks\":\"\",\"title\":{\"standoff\":15},\"zerolinecolor\":\"#EBF0F8\",\"automargin\":true,\"zerolinewidth\":2},\"scene\":{\"xaxis\":{\"backgroundcolor\":\"white\",\"gridcolor\":\"#DFE8F3\",\"linecolor\":\"#EBF0F8\",\"showbackground\":true,\"ticks\":\"\",\"zerolinecolor\":\"#EBF0F8\",\"gridwidth\":2},\"yaxis\":{\"backgroundcolor\":\"white\",\"gridcolor\":\"#DFE8F3\",\"linecolor\":\"#EBF0F8\",\"showbackground\":true,\"ticks\":\"\",\"zerolinecolor\":\"#EBF0F8\",\"gridwidth\":2},\"zaxis\":{\"backgroundcolor\":\"white\",\"gridcolor\":\"#DFE8F3\",\"linecolor\":\"#EBF0F8\",\"showbackground\":true,\"ticks\":\"\",\"zerolinecolor\":\"#EBF0F8\",\"gridwidth\":2}},\"shapedefaults\":{\"line\":{\"color\":\"#2a3f5f\"}},\"annotationdefaults\":{\"arrowcolor\":\"#2a3f5f\",\"arrowhead\":0,\"arrowwidth\":1},\"geo\":{\"bgcolor\":\"white\",\"landcolor\":\"white\",\"subunitcolor\":\"#C8D4E3\",\"showland\":true,\"showlakes\":true,\"lakecolor\":\"white\"},\"title\":{\"x\":0.05},\"mapbox\":{\"style\":\"light\"}}},\"xaxis\":{\"anchor\":\"y\",\"domain\":[0.0,0.45],\"title\":{\"text\":\"Observed values\"}},\"yaxis\":{\"anchor\":\"x\",\"domain\":[0.0,1.0],\"title\":{\"text\":\"Predicted values\"}},\"xaxis2\":{\"anchor\":\"y2\",\"domain\":[0.55,1.0],\"title\":{\"text\":\"Observed values\"}},\"yaxis2\":{\"anchor\":\"x2\",\"domain\":[0.0,1.0],\"title\":{\"text\":\"Predicted values\"}},\"annotations\":[{\"font\":{\"size\":16},\"showarrow\":false,\"text\":\"Train Set - X:Lac \\u003cbr\\u003e R^2 = 0.912 \\u003cbr\\u003e Abs RMSE = 10.18 \\u003cbr\\u003e Rel RMSE = 0.205\",\"x\":0.225,\"xanchor\":\"center\",\"xref\":\"paper\",\"y\":1.0,\"yanchor\":\"bottom\",\"yref\":\"paper\"},{\"font\":{\"size\":16},\"showarrow\":false,\"text\":\"Test Set - X:Lac \\u003cbr\\u003e R^2 = 0.858 \\u003cbr\\u003e Abs RMSE = 23.299 \\u003cbr\\u003e Rel RMSE = 0.349\",\"x\":0.775,\"xanchor\":\"center\",\"xref\":\"paper\",\"y\":1.0,\"yanchor\":\"bottom\",\"yref\":\"paper\"}],\"shapes\":[{\"layer\":\"above\",\"line\":{\"dash\":\"dash\"},\"type\":\"line\",\"x0\":0.0,\"x1\":168.0481662547013,\"y0\":0.0,\"y1\":168.0481662547013},{\"layer\":\"above\",\"line\":{\"dash\":\"dash\"},\"type\":\"line\",\"x0\":0.0,\"x1\":176.26004958454104,\"xref\":\"x2\",\"y0\":0.0,\"y1\":176.26004958454104,\"yref\":\"y2\"}],\"width\":1600},                        {\"responsive\": true}                    ).then(function(){\n",
       "                            \n",
       "var gd = document.getElementById('7d998e58-f97e-4a97-aa31-5cfd69832cba');\n",
       "var x = new MutationObserver(function (mutations, observer) {{\n",
       "        var display = window.getComputedStyle(gd).display;\n",
       "        if (!display || display === 'none') {{\n",
       "            console.log([gd, 'removed!']);\n",
       "            Plotly.purge(gd);\n",
       "            observer.disconnect();\n",
       "        }}\n",
       "}});\n",
       "\n",
       "// Listen for the removal of the full notebook cells\n",
       "var notebookContainer = gd.closest('#notebook-container');\n",
       "if (notebookContainer) {{\n",
       "    x.observe(notebookContainer, {childList: true});\n",
       "}}\n",
       "\n",
       "// Listen for the clearing of the current output cell\n",
       "var outputEl = gd.closest('.output');\n",
       "if (outputEl) {{\n",
       "    x.observe(outputEl, {childList: true});\n",
       "}}\n",
       "\n",
       "                        })                };                });            </script>        </div>"
      ]
     },
     "metadata": {},
     "output_type": "display_data"
    },
    {
     "data": {
      "application/vnd.plotly.v1+json": {
       "config": {
        "plotlyServerURL": "https://plot.ly"
       },
       "data": [
        {
         "legendgroup": "train_0",
         "mode": "markers",
         "name": "Run id in Train 0",
         "type": "scatter",
         "x": [
          0,
          0.092797611632703,
          1.3613322223015707,
          11.344886505251033,
          52.28927236583092,
          140.5961579864852,
          259.3251210897019,
          375.5879131278478,
          466.0614611226992,
          525.1008308953583,
          559.5121702665116,
          578.501989557713,
          588.7503117163226,
          594.2341048016712,
          597.15618596249
         ],
         "xaxis": "x",
         "y": [
          0,
          0.09797567529285524,
          1.7816684846802,
          15.533931914867662,
          68.57413075033165,
          177.80786819635233,
          322.49465997772893,
          467.03335427942307,
          582.4968699636728,
          674.7178608121153,
          743.8949678767607,
          788.7336596564169,
          817.4210187992445,
          836.0922122458264,
          849.0925230193953
         ],
         "yaxis": "y"
        },
        {
         "legendgroup": "train_1",
         "mode": "markers",
         "name": "Run id in Train 1",
         "type": "scatter",
         "x": [
          0,
          0.0438814612801809,
          0.6754926172763417,
          6.144508366864772,
          32.89209616429462,
          103.50902716060114,
          216.84466709892052,
          346.44671755061927,
          463.7142285131992,
          551.6325993334557,
          608.2207631731609,
          641.4045985098942,
          660.0958645554078,
          670.481486260618,
          676.2162592557202
         ],
         "xaxis": "x",
         "y": [
          0,
          0.06644611490536967,
          1.0924403137218774,
          10.696037521224817,
          54.39025555260363,
          154.4007092313027,
          293.32026841956275,
          432.1717006909477,
          536.2346697412929,
          633.8517110758524,
          704.3425534011426,
          746.4189054156793,
          771.5479169982146,
          786.9892472402668,
          798.151317409259
         ],
         "yaxis": "y"
        },
        {
         "legendgroup": "train_2",
         "mode": "markers",
         "name": "Run id in Train 2",
         "type": "scatter",
         "x": [
          0,
          0.0805992014021038,
          1.8724719368459048,
          19.41861755313492,
          91.75328005105564,
          241.06314503965848,
          434.5519776483289,
          619.9756875720175,
          761.4441456682614,
          851.6236464360761,
          903.333097571553,
          931.7008737773178,
          947.0117744048353,
          955.2202498945722,
          959.6058930504475
         ],
         "xaxis": "x",
         "y": [
          0,
          0.08041994200781342,
          1.45389604785069,
          13.389295757568762,
          62.89973560377505,
          170.04686059013525,
          314.1374378914876,
          453.87493858856755,
          557.6145792426348,
          645.7460753542452,
          701.3086378946628,
          732.0258954908281,
          748.9326220855494,
          758.397875054746,
          764.8138628779748
         ],
         "yaxis": "y"
        },
        {
         "legendgroup": "train_3",
         "mode": "markers",
         "name": "Run id in Train 3",
         "type": "scatter",
         "x": [
          0,
          0.100395228326079,
          2.471584704867094,
          20.810314349562,
          75.25006587798005,
          155.21180957123823,
          231.3966660922219,
          288.1189053801796,
          325.0105400678119,
          347.3566646464407,
          360.4174988213081,
          367.9092782306117,
          372.1621491359598,
          374.5625824428543,
          375.9131407266119
         ],
         "xaxis": "x",
         "y": [
          0,
          0.10240187865827967,
          2.3479671106763846,
          20.213080460854826,
          79.54970903941957,
          177.00487475929083,
          276.4789022658603,
          355.9464962637265,
          417.2029798286801,
          458.000768263238,
          482.49231904259966,
          500.5958117063151,
          513.6469106027105,
          522.6902511258907,
          527.7197705883782
         ],
         "yaxis": "y"
        },
        {
         "legendgroup": "train_4",
         "mode": "markers",
         "name": "Run id in Train 4",
         "type": "scatter",
         "x": [
          0,
          0.1292531886788032,
          2.811811054279715,
          23.20550382163473,
          91.22866564904736,
          213.66138340861409,
          360.48179504747,
          495.63502362499145,
          597.2236779261053,
          662.0367074378605,
          700.2481804040611,
          722.5010954289212,
          735.4205903119163,
          742.9151800957571,
          747.2620778238343
         ],
         "xaxis": "x",
         "y": [
          0,
          0.13386931062691426,
          2.698152597085201,
          22.048654462785596,
          86.82201286545524,
          201.4106531746454,
          330.36636149250484,
          436.29639129828803,
          508.11315273574183,
          557.758398605783,
          573.0931606121833,
          576.8837568789834,
          575.8826961377674,
          573.1283132159043,
          570.6879846315514
         ],
         "yaxis": "y"
        },
        {
         "legendgroup": "train_5",
         "mode": "markers",
         "name": "Run id in Train 5",
         "type": "scatter",
         "x": [
          0,
          0.1191344970680277,
          2.2379543730029474,
          17.6686268146821,
          70.79210067044147,
          170.7629621239597,
          293.6414359032689,
          406.8318234868232,
          490.7890370390738,
          543.5352893767821,
          573.8362605087634,
          590.8523186228688,
          600.3258243064748,
          605.5779966984201,
          608.4835154549434
         ],
         "xaxis": "x",
         "y": [
          0,
          0.14606700573875672,
          3.0049177287330444,
          24.42308023797866,
          94.77415722745263,
          218.44244791838415,
          361.32803361411123,
          487.1629668675964,
          584.1834138998954,
          639.2736723631486,
          662.1627193784617,
          674.3295753503359,
          680.5556528392887,
          683.4871497206586,
          684.3080706865248
         ],
         "yaxis": "y"
        },
        {
         "legendgroup": "train_6",
         "mode": "markers",
         "name": "Run id in Train 6",
         "type": "scatter",
         "x": [
          0,
          0.0684760856557625,
          1.419909024026719,
          12.974359746806352,
          60.01220329000836,
          161.81840299179677,
          300.87029124327046,
          440.31555861369503,
          552.4775099714313,
          628.9702012520282,
          675.981959241405,
          703.4448217414291,
          719.1329460060222,
          728.0050414796943,
          732.9958800156783
         ],
         "xaxis": "x",
         "y": [
          0,
          0.06831607759380165,
          1.5672764342703631,
          15.078588083974878,
          69.1276766092543,
          180.59387566636536,
          325.57461920503545,
          464.1389426787394,
          571.6039985185082,
          638.7028462347322,
          676.9370198694926,
          696.1589658355458,
          704.9230300761258,
          708.1247950555991,
          706.6916740851937
         ],
         "yaxis": "y"
        },
        {
         "legendgroup": "train_7",
         "mode": "markers",
         "name": "Run id in Train 7",
         "type": "scatter",
         "x": [
          0,
          0.1012025981276605,
          2.7202639401550184,
          25.946291951340097,
          104.55968898992953,
          237.42432217784472,
          385.7596767399676,
          515.6947127178214,
          611.4373805988364,
          671.5705931211872,
          704.2589949515327,
          720.6883271094672,
          728.8537430043472,
          732.9016580530529,
          734.9060666799251
         ],
         "xaxis": "x",
         "y": [
          0,
          0.07561447917200009,
          1.6993783196653787,
          16.07996625264103,
          71.79173484461408,
          184.55365998570826,
          334.62380876868696,
          489.2100669080414,
          623.8964661991198,
          711.2374023220249,
          773.3632805273475,
          816.8480752375827,
          846.9858933808314,
          867.751537770475,
          880.2872541230674
         ],
         "yaxis": "y"
        },
        {
         "legendgroup": "train_8",
         "mode": "markers",
         "name": "Run id in Train 8",
         "type": "scatter",
         "x": [
          0,
          0.0851032436703326,
          1.6658115757244931,
          14.546461217109194,
          61.856051928684174,
          151.27308669024367,
          259.1592993253078,
          357.334846431788,
          431.0590970254083,
          479.022153470829,
          508.0532921590253,
          525.365934354859,
          535.6297084406955,
          541.6976620375669,
          545.27993727455
         ],
         "xaxis": "x",
         "y": [
          0,
          0.07950923422166867,
          1.8668891915781225,
          17.300402130810518,
          73.4592749528856,
          177.95427411911587,
          307.7441952230727,
          439.9176880695269,
          561.152709733387,
          641.493464343846,
          704.3749113571266,
          753.7797111256779,
          791.1882189085153,
          818.7686937852752,
          836.9808016174684
         ],
         "yaxis": "y"
        },
        {
         "legendgroup": "train_9",
         "mode": "markers",
         "name": "Run id in Train 9",
         "type": "scatter",
         "x": [
          0,
          0.1028398753471017,
          2.103522354496929,
          19.1988180976768,
          85.1350472831614,
          219.1183953406561,
          393.9596615083559,
          564.5612087274179,
          699.1155234613333,
          788.6518291426167,
          842.1815810738857,
          873.2435171883614,
          891.1142870152056,
          901.354027797561,
          907.2091784828596
         ],
         "xaxis": "x",
         "y": [
          0,
          0.1111529872310834,
          2.3164952240157555,
          19.983258807632573,
          83.24597867770551,
          205.11696133372874,
          359.62833719194344,
          507.54071547640405,
          626.7439518631238,
          701.5152419348428,
          740.0561451856662,
          762.7349240335159,
          776.3803701198879,
          784.6489149916754,
          789.095979726599
         ],
         "yaxis": "y"
        },
        {
         "legendgroup": "train_10",
         "mode": "markers",
         "name": "Run id in Train 10",
         "type": "scatter",
         "x": [
          0,
          0.1470472010409363,
          2.9395090312997345,
          23.907085129044823,
          94.4340857277404,
          222.15876723868627,
          376.173402702402,
          519.0120298827978,
          629.2136941295797,
          703.9973447636482,
          751.0994673201072,
          779.894701007298,
          797.2898945846578,
          807.7290935704646,
          813.9704468733556
         ],
         "xaxis": "x",
         "y": [
          0,
          0.1600868785209344,
          3.067230524119818,
          24.240584064021,
          93.10047883894276,
          214.37445106661664,
          355.90527009706165,
          484.1558991121509,
          584.5641121681706,
          652.7128040712696,
          694.9502626600292,
          722.6178427505118,
          740.3693523556306,
          751.9102490899994,
          760.3748015155757
         ],
         "yaxis": "y"
        },
        {
         "legendgroup": "train_11",
         "mode": "markers",
         "name": "Run id in Train 11",
         "type": "scatter",
         "x": [
          0,
          0.0556307506924713,
          1.1065410833519418,
          10.442983811546242,
          49.7319003225286,
          136.7043717804452,
          257.8011614687863,
          382.7422886002216,
          487.86676658106586,
          562.6715615249985,
          608.3546958190284,
          633.1935451255907,
          646.0518497587835,
          652.6518651413129,
          656.027854624254
         ],
         "xaxis": "x",
         "y": [
          0,
          0.045743381421581006,
          1.0303209907286697,
          11.547132515274274,
          59.77490122738269,
          170.84994543020804,
          333.9615900778218,
          513.4765203582873,
          672.7068126709507,
          783.7426429685034,
          868.4127388423859,
          927.3312725539733,
          968.071425506401,
          996.2707019886517,
          1014.1156445496829
         ],
         "yaxis": "y"
        },
        {
         "legendgroup": "train_12",
         "mode": "markers",
         "name": "Run id in Train 12",
         "type": "scatter",
         "x": [
          0,
          0.0957275931281071,
          2.1989010548873216,
          21.008466194877247,
          90.19693953948467,
          219.60531486072665,
          377.135888175285,
          525.2129981916805,
          641.1756714731843,
          717.6803021019153,
          762.8002614230991,
          789.3356986651899,
          805.0428185578367,
          814.3821516360006,
          819.9510724635422
         ],
         "xaxis": "x",
         "y": [
          0,
          0.0830021329861233,
          1.7643796161746241,
          16.271461675439703,
          71.98570549556035,
          184.21509320087154,
          330.6945076755795,
          474.58212927015444,
          591.8527078957395,
          675.0766809782536,
          723.2568688325111,
          753.642426590618,
          773.5401992190637,
          786.7778706672427,
          795.328984986516
         ],
         "yaxis": "y"
        },
        {
         "legendgroup": "train_13",
         "mode": "markers",
         "name": "Run id in Train 13",
         "type": "scatter",
         "x": [
          0,
          0.126685644391205,
          2.709713044740282,
          22.88392124144616,
          89.20221911536494,
          206.81176871007776,
          349.61302693672366,
          489.0196357593948,
          608.4666855907725,
          701.9356498165585,
          771.8164492794015,
          823.2980027038677,
          860.7887955412502,
          887.8549193392146,
          907.272589700129
         ],
         "xaxis": "x",
         "y": [
          0,
          0.11000644229097081,
          2.155946212509729,
          18.65163981289089,
          79.4757928276339,
          201.41493836276152,
          362.56801519336346,
          522.1896739535534,
          652.1571899877807,
          744.3441783973109,
          795.1749612108224,
          826.8818021424012,
          847.5791058854265,
          861.4877372194129,
          871.6249579170532
         ],
         "yaxis": "y"
        },
        {
         "legendgroup": "train_14",
         "mode": "markers",
         "name": "Run id in Train 14",
         "type": "scatter",
         "x": [
          0,
          0.1013702250456762,
          2.1058490748674403,
          16.59441652082327,
          62.97895653051971,
          141.93107867311176,
          230.2050203966937,
          305.7669497866212,
          360.0731727576222,
          394.9735315102163,
          416.0051240570907,
          428.30285971623033,
          435.3986662484396,
          439.46310823492814,
          441.7818145495612
         ],
         "xaxis": "x",
         "y": [
          0,
          0.10872397872797523,
          2.492492328034051,
          21.56183339096523,
          86.24921311174664,
          200.26014479143868,
          334.23611369584023,
          462.50449389749707,
          576.2829570926485,
          636.9187244465852,
          681.5264649066607,
          715.7752103176513,
          740.5826934950943,
          757.9475980892555,
          767.294655967889
         ],
         "yaxis": "y"
        },
        {
         "legendgroup": "train_15",
         "mode": "markers",
         "name": "Run id in Train 15",
         "type": "scatter",
         "x": [
          0,
          0.1976090037256626,
          3.3927702387124063,
          23.636949194399804,
          85.44917827364986,
          192.507186066978,
          317.79233973405417,
          430.2661527934913,
          514.6981721858238,
          571.6594039805899,
          608.0504186881034,
          630.7055391847287,
          644.6239133496756,
          653.1090738546142,
          658.2585534546254
         ],
         "xaxis": "x",
         "y": [
          0,
          0.15610661756907926,
          3.041743359989411,
          24.102011360954585,
          92.71536378379992,
          212.60687489629046,
          347.38348638547876,
          459.26547313418996,
          536.3019333432655,
          587.0551979804636,
          606.875347153446,
          614.0437940336941,
          614.9864244957733,
          613.3181864483867,
          611.6650272616334
         ],
         "yaxis": "y"
        },
        {
         "legendgroup": "train_16",
         "mode": "markers",
         "name": "Run id in Train 16",
         "type": "scatter",
         "x": [
          0,
          0.0681559838030328,
          1.809073710788191,
          18.894057657289583,
          87.87411848503078,
          222.15306394539576,
          380.1302377633172,
          514.2524370799309,
          606.4384514608811,
          662.7223667936963,
          695.555548054108,
          714.351100475548,
          725.0061572878042,
          731.0154172257579,
          734.395042279861
         ],
         "xaxis": "x",
         "y": [
          0,
          0.08461271250090861,
          1.901996130887456,
          17.200882189648322,
          72.97097351888496,
          176.51957774664328,
          297.5018180229074,
          402.18889747239285,
          478.6304933856009,
          534.7769785677234,
          557.977213064524,
          569.3159449689767,
          575.1841276689051,
          578.0972337317432,
          579.1052838240641
         ],
         "yaxis": "y"
        },
        {
         "legendgroup": "train_17",
         "mode": "markers",
         "name": "Run id in Train 17",
         "type": "scatter",
         "x": [
          0,
          0.0523875912045667,
          1.0849335710743253,
          12.397227255057013,
          66.70721155080555,
          188.80699893000047,
          348.628846772129,
          496.08738150173247,
          601.4153982598878,
          663.0960593211578,
          695.1996723973907,
          711.1167021937663,
          718.8884764897649,
          722.6619862234576,
          724.4893742827281
         ],
         "xaxis": "x",
         "y": [
          0,
          0.04908153188422526,
          0.9477359930050978,
          10.280423488236242,
          53.61896959396242,
          151.81652283735912,
          287.53497679138303,
          424.21715568743065,
          530.9412667036813,
          624.0007739308935,
          688.9025589114774,
          728.8685976609115,
          753.8882618665334,
          769.909043786737,
          780.6914140024778
         ],
         "yaxis": "y"
        },
        {
         "legendgroup": "train_18",
         "mode": "markers",
         "name": "Run id in Train 18",
         "type": "scatter",
         "x": [
          0,
          0.1639102116690734,
          3.8162534234110383,
          31.58840454920204,
          114.39074843849652,
          241.3088462821016,
          370.4678011577989,
          471.1031059119348,
          535.6510464509408,
          572.128189881369,
          591.4918214759558,
          601.5111889632029,
          606.6413906815634,
          609.2569591728045,
          610.5876432724958
         ],
         "xaxis": "x",
         "y": [
          0,
          0.11792944431554733,
          2.263542281905861,
          18.916165424885442,
          78.03444394199188,
          190.6915283071004,
          330.9648244127826,
          465.7880795478622,
          573.7754034522517,
          650.9074236278354,
          709.2405233075727,
          747.5991546046275,
          771.9759822381243,
          787.5461350474307,
          797.5210181909201
         ],
         "yaxis": "y"
        },
        {
         "legendgroup": "train_19",
         "mode": "markers",
         "name": "Run id in Train 19",
         "type": "scatter",
         "x": [
          0,
          0.0505855307401332,
          0.7731813124812714,
          7.184421272127962,
          37.25298009873588,
          115.1935842742996,
          242.32338018719167,
          394.73911488863234,
          545.1012315383621,
          674.650318014126,
          773.6935723337805,
          841.3285038140069,
          886.4955483862935,
          916.9128576810516,
          937.5175526384209
         ],
         "xaxis": "x",
         "y": [
          0,
          0.05813574880410268,
          1.0920619665556295,
          11.607889514823492,
          60.445405891272664,
          176.8763847624442,
          352.6110946024527,
          546.929282415595,
          715.9801419068276,
          841.34680825502,
          931.622756239673,
          992.7889727315387,
          1034.6380286561396,
          1063.657629949239,
          1083.7040611203172
         ],
         "yaxis": "y"
        },
        {
         "legendgroup": "train_20",
         "mode": "markers",
         "name": "Run id in Train 20",
         "type": "scatter",
         "x": [
          0,
          0.0915554388125294,
          1.4366858757504155,
          11.928970502230491,
          53.67457630212952,
          146.1927370451157,
          280.04669851927497,
          428.060670855728,
          566.6052658898965,
          682.1106352455298,
          770.8251180076209,
          837.8042548390449,
          888.0843487843646,
          925.6076691649102,
          953.4701546514614
         ],
         "xaxis": "x",
         "y": [
          0,
          0.09755267427308915,
          1.8549280211603105,
          16.508013582074977,
          72.91622594586836,
          190.20661312433063,
          351.0842130139523,
          518.5119406917506,
          660.8608200706715,
          767.0462490081874,
          838.956950341489,
          888.2930320205664,
          922.5742846331044,
          946.7142845848406,
          964.4155316441643
         ],
         "yaxis": "y"
        },
        {
         "legendgroup": "train_21",
         "mode": "markers",
         "name": "Run id in Train 21",
         "type": "scatter",
         "x": [
          0,
          0.0454423452358374,
          1.1013957732707498,
          11.683792867331864,
          56.45241865774136,
          146.59492034354986,
          256.76227566297626,
          357.042961240522,
          434.29519153866727,
          488.4943856651632,
          524.5699907625919,
          547.8640170424655,
          562.6401568767717,
          571.9132370136097,
          577.6950160457868
         ],
         "xaxis": "x",
         "y": [
          0,
          0.05809527870697609,
          1.3486710727189393,
          13.232023587113575,
          59.90390902841179,
          149.03037502568827,
          253.8179495493779,
          348.7393704765371,
          421.7031722765429,
          483.16286133672116,
          530.8954013937982,
          562.5839213339189,
          583.3146926621207,
          596.793278143092,
          604.6001707677943
         ],
         "yaxis": "y"
        },
        {
         "legendgroup": "train_22",
         "mode": "markers",
         "name": "Run id in Train 22",
         "type": "scatter",
         "x": [
          0,
          0.1684018704459252,
          2.606331206432606,
          19.23471850074958,
          74.87373864573715,
          179.35310787462046,
          310.5416686503349,
          437.6163948606052,
          538.702308905668,
          604.4739001907734,
          639.9806594585657,
          657.8477494723851,
          666.7818276304306,
          671.2398888749135,
          673.4624594029277
         ],
         "xaxis": "x",
         "y": [
          0,
          0.16237089434596608,
          2.949890786525579,
          23.16454617142754,
          91.24591566278798,
          219.03949582039678,
          377.113553628519,
          522.108307256681,
          629.1817001957868,
          707.5777810084993,
          747.4463803139831,
          768.1818094243224,
          778.6279607678939,
          783.9343572982283,
          788.7142449674199
         ],
         "yaxis": "y"
        },
        {
         "legendgroup": "train_23",
         "mode": "markers",
         "name": "Run id in Train 23",
         "type": "scatter",
         "x": [
          0,
          0.1334153595382972,
          3.089811960997721,
          27.012303141427168,
          110.80710225753842,
          270.82588859452034,
          479.7627554821577,
          695.7189975420514,
          877.4831874852433,
          907.5016715520344,
          907.5016724299692,
          907.5016724128424,
          907.5016728258174,
          907.5016722078176,
          907.5016722025266
         ],
         "xaxis": "x",
         "y": [
          0,
          0.1376714913337216,
          2.952723188789298,
          24.96998499281375,
          100.16875699709445,
          242.61696202131165,
          431.72867723655173,
          631.2146977850348,
          815.712853019588,
          914.1862283469908,
          975.8108144690734,
          1023.2817031971433,
          1058.9601708377957,
          1085.1917913819964,
          1102.0672591612404
         ],
         "yaxis": "y"
        },
        {
         "legendgroup": "train_24",
         "mode": "markers",
         "name": "Run id in Train 24",
         "type": "scatter",
         "x": [
          0,
          0.0369718156697984,
          0.9843644085661748,
          11.378321165942422,
          57.80677261386413,
          155.02627221181052,
          280.2945376719491,
          402.580036516236,
          502.8883556795072,
          574.7531920548328,
          620.5670310436815,
          647.3382193397189,
          662.3512320247443,
          670.6982324838854,
          675.3226654764776
         ],
         "xaxis": "x",
         "y": [
          0,
          0.02903904942004268,
          0.8778171763820259,
          10.577545403709511,
          54.03189662169767,
          145.89138160969344,
          268.11674528670005,
          396.13988681044407,
          509.49832255823844,
          591.6593550122561,
          663.3807002061461,
          715.2672665074829,
          751.7261682221263,
          776.9838431059098,
          791.833701364455
         ],
         "yaxis": "y"
        },
        {
         "legendgroup": "train_25",
         "mode": "markers",
         "name": "Run id in Train 25",
         "type": "scatter",
         "x": [
          0,
          0.0824634762215527,
          2.106321376398896,
          19.494379182753804,
          80.96977513457726,
          193.14884215415083,
          330.34750602465067,
          464.3260998614456,
          578.1431088131873,
          664.9211108119922,
          724.4296973700812,
          762.1044464931385,
          785.9051598723119,
          801.0661711958087,
          810.7803554335553
         ],
         "xaxis": "x",
         "y": [
          0,
          0.07396191940903558,
          1.803520077124744,
          16.979572687037766,
          73.27247906527829,
          180.1478859158298,
          314.3060930633944,
          450.05126546531096,
          572.1547496957019,
          645.8100447226873,
          704.5184005306593,
          748.5878060068403,
          780.3254883924317,
          802.6321892379592,
          815.3685935906982
         ],
         "yaxis": "y"
        },
        {
         "legendgroup": "train_26",
         "mode": "markers",
         "name": "Run id in Train 26",
         "type": "scatter",
         "x": [
          0,
          0.0284541274614131,
          0.5820223432530234,
          6.243765512138137,
          33.54192272798116,
          95.7967587677016,
          176.9765461921374,
          252.0034454564192,
          309.1011638220337,
          348.13441142469685,
          373.2674247500301,
          388.9065408698552,
          398.44813971650825,
          404.2023419943497,
          407.6489052838648
         ],
         "xaxis": "x",
         "y": [
          0,
          0.03501401663192817,
          0.9855992867077036,
          11.069795986817812,
          54.221918723035685,
          140.44715366258484,
          244.1762178144802,
          337.6090157620838,
          407.3875086759268,
          467.2188682666232,
          507.77618000791813,
          532.6185132267898,
          548.0616479325013,
          557.579431245751,
          562.1609168875702
         ],
         "yaxis": "y"
        },
        {
         "legendgroup": "train_27",
         "mode": "markers",
         "name": "Run id in Train 27",
         "type": "scatter",
         "x": [
          0,
          0.0847442285126015,
          1.8321463933308133,
          17.45268543252457,
          79.80588660557672,
          207.9115678201446,
          378.0310948876776,
          552.8292276347343,
          706.0849494132782,
          825.0656926101584,
          906.9088163843452,
          959.7680106177736,
          994.3155994053012,
          1017.1483683080728,
          1032.349344219952
         ],
         "xaxis": "x",
         "y": [
          0,
          0.09452858062883186,
          1.9699376667242443,
          17.558676581394053,
          75.3369739239248,
          188.79387247102687,
          335.4598179925342,
          482.07144958897527,
          605.9580862384267,
          689.9877886992799,
          747.9622823702354,
          787.6924759083932,
          814.7550105387986,
          833.2157206878559,
          845.036015169488
         ],
         "yaxis": "y"
        },
        {
         "legendgroup": "train_28",
         "mode": "markers",
         "name": "Run id in Train 28",
         "type": "scatter",
         "x": [
          0,
          0.0747824078450999,
          1.2639312147458257,
          13.00186146318898,
          70.58783726161896,
          210.9075187039407,
          421.1963222355897,
          658.0917502549977,
          885.2096724093011,
          1083.6428215968845,
          1247.6241983466907,
          1378.0567228950367,
          1478.6919325567635,
          1554.9066628685762,
          1611.8217044951684
         ],
         "xaxis": "x",
         "y": [
          0,
          0.07085288993740371,
          1.3310685272767535,
          13.05169504980228,
          63.0661267312072,
          174.99142067096733,
          338.6058959523784,
          521.293859153413,
          685.7311889580294,
          808.7391444474273,
          908.7636604980498,
          981.3013609536165,
          1033.033742572342,
          1069.9513586625312,
          1095.9361035088937
         ],
         "yaxis": "y"
        },
        {
         "legendgroup": "train_29",
         "mode": "markers",
         "name": "Run id in Train 29",
         "type": "scatter",
         "x": [
          0,
          0.0859524653968408,
          1.846390635216046,
          18.67091729832891,
          87.11387435191574,
          225.6003779933273,
          406.4929073714057,
          591.3090014757036,
          755.4719921287747,
          889.1227508376217,
          990.981130417612,
          1063.1641902209965,
          1110.2595402503275,
          1140.86081707277,
          1161.0101694475163
         ],
         "xaxis": "x",
         "y": [
          0,
          0.12348024219259637,
          2.3455778704424244,
          19.430984471089683,
          79.7440179175971,
          194.97415631233392,
          339.8553263227063,
          480.97722469488804,
          595.5699226955538,
          676.0261115736391,
          738.0892375627628,
          779.4593084969104,
          806.0348945154773,
          823.1963305093284,
          834.3218208456559
         ],
         "yaxis": "y"
        },
        {
         "legendgroup": "train_30",
         "mode": "markers",
         "name": "Run id in Train 30",
         "type": "scatter",
         "x": [
          0,
          0.0645331313775414,
          1.5034420274973632,
          15.75627268661195,
          78.22802333351575,
          217.76119069005108,
          421.132071656061,
          654.4556643476976,
          887.4757676941509,
          1101.0355474430337,
          1286.199613214318,
          1439.9333577788136,
          1562.796556866039,
          1655.794318501114,
          1705.8431496804849
         ],
         "xaxis": "x",
         "y": [
          0,
          0.061740781797473915,
          1.6234580340109268,
          15.985151422344561,
          70.9346032734083,
          177.64189244092782,
          314.52327048015206,
          455.43085802028656,
          583.6997208845496,
          659.677275297634,
          719.4007632361087,
          764.2982821911747,
          796.8068841828173,
          819.7328402452948,
          832.4762291968283
         ],
         "yaxis": "y"
        },
        {
         "legendgroup": "test_0",
         "mode": "markers",
         "name": "Run id in Test 0",
         "type": "scatter",
         "x": [
          0,
          0.164105508211151,
          3.673744786136776,
          35.32186247671071,
          154.34678831320295,
          387.7950784521392,
          693.7864209487878,
          1013.615495248714,
          1308.0461540356737,
          1559.5112502067666,
          1764.0166792193825,
          1924.0159855683603,
          2045.8920299168967,
          2138.039188646103,
          2207.32270920506
         ],
         "xaxis": "x2",
         "y": [
          0,
          0.13766772709078412,
          2.6996595738111395,
          22.489286656460038,
          92.84979146435832,
          233.79939390281228,
          425.24248220859533,
          622.7799784037175,
          791.9581287465617,
          889.5553438341251,
          951.1690025019042,
          991.1185825194904,
          1016.5960052152434,
          1032.9546668265436,
          1042.4762412065515
         ],
         "yaxis": "y2"
        },
        {
         "legendgroup": "test_1",
         "mode": "markers",
         "name": "Run id in Test 1",
         "type": "scatter",
         "x": [
          0,
          0.0763700634007142,
          1.2004047047372728,
          10.769047562231066,
          55.331509943793534,
          169.67881535568202,
          356.9149807868821,
          587.3658271878509,
          826.3777227138344,
          1049.7114958711982,
          1245.9405162620585,
          1411.3748743127069,
          1546.3862233793775,
          1653.611268198273,
          1736.5908399465277
         ],
         "xaxis": "x2",
         "y": [
          0,
          0.10561897179134615,
          2.2383478236572145,
          19.662921488728433,
          81.86221040238745,
          200.91187185217345,
          356.70123348129636,
          520.2717994662889,
          670.0240403874147,
          767.2670470172889,
          837.8152116068783,
          892.1784607936511,
          933.0589629410322,
          963.2748979447207,
          984.3113158262425
         ],
         "yaxis": "y2"
        },
        {
         "legendgroup": "test_2",
         "mode": "markers",
         "name": "Run id in Test 2",
         "type": "scatter",
         "x": [
          0,
          0.0854355568288807,
          1.6092625643264258,
          15.15306007085573,
          73.21962446854067,
          204.75841445857023,
          398.2225074477981,
          618.5671629053375,
          834.8994407537554,
          1028.7815128523432,
          1191.952374312491,
          1323.1237497744814,
          1427.1505262970163,
          1509.177096006116,
          1573.4842264771685
         ],
         "xaxis": "x2",
         "y": [
          0,
          0.0741845610512533,
          1.4977247798310869,
          14.435585120429513,
          67.35629957007738,
          181.68443302898802,
          345.114798508391,
          525.4961116900897,
          688.9939496924292,
          804.2350776579694,
          896.0110817477128,
          963.1348963823949,
          1011.2988846165586,
          1045.7276875602315,
          1069.2712273949558
         ],
         "yaxis": "y2"
        },
        {
         "legendgroup": "test_3",
         "mode": "markers",
         "name": "Run id in Test 3",
         "type": "scatter",
         "x": [
          0,
          0.0532844883797582,
          1.1745834254072027,
          12.400110906230712,
          64.33322629187558,
          186.9762484824127,
          370.7059655837582,
          580.4291461413053,
          784.4388717931332,
          964.694945425899,
          1113.2574886158343,
          1206.3258825585165,
          1206.325890023906,
          1206.3258900094436,
          1206.3258900076912
         ],
         "xaxis": "x2",
         "y": [
          0,
          0.07558705936699509,
          1.6917994800679192,
          16.070310911945782,
          71.15749059242516,
          181.35038438041784,
          330.2746402080693,
          492.3872642808994,
          644.2543681720716,
          746.3825325786294,
          829.7540752194748,
          894.3717647816608,
          942.7509094380933,
          978.289206674359,
          1002.3387957036008
         ],
         "yaxis": "y2"
        },
        {
         "legendgroup": "test_4",
         "mode": "markers",
         "name": "Run id in Test 4",
         "type": "scatter",
         "x": [
          0,
          0.1271028978965827,
          3.043268173982997,
          28.535584577172003,
          116.56093471808562,
          271.0820879759505,
          454.3992159877672,
          629.9846449120229,
          777.5049250060061,
          889.0424907203862,
          965.8903434918803,
          1018.7426183492312,
          1055.7385430042384,
          1081.8878031673305,
          1100.471520461802
         ],
         "xaxis": "x2",
         "y": [
          0,
          0.12895676633140257,
          2.589002954450196,
          21.242172057936074,
          83.34650825134592,
          191.43330171310143,
          313.1392046156188,
          420.37773675457083,
          503.8273444580184,
          564.3907525985951,
          605.1014690040181,
          632.965657995009,
          651.634127969452,
          664.1491596185974,
          672.7975311346559
         ],
         "yaxis": "y2"
        },
        {
         "legendgroup": "test_5",
         "mode": "markers",
         "name": "Run id in Test 5",
         "type": "scatter",
         "x": [
          0,
          0.030935924736293,
          0.804162343449244,
          10.870548517297646,
          65.22768655509961,
          195.8585375096484,
          380.0010361514075,
          573.2161531583585,
          744.9282135378564,
          881.5839367271855,
          980.1323846987966,
          1043.8984122969127,
          1083.679069018441,
          1108.8968951501029,
          1125.052087317103
         ],
         "xaxis": "x2",
         "y": [
          0,
          0.023395598034711834,
          0.7402730297642348,
          9.73626104329039,
          52.74404215101082,
          149.02826417200856,
          283.7649058651069,
          427.9477429369653,
          555.016824060526,
          647.1884344524082,
          721.1253147156715,
          773.2419723917233,
          809.5645502330433,
          834.6925673067897,
          849.7300706365866
         ],
         "yaxis": "y2"
        },
        {
         "legendgroup": "test_6",
         "mode": "markers",
         "name": "Run id in Test 6",
         "type": "scatter",
         "x": [
          0,
          0.1544111652934467,
          3.7599944327811374,
          32.09025603312709,
          125.87188314534892,
          296.2627151898705,
          514.158742340626,
          743.343236146268,
          958.7202578978104,
          1147.7971737836272,
          1306.3166571781155,
          1434.1989079569498,
          1533.80175002571,
          1606.8302417039786,
          1642.45281821088
         ],
         "xaxis": "x2",
         "y": [
          0,
          0.11709520028039325,
          2.6463195773236756,
          22.933226717696847,
          92.76371495832655,
          222.40915369822835,
          389.15687645643743,
          563.1281842554909,
          725.5807946848381,
          810.1866458575756,
          871.1577014600252,
          919.097943289091,
          954.9286082967458,
          980.9052782562835,
          996.3670405210522
         ],
         "yaxis": "y2"
        },
        {
         "legendgroup": "test_7",
         "mode": "markers",
         "name": "Run id in Test 7",
         "type": "scatter",
         "x": [
          0,
          0.1286279523117829,
          2.342442711201244,
          20.45181017599882,
          88.7824526964827,
          226.36982620800097,
          411.3388964710858,
          608.2362445845563,
          791.3387220952158,
          948.0160994755988,
          1074.6884871389736,
          1173.7661017215894,
          1250.2321253331695,
          1308.6545890123389,
          1352.9446842650268
         ],
         "xaxis": "x2",
         "y": [
          0,
          0.12075767164948314,
          2.5129691265829064,
          21.399042005830093,
          86.7529865687183,
          209.09248184114193,
          367.30121265619135,
          534.431514894441,
          689.79466377159,
          784.4667603915887,
          861.4667346613571,
          921.6316088077366,
          966.3330622694089,
          998.886142544122,
          1020.6654773514222
         ],
         "yaxis": "y2"
        },
        {
         "legendgroup": "test_8",
         "mode": "markers",
         "name": "Run id in Test 8",
         "type": "scatter",
         "x": [
          0,
          0.0394649376441817,
          1.139667969188726,
          15.14525494943351,
          86.48169581613604,
          251.5004556721223,
          483.3663578645889,
          731.0518874452288,
          958.0819454950264,
          1148.0484050576056,
          1297.9680603092725,
          1411.989486887015,
          1497.089986665622,
          1559.7604330226195,
          1605.464984209573
         ],
         "xaxis": "x2",
         "y": [
          0,
          0.04269745596658433,
          1.2091369053427585,
          13.192125880773233,
          62.91380951162357,
          165.4293288332766,
          304.9403581838716,
          457.3340202383278,
          600.8735070852285,
          694.4383650656641,
          773.1825516070926,
          833.7814966694841,
          878.7603655490674,
          911.375286837427,
          931.6940113081446
         ],
         "yaxis": "y2"
        },
        {
         "legendgroup": "test_9",
         "mode": "markers",
         "name": "Run id in Test 9",
         "type": "scatter",
         "x": [
          0,
          0.1036825935213099,
          1.8759111567395288,
          18.21704051387724,
          91.8183531595854,
          260.8827697220299,
          506.8788143193637,
          781.838227586801,
          1046.7682798947126,
          1280.778709654132,
          1476.298589359522,
          1632.8559662496232,
          1755.007587791339,
          1849.4347546111003,
          1921.8083818131647
         ],
         "xaxis": "x2",
         "y": [
          0,
          0.13219374312874282,
          2.370662509499167,
          19.30772949923127,
          80.07908896164729,
          200.5050436292683,
          355.95167044463676,
          505.0495495646985,
          618.6844251133074,
          705.2188322062929,
          760.3329525400508,
          792.4450157775515,
          810.8023999981863,
          821.5285880940427,
          829.3543444734572
         ],
         "yaxis": "y2"
        },
        {
         "legendgroup": "test_10",
         "mode": "markers",
         "name": "Run id in Test 10",
         "type": "scatter",
         "x": [
          0,
          0.033277931111437,
          0.8132238560741042,
          10.333914533136843,
          62.58970950350485,
          199.6988231884692,
          417.1718619309535,
          676.330732512661,
          939.1524970150888,
          1180.983227181542,
          1390.170136335851,
          1563.3064485232628,
          1701.95789351015,
          1809.547328888428,
          1888.9141371741127
         ],
         "xaxis": "x2",
         "y": [
          0,
          0.012245891892956787,
          0.6253242420069387,
          9.208201891315227,
          51.22533230538609,
          144.7792990088981,
          273.88065440979483,
          410.06583954550763,
          529.6791142216638,
          614.6652082867593,
          680.2754781042587,
          726.1960429855064,
          758.2085769816935,
          780.270761929328,
          792.6352535913567
         ],
         "yaxis": "y2"
        },
        {
         "legendgroup": "test_11",
         "mode": "markers",
         "name": "Run id in Test 11",
         "type": "scatter",
         "x": [
          0,
          0.1118108026724597,
          2.1126090047105106,
          18.77205000238081,
          84.87085727760795,
          228.50531207380084,
          435.6558878139516,
          668.8032561927158,
          895.4518317980693,
          1097.2160759654264,
          1265.227919580515,
          1394.4376892168991,
          1438.9121368714896,
          1438.912136900354,
          1438.9121368621752
         ],
         "xaxis": "x2",
         "y": [
          0,
          0.12975990907930707,
          2.7195178071689083,
          22.965174500223753,
          92.81836052574798,
          224.80961885938729,
          395.2349272984112,
          567.7054965793469,
          719.3667882950842,
          805.800617031553,
          858.6824295587838,
          896.50062322066,
          923.2939534917944,
          942.1272663106289,
          953.9490861228044
         ],
         "yaxis": "y2"
        },
        {
         "legendgroup": "test_12",
         "mode": "markers",
         "name": "Run id in Test 12",
         "type": "scatter",
         "x": [
          0,
          0.0650874739368107,
          1.33934994937356,
          14.466734103189973,
          74.60934099159422,
          210.60068625199736,
          400.4768112958397,
          600.4514122099282,
          779.6668898642205,
          924.9762614027202,
          1034.1850931258248,
          1112.6561662642366,
          1168.7389344412495,
          1208.6574097766354,
          1236.961352495897
         ],
         "xaxis": "x2",
         "y": [
          0,
          0.06748497157363409,
          1.4422837752755768,
          14.21510582586473,
          66.96748916966284,
          180.54472424887408,
          339.5213991590203,
          507.9262807945449,
          654.1411126748192,
          756.040270120745,
          827.5020471576096,
          876.6280370567799,
          910.5614302378482,
          934.0983928245159,
          949.4357016300637
         ],
         "yaxis": "y2"
        },
        {
         "legendgroup": "test_13",
         "mode": "markers",
         "name": "Run id in Test 13",
         "type": "scatter",
         "x": [
          0,
          0.0775713556726022,
          1.3323293824109703,
          13.675349791909884,
          68.84965330185243,
          191.6274019310073,
          360.435675788076,
          535.5707719825474,
          690.6325828391189,
          815.7192240186338,
          910.6561554434476,
          979.3800966114234,
          1027.9620633680902,
          1062.0100828210157,
          1085.7278565677673
         ],
         "xaxis": "x2",
         "y": [
          0,
          0.06173323587555082,
          1.1845167826732412,
          12.458323429008951,
          63.860030954326,
          186.6338621417093,
          376.6607793725655,
          595.2328151504603,
          795.0751681163221,
          935.0886979458393,
          1042.733131695266,
          1120.0921353196572,
          1175.2586154248188,
          1214.6695826747523,
          1241.8779551813311
         ],
         "yaxis": "y2"
        },
        {
         "legendgroup": "test_14",
         "mode": "markers",
         "name": "Run id in Test 14",
         "type": "scatter",
         "x": [
          0,
          0.0517799844637069,
          1.086017356632279,
          10.953844898091484,
          56.06492889396038,
          164.49730247146377,
          329.47200094091767,
          518.7518362879913,
          702.481563411152,
          863.5033810962298,
          995.3919363718366,
          1097.8754581461646,
          1174.7778141402418,
          1232.1150002821148,
          1274.6722418448528
         ],
         "xaxis": "x2",
         "y": [
          0,
          0.052815775724779516,
          1.2905750515187888,
          13.723684658861433,
          67.48889951264204,
          187.85292582968458,
          363.4769685696642,
          556.829758315949,
          731.3428568682093,
          838.6425849655943,
          917.7084698953979,
          972.9706289724998,
          1011.1237676379592,
          1037.309797545245,
          1052.3259084636938
         ],
         "yaxis": "y2"
        },
        {
         "legendgroup": "test_15",
         "mode": "markers",
         "name": "Run id in Test 15",
         "type": "scatter",
         "x": [
          0,
          0.1361134959845262,
          2.6268201833203086,
          21.642315591586733,
          89.4840394645475,
          222.56113837595285,
          399.9869344495684,
          588.6737236471344,
          764.3372780584056,
          914.8719254835776,
          1038.1910250151227,
          1136.6450456489808,
          1213.7180222972656,
          1273.1816989334352,
          1318.5711304394208
         ],
         "xaxis": "x2",
         "y": [
          0,
          0.12419684055048202,
          2.6639968334684494,
          22.66146723263851,
          90.76905171865829,
          215.70653105173034,
          373.7677465962246,
          536.0511420453164,
          685.056189186963,
          772.316066564517,
          833.6475935948838,
          881.7870839149058,
          918.1874581654215,
          945.0509170916929,
          963.0041699424569
         ],
         "yaxis": "y2"
        },
        {
         "legendgroup": "test_16",
         "mode": "markers",
         "name": "Run id in Test 16",
         "type": "scatter",
         "x": [
          0,
          0.1362308657826228,
          3.654487690374856,
          34.36181495157046,
          139.22423207103105,
          324.2249193901656,
          547.5729611224215,
          766.7489930376987,
          958.032953531586,
          1113.7222927520452,
          1234.6344053119324,
          1325.7252821108657,
          1392.8975301434723,
          1441.6081870195858,
          1476.45971619891
         ],
         "xaxis": "x2",
         "y": [
          0,
          0.1285319882156231,
          2.790433304147338,
          23.42201909126333,
          92.12292153403034,
          213.49866913555644,
          358.32622113051445,
          497.8963984562056,
          620.7863415646408,
          688.0582553803482,
          732.8898886164345,
          766.954750315931,
          791.7545497892531,
          809.3475979256893,
          819.8554492588511
         ],
         "yaxis": "y2"
        },
        {
         "legendgroup": "test_17",
         "mode": "markers",
         "name": "Run id in Test 17",
         "type": "scatter",
         "x": [
          0,
          0.1209844545950259,
          1.790459973586387,
          15.062004598489736,
          70.40081805213595,
          194.2446126265813,
          370.6859520919911,
          558.8980739372003,
          723.9285624251402,
          847.5534122940699,
          932.7547948854268,
          991.88244658216,
          1033.514902644962,
          1063.166767801361,
          1084.4591115920357
         ],
         "xaxis": "x2",
         "y": [
          0,
          0.16846882799095142,
          3.177111174400231,
          24.69882840107831,
          93.35125361814801,
          210.75410003842168,
          340.57925857118914,
          448.52221835702,
          524.0649452141718,
          581.9790031192156,
          610.7523881258332,
          626.720361763083,
          635.3888578878646,
          640.1888530146721,
          644.8097454201773
         ],
         "yaxis": "y2"
        },
        {
         "legendgroup": "test_18",
         "mode": "markers",
         "name": "Run id in Test 18",
         "type": "scatter",
         "x": [
          0,
          0.1158097614343491,
          2.4298058155113016,
          22.931589171885257,
          105.12860666256104,
          277.55532956507454,
          514.4363622699755,
          769.2833019750905,
          1006.9721084599564,
          1208.9999155922717,
          1373.4060550266352,
          1505.043116798952,
          1608.756647966356,
          1689.3747441247992,
          1751.382462301726
         ],
         "xaxis": "x2",
         "y": [
          0,
          0.14352744269955559,
          2.777506041172125,
          22.45805365402277,
          88.57067618073062,
          208.73138073381116,
          352.10948054570196,
          481.3998860431422,
          579.4898940054876,
          649.1975776356554,
          683.8404154943461,
          703.866954109902,
          715.7445642038118,
          723.0125820859506,
          728.7157581012459
         ],
         "yaxis": "y2"
        }
       ],
       "layout": {
        "annotations": [
         {
          "font": {
           "size": 16
          },
          "showarrow": false,
          "text": "Train Set - X:Titer <br> R^2 = 0.828 <br> Abs RMSE = 104.742 <br> Rel RMSE = 0.291",
          "x": 0.225,
          "xanchor": "center",
          "xref": "paper",
          "y": 1,
          "yanchor": "bottom",
          "yref": "paper"
         },
         {
          "font": {
           "size": 16
          },
          "showarrow": false,
          "text": "Test Set - X:Titer <br> R^2 = 0.698 <br> Abs RMSE = 311.53 <br> Rel RMSE = 0.521",
          "x": 0.775,
          "xanchor": "center",
          "xref": "paper",
          "y": 1,
          "yanchor": "bottom",
          "yref": "paper"
         }
        ],
        "shapes": [
         {
          "layer": "above",
          "line": {
           "dash": "dash"
          },
          "type": "line",
          "x0": 0,
          "x1": 1102.0672591612404,
          "y0": 0,
          "y1": 1102.0672591612404
         },
         {
          "layer": "above",
          "line": {
           "dash": "dash"
          },
          "type": "line",
          "x0": 0,
          "x1": 1241.8779551813311,
          "xref": "x2",
          "y0": 0,
          "y1": 1241.8779551813311,
          "yref": "y2"
         }
        ],
        "template": {
         "data": {
          "bar": [
           {
            "error_x": {
             "color": "#2a3f5f"
            },
            "error_y": {
             "color": "#2a3f5f"
            },
            "marker": {
             "line": {
              "color": "white",
              "width": 0.5
             },
             "pattern": {
              "fillmode": "overlay",
              "size": 10,
              "solidity": 0.2
             }
            },
            "type": "bar"
           }
          ],
          "barpolar": [
           {
            "marker": {
             "line": {
              "color": "white",
              "width": 0.5
             },
             "pattern": {
              "fillmode": "overlay",
              "size": 10,
              "solidity": 0.2
             }
            },
            "type": "barpolar"
           }
          ],
          "carpet": [
           {
            "aaxis": {
             "endlinecolor": "#2a3f5f",
             "gridcolor": "#C8D4E3",
             "linecolor": "#C8D4E3",
             "minorgridcolor": "#C8D4E3",
             "startlinecolor": "#2a3f5f"
            },
            "baxis": {
             "endlinecolor": "#2a3f5f",
             "gridcolor": "#C8D4E3",
             "linecolor": "#C8D4E3",
             "minorgridcolor": "#C8D4E3",
             "startlinecolor": "#2a3f5f"
            },
            "type": "carpet"
           }
          ],
          "choropleth": [
           {
            "colorbar": {
             "outlinewidth": 0,
             "ticks": ""
            },
            "type": "choropleth"
           }
          ],
          "contour": [
           {
            "colorbar": {
             "outlinewidth": 0,
             "ticks": ""
            },
            "colorscale": [
             [
              0,
              "#0d0887"
             ],
             [
              0.1111111111111111,
              "#46039f"
             ],
             [
              0.2222222222222222,
              "#7201a8"
             ],
             [
              0.3333333333333333,
              "#9c179e"
             ],
             [
              0.4444444444444444,
              "#bd3786"
             ],
             [
              0.5555555555555556,
              "#d8576b"
             ],
             [
              0.6666666666666666,
              "#ed7953"
             ],
             [
              0.7777777777777778,
              "#fb9f3a"
             ],
             [
              0.8888888888888888,
              "#fdca26"
             ],
             [
              1,
              "#f0f921"
             ]
            ],
            "type": "contour"
           }
          ],
          "contourcarpet": [
           {
            "colorbar": {
             "outlinewidth": 0,
             "ticks": ""
            },
            "type": "contourcarpet"
           }
          ],
          "heatmap": [
           {
            "colorbar": {
             "outlinewidth": 0,
             "ticks": ""
            },
            "colorscale": [
             [
              0,
              "#0d0887"
             ],
             [
              0.1111111111111111,
              "#46039f"
             ],
             [
              0.2222222222222222,
              "#7201a8"
             ],
             [
              0.3333333333333333,
              "#9c179e"
             ],
             [
              0.4444444444444444,
              "#bd3786"
             ],
             [
              0.5555555555555556,
              "#d8576b"
             ],
             [
              0.6666666666666666,
              "#ed7953"
             ],
             [
              0.7777777777777778,
              "#fb9f3a"
             ],
             [
              0.8888888888888888,
              "#fdca26"
             ],
             [
              1,
              "#f0f921"
             ]
            ],
            "type": "heatmap"
           }
          ],
          "heatmapgl": [
           {
            "colorbar": {
             "outlinewidth": 0,
             "ticks": ""
            },
            "colorscale": [
             [
              0,
              "#0d0887"
             ],
             [
              0.1111111111111111,
              "#46039f"
             ],
             [
              0.2222222222222222,
              "#7201a8"
             ],
             [
              0.3333333333333333,
              "#9c179e"
             ],
             [
              0.4444444444444444,
              "#bd3786"
             ],
             [
              0.5555555555555556,
              "#d8576b"
             ],
             [
              0.6666666666666666,
              "#ed7953"
             ],
             [
              0.7777777777777778,
              "#fb9f3a"
             ],
             [
              0.8888888888888888,
              "#fdca26"
             ],
             [
              1,
              "#f0f921"
             ]
            ],
            "type": "heatmapgl"
           }
          ],
          "histogram": [
           {
            "marker": {
             "pattern": {
              "fillmode": "overlay",
              "size": 10,
              "solidity": 0.2
             }
            },
            "type": "histogram"
           }
          ],
          "histogram2d": [
           {
            "colorbar": {
             "outlinewidth": 0,
             "ticks": ""
            },
            "colorscale": [
             [
              0,
              "#0d0887"
             ],
             [
              0.1111111111111111,
              "#46039f"
             ],
             [
              0.2222222222222222,
              "#7201a8"
             ],
             [
              0.3333333333333333,
              "#9c179e"
             ],
             [
              0.4444444444444444,
              "#bd3786"
             ],
             [
              0.5555555555555556,
              "#d8576b"
             ],
             [
              0.6666666666666666,
              "#ed7953"
             ],
             [
              0.7777777777777778,
              "#fb9f3a"
             ],
             [
              0.8888888888888888,
              "#fdca26"
             ],
             [
              1,
              "#f0f921"
             ]
            ],
            "type": "histogram2d"
           }
          ],
          "histogram2dcontour": [
           {
            "colorbar": {
             "outlinewidth": 0,
             "ticks": ""
            },
            "colorscale": [
             [
              0,
              "#0d0887"
             ],
             [
              0.1111111111111111,
              "#46039f"
             ],
             [
              0.2222222222222222,
              "#7201a8"
             ],
             [
              0.3333333333333333,
              "#9c179e"
             ],
             [
              0.4444444444444444,
              "#bd3786"
             ],
             [
              0.5555555555555556,
              "#d8576b"
             ],
             [
              0.6666666666666666,
              "#ed7953"
             ],
             [
              0.7777777777777778,
              "#fb9f3a"
             ],
             [
              0.8888888888888888,
              "#fdca26"
             ],
             [
              1,
              "#f0f921"
             ]
            ],
            "type": "histogram2dcontour"
           }
          ],
          "mesh3d": [
           {
            "colorbar": {
             "outlinewidth": 0,
             "ticks": ""
            },
            "type": "mesh3d"
           }
          ],
          "parcoords": [
           {
            "line": {
             "colorbar": {
              "outlinewidth": 0,
              "ticks": ""
             }
            },
            "type": "parcoords"
           }
          ],
          "pie": [
           {
            "automargin": true,
            "type": "pie"
           }
          ],
          "scatter": [
           {
            "fillpattern": {
             "fillmode": "overlay",
             "size": 10,
             "solidity": 0.2
            },
            "type": "scatter"
           }
          ],
          "scatter3d": [
           {
            "line": {
             "colorbar": {
              "outlinewidth": 0,
              "ticks": ""
             }
            },
            "marker": {
             "colorbar": {
              "outlinewidth": 0,
              "ticks": ""
             }
            },
            "type": "scatter3d"
           }
          ],
          "scattercarpet": [
           {
            "marker": {
             "colorbar": {
              "outlinewidth": 0,
              "ticks": ""
             }
            },
            "type": "scattercarpet"
           }
          ],
          "scattergeo": [
           {
            "marker": {
             "colorbar": {
              "outlinewidth": 0,
              "ticks": ""
             }
            },
            "type": "scattergeo"
           }
          ],
          "scattergl": [
           {
            "marker": {
             "colorbar": {
              "outlinewidth": 0,
              "ticks": ""
             }
            },
            "type": "scattergl"
           }
          ],
          "scattermapbox": [
           {
            "marker": {
             "colorbar": {
              "outlinewidth": 0,
              "ticks": ""
             }
            },
            "type": "scattermapbox"
           }
          ],
          "scatterpolar": [
           {
            "marker": {
             "colorbar": {
              "outlinewidth": 0,
              "ticks": ""
             }
            },
            "type": "scatterpolar"
           }
          ],
          "scatterpolargl": [
           {
            "marker": {
             "colorbar": {
              "outlinewidth": 0,
              "ticks": ""
             }
            },
            "type": "scatterpolargl"
           }
          ],
          "scatterternary": [
           {
            "marker": {
             "colorbar": {
              "outlinewidth": 0,
              "ticks": ""
             }
            },
            "type": "scatterternary"
           }
          ],
          "surface": [
           {
            "colorbar": {
             "outlinewidth": 0,
             "ticks": ""
            },
            "colorscale": [
             [
              0,
              "#0d0887"
             ],
             [
              0.1111111111111111,
              "#46039f"
             ],
             [
              0.2222222222222222,
              "#7201a8"
             ],
             [
              0.3333333333333333,
              "#9c179e"
             ],
             [
              0.4444444444444444,
              "#bd3786"
             ],
             [
              0.5555555555555556,
              "#d8576b"
             ],
             [
              0.6666666666666666,
              "#ed7953"
             ],
             [
              0.7777777777777778,
              "#fb9f3a"
             ],
             [
              0.8888888888888888,
              "#fdca26"
             ],
             [
              1,
              "#f0f921"
             ]
            ],
            "type": "surface"
           }
          ],
          "table": [
           {
            "cells": {
             "fill": {
              "color": "#EBF0F8"
             },
             "line": {
              "color": "white"
             }
            },
            "header": {
             "fill": {
              "color": "#C8D4E3"
             },
             "line": {
              "color": "white"
             }
            },
            "type": "table"
           }
          ]
         },
         "layout": {
          "annotationdefaults": {
           "arrowcolor": "#2a3f5f",
           "arrowhead": 0,
           "arrowwidth": 1
          },
          "autotypenumbers": "strict",
          "coloraxis": {
           "colorbar": {
            "outlinewidth": 0,
            "ticks": ""
           }
          },
          "colorscale": {
           "diverging": [
            [
             0,
             "#8e0152"
            ],
            [
             0.1,
             "#c51b7d"
            ],
            [
             0.2,
             "#de77ae"
            ],
            [
             0.3,
             "#f1b6da"
            ],
            [
             0.4,
             "#fde0ef"
            ],
            [
             0.5,
             "#f7f7f7"
            ],
            [
             0.6,
             "#e6f5d0"
            ],
            [
             0.7,
             "#b8e186"
            ],
            [
             0.8,
             "#7fbc41"
            ],
            [
             0.9,
             "#4d9221"
            ],
            [
             1,
             "#276419"
            ]
           ],
           "sequential": [
            [
             0,
             "#0d0887"
            ],
            [
             0.1111111111111111,
             "#46039f"
            ],
            [
             0.2222222222222222,
             "#7201a8"
            ],
            [
             0.3333333333333333,
             "#9c179e"
            ],
            [
             0.4444444444444444,
             "#bd3786"
            ],
            [
             0.5555555555555556,
             "#d8576b"
            ],
            [
             0.6666666666666666,
             "#ed7953"
            ],
            [
             0.7777777777777778,
             "#fb9f3a"
            ],
            [
             0.8888888888888888,
             "#fdca26"
            ],
            [
             1,
             "#f0f921"
            ]
           ],
           "sequentialminus": [
            [
             0,
             "#0d0887"
            ],
            [
             0.1111111111111111,
             "#46039f"
            ],
            [
             0.2222222222222222,
             "#7201a8"
            ],
            [
             0.3333333333333333,
             "#9c179e"
            ],
            [
             0.4444444444444444,
             "#bd3786"
            ],
            [
             0.5555555555555556,
             "#d8576b"
            ],
            [
             0.6666666666666666,
             "#ed7953"
            ],
            [
             0.7777777777777778,
             "#fb9f3a"
            ],
            [
             0.8888888888888888,
             "#fdca26"
            ],
            [
             1,
             "#f0f921"
            ]
           ]
          },
          "colorway": [
           "#636efa",
           "#EF553B",
           "#00cc96",
           "#ab63fa",
           "#FFA15A",
           "#19d3f3",
           "#FF6692",
           "#B6E880",
           "#FF97FF",
           "#FECB52"
          ],
          "font": {
           "color": "#2a3f5f"
          },
          "geo": {
           "bgcolor": "white",
           "lakecolor": "white",
           "landcolor": "white",
           "showlakes": true,
           "showland": true,
           "subunitcolor": "#C8D4E3"
          },
          "hoverlabel": {
           "align": "left"
          },
          "hovermode": "closest",
          "mapbox": {
           "style": "light"
          },
          "paper_bgcolor": "white",
          "plot_bgcolor": "white",
          "polar": {
           "angularaxis": {
            "gridcolor": "#EBF0F8",
            "linecolor": "#EBF0F8",
            "ticks": ""
           },
           "bgcolor": "white",
           "radialaxis": {
            "gridcolor": "#EBF0F8",
            "linecolor": "#EBF0F8",
            "ticks": ""
           }
          },
          "scene": {
           "xaxis": {
            "backgroundcolor": "white",
            "gridcolor": "#DFE8F3",
            "gridwidth": 2,
            "linecolor": "#EBF0F8",
            "showbackground": true,
            "ticks": "",
            "zerolinecolor": "#EBF0F8"
           },
           "yaxis": {
            "backgroundcolor": "white",
            "gridcolor": "#DFE8F3",
            "gridwidth": 2,
            "linecolor": "#EBF0F8",
            "showbackground": true,
            "ticks": "",
            "zerolinecolor": "#EBF0F8"
           },
           "zaxis": {
            "backgroundcolor": "white",
            "gridcolor": "#DFE8F3",
            "gridwidth": 2,
            "linecolor": "#EBF0F8",
            "showbackground": true,
            "ticks": "",
            "zerolinecolor": "#EBF0F8"
           }
          },
          "shapedefaults": {
           "line": {
            "color": "#2a3f5f"
           }
          },
          "ternary": {
           "aaxis": {
            "gridcolor": "#DFE8F3",
            "linecolor": "#A2B1C6",
            "ticks": ""
           },
           "baxis": {
            "gridcolor": "#DFE8F3",
            "linecolor": "#A2B1C6",
            "ticks": ""
           },
           "bgcolor": "white",
           "caxis": {
            "gridcolor": "#DFE8F3",
            "linecolor": "#A2B1C6",
            "ticks": ""
           }
          },
          "title": {
           "x": 0.05
          },
          "xaxis": {
           "automargin": true,
           "gridcolor": "#EBF0F8",
           "linecolor": "#EBF0F8",
           "ticks": "",
           "title": {
            "standoff": 15
           },
           "zerolinecolor": "#EBF0F8",
           "zerolinewidth": 2
          },
          "yaxis": {
           "automargin": true,
           "gridcolor": "#EBF0F8",
           "linecolor": "#EBF0F8",
           "ticks": "",
           "title": {
            "standoff": 15
           },
           "zerolinecolor": "#EBF0F8",
           "zerolinewidth": 2
          }
         }
        },
        "width": 1600,
        "xaxis": {
         "anchor": "y",
         "domain": [
          0,
          0.45
         ],
         "title": {
          "text": "Observed values"
         }
        },
        "xaxis2": {
         "anchor": "y2",
         "domain": [
          0.55,
          1
         ],
         "title": {
          "text": "Observed values"
         }
        },
        "yaxis": {
         "anchor": "x",
         "domain": [
          0,
          1
         ],
         "title": {
          "text": "Predicted values"
         }
        },
        "yaxis2": {
         "anchor": "x2",
         "domain": [
          0,
          1
         ],
         "title": {
          "text": "Predicted values"
         }
        }
       }
      },
      "text/html": [
       "<div>                            <div id=\"d29385d0-aaa7-4517-9e96-e79551f4a828\" class=\"plotly-graph-div\" style=\"height:525px; width:1600px;\"></div>            <script type=\"text/javascript\">                require([\"plotly\"], function(Plotly) {                    window.PLOTLYENV=window.PLOTLYENV || {};                                    if (document.getElementById(\"d29385d0-aaa7-4517-9e96-e79551f4a828\")) {                    Plotly.newPlot(                        \"d29385d0-aaa7-4517-9e96-e79551f4a828\",                        [{\"legendgroup\":\"train_0\",\"mode\":\"markers\",\"name\":\"Run id in Train 0\",\"x\":[0.0,0.092797611632703,1.3613322223015707,11.344886505251033,52.28927236583092,140.5961579864852,259.3251210897019,375.5879131278478,466.0614611226992,525.1008308953583,559.5121702665116,578.501989557713,588.7503117163226,594.2341048016712,597.15618596249],\"y\":[0.0,0.09797567529285524,1.7816684846802,15.533931914867662,68.57413075033165,177.80786819635233,322.49465997772893,467.03335427942307,582.4968699636728,674.7178608121153,743.8949678767607,788.7336596564169,817.4210187992445,836.0922122458264,849.0925230193953],\"type\":\"scatter\",\"xaxis\":\"x\",\"yaxis\":\"y\"},{\"legendgroup\":\"train_1\",\"mode\":\"markers\",\"name\":\"Run id in Train 1\",\"x\":[0.0,0.0438814612801809,0.6754926172763417,6.144508366864772,32.89209616429462,103.50902716060114,216.84466709892052,346.44671755061927,463.7142285131992,551.6325993334557,608.2207631731609,641.4045985098942,660.0958645554078,670.481486260618,676.2162592557202],\"y\":[0.0,0.06644611490536967,1.0924403137218774,10.696037521224817,54.39025555260363,154.4007092313027,293.32026841956275,432.1717006909477,536.2346697412929,633.8517110758524,704.3425534011426,746.4189054156793,771.5479169982146,786.9892472402668,798.151317409259],\"type\":\"scatter\",\"xaxis\":\"x\",\"yaxis\":\"y\"},{\"legendgroup\":\"train_2\",\"mode\":\"markers\",\"name\":\"Run id in Train 2\",\"x\":[0.0,0.0805992014021038,1.8724719368459048,19.41861755313492,91.75328005105564,241.06314503965848,434.5519776483289,619.9756875720175,761.4441456682614,851.6236464360761,903.333097571553,931.7008737773178,947.0117744048353,955.2202498945722,959.6058930504475],\"y\":[0.0,0.08041994200781342,1.45389604785069,13.389295757568762,62.89973560377505,170.04686059013525,314.1374378914876,453.87493858856755,557.6145792426348,645.7460753542452,701.3086378946628,732.0258954908281,748.9326220855494,758.397875054746,764.8138628779748],\"type\":\"scatter\",\"xaxis\":\"x\",\"yaxis\":\"y\"},{\"legendgroup\":\"train_3\",\"mode\":\"markers\",\"name\":\"Run id in Train 3\",\"x\":[0.0,0.100395228326079,2.471584704867094,20.810314349562,75.25006587798005,155.21180957123823,231.3966660922219,288.1189053801796,325.0105400678119,347.3566646464407,360.4174988213081,367.9092782306117,372.1621491359598,374.5625824428543,375.9131407266119],\"y\":[0.0,0.10240187865827967,2.3479671106763846,20.213080460854826,79.54970903941957,177.00487475929083,276.4789022658603,355.9464962637265,417.2029798286801,458.000768263238,482.49231904259966,500.5958117063151,513.6469106027105,522.6902511258907,527.7197705883782],\"type\":\"scatter\",\"xaxis\":\"x\",\"yaxis\":\"y\"},{\"legendgroup\":\"train_4\",\"mode\":\"markers\",\"name\":\"Run id in Train 4\",\"x\":[0.0,0.1292531886788032,2.811811054279715,23.20550382163473,91.22866564904736,213.66138340861409,360.48179504747,495.63502362499145,597.2236779261053,662.0367074378605,700.2481804040611,722.5010954289212,735.4205903119163,742.9151800957571,747.2620778238343],\"y\":[0.0,0.13386931062691426,2.698152597085201,22.048654462785596,86.82201286545524,201.4106531746454,330.36636149250484,436.29639129828803,508.11315273574183,557.758398605783,573.0931606121833,576.8837568789834,575.8826961377674,573.1283132159043,570.6879846315514],\"type\":\"scatter\",\"xaxis\":\"x\",\"yaxis\":\"y\"},{\"legendgroup\":\"train_5\",\"mode\":\"markers\",\"name\":\"Run id in Train 5\",\"x\":[0.0,0.1191344970680277,2.2379543730029474,17.6686268146821,70.79210067044147,170.7629621239597,293.6414359032689,406.8318234868232,490.7890370390738,543.5352893767821,573.8362605087634,590.8523186228688,600.3258243064748,605.5779966984201,608.4835154549434],\"y\":[0.0,0.14606700573875672,3.0049177287330444,24.42308023797866,94.77415722745263,218.44244791838415,361.32803361411123,487.1629668675964,584.1834138998954,639.2736723631486,662.1627193784617,674.3295753503359,680.5556528392887,683.4871497206586,684.3080706865248],\"type\":\"scatter\",\"xaxis\":\"x\",\"yaxis\":\"y\"},{\"legendgroup\":\"train_6\",\"mode\":\"markers\",\"name\":\"Run id in Train 6\",\"x\":[0.0,0.0684760856557625,1.419909024026719,12.974359746806352,60.01220329000836,161.81840299179677,300.87029124327046,440.31555861369503,552.4775099714313,628.9702012520282,675.981959241405,703.4448217414291,719.1329460060222,728.0050414796943,732.9958800156783],\"y\":[0.0,0.06831607759380165,1.5672764342703631,15.078588083974878,69.1276766092543,180.59387566636536,325.57461920503545,464.1389426787394,571.6039985185082,638.7028462347322,676.9370198694926,696.1589658355458,704.9230300761258,708.1247950555991,706.6916740851937],\"type\":\"scatter\",\"xaxis\":\"x\",\"yaxis\":\"y\"},{\"legendgroup\":\"train_7\",\"mode\":\"markers\",\"name\":\"Run id in Train 7\",\"x\":[0.0,0.1012025981276605,2.7202639401550184,25.946291951340097,104.55968898992953,237.42432217784472,385.7596767399676,515.6947127178214,611.4373805988364,671.5705931211872,704.2589949515327,720.6883271094672,728.8537430043472,732.9016580530529,734.9060666799251],\"y\":[0.0,0.07561447917200009,1.6993783196653787,16.07996625264103,71.79173484461408,184.55365998570826,334.62380876868696,489.2100669080414,623.8964661991198,711.2374023220249,773.3632805273475,816.8480752375827,846.9858933808314,867.751537770475,880.2872541230674],\"type\":\"scatter\",\"xaxis\":\"x\",\"yaxis\":\"y\"},{\"legendgroup\":\"train_8\",\"mode\":\"markers\",\"name\":\"Run id in Train 8\",\"x\":[0.0,0.0851032436703326,1.6658115757244931,14.546461217109194,61.856051928684174,151.27308669024367,259.1592993253078,357.334846431788,431.0590970254083,479.022153470829,508.0532921590253,525.365934354859,535.6297084406955,541.6976620375669,545.27993727455],\"y\":[0.0,0.07950923422166867,1.8668891915781225,17.300402130810518,73.4592749528856,177.95427411911587,307.7441952230727,439.9176880695269,561.152709733387,641.493464343846,704.3749113571266,753.7797111256779,791.1882189085153,818.7686937852752,836.9808016174684],\"type\":\"scatter\",\"xaxis\":\"x\",\"yaxis\":\"y\"},{\"legendgroup\":\"train_9\",\"mode\":\"markers\",\"name\":\"Run id in Train 9\",\"x\":[0.0,0.1028398753471017,2.103522354496929,19.1988180976768,85.1350472831614,219.1183953406561,393.9596615083559,564.5612087274179,699.1155234613333,788.6518291426167,842.1815810738857,873.2435171883614,891.1142870152056,901.354027797561,907.2091784828596],\"y\":[0.0,0.1111529872310834,2.3164952240157555,19.983258807632573,83.24597867770551,205.11696133372874,359.62833719194344,507.54071547640405,626.7439518631238,701.5152419348428,740.0561451856662,762.7349240335159,776.3803701198879,784.6489149916754,789.095979726599],\"type\":\"scatter\",\"xaxis\":\"x\",\"yaxis\":\"y\"},{\"legendgroup\":\"train_10\",\"mode\":\"markers\",\"name\":\"Run id in Train 10\",\"x\":[0.0,0.1470472010409363,2.9395090312997345,23.907085129044823,94.4340857277404,222.15876723868627,376.173402702402,519.0120298827978,629.2136941295797,703.9973447636482,751.0994673201072,779.894701007298,797.2898945846578,807.7290935704646,813.9704468733556],\"y\":[0.0,0.1600868785209344,3.067230524119818,24.240584064021,93.10047883894276,214.37445106661664,355.90527009706165,484.1558991121509,584.5641121681706,652.7128040712696,694.9502626600292,722.6178427505118,740.3693523556306,751.9102490899994,760.3748015155757],\"type\":\"scatter\",\"xaxis\":\"x\",\"yaxis\":\"y\"},{\"legendgroup\":\"train_11\",\"mode\":\"markers\",\"name\":\"Run id in Train 11\",\"x\":[0.0,0.0556307506924713,1.1065410833519418,10.442983811546242,49.7319003225286,136.7043717804452,257.8011614687863,382.7422886002216,487.86676658106586,562.6715615249985,608.3546958190284,633.1935451255907,646.0518497587835,652.6518651413129,656.027854624254],\"y\":[0.0,0.045743381421581006,1.0303209907286697,11.547132515274274,59.77490122738269,170.84994543020804,333.9615900778218,513.4765203582873,672.7068126709507,783.7426429685034,868.4127388423859,927.3312725539733,968.071425506401,996.2707019886517,1014.1156445496829],\"type\":\"scatter\",\"xaxis\":\"x\",\"yaxis\":\"y\"},{\"legendgroup\":\"train_12\",\"mode\":\"markers\",\"name\":\"Run id in Train 12\",\"x\":[0.0,0.0957275931281071,2.1989010548873216,21.008466194877247,90.19693953948467,219.60531486072665,377.135888175285,525.2129981916805,641.1756714731843,717.6803021019153,762.8002614230991,789.3356986651899,805.0428185578367,814.3821516360006,819.9510724635422],\"y\":[0.0,0.0830021329861233,1.7643796161746241,16.271461675439703,71.98570549556035,184.21509320087154,330.6945076755795,474.58212927015444,591.8527078957395,675.0766809782536,723.2568688325111,753.642426590618,773.5401992190637,786.7778706672427,795.328984986516],\"type\":\"scatter\",\"xaxis\":\"x\",\"yaxis\":\"y\"},{\"legendgroup\":\"train_13\",\"mode\":\"markers\",\"name\":\"Run id in Train 13\",\"x\":[0.0,0.126685644391205,2.709713044740282,22.88392124144616,89.20221911536494,206.81176871007776,349.61302693672366,489.0196357593948,608.4666855907725,701.9356498165585,771.8164492794015,823.2980027038677,860.7887955412502,887.8549193392146,907.272589700129],\"y\":[0.0,0.11000644229097081,2.155946212509729,18.65163981289089,79.4757928276339,201.41493836276152,362.56801519336346,522.1896739535534,652.1571899877807,744.3441783973109,795.1749612108224,826.8818021424012,847.5791058854265,861.4877372194129,871.6249579170532],\"type\":\"scatter\",\"xaxis\":\"x\",\"yaxis\":\"y\"},{\"legendgroup\":\"train_14\",\"mode\":\"markers\",\"name\":\"Run id in Train 14\",\"x\":[0.0,0.1013702250456762,2.1058490748674403,16.59441652082327,62.97895653051971,141.93107867311176,230.2050203966937,305.7669497866212,360.0731727576222,394.9735315102163,416.0051240570907,428.30285971623033,435.3986662484396,439.46310823492814,441.7818145495612],\"y\":[0.0,0.10872397872797523,2.492492328034051,21.56183339096523,86.24921311174664,200.26014479143868,334.23611369584023,462.50449389749707,576.2829570926485,636.9187244465852,681.5264649066607,715.7752103176513,740.5826934950943,757.9475980892555,767.294655967889],\"type\":\"scatter\",\"xaxis\":\"x\",\"yaxis\":\"y\"},{\"legendgroup\":\"train_15\",\"mode\":\"markers\",\"name\":\"Run id in Train 15\",\"x\":[0.0,0.1976090037256626,3.3927702387124063,23.636949194399804,85.44917827364986,192.507186066978,317.79233973405417,430.2661527934913,514.6981721858238,571.6594039805899,608.0504186881034,630.7055391847287,644.6239133496756,653.1090738546142,658.2585534546254],\"y\":[0.0,0.15610661756907926,3.041743359989411,24.102011360954585,92.71536378379992,212.60687489629046,347.38348638547876,459.26547313418996,536.3019333432655,587.0551979804636,606.875347153446,614.0437940336941,614.9864244957733,613.3181864483867,611.6650272616334],\"type\":\"scatter\",\"xaxis\":\"x\",\"yaxis\":\"y\"},{\"legendgroup\":\"train_16\",\"mode\":\"markers\",\"name\":\"Run id in Train 16\",\"x\":[0.0,0.0681559838030328,1.809073710788191,18.894057657289583,87.87411848503078,222.15306394539576,380.1302377633172,514.2524370799309,606.4384514608811,662.7223667936963,695.555548054108,714.351100475548,725.0061572878042,731.0154172257579,734.395042279861],\"y\":[0.0,0.08461271250090861,1.901996130887456,17.200882189648322,72.97097351888496,176.51957774664328,297.5018180229074,402.18889747239285,478.6304933856009,534.7769785677234,557.977213064524,569.3159449689767,575.1841276689051,578.0972337317432,579.1052838240641],\"type\":\"scatter\",\"xaxis\":\"x\",\"yaxis\":\"y\"},{\"legendgroup\":\"train_17\",\"mode\":\"markers\",\"name\":\"Run id in Train 17\",\"x\":[0.0,0.0523875912045667,1.0849335710743253,12.397227255057013,66.70721155080555,188.80699893000047,348.628846772129,496.08738150173247,601.4153982598878,663.0960593211578,695.1996723973907,711.1167021937663,718.8884764897649,722.6619862234576,724.4893742827281],\"y\":[0.0,0.04908153188422526,0.9477359930050978,10.280423488236242,53.61896959396242,151.81652283735912,287.53497679138303,424.21715568743065,530.9412667036813,624.0007739308935,688.9025589114774,728.8685976609115,753.8882618665334,769.909043786737,780.6914140024778],\"type\":\"scatter\",\"xaxis\":\"x\",\"yaxis\":\"y\"},{\"legendgroup\":\"train_18\",\"mode\":\"markers\",\"name\":\"Run id in Train 18\",\"x\":[0.0,0.1639102116690734,3.8162534234110383,31.58840454920204,114.39074843849652,241.3088462821016,370.4678011577989,471.1031059119348,535.6510464509408,572.128189881369,591.4918214759558,601.5111889632029,606.6413906815634,609.2569591728045,610.5876432724958],\"y\":[0.0,0.11792944431554733,2.263542281905861,18.916165424885442,78.03444394199188,190.6915283071004,330.9648244127826,465.7880795478622,573.7754034522517,650.9074236278354,709.2405233075727,747.5991546046275,771.9759822381243,787.5461350474307,797.5210181909201],\"type\":\"scatter\",\"xaxis\":\"x\",\"yaxis\":\"y\"},{\"legendgroup\":\"train_19\",\"mode\":\"markers\",\"name\":\"Run id in Train 19\",\"x\":[0.0,0.0505855307401332,0.7731813124812714,7.184421272127962,37.25298009873588,115.1935842742996,242.32338018719167,394.73911488863234,545.1012315383621,674.650318014126,773.6935723337805,841.3285038140069,886.4955483862935,916.9128576810516,937.5175526384209],\"y\":[0.0,0.05813574880410268,1.0920619665556295,11.607889514823492,60.445405891272664,176.8763847624442,352.6110946024527,546.929282415595,715.9801419068276,841.34680825502,931.622756239673,992.7889727315387,1034.6380286561396,1063.657629949239,1083.7040611203172],\"type\":\"scatter\",\"xaxis\":\"x\",\"yaxis\":\"y\"},{\"legendgroup\":\"train_20\",\"mode\":\"markers\",\"name\":\"Run id in Train 20\",\"x\":[0.0,0.0915554388125294,1.4366858757504155,11.928970502230491,53.67457630212952,146.1927370451157,280.04669851927497,428.060670855728,566.6052658898965,682.1106352455298,770.8251180076209,837.8042548390449,888.0843487843646,925.6076691649102,953.4701546514614],\"y\":[0.0,0.09755267427308915,1.8549280211603105,16.508013582074977,72.91622594586836,190.20661312433063,351.0842130139523,518.5119406917506,660.8608200706715,767.0462490081874,838.956950341489,888.2930320205664,922.5742846331044,946.7142845848406,964.4155316441643],\"type\":\"scatter\",\"xaxis\":\"x\",\"yaxis\":\"y\"},{\"legendgroup\":\"train_21\",\"mode\":\"markers\",\"name\":\"Run id in Train 21\",\"x\":[0.0,0.0454423452358374,1.1013957732707498,11.683792867331864,56.45241865774136,146.59492034354986,256.76227566297626,357.042961240522,434.29519153866727,488.4943856651632,524.5699907625919,547.8640170424655,562.6401568767717,571.9132370136097,577.6950160457868],\"y\":[0.0,0.05809527870697609,1.3486710727189393,13.232023587113575,59.90390902841179,149.03037502568827,253.8179495493779,348.7393704765371,421.7031722765429,483.16286133672116,530.8954013937982,562.5839213339189,583.3146926621207,596.793278143092,604.6001707677943],\"type\":\"scatter\",\"xaxis\":\"x\",\"yaxis\":\"y\"},{\"legendgroup\":\"train_22\",\"mode\":\"markers\",\"name\":\"Run id in Train 22\",\"x\":[0.0,0.1684018704459252,2.606331206432606,19.23471850074958,74.87373864573715,179.35310787462046,310.5416686503349,437.6163948606052,538.702308905668,604.4739001907734,639.9806594585657,657.8477494723851,666.7818276304306,671.2398888749135,673.4624594029277],\"y\":[0.0,0.16237089434596608,2.949890786525579,23.16454617142754,91.24591566278798,219.03949582039678,377.113553628519,522.108307256681,629.1817001957868,707.5777810084993,747.4463803139831,768.1818094243224,778.6279607678939,783.9343572982283,788.7142449674199],\"type\":\"scatter\",\"xaxis\":\"x\",\"yaxis\":\"y\"},{\"legendgroup\":\"train_23\",\"mode\":\"markers\",\"name\":\"Run id in Train 23\",\"x\":[0.0,0.1334153595382972,3.089811960997721,27.012303141427168,110.80710225753842,270.82588859452034,479.7627554821577,695.7189975420514,877.4831874852433,907.5016715520344,907.5016724299692,907.5016724128424,907.5016728258174,907.5016722078176,907.5016722025266],\"y\":[0.0,0.1376714913337216,2.952723188789298,24.96998499281375,100.16875699709445,242.61696202131165,431.72867723655173,631.2146977850348,815.712853019588,914.1862283469908,975.8108144690734,1023.2817031971433,1058.9601708377957,1085.1917913819964,1102.0672591612404],\"type\":\"scatter\",\"xaxis\":\"x\",\"yaxis\":\"y\"},{\"legendgroup\":\"train_24\",\"mode\":\"markers\",\"name\":\"Run id in Train 24\",\"x\":[0.0,0.0369718156697984,0.9843644085661748,11.378321165942422,57.80677261386413,155.02627221181052,280.2945376719491,402.580036516236,502.8883556795072,574.7531920548328,620.5670310436815,647.3382193397189,662.3512320247443,670.6982324838854,675.3226654764776],\"y\":[0.0,0.02903904942004268,0.8778171763820259,10.577545403709511,54.03189662169767,145.89138160969344,268.11674528670005,396.13988681044407,509.49832255823844,591.6593550122561,663.3807002061461,715.2672665074829,751.7261682221263,776.9838431059098,791.833701364455],\"type\":\"scatter\",\"xaxis\":\"x\",\"yaxis\":\"y\"},{\"legendgroup\":\"train_25\",\"mode\":\"markers\",\"name\":\"Run id in Train 25\",\"x\":[0.0,0.0824634762215527,2.106321376398896,19.494379182753804,80.96977513457726,193.14884215415083,330.34750602465067,464.3260998614456,578.1431088131873,664.9211108119922,724.4296973700812,762.1044464931385,785.9051598723119,801.0661711958087,810.7803554335553],\"y\":[0.0,0.07396191940903558,1.803520077124744,16.979572687037766,73.27247906527829,180.1478859158298,314.3060930633944,450.05126546531096,572.1547496957019,645.8100447226873,704.5184005306593,748.5878060068403,780.3254883924317,802.6321892379592,815.3685935906982],\"type\":\"scatter\",\"xaxis\":\"x\",\"yaxis\":\"y\"},{\"legendgroup\":\"train_26\",\"mode\":\"markers\",\"name\":\"Run id in Train 26\",\"x\":[0.0,0.0284541274614131,0.5820223432530234,6.243765512138137,33.54192272798116,95.7967587677016,176.9765461921374,252.0034454564192,309.1011638220337,348.13441142469685,373.2674247500301,388.9065408698552,398.44813971650825,404.2023419943497,407.6489052838648],\"y\":[0.0,0.03501401663192817,0.9855992867077036,11.069795986817812,54.221918723035685,140.44715366258484,244.1762178144802,337.6090157620838,407.3875086759268,467.2188682666232,507.77618000791813,532.6185132267898,548.0616479325013,557.579431245751,562.1609168875702],\"type\":\"scatter\",\"xaxis\":\"x\",\"yaxis\":\"y\"},{\"legendgroup\":\"train_27\",\"mode\":\"markers\",\"name\":\"Run id in Train 27\",\"x\":[0.0,0.0847442285126015,1.8321463933308133,17.45268543252457,79.80588660557672,207.9115678201446,378.0310948876776,552.8292276347343,706.0849494132782,825.0656926101584,906.9088163843452,959.7680106177736,994.3155994053012,1017.1483683080728,1032.349344219952],\"y\":[0.0,0.09452858062883186,1.9699376667242443,17.558676581394053,75.3369739239248,188.79387247102687,335.4598179925342,482.07144958897527,605.9580862384267,689.9877886992799,747.9622823702354,787.6924759083932,814.7550105387986,833.2157206878559,845.036015169488],\"type\":\"scatter\",\"xaxis\":\"x\",\"yaxis\":\"y\"},{\"legendgroup\":\"train_28\",\"mode\":\"markers\",\"name\":\"Run id in Train 28\",\"x\":[0.0,0.0747824078450999,1.2639312147458257,13.00186146318898,70.58783726161896,210.9075187039407,421.1963222355897,658.0917502549977,885.2096724093011,1083.6428215968845,1247.6241983466907,1378.0567228950367,1478.6919325567635,1554.9066628685762,1611.8217044951684],\"y\":[0.0,0.07085288993740371,1.3310685272767535,13.05169504980228,63.0661267312072,174.99142067096733,338.6058959523784,521.293859153413,685.7311889580294,808.7391444474273,908.7636604980498,981.3013609536165,1033.033742572342,1069.9513586625312,1095.9361035088937],\"type\":\"scatter\",\"xaxis\":\"x\",\"yaxis\":\"y\"},{\"legendgroup\":\"train_29\",\"mode\":\"markers\",\"name\":\"Run id in Train 29\",\"x\":[0.0,0.0859524653968408,1.846390635216046,18.67091729832891,87.11387435191574,225.6003779933273,406.4929073714057,591.3090014757036,755.4719921287747,889.1227508376217,990.981130417612,1063.1641902209965,1110.2595402503275,1140.86081707277,1161.0101694475163],\"y\":[0.0,0.12348024219259637,2.3455778704424244,19.430984471089683,79.7440179175971,194.97415631233392,339.8553263227063,480.97722469488804,595.5699226955538,676.0261115736391,738.0892375627628,779.4593084969104,806.0348945154773,823.1963305093284,834.3218208456559],\"type\":\"scatter\",\"xaxis\":\"x\",\"yaxis\":\"y\"},{\"legendgroup\":\"train_30\",\"mode\":\"markers\",\"name\":\"Run id in Train 30\",\"x\":[0.0,0.0645331313775414,1.5034420274973632,15.75627268661195,78.22802333351575,217.76119069005108,421.132071656061,654.4556643476976,887.4757676941509,1101.0355474430337,1286.199613214318,1439.9333577788136,1562.796556866039,1655.794318501114,1705.8431496804849],\"y\":[0.0,0.061740781797473915,1.6234580340109268,15.985151422344561,70.9346032734083,177.64189244092782,314.52327048015206,455.43085802028656,583.6997208845496,659.677275297634,719.4007632361087,764.2982821911747,796.8068841828173,819.7328402452948,832.4762291968283],\"type\":\"scatter\",\"xaxis\":\"x\",\"yaxis\":\"y\"},{\"legendgroup\":\"test_0\",\"mode\":\"markers\",\"name\":\"Run id in Test 0\",\"x\":[0.0,0.164105508211151,3.673744786136776,35.32186247671071,154.34678831320295,387.7950784521392,693.7864209487878,1013.615495248714,1308.0461540356737,1559.5112502067666,1764.0166792193825,1924.0159855683603,2045.8920299168967,2138.039188646103,2207.32270920506],\"y\":[0.0,0.13766772709078412,2.6996595738111395,22.489286656460038,92.84979146435832,233.79939390281228,425.24248220859533,622.7799784037175,791.9581287465617,889.5553438341251,951.1690025019042,991.1185825194904,1016.5960052152434,1032.9546668265436,1042.4762412065515],\"type\":\"scatter\",\"xaxis\":\"x2\",\"yaxis\":\"y2\"},{\"legendgroup\":\"test_1\",\"mode\":\"markers\",\"name\":\"Run id in Test 1\",\"x\":[0.0,0.0763700634007142,1.2004047047372728,10.769047562231066,55.331509943793534,169.67881535568202,356.9149807868821,587.3658271878509,826.3777227138344,1049.7114958711982,1245.9405162620585,1411.3748743127069,1546.3862233793775,1653.611268198273,1736.5908399465277],\"y\":[0.0,0.10561897179134615,2.2383478236572145,19.662921488728433,81.86221040238745,200.91187185217345,356.70123348129636,520.2717994662889,670.0240403874147,767.2670470172889,837.8152116068783,892.1784607936511,933.0589629410322,963.2748979447207,984.3113158262425],\"type\":\"scatter\",\"xaxis\":\"x2\",\"yaxis\":\"y2\"},{\"legendgroup\":\"test_2\",\"mode\":\"markers\",\"name\":\"Run id in Test 2\",\"x\":[0.0,0.0854355568288807,1.6092625643264258,15.15306007085573,73.21962446854067,204.75841445857023,398.2225074477981,618.5671629053375,834.8994407537554,1028.7815128523432,1191.952374312491,1323.1237497744814,1427.1505262970163,1509.177096006116,1573.4842264771685],\"y\":[0.0,0.0741845610512533,1.4977247798310869,14.435585120429513,67.35629957007738,181.68443302898802,345.114798508391,525.4961116900897,688.9939496924292,804.2350776579694,896.0110817477128,963.1348963823949,1011.2988846165586,1045.7276875602315,1069.2712273949558],\"type\":\"scatter\",\"xaxis\":\"x2\",\"yaxis\":\"y2\"},{\"legendgroup\":\"test_3\",\"mode\":\"markers\",\"name\":\"Run id in Test 3\",\"x\":[0.0,0.0532844883797582,1.1745834254072027,12.400110906230712,64.33322629187558,186.9762484824127,370.7059655837582,580.4291461413053,784.4388717931332,964.694945425899,1113.2574886158343,1206.3258825585165,1206.325890023906,1206.3258900094436,1206.3258900076912],\"y\":[0.0,0.07558705936699509,1.6917994800679192,16.070310911945782,71.15749059242516,181.35038438041784,330.2746402080693,492.3872642808994,644.2543681720716,746.3825325786294,829.7540752194748,894.3717647816608,942.7509094380933,978.289206674359,1002.3387957036008],\"type\":\"scatter\",\"xaxis\":\"x2\",\"yaxis\":\"y2\"},{\"legendgroup\":\"test_4\",\"mode\":\"markers\",\"name\":\"Run id in Test 4\",\"x\":[0.0,0.1271028978965827,3.043268173982997,28.535584577172003,116.56093471808562,271.0820879759505,454.3992159877672,629.9846449120229,777.5049250060061,889.0424907203862,965.8903434918803,1018.7426183492312,1055.7385430042384,1081.8878031673305,1100.471520461802],\"y\":[0.0,0.12895676633140257,2.589002954450196,21.242172057936074,83.34650825134592,191.43330171310143,313.1392046156188,420.37773675457083,503.8273444580184,564.3907525985951,605.1014690040181,632.965657995009,651.634127969452,664.1491596185974,672.7975311346559],\"type\":\"scatter\",\"xaxis\":\"x2\",\"yaxis\":\"y2\"},{\"legendgroup\":\"test_5\",\"mode\":\"markers\",\"name\":\"Run id in Test 5\",\"x\":[0.0,0.030935924736293,0.804162343449244,10.870548517297646,65.22768655509961,195.8585375096484,380.0010361514075,573.2161531583585,744.9282135378564,881.5839367271855,980.1323846987966,1043.8984122969127,1083.679069018441,1108.8968951501029,1125.052087317103],\"y\":[0.0,0.023395598034711834,0.7402730297642348,9.73626104329039,52.74404215101082,149.02826417200856,283.7649058651069,427.9477429369653,555.016824060526,647.1884344524082,721.1253147156715,773.2419723917233,809.5645502330433,834.6925673067897,849.7300706365866],\"type\":\"scatter\",\"xaxis\":\"x2\",\"yaxis\":\"y2\"},{\"legendgroup\":\"test_6\",\"mode\":\"markers\",\"name\":\"Run id in Test 6\",\"x\":[0.0,0.1544111652934467,3.7599944327811374,32.09025603312709,125.87188314534892,296.2627151898705,514.158742340626,743.343236146268,958.7202578978104,1147.7971737836272,1306.3166571781155,1434.1989079569498,1533.80175002571,1606.8302417039786,1642.45281821088],\"y\":[0.0,0.11709520028039325,2.6463195773236756,22.933226717696847,92.76371495832655,222.40915369822835,389.15687645643743,563.1281842554909,725.5807946848381,810.1866458575756,871.1577014600252,919.097943289091,954.9286082967458,980.9052782562835,996.3670405210522],\"type\":\"scatter\",\"xaxis\":\"x2\",\"yaxis\":\"y2\"},{\"legendgroup\":\"test_7\",\"mode\":\"markers\",\"name\":\"Run id in Test 7\",\"x\":[0.0,0.1286279523117829,2.342442711201244,20.45181017599882,88.7824526964827,226.36982620800097,411.3388964710858,608.2362445845563,791.3387220952158,948.0160994755988,1074.6884871389736,1173.7661017215894,1250.2321253331695,1308.6545890123389,1352.9446842650268],\"y\":[0.0,0.12075767164948314,2.5129691265829064,21.399042005830093,86.7529865687183,209.09248184114193,367.30121265619135,534.431514894441,689.79466377159,784.4667603915887,861.4667346613571,921.6316088077366,966.3330622694089,998.886142544122,1020.6654773514222],\"type\":\"scatter\",\"xaxis\":\"x2\",\"yaxis\":\"y2\"},{\"legendgroup\":\"test_8\",\"mode\":\"markers\",\"name\":\"Run id in Test 8\",\"x\":[0.0,0.0394649376441817,1.139667969188726,15.14525494943351,86.48169581613604,251.5004556721223,483.3663578645889,731.0518874452288,958.0819454950264,1148.0484050576056,1297.9680603092725,1411.989486887015,1497.089986665622,1559.7604330226195,1605.464984209573],\"y\":[0.0,0.04269745596658433,1.2091369053427585,13.192125880773233,62.91380951162357,165.4293288332766,304.9403581838716,457.3340202383278,600.8735070852285,694.4383650656641,773.1825516070926,833.7814966694841,878.7603655490674,911.375286837427,931.6940113081446],\"type\":\"scatter\",\"xaxis\":\"x2\",\"yaxis\":\"y2\"},{\"legendgroup\":\"test_9\",\"mode\":\"markers\",\"name\":\"Run id in Test 9\",\"x\":[0.0,0.1036825935213099,1.8759111567395288,18.21704051387724,91.8183531595854,260.8827697220299,506.8788143193637,781.838227586801,1046.7682798947126,1280.778709654132,1476.298589359522,1632.8559662496232,1755.007587791339,1849.4347546111003,1921.8083818131647],\"y\":[0.0,0.13219374312874282,2.370662509499167,19.30772949923127,80.07908896164729,200.5050436292683,355.95167044463676,505.0495495646985,618.6844251133074,705.2188322062929,760.3329525400508,792.4450157775515,810.8023999981863,821.5285880940427,829.3543444734572],\"type\":\"scatter\",\"xaxis\":\"x2\",\"yaxis\":\"y2\"},{\"legendgroup\":\"test_10\",\"mode\":\"markers\",\"name\":\"Run id in Test 10\",\"x\":[0.0,0.033277931111437,0.8132238560741042,10.333914533136843,62.58970950350485,199.6988231884692,417.1718619309535,676.330732512661,939.1524970150888,1180.983227181542,1390.170136335851,1563.3064485232628,1701.95789351015,1809.547328888428,1888.9141371741127],\"y\":[0.0,0.012245891892956787,0.6253242420069387,9.208201891315227,51.22533230538609,144.7792990088981,273.88065440979483,410.06583954550763,529.6791142216638,614.6652082867593,680.2754781042587,726.1960429855064,758.2085769816935,780.270761929328,792.6352535913567],\"type\":\"scatter\",\"xaxis\":\"x2\",\"yaxis\":\"y2\"},{\"legendgroup\":\"test_11\",\"mode\":\"markers\",\"name\":\"Run id in Test 11\",\"x\":[0.0,0.1118108026724597,2.1126090047105106,18.77205000238081,84.87085727760795,228.50531207380084,435.6558878139516,668.8032561927158,895.4518317980693,1097.2160759654264,1265.227919580515,1394.4376892168991,1438.9121368714896,1438.912136900354,1438.9121368621752],\"y\":[0.0,0.12975990907930707,2.7195178071689083,22.965174500223753,92.81836052574798,224.80961885938729,395.2349272984112,567.7054965793469,719.3667882950842,805.800617031553,858.6824295587838,896.50062322066,923.2939534917944,942.1272663106289,953.9490861228044],\"type\":\"scatter\",\"xaxis\":\"x2\",\"yaxis\":\"y2\"},{\"legendgroup\":\"test_12\",\"mode\":\"markers\",\"name\":\"Run id in Test 12\",\"x\":[0.0,0.0650874739368107,1.33934994937356,14.466734103189973,74.60934099159422,210.60068625199736,400.4768112958397,600.4514122099282,779.6668898642205,924.9762614027202,1034.1850931258248,1112.6561662642366,1168.7389344412495,1208.6574097766354,1236.961352495897],\"y\":[0.0,0.06748497157363409,1.4422837752755768,14.21510582586473,66.96748916966284,180.54472424887408,339.5213991590203,507.9262807945449,654.1411126748192,756.040270120745,827.5020471576096,876.6280370567799,910.5614302378482,934.0983928245159,949.4357016300637],\"type\":\"scatter\",\"xaxis\":\"x2\",\"yaxis\":\"y2\"},{\"legendgroup\":\"test_13\",\"mode\":\"markers\",\"name\":\"Run id in Test 13\",\"x\":[0.0,0.0775713556726022,1.3323293824109703,13.675349791909884,68.84965330185243,191.6274019310073,360.435675788076,535.5707719825474,690.6325828391189,815.7192240186338,910.6561554434476,979.3800966114234,1027.9620633680902,1062.0100828210157,1085.7278565677673],\"y\":[0.0,0.06173323587555082,1.1845167826732412,12.458323429008951,63.860030954326,186.6338621417093,376.6607793725655,595.2328151504603,795.0751681163221,935.0886979458393,1042.733131695266,1120.0921353196572,1175.2586154248188,1214.6695826747523,1241.8779551813311],\"type\":\"scatter\",\"xaxis\":\"x2\",\"yaxis\":\"y2\"},{\"legendgroup\":\"test_14\",\"mode\":\"markers\",\"name\":\"Run id in Test 14\",\"x\":[0.0,0.0517799844637069,1.086017356632279,10.953844898091484,56.06492889396038,164.49730247146377,329.47200094091767,518.7518362879913,702.481563411152,863.5033810962298,995.3919363718366,1097.8754581461646,1174.7778141402418,1232.1150002821148,1274.6722418448528],\"y\":[0.0,0.052815775724779516,1.2905750515187888,13.723684658861433,67.48889951264204,187.85292582968458,363.4769685696642,556.829758315949,731.3428568682093,838.6425849655943,917.7084698953979,972.9706289724998,1011.1237676379592,1037.309797545245,1052.3259084636938],\"type\":\"scatter\",\"xaxis\":\"x2\",\"yaxis\":\"y2\"},{\"legendgroup\":\"test_15\",\"mode\":\"markers\",\"name\":\"Run id in Test 15\",\"x\":[0.0,0.1361134959845262,2.6268201833203086,21.642315591586733,89.4840394645475,222.56113837595285,399.9869344495684,588.6737236471344,764.3372780584056,914.8719254835776,1038.1910250151227,1136.6450456489808,1213.7180222972656,1273.1816989334352,1318.5711304394208],\"y\":[0.0,0.12419684055048202,2.6639968334684494,22.66146723263851,90.76905171865829,215.70653105173034,373.7677465962246,536.0511420453164,685.056189186963,772.316066564517,833.6475935948838,881.7870839149058,918.1874581654215,945.0509170916929,963.0041699424569],\"type\":\"scatter\",\"xaxis\":\"x2\",\"yaxis\":\"y2\"},{\"legendgroup\":\"test_16\",\"mode\":\"markers\",\"name\":\"Run id in Test 16\",\"x\":[0.0,0.1362308657826228,3.654487690374856,34.36181495157046,139.22423207103105,324.2249193901656,547.5729611224215,766.7489930376987,958.032953531586,1113.7222927520452,1234.6344053119324,1325.7252821108657,1392.8975301434723,1441.6081870195858,1476.45971619891],\"y\":[0.0,0.1285319882156231,2.790433304147338,23.42201909126333,92.12292153403034,213.49866913555644,358.32622113051445,497.8963984562056,620.7863415646408,688.0582553803482,732.8898886164345,766.954750315931,791.7545497892531,809.3475979256893,819.8554492588511],\"type\":\"scatter\",\"xaxis\":\"x2\",\"yaxis\":\"y2\"},{\"legendgroup\":\"test_17\",\"mode\":\"markers\",\"name\":\"Run id in Test 17\",\"x\":[0.0,0.1209844545950259,1.790459973586387,15.062004598489736,70.40081805213595,194.2446126265813,370.6859520919911,558.8980739372003,723.9285624251402,847.5534122940699,932.7547948854268,991.88244658216,1033.514902644962,1063.166767801361,1084.4591115920357],\"y\":[0.0,0.16846882799095142,3.177111174400231,24.69882840107831,93.35125361814801,210.75410003842168,340.57925857118914,448.52221835702,524.0649452141718,581.9790031192156,610.7523881258332,626.720361763083,635.3888578878646,640.1888530146721,644.8097454201773],\"type\":\"scatter\",\"xaxis\":\"x2\",\"yaxis\":\"y2\"},{\"legendgroup\":\"test_18\",\"mode\":\"markers\",\"name\":\"Run id in Test 18\",\"x\":[0.0,0.1158097614343491,2.4298058155113016,22.931589171885257,105.12860666256104,277.55532956507454,514.4363622699755,769.2833019750905,1006.9721084599564,1208.9999155922717,1373.4060550266352,1505.043116798952,1608.756647966356,1689.3747441247992,1751.382462301726],\"y\":[0.0,0.14352744269955559,2.777506041172125,22.45805365402277,88.57067618073062,208.73138073381116,352.10948054570196,481.3998860431422,579.4898940054876,649.1975776356554,683.8404154943461,703.866954109902,715.7445642038118,723.0125820859506,728.7157581012459],\"type\":\"scatter\",\"xaxis\":\"x2\",\"yaxis\":\"y2\"}],                        {\"template\":{\"data\":{\"histogram2dcontour\":[{\"type\":\"histogram2dcontour\",\"colorbar\":{\"outlinewidth\":0,\"ticks\":\"\"},\"colorscale\":[[0.0,\"#0d0887\"],[0.1111111111111111,\"#46039f\"],[0.2222222222222222,\"#7201a8\"],[0.3333333333333333,\"#9c179e\"],[0.4444444444444444,\"#bd3786\"],[0.5555555555555556,\"#d8576b\"],[0.6666666666666666,\"#ed7953\"],[0.7777777777777778,\"#fb9f3a\"],[0.8888888888888888,\"#fdca26\"],[1.0,\"#f0f921\"]]}],\"choropleth\":[{\"type\":\"choropleth\",\"colorbar\":{\"outlinewidth\":0,\"ticks\":\"\"}}],\"histogram2d\":[{\"type\":\"histogram2d\",\"colorbar\":{\"outlinewidth\":0,\"ticks\":\"\"},\"colorscale\":[[0.0,\"#0d0887\"],[0.1111111111111111,\"#46039f\"],[0.2222222222222222,\"#7201a8\"],[0.3333333333333333,\"#9c179e\"],[0.4444444444444444,\"#bd3786\"],[0.5555555555555556,\"#d8576b\"],[0.6666666666666666,\"#ed7953\"],[0.7777777777777778,\"#fb9f3a\"],[0.8888888888888888,\"#fdca26\"],[1.0,\"#f0f921\"]]}],\"heatmap\":[{\"type\":\"heatmap\",\"colorbar\":{\"outlinewidth\":0,\"ticks\":\"\"},\"colorscale\":[[0.0,\"#0d0887\"],[0.1111111111111111,\"#46039f\"],[0.2222222222222222,\"#7201a8\"],[0.3333333333333333,\"#9c179e\"],[0.4444444444444444,\"#bd3786\"],[0.5555555555555556,\"#d8576b\"],[0.6666666666666666,\"#ed7953\"],[0.7777777777777778,\"#fb9f3a\"],[0.8888888888888888,\"#fdca26\"],[1.0,\"#f0f921\"]]}],\"heatmapgl\":[{\"type\":\"heatmapgl\",\"colorbar\":{\"outlinewidth\":0,\"ticks\":\"\"},\"colorscale\":[[0.0,\"#0d0887\"],[0.1111111111111111,\"#46039f\"],[0.2222222222222222,\"#7201a8\"],[0.3333333333333333,\"#9c179e\"],[0.4444444444444444,\"#bd3786\"],[0.5555555555555556,\"#d8576b\"],[0.6666666666666666,\"#ed7953\"],[0.7777777777777778,\"#fb9f3a\"],[0.8888888888888888,\"#fdca26\"],[1.0,\"#f0f921\"]]}],\"contourcarpet\":[{\"type\":\"contourcarpet\",\"colorbar\":{\"outlinewidth\":0,\"ticks\":\"\"}}],\"contour\":[{\"type\":\"contour\",\"colorbar\":{\"outlinewidth\":0,\"ticks\":\"\"},\"colorscale\":[[0.0,\"#0d0887\"],[0.1111111111111111,\"#46039f\"],[0.2222222222222222,\"#7201a8\"],[0.3333333333333333,\"#9c179e\"],[0.4444444444444444,\"#bd3786\"],[0.5555555555555556,\"#d8576b\"],[0.6666666666666666,\"#ed7953\"],[0.7777777777777778,\"#fb9f3a\"],[0.8888888888888888,\"#fdca26\"],[1.0,\"#f0f921\"]]}],\"surface\":[{\"type\":\"surface\",\"colorbar\":{\"outlinewidth\":0,\"ticks\":\"\"},\"colorscale\":[[0.0,\"#0d0887\"],[0.1111111111111111,\"#46039f\"],[0.2222222222222222,\"#7201a8\"],[0.3333333333333333,\"#9c179e\"],[0.4444444444444444,\"#bd3786\"],[0.5555555555555556,\"#d8576b\"],[0.6666666666666666,\"#ed7953\"],[0.7777777777777778,\"#fb9f3a\"],[0.8888888888888888,\"#fdca26\"],[1.0,\"#f0f921\"]]}],\"mesh3d\":[{\"type\":\"mesh3d\",\"colorbar\":{\"outlinewidth\":0,\"ticks\":\"\"}}],\"scatter\":[{\"fillpattern\":{\"fillmode\":\"overlay\",\"size\":10,\"solidity\":0.2},\"type\":\"scatter\"}],\"parcoords\":[{\"type\":\"parcoords\",\"line\":{\"colorbar\":{\"outlinewidth\":0,\"ticks\":\"\"}}}],\"scatterpolargl\":[{\"type\":\"scatterpolargl\",\"marker\":{\"colorbar\":{\"outlinewidth\":0,\"ticks\":\"\"}}}],\"bar\":[{\"error_x\":{\"color\":\"#2a3f5f\"},\"error_y\":{\"color\":\"#2a3f5f\"},\"marker\":{\"line\":{\"color\":\"white\",\"width\":0.5},\"pattern\":{\"fillmode\":\"overlay\",\"size\":10,\"solidity\":0.2}},\"type\":\"bar\"}],\"scattergeo\":[{\"type\":\"scattergeo\",\"marker\":{\"colorbar\":{\"outlinewidth\":0,\"ticks\":\"\"}}}],\"scatterpolar\":[{\"type\":\"scatterpolar\",\"marker\":{\"colorbar\":{\"outlinewidth\":0,\"ticks\":\"\"}}}],\"histogram\":[{\"marker\":{\"pattern\":{\"fillmode\":\"overlay\",\"size\":10,\"solidity\":0.2}},\"type\":\"histogram\"}],\"scattergl\":[{\"type\":\"scattergl\",\"marker\":{\"colorbar\":{\"outlinewidth\":0,\"ticks\":\"\"}}}],\"scatter3d\":[{\"type\":\"scatter3d\",\"line\":{\"colorbar\":{\"outlinewidth\":0,\"ticks\":\"\"}},\"marker\":{\"colorbar\":{\"outlinewidth\":0,\"ticks\":\"\"}}}],\"scattermapbox\":[{\"type\":\"scattermapbox\",\"marker\":{\"colorbar\":{\"outlinewidth\":0,\"ticks\":\"\"}}}],\"scatterternary\":[{\"type\":\"scatterternary\",\"marker\":{\"colorbar\":{\"outlinewidth\":0,\"ticks\":\"\"}}}],\"scattercarpet\":[{\"type\":\"scattercarpet\",\"marker\":{\"colorbar\":{\"outlinewidth\":0,\"ticks\":\"\"}}}],\"carpet\":[{\"aaxis\":{\"endlinecolor\":\"#2a3f5f\",\"gridcolor\":\"#C8D4E3\",\"linecolor\":\"#C8D4E3\",\"minorgridcolor\":\"#C8D4E3\",\"startlinecolor\":\"#2a3f5f\"},\"baxis\":{\"endlinecolor\":\"#2a3f5f\",\"gridcolor\":\"#C8D4E3\",\"linecolor\":\"#C8D4E3\",\"minorgridcolor\":\"#C8D4E3\",\"startlinecolor\":\"#2a3f5f\"},\"type\":\"carpet\"}],\"table\":[{\"cells\":{\"fill\":{\"color\":\"#EBF0F8\"},\"line\":{\"color\":\"white\"}},\"header\":{\"fill\":{\"color\":\"#C8D4E3\"},\"line\":{\"color\":\"white\"}},\"type\":\"table\"}],\"barpolar\":[{\"marker\":{\"line\":{\"color\":\"white\",\"width\":0.5},\"pattern\":{\"fillmode\":\"overlay\",\"size\":10,\"solidity\":0.2}},\"type\":\"barpolar\"}],\"pie\":[{\"automargin\":true,\"type\":\"pie\"}]},\"layout\":{\"autotypenumbers\":\"strict\",\"colorway\":[\"#636efa\",\"#EF553B\",\"#00cc96\",\"#ab63fa\",\"#FFA15A\",\"#19d3f3\",\"#FF6692\",\"#B6E880\",\"#FF97FF\",\"#FECB52\"],\"font\":{\"color\":\"#2a3f5f\"},\"hovermode\":\"closest\",\"hoverlabel\":{\"align\":\"left\"},\"paper_bgcolor\":\"white\",\"plot_bgcolor\":\"white\",\"polar\":{\"bgcolor\":\"white\",\"angularaxis\":{\"gridcolor\":\"#EBF0F8\",\"linecolor\":\"#EBF0F8\",\"ticks\":\"\"},\"radialaxis\":{\"gridcolor\":\"#EBF0F8\",\"linecolor\":\"#EBF0F8\",\"ticks\":\"\"}},\"ternary\":{\"bgcolor\":\"white\",\"aaxis\":{\"gridcolor\":\"#DFE8F3\",\"linecolor\":\"#A2B1C6\",\"ticks\":\"\"},\"baxis\":{\"gridcolor\":\"#DFE8F3\",\"linecolor\":\"#A2B1C6\",\"ticks\":\"\"},\"caxis\":{\"gridcolor\":\"#DFE8F3\",\"linecolor\":\"#A2B1C6\",\"ticks\":\"\"}},\"coloraxis\":{\"colorbar\":{\"outlinewidth\":0,\"ticks\":\"\"}},\"colorscale\":{\"sequential\":[[0.0,\"#0d0887\"],[0.1111111111111111,\"#46039f\"],[0.2222222222222222,\"#7201a8\"],[0.3333333333333333,\"#9c179e\"],[0.4444444444444444,\"#bd3786\"],[0.5555555555555556,\"#d8576b\"],[0.6666666666666666,\"#ed7953\"],[0.7777777777777778,\"#fb9f3a\"],[0.8888888888888888,\"#fdca26\"],[1.0,\"#f0f921\"]],\"sequentialminus\":[[0.0,\"#0d0887\"],[0.1111111111111111,\"#46039f\"],[0.2222222222222222,\"#7201a8\"],[0.3333333333333333,\"#9c179e\"],[0.4444444444444444,\"#bd3786\"],[0.5555555555555556,\"#d8576b\"],[0.6666666666666666,\"#ed7953\"],[0.7777777777777778,\"#fb9f3a\"],[0.8888888888888888,\"#fdca26\"],[1.0,\"#f0f921\"]],\"diverging\":[[0,\"#8e0152\"],[0.1,\"#c51b7d\"],[0.2,\"#de77ae\"],[0.3,\"#f1b6da\"],[0.4,\"#fde0ef\"],[0.5,\"#f7f7f7\"],[0.6,\"#e6f5d0\"],[0.7,\"#b8e186\"],[0.8,\"#7fbc41\"],[0.9,\"#4d9221\"],[1,\"#276419\"]]},\"xaxis\":{\"gridcolor\":\"#EBF0F8\",\"linecolor\":\"#EBF0F8\",\"ticks\":\"\",\"title\":{\"standoff\":15},\"zerolinecolor\":\"#EBF0F8\",\"automargin\":true,\"zerolinewidth\":2},\"yaxis\":{\"gridcolor\":\"#EBF0F8\",\"linecolor\":\"#EBF0F8\",\"ticks\":\"\",\"title\":{\"standoff\":15},\"zerolinecolor\":\"#EBF0F8\",\"automargin\":true,\"zerolinewidth\":2},\"scene\":{\"xaxis\":{\"backgroundcolor\":\"white\",\"gridcolor\":\"#DFE8F3\",\"linecolor\":\"#EBF0F8\",\"showbackground\":true,\"ticks\":\"\",\"zerolinecolor\":\"#EBF0F8\",\"gridwidth\":2},\"yaxis\":{\"backgroundcolor\":\"white\",\"gridcolor\":\"#DFE8F3\",\"linecolor\":\"#EBF0F8\",\"showbackground\":true,\"ticks\":\"\",\"zerolinecolor\":\"#EBF0F8\",\"gridwidth\":2},\"zaxis\":{\"backgroundcolor\":\"white\",\"gridcolor\":\"#DFE8F3\",\"linecolor\":\"#EBF0F8\",\"showbackground\":true,\"ticks\":\"\",\"zerolinecolor\":\"#EBF0F8\",\"gridwidth\":2}},\"shapedefaults\":{\"line\":{\"color\":\"#2a3f5f\"}},\"annotationdefaults\":{\"arrowcolor\":\"#2a3f5f\",\"arrowhead\":0,\"arrowwidth\":1},\"geo\":{\"bgcolor\":\"white\",\"landcolor\":\"white\",\"subunitcolor\":\"#C8D4E3\",\"showland\":true,\"showlakes\":true,\"lakecolor\":\"white\"},\"title\":{\"x\":0.05},\"mapbox\":{\"style\":\"light\"}}},\"xaxis\":{\"anchor\":\"y\",\"domain\":[0.0,0.45],\"title\":{\"text\":\"Observed values\"}},\"yaxis\":{\"anchor\":\"x\",\"domain\":[0.0,1.0],\"title\":{\"text\":\"Predicted values\"}},\"xaxis2\":{\"anchor\":\"y2\",\"domain\":[0.55,1.0],\"title\":{\"text\":\"Observed values\"}},\"yaxis2\":{\"anchor\":\"x2\",\"domain\":[0.0,1.0],\"title\":{\"text\":\"Predicted values\"}},\"annotations\":[{\"font\":{\"size\":16},\"showarrow\":false,\"text\":\"Train Set - X:Titer \\u003cbr\\u003e R^2 = 0.828 \\u003cbr\\u003e Abs RMSE = 104.742 \\u003cbr\\u003e Rel RMSE = 0.291\",\"x\":0.225,\"xanchor\":\"center\",\"xref\":\"paper\",\"y\":1.0,\"yanchor\":\"bottom\",\"yref\":\"paper\"},{\"font\":{\"size\":16},\"showarrow\":false,\"text\":\"Test Set - X:Titer \\u003cbr\\u003e R^2 = 0.698 \\u003cbr\\u003e Abs RMSE = 311.53 \\u003cbr\\u003e Rel RMSE = 0.521\",\"x\":0.775,\"xanchor\":\"center\",\"xref\":\"paper\",\"y\":1.0,\"yanchor\":\"bottom\",\"yref\":\"paper\"}],\"shapes\":[{\"layer\":\"above\",\"line\":{\"dash\":\"dash\"},\"type\":\"line\",\"x0\":0.0,\"x1\":1102.0672591612404,\"y0\":0.0,\"y1\":1102.0672591612404},{\"layer\":\"above\",\"line\":{\"dash\":\"dash\"},\"type\":\"line\",\"x0\":0.0,\"x1\":1241.8779551813311,\"xref\":\"x2\",\"y0\":0.0,\"y1\":1241.8779551813311,\"yref\":\"y2\"}],\"width\":1600},                        {\"responsive\": true}                    ).then(function(){\n",
       "                            \n",
       "var gd = document.getElementById('d29385d0-aaa7-4517-9e96-e79551f4a828');\n",
       "var x = new MutationObserver(function (mutations, observer) {{\n",
       "        var display = window.getComputedStyle(gd).display;\n",
       "        if (!display || display === 'none') {{\n",
       "            console.log([gd, 'removed!']);\n",
       "            Plotly.purge(gd);\n",
       "            observer.disconnect();\n",
       "        }}\n",
       "}});\n",
       "\n",
       "// Listen for the removal of the full notebook cells\n",
       "var notebookContainer = gd.closest('#notebook-container');\n",
       "if (notebookContainer) {{\n",
       "    x.observe(notebookContainer, {childList: true});\n",
       "}}\n",
       "\n",
       "// Listen for the clearing of the current output cell\n",
       "var outputEl = gd.closest('.output');\n",
       "if (outputEl) {{\n",
       "    x.observe(outputEl, {childList: true});\n",
       "}}\n",
       "\n",
       "                        })                };                });            </script>        </div>"
      ]
     },
     "metadata": {},
     "output_type": "display_data"
    },
    {
     "data": {
      "application/vnd.plotly.v1+json": {
       "config": {
        "plotlyServerURL": "https://plot.ly"
       },
       "data": [
        {
         "marker": {
          "color": "#4C78A8"
         },
         "name": "Train Set",
         "text": [
          "0.25",
          "0.36",
          "0.20",
          "0.29"
         ],
         "textposition": "outside",
         "type": "bar",
         "x": [
          "X:VCD",
          "X:Glc",
          "X:Lac",
          "X:Titer"
         ],
         "y": [
          0.254,
          0.357,
          0.205,
          0.291
         ]
        },
        {
         "marker": {
          "color": "#F58518"
         },
         "name": "Test Set",
         "text": [
          "0.49",
          "1.23",
          "0.35",
          "0.52"
         ],
         "textposition": "outside",
         "type": "bar",
         "x": [
          "X:VCD",
          "X:Glc",
          "X:Lac",
          "X:Titer"
         ],
         "y": [
          0.492,
          1.232,
          0.349,
          0.521
         ]
        }
       ],
       "layout": {
        "barmode": "group",
        "legend": {
         "orientation": "h",
         "x": 0.5,
         "xanchor": "center",
         "y": 1.02,
         "yanchor": "bottom"
        },
        "template": {
         "data": {
          "bar": [
           {
            "error_x": {
             "color": "#2a3f5f"
            },
            "error_y": {
             "color": "#2a3f5f"
            },
            "marker": {
             "line": {
              "color": "white",
              "width": 0.5
             },
             "pattern": {
              "fillmode": "overlay",
              "size": 10,
              "solidity": 0.2
             }
            },
            "type": "bar"
           }
          ],
          "barpolar": [
           {
            "marker": {
             "line": {
              "color": "white",
              "width": 0.5
             },
             "pattern": {
              "fillmode": "overlay",
              "size": 10,
              "solidity": 0.2
             }
            },
            "type": "barpolar"
           }
          ],
          "carpet": [
           {
            "aaxis": {
             "endlinecolor": "#2a3f5f",
             "gridcolor": "#C8D4E3",
             "linecolor": "#C8D4E3",
             "minorgridcolor": "#C8D4E3",
             "startlinecolor": "#2a3f5f"
            },
            "baxis": {
             "endlinecolor": "#2a3f5f",
             "gridcolor": "#C8D4E3",
             "linecolor": "#C8D4E3",
             "minorgridcolor": "#C8D4E3",
             "startlinecolor": "#2a3f5f"
            },
            "type": "carpet"
           }
          ],
          "choropleth": [
           {
            "colorbar": {
             "outlinewidth": 0,
             "ticks": ""
            },
            "type": "choropleth"
           }
          ],
          "contour": [
           {
            "colorbar": {
             "outlinewidth": 0,
             "ticks": ""
            },
            "colorscale": [
             [
              0,
              "#0d0887"
             ],
             [
              0.1111111111111111,
              "#46039f"
             ],
             [
              0.2222222222222222,
              "#7201a8"
             ],
             [
              0.3333333333333333,
              "#9c179e"
             ],
             [
              0.4444444444444444,
              "#bd3786"
             ],
             [
              0.5555555555555556,
              "#d8576b"
             ],
             [
              0.6666666666666666,
              "#ed7953"
             ],
             [
              0.7777777777777778,
              "#fb9f3a"
             ],
             [
              0.8888888888888888,
              "#fdca26"
             ],
             [
              1,
              "#f0f921"
             ]
            ],
            "type": "contour"
           }
          ],
          "contourcarpet": [
           {
            "colorbar": {
             "outlinewidth": 0,
             "ticks": ""
            },
            "type": "contourcarpet"
           }
          ],
          "heatmap": [
           {
            "colorbar": {
             "outlinewidth": 0,
             "ticks": ""
            },
            "colorscale": [
             [
              0,
              "#0d0887"
             ],
             [
              0.1111111111111111,
              "#46039f"
             ],
             [
              0.2222222222222222,
              "#7201a8"
             ],
             [
              0.3333333333333333,
              "#9c179e"
             ],
             [
              0.4444444444444444,
              "#bd3786"
             ],
             [
              0.5555555555555556,
              "#d8576b"
             ],
             [
              0.6666666666666666,
              "#ed7953"
             ],
             [
              0.7777777777777778,
              "#fb9f3a"
             ],
             [
              0.8888888888888888,
              "#fdca26"
             ],
             [
              1,
              "#f0f921"
             ]
            ],
            "type": "heatmap"
           }
          ],
          "heatmapgl": [
           {
            "colorbar": {
             "outlinewidth": 0,
             "ticks": ""
            },
            "colorscale": [
             [
              0,
              "#0d0887"
             ],
             [
              0.1111111111111111,
              "#46039f"
             ],
             [
              0.2222222222222222,
              "#7201a8"
             ],
             [
              0.3333333333333333,
              "#9c179e"
             ],
             [
              0.4444444444444444,
              "#bd3786"
             ],
             [
              0.5555555555555556,
              "#d8576b"
             ],
             [
              0.6666666666666666,
              "#ed7953"
             ],
             [
              0.7777777777777778,
              "#fb9f3a"
             ],
             [
              0.8888888888888888,
              "#fdca26"
             ],
             [
              1,
              "#f0f921"
             ]
            ],
            "type": "heatmapgl"
           }
          ],
          "histogram": [
           {
            "marker": {
             "pattern": {
              "fillmode": "overlay",
              "size": 10,
              "solidity": 0.2
             }
            },
            "type": "histogram"
           }
          ],
          "histogram2d": [
           {
            "colorbar": {
             "outlinewidth": 0,
             "ticks": ""
            },
            "colorscale": [
             [
              0,
              "#0d0887"
             ],
             [
              0.1111111111111111,
              "#46039f"
             ],
             [
              0.2222222222222222,
              "#7201a8"
             ],
             [
              0.3333333333333333,
              "#9c179e"
             ],
             [
              0.4444444444444444,
              "#bd3786"
             ],
             [
              0.5555555555555556,
              "#d8576b"
             ],
             [
              0.6666666666666666,
              "#ed7953"
             ],
             [
              0.7777777777777778,
              "#fb9f3a"
             ],
             [
              0.8888888888888888,
              "#fdca26"
             ],
             [
              1,
              "#f0f921"
             ]
            ],
            "type": "histogram2d"
           }
          ],
          "histogram2dcontour": [
           {
            "colorbar": {
             "outlinewidth": 0,
             "ticks": ""
            },
            "colorscale": [
             [
              0,
              "#0d0887"
             ],
             [
              0.1111111111111111,
              "#46039f"
             ],
             [
              0.2222222222222222,
              "#7201a8"
             ],
             [
              0.3333333333333333,
              "#9c179e"
             ],
             [
              0.4444444444444444,
              "#bd3786"
             ],
             [
              0.5555555555555556,
              "#d8576b"
             ],
             [
              0.6666666666666666,
              "#ed7953"
             ],
             [
              0.7777777777777778,
              "#fb9f3a"
             ],
             [
              0.8888888888888888,
              "#fdca26"
             ],
             [
              1,
              "#f0f921"
             ]
            ],
            "type": "histogram2dcontour"
           }
          ],
          "mesh3d": [
           {
            "colorbar": {
             "outlinewidth": 0,
             "ticks": ""
            },
            "type": "mesh3d"
           }
          ],
          "parcoords": [
           {
            "line": {
             "colorbar": {
              "outlinewidth": 0,
              "ticks": ""
             }
            },
            "type": "parcoords"
           }
          ],
          "pie": [
           {
            "automargin": true,
            "type": "pie"
           }
          ],
          "scatter": [
           {
            "fillpattern": {
             "fillmode": "overlay",
             "size": 10,
             "solidity": 0.2
            },
            "type": "scatter"
           }
          ],
          "scatter3d": [
           {
            "line": {
             "colorbar": {
              "outlinewidth": 0,
              "ticks": ""
             }
            },
            "marker": {
             "colorbar": {
              "outlinewidth": 0,
              "ticks": ""
             }
            },
            "type": "scatter3d"
           }
          ],
          "scattercarpet": [
           {
            "marker": {
             "colorbar": {
              "outlinewidth": 0,
              "ticks": ""
             }
            },
            "type": "scattercarpet"
           }
          ],
          "scattergeo": [
           {
            "marker": {
             "colorbar": {
              "outlinewidth": 0,
              "ticks": ""
             }
            },
            "type": "scattergeo"
           }
          ],
          "scattergl": [
           {
            "marker": {
             "colorbar": {
              "outlinewidth": 0,
              "ticks": ""
             }
            },
            "type": "scattergl"
           }
          ],
          "scattermapbox": [
           {
            "marker": {
             "colorbar": {
              "outlinewidth": 0,
              "ticks": ""
             }
            },
            "type": "scattermapbox"
           }
          ],
          "scatterpolar": [
           {
            "marker": {
             "colorbar": {
              "outlinewidth": 0,
              "ticks": ""
             }
            },
            "type": "scatterpolar"
           }
          ],
          "scatterpolargl": [
           {
            "marker": {
             "colorbar": {
              "outlinewidth": 0,
              "ticks": ""
             }
            },
            "type": "scatterpolargl"
           }
          ],
          "scatterternary": [
           {
            "marker": {
             "colorbar": {
              "outlinewidth": 0,
              "ticks": ""
             }
            },
            "type": "scatterternary"
           }
          ],
          "surface": [
           {
            "colorbar": {
             "outlinewidth": 0,
             "ticks": ""
            },
            "colorscale": [
             [
              0,
              "#0d0887"
             ],
             [
              0.1111111111111111,
              "#46039f"
             ],
             [
              0.2222222222222222,
              "#7201a8"
             ],
             [
              0.3333333333333333,
              "#9c179e"
             ],
             [
              0.4444444444444444,
              "#bd3786"
             ],
             [
              0.5555555555555556,
              "#d8576b"
             ],
             [
              0.6666666666666666,
              "#ed7953"
             ],
             [
              0.7777777777777778,
              "#fb9f3a"
             ],
             [
              0.8888888888888888,
              "#fdca26"
             ],
             [
              1,
              "#f0f921"
             ]
            ],
            "type": "surface"
           }
          ],
          "table": [
           {
            "cells": {
             "fill": {
              "color": "#EBF0F8"
             },
             "line": {
              "color": "white"
             }
            },
            "header": {
             "fill": {
              "color": "#C8D4E3"
             },
             "line": {
              "color": "white"
             }
            },
            "type": "table"
           }
          ]
         },
         "layout": {
          "annotationdefaults": {
           "arrowcolor": "#2a3f5f",
           "arrowhead": 0,
           "arrowwidth": 1
          },
          "autotypenumbers": "strict",
          "coloraxis": {
           "colorbar": {
            "outlinewidth": 0,
            "ticks": ""
           }
          },
          "colorscale": {
           "diverging": [
            [
             0,
             "#8e0152"
            ],
            [
             0.1,
             "#c51b7d"
            ],
            [
             0.2,
             "#de77ae"
            ],
            [
             0.3,
             "#f1b6da"
            ],
            [
             0.4,
             "#fde0ef"
            ],
            [
             0.5,
             "#f7f7f7"
            ],
            [
             0.6,
             "#e6f5d0"
            ],
            [
             0.7,
             "#b8e186"
            ],
            [
             0.8,
             "#7fbc41"
            ],
            [
             0.9,
             "#4d9221"
            ],
            [
             1,
             "#276419"
            ]
           ],
           "sequential": [
            [
             0,
             "#0d0887"
            ],
            [
             0.1111111111111111,
             "#46039f"
            ],
            [
             0.2222222222222222,
             "#7201a8"
            ],
            [
             0.3333333333333333,
             "#9c179e"
            ],
            [
             0.4444444444444444,
             "#bd3786"
            ],
            [
             0.5555555555555556,
             "#d8576b"
            ],
            [
             0.6666666666666666,
             "#ed7953"
            ],
            [
             0.7777777777777778,
             "#fb9f3a"
            ],
            [
             0.8888888888888888,
             "#fdca26"
            ],
            [
             1,
             "#f0f921"
            ]
           ],
           "sequentialminus": [
            [
             0,
             "#0d0887"
            ],
            [
             0.1111111111111111,
             "#46039f"
            ],
            [
             0.2222222222222222,
             "#7201a8"
            ],
            [
             0.3333333333333333,
             "#9c179e"
            ],
            [
             0.4444444444444444,
             "#bd3786"
            ],
            [
             0.5555555555555556,
             "#d8576b"
            ],
            [
             0.6666666666666666,
             "#ed7953"
            ],
            [
             0.7777777777777778,
             "#fb9f3a"
            ],
            [
             0.8888888888888888,
             "#fdca26"
            ],
            [
             1,
             "#f0f921"
            ]
           ]
          },
          "colorway": [
           "#636efa",
           "#EF553B",
           "#00cc96",
           "#ab63fa",
           "#FFA15A",
           "#19d3f3",
           "#FF6692",
           "#B6E880",
           "#FF97FF",
           "#FECB52"
          ],
          "font": {
           "color": "#2a3f5f"
          },
          "geo": {
           "bgcolor": "white",
           "lakecolor": "white",
           "landcolor": "white",
           "showlakes": true,
           "showland": true,
           "subunitcolor": "#C8D4E3"
          },
          "hoverlabel": {
           "align": "left"
          },
          "hovermode": "closest",
          "mapbox": {
           "style": "light"
          },
          "paper_bgcolor": "white",
          "plot_bgcolor": "white",
          "polar": {
           "angularaxis": {
            "gridcolor": "#EBF0F8",
            "linecolor": "#EBF0F8",
            "ticks": ""
           },
           "bgcolor": "white",
           "radialaxis": {
            "gridcolor": "#EBF0F8",
            "linecolor": "#EBF0F8",
            "ticks": ""
           }
          },
          "scene": {
           "xaxis": {
            "backgroundcolor": "white",
            "gridcolor": "#DFE8F3",
            "gridwidth": 2,
            "linecolor": "#EBF0F8",
            "showbackground": true,
            "ticks": "",
            "zerolinecolor": "#EBF0F8"
           },
           "yaxis": {
            "backgroundcolor": "white",
            "gridcolor": "#DFE8F3",
            "gridwidth": 2,
            "linecolor": "#EBF0F8",
            "showbackground": true,
            "ticks": "",
            "zerolinecolor": "#EBF0F8"
           },
           "zaxis": {
            "backgroundcolor": "white",
            "gridcolor": "#DFE8F3",
            "gridwidth": 2,
            "linecolor": "#EBF0F8",
            "showbackground": true,
            "ticks": "",
            "zerolinecolor": "#EBF0F8"
           }
          },
          "shapedefaults": {
           "line": {
            "color": "#2a3f5f"
           }
          },
          "ternary": {
           "aaxis": {
            "gridcolor": "#DFE8F3",
            "linecolor": "#A2B1C6",
            "ticks": ""
           },
           "baxis": {
            "gridcolor": "#DFE8F3",
            "linecolor": "#A2B1C6",
            "ticks": ""
           },
           "bgcolor": "white",
           "caxis": {
            "gridcolor": "#DFE8F3",
            "linecolor": "#A2B1C6",
            "ticks": ""
           }
          },
          "title": {
           "x": 0.05
          },
          "xaxis": {
           "automargin": true,
           "gridcolor": "#EBF0F8",
           "linecolor": "#EBF0F8",
           "ticks": "",
           "title": {
            "standoff": 15
           },
           "zerolinecolor": "#EBF0F8",
           "zerolinewidth": 2
          },
          "yaxis": {
           "automargin": true,
           "gridcolor": "#EBF0F8",
           "linecolor": "#EBF0F8",
           "ticks": "",
           "title": {
            "standoff": 15
           },
           "zerolinecolor": "#EBF0F8",
           "zerolinewidth": 2
          }
         }
        },
        "title": {
         "text": "Relative RMSE for Each Variables"
        },
        "xaxis": {
         "title": {
          "text": "Feature"
         }
        },
        "yaxis": {
         "title": {
          "text": "Relative RMSE"
         }
        }
       }
      },
      "text/html": [
       "<div>                            <div id=\"a89b5967-d101-447c-9072-b526d67c52b2\" class=\"plotly-graph-div\" style=\"height:525px; width:100%;\"></div>            <script type=\"text/javascript\">                require([\"plotly\"], function(Plotly) {                    window.PLOTLYENV=window.PLOTLYENV || {};                                    if (document.getElementById(\"a89b5967-d101-447c-9072-b526d67c52b2\")) {                    Plotly.newPlot(                        \"a89b5967-d101-447c-9072-b526d67c52b2\",                        [{\"marker\":{\"color\":\"#4C78A8\"},\"name\":\"Train Set\",\"text\":[\"0.25\",\"0.36\",\"0.20\",\"0.29\"],\"textposition\":\"outside\",\"x\":[\"X:VCD\",\"X:Glc\",\"X:Lac\",\"X:Titer\"],\"y\":[0.254,0.357,0.205,0.291],\"type\":\"bar\"},{\"marker\":{\"color\":\"#F58518\"},\"name\":\"Test Set\",\"text\":[\"0.49\",\"1.23\",\"0.35\",\"0.52\"],\"textposition\":\"outside\",\"x\":[\"X:VCD\",\"X:Glc\",\"X:Lac\",\"X:Titer\"],\"y\":[0.492,1.232,0.349,0.521],\"type\":\"bar\"}],                        {\"template\":{\"data\":{\"histogram2dcontour\":[{\"type\":\"histogram2dcontour\",\"colorbar\":{\"outlinewidth\":0,\"ticks\":\"\"},\"colorscale\":[[0.0,\"#0d0887\"],[0.1111111111111111,\"#46039f\"],[0.2222222222222222,\"#7201a8\"],[0.3333333333333333,\"#9c179e\"],[0.4444444444444444,\"#bd3786\"],[0.5555555555555556,\"#d8576b\"],[0.6666666666666666,\"#ed7953\"],[0.7777777777777778,\"#fb9f3a\"],[0.8888888888888888,\"#fdca26\"],[1.0,\"#f0f921\"]]}],\"choropleth\":[{\"type\":\"choropleth\",\"colorbar\":{\"outlinewidth\":0,\"ticks\":\"\"}}],\"histogram2d\":[{\"type\":\"histogram2d\",\"colorbar\":{\"outlinewidth\":0,\"ticks\":\"\"},\"colorscale\":[[0.0,\"#0d0887\"],[0.1111111111111111,\"#46039f\"],[0.2222222222222222,\"#7201a8\"],[0.3333333333333333,\"#9c179e\"],[0.4444444444444444,\"#bd3786\"],[0.5555555555555556,\"#d8576b\"],[0.6666666666666666,\"#ed7953\"],[0.7777777777777778,\"#fb9f3a\"],[0.8888888888888888,\"#fdca26\"],[1.0,\"#f0f921\"]]}],\"heatmap\":[{\"type\":\"heatmap\",\"colorbar\":{\"outlinewidth\":0,\"ticks\":\"\"},\"colorscale\":[[0.0,\"#0d0887\"],[0.1111111111111111,\"#46039f\"],[0.2222222222222222,\"#7201a8\"],[0.3333333333333333,\"#9c179e\"],[0.4444444444444444,\"#bd3786\"],[0.5555555555555556,\"#d8576b\"],[0.6666666666666666,\"#ed7953\"],[0.7777777777777778,\"#fb9f3a\"],[0.8888888888888888,\"#fdca26\"],[1.0,\"#f0f921\"]]}],\"heatmapgl\":[{\"type\":\"heatmapgl\",\"colorbar\":{\"outlinewidth\":0,\"ticks\":\"\"},\"colorscale\":[[0.0,\"#0d0887\"],[0.1111111111111111,\"#46039f\"],[0.2222222222222222,\"#7201a8\"],[0.3333333333333333,\"#9c179e\"],[0.4444444444444444,\"#bd3786\"],[0.5555555555555556,\"#d8576b\"],[0.6666666666666666,\"#ed7953\"],[0.7777777777777778,\"#fb9f3a\"],[0.8888888888888888,\"#fdca26\"],[1.0,\"#f0f921\"]]}],\"contourcarpet\":[{\"type\":\"contourcarpet\",\"colorbar\":{\"outlinewidth\":0,\"ticks\":\"\"}}],\"contour\":[{\"type\":\"contour\",\"colorbar\":{\"outlinewidth\":0,\"ticks\":\"\"},\"colorscale\":[[0.0,\"#0d0887\"],[0.1111111111111111,\"#46039f\"],[0.2222222222222222,\"#7201a8\"],[0.3333333333333333,\"#9c179e\"],[0.4444444444444444,\"#bd3786\"],[0.5555555555555556,\"#d8576b\"],[0.6666666666666666,\"#ed7953\"],[0.7777777777777778,\"#fb9f3a\"],[0.8888888888888888,\"#fdca26\"],[1.0,\"#f0f921\"]]}],\"surface\":[{\"type\":\"surface\",\"colorbar\":{\"outlinewidth\":0,\"ticks\":\"\"},\"colorscale\":[[0.0,\"#0d0887\"],[0.1111111111111111,\"#46039f\"],[0.2222222222222222,\"#7201a8\"],[0.3333333333333333,\"#9c179e\"],[0.4444444444444444,\"#bd3786\"],[0.5555555555555556,\"#d8576b\"],[0.6666666666666666,\"#ed7953\"],[0.7777777777777778,\"#fb9f3a\"],[0.8888888888888888,\"#fdca26\"],[1.0,\"#f0f921\"]]}],\"mesh3d\":[{\"type\":\"mesh3d\",\"colorbar\":{\"outlinewidth\":0,\"ticks\":\"\"}}],\"scatter\":[{\"fillpattern\":{\"fillmode\":\"overlay\",\"size\":10,\"solidity\":0.2},\"type\":\"scatter\"}],\"parcoords\":[{\"type\":\"parcoords\",\"line\":{\"colorbar\":{\"outlinewidth\":0,\"ticks\":\"\"}}}],\"scatterpolargl\":[{\"type\":\"scatterpolargl\",\"marker\":{\"colorbar\":{\"outlinewidth\":0,\"ticks\":\"\"}}}],\"bar\":[{\"error_x\":{\"color\":\"#2a3f5f\"},\"error_y\":{\"color\":\"#2a3f5f\"},\"marker\":{\"line\":{\"color\":\"white\",\"width\":0.5},\"pattern\":{\"fillmode\":\"overlay\",\"size\":10,\"solidity\":0.2}},\"type\":\"bar\"}],\"scattergeo\":[{\"type\":\"scattergeo\",\"marker\":{\"colorbar\":{\"outlinewidth\":0,\"ticks\":\"\"}}}],\"scatterpolar\":[{\"type\":\"scatterpolar\",\"marker\":{\"colorbar\":{\"outlinewidth\":0,\"ticks\":\"\"}}}],\"histogram\":[{\"marker\":{\"pattern\":{\"fillmode\":\"overlay\",\"size\":10,\"solidity\":0.2}},\"type\":\"histogram\"}],\"scattergl\":[{\"type\":\"scattergl\",\"marker\":{\"colorbar\":{\"outlinewidth\":0,\"ticks\":\"\"}}}],\"scatter3d\":[{\"type\":\"scatter3d\",\"line\":{\"colorbar\":{\"outlinewidth\":0,\"ticks\":\"\"}},\"marker\":{\"colorbar\":{\"outlinewidth\":0,\"ticks\":\"\"}}}],\"scattermapbox\":[{\"type\":\"scattermapbox\",\"marker\":{\"colorbar\":{\"outlinewidth\":0,\"ticks\":\"\"}}}],\"scatterternary\":[{\"type\":\"scatterternary\",\"marker\":{\"colorbar\":{\"outlinewidth\":0,\"ticks\":\"\"}}}],\"scattercarpet\":[{\"type\":\"scattercarpet\",\"marker\":{\"colorbar\":{\"outlinewidth\":0,\"ticks\":\"\"}}}],\"carpet\":[{\"aaxis\":{\"endlinecolor\":\"#2a3f5f\",\"gridcolor\":\"#C8D4E3\",\"linecolor\":\"#C8D4E3\",\"minorgridcolor\":\"#C8D4E3\",\"startlinecolor\":\"#2a3f5f\"},\"baxis\":{\"endlinecolor\":\"#2a3f5f\",\"gridcolor\":\"#C8D4E3\",\"linecolor\":\"#C8D4E3\",\"minorgridcolor\":\"#C8D4E3\",\"startlinecolor\":\"#2a3f5f\"},\"type\":\"carpet\"}],\"table\":[{\"cells\":{\"fill\":{\"color\":\"#EBF0F8\"},\"line\":{\"color\":\"white\"}},\"header\":{\"fill\":{\"color\":\"#C8D4E3\"},\"line\":{\"color\":\"white\"}},\"type\":\"table\"}],\"barpolar\":[{\"marker\":{\"line\":{\"color\":\"white\",\"width\":0.5},\"pattern\":{\"fillmode\":\"overlay\",\"size\":10,\"solidity\":0.2}},\"type\":\"barpolar\"}],\"pie\":[{\"automargin\":true,\"type\":\"pie\"}]},\"layout\":{\"autotypenumbers\":\"strict\",\"colorway\":[\"#636efa\",\"#EF553B\",\"#00cc96\",\"#ab63fa\",\"#FFA15A\",\"#19d3f3\",\"#FF6692\",\"#B6E880\",\"#FF97FF\",\"#FECB52\"],\"font\":{\"color\":\"#2a3f5f\"},\"hovermode\":\"closest\",\"hoverlabel\":{\"align\":\"left\"},\"paper_bgcolor\":\"white\",\"plot_bgcolor\":\"white\",\"polar\":{\"bgcolor\":\"white\",\"angularaxis\":{\"gridcolor\":\"#EBF0F8\",\"linecolor\":\"#EBF0F8\",\"ticks\":\"\"},\"radialaxis\":{\"gridcolor\":\"#EBF0F8\",\"linecolor\":\"#EBF0F8\",\"ticks\":\"\"}},\"ternary\":{\"bgcolor\":\"white\",\"aaxis\":{\"gridcolor\":\"#DFE8F3\",\"linecolor\":\"#A2B1C6\",\"ticks\":\"\"},\"baxis\":{\"gridcolor\":\"#DFE8F3\",\"linecolor\":\"#A2B1C6\",\"ticks\":\"\"},\"caxis\":{\"gridcolor\":\"#DFE8F3\",\"linecolor\":\"#A2B1C6\",\"ticks\":\"\"}},\"coloraxis\":{\"colorbar\":{\"outlinewidth\":0,\"ticks\":\"\"}},\"colorscale\":{\"sequential\":[[0.0,\"#0d0887\"],[0.1111111111111111,\"#46039f\"],[0.2222222222222222,\"#7201a8\"],[0.3333333333333333,\"#9c179e\"],[0.4444444444444444,\"#bd3786\"],[0.5555555555555556,\"#d8576b\"],[0.6666666666666666,\"#ed7953\"],[0.7777777777777778,\"#fb9f3a\"],[0.8888888888888888,\"#fdca26\"],[1.0,\"#f0f921\"]],\"sequentialminus\":[[0.0,\"#0d0887\"],[0.1111111111111111,\"#46039f\"],[0.2222222222222222,\"#7201a8\"],[0.3333333333333333,\"#9c179e\"],[0.4444444444444444,\"#bd3786\"],[0.5555555555555556,\"#d8576b\"],[0.6666666666666666,\"#ed7953\"],[0.7777777777777778,\"#fb9f3a\"],[0.8888888888888888,\"#fdca26\"],[1.0,\"#f0f921\"]],\"diverging\":[[0,\"#8e0152\"],[0.1,\"#c51b7d\"],[0.2,\"#de77ae\"],[0.3,\"#f1b6da\"],[0.4,\"#fde0ef\"],[0.5,\"#f7f7f7\"],[0.6,\"#e6f5d0\"],[0.7,\"#b8e186\"],[0.8,\"#7fbc41\"],[0.9,\"#4d9221\"],[1,\"#276419\"]]},\"xaxis\":{\"gridcolor\":\"#EBF0F8\",\"linecolor\":\"#EBF0F8\",\"ticks\":\"\",\"title\":{\"standoff\":15},\"zerolinecolor\":\"#EBF0F8\",\"automargin\":true,\"zerolinewidth\":2},\"yaxis\":{\"gridcolor\":\"#EBF0F8\",\"linecolor\":\"#EBF0F8\",\"ticks\":\"\",\"title\":{\"standoff\":15},\"zerolinecolor\":\"#EBF0F8\",\"automargin\":true,\"zerolinewidth\":2},\"scene\":{\"xaxis\":{\"backgroundcolor\":\"white\",\"gridcolor\":\"#DFE8F3\",\"linecolor\":\"#EBF0F8\",\"showbackground\":true,\"ticks\":\"\",\"zerolinecolor\":\"#EBF0F8\",\"gridwidth\":2},\"yaxis\":{\"backgroundcolor\":\"white\",\"gridcolor\":\"#DFE8F3\",\"linecolor\":\"#EBF0F8\",\"showbackground\":true,\"ticks\":\"\",\"zerolinecolor\":\"#EBF0F8\",\"gridwidth\":2},\"zaxis\":{\"backgroundcolor\":\"white\",\"gridcolor\":\"#DFE8F3\",\"linecolor\":\"#EBF0F8\",\"showbackground\":true,\"ticks\":\"\",\"zerolinecolor\":\"#EBF0F8\",\"gridwidth\":2}},\"shapedefaults\":{\"line\":{\"color\":\"#2a3f5f\"}},\"annotationdefaults\":{\"arrowcolor\":\"#2a3f5f\",\"arrowhead\":0,\"arrowwidth\":1},\"geo\":{\"bgcolor\":\"white\",\"landcolor\":\"white\",\"subunitcolor\":\"#C8D4E3\",\"showland\":true,\"showlakes\":true,\"lakecolor\":\"white\"},\"title\":{\"x\":0.05},\"mapbox\":{\"style\":\"light\"}}},\"legend\":{\"orientation\":\"h\",\"yanchor\":\"bottom\",\"y\":1.02,\"xanchor\":\"center\",\"x\":0.5},\"barmode\":\"group\",\"title\":{\"text\":\"Relative RMSE for Each Variables\"},\"xaxis\":{\"title\":{\"text\":\"Feature\"}},\"yaxis\":{\"title\":{\"text\":\"Relative RMSE\"}}},                        {\"responsive\": true}                    ).then(function(){\n",
       "                            \n",
       "var gd = document.getElementById('a89b5967-d101-447c-9072-b526d67c52b2');\n",
       "var x = new MutationObserver(function (mutations, observer) {{\n",
       "        var display = window.getComputedStyle(gd).display;\n",
       "        if (!display || display === 'none') {{\n",
       "            console.log([gd, 'removed!']);\n",
       "            Plotly.purge(gd);\n",
       "            observer.disconnect();\n",
       "        }}\n",
       "}});\n",
       "\n",
       "// Listen for the removal of the full notebook cells\n",
       "var notebookContainer = gd.closest('#notebook-container');\n",
       "if (notebookContainer) {{\n",
       "    x.observe(notebookContainer, {childList: true});\n",
       "}}\n",
       "\n",
       "// Listen for the clearing of the current output cell\n",
       "var outputEl = gd.closest('.output');\n",
       "if (outputEl) {{\n",
       "    x.observe(outputEl, {childList: true});\n",
       "}}\n",
       "\n",
       "                        })                };                });            </script>        </div>"
      ]
     },
     "metadata": {},
     "output_type": "display_data"
    }
   ],
   "source": [
    "X_pred = predict_multi_step_pls_model(Z=doe, multi_step_models=models, t_steps=15)\n",
    "X_test_pred = predict_multi_step_pls_model(Z=doe_test, multi_step_models=models, t_steps=15)\n",
    "\n",
    "plot_multi_step_pls_model_eval(\n",
    "    X,\n",
    "    X_pred,\n",
    "    X_test,\n",
    "    X_test_pred,\n",
    "    X_columns = X_columns,\n",
    ")\n",
    "\n",
    "plot_relative_rmse_by_variables(\n",
    "    X,\n",
    "    X_pred,\n",
    "    X_test,\n",
    "    X_test_pred,\n",
    "    X_columns = X_columns,\n",
    ")"
   ]
  },
  {
   "cell_type": "code",
   "execution_count": 313,
   "metadata": {},
   "outputs": [],
   "source": [
    "def plot_predicted_profile(X, X_pred, X_columns, select_runs=[0], height=1000):\n",
    "    max_cols_per_row = 5\n",
    "    num_columns = len(X_columns)\n",
    "    num_rows = (num_columns + max_cols_per_row) // max_cols_per_row\n",
    "\n",
    "    fig = make_subplots(\n",
    "        rows=num_rows, cols=min(num_columns, max_cols_per_row), \n",
    "        subplot_titles=X_columns\n",
    "    )\n",
    "\n",
    "    color_palette = px.colors.qualitative.Plotly\n",
    "\n",
    "    for idx, j in enumerate(select_runs):\n",
    "        color = color_palette[idx % len(color_palette)]\n",
    "        for i, c in enumerate(X_columns):\n",
    "            row = i // max_cols_per_row + 1\n",
    "            col = i % max_cols_per_row + 1\n",
    "            show_legend = (i == 0)\n",
    "            fig.add_trace(\n",
    "                go.Scatter(\n",
    "                    x=list(range(15)),\n",
    "                    y=X[:, i, j],\n",
    "                    name=f\"Run {j} Observed\",\n",
    "                    marker=dict(color=color),\n",
    "                    showlegend=show_legend,\n",
    "                    legendgroup=f\"group_{j}\"\n",
    "                ),\n",
    "                row=row,\n",
    "                col=col,\n",
    "            )\n",
    "            fig.add_trace(\n",
    "                go.Scatter(\n",
    "                    x=list(range(15)),\n",
    "                    y=X_pred[:, i, j],\n",
    "                    name=f\"Run {j} Predicted\",\n",
    "                    line=dict(dash=\"dash\"),\n",
    "                    marker=dict(color=color),\n",
    "                    showlegend=show_legend,\n",
    "                    legendgroup=f\"group_{j}\"\n",
    "                ),\n",
    "                row=row,\n",
    "                col=col,\n",
    "            )\n",
    "\n",
    "    fig.update_layout(\n",
    "        showlegend=True,\n",
    "        title_text=\"Process variable evolution for selected runs\",\n",
    "        height=height,\n",
    "    )\n",
    "    fig.show()\n"
   ]
  },
  {
   "cell_type": "code",
   "execution_count": 314,
   "metadata": {},
   "outputs": [
    {
     "data": {
      "application/vnd.plotly.v1+json": {
       "config": {
        "plotlyServerURL": "https://plot.ly"
       },
       "data": [
        {
         "legendgroup": "group_0",
         "marker": {
          "color": "#636EFA"
         },
         "name": "Run 0 Observed",
         "showlegend": true,
         "type": "scatter",
         "x": [
          0,
          1,
          2,
          3,
          4,
          5,
          6,
          7,
          8,
          9,
          10,
          11,
          12,
          13,
          14
         ],
         "xaxis": "x",
         "y": [
          0.9846938775510204,
          2.9249576819091097,
          7.444332832191713,
          14.420480064339324,
          20.57081333243489,
          23.12755137436929,
          22.33065010823708,
          19.648806069957416,
          16.31282380897557,
          13.028843938823911,
          10.102605608179564,
          7.629152917195547,
          5.731307831914585,
          4.294304959498489,
          3.2079190607230106
         ],
         "yaxis": "y"
        },
        {
         "legendgroup": "group_0",
         "line": {
          "dash": "dash"
         },
         "marker": {
          "color": "#636EFA"
         },
         "name": "Run 0 Predicted",
         "showlegend": true,
         "type": "scatter",
         "x": [
          0,
          1,
          2,
          3,
          4,
          5,
          6,
          7,
          8,
          9,
          10,
          11,
          12,
          13,
          14
         ],
         "xaxis": "x",
         "y": [
          0.9334546672571958,
          2.4706343166466227,
          5.671973962337976,
          10.360598383150846,
          14.796478642172747,
          16.64991380315898,
          15.965906973764884,
          13.514019395517568,
          10.283559909312253,
          7.036722245073289,
          4.611000512668472,
          2.9932342460813834,
          1.958259974547806,
          1.3007825459779043,
          0.8653883965644111
         ],
         "yaxis": "y"
        },
        {
         "legendgroup": "group_0",
         "marker": {
          "color": "#636EFA"
         },
         "name": "Run 0 Observed",
         "showlegend": false,
         "type": "scatter",
         "x": [
          0,
          1,
          2,
          3,
          4,
          5,
          6,
          7,
          8,
          9,
          10,
          11,
          12,
          13,
          14
         ],
         "xaxis": "x2",
         "y": [
          43.46938775510204,
          42.11575103737883,
          38.40470745766825,
          34.28104672448483,
          36.13270037292429,
          34.63344313923112,
          32.55252740419164,
          31.875483763746413,
          33.52447895437812,
          37.694658596943526,
          44.21209863405196,
          45.78852821788307,
          40.788789446857486,
          37.03759971276014,
          34.231330813861874
         ],
         "yaxis": "y2"
        },
        {
         "legendgroup": "group_0",
         "line": {
          "dash": "dash"
         },
         "marker": {
          "color": "#636EFA"
         },
         "name": "Run 0 Predicted",
         "showlegend": false,
         "type": "scatter",
         "x": [
          0,
          1,
          2,
          3,
          4,
          5,
          6,
          7,
          8,
          9,
          10,
          11,
          12,
          13,
          14
         ],
         "xaxis": "x2",
         "y": [
          41.831237339916854,
          40.18641880915299,
          36.81094462294074,
          34.54587409197349,
          36.455877837301905,
          35.08675387390491,
          33.090984145238345,
          32.31631244477944,
          34.93745320069798,
          46.515956465765974,
          54.95458439071755,
          60.20928486130482,
          58.452083204891196,
          57.29983470658192,
          56.548846804281816
         ],
         "yaxis": "y2"
        },
        {
         "legendgroup": "group_0",
         "marker": {
          "color": "#636EFA"
         },
         "name": "Run 0 Observed",
         "showlegend": false,
         "type": "scatter",
         "x": [
          0,
          1,
          2,
          3,
          4,
          5,
          6,
          7,
          8,
          9,
          10,
          11,
          12,
          13,
          14
         ],
         "xaxis": "x3",
         "y": [
          0,
          2.1824297539180297,
          8.166083041116508,
          21.321369967573112,
          42.85414584728475,
          69.79089068242651,
          97.66797157992208,
          123.28266885228646,
          145.1452661433552,
          162.939326203935,
          176.9454542072082,
          187.6605436533524,
          195.7213811855037,
          201.77002614645343,
          206.29555670809924
         ],
         "yaxis": "y3"
        },
        {
         "legendgroup": "group_0",
         "line": {
          "dash": "dash"
         },
         "marker": {
          "color": "#636EFA"
         },
         "name": "Run 0 Predicted",
         "showlegend": false,
         "type": "scatter",
         "x": [
          0,
          1,
          2,
          3,
          4,
          5,
          6,
          7,
          8,
          9,
          10,
          11,
          12,
          13,
          14
         ],
         "xaxis": "x3",
         "y": [
          0,
          2.373067514758139,
          8.217611859769669,
          20.10122797459388,
          39.08758663569077,
          63.302772853180365,
          88.52115500041455,
          110.69394461964671,
          128.19654083437908,
          140.7200436691612,
          148.9577419023577,
          154.23743905193754,
          157.61817537940541,
          159.81973037725427,
          161.27115123588305
         ],
         "yaxis": "y3"
        },
        {
         "legendgroup": "group_0",
         "marker": {
          "color": "#636EFA"
         },
         "name": "Run 0 Observed",
         "showlegend": false,
         "type": "scatter",
         "x": [
          0,
          1,
          2,
          3,
          4,
          5,
          6,
          7,
          8,
          9,
          10,
          11,
          12,
          13,
          14
         ],
         "xaxis": "x4",
         "y": [
          0,
          0.164105508211151,
          3.673744786136776,
          35.32186247671071,
          154.34678831320295,
          387.7950784521392,
          693.7864209487878,
          1013.615495248714,
          1308.0461540356737,
          1559.5112502067666,
          1764.0166792193825,
          1924.0159855683603,
          2045.8920299168967,
          2138.039188646103,
          2207.32270920506
         ],
         "yaxis": "y4"
        },
        {
         "legendgroup": "group_0",
         "line": {
          "dash": "dash"
         },
         "marker": {
          "color": "#636EFA"
         },
         "name": "Run 0 Predicted",
         "showlegend": false,
         "type": "scatter",
         "x": [
          0,
          1,
          2,
          3,
          4,
          5,
          6,
          7,
          8,
          9,
          10,
          11,
          12,
          13,
          14
         ],
         "xaxis": "x4",
         "y": [
          0,
          0.13766772709078412,
          2.6996595738111395,
          22.489286656460038,
          92.84979146435832,
          233.79939390281228,
          425.24248220859533,
          622.7799784037175,
          791.9581287465617,
          889.5553438341251,
          951.1690025019042,
          991.1185825194904,
          1016.5960052152434,
          1032.9546668265436,
          1042.4762412065515
         ],
         "yaxis": "y4"
        },
        {
         "legendgroup": "group_10",
         "marker": {
          "color": "#EF553B"
         },
         "name": "Run 10 Observed",
         "showlegend": true,
         "type": "scatter",
         "x": [
          0,
          1,
          2,
          3,
          4,
          5,
          6,
          7,
          8,
          9,
          10,
          11,
          12,
          13,
          14
         ],
         "xaxis": "x",
         "y": [
          0.5255102040816326,
          1.542944523336143,
          4.111079413586001,
          8.963076939330202,
          14.544645094511967,
          18.04047070058947,
          18.84870496269079,
          17.78007013831816,
          15.691412933616666,
          13.226330834280551,
          10.79079447405206,
          8.629169774506371,
          6.794817697582468,
          5.271066535858475,
          4.017629690968412
         ],
         "yaxis": "y"
        },
        {
         "legendgroup": "group_10",
         "line": {
          "dash": "dash"
         },
         "marker": {
          "color": "#EF553B"
         },
         "name": "Run 10 Predicted",
         "showlegend": true,
         "type": "scatter",
         "x": [
          0,
          1,
          2,
          3,
          4,
          5,
          6,
          7,
          8,
          9,
          10,
          11,
          12,
          13,
          14
         ],
         "xaxis": "x",
         "y": [
          0.5043124689575463,
          1.4695502522337827,
          3.830847961740743,
          7.834863118720815,
          11.656849220977577,
          12.977562933280003,
          11.944602926408963,
          9.725674911412428,
          7.269058137764285,
          5.113053958632415,
          3.4526927377961547,
          2.340382879115909,
          1.6297763329479218,
          1.1475504879231029,
          0.792731970881424
         ],
         "yaxis": "y"
        },
        {
         "legendgroup": "group_10",
         "marker": {
          "color": "#EF553B"
         },
         "name": "Run 10 Observed",
         "showlegend": false,
         "type": "scatter",
         "x": [
          0,
          1,
          2,
          3,
          4,
          5,
          6,
          7,
          8,
          9,
          10,
          11,
          12,
          13,
          14
         ],
         "xaxis": "x2",
         "y": [
          69.59183673469389,
          68.46750689794594,
          65.3266602512058,
          66.30677152443242,
          66.68529999697574,
          61.49451704502854,
          53.80679731466593,
          46.36843571545527,
          40.87750415301878,
          38.13586928938357,
          37.29759740650222,
          25.839575325434303,
          16.752013641424025,
          9.65792303172169,
          4.218111157440058
         ],
         "yaxis": "y2"
        },
        {
         "legendgroup": "group_10",
         "line": {
          "dash": "dash"
         },
         "marker": {
          "color": "#EF553B"
         },
         "name": "Run 10 Predicted",
         "showlegend": false,
         "type": "scatter",
         "x": [
          0,
          1,
          2,
          3,
          4,
          5,
          6,
          7,
          8,
          9,
          10,
          11,
          12,
          13,
          14
         ],
         "xaxis": "x2",
         "y": [
          70.59772643079828,
          69.69289725146528,
          67.62776409837882,
          68.90331634649296,
          74.03337782527457,
          76.55267787252417,
          78.83759845944674,
          82.59694679857594,
          89.02967930239066,
          94.40841649560943,
          102.86799114565076,
          102.78730384780638,
          100.72798785824745,
          99.26690110794655,
          98.28314528626716
         ],
         "yaxis": "y2"
        },
        {
         "legendgroup": "group_10",
         "marker": {
          "color": "#EF553B"
         },
         "name": "Run 10 Observed",
         "showlegend": false,
         "type": "scatter",
         "x": [
          0,
          1,
          2,
          3,
          4,
          5,
          6,
          7,
          8,
          9,
          10,
          11,
          12,
          13,
          14
         ],
         "xaxis": "x3",
         "y": [
          0,
          1.1623390875862771,
          4.409440947202533,
          12.199464858319589,
          26.68259599173664,
          46.92408425738573,
          69.74911784545765,
          92.31934092239872,
          112.87882510600517,
          130.5969978701169,
          145.28440753789718,
          157.14016520309832,
          166.55053242887047,
          173.9075937931368,
          179.57004361756432
         ],
         "yaxis": "y3"
        },
        {
         "legendgroup": "group_10",
         "line": {
          "dash": "dash"
         },
         "marker": {
          "color": "#EF553B"
         },
         "name": "Run 10 Predicted",
         "showlegend": false,
         "type": "scatter",
         "x": [
          0,
          1,
          2,
          3,
          4,
          5,
          6,
          7,
          8,
          9,
          10,
          11,
          12,
          13,
          14
         ],
         "xaxis": "x3",
         "y": [
          0,
          1.3541406164425367,
          5.088849013920316,
          13.655892274090434,
          28.283128951462324,
          46.80863265822829,
          66.18957750246166,
          82.22256736700307,
          94.70248458306571,
          103.85842873001894,
          110.1565112915766,
          114.35784661737951,
          117.21526864644541,
          119.19417771358273,
          120.56908715816375
         ],
         "yaxis": "y3"
        },
        {
         "legendgroup": "group_10",
         "marker": {
          "color": "#EF553B"
         },
         "name": "Run 10 Observed",
         "showlegend": false,
         "type": "scatter",
         "x": [
          0,
          1,
          2,
          3,
          4,
          5,
          6,
          7,
          8,
          9,
          10,
          11,
          12,
          13,
          14
         ],
         "xaxis": "x4",
         "y": [
          0,
          0.033277931111437,
          0.8132238560741042,
          10.333914533136843,
          62.58970950350485,
          199.6988231884692,
          417.1718619309535,
          676.330732512661,
          939.1524970150888,
          1180.983227181542,
          1390.170136335851,
          1563.3064485232628,
          1701.95789351015,
          1809.547328888428,
          1888.9141371741127
         ],
         "yaxis": "y4"
        },
        {
         "legendgroup": "group_10",
         "line": {
          "dash": "dash"
         },
         "marker": {
          "color": "#EF553B"
         },
         "name": "Run 10 Predicted",
         "showlegend": false,
         "type": "scatter",
         "x": [
          0,
          1,
          2,
          3,
          4,
          5,
          6,
          7,
          8,
          9,
          10,
          11,
          12,
          13,
          14
         ],
         "xaxis": "x4",
         "y": [
          0,
          0.012245891892956787,
          0.6253242420069387,
          9.208201891315227,
          51.22533230538609,
          144.7792990088981,
          273.88065440979483,
          410.06583954550763,
          529.6791142216638,
          614.6652082867593,
          680.2754781042587,
          726.1960429855064,
          758.2085769816935,
          780.270761929328,
          792.6352535913567
         ],
         "yaxis": "y4"
        }
       ],
       "layout": {
        "annotations": [
         {
          "font": {
           "size": 16
          },
          "showarrow": false,
          "text": "X:VCD",
          "x": 0.10625,
          "xanchor": "center",
          "xref": "paper",
          "y": 1,
          "yanchor": "bottom",
          "yref": "paper"
         },
         {
          "font": {
           "size": 16
          },
          "showarrow": false,
          "text": "X:Glc",
          "x": 0.36875,
          "xanchor": "center",
          "xref": "paper",
          "y": 1,
          "yanchor": "bottom",
          "yref": "paper"
         },
         {
          "font": {
           "size": 16
          },
          "showarrow": false,
          "text": "X:Lac",
          "x": 0.6312500000000001,
          "xanchor": "center",
          "xref": "paper",
          "y": 1,
          "yanchor": "bottom",
          "yref": "paper"
         },
         {
          "font": {
           "size": 16
          },
          "showarrow": false,
          "text": "X:Titer",
          "x": 0.89375,
          "xanchor": "center",
          "xref": "paper",
          "y": 1,
          "yanchor": "bottom",
          "yref": "paper"
         }
        ],
        "height": 500,
        "showlegend": true,
        "template": {
         "data": {
          "bar": [
           {
            "error_x": {
             "color": "#2a3f5f"
            },
            "error_y": {
             "color": "#2a3f5f"
            },
            "marker": {
             "line": {
              "color": "white",
              "width": 0.5
             },
             "pattern": {
              "fillmode": "overlay",
              "size": 10,
              "solidity": 0.2
             }
            },
            "type": "bar"
           }
          ],
          "barpolar": [
           {
            "marker": {
             "line": {
              "color": "white",
              "width": 0.5
             },
             "pattern": {
              "fillmode": "overlay",
              "size": 10,
              "solidity": 0.2
             }
            },
            "type": "barpolar"
           }
          ],
          "carpet": [
           {
            "aaxis": {
             "endlinecolor": "#2a3f5f",
             "gridcolor": "#C8D4E3",
             "linecolor": "#C8D4E3",
             "minorgridcolor": "#C8D4E3",
             "startlinecolor": "#2a3f5f"
            },
            "baxis": {
             "endlinecolor": "#2a3f5f",
             "gridcolor": "#C8D4E3",
             "linecolor": "#C8D4E3",
             "minorgridcolor": "#C8D4E3",
             "startlinecolor": "#2a3f5f"
            },
            "type": "carpet"
           }
          ],
          "choropleth": [
           {
            "colorbar": {
             "outlinewidth": 0,
             "ticks": ""
            },
            "type": "choropleth"
           }
          ],
          "contour": [
           {
            "colorbar": {
             "outlinewidth": 0,
             "ticks": ""
            },
            "colorscale": [
             [
              0,
              "#0d0887"
             ],
             [
              0.1111111111111111,
              "#46039f"
             ],
             [
              0.2222222222222222,
              "#7201a8"
             ],
             [
              0.3333333333333333,
              "#9c179e"
             ],
             [
              0.4444444444444444,
              "#bd3786"
             ],
             [
              0.5555555555555556,
              "#d8576b"
             ],
             [
              0.6666666666666666,
              "#ed7953"
             ],
             [
              0.7777777777777778,
              "#fb9f3a"
             ],
             [
              0.8888888888888888,
              "#fdca26"
             ],
             [
              1,
              "#f0f921"
             ]
            ],
            "type": "contour"
           }
          ],
          "contourcarpet": [
           {
            "colorbar": {
             "outlinewidth": 0,
             "ticks": ""
            },
            "type": "contourcarpet"
           }
          ],
          "heatmap": [
           {
            "colorbar": {
             "outlinewidth": 0,
             "ticks": ""
            },
            "colorscale": [
             [
              0,
              "#0d0887"
             ],
             [
              0.1111111111111111,
              "#46039f"
             ],
             [
              0.2222222222222222,
              "#7201a8"
             ],
             [
              0.3333333333333333,
              "#9c179e"
             ],
             [
              0.4444444444444444,
              "#bd3786"
             ],
             [
              0.5555555555555556,
              "#d8576b"
             ],
             [
              0.6666666666666666,
              "#ed7953"
             ],
             [
              0.7777777777777778,
              "#fb9f3a"
             ],
             [
              0.8888888888888888,
              "#fdca26"
             ],
             [
              1,
              "#f0f921"
             ]
            ],
            "type": "heatmap"
           }
          ],
          "heatmapgl": [
           {
            "colorbar": {
             "outlinewidth": 0,
             "ticks": ""
            },
            "colorscale": [
             [
              0,
              "#0d0887"
             ],
             [
              0.1111111111111111,
              "#46039f"
             ],
             [
              0.2222222222222222,
              "#7201a8"
             ],
             [
              0.3333333333333333,
              "#9c179e"
             ],
             [
              0.4444444444444444,
              "#bd3786"
             ],
             [
              0.5555555555555556,
              "#d8576b"
             ],
             [
              0.6666666666666666,
              "#ed7953"
             ],
             [
              0.7777777777777778,
              "#fb9f3a"
             ],
             [
              0.8888888888888888,
              "#fdca26"
             ],
             [
              1,
              "#f0f921"
             ]
            ],
            "type": "heatmapgl"
           }
          ],
          "histogram": [
           {
            "marker": {
             "pattern": {
              "fillmode": "overlay",
              "size": 10,
              "solidity": 0.2
             }
            },
            "type": "histogram"
           }
          ],
          "histogram2d": [
           {
            "colorbar": {
             "outlinewidth": 0,
             "ticks": ""
            },
            "colorscale": [
             [
              0,
              "#0d0887"
             ],
             [
              0.1111111111111111,
              "#46039f"
             ],
             [
              0.2222222222222222,
              "#7201a8"
             ],
             [
              0.3333333333333333,
              "#9c179e"
             ],
             [
              0.4444444444444444,
              "#bd3786"
             ],
             [
              0.5555555555555556,
              "#d8576b"
             ],
             [
              0.6666666666666666,
              "#ed7953"
             ],
             [
              0.7777777777777778,
              "#fb9f3a"
             ],
             [
              0.8888888888888888,
              "#fdca26"
             ],
             [
              1,
              "#f0f921"
             ]
            ],
            "type": "histogram2d"
           }
          ],
          "histogram2dcontour": [
           {
            "colorbar": {
             "outlinewidth": 0,
             "ticks": ""
            },
            "colorscale": [
             [
              0,
              "#0d0887"
             ],
             [
              0.1111111111111111,
              "#46039f"
             ],
             [
              0.2222222222222222,
              "#7201a8"
             ],
             [
              0.3333333333333333,
              "#9c179e"
             ],
             [
              0.4444444444444444,
              "#bd3786"
             ],
             [
              0.5555555555555556,
              "#d8576b"
             ],
             [
              0.6666666666666666,
              "#ed7953"
             ],
             [
              0.7777777777777778,
              "#fb9f3a"
             ],
             [
              0.8888888888888888,
              "#fdca26"
             ],
             [
              1,
              "#f0f921"
             ]
            ],
            "type": "histogram2dcontour"
           }
          ],
          "mesh3d": [
           {
            "colorbar": {
             "outlinewidth": 0,
             "ticks": ""
            },
            "type": "mesh3d"
           }
          ],
          "parcoords": [
           {
            "line": {
             "colorbar": {
              "outlinewidth": 0,
              "ticks": ""
             }
            },
            "type": "parcoords"
           }
          ],
          "pie": [
           {
            "automargin": true,
            "type": "pie"
           }
          ],
          "scatter": [
           {
            "fillpattern": {
             "fillmode": "overlay",
             "size": 10,
             "solidity": 0.2
            },
            "type": "scatter"
           }
          ],
          "scatter3d": [
           {
            "line": {
             "colorbar": {
              "outlinewidth": 0,
              "ticks": ""
             }
            },
            "marker": {
             "colorbar": {
              "outlinewidth": 0,
              "ticks": ""
             }
            },
            "type": "scatter3d"
           }
          ],
          "scattercarpet": [
           {
            "marker": {
             "colorbar": {
              "outlinewidth": 0,
              "ticks": ""
             }
            },
            "type": "scattercarpet"
           }
          ],
          "scattergeo": [
           {
            "marker": {
             "colorbar": {
              "outlinewidth": 0,
              "ticks": ""
             }
            },
            "type": "scattergeo"
           }
          ],
          "scattergl": [
           {
            "marker": {
             "colorbar": {
              "outlinewidth": 0,
              "ticks": ""
             }
            },
            "type": "scattergl"
           }
          ],
          "scattermapbox": [
           {
            "marker": {
             "colorbar": {
              "outlinewidth": 0,
              "ticks": ""
             }
            },
            "type": "scattermapbox"
           }
          ],
          "scatterpolar": [
           {
            "marker": {
             "colorbar": {
              "outlinewidth": 0,
              "ticks": ""
             }
            },
            "type": "scatterpolar"
           }
          ],
          "scatterpolargl": [
           {
            "marker": {
             "colorbar": {
              "outlinewidth": 0,
              "ticks": ""
             }
            },
            "type": "scatterpolargl"
           }
          ],
          "scatterternary": [
           {
            "marker": {
             "colorbar": {
              "outlinewidth": 0,
              "ticks": ""
             }
            },
            "type": "scatterternary"
           }
          ],
          "surface": [
           {
            "colorbar": {
             "outlinewidth": 0,
             "ticks": ""
            },
            "colorscale": [
             [
              0,
              "#0d0887"
             ],
             [
              0.1111111111111111,
              "#46039f"
             ],
             [
              0.2222222222222222,
              "#7201a8"
             ],
             [
              0.3333333333333333,
              "#9c179e"
             ],
             [
              0.4444444444444444,
              "#bd3786"
             ],
             [
              0.5555555555555556,
              "#d8576b"
             ],
             [
              0.6666666666666666,
              "#ed7953"
             ],
             [
              0.7777777777777778,
              "#fb9f3a"
             ],
             [
              0.8888888888888888,
              "#fdca26"
             ],
             [
              1,
              "#f0f921"
             ]
            ],
            "type": "surface"
           }
          ],
          "table": [
           {
            "cells": {
             "fill": {
              "color": "#EBF0F8"
             },
             "line": {
              "color": "white"
             }
            },
            "header": {
             "fill": {
              "color": "#C8D4E3"
             },
             "line": {
              "color": "white"
             }
            },
            "type": "table"
           }
          ]
         },
         "layout": {
          "annotationdefaults": {
           "arrowcolor": "#2a3f5f",
           "arrowhead": 0,
           "arrowwidth": 1
          },
          "autotypenumbers": "strict",
          "coloraxis": {
           "colorbar": {
            "outlinewidth": 0,
            "ticks": ""
           }
          },
          "colorscale": {
           "diverging": [
            [
             0,
             "#8e0152"
            ],
            [
             0.1,
             "#c51b7d"
            ],
            [
             0.2,
             "#de77ae"
            ],
            [
             0.3,
             "#f1b6da"
            ],
            [
             0.4,
             "#fde0ef"
            ],
            [
             0.5,
             "#f7f7f7"
            ],
            [
             0.6,
             "#e6f5d0"
            ],
            [
             0.7,
             "#b8e186"
            ],
            [
             0.8,
             "#7fbc41"
            ],
            [
             0.9,
             "#4d9221"
            ],
            [
             1,
             "#276419"
            ]
           ],
           "sequential": [
            [
             0,
             "#0d0887"
            ],
            [
             0.1111111111111111,
             "#46039f"
            ],
            [
             0.2222222222222222,
             "#7201a8"
            ],
            [
             0.3333333333333333,
             "#9c179e"
            ],
            [
             0.4444444444444444,
             "#bd3786"
            ],
            [
             0.5555555555555556,
             "#d8576b"
            ],
            [
             0.6666666666666666,
             "#ed7953"
            ],
            [
             0.7777777777777778,
             "#fb9f3a"
            ],
            [
             0.8888888888888888,
             "#fdca26"
            ],
            [
             1,
             "#f0f921"
            ]
           ],
           "sequentialminus": [
            [
             0,
             "#0d0887"
            ],
            [
             0.1111111111111111,
             "#46039f"
            ],
            [
             0.2222222222222222,
             "#7201a8"
            ],
            [
             0.3333333333333333,
             "#9c179e"
            ],
            [
             0.4444444444444444,
             "#bd3786"
            ],
            [
             0.5555555555555556,
             "#d8576b"
            ],
            [
             0.6666666666666666,
             "#ed7953"
            ],
            [
             0.7777777777777778,
             "#fb9f3a"
            ],
            [
             0.8888888888888888,
             "#fdca26"
            ],
            [
             1,
             "#f0f921"
            ]
           ]
          },
          "colorway": [
           "#636efa",
           "#EF553B",
           "#00cc96",
           "#ab63fa",
           "#FFA15A",
           "#19d3f3",
           "#FF6692",
           "#B6E880",
           "#FF97FF",
           "#FECB52"
          ],
          "font": {
           "color": "#2a3f5f"
          },
          "geo": {
           "bgcolor": "white",
           "lakecolor": "white",
           "landcolor": "white",
           "showlakes": true,
           "showland": true,
           "subunitcolor": "#C8D4E3"
          },
          "hoverlabel": {
           "align": "left"
          },
          "hovermode": "closest",
          "mapbox": {
           "style": "light"
          },
          "paper_bgcolor": "white",
          "plot_bgcolor": "white",
          "polar": {
           "angularaxis": {
            "gridcolor": "#EBF0F8",
            "linecolor": "#EBF0F8",
            "ticks": ""
           },
           "bgcolor": "white",
           "radialaxis": {
            "gridcolor": "#EBF0F8",
            "linecolor": "#EBF0F8",
            "ticks": ""
           }
          },
          "scene": {
           "xaxis": {
            "backgroundcolor": "white",
            "gridcolor": "#DFE8F3",
            "gridwidth": 2,
            "linecolor": "#EBF0F8",
            "showbackground": true,
            "ticks": "",
            "zerolinecolor": "#EBF0F8"
           },
           "yaxis": {
            "backgroundcolor": "white",
            "gridcolor": "#DFE8F3",
            "gridwidth": 2,
            "linecolor": "#EBF0F8",
            "showbackground": true,
            "ticks": "",
            "zerolinecolor": "#EBF0F8"
           },
           "zaxis": {
            "backgroundcolor": "white",
            "gridcolor": "#DFE8F3",
            "gridwidth": 2,
            "linecolor": "#EBF0F8",
            "showbackground": true,
            "ticks": "",
            "zerolinecolor": "#EBF0F8"
           }
          },
          "shapedefaults": {
           "line": {
            "color": "#2a3f5f"
           }
          },
          "ternary": {
           "aaxis": {
            "gridcolor": "#DFE8F3",
            "linecolor": "#A2B1C6",
            "ticks": ""
           },
           "baxis": {
            "gridcolor": "#DFE8F3",
            "linecolor": "#A2B1C6",
            "ticks": ""
           },
           "bgcolor": "white",
           "caxis": {
            "gridcolor": "#DFE8F3",
            "linecolor": "#A2B1C6",
            "ticks": ""
           }
          },
          "title": {
           "x": 0.05
          },
          "xaxis": {
           "automargin": true,
           "gridcolor": "#EBF0F8",
           "linecolor": "#EBF0F8",
           "ticks": "",
           "title": {
            "standoff": 15
           },
           "zerolinecolor": "#EBF0F8",
           "zerolinewidth": 2
          },
          "yaxis": {
           "automargin": true,
           "gridcolor": "#EBF0F8",
           "linecolor": "#EBF0F8",
           "ticks": "",
           "title": {
            "standoff": 15
           },
           "zerolinecolor": "#EBF0F8",
           "zerolinewidth": 2
          }
         }
        },
        "title": {
         "text": "Process variable evolution for selected runs"
        },
        "xaxis": {
         "anchor": "y",
         "domain": [
          0,
          0.2125
         ]
        },
        "xaxis2": {
         "anchor": "y2",
         "domain": [
          0.2625,
          0.475
         ]
        },
        "xaxis3": {
         "anchor": "y3",
         "domain": [
          0.525,
          0.7375
         ]
        },
        "xaxis4": {
         "anchor": "y4",
         "domain": [
          0.7875,
          1
         ]
        },
        "yaxis": {
         "anchor": "x",
         "domain": [
          0,
          1
         ]
        },
        "yaxis2": {
         "anchor": "x2",
         "domain": [
          0,
          1
         ]
        },
        "yaxis3": {
         "anchor": "x3",
         "domain": [
          0,
          1
         ]
        },
        "yaxis4": {
         "anchor": "x4",
         "domain": [
          0,
          1
         ]
        }
       }
      },
      "text/html": [
       "<div>                            <div id=\"8b70b803-84db-4044-9d8b-234c23948df9\" class=\"plotly-graph-div\" style=\"height:500px; width:100%;\"></div>            <script type=\"text/javascript\">                require([\"plotly\"], function(Plotly) {                    window.PLOTLYENV=window.PLOTLYENV || {};                                    if (document.getElementById(\"8b70b803-84db-4044-9d8b-234c23948df9\")) {                    Plotly.newPlot(                        \"8b70b803-84db-4044-9d8b-234c23948df9\",                        [{\"legendgroup\":\"group_0\",\"marker\":{\"color\":\"#636EFA\"},\"name\":\"Run 0 Observed\",\"showlegend\":true,\"x\":[0,1,2,3,4,5,6,7,8,9,10,11,12,13,14],\"y\":[0.9846938775510204,2.9249576819091097,7.444332832191713,14.420480064339324,20.57081333243489,23.12755137436929,22.33065010823708,19.648806069957416,16.31282380897557,13.028843938823911,10.102605608179564,7.629152917195547,5.731307831914585,4.294304959498489,3.2079190607230106],\"type\":\"scatter\",\"xaxis\":\"x\",\"yaxis\":\"y\"},{\"legendgroup\":\"group_0\",\"line\":{\"dash\":\"dash\"},\"marker\":{\"color\":\"#636EFA\"},\"name\":\"Run 0 Predicted\",\"showlegend\":true,\"x\":[0,1,2,3,4,5,6,7,8,9,10,11,12,13,14],\"y\":[0.9334546672571958,2.4706343166466227,5.671973962337976,10.360598383150846,14.796478642172747,16.64991380315898,15.965906973764884,13.514019395517568,10.283559909312253,7.036722245073289,4.611000512668472,2.9932342460813834,1.958259974547806,1.3007825459779043,0.8653883965644111],\"type\":\"scatter\",\"xaxis\":\"x\",\"yaxis\":\"y\"},{\"legendgroup\":\"group_0\",\"marker\":{\"color\":\"#636EFA\"},\"name\":\"Run 0 Observed\",\"showlegend\":false,\"x\":[0,1,2,3,4,5,6,7,8,9,10,11,12,13,14],\"y\":[43.46938775510204,42.11575103737883,38.40470745766825,34.28104672448483,36.13270037292429,34.63344313923112,32.55252740419164,31.875483763746413,33.52447895437812,37.694658596943526,44.21209863405196,45.78852821788307,40.788789446857486,37.03759971276014,34.231330813861874],\"type\":\"scatter\",\"xaxis\":\"x2\",\"yaxis\":\"y2\"},{\"legendgroup\":\"group_0\",\"line\":{\"dash\":\"dash\"},\"marker\":{\"color\":\"#636EFA\"},\"name\":\"Run 0 Predicted\",\"showlegend\":false,\"x\":[0,1,2,3,4,5,6,7,8,9,10,11,12,13,14],\"y\":[41.831237339916854,40.18641880915299,36.81094462294074,34.54587409197349,36.455877837301905,35.08675387390491,33.090984145238345,32.31631244477944,34.93745320069798,46.515956465765974,54.95458439071755,60.20928486130482,58.452083204891196,57.29983470658192,56.548846804281816],\"type\":\"scatter\",\"xaxis\":\"x2\",\"yaxis\":\"y2\"},{\"legendgroup\":\"group_0\",\"marker\":{\"color\":\"#636EFA\"},\"name\":\"Run 0 Observed\",\"showlegend\":false,\"x\":[0,1,2,3,4,5,6,7,8,9,10,11,12,13,14],\"y\":[0.0,2.1824297539180297,8.166083041116508,21.321369967573112,42.85414584728475,69.79089068242651,97.66797157992208,123.28266885228646,145.1452661433552,162.939326203935,176.9454542072082,187.6605436533524,195.7213811855037,201.77002614645343,206.29555670809924],\"type\":\"scatter\",\"xaxis\":\"x3\",\"yaxis\":\"y3\"},{\"legendgroup\":\"group_0\",\"line\":{\"dash\":\"dash\"},\"marker\":{\"color\":\"#636EFA\"},\"name\":\"Run 0 Predicted\",\"showlegend\":false,\"x\":[0,1,2,3,4,5,6,7,8,9,10,11,12,13,14],\"y\":[0.0,2.373067514758139,8.217611859769669,20.10122797459388,39.08758663569077,63.302772853180365,88.52115500041455,110.69394461964671,128.19654083437908,140.7200436691612,148.9577419023577,154.23743905193754,157.61817537940541,159.81973037725427,161.27115123588305],\"type\":\"scatter\",\"xaxis\":\"x3\",\"yaxis\":\"y3\"},{\"legendgroup\":\"group_0\",\"marker\":{\"color\":\"#636EFA\"},\"name\":\"Run 0 Observed\",\"showlegend\":false,\"x\":[0,1,2,3,4,5,6,7,8,9,10,11,12,13,14],\"y\":[0.0,0.164105508211151,3.673744786136776,35.32186247671071,154.34678831320295,387.7950784521392,693.7864209487878,1013.615495248714,1308.0461540356737,1559.5112502067666,1764.0166792193825,1924.0159855683603,2045.8920299168967,2138.039188646103,2207.32270920506],\"type\":\"scatter\",\"xaxis\":\"x4\",\"yaxis\":\"y4\"},{\"legendgroup\":\"group_0\",\"line\":{\"dash\":\"dash\"},\"marker\":{\"color\":\"#636EFA\"},\"name\":\"Run 0 Predicted\",\"showlegend\":false,\"x\":[0,1,2,3,4,5,6,7,8,9,10,11,12,13,14],\"y\":[0.0,0.13766772709078412,2.6996595738111395,22.489286656460038,92.84979146435832,233.79939390281228,425.24248220859533,622.7799784037175,791.9581287465617,889.5553438341251,951.1690025019042,991.1185825194904,1016.5960052152434,1032.9546668265436,1042.4762412065515],\"type\":\"scatter\",\"xaxis\":\"x4\",\"yaxis\":\"y4\"},{\"legendgroup\":\"group_10\",\"marker\":{\"color\":\"#EF553B\"},\"name\":\"Run 10 Observed\",\"showlegend\":true,\"x\":[0,1,2,3,4,5,6,7,8,9,10,11,12,13,14],\"y\":[0.5255102040816326,1.542944523336143,4.111079413586001,8.963076939330202,14.544645094511967,18.04047070058947,18.84870496269079,17.78007013831816,15.691412933616666,13.226330834280551,10.79079447405206,8.629169774506371,6.794817697582468,5.271066535858475,4.017629690968412],\"type\":\"scatter\",\"xaxis\":\"x\",\"yaxis\":\"y\"},{\"legendgroup\":\"group_10\",\"line\":{\"dash\":\"dash\"},\"marker\":{\"color\":\"#EF553B\"},\"name\":\"Run 10 Predicted\",\"showlegend\":true,\"x\":[0,1,2,3,4,5,6,7,8,9,10,11,12,13,14],\"y\":[0.5043124689575463,1.4695502522337827,3.830847961740743,7.834863118720815,11.656849220977577,12.977562933280003,11.944602926408963,9.725674911412428,7.269058137764285,5.113053958632415,3.4526927377961547,2.340382879115909,1.6297763329479218,1.1475504879231029,0.792731970881424],\"type\":\"scatter\",\"xaxis\":\"x\",\"yaxis\":\"y\"},{\"legendgroup\":\"group_10\",\"marker\":{\"color\":\"#EF553B\"},\"name\":\"Run 10 Observed\",\"showlegend\":false,\"x\":[0,1,2,3,4,5,6,7,8,9,10,11,12,13,14],\"y\":[69.59183673469389,68.46750689794594,65.3266602512058,66.30677152443242,66.68529999697574,61.49451704502854,53.80679731466593,46.36843571545527,40.87750415301878,38.13586928938357,37.29759740650222,25.839575325434303,16.752013641424025,9.65792303172169,4.218111157440058],\"type\":\"scatter\",\"xaxis\":\"x2\",\"yaxis\":\"y2\"},{\"legendgroup\":\"group_10\",\"line\":{\"dash\":\"dash\"},\"marker\":{\"color\":\"#EF553B\"},\"name\":\"Run 10 Predicted\",\"showlegend\":false,\"x\":[0,1,2,3,4,5,6,7,8,9,10,11,12,13,14],\"y\":[70.59772643079828,69.69289725146528,67.62776409837882,68.90331634649296,74.03337782527457,76.55267787252417,78.83759845944674,82.59694679857594,89.02967930239066,94.40841649560943,102.86799114565076,102.78730384780638,100.72798785824745,99.26690110794655,98.28314528626716],\"type\":\"scatter\",\"xaxis\":\"x2\",\"yaxis\":\"y2\"},{\"legendgroup\":\"group_10\",\"marker\":{\"color\":\"#EF553B\"},\"name\":\"Run 10 Observed\",\"showlegend\":false,\"x\":[0,1,2,3,4,5,6,7,8,9,10,11,12,13,14],\"y\":[0.0,1.1623390875862771,4.409440947202533,12.199464858319589,26.68259599173664,46.92408425738573,69.74911784545765,92.31934092239872,112.87882510600517,130.5969978701169,145.28440753789718,157.14016520309832,166.55053242887047,173.9075937931368,179.57004361756432],\"type\":\"scatter\",\"xaxis\":\"x3\",\"yaxis\":\"y3\"},{\"legendgroup\":\"group_10\",\"line\":{\"dash\":\"dash\"},\"marker\":{\"color\":\"#EF553B\"},\"name\":\"Run 10 Predicted\",\"showlegend\":false,\"x\":[0,1,2,3,4,5,6,7,8,9,10,11,12,13,14],\"y\":[0.0,1.3541406164425367,5.088849013920316,13.655892274090434,28.283128951462324,46.80863265822829,66.18957750246166,82.22256736700307,94.70248458306571,103.85842873001894,110.1565112915766,114.35784661737951,117.21526864644541,119.19417771358273,120.56908715816375],\"type\":\"scatter\",\"xaxis\":\"x3\",\"yaxis\":\"y3\"},{\"legendgroup\":\"group_10\",\"marker\":{\"color\":\"#EF553B\"},\"name\":\"Run 10 Observed\",\"showlegend\":false,\"x\":[0,1,2,3,4,5,6,7,8,9,10,11,12,13,14],\"y\":[0.0,0.033277931111437,0.8132238560741042,10.333914533136843,62.58970950350485,199.6988231884692,417.1718619309535,676.330732512661,939.1524970150888,1180.983227181542,1390.170136335851,1563.3064485232628,1701.95789351015,1809.547328888428,1888.9141371741127],\"type\":\"scatter\",\"xaxis\":\"x4\",\"yaxis\":\"y4\"},{\"legendgroup\":\"group_10\",\"line\":{\"dash\":\"dash\"},\"marker\":{\"color\":\"#EF553B\"},\"name\":\"Run 10 Predicted\",\"showlegend\":false,\"x\":[0,1,2,3,4,5,6,7,8,9,10,11,12,13,14],\"y\":[0.0,0.012245891892956787,0.6253242420069387,9.208201891315227,51.22533230538609,144.7792990088981,273.88065440979483,410.06583954550763,529.6791142216638,614.6652082867593,680.2754781042587,726.1960429855064,758.2085769816935,780.270761929328,792.6352535913567],\"type\":\"scatter\",\"xaxis\":\"x4\",\"yaxis\":\"y4\"}],                        {\"template\":{\"data\":{\"histogram2dcontour\":[{\"type\":\"histogram2dcontour\",\"colorbar\":{\"outlinewidth\":0,\"ticks\":\"\"},\"colorscale\":[[0.0,\"#0d0887\"],[0.1111111111111111,\"#46039f\"],[0.2222222222222222,\"#7201a8\"],[0.3333333333333333,\"#9c179e\"],[0.4444444444444444,\"#bd3786\"],[0.5555555555555556,\"#d8576b\"],[0.6666666666666666,\"#ed7953\"],[0.7777777777777778,\"#fb9f3a\"],[0.8888888888888888,\"#fdca26\"],[1.0,\"#f0f921\"]]}],\"choropleth\":[{\"type\":\"choropleth\",\"colorbar\":{\"outlinewidth\":0,\"ticks\":\"\"}}],\"histogram2d\":[{\"type\":\"histogram2d\",\"colorbar\":{\"outlinewidth\":0,\"ticks\":\"\"},\"colorscale\":[[0.0,\"#0d0887\"],[0.1111111111111111,\"#46039f\"],[0.2222222222222222,\"#7201a8\"],[0.3333333333333333,\"#9c179e\"],[0.4444444444444444,\"#bd3786\"],[0.5555555555555556,\"#d8576b\"],[0.6666666666666666,\"#ed7953\"],[0.7777777777777778,\"#fb9f3a\"],[0.8888888888888888,\"#fdca26\"],[1.0,\"#f0f921\"]]}],\"heatmap\":[{\"type\":\"heatmap\",\"colorbar\":{\"outlinewidth\":0,\"ticks\":\"\"},\"colorscale\":[[0.0,\"#0d0887\"],[0.1111111111111111,\"#46039f\"],[0.2222222222222222,\"#7201a8\"],[0.3333333333333333,\"#9c179e\"],[0.4444444444444444,\"#bd3786\"],[0.5555555555555556,\"#d8576b\"],[0.6666666666666666,\"#ed7953\"],[0.7777777777777778,\"#fb9f3a\"],[0.8888888888888888,\"#fdca26\"],[1.0,\"#f0f921\"]]}],\"heatmapgl\":[{\"type\":\"heatmapgl\",\"colorbar\":{\"outlinewidth\":0,\"ticks\":\"\"},\"colorscale\":[[0.0,\"#0d0887\"],[0.1111111111111111,\"#46039f\"],[0.2222222222222222,\"#7201a8\"],[0.3333333333333333,\"#9c179e\"],[0.4444444444444444,\"#bd3786\"],[0.5555555555555556,\"#d8576b\"],[0.6666666666666666,\"#ed7953\"],[0.7777777777777778,\"#fb9f3a\"],[0.8888888888888888,\"#fdca26\"],[1.0,\"#f0f921\"]]}],\"contourcarpet\":[{\"type\":\"contourcarpet\",\"colorbar\":{\"outlinewidth\":0,\"ticks\":\"\"}}],\"contour\":[{\"type\":\"contour\",\"colorbar\":{\"outlinewidth\":0,\"ticks\":\"\"},\"colorscale\":[[0.0,\"#0d0887\"],[0.1111111111111111,\"#46039f\"],[0.2222222222222222,\"#7201a8\"],[0.3333333333333333,\"#9c179e\"],[0.4444444444444444,\"#bd3786\"],[0.5555555555555556,\"#d8576b\"],[0.6666666666666666,\"#ed7953\"],[0.7777777777777778,\"#fb9f3a\"],[0.8888888888888888,\"#fdca26\"],[1.0,\"#f0f921\"]]}],\"surface\":[{\"type\":\"surface\",\"colorbar\":{\"outlinewidth\":0,\"ticks\":\"\"},\"colorscale\":[[0.0,\"#0d0887\"],[0.1111111111111111,\"#46039f\"],[0.2222222222222222,\"#7201a8\"],[0.3333333333333333,\"#9c179e\"],[0.4444444444444444,\"#bd3786\"],[0.5555555555555556,\"#d8576b\"],[0.6666666666666666,\"#ed7953\"],[0.7777777777777778,\"#fb9f3a\"],[0.8888888888888888,\"#fdca26\"],[1.0,\"#f0f921\"]]}],\"mesh3d\":[{\"type\":\"mesh3d\",\"colorbar\":{\"outlinewidth\":0,\"ticks\":\"\"}}],\"scatter\":[{\"fillpattern\":{\"fillmode\":\"overlay\",\"size\":10,\"solidity\":0.2},\"type\":\"scatter\"}],\"parcoords\":[{\"type\":\"parcoords\",\"line\":{\"colorbar\":{\"outlinewidth\":0,\"ticks\":\"\"}}}],\"scatterpolargl\":[{\"type\":\"scatterpolargl\",\"marker\":{\"colorbar\":{\"outlinewidth\":0,\"ticks\":\"\"}}}],\"bar\":[{\"error_x\":{\"color\":\"#2a3f5f\"},\"error_y\":{\"color\":\"#2a3f5f\"},\"marker\":{\"line\":{\"color\":\"white\",\"width\":0.5},\"pattern\":{\"fillmode\":\"overlay\",\"size\":10,\"solidity\":0.2}},\"type\":\"bar\"}],\"scattergeo\":[{\"type\":\"scattergeo\",\"marker\":{\"colorbar\":{\"outlinewidth\":0,\"ticks\":\"\"}}}],\"scatterpolar\":[{\"type\":\"scatterpolar\",\"marker\":{\"colorbar\":{\"outlinewidth\":0,\"ticks\":\"\"}}}],\"histogram\":[{\"marker\":{\"pattern\":{\"fillmode\":\"overlay\",\"size\":10,\"solidity\":0.2}},\"type\":\"histogram\"}],\"scattergl\":[{\"type\":\"scattergl\",\"marker\":{\"colorbar\":{\"outlinewidth\":0,\"ticks\":\"\"}}}],\"scatter3d\":[{\"type\":\"scatter3d\",\"line\":{\"colorbar\":{\"outlinewidth\":0,\"ticks\":\"\"}},\"marker\":{\"colorbar\":{\"outlinewidth\":0,\"ticks\":\"\"}}}],\"scattermapbox\":[{\"type\":\"scattermapbox\",\"marker\":{\"colorbar\":{\"outlinewidth\":0,\"ticks\":\"\"}}}],\"scatterternary\":[{\"type\":\"scatterternary\",\"marker\":{\"colorbar\":{\"outlinewidth\":0,\"ticks\":\"\"}}}],\"scattercarpet\":[{\"type\":\"scattercarpet\",\"marker\":{\"colorbar\":{\"outlinewidth\":0,\"ticks\":\"\"}}}],\"carpet\":[{\"aaxis\":{\"endlinecolor\":\"#2a3f5f\",\"gridcolor\":\"#C8D4E3\",\"linecolor\":\"#C8D4E3\",\"minorgridcolor\":\"#C8D4E3\",\"startlinecolor\":\"#2a3f5f\"},\"baxis\":{\"endlinecolor\":\"#2a3f5f\",\"gridcolor\":\"#C8D4E3\",\"linecolor\":\"#C8D4E3\",\"minorgridcolor\":\"#C8D4E3\",\"startlinecolor\":\"#2a3f5f\"},\"type\":\"carpet\"}],\"table\":[{\"cells\":{\"fill\":{\"color\":\"#EBF0F8\"},\"line\":{\"color\":\"white\"}},\"header\":{\"fill\":{\"color\":\"#C8D4E3\"},\"line\":{\"color\":\"white\"}},\"type\":\"table\"}],\"barpolar\":[{\"marker\":{\"line\":{\"color\":\"white\",\"width\":0.5},\"pattern\":{\"fillmode\":\"overlay\",\"size\":10,\"solidity\":0.2}},\"type\":\"barpolar\"}],\"pie\":[{\"automargin\":true,\"type\":\"pie\"}]},\"layout\":{\"autotypenumbers\":\"strict\",\"colorway\":[\"#636efa\",\"#EF553B\",\"#00cc96\",\"#ab63fa\",\"#FFA15A\",\"#19d3f3\",\"#FF6692\",\"#B6E880\",\"#FF97FF\",\"#FECB52\"],\"font\":{\"color\":\"#2a3f5f\"},\"hovermode\":\"closest\",\"hoverlabel\":{\"align\":\"left\"},\"paper_bgcolor\":\"white\",\"plot_bgcolor\":\"white\",\"polar\":{\"bgcolor\":\"white\",\"angularaxis\":{\"gridcolor\":\"#EBF0F8\",\"linecolor\":\"#EBF0F8\",\"ticks\":\"\"},\"radialaxis\":{\"gridcolor\":\"#EBF0F8\",\"linecolor\":\"#EBF0F8\",\"ticks\":\"\"}},\"ternary\":{\"bgcolor\":\"white\",\"aaxis\":{\"gridcolor\":\"#DFE8F3\",\"linecolor\":\"#A2B1C6\",\"ticks\":\"\"},\"baxis\":{\"gridcolor\":\"#DFE8F3\",\"linecolor\":\"#A2B1C6\",\"ticks\":\"\"},\"caxis\":{\"gridcolor\":\"#DFE8F3\",\"linecolor\":\"#A2B1C6\",\"ticks\":\"\"}},\"coloraxis\":{\"colorbar\":{\"outlinewidth\":0,\"ticks\":\"\"}},\"colorscale\":{\"sequential\":[[0.0,\"#0d0887\"],[0.1111111111111111,\"#46039f\"],[0.2222222222222222,\"#7201a8\"],[0.3333333333333333,\"#9c179e\"],[0.4444444444444444,\"#bd3786\"],[0.5555555555555556,\"#d8576b\"],[0.6666666666666666,\"#ed7953\"],[0.7777777777777778,\"#fb9f3a\"],[0.8888888888888888,\"#fdca26\"],[1.0,\"#f0f921\"]],\"sequentialminus\":[[0.0,\"#0d0887\"],[0.1111111111111111,\"#46039f\"],[0.2222222222222222,\"#7201a8\"],[0.3333333333333333,\"#9c179e\"],[0.4444444444444444,\"#bd3786\"],[0.5555555555555556,\"#d8576b\"],[0.6666666666666666,\"#ed7953\"],[0.7777777777777778,\"#fb9f3a\"],[0.8888888888888888,\"#fdca26\"],[1.0,\"#f0f921\"]],\"diverging\":[[0,\"#8e0152\"],[0.1,\"#c51b7d\"],[0.2,\"#de77ae\"],[0.3,\"#f1b6da\"],[0.4,\"#fde0ef\"],[0.5,\"#f7f7f7\"],[0.6,\"#e6f5d0\"],[0.7,\"#b8e186\"],[0.8,\"#7fbc41\"],[0.9,\"#4d9221\"],[1,\"#276419\"]]},\"xaxis\":{\"gridcolor\":\"#EBF0F8\",\"linecolor\":\"#EBF0F8\",\"ticks\":\"\",\"title\":{\"standoff\":15},\"zerolinecolor\":\"#EBF0F8\",\"automargin\":true,\"zerolinewidth\":2},\"yaxis\":{\"gridcolor\":\"#EBF0F8\",\"linecolor\":\"#EBF0F8\",\"ticks\":\"\",\"title\":{\"standoff\":15},\"zerolinecolor\":\"#EBF0F8\",\"automargin\":true,\"zerolinewidth\":2},\"scene\":{\"xaxis\":{\"backgroundcolor\":\"white\",\"gridcolor\":\"#DFE8F3\",\"linecolor\":\"#EBF0F8\",\"showbackground\":true,\"ticks\":\"\",\"zerolinecolor\":\"#EBF0F8\",\"gridwidth\":2},\"yaxis\":{\"backgroundcolor\":\"white\",\"gridcolor\":\"#DFE8F3\",\"linecolor\":\"#EBF0F8\",\"showbackground\":true,\"ticks\":\"\",\"zerolinecolor\":\"#EBF0F8\",\"gridwidth\":2},\"zaxis\":{\"backgroundcolor\":\"white\",\"gridcolor\":\"#DFE8F3\",\"linecolor\":\"#EBF0F8\",\"showbackground\":true,\"ticks\":\"\",\"zerolinecolor\":\"#EBF0F8\",\"gridwidth\":2}},\"shapedefaults\":{\"line\":{\"color\":\"#2a3f5f\"}},\"annotationdefaults\":{\"arrowcolor\":\"#2a3f5f\",\"arrowhead\":0,\"arrowwidth\":1},\"geo\":{\"bgcolor\":\"white\",\"landcolor\":\"white\",\"subunitcolor\":\"#C8D4E3\",\"showland\":true,\"showlakes\":true,\"lakecolor\":\"white\"},\"title\":{\"x\":0.05},\"mapbox\":{\"style\":\"light\"}}},\"xaxis\":{\"anchor\":\"y\",\"domain\":[0.0,0.2125]},\"yaxis\":{\"anchor\":\"x\",\"domain\":[0.0,1.0]},\"xaxis2\":{\"anchor\":\"y2\",\"domain\":[0.2625,0.475]},\"yaxis2\":{\"anchor\":\"x2\",\"domain\":[0.0,1.0]},\"xaxis3\":{\"anchor\":\"y3\",\"domain\":[0.525,0.7375]},\"yaxis3\":{\"anchor\":\"x3\",\"domain\":[0.0,1.0]},\"xaxis4\":{\"anchor\":\"y4\",\"domain\":[0.7875,1.0]},\"yaxis4\":{\"anchor\":\"x4\",\"domain\":[0.0,1.0]},\"annotations\":[{\"font\":{\"size\":16},\"showarrow\":false,\"text\":\"X:VCD\",\"x\":0.10625,\"xanchor\":\"center\",\"xref\":\"paper\",\"y\":1.0,\"yanchor\":\"bottom\",\"yref\":\"paper\"},{\"font\":{\"size\":16},\"showarrow\":false,\"text\":\"X:Glc\",\"x\":0.36875,\"xanchor\":\"center\",\"xref\":\"paper\",\"y\":1.0,\"yanchor\":\"bottom\",\"yref\":\"paper\"},{\"font\":{\"size\":16},\"showarrow\":false,\"text\":\"X:Lac\",\"x\":0.6312500000000001,\"xanchor\":\"center\",\"xref\":\"paper\",\"y\":1.0,\"yanchor\":\"bottom\",\"yref\":\"paper\"},{\"font\":{\"size\":16},\"showarrow\":false,\"text\":\"X:Titer\",\"x\":0.89375,\"xanchor\":\"center\",\"xref\":\"paper\",\"y\":1.0,\"yanchor\":\"bottom\",\"yref\":\"paper\"}],\"title\":{\"text\":\"Process variable evolution for selected runs\"},\"showlegend\":true,\"height\":500},                        {\"responsive\": true}                    ).then(function(){\n",
       "                            \n",
       "var gd = document.getElementById('8b70b803-84db-4044-9d8b-234c23948df9');\n",
       "var x = new MutationObserver(function (mutations, observer) {{\n",
       "        var display = window.getComputedStyle(gd).display;\n",
       "        if (!display || display === 'none') {{\n",
       "            console.log([gd, 'removed!']);\n",
       "            Plotly.purge(gd);\n",
       "            observer.disconnect();\n",
       "        }}\n",
       "}});\n",
       "\n",
       "// Listen for the removal of the full notebook cells\n",
       "var notebookContainer = gd.closest('#notebook-container');\n",
       "if (notebookContainer) {{\n",
       "    x.observe(notebookContainer, {childList: true});\n",
       "}}\n",
       "\n",
       "// Listen for the clearing of the current output cell\n",
       "var outputEl = gd.closest('.output');\n",
       "if (outputEl) {{\n",
       "    x.observe(outputEl, {childList: true});\n",
       "}}\n",
       "\n",
       "                        })                };                });            </script>        </div>"
      ]
     },
     "metadata": {},
     "output_type": "display_data"
    }
   ],
   "source": [
    "plot_predicted_profile(X_test, X_test_pred, X_columns, select_runs=[0,10], height=500)"
   ]
  },
  {
   "cell_type": "markdown",
   "metadata": {},
   "source": [
    "### K-Fold"
   ]
  },
  {
   "cell_type": "code",
   "execution_count": 315,
   "metadata": {},
   "outputs": [],
   "source": [
    "def multi_step_pls_cross_validation(Z, X, polynomial_degree=1, interactions_only=False, cv_folds=5):\n",
    "    T, C, B = X.shape\n",
    "    Z = Z.values\n",
    "\n",
    "    kf = KFold(n_splits=cv_folds)\n",
    "    train_eval = []\n",
    "    valid_eval = []\n",
    "\n",
    "    range_LV = range(1, Z.shape[1] + 1)\n",
    "\n",
    "    for latent_variables in range_LV:\n",
    "        fold_train_errors = []\n",
    "        fold_val_errors = []\n",
    "        for train_index, val_index in kf.split(Z):\n",
    "            Z_train, Z_val = Z[train_index, :], Z[val_index, :]\n",
    "            X_train, X_val = X[:, :, train_index], X[:, :, val_index]\n",
    "\n",
    "            models = fit_multi_step_pls_model(\n",
    "                Z=Z_train,\n",
    "                X=X_train,\n",
    "                latent_variables=latent_variables,\n",
    "                polynomial_degree=polynomial_degree,\n",
    "                interactions_only=interactions_only,\n",
    "            )\n",
    "\n",
    "            X_train_pred = predict_multi_step_pls_model(Z=Z_train, multi_step_models=models, t_steps=T)\n",
    "            X_val_pred = predict_multi_step_pls_model(Z=Z_val, multi_step_models=models, t_steps=T)\n",
    "\n",
    "            train_error = -absolute_rmse(X_train.flatten(), X_train_pred.flatten())\n",
    "            val_error = -absolute_rmse(X_val.flatten(), X_val_pred.flatten())\n",
    "\n",
    "            fold_train_errors.append(train_error)\n",
    "            fold_val_errors.append(val_error)\n",
    "\n",
    "        train_eval.append(fold_train_errors)\n",
    "        valid_eval.append(fold_val_errors)\n",
    "\n",
    "    return np.array(train_eval), np.array(valid_eval), range_LV"
   ]
  },
  {
   "cell_type": "code",
   "execution_count": 316,
   "metadata": {},
   "outputs": [
    {
     "name": "stderr",
     "output_type": "stream",
     "text": [
      "/home/tim/anaconda3/envs/aima/lib/python3.10/site-packages/sklearn/cross_decomposition/_pls.py:336: UserWarning:\n",
      "\n",
      "y residual is constant at iteration 0\n",
      "\n",
      "/home/tim/anaconda3/envs/aima/lib/python3.10/site-packages/sklearn/cross_decomposition/_pls.py:336: UserWarning:\n",
      "\n",
      "y residual is constant at iteration 0\n",
      "\n",
      "/home/tim/anaconda3/envs/aima/lib/python3.10/site-packages/sklearn/cross_decomposition/_pls.py:336: UserWarning:\n",
      "\n",
      "y residual is constant at iteration 0\n",
      "\n",
      "/home/tim/anaconda3/envs/aima/lib/python3.10/site-packages/sklearn/cross_decomposition/_pls.py:336: UserWarning:\n",
      "\n",
      "y residual is constant at iteration 0\n",
      "\n",
      "/home/tim/anaconda3/envs/aima/lib/python3.10/site-packages/sklearn/cross_decomposition/_pls.py:336: UserWarning:\n",
      "\n",
      "y residual is constant at iteration 0\n",
      "\n",
      "/home/tim/anaconda3/envs/aima/lib/python3.10/site-packages/sklearn/cross_decomposition/_pls.py:336: UserWarning:\n",
      "\n",
      "y residual is constant at iteration 0\n",
      "\n",
      "/home/tim/anaconda3/envs/aima/lib/python3.10/site-packages/sklearn/cross_decomposition/_pls.py:336: UserWarning:\n",
      "\n",
      "y residual is constant at iteration 0\n",
      "\n",
      "/home/tim/anaconda3/envs/aima/lib/python3.10/site-packages/sklearn/cross_decomposition/_pls.py:336: UserWarning:\n",
      "\n",
      "y residual is constant at iteration 0\n",
      "\n",
      "/home/tim/anaconda3/envs/aima/lib/python3.10/site-packages/sklearn/cross_decomposition/_pls.py:336: UserWarning:\n",
      "\n",
      "y residual is constant at iteration 0\n",
      "\n",
      "/home/tim/anaconda3/envs/aima/lib/python3.10/site-packages/sklearn/cross_decomposition/_pls.py:336: UserWarning:\n",
      "\n",
      "y residual is constant at iteration 0\n",
      "\n",
      "/home/tim/anaconda3/envs/aima/lib/python3.10/site-packages/sklearn/cross_decomposition/_pls.py:336: UserWarning:\n",
      "\n",
      "y residual is constant at iteration 0\n",
      "\n",
      "/home/tim/anaconda3/envs/aima/lib/python3.10/site-packages/sklearn/cross_decomposition/_pls.py:336: UserWarning:\n",
      "\n",
      "y residual is constant at iteration 0\n",
      "\n",
      "/home/tim/anaconda3/envs/aima/lib/python3.10/site-packages/sklearn/cross_decomposition/_pls.py:336: UserWarning:\n",
      "\n",
      "y residual is constant at iteration 0\n",
      "\n",
      "/home/tim/anaconda3/envs/aima/lib/python3.10/site-packages/sklearn/cross_decomposition/_pls.py:336: UserWarning:\n",
      "\n",
      "y residual is constant at iteration 0\n",
      "\n",
      "/home/tim/anaconda3/envs/aima/lib/python3.10/site-packages/sklearn/cross_decomposition/_pls.py:336: UserWarning:\n",
      "\n",
      "y residual is constant at iteration 0\n",
      "\n",
      "/home/tim/anaconda3/envs/aima/lib/python3.10/site-packages/sklearn/cross_decomposition/_pls.py:336: UserWarning:\n",
      "\n",
      "y residual is constant at iteration 0\n",
      "\n",
      "/home/tim/anaconda3/envs/aima/lib/python3.10/site-packages/sklearn/cross_decomposition/_pls.py:336: UserWarning:\n",
      "\n",
      "y residual is constant at iteration 0\n",
      "\n",
      "/home/tim/anaconda3/envs/aima/lib/python3.10/site-packages/sklearn/cross_decomposition/_pls.py:336: UserWarning:\n",
      "\n",
      "y residual is constant at iteration 0\n",
      "\n",
      "/home/tim/anaconda3/envs/aima/lib/python3.10/site-packages/sklearn/cross_decomposition/_pls.py:336: UserWarning:\n",
      "\n",
      "y residual is constant at iteration 0\n",
      "\n",
      "/home/tim/anaconda3/envs/aima/lib/python3.10/site-packages/sklearn/cross_decomposition/_pls.py:336: UserWarning:\n",
      "\n",
      "y residual is constant at iteration 0\n",
      "\n",
      "/home/tim/anaconda3/envs/aima/lib/python3.10/site-packages/sklearn/cross_decomposition/_pls.py:336: UserWarning:\n",
      "\n",
      "y residual is constant at iteration 0\n",
      "\n",
      "/home/tim/anaconda3/envs/aima/lib/python3.10/site-packages/sklearn/cross_decomposition/_pls.py:336: UserWarning:\n",
      "\n",
      "y residual is constant at iteration 0\n",
      "\n",
      "/home/tim/anaconda3/envs/aima/lib/python3.10/site-packages/sklearn/cross_decomposition/_pls.py:336: UserWarning:\n",
      "\n",
      "y residual is constant at iteration 0\n",
      "\n",
      "/home/tim/anaconda3/envs/aima/lib/python3.10/site-packages/sklearn/cross_decomposition/_pls.py:336: UserWarning:\n",
      "\n",
      "y residual is constant at iteration 0\n",
      "\n",
      "/home/tim/anaconda3/envs/aima/lib/python3.10/site-packages/sklearn/cross_decomposition/_pls.py:336: UserWarning:\n",
      "\n",
      "y residual is constant at iteration 0\n",
      "\n",
      "/home/tim/anaconda3/envs/aima/lib/python3.10/site-packages/sklearn/cross_decomposition/_pls.py:336: UserWarning:\n",
      "\n",
      "y residual is constant at iteration 0\n",
      "\n",
      "/home/tim/anaconda3/envs/aima/lib/python3.10/site-packages/sklearn/cross_decomposition/_pls.py:336: UserWarning:\n",
      "\n",
      "y residual is constant at iteration 0\n",
      "\n",
      "/home/tim/anaconda3/envs/aima/lib/python3.10/site-packages/sklearn/cross_decomposition/_pls.py:336: UserWarning:\n",
      "\n",
      "y residual is constant at iteration 0\n",
      "\n",
      "/home/tim/anaconda3/envs/aima/lib/python3.10/site-packages/sklearn/cross_decomposition/_pls.py:336: UserWarning:\n",
      "\n",
      "y residual is constant at iteration 0\n",
      "\n",
      "/home/tim/anaconda3/envs/aima/lib/python3.10/site-packages/sklearn/cross_decomposition/_pls.py:336: UserWarning:\n",
      "\n",
      "y residual is constant at iteration 0\n",
      "\n",
      "/home/tim/anaconda3/envs/aima/lib/python3.10/site-packages/sklearn/cross_decomposition/_pls.py:336: UserWarning:\n",
      "\n",
      "y residual is constant at iteration 0\n",
      "\n",
      "/home/tim/anaconda3/envs/aima/lib/python3.10/site-packages/sklearn/cross_decomposition/_pls.py:336: UserWarning:\n",
      "\n",
      "y residual is constant at iteration 0\n",
      "\n",
      "/home/tim/anaconda3/envs/aima/lib/python3.10/site-packages/sklearn/cross_decomposition/_pls.py:336: UserWarning:\n",
      "\n",
      "y residual is constant at iteration 0\n",
      "\n",
      "/home/tim/anaconda3/envs/aima/lib/python3.10/site-packages/sklearn/cross_decomposition/_pls.py:336: UserWarning:\n",
      "\n",
      "y residual is constant at iteration 0\n",
      "\n",
      "/home/tim/anaconda3/envs/aima/lib/python3.10/site-packages/sklearn/cross_decomposition/_pls.py:336: UserWarning:\n",
      "\n",
      "y residual is constant at iteration 0\n",
      "\n",
      "/home/tim/anaconda3/envs/aima/lib/python3.10/site-packages/sklearn/cross_decomposition/_pls.py:336: UserWarning:\n",
      "\n",
      "y residual is constant at iteration 0\n",
      "\n",
      "/home/tim/anaconda3/envs/aima/lib/python3.10/site-packages/sklearn/cross_decomposition/_pls.py:336: UserWarning:\n",
      "\n",
      "y residual is constant at iteration 0\n",
      "\n",
      "/home/tim/anaconda3/envs/aima/lib/python3.10/site-packages/sklearn/cross_decomposition/_pls.py:336: UserWarning:\n",
      "\n",
      "y residual is constant at iteration 0\n",
      "\n",
      "/home/tim/anaconda3/envs/aima/lib/python3.10/site-packages/sklearn/cross_decomposition/_pls.py:336: UserWarning:\n",
      "\n",
      "y residual is constant at iteration 0\n",
      "\n",
      "/home/tim/anaconda3/envs/aima/lib/python3.10/site-packages/sklearn/cross_decomposition/_pls.py:336: UserWarning:\n",
      "\n",
      "y residual is constant at iteration 0\n",
      "\n",
      "/home/tim/anaconda3/envs/aima/lib/python3.10/site-packages/sklearn/cross_decomposition/_pls.py:336: UserWarning:\n",
      "\n",
      "y residual is constant at iteration 0\n",
      "\n",
      "/home/tim/anaconda3/envs/aima/lib/python3.10/site-packages/sklearn/cross_decomposition/_pls.py:336: UserWarning:\n",
      "\n",
      "y residual is constant at iteration 0\n",
      "\n",
      "/home/tim/anaconda3/envs/aima/lib/python3.10/site-packages/sklearn/cross_decomposition/_pls.py:336: UserWarning:\n",
      "\n",
      "y residual is constant at iteration 0\n",
      "\n",
      "/home/tim/anaconda3/envs/aima/lib/python3.10/site-packages/sklearn/cross_decomposition/_pls.py:336: UserWarning:\n",
      "\n",
      "y residual is constant at iteration 0\n",
      "\n",
      "/home/tim/anaconda3/envs/aima/lib/python3.10/site-packages/sklearn/cross_decomposition/_pls.py:336: UserWarning:\n",
      "\n",
      "y residual is constant at iteration 0\n",
      "\n",
      "/home/tim/anaconda3/envs/aima/lib/python3.10/site-packages/sklearn/cross_decomposition/_pls.py:336: UserWarning:\n",
      "\n",
      "y residual is constant at iteration 0\n",
      "\n",
      "/home/tim/anaconda3/envs/aima/lib/python3.10/site-packages/sklearn/cross_decomposition/_pls.py:336: UserWarning:\n",
      "\n",
      "y residual is constant at iteration 0\n",
      "\n",
      "/home/tim/anaconda3/envs/aima/lib/python3.10/site-packages/sklearn/cross_decomposition/_pls.py:336: UserWarning:\n",
      "\n",
      "y residual is constant at iteration 0\n",
      "\n",
      "/home/tim/anaconda3/envs/aima/lib/python3.10/site-packages/sklearn/cross_decomposition/_pls.py:336: UserWarning:\n",
      "\n",
      "y residual is constant at iteration 0\n",
      "\n",
      "/home/tim/anaconda3/envs/aima/lib/python3.10/site-packages/sklearn/cross_decomposition/_pls.py:336: UserWarning:\n",
      "\n",
      "y residual is constant at iteration 0\n",
      "\n"
     ]
    }
   ],
   "source": [
    "train_eval, valid_eval, range_LV = multi_step_pls_cross_validation(\n",
    "    Z=doe,\n",
    "    X=X,\n",
    "    polynomial_degree=POLYNOMIAL_DEGREE_PLS,\n",
    "    interactions_only=INTERACTIONS_ONLY,\n",
    "    cv_folds=5\n",
    ")"
   ]
  },
  {
   "cell_type": "code",
   "execution_count": 317,
   "metadata": {},
   "outputs": [
    {
     "data": {
      "application/vnd.plotly.v1+json": {
       "config": {
        "plotlyServerURL": "https://plot.ly"
       },
       "data": [
        {
         "error_y": {
          "array": [
           16.53774747176894,
           16.063363749850154,
           16.058707352710556,
           16.05724334498297,
           16.058445185010907
          ],
          "type": "data",
          "visible": true
         },
         "name": "Training",
         "type": "scatter",
         "x": [
          1,
          2,
          3,
          4,
          5
         ],
         "y": [
          67.2816,
          64.3462,
          64.0196,
          63.973400000000005,
          63.971799999999995
         ]
        },
        {
         "error_y": {
          "array": [
           48.36982341088295,
           45.60594057093878,
           43.79359230572437,
           43.60705872860494,
           43.589833775319676
          ],
          "type": "data",
          "visible": true
         },
         "name": "Validation",
         "type": "scatter",
         "x": [
          1,
          2,
          3,
          4,
          5
         ],
         "y": [
          90.212,
          90.4422,
          90.2484,
          90.8092,
          90.8122
         ]
        }
       ],
       "layout": {
        "legend": {
         "title": {
          "text": "Evaluation type"
         }
        },
        "template": {
         "data": {
          "bar": [
           {
            "error_x": {
             "color": "#2a3f5f"
            },
            "error_y": {
             "color": "#2a3f5f"
            },
            "marker": {
             "line": {
              "color": "white",
              "width": 0.5
             },
             "pattern": {
              "fillmode": "overlay",
              "size": 10,
              "solidity": 0.2
             }
            },
            "type": "bar"
           }
          ],
          "barpolar": [
           {
            "marker": {
             "line": {
              "color": "white",
              "width": 0.5
             },
             "pattern": {
              "fillmode": "overlay",
              "size": 10,
              "solidity": 0.2
             }
            },
            "type": "barpolar"
           }
          ],
          "carpet": [
           {
            "aaxis": {
             "endlinecolor": "#2a3f5f",
             "gridcolor": "#C8D4E3",
             "linecolor": "#C8D4E3",
             "minorgridcolor": "#C8D4E3",
             "startlinecolor": "#2a3f5f"
            },
            "baxis": {
             "endlinecolor": "#2a3f5f",
             "gridcolor": "#C8D4E3",
             "linecolor": "#C8D4E3",
             "minorgridcolor": "#C8D4E3",
             "startlinecolor": "#2a3f5f"
            },
            "type": "carpet"
           }
          ],
          "choropleth": [
           {
            "colorbar": {
             "outlinewidth": 0,
             "ticks": ""
            },
            "type": "choropleth"
           }
          ],
          "contour": [
           {
            "colorbar": {
             "outlinewidth": 0,
             "ticks": ""
            },
            "colorscale": [
             [
              0,
              "#0d0887"
             ],
             [
              0.1111111111111111,
              "#46039f"
             ],
             [
              0.2222222222222222,
              "#7201a8"
             ],
             [
              0.3333333333333333,
              "#9c179e"
             ],
             [
              0.4444444444444444,
              "#bd3786"
             ],
             [
              0.5555555555555556,
              "#d8576b"
             ],
             [
              0.6666666666666666,
              "#ed7953"
             ],
             [
              0.7777777777777778,
              "#fb9f3a"
             ],
             [
              0.8888888888888888,
              "#fdca26"
             ],
             [
              1,
              "#f0f921"
             ]
            ],
            "type": "contour"
           }
          ],
          "contourcarpet": [
           {
            "colorbar": {
             "outlinewidth": 0,
             "ticks": ""
            },
            "type": "contourcarpet"
           }
          ],
          "heatmap": [
           {
            "colorbar": {
             "outlinewidth": 0,
             "ticks": ""
            },
            "colorscale": [
             [
              0,
              "#0d0887"
             ],
             [
              0.1111111111111111,
              "#46039f"
             ],
             [
              0.2222222222222222,
              "#7201a8"
             ],
             [
              0.3333333333333333,
              "#9c179e"
             ],
             [
              0.4444444444444444,
              "#bd3786"
             ],
             [
              0.5555555555555556,
              "#d8576b"
             ],
             [
              0.6666666666666666,
              "#ed7953"
             ],
             [
              0.7777777777777778,
              "#fb9f3a"
             ],
             [
              0.8888888888888888,
              "#fdca26"
             ],
             [
              1,
              "#f0f921"
             ]
            ],
            "type": "heatmap"
           }
          ],
          "heatmapgl": [
           {
            "colorbar": {
             "outlinewidth": 0,
             "ticks": ""
            },
            "colorscale": [
             [
              0,
              "#0d0887"
             ],
             [
              0.1111111111111111,
              "#46039f"
             ],
             [
              0.2222222222222222,
              "#7201a8"
             ],
             [
              0.3333333333333333,
              "#9c179e"
             ],
             [
              0.4444444444444444,
              "#bd3786"
             ],
             [
              0.5555555555555556,
              "#d8576b"
             ],
             [
              0.6666666666666666,
              "#ed7953"
             ],
             [
              0.7777777777777778,
              "#fb9f3a"
             ],
             [
              0.8888888888888888,
              "#fdca26"
             ],
             [
              1,
              "#f0f921"
             ]
            ],
            "type": "heatmapgl"
           }
          ],
          "histogram": [
           {
            "marker": {
             "pattern": {
              "fillmode": "overlay",
              "size": 10,
              "solidity": 0.2
             }
            },
            "type": "histogram"
           }
          ],
          "histogram2d": [
           {
            "colorbar": {
             "outlinewidth": 0,
             "ticks": ""
            },
            "colorscale": [
             [
              0,
              "#0d0887"
             ],
             [
              0.1111111111111111,
              "#46039f"
             ],
             [
              0.2222222222222222,
              "#7201a8"
             ],
             [
              0.3333333333333333,
              "#9c179e"
             ],
             [
              0.4444444444444444,
              "#bd3786"
             ],
             [
              0.5555555555555556,
              "#d8576b"
             ],
             [
              0.6666666666666666,
              "#ed7953"
             ],
             [
              0.7777777777777778,
              "#fb9f3a"
             ],
             [
              0.8888888888888888,
              "#fdca26"
             ],
             [
              1,
              "#f0f921"
             ]
            ],
            "type": "histogram2d"
           }
          ],
          "histogram2dcontour": [
           {
            "colorbar": {
             "outlinewidth": 0,
             "ticks": ""
            },
            "colorscale": [
             [
              0,
              "#0d0887"
             ],
             [
              0.1111111111111111,
              "#46039f"
             ],
             [
              0.2222222222222222,
              "#7201a8"
             ],
             [
              0.3333333333333333,
              "#9c179e"
             ],
             [
              0.4444444444444444,
              "#bd3786"
             ],
             [
              0.5555555555555556,
              "#d8576b"
             ],
             [
              0.6666666666666666,
              "#ed7953"
             ],
             [
              0.7777777777777778,
              "#fb9f3a"
             ],
             [
              0.8888888888888888,
              "#fdca26"
             ],
             [
              1,
              "#f0f921"
             ]
            ],
            "type": "histogram2dcontour"
           }
          ],
          "mesh3d": [
           {
            "colorbar": {
             "outlinewidth": 0,
             "ticks": ""
            },
            "type": "mesh3d"
           }
          ],
          "parcoords": [
           {
            "line": {
             "colorbar": {
              "outlinewidth": 0,
              "ticks": ""
             }
            },
            "type": "parcoords"
           }
          ],
          "pie": [
           {
            "automargin": true,
            "type": "pie"
           }
          ],
          "scatter": [
           {
            "fillpattern": {
             "fillmode": "overlay",
             "size": 10,
             "solidity": 0.2
            },
            "type": "scatter"
           }
          ],
          "scatter3d": [
           {
            "line": {
             "colorbar": {
              "outlinewidth": 0,
              "ticks": ""
             }
            },
            "marker": {
             "colorbar": {
              "outlinewidth": 0,
              "ticks": ""
             }
            },
            "type": "scatter3d"
           }
          ],
          "scattercarpet": [
           {
            "marker": {
             "colorbar": {
              "outlinewidth": 0,
              "ticks": ""
             }
            },
            "type": "scattercarpet"
           }
          ],
          "scattergeo": [
           {
            "marker": {
             "colorbar": {
              "outlinewidth": 0,
              "ticks": ""
             }
            },
            "type": "scattergeo"
           }
          ],
          "scattergl": [
           {
            "marker": {
             "colorbar": {
              "outlinewidth": 0,
              "ticks": ""
             }
            },
            "type": "scattergl"
           }
          ],
          "scattermapbox": [
           {
            "marker": {
             "colorbar": {
              "outlinewidth": 0,
              "ticks": ""
             }
            },
            "type": "scattermapbox"
           }
          ],
          "scatterpolar": [
           {
            "marker": {
             "colorbar": {
              "outlinewidth": 0,
              "ticks": ""
             }
            },
            "type": "scatterpolar"
           }
          ],
          "scatterpolargl": [
           {
            "marker": {
             "colorbar": {
              "outlinewidth": 0,
              "ticks": ""
             }
            },
            "type": "scatterpolargl"
           }
          ],
          "scatterternary": [
           {
            "marker": {
             "colorbar": {
              "outlinewidth": 0,
              "ticks": ""
             }
            },
            "type": "scatterternary"
           }
          ],
          "surface": [
           {
            "colorbar": {
             "outlinewidth": 0,
             "ticks": ""
            },
            "colorscale": [
             [
              0,
              "#0d0887"
             ],
             [
              0.1111111111111111,
              "#46039f"
             ],
             [
              0.2222222222222222,
              "#7201a8"
             ],
             [
              0.3333333333333333,
              "#9c179e"
             ],
             [
              0.4444444444444444,
              "#bd3786"
             ],
             [
              0.5555555555555556,
              "#d8576b"
             ],
             [
              0.6666666666666666,
              "#ed7953"
             ],
             [
              0.7777777777777778,
              "#fb9f3a"
             ],
             [
              0.8888888888888888,
              "#fdca26"
             ],
             [
              1,
              "#f0f921"
             ]
            ],
            "type": "surface"
           }
          ],
          "table": [
           {
            "cells": {
             "fill": {
              "color": "#EBF0F8"
             },
             "line": {
              "color": "white"
             }
            },
            "header": {
             "fill": {
              "color": "#C8D4E3"
             },
             "line": {
              "color": "white"
             }
            },
            "type": "table"
           }
          ]
         },
         "layout": {
          "annotationdefaults": {
           "arrowcolor": "#2a3f5f",
           "arrowhead": 0,
           "arrowwidth": 1
          },
          "autotypenumbers": "strict",
          "coloraxis": {
           "colorbar": {
            "outlinewidth": 0,
            "ticks": ""
           }
          },
          "colorscale": {
           "diverging": [
            [
             0,
             "#8e0152"
            ],
            [
             0.1,
             "#c51b7d"
            ],
            [
             0.2,
             "#de77ae"
            ],
            [
             0.3,
             "#f1b6da"
            ],
            [
             0.4,
             "#fde0ef"
            ],
            [
             0.5,
             "#f7f7f7"
            ],
            [
             0.6,
             "#e6f5d0"
            ],
            [
             0.7,
             "#b8e186"
            ],
            [
             0.8,
             "#7fbc41"
            ],
            [
             0.9,
             "#4d9221"
            ],
            [
             1,
             "#276419"
            ]
           ],
           "sequential": [
            [
             0,
             "#0d0887"
            ],
            [
             0.1111111111111111,
             "#46039f"
            ],
            [
             0.2222222222222222,
             "#7201a8"
            ],
            [
             0.3333333333333333,
             "#9c179e"
            ],
            [
             0.4444444444444444,
             "#bd3786"
            ],
            [
             0.5555555555555556,
             "#d8576b"
            ],
            [
             0.6666666666666666,
             "#ed7953"
            ],
            [
             0.7777777777777778,
             "#fb9f3a"
            ],
            [
             0.8888888888888888,
             "#fdca26"
            ],
            [
             1,
             "#f0f921"
            ]
           ],
           "sequentialminus": [
            [
             0,
             "#0d0887"
            ],
            [
             0.1111111111111111,
             "#46039f"
            ],
            [
             0.2222222222222222,
             "#7201a8"
            ],
            [
             0.3333333333333333,
             "#9c179e"
            ],
            [
             0.4444444444444444,
             "#bd3786"
            ],
            [
             0.5555555555555556,
             "#d8576b"
            ],
            [
             0.6666666666666666,
             "#ed7953"
            ],
            [
             0.7777777777777778,
             "#fb9f3a"
            ],
            [
             0.8888888888888888,
             "#fdca26"
            ],
            [
             1,
             "#f0f921"
            ]
           ]
          },
          "colorway": [
           "#636efa",
           "#EF553B",
           "#00cc96",
           "#ab63fa",
           "#FFA15A",
           "#19d3f3",
           "#FF6692",
           "#B6E880",
           "#FF97FF",
           "#FECB52"
          ],
          "font": {
           "color": "#2a3f5f"
          },
          "geo": {
           "bgcolor": "white",
           "lakecolor": "white",
           "landcolor": "white",
           "showlakes": true,
           "showland": true,
           "subunitcolor": "#C8D4E3"
          },
          "hoverlabel": {
           "align": "left"
          },
          "hovermode": "closest",
          "mapbox": {
           "style": "light"
          },
          "paper_bgcolor": "white",
          "plot_bgcolor": "white",
          "polar": {
           "angularaxis": {
            "gridcolor": "#EBF0F8",
            "linecolor": "#EBF0F8",
            "ticks": ""
           },
           "bgcolor": "white",
           "radialaxis": {
            "gridcolor": "#EBF0F8",
            "linecolor": "#EBF0F8",
            "ticks": ""
           }
          },
          "scene": {
           "xaxis": {
            "backgroundcolor": "white",
            "gridcolor": "#DFE8F3",
            "gridwidth": 2,
            "linecolor": "#EBF0F8",
            "showbackground": true,
            "ticks": "",
            "zerolinecolor": "#EBF0F8"
           },
           "yaxis": {
            "backgroundcolor": "white",
            "gridcolor": "#DFE8F3",
            "gridwidth": 2,
            "linecolor": "#EBF0F8",
            "showbackground": true,
            "ticks": "",
            "zerolinecolor": "#EBF0F8"
           },
           "zaxis": {
            "backgroundcolor": "white",
            "gridcolor": "#DFE8F3",
            "gridwidth": 2,
            "linecolor": "#EBF0F8",
            "showbackground": true,
            "ticks": "",
            "zerolinecolor": "#EBF0F8"
           }
          },
          "shapedefaults": {
           "line": {
            "color": "#2a3f5f"
           }
          },
          "ternary": {
           "aaxis": {
            "gridcolor": "#DFE8F3",
            "linecolor": "#A2B1C6",
            "ticks": ""
           },
           "baxis": {
            "gridcolor": "#DFE8F3",
            "linecolor": "#A2B1C6",
            "ticks": ""
           },
           "bgcolor": "white",
           "caxis": {
            "gridcolor": "#DFE8F3",
            "linecolor": "#A2B1C6",
            "ticks": ""
           }
          },
          "title": {
           "x": 0.05
          },
          "xaxis": {
           "automargin": true,
           "gridcolor": "#EBF0F8",
           "linecolor": "#EBF0F8",
           "ticks": "",
           "title": {
            "standoff": 15
           },
           "zerolinecolor": "#EBF0F8",
           "zerolinewidth": 2
          },
          "yaxis": {
           "automargin": true,
           "gridcolor": "#EBF0F8",
           "linecolor": "#EBF0F8",
           "ticks": "",
           "title": {
            "standoff": 15
           },
           "zerolinecolor": "#EBF0F8",
           "zerolinewidth": 2
          }
         }
        },
        "title": {
         "text": "Hyperparameter Optimization in PLS"
        },
        "xaxis": {
         "title": {
          "text": "Number of Latent Variables"
         }
        },
        "yaxis": {
         "title": {
          "text": "Abs RMSE"
         }
        }
       }
      },
      "text/html": [
       "<div>                            <div id=\"c8168537-0619-42ca-8201-962c4732106e\" class=\"plotly-graph-div\" style=\"height:525px; width:100%;\"></div>            <script type=\"text/javascript\">                require([\"plotly\"], function(Plotly) {                    window.PLOTLYENV=window.PLOTLYENV || {};                                    if (document.getElementById(\"c8168537-0619-42ca-8201-962c4732106e\")) {                    Plotly.newPlot(                        \"c8168537-0619-42ca-8201-962c4732106e\",                        [{\"error_y\":{\"array\":[16.53774747176894,16.063363749850154,16.058707352710556,16.05724334498297,16.058445185010907],\"type\":\"data\",\"visible\":true},\"name\":\"Training\",\"x\":[1,2,3,4,5],\"y\":[67.2816,64.3462,64.0196,63.973400000000005,63.971799999999995],\"type\":\"scatter\"},{\"error_y\":{\"array\":[48.36982341088295,45.60594057093878,43.79359230572437,43.60705872860494,43.589833775319676],\"type\":\"data\",\"visible\":true},\"name\":\"Validation\",\"x\":[1,2,3,4,5],\"y\":[90.212,90.4422,90.2484,90.8092,90.8122],\"type\":\"scatter\"}],                        {\"template\":{\"data\":{\"histogram2dcontour\":[{\"type\":\"histogram2dcontour\",\"colorbar\":{\"outlinewidth\":0,\"ticks\":\"\"},\"colorscale\":[[0.0,\"#0d0887\"],[0.1111111111111111,\"#46039f\"],[0.2222222222222222,\"#7201a8\"],[0.3333333333333333,\"#9c179e\"],[0.4444444444444444,\"#bd3786\"],[0.5555555555555556,\"#d8576b\"],[0.6666666666666666,\"#ed7953\"],[0.7777777777777778,\"#fb9f3a\"],[0.8888888888888888,\"#fdca26\"],[1.0,\"#f0f921\"]]}],\"choropleth\":[{\"type\":\"choropleth\",\"colorbar\":{\"outlinewidth\":0,\"ticks\":\"\"}}],\"histogram2d\":[{\"type\":\"histogram2d\",\"colorbar\":{\"outlinewidth\":0,\"ticks\":\"\"},\"colorscale\":[[0.0,\"#0d0887\"],[0.1111111111111111,\"#46039f\"],[0.2222222222222222,\"#7201a8\"],[0.3333333333333333,\"#9c179e\"],[0.4444444444444444,\"#bd3786\"],[0.5555555555555556,\"#d8576b\"],[0.6666666666666666,\"#ed7953\"],[0.7777777777777778,\"#fb9f3a\"],[0.8888888888888888,\"#fdca26\"],[1.0,\"#f0f921\"]]}],\"heatmap\":[{\"type\":\"heatmap\",\"colorbar\":{\"outlinewidth\":0,\"ticks\":\"\"},\"colorscale\":[[0.0,\"#0d0887\"],[0.1111111111111111,\"#46039f\"],[0.2222222222222222,\"#7201a8\"],[0.3333333333333333,\"#9c179e\"],[0.4444444444444444,\"#bd3786\"],[0.5555555555555556,\"#d8576b\"],[0.6666666666666666,\"#ed7953\"],[0.7777777777777778,\"#fb9f3a\"],[0.8888888888888888,\"#fdca26\"],[1.0,\"#f0f921\"]]}],\"heatmapgl\":[{\"type\":\"heatmapgl\",\"colorbar\":{\"outlinewidth\":0,\"ticks\":\"\"},\"colorscale\":[[0.0,\"#0d0887\"],[0.1111111111111111,\"#46039f\"],[0.2222222222222222,\"#7201a8\"],[0.3333333333333333,\"#9c179e\"],[0.4444444444444444,\"#bd3786\"],[0.5555555555555556,\"#d8576b\"],[0.6666666666666666,\"#ed7953\"],[0.7777777777777778,\"#fb9f3a\"],[0.8888888888888888,\"#fdca26\"],[1.0,\"#f0f921\"]]}],\"contourcarpet\":[{\"type\":\"contourcarpet\",\"colorbar\":{\"outlinewidth\":0,\"ticks\":\"\"}}],\"contour\":[{\"type\":\"contour\",\"colorbar\":{\"outlinewidth\":0,\"ticks\":\"\"},\"colorscale\":[[0.0,\"#0d0887\"],[0.1111111111111111,\"#46039f\"],[0.2222222222222222,\"#7201a8\"],[0.3333333333333333,\"#9c179e\"],[0.4444444444444444,\"#bd3786\"],[0.5555555555555556,\"#d8576b\"],[0.6666666666666666,\"#ed7953\"],[0.7777777777777778,\"#fb9f3a\"],[0.8888888888888888,\"#fdca26\"],[1.0,\"#f0f921\"]]}],\"surface\":[{\"type\":\"surface\",\"colorbar\":{\"outlinewidth\":0,\"ticks\":\"\"},\"colorscale\":[[0.0,\"#0d0887\"],[0.1111111111111111,\"#46039f\"],[0.2222222222222222,\"#7201a8\"],[0.3333333333333333,\"#9c179e\"],[0.4444444444444444,\"#bd3786\"],[0.5555555555555556,\"#d8576b\"],[0.6666666666666666,\"#ed7953\"],[0.7777777777777778,\"#fb9f3a\"],[0.8888888888888888,\"#fdca26\"],[1.0,\"#f0f921\"]]}],\"mesh3d\":[{\"type\":\"mesh3d\",\"colorbar\":{\"outlinewidth\":0,\"ticks\":\"\"}}],\"scatter\":[{\"fillpattern\":{\"fillmode\":\"overlay\",\"size\":10,\"solidity\":0.2},\"type\":\"scatter\"}],\"parcoords\":[{\"type\":\"parcoords\",\"line\":{\"colorbar\":{\"outlinewidth\":0,\"ticks\":\"\"}}}],\"scatterpolargl\":[{\"type\":\"scatterpolargl\",\"marker\":{\"colorbar\":{\"outlinewidth\":0,\"ticks\":\"\"}}}],\"bar\":[{\"error_x\":{\"color\":\"#2a3f5f\"},\"error_y\":{\"color\":\"#2a3f5f\"},\"marker\":{\"line\":{\"color\":\"white\",\"width\":0.5},\"pattern\":{\"fillmode\":\"overlay\",\"size\":10,\"solidity\":0.2}},\"type\":\"bar\"}],\"scattergeo\":[{\"type\":\"scattergeo\",\"marker\":{\"colorbar\":{\"outlinewidth\":0,\"ticks\":\"\"}}}],\"scatterpolar\":[{\"type\":\"scatterpolar\",\"marker\":{\"colorbar\":{\"outlinewidth\":0,\"ticks\":\"\"}}}],\"histogram\":[{\"marker\":{\"pattern\":{\"fillmode\":\"overlay\",\"size\":10,\"solidity\":0.2}},\"type\":\"histogram\"}],\"scattergl\":[{\"type\":\"scattergl\",\"marker\":{\"colorbar\":{\"outlinewidth\":0,\"ticks\":\"\"}}}],\"scatter3d\":[{\"type\":\"scatter3d\",\"line\":{\"colorbar\":{\"outlinewidth\":0,\"ticks\":\"\"}},\"marker\":{\"colorbar\":{\"outlinewidth\":0,\"ticks\":\"\"}}}],\"scattermapbox\":[{\"type\":\"scattermapbox\",\"marker\":{\"colorbar\":{\"outlinewidth\":0,\"ticks\":\"\"}}}],\"scatterternary\":[{\"type\":\"scatterternary\",\"marker\":{\"colorbar\":{\"outlinewidth\":0,\"ticks\":\"\"}}}],\"scattercarpet\":[{\"type\":\"scattercarpet\",\"marker\":{\"colorbar\":{\"outlinewidth\":0,\"ticks\":\"\"}}}],\"carpet\":[{\"aaxis\":{\"endlinecolor\":\"#2a3f5f\",\"gridcolor\":\"#C8D4E3\",\"linecolor\":\"#C8D4E3\",\"minorgridcolor\":\"#C8D4E3\",\"startlinecolor\":\"#2a3f5f\"},\"baxis\":{\"endlinecolor\":\"#2a3f5f\",\"gridcolor\":\"#C8D4E3\",\"linecolor\":\"#C8D4E3\",\"minorgridcolor\":\"#C8D4E3\",\"startlinecolor\":\"#2a3f5f\"},\"type\":\"carpet\"}],\"table\":[{\"cells\":{\"fill\":{\"color\":\"#EBF0F8\"},\"line\":{\"color\":\"white\"}},\"header\":{\"fill\":{\"color\":\"#C8D4E3\"},\"line\":{\"color\":\"white\"}},\"type\":\"table\"}],\"barpolar\":[{\"marker\":{\"line\":{\"color\":\"white\",\"width\":0.5},\"pattern\":{\"fillmode\":\"overlay\",\"size\":10,\"solidity\":0.2}},\"type\":\"barpolar\"}],\"pie\":[{\"automargin\":true,\"type\":\"pie\"}]},\"layout\":{\"autotypenumbers\":\"strict\",\"colorway\":[\"#636efa\",\"#EF553B\",\"#00cc96\",\"#ab63fa\",\"#FFA15A\",\"#19d3f3\",\"#FF6692\",\"#B6E880\",\"#FF97FF\",\"#FECB52\"],\"font\":{\"color\":\"#2a3f5f\"},\"hovermode\":\"closest\",\"hoverlabel\":{\"align\":\"left\"},\"paper_bgcolor\":\"white\",\"plot_bgcolor\":\"white\",\"polar\":{\"bgcolor\":\"white\",\"angularaxis\":{\"gridcolor\":\"#EBF0F8\",\"linecolor\":\"#EBF0F8\",\"ticks\":\"\"},\"radialaxis\":{\"gridcolor\":\"#EBF0F8\",\"linecolor\":\"#EBF0F8\",\"ticks\":\"\"}},\"ternary\":{\"bgcolor\":\"white\",\"aaxis\":{\"gridcolor\":\"#DFE8F3\",\"linecolor\":\"#A2B1C6\",\"ticks\":\"\"},\"baxis\":{\"gridcolor\":\"#DFE8F3\",\"linecolor\":\"#A2B1C6\",\"ticks\":\"\"},\"caxis\":{\"gridcolor\":\"#DFE8F3\",\"linecolor\":\"#A2B1C6\",\"ticks\":\"\"}},\"coloraxis\":{\"colorbar\":{\"outlinewidth\":0,\"ticks\":\"\"}},\"colorscale\":{\"sequential\":[[0.0,\"#0d0887\"],[0.1111111111111111,\"#46039f\"],[0.2222222222222222,\"#7201a8\"],[0.3333333333333333,\"#9c179e\"],[0.4444444444444444,\"#bd3786\"],[0.5555555555555556,\"#d8576b\"],[0.6666666666666666,\"#ed7953\"],[0.7777777777777778,\"#fb9f3a\"],[0.8888888888888888,\"#fdca26\"],[1.0,\"#f0f921\"]],\"sequentialminus\":[[0.0,\"#0d0887\"],[0.1111111111111111,\"#46039f\"],[0.2222222222222222,\"#7201a8\"],[0.3333333333333333,\"#9c179e\"],[0.4444444444444444,\"#bd3786\"],[0.5555555555555556,\"#d8576b\"],[0.6666666666666666,\"#ed7953\"],[0.7777777777777778,\"#fb9f3a\"],[0.8888888888888888,\"#fdca26\"],[1.0,\"#f0f921\"]],\"diverging\":[[0,\"#8e0152\"],[0.1,\"#c51b7d\"],[0.2,\"#de77ae\"],[0.3,\"#f1b6da\"],[0.4,\"#fde0ef\"],[0.5,\"#f7f7f7\"],[0.6,\"#e6f5d0\"],[0.7,\"#b8e186\"],[0.8,\"#7fbc41\"],[0.9,\"#4d9221\"],[1,\"#276419\"]]},\"xaxis\":{\"gridcolor\":\"#EBF0F8\",\"linecolor\":\"#EBF0F8\",\"ticks\":\"\",\"title\":{\"standoff\":15},\"zerolinecolor\":\"#EBF0F8\",\"automargin\":true,\"zerolinewidth\":2},\"yaxis\":{\"gridcolor\":\"#EBF0F8\",\"linecolor\":\"#EBF0F8\",\"ticks\":\"\",\"title\":{\"standoff\":15},\"zerolinecolor\":\"#EBF0F8\",\"automargin\":true,\"zerolinewidth\":2},\"scene\":{\"xaxis\":{\"backgroundcolor\":\"white\",\"gridcolor\":\"#DFE8F3\",\"linecolor\":\"#EBF0F8\",\"showbackground\":true,\"ticks\":\"\",\"zerolinecolor\":\"#EBF0F8\",\"gridwidth\":2},\"yaxis\":{\"backgroundcolor\":\"white\",\"gridcolor\":\"#DFE8F3\",\"linecolor\":\"#EBF0F8\",\"showbackground\":true,\"ticks\":\"\",\"zerolinecolor\":\"#EBF0F8\",\"gridwidth\":2},\"zaxis\":{\"backgroundcolor\":\"white\",\"gridcolor\":\"#DFE8F3\",\"linecolor\":\"#EBF0F8\",\"showbackground\":true,\"ticks\":\"\",\"zerolinecolor\":\"#EBF0F8\",\"gridwidth\":2}},\"shapedefaults\":{\"line\":{\"color\":\"#2a3f5f\"}},\"annotationdefaults\":{\"arrowcolor\":\"#2a3f5f\",\"arrowhead\":0,\"arrowwidth\":1},\"geo\":{\"bgcolor\":\"white\",\"landcolor\":\"white\",\"subunitcolor\":\"#C8D4E3\",\"showland\":true,\"showlakes\":true,\"lakecolor\":\"white\"},\"title\":{\"x\":0.05},\"mapbox\":{\"style\":\"light\"}}},\"title\":{\"text\":\"Hyperparameter Optimization in PLS\"},\"xaxis\":{\"title\":{\"text\":\"Number of Latent Variables\"}},\"yaxis\":{\"title\":{\"text\":\"Abs RMSE\"}},\"legend\":{\"title\":{\"text\":\"Evaluation type\"}}},                        {\"responsive\": true}                    ).then(function(){\n",
       "                            \n",
       "var gd = document.getElementById('c8168537-0619-42ca-8201-962c4732106e');\n",
       "var x = new MutationObserver(function (mutations, observer) {{\n",
       "        var display = window.getComputedStyle(gd).display;\n",
       "        if (!display || display === 'none') {{\n",
       "            console.log([gd, 'removed!']);\n",
       "            Plotly.purge(gd);\n",
       "            observer.disconnect();\n",
       "        }}\n",
       "}});\n",
       "\n",
       "// Listen for the removal of the full notebook cells\n",
       "var notebookContainer = gd.closest('#notebook-container');\n",
       "if (notebookContainer) {{\n",
       "    x.observe(notebookContainer, {childList: true});\n",
       "}}\n",
       "\n",
       "// Listen for the clearing of the current output cell\n",
       "var outputEl = gd.closest('.output');\n",
       "if (outputEl) {{\n",
       "    x.observe(outputEl, {childList: true});\n",
       "}}\n",
       "\n",
       "                        })                };                });            </script>        </div>"
      ]
     },
     "metadata": {},
     "output_type": "display_data"
    }
   ],
   "source": [
    "plot_pls_cross_validation(train_eval, valid_eval, range_LV=range_LV)"
   ]
  },
  {
   "cell_type": "markdown",
   "metadata": {},
   "source": [
    "## BWU-PLS1\n",
    "- Batch Wise Unfolded - Partial Least Square Model (PLS1), also called Historical-PLS\n",
    "- One model per timepoint per process variable is developed, denoted as $PLS1_{i, t}$\n",
    "\t- But, using the process condition and the historical information available until a given time\n",
    "- Training: $[Z, X(t < t_{model})] \\rightarrow PLS1_{i, t} \\rightarrow X_i(t=t_{model})$\n",
    "- Testing: $[Z, X(t = 0), X^{predicted}(t < t_{model})] \\rightarrow PLS1_{i, t} \\rightarrow X_i(t=t_{model})$"
   ]
  },
  {
   "cell_type": "markdown",
   "metadata": {},
   "source": [
    "### Setting"
   ]
  },
  {
   "cell_type": "code",
   "execution_count": 324,
   "metadata": {},
   "outputs": [],
   "source": [
    "\"\"\" Number of latent variables \"\"\"\n",
    "LATENT_VARIABLES_HIST = 2\n",
    "\n",
    "\"\"\" Input variables \"\"\"\n",
    "INPUT_VARIABLES = ['feed_start','feed_end','feed_rate','glc_0','vcd_0','X:VCD', 'X:Glc']"
   ]
  },
  {
   "cell_type": "code",
   "execution_count": 325,
   "metadata": {},
   "outputs": [],
   "source": [
    "def preprocess(Z, X, process_history=1,\n",
    "    input_variables=[\n",
    "        \"feed_start\",\n",
    "        \"feed_end\",\n",
    "        \"feed_rate\",\n",
    "        \"glc_0\",\n",
    "        \"vcd_0\",\n",
    "        \"X:VCD\",\n",
    "        \"X:Glc\",\n",
    "    ]):\n",
    "    # Remove Variables\n",
    "    remove_columns = []\n",
    "    remove_columns.extend([c for c in X.columns if c.startswith(\"X:Titer\")])\n",
    "    if \"X:Lac\" in input_variables:\n",
    "        pass\n",
    "    else:\n",
    "        remove_columns.extend([c for c in X.columns if c.startswith(\"X:Lac\")])\n",
    "    if \"W:Feed\" in input_variables:\n",
    "        pass\n",
    "    else:\n",
    "        remove_columns.extend([c for c in X.columns if c.startswith(\"W:Feed\")])\n",
    "    if \"X:Glc\" in input_variables:\n",
    "        pass\n",
    "    else:\n",
    "        remove_columns.extend([c for c in X.columns if c.startswith(\"X:Glc\")])\n",
    "    if \"X:VCD\" in input_variables:\n",
    "        pass\n",
    "    else:\n",
    "        remove_columns.extend([c for c in X.columns if c.startswith(\"X:VCD\")])\n",
    "\n",
    "    # Remove History\n",
    "    for d in range(process_history+1, 15):\n",
    "        remove_columns.extend([c for c in X.columns if c.endswith(\":0\")])\n",
    "        remove_columns.extend([c for c in X.columns if c.endswith(\":\" + str(d))])\n",
    "\n",
    "    # Remove Invariant\n",
    "    remove_columns.extend(list(X.columns[~(X != X.iloc[0]).any().values]))\n",
    "\n",
    "    # Add and remove columns\n",
    "    X_preproc = pd.concat([Z, X.drop(set(remove_columns), axis=1)], axis=1)\n",
    "    return X_preproc"
   ]
  },
  {
   "cell_type": "code",
   "execution_count": 327,
   "metadata": {},
   "outputs": [],
   "source": [
    "X, X_columns = transform_owu(owu, t_steps=15, batch_first=False)\n",
    "X_test, X_columns = transform_owu(owu_test, t_steps=15, batch_first=False)"
   ]
  },
  {
   "cell_type": "code",
   "execution_count": 331,
   "metadata": {},
   "outputs": [],
   "source": [
    "def fit_multi_step_hist_pls_model(\n",
    "    doe,\n",
    "    owu,\n",
    "    latent_variables=2,\n",
    "    input_variables=[],\n",
    "):\n",
    "    # Function to train using multiple BWU-PLS1 models\n",
    "    bwu = generate_bwu(owu)\n",
    "    X, _ = transform_owu(owu, t_steps=15, batch_first=False)\n",
    "    T, C, B = X.shape\n",
    "    \n",
    "    models = {}\n",
    "    for t in range(T):\n",
    "        ZX_preproc = preprocess(\n",
    "            Z=doe, X=bwu, process_history=t, input_variables=input_variables\n",
    "        )\n",
    "        models[t] = {}\n",
    "        for i in range(C):\n",
    "            model = fit_hist_pls_model(\n",
    "                X=ZX_preproc,\n",
    "                y=X[t, i, :],\n",
    "                latent_variables=latent_variables,\n",
    "            )\n",
    "            models[t][i] = model\n",
    "    return models"
   ]
  },
  {
   "cell_type": "code",
   "execution_count": 332,
   "metadata": {},
   "outputs": [
    {
     "name": "stderr",
     "output_type": "stream",
     "text": [
      "/home/tim/anaconda3/envs/aima/lib/python3.10/site-packages/sklearn/cross_decomposition/_pls.py:336: UserWarning:\n",
      "\n",
      "y residual is constant at iteration 0\n",
      "\n",
      "/home/tim/anaconda3/envs/aima/lib/python3.10/site-packages/sklearn/cross_decomposition/_pls.py:336: UserWarning:\n",
      "\n",
      "y residual is constant at iteration 0\n",
      "\n"
     ]
    }
   ],
   "source": [
    "models = fit_multi_step_hist_pls_model(\n",
    "    doe,\n",
    "    owu,\n",
    "    latent_variables=LATENT_VARIABLES,\n",
    "    input_variables=INPUT_VARIABLES,\n",
    ")"
   ]
  },
  {
   "cell_type": "code",
   "execution_count": 344,
   "metadata": {},
   "outputs": [],
   "source": [
    "def matrix_to_bwu(predicted_data, X_columns):\n",
    "    # predicted_data shape: (T, C, B)\n",
    "    T, C, B = predicted_data.shape\n",
    "    \n",
    "    # Convert 3D array to DataFrame with appropriate multi-index\n",
    "    data = []\n",
    "    columns = []\n",
    "    for t in range(T):\n",
    "        for i, col in enumerate(X_columns):\n",
    "            col_name = f'{col}:{t}'\n",
    "            columns.append(col_name)\n",
    "            data.append(predicted_data[t, i, :])\n",
    "    \n",
    "    data = np.array(data).T  # Shape: (B, T*C)\n",
    "    bwu = pd.DataFrame(data, columns=columns)\n",
    "    \n",
    "    return bwu\n"
   ]
  },
  {
   "cell_type": "code",
   "execution_count": 345,
   "metadata": {},
   "outputs": [],
   "source": [
    "def predict_multi_step_hist_pls_model(\n",
    "    doe, X_init, multi_step_models, X_columns=None, t_steps=15, input_variables=None\n",
    "):\n",
    "    # Initialize the predicted matrix\n",
    "    B, _ = doe.shape\n",
    "    T = len(multi_step_models)\n",
    "    C = len(multi_step_models[0])\n",
    "\n",
    "    if t_steps != T:\n",
    "        raise ValueError(f\"Models does not have {t_steps} time steps.\")\n",
    "\n",
    "    X_pred = np.zeros((T, C, B))\n",
    "\n",
    "    # Get initial state X(t=0)\n",
    "    X_initial = X_init  # assuming the shape of owu is (T, C, B)\n",
    "    X_pred[0, :, :] = X_initial\n",
    "\n",
    "    for t in range(1, T):\n",
    "        # Generate BWU matrix using the predicted data until time t\n",
    "        partial_bwu = matrix_to_bwu(X_pred[:t, :, :], X_columns)\n",
    "        print(partial_bwu)\n",
    "\n",
    "        # Preprocess the data with historical data until t\n",
    "        ZX_preproc = preprocess(\n",
    "            Z=doe, X=partial_bwu, process_history=t, input_variables=input_variables\n",
    "        )\n",
    "\n",
    "        # Predict for each variable at time t\n",
    "        for i in range(C):\n",
    "            X_pred[t, i, :] = multi_step_models[t][i].predict(ZX_preproc)\n",
    "\n",
    "    return X_pred"
   ]
  },
  {
   "cell_type": "code",
   "execution_count": 346,
   "metadata": {},
   "outputs": [
    {
     "name": "stdout",
     "output_type": "stream",
     "text": [
      "     X:VCD:0    X:Glc:0  X:Lac:0  X:Titer:0\n",
      "0   0.678571  34.489796      0.0        0.0\n",
      "1   0.515306  32.857143      0.0        0.0\n",
      "2   0.617347  40.204082      0.0        0.0\n",
      "3   0.790816  66.326531      0.0        0.0\n",
      "4   0.872449  54.081633      0.0        0.0\n",
      "5   0.974490  55.714286      0.0        0.0\n",
      "6   0.780612  67.142857      0.0        0.0\n",
      "7   0.729592  56.530612      0.0        0.0\n",
      "8   0.698980  57.346939      0.0        0.0\n",
      "9   0.841837  54.897959      0.0        0.0\n",
      "10  0.923469  37.755102      0.0        0.0\n",
      "11  0.596939  50.000000      0.0        0.0\n",
      "12  0.688776  53.265306      0.0        0.0\n",
      "13  0.739796  42.653061      0.0        0.0\n",
      "14  0.913265  65.510204      0.0        0.0\n",
      "15  0.954082  47.551020      0.0        0.0\n",
      "16  0.709184  63.877551      0.0        0.0\n",
      "17  0.505102  45.102041      0.0        0.0\n",
      "18  0.811224  41.020408      0.0        0.0\n",
      "19  0.556122  36.938776      0.0        0.0\n",
      "20  0.658163  35.306122      0.0        0.0\n",
      "21  0.607143  59.795918      0.0        0.0\n",
      "22  0.892857  30.408163      0.0        0.0\n",
      "23  0.994898  52.448980      0.0        0.0\n",
      "24  0.566327  63.061224      0.0        0.0\n",
      "25  0.770408  64.693878      0.0        0.0\n",
      "26  0.545918  67.959184      0.0        0.0\n",
      "27  0.750000  50.000000      0.0        0.0\n",
      "28  0.576531  32.040816      0.0        0.0\n",
      "29  0.831633  38.571429      0.0        0.0\n",
      "30  0.750000  68.775510      0.0        0.0\n"
     ]
    },
    {
     "ename": "ValueError",
     "evalue": "The feature names should match those that were passed during fit.\nFeature names seen at fit time, yet now missing:\n- X:Glc:1\n- X:VCD:1\n",
     "output_type": "error",
     "traceback": [
      "\u001b[0;31m---------------------------------------------------------------------------\u001b[0m",
      "\u001b[0;31mValueError\u001b[0m                                Traceback (most recent call last)",
      "\u001b[1;32m/mnt/e/diffbiolab/notebook/ddm_modules.ipynb Cell 67\u001b[0m line \u001b[0;36m1\n\u001b[0;32m----> <a href='vscode-notebook-cell://wsl%2Bubuntu/mnt/e/diffbiolab/notebook/ddm_modules.ipynb#Y145sdnNjb2RlLXJlbW90ZQ%3D%3D?line=0'>1</a>\u001b[0m X_pred \u001b[39m=\u001b[39m predict_multi_step_hist_pls_model(\n\u001b[1;32m      <a href='vscode-notebook-cell://wsl%2Bubuntu/mnt/e/diffbiolab/notebook/ddm_modules.ipynb#Y145sdnNjb2RlLXJlbW90ZQ%3D%3D?line=1'>2</a>\u001b[0m     doe,\n\u001b[1;32m      <a href='vscode-notebook-cell://wsl%2Bubuntu/mnt/e/diffbiolab/notebook/ddm_modules.ipynb#Y145sdnNjb2RlLXJlbW90ZQ%3D%3D?line=2'>3</a>\u001b[0m     X[\u001b[39m0\u001b[39;49m, :, :],\n\u001b[1;32m      <a href='vscode-notebook-cell://wsl%2Bubuntu/mnt/e/diffbiolab/notebook/ddm_modules.ipynb#Y145sdnNjb2RlLXJlbW90ZQ%3D%3D?line=3'>4</a>\u001b[0m     X_columns\u001b[39m=\u001b[39;49mX_columns,\n\u001b[1;32m      <a href='vscode-notebook-cell://wsl%2Bubuntu/mnt/e/diffbiolab/notebook/ddm_modules.ipynb#Y145sdnNjb2RlLXJlbW90ZQ%3D%3D?line=4'>5</a>\u001b[0m     multi_step_models\u001b[39m=\u001b[39;49mmodels,\n\u001b[1;32m      <a href='vscode-notebook-cell://wsl%2Bubuntu/mnt/e/diffbiolab/notebook/ddm_modules.ipynb#Y145sdnNjb2RlLXJlbW90ZQ%3D%3D?line=5'>6</a>\u001b[0m     t_steps\u001b[39m=\u001b[39;49m\u001b[39m15\u001b[39;49m,\n\u001b[1;32m      <a href='vscode-notebook-cell://wsl%2Bubuntu/mnt/e/diffbiolab/notebook/ddm_modules.ipynb#Y145sdnNjb2RlLXJlbW90ZQ%3D%3D?line=6'>7</a>\u001b[0m     input_variables\u001b[39m=\u001b[39;49mINPUT_VARIABLES,\n\u001b[1;32m      <a href='vscode-notebook-cell://wsl%2Bubuntu/mnt/e/diffbiolab/notebook/ddm_modules.ipynb#Y145sdnNjb2RlLXJlbW90ZQ%3D%3D?line=7'>8</a>\u001b[0m )\n",
      "\u001b[1;32m/mnt/e/diffbiolab/notebook/ddm_modules.ipynb Cell 67\u001b[0m line \u001b[0;36m3\n\u001b[1;32m     <a href='vscode-notebook-cell://wsl%2Bubuntu/mnt/e/diffbiolab/notebook/ddm_modules.ipynb#Y145sdnNjb2RlLXJlbW90ZQ%3D%3D?line=27'>28</a>\u001b[0m     \u001b[39m# Predict for each variable at time t\u001b[39;00m\n\u001b[1;32m     <a href='vscode-notebook-cell://wsl%2Bubuntu/mnt/e/diffbiolab/notebook/ddm_modules.ipynb#Y145sdnNjb2RlLXJlbW90ZQ%3D%3D?line=28'>29</a>\u001b[0m     \u001b[39mfor\u001b[39;00m i \u001b[39min\u001b[39;00m \u001b[39mrange\u001b[39m(C):\n\u001b[0;32m---> <a href='vscode-notebook-cell://wsl%2Bubuntu/mnt/e/diffbiolab/notebook/ddm_modules.ipynb#Y145sdnNjb2RlLXJlbW90ZQ%3D%3D?line=29'>30</a>\u001b[0m         X_pred[t, i, :] \u001b[39m=\u001b[39m multi_step_models[t][i]\u001b[39m.\u001b[39;49mpredict(ZX_preproc)\n\u001b[1;32m     <a href='vscode-notebook-cell://wsl%2Bubuntu/mnt/e/diffbiolab/notebook/ddm_modules.ipynb#Y145sdnNjb2RlLXJlbW90ZQ%3D%3D?line=31'>32</a>\u001b[0m \u001b[39mreturn\u001b[39;00m X_pred\n",
      "File \u001b[0;32m~/anaconda3/envs/aima/lib/python3.10/site-packages/sklearn/pipeline.py:603\u001b[0m, in \u001b[0;36mPipeline.predict\u001b[0;34m(self, X, **params)\u001b[0m\n\u001b[1;32m    601\u001b[0m \u001b[39mif\u001b[39;00m \u001b[39mnot\u001b[39;00m _routing_enabled():\n\u001b[1;32m    602\u001b[0m     \u001b[39mfor\u001b[39;00m _, name, transform \u001b[39min\u001b[39;00m \u001b[39mself\u001b[39m\u001b[39m.\u001b[39m_iter(with_final\u001b[39m=\u001b[39m\u001b[39mFalse\u001b[39;00m):\n\u001b[0;32m--> 603\u001b[0m         Xt \u001b[39m=\u001b[39m transform\u001b[39m.\u001b[39;49mtransform(Xt)\n\u001b[1;32m    604\u001b[0m     \u001b[39mreturn\u001b[39;00m \u001b[39mself\u001b[39m\u001b[39m.\u001b[39msteps[\u001b[39m-\u001b[39m\u001b[39m1\u001b[39m][\u001b[39m1\u001b[39m]\u001b[39m.\u001b[39mpredict(Xt, \u001b[39m*\u001b[39m\u001b[39m*\u001b[39mparams)\n\u001b[1;32m    606\u001b[0m \u001b[39m# metadata routing enabled\u001b[39;00m\n",
      "File \u001b[0;32m~/anaconda3/envs/aima/lib/python3.10/site-packages/sklearn/utils/_set_output.py:313\u001b[0m, in \u001b[0;36m_wrap_method_output.<locals>.wrapped\u001b[0;34m(self, X, *args, **kwargs)\u001b[0m\n\u001b[1;32m    311\u001b[0m \u001b[39m@wraps\u001b[39m(f)\n\u001b[1;32m    312\u001b[0m \u001b[39mdef\u001b[39;00m \u001b[39mwrapped\u001b[39m(\u001b[39mself\u001b[39m, X, \u001b[39m*\u001b[39margs, \u001b[39m*\u001b[39m\u001b[39m*\u001b[39mkwargs):\n\u001b[0;32m--> 313\u001b[0m     data_to_wrap \u001b[39m=\u001b[39m f(\u001b[39mself\u001b[39;49m, X, \u001b[39m*\u001b[39;49margs, \u001b[39m*\u001b[39;49m\u001b[39m*\u001b[39;49mkwargs)\n\u001b[1;32m    314\u001b[0m     \u001b[39mif\u001b[39;00m \u001b[39misinstance\u001b[39m(data_to_wrap, \u001b[39mtuple\u001b[39m):\n\u001b[1;32m    315\u001b[0m         \u001b[39m# only wrap the first output for cross decomposition\u001b[39;00m\n\u001b[1;32m    316\u001b[0m         return_tuple \u001b[39m=\u001b[39m (\n\u001b[1;32m    317\u001b[0m             _wrap_data_with_container(method, data_to_wrap[\u001b[39m0\u001b[39m], X, \u001b[39mself\u001b[39m),\n\u001b[1;32m    318\u001b[0m             \u001b[39m*\u001b[39mdata_to_wrap[\u001b[39m1\u001b[39m:],\n\u001b[1;32m    319\u001b[0m         )\n",
      "File \u001b[0;32m~/anaconda3/envs/aima/lib/python3.10/site-packages/sklearn/preprocessing/_data.py:1043\u001b[0m, in \u001b[0;36mStandardScaler.transform\u001b[0;34m(self, X, copy)\u001b[0m\n\u001b[1;32m   1040\u001b[0m check_is_fitted(\u001b[39mself\u001b[39m)\n\u001b[1;32m   1042\u001b[0m copy \u001b[39m=\u001b[39m copy \u001b[39mif\u001b[39;00m copy \u001b[39mis\u001b[39;00m \u001b[39mnot\u001b[39;00m \u001b[39mNone\u001b[39;00m \u001b[39melse\u001b[39;00m \u001b[39mself\u001b[39m\u001b[39m.\u001b[39mcopy\n\u001b[0;32m-> 1043\u001b[0m X \u001b[39m=\u001b[39m \u001b[39mself\u001b[39;49m\u001b[39m.\u001b[39;49m_validate_data(\n\u001b[1;32m   1044\u001b[0m     X,\n\u001b[1;32m   1045\u001b[0m     reset\u001b[39m=\u001b[39;49m\u001b[39mFalse\u001b[39;49;00m,\n\u001b[1;32m   1046\u001b[0m     accept_sparse\u001b[39m=\u001b[39;49m\u001b[39m\"\u001b[39;49m\u001b[39mcsr\u001b[39;49m\u001b[39m\"\u001b[39;49m,\n\u001b[1;32m   1047\u001b[0m     copy\u001b[39m=\u001b[39;49mcopy,\n\u001b[1;32m   1048\u001b[0m     dtype\u001b[39m=\u001b[39;49mFLOAT_DTYPES,\n\u001b[1;32m   1049\u001b[0m     force_all_finite\u001b[39m=\u001b[39;49m\u001b[39m\"\u001b[39;49m\u001b[39mallow-nan\u001b[39;49m\u001b[39m\"\u001b[39;49m,\n\u001b[1;32m   1050\u001b[0m )\n\u001b[1;32m   1052\u001b[0m \u001b[39mif\u001b[39;00m sparse\u001b[39m.\u001b[39missparse(X):\n\u001b[1;32m   1053\u001b[0m     \u001b[39mif\u001b[39;00m \u001b[39mself\u001b[39m\u001b[39m.\u001b[39mwith_mean:\n",
      "File \u001b[0;32m~/anaconda3/envs/aima/lib/python3.10/site-packages/sklearn/base.py:608\u001b[0m, in \u001b[0;36mBaseEstimator._validate_data\u001b[0;34m(self, X, y, reset, validate_separately, cast_to_ndarray, **check_params)\u001b[0m\n\u001b[1;32m    537\u001b[0m \u001b[39mdef\u001b[39;00m \u001b[39m_validate_data\u001b[39m(\n\u001b[1;32m    538\u001b[0m     \u001b[39mself\u001b[39m,\n\u001b[1;32m    539\u001b[0m     X\u001b[39m=\u001b[39m\u001b[39m\"\u001b[39m\u001b[39mno_validation\u001b[39m\u001b[39m\"\u001b[39m,\n\u001b[0;32m   (...)\u001b[0m\n\u001b[1;32m    544\u001b[0m     \u001b[39m*\u001b[39m\u001b[39m*\u001b[39mcheck_params,\n\u001b[1;32m    545\u001b[0m ):\n\u001b[1;32m    546\u001b[0m \u001b[39m    \u001b[39m\u001b[39m\"\"\"Validate input data and set or check the `n_features_in_` attribute.\u001b[39;00m\n\u001b[1;32m    547\u001b[0m \n\u001b[1;32m    548\u001b[0m \u001b[39m    Parameters\u001b[39;00m\n\u001b[0;32m   (...)\u001b[0m\n\u001b[1;32m    606\u001b[0m \u001b[39m        validated.\u001b[39;00m\n\u001b[1;32m    607\u001b[0m \u001b[39m    \"\"\"\u001b[39;00m\n\u001b[0;32m--> 608\u001b[0m     \u001b[39mself\u001b[39;49m\u001b[39m.\u001b[39;49m_check_feature_names(X, reset\u001b[39m=\u001b[39;49mreset)\n\u001b[1;32m    610\u001b[0m     \u001b[39mif\u001b[39;00m y \u001b[39mis\u001b[39;00m \u001b[39mNone\u001b[39;00m \u001b[39mand\u001b[39;00m \u001b[39mself\u001b[39m\u001b[39m.\u001b[39m_get_tags()[\u001b[39m\"\u001b[39m\u001b[39mrequires_y\u001b[39m\u001b[39m\"\u001b[39m]:\n\u001b[1;32m    611\u001b[0m         \u001b[39mraise\u001b[39;00m \u001b[39mValueError\u001b[39;00m(\n\u001b[1;32m    612\u001b[0m             \u001b[39mf\u001b[39m\u001b[39m\"\u001b[39m\u001b[39mThis \u001b[39m\u001b[39m{\u001b[39;00m\u001b[39mself\u001b[39m\u001b[39m.\u001b[39m\u001b[39m__class__\u001b[39m\u001b[39m.\u001b[39m\u001b[39m__name__\u001b[39m\u001b[39m}\u001b[39;00m\u001b[39m estimator \u001b[39m\u001b[39m\"\u001b[39m\n\u001b[1;32m    613\u001b[0m             \u001b[39m\"\u001b[39m\u001b[39mrequires y to be passed, but the target y is None.\u001b[39m\u001b[39m\"\u001b[39m\n\u001b[1;32m    614\u001b[0m         )\n",
      "File \u001b[0;32m~/anaconda3/envs/aima/lib/python3.10/site-packages/sklearn/base.py:535\u001b[0m, in \u001b[0;36mBaseEstimator._check_feature_names\u001b[0;34m(self, X, reset)\u001b[0m\n\u001b[1;32m    530\u001b[0m \u001b[39mif\u001b[39;00m \u001b[39mnot\u001b[39;00m missing_names \u001b[39mand\u001b[39;00m \u001b[39mnot\u001b[39;00m unexpected_names:\n\u001b[1;32m    531\u001b[0m     message \u001b[39m+\u001b[39m\u001b[39m=\u001b[39m (\n\u001b[1;32m    532\u001b[0m         \u001b[39m\"\u001b[39m\u001b[39mFeature names must be in the same order as they were in fit.\u001b[39m\u001b[39m\\n\u001b[39;00m\u001b[39m\"\u001b[39m\n\u001b[1;32m    533\u001b[0m     )\n\u001b[0;32m--> 535\u001b[0m \u001b[39mraise\u001b[39;00m \u001b[39mValueError\u001b[39;00m(message)\n",
      "\u001b[0;31mValueError\u001b[0m: The feature names should match those that were passed during fit.\nFeature names seen at fit time, yet now missing:\n- X:Glc:1\n- X:VCD:1\n"
     ]
    }
   ],
   "source": [
    "X_pred = predict_multi_step_hist_pls_model(\n",
    "    doe,\n",
    "    X[0, :, :],\n",
    "    X_columns=X_columns,\n",
    "    multi_step_models=models,\n",
    "    t_steps=15,\n",
    "    input_variables=INPUT_VARIABLES,\n",
    ")"
   ]
  },
  {
   "cell_type": "markdown",
   "metadata": {},
   "source": [
    "### Data"
   ]
  },
  {
   "cell_type": "markdown",
   "metadata": {},
   "source": [
    "## Instant-ANN\n",
    "- ANN models per variable per time point\n",
    "- Training: $[Z, X(t = t_{model} - 1)] \\rightarrow ANN_{i, t} \\rightarrow X_i(t = t_{model})$\n",
    "- Testing: $[Z, \\hat{X}(t = t_{model} - 1)] \\rightarrow ANN_{i, t} \\rightarrow X_i(t = t_{model})$"
   ]
  },
  {
   "cell_type": "code",
   "execution_count": null,
   "metadata": {},
   "outputs": [],
   "source": []
  },
  {
   "cell_type": "markdown",
   "metadata": {},
   "source": [
    "## OWU-ANN\n",
    "- a single model is used for all time points\n",
    "- Training: $[Z, X(t = t_{model} - 1)] \\rightarrow ANN_i \\rightarrow X_i(t = t_{model})$​\n",
    "- Testing: $[Z, \\hat{X}(t = t_{model} - 1)] \\rightarrow ANN_i \\rightarrow X_i(t = t_{model})$"
   ]
  },
  {
   "cell_type": "code",
   "execution_count": null,
   "metadata": {},
   "outputs": [],
   "source": []
  }
 ],
 "metadata": {
  "kernelspec": {
   "display_name": "dl",
   "language": "python",
   "name": "python3"
  },
  "language_info": {
   "codemirror_mode": {
    "name": "ipython",
    "version": 3
   },
   "file_extension": ".py",
   "mimetype": "text/x-python",
   "name": "python",
   "nbconvert_exporter": "python",
   "pygments_lexer": "ipython3",
   "version": "3.10.12"
  }
 },
 "nbformat": 4,
 "nbformat_minor": 2
}
